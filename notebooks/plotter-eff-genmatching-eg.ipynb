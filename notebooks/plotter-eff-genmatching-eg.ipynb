{
 "cells": [
  {
   "cell_type": "markdown",
   "metadata": {},
   "source": [
    "# Eff. matching to GEN particle\n",
    "\n",
    "\n",
    "   * [Efficiency vs $\\eta$](#Effinciency-vs-$\\eta$)\n",
    "   * [Efficiency vs $p_{T}$](#Efficiency-vs-$p_{T}$)\n",
    "   * [Turn-on curves](#Turn-on-curves)\n"
   ]
  },
  {
   "cell_type": "code",
   "execution_count": 1,
   "metadata": {},
   "outputs": [
    {
     "name": "stdout",
     "output_type": "stream",
     "text": [
      "Welcome to JupyROOT 6.14/02\n"
     ]
    }
   ],
   "source": [
    "import sys\n",
    "sys.path.insert(0, '..')\n",
    "sys.path.insert(1, '../python')\n",
    "\n",
    "import ROOT\n",
    "import root_numpy as rnp\n",
    "import python.l1THistos as histos\n",
    "import math\n",
    "import uuid\n",
    "import pandas as pd\n",
    "\n",
    "from drawingTools import *\n",
    "\n",
    "# ROOT.enableJSVis()\n",
    "ROOT.enableJSVis()\n",
    "\n",
    "#from drawingTools import *\n",
    "\n",
    "normalized_histos = list()\n",
    "    "
   ]
  },
  {
   "cell_type": "code",
   "execution_count": 2,
   "metadata": {},
   "outputs": [],
   "source": [
    "# %load drawingTools.py\n"
   ]
  },
  {
   "cell_type": "code",
   "execution_count": 3,
   "metadata": {},
   "outputs": [],
   "source": [
    "# %load samples.py\n",
    "import ROOT\n",
    "import pandas as pd\n",
    "\n",
    "version = 'v103t'\n",
    "version_V8 = 'v119'\n",
    "\n",
    "version_V9 = 'v121'\n",
    "\n",
    "# -------------------------------------------------------------------------\n",
    "\n",
    "samples_ele = [\n",
    "#     Sample('ele_flat2to100_PU0_eg', 'PU0', version, 'ele'),\n",
    "    Sample('ele_flat2to100_PU200_eg', 'PU200', version, 'ele')\n",
    "    ]\n",
    "\n",
    "samples_ele_V8 = [\n",
    "#     Sample('ele_flat2to100_PU0_eg', 'PU0', version, 'V8'),\n",
    "    Sample('ele_flat2to100_PU200_eg', 'PU200', version_V8, 'hybrid')\n",
    "    ]\n",
    "\n",
    "\n",
    "samples_ele_calib = [\n",
    "    Sample('ele_flat2to100_PU0_tps', 'PU0', 'v120', 'calib'),\n",
    "    Sample('ele_flat2to100_PU200_tps', 'PU200', 'v120', 'calib')\n",
    "    ]\n",
    "\n",
    "\n",
    "samples_ele_V9 = [\n",
    "    Sample('ele_flat2to100_PU0_eg', 'PU0', version_V9, 'ele-V9'),\n",
    "    Sample('ele_flat2to100_PU200_eg', 'PU200', version_V9, 'ele-V9')\n",
    "    ]\n",
    "\n",
    "samples_photons = [\n",
    "    Sample('photon_flat8to150_PU0_tracks', 'PU0', version, 'photon'),\n",
    "    Sample('photon_flat8to150_PU200_tracks', 'PU200', version, 'photon')\n",
    "    ]\n",
    "\n",
    "samples_photons_V9 = [\n",
    "    Sample('photon_flat8to150_PU0_tracks', 'PU0', version_V9, 'photon-V9'),\n",
    "    Sample('photon_flat8to150_PU200_tracks', 'PU200', version_V9, 'photon-V9')\n",
    "    ]\n",
    "\n",
    "samples_pions = [\n",
    "    Sample('pion_flat2to100_PU0_tracks', 'PU0', version, 'pions'),\n",
    "    ]\n",
    "\n",
    "samples_nugus = [\n",
    "    Sample('nugun_alleta_pu0', 'PU0', version, 'mb'),\n",
    "    Sample('nugun_alleta_pu200', 'PU200', version, 'mb')\n",
    "    ]\n",
    "\n",
    "samples_nugunrates = [\n",
    "    Sample('nugun_alleta_pu200_tracks', 'PU200', version, 'mb')\n",
    "    ]\n",
    "\n",
    "\n"
   ]
  },
  {
   "cell_type": "code",
   "execution_count": 4,
   "metadata": {},
   "outputs": [],
   "source": [
    "do_eff = True"
   ]
  },
  {
   "cell_type": "code",
   "execution_count": 5,
   "metadata": {},
   "outputs": [
    {
     "name": "stdout",
     "output_type": "stream",
     "text": [
      "importing Jupyter notebook from configuration.ipynb\n",
      "gen_part_selections: 14\n",
      "gen_part_selections: 14\n"
     ]
    }
   ],
   "source": [
    "import import_ipynb\n",
    "import configuration"
   ]
  },
  {
   "cell_type": "code",
   "execution_count": 10,
   "metadata": {},
   "outputs": [
    {
     "name": "stdout",
     "output_type": "stream",
     "text": [
      "--- TPs: \n",
      "[   'L1Trk',\n",
      "    'L1TrkEmu',\n",
      "    'EG',\n",
      "    'EGBRL',\n",
      "    'EGALL',\n",
      "    'TkEle',\n",
      "    'TkEleEL',\n",
      "    'TkEleELBRL',\n",
      "    'TkEleELALL']\n",
      "--- TP selections:\n",
      "{   'EG': [   'EGq2',\n",
      "              'EGq2Pt10',\n",
      "              'EGq2Pt15',\n",
      "              'EGq2Pt20',\n",
      "              'EGq2Pt25',\n",
      "              'EGq2Pt30',\n",
      "              'EGq2Pt40',\n",
      "              'EGq3',\n",
      "              'EGq3Pt10',\n",
      "              'EGq3Pt15',\n",
      "              'EGq3Pt20',\n",
      "              'EGq3Pt25',\n",
      "              'EGq3Pt30',\n",
      "              'EGq3Pt40',\n",
      "              'EGq4',\n",
      "              'EGq4Pt10',\n",
      "              'EGq4Pt15',\n",
      "              'EGq4Pt20',\n",
      "              'EGq4Pt25',\n",
      "              'EGq4Pt30',\n",
      "              'EGq4Pt40',\n",
      "              'EGq5',\n",
      "              'EGq5Pt10',\n",
      "              'EGq5Pt15',\n",
      "              'EGq5Pt20',\n",
      "              'EGq5Pt25',\n",
      "              'EGq5Pt30',\n",
      "              'EGq5Pt40'],\n",
      "    'EGALL': [   'all',\n",
      "                 'LooseTkID',\n",
      "                 'Pt10',\n",
      "                 'Pt10LooseTkID',\n",
      "                 'Pt15',\n",
      "                 'Pt15LooseTkID',\n",
      "                 'Pt20',\n",
      "                 'Pt20LooseTkID',\n",
      "                 'Pt25',\n",
      "                 'Pt25LooseTkID',\n",
      "                 'Pt30',\n",
      "                 'Pt30LooseTkID',\n",
      "                 'Pt40',\n",
      "                 'Pt40LooseTkID'],\n",
      "    'EGBRL': [   'all',\n",
      "                 'LooseTkID',\n",
      "                 'Pt10',\n",
      "                 'Pt10LooseTkID',\n",
      "                 'Pt15',\n",
      "                 'Pt15LooseTkID',\n",
      "                 'Pt20',\n",
      "                 'Pt20LooseTkID',\n",
      "                 'Pt25',\n",
      "                 'Pt25LooseTkID',\n",
      "                 'Pt30',\n",
      "                 'Pt30LooseTkID',\n",
      "                 'Pt40',\n",
      "                 'Pt40LooseTkID'],\n",
      "    'L1Trk': [   'all',\n",
      "                 'Pt2',\n",
      "                 'Pt5',\n",
      "                 'Pt10',\n",
      "                 'St4',\n",
      "                 'St4Pt2',\n",
      "                 'St4Pt5',\n",
      "                 'St4Pt10'],\n",
      "    'L1TrkEmu': [   'all',\n",
      "                    'Pt2',\n",
      "                    'Pt5',\n",
      "                    'Pt10',\n",
      "                    'St4',\n",
      "                    'St4Pt2',\n",
      "                    'St4Pt5',\n",
      "                    'St4Pt10'],\n",
      "    'TkEle': [   'EGq2',\n",
      "                 'EGq2Pt10',\n",
      "                 'EGq2Pt15',\n",
      "                 'EGq2Pt20',\n",
      "                 'EGq2Pt25',\n",
      "                 'EGq2Pt30',\n",
      "                 'EGq2Pt40',\n",
      "                 'EGq3',\n",
      "                 'EGq3Pt10',\n",
      "                 'EGq3Pt15',\n",
      "                 'EGq3Pt20',\n",
      "                 'EGq3Pt25',\n",
      "                 'EGq3Pt30',\n",
      "                 'EGq3Pt40',\n",
      "                 'EGq4',\n",
      "                 'EGq4Pt10',\n",
      "                 'EGq4Pt15',\n",
      "                 'EGq4Pt20',\n",
      "                 'EGq4Pt25',\n",
      "                 'EGq4Pt30',\n",
      "                 'EGq4Pt40',\n",
      "                 'EGq5',\n",
      "                 'EGq5Pt10',\n",
      "                 'EGq5Pt15',\n",
      "                 'EGq5Pt20',\n",
      "                 'EGq5Pt25',\n",
      "                 'EGq5Pt30',\n",
      "                 'EGq5Pt40',\n",
      "                 'EGq2Iso0p2',\n",
      "                 'EGq2Iso0p1',\n",
      "                 'EGq2Iso0p3',\n",
      "                 'EGq3Iso0p2',\n",
      "                 'EGq3Iso0p1',\n",
      "                 'EGq3Iso0p3',\n",
      "                 'EGq4Iso0p2',\n",
      "                 'EGq4Iso0p1',\n",
      "                 'EGq4Iso0p3',\n",
      "                 'EGq5Iso0p2',\n",
      "                 'EGq5Iso0p1',\n",
      "                 'EGq5Iso0p3'],\n",
      "    'TkEleEL': [   'EGq2',\n",
      "                   'EGq2Pt10',\n",
      "                   'EGq2Pt15',\n",
      "                   'EGq2Pt20',\n",
      "                   'EGq2Pt25',\n",
      "                   'EGq2Pt30',\n",
      "                   'EGq2Pt40',\n",
      "                   'EGq3',\n",
      "                   'EGq3Pt10',\n",
      "                   'EGq3Pt15',\n",
      "                   'EGq3Pt20',\n",
      "                   'EGq3Pt25',\n",
      "                   'EGq3Pt30',\n",
      "                   'EGq3Pt40',\n",
      "                   'EGq4',\n",
      "                   'EGq4Pt10',\n",
      "                   'EGq4Pt15',\n",
      "                   'EGq4Pt20',\n",
      "                   'EGq4Pt25',\n",
      "                   'EGq4Pt30',\n",
      "                   'EGq4Pt40',\n",
      "                   'EGq5',\n",
      "                   'EGq5Pt10',\n",
      "                   'EGq5Pt15',\n",
      "                   'EGq5Pt20',\n",
      "                   'EGq5Pt25',\n",
      "                   'EGq5Pt30',\n",
      "                   'EGq5Pt40',\n",
      "                   'EGq2Iso0p2',\n",
      "                   'EGq2Iso0p1',\n",
      "                   'EGq2Iso0p3',\n",
      "                   'EGq3Iso0p2',\n",
      "                   'EGq3Iso0p1',\n",
      "                   'EGq3Iso0p3',\n",
      "                   'EGq4Iso0p2',\n",
      "                   'EGq4Iso0p1',\n",
      "                   'EGq4Iso0p3',\n",
      "                   'EGq5Iso0p2',\n",
      "                   'EGq5Iso0p1',\n",
      "                   'EGq5Iso0p3'],\n",
      "    'TkEleELALL': [   'all',\n",
      "                      'LooseTkID',\n",
      "                      'Iso0p1',\n",
      "                      'Pt10',\n",
      "                      'Pt10LooseTkID',\n",
      "                      'Pt10Iso0p1',\n",
      "                      'Pt15',\n",
      "                      'Pt15LooseTkID',\n",
      "                      'Pt15Iso0p1',\n",
      "                      'Pt20',\n",
      "                      'Pt20LooseTkID',\n",
      "                      'Pt20Iso0p1',\n",
      "                      'Pt25',\n",
      "                      'Pt25LooseTkID',\n",
      "                      'Pt25Iso0p1',\n",
      "                      'Pt30',\n",
      "                      'Pt30LooseTkID',\n",
      "                      'Pt30Iso0p1',\n",
      "                      'Pt40',\n",
      "                      'Pt40LooseTkID',\n",
      "                      'Pt40Iso0p1'],\n",
      "    'TkEleELBRL': ['all', 'Pt10', 'Pt15', 'Pt20', 'Pt25', 'Pt30', 'Pt40']}\n",
      "--- GEN selections:\n",
      "{   'EG': [   'GEN',\n",
      "              'GENPt15',\n",
      "              'GENPt10to25',\n",
      "              'GENPt30',\n",
      "              'GENPt35',\n",
      "              'GENPt40',\n",
      "              'GENEtaD',\n",
      "              'GENEtaDPt15',\n",
      "              'GENEtaDE',\n",
      "              'GENEtaDEPt15',\n",
      "              'GENEtaBC',\n",
      "              'GENEtaBCPt15',\n",
      "              'GENEtaBCD',\n",
      "              'GENEtaBCDPt15'],\n",
      "    'EGALL': [   'GEN',\n",
      "                 'GENPt15',\n",
      "                 'GENPt10to25',\n",
      "                 'GENPt30',\n",
      "                 'GENPt35',\n",
      "                 'GENPt40',\n",
      "                 'GENEtaF',\n",
      "                 'GENEtaD',\n",
      "                 'GENEtaBC',\n",
      "                 'GENEtaBCD'],\n",
      "    'EGBRL': [   'GEN',\n",
      "                 'GENPt15',\n",
      "                 'GENPt10to25',\n",
      "                 'GENPt30',\n",
      "                 'GENPt35',\n",
      "                 'GENPt40',\n",
      "                 'GENEtaF'],\n",
      "    'L1Trk': [   'GEN',\n",
      "                 'GENPt15',\n",
      "                 'GENPt10to25',\n",
      "                 'GENPt30',\n",
      "                 'GENPt35',\n",
      "                 'GENPt40',\n",
      "                 'GENEtaD',\n",
      "                 'GENEtaDPt15',\n",
      "                 'GENEtaDE',\n",
      "                 'GENEtaDEPt15',\n",
      "                 'GENEtaBC',\n",
      "                 'GENEtaBCPt15',\n",
      "                 'GENEtaBCD',\n",
      "                 'GENEtaBCDPt15'],\n",
      "    'L1TrkEmu': [   'GEN',\n",
      "                    'GENPt15',\n",
      "                    'GENPt10to25',\n",
      "                    'GENPt30',\n",
      "                    'GENPt35',\n",
      "                    'GENPt40',\n",
      "                    'GENEtaD',\n",
      "                    'GENEtaDPt15',\n",
      "                    'GENEtaDE',\n",
      "                    'GENEtaDEPt15',\n",
      "                    'GENEtaBC',\n",
      "                    'GENEtaBCPt15',\n",
      "                    'GENEtaBCD',\n",
      "                    'GENEtaBCDPt15'],\n",
      "    'TkEle': [   'GEN',\n",
      "                 'GENPt15',\n",
      "                 'GENPt10to25',\n",
      "                 'GENPt30',\n",
      "                 'GENPt35',\n",
      "                 'GENPt40',\n",
      "                 'GENEtaBC',\n",
      "                 'GENEtaBCPt15',\n",
      "                 'GENEtaBCD',\n",
      "                 'GENEtaBCDPt15'],\n",
      "    'TkEleEL': [   'GEN',\n",
      "                   'GENPt15',\n",
      "                   'GENPt10to25',\n",
      "                   'GENPt30',\n",
      "                   'GENPt35',\n",
      "                   'GENPt40',\n",
      "                   'GENEtaBC',\n",
      "                   'GENEtaBCPt15',\n",
      "                   'GENEtaBCD',\n",
      "                   'GENEtaBCDPt15'],\n",
      "    'TkEleELALL': [   'GEN',\n",
      "                      'GENPt15',\n",
      "                      'GENPt10to25',\n",
      "                      'GENPt30',\n",
      "                      'GENPt35',\n",
      "                      'GENPt40',\n",
      "                      'GENEtaF',\n",
      "                      'GENEtaD',\n",
      "                      'GENEtaBC',\n",
      "                      'GENEtaBCD'],\n",
      "    'TkEleELBRL': [   'GEN',\n",
      "                      'GENPt15',\n",
      "                      'GENPt10to25',\n",
      "                      'GENPt30',\n",
      "                      'GENPt35',\n",
      "                      'GENPt40',\n",
      "                      'GENEtaF']}\n"
     ]
    },
    {
     "name": "stderr",
     "output_type": "stream",
     "text": [
      "/Users/cerminar/.virtualenvs/HGCTPGPerformance/lib/python2.7/site-packages/ipykernel_launcher.py:82: UserWarning: DataFrame columns are not unique, some columns will be omitted.\n"
     ]
    }
   ],
   "source": [
    "# %load settings.py\n",
    "# === samples =====================================================\n",
    "# import python.selections as selections\n",
    "# import python.collections as collections\n",
    "\n",
    "import pprint\n",
    "\n",
    "\n",
    "samples = []\n",
    "\n",
    "# samples += samples_nugunrates\n",
    "# samples += samples_nugunrates_V8\n",
    "# samples += samples_ele_V8\n",
    "samples += samples_ele_V9\n",
    "# samples += samples_ele_calib\n",
    "\n",
    "for smp in samples:\n",
    "    smp.open_file()\n",
    "\n",
    "\n",
    "sample = 'ele-V9'\n",
    "\n",
    "do_rate = False\n",
    "do_eff = True\n",
    "\n",
    "# === TP ==========================================================\n",
    "tps = [\n",
    "       'L1Trk',\n",
    "       'L1TrkEmu',    \n",
    "       'EG',\n",
    "       'EGBRL',\n",
    "       'EGALL',\n",
    "       'TkEle',\n",
    "       'TkEleEL',\n",
    "#        'TkEleBRL',\n",
    "       'TkEleELBRL',\n",
    "#        'TkEleALL',\n",
    "       'TkEleELALL'\n",
    "      ]\n",
    "\n",
    "# tps = ['HMvDRshapeDrCalib',\n",
    "#        'HMvDREmInt',\n",
    "#        'EG'\n",
    "#       ]\n",
    "\n",
    "\n",
    "\n",
    "# === Load the Histo Primitives ====================================\n",
    "histo_primitives = pd.DataFrame()\n",
    "\n",
    "if do_rate:\n",
    "#     from python.plotters import rate_plotters, eg_rate_plotters\n",
    "\n",
    "    for plotter in configuration.rate_plotters:\n",
    "        histo_primitives = histo_primitives.append(plotter.get_histo_primitives(), ignore_index=True)\n",
    "    for plotter in configuration.eg_rate_plotters:\n",
    "        histo_primitives = histo_primitives.append(plotter.get_histo_primitives(), ignore_index=True)\n",
    "if do_eff:\n",
    "#     from python.plotters import eg_genmatched_plotters, track_genmatched_plotters, tp_genmatched_plotters\n",
    "    for plotter in configuration.tp_genmatched_plotters:\n",
    "        histo_primitives = histo_primitives.append(plotter.get_histo_primitives(), ignore_index=True)\n",
    "    for plotter in configuration.eg_genmatched_plotters:\n",
    "        histo_primitives = histo_primitives.append(plotter.get_histo_primitives(), ignore_index=True)\n",
    "    for plotter in configuration.track_genmatched_plotters:\n",
    "        histo_primitives = histo_primitives.append(plotter.get_histo_primitives(), ignore_index=True)\n",
    "        \n",
    "\n",
    "# print histo_primitives.data.unique()\n",
    "# === TP selections ================================================\n",
    "tp_select = {}\n",
    "\n",
    "for tp in tps:\n",
    "    tp_select[tp] = histo_primitives[histo_primitives.data == tp].data_sel.unique().tolist()\n",
    "\n",
    "# ==== GEN selections ===============================================\n",
    "gen_select ={}\n",
    "for tp in tps:\n",
    "    gen_select[tp] = histo_primitives[histo_primitives.data == tp].gen_sel.unique().tolist()\n",
    "\n",
    "#  ==== labels ===============================================\n",
    "tp_labels = histo_primitives[['data', 'data_label']].drop_duplicates().set_index('data').T.to_dict('records')[0]\n",
    "tp_selection_labels = histo_primitives[['data_sel', 'data_sel_label']].drop_duplicates().set_index('data_sel').T.to_dict('records')[0]\n",
    "gen_selection_labels = histo_primitives[['gen_sel', 'gen_sel_label']].drop_duplicates().set_index('gen_sel').T.to_dict('records')[0]\n",
    "\n",
    "\n",
    "\n",
    "import pprint\n",
    "pp = pprint.PrettyPrinter(indent=4)\n",
    "print '--- TPs: '\n",
    "pp.pprint(tps)\n",
    "print '--- TP selections:'\n",
    "pp.pprint(tp_select)\n",
    "print '--- GEN selections:'\n",
    "pp.pprint(gen_select)\n",
    "\n",
    "\n",
    "# print selections.eg_rate_selections\n"
   ]
  },
  {
   "cell_type": "code",
   "execution_count": 11,
   "metadata": {},
   "outputs": [
    {
     "name": "stdout",
     "output_type": "stream",
     "text": [
      "TP: L1Trk\n",
      "['all' 'Pt2' 'Pt5' 'Pt10' 'St4' 'St4Pt2' 'St4Pt5' 'St4Pt10']\n",
      "['GEN' 'GENPt15' 'GENPt10to25' 'GENPt30' 'GENPt35' 'GENPt40' 'GENEtaD'\n",
      " 'GENEtaDPt15' 'GENEtaDE' 'GENEtaDEPt15' 'GENEtaBC' 'GENEtaBCPt15'\n",
      " 'GENEtaBCD' 'GENEtaBCDPt15']\n",
      "TP: L1TrkEmu\n",
      "['all' 'Pt2' 'Pt5' 'Pt10' 'St4' 'St4Pt2' 'St4Pt5' 'St4Pt10']\n",
      "['GEN' 'GENPt15' 'GENPt10to25' 'GENPt30' 'GENPt35' 'GENPt40' 'GENEtaD'\n",
      " 'GENEtaDPt15' 'GENEtaDE' 'GENEtaDEPt15' 'GENEtaBC' 'GENEtaBCPt15'\n",
      " 'GENEtaBCD' 'GENEtaBCDPt15']\n",
      "TP: EG\n",
      "['EGq2' 'EGq2Pt10' 'EGq2Pt15' 'EGq2Pt20' 'EGq2Pt25' 'EGq2Pt30' 'EGq2Pt40'\n",
      " 'EGq3' 'EGq3Pt10' 'EGq3Pt15' 'EGq3Pt20' 'EGq3Pt25' 'EGq3Pt30' 'EGq3Pt40'\n",
      " 'EGq4' 'EGq4Pt10' 'EGq4Pt15' 'EGq4Pt20' 'EGq4Pt25' 'EGq4Pt30' 'EGq4Pt40'\n",
      " 'EGq5' 'EGq5Pt10' 'EGq5Pt15' 'EGq5Pt20' 'EGq5Pt25' 'EGq5Pt30' 'EGq5Pt40']\n",
      "['GEN' 'GENPt15' 'GENPt10to25' 'GENPt30' 'GENPt35' 'GENPt40' 'GENEtaD'\n",
      " 'GENEtaDPt15' 'GENEtaDE' 'GENEtaDEPt15' 'GENEtaBC' 'GENEtaBCPt15'\n",
      " 'GENEtaBCD' 'GENEtaBCDPt15']\n",
      "TP: EGBRL\n",
      "['all' 'LooseTkID' 'Pt10' 'Pt10LooseTkID' 'Pt15' 'Pt15LooseTkID' 'Pt20'\n",
      " 'Pt20LooseTkID' 'Pt25' 'Pt25LooseTkID' 'Pt30' 'Pt30LooseTkID' 'Pt40'\n",
      " 'Pt40LooseTkID']\n",
      "['GEN' 'GENPt15' 'GENPt10to25' 'GENPt30' 'GENPt35' 'GENPt40' 'GENEtaF']\n",
      "TP: EGALL\n",
      "['all' 'LooseTkID' 'Pt10' 'Pt10LooseTkID' 'Pt15' 'Pt15LooseTkID' 'Pt20'\n",
      " 'Pt20LooseTkID' 'Pt25' 'Pt25LooseTkID' 'Pt30' 'Pt30LooseTkID' 'Pt40'\n",
      " 'Pt40LooseTkID']\n",
      "['GEN' 'GENPt15' 'GENPt10to25' 'GENPt30' 'GENPt35' 'GENPt40' 'GENEtaF'\n",
      " 'GENEtaD' 'GENEtaBC' 'GENEtaBCD']\n",
      "TP: TkEle\n",
      "['EGq2' 'EGq2Pt10' 'EGq2Pt15' 'EGq2Pt20' 'EGq2Pt25' 'EGq2Pt30' 'EGq2Pt40'\n",
      " 'EGq3' 'EGq3Pt10' 'EGq3Pt15' 'EGq3Pt20' 'EGq3Pt25' 'EGq3Pt30' 'EGq3Pt40'\n",
      " 'EGq4' 'EGq4Pt10' 'EGq4Pt15' 'EGq4Pt20' 'EGq4Pt25' 'EGq4Pt30' 'EGq4Pt40'\n",
      " 'EGq5' 'EGq5Pt10' 'EGq5Pt15' 'EGq5Pt20' 'EGq5Pt25' 'EGq5Pt30' 'EGq5Pt40'\n",
      " 'EGq2Iso0p2' 'EGq2Iso0p1' 'EGq2Iso0p3' 'EGq3Iso0p2' 'EGq3Iso0p1'\n",
      " 'EGq3Iso0p3' 'EGq4Iso0p2' 'EGq4Iso0p1' 'EGq4Iso0p3' 'EGq5Iso0p2'\n",
      " 'EGq5Iso0p1' 'EGq5Iso0p3']\n",
      "['GEN' 'GENPt15' 'GENPt10to25' 'GENPt30' 'GENPt35' 'GENPt40' 'GENEtaBC'\n",
      " 'GENEtaBCPt15' 'GENEtaBCD' 'GENEtaBCDPt15']\n",
      "TP: TkEleEL\n",
      "['EGq2' 'EGq2Pt10' 'EGq2Pt15' 'EGq2Pt20' 'EGq2Pt25' 'EGq2Pt30' 'EGq2Pt40'\n",
      " 'EGq3' 'EGq3Pt10' 'EGq3Pt15' 'EGq3Pt20' 'EGq3Pt25' 'EGq3Pt30' 'EGq3Pt40'\n",
      " 'EGq4' 'EGq4Pt10' 'EGq4Pt15' 'EGq4Pt20' 'EGq4Pt25' 'EGq4Pt30' 'EGq4Pt40'\n",
      " 'EGq5' 'EGq5Pt10' 'EGq5Pt15' 'EGq5Pt20' 'EGq5Pt25' 'EGq5Pt30' 'EGq5Pt40'\n",
      " 'EGq2Iso0p2' 'EGq2Iso0p1' 'EGq2Iso0p3' 'EGq3Iso0p2' 'EGq3Iso0p1'\n",
      " 'EGq3Iso0p3' 'EGq4Iso0p2' 'EGq4Iso0p1' 'EGq4Iso0p3' 'EGq5Iso0p2'\n",
      " 'EGq5Iso0p1' 'EGq5Iso0p3']\n",
      "['GEN' 'GENPt15' 'GENPt10to25' 'GENPt30' 'GENPt35' 'GENPt40' 'GENEtaBC'\n",
      " 'GENEtaBCPt15' 'GENEtaBCD' 'GENEtaBCDPt15']\n",
      "TP: TkEleELBRL\n",
      "['all' 'Pt10' 'Pt15' 'Pt20' 'Pt25' 'Pt30' 'Pt40']\n",
      "['GEN' 'GENPt15' 'GENPt10to25' 'GENPt30' 'GENPt35' 'GENPt40' 'GENEtaF']\n",
      "TP: TkEleELALL\n",
      "['all' 'LooseTkID' 'Iso0p1' 'Pt10' 'Pt10LooseTkID' 'Pt10Iso0p1' 'Pt15'\n",
      " 'Pt15LooseTkID' 'Pt15Iso0p1' 'Pt20' 'Pt20LooseTkID' 'Pt20Iso0p1' 'Pt25'\n",
      " 'Pt25LooseTkID' 'Pt25Iso0p1' 'Pt30' 'Pt30LooseTkID' 'Pt30Iso0p1' 'Pt40'\n",
      " 'Pt40LooseTkID' 'Pt40Iso0p1']\n",
      "['GEN' 'GENPt15' 'GENPt10to25' 'GENPt30' 'GENPt35' 'GENPt40' 'GENEtaF'\n",
      " 'GENEtaD' 'GENEtaBC' 'GENEtaBCD']\n"
     ]
    }
   ],
   "source": [
    "for tp in tps:\n",
    "    print 'TP: {}'.format(tp)\n",
    "    print histo_primitives[histo_primitives.data == tp].data_sel.unique()\n",
    "    print histo_primitives[histo_primitives.data == tp].gen_sel.unique()"
   ]
  },
  {
   "cell_type": "code",
   "execution_count": 12,
   "metadata": {},
   "outputs": [
    {
     "data": {
      "text/plain": [
       "{'EG': 'EG',\n",
       " 'EGALL': 'EG all',\n",
       " 'EGBRL': 'EG barrel',\n",
       " 'HMvDR': 'HM+dR(layer) Cl3d',\n",
       " 'HMvDRCalib': 'HM calib.',\n",
       " 'HMvDREmInt': 'HM+dR(layer) Cl3d EM Int',\n",
       " 'HMvDRshapeDrCalib': 'HM #Delta#rho < 0.015 calib.',\n",
       " 'L1Trk': 'L1Track',\n",
       " 'L1TrkEmu': 'L1Track EMU',\n",
       " 'TkEle': 'TkEle',\n",
       " 'TkEleEL': 'TkEle Ell. match',\n",
       " 'TkEleELALL': 'TkEle Ell. match all',\n",
       " 'TkEleELBRL': 'TkEle Ell. match barrel'}"
      ]
     },
     "execution_count": 12,
     "metadata": {},
     "output_type": "execute_result"
    }
   ],
   "source": [
    "tp_labels"
   ]
  },
  {
   "cell_type": "code",
   "execution_count": 13,
   "metadata": {},
   "outputs": [
    {
     "data": {
      "text/plain": [
       "{'EGq2': 'hwQual 2',\n",
       " 'EGq2Iso0p1': 'hwQual 2, Iso0p1',\n",
       " 'EGq2Iso0p2': 'hwQual 2, Iso0p2',\n",
       " 'EGq2Iso0p3': 'hwQual 2, Iso0p3',\n",
       " 'EGq2Pt10': 'hwQual 2, p_{T}^{L1}>=10GeV',\n",
       " 'EGq2Pt15': 'hwQual 2, p_{T}^{L1}>=15GeV',\n",
       " 'EGq2Pt20': 'hwQual 2, p_{T}^{L1}>=20GeV',\n",
       " 'EGq2Pt25': 'hwQual 2, p_{T}^{L1}>=25GeV',\n",
       " 'EGq2Pt30': 'hwQual 2, p_{T}^{L1}>=30GeV',\n",
       " 'EGq2Pt40': 'hwQual 2, p_{T}^{L1}>=40GeV',\n",
       " 'EGq3': 'hwQual 3',\n",
       " 'EGq3Iso0p1': 'hwQual 3, Iso0p1',\n",
       " 'EGq3Iso0p2': 'hwQual 3, Iso0p2',\n",
       " 'EGq3Iso0p3': 'hwQual 3, Iso0p3',\n",
       " 'EGq3Pt10': 'hwQual 3, p_{T}^{L1}>=10GeV',\n",
       " 'EGq3Pt15': 'hwQual 3, p_{T}^{L1}>=15GeV',\n",
       " 'EGq3Pt20': 'hwQual 3, p_{T}^{L1}>=20GeV',\n",
       " 'EGq3Pt25': 'hwQual 3, p_{T}^{L1}>=25GeV',\n",
       " 'EGq3Pt30': 'hwQual 3, p_{T}^{L1}>=30GeV',\n",
       " 'EGq3Pt40': 'hwQual 3, p_{T}^{L1}>=40GeV',\n",
       " 'EGq4': 'hwQual 4',\n",
       " 'EGq4Iso0p1': 'hwQual 4, Iso0p1',\n",
       " 'EGq4Iso0p2': 'hwQual 4, Iso0p2',\n",
       " 'EGq4Iso0p3': 'hwQual 4, Iso0p3',\n",
       " 'EGq4Pt10': 'hwQual 4, p_{T}^{L1}>=10GeV',\n",
       " 'EGq4Pt15': 'hwQual 4, p_{T}^{L1}>=15GeV',\n",
       " 'EGq4Pt20': 'hwQual 4, p_{T}^{L1}>=20GeV',\n",
       " 'EGq4Pt25': 'hwQual 4, p_{T}^{L1}>=25GeV',\n",
       " 'EGq4Pt30': 'hwQual 4, p_{T}^{L1}>=30GeV',\n",
       " 'EGq4Pt40': 'hwQual 4, p_{T}^{L1}>=40GeV',\n",
       " 'EGq5': 'hwQual 5',\n",
       " 'EGq5Iso0p1': 'hwQual 5, Iso0p1',\n",
       " 'EGq5Iso0p2': 'hwQual 5, Iso0p2',\n",
       " 'EGq5Iso0p3': 'hwQual 5, Iso0p3',\n",
       " 'EGq5Pt10': 'hwQual 5, p_{T}^{L1}>=10GeV',\n",
       " 'EGq5Pt15': 'hwQual 5, p_{T}^{L1}>=15GeV',\n",
       " 'EGq5Pt20': 'hwQual 5, p_{T}^{L1}>=20GeV',\n",
       " 'EGq5Pt25': 'hwQual 5, p_{T}^{L1}>=25GeV',\n",
       " 'EGq5Pt30': 'hwQual 5, p_{T}^{L1}>=30GeV',\n",
       " 'EGq5Pt40': 'hwQual 5, p_{T}^{L1}>=40GeV',\n",
       " 'Em': 'EGId',\n",
       " 'EmPt10': 'EGId, p_{T}^{L1}>=10GeV',\n",
       " 'EmPt20': 'EGId, p_{T}^{L1}>=20GeV',\n",
       " 'EmPt30': 'EGId, p_{T}^{L1}>=30GeV',\n",
       " 'Iso0p1': 'Iso0p1',\n",
       " 'LooseTkID': 'LooseTkID',\n",
       " 'Pt10': 'p_{T}^{tk} > 10 GeV',\n",
       " 'Pt10Iso0p1': 'p_{T}^{L1}>=10GeV, Iso0p1',\n",
       " 'Pt10LooseTkID': 'p_{T}^{L1}>=10GeV, LooseTkID',\n",
       " 'Pt15': 'p_{T}^{L1}>=15GeV',\n",
       " 'Pt15Iso0p1': 'p_{T}^{L1}>=15GeV, Iso0p1',\n",
       " 'Pt15LooseTkID': 'p_{T}^{L1}>=15GeV, LooseTkID',\n",
       " 'Pt2': 'p_{T}^{tk} > 2 GeV',\n",
       " 'Pt20': 'p_{T}^{L1}>=20GeV',\n",
       " 'Pt20Iso0p1': 'p_{T}^{L1}>=20GeV, Iso0p1',\n",
       " 'Pt20LooseTkID': 'p_{T}^{L1}>=20GeV, LooseTkID',\n",
       " 'Pt25': 'p_{T}^{L1}>=25GeV',\n",
       " 'Pt25Iso0p1': 'p_{T}^{L1}>=25GeV, Iso0p1',\n",
       " 'Pt25LooseTkID': 'p_{T}^{L1}>=25GeV, LooseTkID',\n",
       " 'Pt30': 'p_{T}^{L1}>=30GeV',\n",
       " 'Pt30Iso0p1': 'p_{T}^{L1}>=30GeV, Iso0p1',\n",
       " 'Pt30LooseTkID': 'p_{T}^{L1}>=30GeV, LooseTkID',\n",
       " 'Pt40': 'p_{T}^{L1}>=40GeV',\n",
       " 'Pt40Iso0p1': 'p_{T}^{L1}>=40GeV, Iso0p1',\n",
       " 'Pt40LooseTkID': 'p_{T}^{L1}>=40GeV, LooseTkID',\n",
       " 'Pt5': 'p_{T}^{tk} > 5 GeV',\n",
       " 'St4': '# stubs > 3',\n",
       " 'St4Pt10': '# stubs > 3, p_{T}^{tk} > 10 GeV',\n",
       " 'St4Pt2': '# stubs > 3, p_{T}^{tk} > 2 GeV',\n",
       " 'St4Pt5': '# stubs > 3, p_{T}^{tk} > 5 GeV',\n",
       " 'all': ''}"
      ]
     },
     "execution_count": 13,
     "metadata": {},
     "output_type": "execute_result"
    }
   ],
   "source": [
    "tp_selection_labels"
   ]
  },
  {
   "cell_type": "code",
   "execution_count": 14,
   "metadata": {},
   "outputs": [
    {
     "data": {
      "text/plain": [
       "{'GEN': '',\n",
       " 'GENEtaBC': '1.52 < |#eta^{GEN}| <= 2.4',\n",
       " 'GENEtaBCD': '1.52 < |#eta^{GEN}| <= 2.8',\n",
       " 'GENEtaBCDPt15': '1.52 < |#eta^{GEN}| <= 2.8, p_{T}^{GEN}>=15GeV',\n",
       " 'GENEtaBCPt15': '1.52 < |#eta^{GEN}| <= 2.4, p_{T}^{GEN}>=15GeV',\n",
       " 'GENEtaD': '2.4 < |#eta^{GEN}| <= 2.8',\n",
       " 'GENEtaDE': '2.4 < |#eta^{GEN}| <= 3.0',\n",
       " 'GENEtaDEPt15': '2.4 < |#eta^{GEN}| <= 3.0, p_{T}^{GEN}>=15GeV',\n",
       " 'GENEtaDPt15': '2.4 < |#eta^{GEN}| <= 2.8, p_{T}^{GEN}>=15GeV',\n",
       " 'GENEtaF': '|#eta^{GEN}| <= 1.479',\n",
       " 'GENPt10to25': '10 #leq p_{T}^{GEN} < 25GeV',\n",
       " 'GENPt15': 'p_{T}^{GEN}>=15GeV',\n",
       " 'GENPt30': 'p_{T}^{GEN}>=30GeV',\n",
       " 'GENPt35': 'p_{T}^{GEN}>=35GeV',\n",
       " 'GENPt40': 'p_{T}^{GEN}>=40GeV'}"
      ]
     },
     "execution_count": 14,
     "metadata": {},
     "output_type": "execute_result"
    }
   ],
   "source": [
    "gen_selection_labels"
   ]
  },
  {
   "cell_type": "markdown",
   "metadata": {},
   "source": []
  },
  {
   "cell_type": "code",
   "execution_count": 15,
   "metadata": {},
   "outputs": [
    {
     "name": "stdout",
     "output_type": "stream",
     "text": [
      "CPU times: user 13.7 s, sys: 687 ms, total: 14.4 s\n",
      "Wall time: 14.1 s\n"
     ]
    }
   ],
   "source": [
    "%%time\n",
    "\n",
    "hplot = HPlot(samples, tp_labels, tp_selection_labels, gen_selection_labels)\n",
    "\n",
    "for tp in tps:\n",
    "    hplot.cache_histo(classtype=histos.HistoSetEff, \n",
    "                      samples=samples,\n",
    "                      pus=[],\n",
    "                      tps=[tp],\n",
    "                      tp_sels=histo_primitives[histo_primitives.data == tp].data_sel.unique(),\n",
    "                      gen_sels=gen_select[tp])\n",
    "\n"
   ]
  },
  {
   "cell_type": "code",
   "execution_count": 16,
   "metadata": {},
   "outputs": [
    {
     "name": "stdout",
     "output_type": "stream",
     "text": [
      "['__doc__', '__init__', '__module__', '__repr__', 'histo_file', 'histo_filename', 'label', 'name', 'open_file', 'type']\n"
     ]
    },
    {
     "data": {
      "text/plain": [
       "[<Sample ../plots1/histos_ele_flat2to100_PU0_eg_v121.root, ele-V9>,\n",
       " <Sample ../plots1/histos_ele_flat2to100_PU200_eg_v121.root, ele-V9>]"
      ]
     },
     "execution_count": 16,
     "metadata": {},
     "output_type": "execute_result"
    },
    {
     "name": "stdout",
     "output_type": "stream",
     "text": [
      "TFile**\t\t../plots1/histos_ele_flat2to100_PU0_eg_v121.root\t\n",
      " TFile*\t\t../plots1/histos_ele_flat2to100_PU0_eg_v121.root\t\n",
      "  KEY: TDirectoryFile\tEGHistos;1\tEGHistos\n",
      "  KEY: TDirectoryFile\tEGResoHistos;1\tEGResoHistos\n",
      "  KEY: TDirectoryFile\tGenParticleHistos;1\tGenParticleHistos\n"
     ]
    }
   ],
   "source": [
    "print dir(samples[0])\n",
    "samples[0].histo_file.ls()\n",
    "samples"
   ]
  },
  {
   "cell_type": "code",
   "execution_count": 17,
   "metadata": {},
   "outputs": [
    {
     "name": "stdout",
     "output_type": "stream",
     "text": [
      "[<python.l1THistos.HistoSetEff instance at 0x10fecccb0>]\n"
     ]
    },
    {
     "data": {
      "text/plain": [
       "['__doc__', '__init__', '__module__']"
      ]
     },
     "execution_count": 17,
     "metadata": {},
     "output_type": "execute_result"
    }
   ],
   "source": [
    "hsets, labels, text = hplot.get_histo(histos.HistoSetEff, sample, ['PU200'], 'TkEle', 'EGq4Pt20', ['GENEtaBC'], debug=False)\n",
    "print hsets\n",
    "hsets[0].name\n",
    "hsets[0].name\n",
    "dir(hsets[0].h_eff)"
   ]
  },
  {
   "cell_type": "code",
   "execution_count": null,
   "metadata": {
    "scrolled": true
   },
   "outputs": [
    {
     "name": "stdout",
     "output_type": "stream",
     "text": [
      "Sample: ele-V9\n",
      "PU: PU0, TP: L1Trk\n",
      "  Pt2 den -> all\n",
      "  Pt5 den -> all\n",
      "  Pt10 den -> all\n",
      "  St4Pt2 den -> St4\n",
      "  St4Pt5 den -> St4\n",
      "  St4Pt10 den -> St4\n",
      "PU: PU0, TP: L1TrkEmu\n",
      "  Pt2 den -> all\n",
      "  Pt5 den -> all\n",
      "  Pt10 den -> all\n",
      "  St4Pt2 den -> St4\n",
      "  St4Pt5 den -> St4\n",
      "  St4Pt10 den -> St4\n",
      "PU: PU0, TP: EG\n",
      "  EGq2Pt10 den -> EGq2\n",
      "  EGq2Pt15 den -> EGq2\n",
      "  EGq2Pt20 den -> EGq2\n",
      "  EGq2Pt25 den -> EGq2\n",
      "  EGq2Pt30 den -> EGq2\n",
      "  EGq2Pt40 den -> EGq2\n",
      "  EGq3Pt10 den -> EGq3\n",
      "  EGq3Pt15 den -> EGq3\n",
      "  EGq3Pt20 den -> EGq3\n",
      "  EGq3Pt25 den -> EGq3\n",
      "  EGq3Pt30 den -> EGq3\n",
      "  EGq3Pt40 den -> EGq3\n",
      "  EGq4Pt10 den -> EGq4\n",
      "  EGq4Pt15 den -> EGq4\n",
      "  EGq4Pt20 den -> EGq4\n",
      "  EGq4Pt25 den -> EGq4\n",
      "  EGq4Pt30 den -> EGq4\n",
      "  EGq4Pt40 den -> EGq4\n",
      "  EGq5Pt10 den -> EGq5\n",
      "  EGq5Pt15 den -> EGq5\n",
      "  EGq5Pt20 den -> EGq5\n",
      "  EGq5Pt25 den -> EGq5\n",
      "  EGq5Pt30 den -> EGq5\n",
      "  EGq5Pt40 den -> EGq5\n",
      "PU: PU0, TP: EGBRL\n",
      "  Pt10 den -> all\n",
      "  Pt10LooseTkID den -> all\n",
      "  Pt15 den -> all\n",
      "  Pt15LooseTkID den -> all\n",
      "  Pt20 den -> all\n",
      "  Pt20LooseTkID den -> all\n",
      "  Pt25 den -> all\n",
      "  Pt25LooseTkID den -> all\n",
      "  Pt30 den -> all\n",
      "  Pt30LooseTkID den -> all\n",
      "  Pt40 den -> all\n",
      "  Pt40LooseTkID den -> all\n",
      "PU: PU0, TP: EGALL\n",
      "  Pt10 den -> all\n",
      "  Pt10LooseTkID den -> all\n",
      "  Pt15 den -> all\n",
      "  Pt15LooseTkID den -> all\n",
      "  Pt20 den -> all\n",
      "  Pt20LooseTkID den -> all\n",
      "  Pt25 den -> all\n",
      "  Pt25LooseTkID den -> all\n",
      "  Pt30 den -> all\n",
      "  Pt30LooseTkID den -> all\n"
     ]
    }
   ],
   "source": [
    "%%time\n",
    "\n",
    "for smp in hplot.data['sample'].unique():\n",
    "    print 'Sample: {}'.format(smp)\n",
    "    for pu in hplot.data[(hplot.data['sample'] == smp)].pu.unique():\n",
    "        for tp in tps:\n",
    "#         for tp in ['EG', 'TkEleEL']:\n",
    "            print 'PU: {}, TP: {}'.format(pu, tp)\n",
    "            for tp_sel in hplot.data[(hplot.data['sample'] == smp) & (hplot.data.pu == pu) & (hplot.data.tp == tp)].tp_sel.unique():\n",
    "                if 'Pt' not in tp_sel:\n",
    "                    continue\n",
    "#                 tp_sel_den = 'all'\n",
    "                # print tp_sel\n",
    "                tp_sel_den = tp_sel.split('Pt')[0]\n",
    "                if tp_sel_den == '':\n",
    "                    tp_sel_den = 'all'\n",
    "                print '  {} den -> {}'.format(tp_sel, tp_sel_den) \n",
    "                for gen_sel in hplot.data[(hplot.data['sample'] == smp) & (hplot.data.pu == pu) & (hplot.data.tp == tp) & (hplot.data.tp_sel == tp_sel)].gen_sel.unique():\n",
    "                    if gen_sel == 'nomatch' or 'Pt' in gen_sel:\n",
    "                        continue\n",
    "#                     print gen_sel\n",
    "                    hsetden = hplot.get_histo(histos.HistoSetEff, smp, pu, tp, tp_sel_den, gen_sel)\n",
    "                    hset = hplot.get_histo(histos.HistoSetEff, smp, pu, tp, tp_sel, gen_sel)\n",
    "                    hset[0][0].computeTurnOn(hsetden[0][0].h_num)\n"
   ]
  },
  {
   "cell_type": "code",
   "execution_count": null,
   "metadata": {},
   "outputs": [],
   "source": [
    "hplot.data[:10]"
   ]
  },
  {
   "cell_type": "code",
   "execution_count": null,
   "metadata": {},
   "outputs": [],
   "source": [
    "hplot.data['sample'].unique()"
   ]
  },
  {
   "cell_type": "code",
   "execution_count": null,
   "metadata": {},
   "outputs": [],
   "source": [
    "hplot.data['tp'].unique()"
   ]
  },
  {
   "cell_type": "code",
   "execution_count": null,
   "metadata": {},
   "outputs": [],
   "source": [
    "hplot.data[hplot.data.tp == 'L1TrkEmu'].tp_sel.unique()"
   ]
  },
  {
   "cell_type": "code",
   "execution_count": null,
   "metadata": {},
   "outputs": [],
   "source": [
    "hplot.data[hplot.data.tp == 'TkEle'].tp_sel.unique()"
   ]
  },
  {
   "cell_type": "code",
   "execution_count": null,
   "metadata": {},
   "outputs": [],
   "source": [
    "# sample='ele'"
   ]
  },
  {
   "cell_type": "code",
   "execution_count": null,
   "metadata": {},
   "outputs": [],
   "source": [
    "hsets, labels, text = hplot.get_histo(histos.HistoSetEff, sample, ['PU200'], 'EG', 'EGq5Pt25', ['GENEtaBC'], debug=False)\n",
    "print hsets\n",
    "hsets[0].name\n",
    "print dir(hsets[0].h_eff)\n"
   ]
  },
  {
   "cell_type": "markdown",
   "metadata": {},
   "source": [
    "## Effinciency vs $\\eta$"
   ]
  },
  {
   "cell_type": "code",
   "execution_count": 21,
   "metadata": {},
   "outputs": [
    {
     "data": {
      "text/plain": [
       "['__doc__',\n",
       " '__init__',\n",
       " '__module__',\n",
       " 'cache_histo',\n",
       " 'data',\n",
       " 'get_histo',\n",
       " 'labels_dict',\n",
       " 'pus',\n",
       " 'tp_sets']"
      ]
     },
     "execution_count": 21,
     "metadata": {},
     "output_type": "execute_result"
    }
   ],
   "source": [
    "dir(hplot)\n"
   ]
  },
  {
   "cell_type": "code",
   "execution_count": 22,
   "metadata": {},
   "outputs": [],
   "source": [
    "# newconfig=tdr_config\n",
    "# newconfig.legend_size=(0.5, 0.2)\n",
    "# newconfig.legend_position=(0.4, 0.2)\n",
    "\n",
    "# dm = DrawMachine(newconfig)\n",
    "# hsets, labels, text = hplot.get_histo(histos.HistoSetEff, ['ele-V9'], ['PU200'], ['EG'], 'EGq5Pt25', 'GENPt30', debug=False)\n",
    "# dm.addHistos([his.h_eff.h_abseta.CreateGraph() for his in hsets], ['EG calo-only'])\n",
    "\n",
    "# # hsets, labels, text = hplot.get_histo(histos.HistoSetEff, ['hybrid'], ['PU200'], ['L1Trk', ], ['Pt10'], 'GENPt30', debug=False)\n",
    "# # dm.addHistos([his.h_eff.h_abseta.CreateGraph() for his in hsets], ['L1 tracks (p_{T} > 10 GeV)'])\n",
    "# hsets, labels, text = hplot.get_histo(histos.HistoSetEff, ['ele-V9'], ['PU200'], ['TkEle', 'TkEleEL'], 'EGq5Pt25', 'GENPt30', debug=False)\n",
    "# dm.addHistos([his.h_eff.h_abseta.CreateGraph() for his in hsets], ['EG track-match', 'EG track-match (Elliptic cut)'])\n",
    "\n",
    "\n",
    "# dm.draw(text='EG endcap, p_{T}^{GEN}>25GeV', x_min=1.5, x_max=3.2, y_min=0.5, y_max=1.1, v_lines=[1.52, 2.4])\n",
    "# dm.write(name='egEndcap_matchingEffBreakdown')"
   ]
  },
  {
   "cell_type": "code",
   "execution_count": 23,
   "metadata": {},
   "outputs": [
    {
     "data": {
      "text/plain": [
       "<drawingTools.DrawMachine at 0x11c05efd0>"
      ]
     },
     "execution_count": 23,
     "metadata": {},
     "output_type": "execute_result"
    },
    {
     "data": {
      "text/html": [
       "\n",
       "<div id=\"root_plot_1\"\n",
       "     style=\"width: 796px; height: 572px\">\n",
       "</div>\n",
       "\n",
       "<script>\n",
       " requirejs.config({\n",
       "     paths: {\n",
       "       'JSRootCore' : 'https://root.cern.ch/js/notebook//scripts/JSRootCore',\n",
       "     }\n",
       "   });\n",
       " require(['JSRootCore'],\n",
       "     function(Core) {\n",
       "       var obj = Core.JSONR_unref({\"_typename\":\"TCanvas\",\"fUniqueID\":0,\"fBits\":53673992,\"fLineColor\":1,\"fLineStyle\":1,\"fLineWidth\":1,\"fFillColor\":0,\"fFillStyle\":1001,\"fLeftMargin\":0.13,\"fRightMargin\":0.3,\"fBottomMargin\":0.13,\"fTopMargin\":0.1,\"fXfile\":2,\"fYfile\":2,\"fAfile\":1,\"fXstat\":0.99,\"fYstat\":0.99,\"fAstat\":2,\"fFrameFillColor\":0,\"fFrameLineColor\":1,\"fFrameFillStyle\":1001,\"fFrameLineStyle\":1,\"fFrameLineWidth\":1,\"fFrameBorderSize\":1,\"fFrameBorderMode\":0,\"fX1\":0.764736853332731,\"fY1\":-0.185714283502611,\"fX2\":4.34368426666366,\"fY2\":1.24285714852456,\"fXtoAbsPixelk\":-170.086420951052,\"fXtoPixelk\":-170.086420951052,\"fXtoPixel\":222.411761914983,\"fYtoAbsPixelk\":497.640051065433,\"fYtoPixelk\":497.640051065433,\"fYtoPixel\":-400.399999031424,\"fUtoAbsPixelk\":5e-5,\"fUtoPixelk\":5e-5,\"fUtoPixel\":796,\"fVtoAbsPixelk\":572.00005,\"fVtoPixelk\":572,\"fVtoPixel\":-572,\"fAbsPixeltoXk\":0.764736853332731,\"fPixeltoXk\":0.764736853332731,\"fPixeltoX\":0.00449616509212428,\"fAbsPixeltoYk\":1.24285714852456,\"fPixeltoYk\":-0.185714283502611,\"fPixeltoY\":-0.00249750250354401,\"fXlowNDC\":0,\"fYlowNDC\":0,\"fXUpNDC\":0,\"fYUpNDC\":0,\"fWNDC\":1,\"fHNDC\":1,\"fAbsXlowNDC\":0,\"fAbsYlowNDC\":0,\"fAbsWNDC\":1,\"fAbsHNDC\":1,\"fUxmin\":1.23,\"fUymin\":0,\"fUxmax\":3.27,\"fUymax\":1.1,\"fTheta\":30,\"fPhi\":30,\"fAspectRatio\":0,\"fNumber\":0,\"fTickx\":0,\"fTicky\":0,\"fLogx\":0,\"fLogy\":0,\"fLogz\":0,\"fPadPaint\":0,\"fCrosshair\":0,\"fCrosshairPos\":0,\"fBorderSize\":2,\"fBorderMode\":0,\"fModified\":false,\"fGridx\":false,\"fGridy\":false,\"fAbsCoord\":false,\"fEditable\":true,\"fFixedAspectRatio\":false,\"fPrimitives\":{\"_typename\":\"TList\",\"name\":\"TList\",\"arr\":[{\"_typename\":\"TFrame\",\"fUniqueID\":0,\"fBits\":50331656,\"fLineColor\":1,\"fLineStyle\":1,\"fLineWidth\":1,\"fFillColor\":0,\"fFillStyle\":1001,\"fX1\":1.23,\"fY1\":0,\"fX2\":3.27,\"fY2\":1.1,\"fBorderSize\":1,\"fBorderMode\":0},{\"_typename\":\"TGraphAsymmErrors\",\"fUniqueID\":0,\"fBits\":50332680,\"fName\":\"e7847f\",\"fTitle\":\"; |#eta^{GEN}|;\",\"fLineColor\":1,\"fLineStyle\":1,\"fLineWidth\":1,\"fFillColor\":0,\"fFillStyle\":1001,\"fMarkerColor\":1,\"fMarkerStyle\":8,\"fMarkerSize\":0.5,\"fNpoints\":17,\"fX\":[1.45,1.55,1.65,1.75,1.85,1.95,2.05,2.15,2.25,2.35,2.45,2.55,2.65,2.75,2.85,2.95,3.05],\"fY\":[0.0012666244458518,0.695126419934042,0.86583522297808,0.864394488759971,0.87956487956488,0.864432597105864,0.878280715100799,0.857254290171607,0.852789869410368,0.815758526068209,0.290361445783133,0.00164338537387017,0,0,0,0,0],\"fFunctions\":{\"_typename\":\"TList\",\"name\":\"TList\",\"arr\":[],\"opt\":[]},\"fHistogram\":{\"_typename\":\"TH1F\",\"fUniqueID\":0,\"fBits\":50332160,\"fName\":\"e7847f\",\"fTitle\":\"\",\"fLineColor\":602,\"fLineStyle\":1,\"fLineWidth\":1,\"fFillColor\":0,\"fFillStyle\":1001,\"fMarkerColor\":1,\"fMarkerStyle\":1,\"fMarkerSize\":1,\"fNcells\":102,\"fXaxis\":{\"_typename\":\"TAxis\",\"fUniqueID\":0,\"fBits\":50331656,\"fName\":\"xaxis\",\"fTitle\":\" |#eta^{GEN}|\",\"fNdivisions\":510,\"fAxisColor\":1,\"fLabelColor\":1,\"fLabelFont\":42,\"fLabelOffset\":0.005,\"fLabelSize\":0.035,\"fTickLength\":0.03,\"fTitleOffset\":1.4,\"fTitleSize\":0.035,\"fTitleColor\":1,\"fTitleFont\":42,\"fNbins\":100,\"fXmin\":1.23,\"fXmax\":3.27,\"fXbins\":[],\"fFirst\":0,\"fLast\":0,\"fBits2\":0,\"fTimeDisplay\":false,\"fTimeFormat\":\"\",\"fLabels\":null,\"fModLabs\":null},\"fYaxis\":{\"_typename\":\"TAxis\",\"fUniqueID\":0,\"fBits\":50331656,\"fName\":\"yaxis\",\"fTitle\":\"\",\"fNdivisions\":510,\"fAxisColor\":1,\"fLabelColor\":1,\"fLabelFont\":42,\"fLabelOffset\":0.005,\"fLabelSize\":0.035,\"fTickLength\":0.03,\"fTitleOffset\":0,\"fTitleSize\":0.035,\"fTitleColor\":1,\"fTitleFont\":42,\"fNbins\":1,\"fXmin\":0,\"fXmax\":0.974624401832365,\"fXbins\":[],\"fFirst\":0,\"fLast\":0,\"fBits2\":0,\"fTimeDisplay\":false,\"fTimeFormat\":\"\",\"fLabels\":null,\"fModLabs\":null},\"fZaxis\":{\"_typename\":\"TAxis\",\"fUniqueID\":0,\"fBits\":50331648,\"fName\":\"zaxis\",\"fTitle\":\"\",\"fNdivisions\":510,\"fAxisColor\":1,\"fLabelColor\":1,\"fLabelFont\":42,\"fLabelOffset\":0.005,\"fLabelSize\":0.035,\"fTickLength\":0.03,\"fTitleOffset\":1,\"fTitleSize\":0.035,\"fTitleColor\":1,\"fTitleFont\":42,\"fNbins\":1,\"fXmin\":0,\"fXmax\":1,\"fXbins\":[],\"fFirst\":0,\"fLast\":0,\"fBits2\":0,\"fTimeDisplay\":false,\"fTimeFormat\":\"\",\"fLabels\":null,\"fModLabs\":null},\"fBarOffset\":0,\"fBarWidth\":1000,\"fEntries\":0,\"fTsumw\":0,\"fTsumw2\":0,\"fTsumwx\":0,\"fTsumwx2\":0,\"fMaximum\":1.1,\"fMinimum\":0,\"fNormFactor\":0,\"fContour\":[],\"fSumw2\":[],\"fOption\":\"\",\"fFunctions\":{\"_typename\":\"TList\",\"name\":\"TList\",\"arr\":[],\"opt\":[]},\"fBufferSize\":0,\"fBuffer\":[],\"fBinStatErrOpt\":0,\"fStatOverflows\":2,\"fArray\":[0,0,0,0,0,0,0,0,0,0,0,0,0,0,0,0,0,0,0,0,0,0,0,0,0,0,0,0,0,0,0,0,0,0,0,0,0,0,0,0,0,0,0,0,0,0,0,0,0,0,0,0,0,0,0,0,0,0,0,0,0,0,0,0,0,0,0,0,0,0,0,0,0,0,0,0,0,0,0,0,0,0,0,0,0,0,0,0,0,0,0,0,0,0,0,0,0,0,0,0,0,0]},\"fMinimum\":-1111,\"fMaximum\":-1111,\"fEXlow\":[0.05,0.05,0.05,0.05,0.05,0.05,0.0499999999999998,0.0499999999999998,0.0499999999999998,0.0499999999999998,0.0499999999999998,0.0499999999999998,0.0499999999999998,0.0499999999999998,0.0499999999999998,0.0499999999999998,0.0499999999999998],\"fEXhigh\":[0.05,0.05,0.05,0.05,0.05,0.05,0.0500000000000002,0.0500000000000002,0.0500000000000002,0.0500000000000002,0.0500000000000002,0.0500000000000002,0.0500000000000002,0.0500000000000002,0.0500000000000002,0.0500000000000002,0.0500000000000002],\"fEYlow\":[8.18080482788381e-4,0.00906701522645048,0.00695662891638016,0.00683595174058516,0.00676109121291346,0.00701301997391068,0.006714903945366,0.00724615369679793,0.00738915152336495,0.00799771715142605,0.00920991993277176,7.86338202947952e-4,0,0,0,0,0],\"fEYhigh\":[0.00166813608953263,0.00892107213831816,0.00667228354077665,0.00656441317504253,0.0064573039190885,0.0067276127472814,0.00641860799334382,0.00695968116562085,0.00710216138091047,0.00774389691316768,0.00938197967661619,0.00129749384450676,7.36137575693496e-4,7.58270935378779e-4,7.91183686926042e-4,7.76500748997812e-4,8.33071384004181e-4]},{\"_typename\":\"TLatex\",\"fUniqueID\":0,\"fBits\":50348040,\"fName\":\"\",\"fTitle\":\"PU200, TkEle Ell. match, hwQual 5, p_{T}^{L1}>=10GeV, p_{T}^{GEN}>=15GeV\",\"fTextAngle\":0,\"fTextSize\":0.03,\"fTextAlign\":11,\"fTextColor\":1,\"fTextFont\":62,\"fX\":0.15,\"fY\":0.85,\"fLineColor\":1,\"fLineStyle\":1,\"fLineWidth\":2,\"fLimitFactorSize\":3,\"fOriginSize\":0.04},{\"_typename\":\"TLatex\",\"fUniqueID\":0,\"fBits\":50331656,\"fName\":\"\",\"fTitle\":\"\",\"fTextAngle\":0,\"fTextSize\":0.03,\"fTextAlign\":11,\"fTextColor\":1,\"fTextFont\":62,\"fX\":0,\"fY\":0,\"fLineColor\":1,\"fLineStyle\":1,\"fLineWidth\":2,\"fLimitFactorSize\":3,\"fOriginSize\":0.04},{\"_typename\":\"TLine\",\"fUniqueID\":0,\"fBits\":50331656,\"fLineColor\":1,\"fLineStyle\":2,\"fLineWidth\":1,\"fX1\":-2.8,\"fY1\":0,\"fX2\":-2.8,\"fY2\":1.1},{\"_typename\":\"TLine\",\"fUniqueID\":0,\"fBits\":50331656,\"fLineColor\":1,\"fLineStyle\":2,\"fLineWidth\":1,\"fX1\":-2.4,\"fY1\":0,\"fX2\":-2.4,\"fY2\":1.1},{\"_typename\":\"TLine\",\"fUniqueID\":0,\"fBits\":50331656,\"fLineColor\":1,\"fLineStyle\":2,\"fLineWidth\":1,\"fX1\":-1.7,\"fY1\":0,\"fX2\":-1.7,\"fY2\":1.1},{\"_typename\":\"TLine\",\"fUniqueID\":0,\"fBits\":50331656,\"fLineColor\":1,\"fLineStyle\":2,\"fLineWidth\":1,\"fX1\":-1.52,\"fY1\":0,\"fX2\":-1.52,\"fY2\":1.1},{\"_typename\":\"TLine\",\"fUniqueID\":0,\"fBits\":50331656,\"fLineColor\":1,\"fLineStyle\":2,\"fLineWidth\":1,\"fX1\":1.52,\"fY1\":0,\"fX2\":1.52,\"fY2\":1.1},{\"_typename\":\"TLine\",\"fUniqueID\":0,\"fBits\":50331656,\"fLineColor\":1,\"fLineStyle\":2,\"fLineWidth\":1,\"fX1\":1.7,\"fY1\":0,\"fX2\":1.7,\"fY2\":1.1},{\"_typename\":\"TLine\",\"fUniqueID\":0,\"fBits\":50331656,\"fLineColor\":1,\"fLineStyle\":2,\"fLineWidth\":1,\"fX1\":2.4,\"fY1\":0,\"fX2\":2.4,\"fY2\":1.1},{\"_typename\":\"TLine\",\"fUniqueID\":0,\"fBits\":50331656,\"fLineColor\":1,\"fLineStyle\":2,\"fLineWidth\":1,\"fX1\":2.8,\"fY1\":0,\"fX2\":2.8,\"fY2\":1.1}],\"opt\":[\"\",\"pa\",\"same\",\"same\",\"same\",\"same\",\"same\",\"same\",\"same\",\"same\",\"same\",\"same\"]},\"fExecs\":null,\"fName\":\"c_ec2af3\",\"fTitle\":\"c_ec2af3\",\"fNumPaletteColor\":0,\"fNextPaletteColor\":0,\"fDISPLAY\":\"$DISPLAY\",\"fDoubleBuffer\":0,\"fRetained\":true,\"fXsizeUser\":0,\"fYsizeUser\":0,\"fXsizeReal\":20,\"fYsizeReal\":15,\"fWindowTopX\":0,\"fWindowTopY\":0,\"fWindowWidth\":0,\"fWindowHeight\":0,\"fCw\":796,\"fCh\":572,\"fCatt\":{\"_typename\":\"TAttCanvas\",\"fXBetween\":2,\"fYBetween\":2,\"fTitleFromTop\":1.2,\"fXdate\":0.2,\"fYdate\":0.3,\"fAdate\":1},\"kMoveOpaque\":true,\"kResizeOpaque\":true,\"fHighLightColor\":2,\"fBatch\":true,\"kShowEventStatus\":false,\"kAutoExec\":true,\"kMenuBar\":true});\n",
       "       Core.draw(\"root_plot_1\", obj, \"\");\n",
       "     }\n",
       " );\n",
       "</script>\n"
      ],
      "text/plain": [
       "<IPython.core.display.HTML object>"
      ]
     },
     "metadata": {},
     "output_type": "display_data"
    }
   ],
   "source": [
    "hsets, labels, text = hplot.get_histo(histos.HistoSetEff, ['ele-V9'], ['PU200'], ['TkEleEL'], 'EGq5Pt10', 'GENPt15', debug=False)\n",
    "draw([his.h_eff.h_abseta.CreateGraph() for his in hsets], labels, text=text, min_y=0, max_y=1.1, v_lines=[-2.8, -2.4, -1.7, -1.52, 1.52, 1.7, 2.4, 2.8])\n"
   ]
  },
  {
   "cell_type": "code",
   "execution_count": 24,
   "metadata": {
    "scrolled": false
   },
   "outputs": [],
   "source": [
    "# for tp in tps:\n",
    "#     for tp_sel in tp_select[tp]:\n",
    "#         for gen_sel in ['GEN']:\n",
    "#             hsets, labels, text = hplot.get_histo(histos.HistoSetEff, ['hybrid', 'ele-V9'], ['PU200'], tp, tp_sel, gen_sel, debug=False)\n",
    "#             # drawSeveral([his.hreso.h_ptResVpt for his in hsets], labels,  'COLZ', do_profile=True, text=text)\n",
    "#             draw([his.h_eff.h_eta.CreateGraph() for his in hsets], labels, text=text, min_y=0, max_y=1.1, v_lines=[-2.8, -2.4, -1.7, -1.52, 1.52, 1.7, 2.4, 2.8])\n",
    "# #             print [his.h_num.h_eta.GetName() for his in hsets]"
   ]
  },
  {
   "cell_type": "code",
   "execution_count": 25,
   "metadata": {},
   "outputs": [
    {
     "data": {
      "text/plain": [
       "<drawingTools.DrawMachine at 0x118914050>"
      ]
     },
     "execution_count": 25,
     "metadata": {},
     "output_type": "execute_result"
    },
    {
     "data": {
      "text/html": [
       "\n",
       "<div id=\"root_plot_2\"\n",
       "     style=\"width: 796px; height: 572px\">\n",
       "</div>\n",
       "\n",
       "<script>\n",
       " requirejs.config({\n",
       "     paths: {\n",
       "       'JSRootCore' : 'https://root.cern.ch/js/notebook//scripts/JSRootCore',\n",
       "     }\n",
       "   });\n",
       " require(['JSRootCore'],\n",
       "     function(Core) {\n",
       "       var obj = Core.JSONR_unref({\"_typename\":\"TCanvas\",\"fUniqueID\":0,\"fBits\":53673992,\"fLineColor\":1,\"fLineStyle\":1,\"fLineWidth\":1,\"fFillColor\":0,\"fFillStyle\":1001,\"fLeftMargin\":0.13,\"fRightMargin\":0.3,\"fBottomMargin\":0.13,\"fTopMargin\":0.1,\"fXfile\":2,\"fYfile\":2,\"fAfile\":1,\"fXstat\":0.99,\"fYstat\":0.99,\"fAstat\":2,\"fFrameFillColor\":0,\"fFrameLineColor\":1,\"fFrameFillStyle\":1001,\"fFrameLineStyle\":1,\"fFrameLineWidth\":1,\"fFrameBorderSize\":1,\"fFrameBorderMode\":0,\"fX1\":0.764736853332731,\"fY1\":-0.185714283502611,\"fX2\":4.34368426666366,\"fY2\":1.24285714852456,\"fXtoAbsPixelk\":-170.086420951052,\"fXtoPixelk\":-170.086420951052,\"fXtoPixel\":222.411761914983,\"fYtoAbsPixelk\":497.640051065433,\"fYtoPixelk\":497.640051065433,\"fYtoPixel\":-400.399999031424,\"fUtoAbsPixelk\":5e-5,\"fUtoPixelk\":5e-5,\"fUtoPixel\":796,\"fVtoAbsPixelk\":572.00005,\"fVtoPixelk\":572,\"fVtoPixel\":-572,\"fAbsPixeltoXk\":0.764736853332731,\"fPixeltoXk\":0.764736853332731,\"fPixeltoX\":0.00449616509212428,\"fAbsPixeltoYk\":1.24285714852456,\"fPixeltoYk\":-0.185714283502611,\"fPixeltoY\":-0.00249750250354401,\"fXlowNDC\":0,\"fYlowNDC\":0,\"fXUpNDC\":0,\"fYUpNDC\":0,\"fWNDC\":1,\"fHNDC\":1,\"fAbsXlowNDC\":0,\"fAbsYlowNDC\":0,\"fAbsWNDC\":1,\"fAbsHNDC\":1,\"fUxmin\":1.23,\"fUymin\":0,\"fUxmax\":3.27,\"fUymax\":1.1,\"fTheta\":30,\"fPhi\":30,\"fAspectRatio\":0,\"fNumber\":0,\"fTickx\":0,\"fTicky\":0,\"fLogx\":0,\"fLogy\":0,\"fLogz\":0,\"fPadPaint\":0,\"fCrosshair\":0,\"fCrosshairPos\":0,\"fBorderSize\":2,\"fBorderMode\":0,\"fModified\":false,\"fGridx\":false,\"fGridy\":false,\"fAbsCoord\":false,\"fEditable\":true,\"fFixedAspectRatio\":false,\"fPrimitives\":{\"_typename\":\"TList\",\"name\":\"TList\",\"arr\":[{\"_typename\":\"TFrame\",\"fUniqueID\":0,\"fBits\":50331656,\"fLineColor\":1,\"fLineStyle\":1,\"fLineWidth\":1,\"fFillColor\":0,\"fFillStyle\":1001,\"fX1\":1.23,\"fY1\":0,\"fX2\":3.27,\"fY2\":1.1,\"fBorderSize\":1,\"fBorderMode\":0},{\"_typename\":\"TGraphAsymmErrors\",\"fUniqueID\":0,\"fBits\":50332680,\"fName\":\"c34178\",\"fTitle\":\"; |#eta^{GEN}|;\",\"fLineColor\":1,\"fLineStyle\":1,\"fLineWidth\":1,\"fFillColor\":0,\"fFillStyle\":1001,\"fMarkerColor\":1,\"fMarkerStyle\":8,\"fMarkerSize\":0.5,\"fNpoints\":17,\"fX\":[1.45,1.55,1.65,1.75,1.85,1.95,2.05,2.15,2.25,2.35,2.45,2.55,2.65,2.75,2.85,2.95,3.05],\"fY\":[0.0012666244458518,0.695126419934042,0.86583522297808,0.864394488759971,0.87956487956488,0.864432597105864,0.878280715100799,0.857254290171607,0.852789869410368,0.815758526068209,0.290361445783133,0.00164338537387017,0,0,0,0,0],\"fFunctions\":{\"_typename\":\"TList\",\"name\":\"TList\",\"arr\":[],\"opt\":[]},\"fHistogram\":{\"_typename\":\"TH1F\",\"fUniqueID\":0,\"fBits\":50332160,\"fName\":\"c34178\",\"fTitle\":\"\",\"fLineColor\":602,\"fLineStyle\":1,\"fLineWidth\":1,\"fFillColor\":0,\"fFillStyle\":1001,\"fMarkerColor\":1,\"fMarkerStyle\":1,\"fMarkerSize\":1,\"fNcells\":102,\"fXaxis\":{\"_typename\":\"TAxis\",\"fUniqueID\":0,\"fBits\":50331656,\"fName\":\"xaxis\",\"fTitle\":\" |#eta^{GEN}|\",\"fNdivisions\":510,\"fAxisColor\":1,\"fLabelColor\":1,\"fLabelFont\":42,\"fLabelOffset\":0.005,\"fLabelSize\":0.035,\"fTickLength\":0.03,\"fTitleOffset\":1.4,\"fTitleSize\":0.035,\"fTitleColor\":1,\"fTitleFont\":42,\"fNbins\":100,\"fXmin\":1.23,\"fXmax\":3.27,\"fXbins\":[],\"fFirst\":0,\"fLast\":0,\"fBits2\":0,\"fTimeDisplay\":false,\"fTimeFormat\":\"\",\"fLabels\":null,\"fModLabs\":null},\"fYaxis\":{\"_typename\":\"TAxis\",\"fUniqueID\":0,\"fBits\":50331656,\"fName\":\"yaxis\",\"fTitle\":\"\",\"fNdivisions\":510,\"fAxisColor\":1,\"fLabelColor\":1,\"fLabelFont\":42,\"fLabelOffset\":0.005,\"fLabelSize\":0.035,\"fTickLength\":0.03,\"fTitleOffset\":0,\"fTitleSize\":0.035,\"fTitleColor\":1,\"fTitleFont\":42,\"fNbins\":1,\"fXmin\":0,\"fXmax\":0.974624401832365,\"fXbins\":[],\"fFirst\":0,\"fLast\":0,\"fBits2\":0,\"fTimeDisplay\":false,\"fTimeFormat\":\"\",\"fLabels\":null,\"fModLabs\":null},\"fZaxis\":{\"_typename\":\"TAxis\",\"fUniqueID\":0,\"fBits\":50331648,\"fName\":\"zaxis\",\"fTitle\":\"\",\"fNdivisions\":510,\"fAxisColor\":1,\"fLabelColor\":1,\"fLabelFont\":42,\"fLabelOffset\":0.005,\"fLabelSize\":0.035,\"fTickLength\":0.03,\"fTitleOffset\":1,\"fTitleSize\":0.035,\"fTitleColor\":1,\"fTitleFont\":42,\"fNbins\":1,\"fXmin\":0,\"fXmax\":1,\"fXbins\":[],\"fFirst\":0,\"fLast\":0,\"fBits2\":0,\"fTimeDisplay\":false,\"fTimeFormat\":\"\",\"fLabels\":null,\"fModLabs\":null},\"fBarOffset\":0,\"fBarWidth\":1000,\"fEntries\":0,\"fTsumw\":0,\"fTsumw2\":0,\"fTsumwx\":0,\"fTsumwx2\":0,\"fMaximum\":1.1,\"fMinimum\":0,\"fNormFactor\":0,\"fContour\":[],\"fSumw2\":[],\"fOption\":\"\",\"fFunctions\":{\"_typename\":\"TList\",\"name\":\"TList\",\"arr\":[],\"opt\":[]},\"fBufferSize\":0,\"fBuffer\":[],\"fBinStatErrOpt\":0,\"fStatOverflows\":2,\"fArray\":[0,0,0,0,0,0,0,0,0,0,0,0,0,0,0,0,0,0,0,0,0,0,0,0,0,0,0,0,0,0,0,0,0,0,0,0,0,0,0,0,0,0,0,0,0,0,0,0,0,0,0,0,0,0,0,0,0,0,0,0,0,0,0,0,0,0,0,0,0,0,0,0,0,0,0,0,0,0,0,0,0,0,0,0,0,0,0,0,0,0,0,0,0,0,0,0,0,0,0,0,0,0]},\"fMinimum\":-1111,\"fMaximum\":-1111,\"fEXlow\":[0.05,0.05,0.05,0.05,0.05,0.05,0.0499999999999998,0.0499999999999998,0.0499999999999998,0.0499999999999998,0.0499999999999998,0.0499999999999998,0.0499999999999998,0.0499999999999998,0.0499999999999998,0.0499999999999998,0.0499999999999998],\"fEXhigh\":[0.05,0.05,0.05,0.05,0.05,0.05,0.0500000000000002,0.0500000000000002,0.0500000000000002,0.0500000000000002,0.0500000000000002,0.0500000000000002,0.0500000000000002,0.0500000000000002,0.0500000000000002,0.0500000000000002,0.0500000000000002],\"fEYlow\":[8.18080482788381e-4,0.00906701522645048,0.00695662891638016,0.00683595174058516,0.00676109121291346,0.00701301997391068,0.006714903945366,0.00724615369679793,0.00738915152336495,0.00799771715142605,0.00920991993277176,7.86338202947952e-4,0,0,0,0,0],\"fEYhigh\":[0.00166813608953263,0.00892107213831816,0.00667228354077665,0.00656441317504253,0.0064573039190885,0.0067276127472814,0.00641860799334382,0.00695968116562085,0.00710216138091047,0.00774389691316768,0.00938197967661619,0.00129749384450676,7.36137575693496e-4,7.58270935378779e-4,7.91183686926042e-4,7.76500748997812e-4,8.33071384004181e-4]},{\"_typename\":\"TLatex\",\"fUniqueID\":0,\"fBits\":50348040,\"fName\":\"\",\"fTitle\":\"PU200, TkEle Ell. match, hwQual 5, p_{T}^{L1}>=10GeV, p_{T}^{GEN}>=15GeV\",\"fTextAngle\":0,\"fTextSize\":0.03,\"fTextAlign\":11,\"fTextColor\":1,\"fTextFont\":62,\"fX\":0.15,\"fY\":0.85,\"fLineColor\":1,\"fLineStyle\":1,\"fLineWidth\":2,\"fLimitFactorSize\":3,\"fOriginSize\":0.04},{\"_typename\":\"TLatex\",\"fUniqueID\":0,\"fBits\":50331656,\"fName\":\"\",\"fTitle\":\"\",\"fTextAngle\":0,\"fTextSize\":0.03,\"fTextAlign\":11,\"fTextColor\":1,\"fTextFont\":62,\"fX\":0,\"fY\":0,\"fLineColor\":1,\"fLineStyle\":1,\"fLineWidth\":2,\"fLimitFactorSize\":3,\"fOriginSize\":0.04},{\"_typename\":\"TLine\",\"fUniqueID\":0,\"fBits\":50331656,\"fLineColor\":1,\"fLineStyle\":2,\"fLineWidth\":1,\"fX1\":-2.8,\"fY1\":0,\"fX2\":-2.8,\"fY2\":1.1},{\"_typename\":\"TLine\",\"fUniqueID\":0,\"fBits\":50331656,\"fLineColor\":1,\"fLineStyle\":2,\"fLineWidth\":1,\"fX1\":-2.4,\"fY1\":0,\"fX2\":-2.4,\"fY2\":1.1},{\"_typename\":\"TLine\",\"fUniqueID\":0,\"fBits\":50331656,\"fLineColor\":1,\"fLineStyle\":2,\"fLineWidth\":1,\"fX1\":-1.7,\"fY1\":0,\"fX2\":-1.7,\"fY2\":1.1},{\"_typename\":\"TLine\",\"fUniqueID\":0,\"fBits\":50331656,\"fLineColor\":1,\"fLineStyle\":2,\"fLineWidth\":1,\"fX1\":-1.52,\"fY1\":0,\"fX2\":-1.52,\"fY2\":1.1},{\"_typename\":\"TLine\",\"fUniqueID\":0,\"fBits\":50331656,\"fLineColor\":1,\"fLineStyle\":2,\"fLineWidth\":1,\"fX1\":1.52,\"fY1\":0,\"fX2\":1.52,\"fY2\":1.1},{\"_typename\":\"TLine\",\"fUniqueID\":0,\"fBits\":50331656,\"fLineColor\":1,\"fLineStyle\":2,\"fLineWidth\":1,\"fX1\":1.7,\"fY1\":0,\"fX2\":1.7,\"fY2\":1.1},{\"_typename\":\"TLine\",\"fUniqueID\":0,\"fBits\":50331656,\"fLineColor\":1,\"fLineStyle\":2,\"fLineWidth\":1,\"fX1\":2.4,\"fY1\":0,\"fX2\":2.4,\"fY2\":1.1},{\"_typename\":\"TLine\",\"fUniqueID\":0,\"fBits\":50331656,\"fLineColor\":1,\"fLineStyle\":2,\"fLineWidth\":1,\"fX1\":2.8,\"fY1\":0,\"fX2\":2.8,\"fY2\":1.1}],\"opt\":[\"\",\"pa\",\"same\",\"same\",\"same\",\"same\",\"same\",\"same\",\"same\",\"same\",\"same\",\"same\"]},\"fExecs\":null,\"fName\":\"c_60fb0a\",\"fTitle\":\"c_60fb0a\",\"fNumPaletteColor\":0,\"fNextPaletteColor\":0,\"fDISPLAY\":\"$DISPLAY\",\"fDoubleBuffer\":0,\"fRetained\":true,\"fXsizeUser\":0,\"fYsizeUser\":0,\"fXsizeReal\":20,\"fYsizeReal\":15,\"fWindowTopX\":0,\"fWindowTopY\":0,\"fWindowWidth\":0,\"fWindowHeight\":0,\"fCw\":796,\"fCh\":572,\"fCatt\":{\"_typename\":\"TAttCanvas\",\"fXBetween\":2,\"fYBetween\":2,\"fTitleFromTop\":1.2,\"fXdate\":0.2,\"fYdate\":0.3,\"fAdate\":1},\"kMoveOpaque\":true,\"kResizeOpaque\":true,\"fHighLightColor\":2,\"fBatch\":true,\"kShowEventStatus\":false,\"kAutoExec\":true,\"kMenuBar\":true});\n",
       "       Core.draw(\"root_plot_2\", obj, \"\");\n",
       "     }\n",
       " );\n",
       "</script>\n"
      ],
      "text/plain": [
       "<IPython.core.display.HTML object>"
      ]
     },
     "metadata": {},
     "output_type": "display_data"
    }
   ],
   "source": [
    "hsets, labels, text = hplot.get_histo(histos.HistoSetEff, ['hybrid', 'ele-V9'], ['PU200'], 'TkEleEL', 'EGq5Pt10', 'GENPt15', debug=False)\n",
    "draw([his.h_eff.h_abseta.CreateGraph() for his in hsets], labels, text=text, min_y=0, max_y=1.1, v_lines=[-2.8, -2.4, -1.7, -1.52, 1.52, 1.7, 2.4, 2.8])\n"
   ]
  },
  {
   "cell_type": "code",
   "execution_count": 26,
   "metadata": {},
   "outputs": [
    {
     "data": {
      "text/plain": [
       "<drawingTools.DrawMachine at 0x11c03efd0>"
      ]
     },
     "execution_count": 26,
     "metadata": {},
     "output_type": "execute_result"
    },
    {
     "data": {
      "text/html": [
       "\n",
       "<div id=\"root_plot_3\"\n",
       "     style=\"width: 796px; height: 572px\">\n",
       "</div>\n",
       "\n",
       "<script>\n",
       " requirejs.config({\n",
       "     paths: {\n",
       "       'JSRootCore' : 'https://root.cern.ch/js/notebook//scripts/JSRootCore',\n",
       "     }\n",
       "   });\n",
       " require(['JSRootCore'],\n",
       "     function(Core) {\n",
       "       var obj = Core.JSONR_unref({\"_typename\":\"TCanvas\",\"fUniqueID\":0,\"fBits\":53673992,\"fLineColor\":1,\"fLineStyle\":1,\"fLineWidth\":1,\"fFillColor\":0,\"fFillStyle\":1001,\"fLeftMargin\":0.13,\"fRightMargin\":0.3,\"fBottomMargin\":0.13,\"fTopMargin\":0.1,\"fXfile\":2,\"fYfile\":2,\"fAfile\":1,\"fXstat\":0.99,\"fYstat\":0.99,\"fAstat\":2,\"fFrameFillColor\":0,\"fFrameLineColor\":1,\"fFrameFillStyle\":1001,\"fFrameLineStyle\":1,\"fFrameLineWidth\":1,\"fFrameBorderSize\":1,\"fFrameBorderMode\":0,\"fX1\":-0.777719279478131,\"fY1\":-0.185714283502611,\"fX2\":5.20473693594268,\"fY2\":1.24285714852456,\"fXtoAbsPixelk\":103.480046204376,\"fXtoPixelk\":103.480046204376,\"fXtoPixel\":133.055716805444,\"fYtoAbsPixelk\":497.640051065433,\"fYtoPixelk\":497.640051065433,\"fYtoPixel\":-400.399999031424,\"fUtoAbsPixelk\":5e-5,\"fUtoPixelk\":5e-5,\"fUtoPixel\":796,\"fVtoAbsPixelk\":572.00005,\"fVtoPixelk\":572,\"fVtoPixel\":-572,\"fAbsPixeltoXk\":-0.777719279478131,\"fPixeltoXk\":-0.777719279478131,\"fPixeltoX\":0.00751564851183519,\"fAbsPixeltoYk\":1.24285714852456,\"fPixeltoYk\":-0.185714283502611,\"fPixeltoY\":-0.00249750250354401,\"fXlowNDC\":0,\"fYlowNDC\":0,\"fXUpNDC\":0,\"fYUpNDC\":0,\"fWNDC\":1,\"fHNDC\":1,\"fAbsXlowNDC\":0,\"fAbsYlowNDC\":0,\"fAbsWNDC\":1,\"fAbsHNDC\":1,\"fUxmin\":0,\"fUymin\":0,\"fUxmax\":3.41,\"fUymax\":1.1,\"fTheta\":30,\"fPhi\":30,\"fAspectRatio\":0,\"fNumber\":0,\"fTickx\":0,\"fTicky\":0,\"fLogx\":0,\"fLogy\":0,\"fLogz\":0,\"fPadPaint\":0,\"fCrosshair\":0,\"fCrosshairPos\":0,\"fBorderSize\":2,\"fBorderMode\":0,\"fModified\":false,\"fGridx\":false,\"fGridy\":false,\"fAbsCoord\":false,\"fEditable\":true,\"fFixedAspectRatio\":false,\"fPrimitives\":{\"_typename\":\"TList\",\"name\":\"TList\",\"arr\":[{\"_typename\":\"TFrame\",\"fUniqueID\":0,\"fBits\":50331656,\"fLineColor\":1,\"fLineStyle\":1,\"fLineWidth\":1,\"fFillColor\":0,\"fFillStyle\":1001,\"fX1\":0,\"fY1\":0,\"fX2\":3.41,\"fY2\":1.1,\"fBorderSize\":1,\"fBorderMode\":0},{\"_typename\":\"TGraphAsymmErrors\",\"fUniqueID\":0,\"fBits\":50332680,\"fName\":\"b1f73d\",\"fTitle\":\"; |#eta^{GEN}|;\",\"fLineColor\":1,\"fLineStyle\":1,\"fLineWidth\":1,\"fFillColor\":0,\"fFillStyle\":1001,\"fMarkerColor\":1,\"fMarkerStyle\":8,\"fMarkerSize\":0.5,\"fNpoints\":31,\"fX\":[0.05,0.15,0.25,0.35,0.45,0.55,0.65,0.75,0.85,0.95,1.05,1.15,1.25,1.35,1.45,1.55,1.65,1.75,1.85,1.95,2.05,2.15,2.25,2.35,2.45,2.55,2.65,2.75,2.85,2.95,3.05],\"fY\":[0.819424460431655,0.907297096053611,0.896127397756062,0.906216313330938,0.880961048416454,0.888888888888889,0.887982984757178,0.909562638991846,0.885724331926864,0.881153305203938,0.885824022346369,0.871749824314828,0.872063606794362,0.862535612535613,0.731733145075891,0.702007749207467,0.866039102099928,0.863414634146341,0.877251010657846,0.862801584443644,0.87708703374778,0.854630294328787,0.855124954726548,0.808839381961912,0.28929219600726,0.0018201674554059,0,0,0,0,0],\"fFunctions\":{\"_typename\":\"TList\",\"name\":\"TList\",\"arr\":[],\"opt\":[]},\"fHistogram\":{\"_typename\":\"TH1F\",\"fUniqueID\":0,\"fBits\":50332160,\"fName\":\"b1f73d\",\"fTitle\":\"\",\"fLineColor\":602,\"fLineStyle\":1,\"fLineWidth\":1,\"fFillColor\":0,\"fFillStyle\":1001,\"fMarkerColor\":1,\"fMarkerStyle\":1,\"fMarkerSize\":1,\"fNcells\":102,\"fXaxis\":{\"_typename\":\"TAxis\",\"fUniqueID\":0,\"fBits\":50331656,\"fName\":\"xaxis\",\"fTitle\":\" |#eta^{GEN}|\",\"fNdivisions\":510,\"fAxisColor\":1,\"fLabelColor\":1,\"fLabelFont\":42,\"fLabelOffset\":0.005,\"fLabelSize\":0.035,\"fTickLength\":0.03,\"fTitleOffset\":1.4,\"fTitleSize\":0.035,\"fTitleColor\":1,\"fTitleFont\":42,\"fNbins\":100,\"fXmin\":0,\"fXmax\":3.41,\"fXbins\":[],\"fFirst\":0,\"fLast\":0,\"fBits2\":0,\"fTimeDisplay\":false,\"fTimeFormat\":\"\",\"fLabels\":null,\"fModLabs\":null},\"fYaxis\":{\"_typename\":\"TAxis\",\"fUniqueID\":0,\"fBits\":50331656,\"fName\":\"yaxis\",\"fTitle\":\"\",\"fNdivisions\":510,\"fAxisColor\":1,\"fLabelColor\":1,\"fLabelFont\":42,\"fLabelOffset\":0.005,\"fLabelSize\":0.035,\"fTickLength\":0.03,\"fTitleOffset\":0,\"fTitleSize\":0.035,\"fTitleColor\":1,\"fTitleFont\":42,\"fNbins\":1,\"fXmin\":0,\"fXmax\":1.00662435026749,\"fXbins\":[],\"fFirst\":0,\"fLast\":0,\"fBits2\":0,\"fTimeDisplay\":false,\"fTimeFormat\":\"\",\"fLabels\":null,\"fModLabs\":null},\"fZaxis\":{\"_typename\":\"TAxis\",\"fUniqueID\":0,\"fBits\":50331648,\"fName\":\"zaxis\",\"fTitle\":\"\",\"fNdivisions\":510,\"fAxisColor\":1,\"fLabelColor\":1,\"fLabelFont\":42,\"fLabelOffset\":0.005,\"fLabelSize\":0.035,\"fTickLength\":0.03,\"fTitleOffset\":1,\"fTitleSize\":0.035,\"fTitleColor\":1,\"fTitleFont\":42,\"fNbins\":1,\"fXmin\":0,\"fXmax\":1,\"fXbins\":[],\"fFirst\":0,\"fLast\":0,\"fBits2\":0,\"fTimeDisplay\":false,\"fTimeFormat\":\"\",\"fLabels\":null,\"fModLabs\":null},\"fBarOffset\":0,\"fBarWidth\":1000,\"fEntries\":0,\"fTsumw\":0,\"fTsumw2\":0,\"fTsumwx\":0,\"fTsumwx2\":0,\"fMaximum\":1.1,\"fMinimum\":0,\"fNormFactor\":0,\"fContour\":[],\"fSumw2\":[],\"fOption\":\"\",\"fFunctions\":{\"_typename\":\"TList\",\"name\":\"TList\",\"arr\":[],\"opt\":[]},\"fBufferSize\":0,\"fBuffer\":[],\"fBinStatErrOpt\":0,\"fStatOverflows\":2,\"fArray\":[0,0,0,0,0,0,0,0,0,0,0,0,0,0,0,0,0,0,0,0,0,0,0,0,0,0,0,0,0,0,0,0,0,0,0,0,0,0,0,0,0,0,0,0,0,0,0,0,0,0,0,0,0,0,0,0,0,0,0,0,0,0,0,0,0,0,0,0,0,0,0,0,0,0,0,0,0,0,0,0,0,0,0,0,0,0,0,0,0,0,0,0,0,0,0,0,0,0,0,0,0,0]},\"fMinimum\":-1111,\"fMaximum\":-1111,\"fEXlow\":[0.05,0.05,0.05,0.05,0.05,0.05,0.05,0.05,0.05,0.05,0.05,0.05,0.05,0.05,0.05,0.05,0.05,0.05,0.05,0.05,0.0499999999999998,0.0499999999999998,0.0499999999999998,0.0499999999999998,0.0499999999999998,0.0499999999999998,0.0499999999999998,0.0499999999999998,0.0499999999999998,0.0499999999999998,0.0499999999999998],\"fEXhigh\":[0.05,0.05,0.05,0.05,0.05,0.05,0.05,0.05,0.05,0.05,0.05,0.05,0.05,0.05,0.05,0.05,0.05,0.05,0.05,0.05,0.0500000000000002,0.0500000000000002,0.0500000000000002,0.0500000000000002,0.0500000000000002,0.0500000000000002,0.0500000000000002,0.0500000000000002,0.0500000000000002,0.0500000000000002,0.0500000000000002],\"fEYlow\":[0.0075923988483293,0.00593893702735371,0.00613306891314336,0.00585672153035965,0.00650325045528022,0.00635939039157118,0.006256833547574,0.00586414025097381,0.00628102091281324,0.00638166587977185,0.00625571875949049,0.0065773744460772,0.00666859412463583,0.00680839530297539,0.00858282825744328,0.00883136007261043,0.00679795040612285,0.00671410118166893,0.00661702492198446,0.00684283157291532,0.00650363364592066,0.0069875304967838,0.00701122152490519,0.00774616450690824,0.00874080154808876,7.85981497795612e-4,0,0,0,0,0],\"fEYhigh\":[0.0073569809207652,0.00562563576441821,0.00583744944399378,0.00555536076819674,0.00621777155172509,0.00606455857877175,0.00597361009725594,0.00555040670587359,0.0060018258343365,0.00610591304176478,0.00597842608278365,0.00630886040092937,0.00639206741816767,0.00654315633216129,0.00841579928936886,0.00868616199089489,0.00652554847313791,0.00645401851029181,0.0063316947146469,0.00657438983363723,0.00622808547073694,0.00672616136456117,0.00674707731936353,0.00751891524753223,0.00889694497025384,0.00122945470507898,6.54022581556172e-4,6.4758109614599e-4,6.80367943775406e-4,6.51476774673644e-4,6.87738602985778e-4]},{\"_typename\":\"TLatex\",\"fUniqueID\":0,\"fBits\":50348040,\"fName\":\"\",\"fTitle\":\"PU200, TkEle Ell. match all, p_{T}^{L1}>=10GeV, LooseTkID, p_{T}^{GEN}>=15GeV\",\"fTextAngle\":0,\"fTextSize\":0.03,\"fTextAlign\":11,\"fTextColor\":1,\"fTextFont\":62,\"fX\":0.15,\"fY\":0.85,\"fLineColor\":1,\"fLineStyle\":1,\"fLineWidth\":2,\"fLimitFactorSize\":3,\"fOriginSize\":0.04},{\"_typename\":\"TLatex\",\"fUniqueID\":0,\"fBits\":50331656,\"fName\":\"\",\"fTitle\":\"\",\"fTextAngle\":0,\"fTextSize\":0.03,\"fTextAlign\":11,\"fTextColor\":1,\"fTextFont\":62,\"fX\":0,\"fY\":0,\"fLineColor\":1,\"fLineStyle\":1,\"fLineWidth\":2,\"fLimitFactorSize\":3,\"fOriginSize\":0.04},{\"_typename\":\"TLine\",\"fUniqueID\":0,\"fBits\":50331656,\"fLineColor\":1,\"fLineStyle\":2,\"fLineWidth\":1,\"fX1\":-2.8,\"fY1\":0,\"fX2\":-2.8,\"fY2\":1.1},{\"_typename\":\"TLine\",\"fUniqueID\":0,\"fBits\":50331656,\"fLineColor\":1,\"fLineStyle\":2,\"fLineWidth\":1,\"fX1\":-2.4,\"fY1\":0,\"fX2\":-2.4,\"fY2\":1.1},{\"_typename\":\"TLine\",\"fUniqueID\":0,\"fBits\":50331656,\"fLineColor\":1,\"fLineStyle\":2,\"fLineWidth\":1,\"fX1\":-1.7,\"fY1\":0,\"fX2\":-1.7,\"fY2\":1.1},{\"_typename\":\"TLine\",\"fUniqueID\":0,\"fBits\":50331656,\"fLineColor\":1,\"fLineStyle\":2,\"fLineWidth\":1,\"fX1\":-1.52,\"fY1\":0,\"fX2\":-1.52,\"fY2\":1.1},{\"_typename\":\"TLine\",\"fUniqueID\":0,\"fBits\":50331656,\"fLineColor\":1,\"fLineStyle\":2,\"fLineWidth\":1,\"fX1\":1.52,\"fY1\":0,\"fX2\":1.52,\"fY2\":1.1},{\"_typename\":\"TLine\",\"fUniqueID\":0,\"fBits\":50331656,\"fLineColor\":1,\"fLineStyle\":2,\"fLineWidth\":1,\"fX1\":1.7,\"fY1\":0,\"fX2\":1.7,\"fY2\":1.1},{\"_typename\":\"TLine\",\"fUniqueID\":0,\"fBits\":50331656,\"fLineColor\":1,\"fLineStyle\":2,\"fLineWidth\":1,\"fX1\":2.4,\"fY1\":0,\"fX2\":2.4,\"fY2\":1.1},{\"_typename\":\"TLine\",\"fUniqueID\":0,\"fBits\":50331656,\"fLineColor\":1,\"fLineStyle\":2,\"fLineWidth\":1,\"fX1\":2.8,\"fY1\":0,\"fX2\":2.8,\"fY2\":1.1}],\"opt\":[\"\",\"pa\",\"same\",\"same\",\"same\",\"same\",\"same\",\"same\",\"same\",\"same\",\"same\",\"same\"]},\"fExecs\":null,\"fName\":\"c_95e004\",\"fTitle\":\"c_95e004\",\"fNumPaletteColor\":0,\"fNextPaletteColor\":0,\"fDISPLAY\":\"$DISPLAY\",\"fDoubleBuffer\":0,\"fRetained\":true,\"fXsizeUser\":0,\"fYsizeUser\":0,\"fXsizeReal\":20,\"fYsizeReal\":15,\"fWindowTopX\":0,\"fWindowTopY\":0,\"fWindowWidth\":0,\"fWindowHeight\":0,\"fCw\":796,\"fCh\":572,\"fCatt\":{\"_typename\":\"TAttCanvas\",\"fXBetween\":2,\"fYBetween\":2,\"fTitleFromTop\":1.2,\"fXdate\":0.2,\"fYdate\":0.3,\"fAdate\":1},\"kMoveOpaque\":true,\"kResizeOpaque\":true,\"fHighLightColor\":2,\"fBatch\":true,\"kShowEventStatus\":false,\"kAutoExec\":true,\"kMenuBar\":true});\n",
       "       Core.draw(\"root_plot_3\", obj, \"\");\n",
       "     }\n",
       " );\n",
       "</script>\n"
      ],
      "text/plain": [
       "<IPython.core.display.HTML object>"
      ]
     },
     "metadata": {},
     "output_type": "display_data"
    }
   ],
   "source": [
    "hsets, labels, text = hplot.get_histo(histos.HistoSetEff, ['hybrid', 'ele-V9'], ['PU200'], 'TkEleELALL', 'Pt10LooseTkID', 'GENPt15', debug=False)\n",
    "\n",
    "draw([his.h_eff.h_abseta.CreateGraph() for his in hsets], labels, text=text, min_y=0, max_y=1.1, v_lines=[-2.8, -2.4, -1.7, -1.52, 1.52, 1.7, 2.4, 2.8])"
   ]
  },
  {
   "cell_type": "code",
   "execution_count": 27,
   "metadata": {},
   "outputs": [
    {
     "data": {
      "text/plain": [
       "<drawingTools.DrawMachine at 0x11c9f9ad0>"
      ]
     },
     "execution_count": 27,
     "metadata": {},
     "output_type": "execute_result"
    },
    {
     "data": {
      "text/html": [
       "\n",
       "<div id=\"root_plot_4\"\n",
       "     style=\"width: 796px; height: 572px\">\n",
       "</div>\n",
       "\n",
       "<script>\n",
       " requirejs.config({\n",
       "     paths: {\n",
       "       'JSRootCore' : 'https://root.cern.ch/js/notebook//scripts/JSRootCore',\n",
       "     }\n",
       "   });\n",
       " require(['JSRootCore'],\n",
       "     function(Core) {\n",
       "       var obj = Core.JSONR_unref({\"_typename\":\"TCanvas\",\"fUniqueID\":0,\"fBits\":53673992,\"fLineColor\":1,\"fLineStyle\":1,\"fLineWidth\":1,\"fFillColor\":0,\"fFillStyle\":1001,\"fLeftMargin\":0.13,\"fRightMargin\":0.3,\"fBottomMargin\":0.13,\"fTopMargin\":0.1,\"fXfile\":2,\"fYfile\":2,\"fAfile\":1,\"fXstat\":0.99,\"fYstat\":0.99,\"fAstat\":2,\"fFrameFillColor\":0,\"fFrameLineColor\":1,\"fFrameFillStyle\":1001,\"fFrameLineStyle\":1,\"fFrameLineWidth\":1,\"fFrameBorderSize\":1,\"fFrameBorderMode\":0,\"fX1\":0.764736853332731,\"fY1\":-0.185714283502611,\"fX2\":4.34368426666366,\"fY2\":1.24285714852456,\"fXtoAbsPixelk\":-170.086420951052,\"fXtoPixelk\":-170.086420951052,\"fXtoPixel\":222.411761914983,\"fYtoAbsPixelk\":497.640051065433,\"fYtoPixelk\":497.640051065433,\"fYtoPixel\":-400.399999031424,\"fUtoAbsPixelk\":5e-5,\"fUtoPixelk\":5e-5,\"fUtoPixel\":796,\"fVtoAbsPixelk\":572.00005,\"fVtoPixelk\":572,\"fVtoPixel\":-572,\"fAbsPixeltoXk\":0.764736853332731,\"fPixeltoXk\":0.764736853332731,\"fPixeltoX\":0.00449616509212428,\"fAbsPixeltoYk\":1.24285714852456,\"fPixeltoYk\":-0.185714283502611,\"fPixeltoY\":-0.00249750250354401,\"fXlowNDC\":0,\"fYlowNDC\":0,\"fXUpNDC\":0,\"fYUpNDC\":0,\"fWNDC\":1,\"fHNDC\":1,\"fAbsXlowNDC\":0,\"fAbsYlowNDC\":0,\"fAbsWNDC\":1,\"fAbsHNDC\":1,\"fUxmin\":1.23,\"fUymin\":0,\"fUxmax\":3.27,\"fUymax\":1.1,\"fTheta\":30,\"fPhi\":30,\"fAspectRatio\":0,\"fNumber\":0,\"fTickx\":0,\"fTicky\":0,\"fLogx\":0,\"fLogy\":0,\"fLogz\":0,\"fPadPaint\":0,\"fCrosshair\":0,\"fCrosshairPos\":0,\"fBorderSize\":2,\"fBorderMode\":0,\"fModified\":false,\"fGridx\":false,\"fGridy\":false,\"fAbsCoord\":false,\"fEditable\":true,\"fFixedAspectRatio\":false,\"fPrimitives\":{\"_typename\":\"TList\",\"name\":\"TList\",\"arr\":[{\"_typename\":\"TFrame\",\"fUniqueID\":0,\"fBits\":50331656,\"fLineColor\":1,\"fLineStyle\":1,\"fLineWidth\":1,\"fFillColor\":0,\"fFillStyle\":1001,\"fX1\":1.23,\"fY1\":0,\"fX2\":3.27,\"fY2\":1.1,\"fBorderSize\":1,\"fBorderMode\":0},{\"_typename\":\"TGraphAsymmErrors\",\"fUniqueID\":0,\"fBits\":50332680,\"fName\":\"e0c02c\",\"fTitle\":\"; |#eta^{GEN}|;\",\"fLineColor\":1,\"fLineStyle\":1,\"fLineWidth\":1,\"fFillColor\":0,\"fFillStyle\":1001,\"fMarkerColor\":1,\"fMarkerStyle\":8,\"fMarkerSize\":0.5,\"fNpoints\":17,\"fX\":[1.45,1.55,1.65,1.75,1.85,1.95,2.05,2.15,2.25,2.35,2.45,2.55,2.65,2.75,2.85,2.95,3.05],\"fY\":[0.00160901045856798,0.718571428571429,0.905022376926902,0.905151661049591,0.911257606490872,0.904785643070788,0.925432098765432,0.913133402275078,0.911282051282051,0.871545547594678,0.323340471092077,0.00215749730312837,0,0,0,0,0],\"fFunctions\":{\"_typename\":\"TList\",\"name\":\"TList\",\"arr\":[],\"opt\":[]},\"fHistogram\":{\"_typename\":\"TH1F\",\"fUniqueID\":0,\"fBits\":50332160,\"fName\":\"e0c02c\",\"fTitle\":\"\",\"fLineColor\":602,\"fLineStyle\":1,\"fLineWidth\":1,\"fFillColor\":0,\"fFillStyle\":1001,\"fMarkerColor\":1,\"fMarkerStyle\":1,\"fMarkerSize\":1,\"fNcells\":102,\"fXaxis\":{\"_typename\":\"TAxis\",\"fUniqueID\":0,\"fBits\":50331656,\"fName\":\"xaxis\",\"fTitle\":\" |#eta^{GEN}|\",\"fNdivisions\":510,\"fAxisColor\":1,\"fLabelColor\":1,\"fLabelFont\":42,\"fLabelOffset\":0.005,\"fLabelSize\":0.035,\"fTickLength\":0.03,\"fTitleOffset\":1.4,\"fTitleSize\":0.035,\"fTitleColor\":1,\"fTitleFont\":42,\"fNbins\":100,\"fXmin\":1.23,\"fXmax\":3.27,\"fXbins\":[],\"fFirst\":0,\"fLast\":0,\"fBits2\":0,\"fTimeDisplay\":false,\"fTimeFormat\":\"\",\"fLabels\":null,\"fModLabs\":null},\"fYaxis\":{\"_typename\":\"TAxis\",\"fUniqueID\":0,\"fBits\":50331656,\"fName\":\"yaxis\",\"fTitle\":\"\",\"fNdivisions\":510,\"fAxisColor\":1,\"fLabelColor\":1,\"fLabelFont\":42,\"fLabelOffset\":0.005,\"fLabelSize\":0.035,\"fTickLength\":0.03,\"fTitleOffset\":0,\"fTitleSize\":0.035,\"fTitleColor\":1,\"fTitleFont\":42,\"fNbins\":1,\"fXmin\":0,\"fXmax\":1.02442852437531,\"fXbins\":[],\"fFirst\":0,\"fLast\":0,\"fBits2\":0,\"fTimeDisplay\":false,\"fTimeFormat\":\"\",\"fLabels\":null,\"fModLabs\":null},\"fZaxis\":{\"_typename\":\"TAxis\",\"fUniqueID\":0,\"fBits\":50331648,\"fName\":\"zaxis\",\"fTitle\":\"\",\"fNdivisions\":510,\"fAxisColor\":1,\"fLabelColor\":1,\"fLabelFont\":42,\"fLabelOffset\":0.005,\"fLabelSize\":0.035,\"fTickLength\":0.03,\"fTitleOffset\":1,\"fTitleSize\":0.035,\"fTitleColor\":1,\"fTitleFont\":42,\"fNbins\":1,\"fXmin\":0,\"fXmax\":1,\"fXbins\":[],\"fFirst\":0,\"fLast\":0,\"fBits2\":0,\"fTimeDisplay\":false,\"fTimeFormat\":\"\",\"fLabels\":null,\"fModLabs\":null},\"fBarOffset\":0,\"fBarWidth\":1000,\"fEntries\":0,\"fTsumw\":0,\"fTsumw2\":0,\"fTsumwx\":0,\"fTsumwx2\":0,\"fMaximum\":1.1,\"fMinimum\":0,\"fNormFactor\":0,\"fContour\":[],\"fSumw2\":[],\"fOption\":\"\",\"fFunctions\":{\"_typename\":\"TList\",\"name\":\"TList\",\"arr\":[],\"opt\":[]},\"fBufferSize\":0,\"fBuffer\":[],\"fBinStatErrOpt\":0,\"fStatOverflows\":2,\"fArray\":[0,0,0,0,0,0,0,0,0,0,0,0,0,0,0,0,0,0,0,0,0,0,0,0,0,0,0,0,0,0,0,0,0,0,0,0,0,0,0,0,0,0,0,0,0,0,0,0,0,0,0,0,0,0,0,0,0,0,0,0,0,0,0,0,0,0,0,0,0,0,0,0,0,0,0,0,0,0,0,0,0,0,0,0,0,0,0,0,0,0,0,0,0,0,0,0,0,0,0,0,0,0]},\"fMinimum\":-1111,\"fMaximum\":-1111,\"fEXlow\":[0.05,0.05,0.05,0.05,0.05,0.05,0.0499999999999998,0.0499999999999998,0.0499999999999998,0.0499999999999998,0.0499999999999998,0.0499999999999998,0.0499999999999998,0.0499999999999998,0.0499999999999998,0.0499999999999998,0.0499999999999998],\"fEXhigh\":[0.05,0.05,0.05,0.05,0.05,0.05,0.0500000000000002,0.0500000000000002,0.0500000000000002,0.0500000000000002,0.0500000000000002,0.0500000000000002,0.0500000000000002,0.0500000000000002,0.0500000000000002,0.0500000000000002,0.0500000000000002],\"fEYlow\":[0.00103920464173245,0.0101557607643973,0.0069957921259306,0.00687255816325383,0.00687452709150982,0.00701224408432966,0.00630440170153213,0.00688549424066465,0.00691512348084844,0.00802125128216091,0.0109904987387112,0.00103226777113868,0,0,0,0,0],\"fEYhigh\":[0.00211821436563831,0.00994260794852775,0.00657777783995483,0.00646792283150344,0.00644103190904632,0.00659343115746291,0.00586655975757377,0.00644113647912026,0.0064766168986673,0.00762821597144692,0.0111842567347145,0.00170261302343249,9.65948732559927e-4,9.94114748747057e-4,0.0010425279432988,0.00101943661111054,0.00110312111707805]},{\"_typename\":\"TLatex\",\"fUniqueID\":0,\"fBits\":50348040,\"fName\":\"\",\"fTitle\":\"PU200, TkEle Ell. match, hwQual 5, p_{T}^{L1}>=25GeV, p_{T}^{GEN}>=35GeV\",\"fTextAngle\":0,\"fTextSize\":0.03,\"fTextAlign\":11,\"fTextColor\":1,\"fTextFont\":62,\"fX\":0.15,\"fY\":0.85,\"fLineColor\":1,\"fLineStyle\":1,\"fLineWidth\":2,\"fLimitFactorSize\":3,\"fOriginSize\":0.04},{\"_typename\":\"TLatex\",\"fUniqueID\":0,\"fBits\":50331656,\"fName\":\"\",\"fTitle\":\"\",\"fTextAngle\":0,\"fTextSize\":0.03,\"fTextAlign\":11,\"fTextColor\":1,\"fTextFont\":62,\"fX\":0,\"fY\":0,\"fLineColor\":1,\"fLineStyle\":1,\"fLineWidth\":2,\"fLimitFactorSize\":3,\"fOriginSize\":0.04},{\"_typename\":\"TLine\",\"fUniqueID\":0,\"fBits\":50331656,\"fLineColor\":1,\"fLineStyle\":2,\"fLineWidth\":1,\"fX1\":-2.8,\"fY1\":0,\"fX2\":-2.8,\"fY2\":1.1},{\"_typename\":\"TLine\",\"fUniqueID\":0,\"fBits\":50331656,\"fLineColor\":1,\"fLineStyle\":2,\"fLineWidth\":1,\"fX1\":-2.4,\"fY1\":0,\"fX2\":-2.4,\"fY2\":1.1},{\"_typename\":\"TLine\",\"fUniqueID\":0,\"fBits\":50331656,\"fLineColor\":1,\"fLineStyle\":2,\"fLineWidth\":1,\"fX1\":-1.7,\"fY1\":0,\"fX2\":-1.7,\"fY2\":1.1},{\"_typename\":\"TLine\",\"fUniqueID\":0,\"fBits\":50331656,\"fLineColor\":1,\"fLineStyle\":2,\"fLineWidth\":1,\"fX1\":-1.52,\"fY1\":0,\"fX2\":-1.52,\"fY2\":1.1},{\"_typename\":\"TLine\",\"fUniqueID\":0,\"fBits\":50331656,\"fLineColor\":1,\"fLineStyle\":2,\"fLineWidth\":1,\"fX1\":1.52,\"fY1\":0,\"fX2\":1.52,\"fY2\":1.1},{\"_typename\":\"TLine\",\"fUniqueID\":0,\"fBits\":50331656,\"fLineColor\":1,\"fLineStyle\":2,\"fLineWidth\":1,\"fX1\":1.7,\"fY1\":0,\"fX2\":1.7,\"fY2\":1.1},{\"_typename\":\"TLine\",\"fUniqueID\":0,\"fBits\":50331656,\"fLineColor\":1,\"fLineStyle\":2,\"fLineWidth\":1,\"fX1\":2.4,\"fY1\":0,\"fX2\":2.4,\"fY2\":1.1},{\"_typename\":\"TLine\",\"fUniqueID\":0,\"fBits\":50331656,\"fLineColor\":1,\"fLineStyle\":2,\"fLineWidth\":1,\"fX1\":2.8,\"fY1\":0,\"fX2\":2.8,\"fY2\":1.1}],\"opt\":[\"\",\"pa\",\"same\",\"same\",\"same\",\"same\",\"same\",\"same\",\"same\",\"same\",\"same\",\"same\"]},\"fExecs\":null,\"fName\":\"c_da7db8\",\"fTitle\":\"c_da7db8\",\"fNumPaletteColor\":0,\"fNextPaletteColor\":0,\"fDISPLAY\":\"$DISPLAY\",\"fDoubleBuffer\":0,\"fRetained\":true,\"fXsizeUser\":0,\"fYsizeUser\":0,\"fXsizeReal\":20,\"fYsizeReal\":15,\"fWindowTopX\":0,\"fWindowTopY\":0,\"fWindowWidth\":0,\"fWindowHeight\":0,\"fCw\":796,\"fCh\":572,\"fCatt\":{\"_typename\":\"TAttCanvas\",\"fXBetween\":2,\"fYBetween\":2,\"fTitleFromTop\":1.2,\"fXdate\":0.2,\"fYdate\":0.3,\"fAdate\":1},\"kMoveOpaque\":true,\"kResizeOpaque\":true,\"fHighLightColor\":2,\"fBatch\":true,\"kShowEventStatus\":false,\"kAutoExec\":true,\"kMenuBar\":true});\n",
       "       Core.draw(\"root_plot_4\", obj, \"\");\n",
       "     }\n",
       " );\n",
       "</script>\n"
      ],
      "text/plain": [
       "<IPython.core.display.HTML object>"
      ]
     },
     "metadata": {},
     "output_type": "display_data"
    }
   ],
   "source": [
    "hsets, labels, text = hplot.get_histo(histos.HistoSetEff, ['hybrid', 'ele-V9'], ['PU200'], 'TkEleEL', 'EGq5Pt25', 'GENPt35', debug=False)\n",
    "draw([his.h_eff.h_abseta.CreateGraph() for his in hsets], labels, text=text, min_y=0, max_y=1.1, v_lines=[-2.8, -2.4, -1.7, -1.52, 1.52, 1.7, 2.4, 2.8])\n"
   ]
  },
  {
   "cell_type": "code",
   "execution_count": 28,
   "metadata": {},
   "outputs": [
    {
     "data": {
      "text/plain": [
       "<drawingTools.DrawMachine at 0x11c05ee10>"
      ]
     },
     "execution_count": 28,
     "metadata": {},
     "output_type": "execute_result"
    },
    {
     "data": {
      "text/html": [
       "\n",
       "<div id=\"root_plot_5\"\n",
       "     style=\"width: 796px; height: 572px\">\n",
       "</div>\n",
       "\n",
       "<script>\n",
       " requirejs.config({\n",
       "     paths: {\n",
       "       'JSRootCore' : 'https://root.cern.ch/js/notebook//scripts/JSRootCore',\n",
       "     }\n",
       "   });\n",
       " require(['JSRootCore'],\n",
       "     function(Core) {\n",
       "       var obj = Core.JSONR_unref({\"_typename\":\"TCanvas\",\"fUniqueID\":0,\"fBits\":53673992,\"fLineColor\":1,\"fLineStyle\":1,\"fLineWidth\":1,\"fFillColor\":0,\"fFillStyle\":1001,\"fLeftMargin\":0.13,\"fRightMargin\":0.3,\"fBottomMargin\":0.13,\"fTopMargin\":0.1,\"fXfile\":2,\"fYfile\":2,\"fAfile\":1,\"fXstat\":0.99,\"fYstat\":0.99,\"fAstat\":2,\"fFrameFillColor\":0,\"fFrameLineColor\":1,\"fFrameFillStyle\":1001,\"fFrameLineStyle\":1,\"fFrameLineWidth\":1,\"fFrameBorderSize\":1,\"fFrameBorderMode\":0,\"fX1\":-0.777719279478131,\"fY1\":-0.185714283502611,\"fX2\":5.20473693594268,\"fY2\":1.24285714852456,\"fXtoAbsPixelk\":103.480046204376,\"fXtoPixelk\":103.480046204376,\"fXtoPixel\":133.055716805444,\"fYtoAbsPixelk\":497.640051065433,\"fYtoPixelk\":497.640051065433,\"fYtoPixel\":-400.399999031424,\"fUtoAbsPixelk\":5e-5,\"fUtoPixelk\":5e-5,\"fUtoPixel\":796,\"fVtoAbsPixelk\":572.00005,\"fVtoPixelk\":572,\"fVtoPixel\":-572,\"fAbsPixeltoXk\":-0.777719279478131,\"fPixeltoXk\":-0.777719279478131,\"fPixeltoX\":0.00751564851183519,\"fAbsPixeltoYk\":1.24285714852456,\"fPixeltoYk\":-0.185714283502611,\"fPixeltoY\":-0.00249750250354401,\"fXlowNDC\":0,\"fYlowNDC\":0,\"fXUpNDC\":0,\"fYUpNDC\":0,\"fWNDC\":1,\"fHNDC\":1,\"fAbsXlowNDC\":0,\"fAbsYlowNDC\":0,\"fAbsWNDC\":1,\"fAbsHNDC\":1,\"fUxmin\":0,\"fUymin\":0,\"fUxmax\":3.41,\"fUymax\":1.1,\"fTheta\":30,\"fPhi\":30,\"fAspectRatio\":0,\"fNumber\":0,\"fTickx\":0,\"fTicky\":0,\"fLogx\":0,\"fLogy\":0,\"fLogz\":0,\"fPadPaint\":0,\"fCrosshair\":0,\"fCrosshairPos\":0,\"fBorderSize\":2,\"fBorderMode\":0,\"fModified\":false,\"fGridx\":false,\"fGridy\":false,\"fAbsCoord\":false,\"fEditable\":true,\"fFixedAspectRatio\":false,\"fPrimitives\":{\"_typename\":\"TList\",\"name\":\"TList\",\"arr\":[{\"_typename\":\"TFrame\",\"fUniqueID\":0,\"fBits\":50331656,\"fLineColor\":1,\"fLineStyle\":1,\"fLineWidth\":1,\"fFillColor\":0,\"fFillStyle\":1001,\"fX1\":0,\"fY1\":0,\"fX2\":3.41,\"fY2\":1.1,\"fBorderSize\":1,\"fBorderMode\":0},{\"_typename\":\"TGraphAsymmErrors\",\"fUniqueID\":0,\"fBits\":50332680,\"fName\":\"fcf04c\",\"fTitle\":\"; |#eta^{GEN}|;\",\"fLineColor\":1,\"fLineStyle\":1,\"fLineWidth\":1,\"fFillColor\":0,\"fFillStyle\":1001,\"fMarkerColor\":1,\"fMarkerStyle\":8,\"fMarkerSize\":0.5,\"fNpoints\":31,\"fX\":[0.05,0.15,0.25,0.35,0.45,0.55,0.65,0.75,0.85,0.95,1.05,1.15,1.25,1.35,1.45,1.55,1.65,1.75,1.85,1.95,2.05,2.15,2.25,2.35,2.45,2.55,2.65,2.75,2.85,2.95,3.05],\"fY\":[0.834914611005693,0.929054054054054,0.917228103946102,0.93393536121673,0.89952380952381,0.908741594620557,0.917511520737327,0.925818882466281,0.907030527289547,0.899400092293493,0.910509407985314,0.898577329050023,0.901187648456057,0.889542779538253,0.745036101083033,0.722985347985348,0.904174573055028,0.905268022181146,0.91044061302682,0.902301550023485,0.925091911764706,0.910815939278937,0.911943793911007,0.866197183098592,0.320211233797408,0.00237416904083571,0,0,0,0,0],\"fFunctions\":{\"_typename\":\"TList\",\"name\":\"TList\",\"arr\":[],\"opt\":[]},\"fHistogram\":{\"_typename\":\"TH1F\",\"fUniqueID\":0,\"fBits\":50332160,\"fName\":\"fcf04c\",\"fTitle\":\"\",\"fLineColor\":602,\"fLineStyle\":1,\"fLineWidth\":1,\"fFillColor\":0,\"fFillStyle\":1001,\"fMarkerColor\":1,\"fMarkerStyle\":1,\"fMarkerSize\":1,\"fNcells\":102,\"fXaxis\":{\"_typename\":\"TAxis\",\"fUniqueID\":0,\"fBits\":50331656,\"fName\":\"xaxis\",\"fTitle\":\" |#eta^{GEN}|\",\"fNdivisions\":510,\"fAxisColor\":1,\"fLabelColor\":1,\"fLabelFont\":42,\"fLabelOffset\":0.005,\"fLabelSize\":0.035,\"fTickLength\":0.03,\"fTitleOffset\":1.4,\"fTitleSize\":0.035,\"fTitleColor\":1,\"fTitleFont\":42,\"fNbins\":100,\"fXmin\":0,\"fXmax\":3.41,\"fXbins\":[],\"fFirst\":0,\"fLast\":0,\"fBits2\":0,\"fTimeDisplay\":false,\"fTimeFormat\":\"\",\"fLabels\":null,\"fModLabs\":null},\"fYaxis\":{\"_typename\":\"TAxis\",\"fUniqueID\":0,\"fBits\":50331656,\"fName\":\"yaxis\",\"fTitle\":\"\",\"fNdivisions\":510,\"fAxisColor\":1,\"fLabelColor\":1,\"fLabelFont\":42,\"fLabelOffset\":0.005,\"fLabelSize\":0.035,\"fTickLength\":0.03,\"fTitleOffset\":0,\"fTitleSize\":0.035,\"fTitleColor\":1,\"fTitleFont\":42,\"fNbins\":1,\"fXmin\":0,\"fXmax\":1.03331166326779,\"fXbins\":[],\"fFirst\":0,\"fLast\":0,\"fBits2\":0,\"fTimeDisplay\":false,\"fTimeFormat\":\"\",\"fLabels\":null,\"fModLabs\":null},\"fZaxis\":{\"_typename\":\"TAxis\",\"fUniqueID\":0,\"fBits\":50331648,\"fName\":\"zaxis\",\"fTitle\":\"\",\"fNdivisions\":510,\"fAxisColor\":1,\"fLabelColor\":1,\"fLabelFont\":42,\"fLabelOffset\":0.005,\"fLabelSize\":0.035,\"fTickLength\":0.03,\"fTitleOffset\":1,\"fTitleSize\":0.035,\"fTitleColor\":1,\"fTitleFont\":42,\"fNbins\":1,\"fXmin\":0,\"fXmax\":1,\"fXbins\":[],\"fFirst\":0,\"fLast\":0,\"fBits2\":0,\"fTimeDisplay\":false,\"fTimeFormat\":\"\",\"fLabels\":null,\"fModLabs\":null},\"fBarOffset\":0,\"fBarWidth\":1000,\"fEntries\":0,\"fTsumw\":0,\"fTsumw2\":0,\"fTsumwx\":0,\"fTsumwx2\":0,\"fMaximum\":1.1,\"fMinimum\":0,\"fNormFactor\":0,\"fContour\":[],\"fSumw2\":[],\"fOption\":\"\",\"fFunctions\":{\"_typename\":\"TList\",\"name\":\"TList\",\"arr\":[],\"opt\":[]},\"fBufferSize\":0,\"fBuffer\":[],\"fBinStatErrOpt\":0,\"fStatOverflows\":2,\"fArray\":[0,0,0,0,0,0,0,0,0,0,0,0,0,0,0,0,0,0,0,0,0,0,0,0,0,0,0,0,0,0,0,0,0,0,0,0,0,0,0,0,0,0,0,0,0,0,0,0,0,0,0,0,0,0,0,0,0,0,0,0,0,0,0,0,0,0,0,0,0,0,0,0,0,0,0,0,0,0,0,0,0,0,0,0,0,0,0,0,0,0,0,0,0,0,0,0,0,0,0,0,0,0]},\"fMinimum\":-1111,\"fMaximum\":-1111,\"fEXlow\":[0.05,0.05,0.05,0.05,0.05,0.05,0.05,0.05,0.05,0.05,0.05,0.05,0.05,0.05,0.05,0.05,0.05,0.05,0.05,0.05,0.0499999999999998,0.0499999999999998,0.0499999999999998,0.0499999999999998,0.0499999999999998,0.0499999999999998,0.0499999999999998,0.0499999999999998,0.0499999999999998,0.0499999999999998,0.0499999999999998],\"fEXhigh\":[0.05,0.05,0.05,0.05,0.05,0.05,0.05,0.05,0.05,0.05,0.05,0.05,0.05,0.05,0.05,0.05,0.05,0.05,0.05,0.05,0.0500000000000002,0.0500000000000002,0.0500000000000002,0.0500000000000002,0.0500000000000002,0.0500000000000002,0.0500000000000002,0.0500000000000002,0.0500000000000002,0.0500000000000002,0.0500000000000002],\"fEYlow\":[0.00848581012787308,0.00609837413664149,0.00649444384405196,0.00586936459977494,0.00699572615429045,0.00675555526958682,0.006336607212025,0.0062071257934353,0.00667209155744564,0.00688341315783136,0.00654038127100753,0.00688615945214044,0.00693932554128729,0.00707790435418443,0.0095956731885799,0.00990763889287072,0.00684732152793033,0.00672062890903258,0.00669304000445248,0.00686563758947945,0.00607711075645645,0.00664751878362757,0.00656781870294298,0.00778809470417852,0.0103719806882061,0.00102512269335102,0,0,0,0,0],\"fEYhigh\":[0.00815882307254401,0.00566661500689114,0.00607699599747946,0.00543887811762567,0.00660151918495888,0.00634807521784564,0.00593688628711087,0.00577982225284668,0.00628171289002777,0.0065017251528755,0.00614955034218145,0.0065074379933191,0.00654433007413258,0.00671333804179364,0.00936919308453277,0.00969861555305873,0.0064497679377945,0.00633242270289602,0.00628493586702805,0.00647401766861166,0.00567058740421311,0.00624295868857339,0.00616728573636871,0.00743339916252461,0.0105486076043798,0.00160291616775426,8.51961710012851e-4,8.36098091945794e-4,8.9113860551609e-4,8.48819274492255e-4,9.00730488653173e-4]},{\"_typename\":\"TLatex\",\"fUniqueID\":0,\"fBits\":50348040,\"fName\":\"\",\"fTitle\":\"PU200, TkEle Ell. match all, p_{T}^{L1}>=25GeV, LooseTkID, p_{T}^{GEN}>=35GeV\",\"fTextAngle\":0,\"fTextSize\":0.03,\"fTextAlign\":11,\"fTextColor\":1,\"fTextFont\":62,\"fX\":0.15,\"fY\":0.85,\"fLineColor\":1,\"fLineStyle\":1,\"fLineWidth\":2,\"fLimitFactorSize\":3,\"fOriginSize\":0.04},{\"_typename\":\"TLatex\",\"fUniqueID\":0,\"fBits\":50331656,\"fName\":\"\",\"fTitle\":\"\",\"fTextAngle\":0,\"fTextSize\":0.03,\"fTextAlign\":11,\"fTextColor\":1,\"fTextFont\":62,\"fX\":0,\"fY\":0,\"fLineColor\":1,\"fLineStyle\":1,\"fLineWidth\":2,\"fLimitFactorSize\":3,\"fOriginSize\":0.04},{\"_typename\":\"TLine\",\"fUniqueID\":0,\"fBits\":50331656,\"fLineColor\":1,\"fLineStyle\":2,\"fLineWidth\":1,\"fX1\":1.52,\"fY1\":0,\"fX2\":1.52,\"fY2\":1.1},{\"_typename\":\"TLine\",\"fUniqueID\":0,\"fBits\":50331656,\"fLineColor\":1,\"fLineStyle\":2,\"fLineWidth\":1,\"fX1\":1.7,\"fY1\":0,\"fX2\":1.7,\"fY2\":1.1},{\"_typename\":\"TLine\",\"fUniqueID\":0,\"fBits\":50331656,\"fLineColor\":1,\"fLineStyle\":2,\"fLineWidth\":1,\"fX1\":2.4,\"fY1\":0,\"fX2\":2.4,\"fY2\":1.1},{\"_typename\":\"TLine\",\"fUniqueID\":0,\"fBits\":50331656,\"fLineColor\":1,\"fLineStyle\":2,\"fLineWidth\":1,\"fX1\":2.8,\"fY1\":0,\"fX2\":2.8,\"fY2\":1.1}],\"opt\":[\"\",\"pa\",\"same\",\"same\",\"same\",\"same\",\"same\",\"same\"]},\"fExecs\":null,\"fName\":\"c_36ed39\",\"fTitle\":\"c_36ed39\",\"fNumPaletteColor\":0,\"fNextPaletteColor\":0,\"fDISPLAY\":\"$DISPLAY\",\"fDoubleBuffer\":0,\"fRetained\":true,\"fXsizeUser\":0,\"fYsizeUser\":0,\"fXsizeReal\":20,\"fYsizeReal\":15,\"fWindowTopX\":0,\"fWindowTopY\":0,\"fWindowWidth\":0,\"fWindowHeight\":0,\"fCw\":796,\"fCh\":572,\"fCatt\":{\"_typename\":\"TAttCanvas\",\"fXBetween\":2,\"fYBetween\":2,\"fTitleFromTop\":1.2,\"fXdate\":0.2,\"fYdate\":0.3,\"fAdate\":1},\"kMoveOpaque\":true,\"kResizeOpaque\":true,\"fHighLightColor\":2,\"fBatch\":true,\"kShowEventStatus\":false,\"kAutoExec\":true,\"kMenuBar\":true});\n",
       "       Core.draw(\"root_plot_5\", obj, \"\");\n",
       "     }\n",
       " );\n",
       "</script>\n"
      ],
      "text/plain": [
       "<IPython.core.display.HTML object>"
      ]
     },
     "metadata": {},
     "output_type": "display_data"
    }
   ],
   "source": [
    "hsets, labels, text = hplot.get_histo(histos.HistoSetEff, ['hybrid', 'ele-V9'], ['PU200'], 'TkEleELALL', 'Pt25LooseTkID', 'GENPt35', debug=False)\n",
    "draw([his.h_eff.h_abseta.CreateGraph() for his in hsets], labels, text=text, min_y=0, max_y=1.1, v_lines=[1.52, 1.7, 2.4, 2.8])\n"
   ]
  },
  {
   "cell_type": "code",
   "execution_count": 29,
   "metadata": {},
   "outputs": [],
   "source": [
    "# sample='hybrid'"
   ]
  },
  {
   "cell_type": "code",
   "execution_count": 34,
   "metadata": {},
   "outputs": [
    {
     "name": "stdout",
     "output_type": "stream",
     "text": [
      "No match found for: pu: PU0, tp: ['TkEleEL'], tp_sel: ['EGq5'], gen_sel: GENPt20, classtype: python.l1THistos.HistoSetEff\n"
     ]
    },
    {
     "ename": "TypeError",
     "evalue": "'NoneType' object is not iterable",
     "output_type": "error",
     "traceback": [
      "\u001b[0;31m\u001b[0m",
      "\u001b[0;31mTypeError\u001b[0mTraceback (most recent call last)",
      "\u001b[0;32m<ipython-input-34-1eab3ef19a43>\u001b[0m in \u001b[0;36m<module>\u001b[0;34m()\u001b[0m\n\u001b[1;32m      2\u001b[0m \u001b[0;32mfor\u001b[0m \u001b[0mpu\u001b[0m \u001b[0;32min\u001b[0m \u001b[0;34m[\u001b[0m\u001b[0;34m'PU0'\u001b[0m\u001b[0;34m,\u001b[0m \u001b[0;34m'PU200'\u001b[0m\u001b[0;34m]\u001b[0m\u001b[0;34m:\u001b[0m\u001b[0;34m\u001b[0m\u001b[0m\n\u001b[1;32m      3\u001b[0m     \u001b[0mhsets\u001b[0m\u001b[0;34m,\u001b[0m \u001b[0mlabels\u001b[0m\u001b[0;34m,\u001b[0m \u001b[0mtext\u001b[0m \u001b[0;34m=\u001b[0m \u001b[0mhplot\u001b[0m\u001b[0;34m.\u001b[0m\u001b[0mget_histo\u001b[0m\u001b[0;34m(\u001b[0m\u001b[0mhistos\u001b[0m\u001b[0;34m.\u001b[0m\u001b[0mHistoSetEff\u001b[0m\u001b[0;34m,\u001b[0m \u001b[0msample\u001b[0m\u001b[0;34m,\u001b[0m \u001b[0mpu\u001b[0m\u001b[0;34m,\u001b[0m \u001b[0;34m[\u001b[0m\u001b[0;34m'TkEleEL'\u001b[0m\u001b[0;34m]\u001b[0m\u001b[0;34m,\u001b[0m \u001b[0;34m[\u001b[0m\u001b[0;34m'EGq5'\u001b[0m\u001b[0;34m]\u001b[0m\u001b[0;34m,\u001b[0m \u001b[0;34m'GENPt20'\u001b[0m\u001b[0;34m)\u001b[0m\u001b[0;34m\u001b[0m\u001b[0m\n\u001b[0;32m----> 4\u001b[0;31m     \u001b[0mdraw\u001b[0m\u001b[0;34m(\u001b[0m\u001b[0;34m[\u001b[0m\u001b[0mhis\u001b[0m\u001b[0;34m.\u001b[0m\u001b[0mh_eff\u001b[0m\u001b[0;34m.\u001b[0m\u001b[0mh_eta\u001b[0m\u001b[0;34m.\u001b[0m\u001b[0mCreateGraph\u001b[0m\u001b[0;34m(\u001b[0m\u001b[0;34m)\u001b[0m \u001b[0;32mfor\u001b[0m \u001b[0mhis\u001b[0m \u001b[0;32min\u001b[0m \u001b[0mhsets\u001b[0m\u001b[0;34m]\u001b[0m\u001b[0;34m,\u001b[0m \u001b[0mlabels\u001b[0m\u001b[0;34m,\u001b[0m \u001b[0mtext\u001b[0m\u001b[0;34m=\u001b[0m\u001b[0mtext\u001b[0m\u001b[0;34m,\u001b[0m \u001b[0mmin_y\u001b[0m\u001b[0;34m=\u001b[0m\u001b[0;36m0\u001b[0m\u001b[0;34m,\u001b[0m \u001b[0mmax_y\u001b[0m\u001b[0;34m=\u001b[0m\u001b[0;36m1.1\u001b[0m\u001b[0;34m,\u001b[0m \u001b[0mv_lines\u001b[0m\u001b[0;34m=\u001b[0m\u001b[0;34m[\u001b[0m\u001b[0;34m-\u001b[0m\u001b[0;36m2.8\u001b[0m\u001b[0;34m,\u001b[0m \u001b[0;34m-\u001b[0m\u001b[0;36m2.4\u001b[0m\u001b[0;34m,\u001b[0m \u001b[0;34m-\u001b[0m\u001b[0;36m1.7\u001b[0m\u001b[0;34m,\u001b[0m \u001b[0;34m-\u001b[0m\u001b[0;36m1.52\u001b[0m\u001b[0;34m,\u001b[0m \u001b[0;36m1.52\u001b[0m\u001b[0;34m,\u001b[0m \u001b[0;36m1.7\u001b[0m\u001b[0;34m,\u001b[0m \u001b[0;36m2.4\u001b[0m\u001b[0;34m,\u001b[0m \u001b[0;36m2.8\u001b[0m\u001b[0;34m]\u001b[0m\u001b[0;34m)\u001b[0m\u001b[0;34m\u001b[0m\u001b[0m\n\u001b[0m",
      "\u001b[0;31mTypeError\u001b[0m: 'NoneType' object is not iterable"
     ]
    }
   ],
   "source": [
    "# for tp in tps:\n",
    "for pu in ['PU0', 'PU200']:\n",
    "    hsets, labels, text = hplot.get_histo(histos.HistoSetEff, sample, pu, ['TkEleEL'], ['EGq5'], 'GENPt20')\n",
    "    draw([his.h_eff.h_eta.CreateGraph() for his in hsets], labels, text=text, min_y=0, max_y=1.1, v_lines=[-2.8, -2.4, -1.7, -1.52, 1.52, 1.7, 2.4, 2.8])\n"
   ]
  },
  {
   "cell_type": "code",
   "execution_count": 35,
   "metadata": {
    "scrolled": true
   },
   "outputs": [
    {
     "name": "stdout",
     "output_type": "stream",
     "text": [
      "No match found for: pu: ['PU0', 'PU200'], tp: L1Trk, tp_sel: all, gen_sel: GENPt20, classtype: python.l1THistos.HistoSetEff\n"
     ]
    },
    {
     "ename": "TypeError",
     "evalue": "'NoneType' object is not iterable",
     "output_type": "error",
     "traceback": [
      "\u001b[0;31m\u001b[0m",
      "\u001b[0;31mTypeError\u001b[0mTraceback (most recent call last)",
      "\u001b[0;32m<ipython-input-35-736358bd2c36>\u001b[0m in \u001b[0;36m<module>\u001b[0;34m()\u001b[0m\n\u001b[1;32m      4\u001b[0m             \u001b[0mhsets\u001b[0m\u001b[0;34m,\u001b[0m \u001b[0mlabels\u001b[0m\u001b[0;34m,\u001b[0m \u001b[0mtext\u001b[0m \u001b[0;34m=\u001b[0m \u001b[0mhplot\u001b[0m\u001b[0;34m.\u001b[0m\u001b[0mget_histo\u001b[0m\u001b[0;34m(\u001b[0m\u001b[0mhistos\u001b[0m\u001b[0;34m.\u001b[0m\u001b[0mHistoSetEff\u001b[0m\u001b[0;34m,\u001b[0m \u001b[0;34m'V8'\u001b[0m\u001b[0;34m,\u001b[0m \u001b[0;34m[\u001b[0m\u001b[0;34m'PU0'\u001b[0m\u001b[0;34m,\u001b[0m \u001b[0;34m'PU200'\u001b[0m\u001b[0;34m]\u001b[0m\u001b[0;34m,\u001b[0m \u001b[0mtp\u001b[0m\u001b[0;34m,\u001b[0m \u001b[0mtp_sel\u001b[0m\u001b[0;34m,\u001b[0m \u001b[0mgen_sel\u001b[0m\u001b[0;34m)\u001b[0m\u001b[0;34m\u001b[0m\u001b[0m\n\u001b[1;32m      5\u001b[0m             \u001b[0;31m# drawSeveral([his.hreso.h_ptResVpt for his in hsets], labels,  'COLZ', do_profile=True, text=text)\u001b[0m\u001b[0;34m\u001b[0m\u001b[0;34m\u001b[0m\u001b[0m\n\u001b[0;32m----> 6\u001b[0;31m             \u001b[0mdraw\u001b[0m\u001b[0;34m(\u001b[0m\u001b[0;34m[\u001b[0m\u001b[0mhis\u001b[0m\u001b[0;34m.\u001b[0m\u001b[0mh_eff\u001b[0m\u001b[0;34m.\u001b[0m\u001b[0mh_eta\u001b[0m\u001b[0;34m.\u001b[0m\u001b[0mCreateGraph\u001b[0m\u001b[0;34m(\u001b[0m\u001b[0;34m)\u001b[0m \u001b[0;32mfor\u001b[0m \u001b[0mhis\u001b[0m \u001b[0;32min\u001b[0m \u001b[0mhsets\u001b[0m\u001b[0;34m]\u001b[0m\u001b[0;34m,\u001b[0m \u001b[0mlabels\u001b[0m\u001b[0;34m,\u001b[0m \u001b[0mtext\u001b[0m\u001b[0;34m=\u001b[0m\u001b[0mtext\u001b[0m\u001b[0;34m,\u001b[0m \u001b[0mmin_y\u001b[0m\u001b[0;34m=\u001b[0m\u001b[0;36m0\u001b[0m\u001b[0;34m,\u001b[0m \u001b[0mmax_y\u001b[0m\u001b[0;34m=\u001b[0m\u001b[0;36m1.1\u001b[0m\u001b[0;34m,\u001b[0m \u001b[0mv_lines\u001b[0m\u001b[0;34m=\u001b[0m\u001b[0;34m[\u001b[0m\u001b[0;34m-\u001b[0m\u001b[0;36m2.8\u001b[0m\u001b[0;34m,\u001b[0m \u001b[0;34m-\u001b[0m\u001b[0;36m2.4\u001b[0m\u001b[0;34m,\u001b[0m \u001b[0;34m-\u001b[0m\u001b[0;36m1.7\u001b[0m\u001b[0;34m,\u001b[0m \u001b[0;34m-\u001b[0m\u001b[0;36m1.52\u001b[0m\u001b[0;34m,\u001b[0m \u001b[0;36m1.52\u001b[0m\u001b[0;34m,\u001b[0m \u001b[0;36m1.7\u001b[0m\u001b[0;34m,\u001b[0m \u001b[0;36m2.4\u001b[0m\u001b[0;34m,\u001b[0m \u001b[0;36m2.8\u001b[0m\u001b[0;34m]\u001b[0m\u001b[0;34m)\u001b[0m\u001b[0;34m\u001b[0m\u001b[0m\n\u001b[0m",
      "\u001b[0;31mTypeError\u001b[0m: 'NoneType' object is not iterable"
     ]
    }
   ],
   "source": [
    "for tp in tps:\n",
    "    for tp_sel in tp_select[tp]:\n",
    "        for gen_sel in ['GENPt20']:\n",
    "            hsets, labels, text = hplot.get_histo(histos.HistoSetEff, 'V8', ['PU0', 'PU200'], tp, tp_sel, gen_sel)\n",
    "            # drawSeveral([his.hreso.h_ptResVpt for his in hsets], labels,  'COLZ', do_profile=True, text=text)\n",
    "            draw([his.h_eff.h_eta.CreateGraph() for his in hsets], labels, text=text, min_y=0, max_y=1.1, v_lines=[-2.8, -2.4, -1.7, -1.52, 1.52, 1.7, 2.4, 2.8])\n"
   ]
  },
  {
   "cell_type": "code",
   "execution_count": 36,
   "metadata": {
    "scrolled": false
   },
   "outputs": [
    {
     "name": "stdout",
     "output_type": "stream",
     "text": [
      "EG EGq2\n",
      "No match found for: pu: PU0, tp: EG, tp_sel: EGq2, gen_sel: GENPt20, classtype: python.l1THistos.HistoSetEff\n"
     ]
    },
    {
     "ename": "TypeError",
     "evalue": "'NoneType' object is not iterable",
     "output_type": "error",
     "traceback": [
      "\u001b[0;31m\u001b[0m",
      "\u001b[0;31mTypeError\u001b[0mTraceback (most recent call last)",
      "\u001b[0;32m<ipython-input-36-4ee5b8d82970>\u001b[0m in \u001b[0;36m<module>\u001b[0;34m()\u001b[0m\n\u001b[1;32m      6\u001b[0m                 \u001b[0mhsets\u001b[0m\u001b[0;34m,\u001b[0m \u001b[0mlabels\u001b[0m\u001b[0;34m,\u001b[0m \u001b[0mtext\u001b[0m \u001b[0;34m=\u001b[0m \u001b[0mhplot\u001b[0m\u001b[0;34m.\u001b[0m\u001b[0mget_histo\u001b[0m\u001b[0;34m(\u001b[0m\u001b[0mhistos\u001b[0m\u001b[0;34m.\u001b[0m\u001b[0mHistoSetEff\u001b[0m\u001b[0;34m,\u001b[0m \u001b[0;34m[\u001b[0m\u001b[0;34m'V8'\u001b[0m\u001b[0;34m,\u001b[0m \u001b[0;34m'V9'\u001b[0m\u001b[0;34m]\u001b[0m\u001b[0;34m,\u001b[0m \u001b[0mpu\u001b[0m\u001b[0;34m,\u001b[0m \u001b[0mtp\u001b[0m\u001b[0;34m,\u001b[0m \u001b[0mtp_sel\u001b[0m\u001b[0;34m,\u001b[0m \u001b[0mgen_sel\u001b[0m\u001b[0;34m)\u001b[0m\u001b[0;34m\u001b[0m\u001b[0m\n\u001b[1;32m      7\u001b[0m                 \u001b[0;31m# drawSeveral([his.hreso.h_ptResVpt for his in hsets], labels,  'COLZ', do_profile=True, text=text)\u001b[0m\u001b[0;34m\u001b[0m\u001b[0;34m\u001b[0m\u001b[0m\n\u001b[0;32m----> 8\u001b[0;31m                 \u001b[0mdraw\u001b[0m\u001b[0;34m(\u001b[0m\u001b[0;34m[\u001b[0m\u001b[0mhis\u001b[0m\u001b[0;34m.\u001b[0m\u001b[0mh_eff\u001b[0m\u001b[0;34m.\u001b[0m\u001b[0mh_eta\u001b[0m\u001b[0;34m.\u001b[0m\u001b[0mCreateGraph\u001b[0m\u001b[0;34m(\u001b[0m\u001b[0;34m)\u001b[0m \u001b[0;32mfor\u001b[0m \u001b[0mhis\u001b[0m \u001b[0;32min\u001b[0m \u001b[0mhsets\u001b[0m\u001b[0;34m]\u001b[0m\u001b[0;34m,\u001b[0m \u001b[0mlabels\u001b[0m\u001b[0;34m,\u001b[0m \u001b[0mtext\u001b[0m\u001b[0;34m=\u001b[0m\u001b[0mtext\u001b[0m\u001b[0;34m,\u001b[0m \u001b[0mmin_y\u001b[0m\u001b[0;34m=\u001b[0m\u001b[0;36m0\u001b[0m\u001b[0;34m,\u001b[0m \u001b[0mmax_y\u001b[0m\u001b[0;34m=\u001b[0m\u001b[0;36m1.1\u001b[0m\u001b[0;34m,\u001b[0m \u001b[0mv_lines\u001b[0m\u001b[0;34m=\u001b[0m\u001b[0;34m[\u001b[0m\u001b[0;34m-\u001b[0m\u001b[0;36m2.8\u001b[0m\u001b[0;34m,\u001b[0m \u001b[0;34m-\u001b[0m\u001b[0;36m2.4\u001b[0m\u001b[0;34m,\u001b[0m \u001b[0;34m-\u001b[0m\u001b[0;36m1.7\u001b[0m\u001b[0;34m,\u001b[0m \u001b[0;34m-\u001b[0m\u001b[0;36m1.52\u001b[0m\u001b[0;34m,\u001b[0m \u001b[0;36m1.52\u001b[0m\u001b[0;34m,\u001b[0m \u001b[0;36m1.7\u001b[0m\u001b[0;34m,\u001b[0m \u001b[0;36m2.4\u001b[0m\u001b[0;34m,\u001b[0m \u001b[0;36m2.8\u001b[0m\u001b[0;34m]\u001b[0m\u001b[0;34m)\u001b[0m\u001b[0;34m\u001b[0m\u001b[0m\n\u001b[0m",
      "\u001b[0;31mTypeError\u001b[0m: 'NoneType' object is not iterable"
     ]
    }
   ],
   "source": [
    "for pu in ['PU0', 'PU200']:\n",
    "    for tp in ['EG', 'TkEle']:\n",
    "        for tp_sel in tp_select[tp]:\n",
    "            for gen_sel in ['GENPt20']:\n",
    "                print tp, tp_sel\n",
    "                hsets, labels, text = hplot.get_histo(histos.HistoSetEff, ['V8', 'V9'], pu, tp, tp_sel, gen_sel)\n",
    "                # drawSeveral([his.hreso.h_ptResVpt for his in hsets], labels,  'COLZ', do_profile=True, text=text)\n",
    "                draw([his.h_eff.h_eta.CreateGraph() for his in hsets], labels, text=text, min_y=0, max_y=1.1, v_lines=[-2.8, -2.4, -1.7, -1.52, 1.52, 1.7, 2.4, 2.8])\n"
   ]
  },
  {
   "cell_type": "code",
   "execution_count": 37,
   "metadata": {},
   "outputs": [
    {
     "name": "stdout",
     "output_type": "stream",
     "text": [
      "No match found for: pu: PU0, tp: ['EG'], tp_sel: ['EGq2'], gen_sel: GENPt20, classtype: python.l1THistos.HistoSetEff\n"
     ]
    },
    {
     "ename": "TypeError",
     "evalue": "'NoneType' object has no attribute '__getitem__'",
     "output_type": "error",
     "traceback": [
      "\u001b[0;31m\u001b[0m",
      "\u001b[0;31mTypeError\u001b[0mTraceback (most recent call last)",
      "\u001b[0;32m<ipython-input-37-3e68e7de4795>\u001b[0m in \u001b[0;36m<module>\u001b[0;34m()\u001b[0m\n\u001b[1;32m      8\u001b[0m     \u001b[0mlabels_new\u001b[0m \u001b[0;34m=\u001b[0m \u001b[0;34m[\u001b[0m\u001b[0;34m]\u001b[0m\u001b[0;34m\u001b[0m\u001b[0m\n\u001b[1;32m      9\u001b[0m     \u001b[0mhsets\u001b[0m\u001b[0;34m,\u001b[0m \u001b[0mlabels\u001b[0m\u001b[0;34m,\u001b[0m \u001b[0mtext\u001b[0m \u001b[0;34m=\u001b[0m \u001b[0mhplot\u001b[0m\u001b[0;34m.\u001b[0m\u001b[0mget_histo\u001b[0m\u001b[0;34m(\u001b[0m\u001b[0mhistos\u001b[0m\u001b[0;34m.\u001b[0m\u001b[0mHistoSetEff\u001b[0m\u001b[0;34m,\u001b[0m \u001b[0msample\u001b[0m\u001b[0;34m,\u001b[0m \u001b[0mpu\u001b[0m\u001b[0;34m,\u001b[0m \u001b[0;34m[\u001b[0m\u001b[0;34m'EG'\u001b[0m\u001b[0;34m]\u001b[0m\u001b[0;34m,\u001b[0m \u001b[0;34m[\u001b[0m\u001b[0;34m'EGq2'\u001b[0m\u001b[0;34m]\u001b[0m\u001b[0;34m,\u001b[0m \u001b[0;34m'GENPt20'\u001b[0m\u001b[0;34m)\u001b[0m\u001b[0;34m\u001b[0m\u001b[0m\n\u001b[0;32m---> 10\u001b[0;31m     \u001b[0mhsets_new\u001b[0m\u001b[0;34m.\u001b[0m\u001b[0mappend\u001b[0m\u001b[0;34m(\u001b[0m\u001b[0mhsets\u001b[0m\u001b[0;34m[\u001b[0m\u001b[0;36m0\u001b[0m\u001b[0;34m]\u001b[0m\u001b[0;34m)\u001b[0m\u001b[0;34m\u001b[0m\u001b[0m\n\u001b[0m\u001b[1;32m     11\u001b[0m     \u001b[0mlabels_new\u001b[0m\u001b[0;34m.\u001b[0m\u001b[0mappend\u001b[0m\u001b[0;34m(\u001b[0m\u001b[0;34m\"EG standalone\"\u001b[0m\u001b[0;34m)\u001b[0m\u001b[0;34m\u001b[0m\u001b[0m\n\u001b[1;32m     12\u001b[0m     \u001b[0mhsets\u001b[0m\u001b[0;34m,\u001b[0m \u001b[0mlabels\u001b[0m\u001b[0;34m,\u001b[0m \u001b[0mtext\u001b[0m \u001b[0;34m=\u001b[0m \u001b[0mhplot\u001b[0m\u001b[0;34m.\u001b[0m\u001b[0mget_histo\u001b[0m\u001b[0;34m(\u001b[0m\u001b[0mhistos\u001b[0m\u001b[0;34m.\u001b[0m\u001b[0mHistoSetEff\u001b[0m\u001b[0;34m,\u001b[0m \u001b[0msample\u001b[0m\u001b[0;34m,\u001b[0m \u001b[0mpu\u001b[0m\u001b[0;34m,\u001b[0m \u001b[0;34m[\u001b[0m\u001b[0;34m'L1Trk'\u001b[0m\u001b[0;34m]\u001b[0m\u001b[0;34m,\u001b[0m \u001b[0;34m[\u001b[0m\u001b[0;34m'Pt2'\u001b[0m\u001b[0;34m]\u001b[0m\u001b[0;34m,\u001b[0m \u001b[0;34m'GENPt20'\u001b[0m\u001b[0;34m)\u001b[0m\u001b[0;34m\u001b[0m\u001b[0m\n",
      "\u001b[0;31mTypeError\u001b[0m: 'NoneType' object has no attribute '__getitem__'"
     ]
    }
   ],
   "source": [
    "# for tp in tps:\n",
    "#     for tp_sel in tp_select[tp]:\n",
    "#         for gen_sel in ['GENPt20']:\n",
    "\n",
    "for pu in ['PU0', 'PU200']:\n",
    "\n",
    "    hsets_new = []\n",
    "    labels_new = []\n",
    "    hsets, labels, text = hplot.get_histo(histos.HistoSetEff, sample, pu, ['EG'], ['EGq2'], 'GENPt20')\n",
    "    hsets_new.append(hsets[0])\n",
    "    labels_new.append(\"EG standalone\")\n",
    "    hsets, labels, text = hplot.get_histo(histos.HistoSetEff, sample, pu, ['L1Trk'], ['Pt2'], 'GENPt20')\n",
    "    hsets_new.append(hsets[0])\n",
    "    labels_new.append(\"L1Trk p_{T}>2GeV\")\n",
    "\n",
    "    hsets, labels, text = hplot.get_histo(histos.HistoSetEff, sample, pu, ['L1Trk'], ['Pt10'], 'GENPt20')\n",
    "    hsets_new.append(hsets[0])\n",
    "    labels_new.append(\"L1Trk p_{T}>10GeV\")\n",
    "\n",
    "    hsets, labels, text = hplot.get_histo(histos.HistoSetEff, sample, pu, ['TkEle'], ['EGq2'], 'GENPt20')\n",
    "    hsets_new.append(hsets[0])\n",
    "    labels_new.append(\"TkEle\")\n",
    "\n",
    "    # drawSeveral([his.hreso.h_ptResVpt for his in hsets], labels,  'COLZ', do_profile=True, text=text)\n",
    "    draw([his.h_eff.h_eta.CreateGraph() for his in hsets_new], labels_new, text=text, min_y=0.75, max_y=1.1, v_lines=[-2.8, -2.4, -1.7, -1.52, 1.52, 1.7, 2.4, 2.8])\n"
   ]
  },
  {
   "cell_type": "code",
   "execution_count": 38,
   "metadata": {
    "scrolled": false
   },
   "outputs": [
    {
     "data": {
      "text/plain": [
       "<drawingTools.DrawMachine at 0x11cf48d10>"
      ]
     },
     "execution_count": 38,
     "metadata": {},
     "output_type": "execute_result"
    },
    {
     "name": "stderr",
     "output_type": "stream",
     "text": [
      "Info in <TCanvas::Print>: pdf file figs/egammaBarrelEndcap_EG_GENPt30_hEffVAbsEta.pdf has been created\n",
      "Info in <TCanvas::Print>: pdf file figs/egammaBarrelEndcap_EG_GENPt30_hEffVEta.pdf has been created\n"
     ]
    },
    {
     "data": {
      "text/html": [
       "\n",
       "<div id=\"root_plot_6\"\n",
       "     style=\"width: 596px; height: 572px\">\n",
       "</div>\n",
       "\n",
       "<script>\n",
       " requirejs.config({\n",
       "     paths: {\n",
       "       'JSRootCore' : 'https://root.cern.ch/js/notebook//scripts/JSRootCore',\n",
       "     }\n",
       "   });\n",
       " require(['JSRootCore'],\n",
       "     function(Core) {\n",
       "       var obj = Core.JSONR_unref({\"_typename\":\"TCanvas\",\"fUniqueID\":0,\"fBits\":53673992,\"fLineColor\":1,\"fLineStyle\":1,\"fLineWidth\":1,\"fFillColor\":0,\"fFillStyle\":1001,\"fLeftMargin\":0.13,\"fRightMargin\":0.13,\"fBottomMargin\":0.13,\"fTopMargin\":0.1,\"fXfile\":2,\"fYfile\":2,\"fAfile\":1,\"fXstat\":0.99,\"fYstat\":0.99,\"fAstat\":2,\"fFrameFillColor\":0,\"fFrameLineColor\":1,\"fFrameFillStyle\":1001,\"fFrameLineStyle\":1,\"fFrameLineWidth\":1,\"fFrameBorderSize\":1,\"fFrameBorderMode\":0,\"fX1\":-0.614864834387691,\"fY1\":0.515584416589722,\"fX2\":4.11486483438769,\"fY2\":1.16493506751116,\"fXtoAbsPixelk\":77.4800471580505,\"fXtoPixelk\":77.4800471580505,\"fXtoPixel\":126.0114301954,\"fYtoAbsPixelk\":1026.16804978691,\"fYtoPixelk\":1026.16804978691,\"fYtoPixel\":-880.879997869134,\"fUtoAbsPixelk\":5e-5,\"fUtoPixelk\":5e-5,\"fUtoPixel\":596,\"fVtoAbsPixelk\":572.00005,\"fVtoPixelk\":572,\"fVtoPixel\":-572,\"fAbsPixeltoXk\":-0.614864834387691,\"fPixeltoXk\":-0.614864834387691,\"fPixeltoX\":0.00793578803485802,\"fAbsPixeltoYk\":1.16493506751116,\"fPixeltoYk\":0.515584416589722,\"fPixeltoY\":-0.00113522841070182,\"fXlowNDC\":0,\"fYlowNDC\":0,\"fXUpNDC\":0,\"fYUpNDC\":0,\"fWNDC\":1,\"fHNDC\":1,\"fAbsXlowNDC\":0,\"fAbsYlowNDC\":0,\"fAbsWNDC\":1,\"fAbsHNDC\":1,\"fUxmin\":0,\"fUymin\":0.6,\"fUxmax\":3.5,\"fUymax\":1.1,\"fTheta\":30,\"fPhi\":30,\"fAspectRatio\":0,\"fNumber\":0,\"fTickx\":0,\"fTicky\":0,\"fLogx\":0,\"fLogy\":0,\"fLogz\":0,\"fPadPaint\":0,\"fCrosshair\":0,\"fCrosshairPos\":0,\"fBorderSize\":2,\"fBorderMode\":0,\"fModified\":false,\"fGridx\":false,\"fGridy\":false,\"fAbsCoord\":false,\"fEditable\":true,\"fFixedAspectRatio\":false,\"fPrimitives\":{\"_typename\":\"TList\",\"name\":\"TList\",\"arr\":[{\"_typename\":\"TFrame\",\"fUniqueID\":0,\"fBits\":50331656,\"fLineColor\":1,\"fLineStyle\":1,\"fLineWidth\":1,\"fFillColor\":0,\"fFillStyle\":1001,\"fX1\":0,\"fY1\":0.6,\"fX2\":3.5,\"fY2\":1.1,\"fBorderSize\":1,\"fBorderMode\":0},{\"_typename\":\"TGraphAsymmErrors\",\"fUniqueID\":0,\"fBits\":50332680,\"fName\":\"79fafc\",\"fTitle\":\"; |#eta^{GEN}|;\",\"fLineColor\":1,\"fLineStyle\":1,\"fLineWidth\":1,\"fFillColor\":0,\"fFillStyle\":1001,\"fMarkerColor\":1,\"fMarkerStyle\":8,\"fMarkerSize\":0.5,\"fNpoints\":16,\"fX\":[0.1,0.3,0.5,0.7,0.9,1.1,1.3,1.5,1.7,1.9,2.1,2.3,2.5,2.7,2.9,3.1],\"fY\":[0.983253588516746,0.989239598278336,0.984696317551411,0.988224211022139,0.988911988911989,0.993345571363011,0.991423273064441,0.811590909090909,0.993445692883895,0.996205833530946,0.994164332399627,0.98757327080891,0.978037717832418,0.955744095390965,0.890148830616584,0.0186000978952521],\"fFunctions\":{\"_typename\":\"TList\",\"name\":\"TList\",\"arr\":[],\"opt\":[]},\"fHistogram\":{\"_typename\":\"TH1F\",\"fUniqueID\":0,\"fBits\":50332160,\"fName\":\"79fafc\",\"fTitle\":\"\",\"fLineColor\":602,\"fLineStyle\":1,\"fLineWidth\":1,\"fFillColor\":0,\"fFillStyle\":1001,\"fMarkerColor\":1,\"fMarkerStyle\":1,\"fMarkerSize\":1,\"fNcells\":102,\"fXaxis\":{\"_typename\":\"TAxis\",\"fUniqueID\":0,\"fBits\":50331656,\"fName\":\"xaxis\",\"fTitle\":\" |#eta^{GEN}|\",\"fNdivisions\":510,\"fAxisColor\":1,\"fLabelColor\":1,\"fLabelFont\":42,\"fLabelOffset\":0.005,\"fLabelSize\":0.035,\"fTickLength\":0.03,\"fTitleOffset\":1.4,\"fTitleSize\":0.035,\"fTitleColor\":1,\"fTitleFont\":42,\"fNbins\":100,\"fXmin\":0,\"fXmax\":3.5,\"fXbins\":[],\"fFirst\":0,\"fLast\":0,\"fBits2\":0,\"fTimeDisplay\":false,\"fTimeFormat\":\"\",\"fLabels\":null,\"fModLabs\":null},\"fYaxis\":{\"_typename\":\"TAxis\",\"fUniqueID\":0,\"fBits\":50331656,\"fName\":\"yaxis\",\"fTitle\":\"efficiency\",\"fNdivisions\":510,\"fAxisColor\":1,\"fLabelColor\":1,\"fLabelFont\":42,\"fLabelOffset\":0.005,\"fLabelSize\":0.035,\"fTickLength\":0.03,\"fTitleOffset\":0,\"fTitleSize\":0.035,\"fTitleColor\":1,\"fTitleFont\":42,\"fNbins\":1,\"fXmin\":0.0140542455986716,\"fXmax\":1.09529611918499,\"fXbins\":[],\"fFirst\":0,\"fLast\":0,\"fBits2\":0,\"fTimeDisplay\":false,\"fTimeFormat\":\"\",\"fLabels\":null,\"fModLabs\":null},\"fZaxis\":{\"_typename\":\"TAxis\",\"fUniqueID\":0,\"fBits\":50331648,\"fName\":\"zaxis\",\"fTitle\":\"\",\"fNdivisions\":510,\"fAxisColor\":1,\"fLabelColor\":1,\"fLabelFont\":42,\"fLabelOffset\":0.005,\"fLabelSize\":0.035,\"fTickLength\":0.03,\"fTitleOffset\":1,\"fTitleSize\":0.035,\"fTitleColor\":1,\"fTitleFont\":42,\"fNbins\":1,\"fXmin\":0,\"fXmax\":1,\"fXbins\":[],\"fFirst\":0,\"fLast\":0,\"fBits2\":0,\"fTimeDisplay\":false,\"fTimeFormat\":\"\",\"fLabels\":null,\"fModLabs\":null},\"fBarOffset\":0,\"fBarWidth\":1000,\"fEntries\":0,\"fTsumw\":0,\"fTsumw2\":0,\"fTsumwx\":0,\"fTsumwx2\":0,\"fMaximum\":1.1,\"fMinimum\":0.6,\"fNormFactor\":0,\"fContour\":[],\"fSumw2\":[],\"fOption\":\"\",\"fFunctions\":{\"_typename\":\"TList\",\"name\":\"TList\",\"arr\":[],\"opt\":[]},\"fBufferSize\":0,\"fBuffer\":[],\"fBinStatErrOpt\":0,\"fStatOverflows\":2,\"fArray\":[0,0,0,0,0,0,0,0,0,0,0,0,0,0,0,0,0,0,0,0,0,0,0,0,0,0,0,0,0,0,0,0,0,0,0,0,0,0,0,0,0,0,0,0,0,0,0,0,0,0,0,0,0,0,0,0,0,0,0,0,0,0,0,0,0,0,0,0,0,0,0,0,0,0,0,0,0,0,0,0,0,0,0,0,0,0,0,0,0,0,0,0,0,0,0,0,0,0,0,0,0,0]},\"fMinimum\":-1111,\"fMaximum\":-1111,\"fEXlow\":[0.1,0.1,0.1,0.1,0.1,0.1,0.1,0.1,0.1,0.1,0.1,0.1,0.1,0.1,0.1,0.1],\"fEXhigh\":[0.1,0.1,0.1,0.1,0.1,0.0999999999999999,0.0999999999999999,0.0999999999999999,0.0999999999999999,0.0999999999999999,0.0999999999999999,0.0999999999999999,0.0999999999999999,0.0999999999999999,0.0999999999999999,0.0999999999999999],\"fEYlow\":[0.00222890870067549,0.00184334746415837,0.00214311499007391,0.00189885751478747,0.00183059848766587,0.0014733304359531,0.00164603407343322,0.00608052270453019,0.00148147720351555,0.00120236037130439,0.00141096502574389,0.0019380830247262,0.00250554029378325,0.00333809854794265,0.00501881886181066,0.00298426945228368],\"fEYhigh\":[0.00198375809903395,0.001591835246322,0.00189671854739892,0.00165252852935127,0.0015883246700592,0.00122581314118186,0.00139938849494248,0.00593617928238721,0.00122854608949963,9.37531950221948e-4,0.00115710609496344,0.00169364141665862,0.002265287114392,0.00312141475331418,0.00482997571205179,0.0034940544849682]},{\"_typename\":\"TGraphAsymmErrors\",\"fUniqueID\":0,\"fBits\":50332680,\"fName\":\"2bcd48\",\"fTitle\":\"; |#eta^{GEN}|;\",\"fLineColor\":628,\"fLineStyle\":1,\"fLineWidth\":1,\"fFillColor\":0,\"fFillStyle\":1001,\"fMarkerColor\":628,\"fMarkerStyle\":21,\"fMarkerSize\":0.5,\"fNpoints\":16,\"fX\":[0.1,0.3,0.5,0.7,0.9,1.1,1.3,1.5,1.7,1.9,2.1,2.3,2.5,2.7,2.9,3.1],\"fY\":[0.881578947368421,0.925633668101387,0.904112864658058,0.921573245407442,0.903210903210903,0.904543368517669,0.89522484932777,0.734090909090909,0.904728464419476,0.906331515295234,0.918067226890756,0.889097303634232,0.160420148006684,0,0,0],\"fFunctions\":{\"_typename\":\"TList\",\"name\":\"TList\",\"arr\":[],\"opt\":[]},\"fHistogram\":{\"_typename\":\"TH1F\",\"fUniqueID\":0,\"fBits\":50332160,\"fName\":\"2bcd48\",\"fTitle\":\"\",\"fLineColor\":602,\"fLineStyle\":1,\"fLineWidth\":1,\"fFillColor\":0,\"fFillStyle\":1001,\"fMarkerColor\":1,\"fMarkerStyle\":1,\"fMarkerSize\":1,\"fNcells\":102,\"fXaxis\":{\"_typename\":\"TAxis\",\"fUniqueID\":0,\"fBits\":50331656,\"fName\":\"xaxis\",\"fTitle\":\" |#eta^{GEN}|\",\"fNdivisions\":510,\"fAxisColor\":1,\"fLabelColor\":1,\"fLabelFont\":42,\"fLabelOffset\":0.005,\"fLabelSize\":0.035,\"fTickLength\":0.03,\"fTitleOffset\":1.4,\"fTitleSize\":0.035,\"fTitleColor\":1,\"fTitleFont\":42,\"fNbins\":100,\"fXmin\":0,\"fXmax\":3.5,\"fXbins\":[],\"fFirst\":0,\"fLast\":0,\"fBits2\":0,\"fTimeDisplay\":false,\"fTimeFormat\":\"\",\"fLabels\":null,\"fModLabs\":null},\"fYaxis\":{\"_typename\":\"TAxis\",\"fUniqueID\":0,\"fBits\":50331656,\"fName\":\"yaxis\",\"fTitle\":\"efficiency\",\"fNdivisions\":510,\"fAxisColor\":1,\"fLabelColor\":1,\"fLabelFont\":42,\"fLabelOffset\":0.005,\"fLabelSize\":0.035,\"fTickLength\":0.03,\"fTitleOffset\":0,\"fTitleSize\":0.035,\"fTitleColor\":1,\"fTitleFont\":42,\"fNbins\":1,\"fXmin\":0,\"fXmax\":1.02267648977383,\"fXbins\":[],\"fFirst\":0,\"fLast\":0,\"fBits2\":0,\"fTimeDisplay\":false,\"fTimeFormat\":\"\",\"fLabels\":null,\"fModLabs\":null},\"fZaxis\":{\"_typename\":\"TAxis\",\"fUniqueID\":0,\"fBits\":50331648,\"fName\":\"zaxis\",\"fTitle\":\"\",\"fNdivisions\":510,\"fAxisColor\":1,\"fLabelColor\":1,\"fLabelFont\":42,\"fLabelOffset\":0.005,\"fLabelSize\":0.035,\"fTickLength\":0.03,\"fTitleOffset\":1,\"fTitleSize\":0.035,\"fTitleColor\":1,\"fTitleFont\":42,\"fNbins\":1,\"fXmin\":0,\"fXmax\":1,\"fXbins\":[],\"fFirst\":0,\"fLast\":0,\"fBits2\":0,\"fTimeDisplay\":false,\"fTimeFormat\":\"\",\"fLabels\":null,\"fModLabs\":null},\"fBarOffset\":0,\"fBarWidth\":1000,\"fEntries\":0,\"fTsumw\":0,\"fTsumw2\":0,\"fTsumwx\":0,\"fTsumwx2\":0,\"fMaximum\":1.1,\"fMinimum\":0.6,\"fNormFactor\":0,\"fContour\":[],\"fSumw2\":[],\"fOption\":\"\",\"fFunctions\":{\"_typename\":\"TList\",\"name\":\"TList\",\"arr\":[],\"opt\":[]},\"fBufferSize\":0,\"fBuffer\":[],\"fBinStatErrOpt\":0,\"fStatOverflows\":2,\"fArray\":[0,0,0,0,0,0,0,0,0,0,0,0,0,0,0,0,0,0,0,0,0,0,0,0,0,0,0,0,0,0,0,0,0,0,0,0,0,0,0,0,0,0,0,0,0,0,0,0,0,0,0,0,0,0,0,0,0,0,0,0,0,0,0,0,0,0,0,0,0,0,0,0,0,0,0,0,0,0,0,0,0,0,0,0,0,0,0,0,0,0,0,0,0,0,0,0,0,0,0,0,0,0]},\"fMinimum\":-1111,\"fMaximum\":-1111,\"fEXlow\":[0.1,0.1,0.1,0.1,0.1,0.1,0.1,0.1,0.1,0.1,0.1,0.1,0.1,0.1,0.1,0.1],\"fEXhigh\":[0.1,0.1,0.1,0.1,0.1,0.0999999999999999,0.0999999999999999,0.0999999999999999,0.0999999999999999,0.0999999999999999,0.0999999999999999,0.0999999999999999,0.0999999999999999,0.0999999999999999,0.0999999999999999,0.0999999999999999],\"fEYlow\":[0.00521055294941675,0.00428176084744736,0.00477184550866749,0.00434593795133265,0.00470492404111711,0.00466121751974724,0.00487270338943635,0.00682772592471115,0.00470619809241635,0.0047044043821689,0.00440751147044749,0.00501890173677155,0.00570657101560207,0,0,0],\"fEYhigh\":[0.0050236336613585,0.0040722316930043,0.00457353230419588,0.00414171986480572,0.00451387559670613,0.00447079937878281,0.00468494317603707,0.00671952022769129,0.00451180502877369,0.00450662501127752,0.00420692256324817,0.0048320159234515,0.00587209072912162,4.22066750895466e-4,4.34826683988015e-4,9.00730488653173e-4]},{\"_typename\":\"TGraphAsymmErrors\",\"fUniqueID\":0,\"fBits\":50332680,\"fName\":\"d1b9d5\",\"fTitle\":\"; |#eta^{GEN}|;\",\"fLineColor\":417,\"fLineStyle\":1,\"fLineWidth\":1,\"fFillColor\":0,\"fFillStyle\":1001,\"fMarkerColor\":417,\"fMarkerStyle\":22,\"fMarkerSize\":0.5,\"fNpoints\":16,\"fX\":[0.1,0.3,0.5,0.7,0.9,1.1,1.3,1.5,1.7,1.9,2.1,2.3,2.5,2.7,2.9,3.1],\"fY\":[0.881100478468899,0.927068388330942,0.907221425155428,0.922279792746114,0.907599907599908,0.905002294630564,0.890356977283264,0.729772727272727,0.900749063670412,0.900165994783021,0.912931839402428,0.885814771395076,0.159942707089998,0,0,0],\"fFunctions\":{\"_typename\":\"TList\",\"name\":\"TList\",\"arr\":[],\"opt\":[]},\"fHistogram\":{\"_typename\":\"TH1F\",\"fUniqueID\":0,\"fBits\":50332160,\"fName\":\"d1b9d5\",\"fTitle\":\"\",\"fLineColor\":602,\"fLineStyle\":1,\"fLineWidth\":1,\"fFillColor\":0,\"fFillStyle\":1001,\"fMarkerColor\":1,\"fMarkerStyle\":1,\"fMarkerSize\":1,\"fNcells\":102,\"fXaxis\":{\"_typename\":\"TAxis\",\"fUniqueID\":0,\"fBits\":50331656,\"fName\":\"xaxis\",\"fTitle\":\" |#eta^{GEN}|\",\"fNdivisions\":510,\"fAxisColor\":1,\"fLabelColor\":1,\"fLabelFont\":42,\"fLabelOffset\":0.005,\"fLabelSize\":0.035,\"fTickLength\":0.03,\"fTitleOffset\":1.4,\"fTitleSize\":0.035,\"fTitleColor\":1,\"fTitleFont\":42,\"fNbins\":100,\"fXmin\":0,\"fXmax\":3.5,\"fXbins\":[],\"fFirst\":0,\"fLast\":0,\"fBits2\":0,\"fTimeDisplay\":false,\"fTimeFormat\":\"\",\"fLabels\":null,\"fModLabs\":null},\"fYaxis\":{\"_typename\":\"TAxis\",\"fUniqueID\":0,\"fBits\":50331656,\"fName\":\"yaxis\",\"fTitle\":\"efficiency\",\"fNdivisions\":510,\"fAxisColor\":1,\"fLabelColor\":1,\"fLabelFont\":42,\"fLabelOffset\":0.005,\"fLabelSize\":0.035,\"fTickLength\":0.03,\"fTitleOffset\":0,\"fTitleSize\":0.035,\"fTitleColor\":1,\"fTitleFont\":42,\"fNbins\":1,\"fXmin\":0,\"fXmax\":1.02421444773698,\"fXbins\":[],\"fFirst\":0,\"fLast\":0,\"fBits2\":0,\"fTimeDisplay\":false,\"fTimeFormat\":\"\",\"fLabels\":null,\"fModLabs\":null},\"fZaxis\":{\"_typename\":\"TAxis\",\"fUniqueID\":0,\"fBits\":50331648,\"fName\":\"zaxis\",\"fTitle\":\"\",\"fNdivisions\":510,\"fAxisColor\":1,\"fLabelColor\":1,\"fLabelFont\":42,\"fLabelOffset\":0.005,\"fLabelSize\":0.035,\"fTickLength\":0.03,\"fTitleOffset\":1,\"fTitleSize\":0.035,\"fTitleColor\":1,\"fTitleFont\":42,\"fNbins\":1,\"fXmin\":0,\"fXmax\":1,\"fXbins\":[],\"fFirst\":0,\"fLast\":0,\"fBits2\":0,\"fTimeDisplay\":false,\"fTimeFormat\":\"\",\"fLabels\":null,\"fModLabs\":null},\"fBarOffset\":0,\"fBarWidth\":1000,\"fEntries\":0,\"fTsumw\":0,\"fTsumw2\":0,\"fTsumwx\":0,\"fTsumwx2\":0,\"fMaximum\":1.1,\"fMinimum\":0.6,\"fNormFactor\":0,\"fContour\":[],\"fSumw2\":[],\"fOption\":\"\",\"fFunctions\":{\"_typename\":\"TList\",\"name\":\"TList\",\"arr\":[],\"opt\":[]},\"fBufferSize\":0,\"fBuffer\":[],\"fBinStatErrOpt\":0,\"fStatOverflows\":2,\"fArray\":[0,0,0,0,0,0,0,0,0,0,0,0,0,0,0,0,0,0,0,0,0,0,0,0,0,0,0,0,0,0,0,0,0,0,0,0,0,0,0,0,0,0,0,0,0,0,0,0,0,0,0,0,0,0,0,0,0,0,0,0,0,0,0,0,0,0,0,0,0,0,0,0,0,0,0,0,0,0,0,0,0,0,0,0,0,0,0,0,0,0,0,0,0,0,0,0,0,0,0,0,0,0]},\"fMinimum\":-1111,\"fMaximum\":-1111,\"fEXlow\":[0.1,0.1,0.1,0.1,0.1,0.1,0.1,0.1,0.1,0.1,0.1,0.1,0.1,0.1,0.1,0.1],\"fEXhigh\":[0.1,0.1,0.1,0.1,0.1,0.0999999999999999,0.0999999999999999,0.0999999999999999,0.0999999999999999,0.0999999999999999,0.0999999999999999,0.0999999999999999,0.0999999999999999,0.0999999999999999,0.0999999999999999,0.0999999999999999],\"fEYlow\":[0.00521915531742811,0.00424594483899987,0.00470595774397375,0.00432907631825763,0.00461363821782101,0.00465174815066915,0.00496556870266018,0.00686080021563862,0.00478792019276419,0.00483231038701593,0.00452337905402489,0.00507968569852979,0.00569962036245228,0,0,0],\"fEYhigh\":[0.00503247803457585,0.00403565506631676,0.00450604283111311,0.00412449234888013,0.00442040833713342,0.00446110363065988,0.00478021025188236,0.00675459963253633,0.00459552708569388,0.00463767308117069,0.00432540057325681,0.00489443244186016,0.00586537692460107,4.22066750895466e-4,4.34826683988015e-4,9.00730488653173e-4]},{\"_typename\":\"TLegend\",\"fUniqueID\":0,\"fBits\":50331656,\"fLineColor\":1,\"fLineStyle\":1,\"fLineWidth\":1,\"fFillColor\":0,\"fFillStyle\":0,\"fX1\":0.14189191261637,\"fY1\":0.645454546774011,\"fX2\":1.37162162649797,\"fY2\":0.742857144412227,\"fX1NDC\":0.16,\"fY1NDC\":0.2,\"fX2NDC\":0.42,\"fY2NDC\":0.35,\"fBorderSize\":0,\"fInit\":1,\"fShadowColor\":1,\"fCornerRadius\":0,\"fOption\":\"brNDC\",\"fName\":\"TPave\",\"fTextAngle\":0,\"fTextSize\":0.03,\"fTextAlign\":12,\"fTextColor\":1,\"fTextFont\":42,\"fPrimitives\":{\"_typename\":\"TList\",\"name\":\"TList\",\"arr\":[{\"_typename\":\"TLegendEntry\",\"fUniqueID\":0,\"fBits\":50331656,\"fTextAngle\":0,\"fTextSize\":0,\"fTextAlign\":0,\"fTextColor\":0,\"fTextFont\":42,\"fLineColor\":1,\"fLineStyle\":1,\"fLineWidth\":1,\"fFillColor\":0,\"fFillStyle\":0,\"fMarkerColor\":1,\"fMarkerStyle\":8,\"fMarkerSize\":0.5,\"fObject\":{\"$ref\":3},\"fLabel\":\"calorimeter-only\",\"fOption\":\"P\"},{\"_typename\":\"TLegendEntry\",\"fUniqueID\":0,\"fBits\":50331656,\"fTextAngle\":0,\"fTextSize\":0,\"fTextAlign\":0,\"fTextColor\":0,\"fTextFont\":42,\"fLineColor\":1,\"fLineStyle\":1,\"fLineWidth\":1,\"fFillColor\":0,\"fFillStyle\":0,\"fMarkerColor\":628,\"fMarkerStyle\":21,\"fMarkerSize\":0.5,\"fObject\":{\"$ref\":10},\"fLabel\":\"track-matched\",\"fOption\":\"P\"},{\"_typename\":\"TLegendEntry\",\"fUniqueID\":0,\"fBits\":50331656,\"fTextAngle\":0,\"fTextSize\":0,\"fTextAlign\":0,\"fTextColor\":0,\"fTextFont\":42,\"fLineColor\":1,\"fLineStyle\":1,\"fLineWidth\":1,\"fFillColor\":0,\"fFillStyle\":0,\"fMarkerColor\":417,\"fMarkerStyle\":22,\"fMarkerSize\":0.5,\"fObject\":{\"$ref\":17},\"fLabel\":\"#splitline{track-matched + charged iso.}{(no EG ID for |#eta| < 1.479)}\",\"fOption\":\"P\"}],\"opt\":[\"P\",\"P\",\"P\"]},\"fEntrySeparation\":0.1,\"fMargin\":0.25,\"fNColumns\":1,\"fColumnSeparation\":0},{\"_typename\":\"TLatex\",\"fUniqueID\":0,\"fBits\":50348040,\"fName\":\"\",\"fTitle\":\"EG, p_{T}^{L1} #geq 25GeV, p_{T}^{GEN} #geq 35GeV\",\"fTextAngle\":0,\"fTextSize\":0.03,\"fTextAlign\":11,\"fTextColor\":1,\"fTextFont\":62,\"fX\":0.15,\"fY\":0.85,\"fLineColor\":1,\"fLineStyle\":1,\"fLineWidth\":2,\"fLimitFactorSize\":3,\"fOriginSize\":0.0299999993294477},{\"_typename\":\"TLatex\",\"fUniqueID\":0,\"fBits\":50348041,\"fName\":\"\",\"fTitle\":\"#scale[1.5]{CMS} #scale[1.]{Phase-2 Simulation}\",\"fTextAngle\":0,\"fTextSize\":0.03,\"fTextAlign\":11,\"fTextColor\":1,\"fTextFont\":62,\"fX\":0.13,\"fY\":0.91,\"fLineColor\":1,\"fLineStyle\":1,\"fLineWidth\":2,\"fLimitFactorSize\":3,\"fOriginSize\":0.0299999993294477},{\"_typename\":\"TLatex\",\"fUniqueID\":0,\"fBits\":50348041,\"fName\":\"\",\"fTitle\":\"14TeV, 200 PU\",\"fTextAngle\":0,\"fTextSize\":0.03,\"fTextAlign\":11,\"fTextColor\":1,\"fTextFont\":62,\"fX\":0.69,\"fY\":0.91,\"fLineColor\":1,\"fLineStyle\":1,\"fLineWidth\":2,\"fLimitFactorSize\":3,\"fOriginSize\":0.0299999993294477},{\"_typename\":\"TLatex\",\"fUniqueID\":0,\"fBits\":50331656,\"fName\":\"\",\"fTitle\":\"\",\"fTextAngle\":0,\"fTextSize\":0.03,\"fTextAlign\":11,\"fTextColor\":1,\"fTextFont\":62,\"fX\":0,\"fY\":0,\"fLineColor\":1,\"fLineStyle\":1,\"fLineWidth\":2,\"fLimitFactorSize\":3,\"fOriginSize\":0.04},{\"_typename\":\"TLine\",\"fUniqueID\":0,\"fBits\":50331656,\"fLineColor\":1,\"fLineStyle\":2,\"fLineWidth\":1,\"fX1\":1.47,\"fY1\":0.6,\"fX2\":1.47,\"fY2\":1.1},{\"_typename\":\"TLine\",\"fUniqueID\":0,\"fBits\":50331656,\"fLineColor\":1,\"fLineStyle\":2,\"fLineWidth\":1,\"fX1\":1.52,\"fY1\":0.6,\"fX2\":1.52,\"fY2\":1.1},{\"_typename\":\"TLine\",\"fUniqueID\":0,\"fBits\":50331656,\"fLineColor\":1,\"fLineStyle\":2,\"fLineWidth\":1,\"fX1\":2.4,\"fY1\":0.6,\"fX2\":2.4,\"fY2\":1.1}],\"opt\":[\"\",\"pa\",\",p\",\",p\",\"same\",\"same\",\"\",\"\",\"same\",\"same\",\"same\",\"same\"]},\"fExecs\":null,\"fName\":\"c_13c83f\",\"fTitle\":\"c_13c83f\",\"fNumPaletteColor\":0,\"fNextPaletteColor\":0,\"fDISPLAY\":\"$DISPLAY\",\"fDoubleBuffer\":0,\"fRetained\":true,\"fXsizeUser\":0,\"fYsizeUser\":0,\"fXsizeReal\":20,\"fYsizeReal\":20,\"fWindowTopX\":0,\"fWindowTopY\":0,\"fWindowWidth\":0,\"fWindowHeight\":0,\"fCw\":596,\"fCh\":572,\"fCatt\":{\"_typename\":\"TAttCanvas\",\"fXBetween\":2,\"fYBetween\":2,\"fTitleFromTop\":1.2,\"fXdate\":0.2,\"fYdate\":0.3,\"fAdate\":1},\"kMoveOpaque\":true,\"kResizeOpaque\":true,\"fHighLightColor\":2,\"fBatch\":true,\"kShowEventStatus\":false,\"kAutoExec\":true,\"kMenuBar\":true});\n",
       "       Core.draw(\"root_plot_6\", obj, \"\");\n",
       "     }\n",
       " );\n",
       "</script>\n"
      ],
      "text/plain": [
       "<IPython.core.display.HTML object>"
      ]
     },
     "metadata": {},
     "output_type": "display_data"
    },
    {
     "data": {
      "text/html": [
       "\n",
       "<div id=\"root_plot_7\"\n",
       "     style=\"width: 596px; height: 572px\">\n",
       "</div>\n",
       "\n",
       "<script>\n",
       " requirejs.config({\n",
       "     paths: {\n",
       "       'JSRootCore' : 'https://root.cern.ch/js/notebook//scripts/JSRootCore',\n",
       "     }\n",
       "   });\n",
       " require(['JSRootCore'],\n",
       "     function(Core) {\n",
       "       var obj = Core.JSONR_unref({\"_typename\":\"TCanvas\",\"fUniqueID\":0,\"fBits\":53673992,\"fLineColor\":1,\"fLineStyle\":1,\"fLineWidth\":1,\"fFillColor\":0,\"fFillStyle\":1001,\"fLeftMargin\":0.13,\"fRightMargin\":0.13,\"fBottomMargin\":0.13,\"fTopMargin\":0.1,\"fXfile\":2,\"fYfile\":2,\"fAfile\":1,\"fXstat\":0.99,\"fYstat\":0.99,\"fAstat\":2,\"fFrameFillColor\":0,\"fFrameLineColor\":1,\"fFrameFillStyle\":1001,\"fFrameLineStyle\":1,\"fFrameLineWidth\":1,\"fFrameBorderSize\":1,\"fFrameBorderMode\":0,\"fX1\":-4.72972966877538,\"fY1\":0.515584416589722,\"fX2\":4.72972966877538,\"fY2\":1.16493506751116,\"fXtoAbsPixelk\":298.00005,\"fXtoPixelk\":298.00005,\"fXtoPixel\":63.0057150976998,\"fYtoAbsPixelk\":1026.16804978691,\"fYtoPixelk\":1026.16804978691,\"fYtoPixel\":-880.879997869134,\"fUtoAbsPixelk\":5e-5,\"fUtoPixelk\":5e-5,\"fUtoPixel\":596,\"fVtoAbsPixelk\":572.00005,\"fVtoPixelk\":572,\"fVtoPixel\":-572,\"fAbsPixeltoXk\":-4.72972966877538,\"fPixeltoXk\":-4.72972966877538,\"fPixeltoX\":0.015871576069716,\"fAbsPixeltoYk\":1.16493506751116,\"fPixeltoYk\":0.515584416589722,\"fPixeltoY\":-0.00113522841070182,\"fXlowNDC\":0,\"fYlowNDC\":0,\"fXUpNDC\":0,\"fYUpNDC\":0,\"fWNDC\":1,\"fHNDC\":1,\"fAbsXlowNDC\":0,\"fAbsYlowNDC\":0,\"fAbsWNDC\":1,\"fAbsHNDC\":1,\"fUxmin\":-3.5,\"fUymin\":0.6,\"fUxmax\":3.5,\"fUymax\":1.1,\"fTheta\":30,\"fPhi\":30,\"fAspectRatio\":0,\"fNumber\":0,\"fTickx\":0,\"fTicky\":0,\"fLogx\":0,\"fLogy\":0,\"fLogz\":0,\"fPadPaint\":0,\"fCrosshair\":0,\"fCrosshairPos\":0,\"fBorderSize\":2,\"fBorderMode\":0,\"fModified\":false,\"fGridx\":false,\"fGridy\":false,\"fAbsCoord\":false,\"fEditable\":true,\"fFixedAspectRatio\":false,\"fPrimitives\":{\"_typename\":\"TList\",\"name\":\"TList\",\"arr\":[{\"_typename\":\"TFrame\",\"fUniqueID\":0,\"fBits\":50331656,\"fLineColor\":1,\"fLineStyle\":1,\"fLineWidth\":1,\"fFillColor\":0,\"fFillStyle\":1001,\"fX1\":-3.5,\"fY1\":0.6,\"fX2\":3.5,\"fY2\":1.1,\"fBorderSize\":1,\"fBorderMode\":0},{\"_typename\":\"TGraphAsymmErrors\",\"fUniqueID\":0,\"fBits\":50332680,\"fName\":\"5873bf\",\"fTitle\":\"; #eta^{GEN};\",\"fLineColor\":1,\"fLineStyle\":1,\"fLineWidth\":1,\"fFillColor\":0,\"fFillStyle\":1001,\"fMarkerColor\":1,\"fMarkerStyle\":8,\"fMarkerSize\":0.5,\"fNpoints\":25,\"fX\":[-2.88,-2.64,-2.4,-2.16,-1.92,-1.68,-1.44,-1.2,-0.96,-0.72,-0.48,-0.24,-1.11022302462516e-16,0.24,0.48,0.72,0.96,1.2,1.44,1.68,1.92,2.16,2.4,2.64,2.88],\"fY\":[0.896940418679549,0.965056929721241,0.98444976076555,0.994877856579984,0.995270003941663,0.993063583815029,0.852850539291217,0.992910594722332,0.99153194765204,0.992292870905588,0.984830339321357,0.991796554552912,0.978113808197374,0.990298797050834,0.983671843886898,0.983070866141732,0.991019133151113,0.992512167727443,0.828282828282828,0.993727949823599,0.996865203761755,0.990354938271605,0.980746561886051,0.966114457831325,0.898455598455598],\"fFunctions\":{\"_typename\":\"TList\",\"name\":\"TList\",\"arr\":[],\"opt\":[]},\"fHistogram\":{\"_typename\":\"TH1F\",\"fUniqueID\":0,\"fBits\":50332160,\"fName\":\"5873bf\",\"fTitle\":\"\",\"fLineColor\":602,\"fLineStyle\":1,\"fLineWidth\":1,\"fFillColor\":0,\"fFillStyle\":1001,\"fMarkerColor\":1,\"fMarkerStyle\":1,\"fMarkerSize\":1,\"fNcells\":102,\"fXaxis\":{\"_typename\":\"TAxis\",\"fUniqueID\":0,\"fBits\":50331656,\"fName\":\"xaxis\",\"fTitle\":\" #eta^{GEN}\",\"fNdivisions\":510,\"fAxisColor\":1,\"fLabelColor\":1,\"fLabelFont\":42,\"fLabelOffset\":0.005,\"fLabelSize\":0.035,\"fTickLength\":0.03,\"fTitleOffset\":1.4,\"fTitleSize\":0.035,\"fTitleColor\":1,\"fTitleFont\":42,\"fNbins\":100,\"fXmin\":-3.5,\"fXmax\":3.5,\"fXbins\":[],\"fFirst\":0,\"fLast\":0,\"fBits2\":0,\"fTimeDisplay\":false,\"fTimeFormat\":\"\",\"fLabels\":null,\"fModLabs\":null},\"fYaxis\":{\"_typename\":\"TAxis\",\"fUniqueID\":0,\"fBits\":50331656,\"fName\":\"yaxis\",\"fTitle\":\"eff. (L1 matched to GEN\\/GEN)\",\"fNdivisions\":510,\"fAxisColor\":1,\"fLabelColor\":1,\"fLabelFont\":42,\"fLabelOffset\":0.005,\"fLabelSize\":0.035,\"fTickLength\":0.03,\"fTitleOffset\":0,\"fTitleSize\":0.035,\"fTitleColor\":1,\"fTitleFont\":42,\"fNbins\":1,\"fXmin\":0.802948740563883,\"fXmax\":1.01567660551259,\"fXbins\":[],\"fFirst\":0,\"fLast\":0,\"fBits2\":0,\"fTimeDisplay\":false,\"fTimeFormat\":\"\",\"fLabels\":null,\"fModLabs\":null},\"fZaxis\":{\"_typename\":\"TAxis\",\"fUniqueID\":0,\"fBits\":50331648,\"fName\":\"zaxis\",\"fTitle\":\"\",\"fNdivisions\":510,\"fAxisColor\":1,\"fLabelColor\":1,\"fLabelFont\":42,\"fLabelOffset\":0.005,\"fLabelSize\":0.035,\"fTickLength\":0.03,\"fTitleOffset\":1,\"fTitleSize\":0.035,\"fTitleColor\":1,\"fTitleFont\":42,\"fNbins\":1,\"fXmin\":0,\"fXmax\":1,\"fXbins\":[],\"fFirst\":0,\"fLast\":0,\"fBits2\":0,\"fTimeDisplay\":false,\"fTimeFormat\":\"\",\"fLabels\":null,\"fModLabs\":null},\"fBarOffset\":0,\"fBarWidth\":1000,\"fEntries\":0,\"fTsumw\":0,\"fTsumw2\":0,\"fTsumwx\":0,\"fTsumwx2\":0,\"fMaximum\":1.1,\"fMinimum\":0.6,\"fNormFactor\":0,\"fContour\":[],\"fSumw2\":[],\"fOption\":\"\",\"fFunctions\":{\"_typename\":\"TList\",\"name\":\"TList\",\"arr\":[],\"opt\":[]},\"fBufferSize\":0,\"fBuffer\":[],\"fBinStatErrOpt\":0,\"fStatOverflows\":2,\"fArray\":[0,0,0,0,0,0,0,0,0,0,0,0,0,0,0,0,0,0,0,0,0,0,0,0,0,0,0,0,0,0,0,0,0,0,0,0,0,0,0,0,0,0,0,0,0,0,0,0,0,0,0,0,0,0,0,0,0,0,0,0,0,0,0,0,0,0,0,0,0,0,0,0,0,0,0,0,0,0,0,0,0,0,0,0,0,0,0,0,0,0,0,0,0,0,0,0,0,0,0,0,0,0]},\"fMinimum\":-1111,\"fMaximum\":-1111,\"fEXlow\":[0.12,0.12,0.12,0.12,0.12,0.12,0.12,0.12,0.12,0.12,0.12,0.12,0.12,0.12,0.12,0.12,0.12,0.12,0.12,0.12,0.12,0.12,0.12,0.12,0.12],\"fEXhigh\":[0.12,0.12,0.12,0.12,0.12,0.12,0.12,0.12,0.12,0.12,0.12,0.12,0.12,0.12,0.12,0.12,0.12,0.12,0.12,0.12,0.12,0.12,0.12,0.12,0.12],\"fEYlow\":[0.00646669309569337,0.00402963964519854,0.00288310740619213,0.00184443942825874,0.00179145889586951,0.00204126305458285,0.00728458965913781,0.00208607695227248,0.00220575416846569,0.00212685582767369,0.00285555651724234,0.00226309645208,0.00332427639590349,0.0023399190026967,0.00294028485289988,0.0029654581231422,0.00227729018784872,0.00206663018197739,0.00760676563988627,0.00198433791249897,0.00154228340540585,0.00232645967265055,0.00312657442874642,0.00388612314002568,0.00628704900090526],\"fEYhigh\":[0.00613662130560233,0.00364481498952363,0.00246564127180227,0.00140027364730277,0.00134456942230332,0.00161632070294782,0.00700527857214495,0.00165189583105818,0.00178686211210644,0.00170486335934428,0.00243685895193158,0.00181437796682571,0.00291786875046296,0.00192117477218046,0.00252474462141183,0.00255586913863548,0.00185368380612938,0.00165646388220142,0.00735489250410248,0.00154872772998071,0.00108407967177326,0.0019100915074074,0.0027215666015552,0.00351636437838976,0.0059694189218662]},{\"_typename\":\"TGraphAsymmErrors\",\"fUniqueID\":0,\"fBits\":50332680,\"fName\":\"a72df9\",\"fTitle\":\"; #eta^{GEN};\",\"fLineColor\":628,\"fLineStyle\":1,\"fLineWidth\":1,\"fFillColor\":0,\"fFillStyle\":1001,\"fMarkerColor\":628,\"fMarkerStyle\":21,\"fMarkerSize\":0.5,\"fNpoints\":25,\"fX\":[-2.88,-2.64,-2.4,-2.16,-1.92,-1.68,-1.44,-1.2,-0.96,-0.72,-0.48,-0.24,-1.11022302462516e-16,0.24,0.48,0.72,0.96,1.2,1.44,1.68,1.92,2.16,2.4,2.64,2.88],\"fY\":[0,0,0.569776714513557,0.919227738376675,0.90973590855341,0.904046242774566,0.766949152542373,0.904293028751477,0.907621247113164,0.921001926782274,0.90938123752495,0.930680885972108,0.850775964982093,0.918509895227008,0.909996017522899,0.921259842519685,0.899258102303788,0.895919131411456,0.750093527871306,0.901607212857703,0.91653605015674,0.908564814814815,0.571709233791749,0,0],\"fFunctions\":{\"_typename\":\"TList\",\"name\":\"TList\",\"arr\":[],\"opt\":[]},\"fHistogram\":{\"_typename\":\"TH1F\",\"fUniqueID\":0,\"fBits\":50332160,\"fName\":\"a72df9\",\"fTitle\":\"\",\"fLineColor\":602,\"fLineStyle\":1,\"fLineWidth\":1,\"fFillColor\":0,\"fFillStyle\":1001,\"fMarkerColor\":1,\"fMarkerStyle\":1,\"fMarkerSize\":1,\"fNcells\":102,\"fXaxis\":{\"_typename\":\"TAxis\",\"fUniqueID\":0,\"fBits\":50331656,\"fName\":\"xaxis\",\"fTitle\":\" #eta^{GEN}\",\"fNdivisions\":510,\"fAxisColor\":1,\"fLabelColor\":1,\"fLabelFont\":42,\"fLabelOffset\":0.005,\"fLabelSize\":0.035,\"fTickLength\":0.03,\"fTitleOffset\":1.4,\"fTitleSize\":0.035,\"fTitleColor\":1,\"fTitleFont\":42,\"fNbins\":100,\"fXmin\":-3.5,\"fXmax\":3.5,\"fXbins\":[],\"fFirst\":0,\"fLast\":0,\"fBits2\":0,\"fTimeDisplay\":false,\"fTimeFormat\":\"\",\"fLabels\":null,\"fModLabs\":null},\"fYaxis\":{\"_typename\":\"TAxis\",\"fUniqueID\":0,\"fBits\":50331656,\"fName\":\"yaxis\",\"fTitle\":\"eff. (L1 matched to GEN\\/GEN)\",\"fNdivisions\":510,\"fAxisColor\":1,\"fLabelColor\":1,\"fLabelFont\":42,\"fLabelOffset\":0.005,\"fLabelSize\":0.035,\"fTickLength\":0.03,\"fTitleOffset\":0,\"fTitleSize\":0.035,\"fTitleColor\":1,\"fTitleFont\":42,\"fNbins\":1,\"fXmin\":0,\"fXmax\":1.02943202774979,\"fXbins\":[],\"fFirst\":0,\"fLast\":0,\"fBits2\":0,\"fTimeDisplay\":false,\"fTimeFormat\":\"\",\"fLabels\":null,\"fModLabs\":null},\"fZaxis\":{\"_typename\":\"TAxis\",\"fUniqueID\":0,\"fBits\":50331648,\"fName\":\"zaxis\",\"fTitle\":\"\",\"fNdivisions\":510,\"fAxisColor\":1,\"fLabelColor\":1,\"fLabelFont\":42,\"fLabelOffset\":0.005,\"fLabelSize\":0.035,\"fTickLength\":0.03,\"fTitleOffset\":1,\"fTitleSize\":0.035,\"fTitleColor\":1,\"fTitleFont\":42,\"fNbins\":1,\"fXmin\":0,\"fXmax\":1,\"fXbins\":[],\"fFirst\":0,\"fLast\":0,\"fBits2\":0,\"fTimeDisplay\":false,\"fTimeFormat\":\"\",\"fLabels\":null,\"fModLabs\":null},\"fBarOffset\":0,\"fBarWidth\":1000,\"fEntries\":0,\"fTsumw\":0,\"fTsumw2\":0,\"fTsumwx\":0,\"fTsumwx2\":0,\"fMaximum\":1.1,\"fMinimum\":0.6,\"fNormFactor\":0,\"fContour\":[],\"fSumw2\":[],\"fOption\":\"\",\"fFunctions\":{\"_typename\":\"TList\",\"name\":\"TList\",\"arr\":[],\"opt\":[]},\"fBufferSize\":0,\"fBuffer\":[],\"fBinStatErrOpt\":0,\"fStatOverflows\":2,\"fArray\":[0,0,0,0,0,0,0,0,0,0,0,0,0,0,0,0,0,0,0,0,0,0,0,0,0,0,0,0,0,0,0,0,0,0,0,0,0,0,0,0,0,0,0,0,0,0,0,0,0,0,0,0,0,0,0,0,0,0,0,0,0,0,0,0,0,0,0,0,0,0,0,0,0,0,0,0,0,0,0,0,0,0,0,0,0,0,0,0,0,0,0,0,0,0,0,0,0,0,0,0,0,0]},\"fMinimum\":-1111,\"fMaximum\":-1111,\"fEXlow\":[0.12,0.12,0.12,0.12,0.12,0.12,0.12,0.12,0.12,0.12,0.12,0.12,0.12,0.12,0.12,0.12,0.12,0.12,0.12,0.12,0.12,0.12,0.12,0.12,0.12],\"fEXhigh\":[0.12,0.12,0.12,0.12,0.12,0.12,0.12,0.12,0.12,0.12,0.12,0.12,0.12,0.12,0.12,0.12,0.12,0.12,0.12,0.12,0.12,0.12,0.12,0.12,0.12],\"fEYlow\":[0,0,0.0101120529825557,0.00577745127204032,0.00605372196660103,0.00613546982122803,0.0085942217402053,0.00620013027672484,0.0060358315176362,0.00565638993416129,0.00610459328683333,0.00553372979532907,0.00744957048794914,0.00575210479920829,0.00607959544362868,0.00571342969663213,0.00630395056282118,0.00624872787164021,0.00865566887790292,0.0062558502129062,0.00584041654611345,0.00601746980549656,0.0100319564182453,0,0],\"fEYhigh\":[7.40877445676248e-4,7.22558477417811e-4,0.01005530140882,0.00543512682336789,0.0057195934706431,0.00581375433665265,0.00838383409949472,0.00587099100153576,0.00571147046931764,0.00532017732488321,0.00576643841373048,0.0051664119822431,0.0071626515740556,0.00541567448541891,0.00574172044731014,0.00536957974212582,0.00598198424608076,0.00594293951033109,0.00846440595118225,0.00593059053954736,0.00550236429002815,0.00569154358402257,0.00997448844235693,6.92915562894802e-4,7.10566595859825e-4]},{\"_typename\":\"TGraphAsymmErrors\",\"fUniqueID\":0,\"fBits\":50332680,\"fName\":\"f41f37\",\"fTitle\":\"; #eta^{GEN};\",\"fLineColor\":417,\"fLineStyle\":1,\"fLineWidth\":1,\"fFillColor\":0,\"fFillStyle\":1001,\"fMarkerColor\":417,\"fMarkerStyle\":22,\"fMarkerSize\":0.5,\"fNpoints\":25,\"fX\":[-2.88,-2.64,-2.4,-2.16,-1.92,-1.68,-1.44,-1.2,-0.96,-0.72,-0.48,-0.24,-1.11022302462516e-16,0.24,0.48,0.72,0.96,1.2,1.44,1.68,1.92,2.16,2.4,2.64,2.88],\"fY\":[0,0,0.566985645933014,0.913317572892041,0.901852581789515,0.898651252408478,0.760785824345146,0.903505317053958,0.91108545034642,0.919460500963391,0.91377245508982,0.931501230516817,0.848786311181854,0.921226232052775,0.910792512943051,0.925984251968504,0.903162827020695,0.892549606888806,0.745978301533857,0.898471187769502,0.911833855799373,0.905864197530864,0.570530451866405,0,0],\"fFunctions\":{\"_typename\":\"TList\",\"name\":\"TList\",\"arr\":[],\"opt\":[]},\"fHistogram\":{\"_typename\":\"TH1F\",\"fUniqueID\":0,\"fBits\":50332160,\"fName\":\"f41f37\",\"fTitle\":\"\",\"fLineColor\":602,\"fLineStyle\":1,\"fLineWidth\":1,\"fFillColor\":0,\"fFillStyle\":1001,\"fMarkerColor\":1,\"fMarkerStyle\":1,\"fMarkerSize\":1,\"fNcells\":102,\"fXaxis\":{\"_typename\":\"TAxis\",\"fUniqueID\":0,\"fBits\":50331656,\"fName\":\"xaxis\",\"fTitle\":\" #eta^{GEN}\",\"fNdivisions\":510,\"fAxisColor\":1,\"fLabelColor\":1,\"fLabelFont\":42,\"fLabelOffset\":0.005,\"fLabelSize\":0.035,\"fTickLength\":0.03,\"fTitleOffset\":1.4,\"fTitleSize\":0.035,\"fTitleColor\":1,\"fTitleFont\":42,\"fNbins\":100,\"fXmin\":-3.5,\"fXmax\":3.5,\"fXbins\":[],\"fFirst\":0,\"fLast\":0,\"fBits2\":0,\"fTimeDisplay\":false,\"fTimeFormat\":\"\",\"fLabels\":null,\"fModLabs\":null},\"fYaxis\":{\"_typename\":\"TAxis\",\"fUniqueID\":0,\"fBits\":50331656,\"fName\":\"yaxis\",\"fTitle\":\"eff. (L1 matched to GEN\\/GEN)\",\"fNdivisions\":510,\"fAxisColor\":1,\"fLabelColor\":1,\"fLabelFont\":42,\"fLabelOffset\":0.005,\"fLabelSize\":0.035,\"fTickLength\":0.03,\"fTitleOffset\":0,\"fTitleSize\":0.035,\"fTitleColor\":1,\"fTitleFont\":42,\"fNbins\":1,\"fXmin\":0,\"fXmax\":1.03030290249858,\"fXbins\":[],\"fFirst\":0,\"fLast\":0,\"fBits2\":0,\"fTimeDisplay\":false,\"fTimeFormat\":\"\",\"fLabels\":null,\"fModLabs\":null},\"fZaxis\":{\"_typename\":\"TAxis\",\"fUniqueID\":0,\"fBits\":50331648,\"fName\":\"zaxis\",\"fTitle\":\"\",\"fNdivisions\":510,\"fAxisColor\":1,\"fLabelColor\":1,\"fLabelFont\":42,\"fLabelOffset\":0.005,\"fLabelSize\":0.035,\"fTickLength\":0.03,\"fTitleOffset\":1,\"fTitleSize\":0.035,\"fTitleColor\":1,\"fTitleFont\":42,\"fNbins\":1,\"fXmin\":0,\"fXmax\":1,\"fXbins\":[],\"fFirst\":0,\"fLast\":0,\"fBits2\":0,\"fTimeDisplay\":false,\"fTimeFormat\":\"\",\"fLabels\":null,\"fModLabs\":null},\"fBarOffset\":0,\"fBarWidth\":1000,\"fEntries\":0,\"fTsumw\":0,\"fTsumw2\":0,\"fTsumwx\":0,\"fTsumwx2\":0,\"fMaximum\":1.1,\"fMinimum\":0.6,\"fNormFactor\":0,\"fContour\":[],\"fSumw2\":[],\"fOption\":\"\",\"fFunctions\":{\"_typename\":\"TList\",\"name\":\"TList\",\"arr\":[],\"opt\":[]},\"fBufferSize\":0,\"fBuffer\":[],\"fBinStatErrOpt\":0,\"fStatOverflows\":2,\"fArray\":[0,0,0,0,0,0,0,0,0,0,0,0,0,0,0,0,0,0,0,0,0,0,0,0,0,0,0,0,0,0,0,0,0,0,0,0,0,0,0,0,0,0,0,0,0,0,0,0,0,0,0,0,0,0,0,0,0,0,0,0,0,0,0,0,0,0,0,0,0,0,0,0,0,0,0,0,0,0,0,0,0,0,0,0,0,0,0,0,0,0,0,0,0,0,0,0,0,0,0,0,0,0]},\"fMinimum\":-1111,\"fMaximum\":-1111,\"fEXlow\":[0.12,0.12,0.12,0.12,0.12,0.12,0.12,0.12,0.12,0.12,0.12,0.12,0.12,0.12,0.12,0.12,0.12,0.12,0.12,0.12,0.12,0.12,0.12,0.12,0.12],\"fEXhigh\":[0.12,0.12,0.12,0.12,0.12,0.12,0.12,0.12,0.12,0.12,0.12,0.12,0.12,0.12,0.12,0.12,0.12,0.12,0.12,0.12,0.12,0.12,0.12,0.12,0.12],\"fEYlow\":[0,0,0.0101186083406306,0.00595106373531129,0.0062676294160191,0.00627566092590004,0.00866689302841572,0.00622119820472378,0.00594046275776106,0.00570262066834626,0.00597943053723615,0.00550586743945003,0.00748756928435645,0.00567059689537486,0.00605712427672433,0.00556612072296014,0.00620193194216034,0.0063308885943234,0.00869953874305651,0.00633726408022073,0.00597592344611486,0.00609072489043527,0.0100348400967581,0,0],\"fEYhigh\":[7.40877445676248e-4,7.22558477417811e-4,0.0100641276689105,0.0056139408467506,0.00594033463830168,0.00595848811904787,0.00846140476344914,0.00589273950760061,0.00561315856582223,0.00536774267098461,0.00563738703098204,0.0051377717546186,0.00720232015843747,0.00533179895875346,0.0057185469727723,0.00521805788206309,0.005876632853827,0.00602783289424003,0.00851144524476666,0.00601468841131625,0.00564197141075096,0.00576709190800373,0.00997831718045927,6.92915562894802e-4,7.10566595859825e-4]},{\"_typename\":\"TLegend\",\"fUniqueID\":0,\"fBits\":50331656,\"fLineColor\":1,\"fLineStyle\":1,\"fLineWidth\":1,\"fFillColor\":0,\"fFillStyle\":0,\"fX1\":-3.21621617476726,\"fY1\":0.645454546774011,\"fX2\":-0.756756747004061,\"fY2\":0.742857144412227,\"fX1NDC\":0.16,\"fY1NDC\":0.2,\"fX2NDC\":0.42,\"fY2NDC\":0.35,\"fBorderSize\":0,\"fInit\":1,\"fShadowColor\":1,\"fCornerRadius\":0,\"fOption\":\"brNDC\",\"fName\":\"TPave\",\"fTextAngle\":0,\"fTextSize\":0.03,\"fTextAlign\":12,\"fTextColor\":1,\"fTextFont\":42,\"fPrimitives\":{\"_typename\":\"TList\",\"name\":\"TList\",\"arr\":[{\"_typename\":\"TLegendEntry\",\"fUniqueID\":0,\"fBits\":50331656,\"fTextAngle\":0,\"fTextSize\":0,\"fTextAlign\":0,\"fTextColor\":0,\"fTextFont\":42,\"fLineColor\":1,\"fLineStyle\":1,\"fLineWidth\":1,\"fFillColor\":0,\"fFillStyle\":0,\"fMarkerColor\":1,\"fMarkerStyle\":8,\"fMarkerSize\":0.5,\"fObject\":{\"$ref\":3},\"fLabel\":\"calorimeter-only\",\"fOption\":\"P\"},{\"_typename\":\"TLegendEntry\",\"fUniqueID\":0,\"fBits\":50331656,\"fTextAngle\":0,\"fTextSize\":0,\"fTextAlign\":0,\"fTextColor\":0,\"fTextFont\":42,\"fLineColor\":1,\"fLineStyle\":1,\"fLineWidth\":1,\"fFillColor\":0,\"fFillStyle\":0,\"fMarkerColor\":628,\"fMarkerStyle\":21,\"fMarkerSize\":0.5,\"fObject\":{\"$ref\":10},\"fLabel\":\"track-matched\",\"fOption\":\"P\"},{\"_typename\":\"TLegendEntry\",\"fUniqueID\":0,\"fBits\":50331656,\"fTextAngle\":0,\"fTextSize\":0,\"fTextAlign\":0,\"fTextColor\":0,\"fTextFont\":42,\"fLineColor\":1,\"fLineStyle\":1,\"fLineWidth\":1,\"fFillColor\":0,\"fFillStyle\":0,\"fMarkerColor\":417,\"fMarkerStyle\":22,\"fMarkerSize\":0.5,\"fObject\":{\"$ref\":17},\"fLabel\":\"#splitline{track-matched + charged iso.}{(no EG ID for |#eta| < 1.479)}\",\"fOption\":\"P\"}],\"opt\":[\"P\",\"P\",\"P\"]},\"fEntrySeparation\":0.1,\"fMargin\":0.25,\"fNColumns\":1,\"fColumnSeparation\":0},{\"_typename\":\"TLatex\",\"fUniqueID\":0,\"fBits\":50348040,\"fName\":\"\",\"fTitle\":\"EG, p_{T}^{L1} #geq 25GeV, p_{T}^{GEN} #geq 35GeV\",\"fTextAngle\":0,\"fTextSize\":0.03,\"fTextAlign\":11,\"fTextColor\":1,\"fTextFont\":62,\"fX\":0.15,\"fY\":0.85,\"fLineColor\":1,\"fLineStyle\":1,\"fLineWidth\":2,\"fLimitFactorSize\":3,\"fOriginSize\":0.0299999993294477},{\"_typename\":\"TLatex\",\"fUniqueID\":0,\"fBits\":50348041,\"fName\":\"\",\"fTitle\":\"#scale[1.5]{CMS} #scale[1.]{Phase-2 Simulation}\",\"fTextAngle\":0,\"fTextSize\":0.03,\"fTextAlign\":11,\"fTextColor\":1,\"fTextFont\":62,\"fX\":0.13,\"fY\":0.91,\"fLineColor\":1,\"fLineStyle\":1,\"fLineWidth\":2,\"fLimitFactorSize\":3,\"fOriginSize\":0.0299999993294477},{\"_typename\":\"TLatex\",\"fUniqueID\":0,\"fBits\":50348041,\"fName\":\"\",\"fTitle\":\"14TeV, 200 PU\",\"fTextAngle\":0,\"fTextSize\":0.03,\"fTextAlign\":11,\"fTextColor\":1,\"fTextFont\":62,\"fX\":0.69,\"fY\":0.91,\"fLineColor\":1,\"fLineStyle\":1,\"fLineWidth\":2,\"fLimitFactorSize\":3,\"fOriginSize\":0.0299999993294477},{\"_typename\":\"TLatex\",\"fUniqueID\":0,\"fBits\":50331656,\"fName\":\"\",\"fTitle\":\"\",\"fTextAngle\":0,\"fTextSize\":0.03,\"fTextAlign\":11,\"fTextColor\":1,\"fTextFont\":62,\"fX\":0,\"fY\":0,\"fLineColor\":1,\"fLineStyle\":1,\"fLineWidth\":2,\"fLimitFactorSize\":3,\"fOriginSize\":0.04},{\"_typename\":\"TLine\",\"fUniqueID\":0,\"fBits\":50331656,\"fLineColor\":1,\"fLineStyle\":2,\"fLineWidth\":1,\"fX1\":-1.47,\"fY1\":0.6,\"fX2\":-1.47,\"fY2\":1.1},{\"_typename\":\"TLine\",\"fUniqueID\":0,\"fBits\":50331656,\"fLineColor\":1,\"fLineStyle\":2,\"fLineWidth\":1,\"fX1\":-1.52,\"fY1\":0.6,\"fX2\":-1.52,\"fY2\":1.1},{\"_typename\":\"TLine\",\"fUniqueID\":0,\"fBits\":50331656,\"fLineColor\":1,\"fLineStyle\":2,\"fLineWidth\":1,\"fX1\":-2.4,\"fY1\":0.6,\"fX2\":-2.4,\"fY2\":1.1},{\"_typename\":\"TLine\",\"fUniqueID\":0,\"fBits\":50331656,\"fLineColor\":1,\"fLineStyle\":2,\"fLineWidth\":1,\"fX1\":1.47,\"fY1\":0.6,\"fX2\":1.47,\"fY2\":1.1},{\"_typename\":\"TLine\",\"fUniqueID\":0,\"fBits\":50331656,\"fLineColor\":1,\"fLineStyle\":2,\"fLineWidth\":1,\"fX1\":1.52,\"fY1\":0.6,\"fX2\":1.52,\"fY2\":1.1},{\"_typename\":\"TLine\",\"fUniqueID\":0,\"fBits\":50331656,\"fLineColor\":1,\"fLineStyle\":2,\"fLineWidth\":1,\"fX1\":2.4,\"fY1\":0.6,\"fX2\":2.4,\"fY2\":1.1}],\"opt\":[\"\",\"pa\",\",p\",\",p\",\"same\",\"same\",\"\",\"\",\"same\",\"same\",\"same\",\"same\",\"same\",\"same\",\"same\"]},\"fExecs\":null,\"fName\":\"c_33bbc2\",\"fTitle\":\"c_33bbc2\",\"fNumPaletteColor\":0,\"fNextPaletteColor\":0,\"fDISPLAY\":\"$DISPLAY\",\"fDoubleBuffer\":0,\"fRetained\":true,\"fXsizeUser\":0,\"fYsizeUser\":0,\"fXsizeReal\":20,\"fYsizeReal\":20,\"fWindowTopX\":0,\"fWindowTopY\":0,\"fWindowWidth\":0,\"fWindowHeight\":0,\"fCw\":596,\"fCh\":572,\"fCatt\":{\"_typename\":\"TAttCanvas\",\"fXBetween\":2,\"fYBetween\":2,\"fTitleFromTop\":1.2,\"fXdate\":0.2,\"fYdate\":0.3,\"fAdate\":1},\"kMoveOpaque\":true,\"kResizeOpaque\":true,\"fHighLightColor\":2,\"fBatch\":true,\"kShowEventStatus\":false,\"kAutoExec\":true,\"kMenuBar\":true});\n",
       "       Core.draw(\"root_plot_7\", obj, \"\");\n",
       "     }\n",
       " );\n",
       "</script>\n"
      ],
      "text/plain": [
       "<IPython.core.display.HTML object>"
      ]
     },
     "metadata": {},
     "output_type": "display_data"
    }
   ],
   "source": [
    "hsets, labels, text = hplot.get_histo(histos.HistoSetEff, 'ele-V9', ['PU200'], ['EGALL', 'TkEleELALL'], ['Pt25LooseTkID', 'Pt25Iso0p1'], ['GENPt35'], debug=False)\n",
    "\n",
    "for hset in hsets:\n",
    "    hset.computeEff(rebin=2)\n",
    "\n",
    "# labels = ['TP head', 'L1 menu version', 'backported']\n",
    "text_forprint = 'EG, p_{T}^{L1} #geq 25GeV, p_{T}^{GEN} #geq 35GeV'\n",
    "\n",
    "\n",
    "labels_final = []\n",
    "labels_final.append('calorimeter-only')\n",
    "labels_final.append('track-matched')\n",
    "labels_final.append('#splitline{track-matched + charged iso.}{(no EG ID for |#eta| < 1.479)}')\n",
    "\n",
    "\n",
    "canv = draw([his.h_eff.h_abseta.CreateGraph() for his in hsets], labels_final, text=text_forprint, \n",
    "     min_x=0, max_x=3.5, min_y=0.6, max_y=1.1, v_lines=[1.47, 1.52, 2.4],\n",
    "     y_axis_label='efficiency',\n",
    "    legend_position = (0.16, 0.2, 0.42, 0.35),\n",
    "     do_write=True, write_name='figs/egammaBarrelEndcap_EG_GENPt30_hEffVAbsEta')\n",
    "\n",
    "# print canv.GetByType(ROOT.TLegend)\n",
    "# leg2 = getLegend(0.56, 0.15, 0.92, 0.30)\n",
    "# leg2.SetHeader('|#eta|>1.479')\n",
    "# for idx,his in enumerate(hsets):\n",
    "#     leg2.AddEntry(his.h_eff.h_eta.CreateGraph(), labels_final[idx], 'P')\n",
    "# leg2.Draw('same')\n",
    "# canv.Draw()\n",
    "# SaveCanvas(canv, 'test')\n",
    "# stuff[-7].AddEntry(ROOT.TObject(), 'PIPPO', '')\n",
    "# stuff[-7].Draw('same')\n",
    "# canv.Draw()\n",
    "\n",
    "# print canv.GetListOfPrimitives().Print()\n",
    "\n",
    "draw([his.h_eff.h_eta.CreateGraph() for his in hsets], labels_final, text=text_forprint, \n",
    "     min_x=-3.5, max_x=3.5, min_y=0.6, max_y=1.1, v_lines=[-1.47, -1.52, -2.4, 1.47, 1.52, 2.4],\n",
    "     y_axis_label='eff. (L1 matched to GEN/GEN)',\n",
    "     do_write=True, write_name='figs/egammaBarrelEndcap_EG_GENPt30_hEffVEta')\n",
    "\n"
   ]
  },
  {
   "cell_type": "code",
   "execution_count": 39,
   "metadata": {
    "scrolled": false
   },
   "outputs": [
    {
     "data": {
      "text/plain": [
       "<drawingTools.DrawMachine at 0x11c9fd250>"
      ]
     },
     "execution_count": 39,
     "metadata": {},
     "output_type": "execute_result"
    },
    {
     "name": "stderr",
     "output_type": "stream",
     "text": [
      "Info in <TCanvas::Print>: pdf file figs/egammaEndcap_EG_EGq5Pt25_GENPt35_hEffVEta.pdf has been created\n"
     ]
    },
    {
     "data": {
      "text/html": [
       "\n",
       "<div id=\"root_plot_8\"\n",
       "     style=\"width: 596px; height: 572px\">\n",
       "</div>\n",
       "\n",
       "<script>\n",
       " requirejs.config({\n",
       "     paths: {\n",
       "       'JSRootCore' : 'https://root.cern.ch/js/notebook//scripts/JSRootCore',\n",
       "     }\n",
       "   });\n",
       " require(['JSRootCore'],\n",
       "     function(Core) {\n",
       "       var obj = Core.JSONR_unref({\"_typename\":\"TCanvas\",\"fUniqueID\":0,\"fBits\":53673992,\"fLineColor\":1,\"fLineStyle\":1,\"fLineWidth\":1,\"fFillColor\":0,\"fFillStyle\":1001,\"fLeftMargin\":0.13,\"fRightMargin\":0.13,\"fBottomMargin\":0.13,\"fTopMargin\":0.1,\"fXfile\":2,\"fYfile\":2,\"fAfile\":1,\"fXstat\":0.99,\"fYstat\":0.99,\"fAstat\":2,\"fFrameFillColor\":0,\"fFrameLineColor\":1,\"fFrameFillStyle\":1001,\"fFrameLineStyle\":1,\"fFrameLineWidth\":1,\"fFrameBorderSize\":1,\"fFrameBorderMode\":0,\"fX1\":1.14864866606418,\"fY1\":0.515584416589722,\"fX2\":3.85135133393582,\"fY2\":1.16493506751116,\"fXtoAbsPixelk\":-253.299957104874,\"fXtoPixelk\":-253.299957104874,\"fXtoPixel\":220.520002841949,\"fYtoAbsPixelk\":1026.16804978691,\"fYtoPixelk\":1026.16804978691,\"fYtoPixel\":-880.879997869134,\"fUtoAbsPixelk\":5e-5,\"fUtoPixelk\":5e-5,\"fUtoPixel\":596,\"fVtoAbsPixelk\":572.00005,\"fVtoPixelk\":572,\"fVtoPixel\":-572,\"fAbsPixeltoXk\":1.14864866606418,\"fPixeltoXk\":1.14864866606418,\"fPixeltoX\":0.00453473601991887,\"fAbsPixeltoYk\":1.16493506751116,\"fPixeltoYk\":0.515584416589722,\"fPixeltoY\":-0.00113522841070182,\"fXlowNDC\":0,\"fYlowNDC\":0,\"fXUpNDC\":0,\"fYUpNDC\":0,\"fWNDC\":1,\"fHNDC\":1,\"fAbsXlowNDC\":0,\"fAbsYlowNDC\":0,\"fAbsWNDC\":1,\"fAbsHNDC\":1,\"fUxmin\":1.5,\"fUymin\":0.6,\"fUxmax\":3.5,\"fUymax\":1.1,\"fTheta\":30,\"fPhi\":30,\"fAspectRatio\":0,\"fNumber\":0,\"fTickx\":0,\"fTicky\":0,\"fLogx\":0,\"fLogy\":0,\"fLogz\":0,\"fPadPaint\":0,\"fCrosshair\":0,\"fCrosshairPos\":0,\"fBorderSize\":2,\"fBorderMode\":0,\"fModified\":false,\"fGridx\":false,\"fGridy\":false,\"fAbsCoord\":false,\"fEditable\":true,\"fFixedAspectRatio\":false,\"fPrimitives\":{\"_typename\":\"TList\",\"name\":\"TList\",\"arr\":[{\"_typename\":\"TFrame\",\"fUniqueID\":0,\"fBits\":50331656,\"fLineColor\":1,\"fLineStyle\":1,\"fLineWidth\":1,\"fFillColor\":0,\"fFillStyle\":1001,\"fX1\":1.5,\"fY1\":0.6,\"fX2\":3.5,\"fY2\":1.1,\"fBorderSize\":1,\"fBorderMode\":0},{\"_typename\":\"TGraphAsymmErrors\",\"fUniqueID\":0,\"fBits\":50332680,\"fName\":\"db61fd\",\"fTitle\":\"; |#eta^{GEN}|;\",\"fLineColor\":1,\"fLineStyle\":1,\"fLineWidth\":1,\"fFillColor\":0,\"fFillStyle\":1001,\"fMarkerColor\":1,\"fMarkerStyle\":8,\"fMarkerSize\":0.5,\"fNpoints\":17,\"fX\":[1.45,1.55,1.65,1.75,1.85,1.95,2.05,2.15,2.25,2.35,2.45,2.55,2.65,2.75,2.85,2.95,3.05],\"fY\":[0.00241351568785197,0.793809523809524,0.995027349577325,0.993259508907077,0.996957403651116,0.995513459621137,0.99358024691358,0.994312306101344,0.988717948717949,0.98618219037871,0.982869379014989,0.974649406688242,0.965879265091864,0.945975148568341,0.928045325779037,0.852631578947368,0.0185851318944844],\"fFunctions\":{\"_typename\":\"TList\",\"name\":\"TList\",\"arr\":[],\"opt\":[]},\"fHistogram\":{\"_typename\":\"TH1F\",\"fUniqueID\":0,\"fBits\":50332160,\"fName\":\"db61fd\",\"fTitle\":\"\",\"fLineColor\":602,\"fLineStyle\":1,\"fLineWidth\":1,\"fFillColor\":0,\"fFillStyle\":1001,\"fMarkerColor\":1,\"fMarkerStyle\":1,\"fMarkerSize\":1,\"fNcells\":102,\"fXaxis\":{\"_typename\":\"TAxis\",\"fUniqueID\":0,\"fBits\":50331656,\"fName\":\"xaxis\",\"fTitle\":\" |#eta^{GEN}|\",\"fNdivisions\":510,\"fAxisColor\":1,\"fLabelColor\":1,\"fLabelFont\":42,\"fLabelOffset\":0.005,\"fLabelSize\":0.035,\"fTickLength\":0.03,\"fTitleOffset\":1.4,\"fTitleSize\":0.035,\"fTitleColor\":1,\"fTitleFont\":42,\"fNbins\":100,\"fXmin\":1.5,\"fXmax\":3.5,\"fXbins\":[],\"fFirst\":0,\"fLast\":0,\"fBits2\":0,\"fTimeDisplay\":false,\"fTimeFormat\":\"\",\"fLabels\":null,\"fModLabs\":null},\"fYaxis\":{\"_typename\":\"TAxis\",\"fUniqueID\":0,\"fBits\":50331656,\"fName\":\"yaxis\",\"fTitle\":\"eff. (L1 matched to GEN\\/GEN)\",\"fNdivisions\":510,\"fAxisColor\":1,\"fLabelColor\":1,\"fLabelFont\":42,\"fLabelOffset\":0.005,\"fLabelSize\":0.035,\"fTickLength\":0.03,\"fTitleOffset\":0,\"fTitleSize\":0.035,\"fTitleColor\":1,\"fTitleFont\":42,\"fNbins\":1,\"fXmin\":9.90248819337897e-4,\"fXmax\":1.09786995695114,\"fXbins\":[],\"fFirst\":0,\"fLast\":0,\"fBits2\":0,\"fTimeDisplay\":false,\"fTimeFormat\":\"\",\"fLabels\":null,\"fModLabs\":null},\"fZaxis\":{\"_typename\":\"TAxis\",\"fUniqueID\":0,\"fBits\":50331648,\"fName\":\"zaxis\",\"fTitle\":\"\",\"fNdivisions\":510,\"fAxisColor\":1,\"fLabelColor\":1,\"fLabelFont\":42,\"fLabelOffset\":0.005,\"fLabelSize\":0.035,\"fTickLength\":0.03,\"fTitleOffset\":1,\"fTitleSize\":0.035,\"fTitleColor\":1,\"fTitleFont\":42,\"fNbins\":1,\"fXmin\":0,\"fXmax\":1,\"fXbins\":[],\"fFirst\":0,\"fLast\":0,\"fBits2\":0,\"fTimeDisplay\":false,\"fTimeFormat\":\"\",\"fLabels\":null,\"fModLabs\":null},\"fBarOffset\":0,\"fBarWidth\":1000,\"fEntries\":0,\"fTsumw\":0,\"fTsumw2\":0,\"fTsumwx\":0,\"fTsumwx2\":0,\"fMaximum\":1.1,\"fMinimum\":0.6,\"fNormFactor\":0,\"fContour\":[],\"fSumw2\":[],\"fOption\":\"\",\"fFunctions\":{\"_typename\":\"TList\",\"name\":\"TList\",\"arr\":[],\"opt\":[]},\"fBufferSize\":0,\"fBuffer\":[],\"fBinStatErrOpt\":0,\"fStatOverflows\":2,\"fArray\":[0,0,0,0,0,0,0,0,0,0,0,0,0,0,0,0,0,0,0,0,0,0,0,0,0,0,0,0,0,0,0,0,0,0,0,0,0,0,0,0,0,0,0,0,0,0,0,0,0,0,0,0,0,0,0,0,0,0,0,0,0,0,0,0,0,0,0,0,0,0,0,0,0,0,0,0,0,0,0,0,0,0,0,0,0,0,0,0,0,0,0,0,0,0,0,0,0,0,0,0,0,0]},\"fMinimum\":-1111,\"fMaximum\":-1111,\"fEXlow\":[0.05,0.05,0.05,0.05,0.05,0.05,0.0499999999999998,0.0499999999999998,0.0499999999999998,0.0499999999999998,0.0499999999999998,0.0499999999999998,0.0499999999999998,0.0499999999999998,0.0499999999999998,0.0499999999999998,0.0499999999999998],\"fEXhigh\":[0.05,0.05,0.05,0.05,0.05,0.05,0.0500000000000002,0.0500000000000002,0.0500000000000002,0.0500000000000002,0.0500000000000002,0.0500000000000002,0.0500000000000002,0.0500000000000002,0.0500000000000002,0.0500000000000002,0.0500000000000002],\"fEYlow\":[0.00131323922192097,0.0092086756141303,0.00211427584408808,0.00231510322057293,0.00181284656623337,0.00204225800678481,0.00230964621979179,0.00227451390750122,0.00293348356694212,0.00317648704779072,0.00355780082736579,0.00419996257706368,0.00468526310612039,0.00578000856205196,0.00668911603783051,0.00882127408643574,0.00329899267876134],\"fEYhigh\":[0.00234210859422257,0.00892139114480306,0.00154404515012474,0.00177650263392626,0.00120621871046078,0.00146586355436806,0.0017544118001539,0.00168616328450766,0.00237855718579694,0.00263070563543388,0.0029948009751396,0.00365021237757801,0.00416539523465209,0.0052734908966996,0.00618188678035358,0.0084177020658458,0.00392843596614167]},{\"_typename\":\"TLatex\",\"fUniqueID\":0,\"fBits\":50348040,\"fName\":\"\",\"fTitle\":\"EG endcap, p_{T}^{L1} #geq 25GeV, p_{T}^{GEN} #geq 35GeV\",\"fTextAngle\":0,\"fTextSize\":0.03,\"fTextAlign\":11,\"fTextColor\":1,\"fTextFont\":62,\"fX\":0.15,\"fY\":0.85,\"fLineColor\":1,\"fLineStyle\":1,\"fLineWidth\":2,\"fLimitFactorSize\":3,\"fOriginSize\":0.0299999993294477},{\"_typename\":\"TLatex\",\"fUniqueID\":0,\"fBits\":50348041,\"fName\":\"\",\"fTitle\":\"#scale[1.5]{CMS} #scale[1.]{Phase-2 Simulation}\",\"fTextAngle\":0,\"fTextSize\":0.03,\"fTextAlign\":11,\"fTextColor\":1,\"fTextFont\":62,\"fX\":0.13,\"fY\":0.91,\"fLineColor\":1,\"fLineStyle\":1,\"fLineWidth\":2,\"fLimitFactorSize\":3,\"fOriginSize\":0.0299999993294477},{\"_typename\":\"TLatex\",\"fUniqueID\":0,\"fBits\":50348041,\"fName\":\"\",\"fTitle\":\"14TeV, 200 PU\",\"fTextAngle\":0,\"fTextSize\":0.03,\"fTextAlign\":11,\"fTextColor\":1,\"fTextFont\":62,\"fX\":0.69,\"fY\":0.91,\"fLineColor\":1,\"fLineStyle\":1,\"fLineWidth\":2,\"fLimitFactorSize\":3,\"fOriginSize\":0.0299999993294477},{\"_typename\":\"TLatex\",\"fUniqueID\":0,\"fBits\":50331656,\"fName\":\"\",\"fTitle\":\"\",\"fTextAngle\":0,\"fTextSize\":0.03,\"fTextAlign\":11,\"fTextColor\":1,\"fTextFont\":62,\"fX\":0,\"fY\":0,\"fLineColor\":1,\"fLineStyle\":1,\"fLineWidth\":2,\"fLimitFactorSize\":3,\"fOriginSize\":0.04},{\"_typename\":\"TLine\",\"fUniqueID\":0,\"fBits\":50331656,\"fLineColor\":1,\"fLineStyle\":2,\"fLineWidth\":1,\"fX1\":1.52,\"fY1\":0.6,\"fX2\":1.52,\"fY2\":1.1},{\"_typename\":\"TLine\",\"fUniqueID\":0,\"fBits\":50331656,\"fLineColor\":1,\"fLineStyle\":2,\"fLineWidth\":1,\"fX1\":2.4,\"fY1\":0.6,\"fX2\":2.4,\"fY2\":1.1}],\"opt\":[\"\",\"pa\",\"same\",\"\",\"\",\"same\",\"same\",\"same\"]},\"fExecs\":null,\"fName\":\"c_add6b0\",\"fTitle\":\"c_add6b0\",\"fNumPaletteColor\":0,\"fNextPaletteColor\":0,\"fDISPLAY\":\"$DISPLAY\",\"fDoubleBuffer\":0,\"fRetained\":true,\"fXsizeUser\":0,\"fYsizeUser\":0,\"fXsizeReal\":20,\"fYsizeReal\":20,\"fWindowTopX\":0,\"fWindowTopY\":0,\"fWindowWidth\":0,\"fWindowHeight\":0,\"fCw\":596,\"fCh\":572,\"fCatt\":{\"_typename\":\"TAttCanvas\",\"fXBetween\":2,\"fYBetween\":2,\"fTitleFromTop\":1.2,\"fXdate\":0.2,\"fYdate\":0.3,\"fAdate\":1},\"kMoveOpaque\":true,\"kResizeOpaque\":true,\"fHighLightColor\":2,\"fBatch\":true,\"kShowEventStatus\":false,\"kAutoExec\":true,\"kMenuBar\":true});\n",
       "       Core.draw(\"root_plot_8\", obj, \"\");\n",
       "     }\n",
       " );\n",
       "</script>\n"
      ],
      "text/plain": [
       "<IPython.core.display.HTML object>"
      ]
     },
     "metadata": {},
     "output_type": "display_data"
    }
   ],
   "source": [
    "hsets, labels, text = hplot.get_histo(histos.HistoSetEff, 'ele-V9', ['PU200'], 'EG', ['EGq5Pt25'], ['GENPt35'], debug=False)\n",
    "# labels = ['TP head', 'L1 menu version', 'backported']\n",
    "text_forprint = 'EG endcap, p_{T}^{L1} #geq 25GeV, p_{T}^{GEN} #geq 35GeV'\n",
    "draw([his.h_eff.h_abseta.CreateGraph() for his in hsets], labels, text=text_forprint, \n",
    "     min_x=1.5, max_x=3.5, min_y=0.6, max_y=1.1, v_lines=[1.52, 2.4],\n",
    "     y_axis_label='eff. (L1 matched to GEN/GEN)',\n",
    "     do_write=True, write_name='figs/egammaEndcap_EG_EGq5Pt25_GENPt35_hEffVEta')\n"
   ]
  },
  {
   "cell_type": "code",
   "execution_count": 40,
   "metadata": {},
   "outputs": [
    {
     "data": {
      "text/plain": [
       "<drawingTools.DrawMachine at 0x11cfbaad0>"
      ]
     },
     "execution_count": 40,
     "metadata": {},
     "output_type": "execute_result"
    },
    {
     "name": "stderr",
     "output_type": "stream",
     "text": [
      "Info in <TCanvas::Print>: pdf file egammaEndcap_TkEle_EGq4Pt30_GENPt40_hEffVEta.pdf has been created\n"
     ]
    },
    {
     "data": {
      "text/html": [
       "\n",
       "<div id=\"root_plot_9\"\n",
       "     style=\"width: 596px; height: 572px\">\n",
       "</div>\n",
       "\n",
       "<script>\n",
       " requirejs.config({\n",
       "     paths: {\n",
       "       'JSRootCore' : 'https://root.cern.ch/js/notebook//scripts/JSRootCore',\n",
       "     }\n",
       "   });\n",
       " require(['JSRootCore'],\n",
       "     function(Core) {\n",
       "       var obj = Core.JSONR_unref({\"_typename\":\"TCanvas\",\"fUniqueID\":0,\"fBits\":53673992,\"fLineColor\":1,\"fLineStyle\":1,\"fLineWidth\":1,\"fFillColor\":0,\"fFillStyle\":1001,\"fLeftMargin\":0.13,\"fRightMargin\":0.13,\"fBottomMargin\":0.13,\"fTopMargin\":0.1,\"fXfile\":2,\"fYfile\":2,\"fAfile\":1,\"fXstat\":0.99,\"fYstat\":0.99,\"fAstat\":2,\"fFrameFillColor\":0,\"fFrameLineColor\":1,\"fFrameFillStyle\":1001,\"fFrameLineStyle\":1,\"fFrameLineWidth\":1,\"fFrameBorderSize\":1,\"fFrameBorderMode\":0,\"fX1\":-4.86486480216896,\"fY1\":0.515584416589722,\"fX2\":4.86486480216897,\"fY2\":1.16493506751116,\"fXtoAbsPixelk\":298.00005,\"fXtoPixelk\":298.00005,\"fXtoPixel\":61.255556344986,\"fYtoAbsPixelk\":1026.16804978691,\"fYtoPixelk\":1026.16804978691,\"fYtoPixel\":-880.879997869134,\"fUtoAbsPixelk\":5e-5,\"fUtoPixelk\":5e-5,\"fUtoPixel\":596,\"fVtoAbsPixelk\":572.00005,\"fVtoPixelk\":572,\"fVtoPixel\":-572,\"fAbsPixeltoXk\":-4.86486480216896,\"fPixeltoXk\":-4.86486480216896,\"fPixeltoX\":0.0163250496717079,\"fAbsPixeltoYk\":1.16493506751116,\"fPixeltoYk\":0.515584416589722,\"fPixeltoY\":-0.00113522841070182,\"fXlowNDC\":0,\"fYlowNDC\":0,\"fXUpNDC\":0,\"fYUpNDC\":0,\"fWNDC\":1,\"fHNDC\":1,\"fAbsXlowNDC\":0,\"fAbsYlowNDC\":0,\"fAbsWNDC\":1,\"fAbsHNDC\":1,\"fUxmin\":-3.6,\"fUymin\":0.6,\"fUxmax\":3.6,\"fUymax\":1.1,\"fTheta\":30,\"fPhi\":30,\"fAspectRatio\":0,\"fNumber\":0,\"fTickx\":0,\"fTicky\":0,\"fLogx\":0,\"fLogy\":0,\"fLogz\":0,\"fPadPaint\":0,\"fCrosshair\":0,\"fCrosshairPos\":0,\"fBorderSize\":2,\"fBorderMode\":0,\"fModified\":false,\"fGridx\":false,\"fGridy\":false,\"fAbsCoord\":false,\"fEditable\":true,\"fFixedAspectRatio\":false,\"fPrimitives\":{\"_typename\":\"TList\",\"name\":\"TList\",\"arr\":[{\"_typename\":\"TFrame\",\"fUniqueID\":0,\"fBits\":50331656,\"fLineColor\":1,\"fLineStyle\":1,\"fLineWidth\":1,\"fFillColor\":0,\"fFillStyle\":1001,\"fX1\":-3.6,\"fY1\":0.6,\"fX2\":3.6,\"fY2\":1.1,\"fBorderSize\":1,\"fBorderMode\":0},{\"_typename\":\"TGraphAsymmErrors\",\"fUniqueID\":0,\"fBits\":50332680,\"fName\":\"baa992\",\"fTitle\":\"; #eta^{GEN};\",\"fLineColor\":1,\"fLineStyle\":1,\"fLineWidth\":1,\"fFillColor\":0,\"fFillStyle\":1001,\"fMarkerColor\":1,\"fMarkerStyle\":8,\"fMarkerSize\":0.5,\"fNpoints\":28,\"fX\":[-2.94,-2.82,-2.7,-2.58,-2.46,-2.34,-2.22,-2.1,-1.98,-1.86,-1.74,-1.62,-1.5,-1.38,1.38,1.5,1.62,1.74,1.86,1.98,2.1,2.22,2.34,2.46,2.58,2.7,2.82,2.94],\"fY\":[0.840106007067138,0.897816593886463,0.939240506329114,0.964705882352941,0.969672131147541,0.9856,0.986739469578783,0.991262907069102,0.988713318284424,0.990438247011952,0.986496624156039,0.976985894580549,0.342126298960831,0,0,0.322652757078987,0.981790591805766,0.987111448066717,0.993017843289372,0.991358994501178,0.986963190184049,0.984751203852327,0.978142076502732,0.976686094920899,0.963594113090627,0.940099833610649,0.891485809682805,0.846808510638298],\"fFunctions\":{\"_typename\":\"TList\",\"name\":\"TList\",\"arr\":[],\"opt\":[]},\"fHistogram\":{\"_typename\":\"TH1F\",\"fUniqueID\":0,\"fBits\":50332160,\"fName\":\"baa992\",\"fTitle\":\"\",\"fLineColor\":602,\"fLineStyle\":1,\"fLineWidth\":1,\"fFillColor\":0,\"fFillStyle\":1001,\"fMarkerColor\":1,\"fMarkerStyle\":1,\"fMarkerSize\":1,\"fNcells\":102,\"fXaxis\":{\"_typename\":\"TAxis\",\"fUniqueID\":0,\"fBits\":50331656,\"fName\":\"xaxis\",\"fTitle\":\" #eta^{GEN}\",\"fNdivisions\":510,\"fAxisColor\":1,\"fLabelColor\":1,\"fLabelFont\":42,\"fLabelOffset\":0.005,\"fLabelSize\":0.035,\"fTickLength\":0.03,\"fTitleOffset\":1.4,\"fTitleSize\":0.035,\"fTitleColor\":1,\"fTitleFont\":42,\"fNbins\":100,\"fXmin\":-3.6,\"fXmax\":3.6,\"fXbins\":[],\"fFirst\":0,\"fLast\":0,\"fBits2\":0,\"fTimeDisplay\":false,\"fTimeFormat\":\"\",\"fLabels\":null,\"fModLabs\":null},\"fYaxis\":{\"_typename\":\"TAxis\",\"fUniqueID\":0,\"fBits\":50331656,\"fName\":\"yaxis\",\"fTitle\":\"\",\"fNdivisions\":510,\"fAxisColor\":1,\"fLabelColor\":1,\"fLabelFont\":42,\"fLabelOffset\":0.005,\"fLabelSize\":0.035,\"fTickLength\":0.03,\"fTitleOffset\":0,\"fTitleSize\":0.035,\"fTitleColor\":1,\"fTitleFont\":42,\"fNbins\":1,\"fXmin\":0,\"fXmax\":1.09482759636859,\"fXbins\":[],\"fFirst\":0,\"fLast\":0,\"fBits2\":0,\"fTimeDisplay\":false,\"fTimeFormat\":\"\",\"fLabels\":null,\"fModLabs\":null},\"fZaxis\":{\"_typename\":\"TAxis\",\"fUniqueID\":0,\"fBits\":50331648,\"fName\":\"zaxis\",\"fTitle\":\"\",\"fNdivisions\":510,\"fAxisColor\":1,\"fLabelColor\":1,\"fLabelFont\":42,\"fLabelOffset\":0.005,\"fLabelSize\":0.035,\"fTickLength\":0.03,\"fTitleOffset\":1,\"fTitleSize\":0.035,\"fTitleColor\":1,\"fTitleFont\":42,\"fNbins\":1,\"fXmin\":0,\"fXmax\":1,\"fXbins\":[],\"fFirst\":0,\"fLast\":0,\"fBits2\":0,\"fTimeDisplay\":false,\"fTimeFormat\":\"\",\"fLabels\":null,\"fModLabs\":null},\"fBarOffset\":0,\"fBarWidth\":1000,\"fEntries\":0,\"fTsumw\":0,\"fTsumw2\":0,\"fTsumwx\":0,\"fTsumwx2\":0,\"fMaximum\":1.1,\"fMinimum\":0.6,\"fNormFactor\":0,\"fContour\":[],\"fSumw2\":[],\"fOption\":\"\",\"fFunctions\":{\"_typename\":\"TList\",\"name\":\"TList\",\"arr\":[],\"opt\":[]},\"fBufferSize\":0,\"fBuffer\":[],\"fBinStatErrOpt\":0,\"fStatOverflows\":2,\"fArray\":[0,0,0,0,0,0,0,0,0,0,0,0,0,0,0,0,0,0,0,0,0,0,0,0,0,0,0,0,0,0,0,0,0,0,0,0,0,0,0,0,0,0,0,0,0,0,0,0,0,0,0,0,0,0,0,0,0,0,0,0,0,0,0,0,0,0,0,0,0,0,0,0,0,0,0,0,0,0,0,0,0,0,0,0,0,0,0,0,0,0,0,0,0,0,0,0,0,0,0,0,0,0]},\"fMinimum\":-1111,\"fMaximum\":-1111,\"fEXlow\":[0.0600000000000001,0.0600000000000001,0.0600000000000001,0.0600000000000001,0.0600000000000001,0.0600000000000001,0.0600000000000001,0.0600000000000001,0.0600000000000001,0.0600000000000001,0.0600000000000001,0.0600000000000001,0.0600000000000001,0.0600000000000001,0.0600000000000001,0.0600000000000001,0.0600000000000001,0.0600000000000001,0.0600000000000001,0.0600000000000001,0.0600000000000001,0.0600000000000001,0.0600000000000001,0.0600000000000001,0.0600000000000001,0.0600000000000001,0.0600000000000001,0.0600000000000001],\"fEXhigh\":[0.0599999999999999,0.0599999999999999,0.0599999999999999,0.0599999999999999,0.0599999999999999,0.0599999999999999,0.0599999999999999,0.0599999999999999,0.0599999999999999,0.0599999999999999,0.0599999999999999,0.0599999999999999,0.0599999999999999,0.0599999999999999,0.0599999999999999,0.0599999999999999,0.0599999999999999,0.0599999999999999,0.0599999999999999,0.0599999999999999,0.0599999999999999,0.0599999999999999,0.0599999999999999,0.0599999999999999,0.0599999999999999,0.0599999999999999,0.0599999999999999,0.0599999999999999],\"fEYlow\":[0.0116450228556589,0.00975227381207955,0.00775787826084384,0.00619703658380855,0.00574409527727293,0.00421702732316198,0.00402385830928065,0.00348646671287012,0.00370312914122328,0.00360933093543903,0.00395677816922424,0.004851299787064,0.0136778036705929,0,0,0.0129934158959996,0.00447566326839921,0.00391194414394025,0.00317245432130853,0.00344835772236829,0.0039565559574547,0.00431926152266227,0.00489380049187171,0.00521502405307717,0.00599158146354961,0.00765210485429946,0.00974512338472067,0.0112377041792576],\"fEYhigh\":[0.0110200868408696,0.00902385220719693,0.00697180759068372,0.00535498701413384,0.00491016239638675,0.00334809809904135,0.0031720620420983,0.00258824318677908,0.00287241672464256,0.00271472249923355,0.00314046057021433,0.00407895511381917,0.0139375934535548,0.0409781316010068,0.0559082515517007,0.0132653118741208,0.00366948823605884,0.0030834140442686,0.00227997159116233,0.00255983911332491,0.00311874841567039,0.00345149098102659,0.00407621106536959,0.00434560343192514,0.00522029337457031,0.00687564975039456,0.00906152193990761,0.0106237888207885]},{\"_typename\":\"TGraphAsymmErrors\",\"fUniqueID\":0,\"fBits\":50332680,\"fName\":\"e6c61c\",\"fTitle\":\"; #eta^{GEN};\",\"fLineColor\":628,\"fLineStyle\":1,\"fLineWidth\":1,\"fFillColor\":0,\"fFillStyle\":1001,\"fMarkerColor\":628,\"fMarkerStyle\":21,\"fMarkerSize\":0.5,\"fNpoints\":28,\"fX\":[-2.94,-2.82,-2.7,-2.58,-2.46,-2.34,-2.22,-2.1,-1.98,-1.86,-1.74,-1.62,-1.5,-1.38,1.38,1.5,1.62,1.74,1.86,1.98,2.1,2.22,2.34,2.46,2.58,2.7,2.82,2.94],\"fY\":[0,0,0,0,0.268852459016393,0.8576,0.908736349453978,0.902303415409055,0.891647855530474,0.908366533864542,0.895723930982746,0.884187082405345,0.305355715427658,0,0,0.292846497764531,0.886191198786039,0.896891584533738,0.907680372381691,0.917517674783975,0.898006134969325,0.905296950240771,0.870413739266198,0.263946711074105,0,0,0,0],\"fFunctions\":{\"_typename\":\"TList\",\"name\":\"TList\",\"arr\":[],\"opt\":[]},\"fHistogram\":{\"_typename\":\"TH1F\",\"fUniqueID\":0,\"fBits\":50332160,\"fName\":\"e6c61c\",\"fTitle\":\"\",\"fLineColor\":602,\"fLineStyle\":1,\"fLineWidth\":1,\"fFillColor\":0,\"fFillStyle\":1001,\"fMarkerColor\":1,\"fMarkerStyle\":1,\"fMarkerSize\":1,\"fNcells\":102,\"fXaxis\":{\"_typename\":\"TAxis\",\"fUniqueID\":0,\"fBits\":50331656,\"fName\":\"xaxis\",\"fTitle\":\" #eta^{GEN}\",\"fNdivisions\":510,\"fAxisColor\":1,\"fLabelColor\":1,\"fLabelFont\":42,\"fLabelOffset\":0.005,\"fLabelSize\":0.035,\"fTickLength\":0.03,\"fTitleOffset\":1.4,\"fTitleSize\":0.035,\"fTitleColor\":1,\"fTitleFont\":42,\"fNbins\":100,\"fXmin\":-3.6,\"fXmax\":3.6,\"fXbins\":[],\"fFirst\":0,\"fLast\":0,\"fBits2\":0,\"fTimeDisplay\":false,\"fTimeFormat\":\"\",\"fLabels\":null,\"fModLabs\":null},\"fYaxis\":{\"_typename\":\"TAxis\",\"fUniqueID\":0,\"fBits\":50331656,\"fName\":\"yaxis\",\"fTitle\":\"\",\"fNdivisions\":510,\"fAxisColor\":1,\"fLabelColor\":1,\"fLabelFont\":42,\"fLabelOffset\":0.005,\"fLabelSize\":0.035,\"fTickLength\":0.03,\"fTitleOffset\":0,\"fTitleSize\":0.035,\"fTitleColor\":1,\"fTitleFont\":42,\"fNbins\":1,\"fXmin\":0,\"fXmax\":1.01780528776736,\"fXbins\":[],\"fFirst\":0,\"fLast\":0,\"fBits2\":0,\"fTimeDisplay\":false,\"fTimeFormat\":\"\",\"fLabels\":null,\"fModLabs\":null},\"fZaxis\":{\"_typename\":\"TAxis\",\"fUniqueID\":0,\"fBits\":50331648,\"fName\":\"zaxis\",\"fTitle\":\"\",\"fNdivisions\":510,\"fAxisColor\":1,\"fLabelColor\":1,\"fLabelFont\":42,\"fLabelOffset\":0.005,\"fLabelSize\":0.035,\"fTickLength\":0.03,\"fTitleOffset\":1,\"fTitleSize\":0.035,\"fTitleColor\":1,\"fTitleFont\":42,\"fNbins\":1,\"fXmin\":0,\"fXmax\":1,\"fXbins\":[],\"fFirst\":0,\"fLast\":0,\"fBits2\":0,\"fTimeDisplay\":false,\"fTimeFormat\":\"\",\"fLabels\":null,\"fModLabs\":null},\"fBarOffset\":0,\"fBarWidth\":1000,\"fEntries\":0,\"fTsumw\":0,\"fTsumw2\":0,\"fTsumwx\":0,\"fTsumwx2\":0,\"fMaximum\":1.1,\"fMinimum\":0.6,\"fNormFactor\":0,\"fContour\":[],\"fSumw2\":[],\"fOption\":\"\",\"fFunctions\":{\"_typename\":\"TList\",\"name\":\"TList\",\"arr\":[],\"opt\":[]},\"fBufferSize\":0,\"fBuffer\":[],\"fBinStatErrOpt\":0,\"fStatOverflows\":2,\"fArray\":[0,0,0,0,0,0,0,0,0,0,0,0,0,0,0,0,0,0,0,0,0,0,0,0,0,0,0,0,0,0,0,0,0,0,0,0,0,0,0,0,0,0,0,0,0,0,0,0,0,0,0,0,0,0,0,0,0,0,0,0,0,0,0,0,0,0,0,0,0,0,0,0,0,0,0,0,0,0,0,0,0,0,0,0,0,0,0,0,0,0,0,0,0,0,0,0,0,0,0,0,0,0]},\"fMinimum\":-1111,\"fMaximum\":-1111,\"fEXlow\":[0.0600000000000001,0.0600000000000001,0.0600000000000001,0.0600000000000001,0.0600000000000001,0.0600000000000001,0.0600000000000001,0.0600000000000001,0.0600000000000001,0.0600000000000001,0.0600000000000001,0.0600000000000001,0.0600000000000001,0.0600000000000001,0.0600000000000001,0.0600000000000001,0.0600000000000001,0.0600000000000001,0.0600000000000001,0.0600000000000001,0.0600000000000001,0.0600000000000001,0.0600000000000001,0.0600000000000001,0.0600000000000001,0.0600000000000001,0.0600000000000001,0.0600000000000001],\"fEXhigh\":[0.0599999999999999,0.0599999999999999,0.0599999999999999,0.0599999999999999,0.0599999999999999,0.0599999999999999,0.0599999999999999,0.0599999999999999,0.0599999999999999,0.0599999999999999,0.0599999999999999,0.0599999999999999,0.0599999999999999,0.0599999999999999,0.0599999999999999,0.0599999999999999,0.0599999999999999,0.0599999999999999,0.0599999999999999,0.0599999999999999,0.0599999999999999,0.0599999999999999,0.0599999999999999,0.0599999999999999,0.0599999999999999,0.0599999999999999,0.0599999999999999,0.0599999999999999],\"fEYlow\":[0,0,0,0,0.0129031980276816,0.0105802139512214,0.00876801942502092,0.00909975456904111,0.0092098303899385,0.00888428076420822,0.00905595699169603,0.00938701796484764,0.0132558214491628,0,0,0.0126316485154949,0.0094323051301094,0.00906685711312283,0.00878275841195686,0.00844894357696913,0.00908351131560148,0.0090377688094887,0.0100739273331611,0.0129274635171441,0,0,0,0],\"fEYhigh\":[0.00162502242828117,0.00160658722076375,0.00155239854458307,0.00154588090587456,0.0132941690939021,0.00998517381632491,0.00809972851301888,0.00843063099301866,0.00859469359482545,0.00820195711956129,0.00843587493716258,0.00879254682906105,0.0135763989055701,0.0409781316010068,0.0559082515517007,0.0129494878388886,0.00882112466772855,0.00843806890645105,0.0081200538043974,0.0077598595499907,0.00844541437665125,0.00835604007806201,0.00947181972247058,0.0133332209351957,0.00142502678595032,0.00153045963454496,0.00153556575799479,0.00156560009943323]},{\"_typename\":\"TGraphAsymmErrors\",\"fUniqueID\":0,\"fBits\":50332680,\"fName\":\"a8b775\",\"fTitle\":\"; #eta^{GEN};\",\"fLineColor\":417,\"fLineStyle\":1,\"fLineWidth\":1,\"fFillColor\":0,\"fFillStyle\":1001,\"fMarkerColor\":417,\"fMarkerStyle\":22,\"fMarkerSize\":0.5,\"fNpoints\":28,\"fX\":[-2.94,-2.82,-2.7,-2.58,-2.46,-2.34,-2.22,-2.1,-1.98,-1.86,-1.74,-1.62,-1.5,-1.38,1.38,1.5,1.62,1.74,1.86,1.98,2.1,2.22,2.34,2.46,2.58,2.7,2.82,2.94],\"fY\":[0,0,0,0,0.267213114754098,0.8536,0.899375975039002,0.891183478951549,0.884123401053424,0.89800796812749,0.891972993248312,0.889383815887157,0.310151878497202,0,0,0.307004470938897,0.889984825493171,0.896133434420015,0.899146625290923,0.913589945011783,0.894171779141104,0.900481540930979,0.866510538641686,0.261448792672773,0,0,0,0],\"fFunctions\":{\"_typename\":\"TList\",\"name\":\"TList\",\"arr\":[],\"opt\":[]},\"fHistogram\":{\"_typename\":\"TH1F\",\"fUniqueID\":0,\"fBits\":50332160,\"fName\":\"a8b775\",\"fTitle\":\"\",\"fLineColor\":602,\"fLineStyle\":1,\"fLineWidth\":1,\"fFillColor\":0,\"fFillStyle\":1001,\"fMarkerColor\":1,\"fMarkerStyle\":1,\"fMarkerSize\":1,\"fNcells\":102,\"fXaxis\":{\"_typename\":\"TAxis\",\"fUniqueID\":0,\"fBits\":50331656,\"fName\":\"xaxis\",\"fTitle\":\" #eta^{GEN}\",\"fNdivisions\":510,\"fAxisColor\":1,\"fLabelColor\":1,\"fLabelFont\":42,\"fLabelOffset\":0.005,\"fLabelSize\":0.035,\"fTickLength\":0.03,\"fTitleOffset\":1.4,\"fTitleSize\":0.035,\"fTitleColor\":1,\"fTitleFont\":42,\"fNbins\":100,\"fXmin\":-3.6,\"fXmax\":3.6,\"fXbins\":[],\"fFirst\":0,\"fLast\":0,\"fBits2\":0,\"fTimeDisplay\":false,\"fTimeFormat\":\"\",\"fLabels\":null,\"fModLabs\":null},\"fYaxis\":{\"_typename\":\"TAxis\",\"fUniqueID\":0,\"fBits\":50331656,\"fName\":\"yaxis\",\"fTitle\":\"\",\"fNdivisions\":510,\"fAxisColor\":1,\"fLabelColor\":1,\"fLabelFont\":42,\"fLabelOffset\":0.005,\"fLabelSize\":0.035,\"fTickLength\":0.03,\"fTitleOffset\":0,\"fTitleSize\":0.035,\"fTitleColor\":1,\"fTitleFont\":42,\"fNbins\":1,\"fXmin\":0,\"fXmax\":1.01366944989077,\"fXbins\":[],\"fFirst\":0,\"fLast\":0,\"fBits2\":0,\"fTimeDisplay\":false,\"fTimeFormat\":\"\",\"fLabels\":null,\"fModLabs\":null},\"fZaxis\":{\"_typename\":\"TAxis\",\"fUniqueID\":0,\"fBits\":50331648,\"fName\":\"zaxis\",\"fTitle\":\"\",\"fNdivisions\":510,\"fAxisColor\":1,\"fLabelColor\":1,\"fLabelFont\":42,\"fLabelOffset\":0.005,\"fLabelSize\":0.035,\"fTickLength\":0.03,\"fTitleOffset\":1,\"fTitleSize\":0.035,\"fTitleColor\":1,\"fTitleFont\":42,\"fNbins\":1,\"fXmin\":0,\"fXmax\":1,\"fXbins\":[],\"fFirst\":0,\"fLast\":0,\"fBits2\":0,\"fTimeDisplay\":false,\"fTimeFormat\":\"\",\"fLabels\":null,\"fModLabs\":null},\"fBarOffset\":0,\"fBarWidth\":1000,\"fEntries\":0,\"fTsumw\":0,\"fTsumw2\":0,\"fTsumwx\":0,\"fTsumwx2\":0,\"fMaximum\":1.1,\"fMinimum\":0.6,\"fNormFactor\":0,\"fContour\":[],\"fSumw2\":[],\"fOption\":\"\",\"fFunctions\":{\"_typename\":\"TList\",\"name\":\"TList\",\"arr\":[],\"opt\":[]},\"fBufferSize\":0,\"fBuffer\":[],\"fBinStatErrOpt\":0,\"fStatOverflows\":2,\"fArray\":[0,0,0,0,0,0,0,0,0,0,0,0,0,0,0,0,0,0,0,0,0,0,0,0,0,0,0,0,0,0,0,0,0,0,0,0,0,0,0,0,0,0,0,0,0,0,0,0,0,0,0,0,0,0,0,0,0,0,0,0,0,0,0,0,0,0,0,0,0,0,0,0,0,0,0,0,0,0,0,0,0,0,0,0,0,0,0,0,0,0,0,0,0,0,0,0,0,0,0,0,0,0]},\"fMinimum\":-1111,\"fMaximum\":-1111,\"fEXlow\":[0.0600000000000001,0.0600000000000001,0.0600000000000001,0.0600000000000001,0.0600000000000001,0.0600000000000001,0.0600000000000001,0.0600000000000001,0.0600000000000001,0.0600000000000001,0.0600000000000001,0.0600000000000001,0.0600000000000001,0.0600000000000001,0.0600000000000001,0.0600000000000001,0.0600000000000001,0.0600000000000001,0.0600000000000001,0.0600000000000001,0.0600000000000001,0.0600000000000001,0.0600000000000001,0.0600000000000001,0.0600000000000001,0.0600000000000001,0.0600000000000001,0.0600000000000001],\"fEXhigh\":[0.0599999999999999,0.0599999999999999,0.0599999999999999,0.0599999999999999,0.0599999999999999,0.0599999999999999,0.0599999999999999,0.0599999999999999,0.0599999999999999,0.0599999999999999,0.0599999999999999,0.0599999999999999,0.0599999999999999,0.0599999999999999,0.0599999999999999,0.0599999999999999,0.0599999999999999,0.0599999999999999,0.0599999999999999,0.0599999999999999,0.0599999999999999,0.0599999999999999,0.0599999999999999,0.0599999999999999,0.0599999999999999,0.0599999999999999,0.0599999999999999,0.0599999999999999],\"fEYlow\":[0,0,0,0,0.0128772451454017,0.0106910791561839,0.00911801262709622,0.00949804962616885,0.00945702978495755,0.00927319490514866,0.00918401123986257,0.00921864146181139,0.013316216456095,0,0,0.0128111850284681,0.00930702018681817,0.00909335187031934,0.0090995029880514,0.00860964479224102,0.00921786748250863,0.00921874399034306,0.0101893536075852,0.0128864723840055,0,0,0,0],\"fEYhigh\":[0.00162502242828117,0.00160658722076375,0.00155239854458307,0.00154588090587456,0.0132710130116246,0.0101029576978485,0.00846631973130429,0.00884879847836295,0.00885445043321531,0.00860963160062667,0.00857021499430632,0.00861563002371513,0.0136288543577764,0.0409781316010068,0.0559082515517007,0.0131071856552982,0.0086894519469356,0.00846585298867253,0.00845182695730606,0.00792773670709745,0.00858636664132717,0.00854579751872853,0.00959388920982951,0.0132965634719531,0.00142502678595032,0.00153045963454496,0.00153556575799479,0.00156560009943323]},{\"_typename\":\"TLegend\",\"fUniqueID\":0,\"fBits\":50331656,\"fLineColor\":1,\"fLineStyle\":1,\"fLineWidth\":1,\"fFillColor\":0,\"fFillStyle\":0,\"fX1\":-3.3081080654749,\"fY1\":0.645454546774011,\"fX2\":-0.778378368347034,\"fY2\":0.742857144412227,\"fX1NDC\":0.16,\"fY1NDC\":0.2,\"fX2NDC\":0.42,\"fY2NDC\":0.35,\"fBorderSize\":0,\"fInit\":1,\"fShadowColor\":1,\"fCornerRadius\":0,\"fOption\":\"brNDC\",\"fName\":\"TPave\",\"fTextAngle\":0,\"fTextSize\":0.03,\"fTextAlign\":12,\"fTextColor\":1,\"fTextFont\":42,\"fPrimitives\":{\"_typename\":\"TList\",\"name\":\"TList\",\"arr\":[{\"_typename\":\"TLegendEntry\",\"fUniqueID\":0,\"fBits\":50331656,\"fTextAngle\":0,\"fTextSize\":0,\"fTextAlign\":0,\"fTextColor\":0,\"fTextFont\":42,\"fLineColor\":1,\"fLineStyle\":1,\"fLineWidth\":1,\"fFillColor\":0,\"fFillStyle\":0,\"fMarkerColor\":1,\"fMarkerStyle\":8,\"fMarkerSize\":0.5,\"fObject\":{\"$ref\":3},\"fLabel\":\"EG, hwQual 5, p_{T}^{L1}>=25GeV\",\"fOption\":\"P\"},{\"_typename\":\"TLegendEntry\",\"fUniqueID\":0,\"fBits\":50331656,\"fTextAngle\":0,\"fTextSize\":0,\"fTextAlign\":0,\"fTextColor\":0,\"fTextFont\":42,\"fLineColor\":1,\"fLineStyle\":1,\"fLineWidth\":1,\"fFillColor\":0,\"fFillStyle\":0,\"fMarkerColor\":628,\"fMarkerStyle\":21,\"fMarkerSize\":0.5,\"fObject\":{\"$ref\":10},\"fLabel\":\"TkEle Ell. match, hwQual 5, p_{T}^{L1}>=25GeV\",\"fOption\":\"P\"},{\"_typename\":\"TLegendEntry\",\"fUniqueID\":0,\"fBits\":50331656,\"fTextAngle\":0,\"fTextSize\":0,\"fTextAlign\":0,\"fTextColor\":0,\"fTextFont\":42,\"fLineColor\":1,\"fLineStyle\":1,\"fLineWidth\":1,\"fFillColor\":0,\"fFillStyle\":0,\"fMarkerColor\":417,\"fMarkerStyle\":22,\"fMarkerSize\":0.5,\"fObject\":{\"$ref\":17},\"fLabel\":\"TkEle Ell. match, hwQual 5, Iso0p1\",\"fOption\":\"P\"}],\"opt\":[\"P\",\"P\",\"P\"]},\"fEntrySeparation\":0.1,\"fMargin\":0.25,\"fNColumns\":1,\"fColumnSeparation\":0},{\"_typename\":\"TLatex\",\"fUniqueID\":0,\"fBits\":50348040,\"fName\":\"\",\"fTitle\":\"PU200, p_{T}^{GEN}>=30GeV\",\"fTextAngle\":0,\"fTextSize\":0.03,\"fTextAlign\":11,\"fTextColor\":1,\"fTextFont\":62,\"fX\":0.15,\"fY\":0.85,\"fLineColor\":1,\"fLineStyle\":1,\"fLineWidth\":2,\"fLimitFactorSize\":3,\"fOriginSize\":0.0299999993294477},{\"_typename\":\"TLatex\",\"fUniqueID\":0,\"fBits\":50348041,\"fName\":\"\",\"fTitle\":\"#scale[1.5]{CMS} #scale[1.]{Phase-2 Simulation}\",\"fTextAngle\":0,\"fTextSize\":0.03,\"fTextAlign\":11,\"fTextColor\":1,\"fTextFont\":62,\"fX\":0.13,\"fY\":0.91,\"fLineColor\":1,\"fLineStyle\":1,\"fLineWidth\":2,\"fLimitFactorSize\":3,\"fOriginSize\":0.0299999993294477},{\"_typename\":\"TLatex\",\"fUniqueID\":0,\"fBits\":50348041,\"fName\":\"\",\"fTitle\":\"14TeV, 200 PU\",\"fTextAngle\":0,\"fTextSize\":0.03,\"fTextAlign\":11,\"fTextColor\":1,\"fTextFont\":62,\"fX\":0.69,\"fY\":0.91,\"fLineColor\":1,\"fLineStyle\":1,\"fLineWidth\":2,\"fLimitFactorSize\":3,\"fOriginSize\":0.0299999993294477},{\"_typename\":\"TLatex\",\"fUniqueID\":0,\"fBits\":50331656,\"fName\":\"\",\"fTitle\":\"\",\"fTextAngle\":0,\"fTextSize\":0.03,\"fTextAlign\":11,\"fTextColor\":1,\"fTextFont\":62,\"fX\":0,\"fY\":0,\"fLineColor\":1,\"fLineStyle\":1,\"fLineWidth\":2,\"fLimitFactorSize\":3,\"fOriginSize\":0.04},{\"_typename\":\"TLine\",\"fUniqueID\":0,\"fBits\":50331656,\"fLineColor\":1,\"fLineStyle\":2,\"fLineWidth\":1,\"fX1\":-2.8,\"fY1\":0.6,\"fX2\":-2.8,\"fY2\":1.1},{\"_typename\":\"TLine\",\"fUniqueID\":0,\"fBits\":50331656,\"fLineColor\":1,\"fLineStyle\":2,\"fLineWidth\":1,\"fX1\":-2.4,\"fY1\":0.6,\"fX2\":-2.4,\"fY2\":1.1},{\"_typename\":\"TLine\",\"fUniqueID\":0,\"fBits\":50331656,\"fLineColor\":1,\"fLineStyle\":2,\"fLineWidth\":1,\"fX1\":-1.7,\"fY1\":0.6,\"fX2\":-1.7,\"fY2\":1.1},{\"_typename\":\"TLine\",\"fUniqueID\":0,\"fBits\":50331656,\"fLineColor\":1,\"fLineStyle\":2,\"fLineWidth\":1,\"fX1\":-1.52,\"fY1\":0.6,\"fX2\":-1.52,\"fY2\":1.1},{\"_typename\":\"TLine\",\"fUniqueID\":0,\"fBits\":50331656,\"fLineColor\":1,\"fLineStyle\":2,\"fLineWidth\":1,\"fX1\":1.52,\"fY1\":0.6,\"fX2\":1.52,\"fY2\":1.1},{\"_typename\":\"TLine\",\"fUniqueID\":0,\"fBits\":50331656,\"fLineColor\":1,\"fLineStyle\":2,\"fLineWidth\":1,\"fX1\":1.7,\"fY1\":0.6,\"fX2\":1.7,\"fY2\":1.1},{\"_typename\":\"TLine\",\"fUniqueID\":0,\"fBits\":50331656,\"fLineColor\":1,\"fLineStyle\":2,\"fLineWidth\":1,\"fX1\":2.4,\"fY1\":0.6,\"fX2\":2.4,\"fY2\":1.1},{\"_typename\":\"TLine\",\"fUniqueID\":0,\"fBits\":50331656,\"fLineColor\":1,\"fLineStyle\":2,\"fLineWidth\":1,\"fX1\":2.8,\"fY1\":0.6,\"fX2\":2.8,\"fY2\":1.1}],\"opt\":[\"\",\"pa\",\",p\",\",p\",\"same\",\"same\",\"\",\"\",\"same\",\"same\",\"same\",\"same\",\"same\",\"same\",\"same\",\"same\",\"same\"]},\"fExecs\":null,\"fName\":\"c_573e60\",\"fTitle\":\"c_573e60\",\"fNumPaletteColor\":0,\"fNextPaletteColor\":0,\"fDISPLAY\":\"$DISPLAY\",\"fDoubleBuffer\":0,\"fRetained\":true,\"fXsizeUser\":0,\"fYsizeUser\":0,\"fXsizeReal\":20,\"fYsizeReal\":20,\"fWindowTopX\":0,\"fWindowTopY\":0,\"fWindowWidth\":0,\"fWindowHeight\":0,\"fCw\":596,\"fCh\":572,\"fCatt\":{\"_typename\":\"TAttCanvas\",\"fXBetween\":2,\"fYBetween\":2,\"fTitleFromTop\":1.2,\"fXdate\":0.2,\"fYdate\":0.3,\"fAdate\":1},\"kMoveOpaque\":true,\"kResizeOpaque\":true,\"fHighLightColor\":2,\"fBatch\":true,\"kShowEventStatus\":false,\"kAutoExec\":true,\"kMenuBar\":true});\n",
       "       Core.draw(\"root_plot_9\", obj, \"\");\n",
       "     }\n",
       " );\n",
       "</script>\n"
      ],
      "text/plain": [
       "<IPython.core.display.HTML object>"
      ]
     },
     "metadata": {},
     "output_type": "display_data"
    }
   ],
   "source": [
    "hsets, labels, text = hplot.get_histo(histos.HistoSetEff, sample, ['PU200'], ['EG','TkEleEL'], ['EGq5Pt25', 'EGq5Iso0p1'], 'GENPt30', debug=False)\n",
    "draw([his.h_eff.h_eta.CreateGraph() for his in hsets], labels, text=text, min_y=0.6, max_y=1.1, v_lines=[-2.8, -2.4, -1.7, -1.52, 1.52, 1.7, 2.4, 2.8],\n",
    "     do_write=True, write_name='egammaEndcap_TkEle_EGq4Pt30_GENPt40_hEffVEta')\n"
   ]
  },
  {
   "cell_type": "code",
   "execution_count": 41,
   "metadata": {},
   "outputs": [
    {
     "data": {
      "text/plain": [
       "<drawingTools.DrawMachine at 0x11c9fd190>"
      ]
     },
     "execution_count": 41,
     "metadata": {},
     "output_type": "execute_result"
    },
    {
     "data": {
      "text/html": [
       "\n",
       "<div id=\"root_plot_10\"\n",
       "     style=\"width: 796px; height: 572px\">\n",
       "</div>\n",
       "\n",
       "<script>\n",
       " requirejs.config({\n",
       "     paths: {\n",
       "       'JSRootCore' : 'https://root.cern.ch/js/notebook//scripts/JSRootCore',\n",
       "     }\n",
       "   });\n",
       " require(['JSRootCore'],\n",
       "     function(Core) {\n",
       "       var obj = Core.JSONR_unref({\"_typename\":\"TCanvas\",\"fUniqueID\":0,\"fBits\":53673992,\"fLineColor\":1,\"fLineStyle\":1,\"fLineWidth\":1,\"fFillColor\":0,\"fFillStyle\":1001,\"fLeftMargin\":0.13,\"fRightMargin\":0.3,\"fBottomMargin\":0.13,\"fTopMargin\":0.1,\"fXfile\":2,\"fYfile\":2,\"fAfile\":1,\"fXstat\":0.99,\"fYstat\":0.99,\"fAstat\":2,\"fFrameFillColor\":0,\"fFrameLineColor\":1,\"fFrameFillStyle\":1001,\"fFrameLineStyle\":1,\"fFrameLineWidth\":1,\"fFrameBorderSize\":1,\"fFrameBorderMode\":0,\"fX1\":-5.24210522353154,\"fY1\":0.515584416589722,\"fX2\":7.38947388234231,\"fY2\":1.16493506751116,\"fXtoAbsPixelk\":330.340043357658,\"fXtoPixelk\":330.340043357658,\"fXtoPixel\":63.0166658759117,\"fYtoAbsPixelk\":1026.16804978691,\"fYtoPixelk\":1026.16804978691,\"fYtoPixel\":-880.879997869134,\"fUtoAbsPixelk\":5e-5,\"fUtoPixelk\":5e-5,\"fUtoPixel\":796,\"fVtoAbsPixelk\":572.00005,\"fVtoPixelk\":572,\"fVtoPixel\":-572,\"fAbsPixeltoXk\":-5.24210522353154,\"fPixeltoXk\":-5.24210522353154,\"fPixeltoX\":0.0158688179722033,\"fAbsPixeltoYk\":1.16493506751116,\"fPixeltoYk\":0.515584416589722,\"fPixeltoY\":-0.00113522841070182,\"fXlowNDC\":0,\"fYlowNDC\":0,\"fXUpNDC\":0,\"fYUpNDC\":0,\"fWNDC\":1,\"fHNDC\":1,\"fAbsXlowNDC\":0,\"fAbsYlowNDC\":0,\"fAbsWNDC\":1,\"fAbsHNDC\":1,\"fUxmin\":-3.6,\"fUymin\":0.6,\"fUxmax\":3.6,\"fUymax\":1.1,\"fTheta\":30,\"fPhi\":30,\"fAspectRatio\":0,\"fNumber\":0,\"fTickx\":0,\"fTicky\":0,\"fLogx\":0,\"fLogy\":0,\"fLogz\":0,\"fPadPaint\":0,\"fCrosshair\":0,\"fCrosshairPos\":0,\"fBorderSize\":2,\"fBorderMode\":0,\"fModified\":false,\"fGridx\":false,\"fGridy\":false,\"fAbsCoord\":false,\"fEditable\":true,\"fFixedAspectRatio\":false,\"fPrimitives\":{\"_typename\":\"TList\",\"name\":\"TList\",\"arr\":[{\"_typename\":\"TFrame\",\"fUniqueID\":0,\"fBits\":50331656,\"fLineColor\":1,\"fLineStyle\":1,\"fLineWidth\":1,\"fFillColor\":0,\"fFillStyle\":1001,\"fX1\":-3.6,\"fY1\":0.6,\"fX2\":3.6,\"fY2\":1.1,\"fBorderSize\":1,\"fBorderMode\":0},{\"_typename\":\"TGraphAsymmErrors\",\"fUniqueID\":0,\"fBits\":50332680,\"fName\":\"a07090\",\"fTitle\":\"; #eta^{GEN};\",\"fLineColor\":1,\"fLineStyle\":1,\"fLineWidth\":1,\"fFillColor\":0,\"fFillStyle\":1001,\"fMarkerColor\":1,\"fMarkerStyle\":8,\"fMarkerSize\":0.5,\"fNpoints\":28,\"fX\":[-2.94,-2.82,-2.7,-2.58,-2.46,-2.34,-2.22,-2.1,-1.98,-1.86,-1.74,-1.62,-1.5,-1.38,1.38,1.5,1.62,1.74,1.86,1.98,2.1,2.22,2.34,2.46,2.58,2.7,2.82,2.94],\"fY\":[0,0,0,0,0.268852459016393,0.8552,0.909516380655226,0.902303415409055,0.889390519187359,0.901195219123506,0.890472618154539,0.870824053452116,0.298960831334932,0,0,0.289865871833085,0.873292867981791,0.8855193328279,0.900698215671063,0.911233307148468,0.896472392638037,0.902086677367576,0.864168618266979,0.262281432139883,0,0,0,0],\"fFunctions\":{\"_typename\":\"TList\",\"name\":\"TList\",\"arr\":[],\"opt\":[]},\"fHistogram\":{\"_typename\":\"TH1F\",\"fUniqueID\":0,\"fBits\":50332160,\"fName\":\"a07090\",\"fTitle\":\"\",\"fLineColor\":602,\"fLineStyle\":1,\"fLineWidth\":1,\"fFillColor\":0,\"fFillStyle\":1001,\"fMarkerColor\":1,\"fMarkerStyle\":1,\"fMarkerSize\":1,\"fNcells\":102,\"fXaxis\":{\"_typename\":\"TAxis\",\"fUniqueID\":0,\"fBits\":50331656,\"fName\":\"xaxis\",\"fTitle\":\" #eta^{GEN}\",\"fNdivisions\":510,\"fAxisColor\":1,\"fLabelColor\":1,\"fLabelFont\":42,\"fLabelOffset\":0.005,\"fLabelSize\":0.035,\"fTickLength\":0.03,\"fTitleOffset\":1.4,\"fTitleSize\":0.035,\"fTitleColor\":1,\"fTitleFont\":42,\"fNbins\":100,\"fXmin\":-3.6,\"fXmax\":3.6,\"fXbins\":[],\"fFirst\":0,\"fLast\":0,\"fBits2\":0,\"fTimeDisplay\":false,\"fTimeFormat\":\"\",\"fLabels\":null,\"fModLabs\":null},\"fYaxis\":{\"_typename\":\"TAxis\",\"fUniqueID\":0,\"fBits\":50331656,\"fName\":\"yaxis\",\"fTitle\":\"\",\"fNdivisions\":510,\"fAxisColor\":1,\"fLabelColor\":1,\"fLabelFont\":42,\"fLabelOffset\":0.005,\"fLabelSize\":0.035,\"fTickLength\":0.03,\"fTitleOffset\":0,\"fTitleSize\":0.035,\"fTitleColor\":1,\"fTitleFont\":42,\"fNbins\":1,\"fXmin\":0,\"fXmax\":1.0111853422186,\"fXbins\":[],\"fFirst\":0,\"fLast\":0,\"fBits2\":0,\"fTimeDisplay\":false,\"fTimeFormat\":\"\",\"fLabels\":null,\"fModLabs\":null},\"fZaxis\":{\"_typename\":\"TAxis\",\"fUniqueID\":0,\"fBits\":50331648,\"fName\":\"zaxis\",\"fTitle\":\"\",\"fNdivisions\":510,\"fAxisColor\":1,\"fLabelColor\":1,\"fLabelFont\":42,\"fLabelOffset\":0.005,\"fLabelSize\":0.035,\"fTickLength\":0.03,\"fTitleOffset\":1,\"fTitleSize\":0.035,\"fTitleColor\":1,\"fTitleFont\":42,\"fNbins\":1,\"fXmin\":0,\"fXmax\":1,\"fXbins\":[],\"fFirst\":0,\"fLast\":0,\"fBits2\":0,\"fTimeDisplay\":false,\"fTimeFormat\":\"\",\"fLabels\":null,\"fModLabs\":null},\"fBarOffset\":0,\"fBarWidth\":1000,\"fEntries\":0,\"fTsumw\":0,\"fTsumw2\":0,\"fTsumwx\":0,\"fTsumwx2\":0,\"fMaximum\":1.1,\"fMinimum\":0.6,\"fNormFactor\":0,\"fContour\":[],\"fSumw2\":[],\"fOption\":\"\",\"fFunctions\":{\"_typename\":\"TList\",\"name\":\"TList\",\"arr\":[],\"opt\":[]},\"fBufferSize\":0,\"fBuffer\":[],\"fBinStatErrOpt\":0,\"fStatOverflows\":2,\"fArray\":[0,0,0,0,0,0,0,0,0,0,0,0,0,0,0,0,0,0,0,0,0,0,0,0,0,0,0,0,0,0,0,0,0,0,0,0,0,0,0,0,0,0,0,0,0,0,0,0,0,0,0,0,0,0,0,0,0,0,0,0,0,0,0,0,0,0,0,0,0,0,0,0,0,0,0,0,0,0,0,0,0,0,0,0,0,0,0,0,0,0,0,0,0,0,0,0,0,0,0,0,0,0]},\"fMinimum\":-1111,\"fMaximum\":-1111,\"fEXlow\":[0.0600000000000001,0.0600000000000001,0.0600000000000001,0.0600000000000001,0.0600000000000001,0.0600000000000001,0.0600000000000001,0.0600000000000001,0.0600000000000001,0.0600000000000001,0.0600000000000001,0.0600000000000001,0.0600000000000001,0.0600000000000001,0.0600000000000001,0.0600000000000001,0.0600000000000001,0.0600000000000001,0.0600000000000001,0.0600000000000001,0.0600000000000001,0.0600000000000001,0.0600000000000001,0.0600000000000001,0.0600000000000001,0.0600000000000001,0.0600000000000001,0.0600000000000001],\"fEXhigh\":[0.0599999999999999,0.0599999999999999,0.0599999999999999,0.0599999999999999,0.0599999999999999,0.0599999999999999,0.0599999999999999,0.0599999999999999,0.0599999999999999,0.0599999999999999,0.0599999999999999,0.0599999999999999,0.0599999999999999,0.0599999999999999,0.0599999999999999,0.0599999999999999,0.0599999999999999,0.0599999999999999,0.0599999999999999,0.0599999999999999,0.0599999999999999,0.0599999999999999,0.0599999999999999,0.0599999999999999,0.0599999999999999,0.0599999999999999,0.0599999999999999,0.0599999999999999],\"fEYlow\":[0,0,0,0,0.0129031980276816,0.0106470437355545,0.00873775197984605,0.00909975456904111,0.00928528791133487,0.00915659798158819,0.00923432869324892,0.00979508200491142,0.0131727016968649,0,0,0.0125920215213275,0.00983601666699596,0.00945032103243071,0.0090433480519384,0.00870372682252585,0.00913768135521109,0.0091591137528908,0.0102573115417461,0.0129001948161793,0,0,0,0],\"fEYhigh\":[0.00162502242828117,0.00160658722076375,0.00155239854458307,0.00154588090587456,0.0132941690939021,0.0100561569673431,0.00806806547748895,0.00843063099301866,0.00867392993711513,0.00848729624013578,0.00862303834300904,0.00922236676180099,0.0135038709667428,0.0409781316010068,0.0559082515517007,0.0129144624640643,0.00924636435925141,0.00884074087472198,0.00839295500872361,0.00802609486844352,0.0085022270884666,0.00848324761025898,0.00966582331203447,0.0133088411672891,0.00142502678595032,0.00153045963454496,0.00153556575799479,0.00156560009943323]},{\"_typename\":\"TGraphAsymmErrors\",\"fUniqueID\":0,\"fBits\":50332680,\"fName\":\"9a04cc\",\"fTitle\":\"; #eta^{GEN};\",\"fLineColor\":628,\"fLineStyle\":1,\"fLineWidth\":1,\"fFillColor\":0,\"fFillStyle\":1001,\"fMarkerColor\":628,\"fMarkerStyle\":21,\"fMarkerSize\":0.5,\"fNpoints\":28,\"fX\":[-2.94,-2.82,-2.7,-2.58,-2.46,-2.34,-2.22,-2.1,-1.98,-1.86,-1.74,-1.62,-1.5,-1.38,1.38,1.5,1.62,1.74,1.86,1.98,2.1,2.22,2.34,2.46,2.58,2.7,2.82,2.94],\"fY\":[0,0,0,0,0.268852459016393,0.8576,0.908736349453978,0.902303415409055,0.891647855530474,0.908366533864542,0.895723930982746,0.884187082405345,0.305355715427658,0,0,0.292846497764531,0.886191198786039,0.896891584533738,0.907680372381691,0.917517674783975,0.898006134969325,0.905296950240771,0.870413739266198,0.263946711074105,0,0,0,0],\"fFunctions\":{\"_typename\":\"TList\",\"name\":\"TList\",\"arr\":[],\"opt\":[]},\"fHistogram\":{\"_typename\":\"TH1F\",\"fUniqueID\":0,\"fBits\":50332160,\"fName\":\"9a04cc\",\"fTitle\":\"\",\"fLineColor\":602,\"fLineStyle\":1,\"fLineWidth\":1,\"fFillColor\":0,\"fFillStyle\":1001,\"fMarkerColor\":1,\"fMarkerStyle\":1,\"fMarkerSize\":1,\"fNcells\":102,\"fXaxis\":{\"_typename\":\"TAxis\",\"fUniqueID\":0,\"fBits\":50331656,\"fName\":\"xaxis\",\"fTitle\":\" #eta^{GEN}\",\"fNdivisions\":510,\"fAxisColor\":1,\"fLabelColor\":1,\"fLabelFont\":42,\"fLabelOffset\":0.005,\"fLabelSize\":0.035,\"fTickLength\":0.03,\"fTitleOffset\":1.4,\"fTitleSize\":0.035,\"fTitleColor\":1,\"fTitleFont\":42,\"fNbins\":100,\"fXmin\":-3.6,\"fXmax\":3.6,\"fXbins\":[],\"fFirst\":0,\"fLast\":0,\"fBits2\":0,\"fTimeDisplay\":false,\"fTimeFormat\":\"\",\"fLabels\":null,\"fModLabs\":null},\"fYaxis\":{\"_typename\":\"TAxis\",\"fUniqueID\":0,\"fBits\":50331656,\"fName\":\"yaxis\",\"fTitle\":\"\",\"fNdivisions\":510,\"fAxisColor\":1,\"fLabelColor\":1,\"fLabelFont\":42,\"fLabelOffset\":0.005,\"fLabelSize\":0.035,\"fTickLength\":0.03,\"fTitleOffset\":0,\"fTitleSize\":0.035,\"fTitleColor\":1,\"fTitleFont\":42,\"fNbins\":1,\"fXmin\":0,\"fXmax\":1.01780528776736,\"fXbins\":[],\"fFirst\":0,\"fLast\":0,\"fBits2\":0,\"fTimeDisplay\":false,\"fTimeFormat\":\"\",\"fLabels\":null,\"fModLabs\":null},\"fZaxis\":{\"_typename\":\"TAxis\",\"fUniqueID\":0,\"fBits\":50331648,\"fName\":\"zaxis\",\"fTitle\":\"\",\"fNdivisions\":510,\"fAxisColor\":1,\"fLabelColor\":1,\"fLabelFont\":42,\"fLabelOffset\":0.005,\"fLabelSize\":0.035,\"fTickLength\":0.03,\"fTitleOffset\":1,\"fTitleSize\":0.035,\"fTitleColor\":1,\"fTitleFont\":42,\"fNbins\":1,\"fXmin\":0,\"fXmax\":1,\"fXbins\":[],\"fFirst\":0,\"fLast\":0,\"fBits2\":0,\"fTimeDisplay\":false,\"fTimeFormat\":\"\",\"fLabels\":null,\"fModLabs\":null},\"fBarOffset\":0,\"fBarWidth\":1000,\"fEntries\":0,\"fTsumw\":0,\"fTsumw2\":0,\"fTsumwx\":0,\"fTsumwx2\":0,\"fMaximum\":1.1,\"fMinimum\":0.6,\"fNormFactor\":0,\"fContour\":[],\"fSumw2\":[],\"fOption\":\"\",\"fFunctions\":{\"_typename\":\"TList\",\"name\":\"TList\",\"arr\":[],\"opt\":[]},\"fBufferSize\":0,\"fBuffer\":[],\"fBinStatErrOpt\":0,\"fStatOverflows\":2,\"fArray\":[0,0,0,0,0,0,0,0,0,0,0,0,0,0,0,0,0,0,0,0,0,0,0,0,0,0,0,0,0,0,0,0,0,0,0,0,0,0,0,0,0,0,0,0,0,0,0,0,0,0,0,0,0,0,0,0,0,0,0,0,0,0,0,0,0,0,0,0,0,0,0,0,0,0,0,0,0,0,0,0,0,0,0,0,0,0,0,0,0,0,0,0,0,0,0,0,0,0,0,0,0,0]},\"fMinimum\":-1111,\"fMaximum\":-1111,\"fEXlow\":[0.0600000000000001,0.0600000000000001,0.0600000000000001,0.0600000000000001,0.0600000000000001,0.0600000000000001,0.0600000000000001,0.0600000000000001,0.0600000000000001,0.0600000000000001,0.0600000000000001,0.0600000000000001,0.0600000000000001,0.0600000000000001,0.0600000000000001,0.0600000000000001,0.0600000000000001,0.0600000000000001,0.0600000000000001,0.0600000000000001,0.0600000000000001,0.0600000000000001,0.0600000000000001,0.0600000000000001,0.0600000000000001,0.0600000000000001,0.0600000000000001,0.0600000000000001],\"fEXhigh\":[0.0599999999999999,0.0599999999999999,0.0599999999999999,0.0599999999999999,0.0599999999999999,0.0599999999999999,0.0599999999999999,0.0599999999999999,0.0599999999999999,0.0599999999999999,0.0599999999999999,0.0599999999999999,0.0599999999999999,0.0599999999999999,0.0599999999999999,0.0599999999999999,0.0599999999999999,0.0599999999999999,0.0599999999999999,0.0599999999999999,0.0599999999999999,0.0599999999999999,0.0599999999999999,0.0599999999999999,0.0599999999999999,0.0599999999999999,0.0599999999999999,0.0599999999999999],\"fEYlow\":[0,0,0,0,0.0129031980276816,0.0105802139512214,0.00876801942502092,0.00909975456904111,0.0092098303899385,0.00888428076420822,0.00905595699169603,0.00938701796484764,0.0132558214491628,0,0,0.0126316485154949,0.0094323051301094,0.00906685711312283,0.00878275841195686,0.00844894357696913,0.00908351131560148,0.0090377688094887,0.0100739273331611,0.0129274635171441,0,0,0,0],\"fEYhigh\":[0.00162502242828117,0.00160658722076375,0.00155239854458307,0.00154588090587456,0.0132941690939021,0.00998517381632491,0.00809972851301888,0.00843063099301866,0.00859469359482545,0.00820195711956129,0.00843587493716258,0.00879254682906105,0.0135763989055701,0.0409781316010068,0.0559082515517007,0.0129494878388886,0.00882112466772855,0.00843806890645105,0.0081200538043974,0.0077598595499907,0.00844541437665125,0.00835604007806201,0.00947181972247058,0.0133332209351957,0.00142502678595032,0.00153045963454496,0.00153556575799479,0.00156560009943323]},{\"_typename\":\"TLegend\",\"fUniqueID\":0,\"fBits\":50331656,\"fLineColor\":1,\"fLineStyle\":1,\"fLineWidth\":1,\"fFillColor\":0,\"fFillStyle\":0,\"fX1\":3.60000015058016,\"fY1\":0.976623378743946,\"fX2\":6.75789492704862,\"fY2\":1.06753246987295,\"fX1NDC\":0.7,\"fY1NDC\":0.71,\"fX2NDC\":0.95,\"fY2NDC\":0.85,\"fBorderSize\":0,\"fInit\":1,\"fShadowColor\":1,\"fCornerRadius\":0,\"fOption\":\"brNDC\",\"fName\":\"TPave\",\"fTextAngle\":0,\"fTextSize\":0.03,\"fTextAlign\":12,\"fTextColor\":1,\"fTextFont\":42,\"fPrimitives\":{\"_typename\":\"TList\",\"name\":\"TList\",\"arr\":[{\"_typename\":\"TLegendEntry\",\"fUniqueID\":0,\"fBits\":50331656,\"fTextAngle\":0,\"fTextSize\":0,\"fTextAlign\":0,\"fTextColor\":0,\"fTextFont\":42,\"fLineColor\":1,\"fLineStyle\":1,\"fLineWidth\":1,\"fFillColor\":0,\"fFillStyle\":0,\"fMarkerColor\":1,\"fMarkerStyle\":8,\"fMarkerSize\":0.5,\"fObject\":{\"$ref\":3},\"fLabel\":\"hwQual 4, p_{T}^{L1}>=25GeV\",\"fOption\":\"P\"},{\"_typename\":\"TLegendEntry\",\"fUniqueID\":0,\"fBits\":50331656,\"fTextAngle\":0,\"fTextSize\":0,\"fTextAlign\":0,\"fTextColor\":0,\"fTextFont\":42,\"fLineColor\":1,\"fLineStyle\":1,\"fLineWidth\":1,\"fFillColor\":0,\"fFillStyle\":0,\"fMarkerColor\":628,\"fMarkerStyle\":21,\"fMarkerSize\":0.5,\"fObject\":{\"$ref\":10},\"fLabel\":\"hwQual 5, p_{T}^{L1}>=25GeV\",\"fOption\":\"P\"}],\"opt\":[\"P\",\"P\"]},\"fEntrySeparation\":0.1,\"fMargin\":0.25,\"fNColumns\":1,\"fColumnSeparation\":0},{\"_typename\":\"TLatex\",\"fUniqueID\":0,\"fBits\":50348040,\"fName\":\"\",\"fTitle\":\"PU200, TkEle Ell. match, p_{T}^{GEN}>=30GeV\",\"fTextAngle\":0,\"fTextSize\":0.03,\"fTextAlign\":11,\"fTextColor\":1,\"fTextFont\":62,\"fX\":0.15,\"fY\":0.85,\"fLineColor\":1,\"fLineStyle\":1,\"fLineWidth\":2,\"fLimitFactorSize\":3,\"fOriginSize\":0.04},{\"_typename\":\"TLatex\",\"fUniqueID\":0,\"fBits\":50331656,\"fName\":\"\",\"fTitle\":\"\",\"fTextAngle\":0,\"fTextSize\":0.03,\"fTextAlign\":11,\"fTextColor\":1,\"fTextFont\":62,\"fX\":0,\"fY\":0,\"fLineColor\":1,\"fLineStyle\":1,\"fLineWidth\":2,\"fLimitFactorSize\":3,\"fOriginSize\":0.04},{\"_typename\":\"TLine\",\"fUniqueID\":0,\"fBits\":50331656,\"fLineColor\":1,\"fLineStyle\":2,\"fLineWidth\":1,\"fX1\":-2.8,\"fY1\":0.6,\"fX2\":-2.8,\"fY2\":1.1},{\"_typename\":\"TLine\",\"fUniqueID\":0,\"fBits\":50331656,\"fLineColor\":1,\"fLineStyle\":2,\"fLineWidth\":1,\"fX1\":-2.4,\"fY1\":0.6,\"fX2\":-2.4,\"fY2\":1.1},{\"_typename\":\"TLine\",\"fUniqueID\":0,\"fBits\":50331656,\"fLineColor\":1,\"fLineStyle\":2,\"fLineWidth\":1,\"fX1\":-1.7,\"fY1\":0.6,\"fX2\":-1.7,\"fY2\":1.1},{\"_typename\":\"TLine\",\"fUniqueID\":0,\"fBits\":50331656,\"fLineColor\":1,\"fLineStyle\":2,\"fLineWidth\":1,\"fX1\":-1.52,\"fY1\":0.6,\"fX2\":-1.52,\"fY2\":1.1},{\"_typename\":\"TLine\",\"fUniqueID\":0,\"fBits\":50331656,\"fLineColor\":1,\"fLineStyle\":2,\"fLineWidth\":1,\"fX1\":1.52,\"fY1\":0.6,\"fX2\":1.52,\"fY2\":1.1},{\"_typename\":\"TLine\",\"fUniqueID\":0,\"fBits\":50331656,\"fLineColor\":1,\"fLineStyle\":2,\"fLineWidth\":1,\"fX1\":1.7,\"fY1\":0.6,\"fX2\":1.7,\"fY2\":1.1},{\"_typename\":\"TLine\",\"fUniqueID\":0,\"fBits\":50331656,\"fLineColor\":1,\"fLineStyle\":2,\"fLineWidth\":1,\"fX1\":2.4,\"fY1\":0.6,\"fX2\":2.4,\"fY2\":1.1},{\"_typename\":\"TLine\",\"fUniqueID\":0,\"fBits\":50331656,\"fLineColor\":1,\"fLineStyle\":2,\"fLineWidth\":1,\"fX1\":2.8,\"fY1\":0.6,\"fX2\":2.8,\"fY2\":1.1}],\"opt\":[\"\",\"pa\",\",p\",\"same\",\"same\",\"same\",\"same\",\"same\",\"same\",\"same\",\"same\",\"same\",\"same\",\"same\"]},\"fExecs\":null,\"fName\":\"c_33512b\",\"fTitle\":\"c_33512b\",\"fNumPaletteColor\":0,\"fNextPaletteColor\":0,\"fDISPLAY\":\"$DISPLAY\",\"fDoubleBuffer\":0,\"fRetained\":true,\"fXsizeUser\":0,\"fYsizeUser\":0,\"fXsizeReal\":20,\"fYsizeReal\":15,\"fWindowTopX\":0,\"fWindowTopY\":0,\"fWindowWidth\":0,\"fWindowHeight\":0,\"fCw\":796,\"fCh\":572,\"fCatt\":{\"_typename\":\"TAttCanvas\",\"fXBetween\":2,\"fYBetween\":2,\"fTitleFromTop\":1.2,\"fXdate\":0.2,\"fYdate\":0.3,\"fAdate\":1},\"kMoveOpaque\":true,\"kResizeOpaque\":true,\"fHighLightColor\":2,\"fBatch\":true,\"kShowEventStatus\":false,\"kAutoExec\":true,\"kMenuBar\":true});\n",
       "       Core.draw(\"root_plot_10\", obj, \"\");\n",
       "     }\n",
       " );\n",
       "</script>\n"
      ],
      "text/plain": [
       "<IPython.core.display.HTML object>"
      ]
     },
     "metadata": {},
     "output_type": "display_data"
    }
   ],
   "source": [
    "hsets, labels, text = hplot.get_histo(histos.HistoSetEff, None, ['PU200'], ['TkEleEL'], ['EGq4Pt25', 'EGq4Iso0p2Pt25', 'EGq4Iso0p3Pt25', 'EGq5Pt25'], 'GENPt30', debug=False)\n",
    "draw([his.h_eff.h_eta.CreateGraph() for his in hsets], labels, text=text, min_y=0.6, max_y=1.1, v_lines=[-2.8, -2.4, -1.7, -1.52, 1.52, 1.7, 2.4, 2.8])\n"
   ]
  },
  {
   "cell_type": "code",
   "execution_count": 42,
   "metadata": {},
   "outputs": [
    {
     "data": {
      "text/plain": [
       "<drawingTools.DrawMachine at 0x11cfbab10>"
      ]
     },
     "execution_count": 42,
     "metadata": {},
     "output_type": "execute_result"
    },
    {
     "data": {
      "text/html": [
       "\n",
       "<div id=\"root_plot_11\"\n",
       "     style=\"width: 796px; height: 572px\">\n",
       "</div>\n",
       "\n",
       "<script>\n",
       " requirejs.config({\n",
       "     paths: {\n",
       "       'JSRootCore' : 'https://root.cern.ch/js/notebook//scripts/JSRootCore',\n",
       "     }\n",
       "   });\n",
       " require(['JSRootCore'],\n",
       "     function(Core) {\n",
       "       var obj = Core.JSONR_unref({\"_typename\":\"TCanvas\",\"fUniqueID\":0,\"fBits\":53673992,\"fLineColor\":1,\"fLineStyle\":1,\"fLineWidth\":1,\"fFillColor\":0,\"fFillStyle\":1001,\"fLeftMargin\":0.13,\"fRightMargin\":0.3,\"fBottomMargin\":0.13,\"fTopMargin\":0.1,\"fXfile\":2,\"fYfile\":2,\"fAfile\":1,\"fXstat\":0.99,\"fYstat\":0.99,\"fAstat\":2,\"fFrameFillColor\":0,\"fFrameLineColor\":1,\"fFrameFillStyle\":1001,\"fFrameLineStyle\":1,\"fFrameLineWidth\":1,\"fFrameBorderSize\":1,\"fFrameBorderMode\":0,\"fX1\":-5.24210522353154,\"fY1\":0.515584416589722,\"fX2\":7.38947388234231,\"fY2\":1.16493506751116,\"fXtoAbsPixelk\":330.340043357658,\"fXtoPixelk\":330.340043357658,\"fXtoPixel\":63.0166658759117,\"fYtoAbsPixelk\":1026.16804978691,\"fYtoPixelk\":1026.16804978691,\"fYtoPixel\":-880.879997869134,\"fUtoAbsPixelk\":5e-5,\"fUtoPixelk\":5e-5,\"fUtoPixel\":796,\"fVtoAbsPixelk\":572.00005,\"fVtoPixelk\":572,\"fVtoPixel\":-572,\"fAbsPixeltoXk\":-5.24210522353154,\"fPixeltoXk\":-5.24210522353154,\"fPixeltoX\":0.0158688179722033,\"fAbsPixeltoYk\":1.16493506751116,\"fPixeltoYk\":0.515584416589722,\"fPixeltoY\":-0.00113522841070182,\"fXlowNDC\":0,\"fYlowNDC\":0,\"fXUpNDC\":0,\"fYUpNDC\":0,\"fWNDC\":1,\"fHNDC\":1,\"fAbsXlowNDC\":0,\"fAbsYlowNDC\":0,\"fAbsWNDC\":1,\"fAbsHNDC\":1,\"fUxmin\":-3.6,\"fUymin\":0.6,\"fUxmax\":3.6,\"fUymax\":1.1,\"fTheta\":30,\"fPhi\":30,\"fAspectRatio\":0,\"fNumber\":0,\"fTickx\":0,\"fTicky\":0,\"fLogx\":0,\"fLogy\":0,\"fLogz\":0,\"fPadPaint\":0,\"fCrosshair\":0,\"fCrosshairPos\":0,\"fBorderSize\":2,\"fBorderMode\":0,\"fModified\":false,\"fGridx\":false,\"fGridy\":false,\"fAbsCoord\":false,\"fEditable\":true,\"fFixedAspectRatio\":false,\"fPrimitives\":{\"_typename\":\"TList\",\"name\":\"TList\",\"arr\":[{\"_typename\":\"TFrame\",\"fUniqueID\":0,\"fBits\":50331656,\"fLineColor\":1,\"fLineStyle\":1,\"fLineWidth\":1,\"fFillColor\":0,\"fFillStyle\":1001,\"fX1\":-3.6,\"fY1\":0.6,\"fX2\":3.6,\"fY2\":1.1,\"fBorderSize\":1,\"fBorderMode\":0},{\"_typename\":\"TGraphAsymmErrors\",\"fUniqueID\":0,\"fBits\":50332680,\"fName\":\"bbfd40\",\"fTitle\":\"; #eta^{GEN};\",\"fLineColor\":1,\"fLineStyle\":1,\"fLineWidth\":1,\"fFillColor\":0,\"fFillStyle\":1001,\"fMarkerColor\":1,\"fMarkerStyle\":8,\"fMarkerSize\":0.5,\"fNpoints\":50,\"fX\":[-2.94,-2.82,-2.7,-2.58,-2.46,-2.34,-2.22,-2.1,-1.98,-1.86,-1.74,-1.62,-1.5,-1.38,-1.26,-1.14,-1.02,-0.9,-0.78,-0.66,-0.54,-0.42,-0.3,-0.18,-0.0600000000000001,0.06,0.18,0.3,0.42,0.54,0.66,0.78,0.9,1.02,1.14,1.26,1.38,1.5,1.62,1.74,1.86,1.98,2.1,2.22,2.34,2.46,2.58,2.7,2.82,2.94],\"fY\":[0,0,0,0,0,0,0,0,0,0,0,0,0.345959595959596,0.896666666666667,0.907325684024713,0.912151067323481,0.9275,0.909849749582638,0.93452380952381,0.922204213938412,0.918544194107452,0.919410745233969,0.942206654991243,0.936536718041704,0.822970639032815,0.89051724137931,0.929734361610968,0.927272727272727,0.91921768707483,0.92,0.932536293766012,0.922553191489362,0.903307888040712,0.914821124361158,0.896356275303644,0.90990990990991,0.909623430962343,0.317896389324961,0,0,0,0,0,0,0,0,0,0,0,0],\"fFunctions\":{\"_typename\":\"TList\",\"name\":\"TList\",\"arr\":[],\"opt\":[]},\"fHistogram\":{\"_typename\":\"TH1F\",\"fUniqueID\":0,\"fBits\":50332160,\"fName\":\"bbfd40\",\"fTitle\":\"\",\"fLineColor\":602,\"fLineStyle\":1,\"fLineWidth\":1,\"fFillColor\":0,\"fFillStyle\":1001,\"fMarkerColor\":1,\"fMarkerStyle\":1,\"fMarkerSize\":1,\"fNcells\":102,\"fXaxis\":{\"_typename\":\"TAxis\",\"fUniqueID\":0,\"fBits\":50331656,\"fName\":\"xaxis\",\"fTitle\":\" #eta^{GEN}\",\"fNdivisions\":510,\"fAxisColor\":1,\"fLabelColor\":1,\"fLabelFont\":42,\"fLabelOffset\":0.005,\"fLabelSize\":0.035,\"fTickLength\":0.03,\"fTitleOffset\":1.4,\"fTitleSize\":0.035,\"fTitleColor\":1,\"fTitleFont\":42,\"fNbins\":100,\"fXmin\":-3.6,\"fXmax\":3.6,\"fXbins\":[],\"fFirst\":0,\"fLast\":0,\"fBits2\":0,\"fTimeDisplay\":false,\"fTimeFormat\":\"\",\"fLabels\":null,\"fModLabs\":null},\"fYaxis\":{\"_typename\":\"TAxis\",\"fUniqueID\":0,\"fBits\":50331656,\"fName\":\"yaxis\",\"fTitle\":\"\",\"fNdivisions\":510,\"fAxisColor\":1,\"fLabelColor\":1,\"fLabelFont\":42,\"fLabelOffset\":0.005,\"fLabelSize\":0.035,\"fTickLength\":0.03,\"fTitleOffset\":0,\"fTitleSize\":0.035,\"fTitleColor\":1,\"fTitleFont\":42,\"fNbins\":1,\"fXmin\":0,\"fXmax\":1.04405610769438,\"fXbins\":[],\"fFirst\":0,\"fLast\":0,\"fBits2\":0,\"fTimeDisplay\":false,\"fTimeFormat\":\"\",\"fLabels\":null,\"fModLabs\":null},\"fZaxis\":{\"_typename\":\"TAxis\",\"fUniqueID\":0,\"fBits\":50331648,\"fName\":\"zaxis\",\"fTitle\":\"\",\"fNdivisions\":510,\"fAxisColor\":1,\"fLabelColor\":1,\"fLabelFont\":42,\"fLabelOffset\":0.005,\"fLabelSize\":0.035,\"fTickLength\":0.03,\"fTitleOffset\":1,\"fTitleSize\":0.035,\"fTitleColor\":1,\"fTitleFont\":42,\"fNbins\":1,\"fXmin\":0,\"fXmax\":1,\"fXbins\":[],\"fFirst\":0,\"fLast\":0,\"fBits2\":0,\"fTimeDisplay\":false,\"fTimeFormat\":\"\",\"fLabels\":null,\"fModLabs\":null},\"fBarOffset\":0,\"fBarWidth\":1000,\"fEntries\":0,\"fTsumw\":0,\"fTsumw2\":0,\"fTsumwx\":0,\"fTsumwx2\":0,\"fMaximum\":1.1,\"fMinimum\":0.6,\"fNormFactor\":0,\"fContour\":[],\"fSumw2\":[],\"fOption\":\"\",\"fFunctions\":{\"_typename\":\"TList\",\"name\":\"TList\",\"arr\":[],\"opt\":[]},\"fBufferSize\":0,\"fBuffer\":[],\"fBinStatErrOpt\":0,\"fStatOverflows\":2,\"fArray\":[0,0,0,0,0,0,0,0,0,0,0,0,0,0,0,0,0,0,0,0,0,0,0,0,0,0,0,0,0,0,0,0,0,0,0,0,0,0,0,0,0,0,0,0,0,0,0,0,0,0,0,0,0,0,0,0,0,0,0,0,0,0,0,0,0,0,0,0,0,0,0,0,0,0,0,0,0,0,0,0,0,0,0,0,0,0,0,0,0,0,0,0,0,0,0,0,0,0,0,0,0,0]},\"fMinimum\":-1111,\"fMaximum\":-1111,\"fEXlow\":[0.0600000000000001,0.0600000000000001,0.0600000000000001,0.0600000000000001,0.0600000000000001,0.0600000000000001,0.0600000000000001,0.0600000000000001,0.0600000000000001,0.0600000000000001,0.0600000000000001,0.0600000000000001,0.0600000000000001,0.0600000000000001,0.0600000000000001,0.0600000000000001,0.0600000000000001,0.0600000000000001,0.0600000000000001,0.0600000000000001,0.0600000000000001,0.06,0.06,0.06,0.06,0.06,0.06,0.06,0.06,0.0600000000000001,0.0600000000000001,0.0600000000000001,0.0600000000000001,0.0600000000000001,0.0600000000000001,0.0600000000000001,0.0600000000000001,0.0600000000000001,0.0600000000000001,0.0600000000000001,0.0600000000000001,0.0600000000000001,0.0600000000000001,0.0600000000000001,0.0600000000000001,0.0600000000000001,0.0600000000000001,0.0600000000000001,0.0600000000000001,0.0600000000000001],\"fEXhigh\":[0.0599999999999999,0.0599999999999999,0.0599999999999999,0.0599999999999999,0.0599999999999999,0.0599999999999999,0.0599999999999999,0.0599999999999999,0.0599999999999999,0.0599999999999999,0.0599999999999999,0.0599999999999999,0.0599999999999999,0.0599999999999999,0.0599999999999999,0.0599999999999999,0.0599999999999999,0.0599999999999999,0.0599999999999999,0.0599999999999999,0.0599999999999999,0.06,0.06,0.06,0.06,0.06,0.06,0.06,0.06,0.0599999999999999,0.0599999999999999,0.0599999999999999,0.0599999999999999,0.0599999999999999,0.0599999999999999,0.0599999999999999,0.0599999999999999,0.0599999999999999,0.0599999999999999,0.0599999999999999,0.0599999999999999,0.0599999999999999,0.0599999999999999,0.0599999999999999,0.0599999999999999,0.0599999999999999,0.0599999999999999,0.0599999999999999,0.0599999999999999,0.0599999999999999],\"fEYlow\":[0,0,0,0,0,0,0,0,0,0,0,0,0.0140824455547838,0.00954994311038859,0.00943465558334045,0.00887794165206002,0.00828048381005897,0.0090519195968144,0.00803239808862533,0.00839192481538786,0.00886893506123676,0.00883071994610507,0.00775844232544498,0.00821732355645688,0.0119349391931628,0.00995092021525557,0.00830199349830552,0.00825334751008433,0.00874838711731984,0.00892822453820108,0.00815013062493397,0.00860433607248179,0.0093904436807607,0.00894582471031447,0.00941390519911789,0.00895640559021782,0.00907340135266077,0.013286563841702,0,0,0,0,0,0,0,0,0,0,0,0],\"fEYhigh\":[0.00160939613364288,0.0016178821153095,0.0015445839399481,0.00160378809570988,0.001599607648681,0.00161646157595358,0.0015445839399481,0.00160239218764497,0.00152412453622262,0.00163803508815592,0.00153428603559457,0.00155109062386966,0.0143495437627882,0.00885780393712532,0.00867916732236507,0.00816723936824892,0.00752865463369035,0.00833351110164904,0.00725019819204531,0.00767158649603683,0.00810487922796788,0.00806489051001924,0.00693526109455689,0.00737729284354249,0.0113559535310656,0.00924629906418539,0.00752369222910443,0.00750834456735816,0.00799762726581033,0.00814090576149729,0.00736869614484703,0.00784619150134391,0.00867291711069151,0.00820254495569916,0.00874237238459497,0.0082517301479933,0.00835358371573891,0.0135808999449432,0.0015445839399481,0.00157767495366163,0.00158446403380913,0.00158856560079081,0.00150666207840593,0.00155897137443245,0.00153813161786322,0.0015858288674509,0.00150174606142913,0.00152034858907996,0.00156161611718799,0.00154328914845575]},{\"_typename\":\"TLatex\",\"fUniqueID\":0,\"fBits\":50348040,\"fName\":\"\",\"fTitle\":\"PU200, TkEle Ell. match barrel, p_{T}^{L1}>=30GeV, p_{T}^{GEN}>=40GeV\",\"fTextAngle\":0,\"fTextSize\":0.03,\"fTextAlign\":11,\"fTextColor\":1,\"fTextFont\":62,\"fX\":0.15,\"fY\":0.85,\"fLineColor\":1,\"fLineStyle\":1,\"fLineWidth\":2,\"fLimitFactorSize\":3,\"fOriginSize\":0.04},{\"_typename\":\"TLatex\",\"fUniqueID\":0,\"fBits\":50331656,\"fName\":\"\",\"fTitle\":\"\",\"fTextAngle\":0,\"fTextSize\":0.03,\"fTextAlign\":11,\"fTextColor\":1,\"fTextFont\":62,\"fX\":0,\"fY\":0,\"fLineColor\":1,\"fLineStyle\":1,\"fLineWidth\":2,\"fLimitFactorSize\":3,\"fOriginSize\":0.04},{\"_typename\":\"TLine\",\"fUniqueID\":0,\"fBits\":50331656,\"fLineColor\":1,\"fLineStyle\":2,\"fLineWidth\":1,\"fX1\":-2.8,\"fY1\":0.6,\"fX2\":-2.8,\"fY2\":1.1},{\"_typename\":\"TLine\",\"fUniqueID\":0,\"fBits\":50331656,\"fLineColor\":1,\"fLineStyle\":2,\"fLineWidth\":1,\"fX1\":-2.4,\"fY1\":0.6,\"fX2\":-2.4,\"fY2\":1.1},{\"_typename\":\"TLine\",\"fUniqueID\":0,\"fBits\":50331656,\"fLineColor\":1,\"fLineStyle\":2,\"fLineWidth\":1,\"fX1\":-1.7,\"fY1\":0.6,\"fX2\":-1.7,\"fY2\":1.1},{\"_typename\":\"TLine\",\"fUniqueID\":0,\"fBits\":50331656,\"fLineColor\":1,\"fLineStyle\":2,\"fLineWidth\":1,\"fX1\":-1.52,\"fY1\":0.6,\"fX2\":-1.52,\"fY2\":1.1},{\"_typename\":\"TLine\",\"fUniqueID\":0,\"fBits\":50331656,\"fLineColor\":1,\"fLineStyle\":2,\"fLineWidth\":1,\"fX1\":1.52,\"fY1\":0.6,\"fX2\":1.52,\"fY2\":1.1},{\"_typename\":\"TLine\",\"fUniqueID\":0,\"fBits\":50331656,\"fLineColor\":1,\"fLineStyle\":2,\"fLineWidth\":1,\"fX1\":1.7,\"fY1\":0.6,\"fX2\":1.7,\"fY2\":1.1},{\"_typename\":\"TLine\",\"fUniqueID\":0,\"fBits\":50331656,\"fLineColor\":1,\"fLineStyle\":2,\"fLineWidth\":1,\"fX1\":2.4,\"fY1\":0.6,\"fX2\":2.4,\"fY2\":1.1},{\"_typename\":\"TLine\",\"fUniqueID\":0,\"fBits\":50331656,\"fLineColor\":1,\"fLineStyle\":2,\"fLineWidth\":1,\"fX1\":2.8,\"fY1\":0.6,\"fX2\":2.8,\"fY2\":1.1}],\"opt\":[\"\",\"pa\",\"same\",\"same\",\"same\",\"same\",\"same\",\"same\",\"same\",\"same\",\"same\",\"same\"]},\"fExecs\":null,\"fName\":\"c_257af7\",\"fTitle\":\"c_257af7\",\"fNumPaletteColor\":0,\"fNextPaletteColor\":0,\"fDISPLAY\":\"$DISPLAY\",\"fDoubleBuffer\":0,\"fRetained\":true,\"fXsizeUser\":0,\"fYsizeUser\":0,\"fXsizeReal\":20,\"fYsizeReal\":15,\"fWindowTopX\":0,\"fWindowTopY\":0,\"fWindowWidth\":0,\"fWindowHeight\":0,\"fCw\":796,\"fCh\":572,\"fCatt\":{\"_typename\":\"TAttCanvas\",\"fXBetween\":2,\"fYBetween\":2,\"fTitleFromTop\":1.2,\"fXdate\":0.2,\"fYdate\":0.3,\"fAdate\":1},\"kMoveOpaque\":true,\"kResizeOpaque\":true,\"fHighLightColor\":2,\"fBatch\":true,\"kShowEventStatus\":false,\"kAutoExec\":true,\"kMenuBar\":true});\n",
       "       Core.draw(\"root_plot_11\", obj, \"\");\n",
       "     }\n",
       " );\n",
       "</script>\n"
      ],
      "text/plain": [
       "<IPython.core.display.HTML object>"
      ]
     },
     "metadata": {},
     "output_type": "display_data"
    }
   ],
   "source": [
    "hsets, labels, text = hplot.get_histo(histos.HistoSetEff, sample, ['PU200'], ['TkEleBRL', 'TkEleELBRL'], ['Pt30'], ['GENPt40'], debug=False)\n",
    "draw([his.h_eff.h_eta.CreateGraph() for his in hsets], labels, text=text, min_y=0.6, max_y=1.1, v_lines=[-2.8, -2.4, -1.7, -1.52, 1.52, 1.7, 2.4, 2.8],\n",
    "     do_write=False, write_name='egammaEndcap_TkEle_EGq4Pt30_GENPt40_hEffVEta')\n",
    "\n"
   ]
  },
  {
   "cell_type": "code",
   "execution_count": 43,
   "metadata": {},
   "outputs": [
    {
     "data": {
      "text/plain": [
       "<drawingTools.DrawMachine at 0x1146b1750>"
      ]
     },
     "execution_count": 43,
     "metadata": {},
     "output_type": "execute_result"
    },
    {
     "name": "stderr",
     "output_type": "stream",
     "text": [
      "Info in <TCanvas::Print>: pdf file egammaEndcap_TkEle_EGq4Pt30_GENPt40_hEffVEta.pdf has been created\n"
     ]
    },
    {
     "data": {
      "text/html": [
       "\n",
       "<div id=\"root_plot_12\"\n",
       "     style=\"width: 596px; height: 572px\">\n",
       "</div>\n",
       "\n",
       "<script>\n",
       " requirejs.config({\n",
       "     paths: {\n",
       "       'JSRootCore' : 'https://root.cern.ch/js/notebook//scripts/JSRootCore',\n",
       "     }\n",
       "   });\n",
       " require(['JSRootCore'],\n",
       "     function(Core) {\n",
       "       var obj = Core.JSONR_unref({\"_typename\":\"TCanvas\",\"fUniqueID\":0,\"fBits\":53673992,\"fLineColor\":1,\"fLineStyle\":1,\"fLineWidth\":1,\"fFillColor\":0,\"fFillStyle\":1001,\"fLeftMargin\":0.13,\"fRightMargin\":0.13,\"fBottomMargin\":0.13,\"fTopMargin\":0.1,\"fXfile\":2,\"fYfile\":2,\"fAfile\":1,\"fXstat\":0.99,\"fYstat\":0.99,\"fAstat\":2,\"fFrameFillColor\":0,\"fFrameLineColor\":1,\"fFrameFillStyle\":1001,\"fFrameLineStyle\":1,\"fFrameLineWidth\":1,\"fFrameBorderSize\":1,\"fFrameBorderMode\":0,\"fX1\":-4.86486480216896,\"fY1\":0.515584416589722,\"fX2\":4.86486480216897,\"fY2\":1.16493506751116,\"fXtoAbsPixelk\":298.00005,\"fXtoPixelk\":298.00005,\"fXtoPixel\":61.255556344986,\"fYtoAbsPixelk\":1026.16804978691,\"fYtoPixelk\":1026.16804978691,\"fYtoPixel\":-880.879997869134,\"fUtoAbsPixelk\":5e-5,\"fUtoPixelk\":5e-5,\"fUtoPixel\":596,\"fVtoAbsPixelk\":572.00005,\"fVtoPixelk\":572,\"fVtoPixel\":-572,\"fAbsPixeltoXk\":-4.86486480216896,\"fPixeltoXk\":-4.86486480216896,\"fPixeltoX\":0.0163250496717079,\"fAbsPixeltoYk\":1.16493506751116,\"fPixeltoYk\":0.515584416589722,\"fPixeltoY\":-0.00113522841070182,\"fXlowNDC\":0,\"fYlowNDC\":0,\"fXUpNDC\":0,\"fYUpNDC\":0,\"fWNDC\":1,\"fHNDC\":1,\"fAbsXlowNDC\":0,\"fAbsYlowNDC\":0,\"fAbsWNDC\":1,\"fAbsHNDC\":1,\"fUxmin\":-3.6,\"fUymin\":0.6,\"fUxmax\":3.6,\"fUymax\":1.1,\"fTheta\":30,\"fPhi\":30,\"fAspectRatio\":0,\"fNumber\":0,\"fTickx\":0,\"fTicky\":0,\"fLogx\":0,\"fLogy\":0,\"fLogz\":0,\"fPadPaint\":0,\"fCrosshair\":0,\"fCrosshairPos\":0,\"fBorderSize\":2,\"fBorderMode\":0,\"fModified\":false,\"fGridx\":false,\"fGridy\":false,\"fAbsCoord\":false,\"fEditable\":true,\"fFixedAspectRatio\":false,\"fPrimitives\":{\"_typename\":\"TList\",\"name\":\"TList\",\"arr\":[{\"_typename\":\"TFrame\",\"fUniqueID\":0,\"fBits\":50331656,\"fLineColor\":1,\"fLineStyle\":1,\"fLineWidth\":1,\"fFillColor\":0,\"fFillStyle\":1001,\"fX1\":-3.6,\"fY1\":0.6,\"fX2\":3.6,\"fY2\":1.1,\"fBorderSize\":1,\"fBorderMode\":0},{\"_typename\":\"TGraphAsymmErrors\",\"fUniqueID\":0,\"fBits\":50332680,\"fName\":\"66974e\",\"fTitle\":\"; #eta^{GEN};\",\"fLineColor\":1,\"fLineStyle\":1,\"fLineWidth\":1,\"fFillColor\":0,\"fFillStyle\":1001,\"fMarkerColor\":1,\"fMarkerStyle\":8,\"fMarkerSize\":0.5,\"fNpoints\":50,\"fX\":[-2.94,-2.82,-2.7,-2.58,-2.46,-2.34,-2.22,-2.1,-1.98,-1.86,-1.74,-1.62,-1.5,-1.38,-1.26,-1.14,-1.02,-0.9,-0.78,-0.66,-0.54,-0.42,-0.3,-0.18,-0.0600000000000001,0.06,0.18,0.3,0.42,0.54,0.66,0.78,0.9,1.02,1.14,1.26,1.38,1.5,1.62,1.74,1.86,1.98,2.1,2.22,2.34,2.46,2.58,2.7,2.82,2.94],\"fY\":[0,0,0,0,0,0,0,0,0,0,0,0,0.343795620437956,0.891506067094932,0.903080390683696,0.906316536550745,0.916184971098266,0.903640256959315,0.925680647534952,0.915671117357695,0.913907284768212,0.915115413253909,0.931189229618549,0.932818532818533,0.818448023426061,0.880563798219585,0.927219796215429,0.915492957746479,0.912824207492795,0.911026615969582,0.931386861313869,0.920588235294118,0.902757619738752,0.907971014492754,0.894553072625698,0.903631284916201,0.8921639108555,0.321428571428571,0,0,0,0,0,0,0,0,0,0,0,0],\"fFunctions\":{\"_typename\":\"TList\",\"name\":\"TList\",\"arr\":[],\"opt\":[]},\"fHistogram\":{\"_typename\":\"TH1F\",\"fUniqueID\":0,\"fBits\":50332160,\"fName\":\"66974e\",\"fTitle\":\"\",\"fLineColor\":602,\"fLineStyle\":1,\"fLineWidth\":1,\"fFillColor\":0,\"fFillStyle\":1001,\"fMarkerColor\":1,\"fMarkerStyle\":1,\"fMarkerSize\":1,\"fNcells\":102,\"fXaxis\":{\"_typename\":\"TAxis\",\"fUniqueID\":0,\"fBits\":50331656,\"fName\":\"xaxis\",\"fTitle\":\" #eta^{GEN}\",\"fNdivisions\":510,\"fAxisColor\":1,\"fLabelColor\":1,\"fLabelFont\":42,\"fLabelOffset\":0.005,\"fLabelSize\":0.035,\"fTickLength\":0.03,\"fTitleOffset\":1.4,\"fTitleSize\":0.035,\"fTitleColor\":1,\"fTitleFont\":42,\"fNbins\":100,\"fXmin\":-3.6,\"fXmax\":3.6,\"fXbins\":[],\"fFirst\":0,\"fLast\":0,\"fBits2\":0,\"fTimeDisplay\":false,\"fTimeFormat\":\"\",\"fLabels\":null,\"fModLabs\":null},\"fYaxis\":{\"_typename\":\"TAxis\",\"fUniqueID\":0,\"fBits\":50331656,\"fName\":\"yaxis\",\"fTitle\":\"\",\"fNdivisions\":510,\"fAxisColor\":1,\"fLabelColor\":1,\"fLabelFont\":42,\"fLabelOffset\":0.005,\"fLabelSize\":0.035,\"fTickLength\":0.03,\"fTitleOffset\":0,\"fTitleSize\":0.035,\"fTitleColor\":1,\"fTitleFont\":42,\"fNbins\":1,\"fXmin\":0,\"fXmax\":1.03379188144119,\"fXbins\":[],\"fFirst\":0,\"fLast\":0,\"fBits2\":0,\"fTimeDisplay\":false,\"fTimeFormat\":\"\",\"fLabels\":null,\"fModLabs\":null},\"fZaxis\":{\"_typename\":\"TAxis\",\"fUniqueID\":0,\"fBits\":50331648,\"fName\":\"zaxis\",\"fTitle\":\"\",\"fNdivisions\":510,\"fAxisColor\":1,\"fLabelColor\":1,\"fLabelFont\":42,\"fLabelOffset\":0.005,\"fLabelSize\":0.035,\"fTickLength\":0.03,\"fTitleOffset\":1,\"fTitleSize\":0.035,\"fTitleColor\":1,\"fTitleFont\":42,\"fNbins\":1,\"fXmin\":0,\"fXmax\":1,\"fXbins\":[],\"fFirst\":0,\"fLast\":0,\"fBits2\":0,\"fTimeDisplay\":false,\"fTimeFormat\":\"\",\"fLabels\":null,\"fModLabs\":null},\"fBarOffset\":0,\"fBarWidth\":1000,\"fEntries\":0,\"fTsumw\":0,\"fTsumw2\":0,\"fTsumwx\":0,\"fTsumwx2\":0,\"fMaximum\":1.1,\"fMinimum\":0.6,\"fNormFactor\":0,\"fContour\":[],\"fSumw2\":[],\"fOption\":\"\",\"fFunctions\":{\"_typename\":\"TList\",\"name\":\"TList\",\"arr\":[],\"opt\":[]},\"fBufferSize\":0,\"fBuffer\":[],\"fBinStatErrOpt\":0,\"fStatOverflows\":2,\"fArray\":[0,0,0,0,0,0,0,0,0,0,0,0,0,0,0,0,0,0,0,0,0,0,0,0,0,0,0,0,0,0,0,0,0,0,0,0,0,0,0,0,0,0,0,0,0,0,0,0,0,0,0,0,0,0,0,0,0,0,0,0,0,0,0,0,0,0,0,0,0,0,0,0,0,0,0,0,0,0,0,0,0,0,0,0,0,0,0,0,0,0,0,0,0,0,0,0,0,0,0,0,0,0]},\"fMinimum\":-1111,\"fMaximum\":-1111,\"fEXlow\":[0.0600000000000001,0.0600000000000001,0.0600000000000001,0.0600000000000001,0.0600000000000001,0.0600000000000001,0.0600000000000001,0.0600000000000001,0.0600000000000001,0.0600000000000001,0.0600000000000001,0.0600000000000001,0.0600000000000001,0.0600000000000001,0.0600000000000001,0.0600000000000001,0.0600000000000001,0.0600000000000001,0.0600000000000001,0.0600000000000001,0.0600000000000001,0.06,0.06,0.06,0.06,0.06,0.06,0.06,0.06,0.0600000000000001,0.0600000000000001,0.0600000000000001,0.0600000000000001,0.0600000000000001,0.0600000000000001,0.0600000000000001,0.0600000000000001,0.0600000000000001,0.0600000000000001,0.0600000000000001,0.0600000000000001,0.0600000000000001,0.0600000000000001,0.0600000000000001,0.0600000000000001,0.0600000000000001,0.0600000000000001,0.0600000000000001,0.0600000000000001,0.0600000000000001],\"fEXhigh\":[0.0599999999999999,0.0599999999999999,0.0599999999999999,0.0599999999999999,0.0599999999999999,0.0599999999999999,0.0599999999999999,0.0599999999999999,0.0599999999999999,0.0599999999999999,0.0599999999999999,0.0599999999999999,0.0599999999999999,0.0599999999999999,0.0599999999999999,0.0599999999999999,0.0599999999999999,0.0599999999999999,0.0599999999999999,0.0599999999999999,0.0599999999999999,0.06,0.06,0.06,0.06,0.06,0.06,0.06,0.06,0.0599999999999999,0.0599999999999999,0.0599999999999999,0.0599999999999999,0.0599999999999999,0.0599999999999999,0.0599999999999999,0.0599999999999999,0.0599999999999999,0.0599999999999999,0.0599999999999999,0.0599999999999999,0.0599999999999999,0.0599999999999999,0.0599999999999999,0.0599999999999999,0.0599999999999999,0.0599999999999999,0.0599999999999999,0.0599999999999999,0.0599999999999999],\"fEYlow\":[0,0,0,0,0,0,0,0,0,0,0,0,0.0130755867540792,0.00895706630100634,0.00880205770677334,0.0084196046215933,0.00812629083500027,0.00854198345701085,0.0078138532526606,0.00802470939153654,0.00829700697804248,0.00830272190063697,0.00763867482944636,0.00769753383290561,0.011034552127418,0.00949731653029373,0.00770078342257574,0.00804080578699096,0.00824433242014777,0.00855979226261561,0.00752840736554727,0.00802536215136518,0.00865025797655306,0.00845365719295743,0.00875257880500557,0.00844211105728043,0.00896988045841318,0.0124527189804768,0,0,0,0,0,0,0,0,0,0,0,0],\"fEYhigh\":[0.00137500422158772,0.00136582338782904,0.00131791420062627,0.00138119365497363,0.00136379982725082,0.00135476751478286,0.00131603001377073,0.00135277655779423,0.00130947757543399,0.00139058299428434,0.00132550521137524,0.0013122777566049,0.0133100033541239,0.00837439633848835,0.00816858000788157,0.00781672766334718,0.0074959411817791,0.00793991567963492,0.00715525065318623,0.00741285425201255,0.00765867051211888,0.00765452714498782,0.00695908355126162,0.00699226849163903,0.0105521477482597,0.00890921692689139,0.00704687803863269,0.00742791867894876,0.00762142591914383,0.00790465116879313,0.0068652423065505,0.00737608778892684,0.00803937269756849,0.00783510762507,0.00817804210332496,0.00785336343523113,0.00838188522167005,0.0127047862952404,0.00133900204067411,0.00133221944252432,0.00133705711846472,0.00136077570411657,0.00130576253705623,0.00133705711846472,0.00131791420062627,0.00137706119322728,0.00124316017929952,0.001321698806589,0.001321698806589,0.00129931169164107]},{\"_typename\":\"TGraphAsymmErrors\",\"fUniqueID\":0,\"fBits\":50332680,\"fName\":\"b3004c\",\"fTitle\":\"; #eta^{GEN};\",\"fLineColor\":628,\"fLineStyle\":1,\"fLineWidth\":1,\"fFillColor\":0,\"fFillStyle\":1001,\"fMarkerColor\":628,\"fMarkerStyle\":21,\"fMarkerSize\":0.5,\"fNpoints\":28,\"fX\":[-2.94,-2.82,-2.7,-2.58,-2.46,-2.34,-2.22,-2.1,-1.98,-1.86,-1.74,-1.62,-1.5,-1.38,1.38,1.5,1.62,1.74,1.86,1.98,2.1,2.22,2.34,2.46,2.58,2.7,2.82,2.94],\"fY\":[0,0,0,0,0.269672131147541,0.8576,0.908736349453978,0.903891977760127,0.894657637321294,0.912350597609562,0.901725431357839,0.893095768374165,0.310151878497202,0,0,0.304023845007452,0.891502276176024,0.90371493555724,0.908456167571761,0.919088766692852,0.899539877300613,0.905296950240771,0.871194379391101,0.264779350541216,0,0,0,0],\"fFunctions\":{\"_typename\":\"TList\",\"name\":\"TList\",\"arr\":[],\"opt\":[]},\"fHistogram\":{\"_typename\":\"TH1F\",\"fUniqueID\":0,\"fBits\":50332160,\"fName\":\"b3004c\",\"fTitle\":\"\",\"fLineColor\":602,\"fLineStyle\":1,\"fLineWidth\":1,\"fFillColor\":0,\"fFillStyle\":1001,\"fMarkerColor\":1,\"fMarkerStyle\":1,\"fMarkerSize\":1,\"fNcells\":102,\"fXaxis\":{\"_typename\":\"TAxis\",\"fUniqueID\":0,\"fBits\":50331656,\"fName\":\"xaxis\",\"fTitle\":\" #eta^{GEN}\",\"fNdivisions\":510,\"fAxisColor\":1,\"fLabelColor\":1,\"fLabelFont\":42,\"fLabelOffset\":0.005,\"fLabelSize\":0.035,\"fTickLength\":0.03,\"fTitleOffset\":1.4,\"fTitleSize\":0.035,\"fTitleColor\":1,\"fTitleFont\":42,\"fNbins\":100,\"fXmin\":-3.6,\"fXmax\":3.6,\"fXbins\":[],\"fFirst\":0,\"fLast\":0,\"fBits2\":0,\"fTimeDisplay\":false,\"fTimeFormat\":\"\",\"fLabels\":null,\"fModLabs\":null},\"fYaxis\":{\"_typename\":\"TAxis\",\"fUniqueID\":0,\"fBits\":50331656,\"fName\":\"yaxis\",\"fTitle\":\"\",\"fNdivisions\":510,\"fAxisColor\":1,\"fLabelColor\":1,\"fLabelFont\":42,\"fLabelOffset\":0.005,\"fLabelSize\":0.035,\"fTickLength\":0.03,\"fTitleOffset\":0,\"fTitleSize\":0.035,\"fTitleColor\":1,\"fTitleFont\":42,\"fNbins\":1,\"fXmin\":0,\"fXmax\":1.01945803780588,\"fXbins\":[],\"fFirst\":0,\"fLast\":0,\"fBits2\":0,\"fTimeDisplay\":false,\"fTimeFormat\":\"\",\"fLabels\":null,\"fModLabs\":null},\"fZaxis\":{\"_typename\":\"TAxis\",\"fUniqueID\":0,\"fBits\":50331648,\"fName\":\"zaxis\",\"fTitle\":\"\",\"fNdivisions\":510,\"fAxisColor\":1,\"fLabelColor\":1,\"fLabelFont\":42,\"fLabelOffset\":0.005,\"fLabelSize\":0.035,\"fTickLength\":0.03,\"fTitleOffset\":1,\"fTitleSize\":0.035,\"fTitleColor\":1,\"fTitleFont\":42,\"fNbins\":1,\"fXmin\":0,\"fXmax\":1,\"fXbins\":[],\"fFirst\":0,\"fLast\":0,\"fBits2\":0,\"fTimeDisplay\":false,\"fTimeFormat\":\"\",\"fLabels\":null,\"fModLabs\":null},\"fBarOffset\":0,\"fBarWidth\":1000,\"fEntries\":0,\"fTsumw\":0,\"fTsumw2\":0,\"fTsumwx\":0,\"fTsumwx2\":0,\"fMaximum\":1.1,\"fMinimum\":0.6,\"fNormFactor\":0,\"fContour\":[],\"fSumw2\":[],\"fOption\":\"\",\"fFunctions\":{\"_typename\":\"TList\",\"name\":\"TList\",\"arr\":[],\"opt\":[]},\"fBufferSize\":0,\"fBuffer\":[],\"fBinStatErrOpt\":0,\"fStatOverflows\":2,\"fArray\":[0,0,0,0,0,0,0,0,0,0,0,0,0,0,0,0,0,0,0,0,0,0,0,0,0,0,0,0,0,0,0,0,0,0,0,0,0,0,0,0,0,0,0,0,0,0,0,0,0,0,0,0,0,0,0,0,0,0,0,0,0,0,0,0,0,0,0,0,0,0,0,0,0,0,0,0,0,0,0,0,0,0,0,0,0,0,0,0,0,0,0,0,0,0,0,0,0,0,0,0,0,0]},\"fMinimum\":-1111,\"fMaximum\":-1111,\"fEXlow\":[0.0600000000000001,0.0600000000000001,0.0600000000000001,0.0600000000000001,0.0600000000000001,0.0600000000000001,0.0600000000000001,0.0600000000000001,0.0600000000000001,0.0600000000000001,0.0600000000000001,0.0600000000000001,0.0600000000000001,0.0600000000000001,0.0600000000000001,0.0600000000000001,0.0600000000000001,0.0600000000000001,0.0600000000000001,0.0600000000000001,0.0600000000000001,0.0600000000000001,0.0600000000000001,0.0600000000000001,0.0600000000000001,0.0600000000000001,0.0600000000000001,0.0600000000000001],\"fEXhigh\":[0.0599999999999999,0.0599999999999999,0.0599999999999999,0.0599999999999999,0.0599999999999999,0.0599999999999999,0.0599999999999999,0.0599999999999999,0.0599999999999999,0.0599999999999999,0.0599999999999999,0.0599999999999999,0.0599999999999999,0.0599999999999999,0.0599999999999999,0.0599999999999999,0.0599999999999999,0.0599999999999999,0.0599999999999999,0.0599999999999999,0.0599999999999999,0.0599999999999999,0.0599999999999999,0.0599999999999999,0.0599999999999999,0.0599999999999999,0.0599999999999999,0.0599999999999999],\"fEYlow\":[0,0,0,0,0.0129160915995166,0.0105802139512214,0.00876801942502092,0.00904026795854074,0.00910741649811586,0.00872661067072089,0.00884402769667747,0.00909476556907929,0.013316216456095,0,0,0.0127745650221387,0.00925601435534251,0.00882194792715385,0.00875297171143563,0.00838324061279216,0.00902875795396274,0.0090377688094887,0.0100505102541402,0.0129410101443654,0,0,0,0],\"fEYhigh\":[0.00162502242828117,0.00160658722076375,0.00155239854458307,0.00154588090587456,0.0133056645062786,0.00998517381632491,0.00809972851301888,0.00836827799188766,0.00848722456039774,0.00803697778888679,0.00821381989731362,0.00848562196578695,0.0136288543577764,0.0409781316010068,0.0559082515517007,0.0130751607794318,0.0086358829047446,0.00818149062203588,0.00808888985186484,0.00769126767612871,0.00838801245114773,0.00835604007806201,0.00944707145140455,0.0133453233631398,0.00142502678595032,0.00153045963454496,0.00153556575799479,0.00156560009943323]},{\"_typename\":\"TLegend\",\"fUniqueID\":0,\"fBits\":50331656,\"fLineColor\":1,\"fLineStyle\":1,\"fLineWidth\":1,\"fFillColor\":0,\"fFillStyle\":0,\"fX1\":-3.3081080654749,\"fY1\":0.645454546774011,\"fX2\":-0.778378368347034,\"fY2\":0.742857144412227,\"fX1NDC\":0.16,\"fY1NDC\":0.2,\"fX2NDC\":0.42,\"fY2NDC\":0.35,\"fBorderSize\":0,\"fInit\":1,\"fShadowColor\":1,\"fCornerRadius\":0,\"fOption\":\"brNDC\",\"fName\":\"TPave\",\"fTextAngle\":0,\"fTextSize\":0.03,\"fTextAlign\":12,\"fTextColor\":1,\"fTextFont\":42,\"fPrimitives\":{\"_typename\":\"TList\",\"name\":\"TList\",\"arr\":[{\"_typename\":\"TLegendEntry\",\"fUniqueID\":0,\"fBits\":50331656,\"fTextAngle\":0,\"fTextSize\":0,\"fTextAlign\":0,\"fTextColor\":0,\"fTextFont\":42,\"fLineColor\":1,\"fLineStyle\":1,\"fLineWidth\":1,\"fFillColor\":0,\"fFillStyle\":0,\"fMarkerColor\":1,\"fMarkerStyle\":8,\"fMarkerSize\":0.5,\"fObject\":{\"$ref\":3},\"fLabel\":\"barrel\",\"fOption\":\"P\"},{\"_typename\":\"TLegendEntry\",\"fUniqueID\":0,\"fBits\":50331656,\"fTextAngle\":0,\"fTextSize\":0,\"fTextAlign\":0,\"fTextColor\":0,\"fTextFont\":42,\"fLineColor\":1,\"fLineStyle\":1,\"fLineWidth\":1,\"fFillColor\":0,\"fFillStyle\":0,\"fMarkerColor\":628,\"fMarkerStyle\":21,\"fMarkerSize\":0.5,\"fObject\":{\"$ref\":10},\"fLabel\":\"endcap\",\"fOption\":\"P\"}],\"opt\":[\"P\",\"P\"]},\"fEntrySeparation\":0.1,\"fMargin\":0.25,\"fNColumns\":1,\"fColumnSeparation\":0},{\"_typename\":\"TLatex\",\"fUniqueID\":0,\"fBits\":50348040,\"fName\":\"\",\"fTitle\":\"PU200, TkEle Ell. match, hwQual 5, p_{T}^{L1}>=20GeV, p_{T}^{GEN}>=30GeV\",\"fTextAngle\":0,\"fTextSize\":0.03,\"fTextAlign\":11,\"fTextColor\":1,\"fTextFont\":62,\"fX\":0.15,\"fY\":0.85,\"fLineColor\":1,\"fLineStyle\":1,\"fLineWidth\":2,\"fLimitFactorSize\":3,\"fOriginSize\":0.0299999993294477},{\"_typename\":\"TLatex\",\"fUniqueID\":0,\"fBits\":50348041,\"fName\":\"\",\"fTitle\":\"#scale[1.5]{CMS} #scale[1.]{Phase-2 Simulation}\",\"fTextAngle\":0,\"fTextSize\":0.03,\"fTextAlign\":11,\"fTextColor\":1,\"fTextFont\":62,\"fX\":0.13,\"fY\":0.91,\"fLineColor\":1,\"fLineStyle\":1,\"fLineWidth\":2,\"fLimitFactorSize\":3,\"fOriginSize\":0.0299999993294477},{\"_typename\":\"TLatex\",\"fUniqueID\":0,\"fBits\":50348041,\"fName\":\"\",\"fTitle\":\"14TeV, 200 PU\",\"fTextAngle\":0,\"fTextSize\":0.03,\"fTextAlign\":11,\"fTextColor\":1,\"fTextFont\":62,\"fX\":0.69,\"fY\":0.91,\"fLineColor\":1,\"fLineStyle\":1,\"fLineWidth\":2,\"fLimitFactorSize\":3,\"fOriginSize\":0.0299999993294477},{\"_typename\":\"TLatex\",\"fUniqueID\":0,\"fBits\":50331656,\"fName\":\"\",\"fTitle\":\"\",\"fTextAngle\":0,\"fTextSize\":0.03,\"fTextAlign\":11,\"fTextColor\":1,\"fTextFont\":62,\"fX\":0,\"fY\":0,\"fLineColor\":1,\"fLineStyle\":1,\"fLineWidth\":2,\"fLimitFactorSize\":3,\"fOriginSize\":0.04},{\"_typename\":\"TLine\",\"fUniqueID\":0,\"fBits\":50331656,\"fLineColor\":1,\"fLineStyle\":2,\"fLineWidth\":1,\"fX1\":-2.8,\"fY1\":0.6,\"fX2\":-2.8,\"fY2\":1.1},{\"_typename\":\"TLine\",\"fUniqueID\":0,\"fBits\":50331656,\"fLineColor\":1,\"fLineStyle\":2,\"fLineWidth\":1,\"fX1\":-2.4,\"fY1\":0.6,\"fX2\":-2.4,\"fY2\":1.1},{\"_typename\":\"TLine\",\"fUniqueID\":0,\"fBits\":50331656,\"fLineColor\":1,\"fLineStyle\":2,\"fLineWidth\":1,\"fX1\":-1.7,\"fY1\":0.6,\"fX2\":-1.7,\"fY2\":1.1},{\"_typename\":\"TLine\",\"fUniqueID\":0,\"fBits\":50331656,\"fLineColor\":1,\"fLineStyle\":2,\"fLineWidth\":1,\"fX1\":-1.52,\"fY1\":0.6,\"fX2\":-1.52,\"fY2\":1.1},{\"_typename\":\"TLine\",\"fUniqueID\":0,\"fBits\":50331656,\"fLineColor\":1,\"fLineStyle\":2,\"fLineWidth\":1,\"fX1\":1.52,\"fY1\":0.6,\"fX2\":1.52,\"fY2\":1.1},{\"_typename\":\"TLine\",\"fUniqueID\":0,\"fBits\":50331656,\"fLineColor\":1,\"fLineStyle\":2,\"fLineWidth\":1,\"fX1\":1.7,\"fY1\":0.6,\"fX2\":1.7,\"fY2\":1.1},{\"_typename\":\"TLine\",\"fUniqueID\":0,\"fBits\":50331656,\"fLineColor\":1,\"fLineStyle\":2,\"fLineWidth\":1,\"fX1\":2.4,\"fY1\":0.6,\"fX2\":2.4,\"fY2\":1.1},{\"_typename\":\"TLine\",\"fUniqueID\":0,\"fBits\":50331656,\"fLineColor\":1,\"fLineStyle\":2,\"fLineWidth\":1,\"fX1\":2.8,\"fY1\":0.6,\"fX2\":2.8,\"fY2\":1.1}],\"opt\":[\"\",\"pa\",\",p\",\"same\",\"same\",\"\",\"\",\"same\",\"same\",\"same\",\"same\",\"same\",\"same\",\"same\",\"same\",\"same\"]},\"fExecs\":null,\"fName\":\"c_3484b9\",\"fTitle\":\"c_3484b9\",\"fNumPaletteColor\":0,\"fNextPaletteColor\":0,\"fDISPLAY\":\"$DISPLAY\",\"fDoubleBuffer\":0,\"fRetained\":true,\"fXsizeUser\":0,\"fYsizeUser\":0,\"fXsizeReal\":20,\"fYsizeReal\":20,\"fWindowTopX\":0,\"fWindowTopY\":0,\"fWindowWidth\":0,\"fWindowHeight\":0,\"fCw\":596,\"fCh\":572,\"fCatt\":{\"_typename\":\"TAttCanvas\",\"fXBetween\":2,\"fYBetween\":2,\"fTitleFromTop\":1.2,\"fXdate\":0.2,\"fYdate\":0.3,\"fAdate\":1},\"kMoveOpaque\":true,\"kResizeOpaque\":true,\"fHighLightColor\":2,\"fBatch\":true,\"kShowEventStatus\":false,\"kAutoExec\":true,\"kMenuBar\":true});\n",
       "       Core.draw(\"root_plot_12\", obj, \"\");\n",
       "     }\n",
       " );\n",
       "</script>\n"
      ],
      "text/plain": [
       "<IPython.core.display.HTML object>"
      ]
     },
     "metadata": {},
     "output_type": "display_data"
    }
   ],
   "source": [
    "hsets, labels, text = hplot.get_histo(histos.HistoSetEff, sample, ['PU200'], ['TkEleELBRL'], 'Pt20', 'GENPt30', debug=False)\n",
    "\n",
    "newset = []\n",
    "\n",
    "h_barrel = hsets[0].h_eff.h_eta.CreateGraph()\n",
    "\n",
    "hsets, labels, text = hplot.get_histo(histos.HistoSetEff, sample, ['PU200'], ['TkEleEL'], 'EGq5Pt20', 'GENPt30', debug=False)\n",
    "\n",
    "h_endcap = hsets[0].h_eff.h_eta.CreateGraph()\n",
    "\n",
    "newset.append(h_barrel)\n",
    "newset.append(h_endcap)\n",
    "\n",
    "newlabels = ['barrel', 'endcap']\n",
    "\n",
    "draw(newset, newlabels, text=text, min_y=0.6, max_y=1.1, v_lines=[-2.8, -2.4, -1.7, -1.52, 1.52, 1.7, 2.4, 2.8],\n",
    "     do_write=True, write_name='egammaEndcap_TkEle_EGq4Pt30_GENPt40_hEffVEta')\n"
   ]
  },
  {
   "cell_type": "code",
   "execution_count": 44,
   "metadata": {},
   "outputs": [
    {
     "data": {
      "text/plain": [
       "<drawingTools.DrawMachine at 0x11cf48f50>"
      ]
     },
     "execution_count": 44,
     "metadata": {},
     "output_type": "execute_result"
    },
    {
     "data": {
      "text/html": [
       "\n",
       "<div id=\"root_plot_13\"\n",
       "     style=\"width: 796px; height: 572px\">\n",
       "</div>\n",
       "\n",
       "<script>\n",
       " requirejs.config({\n",
       "     paths: {\n",
       "       'JSRootCore' : 'https://root.cern.ch/js/notebook//scripts/JSRootCore',\n",
       "     }\n",
       "   });\n",
       " require(['JSRootCore'],\n",
       "     function(Core) {\n",
       "       var obj = Core.JSONR_unref({\"_typename\":\"TCanvas\",\"fUniqueID\":0,\"fBits\":53673992,\"fLineColor\":1,\"fLineStyle\":1,\"fLineWidth\":1,\"fFillColor\":0,\"fFillStyle\":1001,\"fLeftMargin\":0.13,\"fRightMargin\":0.3,\"fBottomMargin\":0.13,\"fTopMargin\":0.1,\"fXfile\":2,\"fYfile\":2,\"fAfile\":1,\"fXstat\":0.99,\"fYstat\":0.99,\"fAstat\":2,\"fFrameFillColor\":0,\"fFrameLineColor\":1,\"fFrameFillStyle\":1001,\"fFrameLineStyle\":1,\"fFrameLineWidth\":1,\"fFrameBorderSize\":1,\"fFrameBorderMode\":0,\"fX1\":-5.24210522353154,\"fY1\":0.515584416589722,\"fX2\":7.38947388234231,\"fY2\":1.16493506751116,\"fXtoAbsPixelk\":330.340043357658,\"fXtoPixelk\":330.340043357658,\"fXtoPixel\":63.0166658759117,\"fYtoAbsPixelk\":1026.16804978691,\"fYtoPixelk\":1026.16804978691,\"fYtoPixel\":-880.879997869134,\"fUtoAbsPixelk\":5e-5,\"fUtoPixelk\":5e-5,\"fUtoPixel\":796,\"fVtoAbsPixelk\":572.00005,\"fVtoPixelk\":572,\"fVtoPixel\":-572,\"fAbsPixeltoXk\":-5.24210522353154,\"fPixeltoXk\":-5.24210522353154,\"fPixeltoX\":0.0158688179722033,\"fAbsPixeltoYk\":1.16493506751116,\"fPixeltoYk\":0.515584416589722,\"fPixeltoY\":-0.00113522841070182,\"fXlowNDC\":0,\"fYlowNDC\":0,\"fXUpNDC\":0,\"fYUpNDC\":0,\"fWNDC\":1,\"fHNDC\":1,\"fAbsXlowNDC\":0,\"fAbsYlowNDC\":0,\"fAbsWNDC\":1,\"fAbsHNDC\":1,\"fUxmin\":-3.6,\"fUymin\":0.6,\"fUxmax\":3.6,\"fUymax\":1.1,\"fTheta\":30,\"fPhi\":30,\"fAspectRatio\":0,\"fNumber\":0,\"fTickx\":0,\"fTicky\":0,\"fLogx\":0,\"fLogy\":0,\"fLogz\":0,\"fPadPaint\":0,\"fCrosshair\":0,\"fCrosshairPos\":0,\"fBorderSize\":2,\"fBorderMode\":0,\"fModified\":false,\"fGridx\":false,\"fGridy\":false,\"fAbsCoord\":false,\"fEditable\":true,\"fFixedAspectRatio\":false,\"fPrimitives\":{\"_typename\":\"TList\",\"name\":\"TList\",\"arr\":[{\"_typename\":\"TFrame\",\"fUniqueID\":0,\"fBits\":50331656,\"fLineColor\":1,\"fLineStyle\":1,\"fLineWidth\":1,\"fFillColor\":0,\"fFillStyle\":1001,\"fX1\":-3.6,\"fY1\":0.6,\"fX2\":3.6,\"fY2\":1.1,\"fBorderSize\":1,\"fBorderMode\":0},{\"_typename\":\"TGraphAsymmErrors\",\"fUniqueID\":0,\"fBits\":50332680,\"fName\":\"4d0a70\",\"fTitle\":\"; #eta^{GEN};\",\"fLineColor\":1,\"fLineStyle\":1,\"fLineWidth\":1,\"fFillColor\":0,\"fFillStyle\":1001,\"fMarkerColor\":1,\"fMarkerStyle\":8,\"fMarkerSize\":0.5,\"fNpoints\":50,\"fX\":[-2.94,-2.82,-2.7,-2.58,-2.46,-2.34,-2.22,-2.1,-1.98,-1.86,-1.74,-1.62,-1.5,-1.38,-1.26,-1.14,-1.02,-0.9,-0.78,-0.66,-0.54,-0.42,-0.3,-0.18,-0.0600000000000001,0.06,0.18,0.3,0.42,0.54,0.66,0.78,0.9,1.02,1.14,1.26,1.38,1.5,1.62,1.74,1.86,1.98,2.1,2.22,2.34,2.46,2.58,2.7,2.82,2.94],\"fY\":[0,0,0,0,0,0,0,0,0,0,0,0,0.343795620437956,0.891506067094932,0.903080390683696,0.906316536550745,0.916184971098266,0.903640256959315,0.925680647534952,0.915671117357695,0.913907284768212,0.915115413253909,0.931189229618549,0.932818532818533,0.818448023426061,0.880563798219585,0.927219796215429,0.915492957746479,0.912824207492795,0.911026615969582,0.931386861313869,0.920588235294118,0.902757619738752,0.907971014492754,0.894553072625698,0.903631284916201,0.8921639108555,0.321428571428571,0,0,0,0,0,0,0,0,0,0,0,0],\"fFunctions\":{\"_typename\":\"TList\",\"name\":\"TList\",\"arr\":[],\"opt\":[]},\"fHistogram\":{\"_typename\":\"TH1F\",\"fUniqueID\":0,\"fBits\":50332160,\"fName\":\"4d0a70\",\"fTitle\":\"\",\"fLineColor\":602,\"fLineStyle\":1,\"fLineWidth\":1,\"fFillColor\":0,\"fFillStyle\":1001,\"fMarkerColor\":1,\"fMarkerStyle\":1,\"fMarkerSize\":1,\"fNcells\":102,\"fXaxis\":{\"_typename\":\"TAxis\",\"fUniqueID\":0,\"fBits\":50331656,\"fName\":\"xaxis\",\"fTitle\":\" #eta^{GEN}\",\"fNdivisions\":510,\"fAxisColor\":1,\"fLabelColor\":1,\"fLabelFont\":42,\"fLabelOffset\":0.005,\"fLabelSize\":0.035,\"fTickLength\":0.03,\"fTitleOffset\":1.4,\"fTitleSize\":0.035,\"fTitleColor\":1,\"fTitleFont\":42,\"fNbins\":100,\"fXmin\":-3.6,\"fXmax\":3.6,\"fXbins\":[],\"fFirst\":0,\"fLast\":0,\"fBits2\":0,\"fTimeDisplay\":false,\"fTimeFormat\":\"\",\"fLabels\":null,\"fModLabs\":null},\"fYaxis\":{\"_typename\":\"TAxis\",\"fUniqueID\":0,\"fBits\":50331656,\"fName\":\"yaxis\",\"fTitle\":\"\",\"fNdivisions\":510,\"fAxisColor\":1,\"fLabelColor\":1,\"fLabelFont\":42,\"fLabelOffset\":0.005,\"fLabelSize\":0.035,\"fTickLength\":0.03,\"fTitleOffset\":0,\"fTitleSize\":0.035,\"fTitleColor\":1,\"fTitleFont\":42,\"fNbins\":1,\"fXmin\":0,\"fXmax\":1.03379188144119,\"fXbins\":[],\"fFirst\":0,\"fLast\":0,\"fBits2\":0,\"fTimeDisplay\":false,\"fTimeFormat\":\"\",\"fLabels\":null,\"fModLabs\":null},\"fZaxis\":{\"_typename\":\"TAxis\",\"fUniqueID\":0,\"fBits\":50331648,\"fName\":\"zaxis\",\"fTitle\":\"\",\"fNdivisions\":510,\"fAxisColor\":1,\"fLabelColor\":1,\"fLabelFont\":42,\"fLabelOffset\":0.005,\"fLabelSize\":0.035,\"fTickLength\":0.03,\"fTitleOffset\":1,\"fTitleSize\":0.035,\"fTitleColor\":1,\"fTitleFont\":42,\"fNbins\":1,\"fXmin\":0,\"fXmax\":1,\"fXbins\":[],\"fFirst\":0,\"fLast\":0,\"fBits2\":0,\"fTimeDisplay\":false,\"fTimeFormat\":\"\",\"fLabels\":null,\"fModLabs\":null},\"fBarOffset\":0,\"fBarWidth\":1000,\"fEntries\":0,\"fTsumw\":0,\"fTsumw2\":0,\"fTsumwx\":0,\"fTsumwx2\":0,\"fMaximum\":1.1,\"fMinimum\":0.6,\"fNormFactor\":0,\"fContour\":[],\"fSumw2\":[],\"fOption\":\"\",\"fFunctions\":{\"_typename\":\"TList\",\"name\":\"TList\",\"arr\":[],\"opt\":[]},\"fBufferSize\":0,\"fBuffer\":[],\"fBinStatErrOpt\":0,\"fStatOverflows\":2,\"fArray\":[0,0,0,0,0,0,0,0,0,0,0,0,0,0,0,0,0,0,0,0,0,0,0,0,0,0,0,0,0,0,0,0,0,0,0,0,0,0,0,0,0,0,0,0,0,0,0,0,0,0,0,0,0,0,0,0,0,0,0,0,0,0,0,0,0,0,0,0,0,0,0,0,0,0,0,0,0,0,0,0,0,0,0,0,0,0,0,0,0,0,0,0,0,0,0,0,0,0,0,0,0,0]},\"fMinimum\":-1111,\"fMaximum\":-1111,\"fEXlow\":[0.0600000000000001,0.0600000000000001,0.0600000000000001,0.0600000000000001,0.0600000000000001,0.0600000000000001,0.0600000000000001,0.0600000000000001,0.0600000000000001,0.0600000000000001,0.0600000000000001,0.0600000000000001,0.0600000000000001,0.0600000000000001,0.0600000000000001,0.0600000000000001,0.0600000000000001,0.0600000000000001,0.0600000000000001,0.0600000000000001,0.0600000000000001,0.06,0.06,0.06,0.06,0.06,0.06,0.06,0.06,0.0600000000000001,0.0600000000000001,0.0600000000000001,0.0600000000000001,0.0600000000000001,0.0600000000000001,0.0600000000000001,0.0600000000000001,0.0600000000000001,0.0600000000000001,0.0600000000000001,0.0600000000000001,0.0600000000000001,0.0600000000000001,0.0600000000000001,0.0600000000000001,0.0600000000000001,0.0600000000000001,0.0600000000000001,0.0600000000000001,0.0600000000000001],\"fEXhigh\":[0.0599999999999999,0.0599999999999999,0.0599999999999999,0.0599999999999999,0.0599999999999999,0.0599999999999999,0.0599999999999999,0.0599999999999999,0.0599999999999999,0.0599999999999999,0.0599999999999999,0.0599999999999999,0.0599999999999999,0.0599999999999999,0.0599999999999999,0.0599999999999999,0.0599999999999999,0.0599999999999999,0.0599999999999999,0.0599999999999999,0.0599999999999999,0.06,0.06,0.06,0.06,0.06,0.06,0.06,0.06,0.0599999999999999,0.0599999999999999,0.0599999999999999,0.0599999999999999,0.0599999999999999,0.0599999999999999,0.0599999999999999,0.0599999999999999,0.0599999999999999,0.0599999999999999,0.0599999999999999,0.0599999999999999,0.0599999999999999,0.0599999999999999,0.0599999999999999,0.0599999999999999,0.0599999999999999,0.0599999999999999,0.0599999999999999,0.0599999999999999,0.0599999999999999],\"fEYlow\":[0,0,0,0,0,0,0,0,0,0,0,0,0.0130755867540792,0.00895706630100634,0.00880205770677334,0.0084196046215933,0.00812629083500027,0.00854198345701085,0.0078138532526606,0.00802470939153654,0.00829700697804248,0.00830272190063697,0.00763867482944636,0.00769753383290561,0.011034552127418,0.00949731653029373,0.00770078342257574,0.00804080578699096,0.00824433242014777,0.00855979226261561,0.00752840736554727,0.00802536215136518,0.00865025797655306,0.00845365719295743,0.00875257880500557,0.00844211105728043,0.00896988045841318,0.0124527189804768,0,0,0,0,0,0,0,0,0,0,0,0],\"fEYhigh\":[0.00137500422158772,0.00136582338782904,0.00131791420062627,0.00138119365497363,0.00136379982725082,0.00135476751478286,0.00131603001377073,0.00135277655779423,0.00130947757543399,0.00139058299428434,0.00132550521137524,0.0013122777566049,0.0133100033541239,0.00837439633848835,0.00816858000788157,0.00781672766334718,0.0074959411817791,0.00793991567963492,0.00715525065318623,0.00741285425201255,0.00765867051211888,0.00765452714498782,0.00695908355126162,0.00699226849163903,0.0105521477482597,0.00890921692689139,0.00704687803863269,0.00742791867894876,0.00762142591914383,0.00790465116879313,0.0068652423065505,0.00737608778892684,0.00803937269756849,0.00783510762507,0.00817804210332496,0.00785336343523113,0.00838188522167005,0.0127047862952404,0.00133900204067411,0.00133221944252432,0.00133705711846472,0.00136077570411657,0.00130576253705623,0.00133705711846472,0.00131791420062627,0.00137706119322728,0.00124316017929952,0.001321698806589,0.001321698806589,0.00129931169164107]},{\"_typename\":\"TLatex\",\"fUniqueID\":0,\"fBits\":50348040,\"fName\":\"\",\"fTitle\":\"PU200, TkEle Ell. match barrel, p_{T}^{L1}>=20GeV, p_{T}^{GEN}>=30GeV\",\"fTextAngle\":0,\"fTextSize\":0.03,\"fTextAlign\":11,\"fTextColor\":1,\"fTextFont\":62,\"fX\":0.15,\"fY\":0.85,\"fLineColor\":1,\"fLineStyle\":1,\"fLineWidth\":2,\"fLimitFactorSize\":3,\"fOriginSize\":0.04},{\"_typename\":\"TLatex\",\"fUniqueID\":0,\"fBits\":50331656,\"fName\":\"\",\"fTitle\":\"\",\"fTextAngle\":0,\"fTextSize\":0.03,\"fTextAlign\":11,\"fTextColor\":1,\"fTextFont\":62,\"fX\":0,\"fY\":0,\"fLineColor\":1,\"fLineStyle\":1,\"fLineWidth\":2,\"fLimitFactorSize\":3,\"fOriginSize\":0.04},{\"_typename\":\"TLine\",\"fUniqueID\":0,\"fBits\":50331656,\"fLineColor\":1,\"fLineStyle\":2,\"fLineWidth\":1,\"fX1\":-2.8,\"fY1\":0.6,\"fX2\":-2.8,\"fY2\":1.1},{\"_typename\":\"TLine\",\"fUniqueID\":0,\"fBits\":50331656,\"fLineColor\":1,\"fLineStyle\":2,\"fLineWidth\":1,\"fX1\":-2.4,\"fY1\":0.6,\"fX2\":-2.4,\"fY2\":1.1},{\"_typename\":\"TLine\",\"fUniqueID\":0,\"fBits\":50331656,\"fLineColor\":1,\"fLineStyle\":2,\"fLineWidth\":1,\"fX1\":-1.7,\"fY1\":0.6,\"fX2\":-1.7,\"fY2\":1.1},{\"_typename\":\"TLine\",\"fUniqueID\":0,\"fBits\":50331656,\"fLineColor\":1,\"fLineStyle\":2,\"fLineWidth\":1,\"fX1\":-1.52,\"fY1\":0.6,\"fX2\":-1.52,\"fY2\":1.1},{\"_typename\":\"TLine\",\"fUniqueID\":0,\"fBits\":50331656,\"fLineColor\":1,\"fLineStyle\":2,\"fLineWidth\":1,\"fX1\":1.52,\"fY1\":0.6,\"fX2\":1.52,\"fY2\":1.1},{\"_typename\":\"TLine\",\"fUniqueID\":0,\"fBits\":50331656,\"fLineColor\":1,\"fLineStyle\":2,\"fLineWidth\":1,\"fX1\":1.7,\"fY1\":0.6,\"fX2\":1.7,\"fY2\":1.1},{\"_typename\":\"TLine\",\"fUniqueID\":0,\"fBits\":50331656,\"fLineColor\":1,\"fLineStyle\":2,\"fLineWidth\":1,\"fX1\":2.4,\"fY1\":0.6,\"fX2\":2.4,\"fY2\":1.1},{\"_typename\":\"TLine\",\"fUniqueID\":0,\"fBits\":50331656,\"fLineColor\":1,\"fLineStyle\":2,\"fLineWidth\":1,\"fX1\":2.8,\"fY1\":0.6,\"fX2\":2.8,\"fY2\":1.1}],\"opt\":[\"\",\"pa\",\"same\",\"same\",\"same\",\"same\",\"same\",\"same\",\"same\",\"same\",\"same\",\"same\"]},\"fExecs\":null,\"fName\":\"c_7a8383\",\"fTitle\":\"c_7a8383\",\"fNumPaletteColor\":0,\"fNextPaletteColor\":0,\"fDISPLAY\":\"$DISPLAY\",\"fDoubleBuffer\":0,\"fRetained\":true,\"fXsizeUser\":0,\"fYsizeUser\":0,\"fXsizeReal\":20,\"fYsizeReal\":15,\"fWindowTopX\":0,\"fWindowTopY\":0,\"fWindowWidth\":0,\"fWindowHeight\":0,\"fCw\":796,\"fCh\":572,\"fCatt\":{\"_typename\":\"TAttCanvas\",\"fXBetween\":2,\"fYBetween\":2,\"fTitleFromTop\":1.2,\"fXdate\":0.2,\"fYdate\":0.3,\"fAdate\":1},\"kMoveOpaque\":true,\"kResizeOpaque\":true,\"fHighLightColor\":2,\"fBatch\":true,\"kShowEventStatus\":false,\"kAutoExec\":true,\"kMenuBar\":true});\n",
       "       Core.draw(\"root_plot_13\", obj, \"\");\n",
       "     }\n",
       " );\n",
       "</script>\n"
      ],
      "text/plain": [
       "<IPython.core.display.HTML object>"
      ]
     },
     "metadata": {},
     "output_type": "display_data"
    }
   ],
   "source": [
    "hsets, labels, text = hplot.get_histo(histos.HistoSetEff, sample, ['PU200'], ['TkEleBRL', 'TkEleELBRL'], 'Pt20', 'GENPt30', debug=False)\n",
    "draw([his.h_eff.h_eta.CreateGraph() for his in hsets], labels, text=text, min_y=0.6, max_y=1.1, v_lines=[-2.8, -2.4, -1.7, -1.52, 1.52, 1.7, 2.4, 2.8],\n",
    "     do_write=False, write_name='egammaEndcap_TkEle_EGq4Pt30_GENPt40_hEffVEta')\n"
   ]
  },
  {
   "cell_type": "markdown",
   "metadata": {},
   "source": [
    "## Efficiency vs $p_{T}$"
   ]
  },
  {
   "cell_type": "code",
   "execution_count": 45,
   "metadata": {},
   "outputs": [],
   "source": [
    "line_y1p0 = ROOT.TLine(0.,1., 110., 1.)\n",
    "line_y0p95 = ROOT.TLine(0.,0.95, 110., 0.95)\n",
    "line_y0p95.SetLineStyle(2)"
   ]
  },
  {
   "cell_type": "code",
   "execution_count": 46,
   "metadata": {},
   "outputs": [
    {
     "data": {
      "text/plain": [
       "<drawingTools.DrawMachine at 0x11cf9c250>"
      ]
     },
     "execution_count": 46,
     "metadata": {},
     "output_type": "execute_result"
    },
    {
     "data": {
      "text/html": [
       "\n",
       "<div id=\"root_plot_14\"\n",
       "     style=\"width: 796px; height: 572px\">\n",
       "</div>\n",
       "\n",
       "<script>\n",
       " requirejs.config({\n",
       "     paths: {\n",
       "       'JSRootCore' : 'https://root.cern.ch/js/notebook//scripts/JSRootCore',\n",
       "     }\n",
       "   });\n",
       " require(['JSRootCore'],\n",
       "     function(Core) {\n",
       "       var obj = Core.JSONR_unref({\"_typename\":\"TCanvas\",\"fUniqueID\":0,\"fBits\":53673992,\"fLineColor\":1,\"fLineStyle\":1,\"fLineWidth\":1,\"fFillColor\":0,\"fFillStyle\":1001,\"fLeftMargin\":0.13,\"fRightMargin\":0.3,\"fBottomMargin\":0.13,\"fTopMargin\":0.1,\"fXfile\":2,\"fYfile\":2,\"fAfile\":1,\"fXstat\":0.99,\"fYstat\":0.99,\"fAstat\":2,\"fFrameFillColor\":0,\"fFrameLineColor\":1,\"fFrameFillStyle\":1001,\"fFrameLineStyle\":1,\"fFrameLineWidth\":1,\"fFrameBorderSize\":1,\"fFrameBorderMode\":0,\"fX1\":-25.0421046588559,\"fY1\":-0.185714283502611,\"fX2\":167.58947670572,\"fY2\":1.24285714852456,\"fXtoAbsPixelk\":103.480046204376,\"fXtoPixelk\":103.480046204376,\"fXtoPixel\":4.13224038530569,\"fYtoAbsPixelk\":497.640051065433,\"fYtoPixelk\":497.640051065433,\"fYtoPixel\":-400.399999031424,\"fUtoAbsPixelk\":5e-5,\"fUtoPixelk\":5e-5,\"fUtoPixel\":796,\"fVtoAbsPixelk\":572.00005,\"fVtoPixelk\":572,\"fVtoPixel\":-572,\"fAbsPixeltoXk\":-25.0421046588559,\"fPixeltoXk\":-25.0421046588559,\"fPixeltoX\":0.241999474076101,\"fAbsPixeltoYk\":1.24285714852456,\"fPixeltoYk\":-0.185714283502611,\"fPixeltoY\":-0.00249750250354401,\"fXlowNDC\":0,\"fYlowNDC\":0,\"fXUpNDC\":0,\"fYUpNDC\":0,\"fWNDC\":1,\"fHNDC\":1,\"fAbsXlowNDC\":0,\"fAbsYlowNDC\":0,\"fAbsWNDC\":1,\"fAbsHNDC\":1,\"fUxmin\":0,\"fUymin\":0,\"fUxmax\":109.8,\"fUymax\":1.1,\"fTheta\":30,\"fPhi\":30,\"fAspectRatio\":0,\"fNumber\":0,\"fTickx\":0,\"fTicky\":0,\"fLogx\":0,\"fLogy\":0,\"fLogz\":0,\"fPadPaint\":0,\"fCrosshair\":0,\"fCrosshairPos\":0,\"fBorderSize\":2,\"fBorderMode\":0,\"fModified\":false,\"fGridx\":false,\"fGridy\":false,\"fAbsCoord\":false,\"fEditable\":true,\"fFixedAspectRatio\":false,\"fPrimitives\":{\"_typename\":\"TList\",\"name\":\"TList\",\"arr\":[{\"_typename\":\"TFrame\",\"fUniqueID\":0,\"fBits\":50331656,\"fLineColor\":1,\"fLineStyle\":1,\"fLineWidth\":1,\"fFillColor\":0,\"fFillStyle\":1001,\"fX1\":0,\"fY1\":0,\"fX2\":109.8,\"fY2\":1.1,\"fBorderSize\":1,\"fBorderMode\":0},{\"_typename\":\"TGraphAsymmErrors\",\"fUniqueID\":0,\"fBits\":50332680,\"fName\":\"165198\",\"fTitle\":\"; p_{T}^{GEN} [GeV];\",\"fLineColor\":1,\"fLineStyle\":1,\"fLineWidth\":1,\"fFillColor\":0,\"fFillStyle\":1001,\"fMarkerColor\":1,\"fMarkerStyle\":8,\"fMarkerSize\":0.5,\"fNpoints\":49,\"fX\":[3,5,7,9,11,13,15,17,19,21,23,25,27,29,31,33,35,37,39,41,43,45,47,49,51,53,55,57,59,61,63,65,67,69,71,73,75,77,79,81,83,85,87,89,91,93,95,97,99],\"fY\":[0,0,0.00362976406533575,0.0164533820840951,0.215652173913043,0.392931392931393,0.497175141242938,0.573283858998145,0.591836734693878,0.702952029520295,0.693693693693694,0.731182795698925,0.772128060263653,0.804659498207885,0.785714285714286,0.82435129740519,0.792027729636049,0.846938775510204,0.804232804232804,0.872897196261682,0.862453531598513,0.865828092243187,0.877224199288256,0.897579143389199,0.883959044368601,0.896825396825397,0.88785046728972,0.901256732495512,0.923076923076923,0.906194690265487,0.923344947735192,0.926275992438563,0.913793103448276,0.917602996254682,0.923357664233577,0.919561243144424,0.884615384615385,0.936131386861314,0.934865900383142,0.891682785299807,0.92226148409894,0.918095238095238,0.925233644859813,0.915641476274165,0.93394495412844,0.938342967244701,0.928825622775801,0.936416184971098,0.916666666666667],\"fFunctions\":{\"_typename\":\"TList\",\"name\":\"TList\",\"arr\":[],\"opt\":[]},\"fHistogram\":{\"_typename\":\"TH1F\",\"fUniqueID\":0,\"fBits\":50332160,\"fName\":\"165198\",\"fTitle\":\"\",\"fLineColor\":602,\"fLineStyle\":1,\"fLineWidth\":1,\"fFillColor\":0,\"fFillStyle\":1001,\"fMarkerColor\":1,\"fMarkerStyle\":1,\"fMarkerSize\":1,\"fNcells\":102,\"fXaxis\":{\"_typename\":\"TAxis\",\"fUniqueID\":0,\"fBits\":50331656,\"fName\":\"xaxis\",\"fTitle\":\" p_{T}^{GEN} [GeV]\",\"fNdivisions\":510,\"fAxisColor\":1,\"fLabelColor\":1,\"fLabelFont\":42,\"fLabelOffset\":0.005,\"fLabelSize\":0.035,\"fTickLength\":0.03,\"fTitleOffset\":1.4,\"fTitleSize\":0.035,\"fTitleColor\":1,\"fTitleFont\":42,\"fNbins\":100,\"fXmin\":0,\"fXmax\":109.8,\"fXbins\":[],\"fFirst\":0,\"fLast\":0,\"fBits2\":0,\"fTimeDisplay\":false,\"fTimeFormat\":\"\",\"fLabels\":null,\"fModLabs\":null},\"fYaxis\":{\"_typename\":\"TAxis\",\"fUniqueID\":0,\"fBits\":50331656,\"fName\":\"yaxis\",\"fTitle\":\"\",\"fNdivisions\":510,\"fAxisColor\":1,\"fLabelColor\":1,\"fLabelFont\":42,\"fLabelOffset\":0.005,\"fLabelSize\":0.035,\"fTickLength\":0.03,\"fTitleOffset\":0,\"fTitleSize\":0.035,\"fTitleColor\":1,\"fTitleFont\":42,\"fNbins\":1,\"fXmin\":0,\"fXmax\":1.04384942481705,\"fXbins\":[],\"fFirst\":0,\"fLast\":0,\"fBits2\":0,\"fTimeDisplay\":false,\"fTimeFormat\":\"\",\"fLabels\":null,\"fModLabs\":null},\"fZaxis\":{\"_typename\":\"TAxis\",\"fUniqueID\":0,\"fBits\":50331648,\"fName\":\"zaxis\",\"fTitle\":\"\",\"fNdivisions\":510,\"fAxisColor\":1,\"fLabelColor\":1,\"fLabelFont\":42,\"fLabelOffset\":0.005,\"fLabelSize\":0.035,\"fTickLength\":0.03,\"fTitleOffset\":1,\"fTitleSize\":0.035,\"fTitleColor\":1,\"fTitleFont\":42,\"fNbins\":1,\"fXmin\":0,\"fXmax\":1,\"fXbins\":[],\"fFirst\":0,\"fLast\":0,\"fBits2\":0,\"fTimeDisplay\":false,\"fTimeFormat\":\"\",\"fLabels\":null,\"fModLabs\":null},\"fBarOffset\":0,\"fBarWidth\":1000,\"fEntries\":0,\"fTsumw\":0,\"fTsumw2\":0,\"fTsumwx\":0,\"fTsumwx2\":0,\"fMaximum\":1.1,\"fMinimum\":0,\"fNormFactor\":0,\"fContour\":[],\"fSumw2\":[],\"fOption\":\"\",\"fFunctions\":{\"_typename\":\"TList\",\"name\":\"TList\",\"arr\":[],\"opt\":[]},\"fBufferSize\":0,\"fBuffer\":[],\"fBinStatErrOpt\":0,\"fStatOverflows\":2,\"fArray\":[0,0,0,0,0,0,0,0,0,0,0,0,0,0,0,0,0,0,0,0,0,0,0,0,0,0,0,0,0,0,0,0,0,0,0,0,0,0,0,0,0,0,0,0,0,0,0,0,0,0,0,0,0,0,0,0,0,0,0,0,0,0,0,0,0,0,0,0,0,0,0,0,0,0,0,0,0,0,0,0,0,0,0,0,0,0,0,0,0,0,0,0,0,0,0,0,0,0,0,0,0,0]},\"fMinimum\":-1111,\"fMaximum\":-1111,\"fEXlow\":[1,1,1,1,1,1,1,1,1,1,1,1,1,1,1,1,1,1,1,1,1,1,1,1,1,1,1,1,1,1,1,1,1,1,1,1,1,1,1,1,1,1,1,1,1,1,1,1,1],\"fEXhigh\":[1,1,1,1,1,1,1,1,1,1,1,1,1,1,1,1,1,1,1,1,1,1,1,1,1,1,1,1,1,1,1,1,1,1,1,1,1,1,1,1,1,1,1,1,1,1,1,1,1],\"fEYlow\":[0,0,0.00234415012072571,0.00536130830239632,0.0174901185788943,0.0230514264439799,0.0226116597794631,0.0223520942853944,0.022254497068055,0.0209246736781864,0.0208149571327293,0.0200825346866533,0.0196688322665218,0.0182433876148937,0.0187560648583066,0.0186721904488857,0.0182829694355557,0.0163152724856792,0.0180992668071782,0.0160725781639565,0.0164881534361324,0.0174653609354041,0.0154435546778698,0.014807280777678,0.0147783896805511,0.0153853039247966,0.0153489883346154,0.0143090922806828,0.0135321374679012,0.0139223649580189,0.0127750680959973,0.0131851615699322,0.0140992334420609,0.0136820760489597,0.0131153243312375,0.0133735419647022,0.0149461257784248,0.0122309691442957,0.0126732636260609,0.0154442820694995,0.0129467541950775,0.0137833448618484,0.0131708165463646,0.0133180399048676,0.0124289371264391,0.0124523763795494,0.0125666975531052,0.0125992742161462,0.0141996528649186],\"fEYhigh\":[0.00323598815799914,0.00347414329597734,0.00476727430594483,0.00742395119869578,0.0185281995576229,0.0235167957599392,0.0226227482532651,0.0220686561574496,0.0218992085037468,0.0201414677115684,0.02008563623107,0.0192153177670695,0.0185920877493821,0.0170943670075491,0.0176842782516012,0.0173030162008945,0.0172199462695006,0.015068890558103,0.0169705513258421,0.0145897394350831,0.015057991154809,0.0158305084766415,0.0140163386434889,0.013222881852113,0.0133848269270634,0.0136972620557035,0.0138014481492374,0.0127675950511577,0.0117729529861581,0.0123823386601878,0.0111858519667501,0.0114413333957419,0.012392082513368,0.0119967510271272,0.011447894279521,0.0117206346357744,0.0135147803120189,0.0105019752509745,0.0108613019805269,0.0138236914924394,0.0113391581612032,0.0120657279879272,0.0114523290506001,0.0117484731404885,0.0107009401853791,0.0106110553162552,0.0109170955298079,0.0107682361145169,0.0124150140562492]},{\"_typename\":\"TLatex\",\"fUniqueID\":0,\"fBits\":50348040,\"fName\":\"\",\"fTitle\":\"PU200, TkEle Ell. match, hwQual 5, 1.52 < |#eta^{GEN}| <= 2.4\",\"fTextAngle\":0,\"fTextSize\":0.03,\"fTextAlign\":11,\"fTextColor\":1,\"fTextFont\":62,\"fX\":0.15,\"fY\":0.85,\"fLineColor\":1,\"fLineStyle\":1,\"fLineWidth\":2,\"fLimitFactorSize\":3,\"fOriginSize\":0.04},{\"_typename\":\"TLatex\",\"fUniqueID\":0,\"fBits\":50331656,\"fName\":\"\",\"fTitle\":\"\",\"fTextAngle\":0,\"fTextSize\":0.03,\"fTextAlign\":11,\"fTextColor\":1,\"fTextFont\":62,\"fX\":0,\"fY\":0,\"fLineColor\":1,\"fLineStyle\":1,\"fLineWidth\":2,\"fLimitFactorSize\":3,\"fOriginSize\":0.04},{\"_typename\":\"TLine\",\"fUniqueID\":0,\"fBits\":50331656,\"fLineColor\":1,\"fLineStyle\":2,\"fLineWidth\":1,\"fX1\":0,\"fY1\":0.95,\"fX2\":109.8,\"fY2\":0.95},{\"_typename\":\"TLine\",\"fUniqueID\":0,\"fBits\":50331656,\"fLineColor\":1,\"fLineStyle\":2,\"fLineWidth\":1,\"fX1\":0,\"fY1\":1,\"fX2\":109.8,\"fY2\":1}],\"opt\":[\"\",\"pa\",\"same\",\"same\",\"same\",\"same\"]},\"fExecs\":null,\"fName\":\"c_3a196e\",\"fTitle\":\"c_3a196e\",\"fNumPaletteColor\":0,\"fNextPaletteColor\":0,\"fDISPLAY\":\"$DISPLAY\",\"fDoubleBuffer\":0,\"fRetained\":true,\"fXsizeUser\":0,\"fYsizeUser\":0,\"fXsizeReal\":20,\"fYsizeReal\":15,\"fWindowTopX\":0,\"fWindowTopY\":0,\"fWindowWidth\":0,\"fWindowHeight\":0,\"fCw\":796,\"fCh\":572,\"fCatt\":{\"_typename\":\"TAttCanvas\",\"fXBetween\":2,\"fYBetween\":2,\"fTitleFromTop\":1.2,\"fXdate\":0.2,\"fYdate\":0.3,\"fAdate\":1},\"kMoveOpaque\":true,\"kResizeOpaque\":true,\"fHighLightColor\":2,\"fBatch\":true,\"kShowEventStatus\":false,\"kAutoExec\":true,\"kMenuBar\":true});\n",
       "       Core.draw(\"root_plot_14\", obj, \"\");\n",
       "     }\n",
       " );\n",
       "</script>\n"
      ],
      "text/plain": [
       "<IPython.core.display.HTML object>"
      ]
     },
     "metadata": {},
     "output_type": "display_data"
    }
   ],
   "source": [
    "hsets, labels, text = hplot.get_histo(histos.HistoSetEff, ['hybrid', 'ele-V9'], ['PU200'], 'TkEleEL', 'EGq5', 'GENEtaBC', debug=False)\n",
    "draw([his.h_eff.h_pt.CreateGraph() for his in hsets], labels, text=text, min_y=0, max_y=1.1, h_lines=[0.95, 1.])\n"
   ]
  },
  {
   "cell_type": "code",
   "execution_count": 47,
   "metadata": {},
   "outputs": [
    {
     "data": {
      "text/plain": [
       "<drawingTools.DrawMachine at 0x11cf9c650>"
      ]
     },
     "execution_count": 47,
     "metadata": {},
     "output_type": "execute_result"
    },
    {
     "data": {
      "text/html": [
       "\n",
       "<div id=\"root_plot_15\"\n",
       "     style=\"width: 796px; height: 572px\">\n",
       "</div>\n",
       "\n",
       "<script>\n",
       " requirejs.config({\n",
       "     paths: {\n",
       "       'JSRootCore' : 'https://root.cern.ch/js/notebook//scripts/JSRootCore',\n",
       "     }\n",
       "   });\n",
       " require(['JSRootCore'],\n",
       "     function(Core) {\n",
       "       var obj = Core.JSONR_unref({\"_typename\":\"TCanvas\",\"fUniqueID\":0,\"fBits\":53673992,\"fLineColor\":1,\"fLineStyle\":1,\"fLineWidth\":1,\"fFillColor\":0,\"fFillStyle\":1001,\"fLeftMargin\":0.13,\"fRightMargin\":0.3,\"fBottomMargin\":0.13,\"fTopMargin\":0.1,\"fXfile\":2,\"fYfile\":2,\"fAfile\":1,\"fXstat\":0.99,\"fYstat\":0.99,\"fAstat\":2,\"fFrameFillColor\":0,\"fFrameLineColor\":1,\"fFrameFillStyle\":1001,\"fFrameLineStyle\":1,\"fFrameLineWidth\":1,\"fFrameBorderSize\":1,\"fFrameBorderMode\":0,\"fX1\":-25.0421046588559,\"fY1\":-0.185714283502611,\"fX2\":167.58947670572,\"fY2\":1.24285714852456,\"fXtoAbsPixelk\":103.480046204376,\"fXtoPixelk\":103.480046204376,\"fXtoPixel\":4.13224038530569,\"fYtoAbsPixelk\":497.640051065433,\"fYtoPixelk\":497.640051065433,\"fYtoPixel\":-400.399999031424,\"fUtoAbsPixelk\":5e-5,\"fUtoPixelk\":5e-5,\"fUtoPixel\":796,\"fVtoAbsPixelk\":572.00005,\"fVtoPixelk\":572,\"fVtoPixel\":-572,\"fAbsPixeltoXk\":-25.0421046588559,\"fPixeltoXk\":-25.0421046588559,\"fPixeltoX\":0.241999474076101,\"fAbsPixeltoYk\":1.24285714852456,\"fPixeltoYk\":-0.185714283502611,\"fPixeltoY\":-0.00249750250354401,\"fXlowNDC\":0,\"fYlowNDC\":0,\"fXUpNDC\":0,\"fYUpNDC\":0,\"fWNDC\":1,\"fHNDC\":1,\"fAbsXlowNDC\":0,\"fAbsYlowNDC\":0,\"fAbsWNDC\":1,\"fAbsHNDC\":1,\"fUxmin\":0,\"fUymin\":0,\"fUxmax\":109.8,\"fUymax\":1.1,\"fTheta\":30,\"fPhi\":30,\"fAspectRatio\":0,\"fNumber\":0,\"fTickx\":0,\"fTicky\":0,\"fLogx\":0,\"fLogy\":0,\"fLogz\":0,\"fPadPaint\":0,\"fCrosshair\":0,\"fCrosshairPos\":0,\"fBorderSize\":2,\"fBorderMode\":0,\"fModified\":false,\"fGridx\":false,\"fGridy\":false,\"fAbsCoord\":false,\"fEditable\":true,\"fFixedAspectRatio\":false,\"fPrimitives\":{\"_typename\":\"TList\",\"name\":\"TList\",\"arr\":[{\"_typename\":\"TFrame\",\"fUniqueID\":0,\"fBits\":50331656,\"fLineColor\":1,\"fLineStyle\":1,\"fLineWidth\":1,\"fFillColor\":0,\"fFillStyle\":1001,\"fX1\":0,\"fY1\":0,\"fX2\":109.8,\"fY2\":1.1,\"fBorderSize\":1,\"fBorderMode\":0},{\"_typename\":\"TGraphAsymmErrors\",\"fUniqueID\":0,\"fBits\":50332680,\"fName\":\"581114\",\"fTitle\":\"; p_{T}^{GEN} [GeV];\",\"fLineColor\":1,\"fLineStyle\":1,\"fLineWidth\":1,\"fFillColor\":0,\"fFillStyle\":1001,\"fMarkerColor\":1,\"fMarkerStyle\":8,\"fMarkerSize\":0.5,\"fNpoints\":49,\"fX\":[3,5,7,9,11,13,15,17,19,21,23,25,27,29,31,33,35,37,39,41,43,45,47,49,51,53,55,57,59,61,63,65,67,69,71,73,75,77,79,81,83,85,87,89,91,93,95,97,99],\"fY\":[0,0,0,0,0,0,0,0,0,0.003690036900369,0.0324324324324324,0.195340501792115,0.516007532956685,0.695340501792115,0.7125,0.782435129740519,0.76949740034662,0.829931972789116,0.795414462081129,0.869158878504673,0.860594795539034,0.863731656184486,0.877224199288256,0.895716945996276,0.883959044368601,0.896825396825397,0.88785046728972,0.901256732495512,0.919230769230769,0.906194690265487,0.923344947735192,0.926275992438563,0.913793103448276,0.917602996254682,0.923357664233577,0.919561243144424,0.884615384615385,0.936131386861314,0.932950191570881,0.891682785299807,0.92226148409894,0.918095238095238,0.925233644859813,0.915641476274165,0.93394495412844,0.938342967244701,0.928825622775801,0.936416184971098,0.916666666666667],\"fFunctions\":{\"_typename\":\"TList\",\"name\":\"TList\",\"arr\":[],\"opt\":[]},\"fHistogram\":{\"_typename\":\"TH1F\",\"fUniqueID\":0,\"fBits\":50332160,\"fName\":\"581114\",\"fTitle\":\"\",\"fLineColor\":602,\"fLineStyle\":1,\"fLineWidth\":1,\"fFillColor\":0,\"fFillStyle\":1001,\"fMarkerColor\":1,\"fMarkerStyle\":1,\"fMarkerSize\":1,\"fNcells\":102,\"fXaxis\":{\"_typename\":\"TAxis\",\"fUniqueID\":0,\"fBits\":50331656,\"fName\":\"xaxis\",\"fTitle\":\" p_{T}^{GEN} [GeV]\",\"fNdivisions\":510,\"fAxisColor\":1,\"fLabelColor\":1,\"fLabelFont\":42,\"fLabelOffset\":0.005,\"fLabelSize\":0.035,\"fTickLength\":0.03,\"fTitleOffset\":1.4,\"fTitleSize\":0.035,\"fTitleColor\":1,\"fTitleFont\":42,\"fNbins\":100,\"fXmin\":0,\"fXmax\":109.8,\"fXbins\":[],\"fFirst\":0,\"fLast\":0,\"fBits2\":0,\"fTimeDisplay\":false,\"fTimeFormat\":\"\",\"fLabels\":null,\"fModLabs\":null},\"fYaxis\":{\"_typename\":\"TAxis\",\"fUniqueID\":0,\"fBits\":50331656,\"fName\":\"yaxis\",\"fTitle\":\"\",\"fNdivisions\":510,\"fAxisColor\":1,\"fLabelColor\":1,\"fLabelFont\":42,\"fLabelOffset\":0.005,\"fLabelSize\":0.035,\"fTickLength\":0.03,\"fTitleOffset\":0,\"fTitleSize\":0.035,\"fTitleColor\":1,\"fTitleFont\":42,\"fNbins\":1,\"fXmin\":0,\"fXmax\":1.04384942481705,\"fXbins\":[],\"fFirst\":0,\"fLast\":0,\"fBits2\":0,\"fTimeDisplay\":false,\"fTimeFormat\":\"\",\"fLabels\":null,\"fModLabs\":null},\"fZaxis\":{\"_typename\":\"TAxis\",\"fUniqueID\":0,\"fBits\":50331648,\"fName\":\"zaxis\",\"fTitle\":\"\",\"fNdivisions\":510,\"fAxisColor\":1,\"fLabelColor\":1,\"fLabelFont\":42,\"fLabelOffset\":0.005,\"fLabelSize\":0.035,\"fTickLength\":0.03,\"fTitleOffset\":1,\"fTitleSize\":0.035,\"fTitleColor\":1,\"fTitleFont\":42,\"fNbins\":1,\"fXmin\":0,\"fXmax\":1,\"fXbins\":[],\"fFirst\":0,\"fLast\":0,\"fBits2\":0,\"fTimeDisplay\":false,\"fTimeFormat\":\"\",\"fLabels\":null,\"fModLabs\":null},\"fBarOffset\":0,\"fBarWidth\":1000,\"fEntries\":0,\"fTsumw\":0,\"fTsumw2\":0,\"fTsumwx\":0,\"fTsumwx2\":0,\"fMaximum\":1.1,\"fMinimum\":0,\"fNormFactor\":0,\"fContour\":[],\"fSumw2\":[],\"fOption\":\"\",\"fFunctions\":{\"_typename\":\"TList\",\"name\":\"TList\",\"arr\":[],\"opt\":[]},\"fBufferSize\":0,\"fBuffer\":[],\"fBinStatErrOpt\":0,\"fStatOverflows\":2,\"fArray\":[0,0,0,0,0,0,0,0,0,0,0,0,0,0,0,0,0,0,0,0,0,0,0,0,0,0,0,0,0,0,0,0,0,0,0,0,0,0,0,0,0,0,0,0,0,0,0,0,0,0,0,0,0,0,0,0,0,0,0,0,0,0,0,0,0,0,0,0,0,0,0,0,0,0,0,0,0,0,0,0,0,0,0,0,0,0,0,0,0,0,0,0,0,0,0,0,0,0,0,0,0,0]},\"fMinimum\":-1111,\"fMaximum\":-1111,\"fEXlow\":[1,1,1,1,1,1,1,1,1,1,1,1,1,1,1,1,1,1,1,1,1,1,1,1,1,1,1,1,1,1,1,1,1,1,1,1,1,1,1,1,1,1,1,1,1,1,1,1,1],\"fEXhigh\":[1,1,1,1,1,1,1,1,1,1,1,1,1,1,1,1,1,1,1,1,1,1,1,1,1,1,1,1,1,1,1,1,1,1,1,1,1,1,1,1,1,1,1,1,1,1,1,1,1],\"fEYlow\":[0,0,0,0,0,0,0,0,0,0.00238306935803498,0.00750022256828816,0.0170943670075491,0.0226378691430044,0.0207293173963968,0.0203991083916446,0.0200099972819097,0.018876490015003,0.0169270343492235,0.0183593197562569,0.0162429919399685,0.0165678910454611,0.0175624095895389,0.0154435546778698,0.0149075268841583,0.0147783896805511,0.0153853039247966,0.0153489883346154,0.0143090922806828,0.0137852885642663,0.0139223649580189,0.0127750680959973,0.0131851615699322,0.0140992334420609,0.0136820760489597,0.0131153243312375,0.0133735419647022,0.0149461257784248,0.0122309691442957,0.01281413315306,0.0154442820694995,0.0129467541950775,0.0137833448618484,0.0131708165463646,0.0133180399048676,0.0124289371264391,0.0124523763795494,0.0125666975531052,0.0125992742161462,0.0141996528649186],\"fEYhigh\":[0.00323598815799914,0.00347414329597734,0.00333566138424641,0.0033600127640479,0.00319665655273388,0.00382017233222616,0.00346108068132723,0.00340979796341216,0.00340979796341216,0.00484609619588345,0.0093851686541524,0.0182433876148942,0.022575033155766,0.0199977836755346,0.0196056238218368,0.0188229162097046,0.0178972241018505,0.0157444315396446,0.0172642257698333,0.0147761198965212,0.0151455350688788,0.0159375947466137,0.0140163386434889,0.0133313831332909,0.0133848269270634,0.0136972620557035,0.0138014481492374,0.0127675950511577,0.0120450274122909,0.0123823386601878,0.0111858519667501,0.0114413333957419,0.012392082513368,0.0119967510271272,0.011447894279521,0.0117206346357744,0.0135147803120189,0.0105019752509745,0.0110121236282096,0.0138236914924394,0.0113391581612032,0.0120657279879272,0.0114523290506001,0.0117484731404885,0.0107009401853791,0.0106110553162552,0.0109170955298079,0.0107682361145169,0.0124150140562492]},{\"_typename\":\"TLatex\",\"fUniqueID\":0,\"fBits\":50348040,\"fName\":\"\",\"fTitle\":\"PU200, TkEle Ell. match, hwQual 5, p_{T}^{L1}>=25GeV, 1.52 < |#eta^{GEN}| <= 2.4\",\"fTextAngle\":0,\"fTextSize\":0.03,\"fTextAlign\":11,\"fTextColor\":1,\"fTextFont\":62,\"fX\":0.15,\"fY\":0.85,\"fLineColor\":1,\"fLineStyle\":1,\"fLineWidth\":2,\"fLimitFactorSize\":3,\"fOriginSize\":0.04},{\"_typename\":\"TLatex\",\"fUniqueID\":0,\"fBits\":50331656,\"fName\":\"\",\"fTitle\":\"\",\"fTextAngle\":0,\"fTextSize\":0.03,\"fTextAlign\":11,\"fTextColor\":1,\"fTextFont\":62,\"fX\":0,\"fY\":0,\"fLineColor\":1,\"fLineStyle\":1,\"fLineWidth\":2,\"fLimitFactorSize\":3,\"fOriginSize\":0.04},{\"_typename\":\"TLine\",\"fUniqueID\":0,\"fBits\":50331656,\"fLineColor\":1,\"fLineStyle\":2,\"fLineWidth\":1,\"fX1\":0,\"fY1\":0.95,\"fX2\":109.8,\"fY2\":0.95},{\"_typename\":\"TLine\",\"fUniqueID\":0,\"fBits\":50331656,\"fLineColor\":1,\"fLineStyle\":2,\"fLineWidth\":1,\"fX1\":0,\"fY1\":1,\"fX2\":109.8,\"fY2\":1}],\"opt\":[\"\",\"pa\",\"same\",\"same\",\"same\",\"same\"]},\"fExecs\":null,\"fName\":\"c_ec18f2\",\"fTitle\":\"c_ec18f2\",\"fNumPaletteColor\":0,\"fNextPaletteColor\":0,\"fDISPLAY\":\"$DISPLAY\",\"fDoubleBuffer\":0,\"fRetained\":true,\"fXsizeUser\":0,\"fYsizeUser\":0,\"fXsizeReal\":20,\"fYsizeReal\":15,\"fWindowTopX\":0,\"fWindowTopY\":0,\"fWindowWidth\":0,\"fWindowHeight\":0,\"fCw\":796,\"fCh\":572,\"fCatt\":{\"_typename\":\"TAttCanvas\",\"fXBetween\":2,\"fYBetween\":2,\"fTitleFromTop\":1.2,\"fXdate\":0.2,\"fYdate\":0.3,\"fAdate\":1},\"kMoveOpaque\":true,\"kResizeOpaque\":true,\"fHighLightColor\":2,\"fBatch\":true,\"kShowEventStatus\":false,\"kAutoExec\":true,\"kMenuBar\":true});\n",
       "       Core.draw(\"root_plot_15\", obj, \"\");\n",
       "     }\n",
       " );\n",
       "</script>\n"
      ],
      "text/plain": [
       "<IPython.core.display.HTML object>"
      ]
     },
     "metadata": {},
     "output_type": "display_data"
    }
   ],
   "source": [
    "hsets, labels, text = hplot.get_histo(histos.HistoSetEff, ['hybrid', 'ele-V9'], ['PU200'], 'TkEleEL', 'EGq5Pt25', 'GENEtaBC', debug=False)\n",
    "draw([his.h_eff.h_pt.CreateGraph() for his in hsets], labels, text=text, min_y=0, max_y=1.1, h_lines=[0.95, 1.])\n"
   ]
  },
  {
   "cell_type": "code",
   "execution_count": 48,
   "metadata": {},
   "outputs": [
    {
     "data": {
      "text/plain": [
       "<drawingTools.DrawMachine at 0x11c05e290>"
      ]
     },
     "execution_count": 48,
     "metadata": {},
     "output_type": "execute_result"
    },
    {
     "data": {
      "text/html": [
       "\n",
       "<div id=\"root_plot_16\"\n",
       "     style=\"width: 796px; height: 572px\">\n",
       "</div>\n",
       "\n",
       "<script>\n",
       " requirejs.config({\n",
       "     paths: {\n",
       "       'JSRootCore' : 'https://root.cern.ch/js/notebook//scripts/JSRootCore',\n",
       "     }\n",
       "   });\n",
       " require(['JSRootCore'],\n",
       "     function(Core) {\n",
       "       var obj = Core.JSONR_unref({\"_typename\":\"TCanvas\",\"fUniqueID\":0,\"fBits\":53673992,\"fLineColor\":1,\"fLineStyle\":1,\"fLineWidth\":1,\"fFillColor\":0,\"fFillStyle\":1001,\"fLeftMargin\":0.13,\"fRightMargin\":0.3,\"fBottomMargin\":0.13,\"fTopMargin\":0.1,\"fXfile\":2,\"fYfile\":2,\"fAfile\":1,\"fXstat\":0.99,\"fYstat\":0.99,\"fAstat\":2,\"fFrameFillColor\":0,\"fFrameLineColor\":1,\"fFrameFillStyle\":1001,\"fFrameLineStyle\":1,\"fFrameLineWidth\":1,\"fFrameBorderSize\":1,\"fFrameBorderMode\":0,\"fX1\":-25.0421046588559,\"fY1\":-0.185714283502611,\"fX2\":167.58947670572,\"fY2\":1.24285714852456,\"fXtoAbsPixelk\":103.480046204376,\"fXtoPixelk\":103.480046204376,\"fXtoPixel\":4.13224038530569,\"fYtoAbsPixelk\":497.640051065433,\"fYtoPixelk\":497.640051065433,\"fYtoPixel\":-400.399999031424,\"fUtoAbsPixelk\":5e-5,\"fUtoPixelk\":5e-5,\"fUtoPixel\":796,\"fVtoAbsPixelk\":572.00005,\"fVtoPixelk\":572,\"fVtoPixel\":-572,\"fAbsPixeltoXk\":-25.0421046588559,\"fPixeltoXk\":-25.0421046588559,\"fPixeltoX\":0.241999474076101,\"fAbsPixeltoYk\":1.24285714852456,\"fPixeltoYk\":-0.185714283502611,\"fPixeltoY\":-0.00249750250354401,\"fXlowNDC\":0,\"fYlowNDC\":0,\"fXUpNDC\":0,\"fYUpNDC\":0,\"fWNDC\":1,\"fHNDC\":1,\"fAbsXlowNDC\":0,\"fAbsYlowNDC\":0,\"fAbsWNDC\":1,\"fAbsHNDC\":1,\"fUxmin\":0,\"fUymin\":0,\"fUxmax\":109.8,\"fUymax\":1.1,\"fTheta\":30,\"fPhi\":30,\"fAspectRatio\":0,\"fNumber\":0,\"fTickx\":0,\"fTicky\":0,\"fLogx\":0,\"fLogy\":0,\"fLogz\":0,\"fPadPaint\":0,\"fCrosshair\":0,\"fCrosshairPos\":0,\"fBorderSize\":2,\"fBorderMode\":0,\"fModified\":false,\"fGridx\":false,\"fGridy\":false,\"fAbsCoord\":false,\"fEditable\":true,\"fFixedAspectRatio\":false,\"fPrimitives\":{\"_typename\":\"TList\",\"name\":\"TList\",\"arr\":[{\"_typename\":\"TFrame\",\"fUniqueID\":0,\"fBits\":50331656,\"fLineColor\":1,\"fLineStyle\":1,\"fLineWidth\":1,\"fFillColor\":0,\"fFillStyle\":1001,\"fX1\":0,\"fY1\":0,\"fX2\":109.8,\"fY2\":1.1,\"fBorderSize\":1,\"fBorderMode\":0},{\"_typename\":\"TGraphAsymmErrors\",\"fUniqueID\":0,\"fBits\":50332680,\"fName\":\"14fe72\",\"fTitle\":\"; p_{T}^{GEN} [GeV];\",\"fLineColor\":1,\"fLineStyle\":1,\"fLineWidth\":1,\"fFillColor\":0,\"fFillStyle\":1001,\"fMarkerColor\":1,\"fMarkerStyle\":8,\"fMarkerSize\":0.5,\"fNpoints\":49,\"fX\":[3,5,7,9,11,13,15,17,19,21,23,25,27,29,31,33,35,37,39,41,43,45,47,49,51,53,55,57,59,61,63,65,67,69,71,73,75,77,79,81,83,85,87,89,91,93,95,97,99],\"fY\":[0,0,0.00209643605870021,0.00918367346938776,0.49003984063745,0.609409190371991,0.697435897435897,0.723044397463002,0.765469061876248,0.778543307086614,0.824776785714286,0.805300713557594,0.828865979381443,0.837615621788284,0.847193347193347,0.857601713062099,0.843846949327818,0.854775828460039,0.899585921325052,0.896969696969697,0.882521489971347,0.867827868852459,0.878918918918919,0.884538152610442,0.897872340425532,0.895161290322581,0.882926829268293,0.891604675876727,0.905857740585774,0.924677898909812,0.918592964824121,0.902564102564103,0.904559915164369,0.914851485148515,0.918570009930487,0.896090534979424,0.918264379414733,0.917269906928645,0.919170984455959,0.927889713679745,0.907150480256137,0.926535087719298,0.930113052415211,0.932764140875133,0.918776371308017,0.933196300102775,0.913621262458472,0.921218487394958,0.932446264073695],\"fFunctions\":{\"_typename\":\"TList\",\"name\":\"TList\",\"arr\":[],\"opt\":[]},\"fHistogram\":{\"_typename\":\"TH1F\",\"fUniqueID\":0,\"fBits\":50332160,\"fName\":\"14fe72\",\"fTitle\":\"\",\"fLineColor\":602,\"fLineStyle\":1,\"fLineWidth\":1,\"fFillColor\":0,\"fFillStyle\":1001,\"fMarkerColor\":1,\"fMarkerStyle\":1,\"fMarkerSize\":1,\"fNcells\":102,\"fXaxis\":{\"_typename\":\"TAxis\",\"fUniqueID\":0,\"fBits\":50331656,\"fName\":\"xaxis\",\"fTitle\":\" p_{T}^{GEN} [GeV]\",\"fNdivisions\":510,\"fAxisColor\":1,\"fLabelColor\":1,\"fLabelFont\":42,\"fLabelOffset\":0.005,\"fLabelSize\":0.035,\"fTickLength\":0.03,\"fTitleOffset\":1.4,\"fTitleSize\":0.035,\"fTitleColor\":1,\"fTitleFont\":42,\"fNbins\":100,\"fXmin\":0,\"fXmax\":109.8,\"fXbins\":[],\"fFirst\":0,\"fLast\":0,\"fBits2\":0,\"fTimeDisplay\":false,\"fTimeFormat\":\"\",\"fLabels\":null,\"fModLabs\":null},\"fYaxis\":{\"_typename\":\"TAxis\",\"fUniqueID\":0,\"fBits\":50331656,\"fName\":\"yaxis\",\"fTitle\":\"\",\"fNdivisions\":510,\"fAxisColor\":1,\"fLabelColor\":1,\"fLabelFont\":42,\"fLabelOffset\":0.005,\"fLabelSize\":0.035,\"fTickLength\":0.03,\"fTitleOffset\":0,\"fTitleSize\":0.035,\"fTitleColor\":1,\"fTitleFont\":42,\"fNbins\":1,\"fXmin\":0,\"fXmax\":1.03536907323343,\"fXbins\":[],\"fFirst\":0,\"fLast\":0,\"fBits2\":0,\"fTimeDisplay\":false,\"fTimeFormat\":\"\",\"fLabels\":null,\"fModLabs\":null},\"fZaxis\":{\"_typename\":\"TAxis\",\"fUniqueID\":0,\"fBits\":50331648,\"fName\":\"zaxis\",\"fTitle\":\"\",\"fNdivisions\":510,\"fAxisColor\":1,\"fLabelColor\":1,\"fLabelFont\":42,\"fLabelOffset\":0.005,\"fLabelSize\":0.035,\"fTickLength\":0.03,\"fTitleOffset\":1,\"fTitleSize\":0.035,\"fTitleColor\":1,\"fTitleFont\":42,\"fNbins\":1,\"fXmin\":0,\"fXmax\":1,\"fXbins\":[],\"fFirst\":0,\"fLast\":0,\"fBits2\":0,\"fTimeDisplay\":false,\"fTimeFormat\":\"\",\"fLabels\":null,\"fModLabs\":null},\"fBarOffset\":0,\"fBarWidth\":1000,\"fEntries\":0,\"fTsumw\":0,\"fTsumw2\":0,\"fTsumwx\":0,\"fTsumwx2\":0,\"fMaximum\":1.1,\"fMinimum\":0,\"fNormFactor\":0,\"fContour\":[],\"fSumw2\":[],\"fOption\":\"\",\"fFunctions\":{\"_typename\":\"TList\",\"name\":\"TList\",\"arr\":[],\"opt\":[]},\"fBufferSize\":0,\"fBuffer\":[],\"fBinStatErrOpt\":0,\"fStatOverflows\":2,\"fArray\":[0,0,0,0,0,0,0,0,0,0,0,0,0,0,0,0,0,0,0,0,0,0,0,0,0,0,0,0,0,0,0,0,0,0,0,0,0,0,0,0,0,0,0,0,0,0,0,0,0,0,0,0,0,0,0,0,0,0,0,0,0,0,0,0,0,0,0,0,0,0,0,0,0,0,0,0,0,0,0,0,0,0,0,0,0,0,0,0,0,0,0,0,0,0,0,0,0,0,0,0,0,0]},\"fMinimum\":-1111,\"fMaximum\":-1111,\"fEXlow\":[1,1,1,1,1,1,1,1,1,1,1,1,1,1,1,1,1,1,1,1,1,1,1,1,1,1,1,1,1,1,1,1,1,1,1,1,1,1,1,1,1,1,1,1,1,1,1,1,1],\"fEXhigh\":[1,1,1,1,1,1,1,1,1,1,1,1,1,1,1,1,1,1,1,1,1,1,1,1,1,1,1,1,1,1,1,1,1,1,1,1,1,1,1,1,1,1,1,1,1,1,1,1,1],\"fEYlow\":[0,0,0.00135398966885,0.00299738273535597,0.0162561550267564,0.0167993166257996,0.0154266518472647,0.0153150382929648,0.0141535728439574,0.0137983252021004,0.0136320892252233,0.0134711430154317,0.0129578573873123,0.0126957764353837,0.0124942027569896,0.0123680534210864,0.0125584950549482,0.0118454729563221,0.0106235375880125,0.0105885810636734,0.0108105106728645,0.0117458211653476,0.0116954574865978,0.0110325227562874,0.0108546736397089,0.0106492600120967,0.0109207605527238,0.0111031427549366,0.0104164449585648,0.00925202265654546,0.00961848973695356,0.0104455164802796,0.0105516337186897,0.0097124340417527,0.00955629854893125,0.0107305987214441,0.00965538032913682,0.00983398647377909,0.00975434970089251,0.00943879101769896,0.0104744147181737,0.00968756100616142,0.00916016717646817,0.00921020669982864,0.00986962576406536,0.0089953968853197,0.0103887505332435,0.00972751992944754,0.00901530856618815],\"fEYhigh\":[0.00192591439828387,0.00188838072126811,0.00275833444191357,0.00416601722352139,0.0162766096999225,0.0165519604761574,0.0150078000231435,0.0148266695765642,0.0136042713007887,0.0132296337113572,0.0128757879978103,0.0128240150839094,0.0122513098507399,0.0119720835042915,0.011740505087857,0.0115669607113816,0.0118162821743735,0.0111236711540527,0.00975246062476642,0.00974517884704817,0.0100451593219807,0.010956922837053,0.0108354185411897,0.010222539917477,0.00996307941011598,0.00981175313808724,0.0101377262125655,0.0102277144648282,0.0095208727879823,0.00836050974804636,0.00872881141610293,0.00957565222386636,0.00964659322188144,0.0088451081485994,0.00867755822397798,0.00987325913427872,0.00876280581569477,0.0089211093789594,0.00883481988740653,0.00847470787926197,0.00955699534328769,0.00869340502668925,0.00822100029520623,0.00822679108274638,0.0089341494433971,0.00804831192761324,0.00941897770514299,0.00878991135208318,0.00807414211178881]},{\"_typename\":\"TLatex\",\"fUniqueID\":0,\"fBits\":50348040,\"fName\":\"\",\"fTitle\":\"PU200, TkEle Ell. match all, LooseTkID, |#eta^{GEN}| <= 1.479\",\"fTextAngle\":0,\"fTextSize\":0.03,\"fTextAlign\":11,\"fTextColor\":1,\"fTextFont\":62,\"fX\":0.15,\"fY\":0.85,\"fLineColor\":1,\"fLineStyle\":1,\"fLineWidth\":2,\"fLimitFactorSize\":3,\"fOriginSize\":0.04},{\"_typename\":\"TLatex\",\"fUniqueID\":0,\"fBits\":50331656,\"fName\":\"\",\"fTitle\":\"\",\"fTextAngle\":0,\"fTextSize\":0.03,\"fTextAlign\":11,\"fTextColor\":1,\"fTextFont\":62,\"fX\":0,\"fY\":0,\"fLineColor\":1,\"fLineStyle\":1,\"fLineWidth\":2,\"fLimitFactorSize\":3,\"fOriginSize\":0.04},{\"_typename\":\"TLine\",\"fUniqueID\":0,\"fBits\":50331656,\"fLineColor\":1,\"fLineStyle\":2,\"fLineWidth\":1,\"fX1\":0,\"fY1\":0.95,\"fX2\":109.8,\"fY2\":0.95},{\"_typename\":\"TLine\",\"fUniqueID\":0,\"fBits\":50331656,\"fLineColor\":1,\"fLineStyle\":2,\"fLineWidth\":1,\"fX1\":0,\"fY1\":1,\"fX2\":109.8,\"fY2\":1}],\"opt\":[\"\",\"pa\",\"same\",\"same\",\"same\",\"same\"]},\"fExecs\":null,\"fName\":\"c_ed04a0\",\"fTitle\":\"c_ed04a0\",\"fNumPaletteColor\":0,\"fNextPaletteColor\":0,\"fDISPLAY\":\"$DISPLAY\",\"fDoubleBuffer\":0,\"fRetained\":true,\"fXsizeUser\":0,\"fYsizeUser\":0,\"fXsizeReal\":20,\"fYsizeReal\":15,\"fWindowTopX\":0,\"fWindowTopY\":0,\"fWindowWidth\":0,\"fWindowHeight\":0,\"fCw\":796,\"fCh\":572,\"fCatt\":{\"_typename\":\"TAttCanvas\",\"fXBetween\":2,\"fYBetween\":2,\"fTitleFromTop\":1.2,\"fXdate\":0.2,\"fYdate\":0.3,\"fAdate\":1},\"kMoveOpaque\":true,\"kResizeOpaque\":true,\"fHighLightColor\":2,\"fBatch\":true,\"kShowEventStatus\":false,\"kAutoExec\":true,\"kMenuBar\":true});\n",
       "       Core.draw(\"root_plot_16\", obj, \"\");\n",
       "     }\n",
       " );\n",
       "</script>\n"
      ],
      "text/plain": [
       "<IPython.core.display.HTML object>"
      ]
     },
     "metadata": {},
     "output_type": "display_data"
    }
   ],
   "source": [
    "hsets, labels, text = hplot.get_histo(histos.HistoSetEff, ['hybrid', 'ele-V9'], ['PU200'], 'TkEleELALL', 'LooseTkID', 'GENEtaF', debug=False)\n",
    "draw([his.h_eff.h_pt.CreateGraph() for his in hsets], labels, text=text, min_y=0, max_y=1.1, h_lines=[0.95, 1.])\n"
   ]
  },
  {
   "cell_type": "code",
   "execution_count": 49,
   "metadata": {},
   "outputs": [
    {
     "data": {
      "text/plain": [
       "<drawingTools.DrawMachine at 0x11cf9c090>"
      ]
     },
     "execution_count": 49,
     "metadata": {},
     "output_type": "execute_result"
    },
    {
     "data": {
      "text/html": [
       "\n",
       "<div id=\"root_plot_17\"\n",
       "     style=\"width: 796px; height: 572px\">\n",
       "</div>\n",
       "\n",
       "<script>\n",
       " requirejs.config({\n",
       "     paths: {\n",
       "       'JSRootCore' : 'https://root.cern.ch/js/notebook//scripts/JSRootCore',\n",
       "     }\n",
       "   });\n",
       " require(['JSRootCore'],\n",
       "     function(Core) {\n",
       "       var obj = Core.JSONR_unref({\"_typename\":\"TCanvas\",\"fUniqueID\":0,\"fBits\":53673992,\"fLineColor\":1,\"fLineStyle\":1,\"fLineWidth\":1,\"fFillColor\":0,\"fFillStyle\":1001,\"fLeftMargin\":0.13,\"fRightMargin\":0.3,\"fBottomMargin\":0.13,\"fTopMargin\":0.1,\"fXfile\":2,\"fYfile\":2,\"fAfile\":1,\"fXstat\":0.99,\"fYstat\":0.99,\"fAstat\":2,\"fFrameFillColor\":0,\"fFrameLineColor\":1,\"fFrameFillStyle\":1001,\"fFrameLineStyle\":1,\"fFrameLineWidth\":1,\"fFrameBorderSize\":1,\"fFrameBorderMode\":0,\"fX1\":-25.0421046588559,\"fY1\":-0.185714283502611,\"fX2\":167.58947670572,\"fY2\":1.24285714852456,\"fXtoAbsPixelk\":103.480046204376,\"fXtoPixelk\":103.480046204376,\"fXtoPixel\":4.13224038530569,\"fYtoAbsPixelk\":497.640051065433,\"fYtoPixelk\":497.640051065433,\"fYtoPixel\":-400.399999031424,\"fUtoAbsPixelk\":5e-5,\"fUtoPixelk\":5e-5,\"fUtoPixel\":796,\"fVtoAbsPixelk\":572.00005,\"fVtoPixelk\":572,\"fVtoPixel\":-572,\"fAbsPixeltoXk\":-25.0421046588559,\"fPixeltoXk\":-25.0421046588559,\"fPixeltoX\":0.241999474076101,\"fAbsPixeltoYk\":1.24285714852456,\"fPixeltoYk\":-0.185714283502611,\"fPixeltoY\":-0.00249750250354401,\"fXlowNDC\":0,\"fYlowNDC\":0,\"fXUpNDC\":0,\"fYUpNDC\":0,\"fWNDC\":1,\"fHNDC\":1,\"fAbsXlowNDC\":0,\"fAbsYlowNDC\":0,\"fAbsWNDC\":1,\"fAbsHNDC\":1,\"fUxmin\":0,\"fUymin\":0,\"fUxmax\":109.8,\"fUymax\":1.1,\"fTheta\":30,\"fPhi\":30,\"fAspectRatio\":0,\"fNumber\":0,\"fTickx\":0,\"fTicky\":0,\"fLogx\":0,\"fLogy\":0,\"fLogz\":0,\"fPadPaint\":0,\"fCrosshair\":0,\"fCrosshairPos\":0,\"fBorderSize\":2,\"fBorderMode\":0,\"fModified\":false,\"fGridx\":false,\"fGridy\":false,\"fAbsCoord\":false,\"fEditable\":true,\"fFixedAspectRatio\":false,\"fPrimitives\":{\"_typename\":\"TList\",\"name\":\"TList\",\"arr\":[{\"_typename\":\"TFrame\",\"fUniqueID\":0,\"fBits\":50331656,\"fLineColor\":1,\"fLineStyle\":1,\"fLineWidth\":1,\"fFillColor\":0,\"fFillStyle\":1001,\"fX1\":0,\"fY1\":0,\"fX2\":109.8,\"fY2\":1.1,\"fBorderSize\":1,\"fBorderMode\":0},{\"_typename\":\"TGraphAsymmErrors\",\"fUniqueID\":0,\"fBits\":50332680,\"fName\":\"b77a23\",\"fTitle\":\"; p_{T}^{GEN} [GeV];\",\"fLineColor\":1,\"fLineStyle\":1,\"fLineWidth\":1,\"fFillColor\":0,\"fFillStyle\":1001,\"fMarkerColor\":1,\"fMarkerStyle\":8,\"fMarkerSize\":0.5,\"fNpoints\":49,\"fX\":[3,5,7,9,11,13,15,17,19,21,23,25,27,29,31,33,35,37,39,41,43,45,47,49,51,53,55,57,59,61,63,65,67,69,71,73,75,77,79,81,83,85,87,89,91,93,95,97,99],\"fY\":[0,0,0.00209643605870021,0.00918367346938776,0.49003984063745,0.609409190371991,0.697435897435897,0.723044397463002,0.765469061876248,0.778543307086614,0.824776785714286,0.805300713557594,0.828865979381443,0.837615621788284,0.847193347193347,0.857601713062099,0.843846949327818,0.854775828460039,0.899585921325052,0.896969696969697,0.882521489971347,0.867827868852459,0.878918918918919,0.884538152610442,0.897872340425532,0.895161290322581,0.882926829268293,0.891604675876727,0.905857740585774,0.924677898909812,0.918592964824121,0.902564102564103,0.904559915164369,0.914851485148515,0.918570009930487,0.896090534979424,0.918264379414733,0.917269906928645,0.919170984455959,0.927889713679745,0.907150480256137,0.926535087719298,0.930113052415211,0.932764140875133,0.918776371308017,0.933196300102775,0.913621262458472,0.921218487394958,0.932446264073695],\"fFunctions\":{\"_typename\":\"TList\",\"name\":\"TList\",\"arr\":[],\"opt\":[]},\"fHistogram\":{\"_typename\":\"TH1F\",\"fUniqueID\":0,\"fBits\":50332160,\"fName\":\"b77a23\",\"fTitle\":\"\",\"fLineColor\":602,\"fLineStyle\":1,\"fLineWidth\":1,\"fFillColor\":0,\"fFillStyle\":1001,\"fMarkerColor\":1,\"fMarkerStyle\":1,\"fMarkerSize\":1,\"fNcells\":102,\"fXaxis\":{\"_typename\":\"TAxis\",\"fUniqueID\":0,\"fBits\":50331656,\"fName\":\"xaxis\",\"fTitle\":\" p_{T}^{GEN} [GeV]\",\"fNdivisions\":510,\"fAxisColor\":1,\"fLabelColor\":1,\"fLabelFont\":42,\"fLabelOffset\":0.005,\"fLabelSize\":0.035,\"fTickLength\":0.03,\"fTitleOffset\":1.4,\"fTitleSize\":0.035,\"fTitleColor\":1,\"fTitleFont\":42,\"fNbins\":100,\"fXmin\":0,\"fXmax\":109.8,\"fXbins\":[],\"fFirst\":0,\"fLast\":0,\"fBits2\":0,\"fTimeDisplay\":false,\"fTimeFormat\":\"\",\"fLabels\":null,\"fModLabs\":null},\"fYaxis\":{\"_typename\":\"TAxis\",\"fUniqueID\":0,\"fBits\":50331656,\"fName\":\"yaxis\",\"fTitle\":\"\",\"fNdivisions\":510,\"fAxisColor\":1,\"fLabelColor\":1,\"fLabelFont\":42,\"fLabelOffset\":0.005,\"fLabelSize\":0.035,\"fTickLength\":0.03,\"fTitleOffset\":0,\"fTitleSize\":0.035,\"fTitleColor\":1,\"fTitleFont\":42,\"fNbins\":1,\"fXmin\":0,\"fXmax\":1.03536907323343,\"fXbins\":[],\"fFirst\":0,\"fLast\":0,\"fBits2\":0,\"fTimeDisplay\":false,\"fTimeFormat\":\"\",\"fLabels\":null,\"fModLabs\":null},\"fZaxis\":{\"_typename\":\"TAxis\",\"fUniqueID\":0,\"fBits\":50331648,\"fName\":\"zaxis\",\"fTitle\":\"\",\"fNdivisions\":510,\"fAxisColor\":1,\"fLabelColor\":1,\"fLabelFont\":42,\"fLabelOffset\":0.005,\"fLabelSize\":0.035,\"fTickLength\":0.03,\"fTitleOffset\":1,\"fTitleSize\":0.035,\"fTitleColor\":1,\"fTitleFont\":42,\"fNbins\":1,\"fXmin\":0,\"fXmax\":1,\"fXbins\":[],\"fFirst\":0,\"fLast\":0,\"fBits2\":0,\"fTimeDisplay\":false,\"fTimeFormat\":\"\",\"fLabels\":null,\"fModLabs\":null},\"fBarOffset\":0,\"fBarWidth\":1000,\"fEntries\":0,\"fTsumw\":0,\"fTsumw2\":0,\"fTsumwx\":0,\"fTsumwx2\":0,\"fMaximum\":1.1,\"fMinimum\":0,\"fNormFactor\":0,\"fContour\":[],\"fSumw2\":[],\"fOption\":\"\",\"fFunctions\":{\"_typename\":\"TList\",\"name\":\"TList\",\"arr\":[],\"opt\":[]},\"fBufferSize\":0,\"fBuffer\":[],\"fBinStatErrOpt\":0,\"fStatOverflows\":2,\"fArray\":[0,0,0,0,0,0,0,0,0,0,0,0,0,0,0,0,0,0,0,0,0,0,0,0,0,0,0,0,0,0,0,0,0,0,0,0,0,0,0,0,0,0,0,0,0,0,0,0,0,0,0,0,0,0,0,0,0,0,0,0,0,0,0,0,0,0,0,0,0,0,0,0,0,0,0,0,0,0,0,0,0,0,0,0,0,0,0,0,0,0,0,0,0,0,0,0,0,0,0,0,0,0]},\"fMinimum\":-1111,\"fMaximum\":-1111,\"fEXlow\":[1,1,1,1,1,1,1,1,1,1,1,1,1,1,1,1,1,1,1,1,1,1,1,1,1,1,1,1,1,1,1,1,1,1,1,1,1,1,1,1,1,1,1,1,1,1,1,1,1],\"fEXhigh\":[1,1,1,1,1,1,1,1,1,1,1,1,1,1,1,1,1,1,1,1,1,1,1,1,1,1,1,1,1,1,1,1,1,1,1,1,1,1,1,1,1,1,1,1,1,1,1,1,1],\"fEYlow\":[0,0,0.00135398966885,0.00299738273535597,0.0162561550267564,0.0167993166257996,0.0154266518472647,0.0153150382929648,0.0141535728439574,0.0137983252021004,0.0136320892252233,0.0134711430154317,0.0129578573873123,0.0126957764353837,0.0124942027569896,0.0123680534210864,0.0125584950549482,0.0118454729563221,0.0106235375880125,0.0105885810636734,0.0108105106728645,0.0117458211653476,0.0116954574865978,0.0110325227562874,0.0108546736397089,0.0106492600120967,0.0109207605527238,0.0111031427549366,0.0104164449585648,0.00925202265654546,0.00961848973695356,0.0104455164802796,0.0105516337186897,0.0097124340417527,0.00955629854893125,0.0107305987214441,0.00965538032913682,0.00983398647377909,0.00975434970089251,0.00943879101769896,0.0104744147181737,0.00968756100616142,0.00916016717646817,0.00921020669982864,0.00986962576406536,0.0089953968853197,0.0103887505332435,0.00972751992944754,0.00901530856618815],\"fEYhigh\":[0.00192591439828387,0.00188838072126811,0.00275833444191357,0.00416601722352139,0.0162766096999225,0.0165519604761574,0.0150078000231435,0.0148266695765642,0.0136042713007887,0.0132296337113572,0.0128757879978103,0.0128240150839094,0.0122513098507399,0.0119720835042915,0.011740505087857,0.0115669607113816,0.0118162821743735,0.0111236711540527,0.00975246062476642,0.00974517884704817,0.0100451593219807,0.010956922837053,0.0108354185411897,0.010222539917477,0.00996307941011598,0.00981175313808724,0.0101377262125655,0.0102277144648282,0.0095208727879823,0.00836050974804636,0.00872881141610293,0.00957565222386636,0.00964659322188144,0.0088451081485994,0.00867755822397798,0.00987325913427872,0.00876280581569477,0.0089211093789594,0.00883481988740653,0.00847470787926197,0.00955699534328769,0.00869340502668925,0.00822100029520623,0.00822679108274638,0.0089341494433971,0.00804831192761324,0.00941897770514299,0.00878991135208318,0.00807414211178881]},{\"_typename\":\"TLatex\",\"fUniqueID\":0,\"fBits\":50348040,\"fName\":\"\",\"fTitle\":\"PU200, TkEle Ell. match all, LooseTkID, |#eta^{GEN}| <= 1.479\",\"fTextAngle\":0,\"fTextSize\":0.03,\"fTextAlign\":11,\"fTextColor\":1,\"fTextFont\":62,\"fX\":0.15,\"fY\":0.85,\"fLineColor\":1,\"fLineStyle\":1,\"fLineWidth\":2,\"fLimitFactorSize\":3,\"fOriginSize\":0.04},{\"_typename\":\"TLatex\",\"fUniqueID\":0,\"fBits\":50331656,\"fName\":\"\",\"fTitle\":\"\",\"fTextAngle\":0,\"fTextSize\":0.03,\"fTextAlign\":11,\"fTextColor\":1,\"fTextFont\":62,\"fX\":0,\"fY\":0,\"fLineColor\":1,\"fLineStyle\":1,\"fLineWidth\":2,\"fLimitFactorSize\":3,\"fOriginSize\":0.04},{\"_typename\":\"TLine\",\"fUniqueID\":0,\"fBits\":50331656,\"fLineColor\":1,\"fLineStyle\":2,\"fLineWidth\":1,\"fX1\":0,\"fY1\":0.95,\"fX2\":109.8,\"fY2\":0.95},{\"_typename\":\"TLine\",\"fUniqueID\":0,\"fBits\":50331656,\"fLineColor\":1,\"fLineStyle\":2,\"fLineWidth\":1,\"fX1\":0,\"fY1\":1,\"fX2\":109.8,\"fY2\":1}],\"opt\":[\"\",\"pa\",\"same\",\"same\",\"same\",\"same\"]},\"fExecs\":null,\"fName\":\"c_cde576\",\"fTitle\":\"c_cde576\",\"fNumPaletteColor\":0,\"fNextPaletteColor\":0,\"fDISPLAY\":\"$DISPLAY\",\"fDoubleBuffer\":0,\"fRetained\":true,\"fXsizeUser\":0,\"fYsizeUser\":0,\"fXsizeReal\":20,\"fYsizeReal\":15,\"fWindowTopX\":0,\"fWindowTopY\":0,\"fWindowWidth\":0,\"fWindowHeight\":0,\"fCw\":796,\"fCh\":572,\"fCatt\":{\"_typename\":\"TAttCanvas\",\"fXBetween\":2,\"fYBetween\":2,\"fTitleFromTop\":1.2,\"fXdate\":0.2,\"fYdate\":0.3,\"fAdate\":1},\"kMoveOpaque\":true,\"kResizeOpaque\":true,\"fHighLightColor\":2,\"fBatch\":true,\"kShowEventStatus\":false,\"kAutoExec\":true,\"kMenuBar\":true});\n",
       "       Core.draw(\"root_plot_17\", obj, \"\");\n",
       "     }\n",
       " );\n",
       "</script>\n"
      ],
      "text/plain": [
       "<IPython.core.display.HTML object>"
      ]
     },
     "metadata": {},
     "output_type": "display_data"
    }
   ],
   "source": [
    "hsets, labels, text = hplot.get_histo(histos.HistoSetEff, ['hybrid', 'ele-V9'], ['PU200'], 'TkEleELALL', 'LooseTkID', 'GENEtaF', debug=False)\n",
    "draw([his.h_eff.h_pt.CreateGraph() for his in hsets], labels, text=text, min_y=0, max_y=1.1, h_lines=[0.95, 1.])\n"
   ]
  },
  {
   "cell_type": "code",
   "execution_count": 50,
   "metadata": {
    "scrolled": false
   },
   "outputs": [
    {
     "name": "stdout",
     "output_type": "stream",
     "text": [
      "No match found for: pu: ['PU0', 'PU200'], tp: L1Trk, tp_sel: all, gen_sel: L1TrkEmu, classtype: python.l1THistos.HistoSetEff\n"
     ]
    },
    {
     "ename": "TypeError",
     "evalue": "'NoneType' object is not iterable",
     "output_type": "error",
     "traceback": [
      "\u001b[0;31m\u001b[0m",
      "\u001b[0;31mTypeError\u001b[0mTraceback (most recent call last)",
      "\u001b[0;32m<ipython-input-50-baa2af24bdf4>\u001b[0m in \u001b[0;36m<module>\u001b[0;34m()\u001b[0m\n\u001b[1;32m      4\u001b[0m             \u001b[0mhsets\u001b[0m\u001b[0;34m,\u001b[0m \u001b[0mlabels\u001b[0m\u001b[0;34m,\u001b[0m \u001b[0mtext\u001b[0m \u001b[0;34m=\u001b[0m \u001b[0mhplot\u001b[0m\u001b[0;34m.\u001b[0m\u001b[0mget_histo\u001b[0m\u001b[0;34m(\u001b[0m\u001b[0mhistos\u001b[0m\u001b[0;34m.\u001b[0m\u001b[0mHistoSetEff\u001b[0m\u001b[0;34m,\u001b[0m \u001b[0msample\u001b[0m\u001b[0;34m,\u001b[0m \u001b[0;34m[\u001b[0m\u001b[0;34m'PU0'\u001b[0m\u001b[0;34m,\u001b[0m \u001b[0;34m'PU200'\u001b[0m\u001b[0;34m]\u001b[0m\u001b[0;34m,\u001b[0m \u001b[0mtp\u001b[0m\u001b[0;34m,\u001b[0m \u001b[0mtp_sel\u001b[0m\u001b[0;34m,\u001b[0m \u001b[0mgen_sel\u001b[0m\u001b[0;34m)\u001b[0m\u001b[0;34m\u001b[0m\u001b[0m\n\u001b[1;32m      5\u001b[0m             \u001b[0;31m# drawSeveral([his.hreso.h_ptResVpt for his in hsets], labels,  'COLZ', do_profile=True, text=text)\u001b[0m\u001b[0;34m\u001b[0m\u001b[0;34m\u001b[0m\u001b[0m\n\u001b[0;32m----> 6\u001b[0;31m             \u001b[0mdraw\u001b[0m\u001b[0;34m(\u001b[0m\u001b[0;34m[\u001b[0m\u001b[0mhis\u001b[0m\u001b[0;34m.\u001b[0m\u001b[0mh_eff\u001b[0m\u001b[0;34m.\u001b[0m\u001b[0mh_pt\u001b[0m\u001b[0;34m.\u001b[0m\u001b[0mCreateGraph\u001b[0m\u001b[0;34m(\u001b[0m\u001b[0;34m)\u001b[0m \u001b[0;32mfor\u001b[0m \u001b[0mhis\u001b[0m \u001b[0;32min\u001b[0m \u001b[0mhsets\u001b[0m\u001b[0;34m]\u001b[0m\u001b[0;34m,\u001b[0m \u001b[0mlabels\u001b[0m\u001b[0;34m,\u001b[0m \u001b[0mtext\u001b[0m\u001b[0;34m=\u001b[0m\u001b[0mtext\u001b[0m\u001b[0;34m,\u001b[0m \u001b[0mmin_y\u001b[0m\u001b[0;34m=\u001b[0m\u001b[0;36m0\u001b[0m\u001b[0;34m,\u001b[0m \u001b[0mmax_y\u001b[0m\u001b[0;34m=\u001b[0m\u001b[0;36m1.1\u001b[0m\u001b[0;34m,\u001b[0m \u001b[0my_axis_label\u001b[0m\u001b[0;34m=\u001b[0m\u001b[0;34m'L1 matched to GEN/GEN'\u001b[0m\u001b[0;34m,\u001b[0m \u001b[0mh_lines\u001b[0m\u001b[0;34m=\u001b[0m\u001b[0;34m[\u001b[0m\u001b[0;36m0.95\u001b[0m\u001b[0;34m,\u001b[0m \u001b[0;36m1\u001b[0m\u001b[0;34m]\u001b[0m\u001b[0;34m)\u001b[0m\u001b[0;34m\u001b[0m\u001b[0m\n\u001b[0m\u001b[1;32m      7\u001b[0m \u001b[0;34m\u001b[0m\u001b[0m\n",
      "\u001b[0;31mTypeError\u001b[0m: 'NoneType' object is not iterable"
     ]
    }
   ],
   "source": [
    "for tp in tps:\n",
    "    for tp_sel in tp_select[tp]:\n",
    "        for gen_sel in gen_select:\n",
    "            hsets, labels, text = hplot.get_histo(histos.HistoSetEff, sample, ['PU0', 'PU200'], tp, tp_sel, gen_sel)\n",
    "            # drawSeveral([his.hreso.h_ptResVpt for his in hsets], labels,  'COLZ', do_profile=True, text=text)\n",
    "            draw([his.h_eff.h_pt.CreateGraph() for his in hsets], labels, text=text, min_y=0, max_y=1.1, y_axis_label='L1 matched to GEN/GEN', h_lines=[0.95, 1])\n",
    "   "
   ]
  },
  {
   "cell_type": "code",
   "execution_count": null,
   "metadata": {},
   "outputs": [],
   "source": [
    "for pu in ['PU0', 'PU200']:\n",
    "    for gen_sel in gen_select:\n",
    "        hsets, labels, text = hplot.get_histo(histos.HistoSetEff, 'V8', pu, ['EG'], 'EGq2', gen_sel)\n",
    "        # drawSeveral([his.hreso.h_ptResVpt for his in hsets], labels,  'COLZ', do_profile=True, text=text)\n",
    "        draw([his.h_eff.h_pt.CreateGraph() for his in hsets], labels, text=text, min_y=0, max_y=1.1, y_axis_label='L1 matched to GEN/GEN', h_lines=[0.95, 1])\n",
    " "
   ]
  },
  {
   "cell_type": "code",
   "execution_count": null,
   "metadata": {
    "scrolled": false
   },
   "outputs": [],
   "source": [
    "for pu in ['PU0', 'PU200']:\n",
    "    for gen_sel in gen_select[tp]:\n",
    "        hsets, labels, text = hplot.get_histo(histos.HistoSetEff, sample, pu, ['TkEle',], ['EGq5Iso0p1', 'EGq5Iso0p2'], gen_sel)\n",
    "        # drawSeveral([his.hreso.h_ptResVpt for his in hsets], labels,  'COLZ', do_profile=True, text=text)\n",
    "        draw([his.h_eff.h_pt.CreateGraph() for his in hsets], labels, text=text, min_y=0, max_y=1.1, y_axis_label='L1 matched to GEN/GEN', h_lines=[0.95, 1])\n",
    " "
   ]
  },
  {
   "cell_type": "code",
   "execution_count": 51,
   "metadata": {},
   "outputs": [
    {
     "name": "stdout",
     "output_type": "stream",
     "text": [
      "No match found for: pu: PU0, tp: ['L1Trk', 'L1TrkEmu'], tp_sel: all, gen_sel: L1TrkEmu, classtype: python.l1THistos.HistoSetEff\n"
     ]
    },
    {
     "ename": "TypeError",
     "evalue": "'NoneType' object is not iterable",
     "output_type": "error",
     "traceback": [
      "\u001b[0;31m\u001b[0m",
      "\u001b[0;31mTypeError\u001b[0mTraceback (most recent call last)",
      "\u001b[0;32m<ipython-input-51-dc1b8d9506b5>\u001b[0m in \u001b[0;36m<module>\u001b[0;34m()\u001b[0m\n\u001b[1;32m      3\u001b[0m         \u001b[0mhsets\u001b[0m\u001b[0;34m,\u001b[0m \u001b[0mlabels\u001b[0m\u001b[0;34m,\u001b[0m \u001b[0mtext\u001b[0m \u001b[0;34m=\u001b[0m \u001b[0mhplot\u001b[0m\u001b[0;34m.\u001b[0m\u001b[0mget_histo\u001b[0m\u001b[0;34m(\u001b[0m\u001b[0mhistos\u001b[0m\u001b[0;34m.\u001b[0m\u001b[0mHistoSetEff\u001b[0m\u001b[0;34m,\u001b[0m \u001b[0msample\u001b[0m\u001b[0;34m,\u001b[0m \u001b[0mpu\u001b[0m\u001b[0;34m,\u001b[0m \u001b[0;34m[\u001b[0m\u001b[0;34m'L1Trk'\u001b[0m\u001b[0;34m,\u001b[0m \u001b[0;34m'L1TrkEmu'\u001b[0m\u001b[0;34m]\u001b[0m\u001b[0;34m,\u001b[0m \u001b[0;34m'all'\u001b[0m\u001b[0;34m,\u001b[0m \u001b[0mgen_sel\u001b[0m\u001b[0;34m)\u001b[0m\u001b[0;34m\u001b[0m\u001b[0m\n\u001b[1;32m      4\u001b[0m         \u001b[0;31m# drawSeveral([his.hreso.h_ptResVpt for his in hsets], labels,  'COLZ', do_profile=True, text=text)\u001b[0m\u001b[0;34m\u001b[0m\u001b[0;34m\u001b[0m\u001b[0m\n\u001b[0;32m----> 5\u001b[0;31m         \u001b[0mdraw\u001b[0m\u001b[0;34m(\u001b[0m\u001b[0;34m[\u001b[0m\u001b[0mhis\u001b[0m\u001b[0;34m.\u001b[0m\u001b[0mh_eff\u001b[0m\u001b[0;34m.\u001b[0m\u001b[0mh_pt\u001b[0m\u001b[0;34m.\u001b[0m\u001b[0mCreateGraph\u001b[0m\u001b[0;34m(\u001b[0m\u001b[0;34m)\u001b[0m \u001b[0;32mfor\u001b[0m \u001b[0mhis\u001b[0m \u001b[0;32min\u001b[0m \u001b[0mhsets\u001b[0m\u001b[0;34m]\u001b[0m\u001b[0;34m,\u001b[0m \u001b[0mlabels\u001b[0m\u001b[0;34m,\u001b[0m \u001b[0mtext\u001b[0m\u001b[0;34m=\u001b[0m\u001b[0mtext\u001b[0m\u001b[0;34m,\u001b[0m \u001b[0mmin_y\u001b[0m\u001b[0;34m=\u001b[0m\u001b[0;36m0\u001b[0m\u001b[0;34m,\u001b[0m \u001b[0mmax_y\u001b[0m\u001b[0;34m=\u001b[0m\u001b[0;36m1.1\u001b[0m\u001b[0;34m,\u001b[0m \u001b[0my_axis_label\u001b[0m\u001b[0;34m=\u001b[0m\u001b[0;34m'L1 matched to GEN/GEN'\u001b[0m\u001b[0;34m,\u001b[0m \u001b[0mh_lines\u001b[0m\u001b[0;34m=\u001b[0m\u001b[0;34m[\u001b[0m\u001b[0;36m0.95\u001b[0m\u001b[0;34m,\u001b[0m \u001b[0;36m1\u001b[0m\u001b[0;34m]\u001b[0m\u001b[0;34m)\u001b[0m\u001b[0;34m\u001b[0m\u001b[0m\n\u001b[0m\u001b[1;32m      6\u001b[0m \u001b[0;34m\u001b[0m\u001b[0m\n",
      "\u001b[0;31mTypeError\u001b[0m: 'NoneType' object is not iterable"
     ]
    }
   ],
   "source": [
    "for pu in ['PU0']:\n",
    "    for gen_sel in gen_select:\n",
    "        hsets, labels, text = hplot.get_histo(histos.HistoSetEff, sample, pu, ['L1Trk', 'L1TrkEmu'], 'all', gen_sel)\n",
    "        # drawSeveral([his.hreso.h_ptResVpt for his in hsets], labels,  'COLZ', do_profile=True, text=text)\n",
    "        draw([his.h_eff.h_pt.CreateGraph() for his in hsets], labels, text=text, min_y=0, max_y=1.1, y_axis_label='L1 matched to GEN/GEN', h_lines=[0.95, 1])\n",
    " "
   ]
  },
  {
   "cell_type": "code",
   "execution_count": 52,
   "metadata": {},
   "outputs": [
    {
     "name": "stdout",
     "output_type": "stream",
     "text": [
      "No match found for: pu: PU0, tp: ['L1Trk', 'L1TrkEmu'], tp_sel: Pt2, gen_sel: L1TrkEmu, classtype: python.l1THistos.HistoSetEff\n"
     ]
    },
    {
     "ename": "TypeError",
     "evalue": "'NoneType' object is not iterable",
     "output_type": "error",
     "traceback": [
      "\u001b[0;31m\u001b[0m",
      "\u001b[0;31mTypeError\u001b[0mTraceback (most recent call last)",
      "\u001b[0;32m<ipython-input-52-26fd3b6a0058>\u001b[0m in \u001b[0;36m<module>\u001b[0;34m()\u001b[0m\n\u001b[1;32m      3\u001b[0m         \u001b[0mhsets\u001b[0m\u001b[0;34m,\u001b[0m \u001b[0mlabels\u001b[0m\u001b[0;34m,\u001b[0m \u001b[0mtext\u001b[0m \u001b[0;34m=\u001b[0m \u001b[0mhplot\u001b[0m\u001b[0;34m.\u001b[0m\u001b[0mget_histo\u001b[0m\u001b[0;34m(\u001b[0m\u001b[0mhistos\u001b[0m\u001b[0;34m.\u001b[0m\u001b[0mHistoSetEff\u001b[0m\u001b[0;34m,\u001b[0m \u001b[0msample\u001b[0m\u001b[0;34m,\u001b[0m \u001b[0mpu\u001b[0m\u001b[0;34m,\u001b[0m \u001b[0;34m[\u001b[0m\u001b[0;34m'L1Trk'\u001b[0m\u001b[0;34m,\u001b[0m \u001b[0;34m'L1TrkEmu'\u001b[0m\u001b[0;34m]\u001b[0m\u001b[0;34m,\u001b[0m \u001b[0;34m'Pt2'\u001b[0m\u001b[0;34m,\u001b[0m \u001b[0mgen_sel\u001b[0m\u001b[0;34m)\u001b[0m\u001b[0;34m\u001b[0m\u001b[0m\n\u001b[1;32m      4\u001b[0m         \u001b[0;31m# drawSeveral([his.hreso.h_ptResVpt for his in hsets], labels,  'COLZ', do_profile=True, text=text)\u001b[0m\u001b[0;34m\u001b[0m\u001b[0;34m\u001b[0m\u001b[0m\n\u001b[0;32m----> 5\u001b[0;31m         \u001b[0mdraw\u001b[0m\u001b[0;34m(\u001b[0m\u001b[0;34m[\u001b[0m\u001b[0mhis\u001b[0m\u001b[0;34m.\u001b[0m\u001b[0mh_eff\u001b[0m\u001b[0;34m.\u001b[0m\u001b[0mh_pt\u001b[0m\u001b[0;34m.\u001b[0m\u001b[0mCreateGraph\u001b[0m\u001b[0;34m(\u001b[0m\u001b[0;34m)\u001b[0m \u001b[0;32mfor\u001b[0m \u001b[0mhis\u001b[0m \u001b[0;32min\u001b[0m \u001b[0mhsets\u001b[0m\u001b[0;34m]\u001b[0m\u001b[0;34m,\u001b[0m \u001b[0mlabels\u001b[0m\u001b[0;34m,\u001b[0m \u001b[0mtext\u001b[0m\u001b[0;34m=\u001b[0m\u001b[0mtext\u001b[0m\u001b[0;34m,\u001b[0m \u001b[0mmin_y\u001b[0m\u001b[0;34m=\u001b[0m\u001b[0;36m0\u001b[0m\u001b[0;34m,\u001b[0m \u001b[0mmax_y\u001b[0m\u001b[0;34m=\u001b[0m\u001b[0;36m1.1\u001b[0m\u001b[0;34m,\u001b[0m \u001b[0my_axis_label\u001b[0m\u001b[0;34m=\u001b[0m\u001b[0;34m'L1 matched to GEN/GEN'\u001b[0m\u001b[0;34m,\u001b[0m \u001b[0mh_lines\u001b[0m\u001b[0;34m=\u001b[0m\u001b[0;34m[\u001b[0m\u001b[0;36m0.95\u001b[0m\u001b[0;34m,\u001b[0m \u001b[0;36m1\u001b[0m\u001b[0;34m]\u001b[0m\u001b[0;34m)\u001b[0m\u001b[0;34m\u001b[0m\u001b[0m\n\u001b[0m\u001b[1;32m      6\u001b[0m \u001b[0;34m\u001b[0m\u001b[0m\n",
      "\u001b[0;31mTypeError\u001b[0m: 'NoneType' object is not iterable"
     ]
    }
   ],
   "source": [
    "for pu in ['PU0', 'PU200']:\n",
    "    for gen_sel in gen_select:\n",
    "        hsets, labels, text = hplot.get_histo(histos.HistoSetEff, sample, pu, ['L1Trk', 'L1TrkEmu'], 'Pt2', gen_sel)\n",
    "        # drawSeveral([his.hreso.h_ptResVpt for his in hsets], labels,  'COLZ', do_profile=True, text=text)\n",
    "        draw([his.h_eff.h_pt.CreateGraph() for his in hsets], labels, text=text, min_y=0, max_y=1.1, y_axis_label='L1 matched to GEN/GEN', h_lines=[0.95, 1])\n",
    " "
   ]
  },
  {
   "cell_type": "code",
   "execution_count": 53,
   "metadata": {},
   "outputs": [
    {
     "name": "stdout",
     "output_type": "stream",
     "text": [
      "No match found for: pu: PU0, tp: ['L1Trk', 'L1TrkEmu'], tp_sel: Pt10, gen_sel: L1TrkEmu, classtype: python.l1THistos.HistoSetEff\n"
     ]
    },
    {
     "ename": "TypeError",
     "evalue": "'NoneType' object is not iterable",
     "output_type": "error",
     "traceback": [
      "\u001b[0;31m\u001b[0m",
      "\u001b[0;31mTypeError\u001b[0mTraceback (most recent call last)",
      "\u001b[0;32m<ipython-input-53-2d16c94d05ae>\u001b[0m in \u001b[0;36m<module>\u001b[0;34m()\u001b[0m\n\u001b[1;32m      3\u001b[0m         \u001b[0mhsets\u001b[0m\u001b[0;34m,\u001b[0m \u001b[0mlabels\u001b[0m\u001b[0;34m,\u001b[0m \u001b[0mtext\u001b[0m \u001b[0;34m=\u001b[0m \u001b[0mhplot\u001b[0m\u001b[0;34m.\u001b[0m\u001b[0mget_histo\u001b[0m\u001b[0;34m(\u001b[0m\u001b[0mhistos\u001b[0m\u001b[0;34m.\u001b[0m\u001b[0mHistoSetEff\u001b[0m\u001b[0;34m,\u001b[0m \u001b[0msample\u001b[0m\u001b[0;34m,\u001b[0m \u001b[0mpu\u001b[0m\u001b[0;34m,\u001b[0m \u001b[0;34m[\u001b[0m\u001b[0;34m'L1Trk'\u001b[0m\u001b[0;34m,\u001b[0m \u001b[0;34m'L1TrkEmu'\u001b[0m\u001b[0;34m]\u001b[0m\u001b[0;34m,\u001b[0m \u001b[0;34m'Pt10'\u001b[0m\u001b[0;34m,\u001b[0m \u001b[0mgen_sel\u001b[0m\u001b[0;34m)\u001b[0m\u001b[0;34m\u001b[0m\u001b[0m\n\u001b[1;32m      4\u001b[0m         \u001b[0;31m# drawSeveral([his.hreso.h_ptResVpt for his in hsets], labels,  'COLZ', do_profile=True, text=text)\u001b[0m\u001b[0;34m\u001b[0m\u001b[0;34m\u001b[0m\u001b[0m\n\u001b[0;32m----> 5\u001b[0;31m         \u001b[0mdraw\u001b[0m\u001b[0;34m(\u001b[0m\u001b[0;34m[\u001b[0m\u001b[0mhis\u001b[0m\u001b[0;34m.\u001b[0m\u001b[0mh_eff\u001b[0m\u001b[0;34m.\u001b[0m\u001b[0mh_pt\u001b[0m\u001b[0;34m.\u001b[0m\u001b[0mCreateGraph\u001b[0m\u001b[0;34m(\u001b[0m\u001b[0;34m)\u001b[0m \u001b[0;32mfor\u001b[0m \u001b[0mhis\u001b[0m \u001b[0;32min\u001b[0m \u001b[0mhsets\u001b[0m\u001b[0;34m]\u001b[0m\u001b[0;34m,\u001b[0m \u001b[0mlabels\u001b[0m\u001b[0;34m,\u001b[0m \u001b[0mtext\u001b[0m\u001b[0;34m=\u001b[0m\u001b[0mtext\u001b[0m\u001b[0;34m,\u001b[0m \u001b[0mmin_y\u001b[0m\u001b[0;34m=\u001b[0m\u001b[0;36m0\u001b[0m\u001b[0;34m,\u001b[0m \u001b[0mmax_y\u001b[0m\u001b[0;34m=\u001b[0m\u001b[0;36m1.1\u001b[0m\u001b[0;34m,\u001b[0m \u001b[0my_axis_label\u001b[0m\u001b[0;34m=\u001b[0m\u001b[0;34m'L1 matched to GEN/GEN'\u001b[0m\u001b[0;34m,\u001b[0m \u001b[0mh_lines\u001b[0m\u001b[0;34m=\u001b[0m\u001b[0;34m[\u001b[0m\u001b[0;36m0.95\u001b[0m\u001b[0;34m,\u001b[0m \u001b[0;36m1\u001b[0m\u001b[0;34m]\u001b[0m\u001b[0;34m)\u001b[0m\u001b[0;34m\u001b[0m\u001b[0m\n\u001b[0m\u001b[1;32m      6\u001b[0m \u001b[0;34m\u001b[0m\u001b[0m\n",
      "\u001b[0;31mTypeError\u001b[0m: 'NoneType' object is not iterable"
     ]
    }
   ],
   "source": [
    "for pu in ['PU0', 'PU200']:\n",
    "    for gen_sel in gen_select:\n",
    "        hsets, labels, text = hplot.get_histo(histos.HistoSetEff, sample, pu, ['L1Trk', 'L1TrkEmu'], 'Pt10', gen_sel)\n",
    "        # drawSeveral([his.hreso.h_ptResVpt for his in hsets], labels,  'COLZ', do_profile=True, text=text)\n",
    "        draw([his.h_eff.h_pt.CreateGraph() for his in hsets], labels, text=text, min_y=0, max_y=1.1, y_axis_label='L1 matched to GEN/GEN', h_lines=[0.95, 1])\n",
    " "
   ]
  },
  {
   "cell_type": "code",
   "execution_count": 58,
   "metadata": {},
   "outputs": [
    {
     "name": "stdout",
     "output_type": "stream",
     "text": [
      "No match found for: pu: PU0, tp: ['TkEG'], tp_sel: ['EGq2M1P5'], gen_sel: GENEtaBC, classtype: python.l1THistos.HistoSetEff\n"
     ]
    },
    {
     "ename": "TypeError",
     "evalue": "'NoneType' object has no attribute '__getitem__'",
     "output_type": "error",
     "traceback": [
      "\u001b[0;31m\u001b[0m",
      "\u001b[0;31mTypeError\u001b[0mTraceback (most recent call last)",
      "\u001b[0;32m<ipython-input-58-a755c6481dbe>\u001b[0m in \u001b[0;36m<module>\u001b[0;34m()\u001b[0m\n\u001b[1;32m     32\u001b[0m \u001b[0;34m\u001b[0m\u001b[0m\n\u001b[1;32m     33\u001b[0m     \u001b[0mhsets\u001b[0m\u001b[0;34m,\u001b[0m \u001b[0mlabels\u001b[0m\u001b[0;34m,\u001b[0m \u001b[0mtext\u001b[0m \u001b[0;34m=\u001b[0m \u001b[0mhplot\u001b[0m\u001b[0;34m.\u001b[0m\u001b[0mget_histo\u001b[0m\u001b[0;34m(\u001b[0m\u001b[0mhistos\u001b[0m\u001b[0;34m.\u001b[0m\u001b[0mHistoSetEff\u001b[0m\u001b[0;34m,\u001b[0m \u001b[0msample\u001b[0m\u001b[0;34m,\u001b[0m \u001b[0mpu\u001b[0m\u001b[0;34m,\u001b[0m \u001b[0;34m[\u001b[0m\u001b[0;34m'TkEG'\u001b[0m\u001b[0;34m]\u001b[0m\u001b[0;34m,\u001b[0m \u001b[0;34m[\u001b[0m\u001b[0;34m'EGq2M1P5'\u001b[0m\u001b[0;34m]\u001b[0m\u001b[0;34m,\u001b[0m \u001b[0;34m'GENEtaBC'\u001b[0m\u001b[0;34m)\u001b[0m\u001b[0;34m\u001b[0m\u001b[0m\n\u001b[0;32m---> 34\u001b[0;31m     \u001b[0mhsets_new\u001b[0m\u001b[0;34m.\u001b[0m\u001b[0mappend\u001b[0m\u001b[0;34m(\u001b[0m\u001b[0mhsets\u001b[0m\u001b[0;34m[\u001b[0m\u001b[0;36m0\u001b[0m\u001b[0;34m]\u001b[0m\u001b[0;34m)\u001b[0m\u001b[0;34m\u001b[0m\u001b[0m\n\u001b[0m\u001b[1;32m     35\u001b[0m     \u001b[0mlabels_new\u001b[0m\u001b[0;34m.\u001b[0m\u001b[0mappend\u001b[0m\u001b[0;34m(\u001b[0m\u001b[0;34m\"TkEG TkP5\"\u001b[0m\u001b[0;34m)\u001b[0m\u001b[0;34m\u001b[0m\u001b[0m\n\u001b[1;32m     36\u001b[0m \u001b[0;34m\u001b[0m\u001b[0m\n",
      "\u001b[0;31mTypeError\u001b[0m: 'NoneType' object has no attribute '__getitem__'"
     ]
    }
   ],
   "source": [
    "sample = 'ele-V9'\n",
    "for pu in ['PU0', 'PU200']:\n",
    "    hsets_new = []\n",
    "    labels_new = []\n",
    "    hsets, labels, text = hplot.get_histo(histos.HistoSetEff, sample, pu, ['EG'], ['EGq3'], 'GENEtaBC')\n",
    "    hsets_new.append(hsets[0])\n",
    "    labels_new.append(\"EG standalone\")\n",
    "    \n",
    "#     hsets, labels, text = hplot.get_histo(histos.HistoSetEff, sample, pu, ['EG'], ['EGq3Pt20'], 'GENEtaBC')\n",
    "#     hsets_new.append(hsets[0])\n",
    "#     labels_new.append(\"EG Pt>20GeV\")\n",
    "\n",
    "#     hsets, labels, text = hplot.get_histo(histos.HistoSetEff, sample, pu, ['L1Trk'], ['Pt2'], 'GENEtaBC')\n",
    "#     hsets_new.append(hsets[0])\n",
    "#     labels_new.append(\"L1Trk p_{T}>2GeV\")\n",
    "\n",
    "#     hsets, labels, text = hplot.get_histo(histos.HistoSetEff, sample, pu, ['L1Trk'], ['Pt10'], 'GENEtaBC')\n",
    "#     hsets_new.append(hsets[0])\n",
    "#     labels_new.append(\"L1Trk p_{T}>10GeV\")\n",
    "\n",
    "    hsets, labels, text = hplot.get_histo(histos.HistoSetEff, sample, pu, ['TkEle'], ['EGq3'], 'GENEtaBC')\n",
    "    hsets_new.append(hsets[0])\n",
    "    labels_new.append(\"TkEle\")\n",
    "\n",
    "#     hsets, labels, text = hplot.get_histo(histos.HistoSetEff, sample, pu, ['TkEle'], ['EGq3'], 'GENEtaBC')\n",
    "#     hsets_new.append(hsets[0])\n",
    "#     labels_new.append(\"TkEle\")\n",
    "\n",
    "#     hsets, labels, text = hplot.get_histo(histos.HistoSetEff, sample, pu, ['TkEG'], ['EGq2M1P10'], 'GENEtaBC')\n",
    "#     hsets_new.append(hsets[0])\n",
    "#     labels_new.append(\"TkEG\")\n",
    "\n",
    "    hsets, labels, text = hplot.get_histo(histos.HistoSetEff, sample, pu, ['TkEG'], ['EGq2M1P5'], 'GENEtaBC')\n",
    "    hsets_new.append(hsets[0])\n",
    "    labels_new.append(\"TkEG TkP5\")\n",
    "\n",
    "#     hsets, labels, text = hplot.get_histo(histos.HistoSetEff, sample, pu, ['TkEG'], ['EGq2M1P2'], 'GENEtaBC')\n",
    "#     hsets_new.append(hsets[0])\n",
    "#     labels_new.append(\"TkEG TkP2\")\n",
    "\n",
    "    text = '{}, HWQual==3, 1.52<|{}|<=2.4'.format(pu, '#eta^{GEN}')\n",
    "    # drawSeveral([his.hreso.h_ptResVpt for his in hsets], labels,  'COLZ', do_profile=True, text=text)\n",
    "    draw([his.h_eff.h_pt.CreateGraph() for his in hsets_new], labels_new, text=text, min_y=0.55, max_y=1.1, y_axis_label='L1 matched to GEN/GEN', h_lines=[0.95, 1])\n"
   ]
  },
  {
   "cell_type": "code",
   "execution_count": 55,
   "metadata": {},
   "outputs": [
    {
     "name": "stdout",
     "output_type": "stream",
     "text": [
      "No match found for: pu: PU0, tp: ['TkEG'], tp_sel: ['EGq3M1P10', 'EGq3M1P5', 'EGq3M1P2'], gen_sel: GENEtaBC, classtype: python.l1THistos.HistoSetEff\n"
     ]
    },
    {
     "ename": "TypeError",
     "evalue": "'NoneType' object has no attribute '__getitem__'",
     "output_type": "error",
     "traceback": [
      "\u001b[0;31m\u001b[0m",
      "\u001b[0;31mTypeError\u001b[0mTraceback (most recent call last)",
      "\u001b[0;32m<ipython-input-55-7c15b95229cf>\u001b[0m in \u001b[0;36m<module>\u001b[0;34m()\u001b[0m\n\u001b[1;32m      4\u001b[0m \u001b[0;34m\u001b[0m\u001b[0m\n\u001b[1;32m      5\u001b[0m     \u001b[0mhsets\u001b[0m\u001b[0;34m,\u001b[0m \u001b[0mlabels\u001b[0m\u001b[0;34m,\u001b[0m \u001b[0mtext\u001b[0m \u001b[0;34m=\u001b[0m \u001b[0mhplot\u001b[0m\u001b[0;34m.\u001b[0m\u001b[0mget_histo\u001b[0m\u001b[0;34m(\u001b[0m\u001b[0mhistos\u001b[0m\u001b[0;34m.\u001b[0m\u001b[0mHistoSetEff\u001b[0m\u001b[0;34m,\u001b[0m \u001b[0msample\u001b[0m\u001b[0;34m,\u001b[0m \u001b[0mpu\u001b[0m\u001b[0;34m,\u001b[0m \u001b[0;34m[\u001b[0m\u001b[0;34m'TkEG'\u001b[0m\u001b[0;34m]\u001b[0m\u001b[0;34m,\u001b[0m \u001b[0;34m[\u001b[0m\u001b[0;34m'EGq3M1P10'\u001b[0m\u001b[0;34m,\u001b[0m \u001b[0;34m'EGq3M1P5'\u001b[0m\u001b[0;34m,\u001b[0m \u001b[0;34m'EGq3M1P2'\u001b[0m\u001b[0;34m]\u001b[0m\u001b[0;34m,\u001b[0m \u001b[0;34m'GENEtaBC'\u001b[0m\u001b[0;34m)\u001b[0m\u001b[0;34m\u001b[0m\u001b[0m\n\u001b[0;32m----> 6\u001b[0;31m     \u001b[0mhsets_new\u001b[0m\u001b[0;34m.\u001b[0m\u001b[0mappend\u001b[0m\u001b[0;34m(\u001b[0m\u001b[0mhsets\u001b[0m\u001b[0;34m[\u001b[0m\u001b[0;36m2\u001b[0m\u001b[0;34m]\u001b[0m\u001b[0;34m)\u001b[0m\u001b[0;34m\u001b[0m\u001b[0m\n\u001b[0m\u001b[1;32m      7\u001b[0m     \u001b[0mlabels_new\u001b[0m\u001b[0;34m.\u001b[0m\u001b[0mappend\u001b[0m\u001b[0;34m(\u001b[0m\u001b[0;34m'p_{T}^{track}>10GeV'\u001b[0m\u001b[0;34m)\u001b[0m\u001b[0;34m\u001b[0m\u001b[0m\n\u001b[1;32m      8\u001b[0m     \u001b[0mhsets_new\u001b[0m\u001b[0;34m.\u001b[0m\u001b[0mappend\u001b[0m\u001b[0;34m(\u001b[0m\u001b[0mhsets\u001b[0m\u001b[0;34m[\u001b[0m\u001b[0;36m1\u001b[0m\u001b[0;34m]\u001b[0m\u001b[0;34m)\u001b[0m\u001b[0;34m\u001b[0m\u001b[0m\n",
      "\u001b[0;31mTypeError\u001b[0m: 'NoneType' object has no attribute '__getitem__'"
     ]
    }
   ],
   "source": [
    "for pu in ['PU0', 'PU200']:\n",
    "    hsets_new = []\n",
    "    labels_new = []\n",
    "\n",
    "    hsets, labels, text = hplot.get_histo(histos.HistoSetEff, sample, pu, ['TkEG'], ['EGq3M1P10', 'EGq3M1P5', 'EGq3M1P2'], 'GENEtaBC')\n",
    "    hsets_new.append(hsets[2])\n",
    "    labels_new.append('p_{T}^{track}>10GeV')\n",
    "    hsets_new.append(hsets[1])\n",
    "    labels_new.append('p_{T}^{track}>5GeV')\n",
    "\n",
    "    hsets_new.append(hsets[0])\n",
    "    labels_new.append('p_{T}^{track}>2GeV')\n",
    "\n",
    "    #     labels_new.append(\"TkEG\")\n",
    "\n",
    "#     hsets, labels, text = hplot.get_histo(histos.HistoSetEff, sample, pu, ['TkEG'], ['EGq2M1P5'], 'GENEtaBC')\n",
    "#     hsets_new.append(hsets[0])\n",
    "#     labels_new.append(\"TkEG TkP5\")\n",
    "\n",
    "#     hsets, labels, text = hplot.get_histo(histos.HistoSetEff, sample, pu, ['TkEG'], ['EGq2M1P2'], 'GENEtaBC')\n",
    "#     hsets_new.append(hsets[0])\n",
    "#     labels_new.append(\"TkEG TkP2\")\n",
    "\n",
    "    \n",
    "    # drawSeveral([his.hreso.h_ptResVpt for his in hsets], labels,  'COLZ', do_profile=True, text=text)\n",
    "    draw([his.h_eff.h_pt.CreateGraph() for his in hsets_new], labels_new, text=text, min_y=0.7, max_y=1.1, y_axis_label='L1 matched to GEN/GEN', h_lines=[0.95, 1])\n"
   ]
  },
  {
   "cell_type": "code",
   "execution_count": 56,
   "metadata": {},
   "outputs": [
    {
     "name": "stdout",
     "output_type": "stream",
     "text": [
      "No match found for: pu: PU0, tp: ['TkEG'], tp_sel: ['EGq2M1P10', 'EGq2M1P5S', 'EGq2M1P2S'], gen_sel: GENEtaBC, classtype: python.l1THistos.HistoSetEff\n"
     ]
    },
    {
     "ename": "TypeError",
     "evalue": "'NoneType' object is not iterable",
     "output_type": "error",
     "traceback": [
      "\u001b[0;31m\u001b[0m",
      "\u001b[0;31mTypeError\u001b[0mTraceback (most recent call last)",
      "\u001b[0;32m<ipython-input-56-9d018d3b55e9>\u001b[0m in \u001b[0;36m<module>\u001b[0;34m()\u001b[0m\n\u001b[1;32m     18\u001b[0m \u001b[0;34m\u001b[0m\u001b[0m\n\u001b[1;32m     19\u001b[0m     \u001b[0;31m# drawSeveral([his.hreso.h_ptResVpt for his in hsets], labels,  'COLZ', do_profile=True, text=text)\u001b[0m\u001b[0;34m\u001b[0m\u001b[0;34m\u001b[0m\u001b[0m\n\u001b[0;32m---> 20\u001b[0;31m     \u001b[0mdraw\u001b[0m\u001b[0;34m(\u001b[0m\u001b[0;34m[\u001b[0m\u001b[0mhis\u001b[0m\u001b[0;34m.\u001b[0m\u001b[0mh_eff\u001b[0m\u001b[0;34m.\u001b[0m\u001b[0mh_pt\u001b[0m\u001b[0;34m.\u001b[0m\u001b[0mCreateGraph\u001b[0m\u001b[0;34m(\u001b[0m\u001b[0;34m)\u001b[0m \u001b[0;32mfor\u001b[0m \u001b[0mhis\u001b[0m \u001b[0;32min\u001b[0m \u001b[0mhsets\u001b[0m\u001b[0;34m]\u001b[0m\u001b[0;34m,\u001b[0m \u001b[0mlabels\u001b[0m\u001b[0;34m,\u001b[0m \u001b[0mtext\u001b[0m\u001b[0;34m=\u001b[0m\u001b[0mtext\u001b[0m\u001b[0;34m,\u001b[0m \u001b[0mmin_y\u001b[0m\u001b[0;34m=\u001b[0m\u001b[0;36m0.7\u001b[0m\u001b[0;34m,\u001b[0m \u001b[0mmax_y\u001b[0m\u001b[0;34m=\u001b[0m\u001b[0;36m1.1\u001b[0m\u001b[0;34m,\u001b[0m \u001b[0my_axis_label\u001b[0m\u001b[0;34m=\u001b[0m\u001b[0;34m'L1 matched to GEN/GEN'\u001b[0m\u001b[0;34m,\u001b[0m \u001b[0mh_lines\u001b[0m\u001b[0;34m=\u001b[0m\u001b[0;34m[\u001b[0m\u001b[0;36m0.95\u001b[0m\u001b[0;34m,\u001b[0m \u001b[0;36m1\u001b[0m\u001b[0;34m]\u001b[0m\u001b[0;34m)\u001b[0m\u001b[0;34m\u001b[0m\u001b[0m\n\u001b[0m",
      "\u001b[0;31mTypeError\u001b[0m: 'NoneType' object is not iterable"
     ]
    }
   ],
   "source": [
    "sample = 'V8'\n",
    "for pu in ['PU0', 'PU200']:\n",
    "    hsets_new = []\n",
    "    labels_new = []\n",
    "\n",
    "    hsets, labels, text = hplot.get_histo(histos.HistoSetEff, sample, pu, ['TkEG'], ['EGq2M1P10', 'EGq2M1P5S', 'EGq2M1P2S'], 'GENEtaBC')\n",
    "#     hsets_new.append(hsets[0])\n",
    "#     labels_new.append(\"TkEG\")\n",
    "\n",
    "#     hsets, labels, text = hplot.get_histo(histos.HistoSetEff, sample, pu, ['TkEG'], ['EGq2M1P5'], 'GENEtaBC')\n",
    "#     hsets_new.append(hsets[0])\n",
    "#     labels_new.append(\"TkEG TkP5\")\n",
    "\n",
    "#     hsets, labels, text = hplot.get_histo(histos.HistoSetEff, sample, pu, ['TkEG'], ['EGq2M1P2'], 'GENEtaBC')\n",
    "#     hsets_new.append(hsets[0])\n",
    "#     labels_new.append(\"TkEG TkP2\")\n",
    "\n",
    "    \n",
    "    # drawSeveral([his.hreso.h_ptResVpt for his in hsets], labels,  'COLZ', do_profile=True, text=text)\n",
    "    draw([his.h_eff.h_pt.CreateGraph() for his in hsets], labels, text=text, min_y=0.7, max_y=1.1, y_axis_label='L1 matched to GEN/GEN', h_lines=[0.95, 1])\n"
   ]
  },
  {
   "cell_type": "markdown",
   "metadata": {},
   "source": [
    "## Efficiency vs fBrem"
   ]
  },
  {
   "cell_type": "code",
   "execution_count": 57,
   "metadata": {},
   "outputs": [
    {
     "ename": "AttributeError",
     "evalue": "HistoEff instance has no attribute 'h_fBrem'",
     "output_type": "error",
     "traceback": [
      "\u001b[0;31m\u001b[0m",
      "\u001b[0;31mAttributeError\u001b[0mTraceback (most recent call last)",
      "\u001b[0;32m<ipython-input-57-ce13c33cde2b>\u001b[0m in \u001b[0;36m<module>\u001b[0;34m()\u001b[0m\n\u001b[1;32m     37\u001b[0m \u001b[0;34m\u001b[0m\u001b[0m\n\u001b[1;32m     38\u001b[0m     \u001b[0;31m# drawSeveral([his.hreso.h_ptResVpt for his in hsets], labels,  'COLZ', do_profile=True, text=text)\u001b[0m\u001b[0;34m\u001b[0m\u001b[0;34m\u001b[0m\u001b[0m\n\u001b[0;32m---> 39\u001b[0;31m     \u001b[0mdraw\u001b[0m\u001b[0;34m(\u001b[0m\u001b[0;34m[\u001b[0m\u001b[0mhis\u001b[0m\u001b[0;34m.\u001b[0m\u001b[0mh_eff\u001b[0m\u001b[0;34m.\u001b[0m\u001b[0mh_fBrem\u001b[0m\u001b[0;34m.\u001b[0m\u001b[0mCreateGraph\u001b[0m\u001b[0;34m(\u001b[0m\u001b[0;34m)\u001b[0m \u001b[0;32mfor\u001b[0m \u001b[0mhis\u001b[0m \u001b[0;32min\u001b[0m \u001b[0mhsets_new\u001b[0m\u001b[0;34m]\u001b[0m\u001b[0;34m,\u001b[0m \u001b[0mlabels_new\u001b[0m\u001b[0;34m,\u001b[0m \u001b[0mtext\u001b[0m\u001b[0;34m=\u001b[0m\u001b[0mtext\u001b[0m\u001b[0;34m,\u001b[0m \u001b[0mmin_y\u001b[0m\u001b[0;34m=\u001b[0m\u001b[0;36m0.75\u001b[0m\u001b[0;34m,\u001b[0m \u001b[0mmax_y\u001b[0m\u001b[0;34m=\u001b[0m\u001b[0;36m1.02\u001b[0m\u001b[0;34m,\u001b[0m \u001b[0my_axis_label\u001b[0m\u001b[0;34m=\u001b[0m\u001b[0;34m'L1 matched to GEN/GEN'\u001b[0m\u001b[0;34m,\u001b[0m \u001b[0mh_lines\u001b[0m\u001b[0;34m=\u001b[0m\u001b[0;34m[\u001b[0m\u001b[0;36m0.95\u001b[0m\u001b[0;34m,\u001b[0m \u001b[0;36m1\u001b[0m\u001b[0;34m]\u001b[0m\u001b[0;34m)\u001b[0m\u001b[0;34m\u001b[0m\u001b[0m\n\u001b[0m",
      "\u001b[0;31mAttributeError\u001b[0m: HistoEff instance has no attribute 'h_fBrem'"
     ]
    }
   ],
   "source": [
    "sample = 'ele-V9'\n",
    "for pu in ['PU0', 'PU200']:\n",
    "    hsets_new = []\n",
    "    labels_new = []\n",
    "#     hsets, labels, text = hplot.get_histo(histos.HistoSetEff, sample, pu, ['EG'], ['EGq3'], 'GENEtaBC')\n",
    "# #     hsets[0].SetMarkerStyle(7)\n",
    "#     hsets_new.append(hsets[0])\n",
    "#     labels_new.append(\"EG standalone\")\n",
    "    \n",
    "#     hsets, labels, text = hplot.get_histo(histos.HistoSetEff, sample, pu, ['EG'], ['EGq3Pt20'], 'GENEtaBC')\n",
    "#     hsets_new.append(hsets[0])\n",
    "#     labels_new.append(\"EG Pt>20GeV\")\n",
    "\n",
    "    hsets, labels, text = hplot.get_histo(histos.HistoSetEff, sample, pu, ['L1Trk'], ['St4Pt2'], 'GENEtaBC')\n",
    "    hsets_new.append(hsets[0])\n",
    "    labels_new.append(\"L1Trk #stubs > 3\")\n",
    "\n",
    "#     hsets, labels, text = hplot.get_histo(histos.HistoSetEff, sample, pu, ['L1Trk'], ['St4Pt10'], 'GENEtaBC')\n",
    "#     hsets_new.append(hsets[0])\n",
    "#     labels_new.append(\"L1Trk p_{T}>10GeV\")\n",
    "\n",
    "    hsets, labels, text = hplot.get_histo(histos.HistoSetEff, sample, pu, ['L1TrkEmu'], ['Pt2'], 'GENEtaBC')\n",
    "    hsets_new.append(hsets[0])\n",
    "    labels_new.append(\"L1Trk EMU\")\n",
    "\n",
    "#     hsets, labels, text = hplot.get_histo(histos.HistoSetEff, sample, pu, ['L1TrkEmu'], ['Pt10'], 'GENEtaBC')\n",
    "#     hsets_new.append(hsets[0])\n",
    "#     labels_new.append(\"L1Trk p_{T}>10GeV\")\n",
    "\n",
    "    \n",
    "    \n",
    "#     hsets, labels, text = hplot.get_histo(histos.HistoSetEff, sample, pu, ['TkEle'], ['EGq3'], 'GENEtaBC')\n",
    "#     hsets_new.append(hsets[0])\n",
    "#     labels_new.append(\"TkEle\")\n",
    "\n",
    "\n",
    "    \n",
    "    # drawSeveral([his.hreso.h_ptResVpt for his in hsets], labels,  'COLZ', do_profile=True, text=text)\n",
    "    draw([his.h_eff.h_fBrem.CreateGraph() for his in hsets_new], labels_new, text=text, min_y=0.75, max_y=1.02, y_axis_label='L1 matched to GEN/GEN', h_lines=[0.95, 1])\n"
   ]
  },
  {
   "cell_type": "code",
   "execution_count": null,
   "metadata": {},
   "outputs": [],
   "source": [
    "sample = 'ele-V9'\n",
    "for pu in ['PU0', 'PU200']:\n",
    "    hsets_new = []\n",
    "    labels_new = []\n",
    "#     hsets, labels, text = hplot.get_histo(histos.HistoSetEff, sample, pu, ['EG'], ['EGq3'], 'GENEtaBC')\n",
    "# #     hsets[0].SetMarkerStyle(7)\n",
    "#     hsets_new.append(hsets[0])\n",
    "#     labels_new.append(\"EG standalone\")\n",
    "    \n",
    "#     hsets, labels, text = hplot.get_histo(histos.HistoSetEff, sample, pu, ['EG'], ['EGq3Pt20'], 'GENEtaBC')\n",
    "#     hsets_new.append(hsets[0])\n",
    "#     labels_new.append(\"EG Pt>20GeV\")\n",
    "\n",
    "    hsets, labels, text = hplot.get_histo(histos.HistoSetEff, sample, pu, ['L1TrkEmu'], ['Pt2'], 'GENEtaBC')\n",
    "    hsets_new.append(hsets[0])\n",
    "    labels_new.append(\"L1Trk p_{T}>2GeV\")\n",
    "\n",
    "    hsets, labels, text = hplot.get_histo(histos.HistoSetEff, sample, pu, ['L1TrkEmu'], ['Pt10'], 'GENEtaBC')\n",
    "    hsets_new.append(hsets[0])\n",
    "    labels_new.append(\"L1Trk p_{T}>10GeV\")\n",
    "\n",
    "    hsets, labels, text = hplot.get_histo(histos.HistoSetEff, sample, pu, ['TkEle'], ['EGq3'], 'GENEtaBC')\n",
    "    hsets_new.append(hsets[0])\n",
    "    labels_new.append(\"TkEle\")\n",
    "\n",
    "    hsets, labels, text = hplot.get_histo(histos.HistoSetEff, sample, pu, ['TkEG'], ['EGq3M1P10'], 'GENEtaBC')\n",
    "    hsets_new.append(hsets[0])\n",
    "    labels_new.append(\"TkEle\")\n",
    "\n",
    "\n",
    "    \n",
    "    # drawSeveral([his.hreso.h_ptResVpt for his in hsets], labels,  'COLZ', do_profile=True, text=text)\n",
    "    draw([his.h_eff.h_fBrem.CreateGraph() for his in hsets_new], labels_new, text=text, min_y=0.75, max_y=1.02, y_axis_label='L1 matched to GEN/GEN', h_lines=[0.95, 1])\n"
   ]
  },
  {
   "cell_type": "code",
   "execution_count": 31,
   "metadata": {},
   "outputs": [
    {
     "data": {
      "text/plain": [
       "'ele-V9'"
      ]
     },
     "execution_count": 31,
     "metadata": {},
     "output_type": "execute_result"
    }
   ],
   "source": [
    "sample"
   ]
  },
  {
   "cell_type": "code",
   "execution_count": 97,
   "metadata": {
    "scrolled": false
   },
   "outputs": [
    {
     "name": "stdout",
     "output_type": "stream",
     "text": [
      "['__doc__', '__init__', '__module__', 'h_abseta', 'h_energy', 'h_eta', 'h_fBrem', 'h_pt', 'h_reachedEE']\n",
      "['']\n"
     ]
    },
    {
     "data": {
      "text/plain": [
       "<__main__.DrawMachine at 0x11cc4c150>"
      ]
     },
     "execution_count": 97,
     "metadata": {},
     "output_type": "execute_result"
    },
    {
     "name": "stderr",
     "output_type": "stream",
     "text": [
      "Info in <TCanvas::Print>: pdf file figs/egammaEndcap_EG_EGq5Pt25_GENEtaBC_hEffvPt.pdf has been created\n",
      "Info in <TCanvas::Print>: pdf file figs/egammaEndcap_EG_EGq5Pt25_GENEtaDE_hEffvPt.pdf has been created\n"
     ]
    },
    {
     "data": {
      "text/html": [
       "\n",
       "<div id=\"root_plot_42\"\n",
       "     style=\"width: 596px; height: 572px\">\n",
       "</div>\n",
       "\n",
       "<script>\n",
       " requirejs.config({\n",
       "     paths: {\n",
       "       'JSRootCore' : 'https://root.cern.ch/js/notebook//scripts/JSRootCore',\n",
       "     }\n",
       "   });\n",
       " require(['JSRootCore'],\n",
       "     function(Core) {\n",
       "       var obj = Core.JSONR_unref({\"_typename\":\"TCanvas\",\"fUniqueID\":0,\"fBits\":53673992,\"fLineColor\":1,\"fLineStyle\":1,\"fLineWidth\":1,\"fFillColor\":0,\"fFillStyle\":1001,\"fLeftMargin\":0.13,\"fRightMargin\":0.13,\"fBottomMargin\":0.13,\"fTopMargin\":0.1,\"fXfile\":2,\"fYfile\":2,\"fAfile\":1,\"fXstat\":0.99,\"fYstat\":0.99,\"fAstat\":2,\"fFrameFillColor\":0,\"fFrameLineColor\":1,\"fFrameFillStyle\":1001,\"fFrameLineStyle\":1,\"fFrameLineWidth\":1,\"fFrameBorderSize\":1,\"fFrameBorderMode\":0,\"fX1\":-19.2891882330767,\"fY1\":-0.185714283502611,\"fX2\":129.089188233077,\"fY2\":1.24285714852456,\"fXtoAbsPixelk\":77.4800471580505,\"fXtoPixelk\":77.4800471580505,\"fXtoPixel\":4.01675779311383,\"fYtoAbsPixelk\":497.640051065433,\"fYtoPixelk\":497.640051065433,\"fYtoPixel\":-400.399999031424,\"fUtoAbsPixelk\":5e-5,\"fUtoPixelk\":5e-5,\"fUtoPixel\":596,\"fVtoAbsPixelk\":572.00005,\"fVtoPixelk\":572,\"fVtoPixel\":-572,\"fAbsPixeltoXk\":-19.2891882330767,\"fPixeltoXk\":-19.2891882330767,\"fPixeltoX\":0.248957007493546,\"fAbsPixeltoYk\":1.24285714852456,\"fPixeltoYk\":-0.185714283502611,\"fPixeltoY\":-0.00249750250354401,\"fXlowNDC\":0,\"fYlowNDC\":0,\"fXUpNDC\":0,\"fYUpNDC\":0,\"fWNDC\":1,\"fHNDC\":1,\"fAbsXlowNDC\":0,\"fAbsYlowNDC\":0,\"fAbsWNDC\":1,\"fAbsHNDC\":1,\"fUxmin\":0,\"fUymin\":0,\"fUxmax\":109.8,\"fUymax\":1.1,\"fTheta\":30,\"fPhi\":30,\"fAspectRatio\":0,\"fNumber\":0,\"fTickx\":0,\"fTicky\":0,\"fLogx\":0,\"fLogy\":0,\"fLogz\":0,\"fPadPaint\":0,\"fCrosshair\":0,\"fCrosshairPos\":0,\"fBorderSize\":2,\"fBorderMode\":0,\"fModified\":false,\"fGridx\":false,\"fGridy\":false,\"fAbsCoord\":false,\"fEditable\":true,\"fFixedAspectRatio\":false,\"fPrimitives\":{\"_typename\":\"TList\",\"name\":\"TList\",\"arr\":[{\"_typename\":\"TFrame\",\"fUniqueID\":0,\"fBits\":50331656,\"fLineColor\":1,\"fLineStyle\":1,\"fLineWidth\":1,\"fFillColor\":0,\"fFillStyle\":1001,\"fX1\":0,\"fY1\":0,\"fX2\":109.8,\"fY2\":1.1,\"fBorderSize\":1,\"fBorderMode\":0},{\"_typename\":\"TGraphAsymmErrors\",\"fUniqueID\":0,\"fBits\":50332680,\"fName\":\"aab10c\",\"fTitle\":\"; p_{T}^{GEN} [GeV];\",\"fLineColor\":1,\"fLineStyle\":1,\"fLineWidth\":1,\"fFillColor\":0,\"fFillStyle\":1001,\"fMarkerColor\":1,\"fMarkerStyle\":8,\"fMarkerSize\":0.5,\"fNpoints\":49,\"fX\":[3,5,7,9,11,13,15,17,19,21,23,25,27,29,31,33,35,37,39,41,43,45,47,49,51,53,55,57,59,61,63,65,67,69,71,73,75,77,79,81,83,85,87,89,91,93,95,97,99],\"fY\":[0,0,0,0,0,0,0,0,0,0.00738007380073801,0.0378378378378378,0.231182795698925,0.589453860640301,0.810035842293907,0.853571428571429,0.922155688622755,0.92894280762565,0.960884353741497,0.973544973544973,0.981308411214953,0.981412639405205,0.983228511530398,0.991103202846975,0.988826815642458,0.988054607508532,0.994047619047619,0.981308411214953,0.987432675044883,0.986538461538462,0.994690265486726,0.993031358885017,0.992438563327032,0.988505747126437,0.99250936329588,0.992700729927007,0.992687385740402,0.987762237762238,0.992700729927007,0.990421455938697,0.988394584139265,0.99469964664311,0.990476190476191,0.988785046728972,0.991212653778559,0.994495412844037,0.990366088631985,0.987544483985765,0.994219653179191,0.996031746031746],\"fFunctions\":{\"_typename\":\"TList\",\"name\":\"TList\",\"arr\":[],\"opt\":[]},\"fHistogram\":{\"_typename\":\"TH1F\",\"fUniqueID\":0,\"fBits\":50332160,\"fName\":\"aab10c\",\"fTitle\":\"\",\"fLineColor\":602,\"fLineStyle\":1,\"fLineWidth\":1,\"fFillColor\":0,\"fFillStyle\":1001,\"fMarkerColor\":1,\"fMarkerStyle\":1,\"fMarkerSize\":1,\"fNcells\":102,\"fXaxis\":{\"_typename\":\"TAxis\",\"fUniqueID\":0,\"fBits\":50331656,\"fName\":\"xaxis\",\"fTitle\":\" p_{T}^{GEN} [GeV]\",\"fNdivisions\":510,\"fAxisColor\":1,\"fLabelColor\":1,\"fLabelFont\":42,\"fLabelOffset\":0.005,\"fLabelSize\":0.035,\"fTickLength\":0.03,\"fTitleOffset\":1.4,\"fTitleSize\":0.035,\"fTitleColor\":1,\"fTitleFont\":42,\"fNbins\":100,\"fXmin\":0,\"fXmax\":109.8,\"fXbins\":[],\"fFirst\":0,\"fLast\":0,\"fBits2\":0,\"fTimeDisplay\":false,\"fTimeFormat\":\"\",\"fLabels\":null,\"fModLabs\":null},\"fYaxis\":{\"_typename\":\"TAxis\",\"fUniqueID\":0,\"fBits\":50331656,\"fName\":\"yaxis\",\"fTitle\":\"efficiency\",\"fNdivisions\":510,\"fAxisColor\":1,\"fLabelColor\":1,\"fLabelFont\":42,\"fLabelOffset\":0.005,\"fLabelSize\":0.035,\"fTickLength\":0.03,\"fTitleOffset\":0,\"fTitleSize\":0.035,\"fTitleColor\":1,\"fTitleFont\":42,\"fNbins\":1,\"fXmin\":0,\"fXmax\":1.09845390889711,\"fXbins\":[],\"fFirst\":0,\"fLast\":0,\"fBits2\":0,\"fTimeDisplay\":false,\"fTimeFormat\":\"\",\"fLabels\":null,\"fModLabs\":null},\"fZaxis\":{\"_typename\":\"TAxis\",\"fUniqueID\":0,\"fBits\":50331648,\"fName\":\"zaxis\",\"fTitle\":\"\",\"fNdivisions\":510,\"fAxisColor\":1,\"fLabelColor\":1,\"fLabelFont\":42,\"fLabelOffset\":0.005,\"fLabelSize\":0.035,\"fTickLength\":0.03,\"fTitleOffset\":1,\"fTitleSize\":0.035,\"fTitleColor\":1,\"fTitleFont\":42,\"fNbins\":1,\"fXmin\":0,\"fXmax\":1,\"fXbins\":[],\"fFirst\":0,\"fLast\":0,\"fBits2\":0,\"fTimeDisplay\":false,\"fTimeFormat\":\"\",\"fLabels\":null,\"fModLabs\":null},\"fBarOffset\":0,\"fBarWidth\":1000,\"fEntries\":0,\"fTsumw\":0,\"fTsumw2\":0,\"fTsumwx\":0,\"fTsumwx2\":0,\"fMaximum\":1.1,\"fMinimum\":0,\"fNormFactor\":0,\"fContour\":[],\"fSumw2\":[],\"fOption\":\"\",\"fFunctions\":{\"_typename\":\"TList\",\"name\":\"TList\",\"arr\":[],\"opt\":[]},\"fBufferSize\":0,\"fBuffer\":[],\"fBinStatErrOpt\":0,\"fStatOverflows\":2,\"fArray\":[0,0,0,0,0,0,0,0,0,0,0,0,0,0,0,0,0,0,0,0,0,0,0,0,0,0,0,0,0,0,0,0,0,0,0,0,0,0,0,0,0,0,0,0,0,0,0,0,0,0,0,0,0,0,0,0,0,0,0,0,0,0,0,0,0,0,0,0,0,0,0,0,0,0,0,0,0,0,0,0,0,0,0,0,0,0,0,0,0,0,0,0,0,0,0,0,0,0,0,0,0,0]},\"fMinimum\":-1111,\"fMaximum\":-1111,\"fEXlow\":[1,1,1,1,1,1,1,1,1,1,1,1,1,1,1,1,1,1,1,1,1,1,1,1,1,1,1,1,1,1,1,1,1,1,1,1,1,1,1,1,1,1,1,1,1,1,1,1,1],\"fEXhigh\":[1,1,1,1,1,1,1,1,1,1,1,1,1,1,1,1,1,1,1,1,1,1,1,1,1,1,1,1,1,1,1,1,1,1,1,1,1,1,1,1,1,1,1,1,1,1,1,1,1],\"fEYlow\":[0,0,0,0,0,0,0,0,0,0.00352873568893718,0.00809469852593761,0.0182246528043328,0.0224439261700444,0.0180768988004381,0.0164947303965466,0.0138854804233322,0.0123713782454677,0.00972871349047788,0.00859120530862012,0.00786912442989385,0.00782583579268781,0.00816710092935524,0.0059737590267116,0.00661389528310796,0.0063747814902555,0.00575608311035847,0.00786912442989385,0.00670344134240519,0.00717542559331075,0.00513789903212891,0.00547565985798459,0.00593828300205068,0.00680218917037967,0.00588305617639773,0.00573374703559981,0.00574416019065893,0.00652932408003815,0.00573374703559981,0.00642781693138983,0.00686735890781165,0.00512886911367827,0.00639138201668865,0.00663839665185484,0.00590081330917869,0.0053254181353003,0.00646466960444314,0.00664437962969699,0.00559067497121168,0.0052097913759015],\"fEYhigh\":[0.00323598815799914,0.00347414329597734,0.00333566138424641,0.0033600127640479,0.00319665655273388,0.00382017233222616,0.00346108068132723,0.00340979796341216,0.00340979796341216,0.00579679848644022,0.00994359012485641,0.019235422831664,0.0220925512282341,0.0169069664268279,0.0151579290572068,0.0120618066890014,0.0107656774079545,0.0079959307060008,0.00670413836519679,0.00578508327678007,0.00575296716111129,0.00578328504273973,0.00383763411696214,0.0044232029311766,0.0043950187236933,0.00323778639817562,0.00578508327678007,0.0046232812056034,0.00495137855572059,0.00288838484084541,0.00333218359763821,0.00361537098487752,0.00455004815934623,0.00358155099289759,0.00349013525328912,0.00349650990708239,0.00450233162526059,0.00349013525328912,0.00413127236781774,0.00459396218123065,0.00288328408766059,0.00410769969703229,0.00443970548563011,0.0037904862517889,0.00299432883481188,0.00415511714886663,0.00458224906380356,0.00314425678130226,0.00256271660198815]},{\"_typename\":\"TLatex\",\"fUniqueID\":0,\"fBits\":50348040,\"fName\":\"\",\"fTitle\":\"EG endcap, 1.52 < |#eta^{GEN}| #leq 2.4, p_{T}^{L1} #geq 25GeV\",\"fTextAngle\":0,\"fTextSize\":0.03,\"fTextAlign\":11,\"fTextColor\":1,\"fTextFont\":62,\"fX\":0.15,\"fY\":0.85,\"fLineColor\":1,\"fLineStyle\":1,\"fLineWidth\":2,\"fLimitFactorSize\":3,\"fOriginSize\":0.0299999993294477},{\"_typename\":\"TLatex\",\"fUniqueID\":0,\"fBits\":50348041,\"fName\":\"\",\"fTitle\":\"#scale[1.5]{CMS} #scale[1.]{Phase-2 Simulation}\",\"fTextAngle\":0,\"fTextSize\":0.03,\"fTextAlign\":11,\"fTextColor\":1,\"fTextFont\":62,\"fX\":0.13,\"fY\":0.91,\"fLineColor\":1,\"fLineStyle\":1,\"fLineWidth\":2,\"fLimitFactorSize\":3,\"fOriginSize\":0.0299999993294477},{\"_typename\":\"TLatex\",\"fUniqueID\":0,\"fBits\":50348041,\"fName\":\"\",\"fTitle\":\"14TeV, 200 PU\",\"fTextAngle\":0,\"fTextSize\":0.03,\"fTextAlign\":11,\"fTextColor\":1,\"fTextFont\":62,\"fX\":0.69,\"fY\":0.91,\"fLineColor\":1,\"fLineStyle\":1,\"fLineWidth\":2,\"fLimitFactorSize\":3,\"fOriginSize\":0.0299999993294477},{\"_typename\":\"TLatex\",\"fUniqueID\":0,\"fBits\":50331656,\"fName\":\"\",\"fTitle\":\"\",\"fTextAngle\":0,\"fTextSize\":0.03,\"fTextAlign\":11,\"fTextColor\":1,\"fTextFont\":62,\"fX\":0,\"fY\":0,\"fLineColor\":1,\"fLineStyle\":1,\"fLineWidth\":2,\"fLimitFactorSize\":3,\"fOriginSize\":0.04},{\"_typename\":\"TLine\",\"fUniqueID\":0,\"fBits\":50331656,\"fLineColor\":1,\"fLineStyle\":2,\"fLineWidth\":1,\"fX1\":0,\"fY1\":0.95,\"fX2\":109.8,\"fY2\":0.95},{\"_typename\":\"TLine\",\"fUniqueID\":0,\"fBits\":50331656,\"fLineColor\":1,\"fLineStyle\":2,\"fLineWidth\":1,\"fX1\":0,\"fY1\":1,\"fX2\":109.8,\"fY2\":1}],\"opt\":[\"\",\"pa\",\"same\",\"\",\"\",\"same\",\"same\",\"same\"]},\"fExecs\":null,\"fName\":\"c_5d2612\",\"fTitle\":\"c_5d2612\",\"fNumPaletteColor\":0,\"fNextPaletteColor\":0,\"fDISPLAY\":\"$DISPLAY\",\"fDoubleBuffer\":0,\"fRetained\":true,\"fXsizeUser\":0,\"fYsizeUser\":0,\"fXsizeReal\":20,\"fYsizeReal\":20,\"fWindowTopX\":0,\"fWindowTopY\":0,\"fWindowWidth\":0,\"fWindowHeight\":0,\"fCw\":596,\"fCh\":572,\"fCatt\":{\"_typename\":\"TAttCanvas\",\"fXBetween\":2,\"fYBetween\":2,\"fTitleFromTop\":1.2,\"fXdate\":0.2,\"fYdate\":0.3,\"fAdate\":1},\"kMoveOpaque\":true,\"kResizeOpaque\":true,\"fHighLightColor\":2,\"fBatch\":true,\"kShowEventStatus\":false,\"kAutoExec\":true,\"kMenuBar\":true});\n",
       "       Core.draw(\"root_plot_42\", obj, \"\");\n",
       "     }\n",
       " );\n",
       "</script>\n"
      ],
      "text/plain": [
       "<IPython.core.display.HTML object>"
      ]
     },
     "metadata": {},
     "output_type": "display_data"
    },
    {
     "data": {
      "text/html": [
       "\n",
       "<div id=\"root_plot_43\"\n",
       "     style=\"width: 596px; height: 572px\">\n",
       "</div>\n",
       "\n",
       "<script>\n",
       " requirejs.config({\n",
       "     paths: {\n",
       "       'JSRootCore' : 'https://root.cern.ch/js/notebook//scripts/JSRootCore',\n",
       "     }\n",
       "   });\n",
       " require(['JSRootCore'],\n",
       "     function(Core) {\n",
       "       var obj = Core.JSONR_unref({\"_typename\":\"TCanvas\",\"fUniqueID\":0,\"fBits\":53673992,\"fLineColor\":1,\"fLineStyle\":1,\"fLineWidth\":1,\"fFillColor\":0,\"fFillStyle\":1001,\"fLeftMargin\":0.13,\"fRightMargin\":0.13,\"fBottomMargin\":0.13,\"fTopMargin\":0.1,\"fXfile\":2,\"fYfile\":2,\"fAfile\":1,\"fXstat\":0.99,\"fYstat\":0.99,\"fAstat\":2,\"fFrameFillColor\":0,\"fFrameLineColor\":1,\"fFrameFillStyle\":1001,\"fFrameLineStyle\":1,\"fFrameLineWidth\":1,\"fFrameBorderSize\":1,\"fFrameBorderMode\":0,\"fX1\":-19.2891882330767,\"fY1\":-0.185714283502611,\"fX2\":129.089188233077,\"fY2\":1.24285714852456,\"fXtoAbsPixelk\":77.4800471580505,\"fXtoPixelk\":77.4800471580505,\"fXtoPixel\":4.01675779311383,\"fYtoAbsPixelk\":497.640051065433,\"fYtoPixelk\":497.640051065433,\"fYtoPixel\":-400.399999031424,\"fUtoAbsPixelk\":5e-5,\"fUtoPixelk\":5e-5,\"fUtoPixel\":596,\"fVtoAbsPixelk\":572.00005,\"fVtoPixelk\":572,\"fVtoPixel\":-572,\"fAbsPixeltoXk\":-19.2891882330767,\"fPixeltoXk\":-19.2891882330767,\"fPixeltoX\":0.248957007493546,\"fAbsPixeltoYk\":1.24285714852456,\"fPixeltoYk\":-0.185714283502611,\"fPixeltoY\":-0.00249750250354401,\"fXlowNDC\":0,\"fYlowNDC\":0,\"fXUpNDC\":0,\"fYUpNDC\":0,\"fWNDC\":1,\"fHNDC\":1,\"fAbsXlowNDC\":0,\"fAbsYlowNDC\":0,\"fAbsWNDC\":1,\"fAbsHNDC\":1,\"fUxmin\":0,\"fUymin\":0,\"fUxmax\":109.8,\"fUymax\":1.1,\"fTheta\":30,\"fPhi\":30,\"fAspectRatio\":0,\"fNumber\":0,\"fTickx\":0,\"fTicky\":0,\"fLogx\":0,\"fLogy\":0,\"fLogz\":0,\"fPadPaint\":0,\"fCrosshair\":0,\"fCrosshairPos\":0,\"fBorderSize\":2,\"fBorderMode\":0,\"fModified\":false,\"fGridx\":false,\"fGridy\":false,\"fAbsCoord\":false,\"fEditable\":true,\"fFixedAspectRatio\":false,\"fPrimitives\":{\"_typename\":\"TList\",\"name\":\"TList\",\"arr\":[{\"_typename\":\"TFrame\",\"fUniqueID\":0,\"fBits\":50331656,\"fLineColor\":1,\"fLineStyle\":1,\"fLineWidth\":1,\"fFillColor\":0,\"fFillStyle\":1001,\"fX1\":0,\"fY1\":0,\"fX2\":109.8,\"fY2\":1.1,\"fBorderSize\":1,\"fBorderMode\":0},{\"_typename\":\"TGraphAsymmErrors\",\"fUniqueID\":0,\"fBits\":50332680,\"fName\":\"47d583\",\"fTitle\":\"; p_{T}^{GEN} [GeV];\",\"fLineColor\":1,\"fLineStyle\":1,\"fLineWidth\":1,\"fFillColor\":0,\"fFillStyle\":1001,\"fMarkerColor\":1,\"fMarkerStyle\":8,\"fMarkerSize\":0.5,\"fNpoints\":49,\"fX\":[3,5,7,9,11,13,15,17,19,21,23,25,27,29,31,33,35,37,39,41,43,45,47,49,51,53,55,57,59,61,63,65,67,69,71,73,75,77,79,81,83,85,87,89,91,93,95,97,99],\"fY\":[0,0,0,0,0,0,0,0,0.00275482093663912,0.0117994100294985,0.150306748466258,0.347457627118644,0.492711370262391,0.601092896174863,0.693931398416887,0.688202247191011,0.750778816199377,0.799450549450549,0.829333333333333,0.844311377245509,0.882716049382716,0.905555555555556,0.893175074183976,0.94017094017094,0.925501432664756,0.936416184971098,0.956521739130435,0.950310559006211,0.959537572254335,0.949253731343284,0.954407294832827,0.964601769911504,0.958702064896755,0.976261127596439,0.985163204747775,0.977464788732394,0.964391691394659,0.956923076923077,0.969325153374233,0.977777777777778,0.982248520710059,0.975757575757576,0.984756097560976,0.96319018404908,0.978328173374613,0.979651162790698,0.980716253443526,0.982195845697329,0.978260869565217],\"fFunctions\":{\"_typename\":\"TList\",\"name\":\"TList\",\"arr\":[],\"opt\":[]},\"fHistogram\":{\"_typename\":\"TH1F\",\"fUniqueID\":0,\"fBits\":50332160,\"fName\":\"47d583\",\"fTitle\":\"\",\"fLineColor\":602,\"fLineStyle\":1,\"fLineWidth\":1,\"fFillColor\":0,\"fFillStyle\":1001,\"fMarkerColor\":1,\"fMarkerStyle\":1,\"fMarkerSize\":1,\"fNcells\":102,\"fXaxis\":{\"_typename\":\"TAxis\",\"fUniqueID\":0,\"fBits\":50331656,\"fName\":\"xaxis\",\"fTitle\":\" p_{T}^{GEN} [GeV]\",\"fNdivisions\":510,\"fAxisColor\":1,\"fLabelColor\":1,\"fLabelFont\":42,\"fLabelOffset\":0.005,\"fLabelSize\":0.035,\"fTickLength\":0.03,\"fTitleOffset\":1.4,\"fTitleSize\":0.035,\"fTitleColor\":1,\"fTitleFont\":42,\"fNbins\":100,\"fXmin\":0,\"fXmax\":109.8,\"fXbins\":[],\"fFirst\":0,\"fLast\":0,\"fBits2\":0,\"fTimeDisplay\":false,\"fTimeFormat\":\"\",\"fLabels\":null,\"fModLabs\":null},\"fYaxis\":{\"_typename\":\"TAxis\",\"fUniqueID\":0,\"fBits\":50331656,\"fName\":\"yaxis\",\"fTitle\":\"efficiency\",\"fNdivisions\":510,\"fAxisColor\":1,\"fLabelColor\":1,\"fLabelFont\":42,\"fLabelOffset\":0.005,\"fLabelSize\":0.035,\"fTickLength\":0.03,\"fTitleOffset\":0,\"fTitleSize\":0.035,\"fTitleColor\":1,\"fTitleFont\":42,\"fNbins\":1,\"fXmin\":0,\"fXmax\":1.09071291684216,\"fXbins\":[],\"fFirst\":0,\"fLast\":0,\"fBits2\":0,\"fTimeDisplay\":false,\"fTimeFormat\":\"\",\"fLabels\":null,\"fModLabs\":null},\"fZaxis\":{\"_typename\":\"TAxis\",\"fUniqueID\":0,\"fBits\":50331648,\"fName\":\"zaxis\",\"fTitle\":\"\",\"fNdivisions\":510,\"fAxisColor\":1,\"fLabelColor\":1,\"fLabelFont\":42,\"fLabelOffset\":0.005,\"fLabelSize\":0.035,\"fTickLength\":0.03,\"fTitleOffset\":1,\"fTitleSize\":0.035,\"fTitleColor\":1,\"fTitleFont\":42,\"fNbins\":1,\"fXmin\":0,\"fXmax\":1,\"fXbins\":[],\"fFirst\":0,\"fLast\":0,\"fBits2\":0,\"fTimeDisplay\":false,\"fTimeFormat\":\"\",\"fLabels\":null,\"fModLabs\":null},\"fBarOffset\":0,\"fBarWidth\":1000,\"fEntries\":0,\"fTsumw\":0,\"fTsumw2\":0,\"fTsumwx\":0,\"fTsumwx2\":0,\"fMaximum\":1.1,\"fMinimum\":0,\"fNormFactor\":0,\"fContour\":[],\"fSumw2\":[],\"fOption\":\"\",\"fFunctions\":{\"_typename\":\"TList\",\"name\":\"TList\",\"arr\":[],\"opt\":[]},\"fBufferSize\":0,\"fBuffer\":[],\"fBinStatErrOpt\":0,\"fStatOverflows\":2,\"fArray\":[0,0,0,0,0,0,0,0,0,0,0,0,0,0,0,0,0,0,0,0,0,0,0,0,0,0,0,0,0,0,0,0,0,0,0,0,0,0,0,0,0,0,0,0,0,0,0,0,0,0,0,0,0,0,0,0,0,0,0,0,0,0,0,0,0,0,0,0,0,0,0,0,0,0,0,0,0,0,0,0,0,0,0,0,0,0,0,0,0,0,0,0,0,0,0,0,0,0,0,0,0,0]},\"fMinimum\":-1111,\"fMaximum\":-1111,\"fEXlow\":[1,1,1,1,1,1,1,1,1,1,1,1,1,1,1,1,1,1,1,1,1,1,1,1,1,1,1,1,1,1,1,1,1,1,1,1,1,1,1,1,1,1,1,1,1,1,1,1,1],\"fEXhigh\":[1,1,1,1,1,1,1,1,1,1,1,1,1,1,1,1,1,1,1,1,1,1,1,1,1,1,1,1,1,1,1,1,1,1,1,1,1,1,1,1,1,1,1,1,1,1,1,1,1],\"fEYlow\":[0,0,0,0,0,0,0,0,0.00227902843447012,0.00563868182268865,0.0201571099024403,0.0262286727206699,0.0283863188973074,0.027214466578145,0.0255002009811601,0.026478723065404,0.0264967474640808,0.0232139134375213,0.0216816771622468,0.0224254319075866,0.0206926955389531,0.0180298888685686,0.0195744531340352,0.0154948985609262,0.0168397832073267,0.0159774282122725,0.0139554223082989,0.0152661669345531,0.0135791570225693,0.0150155804699138,0.0146126929708272,0.0131212261324671,0.013851477497087,0.0114989561259737,0.00991222574856199,0.010925917952653,0.0131971229955826,0.0144302170129612,0.0128017742226431,0.0107767350202296,0.0104521638457454,0.0117383692051509,0.0101806908531997,0.0136307527477971,0.0114779690932254,0.0107884473728264,0.0102322827309236,0.010482731721816,0.0115130079590539],\"fEYhigh\":[0.00474586450043964,0.00484579795318904,0.00535303123562458,0.00482042210176742,0.00543200262898905,0.00535303123562458,0.00514364927367045,0.00540013610368612,0.00630604021377593,0.00923116814839481,0.0224643763017731,0.0271369845859326,0.0284310311117557,0.0266335581063207,0.0244215589529441,0.0253628801039247,0.0248366800133946,0.0214638544730472,0.0198077418583893,0.0202121649481531,0.018131095811223,0.0155778432899575,0.0170398569992303,0.0127092804668573,0.0141574068648036,0.0131816988461159,0.0109648093713403,0.0121164890165847,0.010565792561439,0.0120050312404092,0.0114910622532727,0.0099831504146195,0.0107814467202618,0.00817369778775467,0.00639399238146621,0.00776125189018051,0.0100418449129482,0.0112402793400785,0.00946672448952679,0.00765396801576013,0.00701920306125936,0.00834618078174731,0.00656902358723865,0.0103774108182004,0.00795840074377863,0.00747451886179784,0.00708477748675151,0.00703996558496134,0.007983010198782]},{\"_typename\":\"TLatex\",\"fUniqueID\":0,\"fBits\":50348040,\"fName\":\"\",\"fTitle\":\"EG endcap, 2.4 < |#eta^{GEN}| #leq 3.0, p_{T}^{L1} #geq 25GeV\",\"fTextAngle\":0,\"fTextSize\":0.03,\"fTextAlign\":11,\"fTextColor\":1,\"fTextFont\":62,\"fX\":0.15,\"fY\":0.85,\"fLineColor\":1,\"fLineStyle\":1,\"fLineWidth\":2,\"fLimitFactorSize\":3,\"fOriginSize\":0.0299999993294477},{\"_typename\":\"TLatex\",\"fUniqueID\":0,\"fBits\":50348041,\"fName\":\"\",\"fTitle\":\"#scale[1.5]{CMS} #scale[1.]{Phase-2 Simulation}\",\"fTextAngle\":0,\"fTextSize\":0.03,\"fTextAlign\":11,\"fTextColor\":1,\"fTextFont\":62,\"fX\":0.13,\"fY\":0.91,\"fLineColor\":1,\"fLineStyle\":1,\"fLineWidth\":2,\"fLimitFactorSize\":3,\"fOriginSize\":0.0299999993294477},{\"_typename\":\"TLatex\",\"fUniqueID\":0,\"fBits\":50348041,\"fName\":\"\",\"fTitle\":\"14TeV, 200 PU\",\"fTextAngle\":0,\"fTextSize\":0.03,\"fTextAlign\":11,\"fTextColor\":1,\"fTextFont\":62,\"fX\":0.69,\"fY\":0.91,\"fLineColor\":1,\"fLineStyle\":1,\"fLineWidth\":2,\"fLimitFactorSize\":3,\"fOriginSize\":0.0299999993294477},{\"_typename\":\"TLatex\",\"fUniqueID\":0,\"fBits\":50331656,\"fName\":\"\",\"fTitle\":\"\",\"fTextAngle\":0,\"fTextSize\":0.03,\"fTextAlign\":11,\"fTextColor\":1,\"fTextFont\":62,\"fX\":0,\"fY\":0,\"fLineColor\":1,\"fLineStyle\":1,\"fLineWidth\":2,\"fLimitFactorSize\":3,\"fOriginSize\":0.04},{\"_typename\":\"TLine\",\"fUniqueID\":0,\"fBits\":50331656,\"fLineColor\":1,\"fLineStyle\":2,\"fLineWidth\":1,\"fX1\":0,\"fY1\":0.95,\"fX2\":109.8,\"fY2\":0.95},{\"_typename\":\"TLine\",\"fUniqueID\":0,\"fBits\":50331656,\"fLineColor\":1,\"fLineStyle\":2,\"fLineWidth\":1,\"fX1\":0,\"fY1\":1,\"fX2\":109.8,\"fY2\":1}],\"opt\":[\"\",\"pa\",\"same\",\"\",\"\",\"same\",\"same\",\"same\"]},\"fExecs\":null,\"fName\":\"c_f9ea56\",\"fTitle\":\"c_f9ea56\",\"fNumPaletteColor\":0,\"fNextPaletteColor\":0,\"fDISPLAY\":\"$DISPLAY\",\"fDoubleBuffer\":0,\"fRetained\":true,\"fXsizeUser\":0,\"fYsizeUser\":0,\"fXsizeReal\":20,\"fYsizeReal\":20,\"fWindowTopX\":0,\"fWindowTopY\":0,\"fWindowWidth\":0,\"fWindowHeight\":0,\"fCw\":596,\"fCh\":572,\"fCatt\":{\"_typename\":\"TAttCanvas\",\"fXBetween\":2,\"fYBetween\":2,\"fTitleFromTop\":1.2,\"fXdate\":0.2,\"fYdate\":0.3,\"fAdate\":1},\"kMoveOpaque\":true,\"kResizeOpaque\":true,\"fHighLightColor\":2,\"fBatch\":true,\"kShowEventStatus\":false,\"kAutoExec\":true,\"kMenuBar\":true});\n",
       "       Core.draw(\"root_plot_43\", obj, \"\");\n",
       "     }\n",
       " );\n",
       "</script>\n"
      ],
      "text/plain": [
       "<IPython.core.display.HTML object>"
      ]
     },
     "metadata": {},
     "output_type": "display_data"
    }
   ],
   "source": [
    "hsets, labels, text = hplot.get_histo(histos.HistoSetEff, sample, ['PU200'], 'EG', 'EGq5Pt25', 'GENEtaBC', debug=False)\n",
    "text_forprint = 'EG endcap, 1.52 < |#eta^{GEN}| #leq 2.4, p_{T}^{L1} #geq 25GeV'\n",
    "print dir(hsets[0].h_eff)\n",
    "draw([his.h_eff.h_pt.CreateGraph() for his in hsets], labels, text=text_forprint, \n",
    "     min_y=0, max_y=1.1, y_axis_label='efficiency', h_lines=[0.95, 1],\n",
    "     do_write=True, write_name='figs/egammaEndcap_EG_EGq5Pt25_GENEtaBC_hEffvPt')\n",
    "\n",
    "\n",
    "\n",
    "hsets, labels, text = hplot.get_histo(histos.HistoSetEff, sample, ['PU200'], 'EG', 'EGq5Pt25', ['GENEtaDE'])\n",
    "print labels\n",
    "text_forprint = 'EG endcap, 2.4 < |#eta^{GEN}| #leq 3.0, p_{T}^{L1} #geq 25GeV'\n",
    "draw([his.h_eff.h_pt.CreateGraph() for his in hsets], labels, text=text_forprint, \n",
    "     min_y=0, max_y=1.1, y_axis_label='efficiency', h_lines=[0.95, 1],\n",
    "     do_write=True, write_name='figs/egammaEndcap_EG_EGq5Pt25_GENEtaDE_hEffvPt')\n"
   ]
  },
  {
   "cell_type": "code",
   "execution_count": 99,
   "metadata": {},
   "outputs": [
    {
     "data": {
      "text/plain": [
       "<__main__.DrawMachine at 0x11cc8c390>"
      ]
     },
     "execution_count": 99,
     "metadata": {},
     "output_type": "execute_result"
    },
    {
     "name": "stderr",
     "output_type": "stream",
     "text": [
      "Info in <TCanvas::Print>: pdf file figs/egammaEndcap_TkEle_EGq5Pt25_GENEtaBC_hEffvPt.pdf has been created\n"
     ]
    },
    {
     "data": {
      "text/html": [
       "\n",
       "<div id=\"root_plot_44\"\n",
       "     style=\"width: 596px; height: 572px\">\n",
       "</div>\n",
       "\n",
       "<script>\n",
       " requirejs.config({\n",
       "     paths: {\n",
       "       'JSRootCore' : 'https://root.cern.ch/js/notebook//scripts/JSRootCore',\n",
       "     }\n",
       "   });\n",
       " require(['JSRootCore'],\n",
       "     function(Core) {\n",
       "       var obj = Core.JSONR_unref({\"_typename\":\"TCanvas\",\"fUniqueID\":0,\"fBits\":53673992,\"fLineColor\":1,\"fLineStyle\":1,\"fLineWidth\":1,\"fFillColor\":0,\"fFillStyle\":1001,\"fLeftMargin\":0.13,\"fRightMargin\":0.13,\"fBottomMargin\":0.13,\"fTopMargin\":0.1,\"fXfile\":2,\"fYfile\":2,\"fAfile\":1,\"fXstat\":0.99,\"fYstat\":0.99,\"fAstat\":2,\"fFrameFillColor\":0,\"fFrameLineColor\":1,\"fFrameFillStyle\":1001,\"fFrameLineStyle\":1,\"fFrameLineWidth\":1,\"fFrameBorderSize\":1,\"fFrameBorderMode\":0,\"fX1\":-19.2891882330767,\"fY1\":-0.185714283502611,\"fX2\":129.089188233077,\"fY2\":1.24285714852456,\"fXtoAbsPixelk\":77.4800471580505,\"fXtoPixelk\":77.4800471580505,\"fXtoPixel\":4.01675779311383,\"fYtoAbsPixelk\":497.640051065433,\"fYtoPixelk\":497.640051065433,\"fYtoPixel\":-400.399999031424,\"fUtoAbsPixelk\":5e-5,\"fUtoPixelk\":5e-5,\"fUtoPixel\":596,\"fVtoAbsPixelk\":572.00005,\"fVtoPixelk\":572,\"fVtoPixel\":-572,\"fAbsPixeltoXk\":-19.2891882330767,\"fPixeltoXk\":-19.2891882330767,\"fPixeltoX\":0.248957007493546,\"fAbsPixeltoYk\":1.24285714852456,\"fPixeltoYk\":-0.185714283502611,\"fPixeltoY\":-0.00249750250354401,\"fXlowNDC\":0,\"fYlowNDC\":0,\"fXUpNDC\":0,\"fYUpNDC\":0,\"fWNDC\":1,\"fHNDC\":1,\"fAbsXlowNDC\":0,\"fAbsYlowNDC\":0,\"fAbsWNDC\":1,\"fAbsHNDC\":1,\"fUxmin\":0,\"fUymin\":0,\"fUxmax\":109.8,\"fUymax\":1.1,\"fTheta\":30,\"fPhi\":30,\"fAspectRatio\":0,\"fNumber\":0,\"fTickx\":0,\"fTicky\":0,\"fLogx\":0,\"fLogy\":0,\"fLogz\":0,\"fPadPaint\":0,\"fCrosshair\":0,\"fCrosshairPos\":0,\"fBorderSize\":2,\"fBorderMode\":0,\"fModified\":false,\"fGridx\":false,\"fGridy\":false,\"fAbsCoord\":false,\"fEditable\":true,\"fFixedAspectRatio\":false,\"fPrimitives\":{\"_typename\":\"TList\",\"name\":\"TList\",\"arr\":[{\"_typename\":\"TFrame\",\"fUniqueID\":0,\"fBits\":50331656,\"fLineColor\":1,\"fLineStyle\":1,\"fLineWidth\":1,\"fFillColor\":0,\"fFillStyle\":1001,\"fX1\":0,\"fY1\":0,\"fX2\":109.8,\"fY2\":1.1,\"fBorderSize\":1,\"fBorderMode\":0},{\"_typename\":\"TGraphAsymmErrors\",\"fUniqueID\":0,\"fBits\":50332680,\"fName\":\"01ad44\",\"fTitle\":\"; p_{T}^{GEN} [GeV];\",\"fLineColor\":1,\"fLineStyle\":1,\"fLineWidth\":1,\"fFillColor\":0,\"fFillStyle\":1001,\"fMarkerColor\":1,\"fMarkerStyle\":8,\"fMarkerSize\":0.5,\"fNpoints\":49,\"fX\":[3,5,7,9,11,13,15,17,19,21,23,25,27,29,31,33,35,37,39,41,43,45,47,49,51,53,55,57,59,61,63,65,67,69,71,73,75,77,79,81,83,85,87,89,91,93,95,97,99],\"fY\":[0,0,0,0,0,0,0,0,0,0.00738007380073801,0.0378378378378378,0.231182795698925,0.589453860640301,0.810035842293907,0.853571428571429,0.922155688622755,0.92894280762565,0.960884353741497,0.973544973544973,0.981308411214953,0.981412639405205,0.983228511530398,0.991103202846975,0.988826815642458,0.988054607508532,0.994047619047619,0.981308411214953,0.987432675044883,0.986538461538462,0.994690265486726,0.993031358885017,0.992438563327032,0.988505747126437,0.99250936329588,0.992700729927007,0.992687385740402,0.987762237762238,0.992700729927007,0.990421455938697,0.988394584139265,0.99469964664311,0.990476190476191,0.988785046728972,0.991212653778559,0.994495412844037,0.990366088631985,0.987544483985765,0.994219653179191,0.996031746031746],\"fFunctions\":{\"_typename\":\"TList\",\"name\":\"TList\",\"arr\":[],\"opt\":[]},\"fHistogram\":{\"_typename\":\"TH1F\",\"fUniqueID\":0,\"fBits\":50332160,\"fName\":\"01ad44\",\"fTitle\":\"\",\"fLineColor\":602,\"fLineStyle\":1,\"fLineWidth\":1,\"fFillColor\":0,\"fFillStyle\":1001,\"fMarkerColor\":1,\"fMarkerStyle\":1,\"fMarkerSize\":1,\"fNcells\":102,\"fXaxis\":{\"_typename\":\"TAxis\",\"fUniqueID\":0,\"fBits\":50331656,\"fName\":\"xaxis\",\"fTitle\":\" p_{T}^{GEN} [GeV]\",\"fNdivisions\":510,\"fAxisColor\":1,\"fLabelColor\":1,\"fLabelFont\":42,\"fLabelOffset\":0.005,\"fLabelSize\":0.035,\"fTickLength\":0.03,\"fTitleOffset\":1.4,\"fTitleSize\":0.035,\"fTitleColor\":1,\"fTitleFont\":42,\"fNbins\":100,\"fXmin\":0,\"fXmax\":109.8,\"fXbins\":[],\"fFirst\":0,\"fLast\":0,\"fBits2\":0,\"fTimeDisplay\":false,\"fTimeFormat\":\"\",\"fLabels\":null,\"fModLabs\":null},\"fYaxis\":{\"_typename\":\"TAxis\",\"fUniqueID\":0,\"fBits\":50331656,\"fName\":\"yaxis\",\"fTitle\":\"efficiency\",\"fNdivisions\":510,\"fAxisColor\":1,\"fLabelColor\":1,\"fLabelFont\":42,\"fLabelOffset\":0.005,\"fLabelSize\":0.035,\"fTickLength\":0.03,\"fTitleOffset\":0,\"fTitleSize\":0.035,\"fTitleColor\":1,\"fTitleFont\":42,\"fNbins\":1,\"fXmin\":0,\"fXmax\":1.09845390889711,\"fXbins\":[],\"fFirst\":0,\"fLast\":0,\"fBits2\":0,\"fTimeDisplay\":false,\"fTimeFormat\":\"\",\"fLabels\":null,\"fModLabs\":null},\"fZaxis\":{\"_typename\":\"TAxis\",\"fUniqueID\":0,\"fBits\":50331648,\"fName\":\"zaxis\",\"fTitle\":\"\",\"fNdivisions\":510,\"fAxisColor\":1,\"fLabelColor\":1,\"fLabelFont\":42,\"fLabelOffset\":0.005,\"fLabelSize\":0.035,\"fTickLength\":0.03,\"fTitleOffset\":1,\"fTitleSize\":0.035,\"fTitleColor\":1,\"fTitleFont\":42,\"fNbins\":1,\"fXmin\":0,\"fXmax\":1,\"fXbins\":[],\"fFirst\":0,\"fLast\":0,\"fBits2\":0,\"fTimeDisplay\":false,\"fTimeFormat\":\"\",\"fLabels\":null,\"fModLabs\":null},\"fBarOffset\":0,\"fBarWidth\":1000,\"fEntries\":0,\"fTsumw\":0,\"fTsumw2\":0,\"fTsumwx\":0,\"fTsumwx2\":0,\"fMaximum\":1.1,\"fMinimum\":0,\"fNormFactor\":0,\"fContour\":[],\"fSumw2\":[],\"fOption\":\"\",\"fFunctions\":{\"_typename\":\"TList\",\"name\":\"TList\",\"arr\":[],\"opt\":[]},\"fBufferSize\":0,\"fBuffer\":[],\"fBinStatErrOpt\":0,\"fStatOverflows\":2,\"fArray\":[0,0,0,0,0,0,0,0,0,0,0,0,0,0,0,0,0,0,0,0,0,0,0,0,0,0,0,0,0,0,0,0,0,0,0,0,0,0,0,0,0,0,0,0,0,0,0,0,0,0,0,0,0,0,0,0,0,0,0,0,0,0,0,0,0,0,0,0,0,0,0,0,0,0,0,0,0,0,0,0,0,0,0,0,0,0,0,0,0,0,0,0,0,0,0,0,0,0,0,0,0,0]},\"fMinimum\":-1111,\"fMaximum\":-1111,\"fEXlow\":[1,1,1,1,1,1,1,1,1,1,1,1,1,1,1,1,1,1,1,1,1,1,1,1,1,1,1,1,1,1,1,1,1,1,1,1,1,1,1,1,1,1,1,1,1,1,1,1,1],\"fEXhigh\":[1,1,1,1,1,1,1,1,1,1,1,1,1,1,1,1,1,1,1,1,1,1,1,1,1,1,1,1,1,1,1,1,1,1,1,1,1,1,1,1,1,1,1,1,1,1,1,1,1],\"fEYlow\":[0,0,0,0,0,0,0,0,0,0.00352873568893718,0.00809469852593761,0.0182246528043328,0.0224439261700444,0.0180768988004381,0.0164947303965466,0.0138854804233322,0.0123713782454677,0.00972871349047788,0.00859120530862012,0.00786912442989385,0.00782583579268781,0.00816710092935524,0.0059737590267116,0.00661389528310796,0.0063747814902555,0.00575608311035847,0.00786912442989385,0.00670344134240519,0.00717542559331075,0.00513789903212891,0.00547565985798459,0.00593828300205068,0.00680218917037967,0.00588305617639773,0.00573374703559981,0.00574416019065893,0.00652932408003815,0.00573374703559981,0.00642781693138983,0.00686735890781165,0.00512886911367827,0.00639138201668865,0.00663839665185484,0.00590081330917869,0.0053254181353003,0.00646466960444314,0.00664437962969699,0.00559067497121168,0.0052097913759015],\"fEYhigh\":[0.00323598815799914,0.00347414329597734,0.00333566138424641,0.0033600127640479,0.00319665655273388,0.00382017233222616,0.00346108068132723,0.00340979796341216,0.00340979796341216,0.00579679848644022,0.00994359012485641,0.019235422831664,0.0220925512282341,0.0169069664268279,0.0151579290572068,0.0120618066890014,0.0107656774079545,0.0079959307060008,0.00670413836519679,0.00578508327678007,0.00575296716111129,0.00578328504273973,0.00383763411696214,0.0044232029311766,0.0043950187236933,0.00323778639817562,0.00578508327678007,0.0046232812056034,0.00495137855572059,0.00288838484084541,0.00333218359763821,0.00361537098487752,0.00455004815934623,0.00358155099289759,0.00349013525328912,0.00349650990708239,0.00450233162526059,0.00349013525328912,0.00413127236781774,0.00459396218123065,0.00288328408766059,0.00410769969703229,0.00443970548563011,0.0037904862517889,0.00299432883481188,0.00415511714886663,0.00458224906380356,0.00314425678130226,0.00256271660198815]},{\"_typename\":\"TGraphAsymmErrors\",\"fUniqueID\":0,\"fBits\":50332680,\"fName\":\"d5f09e\",\"fTitle\":\"; p_{T}^{GEN} [GeV];\",\"fLineColor\":628,\"fLineStyle\":1,\"fLineWidth\":1,\"fFillColor\":0,\"fFillStyle\":1001,\"fMarkerColor\":628,\"fMarkerStyle\":21,\"fMarkerSize\":0.5,\"fNpoints\":49,\"fX\":[3,5,7,9,11,13,15,17,19,21,23,25,27,29,31,33,35,37,39,41,43,45,47,49,51,53,55,57,59,61,63,65,67,69,71,73,75,77,79,81,83,85,87,89,91,93,95,97,99],\"fY\":[0,0,0,0,0,0,0,0,0,0.003690036900369,0.0324324324324324,0.195340501792115,0.516007532956685,0.695340501792115,0.7125,0.782435129740519,0.76949740034662,0.829931972789116,0.795414462081129,0.869158878504673,0.860594795539034,0.863731656184486,0.877224199288256,0.895716945996276,0.883959044368601,0.896825396825397,0.88785046728972,0.901256732495512,0.919230769230769,0.906194690265487,0.923344947735192,0.926275992438563,0.913793103448276,0.917602996254682,0.923357664233577,0.919561243144424,0.884615384615385,0.936131386861314,0.932950191570881,0.891682785299807,0.92226148409894,0.918095238095238,0.925233644859813,0.915641476274165,0.93394495412844,0.938342967244701,0.928825622775801,0.936416184971098,0.916666666666667],\"fFunctions\":{\"_typename\":\"TList\",\"name\":\"TList\",\"arr\":[],\"opt\":[]},\"fHistogram\":{\"_typename\":\"TH1F\",\"fUniqueID\":0,\"fBits\":50332160,\"fName\":\"d5f09e\",\"fTitle\":\"\",\"fLineColor\":602,\"fLineStyle\":1,\"fLineWidth\":1,\"fFillColor\":0,\"fFillStyle\":1001,\"fMarkerColor\":1,\"fMarkerStyle\":1,\"fMarkerSize\":1,\"fNcells\":102,\"fXaxis\":{\"_typename\":\"TAxis\",\"fUniqueID\":0,\"fBits\":50331656,\"fName\":\"xaxis\",\"fTitle\":\" p_{T}^{GEN} [GeV]\",\"fNdivisions\":510,\"fAxisColor\":1,\"fLabelColor\":1,\"fLabelFont\":42,\"fLabelOffset\":0.005,\"fLabelSize\":0.035,\"fTickLength\":0.03,\"fTitleOffset\":1.4,\"fTitleSize\":0.035,\"fTitleColor\":1,\"fTitleFont\":42,\"fNbins\":100,\"fXmin\":0,\"fXmax\":109.8,\"fXbins\":[],\"fFirst\":0,\"fLast\":0,\"fBits2\":0,\"fTimeDisplay\":false,\"fTimeFormat\":\"\",\"fLabels\":null,\"fModLabs\":null},\"fYaxis\":{\"_typename\":\"TAxis\",\"fUniqueID\":0,\"fBits\":50331656,\"fName\":\"yaxis\",\"fTitle\":\"efficiency\",\"fNdivisions\":510,\"fAxisColor\":1,\"fLabelColor\":1,\"fLabelFont\":42,\"fLabelOffset\":0.005,\"fLabelSize\":0.035,\"fTickLength\":0.03,\"fTitleOffset\":0,\"fTitleSize\":0.035,\"fTitleColor\":1,\"fTitleFont\":42,\"fNbins\":1,\"fXmin\":0,\"fXmax\":1.04384942481705,\"fXbins\":[],\"fFirst\":0,\"fLast\":0,\"fBits2\":0,\"fTimeDisplay\":false,\"fTimeFormat\":\"\",\"fLabels\":null,\"fModLabs\":null},\"fZaxis\":{\"_typename\":\"TAxis\",\"fUniqueID\":0,\"fBits\":50331648,\"fName\":\"zaxis\",\"fTitle\":\"\",\"fNdivisions\":510,\"fAxisColor\":1,\"fLabelColor\":1,\"fLabelFont\":42,\"fLabelOffset\":0.005,\"fLabelSize\":0.035,\"fTickLength\":0.03,\"fTitleOffset\":1,\"fTitleSize\":0.035,\"fTitleColor\":1,\"fTitleFont\":42,\"fNbins\":1,\"fXmin\":0,\"fXmax\":1,\"fXbins\":[],\"fFirst\":0,\"fLast\":0,\"fBits2\":0,\"fTimeDisplay\":false,\"fTimeFormat\":\"\",\"fLabels\":null,\"fModLabs\":null},\"fBarOffset\":0,\"fBarWidth\":1000,\"fEntries\":0,\"fTsumw\":0,\"fTsumw2\":0,\"fTsumwx\":0,\"fTsumwx2\":0,\"fMaximum\":1.1,\"fMinimum\":0,\"fNormFactor\":0,\"fContour\":[],\"fSumw2\":[],\"fOption\":\"\",\"fFunctions\":{\"_typename\":\"TList\",\"name\":\"TList\",\"arr\":[],\"opt\":[]},\"fBufferSize\":0,\"fBuffer\":[],\"fBinStatErrOpt\":0,\"fStatOverflows\":2,\"fArray\":[0,0,0,0,0,0,0,0,0,0,0,0,0,0,0,0,0,0,0,0,0,0,0,0,0,0,0,0,0,0,0,0,0,0,0,0,0,0,0,0,0,0,0,0,0,0,0,0,0,0,0,0,0,0,0,0,0,0,0,0,0,0,0,0,0,0,0,0,0,0,0,0,0,0,0,0,0,0,0,0,0,0,0,0,0,0,0,0,0,0,0,0,0,0,0,0,0,0,0,0,0,0]},\"fMinimum\":-1111,\"fMaximum\":-1111,\"fEXlow\":[1,1,1,1,1,1,1,1,1,1,1,1,1,1,1,1,1,1,1,1,1,1,1,1,1,1,1,1,1,1,1,1,1,1,1,1,1,1,1,1,1,1,1,1,1,1,1,1,1],\"fEXhigh\":[1,1,1,1,1,1,1,1,1,1,1,1,1,1,1,1,1,1,1,1,1,1,1,1,1,1,1,1,1,1,1,1,1,1,1,1,1,1,1,1,1,1,1,1,1,1,1,1,1],\"fEYlow\":[0,0,0,0,0,0,0,0,0,0.00238306935803498,0.00750022256828816,0.0170943670075491,0.0226378691430044,0.0207293173963968,0.0203991083916446,0.0200099972819097,0.018876490015003,0.0169270343492235,0.0183593197562569,0.0162429919399685,0.0165678910454611,0.0175624095895389,0.0154435546778698,0.0149075268841583,0.0147783896805511,0.0153853039247966,0.0153489883346154,0.0143090922806828,0.0137852885642663,0.0139223649580189,0.0127750680959973,0.0131851615699322,0.0140992334420609,0.0136820760489597,0.0131153243312375,0.0133735419647022,0.0149461257784248,0.0122309691442957,0.01281413315306,0.0154442820694995,0.0129467541950775,0.0137833448618484,0.0131708165463646,0.0133180399048676,0.0124289371264391,0.0124523763795494,0.0125666975531052,0.0125992742161462,0.0141996528649186],\"fEYhigh\":[0.00323598815799914,0.00347414329597734,0.00333566138424641,0.0033600127640479,0.00319665655273388,0.00382017233222616,0.00346108068132723,0.00340979796341216,0.00340979796341216,0.00484609619588345,0.0093851686541524,0.0182433876148942,0.022575033155766,0.0199977836755346,0.0196056238218368,0.0188229162097046,0.0178972241018505,0.0157444315396446,0.0172642257698333,0.0147761198965212,0.0151455350688788,0.0159375947466137,0.0140163386434889,0.0133313831332909,0.0133848269270634,0.0136972620557035,0.0138014481492374,0.0127675950511577,0.0120450274122909,0.0123823386601878,0.0111858519667501,0.0114413333957419,0.012392082513368,0.0119967510271272,0.011447894279521,0.0117206346357744,0.0135147803120189,0.0105019752509745,0.0110121236282096,0.0138236914924394,0.0113391581612032,0.0120657279879272,0.0114523290506001,0.0117484731404885,0.0107009401853791,0.0106110553162552,0.0109170955298079,0.0107682361145169,0.0124150140562492]},{\"_typename\":\"TLegend\",\"fUniqueID\":0,\"fBits\":50331656,\"fLineColor\":1,\"fLineStyle\":1,\"fLineWidth\":1,\"fFillColor\":0,\"fFillStyle\":0,\"fX1\":69.7378376466153,\"fY1\":0.528571432510975,\"fX2\":108.316215527815,\"fY2\":0.671428575713692,\"fX1NDC\":0.6,\"fY1NDC\":0.5,\"fX2NDC\":0.86,\"fY2NDC\":0.6,\"fBorderSize\":0,\"fInit\":1,\"fShadowColor\":1,\"fCornerRadius\":0,\"fOption\":\"brNDC\",\"fName\":\"TPave\",\"fTextAngle\":0,\"fTextSize\":0.03,\"fTextAlign\":12,\"fTextColor\":1,\"fTextFont\":42,\"fPrimitives\":{\"_typename\":\"TList\",\"name\":\"TList\",\"arr\":[{\"_typename\":\"TLegendEntry\",\"fUniqueID\":0,\"fBits\":50331656,\"fTextAngle\":0,\"fTextSize\":0,\"fTextAlign\":0,\"fTextColor\":0,\"fTextFont\":42,\"fLineColor\":1,\"fLineStyle\":1,\"fLineWidth\":1,\"fFillColor\":0,\"fFillStyle\":0,\"fMarkerColor\":1,\"fMarkerStyle\":8,\"fMarkerSize\":0.5,\"fObject\":{\"$ref\":3},\"fLabel\":\"calorimeter only\",\"fOption\":\"P\"},{\"_typename\":\"TLegendEntry\",\"fUniqueID\":0,\"fBits\":50331656,\"fTextAngle\":0,\"fTextSize\":0,\"fTextAlign\":0,\"fTextColor\":0,\"fTextFont\":42,\"fLineColor\":1,\"fLineStyle\":1,\"fLineWidth\":1,\"fFillColor\":0,\"fFillStyle\":0,\"fMarkerColor\":628,\"fMarkerStyle\":21,\"fMarkerSize\":0.5,\"fObject\":{\"$ref\":10},\"fLabel\":\"track-matched\",\"fOption\":\"P\"}],\"opt\":[\"P\",\"P\"]},\"fEntrySeparation\":0.1,\"fMargin\":0.25,\"fNColumns\":1,\"fColumnSeparation\":0},{\"_typename\":\"TLatex\",\"fUniqueID\":0,\"fBits\":50348040,\"fName\":\"\",\"fTitle\":\"EG endcap, 1.52 < |#eta^{GEN}| #leq 2.4, p_{T}^{L1} #geq 25GeV\",\"fTextAngle\":0,\"fTextSize\":0.03,\"fTextAlign\":11,\"fTextColor\":1,\"fTextFont\":62,\"fX\":0.15,\"fY\":0.85,\"fLineColor\":1,\"fLineStyle\":1,\"fLineWidth\":2,\"fLimitFactorSize\":3,\"fOriginSize\":0.0299999993294477},{\"_typename\":\"TLatex\",\"fUniqueID\":0,\"fBits\":50348041,\"fName\":\"\",\"fTitle\":\"#scale[1.5]{CMS} #scale[1.]{Phase-2 Simulation}\",\"fTextAngle\":0,\"fTextSize\":0.03,\"fTextAlign\":11,\"fTextColor\":1,\"fTextFont\":62,\"fX\":0.13,\"fY\":0.91,\"fLineColor\":1,\"fLineStyle\":1,\"fLineWidth\":2,\"fLimitFactorSize\":3,\"fOriginSize\":0.0299999993294477},{\"_typename\":\"TLatex\",\"fUniqueID\":0,\"fBits\":50348041,\"fName\":\"\",\"fTitle\":\"14TeV, 200 PU\",\"fTextAngle\":0,\"fTextSize\":0.03,\"fTextAlign\":11,\"fTextColor\":1,\"fTextFont\":62,\"fX\":0.69,\"fY\":0.91,\"fLineColor\":1,\"fLineStyle\":1,\"fLineWidth\":2,\"fLimitFactorSize\":3,\"fOriginSize\":0.0299999993294477},{\"_typename\":\"TLatex\",\"fUniqueID\":0,\"fBits\":50331656,\"fName\":\"\",\"fTitle\":\"\",\"fTextAngle\":0,\"fTextSize\":0.03,\"fTextAlign\":11,\"fTextColor\":1,\"fTextFont\":62,\"fX\":0,\"fY\":0,\"fLineColor\":1,\"fLineStyle\":1,\"fLineWidth\":2,\"fLimitFactorSize\":3,\"fOriginSize\":0.04},{\"_typename\":\"TLine\",\"fUniqueID\":0,\"fBits\":50331656,\"fLineColor\":1,\"fLineStyle\":2,\"fLineWidth\":1,\"fX1\":0,\"fY1\":0.95,\"fX2\":109.8,\"fY2\":0.95},{\"_typename\":\"TLine\",\"fUniqueID\":0,\"fBits\":50331656,\"fLineColor\":1,\"fLineStyle\":2,\"fLineWidth\":1,\"fX1\":0,\"fY1\":1,\"fX2\":109.8,\"fY2\":1}],\"opt\":[\"\",\"pa\",\",p\",\"same\",\"same\",\"\",\"\",\"same\",\"same\",\"same\"]},\"fExecs\":null,\"fName\":\"c_10b1ba\",\"fTitle\":\"c_10b1ba\",\"fNumPaletteColor\":0,\"fNextPaletteColor\":0,\"fDISPLAY\":\"$DISPLAY\",\"fDoubleBuffer\":0,\"fRetained\":true,\"fXsizeUser\":0,\"fYsizeUser\":0,\"fXsizeReal\":20,\"fYsizeReal\":20,\"fWindowTopX\":0,\"fWindowTopY\":0,\"fWindowWidth\":0,\"fWindowHeight\":0,\"fCw\":596,\"fCh\":572,\"fCatt\":{\"_typename\":\"TAttCanvas\",\"fXBetween\":2,\"fYBetween\":2,\"fTitleFromTop\":1.2,\"fXdate\":0.2,\"fYdate\":0.3,\"fAdate\":1},\"kMoveOpaque\":true,\"kResizeOpaque\":true,\"fHighLightColor\":2,\"fBatch\":true,\"kShowEventStatus\":false,\"kAutoExec\":true,\"kMenuBar\":true});\n",
       "       Core.draw(\"root_plot_44\", obj, \"\");\n",
       "     }\n",
       " );\n",
       "</script>\n"
      ],
      "text/plain": [
       "<IPython.core.display.HTML object>"
      ]
     },
     "metadata": {},
     "output_type": "display_data"
    }
   ],
   "source": [
    "hsets, labels, text = hplot.get_histo(histos.HistoSetEff, sample, ['PU200'], ['EG', 'TkEleEL'], 'EGq5Pt25', 'GENEtaBC')\n",
    "labels=['calorimeter only', 'track-matched']\n",
    "legend_position = (0.6, 0.5, 0.86, 0.6)\n",
    "text_forprint='EG endcap, 1.52 < |#eta^{GEN}| #leq 2.4, p_{T}^{L1} #geq 25GeV'\n",
    "draw([his.h_eff.h_pt.CreateGraph() for his in hsets], labels, text=text_forprint, min_y=0, max_y=1.1, \n",
    "     y_axis_label='efficiency', h_lines=[0.95, 1],\n",
    "     legend_position=legend_position,\n",
    "     do_write=True, write_name='figs/egammaEndcap_TkEle_EGq5Pt25_GENEtaBC_hEffvPt')\n"
   ]
  },
  {
   "cell_type": "code",
   "execution_count": 100,
   "metadata": {},
   "outputs": [
    {
     "data": {
      "text/plain": [
       "<__main__.DrawMachine at 0x11cc8f250>"
      ]
     },
     "execution_count": 100,
     "metadata": {},
     "output_type": "execute_result"
    },
    {
     "data": {
      "text/html": [
       "\n",
       "<div id=\"root_plot_45\"\n",
       "     style=\"width: 796px; height: 572px\">\n",
       "</div>\n",
       "\n",
       "<script>\n",
       " requirejs.config({\n",
       "     paths: {\n",
       "       'JSRootCore' : 'https://root.cern.ch/js/notebook//scripts/JSRootCore',\n",
       "     }\n",
       "   });\n",
       " require(['JSRootCore'],\n",
       "     function(Core) {\n",
       "       var obj = Core.JSONR_unref({\"_typename\":\"TCanvas\",\"fUniqueID\":0,\"fBits\":53673992,\"fLineColor\":1,\"fLineStyle\":1,\"fLineWidth\":1,\"fFillColor\":0,\"fFillStyle\":1001,\"fLeftMargin\":0.13,\"fRightMargin\":0.3,\"fBottomMargin\":0.13,\"fTopMargin\":0.1,\"fXfile\":2,\"fYfile\":2,\"fAfile\":1,\"fXstat\":0.99,\"fYstat\":0.99,\"fAstat\":2,\"fFrameFillColor\":0,\"fFrameLineColor\":1,\"fFrameFillStyle\":1001,\"fFrameLineStyle\":1,\"fFrameLineWidth\":1,\"fFrameBorderSize\":1,\"fFrameBorderMode\":0,\"fX1\":-25.0421046588559,\"fY1\":0.70441558495845,\"fX2\":167.58947670572,\"fY2\":1.05506493645603,\"fXtoAbsPixelk\":103.480046204376,\"fXtoPixelk\":103.480046204376,\"fXtoPixel\":4.13224038530569,\"fYtoAbsPixelk\":1721.08449255034,\"fYtoPixelk\":1721.08449255034,\"fYtoPixel\":-1631.25925531321,\"fUtoAbsPixelk\":5e-5,\"fUtoPixelk\":5e-5,\"fUtoPixel\":796,\"fVtoAbsPixelk\":572.00005,\"fVtoPixelk\":572,\"fVtoPixel\":-572,\"fAbsPixeltoXk\":-25.0421046588559,\"fPixeltoXk\":-25.0421046588559,\"fPixeltoX\":0.241999474076101,\"fAbsPixeltoYk\":1.05506493645603,\"fPixeltoYk\":0.70441558495845,\"fPixeltoY\":-6.13023341778983e-4,\"fXlowNDC\":0,\"fYlowNDC\":0,\"fXUpNDC\":0,\"fYUpNDC\":0,\"fWNDC\":1,\"fHNDC\":1,\"fAbsXlowNDC\":0,\"fAbsYlowNDC\":0,\"fAbsWNDC\":1,\"fAbsHNDC\":1,\"fUxmin\":0,\"fUymin\":0.75,\"fUxmax\":109.8,\"fUymax\":1.02,\"fTheta\":30,\"fPhi\":30,\"fAspectRatio\":0,\"fNumber\":0,\"fTickx\":0,\"fTicky\":0,\"fLogx\":0,\"fLogy\":0,\"fLogz\":0,\"fPadPaint\":0,\"fCrosshair\":0,\"fCrosshairPos\":0,\"fBorderSize\":2,\"fBorderMode\":0,\"fModified\":false,\"fGridx\":false,\"fGridy\":false,\"fAbsCoord\":false,\"fEditable\":true,\"fFixedAspectRatio\":false,\"fPrimitives\":{\"_typename\":\"TList\",\"name\":\"TList\",\"arr\":[{\"_typename\":\"TFrame\",\"fUniqueID\":0,\"fBits\":50331656,\"fLineColor\":1,\"fLineStyle\":1,\"fLineWidth\":1,\"fFillColor\":0,\"fFillStyle\":1001,\"fX1\":0,\"fY1\":0.75,\"fX2\":109.8,\"fY2\":1.02,\"fBorderSize\":1,\"fBorderMode\":0},{\"_typename\":\"TGraphAsymmErrors\",\"fUniqueID\":0,\"fBits\":50332680,\"fName\":\"ca09a4\",\"fTitle\":\"; p_{T}^{GEN} [GeV];\",\"fLineColor\":1,\"fLineStyle\":1,\"fLineWidth\":1,\"fFillColor\":0,\"fFillStyle\":1001,\"fMarkerColor\":1,\"fMarkerStyle\":8,\"fMarkerSize\":0.5,\"fNpoints\":49,\"fX\":[3,5,7,9,11,13,15,17,19,21,23,25,27,29,31,33,35,37,39,41,43,45,47,49,51,53,55,57,59,61,63,65,67,69,71,73,75,77,79,81,83,85,87,89,91,93,95,97,99],\"fY\":[0,0,0,0,0,0,0.00512820512820513,0.137420718816068,0.629740518962076,0.882874015748031,0.934151785714286,0.968399592252803,0.977319587628866,0.982528263103803,0.98024948024948,0.995717344753747,0.985522233712513,0.985380116959064,0.990683229813665,0.98989898989899,0.993314231136581,0.99077868852459,0.99027027027027,0.987951807228916,0.98936170212766,0.992943548387097,0.993170731707317,0.991498405951116,0.99581589958159,0.993062438057483,0.992964824120603,0.986666666666667,0.996818663838812,0.993069306930693,0.991062562065541,0.991769547325103,0.994954591321897,0.996897621509824,0.995854922279793,0.996818663838812,0.989327641408751,0.995614035087719,0.99486125385406,0.995731056563501,0.992616033755274,0.99486125385406,0.988925802879291,0.996848739495798,0.995905834186285],\"fFunctions\":{\"_typename\":\"TList\",\"name\":\"TList\",\"arr\":[],\"opt\":[]},\"fHistogram\":{\"_typename\":\"TH1F\",\"fUniqueID\":0,\"fBits\":50332160,\"fName\":\"ca09a4\",\"fTitle\":\"\",\"fLineColor\":602,\"fLineStyle\":1,\"fLineWidth\":1,\"fFillColor\":0,\"fFillStyle\":1001,\"fMarkerColor\":1,\"fMarkerStyle\":1,\"fMarkerSize\":1,\"fNcells\":102,\"fXaxis\":{\"_typename\":\"TAxis\",\"fUniqueID\":0,\"fBits\":50331656,\"fName\":\"xaxis\",\"fTitle\":\" p_{T}^{GEN} [GeV]\",\"fNdivisions\":510,\"fAxisColor\":1,\"fLabelColor\":1,\"fLabelFont\":42,\"fLabelOffset\":0.005,\"fLabelSize\":0.035,\"fTickLength\":0.03,\"fTitleOffset\":1.4,\"fTitleSize\":0.035,\"fTitleColor\":1,\"fTitleFont\":42,\"fNbins\":100,\"fXmin\":0,\"fXmax\":109.8,\"fXbins\":[],\"fFirst\":0,\"fLast\":0,\"fBits2\":0,\"fTimeDisplay\":false,\"fTimeFormat\":\"\",\"fLabels\":null,\"fModLabs\":null},\"fYaxis\":{\"_typename\":\"TAxis\",\"fUniqueID\":0,\"fBits\":50331656,\"fName\":\"yaxis\",\"fTitle\":\"L1 matched to GEN\\/GEN\",\"fNdivisions\":510,\"fAxisColor\":1,\"fLabelColor\":1,\"fLabelFont\":42,\"fLabelOffset\":0.005,\"fLabelSize\":0.035,\"fTickLength\":0.03,\"fTitleOffset\":0,\"fTitleSize\":0.035,\"fTitleColor\":1,\"fTitleFont\":42,\"fNbins\":1,\"fXmin\":0,\"fXmax\":1.09844413907446,\"fXbins\":[],\"fFirst\":0,\"fLast\":0,\"fBits2\":0,\"fTimeDisplay\":false,\"fTimeFormat\":\"\",\"fLabels\":null,\"fModLabs\":null},\"fZaxis\":{\"_typename\":\"TAxis\",\"fUniqueID\":0,\"fBits\":50331648,\"fName\":\"zaxis\",\"fTitle\":\"\",\"fNdivisions\":510,\"fAxisColor\":1,\"fLabelColor\":1,\"fLabelFont\":42,\"fLabelOffset\":0.005,\"fLabelSize\":0.035,\"fTickLength\":0.03,\"fTitleOffset\":1,\"fTitleSize\":0.035,\"fTitleColor\":1,\"fTitleFont\":42,\"fNbins\":1,\"fXmin\":0,\"fXmax\":1,\"fXbins\":[],\"fFirst\":0,\"fLast\":0,\"fBits2\":0,\"fTimeDisplay\":false,\"fTimeFormat\":\"\",\"fLabels\":null,\"fModLabs\":null},\"fBarOffset\":0,\"fBarWidth\":1000,\"fEntries\":0,\"fTsumw\":0,\"fTsumw2\":0,\"fTsumwx\":0,\"fTsumwx2\":0,\"fMaximum\":1.02,\"fMinimum\":0.75,\"fNormFactor\":0,\"fContour\":[],\"fSumw2\":[],\"fOption\":\"\",\"fFunctions\":{\"_typename\":\"TList\",\"name\":\"TList\",\"arr\":[],\"opt\":[]},\"fBufferSize\":0,\"fBuffer\":[],\"fBinStatErrOpt\":0,\"fStatOverflows\":2,\"fArray\":[0,0,0,0,0,0,0,0,0,0,0,0,0,0,0,0,0,0,0,0,0,0,0,0,0,0,0,0,0,0,0,0,0,0,0,0,0,0,0,0,0,0,0,0,0,0,0,0,0,0,0,0,0,0,0,0,0,0,0,0,0,0,0,0,0,0,0,0,0,0,0,0,0,0,0,0,0,0,0,0,0,0,0,0,0,0,0,0,0,0,0,0,0,0,0,0,0,0,0,0,0,0]},\"fMinimum\":-1111,\"fMaximum\":-1111,\"fEXlow\":[1,1,1,1,1,1,1,1,1,1,1,1,1,1,1,1,1,1,1,1,1,1,1,1,1,1,1,1,1,1,1,1,1,1,1,1,1,1,1,1,1,1,1,1,1,1,1,1,1],\"fEXhigh\":[1,1,1,1,1,1,1,1,1,1,1,1,1,1,1,1,1,1,1,1,1,1,1,1,1,1,1,1,1,1,1,1,1,1,1,1,1,1,1,1,1,1,1,1,1,1,1,1,1],\"fEYlow\":[0,0,0,0,0,0,0.00221333186474682,0.01131915288817,0.0158794615001216,0.0109749081390733,0.00936468120084255,0.00662575721888792,0.00585429664924819,0.0052869719136025,0.00557795936215166,0.00337326464692866,0.004946515656574,0.00478599582295436,0.00422598137292163,0.00427897230151708,0.003582507353451,0.00418297549558033,0.00441195717041953,0.00454003265215241,0.00450483490077536,0.00378005003721382,0.00365899397848757,0.00416587903898924,0.00329592898269837,0.00371670426765969,0.0037687149452742,0.00477424173479335,0.00308487010938718,0.00371304409570206,0.00405504945089497,0.00403383885449904,0.00339875774656762,0.00300854146570706,0.00326530419631987,0.00308487010938718,0.00451914725501013,0.00345431666650275,0.00346136109778605,0.0033625058557214,0.00395449294496242,0.00346136109778605,0.00468794684174123,0.0030557972803803,0.00322534558967236],\"fEYhigh\":[0.00192591439828387,0.00188838072126811,0.00192793122919638,0.00187683006296159,0.00183200672073017,0.0020122196424826,0.0034542915160458,0.0121214078102178,0.015612191268408,0.0101848959808756,0.00833093763701764,0.005584159727543,0.00476450981126542,0.0041743051646318,0.00446435916473598,0.00204851879382739,0.00380771503567212,0.00371724944327212,0.00304073234447955,0.00313265446027955,0.00246239246013591,0.00300964170005413,0.00317521673652144,0.00341848573285242,0.0032988665335969,0.00259872874715827,0.00251517357243436,0.00293672107762044,0.00200140180579389,0.00255500354343985,0.00259090411418816,0.0036371433232768,0.00173090709508883,0.00255247724943175,0.00291717694978888,0.00284322253386327,0.00217762457067305,0.00168795946695577,0.00198274555387989,0.00173090709508883,0.00330940191978246,0.0020979077206561,0.00221787778212401,0.00204196353598241,0.00271917146013556,0.00221787778212401,0.00343368248517517,0.00171454804453863,0.00195840494962451]},{\"_typename\":\"TGraphAsymmErrors\",\"fUniqueID\":0,\"fBits\":50332680,\"fName\":\"1be43e\",\"fTitle\":\"; p_{T}^{GEN} [GeV];\",\"fLineColor\":628,\"fLineStyle\":1,\"fLineWidth\":1,\"fFillColor\":0,\"fFillStyle\":1001,\"fMarkerColor\":628,\"fMarkerStyle\":21,\"fMarkerSize\":0.5,\"fNpoints\":49,\"fX\":[3,5,7,9,11,13,15,17,19,21,23,25,27,29,31,33,35,37,39,41,43,45,47,49,51,53,55,57,59,61,63,65,67,69,71,73,75,77,79,81,83,85,87,89,91,93,95,97,99],\"fY\":[0,0,0,0,0,0,0.00512820512820513,0.127906976744186,0.620758483033932,0.867125984251969,0.926339285714286,0.957186544342508,0.968041237113402,0.975334018499486,0.972972972972973,0.988222698072805,0.979317476732161,0.97953216374269,0.989648033126294,0.984848484848485,0.989493791786055,0.983606557377049,0.985945945945946,0.981927710843373,0.982978723404255,0.986895161290323,0.989268292682927,0.985122210414453,0.989539748953975,0.98810703666997,0.990954773869347,0.984615384615385,0.992576882290562,0.988118811881188,0.98609731876862,0.987654320987654,0.990918264379415,0.99482936918304,0.987564766839378,0.992576882290562,0.982924226254002,0.989035087719298,0.988694758478931,0.987193169690502,0.975738396624473,0.986639260020555,0.981173864894795,0.983193277310924,0.992835209825998],\"fFunctions\":{\"_typename\":\"TList\",\"name\":\"TList\",\"arr\":[],\"opt\":[]},\"fHistogram\":{\"_typename\":\"TH1F\",\"fUniqueID\":0,\"fBits\":50332160,\"fName\":\"1be43e\",\"fTitle\":\"\",\"fLineColor\":602,\"fLineStyle\":1,\"fLineWidth\":1,\"fFillColor\":0,\"fFillStyle\":1001,\"fMarkerColor\":1,\"fMarkerStyle\":1,\"fMarkerSize\":1,\"fNcells\":102,\"fXaxis\":{\"_typename\":\"TAxis\",\"fUniqueID\":0,\"fBits\":50331656,\"fName\":\"xaxis\",\"fTitle\":\" p_{T}^{GEN} [GeV]\",\"fNdivisions\":510,\"fAxisColor\":1,\"fLabelColor\":1,\"fLabelFont\":42,\"fLabelOffset\":0.005,\"fLabelSize\":0.035,\"fTickLength\":0.03,\"fTitleOffset\":1.4,\"fTitleSize\":0.035,\"fTitleColor\":1,\"fTitleFont\":42,\"fNbins\":100,\"fXmin\":0,\"fXmax\":109.8,\"fXbins\":[],\"fFirst\":0,\"fLast\":0,\"fBits2\":0,\"fTimeDisplay\":false,\"fTimeFormat\":\"\",\"fLabels\":null,\"fModLabs\":null},\"fYaxis\":{\"_typename\":\"TAxis\",\"fUniqueID\":0,\"fBits\":50331656,\"fName\":\"yaxis\",\"fTitle\":\"L1 matched to GEN\\/GEN\",\"fNdivisions\":510,\"fAxisColor\":1,\"fLabelColor\":1,\"fLabelFont\":42,\"fLabelOffset\":0.005,\"fLabelSize\":0.035,\"fTickLength\":0.03,\"fTitleOffset\":0,\"fTitleSize\":0.035,\"fTitleColor\":1,\"fTitleFont\":42,\"fNbins\":1,\"fXmin\":0,\"fXmax\":1.09676709719818,\"fXbins\":[],\"fFirst\":0,\"fLast\":0,\"fBits2\":0,\"fTimeDisplay\":false,\"fTimeFormat\":\"\",\"fLabels\":null,\"fModLabs\":null},\"fZaxis\":{\"_typename\":\"TAxis\",\"fUniqueID\":0,\"fBits\":50331648,\"fName\":\"zaxis\",\"fTitle\":\"\",\"fNdivisions\":510,\"fAxisColor\":1,\"fLabelColor\":1,\"fLabelFont\":42,\"fLabelOffset\":0.005,\"fLabelSize\":0.035,\"fTickLength\":0.03,\"fTitleOffset\":1,\"fTitleSize\":0.035,\"fTitleColor\":1,\"fTitleFont\":42,\"fNbins\":1,\"fXmin\":0,\"fXmax\":1,\"fXbins\":[],\"fFirst\":0,\"fLast\":0,\"fBits2\":0,\"fTimeDisplay\":false,\"fTimeFormat\":\"\",\"fLabels\":null,\"fModLabs\":null},\"fBarOffset\":0,\"fBarWidth\":1000,\"fEntries\":0,\"fTsumw\":0,\"fTsumw2\":0,\"fTsumwx\":0,\"fTsumwx2\":0,\"fMaximum\":1.02,\"fMinimum\":0.75,\"fNormFactor\":0,\"fContour\":[],\"fSumw2\":[],\"fOption\":\"\",\"fFunctions\":{\"_typename\":\"TList\",\"name\":\"TList\",\"arr\":[],\"opt\":[]},\"fBufferSize\":0,\"fBuffer\":[],\"fBinStatErrOpt\":0,\"fStatOverflows\":2,\"fArray\":[0,0,0,0,0,0,0,0,0,0,0,0,0,0,0,0,0,0,0,0,0,0,0,0,0,0,0,0,0,0,0,0,0,0,0,0,0,0,0,0,0,0,0,0,0,0,0,0,0,0,0,0,0,0,0,0,0,0,0,0,0,0,0,0,0,0,0,0,0,0,0,0,0,0,0,0,0,0,0,0,0,0,0,0,0,0,0,0,0,0,0,0,0,0,0,0,0,0,0,0,0,0]},\"fMinimum\":-1111,\"fMaximum\":-1111,\"fEXlow\":[1,1,1,1,1,1,1,1,1,1,1,1,1,1,1,1,1,1,1,1,1,1,1,1,1,1,1,1,1,1,1,1,1,1,1,1,1,1,1,1,1,1,1,1,1,1,1,1,1],\"fEXhigh\":[1,1,1,1,1,1,1,1,1,1,1,1,1,1,1,1,1,1,1,1,1,1,1,1,1,1,1,1,1,1,1,1,1,1,1,1,1,1,1,1,1,1,1,1,1,1,1,1,1],\"fEYlow\":[0,0,0,0,0,0,0.00221333186474682,0.0109735658123102,0.0159435281276606,0.0115174285998952,0.00979375065227295,0.00748279673159968,0.00669939378747819,0.00603774480503139,0.00630027568322533,0.00468954728446569,0.00565983314436114,0.00544008079132874,0.00438449029225929,0.00495825477330991,0.00418718053758282,0.00515170424633815,0.00502981096096344,0.00527969446334486,0.00534675830012488,0.00469316346085868,0.00427636970865819,0.00508180368859201,0.00443000789388848,0.00448202372667006,0.00410362992995417,0.00503374430049952,0.00397534009305411,0.00447762283702935,0.00475189097511175,0.00465116722987502,0.00412008311677536,0.00348274453635133,0.00468461365125694,0.00397534009305411,0.00536368152487077,0.00464204950992608,0.0045030840896656,0.00482335158911695,0.00609244779381179,0.004783964886516,0.00569169580600393,0.00528011983830201,0.00383776384932644],\"fEYhigh\":[0.00192591439828387,0.00188838072126811,0.00192793122919638,0.00187683006296159,0.00183200672073017,0.0020122196424826,0.0034542915160458,0.0117980200218458,0.0156947990626246,0.0107617709351002,0.00878185628897954,0.00647771140667974,0.00564678216929315,0.00496021905750732,0.00521972189159214,0.0034862510592405,0.00455699001380128,0.00440270478944926,0.00321029420045926,0.00385185041935976,0.00311096386495424,0.00403632035534629,0.00383301458973628,0.00419735317150216,0.00419015062774142,0.00357502929533537,0.00317755918249152,0.00391249664474336,0.00324379175259826,0.00337457587981049,0.0029522876686886,0.00391085504868638,0.00273356828433413,0.00337124487472151,0.00365703760341607,0.00350262603554374,0.00296417981278918,0.00223162826984857,0.00352795278951212,0.00273356828433413,0.00420350074674014,0.00339988523597545,0.0033469040705264,0.00363303144619731,0.00498337593517495,0.00364459304342257,0.00449611588922394,0.00413758745742177,0.00263857169784887]},{\"_typename\":\"TLegend\",\"fUniqueID\":0,\"fBits\":50331656,\"fLineColor\":1,\"fLineStyle\":1,\"fLineWidth\":1,\"fFillColor\":0,\"fFillStyle\":0,\"fX1\":109.800002296347,\"fY1\":0.953376624521731,\"fX2\":157.957897637491,\"fY2\":1.00246753373139,\"fX1NDC\":0.7,\"fY1NDC\":0.71,\"fX2NDC\":0.95,\"fY2NDC\":0.85,\"fBorderSize\":0,\"fInit\":1,\"fShadowColor\":1,\"fCornerRadius\":0,\"fOption\":\"brNDC\",\"fName\":\"TPave\",\"fTextAngle\":0,\"fTextSize\":0.03,\"fTextAlign\":12,\"fTextColor\":1,\"fTextFont\":42,\"fPrimitives\":{\"_typename\":\"TList\",\"name\":\"TList\",\"arr\":[{\"_typename\":\"TLegendEntry\",\"fUniqueID\":0,\"fBits\":50331656,\"fTextAngle\":0,\"fTextSize\":0,\"fTextAlign\":0,\"fTextColor\":0,\"fTextFont\":42,\"fLineColor\":1,\"fLineStyle\":1,\"fLineWidth\":1,\"fFillColor\":0,\"fFillStyle\":0,\"fMarkerColor\":1,\"fMarkerStyle\":8,\"fMarkerSize\":0.5,\"fObject\":{\"$ref\":3},\"fLabel\":\"p_{T}^{L1}>=20GeV\",\"fOption\":\"P\"},{\"_typename\":\"TLegendEntry\",\"fUniqueID\":0,\"fBits\":50331656,\"fTextAngle\":0,\"fTextSize\":0,\"fTextAlign\":0,\"fTextColor\":0,\"fTextFont\":42,\"fLineColor\":1,\"fLineStyle\":1,\"fLineWidth\":1,\"fFillColor\":0,\"fFillStyle\":0,\"fMarkerColor\":628,\"fMarkerStyle\":21,\"fMarkerSize\":0.5,\"fObject\":{\"$ref\":10},\"fLabel\":\"p_{T}^{L1}>=20GeV, LooseTkID\",\"fOption\":\"P\"}],\"opt\":[\"P\",\"P\"]},\"fEntrySeparation\":0.1,\"fMargin\":0.25,\"fNColumns\":1,\"fColumnSeparation\":0},{\"_typename\":\"TLatex\",\"fUniqueID\":0,\"fBits\":50348040,\"fName\":\"\",\"fTitle\":\"PU200, EG barrel, |#eta^{GEN}| <= 1.479\",\"fTextAngle\":0,\"fTextSize\":0.03,\"fTextAlign\":11,\"fTextColor\":1,\"fTextFont\":62,\"fX\":0.15,\"fY\":0.85,\"fLineColor\":1,\"fLineStyle\":1,\"fLineWidth\":2,\"fLimitFactorSize\":3,\"fOriginSize\":0.04},{\"_typename\":\"TLatex\",\"fUniqueID\":0,\"fBits\":50331656,\"fName\":\"\",\"fTitle\":\"\",\"fTextAngle\":0,\"fTextSize\":0.03,\"fTextAlign\":11,\"fTextColor\":1,\"fTextFont\":62,\"fX\":0,\"fY\":0,\"fLineColor\":1,\"fLineStyle\":1,\"fLineWidth\":2,\"fLimitFactorSize\":3,\"fOriginSize\":0.04},{\"_typename\":\"TLine\",\"fUniqueID\":0,\"fBits\":50331656,\"fLineColor\":1,\"fLineStyle\":2,\"fLineWidth\":1,\"fX1\":0,\"fY1\":0.95,\"fX2\":109.8,\"fY2\":0.95},{\"_typename\":\"TLine\",\"fUniqueID\":0,\"fBits\":50331656,\"fLineColor\":1,\"fLineStyle\":2,\"fLineWidth\":1,\"fX1\":0,\"fY1\":1,\"fX2\":109.8,\"fY2\":1}],\"opt\":[\"\",\"pa\",\",p\",\"same\",\"same\",\"same\",\"same\",\"same\"]},\"fExecs\":null,\"fName\":\"c_3dcbd4\",\"fTitle\":\"c_3dcbd4\",\"fNumPaletteColor\":0,\"fNextPaletteColor\":0,\"fDISPLAY\":\"$DISPLAY\",\"fDoubleBuffer\":0,\"fRetained\":true,\"fXsizeUser\":0,\"fYsizeUser\":0,\"fXsizeReal\":20,\"fYsizeReal\":15,\"fWindowTopX\":0,\"fWindowTopY\":0,\"fWindowWidth\":0,\"fWindowHeight\":0,\"fCw\":796,\"fCh\":572,\"fCatt\":{\"_typename\":\"TAttCanvas\",\"fXBetween\":2,\"fYBetween\":2,\"fTitleFromTop\":1.2,\"fXdate\":0.2,\"fYdate\":0.3,\"fAdate\":1},\"kMoveOpaque\":true,\"kResizeOpaque\":true,\"fHighLightColor\":2,\"fBatch\":true,\"kShowEventStatus\":false,\"kAutoExec\":true,\"kMenuBar\":true});\n",
       "       Core.draw(\"root_plot_45\", obj, \"\");\n",
       "     }\n",
       " );\n",
       "</script>\n"
      ],
      "text/plain": [
       "<IPython.core.display.HTML object>"
      ]
     },
     "metadata": {},
     "output_type": "display_data"
    }
   ],
   "source": [
    "hsets, labels, text = hplot.get_histo(histos.HistoSetEff, sample, ['PU200'], ['EGBRL'], ['Pt20', 'Pt20LooseTkID'], ['GENEtaF'])\n",
    "draw([his.h_eff.h_pt.CreateGraph() for his in hsets], labels, text=text, min_y=0.75, max_y=1.02, y_axis_label='L1 matched to GEN/GEN', h_lines=[0.95, 1])\n"
   ]
  },
  {
   "cell_type": "code",
   "execution_count": 101,
   "metadata": {
    "scrolled": false
   },
   "outputs": [
    {
     "data": {
      "text/plain": [
       "<__main__.DrawMachine at 0x11cc679d0>"
      ]
     },
     "execution_count": 101,
     "metadata": {},
     "output_type": "execute_result"
    },
    {
     "name": "stderr",
     "output_type": "stream",
     "text": [
      "Info in <TCanvas::Print>: pdf file figs/EgammaBarrelOnlyCaloEff.pdf has been created\n"
     ]
    },
    {
     "data": {
      "text/html": [
       "\n",
       "<div id=\"root_plot_46\"\n",
       "     style=\"width: 596px; height: 572px\">\n",
       "</div>\n",
       "\n",
       "<script>\n",
       " requirejs.config({\n",
       "     paths: {\n",
       "       'JSRootCore' : 'https://root.cern.ch/js/notebook//scripts/JSRootCore',\n",
       "     }\n",
       "   });\n",
       " require(['JSRootCore'],\n",
       "     function(Core) {\n",
       "       var obj = Core.JSONR_unref({\"_typename\":\"TCanvas\",\"fUniqueID\":0,\"fBits\":53673992,\"fLineColor\":1,\"fLineStyle\":1,\"fLineWidth\":1,\"fFillColor\":0,\"fFillStyle\":1001,\"fLeftMargin\":0.13,\"fRightMargin\":0.13,\"fBottomMargin\":0.13,\"fTopMargin\":0.1,\"fXfile\":2,\"fYfile\":2,\"fAfile\":1,\"fXstat\":0.99,\"fYstat\":0.99,\"fAstat\":2,\"fFrameFillColor\":0,\"fFrameLineColor\":1,\"fFrameFillStyle\":1001,\"fFrameLineStyle\":1,\"fFrameLineWidth\":1,\"fFrameBorderSize\":1,\"fFrameBorderMode\":0,\"fX1\":-17.5675666967912,\"fY1\":0.762857143299478,\"fX2\":117.567566696791,\"fY2\":1.04857142970491,\"fXtoAbsPixelk\":77.4800471580505,\"fXtoPixelk\":77.4800471580505,\"fXtoPixel\":4.41040005683899,\"fYtoAbsPixelk\":2099.24004719113,\"fYtoPixelk\":2099.24004719113,\"fYtoPixel\":-2001.99999515712,\"fUtoAbsPixelk\":5e-5,\"fUtoPixelk\":5e-5,\"fUtoPixel\":596,\"fVtoAbsPixelk\":572.00005,\"fVtoPixelk\":572,\"fVtoPixel\":-572,\"fAbsPixeltoXk\":-17.5675666967912,\"fPixeltoXk\":-17.5675666967912,\"fPixeltoX\":0.226736800995944,\"fAbsPixeltoYk\":1.04857142970491,\"fPixeltoYk\":0.762857143299478,\"fPixeltoY\":-4.99500500708801e-4,\"fXlowNDC\":0,\"fYlowNDC\":0,\"fXUpNDC\":0,\"fYUpNDC\":0,\"fWNDC\":1,\"fHNDC\":1,\"fAbsXlowNDC\":0,\"fAbsYlowNDC\":0,\"fAbsWNDC\":1,\"fAbsHNDC\":1,\"fUxmin\":0,\"fUymin\":0.8,\"fUxmax\":100,\"fUymax\":1.02,\"fTheta\":30,\"fPhi\":30,\"fAspectRatio\":0,\"fNumber\":0,\"fTickx\":0,\"fTicky\":0,\"fLogx\":0,\"fLogy\":0,\"fLogz\":0,\"fPadPaint\":0,\"fCrosshair\":0,\"fCrosshairPos\":0,\"fBorderSize\":2,\"fBorderMode\":0,\"fModified\":false,\"fGridx\":false,\"fGridy\":false,\"fAbsCoord\":false,\"fEditable\":true,\"fFixedAspectRatio\":false,\"fPrimitives\":{\"_typename\":\"TList\",\"name\":\"TList\",\"arr\":[{\"_typename\":\"TFrame\",\"fUniqueID\":0,\"fBits\":50331656,\"fLineColor\":1,\"fLineStyle\":1,\"fLineWidth\":1,\"fFillColor\":0,\"fFillStyle\":1001,\"fX1\":0,\"fY1\":0.8,\"fX2\":100,\"fY2\":1.02,\"fBorderSize\":1,\"fBorderMode\":0},{\"_typename\":\"TGraphAsymmErrors\",\"fUniqueID\":0,\"fBits\":50332680,\"fName\":\"a0eade\",\"fTitle\":\"; p_{T}^{GEN} [GeV];\",\"fLineColor\":1,\"fLineStyle\":1,\"fLineWidth\":1,\"fFillColor\":0,\"fFillStyle\":1001,\"fMarkerColor\":1,\"fMarkerStyle\":8,\"fMarkerSize\":0.5,\"fNpoints\":25,\"fX\":[2,6,10,14,18,22,26,30,34,38,42,46,50,54,58,62,66,70,74,78,82,86,90,94,98],\"fY\":[0,0,0,0,0.00308008213552361,0.35407949790795,0.900051255766274,0.965891472868217,0.985796948974224,0.985441767068273,0.988217967599411,0.990005260389269,0.988119834710744,0.992067426871591,0.993147074327886,0.99251497005988,0.991136600625652,0.99107585523054,0.993377483443709,0.995859213250518,0.992553191489362,0.995225464190981,0.994164456233422,0.992004264392324,0.996371176775531],\"fFunctions\":{\"_typename\":\"TList\",\"name\":\"TList\",\"arr\":[],\"opt\":[]},\"fHistogram\":{\"_typename\":\"TH1F\",\"fUniqueID\":0,\"fBits\":50332160,\"fName\":\"a0eade\",\"fTitle\":\"\",\"fLineColor\":602,\"fLineStyle\":1,\"fLineWidth\":1,\"fFillColor\":0,\"fFillStyle\":1001,\"fMarkerColor\":1,\"fMarkerStyle\":1,\"fMarkerSize\":1,\"fNcells\":102,\"fXaxis\":{\"_typename\":\"TAxis\",\"fUniqueID\":0,\"fBits\":50331656,\"fName\":\"xaxis\",\"fTitle\":\" p_{T}^{GEN} [GeV]\",\"fNdivisions\":510,\"fAxisColor\":1,\"fLabelColor\":1,\"fLabelFont\":42,\"fLabelOffset\":0.005,\"fLabelSize\":0.035,\"fTickLength\":0.03,\"fTitleOffset\":1.4,\"fTitleSize\":0.035,\"fTitleColor\":1,\"fTitleFont\":42,\"fNbins\":100,\"fXmin\":0,\"fXmax\":100,\"fXbins\":[],\"fFirst\":0,\"fLast\":0,\"fBits2\":0,\"fTimeDisplay\":false,\"fTimeFormat\":\"\",\"fLabels\":null,\"fModLabs\":null},\"fYaxis\":{\"_typename\":\"TAxis\",\"fUniqueID\":0,\"fBits\":50331656,\"fName\":\"yaxis\",\"fTitle\":\"efficiency\",\"fNdivisions\":510,\"fAxisColor\":1,\"fLabelColor\":1,\"fLabelFont\":42,\"fLabelOffset\":0.005,\"fLabelSize\":0.035,\"fTickLength\":0.03,\"fTitleOffset\":0,\"fTitleSize\":0.035,\"fTitleColor\":1,\"fTitleFont\":42,\"fNbins\":1,\"fXmin\":0,\"fXmax\":1.09747932731107,\"fXbins\":[],\"fFirst\":0,\"fLast\":0,\"fBits2\":0,\"fTimeDisplay\":false,\"fTimeFormat\":\"\",\"fLabels\":null,\"fModLabs\":null},\"fZaxis\":{\"_typename\":\"TAxis\",\"fUniqueID\":0,\"fBits\":50331648,\"fName\":\"zaxis\",\"fTitle\":\"\",\"fNdivisions\":510,\"fAxisColor\":1,\"fLabelColor\":1,\"fLabelFont\":42,\"fLabelOffset\":0.005,\"fLabelSize\":0.035,\"fTickLength\":0.03,\"fTitleOffset\":1,\"fTitleSize\":0.035,\"fTitleColor\":1,\"fTitleFont\":42,\"fNbins\":1,\"fXmin\":0,\"fXmax\":1,\"fXbins\":[],\"fFirst\":0,\"fLast\":0,\"fBits2\":0,\"fTimeDisplay\":false,\"fTimeFormat\":\"\",\"fLabels\":null,\"fModLabs\":null},\"fBarOffset\":0,\"fBarWidth\":1000,\"fEntries\":0,\"fTsumw\":0,\"fTsumw2\":0,\"fTsumwx\":0,\"fTsumwx2\":0,\"fMaximum\":1.02,\"fMinimum\":0.8,\"fNormFactor\":0,\"fContour\":[],\"fSumw2\":[],\"fOption\":\"\",\"fFunctions\":{\"_typename\":\"TList\",\"name\":\"TList\",\"arr\":[],\"opt\":[]},\"fBufferSize\":0,\"fBuffer\":[],\"fBinStatErrOpt\":0,\"fStatOverflows\":2,\"fArray\":[0,0,0,0,0,0,0,0,0,0,0,0,0,0,0,0,0,0,0,0,0,0,0,0,0,0,0,0,0,0,0,0,0,0,0,0,0,0,0,0,0,0,0,0,0,0,0,0,0,0,0,0,0,0,0,0,0,0,0,0,0,0,0,0,0,0,0,0,0,0,0,0,0,0,0,0,0,0,0,0,0,0,0,0,0,0,0,0,0,0,0,0,0,0,0,0,0,0,0,0,0,0]},\"fMinimum\":-1111,\"fMaximum\":-1111,\"fEXlow\":[2,2,2,2,2,2,2,2,2,2,2,2,2,2,2,2,2,2,2,2,2,2,2,2,2],\"fEXhigh\":[2,2,2,2,2,2,2,2,2,2,2,2,2,2,2,2,2,2,2,2,2,2,2,2,2],\"fEYlow\":[0,0,0,0,0.0012210716916023,0.0111175115478789,0.00725956753121371,0.00464389575075685,0.00326426306886873,0.00320759635942147,0.0029076921457919,0.00284072644184441,0.00300694148550007,0.00250692917180373,0.00246475844624883,0.00246208859697328,0.00269737635021794,0.00262281249952478,0.002382264112326,0.0020356849557448,0.00255647426759087,0.00217289493102046,0.00233339623487561,0.00262917800393836,0.00194906910938897],\"fEYhigh\":[0.00192591439828387,9.54430986065682e-4,9.27503898987273e-4,9.74126418975377e-4,0.00183512635531987,0.0112737479124335,0.00683410908405246,0.00413230361433392,0.00270370546904275,0.00267468142502325,0.00237917933940324,0.00226583674688374,0.00244986074260822,0.00195783190048504,0.00187257749644121,0.0019069229442068,0.00212292624839916,0.00207828400531607,0.00180972726583795,0.00143167083230611,0.0019622827558875,0.00155985852220974,0.00172993184919035,0.00203674445284252,0.00133730259816411]},{\"_typename\":\"TGraphAsymmErrors\",\"fUniqueID\":0,\"fBits\":50332680,\"fName\":\"b5309d\",\"fTitle\":\"; p_{T}^{GEN} [GeV];\",\"fLineColor\":628,\"fLineStyle\":1,\"fLineWidth\":1,\"fFillColor\":0,\"fFillStyle\":1001,\"fMarkerColor\":628,\"fMarkerStyle\":21,\"fMarkerSize\":0.5,\"fNpoints\":25,\"fX\":[2,6,10,14,18,22,26,30,34,38,42,46,50,54,58,62,66,70,74,78,82,86,90,94,98],\"fY\":[0,0,0,0,0.00308008213552361,0.348326359832636,0.890825217837007,0.958656330749354,0.978958442924776,0.982429718875502,0.98379970544919,0.984218832193582,0.981921487603306,0.987109568666336,0.986821296784396,0.989021956087824,0.988008342022941,0.986117997025285,0.989302088639837,0.990683229813665,0.987234042553191,0.988859416445623,0.981432360742706,0.984008528784648,0.988076723691032],\"fFunctions\":{\"_typename\":\"TList\",\"name\":\"TList\",\"arr\":[],\"opt\":[]},\"fHistogram\":{\"_typename\":\"TH1F\",\"fUniqueID\":0,\"fBits\":50332160,\"fName\":\"b5309d\",\"fTitle\":\"\",\"fLineColor\":602,\"fLineStyle\":1,\"fLineWidth\":1,\"fFillColor\":0,\"fFillStyle\":1001,\"fMarkerColor\":1,\"fMarkerStyle\":1,\"fMarkerSize\":1,\"fNcells\":102,\"fXaxis\":{\"_typename\":\"TAxis\",\"fUniqueID\":0,\"fBits\":50331656,\"fName\":\"xaxis\",\"fTitle\":\" p_{T}^{GEN} [GeV]\",\"fNdivisions\":510,\"fAxisColor\":1,\"fLabelColor\":1,\"fLabelFont\":42,\"fLabelOffset\":0.005,\"fLabelSize\":0.035,\"fTickLength\":0.03,\"fTitleOffset\":1.4,\"fTitleSize\":0.035,\"fTitleColor\":1,\"fTitleFont\":42,\"fNbins\":100,\"fXmin\":0,\"fXmax\":100,\"fXbins\":[],\"fFirst\":0,\"fLast\":0,\"fBits2\":0,\"fTimeDisplay\":false,\"fTimeFormat\":\"\",\"fLabels\":null,\"fModLabs\":null},\"fYaxis\":{\"_typename\":\"TAxis\",\"fUniqueID\":0,\"fBits\":50331656,\"fName\":\"yaxis\",\"fTitle\":\"efficiency\",\"fNdivisions\":510,\"fAxisColor\":1,\"fLabelColor\":1,\"fLabelFont\":42,\"fLabelOffset\":0.005,\"fLabelSize\":0.035,\"fTickLength\":0.03,\"fTitleOffset\":0,\"fTitleSize\":0.035,\"fTitleColor\":1,\"fTitleFont\":42,\"fNbins\":1,\"fXmin\":0,\"fXmax\":1.09213796853915,\"fXbins\":[],\"fFirst\":0,\"fLast\":0,\"fBits2\":0,\"fTimeDisplay\":false,\"fTimeFormat\":\"\",\"fLabels\":null,\"fModLabs\":null},\"fZaxis\":{\"_typename\":\"TAxis\",\"fUniqueID\":0,\"fBits\":50331648,\"fName\":\"zaxis\",\"fTitle\":\"\",\"fNdivisions\":510,\"fAxisColor\":1,\"fLabelColor\":1,\"fLabelFont\":42,\"fLabelOffset\":0.005,\"fLabelSize\":0.035,\"fTickLength\":0.03,\"fTitleOffset\":1,\"fTitleSize\":0.035,\"fTitleColor\":1,\"fTitleFont\":42,\"fNbins\":1,\"fXmin\":0,\"fXmax\":1,\"fXbins\":[],\"fFirst\":0,\"fLast\":0,\"fBits2\":0,\"fTimeDisplay\":false,\"fTimeFormat\":\"\",\"fLabels\":null,\"fModLabs\":null},\"fBarOffset\":0,\"fBarWidth\":1000,\"fEntries\":0,\"fTsumw\":0,\"fTsumw2\":0,\"fTsumwx\":0,\"fTsumwx2\":0,\"fMaximum\":1.02,\"fMinimum\":0.8,\"fNormFactor\":0,\"fContour\":[],\"fSumw2\":[],\"fOption\":\"\",\"fFunctions\":{\"_typename\":\"TList\",\"name\":\"TList\",\"arr\":[],\"opt\":[]},\"fBufferSize\":0,\"fBuffer\":[],\"fBinStatErrOpt\":0,\"fStatOverflows\":2,\"fArray\":[0,0,0,0,0,0,0,0,0,0,0,0,0,0,0,0,0,0,0,0,0,0,0,0,0,0,0,0,0,0,0,0,0,0,0,0,0,0,0,0,0,0,0,0,0,0,0,0,0,0,0,0,0,0,0,0,0,0,0,0,0,0,0,0,0,0,0,0,0,0,0,0,0,0,0,0,0,0,0,0,0,0,0,0,0,0,0,0,0,0,0,0,0,0,0,0,0,0,0,0,0,0]},\"fMinimum\":-1111,\"fMaximum\":-1111,\"fEXlow\":[2,2,2,2,2,2,2,2,2,2,2,2,2,2,2,2,2,2,2,2,2,2,2,2,2],\"fEXhigh\":[2,2,2,2,2,2,2,2,2,2,2,2,2,2,2,2,2,2,2,2,2,2,2,2,2],\"fEYlow\":[0,0,0,0,0.0012210716916023,0.011073436326734,0.00752415182641908,0.00503752219392717,0.00383219725955908,0.00346322565436885,0.00330679235908993,0.00340613487288621,0.00356229776111305,0.00303177101632324,0.0031717556103632,0.00285499070357542,0.00303494630801637,0.00312355873377235,0.00286130036676102,0.00273750333744693,0.00314855898980093,0.00297885372245144,0.00365758696187457,0.00345107728373273,0.00301777062000075],\"fEYhigh\":[0.00192591439828387,9.54430986065682e-4,9.27503898987273e-4,9.74126418975377e-4,0.00183512635531987,0.0112358468532262,0.00710908513047814,0.00453650375674475,0.00328812152433566,0.00293762791017482,0.00279015940678284,0.00284989852980244,0.00302206077241318,0.00250115216900981,0.00260690480906367,0.00231468453255002,0.002472764754893,0.00259573010578584,0.00230814672266766,0.00216946885828961,0.00257705312213952,0.00240332758389028,0.00310329096646611,0.00288767079071828,0.00245871725968805]},{\"_typename\":\"TLegend\",\"fUniqueID\":0,\"fBits\":50331656,\"fLineColor\":1,\"fLineStyle\":1,\"fLineWidth\":1,\"fFillColor\":0,\"fFillStyle\":0,\"fX1\":63.5135133393582,\"fY1\":0.905714286502195,\"fX2\":98.6486480216896,\"fY2\":0.934285715142738,\"fX1NDC\":0.6,\"fY1NDC\":0.5,\"fX2NDC\":0.86,\"fY2NDC\":0.6,\"fBorderSize\":0,\"fInit\":1,\"fShadowColor\":1,\"fCornerRadius\":0,\"fOption\":\"brNDC\",\"fName\":\"TPave\",\"fTextAngle\":0,\"fTextSize\":0.03,\"fTextAlign\":12,\"fTextColor\":1,\"fTextFont\":42,\"fPrimitives\":{\"_typename\":\"TList\",\"name\":\"TList\",\"arr\":[{\"_typename\":\"TLegendEntry\",\"fUniqueID\":0,\"fBits\":50331656,\"fTextAngle\":0,\"fTextSize\":0,\"fTextAlign\":0,\"fTextColor\":0,\"fTextFont\":42,\"fLineColor\":1,\"fLineStyle\":1,\"fLineWidth\":1,\"fFillColor\":0,\"fFillStyle\":0,\"fMarkerColor\":1,\"fMarkerStyle\":8,\"fMarkerSize\":0.5,\"fObject\":{\"$ref\":3},\"fLabel\":\"w\\/o EG ID\",\"fOption\":\"P\"},{\"_typename\":\"TLegendEntry\",\"fUniqueID\":0,\"fBits\":50331656,\"fTextAngle\":0,\"fTextSize\":0,\"fTextAlign\":0,\"fTextColor\":0,\"fTextFont\":42,\"fLineColor\":1,\"fLineStyle\":1,\"fLineWidth\":1,\"fFillColor\":0,\"fFillStyle\":0,\"fMarkerColor\":628,\"fMarkerStyle\":21,\"fMarkerSize\":0.5,\"fObject\":{\"$ref\":10},\"fLabel\":\"w EG ID\",\"fOption\":\"P\"}],\"opt\":[\"P\",\"P\"]},\"fEntrySeparation\":0.1,\"fMargin\":0.25,\"fNColumns\":1,\"fColumnSeparation\":0},{\"_typename\":\"TLatex\",\"fUniqueID\":0,\"fBits\":50348040,\"fName\":\"\",\"fTitle\":\"EG barrel, |#eta^{GEN}| #leq 1.47, p_{T}^{L1} #geq 25GeV\",\"fTextAngle\":0,\"fTextSize\":0.03,\"fTextAlign\":11,\"fTextColor\":1,\"fTextFont\":62,\"fX\":0.15,\"fY\":0.85,\"fLineColor\":1,\"fLineStyle\":1,\"fLineWidth\":2,\"fLimitFactorSize\":3,\"fOriginSize\":0.0299999993294477},{\"_typename\":\"TLatex\",\"fUniqueID\":0,\"fBits\":50348041,\"fName\":\"\",\"fTitle\":\"#scale[1.5]{CMS} #scale[1.]{Phase-2 Simulation}\",\"fTextAngle\":0,\"fTextSize\":0.03,\"fTextAlign\":11,\"fTextColor\":1,\"fTextFont\":62,\"fX\":0.13,\"fY\":0.91,\"fLineColor\":1,\"fLineStyle\":1,\"fLineWidth\":2,\"fLimitFactorSize\":3,\"fOriginSize\":0.0299999993294477},{\"_typename\":\"TLatex\",\"fUniqueID\":0,\"fBits\":50348041,\"fName\":\"\",\"fTitle\":\"14TeV, 200 PU\",\"fTextAngle\":0,\"fTextSize\":0.03,\"fTextAlign\":11,\"fTextColor\":1,\"fTextFont\":62,\"fX\":0.69,\"fY\":0.91,\"fLineColor\":1,\"fLineStyle\":1,\"fLineWidth\":2,\"fLimitFactorSize\":3,\"fOriginSize\":0.0299999993294477},{\"_typename\":\"TLatex\",\"fUniqueID\":0,\"fBits\":50331656,\"fName\":\"\",\"fTitle\":\"\",\"fTextAngle\":0,\"fTextSize\":0.03,\"fTextAlign\":11,\"fTextColor\":1,\"fTextFont\":62,\"fX\":0,\"fY\":0,\"fLineColor\":1,\"fLineStyle\":1,\"fLineWidth\":2,\"fLimitFactorSize\":3,\"fOriginSize\":0.04},{\"_typename\":\"TLine\",\"fUniqueID\":0,\"fBits\":50331656,\"fLineColor\":1,\"fLineStyle\":2,\"fLineWidth\":1,\"fX1\":0,\"fY1\":0.95,\"fX2\":100,\"fY2\":0.95},{\"_typename\":\"TLine\",\"fUniqueID\":0,\"fBits\":50331656,\"fLineColor\":1,\"fLineStyle\":2,\"fLineWidth\":1,\"fX1\":0,\"fY1\":1,\"fX2\":100,\"fY2\":1}],\"opt\":[\"\",\"pa\",\",p\",\"same\",\"same\",\"\",\"\",\"same\",\"same\",\"same\"]},\"fExecs\":null,\"fName\":\"c_49fe5d\",\"fTitle\":\"c_49fe5d\",\"fNumPaletteColor\":0,\"fNextPaletteColor\":0,\"fDISPLAY\":\"$DISPLAY\",\"fDoubleBuffer\":0,\"fRetained\":true,\"fXsizeUser\":0,\"fYsizeUser\":0,\"fXsizeReal\":20,\"fYsizeReal\":20,\"fWindowTopX\":0,\"fWindowTopY\":0,\"fWindowWidth\":0,\"fWindowHeight\":0,\"fCw\":596,\"fCh\":572,\"fCatt\":{\"_typename\":\"TAttCanvas\",\"fXBetween\":2,\"fYBetween\":2,\"fTitleFromTop\":1.2,\"fXdate\":0.2,\"fYdate\":0.3,\"fAdate\":1},\"kMoveOpaque\":true,\"kResizeOpaque\":true,\"fHighLightColor\":2,\"fBatch\":true,\"kShowEventStatus\":false,\"kAutoExec\":true,\"kMenuBar\":true});\n",
       "       Core.draw(\"root_plot_46\", obj, \"\");\n",
       "     }\n",
       " );\n",
       "</script>\n"
      ],
      "text/plain": [
       "<IPython.core.display.HTML object>"
      ]
     },
     "metadata": {},
     "output_type": "display_data"
    }
   ],
   "source": [
    "hsets, labels, text = hplot.get_histo(histos.HistoSetEff, sample, ['PU200'], ['EGBRL'], ['Pt25', 'Pt25LooseTkID'], ['GENEtaF', 'all'])\n",
    "for hset in hsets:\n",
    "    hset.computeEff(rebin=2)\n",
    "\n",
    "labels=['w/o EG ID', 'w EG ID']\n",
    "legend_position = (0.6, 0.5, 0.86, 0.6)\n",
    "text_forprint='EG barrel, |#eta^{GEN}| #leq 1.47, p_{T}^{L1} #geq 25GeV'\n",
    "draw([his.h_eff.h_pt.CreateGraph() for his in hsets], labels, text=text_forprint, \n",
    "     min_y=0.8, max_y=1.02, min_x=0.0, max_x=100, \n",
    "     y_axis_label='efficiency', h_lines=[0.95, 1],\n",
    "     legend_position=legend_position,\n",
    "     do_write=True, write_name='figs/EgammaBarrelOnlyCaloEff')\n"
   ]
  },
  {
   "cell_type": "code",
   "execution_count": 102,
   "metadata": {},
   "outputs": [
    {
     "data": {
      "text/plain": [
       "<__main__.DrawMachine at 0x11c71bcd0>"
      ]
     },
     "execution_count": 102,
     "metadata": {},
     "output_type": "execute_result"
    },
    {
     "name": "stderr",
     "output_type": "stream",
     "text": [
      "Info in <TCanvas::Print>: pdf file figs/egammaBarrel_TkEle_LooseTkIDPt25_GENEtaF_hEffvPt.pdf has been created\n"
     ]
    },
    {
     "data": {
      "text/html": [
       "\n",
       "<div id=\"root_plot_47\"\n",
       "     style=\"width: 596px; height: 572px\">\n",
       "</div>\n",
       "\n",
       "<script>\n",
       " requirejs.config({\n",
       "     paths: {\n",
       "       'JSRootCore' : 'https://root.cern.ch/js/notebook//scripts/JSRootCore',\n",
       "     }\n",
       "   });\n",
       " require(['JSRootCore'],\n",
       "     function(Core) {\n",
       "       var obj = Core.JSONR_unref({\"_typename\":\"TCanvas\",\"fUniqueID\":0,\"fBits\":53673992,\"fLineColor\":1,\"fLineStyle\":1,\"fLineWidth\":1,\"fFillColor\":0,\"fFillStyle\":1001,\"fLeftMargin\":0.13,\"fRightMargin\":0.13,\"fBottomMargin\":0.13,\"fTopMargin\":0.1,\"fXfile\":2,\"fYfile\":2,\"fAfile\":1,\"fXstat\":0.99,\"fYstat\":0.99,\"fAstat\":2,\"fFrameFillColor\":0,\"fFrameLineColor\":1,\"fFrameFillStyle\":1001,\"fFrameLineStyle\":1,\"fFrameLineWidth\":1,\"fFrameBorderSize\":1,\"fFrameBorderMode\":0,\"fX1\":-19.2891882330767,\"fY1\":-0.185714283502611,\"fX2\":129.089188233077,\"fY2\":1.24285714852456,\"fXtoAbsPixelk\":77.4800471580505,\"fXtoPixelk\":77.4800471580505,\"fXtoPixel\":4.01675779311383,\"fYtoAbsPixelk\":497.640051065433,\"fYtoPixelk\":497.640051065433,\"fYtoPixel\":-400.399999031424,\"fUtoAbsPixelk\":5e-5,\"fUtoPixelk\":5e-5,\"fUtoPixel\":596,\"fVtoAbsPixelk\":572.00005,\"fVtoPixelk\":572,\"fVtoPixel\":-572,\"fAbsPixeltoXk\":-19.2891882330767,\"fPixeltoXk\":-19.2891882330767,\"fPixeltoX\":0.248957007493546,\"fAbsPixeltoYk\":1.24285714852456,\"fPixeltoYk\":-0.185714283502611,\"fPixeltoY\":-0.00249750250354401,\"fXlowNDC\":0,\"fYlowNDC\":0,\"fXUpNDC\":0,\"fYUpNDC\":0,\"fWNDC\":1,\"fHNDC\":1,\"fAbsXlowNDC\":0,\"fAbsYlowNDC\":0,\"fAbsWNDC\":1,\"fAbsHNDC\":1,\"fUxmin\":0,\"fUymin\":0,\"fUxmax\":109.8,\"fUymax\":1.1,\"fTheta\":30,\"fPhi\":30,\"fAspectRatio\":0,\"fNumber\":0,\"fTickx\":0,\"fTicky\":0,\"fLogx\":0,\"fLogy\":0,\"fLogz\":0,\"fPadPaint\":0,\"fCrosshair\":0,\"fCrosshairPos\":0,\"fBorderSize\":2,\"fBorderMode\":0,\"fModified\":false,\"fGridx\":false,\"fGridy\":false,\"fAbsCoord\":false,\"fEditable\":true,\"fFixedAspectRatio\":false,\"fPrimitives\":{\"_typename\":\"TList\",\"name\":\"TList\",\"arr\":[{\"_typename\":\"TFrame\",\"fUniqueID\":0,\"fBits\":50331656,\"fLineColor\":1,\"fLineStyle\":1,\"fLineWidth\":1,\"fFillColor\":0,\"fFillStyle\":1001,\"fX1\":0,\"fY1\":0,\"fX2\":109.8,\"fY2\":1.1,\"fBorderSize\":1,\"fBorderMode\":0},{\"_typename\":\"TGraphAsymmErrors\",\"fUniqueID\":0,\"fBits\":50332680,\"fName\":\"5cb3ab\",\"fTitle\":\"; p_{T}^{GEN} [GeV];\",\"fLineColor\":1,\"fLineStyle\":1,\"fLineWidth\":1,\"fFillColor\":0,\"fFillStyle\":1001,\"fMarkerColor\":1,\"fMarkerStyle\":8,\"fMarkerSize\":0.5,\"fNpoints\":49,\"fX\":[3,5,7,9,11,13,15,17,19,21,23,25,27,29,31,33,35,37,39,41,43,45,47,49,51,53,55,57,59,61,63,65,67,69,71,73,75,77,79,81,83,85,87,89,91,93,95,97,99],\"fY\":[0,0,0,0,0,0,0,0,0.00598802395209581,0.113188976377953,0.614955357142857,0.863404689092762,0.918556701030928,0.955806783144913,0.961538461538462,0.982869379014989,0.975180972078594,0.976608187134503,0.988612836438923,0.980808080808081,0.986628462273161,0.982581967213115,0.985945945945946,0.980923694779116,0.982978723404255,0.986895161290323,0.987317073170732,0.985122210414453,0.988493723849372,0.987115956392468,0.990954773869347,0.983589743589744,0.992576882290562,0.987128712871287,0.985104270109235,0.987654320987654,0.990918264379415,0.993795243019648,0.987564766839378,0.991516436903499,0.982924226254002,0.989035087719298,0.988694758478931,0.987193169690502,0.975738396624473,0.986639260020555,0.981173864894795,0.983193277310924,0.992835209825998],\"fFunctions\":{\"_typename\":\"TList\",\"name\":\"TList\",\"arr\":[],\"opt\":[]},\"fHistogram\":{\"_typename\":\"TH1F\",\"fUniqueID\":0,\"fBits\":50332160,\"fName\":\"5cb3ab\",\"fTitle\":\"\",\"fLineColor\":602,\"fLineStyle\":1,\"fLineWidth\":1,\"fFillColor\":0,\"fFillStyle\":1001,\"fMarkerColor\":1,\"fMarkerStyle\":1,\"fMarkerSize\":1,\"fNcells\":102,\"fXaxis\":{\"_typename\":\"TAxis\",\"fUniqueID\":0,\"fBits\":50331656,\"fName\":\"xaxis\",\"fTitle\":\" p_{T}^{GEN} [GeV]\",\"fNdivisions\":510,\"fAxisColor\":1,\"fLabelColor\":1,\"fLabelFont\":42,\"fLabelOffset\":0.005,\"fLabelSize\":0.035,\"fTickLength\":0.03,\"fTitleOffset\":1.4,\"fTitleSize\":0.035,\"fTitleColor\":1,\"fTitleFont\":42,\"fNbins\":100,\"fXmin\":0,\"fXmax\":109.8,\"fXbins\":[],\"fFirst\":0,\"fLast\":0,\"fBits2\":0,\"fTimeDisplay\":false,\"fTimeFormat\":\"\",\"fLabels\":null,\"fModLabs\":null},\"fYaxis\":{\"_typename\":\"TAxis\",\"fUniqueID\":0,\"fBits\":50331656,\"fName\":\"yaxis\",\"fTitle\":\"efficiency\",\"fNdivisions\":510,\"fAxisColor\":1,\"fLabelColor\":1,\"fLabelFont\":42,\"fLabelOffset\":0.005,\"fLabelSize\":0.035,\"fTickLength\":0.03,\"fTitleOffset\":0,\"fTitleSize\":0.035,\"fTitleColor\":1,\"fTitleFont\":42,\"fNbins\":1,\"fXmin\":0,\"fXmax\":1.09587908628848,\"fXbins\":[],\"fFirst\":0,\"fLast\":0,\"fBits2\":0,\"fTimeDisplay\":false,\"fTimeFormat\":\"\",\"fLabels\":null,\"fModLabs\":null},\"fZaxis\":{\"_typename\":\"TAxis\",\"fUniqueID\":0,\"fBits\":50331648,\"fName\":\"zaxis\",\"fTitle\":\"\",\"fNdivisions\":510,\"fAxisColor\":1,\"fLabelColor\":1,\"fLabelFont\":42,\"fLabelOffset\":0.005,\"fLabelSize\":0.035,\"fTickLength\":0.03,\"fTitleOffset\":1,\"fTitleSize\":0.035,\"fTitleColor\":1,\"fTitleFont\":42,\"fNbins\":1,\"fXmin\":0,\"fXmax\":1,\"fXbins\":[],\"fFirst\":0,\"fLast\":0,\"fBits2\":0,\"fTimeDisplay\":false,\"fTimeFormat\":\"\",\"fLabels\":null,\"fModLabs\":null},\"fBarOffset\":0,\"fBarWidth\":1000,\"fEntries\":0,\"fTsumw\":0,\"fTsumw2\":0,\"fTsumwx\":0,\"fTsumwx2\":0,\"fMaximum\":1.1,\"fMinimum\":0,\"fNormFactor\":0,\"fContour\":[],\"fSumw2\":[],\"fOption\":\"\",\"fFunctions\":{\"_typename\":\"TList\",\"name\":\"TList\",\"arr\":[],\"opt\":[]},\"fBufferSize\":0,\"fBuffer\":[],\"fBinStatErrOpt\":0,\"fStatOverflows\":2,\"fArray\":[0,0,0,0,0,0,0,0,0,0,0,0,0,0,0,0,0,0,0,0,0,0,0,0,0,0,0,0,0,0,0,0,0,0,0,0,0,0,0,0,0,0,0,0,0,0,0,0,0,0,0,0,0,0,0,0,0,0,0,0,0,0,0,0,0,0,0,0,0,0,0,0,0,0,0,0,0,0,0,0,0,0,0,0,0,0,0,0,0,0,0,0,0,0,0,0,0,0,0,0,0,0]},\"fMinimum\":-1111,\"fMaximum\":-1111,\"fEXlow\":[1,1,1,1,1,1,1,1,1,1,1,1,1,1,1,1,1,1,1,1,1,1,1,1,1,1,1,1,1,1,1,1,1,1,1,1,1,1,1,1,1,1,1,1,1,1,1,1,1],\"fEXhigh\":[1,1,1,1,1,1,1,1,1,1,1,1,1,1,1,1,1,1,1,1,1,1,1,1,1,1,1,1,1,1,1,1,1,1,1,1,1,1,1,1,1,1,1,1,1,1,1,1,1],\"fEYlow\":[0,0,0,0,0,0,0,0,0.00237268749339594,0.0100318792584376,0.016937645035302,0.0118597039347041,0.00975602531287523,0.00761449132345238,0.00724820314509156,0.00538071220150993,0.00607461380450869,0.00573051139715564,0.00453545219705154,0.00542218062404387,0.00457200040969741,0.00527090873482616,0.00502981096096344,0.00538992453918563,0.00534675830012488,0.00469316346085868,0.00454338590023584,0.00508180368859201,0.00458250785696968,0.00461479276770549,0.00410362992995417,0.0051569300787101,0.00397534009305411,0.00461026415054466,0.00487539106013979,0.00465116722987502,0.00412008311677536,0.00368757273200959,0.00468461365125694,0.00415710002400316,0.00536368152487077,0.00464204950992608,0.0045030840896656,0.00482335158911695,0.00609244779381179,0.004783964886516,0.00569169580600393,0.00528011983830201,0.00383776384932644],\"fEYhigh\":[0.00192591439828387,0.00188838072126811,0.00192793122919638,0.00187683006296159,0.00183200672073017,0.0020122196424826,0.0018864457485102,0.00194421922799597,0.00355938439649433,0.0108305728438283,0.0166724224800159,0.0110848349954452,0.00884288011171963,0.00660501935759605,0.00620874677651073,0.0042169362018768,0.00499074806033117,0.00470593404803643,0.00337108889036319,0.00433882798010832,0.00351783098283531,0.00416153953398224,0.00383301458973628,0.00431284132913823,0.00419015062774142,0.00357502929533537,0.00346031678862613,0.00391249664474336,0.00340625125560823,0.00351500111627068,0.0029522876686886,0.00404044075379595,0.00273356828433413,0.00351153276094196,0.00378709460693349,0.00350262603554374,0.00296417981278918,0.00245847178806469,0.00352795278951212,0.00293050373987402,0.00420350074674014,0.00339988523597545,0.0033469040705264,0.00363303144619731,0.00498337593517495,0.00364459304342257,0.00449611588922394,0.00413758745742177,0.00263857169784887]},{\"_typename\":\"TGraphAsymmErrors\",\"fUniqueID\":0,\"fBits\":50332680,\"fName\":\"953af0\",\"fTitle\":\"; p_{T}^{GEN} [GeV];\",\"fLineColor\":628,\"fLineStyle\":1,\"fLineWidth\":1,\"fFillColor\":0,\"fFillStyle\":1001,\"fMarkerColor\":628,\"fMarkerStyle\":21,\"fMarkerSize\":0.5,\"fNpoints\":49,\"fX\":[3,5,7,9,11,13,15,17,19,21,23,25,27,29,31,33,35,37,39,41,43,45,47,49,51,53,55,57,59,61,63,65,67,69,71,73,75,77,79,81,83,85,87,89,91,93,95,97,99],\"fY\":[0,0,0,0,0,0,0,0,0.00499001996007984,0.0984251968503937,0.558035714285714,0.741080530071356,0.791752577319588,0.817060637204522,0.832640332640333,0.850107066381156,0.832471561530507,0.846003898635478,0.89648033126294,0.886868686868687,0.878701050620821,0.864754098360656,0.874594594594595,0.8785140562249,0.89468085106383,0.893145161290323,0.879024390243902,0.889479277364506,0.902719665271967,0.921704658077304,0.916582914572864,0.901538461538462,0.904559915164369,0.908910891089109,0.915590863952334,0.8940329218107,0.917255297679112,0.915201654601861,0.919170984455959,0.926829268292683,0.906083244397012,0.926535087719298,0.929085303186023,0.932764140875133,0.917721518987342,0.932168550873587,0.91140642303433,0.920168067226891,0.932446264073695],\"fFunctions\":{\"_typename\":\"TList\",\"name\":\"TList\",\"arr\":[],\"opt\":[]},\"fHistogram\":{\"_typename\":\"TH1F\",\"fUniqueID\":0,\"fBits\":50332160,\"fName\":\"953af0\",\"fTitle\":\"\",\"fLineColor\":602,\"fLineStyle\":1,\"fLineWidth\":1,\"fFillColor\":0,\"fFillStyle\":1001,\"fMarkerColor\":1,\"fMarkerStyle\":1,\"fMarkerSize\":1,\"fNcells\":102,\"fXaxis\":{\"_typename\":\"TAxis\",\"fUniqueID\":0,\"fBits\":50331656,\"fName\":\"xaxis\",\"fTitle\":\" p_{T}^{GEN} [GeV]\",\"fNdivisions\":510,\"fAxisColor\":1,\"fLabelColor\":1,\"fLabelFont\":42,\"fLabelOffset\":0.005,\"fLabelSize\":0.035,\"fTickLength\":0.03,\"fTitleOffset\":1.4,\"fTitleSize\":0.035,\"fTitleColor\":1,\"fTitleFont\":42,\"fNbins\":100,\"fXmin\":0,\"fXmax\":109.8,\"fXbins\":[],\"fFirst\":0,\"fLast\":0,\"fBits2\":0,\"fTimeDisplay\":false,\"fTimeFormat\":\"\",\"fLabels\":null,\"fModLabs\":null},\"fYaxis\":{\"_typename\":\"TAxis\",\"fUniqueID\":0,\"fBits\":50331656,\"fName\":\"yaxis\",\"fTitle\":\"efficiency\",\"fNdivisions\":510,\"fAxisColor\":1,\"fLabelColor\":1,\"fLabelFont\":42,\"fLabelOffset\":0.005,\"fLabelSize\":0.035,\"fTickLength\":0.03,\"fTitleOffset\":0,\"fTitleSize\":0.035,\"fTitleColor\":1,\"fTitleFont\":42,\"fNbins\":1,\"fXmin\":0,\"fXmax\":1.03509002515367,\"fXbins\":[],\"fFirst\":0,\"fLast\":0,\"fBits2\":0,\"fTimeDisplay\":false,\"fTimeFormat\":\"\",\"fLabels\":null,\"fModLabs\":null},\"fZaxis\":{\"_typename\":\"TAxis\",\"fUniqueID\":0,\"fBits\":50331648,\"fName\":\"zaxis\",\"fTitle\":\"\",\"fNdivisions\":510,\"fAxisColor\":1,\"fLabelColor\":1,\"fLabelFont\":42,\"fLabelOffset\":0.005,\"fLabelSize\":0.035,\"fTickLength\":0.03,\"fTitleOffset\":1,\"fTitleSize\":0.035,\"fTitleColor\":1,\"fTitleFont\":42,\"fNbins\":1,\"fXmin\":0,\"fXmax\":1,\"fXbins\":[],\"fFirst\":0,\"fLast\":0,\"fBits2\":0,\"fTimeDisplay\":false,\"fTimeFormat\":\"\",\"fLabels\":null,\"fModLabs\":null},\"fBarOffset\":0,\"fBarWidth\":1000,\"fEntries\":0,\"fTsumw\":0,\"fTsumw2\":0,\"fTsumwx\":0,\"fTsumwx2\":0,\"fMaximum\":1.1,\"fMinimum\":0,\"fNormFactor\":0,\"fContour\":[],\"fSumw2\":[],\"fOption\":\"\",\"fFunctions\":{\"_typename\":\"TList\",\"name\":\"TList\",\"arr\":[],\"opt\":[]},\"fBufferSize\":0,\"fBuffer\":[],\"fBinStatErrOpt\":0,\"fStatOverflows\":2,\"fArray\":[0,0,0,0,0,0,0,0,0,0,0,0,0,0,0,0,0,0,0,0,0,0,0,0,0,0,0,0,0,0,0,0,0,0,0,0,0,0,0,0,0,0,0,0,0,0,0,0,0,0,0,0,0,0,0,0,0,0,0,0,0,0,0,0,0,0,0,0,0,0,0,0,0,0,0,0,0,0,0,0,0,0,0,0,0,0,0,0,0,0,0,0,0,0,0,0,0,0,0,0,0,0]},\"fMinimum\":-1111,\"fMaximum\":-1111,\"fEXlow\":[1,1,1,1,1,1,1,1,1,1,1,1,1,1,1,1,1,1,1,1,1,1,1,1,1,1,1,1,1,1,1,1,1,1,1,1,1,1,1,1,1,1,1,1,1,1,1,1,1],\"fEXhigh\":[1,1,1,1,1,1,1,1,1,1,1,1,1,1,1,1,1,1,1,1,1,1,1,1,1,1,1,1,1,1,1,1,1,1,1,1,1,1,1,1,1,1,1,1,1,1,1,1,1],\"fEYlow\":[0,0,0,0,0,0,0,0,0.00215373679242055,0.00942234511168936,0.0172060625265414,0.0147435974583356,0.013860618066791,0.0132433454827802,0.012912307415246,0.0126045736307955,0.012881230265772,0.0121048623688079,0.0107510575744859,0.0109817084040726,0.0109448362176231,0.0118480796419516,0.0118529330782804,0.0112507731645274,0.0109858398198089,0.0107288246566922,0.0110597038994619,0.0111870980275895,0.010551861006031,0.00939693116650631,0.00971266670973281,0.0104886526029606,0.0105516337186897,0.00997668923097461,0.00969451403029098,0.0108131144008446,0.00970281576261534,0.00993117948408428,0.00975434970089251,0.00949414234411861,0.0105217162402514,0.00968756100616142,0.00921406957272408,0.00921020669982864,0.0099204869242886,0.00905084137624312,0.0104932356009163,0.0097790842329134,0.00901530856618815],\"fEYhigh\":[0.00192591439828387,0.00188838072126811,0.00192793122919638,0.00187683006296159,0.00183200672073017,0.0020122196424826,0.0018864457485102,0.00194421922799597,0.00336160272936716,0.0102540174371708,0.0170722536069557,0.0142345006345456,0.0132356689466863,0.0125650211963285,0.0121913247200736,0.0118210103173053,0.012164425853517,0.011401622552149,0.00988734134829705,0.0101614161241754,0.0101876069380835,0.0110661163095915,0.0110033215266251,0.0104543018036887,0.0101020101068167,0.00989593510873654,0.0102851566305884,0.0103167900068655,0.00966389406889634,0.00851253917977779,0.00882779776244791,0.0096212121869188,0.00964659322188144,0.00912315637441241,0.00882280088852783,0.00996059667356197,0.0088126672539961,0.00902338775726641,0.00883481988740653,0.00853283155291362,0.00960695168901182,0.00869340502668925,0.00827752062692111,0.00822679108274638,0.00898767475424234,0.00810640688944153,0.00952927140580007,0.00884413504253057,0.00807414211178881]},{\"_typename\":\"TLegend\",\"fUniqueID\":0,\"fBits\":50331656,\"fLineColor\":1,\"fLineStyle\":1,\"fLineWidth\":1,\"fFillColor\":0,\"fFillStyle\":0,\"fX1\":69.7378376466153,\"fY1\":0.528571432510975,\"fX2\":108.316215527815,\"fY2\":0.671428575713692,\"fX1NDC\":0.6,\"fY1NDC\":0.5,\"fX2NDC\":0.86,\"fY2NDC\":0.6,\"fBorderSize\":0,\"fInit\":1,\"fShadowColor\":1,\"fCornerRadius\":0,\"fOption\":\"brNDC\",\"fName\":\"TPave\",\"fTextAngle\":0,\"fTextSize\":0.03,\"fTextAlign\":12,\"fTextColor\":1,\"fTextFont\":42,\"fPrimitives\":{\"_typename\":\"TList\",\"name\":\"TList\",\"arr\":[{\"_typename\":\"TLegendEntry\",\"fUniqueID\":0,\"fBits\":50331656,\"fTextAngle\":0,\"fTextSize\":0,\"fTextAlign\":0,\"fTextColor\":0,\"fTextFont\":42,\"fLineColor\":1,\"fLineStyle\":1,\"fLineWidth\":1,\"fFillColor\":0,\"fFillStyle\":0,\"fMarkerColor\":1,\"fMarkerStyle\":8,\"fMarkerSize\":0.5,\"fObject\":{\"$ref\":3},\"fLabel\":\"calorimeter only\",\"fOption\":\"P\"},{\"_typename\":\"TLegendEntry\",\"fUniqueID\":0,\"fBits\":50331656,\"fTextAngle\":0,\"fTextSize\":0,\"fTextAlign\":0,\"fTextColor\":0,\"fTextFont\":42,\"fLineColor\":1,\"fLineStyle\":1,\"fLineWidth\":1,\"fFillColor\":0,\"fFillStyle\":0,\"fMarkerColor\":628,\"fMarkerStyle\":21,\"fMarkerSize\":0.5,\"fObject\":{\"$ref\":10},\"fLabel\":\"track-matched\",\"fOption\":\"P\"}],\"opt\":[\"P\",\"P\"]},\"fEntrySeparation\":0.1,\"fMargin\":0.25,\"fNColumns\":1,\"fColumnSeparation\":0},{\"_typename\":\"TLatex\",\"fUniqueID\":0,\"fBits\":50348040,\"fName\":\"\",\"fTitle\":\"EG barrel, |#eta^{GEN}| #leq 1.479, p_{T}^{L1} #geq 25GeV\",\"fTextAngle\":0,\"fTextSize\":0.03,\"fTextAlign\":11,\"fTextColor\":1,\"fTextFont\":62,\"fX\":0.15,\"fY\":0.85,\"fLineColor\":1,\"fLineStyle\":1,\"fLineWidth\":2,\"fLimitFactorSize\":3,\"fOriginSize\":0.0299999993294477},{\"_typename\":\"TLatex\",\"fUniqueID\":0,\"fBits\":50348041,\"fName\":\"\",\"fTitle\":\"#scale[1.5]{CMS} #scale[1.]{Phase-2 Simulation}\",\"fTextAngle\":0,\"fTextSize\":0.03,\"fTextAlign\":11,\"fTextColor\":1,\"fTextFont\":62,\"fX\":0.13,\"fY\":0.91,\"fLineColor\":1,\"fLineStyle\":1,\"fLineWidth\":2,\"fLimitFactorSize\":3,\"fOriginSize\":0.0299999993294477},{\"_typename\":\"TLatex\",\"fUniqueID\":0,\"fBits\":50348041,\"fName\":\"\",\"fTitle\":\"14TeV, 200 PU\",\"fTextAngle\":0,\"fTextSize\":0.03,\"fTextAlign\":11,\"fTextColor\":1,\"fTextFont\":62,\"fX\":0.69,\"fY\":0.91,\"fLineColor\":1,\"fLineStyle\":1,\"fLineWidth\":2,\"fLimitFactorSize\":3,\"fOriginSize\":0.0299999993294477},{\"_typename\":\"TLatex\",\"fUniqueID\":0,\"fBits\":50331656,\"fName\":\"\",\"fTitle\":\"\",\"fTextAngle\":0,\"fTextSize\":0.03,\"fTextAlign\":11,\"fTextColor\":1,\"fTextFont\":62,\"fX\":0,\"fY\":0,\"fLineColor\":1,\"fLineStyle\":1,\"fLineWidth\":2,\"fLimitFactorSize\":3,\"fOriginSize\":0.04},{\"_typename\":\"TLine\",\"fUniqueID\":0,\"fBits\":50331656,\"fLineColor\":1,\"fLineStyle\":2,\"fLineWidth\":1,\"fX1\":0,\"fY1\":0.95,\"fX2\":109.8,\"fY2\":0.95},{\"_typename\":\"TLine\",\"fUniqueID\":0,\"fBits\":50331656,\"fLineColor\":1,\"fLineStyle\":2,\"fLineWidth\":1,\"fX1\":0,\"fY1\":1,\"fX2\":109.8,\"fY2\":1}],\"opt\":[\"\",\"pa\",\",p\",\"same\",\"same\",\"\",\"\",\"same\",\"same\",\"same\"]},\"fExecs\":null,\"fName\":\"c_196bea\",\"fTitle\":\"c_196bea\",\"fNumPaletteColor\":0,\"fNextPaletteColor\":0,\"fDISPLAY\":\"$DISPLAY\",\"fDoubleBuffer\":0,\"fRetained\":true,\"fXsizeUser\":0,\"fYsizeUser\":0,\"fXsizeReal\":20,\"fYsizeReal\":20,\"fWindowTopX\":0,\"fWindowTopY\":0,\"fWindowWidth\":0,\"fWindowHeight\":0,\"fCw\":596,\"fCh\":572,\"fCatt\":{\"_typename\":\"TAttCanvas\",\"fXBetween\":2,\"fYBetween\":2,\"fTitleFromTop\":1.2,\"fXdate\":0.2,\"fYdate\":0.3,\"fAdate\":1},\"kMoveOpaque\":true,\"kResizeOpaque\":true,\"fHighLightColor\":2,\"fBatch\":true,\"kShowEventStatus\":false,\"kAutoExec\":true,\"kMenuBar\":true});\n",
       "       Core.draw(\"root_plot_47\", obj, \"\");\n",
       "     }\n",
       " );\n",
       "</script>\n"
      ],
      "text/plain": [
       "<IPython.core.display.HTML object>"
      ]
     },
     "metadata": {},
     "output_type": "display_data"
    }
   ],
   "source": [
    "hsets, labels, text = hplot.get_histo(histos.HistoSetEff, sample, ['PU200'], ['EGALL', 'TkEleELALL'], 'Pt25LooseTkID', 'GENEtaF')\n",
    "labels=['calorimeter only', 'track-matched']\n",
    "legend_position = (0.6, 0.5, 0.86, 0.6)\n",
    "text_forprint='EG barrel, |#eta^{GEN}| #leq 1.479, p_{T}^{L1} #geq 25GeV'\n",
    "draw([his.h_eff.h_pt.CreateGraph() for his in hsets], labels, text=text_forprint, min_y=0, max_y=1.1, \n",
    "     y_axis_label='efficiency', h_lines=[0.95, 1],\n",
    "     legend_position=legend_position,\n",
    "     do_write=True, write_name='figs/egammaBarrel_TkEle_LooseTkIDPt25_GENEtaF_hEffvPt')\n"
   ]
  },
  {
   "cell_type": "markdown",
   "metadata": {},
   "source": [
    "## Turn-on curves"
   ]
  },
  {
   "cell_type": "code",
   "execution_count": 112,
   "metadata": {},
   "outputs": [
    {
     "data": {
      "text/plain": [
       "<__main__.DrawMachine at 0x11bf6e850>"
      ]
     },
     "execution_count": 112,
     "metadata": {},
     "output_type": "execute_result"
    },
    {
     "data": {
      "text/html": [
       "\n",
       "<div id=\"root_plot_48\"\n",
       "     style=\"width: 796px; height: 572px\">\n",
       "</div>\n",
       "\n",
       "<script>\n",
       " requirejs.config({\n",
       "     paths: {\n",
       "       'JSRootCore' : 'https://root.cern.ch/js/notebook//scripts/JSRootCore',\n",
       "     }\n",
       "   });\n",
       " require(['JSRootCore'],\n",
       "     function(Core) {\n",
       "       var obj = Core.JSONR_unref({\"_typename\":\"TCanvas\",\"fUniqueID\":0,\"fBits\":53673992,\"fLineColor\":1,\"fLineStyle\":1,\"fLineWidth\":1,\"fFillColor\":0,\"fFillStyle\":1001,\"fLeftMargin\":0.13,\"fRightMargin\":0.3,\"fBottomMargin\":0.13,\"fTopMargin\":0.1,\"fXfile\":2,\"fYfile\":2,\"fAfile\":1,\"fXstat\":0.99,\"fYstat\":0.99,\"fAstat\":2,\"fFrameFillColor\":0,\"fFrameLineColor\":1,\"fFrameFillStyle\":1001,\"fFrameLineStyle\":1,\"fFrameLineWidth\":1,\"fFrameBorderSize\":1,\"fFrameBorderMode\":0,\"fX1\":-25.0421046588559,\"fY1\":-0.185714283502611,\"fX2\":167.58947670572,\"fY2\":1.24285714852456,\"fXtoAbsPixelk\":103.480046204376,\"fXtoPixelk\":103.480046204376,\"fXtoPixel\":4.13224038530569,\"fYtoAbsPixelk\":497.640051065433,\"fYtoPixelk\":497.640051065433,\"fYtoPixel\":-400.399999031424,\"fUtoAbsPixelk\":5e-5,\"fUtoPixelk\":5e-5,\"fUtoPixel\":796,\"fVtoAbsPixelk\":572.00005,\"fVtoPixelk\":572,\"fVtoPixel\":-572,\"fAbsPixeltoXk\":-25.0421046588559,\"fPixeltoXk\":-25.0421046588559,\"fPixeltoX\":0.241999474076101,\"fAbsPixeltoYk\":1.24285714852456,\"fPixeltoYk\":-0.185714283502611,\"fPixeltoY\":-0.00249750250354401,\"fXlowNDC\":0,\"fYlowNDC\":0,\"fXUpNDC\":0,\"fYUpNDC\":0,\"fWNDC\":1,\"fHNDC\":1,\"fAbsXlowNDC\":0,\"fAbsYlowNDC\":0,\"fAbsWNDC\":1,\"fAbsHNDC\":1,\"fUxmin\":0,\"fUymin\":0,\"fUxmax\":109.8,\"fUymax\":1.1,\"fTheta\":30,\"fPhi\":30,\"fAspectRatio\":0,\"fNumber\":0,\"fTickx\":0,\"fTicky\":0,\"fLogx\":0,\"fLogy\":0,\"fLogz\":0,\"fPadPaint\":0,\"fCrosshair\":0,\"fCrosshairPos\":0,\"fBorderSize\":2,\"fBorderMode\":0,\"fModified\":false,\"fGridx\":false,\"fGridy\":false,\"fAbsCoord\":false,\"fEditable\":true,\"fFixedAspectRatio\":false,\"fPrimitives\":{\"_typename\":\"TList\",\"name\":\"TList\",\"arr\":[{\"_typename\":\"TFrame\",\"fUniqueID\":0,\"fBits\":50331656,\"fLineColor\":1,\"fLineStyle\":1,\"fLineWidth\":1,\"fFillColor\":0,\"fFillStyle\":1001,\"fX1\":0,\"fY1\":0,\"fX2\":109.8,\"fY2\":1.1,\"fBorderSize\":1,\"fBorderMode\":0},{\"_typename\":\"TGraphAsymmErrors\",\"fUniqueID\":0,\"fBits\":50332680,\"fName\":\"ccaeee\",\"fTitle\":\"; p_{T}^{GEN} [GeV];\",\"fLineColor\":1,\"fLineStyle\":1,\"fLineWidth\":1,\"fFillColor\":0,\"fFillStyle\":1001,\"fMarkerColor\":1,\"fMarkerStyle\":8,\"fMarkerSize\":0.5,\"fNpoints\":49,\"fX\":[3,5,7,9,11,13,15,17,19,21,23,25,27,29,31,33,35,37,39,41,43,45,47,49,51,53,55,57,59,61,63,65,67,69,71,73,75,77,79,81,83,85,87,89,91,93,95,97,99],\"fY\":[0,0,0,0,0,0,0,0,0,0,0,0,0.016,0.0910780669144981,0.398148148148148,0.642126789366053,0.807207207207207,0.863321799307958,0.903398926654741,0.939278937381404,0.965973534971645,0.968220338983051,0.973166368515206,0.986842105263158,0.987951807228916,0.99403578528827,0.994285714285714,0.994545454545455,0.992233009708738,0.99644128113879,0.996491228070175,1,0.996138996138996,1,1,1,0.99647266313933,0.998165137614679,0.998069498069498,1,0.99822695035461,1,1,0.998230088495575,0.998158379373849,0.998058252427184,0.998201438848921,1,1],\"fFunctions\":{\"_typename\":\"TList\",\"name\":\"TList\",\"arr\":[],\"opt\":[]},\"fHistogram\":{\"_typename\":\"TH1F\",\"fUniqueID\":0,\"fBits\":50332160,\"fName\":\"ccaeee\",\"fTitle\":\"\",\"fLineColor\":602,\"fLineStyle\":1,\"fLineWidth\":1,\"fFillColor\":0,\"fFillStyle\":1001,\"fMarkerColor\":1,\"fMarkerStyle\":1,\"fMarkerSize\":1,\"fNcells\":102,\"fXaxis\":{\"_typename\":\"TAxis\",\"fUniqueID\":0,\"fBits\":50331656,\"fName\":\"xaxis\",\"fTitle\":\" p_{T}^{GEN} [GeV]\",\"fNdivisions\":510,\"fAxisColor\":1,\"fLabelColor\":1,\"fLabelFont\":42,\"fLabelOffset\":0.005,\"fLabelSize\":0.035,\"fTickLength\":0.03,\"fTitleOffset\":1.4,\"fTitleSize\":0.035,\"fTitleColor\":1,\"fTitleFont\":42,\"fNbins\":100,\"fXmin\":0,\"fXmax\":109.8,\"fXbins\":[],\"fFirst\":0,\"fLast\":0,\"fBits2\":0,\"fTimeDisplay\":false,\"fTimeFormat\":\"\",\"fLabels\":null,\"fModLabs\":null},\"fYaxis\":{\"_typename\":\"TAxis\",\"fUniqueID\":0,\"fBits\":50331656,\"fName\":\"yaxis\",\"fTitle\":\"L1 matched to GEN and p_{T}>th.\\/L1 matched to GEN\",\"fNdivisions\":510,\"fAxisColor\":1,\"fLabelColor\":1,\"fLabelFont\":42,\"fLabelOffset\":0.005,\"fLabelSize\":0.035,\"fTickLength\":0.03,\"fTitleOffset\":0,\"fTitleSize\":0.035,\"fTitleColor\":1,\"fTitleFont\":42,\"fNbins\":1,\"fXmin\":0,\"fXmax\":1.1,\"fXbins\":[],\"fFirst\":0,\"fLast\":0,\"fBits2\":0,\"fTimeDisplay\":false,\"fTimeFormat\":\"\",\"fLabels\":null,\"fModLabs\":null},\"fZaxis\":{\"_typename\":\"TAxis\",\"fUniqueID\":0,\"fBits\":50331648,\"fName\":\"zaxis\",\"fTitle\":\"\",\"fNdivisions\":510,\"fAxisColor\":1,\"fLabelColor\":1,\"fLabelFont\":42,\"fLabelOffset\":0.005,\"fLabelSize\":0.035,\"fTickLength\":0.03,\"fTitleOffset\":1,\"fTitleSize\":0.035,\"fTitleColor\":1,\"fTitleFont\":42,\"fNbins\":1,\"fXmin\":0,\"fXmax\":1,\"fXbins\":[],\"fFirst\":0,\"fLast\":0,\"fBits2\":0,\"fTimeDisplay\":false,\"fTimeFormat\":\"\",\"fLabels\":null,\"fModLabs\":null},\"fBarOffset\":0,\"fBarWidth\":1000,\"fEntries\":0,\"fTsumw\":0,\"fTsumw2\":0,\"fTsumwx\":0,\"fTsumwx2\":0,\"fMaximum\":1.1,\"fMinimum\":0,\"fNormFactor\":0,\"fContour\":[],\"fSumw2\":[],\"fOption\":\"\",\"fFunctions\":{\"_typename\":\"TList\",\"name\":\"TList\",\"arr\":[],\"opt\":[]},\"fBufferSize\":0,\"fBuffer\":[],\"fBinStatErrOpt\":0,\"fStatOverflows\":2,\"fArray\":[0,0,0,0,0,0,0,0,0,0,0,0,0,0,0,0,0,0,0,0,0,0,0,0,0,0,0,0,0,0,0,0,0,0,0,0,0,0,0,0,0,0,0,0,0,0,0,0,0,0,0,0,0,0,0,0,0,0,0,0,0,0,0,0,0,0,0,0,0,0,0,0,0,0,0,0,0,0,0,0,0,0,0,0,0,0,0,0,0,0,0,0,0,0,0,0,0,0,0,0,0,0]},\"fMinimum\":-1111,\"fMaximum\":-1111,\"fEXlow\":[1,1,1,1,1,1,1,1,1,1,1,1,1,1,1,1,1,1,1,1,1,1,1,1,1,1,1,1,1,1,1,1,1,1,1,1,1,1,1,1,1,1,1,1,1,1,1,1,1],\"fEXhigh\":[1,1,1,1,1,1,1,1,1,1,1,1,1,1,1,1,1,1,1,1,1,1,1,1,1,1,1,1,1,1,1,1,1,1,1,1,1,1,1,1,1,1,1,1,1,1,1,1,1],\"fEYlow\":[0,0,0,0,0,0,0,0,0,0,0,0,0.0055181572072346,0.0125198018082352,0.0217739982916976,0.0229815450983176,0.018218145722755,0.0158143076815558,0.0141625995631315,0.0122707057482808,0.00983597107608847,0.0102829140040896,0.00871190898416019,0.00701523058506826,0.00642912837421328,0.00576745900290809,0.00552714318889003,0.00527726675823759,0.00609858294376964,0.00467435060619115,0.0046090132127572,0.00350056657582654,0.00506961820607532,0.00346759968683441,0.00337851090995966,0.00338472230368492,0.0046332995610554,0.00420655633739031,0.00442511811202106,0.00359629985182086,0.00406526099946136,0.00353416632119274,0.00347414329597728,0.00405808687428899,0.00422200298480258,0.00445081284829207,0.00412358026016912,0.00356151411478722,0.00366065719283548],\"fEYhigh\":[0.011029219057088,0.0076415770731012,0.0056835446152275,0.00461500053258629,0.00404690288416236,0.00453541625251657,0.00386022264228776,0.00392607965115006,0.00380438394142321,0.00357534734320347,0.00354096381975243,0.00348071164830587,0.00779596555499652,0.0141521019922474,0.0221673550077727,0.0223736049993031,0.017052804645064,0.0144823888719493,0.0126175872551921,0.0104535044862117,0.00786506778077001,0.00804135479541557,0.00679935592567416,0.00483998111594119,0.00443275247812858,0.00324421994043744,0.0031083406470126,0.00296712084153228,0.003713557184024,0.00229827473165234,0.00226602278609156,0,0.00249346472665857,0,0,0,0.00227801062754107,0.00151793320693461,0.00159705603204052,0,0.00146679552412288,0,0,0.00146419934298714,0.00152352430682134,0.00160635959682764,0.00148790118023034,0,0]},{\"_typename\":\"TLatex\",\"fUniqueID\":0,\"fBits\":50348040,\"fName\":\"\",\"fTitle\":\"PU200, EG, hwQual 4, p_{T}^{L1}>=30GeV, 1.52 < |#eta^{GEN}| <= 2.4\",\"fTextAngle\":0,\"fTextSize\":0.03,\"fTextAlign\":11,\"fTextColor\":1,\"fTextFont\":62,\"fX\":0.15,\"fY\":0.85,\"fLineColor\":1,\"fLineStyle\":1,\"fLineWidth\":2,\"fLimitFactorSize\":3,\"fOriginSize\":0.04},{\"_typename\":\"TLatex\",\"fUniqueID\":0,\"fBits\":50331656,\"fName\":\"\",\"fTitle\":\"\",\"fTextAngle\":0,\"fTextSize\":0.03,\"fTextAlign\":11,\"fTextColor\":1,\"fTextFont\":62,\"fX\":0,\"fY\":0,\"fLineColor\":1,\"fLineStyle\":1,\"fLineWidth\":2,\"fLimitFactorSize\":3,\"fOriginSize\":0.04},{\"_typename\":\"TLine\",\"fUniqueID\":0,\"fBits\":50331656,\"fLineColor\":1,\"fLineStyle\":2,\"fLineWidth\":1,\"fX1\":0,\"fY1\":0.95,\"fX2\":109.8,\"fY2\":0.95},{\"_typename\":\"TLine\",\"fUniqueID\":0,\"fBits\":50331656,\"fLineColor\":1,\"fLineStyle\":2,\"fLineWidth\":1,\"fX1\":0,\"fY1\":1,\"fX2\":109.8,\"fY2\":1}],\"opt\":[\"\",\"pa\",\"same\",\"same\",\"same\",\"same\"]},\"fExecs\":null,\"fName\":\"c_48204c\",\"fTitle\":\"c_48204c\",\"fNumPaletteColor\":0,\"fNextPaletteColor\":0,\"fDISPLAY\":\"$DISPLAY\",\"fDoubleBuffer\":0,\"fRetained\":true,\"fXsizeUser\":0,\"fYsizeUser\":0,\"fXsizeReal\":20,\"fYsizeReal\":15,\"fWindowTopX\":0,\"fWindowTopY\":0,\"fWindowWidth\":0,\"fWindowHeight\":0,\"fCw\":796,\"fCh\":572,\"fCatt\":{\"_typename\":\"TAttCanvas\",\"fXBetween\":2,\"fYBetween\":2,\"fTitleFromTop\":1.2,\"fXdate\":0.2,\"fYdate\":0.3,\"fAdate\":1},\"kMoveOpaque\":true,\"kResizeOpaque\":true,\"fHighLightColor\":2,\"fBatch\":true,\"kShowEventStatus\":false,\"kAutoExec\":true,\"kMenuBar\":true});\n",
       "       Core.draw(\"root_plot_48\", obj, \"\");\n",
       "     }\n",
       " );\n",
       "</script>\n"
      ],
      "text/plain": [
       "<IPython.core.display.HTML object>"
      ]
     },
     "metadata": {},
     "output_type": "display_data"
    }
   ],
   "source": [
    "hsets, labels, text = hplot.get_histo(histos.HistoSetEff, 'ele-V9', ['PU200'], ['EG'], ['EGq4Pt30'], 'GENEtaBC', debug=False)\n",
    "draw([his.h_ton.h_pt.CreateGraph() for his in hsets], labels, text=text, min_y=0, max_y=1.1, y_axis_label='L1 matched to GEN and p_{T}>th./L1 matched to GEN', h_lines=[0.95, 1])\n"
   ]
  },
  {
   "cell_type": "code",
   "execution_count": 113,
   "metadata": {},
   "outputs": [
    {
     "name": "stdout",
     "output_type": "stream",
     "text": [
      "No match found for: pu: ['PU200'], tp: ['HMvDRshapeDrCalib'], tp_sel: ['EmPt30'], gen_sel: GENEtaBC, classtype: python.l1THistos.HistoSetEff\n"
     ]
    },
    {
     "ename": "TypeError",
     "evalue": "'NoneType' object is not iterable",
     "output_type": "error",
     "traceback": [
      "\u001b[0;31m\u001b[0m",
      "\u001b[0;31mTypeError\u001b[0mTraceback (most recent call last)",
      "\u001b[0;32m<ipython-input-113-1e62b598c6e9>\u001b[0m in \u001b[0;36m<module>\u001b[0;34m()\u001b[0m\n\u001b[1;32m      1\u001b[0m \u001b[0mhsets\u001b[0m\u001b[0;34m,\u001b[0m \u001b[0mlabels\u001b[0m\u001b[0;34m,\u001b[0m \u001b[0mtext\u001b[0m \u001b[0;34m=\u001b[0m \u001b[0mhplot\u001b[0m\u001b[0;34m.\u001b[0m\u001b[0mget_histo\u001b[0m\u001b[0;34m(\u001b[0m\u001b[0mhistos\u001b[0m\u001b[0;34m.\u001b[0m\u001b[0mHistoSetEff\u001b[0m\u001b[0;34m,\u001b[0m \u001b[0;34m'calib'\u001b[0m\u001b[0;34m,\u001b[0m \u001b[0;34m[\u001b[0m\u001b[0;34m'PU200'\u001b[0m\u001b[0;34m]\u001b[0m\u001b[0;34m,\u001b[0m \u001b[0;34m[\u001b[0m\u001b[0;34m'HMvDRshapeDrCalib'\u001b[0m\u001b[0;34m]\u001b[0m\u001b[0;34m,\u001b[0m \u001b[0;34m[\u001b[0m\u001b[0;34m'EmPt30'\u001b[0m\u001b[0;34m]\u001b[0m\u001b[0;34m,\u001b[0m \u001b[0;34m'GENEtaBC'\u001b[0m\u001b[0;34m,\u001b[0m \u001b[0mdebug\u001b[0m\u001b[0;34m=\u001b[0m\u001b[0mFalse\u001b[0m\u001b[0;34m)\u001b[0m\u001b[0;34m\u001b[0m\u001b[0m\n\u001b[0;32m----> 2\u001b[0;31m \u001b[0mdraw\u001b[0m\u001b[0;34m(\u001b[0m\u001b[0;34m[\u001b[0m\u001b[0mhis\u001b[0m\u001b[0;34m.\u001b[0m\u001b[0mh_ton\u001b[0m\u001b[0;34m.\u001b[0m\u001b[0mh_pt\u001b[0m\u001b[0;34m.\u001b[0m\u001b[0mCreateGraph\u001b[0m\u001b[0;34m(\u001b[0m\u001b[0;34m)\u001b[0m \u001b[0;32mfor\u001b[0m \u001b[0mhis\u001b[0m \u001b[0;32min\u001b[0m \u001b[0mhsets\u001b[0m\u001b[0;34m]\u001b[0m\u001b[0;34m,\u001b[0m \u001b[0mlabels\u001b[0m\u001b[0;34m,\u001b[0m \u001b[0mtext\u001b[0m\u001b[0;34m=\u001b[0m\u001b[0mtext\u001b[0m\u001b[0;34m,\u001b[0m \u001b[0mmin_y\u001b[0m\u001b[0;34m=\u001b[0m\u001b[0;36m0\u001b[0m\u001b[0;34m,\u001b[0m \u001b[0mmax_y\u001b[0m\u001b[0;34m=\u001b[0m\u001b[0;36m1.1\u001b[0m\u001b[0;34m,\u001b[0m \u001b[0my_axis_label\u001b[0m\u001b[0;34m=\u001b[0m\u001b[0;34m'L1 matched to GEN and p_{T}>th./L1 matched to GEN'\u001b[0m\u001b[0;34m,\u001b[0m \u001b[0mh_lines\u001b[0m\u001b[0;34m=\u001b[0m\u001b[0;34m[\u001b[0m\u001b[0;36m0.95\u001b[0m\u001b[0;34m,\u001b[0m \u001b[0;36m1\u001b[0m\u001b[0;34m]\u001b[0m\u001b[0;34m)\u001b[0m\u001b[0;34m\u001b[0m\u001b[0m\n\u001b[0m",
      "\u001b[0;31mTypeError\u001b[0m: 'NoneType' object is not iterable"
     ]
    }
   ],
   "source": [
    "hsets, labels, text = hplot.get_histo(histos.HistoSetEff, 'calib', ['PU200'], ['HMvDRshapeDrCalib'], ['EmPt30'], 'GENEtaBC', debug=False)\n",
    "draw([his.h_ton.h_pt.CreateGraph() for his in hsets], labels, text=text, min_y=0, max_y=1.1, y_axis_label='L1 matched to GEN and p_{T}>th./L1 matched to GEN', h_lines=[0.95, 1])\n"
   ]
  },
  {
   "cell_type": "code",
   "execution_count": 114,
   "metadata": {},
   "outputs": [
    {
     "data": {
      "text/plain": [
       "<__main__.DrawMachine at 0x11bf983d0>"
      ]
     },
     "execution_count": 114,
     "metadata": {},
     "output_type": "execute_result"
    },
    {
     "data": {
      "text/html": [
       "\n",
       "<div id=\"root_plot_49\"\n",
       "     style=\"width: 796px; height: 572px\">\n",
       "</div>\n",
       "\n",
       "<script>\n",
       " requirejs.config({\n",
       "     paths: {\n",
       "       'JSRootCore' : 'https://root.cern.ch/js/notebook//scripts/JSRootCore',\n",
       "     }\n",
       "   });\n",
       " require(['JSRootCore'],\n",
       "     function(Core) {\n",
       "       var obj = Core.JSONR_unref({\"_typename\":\"TCanvas\",\"fUniqueID\":0,\"fBits\":53673992,\"fLineColor\":1,\"fLineStyle\":1,\"fLineWidth\":1,\"fFillColor\":0,\"fFillStyle\":1001,\"fLeftMargin\":0.13,\"fRightMargin\":0.3,\"fBottomMargin\":0.13,\"fTopMargin\":0.1,\"fXfile\":2,\"fYfile\":2,\"fAfile\":1,\"fXstat\":0.99,\"fYstat\":0.99,\"fAstat\":2,\"fFrameFillColor\":0,\"fFrameLineColor\":1,\"fFrameFillStyle\":1001,\"fFrameLineStyle\":1,\"fFrameLineWidth\":1,\"fFrameBorderSize\":1,\"fFrameBorderMode\":0,\"fX1\":-25.0421046588559,\"fY1\":-0.185714283502611,\"fX2\":167.58947670572,\"fY2\":1.24285714852456,\"fXtoAbsPixelk\":103.480046204376,\"fXtoPixelk\":103.480046204376,\"fXtoPixel\":4.13224038530569,\"fYtoAbsPixelk\":497.640051065433,\"fYtoPixelk\":497.640051065433,\"fYtoPixel\":-400.399999031424,\"fUtoAbsPixelk\":5e-5,\"fUtoPixelk\":5e-5,\"fUtoPixel\":796,\"fVtoAbsPixelk\":572.00005,\"fVtoPixelk\":572,\"fVtoPixel\":-572,\"fAbsPixeltoXk\":-25.0421046588559,\"fPixeltoXk\":-25.0421046588559,\"fPixeltoX\":0.241999474076101,\"fAbsPixeltoYk\":1.24285714852456,\"fPixeltoYk\":-0.185714283502611,\"fPixeltoY\":-0.00249750250354401,\"fXlowNDC\":0,\"fYlowNDC\":0,\"fXUpNDC\":0,\"fYUpNDC\":0,\"fWNDC\":1,\"fHNDC\":1,\"fAbsXlowNDC\":0,\"fAbsYlowNDC\":0,\"fAbsWNDC\":1,\"fAbsHNDC\":1,\"fUxmin\":0,\"fUymin\":0,\"fUxmax\":109.8,\"fUymax\":1.1,\"fTheta\":30,\"fPhi\":30,\"fAspectRatio\":0,\"fNumber\":0,\"fTickx\":0,\"fTicky\":0,\"fLogx\":0,\"fLogy\":0,\"fLogz\":0,\"fPadPaint\":0,\"fCrosshair\":0,\"fCrosshairPos\":0,\"fBorderSize\":2,\"fBorderMode\":0,\"fModified\":false,\"fGridx\":false,\"fGridy\":false,\"fAbsCoord\":false,\"fEditable\":true,\"fFixedAspectRatio\":false,\"fPrimitives\":{\"_typename\":\"TList\",\"name\":\"TList\",\"arr\":[{\"_typename\":\"TFrame\",\"fUniqueID\":0,\"fBits\":50331656,\"fLineColor\":1,\"fLineStyle\":1,\"fLineWidth\":1,\"fFillColor\":0,\"fFillStyle\":1001,\"fX1\":0,\"fY1\":0,\"fX2\":109.8,\"fY2\":1.1,\"fBorderSize\":1,\"fBorderMode\":0},{\"_typename\":\"TGraphAsymmErrors\",\"fUniqueID\":0,\"fBits\":50332680,\"fName\":\"076398\",\"fTitle\":\"; p_{T}^{GEN} [GeV];\",\"fLineColor\":1,\"fLineStyle\":1,\"fLineWidth\":1,\"fFillColor\":0,\"fFillStyle\":1001,\"fMarkerColor\":1,\"fMarkerStyle\":8,\"fMarkerSize\":0.5,\"fNpoints\":49,\"fX\":[3,5,7,9,11,13,15,17,19,21,23,25,27,29,31,33,35,37,39,41,43,45,47,49,51,53,55,57,59,61,63,65,67,69,71,73,75,77,79,81,83,85,87,89,91,93,95,97,99],\"fY\":[0,0,0,0,0,0,0,0,0,0.00194552529182879,0.00385356454720617,0.0321969696969697,0.224,0.557620817843866,0.761111111111111,0.895705521472393,0.942342342342342,0.958477508650519,0.98211091234347,0.992409867172676,0.998109640831758,0.989406779661017,0.994633273703041,0.99812030075188,0.996557659208262,0.996023856858847,1,1,0.996116504854369,1,1,1,0.996138996138996,1,1,1,0.99647266313933,0.998165137614679,0.998069498069498,1,0.99822695035461,1,1,0.998230088495575,0.998158379373849,0.998058252427184,0.998201438848921,1,1],\"fFunctions\":{\"_typename\":\"TList\",\"name\":\"TList\",\"arr\":[],\"opt\":[]},\"fHistogram\":{\"_typename\":\"TH1F\",\"fUniqueID\":0,\"fBits\":50332160,\"fName\":\"076398\",\"fTitle\":\"\",\"fLineColor\":602,\"fLineStyle\":1,\"fLineWidth\":1,\"fFillColor\":0,\"fFillStyle\":1001,\"fMarkerColor\":1,\"fMarkerStyle\":1,\"fMarkerSize\":1,\"fNcells\":102,\"fXaxis\":{\"_typename\":\"TAxis\",\"fUniqueID\":0,\"fBits\":50331656,\"fName\":\"xaxis\",\"fTitle\":\" p_{T}^{GEN} [GeV]\",\"fNdivisions\":510,\"fAxisColor\":1,\"fLabelColor\":1,\"fLabelFont\":42,\"fLabelOffset\":0.005,\"fLabelSize\":0.035,\"fTickLength\":0.03,\"fTitleOffset\":1.4,\"fTitleSize\":0.035,\"fTitleColor\":1,\"fTitleFont\":42,\"fNbins\":100,\"fXmin\":0,\"fXmax\":109.8,\"fXbins\":[],\"fFirst\":0,\"fLast\":0,\"fBits2\":0,\"fTimeDisplay\":false,\"fTimeFormat\":\"\",\"fLabels\":null,\"fModLabs\":null},\"fYaxis\":{\"_typename\":\"TAxis\",\"fUniqueID\":0,\"fBits\":50331656,\"fName\":\"yaxis\",\"fTitle\":\"L1 matched to GEN and p_{T}>th.\\/L1 matched to GEN\",\"fNdivisions\":510,\"fAxisColor\":1,\"fLabelColor\":1,\"fLabelFont\":42,\"fLabelOffset\":0.005,\"fLabelSize\":0.035,\"fTickLength\":0.03,\"fTitleOffset\":0,\"fTitleSize\":0.035,\"fTitleColor\":1,\"fTitleFont\":42,\"fNbins\":1,\"fXmin\":0,\"fXmax\":1.1,\"fXbins\":[],\"fFirst\":0,\"fLast\":0,\"fBits2\":0,\"fTimeDisplay\":false,\"fTimeFormat\":\"\",\"fLabels\":null,\"fModLabs\":null},\"fZaxis\":{\"_typename\":\"TAxis\",\"fUniqueID\":0,\"fBits\":50331648,\"fName\":\"zaxis\",\"fTitle\":\"\",\"fNdivisions\":510,\"fAxisColor\":1,\"fLabelColor\":1,\"fLabelFont\":42,\"fLabelOffset\":0.005,\"fLabelSize\":0.035,\"fTickLength\":0.03,\"fTitleOffset\":1,\"fTitleSize\":0.035,\"fTitleColor\":1,\"fTitleFont\":42,\"fNbins\":1,\"fXmin\":0,\"fXmax\":1,\"fXbins\":[],\"fFirst\":0,\"fLast\":0,\"fBits2\":0,\"fTimeDisplay\":false,\"fTimeFormat\":\"\",\"fLabels\":null,\"fModLabs\":null},\"fBarOffset\":0,\"fBarWidth\":1000,\"fEntries\":0,\"fTsumw\":0,\"fTsumw2\":0,\"fTsumwx\":0,\"fTsumwx2\":0,\"fMaximum\":1.1,\"fMinimum\":0,\"fNormFactor\":0,\"fContour\":[],\"fSumw2\":[],\"fOption\":\"\",\"fFunctions\":{\"_typename\":\"TList\",\"name\":\"TList\",\"arr\":[],\"opt\":[]},\"fBufferSize\":0,\"fBuffer\":[],\"fBinStatErrOpt\":0,\"fStatOverflows\":2,\"fArray\":[0,0,0,0,0,0,0,0,0,0,0,0,0,0,0,0,0,0,0,0,0,0,0,0,0,0,0,0,0,0,0,0,0,0,0,0,0,0,0,0,0,0,0,0,0,0,0,0,0,0,0,0,0,0,0,0,0,0,0,0,0,0,0,0,0,0,0,0,0,0,0,0,0,0,0,0,0,0,0,0,0,0,0,0,0,0,0,0,0,0,0,0,0,0,0,0,0,0,0,0,0,0]},\"fMinimum\":-1111,\"fMaximum\":-1111,\"fEXlow\":[1,1,1,1,1,1,1,1,1,1,1,1,1,1,1,1,1,1,1,1,1,1,1,1,1,1,1,1,1,1,1,1,1,1,1,1,1,1,1,1,1,1,1,1,1,1,1,1,1],\"fEXhigh\":[1,1,1,1,1,1,1,1,1,1,1,1,1,1,1,1,1,1,1,1,1,1,1,1,1,1,1,1,1,1,1,1,1,1,1,1,1,1,1,1,1,1,1,1,1,1,1,1,1],\"fEYlow\":[0,0,0,0,0,0,0,0,0,0.00160948491969759,0.00248866110621113,0.00765919026463394,0.019049169919242,0.0224324320904099,0.0197683248605409,0.0157115292502302,0.0116745006832895,0.0100542131287182,0.00753565392048938,0.00596066513928573,0.00433338965671748,0.00710263742087769,0.00519275337641956,0.00430902909587805,0.00452210043883006,0.00522010093980552,0.00350056657582654,0.00334171607834644,0.00509901665126333,0.00327047951878845,0.00322465214023471,0.00350056657582654,0.00506961820607532,0.00346759968683441,0.00337851090995966,0.00338472230368492,0.0046332995610554,0.00420655633739031,0.00442511811202106,0.00359629985182086,0.00406526099946136,0.00353416632119274,0.00347414329597728,0.00405808687428899,0.00422200298480258,0.00445081284829207,0.00412358026016912,0.00356151411478722,0.00366065719283548],\"fEYhigh\":[0.0110956905950783,0.00797249169425943,0.00573667471998057,0.00466174395275809,0.00406477309155856,0.00453541625251657,0.00386022264228776,0.00393447011365783,0.00381226179010358,0.00445944419882637,0.00505989391070331,0.00964751421492052,0.0202109580084496,0.0222091900546093,0.0187535985625662,0.0139754550120572,0.00993706933986249,0.00830403630393051,0.00553776486829871,0.00362907849872995,0.00156384579531399,0.00456819341023185,0.0029193724177935,0.00155502681708453,0.00222312638759459,0.00256781065272449,0,0,0.00250798749953929,0,0,0,0.00249346472665857,0,0,0,0.00227801062754107,0.00151793320693461,0.00159705603204052,0,0.00146679552412288,0,0,0.00146419934298714,0.00152352430682134,0.00160635959682764,0.00148790118023034,0,0]},{\"_typename\":\"TGraphAsymmErrors\",\"fUniqueID\":0,\"fBits\":50332680,\"fName\":\"45874f\",\"fTitle\":\"; p_{T}^{GEN} [GeV];\",\"fLineColor\":628,\"fLineStyle\":1,\"fLineWidth\":1,\"fFillColor\":0,\"fFillStyle\":1001,\"fMarkerColor\":628,\"fMarkerStyle\":21,\"fMarkerSize\":0.5,\"fNpoints\":49,\"fX\":[3,5,7,9,11,13,15,17,19,21,23,25,27,29,31,33,35,37,39,41,43,45,47,49,51,53,55,57,59,61,63,65,67,69,71,73,75,77,79,81,83,85,87,89,91,93,95,97,99],\"fY\":[0,0,0,0,0,0,0,0,0,0,0,0,0.016,0.0910780669144981,0.398148148148148,0.642126789366053,0.807207207207207,0.863321799307958,0.903398926654741,0.939278937381404,0.965973534971645,0.968220338983051,0.973166368515206,0.986842105263158,0.987951807228916,0.99403578528827,0.994285714285714,0.994545454545455,0.992233009708738,0.99644128113879,0.996491228070175,1,0.996138996138996,1,1,1,0.99647266313933,0.998165137614679,0.998069498069498,1,0.99822695035461,1,1,0.998230088495575,0.998158379373849,0.998058252427184,0.998201438848921,1,1],\"fFunctions\":{\"_typename\":\"TList\",\"name\":\"TList\",\"arr\":[],\"opt\":[]},\"fHistogram\":{\"_typename\":\"TH1F\",\"fUniqueID\":0,\"fBits\":50332160,\"fName\":\"45874f\",\"fTitle\":\"\",\"fLineColor\":602,\"fLineStyle\":1,\"fLineWidth\":1,\"fFillColor\":0,\"fFillStyle\":1001,\"fMarkerColor\":1,\"fMarkerStyle\":1,\"fMarkerSize\":1,\"fNcells\":102,\"fXaxis\":{\"_typename\":\"TAxis\",\"fUniqueID\":0,\"fBits\":50331656,\"fName\":\"xaxis\",\"fTitle\":\" p_{T}^{GEN} [GeV]\",\"fNdivisions\":510,\"fAxisColor\":1,\"fLabelColor\":1,\"fLabelFont\":42,\"fLabelOffset\":0.005,\"fLabelSize\":0.035,\"fTickLength\":0.03,\"fTitleOffset\":1.4,\"fTitleSize\":0.035,\"fTitleColor\":1,\"fTitleFont\":42,\"fNbins\":100,\"fXmin\":0,\"fXmax\":109.8,\"fXbins\":[],\"fFirst\":0,\"fLast\":0,\"fBits2\":0,\"fTimeDisplay\":false,\"fTimeFormat\":\"\",\"fLabels\":null,\"fModLabs\":null},\"fYaxis\":{\"_typename\":\"TAxis\",\"fUniqueID\":0,\"fBits\":50331656,\"fName\":\"yaxis\",\"fTitle\":\"L1 matched to GEN and p_{T}>th.\\/L1 matched to GEN\",\"fNdivisions\":510,\"fAxisColor\":1,\"fLabelColor\":1,\"fLabelFont\":42,\"fLabelOffset\":0.005,\"fLabelSize\":0.035,\"fTickLength\":0.03,\"fTitleOffset\":0,\"fTitleSize\":0.035,\"fTitleColor\":1,\"fTitleFont\":42,\"fNbins\":1,\"fXmin\":0,\"fXmax\":1.1,\"fXbins\":[],\"fFirst\":0,\"fLast\":0,\"fBits2\":0,\"fTimeDisplay\":false,\"fTimeFormat\":\"\",\"fLabels\":null,\"fModLabs\":null},\"fZaxis\":{\"_typename\":\"TAxis\",\"fUniqueID\":0,\"fBits\":50331648,\"fName\":\"zaxis\",\"fTitle\":\"\",\"fNdivisions\":510,\"fAxisColor\":1,\"fLabelColor\":1,\"fLabelFont\":42,\"fLabelOffset\":0.005,\"fLabelSize\":0.035,\"fTickLength\":0.03,\"fTitleOffset\":1,\"fTitleSize\":0.035,\"fTitleColor\":1,\"fTitleFont\":42,\"fNbins\":1,\"fXmin\":0,\"fXmax\":1,\"fXbins\":[],\"fFirst\":0,\"fLast\":0,\"fBits2\":0,\"fTimeDisplay\":false,\"fTimeFormat\":\"\",\"fLabels\":null,\"fModLabs\":null},\"fBarOffset\":0,\"fBarWidth\":1000,\"fEntries\":0,\"fTsumw\":0,\"fTsumw2\":0,\"fTsumwx\":0,\"fTsumwx2\":0,\"fMaximum\":1.1,\"fMinimum\":0,\"fNormFactor\":0,\"fContour\":[],\"fSumw2\":[],\"fOption\":\"\",\"fFunctions\":{\"_typename\":\"TList\",\"name\":\"TList\",\"arr\":[],\"opt\":[]},\"fBufferSize\":0,\"fBuffer\":[],\"fBinStatErrOpt\":0,\"fStatOverflows\":2,\"fArray\":[0,0,0,0,0,0,0,0,0,0,0,0,0,0,0,0,0,0,0,0,0,0,0,0,0,0,0,0,0,0,0,0,0,0,0,0,0,0,0,0,0,0,0,0,0,0,0,0,0,0,0,0,0,0,0,0,0,0,0,0,0,0,0,0,0,0,0,0,0,0,0,0,0,0,0,0,0,0,0,0,0,0,0,0,0,0,0,0,0,0,0,0,0,0,0,0,0,0,0,0,0,0]},\"fMinimum\":-1111,\"fMaximum\":-1111,\"fEXlow\":[1,1,1,1,1,1,1,1,1,1,1,1,1,1,1,1,1,1,1,1,1,1,1,1,1,1,1,1,1,1,1,1,1,1,1,1,1,1,1,1,1,1,1,1,1,1,1,1,1],\"fEXhigh\":[1,1,1,1,1,1,1,1,1,1,1,1,1,1,1,1,1,1,1,1,1,1,1,1,1,1,1,1,1,1,1,1,1,1,1,1,1,1,1,1,1,1,1,1,1,1,1,1,1],\"fEYlow\":[0,0,0,0,0,0,0,0,0,0,0,0,0.0055181572072346,0.0125198018082352,0.0217739982916976,0.0229815450983176,0.018218145722755,0.0158143076815558,0.0141625995631315,0.0122707057482808,0.00983597107608847,0.0102829140040896,0.00871190898416019,0.00701523058506826,0.00642912837421328,0.00576745900290809,0.00552714318889003,0.00527726675823759,0.00609858294376964,0.00467435060619115,0.0046090132127572,0.00350056657582654,0.00506961820607532,0.00346759968683441,0.00337851090995966,0.00338472230368492,0.0046332995610554,0.00420655633739031,0.00442511811202106,0.00359629985182086,0.00406526099946136,0.00353416632119274,0.00347414329597728,0.00405808687428899,0.00422200298480258,0.00445081284829207,0.00412358026016912,0.00356151411478722,0.00366065719283548],\"fEYhigh\":[0.011029219057088,0.0076415770731012,0.0056835446152275,0.00461500053258629,0.00404690288416236,0.00453541625251657,0.00386022264228776,0.00392607965115006,0.00380438394142321,0.00357534734320347,0.00354096381975243,0.00348071164830587,0.00779596555499652,0.0141521019922474,0.0221673550077727,0.0223736049993031,0.017052804645064,0.0144823888719493,0.0126175872551921,0.0104535044862117,0.00786506778077001,0.00804135479541557,0.00679935592567416,0.00483998111594119,0.00443275247812858,0.00324421994043744,0.0031083406470126,0.00296712084153228,0.003713557184024,0.00229827473165234,0.00226602278609156,0,0.00249346472665857,0,0,0,0.00227801062754107,0.00151793320693461,0.00159705603204052,0,0.00146679552412288,0,0,0.00146419934298714,0.00152352430682134,0.00160635959682764,0.00148790118023034,0,0]},{\"_typename\":\"TGraphAsymmErrors\",\"fUniqueID\":0,\"fBits\":50332680,\"fName\":\"6905da\",\"fTitle\":\"; p_{T}^{GEN} [GeV];\",\"fLineColor\":417,\"fLineStyle\":1,\"fLineWidth\":1,\"fFillColor\":0,\"fFillStyle\":1001,\"fMarkerColor\":417,\"fMarkerStyle\":22,\"fMarkerSize\":0.5,\"fNpoints\":49,\"fX\":[3,5,7,9,11,13,15,17,19,21,23,25,27,29,31,33,35,37,39,41,43,45,47,49,51,53,55,57,59,61,63,65,67,69,71,73,75,77,79,81,83,85,87,89,91,93,95,97,99],\"fY\":[0,0,0,0,0,0,0,0,0,0,0,0,0.02,0.115241635687732,0.446296296296296,0.723926380368098,0.854054054054054,0.910034602076125,0.953488372093023,0.979127134724858,0.988657844990548,0.980932203389831,0.991055456171735,0.994360902255639,0.994836488812392,0.996023856858847,0.998095238095238,1,0.994174757281553,1,1,1,0.996138996138996,1,1,1,0.99647266313933,0.998165137614679,0.998069498069498,1,0.99822695035461,1,1,0.998230088495575,0.998158379373849,0.998058252427184,0.998201438848921,1,1],\"fFunctions\":{\"_typename\":\"TList\",\"name\":\"TList\",\"arr\":[],\"opt\":[]},\"fHistogram\":{\"_typename\":\"TH1F\",\"fUniqueID\":0,\"fBits\":50332160,\"fName\":\"6905da\",\"fTitle\":\"\",\"fLineColor\":602,\"fLineStyle\":1,\"fLineWidth\":1,\"fFillColor\":0,\"fFillStyle\":1001,\"fMarkerColor\":1,\"fMarkerStyle\":1,\"fMarkerSize\":1,\"fNcells\":102,\"fXaxis\":{\"_typename\":\"TAxis\",\"fUniqueID\":0,\"fBits\":50331656,\"fName\":\"xaxis\",\"fTitle\":\" p_{T}^{GEN} [GeV]\",\"fNdivisions\":510,\"fAxisColor\":1,\"fLabelColor\":1,\"fLabelFont\":42,\"fLabelOffset\":0.005,\"fLabelSize\":0.035,\"fTickLength\":0.03,\"fTitleOffset\":1.4,\"fTitleSize\":0.035,\"fTitleColor\":1,\"fTitleFont\":42,\"fNbins\":100,\"fXmin\":0,\"fXmax\":109.8,\"fXbins\":[],\"fFirst\":0,\"fLast\":0,\"fBits2\":0,\"fTimeDisplay\":false,\"fTimeFormat\":\"\",\"fLabels\":null,\"fModLabs\":null},\"fYaxis\":{\"_typename\":\"TAxis\",\"fUniqueID\":0,\"fBits\":50331656,\"fName\":\"yaxis\",\"fTitle\":\"L1 matched to GEN and p_{T}>th.\\/L1 matched to GEN\",\"fNdivisions\":510,\"fAxisColor\":1,\"fLabelColor\":1,\"fLabelFont\":42,\"fLabelOffset\":0.005,\"fLabelSize\":0.035,\"fTickLength\":0.03,\"fTitleOffset\":0,\"fTitleSize\":0.035,\"fTitleColor\":1,\"fTitleFont\":42,\"fNbins\":1,\"fXmin\":0,\"fXmax\":1.1,\"fXbins\":[],\"fFirst\":0,\"fLast\":0,\"fBits2\":0,\"fTimeDisplay\":false,\"fTimeFormat\":\"\",\"fLabels\":null,\"fModLabs\":null},\"fZaxis\":{\"_typename\":\"TAxis\",\"fUniqueID\":0,\"fBits\":50331648,\"fName\":\"zaxis\",\"fTitle\":\"\",\"fNdivisions\":510,\"fAxisColor\":1,\"fLabelColor\":1,\"fLabelFont\":42,\"fLabelOffset\":0.005,\"fLabelSize\":0.035,\"fTickLength\":0.03,\"fTitleOffset\":1,\"fTitleSize\":0.035,\"fTitleColor\":1,\"fTitleFont\":42,\"fNbins\":1,\"fXmin\":0,\"fXmax\":1,\"fXbins\":[],\"fFirst\":0,\"fLast\":0,\"fBits2\":0,\"fTimeDisplay\":false,\"fTimeFormat\":\"\",\"fLabels\":null,\"fModLabs\":null},\"fBarOffset\":0,\"fBarWidth\":1000,\"fEntries\":0,\"fTsumw\":0,\"fTsumw2\":0,\"fTsumwx\":0,\"fTsumwx2\":0,\"fMaximum\":1.1,\"fMinimum\":0,\"fNormFactor\":0,\"fContour\":[],\"fSumw2\":[],\"fOption\":\"\",\"fFunctions\":{\"_typename\":\"TList\",\"name\":\"TList\",\"arr\":[],\"opt\":[]},\"fBufferSize\":0,\"fBuffer\":[],\"fBinStatErrOpt\":0,\"fStatOverflows\":2,\"fArray\":[0,0,0,0,0,0,0,0,0,0,0,0,0,0,0,0,0,0,0,0,0,0,0,0,0,0,0,0,0,0,0,0,0,0,0,0,0,0,0,0,0,0,0,0,0,0,0,0,0,0,0,0,0,0,0,0,0,0,0,0,0,0,0,0,0,0,0,0,0,0,0,0,0,0,0,0,0,0,0,0,0,0,0,0,0,0,0,0,0,0,0,0,0,0,0,0,0,0,0,0,0,0]},\"fMinimum\":-1111,\"fMaximum\":-1111,\"fEXlow\":[1,1,1,1,1,1,1,1,1,1,1,1,1,1,1,1,1,1,1,1,1,1,1,1,1,1,1,1,1,1,1,1,1,1,1,1,1,1,1,1,1,1,1,1,1,1,1,1,1],\"fEXhigh\":[1,1,1,1,1,1,1,1,1,1,1,1,1,1,1,1,1,1,1,1,1,1,1,1,1,1,1,1,1,1,1,1,1,1,1,1,1,1,1,1,1,1,1,1,1,1,1,1,1],\"fEYlow\":[0,0,0,0,0,0,0,0,0,0,0,0,0.00618811041327565,0.0139310635195412,0.0221930069908994,0.0217000917859338,0.0165565256348377,0.013528944038155,0.010707977337591,0.00825771120787377,0.00671300209696069,0.00858698788553602,0.00600557648025124,0.00545482382233053,0.00499713126489809,0.00522010093980552,0.00436630211630595,0.00334171607834644,0.00563384714187143,0.00327047951878845,0.00322465214023471,0.00350056657582654,0.00506961820607532,0.00346759968683441,0.00337851090995966,0.00338472230368492,0.0046332995610554,0.00420655633739031,0.00442511811202106,0.00359629985182086,0.00406526099946136,0.00353416632119274,0.00347414329597728,0.00405808687428899,0.00422200298480258,0.00445081284829207,0.00412358026016912,0.00356151411478722,0.00366065719283548],\"fEYhigh\":[0.0110956905950783,0.00797249169425943,0.00575460618350494,0.00466174395275809,0.00406477309155856,0.00453541625251657,0.00386022264228776,0.00393447011365783,0.00381226179010358,0.00357534734320347,0.00354096381975243,0.00348071164830587,0.00841197623212488,0.0154562884954359,0.0224002795247922,0.0207391297940098,0.01520540596274,0.0120085207255852,0.00892428801985012,0.0061647570814265,0.00448996033626758,0.00620954070141932,0.00385820131620973,0.00306746190118123,0.00280887884563163,0.00256781065272449,0.00157576122017311,0,0.00316866556347006,0,0,0,0.00249346472665857,0,0,0,0.00227801062754107,0.00151793320693461,0.00159705603204052,0,0.00146679552412288,0,0,0.00146419934298714,0.00152352430682134,0.00160635959682764,0.00148790118023034,0,0]},{\"_typename\":\"TLegend\",\"fUniqueID\":0,\"fBits\":50331656,\"fLineColor\":1,\"fLineStyle\":1,\"fLineWidth\":1,\"fFillColor\":0,\"fFillStyle\":0,\"fX1\":109.800002296347,\"fY1\":0.828571433236681,\"fX2\":157.957897637491,\"fY2\":1.02857143372048,\"fX1NDC\":0.7,\"fY1NDC\":0.71,\"fX2NDC\":0.95,\"fY2NDC\":0.85,\"fBorderSize\":0,\"fInit\":1,\"fShadowColor\":1,\"fCornerRadius\":0,\"fOption\":\"brNDC\",\"fName\":\"TPave\",\"fTextAngle\":0,\"fTextSize\":0.03,\"fTextAlign\":12,\"fTextColor\":1,\"fTextFont\":42,\"fPrimitives\":{\"_typename\":\"TList\",\"name\":\"TList\",\"arr\":[{\"_typename\":\"TLegendEntry\",\"fUniqueID\":0,\"fBits\":50331656,\"fTextAngle\":0,\"fTextSize\":0,\"fTextAlign\":0,\"fTextColor\":0,\"fTextFont\":42,\"fLineColor\":1,\"fLineStyle\":1,\"fLineWidth\":1,\"fFillColor\":0,\"fFillStyle\":0,\"fMarkerColor\":1,\"fMarkerStyle\":8,\"fMarkerSize\":0.5,\"fObject\":{\"$ref\":3},\"fLabel\":\"hwQual 3, p_{T}^{L1}>=30GeV\",\"fOption\":\"P\"},{\"_typename\":\"TLegendEntry\",\"fUniqueID\":0,\"fBits\":50331656,\"fTextAngle\":0,\"fTextSize\":0,\"fTextAlign\":0,\"fTextColor\":0,\"fTextFont\":42,\"fLineColor\":1,\"fLineStyle\":1,\"fLineWidth\":1,\"fFillColor\":0,\"fFillStyle\":0,\"fMarkerColor\":628,\"fMarkerStyle\":21,\"fMarkerSize\":0.5,\"fObject\":{\"$ref\":10},\"fLabel\":\"hwQual 4, p_{T}^{L1}>=30GeV\",\"fOption\":\"P\"},{\"_typename\":\"TLegendEntry\",\"fUniqueID\":0,\"fBits\":50331656,\"fTextAngle\":0,\"fTextSize\":0,\"fTextAlign\":0,\"fTextColor\":0,\"fTextFont\":42,\"fLineColor\":1,\"fLineStyle\":1,\"fLineWidth\":1,\"fFillColor\":0,\"fFillStyle\":0,\"fMarkerColor\":417,\"fMarkerStyle\":22,\"fMarkerSize\":0.5,\"fObject\":{\"$ref\":17},\"fLabel\":\"hwQual 5, p_{T}^{L1}>=30GeV\",\"fOption\":\"P\"}],\"opt\":[\"P\",\"P\",\"P\"]},\"fEntrySeparation\":0.1,\"fMargin\":0.25,\"fNColumns\":1,\"fColumnSeparation\":0},{\"_typename\":\"TLatex\",\"fUniqueID\":0,\"fBits\":50348040,\"fName\":\"\",\"fTitle\":\"PU200, EG, 1.52 < |#eta^{GEN}| <= 2.4\",\"fTextAngle\":0,\"fTextSize\":0.03,\"fTextAlign\":11,\"fTextColor\":1,\"fTextFont\":62,\"fX\":0.15,\"fY\":0.85,\"fLineColor\":1,\"fLineStyle\":1,\"fLineWidth\":2,\"fLimitFactorSize\":3,\"fOriginSize\":0.04},{\"_typename\":\"TLatex\",\"fUniqueID\":0,\"fBits\":50331656,\"fName\":\"\",\"fTitle\":\"\",\"fTextAngle\":0,\"fTextSize\":0.03,\"fTextAlign\":11,\"fTextColor\":1,\"fTextFont\":62,\"fX\":0,\"fY\":0,\"fLineColor\":1,\"fLineStyle\":1,\"fLineWidth\":2,\"fLimitFactorSize\":3,\"fOriginSize\":0.04},{\"_typename\":\"TLine\",\"fUniqueID\":0,\"fBits\":50331656,\"fLineColor\":1,\"fLineStyle\":2,\"fLineWidth\":1,\"fX1\":0,\"fY1\":0.95,\"fX2\":109.8,\"fY2\":0.95},{\"_typename\":\"TLine\",\"fUniqueID\":0,\"fBits\":50331656,\"fLineColor\":1,\"fLineStyle\":2,\"fLineWidth\":1,\"fX1\":0,\"fY1\":1,\"fX2\":109.8,\"fY2\":1}],\"opt\":[\"\",\"pa\",\",p\",\",p\",\"same\",\"same\",\"same\",\"same\",\"same\"]},\"fExecs\":null,\"fName\":\"c_682e2c\",\"fTitle\":\"c_682e2c\",\"fNumPaletteColor\":0,\"fNextPaletteColor\":0,\"fDISPLAY\":\"$DISPLAY\",\"fDoubleBuffer\":0,\"fRetained\":true,\"fXsizeUser\":0,\"fYsizeUser\":0,\"fXsizeReal\":20,\"fYsizeReal\":15,\"fWindowTopX\":0,\"fWindowTopY\":0,\"fWindowWidth\":0,\"fWindowHeight\":0,\"fCw\":796,\"fCh\":572,\"fCatt\":{\"_typename\":\"TAttCanvas\",\"fXBetween\":2,\"fYBetween\":2,\"fTitleFromTop\":1.2,\"fXdate\":0.2,\"fYdate\":0.3,\"fAdate\":1},\"kMoveOpaque\":true,\"kResizeOpaque\":true,\"fHighLightColor\":2,\"fBatch\":true,\"kShowEventStatus\":false,\"kAutoExec\":true,\"kMenuBar\":true});\n",
       "       Core.draw(\"root_plot_49\", obj, \"\");\n",
       "     }\n",
       " );\n",
       "</script>\n"
      ],
      "text/plain": [
       "<IPython.core.display.HTML object>"
      ]
     },
     "metadata": {},
     "output_type": "display_data"
    }
   ],
   "source": [
    "hsets, labels, text = hplot.get_histo(histos.HistoSetEff, sample, ['PU200'], ['EG'], ['EGq3Pt30', 'EGq4Pt30', 'EGq5Pt30'], 'GENEtaBC', debug=False)\n",
    "draw([his.h_ton.h_pt.CreateGraph() for his in hsets], labels, text=text, min_y=0, max_y=1.1, y_axis_label='L1 matched to GEN and p_{T}>th./L1 matched to GEN', h_lines=[0.95, 1])\n"
   ]
  },
  {
   "cell_type": "code",
   "execution_count": 115,
   "metadata": {},
   "outputs": [
    {
     "data": {
      "text/plain": [
       "<__main__.DrawMachine at 0x11c059fd0>"
      ]
     },
     "execution_count": 115,
     "metadata": {},
     "output_type": "execute_result"
    },
    {
     "data": {
      "text/html": [
       "\n",
       "<div id=\"root_plot_50\"\n",
       "     style=\"width: 796px; height: 572px\">\n",
       "</div>\n",
       "\n",
       "<script>\n",
       " requirejs.config({\n",
       "     paths: {\n",
       "       'JSRootCore' : 'https://root.cern.ch/js/notebook//scripts/JSRootCore',\n",
       "     }\n",
       "   });\n",
       " require(['JSRootCore'],\n",
       "     function(Core) {\n",
       "       var obj = Core.JSONR_unref({\"_typename\":\"TCanvas\",\"fUniqueID\":0,\"fBits\":53673992,\"fLineColor\":1,\"fLineStyle\":1,\"fLineWidth\":1,\"fFillColor\":0,\"fFillStyle\":1001,\"fLeftMargin\":0.13,\"fRightMargin\":0.3,\"fBottomMargin\":0.13,\"fTopMargin\":0.1,\"fXfile\":2,\"fYfile\":2,\"fAfile\":1,\"fXstat\":0.99,\"fYstat\":0.99,\"fAstat\":2,\"fFrameFillColor\":0,\"fFrameLineColor\":1,\"fFrameFillStyle\":1001,\"fFrameLineStyle\":1,\"fFrameLineWidth\":1,\"fFrameBorderSize\":1,\"fFrameBorderMode\":0,\"fX1\":-24.950876590882,\"fY1\":-0.185714283502611,\"fX2\":166.978950378923,\"fY2\":1.24285714852456,\"fXtoAbsPixelk\":103.480046204376,\"fXtoPixelk\":103.480046204376,\"fXtoPixel\":4.14734912528852,\"fYtoAbsPixelk\":497.640051065433,\"fYtoPixelk\":497.640051065433,\"fYtoPixel\":-400.399999031424,\"fUtoAbsPixelk\":5e-5,\"fUtoPixelk\":5e-5,\"fUtoPixel\":796,\"fVtoAbsPixelk\":572.00005,\"fVtoPixelk\":572,\"fVtoPixel\":-572,\"fAbsPixeltoXk\":-24.950876590882,\"fPixeltoXk\":-24.950876590882,\"fPixeltoX\":0.241117873077645,\"fAbsPixeltoYk\":1.24285714852456,\"fPixeltoYk\":-0.185714283502611,\"fPixeltoY\":-0.00249750250354401,\"fXlowNDC\":0,\"fYlowNDC\":0,\"fXUpNDC\":0,\"fYUpNDC\":0,\"fWNDC\":1,\"fHNDC\":1,\"fAbsXlowNDC\":0,\"fAbsYlowNDC\":0,\"fAbsWNDC\":1,\"fAbsHNDC\":1,\"fUxmin\":0,\"fUymin\":0,\"fUxmax\":109.4,\"fUymax\":1.1,\"fTheta\":30,\"fPhi\":30,\"fAspectRatio\":0,\"fNumber\":0,\"fTickx\":0,\"fTicky\":0,\"fLogx\":0,\"fLogy\":0,\"fLogz\":0,\"fPadPaint\":0,\"fCrosshair\":0,\"fCrosshairPos\":0,\"fBorderSize\":2,\"fBorderMode\":0,\"fModified\":false,\"fGridx\":false,\"fGridy\":false,\"fAbsCoord\":false,\"fEditable\":true,\"fFixedAspectRatio\":false,\"fPrimitives\":{\"_typename\":\"TList\",\"name\":\"TList\",\"arr\":[{\"_typename\":\"TFrame\",\"fUniqueID\":0,\"fBits\":50331656,\"fLineColor\":1,\"fLineStyle\":1,\"fLineWidth\":1,\"fFillColor\":0,\"fFillStyle\":1001,\"fX1\":0,\"fY1\":0,\"fX2\":109.4,\"fY2\":1.1,\"fBorderSize\":1,\"fBorderMode\":0},{\"_typename\":\"TGraphAsymmErrors\",\"fUniqueID\":0,\"fBits\":50332680,\"fName\":\"d4fd1d\",\"fTitle\":\"; p_{T}^{GEN} [GeV];\",\"fLineColor\":1,\"fLineStyle\":1,\"fLineWidth\":1,\"fFillColor\":0,\"fFillStyle\":1001,\"fMarkerColor\":1,\"fMarkerStyle\":8,\"fMarkerSize\":0.5,\"fNpoints\":47,\"fX\":[7,9,11,13,15,17,19,21,23,25,27,29,31,33,35,37,39,41,43,45,47,49,51,53,55,57,59,61,63,65,67,69,71,73,75,77,79,81,83,85,87,89,91,93,95,97,99],\"fY\":[0,0,0,0,0,0,0,0,0.00519480519480519,0.0367647058823529,0.239024390243902,0.592427616926503,0.809090909090909,0.905339805825243,0.956236323851203,0.965863453815261,0.982456140350877,0.991434689507495,0.997844827586207,0.99273607748184,0.997971602434077,0.99792531120332,1,1,1,1,0.995833333333333,1,1,1,1,1,1,1,1,1,0.997950819672131,1,1,1,1,1,1,1,1,1,1],\"fFunctions\":{\"_typename\":\"TList\",\"name\":\"TList\",\"arr\":[],\"opt\":[]},\"fHistogram\":{\"_typename\":\"TH1F\",\"fUniqueID\":0,\"fBits\":50332160,\"fName\":\"d4fd1d\",\"fTitle\":\"\",\"fLineColor\":602,\"fLineStyle\":1,\"fLineWidth\":1,\"fFillColor\":0,\"fFillStyle\":1001,\"fMarkerColor\":1,\"fMarkerStyle\":1,\"fMarkerSize\":1,\"fNcells\":102,\"fXaxis\":{\"_typename\":\"TAxis\",\"fUniqueID\":0,\"fBits\":50331656,\"fName\":\"xaxis\",\"fTitle\":\" p_{T}^{GEN} [GeV]\",\"fNdivisions\":510,\"fAxisColor\":1,\"fLabelColor\":1,\"fLabelFont\":42,\"fLabelOffset\":0.005,\"fLabelSize\":0.035,\"fTickLength\":0.03,\"fTitleOffset\":1.4,\"fTitleSize\":0.035,\"fTitleColor\":1,\"fTitleFont\":42,\"fNbins\":100,\"fXmin\":0,\"fXmax\":109.4,\"fXbins\":[],\"fFirst\":0,\"fLast\":0,\"fBits2\":0,\"fTimeDisplay\":false,\"fTimeFormat\":\"\",\"fLabels\":null,\"fModLabs\":null},\"fYaxis\":{\"_typename\":\"TAxis\",\"fUniqueID\":0,\"fBits\":50331656,\"fName\":\"yaxis\",\"fTitle\":\"L1 matched to GEN and p_{T}>th.\\/L1 matched to GEN\",\"fNdivisions\":510,\"fAxisColor\":1,\"fLabelColor\":1,\"fLabelFont\":42,\"fLabelOffset\":0.005,\"fLabelSize\":0.035,\"fTickLength\":0.03,\"fTitleOffset\":0,\"fTitleSize\":0.035,\"fTitleColor\":1,\"fTitleFont\":42,\"fNbins\":1,\"fXmin\":0,\"fXmax\":1.1,\"fXbins\":[],\"fFirst\":0,\"fLast\":0,\"fBits2\":0,\"fTimeDisplay\":false,\"fTimeFormat\":\"\",\"fLabels\":null,\"fModLabs\":null},\"fZaxis\":{\"_typename\":\"TAxis\",\"fUniqueID\":0,\"fBits\":50331648,\"fName\":\"zaxis\",\"fTitle\":\"\",\"fNdivisions\":510,\"fAxisColor\":1,\"fLabelColor\":1,\"fLabelFont\":42,\"fLabelOffset\":0.005,\"fLabelSize\":0.035,\"fTickLength\":0.03,\"fTitleOffset\":1,\"fTitleSize\":0.035,\"fTitleColor\":1,\"fTitleFont\":42,\"fNbins\":1,\"fXmin\":0,\"fXmax\":1,\"fXbins\":[],\"fFirst\":0,\"fLast\":0,\"fBits2\":0,\"fTimeDisplay\":false,\"fTimeFormat\":\"\",\"fLabels\":null,\"fModLabs\":null},\"fBarOffset\":0,\"fBarWidth\":1000,\"fEntries\":0,\"fTsumw\":0,\"fTsumw2\":0,\"fTsumwx\":0,\"fTsumwx2\":0,\"fMaximum\":1.1,\"fMinimum\":0,\"fNormFactor\":0,\"fContour\":[],\"fSumw2\":[],\"fOption\":\"\",\"fFunctions\":{\"_typename\":\"TList\",\"name\":\"TList\",\"arr\":[],\"opt\":[]},\"fBufferSize\":0,\"fBuffer\":[],\"fBinStatErrOpt\":0,\"fStatOverflows\":2,\"fArray\":[0,0,0,0,0,0,0,0,0,0,0,0,0,0,0,0,0,0,0,0,0,0,0,0,0,0,0,0,0,0,0,0,0,0,0,0,0,0,0,0,0,0,0,0,0,0,0,0,0,0,0,0,0,0,0,0,0,0,0,0,0,0,0,0,0,0,0,0,0,0,0,0,0,0,0,0,0,0,0,0,0,0,0,0,0,0,0,0,0,0,0,0,0,0,0,0,0,0,0,0,0,0]},\"fMinimum\":-1111,\"fMaximum\":-1111,\"fEXlow\":[1,1,1,1,1,1,1,1,1,1,1,1,1,1,1,1,1,1,1,1,1,1,1,1,1,1,1,1,1,1,1,1,1,1,1,1,1,1,1,1,1,1,1,1,1,1,1],\"fEXhigh\":[1,1,1,1,1,1,1,1,1,1,1,1,1,1,1,1,1,1,1,1,1,1,1,1,1,1,1,1,1,1,1,1,1,1,1,1,1,1,1,1,1,1,1,1,1,1,1],\"fEYlow\":[0,0,0,0,0,0,0,0,0.00335466371614636,0.00928955333642517,0.0215875333455837,0.0244910902061577,0.0206015952884923,0.0167027895845631,0.0117956315437413,0.0102153491472546,0.00853822092487322,0.00672058241883755,0.00493827780831479,0.00701524763530292,0.00464876402121839,0.00475449268113537,0.00354778751684082,0.00406477309155862,0.00386833368795392,0.00366065719283548,0.00546901927527887,0.00358928844941775,0.00346759968683441,0.00375013763483556,0.00385214553956759,0.00375013763483556,0.00363177180340413,0.00365339285463007,0.00363177180340413,0.00358230433286932,0.00469623362391902,0.00398557578627201,0.00352064931846152,0.00381226179010363,0.00371232785613951,0.00352739487057507,0.00361040515630018,0.00377319546078458,0.00352064931846152,0.00378094454173383,0.00397696617588639],\"fEYhigh\":[0.601684479424288,0.184992497739924,0.0147372762447057,0.00969356680186815,0.00694930794303425,0.00595951422917412,0.00575460618350494,0.00482042210176742,0.00681036910676436,0.0118553079040798,0.0229322682531713,0.0240602153893117,0.019113489923814,0.0145726019640892,0.00957344978432351,0.00811591883775298,0.00604862838886822,0.00409484025366413,0.00178292753518638,0.00395073658098466,0.00167804560863316,0.00171634268806575,0,0,0,0,0.00269083099603007,0,0,0,0,0,0,0,0,0,0.00169523933422622,0,0,0,0,0,0,0,0,0,0]},{\"_typename\":\"TGraphAsymmErrors\",\"fUniqueID\":0,\"fBits\":50332680,\"fName\":\"1da164\",\"fTitle\":\"; p_{T}^{GEN} [GeV];\",\"fLineColor\":628,\"fLineStyle\":1,\"fLineWidth\":1,\"fFillColor\":0,\"fFillStyle\":1001,\"fMarkerColor\":628,\"fMarkerStyle\":21,\"fMarkerSize\":0.5,\"fNpoints\":48,\"fX\":[5,7,9,11,13,15,17,19,21,23,25,27,29,31,33,35,37,39,41,43,45,47,49,51,53,55,57,59,61,63,65,67,69,71,73,75,77,79,81,83,85,87,89,91,93,95,97,99],\"fY\":[0,0,0,0,0,0,0,0,0,0,0,0.0121951219512195,0.0975609756097561,0.427272727272727,0.685990338164251,0.838074398249453,0.885771543086172,0.907894736842105,0.93576017130621,0.96551724137931,0.968523002421308,0.975708502024291,0.985477178423237,0.992292870905588,0.997787610619469,0.993684210526316,0.99203187250996,0.991666666666667,0.99412915851272,0.99622641509434,1,1,1,0.998027613412229,1,0.998027613412229,1,0.997950819672131,0.997835497835498,1,1,1,1,1,1,1,0.997942386831276,1],\"fFunctions\":{\"_typename\":\"TList\",\"name\":\"TList\",\"arr\":[],\"opt\":[]},\"fHistogram\":{\"_typename\":\"TH1F\",\"fUniqueID\":0,\"fBits\":50332160,\"fName\":\"1da164\",\"fTitle\":\"\",\"fLineColor\":602,\"fLineStyle\":1,\"fLineWidth\":1,\"fFillColor\":0,\"fFillStyle\":1001,\"fMarkerColor\":1,\"fMarkerStyle\":1,\"fMarkerSize\":1,\"fNcells\":102,\"fXaxis\":{\"_typename\":\"TAxis\",\"fUniqueID\":0,\"fBits\":50331656,\"fName\":\"xaxis\",\"fTitle\":\" p_{T}^{GEN} [GeV]\",\"fNdivisions\":510,\"fAxisColor\":1,\"fLabelColor\":1,\"fLabelFont\":42,\"fLabelOffset\":0.005,\"fLabelSize\":0.035,\"fTickLength\":0.03,\"fTitleOffset\":1.4,\"fTitleSize\":0.035,\"fTitleColor\":1,\"fTitleFont\":42,\"fNbins\":100,\"fXmin\":0,\"fXmax\":109.6,\"fXbins\":[],\"fFirst\":0,\"fLast\":0,\"fBits2\":0,\"fTimeDisplay\":false,\"fTimeFormat\":\"\",\"fLabels\":null,\"fModLabs\":null},\"fYaxis\":{\"_typename\":\"TAxis\",\"fUniqueID\":0,\"fBits\":50331656,\"fName\":\"yaxis\",\"fTitle\":\"L1 matched to GEN and p_{T}>th.\\/L1 matched to GEN\",\"fNdivisions\":510,\"fAxisColor\":1,\"fLabelColor\":1,\"fLabelFont\":42,\"fLabelOffset\":0.005,\"fLabelSize\":0.035,\"fTickLength\":0.03,\"fTitleOffset\":0,\"fTitleSize\":0.035,\"fTitleColor\":1,\"fTitleFont\":42,\"fNbins\":1,\"fXmin\":0,\"fXmax\":1.1,\"fXbins\":[],\"fFirst\":0,\"fLast\":0,\"fBits2\":0,\"fTimeDisplay\":false,\"fTimeFormat\":\"\",\"fLabels\":null,\"fModLabs\":null},\"fZaxis\":{\"_typename\":\"TAxis\",\"fUniqueID\":0,\"fBits\":50331648,\"fName\":\"zaxis\",\"fTitle\":\"\",\"fNdivisions\":510,\"fAxisColor\":1,\"fLabelColor\":1,\"fLabelFont\":42,\"fLabelOffset\":0.005,\"fLabelSize\":0.035,\"fTickLength\":0.03,\"fTitleOffset\":1,\"fTitleSize\":0.035,\"fTitleColor\":1,\"fTitleFont\":42,\"fNbins\":1,\"fXmin\":0,\"fXmax\":1,\"fXbins\":[],\"fFirst\":0,\"fLast\":0,\"fBits2\":0,\"fTimeDisplay\":false,\"fTimeFormat\":\"\",\"fLabels\":null,\"fModLabs\":null},\"fBarOffset\":0,\"fBarWidth\":1000,\"fEntries\":0,\"fTsumw\":0,\"fTsumw2\":0,\"fTsumwx\":0,\"fTsumwx2\":0,\"fMaximum\":1.1,\"fMinimum\":0,\"fNormFactor\":0,\"fContour\":[],\"fSumw2\":[],\"fOption\":\"\",\"fFunctions\":{\"_typename\":\"TList\",\"name\":\"TList\",\"arr\":[],\"opt\":[]},\"fBufferSize\":0,\"fBuffer\":[],\"fBinStatErrOpt\":0,\"fStatOverflows\":2,\"fArray\":[0,0,0,0,0,0,0,0,0,0,0,0,0,0,0,0,0,0,0,0,0,0,0,0,0,0,0,0,0,0,0,0,0,0,0,0,0,0,0,0,0,0,0,0,0,0,0,0,0,0,0,0,0,0,0,0,0,0,0,0,0,0,0,0,0,0,0,0,0,0,0,0,0,0,0,0,0,0,0,0,0,0,0,0,0,0,0,0,0,0,0,0,0,0,0,0,0,0,0,0,0,0]},\"fMinimum\":-1111,\"fMaximum\":-1111,\"fEXlow\":[1,1,1,1,1,1,1,1,1,1,1,1,1,1,1,1,1,1,1,1,1,1,1,1,1,1,1,1,1,1,1,1,1,1,1,1,1,1,1,1,1,1,1,1,1,1,1,1],\"fEXhigh\":[1,1,1,1,1,1,1,1,1,1,1,1,1,1,1,1,1,1,1,1,1,1,1,1,1,1,1,1,1,1,1,1,1,1,1,1,1,1,1,1,1,1,1,1,1,1,1,1],\"fEYlow\":[0,0,0,0,0,0,0,0,0,0,0,0.00525769484469486,0.0141195696265348,0.0245173919151724,0.024462751604861,0.0191012169413564,0.0160656727154749,0.0156062005052078,0.0134468715022857,0.0107050228095855,0.0111298296904611,0.00907536003653109,0.00773473171059613,0.00605190665932809,0.00506890353522516,0.00610530848869428,0.00625538094154809,0.00653993367615291,0.00567769124764361,0.0049553379004178,0.00375013763483556,0.00385214553956759,0.00375013763483556,0.00452081390526349,0.00365339285463007,0.00452081390526349,0.00358230433286932,0.00469623362391902,0.00495957921843515,0.00352739487057507,0.00381226179010363,0.00371232785613951,0.00352739487057507,0.00361040515630018,0.00377319546078458,0.00352064931846152,0.00471549402114313,0.00397696617588639],\"fEYhigh\":[0.8413447460685,0.458641675296288,0.184992497739924,0.0147372762447057,0.00969356680186815,0.00692317512607955,0.00594028517282401,0.00577265009707769,0.00482042210176742,0.00475813018917808,0.00449115985881262,0.00816562285800505,0.0160433254352298,0.0248634075513479,0.0235180955508401,0.0175298200193006,0.0144126450605833,0.0136748067285675,0.011407042996874,0.00844601125004041,0.00854499476393278,0.00687063602219717,0.0053406254010594,0.0036849639847536,0.00183026378296369,0.00343535090802261,0.00380962888428882,0.00398405431756521,0.00319345627945733,0.00243701747311176,0,0,0,0.00163170739537788,0,0.00163170739537788,0,0.00169523933422622,0.00179064613746693,0,0,0,0,0,0,0,0.00170221588663977,0]},{\"_typename\":\"TGraphAsymmErrors\",\"fUniqueID\":0,\"fBits\":50332680,\"fName\":\"ce0b23\",\"fTitle\":\"; p_{T}^{GEN} [GeV];\",\"fLineColor\":417,\"fLineStyle\":1,\"fLineWidth\":1,\"fFillColor\":0,\"fFillStyle\":1001,\"fMarkerColor\":417,\"fMarkerStyle\":22,\"fMarkerSize\":0.5,\"fNpoints\":47,\"fX\":[7,9,11,13,15,17,19,21,23,25,27,29,31,33,35,37,39,41,43,45,47,49,51,53,55,57,59,61,63,65,67,69,71,73,75,77,79,81,83,85,87,89,91,93,95,97,99],\"fY\":[0,0,0,0,0,0,0,0,0,0,0.0170731707317073,0.11804008908686,0.475,0.750605326876513,0.87746170678337,0.919678714859438,0.953947368421053,0.97644539614561,0.989224137931034,0.983050847457627,0.995943204868154,0.993775933609959,1,1,0.997894736842105,1,0.99375,1,1,1,1,1,1,1,1,1,0.997950819672131,1,1,1,1,1,1,1,1,1,1],\"fFunctions\":{\"_typename\":\"TList\",\"name\":\"TList\",\"arr\":[],\"opt\":[]},\"fHistogram\":{\"_typename\":\"TH1F\",\"fUniqueID\":0,\"fBits\":50332160,\"fName\":\"ce0b23\",\"fTitle\":\"\",\"fLineColor\":602,\"fLineStyle\":1,\"fLineWidth\":1,\"fFillColor\":0,\"fFillStyle\":1001,\"fMarkerColor\":1,\"fMarkerStyle\":1,\"fMarkerSize\":1,\"fNcells\":102,\"fXaxis\":{\"_typename\":\"TAxis\",\"fUniqueID\":0,\"fBits\":50331656,\"fName\":\"xaxis\",\"fTitle\":\" p_{T}^{GEN} [GeV]\",\"fNdivisions\":510,\"fAxisColor\":1,\"fLabelColor\":1,\"fLabelFont\":42,\"fLabelOffset\":0.005,\"fLabelSize\":0.035,\"fTickLength\":0.03,\"fTitleOffset\":1.4,\"fTitleSize\":0.035,\"fTitleColor\":1,\"fTitleFont\":42,\"fNbins\":100,\"fXmin\":0,\"fXmax\":109.4,\"fXbins\":[],\"fFirst\":0,\"fLast\":0,\"fBits2\":0,\"fTimeDisplay\":false,\"fTimeFormat\":\"\",\"fLabels\":null,\"fModLabs\":null},\"fYaxis\":{\"_typename\":\"TAxis\",\"fUniqueID\":0,\"fBits\":50331656,\"fName\":\"yaxis\",\"fTitle\":\"L1 matched to GEN and p_{T}>th.\\/L1 matched to GEN\",\"fNdivisions\":510,\"fAxisColor\":1,\"fLabelColor\":1,\"fLabelFont\":42,\"fLabelOffset\":0.005,\"fLabelSize\":0.035,\"fTickLength\":0.03,\"fTitleOffset\":0,\"fTitleSize\":0.035,\"fTitleColor\":1,\"fTitleFont\":42,\"fNbins\":1,\"fXmin\":0,\"fXmax\":1.1,\"fXbins\":[],\"fFirst\":0,\"fLast\":0,\"fBits2\":0,\"fTimeDisplay\":false,\"fTimeFormat\":\"\",\"fLabels\":null,\"fModLabs\":null},\"fZaxis\":{\"_typename\":\"TAxis\",\"fUniqueID\":0,\"fBits\":50331648,\"fName\":\"zaxis\",\"fTitle\":\"\",\"fNdivisions\":510,\"fAxisColor\":1,\"fLabelColor\":1,\"fLabelFont\":42,\"fLabelOffset\":0.005,\"fLabelSize\":0.035,\"fTickLength\":0.03,\"fTitleOffset\":1,\"fTitleSize\":0.035,\"fTitleColor\":1,\"fTitleFont\":42,\"fNbins\":1,\"fXmin\":0,\"fXmax\":1,\"fXbins\":[],\"fFirst\":0,\"fLast\":0,\"fBits2\":0,\"fTimeDisplay\":false,\"fTimeFormat\":\"\",\"fLabels\":null,\"fModLabs\":null},\"fBarOffset\":0,\"fBarWidth\":1000,\"fEntries\":0,\"fTsumw\":0,\"fTsumw2\":0,\"fTsumwx\":0,\"fTsumwx2\":0,\"fMaximum\":1.1,\"fMinimum\":0,\"fNormFactor\":0,\"fContour\":[],\"fSumw2\":[],\"fOption\":\"\",\"fFunctions\":{\"_typename\":\"TList\",\"name\":\"TList\",\"arr\":[],\"opt\":[]},\"fBufferSize\":0,\"fBuffer\":[],\"fBinStatErrOpt\":0,\"fStatOverflows\":2,\"fArray\":[0,0,0,0,0,0,0,0,0,0,0,0,0,0,0,0,0,0,0,0,0,0,0,0,0,0,0,0,0,0,0,0,0,0,0,0,0,0,0,0,0,0,0,0,0,0,0,0,0,0,0,0,0,0,0,0,0,0,0,0,0,0,0,0,0,0,0,0,0,0,0,0,0,0,0,0,0,0,0,0,0,0,0,0,0,0,0,0,0,0,0,0,0,0,0,0,0,0,0,0,0,0]},\"fMinimum\":-1111,\"fMaximum\":-1111,\"fEXlow\":[1,1,1,1,1,1,1,1,1,1,1,1,1,1,1,1,1,1,1,1,1,1,1,1,1,1,1,1,1,1,1,1,1,1,1,1,1,1,1,1,1,1,1,1,1,1,1],\"fEXhigh\":[1,1,1,1,1,1,1,1,1,1,1,1,1,1,1,1,1,1,1,1,1,1,1,1,1,1,1,1,1,1,1,1,1,1,1,1,1,1,1,1,1,1,1,1,1,1,1],\"fEYlow\":[0,0,0,0,0,0,0,0,0,0,0.00627534886340281,0.0154251561669418,0.0248540503438183,0.023117908711173,0.0173120996968328,0.0140992992629019,0.0120370021318202,0.00930082307403357,0.00722398119239465,0.00900992003560508,0.00532548599982852,0.00601718903443615,0.00354778751684082,0.00406477309155862,0.00482431530150773,0.00366065719283548,0.00604210539406969,0.00358928844941775,0.00346759968683441,0.00375013763483556,0.00385214553956759,0.00375013763483556,0.00363177180340413,0.00365339285463007,0.00363177180340413,0.00358230433286932,0.00469623362391902,0.00398557578627201,0.00352064931846152,0.00381226179010363,0.00371232785613951,0.00352739487057507,0.00361040515630018,0.00377319546078458,0.00352064931846152,0.00378094454173383,0.00397696617588639],\"fEYhigh\":[0.601684479424288,0.184992497739924,0.0147372762447057,0.00969356680186815,0.00694930794303425,0.00594028517282401,0.00575460618350494,0.00482042210176742,0.00477045944343452,0.00450214278712219,0.00907496809611176,0.0172485490919565,0.0249729416949771,0.0218372303569302,0.0155446611889313,0.0122770018175569,0.00982633965907453,0.00695215410630989,0.00464682461509081,0.00622991705840925,0.00261988757820775,0.00338548749971246,0,0,0.00174163711950837,0,0.00339958586743838,0,0,0,0,0,0,0,0,0,0.00169523933422622,0,0,0,0,0,0,0,0,0,0]},{\"_typename\":\"TLegend\",\"fUniqueID\":0,\"fBits\":50331656,\"fLineColor\":1,\"fLineStyle\":1,\"fLineWidth\":1,\"fFillColor\":0,\"fFillStyle\":0,\"fX1\":109.400002287982,\"fY1\":0.828571433236681,\"fX2\":157.382459030433,\"fY2\":1.02857143372048,\"fX1NDC\":0.7,\"fY1NDC\":0.71,\"fX2NDC\":0.95,\"fY2NDC\":0.85,\"fBorderSize\":0,\"fInit\":1,\"fShadowColor\":1,\"fCornerRadius\":0,\"fOption\":\"brNDC\",\"fName\":\"TPave\",\"fTextAngle\":0,\"fTextSize\":0.03,\"fTextAlign\":12,\"fTextColor\":1,\"fTextFont\":42,\"fPrimitives\":{\"_typename\":\"TList\",\"name\":\"TList\",\"arr\":[{\"_typename\":\"TLegendEntry\",\"fUniqueID\":0,\"fBits\":50331656,\"fTextAngle\":0,\"fTextSize\":0,\"fTextAlign\":0,\"fTextColor\":0,\"fTextFont\":42,\"fLineColor\":1,\"fLineStyle\":1,\"fLineWidth\":1,\"fFillColor\":0,\"fFillStyle\":0,\"fMarkerColor\":1,\"fMarkerStyle\":8,\"fMarkerSize\":0.5,\"fObject\":{\"$ref\":3},\"fLabel\":\"hwQual 3, p_{T}^{L1}>=30GeV\",\"fOption\":\"P\"},{\"_typename\":\"TLegendEntry\",\"fUniqueID\":0,\"fBits\":50331656,\"fTextAngle\":0,\"fTextSize\":0,\"fTextAlign\":0,\"fTextColor\":0,\"fTextFont\":42,\"fLineColor\":1,\"fLineStyle\":1,\"fLineWidth\":1,\"fFillColor\":0,\"fFillStyle\":0,\"fMarkerColor\":628,\"fMarkerStyle\":21,\"fMarkerSize\":0.5,\"fObject\":{\"$ref\":10},\"fLabel\":\"hwQual 4, p_{T}^{L1}>=30GeV\",\"fOption\":\"P\"},{\"_typename\":\"TLegendEntry\",\"fUniqueID\":0,\"fBits\":50331656,\"fTextAngle\":0,\"fTextSize\":0,\"fTextAlign\":0,\"fTextColor\":0,\"fTextFont\":42,\"fLineColor\":1,\"fLineStyle\":1,\"fLineWidth\":1,\"fFillColor\":0,\"fFillStyle\":0,\"fMarkerColor\":417,\"fMarkerStyle\":22,\"fMarkerSize\":0.5,\"fObject\":{\"$ref\":17},\"fLabel\":\"hwQual 5, p_{T}^{L1}>=30GeV\",\"fOption\":\"P\"}],\"opt\":[\"P\",\"P\",\"P\"]},\"fEntrySeparation\":0.1,\"fMargin\":0.25,\"fNColumns\":1,\"fColumnSeparation\":0},{\"_typename\":\"TLatex\",\"fUniqueID\":0,\"fBits\":50348040,\"fName\":\"\",\"fTitle\":\"PU200, TkEle Ell. match, 1.52 < |#eta^{GEN}| <= 2.4\",\"fTextAngle\":0,\"fTextSize\":0.03,\"fTextAlign\":11,\"fTextColor\":1,\"fTextFont\":62,\"fX\":0.15,\"fY\":0.85,\"fLineColor\":1,\"fLineStyle\":1,\"fLineWidth\":2,\"fLimitFactorSize\":3,\"fOriginSize\":0.04},{\"_typename\":\"TLatex\",\"fUniqueID\":0,\"fBits\":50331656,\"fName\":\"\",\"fTitle\":\"\",\"fTextAngle\":0,\"fTextSize\":0.03,\"fTextAlign\":11,\"fTextColor\":1,\"fTextFont\":62,\"fX\":0,\"fY\":0,\"fLineColor\":1,\"fLineStyle\":1,\"fLineWidth\":2,\"fLimitFactorSize\":3,\"fOriginSize\":0.04},{\"_typename\":\"TLine\",\"fUniqueID\":0,\"fBits\":50331656,\"fLineColor\":1,\"fLineStyle\":2,\"fLineWidth\":1,\"fX1\":0,\"fY1\":0.95,\"fX2\":109.4,\"fY2\":0.95},{\"_typename\":\"TLine\",\"fUniqueID\":0,\"fBits\":50331656,\"fLineColor\":1,\"fLineStyle\":2,\"fLineWidth\":1,\"fX1\":0,\"fY1\":1,\"fX2\":109.4,\"fY2\":1}],\"opt\":[\"\",\"pa\",\",p\",\",p\",\"same\",\"same\",\"same\",\"same\",\"same\"]},\"fExecs\":null,\"fName\":\"c_17492b\",\"fTitle\":\"c_17492b\",\"fNumPaletteColor\":0,\"fNextPaletteColor\":0,\"fDISPLAY\":\"$DISPLAY\",\"fDoubleBuffer\":0,\"fRetained\":true,\"fXsizeUser\":0,\"fYsizeUser\":0,\"fXsizeReal\":20,\"fYsizeReal\":15,\"fWindowTopX\":0,\"fWindowTopY\":0,\"fWindowWidth\":0,\"fWindowHeight\":0,\"fCw\":796,\"fCh\":572,\"fCatt\":{\"_typename\":\"TAttCanvas\",\"fXBetween\":2,\"fYBetween\":2,\"fTitleFromTop\":1.2,\"fXdate\":0.2,\"fYdate\":0.3,\"fAdate\":1},\"kMoveOpaque\":true,\"kResizeOpaque\":true,\"fHighLightColor\":2,\"fBatch\":true,\"kShowEventStatus\":false,\"kAutoExec\":true,\"kMenuBar\":true});\n",
       "       Core.draw(\"root_plot_50\", obj, \"\");\n",
       "     }\n",
       " );\n",
       "</script>\n"
      ],
      "text/plain": [
       "<IPython.core.display.HTML object>"
      ]
     },
     "metadata": {},
     "output_type": "display_data"
    }
   ],
   "source": [
    "hsets, labels, text = hplot.get_histo(histos.HistoSetEff, sample, ['PU200'], ['TkEleEL'], ['EGq3Pt30', 'EGq4Pt30', 'EGq5Pt30'], 'GENEtaBC', debug=False)\n",
    "draw([his.h_ton.h_pt.CreateGraph() for his in hsets], labels, text=text, min_y=0, max_y=1.1, y_axis_label='L1 matched to GEN and p_{T}>th./L1 matched to GEN', h_lines=[0.95, 1])\n"
   ]
  },
  {
   "cell_type": "code",
   "execution_count": 116,
   "metadata": {
    "scrolled": false
   },
   "outputs": [
    {
     "name": "stdout",
     "output_type": "stream",
     "text": [
      "No match found for: pu: ['PU0', 'PU200'], tp: L1TrkEmu, tp_sel: allPt20, gen_sel: L1TrkEmu, classtype: python.l1THistos.HistoSetEff\n"
     ]
    },
    {
     "ename": "TypeError",
     "evalue": "'NoneType' object is not iterable",
     "output_type": "error",
     "traceback": [
      "\u001b[0;31m\u001b[0m",
      "\u001b[0;31mTypeError\u001b[0mTraceback (most recent call last)",
      "\u001b[0;32m<ipython-input-116-4ba0c166e012>\u001b[0m in \u001b[0;36m<module>\u001b[0;34m()\u001b[0m\n\u001b[1;32m      7\u001b[0m             \u001b[0mhsets\u001b[0m\u001b[0;34m,\u001b[0m \u001b[0mlabels\u001b[0m\u001b[0;34m,\u001b[0m \u001b[0mtext\u001b[0m \u001b[0;34m=\u001b[0m \u001b[0mhplot\u001b[0m\u001b[0;34m.\u001b[0m\u001b[0mget_histo\u001b[0m\u001b[0;34m(\u001b[0m\u001b[0mhistos\u001b[0m\u001b[0;34m.\u001b[0m\u001b[0mHistoSetEff\u001b[0m\u001b[0;34m,\u001b[0m \u001b[0msample\u001b[0m\u001b[0;34m,\u001b[0m \u001b[0;34m[\u001b[0m\u001b[0;34m'PU0'\u001b[0m\u001b[0;34m,\u001b[0m \u001b[0;34m'PU200'\u001b[0m\u001b[0;34m]\u001b[0m\u001b[0;34m,\u001b[0m \u001b[0mtp\u001b[0m\u001b[0;34m,\u001b[0m \u001b[0mtp_sel\u001b[0m\u001b[0;34m,\u001b[0m \u001b[0mgen_sel\u001b[0m\u001b[0;34m,\u001b[0m \u001b[0mdebug\u001b[0m\u001b[0;34m=\u001b[0m\u001b[0mFalse\u001b[0m\u001b[0;34m)\u001b[0m\u001b[0;34m\u001b[0m\u001b[0m\n\u001b[1;32m      8\u001b[0m             \u001b[0;31m# drawSeveral([his.hreso.h_ptResVpt for his in hsets], labels,  'COLZ', do_profile=True, text=text)\u001b[0m\u001b[0;34m\u001b[0m\u001b[0;34m\u001b[0m\u001b[0m\n\u001b[0;32m----> 9\u001b[0;31m             \u001b[0mdraw\u001b[0m\u001b[0;34m(\u001b[0m\u001b[0;34m[\u001b[0m\u001b[0mhis\u001b[0m\u001b[0;34m.\u001b[0m\u001b[0mh_ton\u001b[0m\u001b[0;34m.\u001b[0m\u001b[0mh_pt\u001b[0m\u001b[0;34m.\u001b[0m\u001b[0mCreateGraph\u001b[0m\u001b[0;34m(\u001b[0m\u001b[0;34m)\u001b[0m \u001b[0;32mfor\u001b[0m \u001b[0mhis\u001b[0m \u001b[0;32min\u001b[0m \u001b[0mhsets\u001b[0m\u001b[0;34m]\u001b[0m\u001b[0;34m,\u001b[0m \u001b[0mlabels\u001b[0m\u001b[0;34m,\u001b[0m \u001b[0mtext\u001b[0m\u001b[0;34m=\u001b[0m\u001b[0mtext\u001b[0m\u001b[0;34m,\u001b[0m \u001b[0mmin_y\u001b[0m\u001b[0;34m=\u001b[0m\u001b[0;36m0\u001b[0m\u001b[0;34m,\u001b[0m \u001b[0mmax_y\u001b[0m\u001b[0;34m=\u001b[0m\u001b[0;36m1.1\u001b[0m\u001b[0;34m,\u001b[0m \u001b[0my_axis_label\u001b[0m\u001b[0;34m=\u001b[0m\u001b[0;34m'L1 matched to GEN and p_{T}>th./L1 matched to GEN'\u001b[0m\u001b[0;34m,\u001b[0m \u001b[0mh_lines\u001b[0m\u001b[0;34m=\u001b[0m\u001b[0;34m[\u001b[0m\u001b[0;36m0.95\u001b[0m\u001b[0;34m,\u001b[0m \u001b[0;36m1\u001b[0m\u001b[0;34m]\u001b[0m\u001b[0;34m)\u001b[0m\u001b[0;34m\u001b[0m\u001b[0m\n\u001b[0m",
      "\u001b[0;31mTypeError\u001b[0m: 'NoneType' object is not iterable"
     ]
    }
   ],
   "source": [
    "for tp in tps:\n",
    "    if tp in ['TkEG', 'TkIsoEle', 'L1Trk']:\n",
    "        continue\n",
    "    for tp_sel in tp_select[tp]:\n",
    "        for gen_sel in gen_select:\n",
    "            tp_sel+='Pt20'\n",
    "            hsets, labels, text = hplot.get_histo(histos.HistoSetEff, sample, ['PU0', 'PU200'], tp, tp_sel, gen_sel, debug=False)\n",
    "            # drawSeveral([his.hreso.h_ptResVpt for his in hsets], labels,  'COLZ', do_profile=True, text=text)\n",
    "            draw([his.h_ton.h_pt.CreateGraph() for his in hsets], labels, text=text, min_y=0, max_y=1.1, y_axis_label='L1 matched to GEN and p_{T}>th./L1 matched to GEN', h_lines=[0.95, 1])\n"
   ]
  },
  {
   "cell_type": "code",
   "execution_count": 117,
   "metadata": {
    "scrolled": false
   },
   "outputs": [
    {
     "name": "stdout",
     "output_type": "stream",
     "text": [
      "No match found for: pu: ['PU0', 'PU200'], tp: L1TrkEmu, tp_sel: allPt10, gen_sel: L1TrkEmu, classtype: python.l1THistos.HistoSetEff\n"
     ]
    },
    {
     "ename": "TypeError",
     "evalue": "'NoneType' object is not iterable",
     "output_type": "error",
     "traceback": [
      "\u001b[0;31m\u001b[0m",
      "\u001b[0;31mTypeError\u001b[0mTraceback (most recent call last)",
      "\u001b[0;32m<ipython-input-117-5344778b0700>\u001b[0m in \u001b[0;36m<module>\u001b[0;34m()\u001b[0m\n\u001b[1;32m      7\u001b[0m             \u001b[0mhsets\u001b[0m\u001b[0;34m,\u001b[0m \u001b[0mlabels\u001b[0m\u001b[0;34m,\u001b[0m \u001b[0mtext\u001b[0m \u001b[0;34m=\u001b[0m \u001b[0mhplot\u001b[0m\u001b[0;34m.\u001b[0m\u001b[0mget_histo\u001b[0m\u001b[0;34m(\u001b[0m\u001b[0mhistos\u001b[0m\u001b[0;34m.\u001b[0m\u001b[0mHistoSetEff\u001b[0m\u001b[0;34m,\u001b[0m \u001b[0msample\u001b[0m\u001b[0;34m,\u001b[0m \u001b[0;34m[\u001b[0m\u001b[0;34m'PU0'\u001b[0m\u001b[0;34m,\u001b[0m \u001b[0;34m'PU200'\u001b[0m\u001b[0;34m]\u001b[0m\u001b[0;34m,\u001b[0m \u001b[0mtp\u001b[0m\u001b[0;34m,\u001b[0m \u001b[0mtp_sel\u001b[0m\u001b[0;34m,\u001b[0m \u001b[0mgen_sel\u001b[0m\u001b[0;34m,\u001b[0m \u001b[0mdebug\u001b[0m\u001b[0;34m=\u001b[0m\u001b[0mTrue\u001b[0m\u001b[0;34m)\u001b[0m\u001b[0;34m\u001b[0m\u001b[0m\n\u001b[1;32m      8\u001b[0m             \u001b[0;31m# drawSeveral([his.hreso.h_ptResVpt for his in hsets], labels,  'COLZ', do_profile=True, text=text)\u001b[0m\u001b[0;34m\u001b[0m\u001b[0;34m\u001b[0m\u001b[0m\n\u001b[0;32m----> 9\u001b[0;31m             \u001b[0mdraw\u001b[0m\u001b[0;34m(\u001b[0m\u001b[0;34m[\u001b[0m\u001b[0mhis\u001b[0m\u001b[0;34m.\u001b[0m\u001b[0mh_ton\u001b[0m\u001b[0;34m.\u001b[0m\u001b[0mh_pt\u001b[0m\u001b[0;34m.\u001b[0m\u001b[0mCreateGraph\u001b[0m\u001b[0;34m(\u001b[0m\u001b[0;34m)\u001b[0m \u001b[0;32mfor\u001b[0m \u001b[0mhis\u001b[0m \u001b[0;32min\u001b[0m \u001b[0mhsets\u001b[0m\u001b[0;34m]\u001b[0m\u001b[0;34m,\u001b[0m \u001b[0mlabels\u001b[0m\u001b[0;34m,\u001b[0m \u001b[0mtext\u001b[0m\u001b[0;34m=\u001b[0m\u001b[0mtext\u001b[0m\u001b[0;34m,\u001b[0m \u001b[0mmin_y\u001b[0m\u001b[0;34m=\u001b[0m\u001b[0;36m0\u001b[0m\u001b[0;34m,\u001b[0m \u001b[0mmax_y\u001b[0m\u001b[0;34m=\u001b[0m\u001b[0;36m1.1\u001b[0m\u001b[0;34m,\u001b[0m \u001b[0my_axis_label\u001b[0m\u001b[0;34m=\u001b[0m\u001b[0;34m'L1 matched to GEN and p_{T}>th./L1 matched to GEN'\u001b[0m\u001b[0;34m,\u001b[0m \u001b[0mh_lines\u001b[0m\u001b[0;34m=\u001b[0m\u001b[0;34m[\u001b[0m\u001b[0;36m0.95\u001b[0m\u001b[0;34m,\u001b[0m \u001b[0;36m1\u001b[0m\u001b[0;34m]\u001b[0m\u001b[0;34m)\u001b[0m\u001b[0;34m\u001b[0m\u001b[0m\n\u001b[0m",
      "\u001b[0;31mTypeError\u001b[0m: 'NoneType' object is not iterable"
     ]
    }
   ],
   "source": [
    "for tp in tps:\n",
    "    if tp in ['TkEG', 'TkIsoEle', 'L1Trk']:\n",
    "        continue\n",
    "    for tp_sel in tp_select[tp]:\n",
    "        for gen_sel in gen_select:\n",
    "            tp_sel+='Pt10'\n",
    "            hsets, labels, text = hplot.get_histo(histos.HistoSetEff, sample, ['PU0', 'PU200'], tp, tp_sel, gen_sel, debug=True)\n",
    "            # drawSeveral([his.hreso.h_ptResVpt for his in hsets], labels,  'COLZ', do_profile=True, text=text)\n",
    "            draw([his.h_ton.h_pt.CreateGraph() for his in hsets], labels, text=text, min_y=0, max_y=1.1, y_axis_label='L1 matched to GEN and p_{T}>th./L1 matched to GEN', h_lines=[0.95, 1])\n"
   ]
  },
  {
   "cell_type": "code",
   "execution_count": 118,
   "metadata": {},
   "outputs": [
    {
     "name": "stdout",
     "output_type": "stream",
     "text": [
      "No match found for: pu: PU0, tp: ['EG'], tp_sel: ['EGq2Pt20', 'EGq3Pt20'], gen_sel: L1TrkEmu, classtype: python.l1THistos.HistoSetEff\n"
     ]
    },
    {
     "ename": "TypeError",
     "evalue": "'NoneType' object is not iterable",
     "output_type": "error",
     "traceback": [
      "\u001b[0;31m\u001b[0m",
      "\u001b[0;31mTypeError\u001b[0mTraceback (most recent call last)",
      "\u001b[0;32m<ipython-input-118-9282c156e5dc>\u001b[0m in \u001b[0;36m<module>\u001b[0;34m()\u001b[0m\n\u001b[1;32m      5\u001b[0m         \u001b[0mhsets\u001b[0m\u001b[0;34m,\u001b[0m \u001b[0mlabels\u001b[0m\u001b[0;34m,\u001b[0m \u001b[0mtext\u001b[0m \u001b[0;34m=\u001b[0m \u001b[0mhplot\u001b[0m\u001b[0;34m.\u001b[0m\u001b[0mget_histo\u001b[0m\u001b[0;34m(\u001b[0m\u001b[0mhistos\u001b[0m\u001b[0;34m.\u001b[0m\u001b[0mHistoSetEff\u001b[0m\u001b[0;34m,\u001b[0m \u001b[0msample\u001b[0m\u001b[0;34m,\u001b[0m \u001b[0mpu\u001b[0m\u001b[0;34m,\u001b[0m \u001b[0;34m[\u001b[0m\u001b[0;34m'EG'\u001b[0m\u001b[0;34m]\u001b[0m\u001b[0;34m,\u001b[0m \u001b[0;34m[\u001b[0m\u001b[0;34m'EGq2Pt20'\u001b[0m\u001b[0;34m,\u001b[0m \u001b[0;34m'EGq3Pt20'\u001b[0m\u001b[0;34m]\u001b[0m\u001b[0;34m,\u001b[0m \u001b[0mgen_sel\u001b[0m\u001b[0;34m,\u001b[0m \u001b[0mdebug\u001b[0m\u001b[0;34m=\u001b[0m\u001b[0mTrue\u001b[0m\u001b[0;34m)\u001b[0m\u001b[0;34m\u001b[0m\u001b[0m\n\u001b[1;32m      6\u001b[0m         \u001b[0;31m# drawSeveral([his.hreso.h_ptResVpt for his in hsets], labels,  'COLZ', do_profile=True, text=text)\u001b[0m\u001b[0;34m\u001b[0m\u001b[0;34m\u001b[0m\u001b[0m\n\u001b[0;32m----> 7\u001b[0;31m         \u001b[0mdraw\u001b[0m\u001b[0;34m(\u001b[0m\u001b[0;34m[\u001b[0m\u001b[0mhis\u001b[0m\u001b[0;34m.\u001b[0m\u001b[0mh_ton\u001b[0m\u001b[0;34m.\u001b[0m\u001b[0mh_pt\u001b[0m\u001b[0;34m.\u001b[0m\u001b[0mCreateGraph\u001b[0m\u001b[0;34m(\u001b[0m\u001b[0;34m)\u001b[0m \u001b[0;32mfor\u001b[0m \u001b[0mhis\u001b[0m \u001b[0;32min\u001b[0m \u001b[0mhsets\u001b[0m\u001b[0;34m]\u001b[0m\u001b[0;34m,\u001b[0m \u001b[0mlabels\u001b[0m\u001b[0;34m,\u001b[0m \u001b[0mtext\u001b[0m\u001b[0;34m=\u001b[0m\u001b[0mtext\u001b[0m\u001b[0;34m,\u001b[0m \u001b[0mmin_y\u001b[0m\u001b[0;34m=\u001b[0m\u001b[0;36m0\u001b[0m\u001b[0;34m,\u001b[0m \u001b[0mmax_y\u001b[0m\u001b[0;34m=\u001b[0m\u001b[0;36m1.1\u001b[0m\u001b[0;34m,\u001b[0m \u001b[0my_axis_label\u001b[0m\u001b[0;34m=\u001b[0m\u001b[0;34m'L1 matched to GEN and p_{T}>th./L1 matched to GEN'\u001b[0m\u001b[0;34m,\u001b[0m \u001b[0mh_lines\u001b[0m\u001b[0;34m=\u001b[0m\u001b[0;34m[\u001b[0m\u001b[0;36m0.95\u001b[0m\u001b[0;34m,\u001b[0m \u001b[0;36m1\u001b[0m\u001b[0;34m]\u001b[0m\u001b[0;34m)\u001b[0m\u001b[0;34m\u001b[0m\u001b[0m\n\u001b[0m",
      "\u001b[0;31mTypeError\u001b[0m: 'NoneType' object is not iterable"
     ]
    }
   ],
   "source": [
    "\n",
    "for pu in ['PU0']:\n",
    "    for gen_sel in gen_select:\n",
    "        tp_sel+='Pt20'\n",
    "        hsets, labels, text = hplot.get_histo(histos.HistoSetEff, sample, pu, ['EG'], ['EGq2Pt20', 'EGq3Pt20'], gen_sel, debug=True)\n",
    "        # drawSeveral([his.hreso.h_ptResVpt for his in hsets], labels,  'COLZ', do_profile=True, text=text)\n",
    "        draw([his.h_ton.h_pt.CreateGraph() for his in hsets], labels, text=text, min_y=0, max_y=1.1, y_axis_label='L1 matched to GEN and p_{T}>th./L1 matched to GEN', h_lines=[0.95, 1])\n"
   ]
  },
  {
   "cell_type": "code",
   "execution_count": 119,
   "metadata": {},
   "outputs": [
    {
     "name": "stdout",
     "output_type": "stream",
     "text": [
      "No match found for: pu: PU0, tp: ['TkEle'], tp_sel: ['EGq3Pt20', 'EGq4Pt20'], gen_sel: L1TrkEmu, classtype: python.l1THistos.HistoSetEff\n"
     ]
    },
    {
     "ename": "TypeError",
     "evalue": "'NoneType' object is not iterable",
     "output_type": "error",
     "traceback": [
      "\u001b[0;31m\u001b[0m",
      "\u001b[0;31mTypeError\u001b[0mTraceback (most recent call last)",
      "\u001b[0;32m<ipython-input-119-f05c2ebe9719>\u001b[0m in \u001b[0;36m<module>\u001b[0;34m()\u001b[0m\n\u001b[1;32m      5\u001b[0m         \u001b[0mhsets\u001b[0m\u001b[0;34m,\u001b[0m \u001b[0mlabels\u001b[0m\u001b[0;34m,\u001b[0m \u001b[0mtext\u001b[0m \u001b[0;34m=\u001b[0m \u001b[0mhplot\u001b[0m\u001b[0;34m.\u001b[0m\u001b[0mget_histo\u001b[0m\u001b[0;34m(\u001b[0m\u001b[0mhistos\u001b[0m\u001b[0;34m.\u001b[0m\u001b[0mHistoSetEff\u001b[0m\u001b[0;34m,\u001b[0m \u001b[0msample\u001b[0m\u001b[0;34m,\u001b[0m \u001b[0mpu\u001b[0m\u001b[0;34m,\u001b[0m \u001b[0;34m[\u001b[0m\u001b[0;34m'TkEle'\u001b[0m\u001b[0;34m]\u001b[0m\u001b[0;34m,\u001b[0m \u001b[0;34m[\u001b[0m\u001b[0;34m'EGq3Pt20'\u001b[0m\u001b[0;34m,\u001b[0m \u001b[0;34m'EGq4Pt20'\u001b[0m\u001b[0;34m]\u001b[0m\u001b[0;34m,\u001b[0m \u001b[0mgen_sel\u001b[0m\u001b[0;34m,\u001b[0m \u001b[0mdebug\u001b[0m\u001b[0;34m=\u001b[0m\u001b[0mTrue\u001b[0m\u001b[0;34m)\u001b[0m\u001b[0;34m\u001b[0m\u001b[0m\n\u001b[1;32m      6\u001b[0m         \u001b[0;31m# drawSeveral([his.hreso.h_ptResVpt for his in hsets], labels,  'COLZ', do_profile=True, text=text)\u001b[0m\u001b[0;34m\u001b[0m\u001b[0;34m\u001b[0m\u001b[0m\n\u001b[0;32m----> 7\u001b[0;31m         \u001b[0mdraw\u001b[0m\u001b[0;34m(\u001b[0m\u001b[0;34m[\u001b[0m\u001b[0mhis\u001b[0m\u001b[0;34m.\u001b[0m\u001b[0mh_ton\u001b[0m\u001b[0;34m.\u001b[0m\u001b[0mh_pt\u001b[0m\u001b[0;34m.\u001b[0m\u001b[0mCreateGraph\u001b[0m\u001b[0;34m(\u001b[0m\u001b[0;34m)\u001b[0m \u001b[0;32mfor\u001b[0m \u001b[0mhis\u001b[0m \u001b[0;32min\u001b[0m \u001b[0mhsets\u001b[0m\u001b[0;34m]\u001b[0m\u001b[0;34m,\u001b[0m \u001b[0mlabels\u001b[0m\u001b[0;34m,\u001b[0m \u001b[0mtext\u001b[0m\u001b[0;34m=\u001b[0m\u001b[0mtext\u001b[0m\u001b[0;34m,\u001b[0m \u001b[0mmin_y\u001b[0m\u001b[0;34m=\u001b[0m\u001b[0;36m0\u001b[0m\u001b[0;34m,\u001b[0m \u001b[0mmax_y\u001b[0m\u001b[0;34m=\u001b[0m\u001b[0;36m1.1\u001b[0m\u001b[0;34m,\u001b[0m \u001b[0my_axis_label\u001b[0m\u001b[0;34m=\u001b[0m\u001b[0;34m'L1 matched to GEN and p_{T}>th./L1 matched to GEN'\u001b[0m\u001b[0;34m,\u001b[0m \u001b[0mh_lines\u001b[0m\u001b[0;34m=\u001b[0m\u001b[0;34m[\u001b[0m\u001b[0;36m0.95\u001b[0m\u001b[0;34m,\u001b[0m \u001b[0;36m1\u001b[0m\u001b[0;34m]\u001b[0m\u001b[0;34m)\u001b[0m\u001b[0;34m\u001b[0m\u001b[0m\n\u001b[0m",
      "\u001b[0;31mTypeError\u001b[0m: 'NoneType' object is not iterable"
     ]
    }
   ],
   "source": [
    "\n",
    "for pu in ['PU0']:\n",
    "    for gen_sel in gen_select:\n",
    "        tp_sel+='Pt20'\n",
    "        hsets, labels, text = hplot.get_histo(histos.HistoSetEff, sample, pu, ['TkEle'], ['EGq3Pt20', 'EGq4Pt20'], gen_sel, debug=True)\n",
    "        # drawSeveral([his.hreso.h_ptResVpt for his in hsets], labels,  'COLZ', do_profile=True, text=text)\n",
    "        draw([his.h_ton.h_pt.CreateGraph() for his in hsets], labels, text=text, min_y=0, max_y=1.1, y_axis_label='L1 matched to GEN and p_{T}>th./L1 matched to GEN', h_lines=[0.95, 1])\n"
   ]
  },
  {
   "cell_type": "code",
   "execution_count": 120,
   "metadata": {},
   "outputs": [
    {
     "name": "stdout",
     "output_type": "stream",
     "text": [
      "No match found for: pu: PU200, tp: ['TkEle'], tp_sel: ['EGq3Pt20', 'EGq4Pt20'], gen_sel: L1TrkEmu, classtype: python.l1THistos.HistoSetEff\n"
     ]
    },
    {
     "ename": "TypeError",
     "evalue": "'NoneType' object is not iterable",
     "output_type": "error",
     "traceback": [
      "\u001b[0;31m\u001b[0m",
      "\u001b[0;31mTypeError\u001b[0mTraceback (most recent call last)",
      "\u001b[0;32m<ipython-input-120-e6f668eb484b>\u001b[0m in \u001b[0;36m<module>\u001b[0;34m()\u001b[0m\n\u001b[1;32m      5\u001b[0m         \u001b[0mhsets\u001b[0m\u001b[0;34m,\u001b[0m \u001b[0mlabels\u001b[0m\u001b[0;34m,\u001b[0m \u001b[0mtext\u001b[0m \u001b[0;34m=\u001b[0m \u001b[0mhplot\u001b[0m\u001b[0;34m.\u001b[0m\u001b[0mget_histo\u001b[0m\u001b[0;34m(\u001b[0m\u001b[0mhistos\u001b[0m\u001b[0;34m.\u001b[0m\u001b[0mHistoSetEff\u001b[0m\u001b[0;34m,\u001b[0m \u001b[0msample\u001b[0m\u001b[0;34m,\u001b[0m \u001b[0mpu\u001b[0m\u001b[0;34m,\u001b[0m \u001b[0;34m[\u001b[0m\u001b[0;34m'TkEle'\u001b[0m\u001b[0;34m]\u001b[0m\u001b[0;34m,\u001b[0m \u001b[0;34m[\u001b[0m\u001b[0;34m'EGq3Pt20'\u001b[0m\u001b[0;34m,\u001b[0m \u001b[0;34m'EGq4Pt20'\u001b[0m\u001b[0;34m]\u001b[0m\u001b[0;34m,\u001b[0m \u001b[0mgen_sel\u001b[0m\u001b[0;34m,\u001b[0m \u001b[0mdebug\u001b[0m\u001b[0;34m=\u001b[0m\u001b[0mTrue\u001b[0m\u001b[0;34m)\u001b[0m\u001b[0;34m\u001b[0m\u001b[0m\n\u001b[1;32m      6\u001b[0m         \u001b[0;31m# drawSeveral([his.hreso.h_ptResVpt for his in hsets], labels,  'COLZ', do_profile=True, text=text)\u001b[0m\u001b[0;34m\u001b[0m\u001b[0;34m\u001b[0m\u001b[0m\n\u001b[0;32m----> 7\u001b[0;31m         \u001b[0mdraw\u001b[0m\u001b[0;34m(\u001b[0m\u001b[0;34m[\u001b[0m\u001b[0mhis\u001b[0m\u001b[0;34m.\u001b[0m\u001b[0mh_ton\u001b[0m\u001b[0;34m.\u001b[0m\u001b[0mh_pt\u001b[0m\u001b[0;34m.\u001b[0m\u001b[0mCreateGraph\u001b[0m\u001b[0;34m(\u001b[0m\u001b[0;34m)\u001b[0m \u001b[0;32mfor\u001b[0m \u001b[0mhis\u001b[0m \u001b[0;32min\u001b[0m \u001b[0mhsets\u001b[0m\u001b[0;34m]\u001b[0m\u001b[0;34m,\u001b[0m \u001b[0mlabels\u001b[0m\u001b[0;34m,\u001b[0m \u001b[0mtext\u001b[0m\u001b[0;34m=\u001b[0m\u001b[0mtext\u001b[0m\u001b[0;34m,\u001b[0m \u001b[0mmin_y\u001b[0m\u001b[0;34m=\u001b[0m\u001b[0;36m0\u001b[0m\u001b[0;34m,\u001b[0m \u001b[0mmax_y\u001b[0m\u001b[0;34m=\u001b[0m\u001b[0;36m1.1\u001b[0m\u001b[0;34m,\u001b[0m \u001b[0my_axis_label\u001b[0m\u001b[0;34m=\u001b[0m\u001b[0;34m'L1 matched to GEN and p_{T}>th./L1 matched to GEN'\u001b[0m\u001b[0;34m,\u001b[0m \u001b[0mh_lines\u001b[0m\u001b[0;34m=\u001b[0m\u001b[0;34m[\u001b[0m\u001b[0;36m0.95\u001b[0m\u001b[0;34m,\u001b[0m \u001b[0;36m1\u001b[0m\u001b[0;34m]\u001b[0m\u001b[0;34m)\u001b[0m\u001b[0;34m\u001b[0m\u001b[0m\n\u001b[0m",
      "\u001b[0;31mTypeError\u001b[0m: 'NoneType' object is not iterable"
     ]
    }
   ],
   "source": [
    "\n",
    "for pu in ['PU200']:\n",
    "    for gen_sel in gen_select:\n",
    "        tp_sel+='Pt20'\n",
    "        hsets, labels, text = hplot.get_histo(histos.HistoSetEff, sample, pu, ['TkEle'], ['EGq3Pt20', 'EGq4Pt20'], gen_sel, debug=True)\n",
    "        # drawSeveral([his.hreso.h_ptResVpt for his in hsets], labels,  'COLZ', do_profile=True, text=text)\n",
    "        draw([his.h_ton.h_pt.CreateGraph() for his in hsets], labels, text=text, min_y=0, max_y=1.1, y_axis_label='L1 matched to GEN and p_{T}>th./L1 matched to GEN', h_lines=[0.95, 1])\n"
   ]
  },
  {
   "cell_type": "code",
   "execution_count": 121,
   "metadata": {},
   "outputs": [
    {
     "name": "stdout",
     "output_type": "stream",
     "text": [
      "No match found for: pu: PU200, tp: ['TkEle'], tp_sel: ['EGq3Pt30', 'EGq4Pt30'], gen_sel: L1TrkEmu, classtype: python.l1THistos.HistoSetEff\n"
     ]
    },
    {
     "ename": "TypeError",
     "evalue": "'NoneType' object is not iterable",
     "output_type": "error",
     "traceback": [
      "\u001b[0;31m\u001b[0m",
      "\u001b[0;31mTypeError\u001b[0mTraceback (most recent call last)",
      "\u001b[0;32m<ipython-input-121-ca4ed16ac861>\u001b[0m in \u001b[0;36m<module>\u001b[0;34m()\u001b[0m\n\u001b[1;32m      5\u001b[0m         \u001b[0mhsets\u001b[0m\u001b[0;34m,\u001b[0m \u001b[0mlabels\u001b[0m\u001b[0;34m,\u001b[0m \u001b[0mtext\u001b[0m \u001b[0;34m=\u001b[0m \u001b[0mhplot\u001b[0m\u001b[0;34m.\u001b[0m\u001b[0mget_histo\u001b[0m\u001b[0;34m(\u001b[0m\u001b[0mhistos\u001b[0m\u001b[0;34m.\u001b[0m\u001b[0mHistoSetEff\u001b[0m\u001b[0;34m,\u001b[0m \u001b[0msample\u001b[0m\u001b[0;34m,\u001b[0m \u001b[0mpu\u001b[0m\u001b[0;34m,\u001b[0m \u001b[0;34m[\u001b[0m\u001b[0;34m'TkEle'\u001b[0m\u001b[0;34m]\u001b[0m\u001b[0;34m,\u001b[0m \u001b[0;34m[\u001b[0m\u001b[0;34m'EGq3Pt30'\u001b[0m\u001b[0;34m,\u001b[0m \u001b[0;34m'EGq4Pt30'\u001b[0m\u001b[0;34m]\u001b[0m\u001b[0;34m,\u001b[0m \u001b[0mgen_sel\u001b[0m\u001b[0;34m,\u001b[0m \u001b[0mdebug\u001b[0m\u001b[0;34m=\u001b[0m\u001b[0mTrue\u001b[0m\u001b[0;34m)\u001b[0m\u001b[0;34m\u001b[0m\u001b[0m\n\u001b[1;32m      6\u001b[0m         \u001b[0;31m# drawSeveral([his.hreso.h_ptResVpt for his in hsets], labels,  'COLZ', do_profile=True, text=text)\u001b[0m\u001b[0;34m\u001b[0m\u001b[0;34m\u001b[0m\u001b[0m\n\u001b[0;32m----> 7\u001b[0;31m         \u001b[0mdraw\u001b[0m\u001b[0;34m(\u001b[0m\u001b[0;34m[\u001b[0m\u001b[0mhis\u001b[0m\u001b[0;34m.\u001b[0m\u001b[0mh_ton\u001b[0m\u001b[0;34m.\u001b[0m\u001b[0mh_pt\u001b[0m\u001b[0;34m.\u001b[0m\u001b[0mCreateGraph\u001b[0m\u001b[0;34m(\u001b[0m\u001b[0;34m)\u001b[0m \u001b[0;32mfor\u001b[0m \u001b[0mhis\u001b[0m \u001b[0;32min\u001b[0m \u001b[0mhsets\u001b[0m\u001b[0;34m]\u001b[0m\u001b[0;34m,\u001b[0m \u001b[0mlabels\u001b[0m\u001b[0;34m,\u001b[0m \u001b[0mtext\u001b[0m\u001b[0;34m=\u001b[0m\u001b[0mtext\u001b[0m\u001b[0;34m,\u001b[0m \u001b[0mmin_y\u001b[0m\u001b[0;34m=\u001b[0m\u001b[0;36m0\u001b[0m\u001b[0;34m,\u001b[0m \u001b[0mmax_y\u001b[0m\u001b[0;34m=\u001b[0m\u001b[0;36m1.1\u001b[0m\u001b[0;34m,\u001b[0m \u001b[0my_axis_label\u001b[0m\u001b[0;34m=\u001b[0m\u001b[0;34m'L1 matched to GEN and p_{T}>th./L1 matched to GEN'\u001b[0m\u001b[0;34m,\u001b[0m \u001b[0mh_lines\u001b[0m\u001b[0;34m=\u001b[0m\u001b[0;34m[\u001b[0m\u001b[0;36m0.95\u001b[0m\u001b[0;34m,\u001b[0m \u001b[0;36m1\u001b[0m\u001b[0;34m]\u001b[0m\u001b[0;34m)\u001b[0m\u001b[0;34m\u001b[0m\u001b[0m\n\u001b[0m",
      "\u001b[0;31mTypeError\u001b[0m: 'NoneType' object is not iterable"
     ]
    }
   ],
   "source": [
    "\n",
    "for pu in ['PU200']:\n",
    "    for gen_sel in gen_select:\n",
    "        tp_sel+='Pt25'\n",
    "        hsets, labels, text = hplot.get_histo(histos.HistoSetEff, sample, pu, ['TkEle'], ['EGq3Pt30', 'EGq4Pt30'], gen_sel, debug=True)\n",
    "        # drawSeveral([his.hreso.h_ptResVpt for his in hsets], labels,  'COLZ', do_profile=True, text=text)\n",
    "        draw([his.h_ton.h_pt.CreateGraph() for his in hsets], labels, text=text, min_y=0, max_y=1.1, y_axis_label='L1 matched to GEN and p_{T}>th./L1 matched to GEN', h_lines=[0.95, 1])\n"
   ]
  },
  {
   "cell_type": "code",
   "execution_count": 122,
   "metadata": {},
   "outputs": [
    {
     "name": "stdout",
     "output_type": "stream",
     "text": [
      "No match found for: pu: PU200, tp: ['TkEle'], tp_sel: ['EGq3Pt30', 'EGq4Pt30'], gen_sel: L1TrkEmu, classtype: python.l1THistos.HistoSetEff\n"
     ]
    },
    {
     "ename": "TypeError",
     "evalue": "'NoneType' object is not iterable",
     "output_type": "error",
     "traceback": [
      "\u001b[0;31m\u001b[0m",
      "\u001b[0;31mTypeError\u001b[0mTraceback (most recent call last)",
      "\u001b[0;32m<ipython-input-122-fc9d482c06c2>\u001b[0m in \u001b[0;36m<module>\u001b[0;34m()\u001b[0m\n\u001b[1;32m      5\u001b[0m         \u001b[0mhsets\u001b[0m\u001b[0;34m,\u001b[0m \u001b[0mlabels\u001b[0m\u001b[0;34m,\u001b[0m \u001b[0mtext\u001b[0m \u001b[0;34m=\u001b[0m \u001b[0mhplot\u001b[0m\u001b[0;34m.\u001b[0m\u001b[0mget_histo\u001b[0m\u001b[0;34m(\u001b[0m\u001b[0mhistos\u001b[0m\u001b[0;34m.\u001b[0m\u001b[0mHistoSetEff\u001b[0m\u001b[0;34m,\u001b[0m \u001b[0msample\u001b[0m\u001b[0;34m,\u001b[0m \u001b[0mpu\u001b[0m\u001b[0;34m,\u001b[0m \u001b[0;34m[\u001b[0m\u001b[0;34m'TkEle'\u001b[0m\u001b[0;34m]\u001b[0m\u001b[0;34m,\u001b[0m \u001b[0;34m[\u001b[0m\u001b[0;34m'EGq3Pt30'\u001b[0m\u001b[0;34m,\u001b[0m \u001b[0;34m'EGq4Pt30'\u001b[0m\u001b[0;34m]\u001b[0m\u001b[0;34m,\u001b[0m \u001b[0mgen_sel\u001b[0m\u001b[0;34m,\u001b[0m \u001b[0mdebug\u001b[0m\u001b[0;34m=\u001b[0m\u001b[0mTrue\u001b[0m\u001b[0;34m)\u001b[0m\u001b[0;34m\u001b[0m\u001b[0m\n\u001b[1;32m      6\u001b[0m         \u001b[0;31m# drawSeveral([his.hreso.h_ptResVpt for his in hsets], labels,  'COLZ', do_profile=True, text=text)\u001b[0m\u001b[0;34m\u001b[0m\u001b[0;34m\u001b[0m\u001b[0m\n\u001b[0;32m----> 7\u001b[0;31m         \u001b[0mdraw\u001b[0m\u001b[0;34m(\u001b[0m\u001b[0;34m[\u001b[0m\u001b[0mhis\u001b[0m\u001b[0;34m.\u001b[0m\u001b[0mh_ton\u001b[0m\u001b[0;34m.\u001b[0m\u001b[0mh_pt\u001b[0m\u001b[0;34m.\u001b[0m\u001b[0mCreateGraph\u001b[0m\u001b[0;34m(\u001b[0m\u001b[0;34m)\u001b[0m \u001b[0;32mfor\u001b[0m \u001b[0mhis\u001b[0m \u001b[0;32min\u001b[0m \u001b[0mhsets\u001b[0m\u001b[0;34m]\u001b[0m\u001b[0;34m,\u001b[0m \u001b[0mlabels\u001b[0m\u001b[0;34m,\u001b[0m \u001b[0mtext\u001b[0m\u001b[0;34m=\u001b[0m\u001b[0mtext\u001b[0m\u001b[0;34m,\u001b[0m \u001b[0mmin_y\u001b[0m\u001b[0;34m=\u001b[0m\u001b[0;36m0\u001b[0m\u001b[0;34m,\u001b[0m \u001b[0mmax_y\u001b[0m\u001b[0;34m=\u001b[0m\u001b[0;36m1.1\u001b[0m\u001b[0;34m,\u001b[0m \u001b[0my_axis_label\u001b[0m\u001b[0;34m=\u001b[0m\u001b[0;34m'L1 matched to GEN and p_{T}>th./L1 matched to GEN'\u001b[0m\u001b[0;34m,\u001b[0m \u001b[0mh_lines\u001b[0m\u001b[0;34m=\u001b[0m\u001b[0;34m[\u001b[0m\u001b[0;36m0.95\u001b[0m\u001b[0;34m,\u001b[0m \u001b[0;36m1\u001b[0m\u001b[0;34m]\u001b[0m\u001b[0;34m)\u001b[0m\u001b[0;34m\u001b[0m\u001b[0m\n\u001b[0m",
      "\u001b[0;31mTypeError\u001b[0m: 'NoneType' object is not iterable"
     ]
    }
   ],
   "source": [
    "\n",
    "for pu in ['PU200']:\n",
    "    for gen_sel in gen_select:\n",
    "        tp_sel+='Pt30'\n",
    "        hsets, labels, text = hplot.get_histo(histos.HistoSetEff, sample, pu, ['TkEle'], ['EGq3Pt30', 'EGq4Pt30'], gen_sel, debug=True)\n",
    "        # drawSeveral([his.hreso.h_ptResVpt for his in hsets], labels,  'COLZ', do_profile=True, text=text)\n",
    "        draw([his.h_ton.h_pt.CreateGraph() for his in hsets], labels, text=text, min_y=0, max_y=1.1, y_axis_label='L1 matched to GEN and p_{T}>th./L1 matched to GEN', h_lines=[0.95, 1])\n"
   ]
  },
  {
   "cell_type": "code",
   "execution_count": 123,
   "metadata": {
    "scrolled": false
   },
   "outputs": [
    {
     "name": "stdout",
     "output_type": "stream",
     "text": [
      "No match found for: pu: ['PU0', 'PU200'], tp: L1Trk, tp_sel: Pt20, gen_sel: L1TrkEmu, classtype: python.l1THistos.HistoSetEff\n"
     ]
    },
    {
     "ename": "NameError",
     "evalue": "name 'drawSame' is not defined",
     "output_type": "error",
     "traceback": [
      "\u001b[0;31m\u001b[0m",
      "\u001b[0;31mNameError\u001b[0mTraceback (most recent call last)",
      "\u001b[0;32m<ipython-input-123-f62ac794d215>\u001b[0m in \u001b[0;36m<module>\u001b[0;34m()\u001b[0m\n\u001b[1;32m      4\u001b[0m             \u001b[0mhsets\u001b[0m\u001b[0;34m,\u001b[0m \u001b[0mlabels\u001b[0m\u001b[0;34m,\u001b[0m \u001b[0mtext\u001b[0m \u001b[0;34m=\u001b[0m \u001b[0mhplot\u001b[0m\u001b[0;34m.\u001b[0m\u001b[0mget_histo\u001b[0m\u001b[0;34m(\u001b[0m\u001b[0mhistos\u001b[0m\u001b[0;34m.\u001b[0m\u001b[0mHistoSetEff\u001b[0m\u001b[0;34m,\u001b[0m \u001b[0;34m'ele'\u001b[0m\u001b[0;34m,\u001b[0m \u001b[0;34m[\u001b[0m\u001b[0;34m'PU0'\u001b[0m\u001b[0;34m,\u001b[0m \u001b[0;34m'PU200'\u001b[0m\u001b[0;34m]\u001b[0m\u001b[0;34m,\u001b[0m \u001b[0mtp\u001b[0m\u001b[0;34m,\u001b[0m \u001b[0mtp_sel\u001b[0m\u001b[0;34m,\u001b[0m \u001b[0mgen_sel\u001b[0m\u001b[0;34m)\u001b[0m\u001b[0;34m\u001b[0m\u001b[0m\n\u001b[1;32m      5\u001b[0m             \u001b[0;31m# drawSeveral([his.hreso.h_ptResVpt for his in hsets], labels,  'COLZ', do_profile=True, text=text)\u001b[0m\u001b[0;34m\u001b[0m\u001b[0;34m\u001b[0m\u001b[0m\n\u001b[0;32m----> 6\u001b[0;31m             \u001b[0mdrawSame\u001b[0m\u001b[0;34m(\u001b[0m\u001b[0;34m[\u001b[0m\u001b[0mhis\u001b[0m\u001b[0;34m.\u001b[0m\u001b[0mh_ton\u001b[0m\u001b[0;34m.\u001b[0m\u001b[0mh_pt\u001b[0m\u001b[0;34m.\u001b[0m\u001b[0mCreateGraph\u001b[0m\u001b[0;34m(\u001b[0m\u001b[0;34m)\u001b[0m \u001b[0;32mfor\u001b[0m \u001b[0mhis\u001b[0m \u001b[0;32min\u001b[0m \u001b[0mhsets\u001b[0m\u001b[0;34m]\u001b[0m\u001b[0;34m,\u001b[0m \u001b[0mlabels\u001b[0m\u001b[0;34m,\u001b[0m \u001b[0mtext\u001b[0m\u001b[0;34m=\u001b[0m\u001b[0mtext\u001b[0m\u001b[0;34m,\u001b[0m \u001b[0mmin_y\u001b[0m\u001b[0;34m=\u001b[0m\u001b[0;36m0\u001b[0m\u001b[0;34m,\u001b[0m \u001b[0mmax_y\u001b[0m\u001b[0;34m=\u001b[0m\u001b[0;36m1.1\u001b[0m\u001b[0;34m,\u001b[0m \u001b[0my_axis_label\u001b[0m\u001b[0;34m=\u001b[0m\u001b[0;34m'L1 matched to GEN and p_{T}>th./L1 matched to GEN'\u001b[0m\u001b[0;34m,\u001b[0m \u001b[0mh_lines\u001b[0m\u001b[0;34m=\u001b[0m\u001b[0;34m[\u001b[0m\u001b[0;36m0.95\u001b[0m\u001b[0;34m,\u001b[0m \u001b[0;36m1\u001b[0m\u001b[0;34m]\u001b[0m\u001b[0;34m)\u001b[0m\u001b[0;34m\u001b[0m\u001b[0m\n\u001b[0m\u001b[1;32m      7\u001b[0m \u001b[0;34m\u001b[0m\u001b[0m\n",
      "\u001b[0;31mNameError\u001b[0m: name 'drawSame' is not defined"
     ]
    }
   ],
   "source": [
    "for tp in tps:\n",
    "    for tp_sel in ['Pt20', 'EmPt20', 'Emv1Pt20', 'Pt30', 'EmPt30', 'Emv1Pt30']:\n",
    "        for gen_sel in gen_select:\n",
    "            hsets, labels, text = hplot.get_histo(histos.HistoSetEff, 'ele', ['PU0', 'PU200'], tp, tp_sel, gen_sel)\n",
    "            # drawSeveral([his.hreso.h_ptResVpt for his in hsets], labels,  'COLZ', do_profile=True, text=text)\n",
    "            drawSame([his.h_ton.h_pt.CreateGraph() for his in hsets], labels, text=text, min_y=0, max_y=1.1, y_axis_label='L1 matched to GEN and p_{T}>th./L1 matched to GEN', h_lines=[0.95, 1])\n",
    "   "
   ]
  },
  {
   "cell_type": "code",
   "execution_count": 124,
   "metadata": {
    "scrolled": true
   },
   "outputs": [
    {
     "name": "stdout",
     "output_type": "stream",
     "text": [
      "No match found for: pu: PU0, tp: L1Trk, tp_sel: Pt20, gen_sel: ['GENEtaABC', 'GENEtaBC'], classtype: python.l1THistos.HistoSetEff\n"
     ]
    },
    {
     "ename": "NameError",
     "evalue": "name 'drawSame' is not defined",
     "output_type": "error",
     "traceback": [
      "\u001b[0;31m\u001b[0m",
      "\u001b[0;31mNameError\u001b[0mTraceback (most recent call last)",
      "\u001b[0;32m<ipython-input-124-93a4932ebb60>\u001b[0m in \u001b[0;36m<module>\u001b[0;34m()\u001b[0m\n\u001b[1;32m      4\u001b[0m                 \u001b[0mhsets\u001b[0m\u001b[0;34m,\u001b[0m \u001b[0mlabels\u001b[0m\u001b[0;34m,\u001b[0m \u001b[0mtext\u001b[0m \u001b[0;34m=\u001b[0m \u001b[0mhplot\u001b[0m\u001b[0;34m.\u001b[0m\u001b[0mget_histo\u001b[0m\u001b[0;34m(\u001b[0m\u001b[0mhistos\u001b[0m\u001b[0;34m.\u001b[0m\u001b[0mHistoSetEff\u001b[0m\u001b[0;34m,\u001b[0m \u001b[0;34m'ele'\u001b[0m\u001b[0;34m,\u001b[0m \u001b[0mpu\u001b[0m\u001b[0;34m,\u001b[0m \u001b[0mtp\u001b[0m\u001b[0;34m,\u001b[0m \u001b[0mtp_sel\u001b[0m\u001b[0;34m,\u001b[0m \u001b[0;34m[\u001b[0m\u001b[0;34m'GENEtaABC'\u001b[0m\u001b[0;34m,\u001b[0m \u001b[0;34m'GENEtaBC'\u001b[0m\u001b[0;34m]\u001b[0m\u001b[0;34m)\u001b[0m\u001b[0;34m\u001b[0m\u001b[0m\n\u001b[1;32m      5\u001b[0m                 \u001b[0;31m# drawSeveral([his.hreso.h_ptResVpt for his in hsets], labels,  'COLZ', do_profile=True, text=text)\u001b[0m\u001b[0;34m\u001b[0m\u001b[0;34m\u001b[0m\u001b[0m\n\u001b[0;32m----> 6\u001b[0;31m                 \u001b[0mdrawSame\u001b[0m\u001b[0;34m(\u001b[0m\u001b[0;34m[\u001b[0m\u001b[0mhis\u001b[0m\u001b[0;34m.\u001b[0m\u001b[0mh_ton\u001b[0m\u001b[0;34m.\u001b[0m\u001b[0mh_pt\u001b[0m\u001b[0;34m.\u001b[0m\u001b[0mCreateGraph\u001b[0m\u001b[0;34m(\u001b[0m\u001b[0;34m)\u001b[0m \u001b[0;32mfor\u001b[0m \u001b[0mhis\u001b[0m \u001b[0;32min\u001b[0m \u001b[0mhsets\u001b[0m\u001b[0;34m]\u001b[0m\u001b[0;34m,\u001b[0m \u001b[0mlabels\u001b[0m\u001b[0;34m,\u001b[0m \u001b[0mtext\u001b[0m\u001b[0;34m=\u001b[0m\u001b[0mtext\u001b[0m\u001b[0;34m,\u001b[0m \u001b[0mmin_y\u001b[0m\u001b[0;34m=\u001b[0m\u001b[0;36m0\u001b[0m\u001b[0;34m,\u001b[0m \u001b[0mmax_y\u001b[0m\u001b[0;34m=\u001b[0m\u001b[0;36m1.1\u001b[0m\u001b[0;34m,\u001b[0m \u001b[0my_axis_label\u001b[0m\u001b[0;34m=\u001b[0m\u001b[0;34m'L1 matched to GEN and p_{T}>th./L1 matched to GEN'\u001b[0m\u001b[0;34m,\u001b[0m \u001b[0mh_lines\u001b[0m\u001b[0;34m=\u001b[0m\u001b[0;34m[\u001b[0m\u001b[0;36m0.95\u001b[0m\u001b[0;34m,\u001b[0m \u001b[0;36m1\u001b[0m\u001b[0;34m]\u001b[0m\u001b[0;34m)\u001b[0m\u001b[0;34m\u001b[0m\u001b[0m\n\u001b[0m\u001b[1;32m      7\u001b[0m \u001b[0;34m\u001b[0m\u001b[0m\n",
      "\u001b[0;31mNameError\u001b[0m: name 'drawSame' is not defined"
     ]
    }
   ],
   "source": [
    "for pu in ['PU0', 'PU200']:\n",
    "    for tp in tps:\n",
    "        for tp_sel in ['Pt20', 'EmPt20', 'Emv1Pt20', 'Pt30', 'EmPt30', 'Emv1Pt30']:\n",
    "                hsets, labels, text = hplot.get_histo(histos.HistoSetEff, 'ele', pu, tp, tp_sel, ['GENEtaABC', 'GENEtaBC'])\n",
    "                # drawSeveral([his.hreso.h_ptResVpt for his in hsets], labels,  'COLZ', do_profile=True, text=text)\n",
    "                drawSame([his.h_ton.h_pt.CreateGraph() for his in hsets], labels, text=text, min_y=0, max_y=1.1, y_axis_label='L1 matched to GEN and p_{T}>th./L1 matched to GEN', h_lines=[0.95, 1])\n",
    "   "
   ]
  },
  {
   "cell_type": "code",
   "execution_count": 125,
   "metadata": {},
   "outputs": [
    {
     "name": "stdout",
     "output_type": "stream",
     "text": [
      "No match found for: pu: PU0, tp: ['DEF', 'DEFCalib'], tp_sel: EmPt20, gen_sel: L1TrkEmu, classtype: python.l1THistos.HistoSetEff\n"
     ]
    },
    {
     "ename": "NameError",
     "evalue": "name 'drawSame' is not defined",
     "output_type": "error",
     "traceback": [
      "\u001b[0;31m\u001b[0m",
      "\u001b[0;31mNameError\u001b[0mTraceback (most recent call last)",
      "\u001b[0;32m<ipython-input-125-6a1a65111bb4>\u001b[0m in \u001b[0;36m<module>\u001b[0;34m()\u001b[0m\n\u001b[1;32m      4\u001b[0m                 \u001b[0mhsets\u001b[0m\u001b[0;34m,\u001b[0m \u001b[0mlabels\u001b[0m\u001b[0;34m,\u001b[0m \u001b[0mtext\u001b[0m \u001b[0;34m=\u001b[0m \u001b[0mhplot\u001b[0m\u001b[0;34m.\u001b[0m\u001b[0mget_histo\u001b[0m\u001b[0;34m(\u001b[0m\u001b[0mhistos\u001b[0m\u001b[0;34m.\u001b[0m\u001b[0mHistoSetEff\u001b[0m\u001b[0;34m,\u001b[0m \u001b[0;34m'ele'\u001b[0m\u001b[0;34m,\u001b[0m \u001b[0mpu\u001b[0m\u001b[0;34m,\u001b[0m \u001b[0;34m[\u001b[0m\u001b[0;34m'DEF'\u001b[0m\u001b[0;34m,\u001b[0m \u001b[0;34m'DEFCalib'\u001b[0m\u001b[0;34m]\u001b[0m\u001b[0;34m,\u001b[0m \u001b[0mtp_sel\u001b[0m\u001b[0;34m,\u001b[0m \u001b[0mgen_sel\u001b[0m\u001b[0;34m)\u001b[0m\u001b[0;34m\u001b[0m\u001b[0m\n\u001b[1;32m      5\u001b[0m                 \u001b[0;31m# drawSeveral([his.hreso.h_ptResVpt for his in hsets], labels,  'COLZ', do_profile=True, text=text)\u001b[0m\u001b[0;34m\u001b[0m\u001b[0;34m\u001b[0m\u001b[0m\n\u001b[0;32m----> 6\u001b[0;31m                 \u001b[0mdrawSame\u001b[0m\u001b[0;34m(\u001b[0m\u001b[0;34m[\u001b[0m\u001b[0mhis\u001b[0m\u001b[0;34m.\u001b[0m\u001b[0mh_ton\u001b[0m\u001b[0;34m.\u001b[0m\u001b[0mh_pt\u001b[0m\u001b[0;34m.\u001b[0m\u001b[0mCreateGraph\u001b[0m\u001b[0;34m(\u001b[0m\u001b[0;34m)\u001b[0m \u001b[0;32mfor\u001b[0m \u001b[0mhis\u001b[0m \u001b[0;32min\u001b[0m \u001b[0mhsets\u001b[0m\u001b[0;34m]\u001b[0m\u001b[0;34m,\u001b[0m \u001b[0mlabels\u001b[0m\u001b[0;34m,\u001b[0m \u001b[0mtext\u001b[0m\u001b[0;34m=\u001b[0m\u001b[0mtext\u001b[0m\u001b[0;34m,\u001b[0m \u001b[0mmin_y\u001b[0m\u001b[0;34m=\u001b[0m\u001b[0;36m0\u001b[0m\u001b[0;34m,\u001b[0m \u001b[0mmax_y\u001b[0m\u001b[0;34m=\u001b[0m\u001b[0;36m1.1\u001b[0m\u001b[0;34m,\u001b[0m \u001b[0my_axis_label\u001b[0m\u001b[0;34m=\u001b[0m\u001b[0;34m'L1 matched to GEN and p_{T}>th./L1 matched to GEN'\u001b[0m\u001b[0;34m,\u001b[0m \u001b[0mh_lines\u001b[0m\u001b[0;34m=\u001b[0m\u001b[0;34m[\u001b[0m\u001b[0;36m0.95\u001b[0m\u001b[0;34m,\u001b[0m \u001b[0;36m1\u001b[0m\u001b[0;34m]\u001b[0m\u001b[0;34m)\u001b[0m\u001b[0;34m\u001b[0m\u001b[0m\n\u001b[0m\u001b[1;32m      7\u001b[0m \u001b[0;34m\u001b[0m\u001b[0m\n",
      "\u001b[0;31mNameError\u001b[0m: name 'drawSame' is not defined"
     ]
    }
   ],
   "source": [
    "for pu in ['PU0', 'PU200']:\n",
    "        for tp_sel in ['EmPt20', 'Emv1Pt20', 'EmPt30', 'Emv1Pt30']:\n",
    "            for gen_sel in gen_select:\n",
    "                hsets, labels, text = hplot.get_histo(histos.HistoSetEff, 'ele', pu, ['DEF', 'DEFCalib'], tp_sel, gen_sel)\n",
    "                # drawSeveral([his.hreso.h_ptResVpt for his in hsets], labels,  'COLZ', do_profile=True, text=text)\n",
    "                drawSame([his.h_ton.h_pt.CreateGraph() for his in hsets], labels, text=text, min_y=0, max_y=1.1, y_axis_label='L1 matched to GEN and p_{T}>th./L1 matched to GEN', h_lines=[0.95, 1])\n",
    "   "
   ]
  },
  {
   "cell_type": "code",
   "execution_count": 126,
   "metadata": {
    "scrolled": false
   },
   "outputs": [
    {
     "name": "stdout",
     "output_type": "stream",
     "text": [
      "No match found for: pu: PU0, tp: ['DEF', 'DEFCalib'], tp_sel: EmPt20, gen_sel: ['GENEtaABC', 'GENEtaBC'], classtype: python.l1THistos.HistoSetEff\n"
     ]
    },
    {
     "ename": "NameError",
     "evalue": "name 'drawSame' is not defined",
     "output_type": "error",
     "traceback": [
      "\u001b[0;31m\u001b[0m",
      "\u001b[0;31mNameError\u001b[0mTraceback (most recent call last)",
      "\u001b[0;32m<ipython-input-126-47923ccbfac4>\u001b[0m in \u001b[0;36m<module>\u001b[0;34m()\u001b[0m\n\u001b[1;32m      3\u001b[0m             \u001b[0mhsets\u001b[0m\u001b[0;34m,\u001b[0m \u001b[0mlabels\u001b[0m\u001b[0;34m,\u001b[0m \u001b[0mtext\u001b[0m \u001b[0;34m=\u001b[0m \u001b[0mhplot\u001b[0m\u001b[0;34m.\u001b[0m\u001b[0mget_histo\u001b[0m\u001b[0;34m(\u001b[0m\u001b[0mhistos\u001b[0m\u001b[0;34m.\u001b[0m\u001b[0mHistoSetEff\u001b[0m\u001b[0;34m,\u001b[0m \u001b[0;34m'ele'\u001b[0m\u001b[0;34m,\u001b[0m \u001b[0mpu\u001b[0m\u001b[0;34m,\u001b[0m \u001b[0;34m[\u001b[0m\u001b[0;34m'DEF'\u001b[0m\u001b[0;34m,\u001b[0m \u001b[0;34m'DEFCalib'\u001b[0m\u001b[0;34m]\u001b[0m\u001b[0;34m,\u001b[0m \u001b[0mtp_sel\u001b[0m\u001b[0;34m,\u001b[0m \u001b[0;34m[\u001b[0m\u001b[0;34m'GENEtaABC'\u001b[0m\u001b[0;34m,\u001b[0m \u001b[0;34m'GENEtaBC'\u001b[0m\u001b[0;34m]\u001b[0m\u001b[0;34m)\u001b[0m\u001b[0;34m\u001b[0m\u001b[0m\n\u001b[1;32m      4\u001b[0m             \u001b[0;31m# drawSeveral([his.hreso.h_ptResVpt for his in hsets], labels,  'COLZ', do_profile=True, text=text)\u001b[0m\u001b[0;34m\u001b[0m\u001b[0;34m\u001b[0m\u001b[0m\n\u001b[0;32m----> 5\u001b[0;31m             \u001b[0mdrawSame\u001b[0m\u001b[0;34m(\u001b[0m\u001b[0;34m[\u001b[0m\u001b[0mhis\u001b[0m\u001b[0;34m.\u001b[0m\u001b[0mh_ton\u001b[0m\u001b[0;34m.\u001b[0m\u001b[0mh_pt\u001b[0m\u001b[0;34m.\u001b[0m\u001b[0mCreateGraph\u001b[0m\u001b[0;34m(\u001b[0m\u001b[0;34m)\u001b[0m \u001b[0;32mfor\u001b[0m \u001b[0mhis\u001b[0m \u001b[0;32min\u001b[0m \u001b[0mhsets\u001b[0m\u001b[0;34m]\u001b[0m\u001b[0;34m,\u001b[0m \u001b[0mlabels\u001b[0m\u001b[0;34m,\u001b[0m \u001b[0mtext\u001b[0m\u001b[0;34m=\u001b[0m\u001b[0mtext\u001b[0m\u001b[0;34m,\u001b[0m \u001b[0mmin_y\u001b[0m\u001b[0;34m=\u001b[0m\u001b[0;36m0\u001b[0m\u001b[0;34m,\u001b[0m \u001b[0mmax_y\u001b[0m\u001b[0;34m=\u001b[0m\u001b[0;36m1.1\u001b[0m\u001b[0;34m,\u001b[0m \u001b[0my_axis_label\u001b[0m\u001b[0;34m=\u001b[0m\u001b[0;34m'L1 matched to GEN and p_{T}>th./L1 matched to GEN'\u001b[0m\u001b[0;34m,\u001b[0m \u001b[0mh_lines\u001b[0m\u001b[0;34m=\u001b[0m\u001b[0;34m[\u001b[0m\u001b[0;36m0.95\u001b[0m\u001b[0;34m,\u001b[0m \u001b[0;36m1\u001b[0m\u001b[0;34m]\u001b[0m\u001b[0;34m)\u001b[0m\u001b[0;34m\u001b[0m\u001b[0m\n\u001b[0m\u001b[1;32m      6\u001b[0m \u001b[0;34m\u001b[0m\u001b[0m\n",
      "\u001b[0;31mNameError\u001b[0m: name 'drawSame' is not defined"
     ]
    }
   ],
   "source": [
    "for pu in ['PU0', 'PU200']:\n",
    "        for tp_sel in ['EmPt20', 'Emv1Pt20', 'EmPt30', 'Emv1Pt30']:\n",
    "            hsets, labels, text = hplot.get_histo(histos.HistoSetEff, 'ele', pu, ['DEF', 'DEFCalib'], tp_sel, ['GENEtaABC', 'GENEtaBC'])\n",
    "            # drawSeveral([his.hreso.h_ptResVpt for his in hsets], labels,  'COLZ', do_profile=True, text=text)\n",
    "            drawSame([his.h_ton.h_pt.CreateGraph() for his in hsets], labels, text=text, min_y=0, max_y=1.1, y_axis_label='L1 matched to GEN and p_{T}>th./L1 matched to GEN', h_lines=[0.95, 1])\n",
    "   "
   ]
  },
  {
   "cell_type": "markdown",
   "metadata": {},
   "source": [
    "## Scaling"
   ]
  },
  {
   "cell_type": "code",
   "execution_count": 127,
   "metadata": {},
   "outputs": [
    {
     "data": {
      "text/html": [
       "\n",
       "<div id=\"root_plot_51\"\n",
       "     style=\"width: 796px; height: 572px\">\n",
       "</div>\n",
       "\n",
       "<script>\n",
       " requirejs.config({\n",
       "     paths: {\n",
       "       'JSRootCore' : 'https://root.cern.ch/js/notebook//scripts/JSRootCore',\n",
       "     }\n",
       "   });\n",
       " require(['JSRootCore'],\n",
       "     function(Core) {\n",
       "       var obj = Core.JSONR_unref({\"_typename\":\"TCanvas\",\"fUniqueID\":0,\"fBits\":53673992,\"fLineColor\":1,\"fLineStyle\":1,\"fLineWidth\":1,\"fFillColor\":0,\"fFillStyle\":1001,\"fLeftMargin\":0.13,\"fRightMargin\":0.13,\"fBottomMargin\":0.13,\"fTopMargin\":0.1,\"fXfile\":2,\"fYfile\":2,\"fAfile\":1,\"fXstat\":0.99,\"fYstat\":0.99,\"fAstat\":2,\"fFrameFillColor\":0,\"fFrameLineColor\":1,\"fFrameFillStyle\":1001,\"fFrameLineStyle\":1,\"fFrameLineWidth\":1,\"fFrameBorderSize\":1,\"fFrameBorderMode\":0,\"fX1\":-17.5675666967912,\"fY1\":-0.177272725161583,\"fX2\":117.567566696791,\"fY2\":1.18636364177344,\"fXtoAbsPixelk\":103.480046204376,\"fXtoPixelk\":103.480046204376,\"fXtoPixel\":5.89040007591248,\"fYtoAbsPixelk\":497.640051065433,\"fYtoPixelk\":497.640051065433,\"fYtoPixel\":-419.466665651968,\"fUtoAbsPixelk\":5e-5,\"fUtoPixelk\":5e-5,\"fUtoPixel\":796,\"fVtoAbsPixelk\":572.00005,\"fVtoPixelk\":572,\"fVtoPixel\":-572,\"fAbsPixeltoXk\":-17.5675666967912,\"fPixeltoXk\":-17.5675666967912,\"fPixeltoX\":0.169767755519576,\"fAbsPixeltoYk\":1.18636364177344,\"fPixeltoYk\":-0.177272725161583,\"fPixeltoY\":-0.00238397966247382,\"fXlowNDC\":0,\"fYlowNDC\":0,\"fXUpNDC\":0,\"fYUpNDC\":0,\"fWNDC\":1,\"fHNDC\":1,\"fAbsXlowNDC\":0,\"fAbsYlowNDC\":0,\"fAbsWNDC\":1,\"fAbsHNDC\":1,\"fUxmin\":0,\"fUymin\":0,\"fUxmax\":100,\"fUymax\":1.05,\"fTheta\":30,\"fPhi\":30,\"fAspectRatio\":0,\"fNumber\":0,\"fTickx\":0,\"fTicky\":0,\"fLogx\":0,\"fLogy\":0,\"fLogz\":0,\"fPadPaint\":0,\"fCrosshair\":0,\"fCrosshairPos\":0,\"fBorderSize\":2,\"fBorderMode\":0,\"fModified\":false,\"fGridx\":false,\"fGridy\":false,\"fAbsCoord\":false,\"fEditable\":true,\"fFixedAspectRatio\":false,\"fPrimitives\":{\"_typename\":\"TList\",\"name\":\"TList\",\"arr\":[{\"_typename\":\"TFrame\",\"fUniqueID\":0,\"fBits\":50331656,\"fLineColor\":1,\"fLineStyle\":1,\"fLineWidth\":1,\"fFillColor\":0,\"fFillStyle\":1001,\"fX1\":0,\"fY1\":0,\"fX2\":100,\"fY2\":1.05,\"fBorderSize\":1,\"fBorderMode\":0},{\"_typename\":\"TF1\",\"fUniqueID\":0,\"fBits\":50331656,\"fName\":\"tf_yc\",\"fTitle\":\"tf_yc\",\"fLineColor\":6,\"fLineStyle\":1,\"fLineWidth\":2,\"fFillColor\":19,\"fFillStyle\":0,\"fMarkerColor\":1,\"fMarkerStyle\":1,\"fMarkerSize\":1,\"fXmin\":0,\"fXmax\":100,\"fNpar\":5,\"fNdim\":1,\"fNpx\":100,\"fType\":1,\"fNpfits\":0,\"fNDF\":0,\"fChisquare\":0,\"fMinimum\":-1111,\"fMaximum\":-1111,\"fParErrors\":[0,0,0,0,0],\"fParMin\":[0,0,0.1,0.9,1],\"fParMax\":[1,50,1,1,1],\"fSave\":[1.23428676400375e-7,4.49513472868764e-7,1.54224747641312e-6,4.98593481427967e-6,1.51924633914372e-5,4.3643543930399e-5,1.18238393547198e-4,3.02202549581972e-4,7.28977528687824e-4,0.00166037605752091,0.00357276058185923,0.00726724004763926,0.0139832050962066,0.0254722375930462,0.0439702720929668,0.0720044098849184,0.112001337140329,0.165730366175157,0.233698807862186,0.31468365290073,0.405589358698031,0.501744998953496,0.597613192587385,0.68773453820062,0.767642810808157,0.834500081853099,0.887309233283398,0.92671128125548,0.954499736103642,0.973038587104095,0.984748963168258,0.991760244260344,0.995744229629561,0.997895971868751,0.999002582825264,0.999545650250298,0.999800597444216,0.999915425243867,0.9999652099797,0.999986066278198,0.999994543947646,0.999997902424278,0.999999205033825,0.999999701889696,0.999999889038428,0.999999958901482,0.999999984824433,0.999999994406506,0.999999997940349,0.999999999241973,0.999999999721086,0.999999999897386,0.999999999962249,0.999999999986112,0.999999999994891,0.999999999998121,0.999999999999309,0.999999999999746,0.999999999999906,0.999999999999966,0.999999999999987,0.999999999999995,0.999999999999998,0.999999999999999,1,1,1,1,1,1,1,1,1,1,1,1,1,1,1,1,1,1,1,1,1,1,1,1,1,1,1,1,1,1,1,1,1,1,1,1,1,0,100],\"fNormalized\":false,\"fNormIntegral\":0,\"fFormula\":null,\"fParams\":{\"_typename\":\"TF1Parameters\",\"fParameters\":[1,20,4,1,0],\"fParNames\":[\"#lambda\",\"#mu\",\"#sigma\",\"Plateau\",\"Baseline\"]},\"fComposition_ptr\":null}],\"opt\":[\"\",\"\"]},\"fExecs\":null,\"fName\":\"c_7c9d32\",\"fTitle\":\"c_7c9d32\",\"fNumPaletteColor\":0,\"fNextPaletteColor\":0,\"fDISPLAY\":\"$DISPLAY\",\"fDoubleBuffer\":0,\"fRetained\":true,\"fXsizeUser\":0,\"fYsizeUser\":0,\"fXsizeReal\":20,\"fYsizeReal\":15,\"fWindowTopX\":0,\"fWindowTopY\":0,\"fWindowWidth\":0,\"fWindowHeight\":0,\"fCw\":796,\"fCh\":572,\"fCatt\":{\"_typename\":\"TAttCanvas\",\"fXBetween\":2,\"fYBetween\":2,\"fTitleFromTop\":1.2,\"fXdate\":0.2,\"fYdate\":0.3,\"fAdate\":1},\"kMoveOpaque\":true,\"kResizeOpaque\":true,\"fHighLightColor\":2,\"fBatch\":true,\"kShowEventStatus\":false,\"kAutoExec\":true,\"kMenuBar\":true});\n",
       "       Core.draw(\"root_plot_51\", obj, \"\");\n",
       "     }\n",
       " );\n",
       "</script>\n"
      ],
      "text/plain": [
       "<IPython.core.display.HTML object>"
      ]
     },
     "metadata": {},
     "output_type": "display_data"
    }
   ],
   "source": [
    "def f_yc(x, par):\n",
    "    return (ROOT.Math.normal_cdf(par[0]*(x[0]-par[1]), par[0]*par[2], 0) - ROOT.TMath.Exp(-par[0]*(x[0]-par[1])+par[0]*par[0]*par[2]*par[2]/2)*ROOT.Math.normal_cdf(par[0]*(x[0]-par[1]), par[0]*par[2], par[0]*par[0]*par[2]*par[2])) * (par[3] - par[4]) + par[4]\n",
    "\n",
    "tf_yc = ROOT.TF1('tf_yc', f_yc, 0, 100, 5)\n",
    "tf_yc.SetParameters(1, 20, 4, 1.0, 0.0);\n",
    "tf_yc.SetParNames(\"#lambda\", \"#mu\", \"#sigma\", \"Plateau\", \"Baseline\");\n",
    "tf_yc.SetLineColor(6)\n",
    "tf_yc.FixParameter(4,0)\n",
    "\n",
    "tf_yc.SetParLimits(1, 0, 50)\n",
    "\n",
    "tf_yc.SetParLimits(3, 0.9, 1)\n",
    "tf_yc.SetParLimits(0, 0, 1)\n",
    "tf_yc.SetParLimits(2, 0.1, 1)\n",
    "\n",
    "c = newCanvas()\n",
    "tf_yc.Draw()\n",
    "c.Draw()\n"
   ]
  },
  {
   "cell_type": "code",
   "execution_count": 128,
   "metadata": {},
   "outputs": [
    {
     "data": {
      "text/plain": [
       "'ele-V9'"
      ]
     },
     "execution_count": 128,
     "metadata": {},
     "output_type": "execute_result"
    }
   ],
   "source": [
    "sample"
   ]
  },
  {
   "cell_type": "code",
   "execution_count": 129,
   "metadata": {},
   "outputs": [
    {
     "data": {
      "text/plain": [
       "array(['EGq2', 'EGq2Pt10', 'EGq2Pt15', 'EGq2Pt20', 'EGq2Pt25', 'EGq2Pt30',\n",
       "       'EGq2Pt40', 'EGq3', 'EGq3Pt10', 'EGq3Pt15', 'EGq3Pt20', 'EGq3Pt25',\n",
       "       'EGq3Pt30', 'EGq3Pt40', 'EGq4', 'EGq4Pt10', 'EGq4Pt15', 'EGq4Pt20',\n",
       "       'EGq4Pt25', 'EGq4Pt30', 'EGq4Pt40', 'EGq5', 'EGq5Pt10', 'EGq5Pt15',\n",
       "       'EGq5Pt20', 'EGq5Pt25', 'EGq5Pt30', 'EGq5Pt40', 'EGq2Iso0p2',\n",
       "       'EGq2Iso0p1', 'EGq2Iso0p3', 'EGq3Iso0p2', 'EGq3Iso0p1',\n",
       "       'EGq3Iso0p3', 'EGq4Iso0p2', 'EGq4Iso0p1', 'EGq4Iso0p3',\n",
       "       'EGq5Iso0p2', 'EGq5Iso0p1', 'EGq5Iso0p3'], dtype=object)"
      ]
     },
     "execution_count": 129,
     "metadata": {},
     "output_type": "execute_result"
    }
   ],
   "source": [
    "hplot.data[(hplot.data['sample'] == sample) & (hplot.data.tp == 'TkEle')].tp_sel.unique()\n"
   ]
  },
  {
   "cell_type": "code",
   "execution_count": 130,
   "metadata": {},
   "outputs": [
    {
     "name": "stdout",
     "output_type": "stream",
     "text": [
      "TkEle_EGq3Pt15_GENEtaBC\n"
     ]
    }
   ],
   "source": [
    "hsets, labels, text = hplot.get_histo(histos.HistoSetEff, sample, 'PU0', 'TkEle', 'EGq3Pt15', 'GENEtaBC')\n",
    "\n",
    "\n",
    "print hsets[0].name"
   ]
  },
  {
   "cell_type": "code",
   "execution_count": 131,
   "metadata": {},
   "outputs": [],
   "source": [
    "fake_histoname = uuid.uuid4().hex[:6]\n"
   ]
  },
  {
   "cell_type": "code",
   "execution_count": 139,
   "metadata": {
    "scrolled": true
   },
   "outputs": [
    {
     "name": "stdout",
     "output_type": "stream",
     "text": [
      "------- PU0, EG, hwQual 5, p_{T}^{L1}>=10GeV, 1.52 < |#eta^{GEN}| <= 2.4\n",
      "None\n",
      "       pt th: 10, 95% eff: 16.8894383564, err: 0.0736002507982\n",
      "------- PU0, EG, hwQual 5, p_{T}^{L1}>=15GeV, 1.52 < |#eta^{GEN}| <= 2.4\n",
      "None\n",
      "       pt th: 15, 95% eff: 22.2142279936, err: 0.0518031996285\n",
      "------- PU0, EG, hwQual 5, p_{T}^{L1}>=20GeV, 1.52 < |#eta^{GEN}| <= 2.4\n",
      "None\n",
      "       pt th: 20, 95% eff: 28.1539570362, err: 0.0424792356394\n",
      "------- PU0, EG, hwQual 5, p_{T}^{L1}>=25GeV, 1.52 < |#eta^{GEN}| <= 2.4\n",
      "None\n",
      "       pt th: 25, 95% eff: 33.6895953483, err: 0.0315010088479\n",
      "------- PU0, EG, hwQual 5, p_{T}^{L1}>=30GeV, 1.52 < |#eta^{GEN}| <= 2.4\n",
      "None\n",
      "       pt th: 30, 95% eff: 38.8749723792, err: 0.0469972529748\n",
      "------- PU0, EG, hwQual 5, p_{T}^{L1}>=40GeV, 1.52 < |#eta^{GEN}| <= 2.4\n",
      "None\n",
      "       pt th: 40, 95% eff: 49.9463567104, err: 0.0293400297269\n",
      "6\n",
      "6\n",
      "6\n",
      "[0.07360025079816813, 0.05180319962853813, 0.04247923563935575, 0.03150100884788165, 0.046997252974751866, 0.02934002972692427]\n",
      "------- PU200, EG, hwQual 5, p_{T}^{L1}>=10GeV, 1.52 < |#eta^{GEN}| <= 2.4\n",
      "None\n",
      "       pt th: 10, 95% eff: 19.0858897044, err: 0.125846031943\n",
      "------- PU200, EG, hwQual 5, p_{T}^{L1}>=15GeV, 1.52 < |#eta^{GEN}| <= 2.4\n",
      "None\n",
      "       pt th: 15, 95% eff: 23.5356770929, err: 0.028046089477\n",
      "------- PU200, EG, hwQual 5, p_{T}^{L1}>=20GeV, 1.52 < |#eta^{GEN}| <= 2.4\n",
      "None\n",
      "       pt th: 20, 95% eff: 28.7340749015, err: 0.0337507779386\n",
      "------- PU200, EG, hwQual 5, p_{T}^{L1}>=25GeV, 1.52 < |#eta^{GEN}| <= 2.4\n",
      "None\n",
      "       pt th: 25, 95% eff: 33.69327618, err: 0.0252917982145\n",
      "------- PU200, EG, hwQual 5, p_{T}^{L1}>=30GeV, 1.52 < |#eta^{GEN}| <= 2.4\n",
      "None\n",
      "       pt th: 30, 95% eff: 39.1894509668, err: 0.0248122733274\n",
      "------- PU200, EG, hwQual 5, p_{T}^{L1}>=40GeV, 1.52 < |#eta^{GEN}| <= 2.4\n",
      "None\n",
      "       pt th: 40, 95% eff: 49.9729343552, err: 0.0248760992336\n",
      "6\n",
      "6\n",
      "6\n",
      "[0.12584603194273145, 0.028046089477024975, 0.03375077793859979, 0.025291798214475525, 0.02481227332737347, 0.02487609923364055]\n",
      "\n",
      "****************************************\n",
      "Minimizer is Minuit / MigradImproved\n",
      "Chi2                      =      5.26658\n",
      "NDf                       =           45\n",
      "Edm                       =  6.40454e-09\n",
      "NCalls                    =          404\n",
      "#lambda                   =     0.458692   +/-   0.0674597    \t (limited)\n",
      "#mu                       =      10.2481   +/-   0.798263     \t (limited)\n",
      "#sigma                    =     0.599924   +/-   0.657953     \t (limited)\n",
      "Plateau                   =     0.999335   +/-   0.000467029  \t (limited)\n",
      "Baseline                  =            0                      \t (fixed)\n",
      "\n",
      "****************************************\n",
      "Minimizer is Minuit / MigradImproved\n",
      "Chi2                      =      6.33359\n",
      "NDf                       =           45\n",
      "Edm                       =  1.18419e-08\n",
      "NCalls                    =          387\n",
      "#lambda                   =      0.44481   +/-   0.0664815    \t (limited)\n",
      "#mu                       =      15.2307   +/-   0.813344     \t (limited)\n",
      "#sigma                    =     0.975706   +/-   0.830314     \t (limited)\n",
      "Plateau                   =     0.999143   +/-   0.000468654  \t (limited)\n",
      "Baseline                  =            0                      \t (fixed)\n",
      "\n",
      "****************************************\n",
      "Minimizer is Minuit / MigradImproved\n",
      "Chi2                      =      7.81661\n",
      "NDf                       =           45\n",
      "Edm                       =  2.08907e-10\n",
      "NCalls                    =          224\n",
      "#lambda                   =     0.372981   +/-   0.0391232    \t (limited)\n",
      "#mu                       =      19.9934   +/-   0.688187     \t (limited)\n",
      "#sigma                    =     0.712415   +/-   0.593141     \t (limited)\n",
      "Plateau                   =     0.999336   +/-   0.000522807  \t (limited)\n",
      "Baseline                  =            0                      \t (fixed)\n",
      "\n",
      "****************************************\n",
      "Minimizer is Minuit / MigradImproved\n",
      "Chi2                      =       7.0878\n",
      "NDf                       =           45\n",
      "Edm                       =  1.19142e-10\n",
      "NCalls                    =          246\n",
      "#lambda                   =     0.339996   +/-   0.0301378    \t (limited)\n",
      "#mu                       =      24.8249   +/-   0.65307      \t (limited)\n",
      "#sigma                    =          0.1   +/-   0.508011     \t (limited)\n",
      "Plateau                   =     0.999081   +/-   0.000511862  \t (limited)\n",
      "Baseline                  =            0                      \t (fixed)\n",
      "\n",
      "****************************************\n",
      "Minimizer is Minuit / MigradImproved\n",
      "Chi2                      =      8.35549\n",
      "NDf                       =           45\n",
      "Edm                       =  1.43331e-11\n",
      "NCalls                    =          296\n",
      "#lambda                   =     0.336635   +/-   0.0346168    \t (limited)\n",
      "#mu                       =      29.8391   +/-   0.644375     \t (limited)\n",
      "#sigma                    =     0.676367   +/-   0.708024     \t (limited)\n",
      "Plateau                   =     0.998951   +/-   0.000548712  \t (limited)\n",
      "Baseline                  =            0                      \t (fixed)\n",
      "\n",
      "****************************************\n",
      "Minmiizer is Minuit / Mgraidmproved\n",
      "Chi2                      =     4 .69936NDf\n",
      "                       =          45 \n",
      "dm E                      =  2.75878e-09\n",
      "NCllsa                    =         394\n",
      " #lambda                   =     0.300584   +/-   0.0259262    \t (limited)\n",
      "#mu                       =      39.8203   +/-   0.632916     \t (limited)\n",
      "sig#ma                    =     0.782252   +/-   0.763988     \t (limited)\n",
      "Plateau                  =      0.99894   +/-   0.000597019  \t (limited)\n",
      "Baseline                  =            0                      \t (fixed)\n",
      " NEW MINIMUM FOUND.  GO BACK TO MINIMIZATION STEP.\n",
      " =================================================\n",
      "                                                  V\n",
      "                                                  V\n",
      "                                                  V\n",
      "                                               VVVVVVV\n",
      "                                                VVVVV\n",
      "                                                 VVV\n",
      "                                                  V\n",
      "\n",
      "\n",
      "****************************************\n",
      "Minimizer is Minuit / MigradImproved\n",
      "Chi2                      =      21.4935\n",
      "NDf                       =           45\n",
      "Edm                       =  6.95826e-08\n",
      "NCalls                    =          228\n",
      "#lambda                   =      0.29336   +/-   0.137711     \t (limited)\n",
      "#mu                       =      8.76588   +/-   0.901218     \t (limited)\n",
      "#sigma                    =     0.109565   +/-   0.867514     \t (limited)\n",
      "Plateau                   =     0.998385   +/-   0.00047437   \t (limited)\n",
      "Baseline                  =            0                      \t (fixed)\n",
      "\n",
      "****************************************\n",
      "Minimizer is Minuit / MigradImproved\n",
      "Chi2                      =       15.315\n",
      "NDf                       =           45\n",
      "Edm                       =  8.17439e-12\n",
      "NCalls                    =          270\n",
      "#lambda                   =     0.307751   +/-   0.0251942    \t (limited)\n",
      "#mu                       =      13.5396   +/-   0.550181     \t (limited)\n",
      "#sigma                    =            1   +/-   0.183574     \t (limited)\n",
      "Plateau                   =     0.998283   +/-   0.00042925   \t (limited)\n",
      "Baseline                  =            0                      \t (fixed)\n",
      "\n",
      "****************************************\n",
      "Minimizer is Minuit / MigradImproved\n",
      "Chi2                      =      14.1156\n",
      "NDf                       =           45\n",
      "Edm                       =  6.45113e-11\n",
      "NCalls                    =          251\n",
      "#lambda                   =     0.301482   +/-   0.0202489    \t (limited)\n",
      "#mu                       =      18.5421   +/-   0.442041     \t (limited)\n",
      "#sigma                    =            1   +/-   0.727121     \t (limited)\n",
      "Plateau                   =      0.99837   +/-   0.000442771  \t (limited)\n",
      "Baseline                  =            0                      \t (fixed)\n",
      "\n",
      "****************************************\n",
      "Minimizer is Minuit / MigradImproved\n",
      "Chi2                      =        10.88\n",
      "NDf                       =           45\n",
      "Edm                       =  2.99697e-09\n",
      "NCalls                    =          239\n",
      "#lambda                   =     0.287022   +/-   0.017148     \t (limited)\n",
      "#mu                       =      22.9945   +/-   0.34131      \t (limited)\n",
      "#sigma                    =            1   +/-   0.143131     \t (limited)\n",
      "Plateau                   =     0.998251   +/-   0.000437151  \t (limited)\n",
      "Baseline                  =            0                      \t (fixed)\n",
      "\n",
      "****************************************\n",
      "Minimizer is Minuit / MigradImproved\n",
      "Chi2                      =      10.5914\n",
      "NDf                       =           45\n",
      "Edm                       =  4.34105e-06\n",
      "NCalls                    =          380\n",
      "#lambda                   =     0.281281   +/-   0.0194167    \t (limited)\n",
      "#mu                       =      28.2775   +/-   0.449522     \t (limited)\n",
      "#sigma                    =     0.999998   +/-   0.814066     \t (limited)\n",
      "Plateau                   =     0.998242   +/-   0.00046001   \t (limited)\n",
      "Baseline                  =            0                      \t (fixed)\n",
      "\n",
      "****************************************\n",
      "Minimizer is Minuit / MigradImproved\n",
      "Chi2                      =      8.73079\n",
      "NDf                       =           45\n",
      "Edm                       =   4.4808e-07\n",
      "NCalls                    =          416\n",
      "#lambda                   =     0.261387   +/-   0.0157758    \t (limited)\n",
      "#mu                       =      38.2589   +/-   0.438731     \t (limited)\n",
      "#sigma                    =            1   +/-   0.632381     \t (limited)\n",
      "Plateau                   =     0.998345   +/-   0.000488164 \t  (limited\n",
      "Ba)selin   e               =            0                      \t (fixed)\n"
     ]
    },
    {
     "data": {
      "text/html": [
       "\n",
       "<div id=\"root_plot_66\"\n",
       "     style=\"width: 796px; height: 572px\">\n",
       "</div>\n",
       "\n",
       "<script>\n",
       " requirejs.config({\n",
       "     paths: {\n",
       "       'JSRootCore' : 'https://root.cern.ch/js/notebook//scripts/JSRootCore',\n",
       "     }\n",
       "   });\n",
       " require(['JSRootCore'],\n",
       "     function(Core) {\n",
       "       var obj = Core.JSONR_unref({\"_typename\":\"TCanvas\",\"fUniqueID\":0,\"fBits\":53673992,\"fLineColor\":1,\"fLineStyle\":1,\"fLineWidth\":1,\"fFillColor\":0,\"fFillStyle\":1001,\"fLeftMargin\":0.13,\"fRightMargin\":0.3,\"fBottomMargin\":0.13,\"fTopMargin\":0.1,\"fXfile\":2,\"fYfile\":2,\"fAfile\":1,\"fXstat\":0.99,\"fYstat\":0.99,\"fAstat\":2,\"fFrameFillColor\":0,\"fFrameLineColor\":1,\"fFrameFillStyle\":1001,\"fFrameLineStyle\":1,\"fFrameLineWidth\":1,\"fFrameBorderSize\":1,\"fFrameBorderMode\":0,\"fX1\":-25.0421046588559,\"fY1\":-0.185714283502611,\"fX2\":167.58947670572,\"fY2\":1.24285714852456,\"fXtoAbsPixelk\":103.480046204376,\"fXtoPixelk\":103.480046204376,\"fXtoPixel\":4.13224038530569,\"fYtoAbsPixelk\":497.640051065433,\"fYtoPixelk\":497.640051065433,\"fYtoPixel\":-400.399999031424,\"fUtoAbsPixelk\":5e-5,\"fUtoPixelk\":5e-5,\"fUtoPixel\":796,\"fVtoAbsPixelk\":572.00005,\"fVtoPixelk\":572,\"fVtoPixel\":-572,\"fAbsPixeltoXk\":-25.0421046588559,\"fPixeltoXk\":-25.0421046588559,\"fPixeltoX\":0.241999474076101,\"fAbsPixeltoYk\":1.24285714852456,\"fPixeltoYk\":-0.185714283502611,\"fPixeltoY\":-0.00249750250354401,\"fXlowNDC\":0,\"fYlowNDC\":0,\"fXUpNDC\":0,\"fYUpNDC\":0,\"fWNDC\":1,\"fHNDC\":1,\"fAbsXlowNDC\":0,\"fAbsYlowNDC\":0,\"fAbsWNDC\":1,\"fAbsHNDC\":1,\"fUxmin\":0,\"fUymin\":0,\"fUxmax\":109.8,\"fUymax\":1.1,\"fTheta\":30,\"fPhi\":30,\"fAspectRatio\":0,\"fNumber\":0,\"fTickx\":0,\"fTicky\":0,\"fLogx\":0,\"fLogy\":0,\"fLogz\":0,\"fPadPaint\":0,\"fCrosshair\":0,\"fCrosshairPos\":0,\"fBorderSize\":2,\"fBorderMode\":0,\"fModified\":false,\"fGridx\":false,\"fGridy\":false,\"fAbsCoord\":false,\"fEditable\":true,\"fFixedAspectRatio\":false,\"fPrimitives\":{\"_typename\":\"TList\",\"name\":\"TList\",\"arr\":[{\"_typename\":\"TFrame\",\"fUniqueID\":0,\"fBits\":50331656,\"fLineColor\":1,\"fLineStyle\":1,\"fLineWidth\":1,\"fFillColor\":0,\"fFillStyle\":1001,\"fX1\":0,\"fY1\":0,\"fX2\":109.8,\"fY2\":1.1,\"fBorderSize\":1,\"fBorderMode\":0},{\"_typename\":\"TGraphAsymmErrors\",\"fUniqueID\":0,\"fBits\":50332680,\"fName\":\"31b84f\",\"fTitle\":\"; p_{T}^{GEN} [GeV];\",\"fLineColor\":1,\"fLineStyle\":1,\"fLineWidth\":1,\"fFillColor\":0,\"fFillStyle\":1001,\"fMarkerColor\":1,\"fMarkerStyle\":8,\"fMarkerSize\":0.5,\"fNpoints\":49,\"fX\":[3,5,7,9,11,13,15,17,19,21,23,25,27,29,31,33,35,37,39,41,43,45,47,49,51,53,55,57,59,61,63,65,67,69,71,73,75,77,79,81,83,85,87,89,91,93,95,97,99],\"fY\":[0,0,0,0.00193423597678917,0.226381461675579,0.719665271966527,0.889305816135084,0.949720670391061,0.983271375464684,0.994505494505495,0.992805755395683,1,1,1,0.998211091234347,1,1,1,1,1,1,0.997912317327766,1,1,1,1,1,1,1,1,1,1,1,1,0.998185117967332,1,1,1,1,1,1,1,1,1,0.998178506375228,1,1,1,1],\"fFunctions\":{\"_typename\":\"TList\",\"name\":\"TList\",\"arr\":[{\"_typename\":\"TF1\",\"fUniqueID\":0,\"fBits\":50332680,\"fName\":\"tf_yc\",\"fTitle\":\"tf_yc\",\"fLineColor\":6,\"fLineStyle\":1,\"fLineWidth\":2,\"fFillColor\":19,\"fFillStyle\":0,\"fMarkerColor\":1,\"fMarkerStyle\":1,\"fMarkerSize\":1,\"fXmin\":0,\"fXmax\":100,\"fNpar\":5,\"fNdim\":1,\"fNpx\":100,\"fType\":1,\"fNpfits\":49,\"fNDF\":45,\"fChisquare\":5.26658082378518,\"fMinimum\":-1111,\"fMaximum\":-1111,\"fParErrors\":[0.067459693503152,0.79826309443093,0.657953219263102,4.670286758654e-4,0],\"fParMin\":[0,0,0.1,0.9,1],\"fParMax\":[1,50,1,1,1],\"fSave\":[1.58016181760729e-67,1.11950887762049e-55,5.03907200031073e-45,1.44890872195296e-35,2.68189968937967e-27,3.23201085116358e-20,2.58078945269819e-14,1.40571861101461e-9,5.50332319617724e-6,0.00171875748052982,0.0538616213194186,0.279777620071985,0.534790122100001,0.705596838563375,0.813660127763174,0.881968095528612,0.925146244458168,0.952439583811284,0.969691976317959,0.980597385998816,0.987490804419554,0.991848203078936,0.994602558308507,0.996343613769276,0.997444152321795,0.99813981373688,0.99857954826806,0.99885750885883,0.9990332105255,0.999144273304527,0.999214477196834,0.999258853778604,0.99928690465933,0.999304635901307,0.999315843996523,0.999322928745494,0.999327407086106,0.999330237889953,0.999332027269348,0.999333158353942,0.999333873323816,0.999334325263416,0.999334610938953,0.999334791517315,0.999334905662701,0.99933497781514,0.999335023423418,0.999335052252866,0.999335070476248,0.99933508199543,0.99933508927682,0.99933509387946,0.999335096788834,0.999335098627879,0.999335099790357,0.999335100525171,0.999335100989655,0.999335101283259,0.99933510146885,0.999335101586163,0.999335101660318,0.999335101707193,0.999335101736822,0.999335101755551,0.99933510176739,0.999335101774874,0.999335101779604,0.999335101782594,0.999335101784484,0.999335101785679,0.999335101786434,0.999335101786912,0.999335101787213,0.999335101787404,0.999335101787525,0.999335101787601,0.999335101787649,0.999335101787679,0.999335101787699,0.999335101787711,0.999335101787719,0.999335101787724,0.999335101787727,0.999335101787729,0.99933510178773,0.999335101787731,0.999335101787731,0.999335101787731,0.999335101787732,0.999335101787732,0.999335101787732,0.999335101787732,0.999335101787732,0.999335101787732,0.999335101787732,0.999335101787732,0.999335101787732,0.999335101787732,0.999335101787732,0.999335101787732,0.999335101787732,0,100],\"fNormalized\":false,\"fNormIntegral\":0,\"fFormula\":null,\"fParams\":{\"_typename\":\"TF1Parameters\",\"fParameters\":[0.458691862784592,10.2481249272688,0.599924104406365,0.999335101787732,0],\"fParNames\":[\"#lambda\",\"#mu\",\"#sigma\",\"Plateau\",\"Baseline\"]},\"fComposition_ptr\":null},{\"_typename\":\"TPaveStats\",\"fUniqueID\":0,\"fBits\":50462729,\"fLineColor\":1,\"fLineStyle\":1,\"fLineWidth\":1,\"fFillColor\":0,\"fFillStyle\":1001,\"fX1\":94.3894784279808,\"fY1\":0.692857160818019,\"fX2\":163.736848752585,\"fY2\":1.15000000884877,\"fX1NDC\":0.620000013709068,\"fY1NDC\":0.615000009536743,\"fX2NDC\":0.980000019073486,\"fY2NDC\":0.935000002384186,\"fBorderSize\":1,\"fInit\":1,\"fShadowColor\":1,\"fCornerRadius\":0,\"fOption\":\"brNDC\",\"fName\":\"stats\",\"fTextAngle\":0,\"fTextSize\":0,\"fTextAlign\":12,\"fTextColor\":1,\"fTextFont\":42,\"fLabel\":\"\",\"fLongest\":31,\"fMargin\":0.05,\"fLines\":{\"_typename\":\"TList\",\"name\":\"TList\",\"arr\":[{\"_typename\":\"TLatex\",\"fUniqueID\":0,\"fBits\":50331648,\"fName\":\"\",\"fTitle\":\"#chi^{2} \\/ ndf = 5.267 \\/ 45\",\"fTextAngle\":0,\"fTextSize\":0,\"fTextAlign\":0,\"fTextColor\":0,\"fTextFont\":0,\"fX\":0,\"fY\":0,\"fLineColor\":1,\"fLineStyle\":1,\"fLineWidth\":2,\"fLimitFactorSize\":3,\"fOriginSize\":0.04},{\"_typename\":\"TLatex\",\"fUniqueID\":0,\"fBits\":50331648,\"fName\":\"\",\"fTitle\":\"Prob  =     1\",\"fTextAngle\":0,\"fTextSize\":0,\"fTextAlign\":0,\"fTextColor\":0,\"fTextFont\":0,\"fX\":0,\"fY\":0,\"fLineColor\":1,\"fLineStyle\":1,\"fLineWidth\":2,\"fLimitFactorSize\":3,\"fOriginSize\":0.04},{\"_typename\":\"TLatex\",\"fUniqueID\":0,\"fBits\":50331648,\"fName\":\"\",\"fTitle\":\"#lambda  = 0.4587 #pm 0.06746 \",\"fTextAngle\":0,\"fTextSize\":0,\"fTextAlign\":0,\"fTextColor\":0,\"fTextFont\":0,\"fX\":0,\"fY\":0,\"fLineColor\":1,\"fLineStyle\":1,\"fLineWidth\":2,\"fLimitFactorSize\":3,\"fOriginSize\":0.04},{\"_typename\":\"TLatex\",\"fUniqueID\":0,\"fBits\":50331648,\"fName\":\"\",\"fTitle\":\"#mu      = 10.25 #pm 0.7983 \",\"fTextAngle\":0,\"fTextSize\":0,\"fTextAlign\":0,\"fTextColor\":0,\"fTextFont\":0,\"fX\":0,\"fY\":0,\"fLineColor\":1,\"fLineStyle\":1,\"fLineWidth\":2,\"fLimitFactorSize\":3,\"fOriginSize\":0.04},{\"_typename\":\"TLatex\",\"fUniqueID\":0,\"fBits\":50331648,\"fName\":\"\",\"fTitle\":\"#sigma   = 0.5999 #pm 0.658 \",\"fTextAngle\":0,\"fTextSize\":0,\"fTextAlign\":0,\"fTextColor\":0,\"fTextFont\":0,\"fX\":0,\"fY\":0,\"fLineColor\":1,\"fLineStyle\":1,\"fLineWidth\":2,\"fLimitFactorSize\":3,\"fOriginSize\":0.04},{\"_typename\":\"TLatex\",\"fUniqueID\":0,\"fBits\":50331648,\"fName\":\"\",\"fTitle\":\"Plateau  = 0.9993 #pm 0.000467 \",\"fTextAngle\":0,\"fTextSize\":0,\"fTextAlign\":0,\"fTextColor\":0,\"fTextFont\":0,\"fX\":0,\"fY\":0,\"fLineColor\":1,\"fLineStyle\":1,\"fLineWidth\":2,\"fLimitFactorSize\":3,\"fOriginSize\":0.04},{\"_typename\":\"TLatex\",\"fUniqueID\":0,\"fBits\":50331648,\"fName\":\"\",\"fTitle\":\"Baseline =     0 #pm     0 \",\"fTextAngle\":0,\"fTextSize\":0,\"fTextAlign\":0,\"fTextColor\":0,\"fTextFont\":0,\"fX\":0,\"fY\":0,\"fLineColor\":1,\"fLineStyle\":1,\"fLineWidth\":2,\"fLimitFactorSize\":3,\"fOriginSize\":0.04}],\"opt\":[\"\",\"\",\"\",\"\",\"\",\"\",\"\"]},\"fOptFit\":11111,\"fOptStat\":0,\"fFitFormat\":\"5.4g\",\"fStatFormat\":\"6.4g\",\"fParent\":{\"$ref\":4}}],\"opt\":[\"\",\"brNDC\"]},\"fHistogram\":{\"_typename\":\"TH1F\",\"fUniqueID\":0,\"fBits\":50331648,\"fName\":\"31b84f\",\"fTitle\":\"\",\"fLineColor\":602,\"fLineStyle\":1,\"fLineWidth\":1,\"fFillColor\":0,\"fFillStyle\":1001,\"fMarkerColor\":1,\"fMarkerStyle\":1,\"fMarkerSize\":1,\"fNcells\":102,\"fXaxis\":{\"_typename\":\"TAxis\",\"fUniqueID\":0,\"fBits\":50331656,\"fName\":\"xaxis\",\"fTitle\":\" p_{T}^{GEN} [GeV]\",\"fNdivisions\":510,\"fAxisColor\":1,\"fLabelColor\":1,\"fLabelFont\":42,\"fLabelOffset\":0.005,\"fLabelSize\":0.035,\"fTickLength\":0.03,\"fTitleOffset\":1.4,\"fTitleSize\":0.035,\"fTitleColor\":1,\"fTitleFont\":42,\"fNbins\":100,\"fXmin\":0,\"fXmax\":109.8,\"fXbins\":[],\"fFirst\":0,\"fLast\":0,\"fBits2\":0,\"fTimeDisplay\":false,\"fTimeFormat\":\"\",\"fLabels\":null,\"fModLabs\":null},\"fYaxis\":{\"_typename\":\"TAxis\",\"fUniqueID\":0,\"fBits\":50331656,\"fName\":\"yaxis\",\"fTitle\":\"L1 matched to GEN and p_{T}>th.\\/L1 matched to GEN\",\"fNdivisions\":510,\"fAxisColor\":1,\"fLabelColor\":1,\"fLabelFont\":42,\"fLabelOffset\":0.005,\"fLabelSize\":0.035,\"fTickLength\":0.03,\"fTitleOffset\":0,\"fTitleSize\":0.035,\"fTitleColor\":1,\"fTitleFont\":42,\"fNbins\":1,\"fXmin\":0,\"fXmax\":1.1,\"fXbins\":[],\"fFirst\":0,\"fLast\":0,\"fBits2\":0,\"fTimeDisplay\":false,\"fTimeFormat\":\"\",\"fLabels\":null,\"fModLabs\":null},\"fZaxis\":{\"_typename\":\"TAxis\",\"fUniqueID\":0,\"fBits\":50331648,\"fName\":\"zaxis\",\"fTitle\":\"\",\"fNdivisions\":510,\"fAxisColor\":1,\"fLabelColor\":1,\"fLabelFont\":42,\"fLabelOffset\":0.005,\"fLabelSize\":0.035,\"fTickLength\":0.03,\"fTitleOffset\":1,\"fTitleSize\":0.035,\"fTitleColor\":1,\"fTitleFont\":42,\"fNbins\":1,\"fXmin\":0,\"fXmax\":1,\"fXbins\":[],\"fFirst\":0,\"fLast\":0,\"fBits2\":0,\"fTimeDisplay\":false,\"fTimeFormat\":\"\",\"fLabels\":null,\"fModLabs\":null},\"fBarOffset\":0,\"fBarWidth\":1000,\"fEntries\":0,\"fTsumw\":0,\"fTsumw2\":0,\"fTsumwx\":0,\"fTsumwx2\":0,\"fMaximum\":1.1,\"fMinimum\":0,\"fNormFactor\":0,\"fContour\":[],\"fSumw2\":[],\"fOption\":\"\",\"fFunctions\":{\"_typename\":\"TList\",\"name\":\"TList\",\"arr\":[],\"opt\":[]},\"fBufferSize\":0,\"fBuffer\":[],\"fBinStatErrOpt\":0,\"fStatOverflows\":2,\"fArray\":[0,0,0,0,0,0,0,0,0,0,0,0,0,0,0,0,0,0,0,0,0,0,0,0,0,0,0,0,0,0,0,0,0,0,0,0,0,0,0,0,0,0,0,0,0,0,0,0,0,0,0,0,0,0,0,0,0,0,0,0,0,0,0,0,0,0,0,0,0,0,0,0,0,0,0,0,0,0,0,0,0,0,0,0,0,0,0,0,0,0,0,0,0,0,0,0,0,0,0,0,0,0]},\"fMinimum\":-1111,\"fMaximum\":-1111,\"fEXlow\":[1,1,1,1,1,1,1,1,1,1,1,1,1,1,1,1,1,1,1,1,1,1,1,1,1,1,1,1,1,1,1,1,1,1,1,1,1,1,1,1,1,1,1,1,1,1,1,1,1],\"fEXhigh\":[1,1,1,1,1,1,1,1,1,1,1,1,1,1,1,1,1,1,1,1,1,1,1,1,1,1,1,1,1,1,1,1,1,1,1,1,1,1,1,1,1,1,1,1,1,1,1,1,1],\"fEYlow\":[0,0,0,0.00160014522302467,0.0180352058814829,0.0220522781542566,0.0153066420294842,0.0112940533011459,0.00754660914203298,0.00531571769412187,0.0056517814728263,0.00329978901298911,0.00347414329597728,0.00327047951878845,0.0041015155016102,0.00366795047711277,0.0031800913192791,0.00312609275709308,0.00321901386272638,0.00342247564062792,0.00340979796341223,0.00478416763762524,0.00327047951878845,0.0034288498968823,0.00313674526478314,0.00363177180340413,0.00346759968683441,0.00329388516268869,0.00354096381975255,0.00323031020388143,0.00320221671456578,0.00345458614095473,0.00352739487057507,0.00344166990678307,0.00416088718716279,0.00335389164746014,0.00323031020388143,0.00336001276404729,0.00351392951655349,0.00357534734320342,0.00324168610766018,0.00349392314601682,0.00346108068132667,0.00325890099174631,0.00417599965672255,0.00352064931846152,0.00328214061364762,0.00353416632119274,0.00365339285463007],\"fEYhigh\":[0.0204731563007113,0.00664817075517102,0.00427229336386818,0.00443364999703359,0.0190587652057143,0.0210876277011393,0.0137467103176575,0.00945562432552516,0.00545065690208457,0.00298884739045946,0.00343996277030789,0,0,0,0.0014799157642319,0,0,0,0,0,0,0.00172709262942605,0,0,0,0,0,0,0,0,0,0,0,0,0.00150140344772509,0,0,0,0,0,0,0,0,0,0.00150687322100829,0,0,0,0]},{\"_typename\":\"TLatex\",\"fUniqueID\":0,\"fBits\":50348040,\"fName\":\"\",\"fTitle\":\"PU0, EG, hwQual 5, p_{T}^{L1}>=10GeV, 1.52 < |#eta^{GEN}| <= 2.4\",\"fTextAngle\":0,\"fTextSize\":0.03,\"fTextAlign\":11,\"fTextColor\":1,\"fTextFont\":62,\"fX\":0.15,\"fY\":0.85,\"fLineColor\":1,\"fLineStyle\":1,\"fLineWidth\":2,\"fLimitFactorSize\":3,\"fOriginSize\":0.04},{\"_typename\":\"TLatex\",\"fUniqueID\":0,\"fBits\":50331656,\"fName\":\"\",\"fTitle\":\"\",\"fTextAngle\":0,\"fTextSize\":0.03,\"fTextAlign\":11,\"fTextColor\":1,\"fTextFont\":62,\"fX\":0,\"fY\":0,\"fLineColor\":1,\"fLineStyle\":1,\"fLineWidth\":2,\"fLimitFactorSize\":3,\"fOriginSize\":0.04},{\"_typename\":\"TLine\",\"fUniqueID\":0,\"fBits\":50331656,\"fLineColor\":1,\"fLineStyle\":2,\"fLineWidth\":1,\"fX1\":0,\"fY1\":0.95,\"fX2\":109.8,\"fY2\":0.95},{\"_typename\":\"TLine\",\"fUniqueID\":0,\"fBits\":50331656,\"fLineColor\":1,\"fLineStyle\":2,\"fLineWidth\":1,\"fX1\":0,\"fY1\":1,\"fX2\":109.8,\"fY2\":1},{\"_typename\":\"TGraphErrors\",\"fUniqueID\":0,\"fBits\":50332680,\"fName\":\"Graph\",\"fTitle\":\"Fitted line with .95 conf. band\",\"fLineColor\":1,\"fLineStyle\":1,\"fLineWidth\":1,\"fFillColor\":0,\"fFillStyle\":1000,\"fMarkerColor\":1,\"fMarkerStyle\":1,\"fMarkerSize\":1,\"fNpoints\":49,\"fX\":[3,5,7,9,11,13,15,17,19,21,23,25,27,29,31,33,35,37,39,41,43,45,47,49,51,53,55,57,59,61,63,65,67,69,71,73,75,77,79,81,83,85,87,89,91,93,95,97,99],\"fY\":[1.44890872195296e-35,3.23201085116358e-20,1.40571861101461e-9,0.00171875748052982,0.279777620071985,0.705596838563375,0.881968095528612,0.952439583811284,0.980597385998816,0.991848203078936,0.996343613769276,0.99813981373688,0.99885750885883,0.999144273304527,0.999258853778604,0.999304635901307,0.999322928745494,0.999330237889953,0.999333158353942,0.999334325263416,0.999334791517315,0.99933497781514,0.999335052252866,0.99933508199543,0.99933509387946,0.999335098627879,0.999335100525171,0.999335101283259,0.999335101586163,0.999335101707193,0.999335101755551,0.999335101774874,0.999335101782594,0.999335101785679,0.999335101786912,0.999335101787404,0.999335101787601,0.999335101787679,0.999335101787711,0.999335101787724,0.999335101787729,0.999335101787731,0.999335101787731,0.999335101787732,0.999335101787732,0.999335101787732,0.999335101787732,0.999335101787732,0.999335101787732],\"fFunctions\":{\"_typename\":\"TList\",\"name\":\"TList\",\"arr\":[],\"opt\":[]},\"fHistogram\":{\"_typename\":\"TH1F\",\"fUniqueID\":0,\"fBits\":50332168,\"fName\":\"Graph\",\"fTitle\":\"Fitted line with .95 conf. band\",\"fLineColor\":602,\"fLineStyle\":1,\"fLineWidth\":1,\"fFillColor\":0,\"fFillStyle\":1001,\"fMarkerColor\":1,\"fMarkerStyle\":1,\"fMarkerSize\":1,\"fNcells\":102,\"fXaxis\":{\"_typename\":\"TAxis\",\"fUniqueID\":0,\"fBits\":50331648,\"fName\":\"xaxis\",\"fTitle\":\"\",\"fNdivisions\":510,\"fAxisColor\":1,\"fLabelColor\":1,\"fLabelFont\":42,\"fLabelOffset\":0.005,\"fLabelSize\":0.035,\"fTickLength\":0.03,\"fTitleOffset\":1,\"fTitleSize\":0.035,\"fTitleColor\":1,\"fTitleFont\":42,\"fNbins\":100,\"fXmin\":0,\"fXmax\":108.6,\"fXbins\":[],\"fFirst\":0,\"fLast\":0,\"fBits2\":0,\"fTimeDisplay\":false,\"fTimeFormat\":\"\",\"fLabels\":null,\"fModLabs\":null},\"fYaxis\":{\"_typename\":\"TAxis\",\"fUniqueID\":0,\"fBits\":50331648,\"fName\":\"yaxis\",\"fTitle\":\"\",\"fNdivisions\":510,\"fAxisColor\":1,\"fLabelColor\":1,\"fLabelFont\":42,\"fLabelOffset\":0.005,\"fLabelSize\":0.035,\"fTickLength\":0.03,\"fTitleOffset\":0,\"fTitleSize\":0.035,\"fTitleColor\":1,\"fTitleFont\":42,\"fNbins\":1,\"fXmin\":-0.632076504689893,\"fXmax\":1.19163174483386,\"fXbins\":[],\"fFirst\":0,\"fLast\":0,\"fBits2\":0,\"fTimeDisplay\":false,\"fTimeFormat\":\"\",\"fLabels\":null,\"fModLabs\":null},\"fZaxis\":{\"_typename\":\"TAxis\",\"fUniqueID\":0,\"fBits\":50331648,\"fName\":\"zaxis\",\"fTitle\":\"\",\"fNdivisions\":510,\"fAxisColor\":1,\"fLabelColor\":1,\"fLabelFont\":42,\"fLabelOffset\":0.005,\"fLabelSize\":0.035,\"fTickLength\":0.03,\"fTitleOffset\":1,\"fTitleSize\":0.035,\"fTitleColor\":1,\"fTitleFont\":42,\"fNbins\":1,\"fXmin\":0,\"fXmax\":1,\"fXbins\":[],\"fFirst\":0,\"fLast\":0,\"fBits2\":0,\"fTimeDisplay\":false,\"fTimeFormat\":\"\",\"fLabels\":null,\"fModLabs\":null},\"fBarOffset\":0,\"fBarWidth\":1000,\"fEntries\":0,\"fTsumw\":0,\"fTsumw2\":0,\"fTsumwx\":0,\"fTsumwx2\":0,\"fMaximum\":1.19163174483386,\"fMinimum\":-0.632076504689893,\"fNormFactor\":0,\"fContour\":[],\"fSumw2\":[],\"fOption\":\"\",\"fFunctions\":{\"_typename\":\"TList\",\"name\":\"TList\",\"arr\":[],\"opt\":[]},\"fBufferSize\":0,\"fBuffer\":[],\"fBinStatErrOpt\":0,\"fStatOverflows\":2,\"fArray\":[0,0,0,0,0,0,0,0,0,0,0,0,0,0,0,0,0,0,0,0,0,0,0,0,0,0,0,0,0,0,0,0,0,0,0,0,0,0,0,0,0,0,0,0,0,0,0,0,0,0,0,0,0,0,0,0,0,0,0,0,0,0,0,0,0,0,0,0,0,0,0,0,0,0,0,0,0,0,0,0,0,0,0,0,0,0,0,0,0,0,0,0,0,0,0,0,0,0,0,0,0,0]},\"fMinimum\":-1111,\"fMaximum\":-1111,\"fEX\":[0,0,0,0,0,0,0,0,0,0,0,0,0,0,0,0,0,0,0,0,0,0,0,0,0,0,0,0,0,0,0,0,0,0,0,0,0,0,0,0,0,0,0,0,0,0,0,0,0],\"fEY\":[6.01322151814687e-33,6.94241532464624e-18,1.15033409738207e-7,0.0263481703693164,0.759878437301565,0.314971461761012,0.102484584850774,0.0447159167455623,0.0235382985790097,0.0124155561510755,0.00633340309717714,0.00330884523147828,0.00210368896952968,0.00179676287486259,0.00176280831985493,0.00177390856960724,0.00178439239126664,0.00179013675542762,0.0017928742058922,0.00179410835896041,0.00179465035024738,0.00179488502833053,0.00179498576634561,0.0017950287510262,0.00179504700885447,0.00179505473479729,0.00179505799369508,0.00179505936445672,0.00179505993951234,0.00179506018024624,0.00179506028079499,0.00179506032274171,0.00179506034016375,0.00179506034745448,0.00179506035045198,0.0017950603516994,0.00179506035220993,0.00179506035242909,0.00179506035248224,0.00179506035252868,0.00179506035254287,0.00179506035255458,0.00179506035255378,0.00179506035255291,0.00179506035255294,0.00179506035255291,0.00179506035255291,0.00179506035255291,0.00179506035255291]}],\"opt\":[\"\",\"pa\",\"same\",\"same\",\"same\",\"same\",\"\"]},\"fExecs\":null,\"fName\":\"c_b12a3c\",\"fTitle\":\"c_b12a3c\",\"fNumPaletteColor\":0,\"fNextPaletteColor\":0,\"fDISPLAY\":\"$DISPLAY\",\"fDoubleBuffer\":0,\"fRetained\":true,\"fXsizeUser\":0,\"fYsizeUser\":0,\"fXsizeReal\":20,\"fYsizeReal\":15,\"fWindowTopX\":0,\"fWindowTopY\":0,\"fWindowWidth\":0,\"fWindowHeight\":0,\"fCw\":796,\"fCh\":572,\"fCatt\":{\"_typename\":\"TAttCanvas\",\"fXBetween\":2,\"fYBetween\":2,\"fTitleFromTop\":1.2,\"fXdate\":0.2,\"fYdate\":0.3,\"fAdate\":1},\"kMoveOpaque\":true,\"kResizeOpaque\":true,\"fHighLightColor\":2,\"fBatch\":true,\"kShowEventStatus\":false,\"kAutoExec\":true,\"kMenuBar\":true});\n",
       "       Core.draw(\"root_plot_66\", obj, \"\");\n",
       "     }\n",
       " );\n",
       "</script>\n"
      ],
      "text/plain": [
       "<IPython.core.display.HTML object>"
      ]
     },
     "metadata": {},
     "output_type": "display_data"
    },
    {
     "data": {
      "text/html": [
       "\n",
       "<div id=\"root_plot_67\"\n",
       "     style=\"width: 796px; height: 572px\">\n",
       "</div>\n",
       "\n",
       "<script>\n",
       " requirejs.config({\n",
       "     paths: {\n",
       "       'JSRootCore' : 'https://root.cern.ch/js/notebook//scripts/JSRootCore',\n",
       "     }\n",
       "   });\n",
       " require(['JSRootCore'],\n",
       "     function(Core) {\n",
       "       var obj = Core.JSONR_unref({\"_typename\":\"TCanvas\",\"fUniqueID\":0,\"fBits\":53673992,\"fLineColor\":1,\"fLineStyle\":1,\"fLineWidth\":1,\"fFillColor\":0,\"fFillStyle\":1001,\"fLeftMargin\":0.13,\"fRightMargin\":0.3,\"fBottomMargin\":0.13,\"fTopMargin\":0.1,\"fXfile\":2,\"fYfile\":2,\"fAfile\":1,\"fXstat\":0.99,\"fYstat\":0.99,\"fAstat\":2,\"fFrameFillColor\":0,\"fFrameLineColor\":1,\"fFrameFillStyle\":1001,\"fFrameLineStyle\":1,\"fFrameLineWidth\":1,\"fFrameBorderSize\":1,\"fFrameBorderMode\":0,\"fX1\":-25.0421046588559,\"fY1\":-0.185714283502611,\"fX2\":167.58947670572,\"fY2\":1.24285714852456,\"fXtoAbsPixelk\":103.480046204376,\"fXtoPixelk\":103.480046204376,\"fXtoPixel\":4.13224038530569,\"fYtoAbsPixelk\":497.640051065433,\"fYtoPixelk\":497.640051065433,\"fYtoPixel\":-400.399999031424,\"fUtoAbsPixelk\":5e-5,\"fUtoPixelk\":5e-5,\"fUtoPixel\":796,\"fVtoAbsPixelk\":572.00005,\"fVtoPixelk\":572,\"fVtoPixel\":-572,\"fAbsPixeltoXk\":-25.0421046588559,\"fPixeltoXk\":-25.0421046588559,\"fPixeltoX\":0.241999474076101,\"fAbsPixeltoYk\":1.24285714852456,\"fPixeltoYk\":-0.185714283502611,\"fPixeltoY\":-0.00249750250354401,\"fXlowNDC\":0,\"fYlowNDC\":0,\"fXUpNDC\":0,\"fYUpNDC\":0,\"fWNDC\":1,\"fHNDC\":1,\"fAbsXlowNDC\":0,\"fAbsYlowNDC\":0,\"fAbsWNDC\":1,\"fAbsHNDC\":1,\"fUxmin\":0,\"fUymin\":0,\"fUxmax\":109.8,\"fUymax\":1.1,\"fTheta\":30,\"fPhi\":30,\"fAspectRatio\":0,\"fNumber\":0,\"fTickx\":0,\"fTicky\":0,\"fLogx\":0,\"fLogy\":0,\"fLogz\":0,\"fPadPaint\":0,\"fCrosshair\":0,\"fCrosshairPos\":0,\"fBorderSize\":2,\"fBorderMode\":0,\"fModified\":false,\"fGridx\":false,\"fGridy\":false,\"fAbsCoord\":false,\"fEditable\":true,\"fFixedAspectRatio\":false,\"fPrimitives\":{\"_typename\":\"TList\",\"name\":\"TList\",\"arr\":[{\"_typename\":\"TFrame\",\"fUniqueID\":0,\"fBits\":50331656,\"fLineColor\":1,\"fLineStyle\":1,\"fLineWidth\":1,\"fFillColor\":0,\"fFillStyle\":1001,\"fX1\":0,\"fY1\":0,\"fX2\":109.8,\"fY2\":1.1,\"fBorderSize\":1,\"fBorderMode\":0},{\"_typename\":\"TGraphAsymmErrors\",\"fUniqueID\":0,\"fBits\":50332680,\"fName\":\"1ecd43\",\"fTitle\":\"; p_{T}^{GEN} [GeV];\",\"fLineColor\":1,\"fLineStyle\":1,\"fLineWidth\":1,\"fFillColor\":0,\"fFillStyle\":1001,\"fMarkerColor\":1,\"fMarkerStyle\":8,\"fMarkerSize\":0.5,\"fNpoints\":49,\"fX\":[3,5,7,9,11,13,15,17,19,21,23,25,27,29,31,33,35,37,39,41,43,45,47,49,51,53,55,57,59,61,63,65,67,69,71,73,75,77,79,81,83,85,87,89,91,93,95,97,99],\"fY\":[0,0,0,0,0,0.00209205020920502,0.0431519699812383,0.480446927374302,0.810408921933085,0.915750915750916,0.965827338129496,0.983842010771993,0.998109640831758,0.99644128113879,0.994633273703041,0.998003992015968,1,0.998299319727891,1,1,1,0.997912317327766,1,1,1,1,1,1,1,1,1,1,1,1,0.998185117967332,1,1,1,1,1,1,1,1,1,0.998178506375228,1,1,1,1],\"fFunctions\":{\"_typename\":\"TList\",\"name\":\"TList\",\"arr\":[{\"_typename\":\"TF1\",\"fUniqueID\":0,\"fBits\":50332680,\"fName\":\"tf_yc\",\"fTitle\":\"tf_yc\",\"fLineColor\":6,\"fLineStyle\":1,\"fLineWidth\":2,\"fFillColor\":19,\"fFillStyle\":0,\"fMarkerColor\":1,\"fMarkerStyle\":1,\"fMarkerSize\":1,\"fXmin\":0,\"fXmax\":100,\"fNpar\":5,\"fNdim\":1,\"fNpx\":100,\"fType\":1,\"fNpfits\":49,\"fNDF\":45,\"fChisquare\":6.33359310507117,\"fMinimum\":-1111,\"fMaximum\":-1111,\"fParErrors\":[0.0664814989845027,0.813343592435858,0.830314308126491,4.68653912128192e-4,0],\"fParMin\":[0,0,0.1,0.9,1],\"fParMax\":[1,50,1,1,1],\"fSave\":[8.35134578235497e-57,5.00283179982858e-50,1.05802873132347e-43,7.91033440549727e-38,2.09431268071853e-32,1.96769314025616e-27,6.57833466418157e-23,7.85315626780503e-19,3.36336818270176e-15,5.20095377276841e-12,2.93008563202084e-9,6.0935338514514e-7,4.7719974736261e-5,0.00145229077635991,0.0180881004562239,0.100514307360546,0.286280691409825,0.506470410428734,0.679167021504665,0.793851085515904,0.867558220281628,0.914804419215839,0.945086701072812,0.964496002542271,0.976936312812023,0.984909877437736,0.990020500200499,0.993296132398806,0.995395635100662,0.996741302540791,0.997603802435563,0.998156618121145,0.998510943013332,0.998738046065032,0.998883606812325,0.998976903362036,0.999036701393786,0.99907502869112,0.999099594411396,0.999115339706645,0.999125431587515,0.999131899936178,0.999136045797091,0.999138703069233,0.999140406236654,0.99914149787466,0.999142197555455,0.999142646012923,0.999142933449854,0.999143117681347,0.99914323576375,0.999143311448169,0.999143359957781,0.999143391049812,0.999143410978119,0.999143423751084,0.999143431937862,0.999143437185143,0.999143440548366,0.999143442704009,0.99914344408566,0.999143444971223,0.999143445538821,0.999143445902621,0.999143446135796,0.999143446285249,0.999143446381041,0.999143446442438,0.99914344648179,0.999143446507012,0.999143446523179,0.999143446533541,0.999143446540182,0.999143446544439,0.999143446547167,0.999143446548916,0.999143446550036,0.999143446550755,0.999143446551215,0.99914344655151,0.9991434465517,0.999143446551821,0.999143446551898,0.999143446551948,0.99914344655198,0.999143446552001,0.999143446552014,0.999143446552022,0.999143446552028,0.999143446552031,0.999143446552033,0.999143446552035,0.999143446552036,0.999143446552036,0.999143446552037,0.999143446552037,0.999143446552037,0.999143446552037,0.999143446552037,0.999143446552037,0.999143446552037,0,100],\"fNormalized\":false,\"fNormIntegral\":0,\"fFormula\":null,\"fParams\":{\"_typename\":\"TF1Parameters\",\"fParameters\":[0.444810380063168,15.2307249996179,0.9757057938543,0.999143446552037,0],\"fParNames\":[\"#lambda\",\"#mu\",\"#sigma\",\"Plateau\",\"Baseline\"]},\"fComposition_ptr\":null},{\"_typename\":\"TPaveStats\",\"fUniqueID\":0,\"fBits\":50462729,\"fLineColor\":1,\"fLineStyle\":1,\"fLineWidth\":1,\"fFillColor\":0,\"fFillStyle\":1001,\"fX1\":94.3894784279808,\"fY1\":0.692857160818019,\"fX2\":163.736848752585,\"fY2\":1.15000000884877,\"fX1NDC\":0.620000013709068,\"fY1NDC\":0.615000009536743,\"fX2NDC\":0.980000019073486,\"fY2NDC\":0.935000002384186,\"fBorderSize\":1,\"fInit\":1,\"fShadowColor\":1,\"fCornerRadius\":0,\"fOption\":\"brNDC\",\"fName\":\"stats\",\"fTextAngle\":0,\"fTextSize\":0,\"fTextAlign\":12,\"fTextColor\":1,\"fTextFont\":42,\"fLabel\":\"\",\"fLongest\":32,\"fMargin\":0.05,\"fLines\":{\"_typename\":\"TList\",\"name\":\"TList\",\"arr\":[{\"_typename\":\"TLatex\",\"fUniqueID\":0,\"fBits\":50331648,\"fName\":\"\",\"fTitle\":\"#chi^{2} \\/ ndf = 6.334 \\/ 45\",\"fTextAngle\":0,\"fTextSize\":0,\"fTextAlign\":0,\"fTextColor\":0,\"fTextFont\":0,\"fX\":0,\"fY\":0,\"fLineColor\":1,\"fLineStyle\":1,\"fLineWidth\":2,\"fLimitFactorSize\":3,\"fOriginSize\":0.04},{\"_typename\":\"TLatex\",\"fUniqueID\":0,\"fBits\":50331648,\"fName\":\"\",\"fTitle\":\"Prob  =     1\",\"fTextAngle\":0,\"fTextSize\":0,\"fTextAlign\":0,\"fTextColor\":0,\"fTextFont\":0,\"fX\":0,\"fY\":0,\"fLineColor\":1,\"fLineStyle\":1,\"fLineWidth\":2,\"fLimitFactorSize\":3,\"fOriginSize\":0.04},{\"_typename\":\"TLatex\",\"fUniqueID\":0,\"fBits\":50331648,\"fName\":\"\",\"fTitle\":\"#lambda  = 0.4448 #pm 0.06648 \",\"fTextAngle\":0,\"fTextSize\":0,\"fTextAlign\":0,\"fTextColor\":0,\"fTextFont\":0,\"fX\":0,\"fY\":0,\"fLineColor\":1,\"fLineStyle\":1,\"fLineWidth\":2,\"fLimitFactorSize\":3,\"fOriginSize\":0.04},{\"_typename\":\"TLatex\",\"fUniqueID\":0,\"fBits\":50331648,\"fName\":\"\",\"fTitle\":\"#mu      = 15.23 #pm 0.8133 \",\"fTextAngle\":0,\"fTextSize\":0,\"fTextAlign\":0,\"fTextColor\":0,\"fTextFont\":0,\"fX\":0,\"fY\":0,\"fLineColor\":1,\"fLineStyle\":1,\"fLineWidth\":2,\"fLimitFactorSize\":3,\"fOriginSize\":0.04},{\"_typename\":\"TLatex\",\"fUniqueID\":0,\"fBits\":50331648,\"fName\":\"\",\"fTitle\":\"#sigma   = 0.9757 #pm 0.8303 \",\"fTextAngle\":0,\"fTextSize\":0,\"fTextAlign\":0,\"fTextColor\":0,\"fTextFont\":0,\"fX\":0,\"fY\":0,\"fLineColor\":1,\"fLineStyle\":1,\"fLineWidth\":2,\"fLimitFactorSize\":3,\"fOriginSize\":0.04},{\"_typename\":\"TLatex\",\"fUniqueID\":0,\"fBits\":50331648,\"fName\":\"\",\"fTitle\":\"Plateau  = 0.9991 #pm 0.0004687 \",\"fTextAngle\":0,\"fTextSize\":0,\"fTextAlign\":0,\"fTextColor\":0,\"fTextFont\":0,\"fX\":0,\"fY\":0,\"fLineColor\":1,\"fLineStyle\":1,\"fLineWidth\":2,\"fLimitFactorSize\":3,\"fOriginSize\":0.04},{\"_typename\":\"TLatex\",\"fUniqueID\":0,\"fBits\":50331648,\"fName\":\"\",\"fTitle\":\"Baseline =     0 #pm     0 \",\"fTextAngle\":0,\"fTextSize\":0,\"fTextAlign\":0,\"fTextColor\":0,\"fTextFont\":0,\"fX\":0,\"fY\":0,\"fLineColor\":1,\"fLineStyle\":1,\"fLineWidth\":2,\"fLimitFactorSize\":3,\"fOriginSize\":0.04}],\"opt\":[\"\",\"\",\"\",\"\",\"\",\"\",\"\"]},\"fOptFit\":11111,\"fOptStat\":0,\"fFitFormat\":\"5.4g\",\"fStatFormat\":\"6.4g\",\"fParent\":{\"$ref\":4}}],\"opt\":[\"\",\"brNDC\"]},\"fHistogram\":{\"_typename\":\"TH1F\",\"fUniqueID\":0,\"fBits\":50331648,\"fName\":\"1ecd43\",\"fTitle\":\"\",\"fLineColor\":602,\"fLineStyle\":1,\"fLineWidth\":1,\"fFillColor\":0,\"fFillStyle\":1001,\"fMarkerColor\":1,\"fMarkerStyle\":1,\"fMarkerSize\":1,\"fNcells\":102,\"fXaxis\":{\"_typename\":\"TAxis\",\"fUniqueID\":0,\"fBits\":50331656,\"fName\":\"xaxis\",\"fTitle\":\" p_{T}^{GEN} [GeV]\",\"fNdivisions\":510,\"fAxisColor\":1,\"fLabelColor\":1,\"fLabelFont\":42,\"fLabelOffset\":0.005,\"fLabelSize\":0.035,\"fTickLength\":0.03,\"fTitleOffset\":1.4,\"fTitleSize\":0.035,\"fTitleColor\":1,\"fTitleFont\":42,\"fNbins\":100,\"fXmin\":0,\"fXmax\":109.8,\"fXbins\":[],\"fFirst\":0,\"fLast\":0,\"fBits2\":0,\"fTimeDisplay\":false,\"fTimeFormat\":\"\",\"fLabels\":null,\"fModLabs\":null},\"fYaxis\":{\"_typename\":\"TAxis\",\"fUniqueID\":0,\"fBits\":50331656,\"fName\":\"yaxis\",\"fTitle\":\"L1 matched to GEN and p_{T}>th.\\/L1 matched to GEN\",\"fNdivisions\":510,\"fAxisColor\":1,\"fLabelColor\":1,\"fLabelFont\":42,\"fLabelOffset\":0.005,\"fLabelSize\":0.035,\"fTickLength\":0.03,\"fTitleOffset\":0,\"fTitleSize\":0.035,\"fTitleColor\":1,\"fTitleFont\":42,\"fNbins\":1,\"fXmin\":0,\"fXmax\":1.1,\"fXbins\":[],\"fFirst\":0,\"fLast\":0,\"fBits2\":0,\"fTimeDisplay\":false,\"fTimeFormat\":\"\",\"fLabels\":null,\"fModLabs\":null},\"fZaxis\":{\"_typename\":\"TAxis\",\"fUniqueID\":0,\"fBits\":50331648,\"fName\":\"zaxis\",\"fTitle\":\"\",\"fNdivisions\":510,\"fAxisColor\":1,\"fLabelColor\":1,\"fLabelFont\":42,\"fLabelOffset\":0.005,\"fLabelSize\":0.035,\"fTickLength\":0.03,\"fTitleOffset\":1,\"fTitleSize\":0.035,\"fTitleColor\":1,\"fTitleFont\":42,\"fNbins\":1,\"fXmin\":0,\"fXmax\":1,\"fXbins\":[],\"fFirst\":0,\"fLast\":0,\"fBits2\":0,\"fTimeDisplay\":false,\"fTimeFormat\":\"\",\"fLabels\":null,\"fModLabs\":null},\"fBarOffset\":0,\"fBarWidth\":1000,\"fEntries\":0,\"fTsumw\":0,\"fTsumw2\":0,\"fTsumwx\":0,\"fTsumwx2\":0,\"fMaximum\":1.1,\"fMinimum\":0,\"fNormFactor\":0,\"fContour\":[],\"fSumw2\":[],\"fOption\":\"\",\"fFunctions\":{\"_typename\":\"TList\",\"name\":\"TList\",\"arr\":[],\"opt\":[]},\"fBufferSize\":0,\"fBuffer\":[],\"fBinStatErrOpt\":0,\"fStatOverflows\":2,\"fArray\":[0,0,0,0,0,0,0,0,0,0,0,0,0,0,0,0,0,0,0,0,0,0,0,0,0,0,0,0,0,0,0,0,0,0,0,0,0,0,0,0,0,0,0,0,0,0,0,0,0,0,0,0,0,0,0,0,0,0,0,0,0,0,0,0,0,0,0,0,0,0,0,0,0,0,0,0,0,0,0,0,0,0,0,0,0,0,0,0,0,0,0,0,0,0,0,0,0,0,0,0,0,0]},\"fMinimum\":-1111,\"fMaximum\":-1111,\"fEXlow\":[1,1,1,1,1,1,1,1,1,1,1,1,1,1,1,1,1,1,1,1,1,1,1,1,1,1,1,1,1,1,1,1,1,1,1,1,1,1,1,1,1,1,1,1,1,1,1,1,1],\"fEXhigh\":[1,1,1,1,1,1,1,1,1,1,1,1,1,1,1,1,1,1,1,1,1,1,1,1,1,1,1,1,1,1,1,1,1,1,1,1,1,1,1,1,1,1,1,1,1,1,1,1,1],\"fEYlow\":[0,0,0,0,0,0.00173070593023294,0.00880941227858616,0.0224314416768766,0.0184257977180605,0.0136255790605013,0.00955979416603037,0.00729225727720828,0.00433338965671748,0.00467435060619115,0.00519275337641956,0.004574776940523,0.0031800913192791,0.00389979793979889,0.00321901386272638,0.00342247564062792,0.00340979796341223,0.00478416763762524,0.00327047951878845,0.0034288498968823,0.00313674526478314,0.00363177180340413,0.00346759968683441,0.00329388516268869,0.00354096381975255,0.00323031020388143,0.00320221671456578,0.00345458614095473,0.00352739487057507,0.00344166990678307,0.00416088718716279,0.00335389164746014,0.00323031020388143,0.00336001276404729,0.00351392951655349,0.00357534734320342,0.00324168610766018,0.00349392314601682,0.00346108068132667,0.00325890099174631,0.00417599965672255,0.00352064931846152,0.00328214061364762,0.00353416632119274,0.00365339285463007],\"fEYhigh\":[0.0204731563007113,0.00664817075517102,0.00427229336386818,0.00355463756421048,0.00327629969013888,0.00479414177851598,0.0107044178873139,0.0225073218624393,0.0172097705342636,0.0119870784215638,0.00769040661743736,0.00526540604757475,0.00156384579531399,0.00229827473165234,0.0029193724177935,0.00165124950469664,0,0.00140692448287461,0,0,0,0.00172709262942605,0,0,0,0,0,0,0,0,0,0,0,0,0.00150140344772509,0,0,0,0,0,0,0,0,0,0.00150687322100829,0,0,0,0]},{\"_typename\":\"TLatex\",\"fUniqueID\":0,\"fBits\":50348040,\"fName\":\"\",\"fTitle\":\"PU0, EG, hwQual 5, p_{T}^{L1}>=15GeV, 1.52 < |#eta^{GEN}| <= 2.4\",\"fTextAngle\":0,\"fTextSize\":0.03,\"fTextAlign\":11,\"fTextColor\":1,\"fTextFont\":62,\"fX\":0.15,\"fY\":0.85,\"fLineColor\":1,\"fLineStyle\":1,\"fLineWidth\":2,\"fLimitFactorSize\":3,\"fOriginSize\":0.04},{\"_typename\":\"TLatex\",\"fUniqueID\":0,\"fBits\":50331656,\"fName\":\"\",\"fTitle\":\"\",\"fTextAngle\":0,\"fTextSize\":0.03,\"fTextAlign\":11,\"fTextColor\":1,\"fTextFont\":62,\"fX\":0,\"fY\":0,\"fLineColor\":1,\"fLineStyle\":1,\"fLineWidth\":2,\"fLimitFactorSize\":3,\"fOriginSize\":0.04},{\"_typename\":\"TLine\",\"fUniqueID\":0,\"fBits\":50331656,\"fLineColor\":1,\"fLineStyle\":2,\"fLineWidth\":1,\"fX1\":0,\"fY1\":0.95,\"fX2\":109.8,\"fY2\":0.95},{\"_typename\":\"TLine\",\"fUniqueID\":0,\"fBits\":50331656,\"fLineColor\":1,\"fLineStyle\":2,\"fLineWidth\":1,\"fX1\":0,\"fY1\":1,\"fX2\":109.8,\"fY2\":1},{\"_typename\":\"TGraphErrors\",\"fUniqueID\":0,\"fBits\":50332680,\"fName\":\"Graph\",\"fTitle\":\"Fitted line with .95 conf. band\",\"fLineColor\":1,\"fLineStyle\":1,\"fLineWidth\":1,\"fFillColor\":0,\"fFillStyle\":1000,\"fMarkerColor\":1,\"fMarkerStyle\":1,\"fMarkerSize\":1,\"fNpoints\":49,\"fX\":[3,5,7,9,11,13,15,17,19,21,23,25,27,29,31,33,35,37,39,41,43,45,47,49,51,53,55,57,59,61,63,65,67,69,71,73,75,77,79,81,83,85,87,89,91,93,95,97,99],\"fY\":[7.91033440549727e-38,1.96769314025616e-27,7.85315626780503e-19,5.20095377276841e-12,6.0935338514514e-7,0.00145229077635991,0.100514307360546,0.506470410428734,0.793851085515904,0.914804419215839,0.964496002542271,0.984909877437736,0.993296132398806,0.996741302540791,0.998156618121145,0.998738046065032,0.998976903362036,0.99907502869112,0.999115339706645,0.999131899936178,0.999138703069233,0.99914149787466,0.999142646012923,0.999143117681347,0.999143311448169,0.999143391049812,0.999143423751084,0.999143437185143,0.999143442704009,0.999143444971223,0.999143445902621,0.999143446285249,0.999143446442438,0.999143446507012,0.999143446533541,0.999143446544439,0.999143446548916,0.999143446550755,0.99914344655151,0.999143446551821,0.999143446551948,0.999143446552001,0.999143446552022,0.999143446552031,0.999143446552035,0.999143446552036,0.999143446552037,0.999143446552037,0.999143446552037],\"fFunctions\":{\"_typename\":\"TList\",\"name\":\"TList\",\"arr\":[],\"opt\":[]},\"fHistogram\":{\"_typename\":\"TH1F\",\"fUniqueID\":0,\"fBits\":50332168,\"fName\":\"Graph\",\"fTitle\":\"Fitted line with .95 conf. band\",\"fLineColor\":602,\"fLineStyle\":1,\"fLineWidth\":1,\"fFillColor\":0,\"fFillStyle\":1001,\"fMarkerColor\":1,\"fMarkerStyle\":1,\"fMarkerSize\":1,\"fNcells\":102,\"fXaxis\":{\"_typename\":\"TAxis\",\"fUniqueID\":0,\"fBits\":50331648,\"fName\":\"xaxis\",\"fTitle\":\"\",\"fNdivisions\":510,\"fAxisColor\":1,\"fLabelColor\":1,\"fLabelFont\":42,\"fLabelOffset\":0.005,\"fLabelSize\":0.035,\"fTickLength\":0.03,\"fTitleOffset\":1,\"fTitleSize\":0.035,\"fTitleColor\":1,\"fTitleFont\":42,\"fNbins\":100,\"fXmin\":0,\"fXmax\":108.6,\"fXbins\":[],\"fFirst\":0,\"fLast\":0,\"fBits2\":0,\"fTimeDisplay\":false,\"fTimeFormat\":\"\",\"fLabels\":null,\"fModLabs\":null},\"fYaxis\":{\"_typename\":\"TAxis\",\"fUniqueID\":0,\"fBits\":50331648,\"fName\":\"yaxis\",\"fTitle\":\"\",\"fNdivisions\":510,\"fAxisColor\":1,\"fLabelColor\":1,\"fLabelFont\":42,\"fLabelOffset\":0.005,\"fLabelSize\":0.035,\"fTickLength\":0.03,\"fTitleOffset\":0,\"fTitleSize\":0.035,\"fTitleColor\":1,\"fTitleFont\":42,\"fNbins\":1,\"fXmin\":-0.568155106067098,\"fXmax\":1.14989560733483,\"fXbins\":[],\"fFirst\":0,\"fLast\":0,\"fBits2\":0,\"fTimeDisplay\":false,\"fTimeFormat\":\"\",\"fLabels\":null,\"fModLabs\":null},\"fZaxis\":{\"_typename\":\"TAxis\",\"fUniqueID\":0,\"fBits\":50331648,\"fName\":\"zaxis\",\"fTitle\":\"\",\"fNdivisions\":510,\"fAxisColor\":1,\"fLabelColor\":1,\"fLabelFont\":42,\"fLabelOffset\":0.005,\"fLabelSize\":0.035,\"fTickLength\":0.03,\"fTitleOffset\":1,\"fTitleSize\":0.035,\"fTitleColor\":1,\"fTitleFont\":42,\"fNbins\":1,\"fXmin\":0,\"fXmax\":1,\"fXbins\":[],\"fFirst\":0,\"fLast\":0,\"fBits2\":0,\"fTimeDisplay\":false,\"fTimeFormat\":\"\",\"fLabels\":null,\"fModLabs\":null},\"fBarOffset\":0,\"fBarWidth\":1000,\"fEntries\":0,\"fTsumw\":0,\"fTsumw2\":0,\"fTsumwx\":0,\"fTsumwx2\":0,\"fMaximum\":1.14989560733483,\"fMinimum\":-0.568155106067098,\"fNormFactor\":0,\"fContour\":[],\"fSumw2\":[],\"fOption\":\"\",\"fFunctions\":{\"_typename\":\"TList\",\"name\":\"TList\",\"arr\":[],\"opt\":[]},\"fBufferSize\":0,\"fBuffer\":[],\"fBinStatErrOpt\":0,\"fStatOverflows\":2,\"fArray\":[0,0,0,0,0,0,0,0,0,0,0,0,0,0,0,0,0,0,0,0,0,0,0,0,0,0,0,0,0,0,0,0,0,0,0,0,0,0,0,0,0,0,0,0,0,0,0,0,0,0,0,0,0,0,0,0,0,0,0,0,0,0,0,0,0,0,0,0,0,0,0,0,0,0,0,0,0,0,0,0,0,0,0,0,0,0,0,0,0,0,0,0,0,0,0,0,0,0,0,0,0,0]},\"fMinimum\":-1111,\"fMaximum\":-1111,\"fEX\":[0,0,0,0,0,0,0,0,0,0,0,0,0,0,0,0,0,0,0,0,0,0,0,0,0,0,0,0,0,0,0,0,0,0,0,0,0,0,0,0,0,0,0,0,0,0,0,0,0],\"fEY\":[2.23244498249066e-35,3.99858188975137e-25,1.07920608422414e-16,4.41275465986381e-10,2.76943325085176e-5,0.0277607757577719,0.52549852064415,0.441156250206402,0.140819575714003,0.0651491684754056,0.0384572307816706,0.0218148371135982,0.0115413219107594,0.0058328952505437,0.00303132138751634,0.00196927655116923,0.00174254532994898,0.00174281022480341,0.001768109435893,0.00178491394742655,0.00179359247603617,0.00179770726098104,0.00179958615488414,0.00180042780836828,0.00180080068502511,0.00180096469594308,0.00180103646061625,0.00180106773272795,0.00180108131275602,0.00180108719245767,0.00180108973134375,0.00180109082488104,0.00180109129518692,0.00180109149681012,0.00180109158316593,0.00180109162005836,0.00180109163580323,0.00180109164256366,0.00180109164542683,0.00180109164658894,0.00180109164719371,0.00180109164738143,0.00180109164748558,0.00180109164752109,0.00180109164753583,0.00180109164754196,0.0018010916475505,0.00180109164755173,0.00180109164755054]}],\"opt\":[\"\",\"pa\",\"same\",\"same\",\"same\",\"same\",\"\"]},\"fExecs\":null,\"fName\":\"c_aeb263\",\"fTitle\":\"c_aeb263\",\"fNumPaletteColor\":0,\"fNextPaletteColor\":0,\"fDISPLAY\":\"$DISPLAY\",\"fDoubleBuffer\":0,\"fRetained\":true,\"fXsizeUser\":0,\"fYsizeUser\":0,\"fXsizeReal\":20,\"fYsizeReal\":15,\"fWindowTopX\":0,\"fWindowTopY\":0,\"fWindowWidth\":0,\"fWindowHeight\":0,\"fCw\":796,\"fCh\":572,\"fCatt\":{\"_typename\":\"TAttCanvas\",\"fXBetween\":2,\"fYBetween\":2,\"fTitleFromTop\":1.2,\"fXdate\":0.2,\"fYdate\":0.3,\"fAdate\":1},\"kMoveOpaque\":true,\"kResizeOpaque\":true,\"fHighLightColor\":2,\"fBatch\":true,\"kShowEventStatus\":false,\"kAutoExec\":true,\"kMenuBar\":true});\n",
       "       Core.draw(\"root_plot_67\", obj, \"\");\n",
       "     }\n",
       " );\n",
       "</script>\n"
      ],
      "text/plain": [
       "<IPython.core.display.HTML object>"
      ]
     },
     "metadata": {},
     "output_type": "display_data"
    },
    {
     "data": {
      "text/html": [
       "\n",
       "<div id=\"root_plot_68\"\n",
       "     style=\"width: 796px; height: 572px\">\n",
       "</div>\n",
       "\n",
       "<script>\n",
       " requirejs.config({\n",
       "     paths: {\n",
       "       'JSRootCore' : 'https://root.cern.ch/js/notebook//scripts/JSRootCore',\n",
       "     }\n",
       "   });\n",
       " require(['JSRootCore'],\n",
       "     function(Core) {\n",
       "       var obj = Core.JSONR_unref({\"_typename\":\"TCanvas\",\"fUniqueID\":0,\"fBits\":53673992,\"fLineColor\":1,\"fLineStyle\":1,\"fLineWidth\":1,\"fFillColor\":0,\"fFillStyle\":1001,\"fLeftMargin\":0.13,\"fRightMargin\":0.3,\"fBottomMargin\":0.13,\"fTopMargin\":0.1,\"fXfile\":2,\"fYfile\":2,\"fAfile\":1,\"fXstat\":0.99,\"fYstat\":0.99,\"fAstat\":2,\"fFrameFillColor\":0,\"fFrameLineColor\":1,\"fFrameFillStyle\":1001,\"fFrameLineStyle\":1,\"fFrameLineWidth\":1,\"fFrameBorderSize\":1,\"fFrameBorderMode\":0,\"fX1\":-25.0421046588559,\"fY1\":-0.185714283502611,\"fX2\":167.58947670572,\"fY2\":1.24285714852456,\"fXtoAbsPixelk\":103.480046204376,\"fXtoPixelk\":103.480046204376,\"fXtoPixel\":4.13224038530569,\"fYtoAbsPixelk\":497.640051065433,\"fYtoPixelk\":497.640051065433,\"fYtoPixel\":-400.399999031424,\"fUtoAbsPixelk\":5e-5,\"fUtoPixelk\":5e-5,\"fUtoPixel\":796,\"fVtoAbsPixelk\":572.00005,\"fVtoPixelk\":572,\"fVtoPixel\":-572,\"fAbsPixeltoXk\":-25.0421046588559,\"fPixeltoXk\":-25.0421046588559,\"fPixeltoX\":0.241999474076101,\"fAbsPixeltoYk\":1.24285714852456,\"fPixeltoYk\":-0.185714283502611,\"fPixeltoY\":-0.00249750250354401,\"fXlowNDC\":0,\"fYlowNDC\":0,\"fXUpNDC\":0,\"fYUpNDC\":0,\"fWNDC\":1,\"fHNDC\":1,\"fAbsXlowNDC\":0,\"fAbsYlowNDC\":0,\"fAbsWNDC\":1,\"fAbsHNDC\":1,\"fUxmin\":0,\"fUymin\":0,\"fUxmax\":109.8,\"fUymax\":1.1,\"fTheta\":30,\"fPhi\":30,\"fAspectRatio\":0,\"fNumber\":0,\"fTickx\":0,\"fTicky\":0,\"fLogx\":0,\"fLogy\":0,\"fLogz\":0,\"fPadPaint\":0,\"fCrosshair\":0,\"fCrosshairPos\":0,\"fBorderSize\":2,\"fBorderMode\":0,\"fModified\":false,\"fGridx\":false,\"fGridy\":false,\"fAbsCoord\":false,\"fEditable\":true,\"fFixedAspectRatio\":false,\"fPrimitives\":{\"_typename\":\"TList\",\"name\":\"TList\",\"arr\":[{\"_typename\":\"TFrame\",\"fUniqueID\":0,\"fBits\":50331656,\"fLineColor\":1,\"fLineStyle\":1,\"fLineWidth\":1,\"fFillColor\":0,\"fFillStyle\":1001,\"fX1\":0,\"fY1\":0,\"fX2\":109.8,\"fY2\":1.1,\"fBorderSize\":1,\"fBorderMode\":0},{\"_typename\":\"TGraphAsymmErrors\",\"fUniqueID\":0,\"fBits\":50332680,\"fName\":\"6dab3b\",\"fTitle\":\"; p_{T}^{GEN} [GeV];\",\"fLineColor\":1,\"fLineStyle\":1,\"fLineWidth\":1,\"fFillColor\":0,\"fFillStyle\":1001,\"fMarkerColor\":1,\"fMarkerStyle\":8,\"fMarkerSize\":0.5,\"fNpoints\":49,\"fX\":[3,5,7,9,11,13,15,17,19,21,23,25,27,29,31,33,35,37,39,41,43,45,47,49,51,53,55,57,59,61,63,65,67,69,71,73,75,77,79,81,83,85,87,89,91,93,95,97,99],\"fY\":[0,0,0,0,0,0,0,0,0.0111524163568773,0.195970695970696,0.634892086330935,0.879712746858169,0.954631379962193,0.97508896797153,0.976744186046512,0.986027944111776,0.998269896193772,0.994897959183674,1,1,1,0.997912317327766,1,1,1,1,1,1,1,1,1,1,1,1,0.998185117967332,1,1,1,1,1,1,1,1,1,0.998178506375228,1,1,1,1],\"fFunctions\":{\"_typename\":\"TList\",\"name\":\"TList\",\"arr\":[{\"_typename\":\"TF1\",\"fUniqueID\":0,\"fBits\":50332680,\"fName\":\"tf_yc\",\"fTitle\":\"tf_yc\",\"fLineColor\":6,\"fLineStyle\":1,\"fLineWidth\":2,\"fFillColor\":19,\"fFillStyle\":0,\"fMarkerColor\":1,\"fMarkerStyle\":1,\"fMarkerSize\":1,\"fXmin\":0,\"fXmax\":100,\"fNpar\":5,\"fNdim\":1,\"fNpx\":100,\"fType\":1,\"fNpfits\":49,\"fNDF\":45,\"fChisquare\":7.81661471711466,\"fMinimum\":-1111,\"fMaximum\":-1111,\"fParErrors\":[0.0391232372011656,0.688186520052785,0.593141171244044,5.22807342042964e-4,0],\"fParMin\":[0,0,0.1,0.9,1],\"fParMax\":[1,50,1,1,1],\"fSave\":[1.25116240173263e-175,6.63545788921137e-159,4.93278042966853e-143,5.14328990355285e-128,7.52714331452238e-114,1.54749648217004e-100,4.47387819763671e-88,1.82110027182995e-76,1.04530668764282e-65,8.47704762472304e-56,9.73627374834567e-47,1.58875928527024e-38,3.69878902847886e-31,1.23560740396535e-24,5.97071449998382e-19,4.22327168404703e-14,4.45352565434727e-10,7.21501433869774e-7,1.89333390101428e-4,0.00889871822877481,0.0915218022477555,0.298714584293209,0.50975772611081,0.662032824721719,0.767042161148712,0.839360316312253,0.889164257553097,0.923463148925406,0.947084049602313,0.963351250274542,0.974554117655856,0.982269288820957,0.987582559440057,0.991241693381179,0.993761659360504,0.995497105135141,0.996692268903785,0.997515352203049,0.998082191773741,0.998472561860452,0.998741401250778,0.998926545093127,0.999054049631497,0.999141859234555,0.999202331798807,0.999243977938863,0.999272658729947,0.999292410567118,0.999306013227884,0.999315381084572,0.999321832523773,0.999326275489668,0.99932933526367,0.999331442463491,0.999332893646189,0.999333893044157,0.999334581307807,0.999335055300017,0.999335381728144,0.999335606532098,0.999335761349693,0.999335867969204,0.999335941395743,0.999335991963003,0.999336026787576,0.999336050770502,0.999336067287022,0.99933607866159,0.999336086495008,0.999336091889712,0.999336095604928,0.999336098163516,0.99933609992556,0.999336101139041,0.99933610197474,0.999336102550267,0.99933610294662,0.99933610321958,0.999336103407561,0.99933610353702,0.999336103626175,0.999336103687575,0.999336103729859,0.99933610375898,0.999336103779034,0.999336103792845,0.999336103802357,0.999336103808907,0.999336103813418,0.999336103816525,0.999336103818664,0.999336103820138,0.999336103821152,0.999336103821851,0.999336103822333,0.999336103822664,0.999336103822892,0.999336103823049,0.999336103823158,0.999336103823232,0.999336103823284,0,100],\"fNormalized\":false,\"fNormIntegral\":0,\"fFormula\":null,\"fParams\":{\"_typename\":\"TF1Parameters\",\"fParameters\":[0.372981090139776,19.9933882588542,0.712414702933077,0.999336103823397,0],\"fParNames\":[\"#lambda\",\"#mu\",\"#sigma\",\"Plateau\",\"Baseline\"]},\"fComposition_ptr\":null},{\"_typename\":\"TPaveStats\",\"fUniqueID\":0,\"fBits\":50462729,\"fLineColor\":1,\"fLineStyle\":1,\"fLineWidth\":1,\"fFillColor\":0,\"fFillStyle\":1001,\"fX1\":94.3894784279808,\"fY1\":0.692857160818019,\"fX2\":163.736848752585,\"fY2\":1.15000000884877,\"fX1NDC\":0.620000013709068,\"fY1NDC\":0.615000009536743,\"fX2NDC\":0.980000019073486,\"fY2NDC\":0.935000002384186,\"fBorderSize\":1,\"fInit\":1,\"fShadowColor\":1,\"fCornerRadius\":0,\"fOption\":\"brNDC\",\"fName\":\"stats\",\"fTextAngle\":0,\"fTextSize\":0,\"fTextAlign\":12,\"fTextColor\":1,\"fTextFont\":42,\"fLabel\":\"\",\"fLongest\":32,\"fMargin\":0.05,\"fLines\":{\"_typename\":\"TList\",\"name\":\"TList\",\"arr\":[{\"_typename\":\"TLatex\",\"fUniqueID\":0,\"fBits\":50331648,\"fName\":\"\",\"fTitle\":\"#chi^{2} \\/ ndf = 7.817 \\/ 45\",\"fTextAngle\":0,\"fTextSize\":0,\"fTextAlign\":0,\"fTextColor\":0,\"fTextFont\":0,\"fX\":0,\"fY\":0,\"fLineColor\":1,\"fLineStyle\":1,\"fLineWidth\":2,\"fLimitFactorSize\":3,\"fOriginSize\":0.04},{\"_typename\":\"TLatex\",\"fUniqueID\":0,\"fBits\":50331648,\"fName\":\"\",\"fTitle\":\"Prob  =     1\",\"fTextAngle\":0,\"fTextSize\":0,\"fTextAlign\":0,\"fTextColor\":0,\"fTextFont\":0,\"fX\":0,\"fY\":0,\"fLineColor\":1,\"fLineStyle\":1,\"fLineWidth\":2,\"fLimitFactorSize\":3,\"fOriginSize\":0.04},{\"_typename\":\"TLatex\",\"fUniqueID\":0,\"fBits\":50331648,\"fName\":\"\",\"fTitle\":\"#lambda  = 0.373 #pm 0.03912 \",\"fTextAngle\":0,\"fTextSize\":0,\"fTextAlign\":0,\"fTextColor\":0,\"fTextFont\":0,\"fX\":0,\"fY\":0,\"fLineColor\":1,\"fLineStyle\":1,\"fLineWidth\":2,\"fLimitFactorSize\":3,\"fOriginSize\":0.04},{\"_typename\":\"TLatex\",\"fUniqueID\":0,\"fBits\":50331648,\"fName\":\"\",\"fTitle\":\"#mu      = 19.99 #pm 0.6882 \",\"fTextAngle\":0,\"fTextSize\":0,\"fTextAlign\":0,\"fTextColor\":0,\"fTextFont\":0,\"fX\":0,\"fY\":0,\"fLineColor\":1,\"fLineStyle\":1,\"fLineWidth\":2,\"fLimitFactorSize\":3,\"fOriginSize\":0.04},{\"_typename\":\"TLatex\",\"fUniqueID\":0,\"fBits\":50331648,\"fName\":\"\",\"fTitle\":\"#sigma   = 0.7124 #pm 0.5931 \",\"fTextAngle\":0,\"fTextSize\":0,\"fTextAlign\":0,\"fTextColor\":0,\"fTextFont\":0,\"fX\":0,\"fY\":0,\"fLineColor\":1,\"fLineStyle\":1,\"fLineWidth\":2,\"fLimitFactorSize\":3,\"fOriginSize\":0.04},{\"_typename\":\"TLatex\",\"fUniqueID\":0,\"fBits\":50331648,\"fName\":\"\",\"fTitle\":\"Plateau  = 0.9993 #pm 0.0005228 \",\"fTextAngle\":0,\"fTextSize\":0,\"fTextAlign\":0,\"fTextColor\":0,\"fTextFont\":0,\"fX\":0,\"fY\":0,\"fLineColor\":1,\"fLineStyle\":1,\"fLineWidth\":2,\"fLimitFactorSize\":3,\"fOriginSize\":0.04},{\"_typename\":\"TLatex\",\"fUniqueID\":0,\"fBits\":50331648,\"fName\":\"\",\"fTitle\":\"Baseline =     0 #pm     0 \",\"fTextAngle\":0,\"fTextSize\":0,\"fTextAlign\":0,\"fTextColor\":0,\"fTextFont\":0,\"fX\":0,\"fY\":0,\"fLineColor\":1,\"fLineStyle\":1,\"fLineWidth\":2,\"fLimitFactorSize\":3,\"fOriginSize\":0.04}],\"opt\":[\"\",\"\",\"\",\"\",\"\",\"\",\"\"]},\"fOptFit\":11111,\"fOptStat\":0,\"fFitFormat\":\"5.4g\",\"fStatFormat\":\"6.4g\",\"fParent\":{\"$ref\":4}}],\"opt\":[\"\",\"brNDC\"]},\"fHistogram\":{\"_typename\":\"TH1F\",\"fUniqueID\":0,\"fBits\":50331648,\"fName\":\"6dab3b\",\"fTitle\":\"\",\"fLineColor\":602,\"fLineStyle\":1,\"fLineWidth\":1,\"fFillColor\":0,\"fFillStyle\":1001,\"fMarkerColor\":1,\"fMarkerStyle\":1,\"fMarkerSize\":1,\"fNcells\":102,\"fXaxis\":{\"_typename\":\"TAxis\",\"fUniqueID\":0,\"fBits\":50331656,\"fName\":\"xaxis\",\"fTitle\":\" p_{T}^{GEN} [GeV]\",\"fNdivisions\":510,\"fAxisColor\":1,\"fLabelColor\":1,\"fLabelFont\":42,\"fLabelOffset\":0.005,\"fLabelSize\":0.035,\"fTickLength\":0.03,\"fTitleOffset\":1.4,\"fTitleSize\":0.035,\"fTitleColor\":1,\"fTitleFont\":42,\"fNbins\":100,\"fXmin\":0,\"fXmax\":109.8,\"fXbins\":[],\"fFirst\":0,\"fLast\":0,\"fBits2\":0,\"fTimeDisplay\":false,\"fTimeFormat\":\"\",\"fLabels\":null,\"fModLabs\":null},\"fYaxis\":{\"_typename\":\"TAxis\",\"fUniqueID\":0,\"fBits\":50331656,\"fName\":\"yaxis\",\"fTitle\":\"L1 matched to GEN and p_{T}>th.\\/L1 matched to GEN\",\"fNdivisions\":510,\"fAxisColor\":1,\"fLabelColor\":1,\"fLabelFont\":42,\"fLabelOffset\":0.005,\"fLabelSize\":0.035,\"fTickLength\":0.03,\"fTitleOffset\":0,\"fTitleSize\":0.035,\"fTitleColor\":1,\"fTitleFont\":42,\"fNbins\":1,\"fXmin\":0,\"fXmax\":1.1,\"fXbins\":[],\"fFirst\":0,\"fLast\":0,\"fBits2\":0,\"fTimeDisplay\":false,\"fTimeFormat\":\"\",\"fLabels\":null,\"fModLabs\":null},\"fZaxis\":{\"_typename\":\"TAxis\",\"fUniqueID\":0,\"fBits\":50331648,\"fName\":\"zaxis\",\"fTitle\":\"\",\"fNdivisions\":510,\"fAxisColor\":1,\"fLabelColor\":1,\"fLabelFont\":42,\"fLabelOffset\":0.005,\"fLabelSize\":0.035,\"fTickLength\":0.03,\"fTitleOffset\":1,\"fTitleSize\":0.035,\"fTitleColor\":1,\"fTitleFont\":42,\"fNbins\":1,\"fXmin\":0,\"fXmax\":1,\"fXbins\":[],\"fFirst\":0,\"fLast\":0,\"fBits2\":0,\"fTimeDisplay\":false,\"fTimeFormat\":\"\",\"fLabels\":null,\"fModLabs\":null},\"fBarOffset\":0,\"fBarWidth\":1000,\"fEntries\":0,\"fTsumw\":0,\"fTsumw2\":0,\"fTsumwx\":0,\"fTsumwx2\":0,\"fMaximum\":1.1,\"fMinimum\":0,\"fNormFactor\":0,\"fContour\":[],\"fSumw2\":[],\"fOption\":\"\",\"fFunctions\":{\"_typename\":\"TList\",\"name\":\"TList\",\"arr\":[],\"opt\":[]},\"fBufferSize\":0,\"fBuffer\":[],\"fBinStatErrOpt\":0,\"fStatOverflows\":2,\"fArray\":[0,0,0,0,0,0,0,0,0,0,0,0,0,0,0,0,0,0,0,0,0,0,0,0,0,0,0,0,0,0,0,0,0,0,0,0,0,0,0,0,0,0,0,0,0,0,0,0,0,0,0,0,0,0,0,0,0,0,0,0,0,0,0,0,0,0,0,0,0,0,0,0,0,0,0,0,0,0,0,0,0,0,0,0,0,0,0,0,0,0,0,0,0,0,0,0,0,0,0,0,0,0]},\"fMinimum\":-1111,\"fMaximum\":-1111,\"fEXlow\":[1,1,1,1,1,1,1,1,1,1,1,1,1,1,1,1,1,1,1,1,1,1,1,1,1,1,1,1,1,1,1,1,1,1,1,1,1,1,1,1,1,1,1,1,1,1,1,1,1],\"fEXhigh\":[1,1,1,1,1,1,1,1,1,1,1,1,1,1,1,1,1,1,1,1,1,1,1,1,1,1,1,1,1,1,1,1,1,1,1,1,1,1,1,1,1,1,1,1,1,1,1,1,1],\"fEYlow\":[0,0,0,0,0,0,0,0,0.00441499757350175,0.0173060704968314,0.021551725118488,0.0154034341931296,0.0109580856869186,0.00845062473436176,0.00827020887423935,0.00744458969078277,0.00396707576217903,0.00493794211437071,0.00321901386272638,0.00342247564062792,0.00340979796341223,0.00478416763762524,0.00327047951878845,0.0034288498968823,0.00313674526478314,0.00363177180340413,0.00346759968683441,0.00329388516268869,0.00354096381975255,0.00323031020388143,0.00320221671456578,0.00345458614095473,0.00352739487057507,0.00344166990678307,0.00416088718716279,0.00335389164746014,0.00323031020388143,0.00336001276404729,0.00351392951655349,0.00357534734320342,0.00324168610766018,0.00349392314601682,0.00346108068132667,0.00325890099174631,0.00417599965672255,0.00352064931846152,0.00328214061364762,0.00353416632119274,0.00365339285463007],\"fEYhigh\":[0.0204731563007113,0.00664817075517102,0.00427229336386818,0.00355463756421048,0.00327629969013888,0.0038441021671747,0.00344811592825358,0.00342247564062798,0.00660171229146548,0.0184784621836663,0.0210456964701475,0.0139527475901501,0.00906168112176198,0.00653302740945427,0.00632714409581947,0.00513864142312748,0.00143126649636627,0.00277545494884102,0,0,0,0.00172709262942605,0,0,0,0,0,0,0,0,0,0,0,0,0.00150140344772509,0,0,0,0,0,0,0,0,0,0.00150687322100829,0,0,0,0]},{\"_typename\":\"TLatex\",\"fUniqueID\":0,\"fBits\":50348040,\"fName\":\"\",\"fTitle\":\"PU0, EG, hwQual 5, p_{T}^{L1}>=20GeV, 1.52 < |#eta^{GEN}| <= 2.4\",\"fTextAngle\":0,\"fTextSize\":0.03,\"fTextAlign\":11,\"fTextColor\":1,\"fTextFont\":62,\"fX\":0.15,\"fY\":0.85,\"fLineColor\":1,\"fLineStyle\":1,\"fLineWidth\":2,\"fLimitFactorSize\":3,\"fOriginSize\":0.04},{\"_typename\":\"TLatex\",\"fUniqueID\":0,\"fBits\":50331656,\"fName\":\"\",\"fTitle\":\"\",\"fTextAngle\":0,\"fTextSize\":0.03,\"fTextAlign\":11,\"fTextColor\":1,\"fTextFont\":62,\"fX\":0,\"fY\":0,\"fLineColor\":1,\"fLineStyle\":1,\"fLineWidth\":2,\"fLimitFactorSize\":3,\"fOriginSize\":0.04},{\"_typename\":\"TLine\",\"fUniqueID\":0,\"fBits\":50331656,\"fLineColor\":1,\"fLineStyle\":2,\"fLineWidth\":1,\"fX1\":0,\"fY1\":0.95,\"fX2\":109.8,\"fY2\":0.95},{\"_typename\":\"TLine\",\"fUniqueID\":0,\"fBits\":50331656,\"fLineColor\":1,\"fLineStyle\":2,\"fLineWidth\":1,\"fX1\":0,\"fY1\":1,\"fX2\":109.8,\"fY2\":1},{\"_typename\":\"TGraphErrors\",\"fUniqueID\":0,\"fBits\":50332680,\"fName\":\"Graph\",\"fTitle\":\"Fitted line with .95 conf. band\",\"fLineColor\":1,\"fLineStyle\":1,\"fLineWidth\":1,\"fFillColor\":0,\"fFillStyle\":1000,\"fMarkerColor\":1,\"fMarkerStyle\":1,\"fMarkerSize\":1,\"fNpoints\":49,\"fX\":[3,5,7,9,11,13,15,17,19,21,23,25,27,29,31,33,35,37,39,41,43,45,47,49,51,53,55,57,59,61,63,65,67,69,71,73,75,77,79,81,83,85,87,89,91,93,95,97,99],\"fY\":[5.14328990355285e-128,1.54749648217004e-100,1.82110027182995e-76,8.47704762472304e-56,1.58875928527024e-38,1.23560740396535e-24,4.22327168404703e-14,7.21501433869774e-7,0.00889871822877481,0.298714584293209,0.662032824721719,0.839360316312253,0.923463148925406,0.963351250274542,0.982269288820957,0.991241693381179,0.995497105135141,0.997515352203049,0.998472561860452,0.998926545093127,0.999141859234555,0.999243977938863,0.999292410567118,0.999315381084572,0.999326275489668,0.999331442463491,0.999333893044157,0.999335055300017,0.999335606532098,0.999335867969204,0.999335991963003,0.999336050770502,0.99933607866159,0.999336091889712,0.999336098163516,0.999336101139041,0.999336102550267,0.99933610321958,0.99933610353702,0.999336103687575,0.99933610375898,0.999336103792845,0.999336103808907,0.999336103816525,0.999336103820138,0.999336103821851,0.999336103822664,0.999336103823049,0.999336103823232],\"fFunctions\":{\"_typename\":\"TList\",\"name\":\"TList\",\"arr\":[],\"opt\":[]},\"fHistogram\":{\"_typename\":\"TH1F\",\"fUniqueID\":0,\"fBits\":50332168,\"fName\":\"Graph\",\"fTitle\":\"Fitted line with .95 conf. band\",\"fLineColor\":602,\"fLineStyle\":1,\"fLineWidth\":1,\"fFillColor\":0,\"fFillStyle\":1001,\"fMarkerColor\":1,\"fMarkerStyle\":1,\"fMarkerSize\":1,\"fNcells\":102,\"fXaxis\":{\"_typename\":\"TAxis\",\"fUniqueID\":0,\"fBits\":50331648,\"fName\":\"xaxis\",\"fTitle\":\"\",\"fNdivisions\":510,\"fAxisColor\":1,\"fLabelColor\":1,\"fLabelFont\":42,\"fLabelOffset\":0.005,\"fLabelSize\":0.035,\"fTickLength\":0.03,\"fTitleOffset\":1,\"fTitleSize\":0.035,\"fTitleColor\":1,\"fTitleFont\":42,\"fNbins\":100,\"fXmin\":0,\"fXmax\":108.6,\"fXbins\":[],\"fFirst\":0,\"fLast\":0,\"fBits2\":0,\"fTimeDisplay\":false,\"fTimeFormat\":\"\",\"fLabels\":null,\"fModLabs\":null},\"fYaxis\":{\"_typename\":\"TAxis\",\"fUniqueID\":0,\"fBits\":50331648,\"fName\":\"yaxis\",\"fTitle\":\"\",\"fNdivisions\":510,\"fAxisColor\":1,\"fLabelColor\":1,\"fLabelFont\":42,\"fLabelOffset\":0.005,\"fLabelSize\":0.035,\"fTickLength\":0.03,\"fTitleOffset\":0,\"fTitleSize\":0.035,\"fTitleColor\":1,\"fTitleFont\":42,\"fNbins\":1,\"fXmin\":-0.362819449323062,\"fXmax\":1.12648011674009,\"fXbins\":[],\"fFirst\":0,\"fLast\":0,\"fBits2\":0,\"fTimeDisplay\":false,\"fTimeFormat\":\"\",\"fLabels\":null,\"fModLabs\":null},\"fZaxis\":{\"_typename\":\"TAxis\",\"fUniqueID\":0,\"fBits\":50331648,\"fName\":\"zaxis\",\"fTitle\":\"\",\"fNdivisions\":510,\"fAxisColor\":1,\"fLabelColor\":1,\"fLabelFont\":42,\"fLabelOffset\":0.005,\"fLabelSize\":0.035,\"fTickLength\":0.03,\"fTitleOffset\":1,\"fTitleSize\":0.035,\"fTitleColor\":1,\"fTitleFont\":42,\"fNbins\":1,\"fXmin\":0,\"fXmax\":1,\"fXbins\":[],\"fFirst\":0,\"fLast\":0,\"fBits2\":0,\"fTimeDisplay\":false,\"fTimeFormat\":\"\",\"fLabels\":null,\"fModLabs\":null},\"fBarOffset\":0,\"fBarWidth\":1000,\"fEntries\":0,\"fTsumw\":0,\"fTsumw2\":0,\"fTsumwx\":0,\"fTsumwx2\":0,\"fMaximum\":1.12648011674009,\"fMinimum\":-0.362819449323062,\"fNormFactor\":0,\"fContour\":[],\"fSumw2\":[],\"fOption\":\"\",\"fFunctions\":{\"_typename\":\"TList\",\"name\":\"TList\",\"arr\":[],\"opt\":[]},\"fBufferSize\":0,\"fBuffer\":[],\"fBinStatErrOpt\":0,\"fStatOverflows\":2,\"fArray\":[0,0,0,0,0,0,0,0,0,0,0,0,0,0,0,0,0,0,0,0,0,0,0,0,0,0,0,0,0,0,0,0,0,0,0,0,0,0,0,0,0,0,0,0,0,0,0,0,0,0,0,0,0,0,0,0,0,0,0,0,0,0,0,0,0,0,0,0,0,0,0,0,0,0,0,0,0,0,0,0,0,0,0,0,0,0,0,0,0,0,0,0,0,0,0,0,0,0,0,0,0,0]},\"fMinimum\":-1111,\"fMaximum\":-1111,\"fEX\":[0,0,0,0,0,0,0,0,0,0,0,0,0,0,0,0,0,0,0,0,0,0,0,0,0,0,0,0,0,0,0,0,0,0,0,0,0,0,0,0,0,0,0,0,0,0,0,0,0],\"fEY\":[8.78377855172274e-125,2.07054955582353e-97,1.84488993621056e-73,6.21770430415429e-53,7.93418472436096e-36,3.84102592750291e-22,7.08900450044804e-12,5.06871216328082e-5,0.153284884189149,0.537425736444342,0.213069751393433,0.0951715598944665,0.0529258445162951,0.0320326267624164,0.019179330215223,0.0111301261869818,0.00632933805019096,0.00369239215398605,0.00246253416456882,0.0020445609755753,0.00196066693455536,0.0019652572782136,0.00198167870679868,0.00199399465168853,0.00200135190066997,0.00200538719252117,0.00200751304171608,0.00200860924536591,0.00200916752682275,0.00200944963063393,0.00200959141402586,0.00200966238841753,0.00200969780373241,0.00200971542849154,0.0020097241791746,0.0020097285150267,0.0020097306593675,0.00200973171805602,0.00200973223995987,0.00200973249684494,0.00200973262314918,0.00200973268517353,0.00200973271557637,0.00200973273045805,0.0020097327377192,0.00200973274133041,0.00200973274305222,0.00200973274390332,0.00200973274432171]}],\"opt\":[\"\",\"pa\",\"same\",\"same\",\"same\",\"same\",\"\"]},\"fExecs\":null,\"fName\":\"c_8e1e62\",\"fTitle\":\"c_8e1e62\",\"fNumPaletteColor\":0,\"fNextPaletteColor\":0,\"fDISPLAY\":\"$DISPLAY\",\"fDoubleBuffer\":0,\"fRetained\":true,\"fXsizeUser\":0,\"fYsizeUser\":0,\"fXsizeReal\":20,\"fYsizeReal\":15,\"fWindowTopX\":0,\"fWindowTopY\":0,\"fWindowWidth\":0,\"fWindowHeight\":0,\"fCw\":796,\"fCh\":572,\"fCatt\":{\"_typename\":\"TAttCanvas\",\"fXBetween\":2,\"fYBetween\":2,\"fTitleFromTop\":1.2,\"fXdate\":0.2,\"fYdate\":0.3,\"fAdate\":1},\"kMoveOpaque\":true,\"kResizeOpaque\":true,\"fHighLightColor\":2,\"fBatch\":true,\"kShowEventStatus\":false,\"kAutoExec\":true,\"kMenuBar\":true});\n",
       "       Core.draw(\"root_plot_68\", obj, \"\");\n",
       "     }\n",
       " );\n",
       "</script>\n"
      ],
      "text/plain": [
       "<IPython.core.display.HTML object>"
      ]
     },
     "metadata": {},
     "output_type": "display_data"
    },
    {
     "data": {
      "text/html": [
       "\n",
       "<div id=\"root_plot_69\"\n",
       "     style=\"width: 796px; height: 572px\">\n",
       "</div>\n",
       "\n",
       "<script>\n",
       " requirejs.config({\n",
       "     paths: {\n",
       "       'JSRootCore' : 'https://root.cern.ch/js/notebook//scripts/JSRootCore',\n",
       "     }\n",
       "   });\n",
       " require(['JSRootCore'],\n",
       "     function(Core) {\n",
       "       var obj = Core.JSONR_unref({\"_typename\":\"TCanvas\",\"fUniqueID\":0,\"fBits\":53673992,\"fLineColor\":1,\"fLineStyle\":1,\"fLineWidth\":1,\"fFillColor\":0,\"fFillStyle\":1001,\"fLeftMargin\":0.13,\"fRightMargin\":0.3,\"fBottomMargin\":0.13,\"fTopMargin\":0.1,\"fXfile\":2,\"fYfile\":2,\"fAfile\":1,\"fXstat\":0.99,\"fYstat\":0.99,\"fAstat\":2,\"fFrameFillColor\":0,\"fFrameLineColor\":1,\"fFrameFillStyle\":1001,\"fFrameLineStyle\":1,\"fFrameLineWidth\":1,\"fFrameBorderSize\":1,\"fFrameBorderMode\":0,\"fX1\":-25.0421046588559,\"fY1\":-0.185714283502611,\"fX2\":167.58947670572,\"fY2\":1.24285714852456,\"fXtoAbsPixelk\":103.480046204376,\"fXtoPixelk\":103.480046204376,\"fXtoPixel\":4.13224038530569,\"fYtoAbsPixelk\":497.640051065433,\"fYtoPixelk\":497.640051065433,\"fYtoPixel\":-400.399999031424,\"fUtoAbsPixelk\":5e-5,\"fUtoPixelk\":5e-5,\"fUtoPixel\":796,\"fVtoAbsPixelk\":572.00005,\"fVtoPixelk\":572,\"fVtoPixel\":-572,\"fAbsPixeltoXk\":-25.0421046588559,\"fPixeltoXk\":-25.0421046588559,\"fPixeltoX\":0.241999474076101,\"fAbsPixeltoYk\":1.24285714852456,\"fPixeltoYk\":-0.185714283502611,\"fPixeltoY\":-0.00249750250354401,\"fXlowNDC\":0,\"fYlowNDC\":0,\"fXUpNDC\":0,\"fYUpNDC\":0,\"fWNDC\":1,\"fHNDC\":1,\"fAbsXlowNDC\":0,\"fAbsYlowNDC\":0,\"fAbsWNDC\":1,\"fAbsHNDC\":1,\"fUxmin\":0,\"fUymin\":0,\"fUxmax\":109.8,\"fUymax\":1.1,\"fTheta\":30,\"fPhi\":30,\"fAspectRatio\":0,\"fNumber\":0,\"fTickx\":0,\"fTicky\":0,\"fLogx\":0,\"fLogy\":0,\"fLogz\":0,\"fPadPaint\":0,\"fCrosshair\":0,\"fCrosshairPos\":0,\"fBorderSize\":2,\"fBorderMode\":0,\"fModified\":false,\"fGridx\":false,\"fGridy\":false,\"fAbsCoord\":false,\"fEditable\":true,\"fFixedAspectRatio\":false,\"fPrimitives\":{\"_typename\":\"TList\",\"name\":\"TList\",\"arr\":[{\"_typename\":\"TFrame\",\"fUniqueID\":0,\"fBits\":50331656,\"fLineColor\":1,\"fLineStyle\":1,\"fLineWidth\":1,\"fFillColor\":0,\"fFillStyle\":1001,\"fX1\":0,\"fY1\":0,\"fX2\":109.8,\"fY2\":1.1,\"fBorderSize\":1,\"fBorderMode\":0},{\"_typename\":\"TGraphAsymmErrors\",\"fUniqueID\":0,\"fBits\":50332680,\"fName\":\"087dcd\",\"fTitle\":\"; p_{T}^{GEN} [GeV];\",\"fLineColor\":1,\"fLineStyle\":1,\"fLineWidth\":1,\"fFillColor\":0,\"fFillStyle\":1001,\"fMarkerColor\":1,\"fMarkerStyle\":8,\"fMarkerSize\":0.5,\"fNpoints\":49,\"fX\":[3,5,7,9,11,13,15,17,19,21,23,25,27,29,31,33,35,37,39,41,43,45,47,49,51,53,55,57,59,61,63,65,67,69,71,73,75,77,79,81,83,85,87,89,91,93,95,97,99],\"fY\":[0,0,0,0,0,0,0,0,0,0,0,0.0502692998204668,0.440453686200378,0.793594306049822,0.889087656529517,0.954091816367265,0.974048442906574,0.976190476190476,0.989492119089317,0.996275605214153,0.998144712430427,0.993736951983299,1,1,1,1,1,1,0.998073217726397,1,1,1,1,1,0.998185117967332,1,1,1,1,1,0.998236331569665,1,1,1,0.998178506375228,1,1,1,1],\"fFunctions\":{\"_typename\":\"TList\",\"name\":\"TList\",\"arr\":[{\"_typename\":\"TF1\",\"fUniqueID\":0,\"fBits\":50332680,\"fName\":\"tf_yc\",\"fTitle\":\"tf_yc\",\"fLineColor\":6,\"fLineStyle\":1,\"fLineWidth\":2,\"fFillColor\":19,\"fFillStyle\":0,\"fMarkerColor\":1,\"fMarkerStyle\":1,\"fMarkerSize\":1,\"fXmin\":0,\"fXmax\":100,\"fNpar\":5,\"fNdim\":1,\"fNpx\":100,\"fType\":1,\"fNpfits\":49,\"fNDF\":45,\"fChisquare\":7.08779818596357,\"fMinimum\":-1111,\"fMaximum\":-1111,\"fParErrors\":[0.0301378122912809,0.653069641240426,0.508011296282651,5.11862268956942e-4,0],\"fParMin\":[0,0,0.1,0.9,1],\"fParMax\":[1,50,1,1,1],\"fSave\":[0,0,0,0,0,0,0,0,0,0,0,0,0,0,0,0,0,0,0,0,0,0,8.72468096309564e-179,1.93943432108572e-77,3.18078216471614e-19,0.0577475676417911,0.328669529471019,0.521899742068375,0.659435890791664,0.757330479590007,0.827009255715094,0.876604763514726,0.91190553271147,0.937031685485554,0.954915815706854,0.967645266038872,0.976705751718087,0.983154765509106,0.987745002760091,0.991012212089007,0.993337725175868,0.994992963813104,0.996171118845504,0.997009698400829,0.997606577123298,0.998031419593013,0.998333811213418,0.9985490455617,0.998702243671549,0.998811286029558,0.998888899492623,0.998944142700481,0.998983463353032,0.999011450752334,0.99903137144207,0.999045550461538,0.999055642712144,0.99906282610889,0.999067939060482,0.999071578324038,0.999074168655472,0.999076012384797,0.999077324702509,0.999078258775507,0.999078923623934,0.99907939684544,0.999079733671977,0.999079973416187,0.999080144059767,0.999080265519349,0.999080351971063,0.999080413505105,0.999080457303406,0.999080488477877,0.99908051066704,0.999080526460698,0.999080537702206,0.999080545703614,0.999080551398804,0.99908055545249,0.999080558337796,0.99908056039148,0.999080561853238,0.999080562893679,0.999080563634237,0.999080564161347,0.99908056453653,0.999080564803575,0.99908056499365,0.999080565128941,0.999080565225238,0.999080565293779,0.999080565342565,0.999080565377289,0.999080565402005,0.999080565419597,0.999080565432119,0.999080565441032,0.999080565447375,0.999080565451891,0.999080565455104,0,100],\"fNormalized\":false,\"fNormIntegral\":0,\"fFormula\":null,\"fParams\":{\"_typename\":\"TF1Parameters\",\"fParameters\":[0.339995507095593,24.824918603092,0.10000000211384,0.999080565463041,0],\"fParNames\":[\"#lambda\",\"#mu\",\"#sigma\",\"Plateau\",\"Baseline\"]},\"fComposition_ptr\":null},{\"_typename\":\"TPaveStats\",\"fUniqueID\":0,\"fBits\":50462729,\"fLineColor\":1,\"fLineStyle\":1,\"fLineWidth\":1,\"fFillColor\":0,\"fFillStyle\":1001,\"fX1\":94.3894784279808,\"fY1\":0.692857160818019,\"fX2\":163.736848752585,\"fY2\":1.15000000884877,\"fX1NDC\":0.620000013709068,\"fY1NDC\":0.615000009536743,\"fX2NDC\":0.980000019073486,\"fY2NDC\":0.935000002384186,\"fBorderSize\":1,\"fInit\":1,\"fShadowColor\":1,\"fCornerRadius\":0,\"fOption\":\"brNDC\",\"fName\":\"stats\",\"fTextAngle\":0,\"fTextSize\":0,\"fTextAlign\":12,\"fTextColor\":1,\"fTextFont\":42,\"fLabel\":\"\",\"fLongest\":32,\"fMargin\":0.05,\"fLines\":{\"_typename\":\"TList\",\"name\":\"TList\",\"arr\":[{\"_typename\":\"TLatex\",\"fUniqueID\":0,\"fBits\":50331648,\"fName\":\"\",\"fTitle\":\"#chi^{2} \\/ ndf = 7.088 \\/ 45\",\"fTextAngle\":0,\"fTextSize\":0,\"fTextAlign\":0,\"fTextColor\":0,\"fTextFont\":0,\"fX\":0,\"fY\":0,\"fLineColor\":1,\"fLineStyle\":1,\"fLineWidth\":2,\"fLimitFactorSize\":3,\"fOriginSize\":0.04},{\"_typename\":\"TLatex\",\"fUniqueID\":0,\"fBits\":50331648,\"fName\":\"\",\"fTitle\":\"Prob  =     1\",\"fTextAngle\":0,\"fTextSize\":0,\"fTextAlign\":0,\"fTextColor\":0,\"fTextFont\":0,\"fX\":0,\"fY\":0,\"fLineColor\":1,\"fLineStyle\":1,\"fLineWidth\":2,\"fLimitFactorSize\":3,\"fOriginSize\":0.04},{\"_typename\":\"TLatex\",\"fUniqueID\":0,\"fBits\":50331648,\"fName\":\"\",\"fTitle\":\"#lambda  =  0.34 #pm 0.03014 \",\"fTextAngle\":0,\"fTextSize\":0,\"fTextAlign\":0,\"fTextColor\":0,\"fTextFont\":0,\"fX\":0,\"fY\":0,\"fLineColor\":1,\"fLineStyle\":1,\"fLineWidth\":2,\"fLimitFactorSize\":3,\"fOriginSize\":0.04},{\"_typename\":\"TLatex\",\"fUniqueID\":0,\"fBits\":50331648,\"fName\":\"\",\"fTitle\":\"#mu      = 24.82 #pm 0.6531 \",\"fTextAngle\":0,\"fTextSize\":0,\"fTextAlign\":0,\"fTextColor\":0,\"fTextFont\":0,\"fX\":0,\"fY\":0,\"fLineColor\":1,\"fLineStyle\":1,\"fLineWidth\":2,\"fLimitFactorSize\":3,\"fOriginSize\":0.04},{\"_typename\":\"TLatex\",\"fUniqueID\":0,\"fBits\":50331648,\"fName\":\"\",\"fTitle\":\"#sigma   =   0.1 #pm 0.508 \",\"fTextAngle\":0,\"fTextSize\":0,\"fTextAlign\":0,\"fTextColor\":0,\"fTextFont\":0,\"fX\":0,\"fY\":0,\"fLineColor\":1,\"fLineStyle\":1,\"fLineWidth\":2,\"fLimitFactorSize\":3,\"fOriginSize\":0.04},{\"_typename\":\"TLatex\",\"fUniqueID\":0,\"fBits\":50331648,\"fName\":\"\",\"fTitle\":\"Plateau  = 0.9991 #pm 0.0005119 \",\"fTextAngle\":0,\"fTextSize\":0,\"fTextAlign\":0,\"fTextColor\":0,\"fTextFont\":0,\"fX\":0,\"fY\":0,\"fLineColor\":1,\"fLineStyle\":1,\"fLineWidth\":2,\"fLimitFactorSize\":3,\"fOriginSize\":0.04},{\"_typename\":\"TLatex\",\"fUniqueID\":0,\"fBits\":50331648,\"fName\":\"\",\"fTitle\":\"Baseline =     0 #pm     0 \",\"fTextAngle\":0,\"fTextSize\":0,\"fTextAlign\":0,\"fTextColor\":0,\"fTextFont\":0,\"fX\":0,\"fY\":0,\"fLineColor\":1,\"fLineStyle\":1,\"fLineWidth\":2,\"fLimitFactorSize\":3,\"fOriginSize\":0.04}],\"opt\":[\"\",\"\",\"\",\"\",\"\",\"\",\"\"]},\"fOptFit\":11111,\"fOptStat\":0,\"fFitFormat\":\"5.4g\",\"fStatFormat\":\"6.4g\",\"fParent\":{\"$ref\":4}}],\"opt\":[\"\",\"brNDC\"]},\"fHistogram\":{\"_typename\":\"TH1F\",\"fUniqueID\":0,\"fBits\":50331648,\"fName\":\"087dcd\",\"fTitle\":\"\",\"fLineColor\":602,\"fLineStyle\":1,\"fLineWidth\":1,\"fFillColor\":0,\"fFillStyle\":1001,\"fMarkerColor\":1,\"fMarkerStyle\":1,\"fMarkerSize\":1,\"fNcells\":102,\"fXaxis\":{\"_typename\":\"TAxis\",\"fUniqueID\":0,\"fBits\":50331656,\"fName\":\"xaxis\",\"fTitle\":\" p_{T}^{GEN} [GeV]\",\"fNdivisions\":510,\"fAxisColor\":1,\"fLabelColor\":1,\"fLabelFont\":42,\"fLabelOffset\":0.005,\"fLabelSize\":0.035,\"fTickLength\":0.03,\"fTitleOffset\":1.4,\"fTitleSize\":0.035,\"fTitleColor\":1,\"fTitleFont\":42,\"fNbins\":100,\"fXmin\":0,\"fXmax\":109.8,\"fXbins\":[],\"fFirst\":0,\"fLast\":0,\"fBits2\":0,\"fTimeDisplay\":false,\"fTimeFormat\":\"\",\"fLabels\":null,\"fModLabs\":null},\"fYaxis\":{\"_typename\":\"TAxis\",\"fUniqueID\":0,\"fBits\":50331656,\"fName\":\"yaxis\",\"fTitle\":\"L1 matched to GEN and p_{T}>th.\\/L1 matched to GEN\",\"fNdivisions\":510,\"fAxisColor\":1,\"fLabelColor\":1,\"fLabelFont\":42,\"fLabelOffset\":0.005,\"fLabelSize\":0.035,\"fTickLength\":0.03,\"fTitleOffset\":0,\"fTitleSize\":0.035,\"fTitleColor\":1,\"fTitleFont\":42,\"fNbins\":1,\"fXmin\":0,\"fXmax\":1.1,\"fXbins\":[],\"fFirst\":0,\"fLast\":0,\"fBits2\":0,\"fTimeDisplay\":false,\"fTimeFormat\":\"\",\"fLabels\":null,\"fModLabs\":null},\"fZaxis\":{\"_typename\":\"TAxis\",\"fUniqueID\":0,\"fBits\":50331648,\"fName\":\"zaxis\",\"fTitle\":\"\",\"fNdivisions\":510,\"fAxisColor\":1,\"fLabelColor\":1,\"fLabelFont\":42,\"fLabelOffset\":0.005,\"fLabelSize\":0.035,\"fTickLength\":0.03,\"fTitleOffset\":1,\"fTitleSize\":0.035,\"fTitleColor\":1,\"fTitleFont\":42,\"fNbins\":1,\"fXmin\":0,\"fXmax\":1,\"fXbins\":[],\"fFirst\":0,\"fLast\":0,\"fBits2\":0,\"fTimeDisplay\":false,\"fTimeFormat\":\"\",\"fLabels\":null,\"fModLabs\":null},\"fBarOffset\":0,\"fBarWidth\":1000,\"fEntries\":0,\"fTsumw\":0,\"fTsumw2\":0,\"fTsumwx\":0,\"fTsumwx2\":0,\"fMaximum\":1.1,\"fMinimum\":0,\"fNormFactor\":0,\"fContour\":[],\"fSumw2\":[],\"fOption\":\"\",\"fFunctions\":{\"_typename\":\"TList\",\"name\":\"TList\",\"arr\":[],\"opt\":[]},\"fBufferSize\":0,\"fBuffer\":[],\"fBinStatErrOpt\":0,\"fStatOverflows\":2,\"fArray\":[0,0,0,0,0,0,0,0,0,0,0,0,0,0,0,0,0,0,0,0,0,0,0,0,0,0,0,0,0,0,0,0,0,0,0,0,0,0,0,0,0,0,0,0,0,0,0,0,0,0,0,0,0,0,0,0,0,0,0,0,0,0,0,0,0,0,0,0,0,0,0,0,0,0,0,0,0,0,0,0,0,0,0,0,0,0,0,0,0,0,0,0,0,0,0,0,0,0,0,0,0,0]},\"fMinimum\":-1111,\"fMaximum\":-1111,\"fEXlow\":[1,1,1,1,1,1,1,1,1,1,1,1,1,1,1,1,1,1,1,1,1,1,1,1,1,1,1,1,1,1,1,1,1,1,1,1,1,1,1,1,1,1,1,1,1,1,1,1,1],\"fEXhigh\":[1,1,1,1,1,1,1,1,1,1,1,1,1,1,1,1,1,1,1,1,1,1,1,1,1,1,1,1,1,1,1,1,1,1,1,1,1,1,1,1,1,1,1,1,1,1,1,1,1],\"fEYlow\":[0,0,0,0,0,0,0,0,0,0,0,0.00928416251786372,0.0223902304428655,0.0184995230428741,0.0149169323506969,0.0113676289710131,0.00843059491084452,0.0080830736970553,0.00622340824213274,0.00489102281364318,0.00425323911974607,0.00605464111324661,0.00327047951878845,0.0034288498968823,0.00313674526478314,0.00363177180340413,0.00346759968683441,0.00329388516268869,0.00441661900035606,0.00323031020388143,0.00320221671456578,0.00345458614095473,0.00352739487057507,0.00344166990678307,0.00416088718716279,0.00335389164746014,0.00323031020388143,0.00336001276404729,0.00351392951655349,0.00357534734320342,0.00404381431912104,0.00349392314601682,0.00346108068132667,0.00325890099174631,0.00417599965672255,0.00352064931846152,0.00328214061364762,0.00353416632119274,0.00365339285463007],\"fEYhigh\":[0.0204731563007113,0.00664817075517102,0.00427229336386818,0.00355463756421048,0.00327629969013888,0.0038441021671747,0.00344811592825358,0.00342247564062798,0.00341612503995261,0.00336615626450458,0.00330571406500252,0.0110538242345198,0.0226249399509335,0.0174014425788238,0.0134326486040538,0.00936363177015309,0.00657748587130047,0.00624604350688207,0.00416031395022631,0.0024052547689194,0.00153483098793661,0.00340667917604376,0,0,0,0,0,0,0.00159397874586675,0,0,0,0,0,0.00150140344772509,0,0,0,0,0,0.00145903445440587,0,0,0,0.00150687322100829,0,0,0,0]},{\"_typename\":\"TLatex\",\"fUniqueID\":0,\"fBits\":50348040,\"fName\":\"\",\"fTitle\":\"PU0, EG, hwQual 5, p_{T}^{L1}>=25GeV, 1.52 < |#eta^{GEN}| <= 2.4\",\"fTextAngle\":0,\"fTextSize\":0.03,\"fTextAlign\":11,\"fTextColor\":1,\"fTextFont\":62,\"fX\":0.15,\"fY\":0.85,\"fLineColor\":1,\"fLineStyle\":1,\"fLineWidth\":2,\"fLimitFactorSize\":3,\"fOriginSize\":0.04},{\"_typename\":\"TLatex\",\"fUniqueID\":0,\"fBits\":50331656,\"fName\":\"\",\"fTitle\":\"\",\"fTextAngle\":0,\"fTextSize\":0.03,\"fTextAlign\":11,\"fTextColor\":1,\"fTextFont\":62,\"fX\":0,\"fY\":0,\"fLineColor\":1,\"fLineStyle\":1,\"fLineWidth\":2,\"fLimitFactorSize\":3,\"fOriginSize\":0.04},{\"_typename\":\"TLine\",\"fUniqueID\":0,\"fBits\":50331656,\"fLineColor\":1,\"fLineStyle\":2,\"fLineWidth\":1,\"fX1\":0,\"fY1\":0.95,\"fX2\":109.8,\"fY2\":0.95},{\"_typename\":\"TLine\",\"fUniqueID\":0,\"fBits\":50331656,\"fLineColor\":1,\"fLineStyle\":2,\"fLineWidth\":1,\"fX1\":0,\"fY1\":1,\"fX2\":109.8,\"fY2\":1},{\"_typename\":\"TGraphErrors\",\"fUniqueID\":0,\"fBits\":50332680,\"fName\":\"Graph\",\"fTitle\":\"Fitted line with .95 conf. band\",\"fLineColor\":1,\"fLineStyle\":1,\"fLineWidth\":1,\"fFillColor\":0,\"fFillStyle\":1000,\"fMarkerColor\":1,\"fMarkerStyle\":1,\"fMarkerSize\":1,\"fNpoints\":49,\"fX\":[3,5,7,9,11,13,15,17,19,21,23,25,27,29,31,33,35,37,39,41,43,45,47,49,51,53,55,57,59,61,63,65,67,69,71,73,75,77,79,81,83,85,87,89,91,93,95,97,99],\"fY\":[0,0,0,0,0,0,0,0,0,0,1.93943432108572e-77,0.0577475676417911,0.521899742068375,0.757330479590007,0.876604763514726,0.937031685485554,0.967645266038872,0.983154765509106,0.991012212089007,0.994992963813104,0.997009698400829,0.998031419593013,0.9985490455617,0.998811286029558,0.998944142700481,0.999011450752334,0.999045550461538,0.99906282610889,0.999071578324038,0.999076012384797,0.999078258775507,0.99907939684544,0.999079973416187,0.999080265519349,0.999080413505105,0.999080488477877,0.999080526460698,0.999080545703614,0.99908055545249,0.99908056039148,0.999080562893679,0.999080564161347,0.999080564803575,0.999080565128941,0.999080565293779,0.999080565377289,0.999080565419597,0.999080565441032,0.999080565451891],\"fFunctions\":{\"_typename\":\"TList\",\"name\":\"TList\",\"arr\":[],\"opt\":[]},\"fHistogram\":{\"_typename\":\"TH1F\",\"fUniqueID\":0,\"fBits\":50332168,\"fName\":\"Graph\",\"fTitle\":\"Fitted line with .95 conf. band\",\"fLineColor\":602,\"fLineStyle\":1,\"fLineWidth\":1,\"fFillColor\":0,\"fFillStyle\":1001,\"fMarkerColor\":1,\"fMarkerStyle\":1,\"fMarkerSize\":1,\"fNcells\":102,\"fXaxis\":{\"_typename\":\"TAxis\",\"fUniqueID\":0,\"fBits\":50331648,\"fName\":\"xaxis\",\"fTitle\":\"\",\"fNdivisions\":510,\"fAxisColor\":1,\"fLabelColor\":1,\"fLabelFont\":42,\"fLabelOffset\":0.005,\"fLabelSize\":0.035,\"fTickLength\":0.03,\"fTitleOffset\":1,\"fTitleSize\":0.035,\"fTitleColor\":1,\"fTitleFont\":42,\"fNbins\":100,\"fXmin\":0,\"fXmax\":108.6,\"fXbins\":[],\"fFirst\":0,\"fLast\":0,\"fBits2\":0,\"fTimeDisplay\":false,\"fTimeFormat\":\"\",\"fLabels\":null,\"fModLabs\":null},\"fYaxis\":{\"_typename\":\"TAxis\",\"fUniqueID\":0,\"fBits\":50331648,\"fName\":\"yaxis\",\"fTitle\":\"\",\"fNdivisions\":510,\"fAxisColor\":1,\"fLabelColor\":1,\"fLabelFont\":42,\"fLabelOffset\":0.005,\"fLabelSize\":0.035,\"fTickLength\":0.03,\"fTitleOffset\":0,\"fTitleSize\":0.035,\"fTitleColor\":1,\"fTitleFont\":42,\"fNbins\":1,\"fXmin\":-0.86677172068034,\"fXmax\":1.17084958226006,\"fXbins\":[],\"fFirst\":0,\"fLast\":0,\"fBits2\":0,\"fTimeDisplay\":false,\"fTimeFormat\":\"\",\"fLabels\":null,\"fModLabs\":null},\"fZaxis\":{\"_typename\":\"TAxis\",\"fUniqueID\":0,\"fBits\":50331648,\"fName\":\"zaxis\",\"fTitle\":\"\",\"fNdivisions\":510,\"fAxisColor\":1,\"fLabelColor\":1,\"fLabelFont\":42,\"fLabelOffset\":0.005,\"fLabelSize\":0.035,\"fTickLength\":0.03,\"fTitleOffset\":1,\"fTitleSize\":0.035,\"fTitleColor\":1,\"fTitleFont\":42,\"fNbins\":1,\"fXmin\":0,\"fXmax\":1,\"fXbins\":[],\"fFirst\":0,\"fLast\":0,\"fBits2\":0,\"fTimeDisplay\":false,\"fTimeFormat\":\"\",\"fLabels\":null,\"fModLabs\":null},\"fBarOffset\":0,\"fBarWidth\":1000,\"fEntries\":0,\"fTsumw\":0,\"fTsumw2\":0,\"fTsumwx\":0,\"fTsumwx2\":0,\"fMaximum\":1.17084958226006,\"fMinimum\":-0.86677172068034,\"fNormFactor\":0,\"fContour\":[],\"fSumw2\":[],\"fOption\":\"\",\"fFunctions\":{\"_typename\":\"TList\",\"name\":\"TList\",\"arr\":[],\"opt\":[]},\"fBufferSize\":0,\"fBuffer\":[],\"fBinStatErrOpt\":0,\"fStatOverflows\":2,\"fArray\":[0,0,0,0,0,0,0,0,0,0,0,0,0,0,0,0,0,0,0,0,0,0,0,0,0,0,0,0,0,0,0,0,0,0,0,0,0,0,0,0,0,0,0,0,0,0,0,0,0,0,0,0,0,0,0,0,0,0,0,0,0,0,0,0,0,0,0,0,0,0,0,0,0,0,0,0,0,0,0,0,0,0,0,0,0,0,0,0,0,0,0,0,0,0,0,0,0,0,0,0,0,0]},\"fMinimum\":-1111,\"fMaximum\":-1111,\"fEX\":[0,0,0,0,0,0,0,0,0,0,0,0,0,0,0,0,0,0,0,0,0,0,0,0,0,0,0,0,0,0,0,0,0,0,0,0,0,0,0,0,0,0,0,0,0,0,0,0,0],\"fEY\":[0,0,0,0,0,0,0,0,0,0,8.92985571615039e-75,0.754717513077097,0.325833920154259,0.140348382949235,0.0686443334708987,0.0390526410509114,0.0239493766448519,0.0148015852050299,0.00901862541206945,0.00546239373911199,0.0034291358858143,0.00242511105679339,0.00204108562328266,0.00193945102399482,0.00192940386990449,0.0019395066980599,0.00194998527861325,0.00195723129517675,0.00196163769499506,0.00196416630042193,0.00196557401903158,0.00196634427817333,0.00196676129576765,0.00196698550433709,0.00196710546184373,0.00196716940699368,0.00196720339426993,0.0019672214145897,0.00196723094890402,0.00196723598395382,0.00196723863841429,0.00196724003566476,0.00196724077014064,0.00196724115567872,0.00196724135785169,0.00196724146367582,0.00196724151907826,0.00196724154801798,0.0019672415631371]}],\"opt\":[\"\",\"pa\",\"same\",\"same\",\"same\",\"same\",\"\"]},\"fExecs\":null,\"fName\":\"c_a5ed45\",\"fTitle\":\"c_a5ed45\",\"fNumPaletteColor\":0,\"fNextPaletteColor\":0,\"fDISPLAY\":\"$DISPLAY\",\"fDoubleBuffer\":0,\"fRetained\":true,\"fXsizeUser\":0,\"fYsizeUser\":0,\"fXsizeReal\":20,\"fYsizeReal\":15,\"fWindowTopX\":0,\"fWindowTopY\":0,\"fWindowWidth\":0,\"fWindowHeight\":0,\"fCw\":796,\"fCh\":572,\"fCatt\":{\"_typename\":\"TAttCanvas\",\"fXBetween\":2,\"fYBetween\":2,\"fTitleFromTop\":1.2,\"fXdate\":0.2,\"fYdate\":0.3,\"fAdate\":1},\"kMoveOpaque\":true,\"kResizeOpaque\":true,\"fHighLightColor\":2,\"fBatch\":true,\"kShowEventStatus\":false,\"kAutoExec\":true,\"kMenuBar\":true});\n",
       "       Core.draw(\"root_plot_69\", obj, \"\");\n",
       "     }\n",
       " );\n",
       "</script>\n"
      ],
      "text/plain": [
       "<IPython.core.display.HTML object>"
      ]
     },
     "metadata": {},
     "output_type": "display_data"
    },
    {
     "data": {
      "text/html": [
       "\n",
       "<div id=\"root_plot_70\"\n",
       "     style=\"width: 796px; height: 572px\">\n",
       "</div>\n",
       "\n",
       "<script>\n",
       " requirejs.config({\n",
       "     paths: {\n",
       "       'JSRootCore' : 'https://root.cern.ch/js/notebook//scripts/JSRootCore',\n",
       "     }\n",
       "   });\n",
       " require(['JSRootCore'],\n",
       "     function(Core) {\n",
       "       var obj = Core.JSONR_unref({\"_typename\":\"TCanvas\",\"fUniqueID\":0,\"fBits\":53673992,\"fLineColor\":1,\"fLineStyle\":1,\"fLineWidth\":1,\"fFillColor\":0,\"fFillStyle\":1001,\"fLeftMargin\":0.13,\"fRightMargin\":0.3,\"fBottomMargin\":0.13,\"fTopMargin\":0.1,\"fXfile\":2,\"fYfile\":2,\"fAfile\":1,\"fXstat\":0.99,\"fYstat\":0.99,\"fAstat\":2,\"fFrameFillColor\":0,\"fFrameLineColor\":1,\"fFrameFillStyle\":1001,\"fFrameLineStyle\":1,\"fFrameLineWidth\":1,\"fFrameBorderSize\":1,\"fFrameBorderMode\":0,\"fX1\":-25.0421046588559,\"fY1\":-0.185714283502611,\"fX2\":167.58947670572,\"fY2\":1.24285714852456,\"fXtoAbsPixelk\":103.480046204376,\"fXtoPixelk\":103.480046204376,\"fXtoPixel\":4.13224038530569,\"fYtoAbsPixelk\":497.640051065433,\"fYtoPixelk\":497.640051065433,\"fYtoPixel\":-400.399999031424,\"fUtoAbsPixelk\":5e-5,\"fUtoPixelk\":5e-5,\"fUtoPixel\":796,\"fVtoAbsPixelk\":572.00005,\"fVtoPixelk\":572,\"fVtoPixel\":-572,\"fAbsPixeltoXk\":-25.0421046588559,\"fPixeltoXk\":-25.0421046588559,\"fPixeltoX\":0.241999474076101,\"fAbsPixeltoYk\":1.24285714852456,\"fPixeltoYk\":-0.185714283502611,\"fPixeltoY\":-0.00249750250354401,\"fXlowNDC\":0,\"fYlowNDC\":0,\"fXUpNDC\":0,\"fYUpNDC\":0,\"fWNDC\":1,\"fHNDC\":1,\"fAbsXlowNDC\":0,\"fAbsYlowNDC\":0,\"fAbsWNDC\":1,\"fAbsHNDC\":1,\"fUxmin\":0,\"fUymin\":0,\"fUxmax\":109.8,\"fUymax\":1.1,\"fTheta\":30,\"fPhi\":30,\"fAspectRatio\":0,\"fNumber\":0,\"fTickx\":0,\"fTicky\":0,\"fLogx\":0,\"fLogy\":0,\"fLogz\":0,\"fPadPaint\":0,\"fCrosshair\":0,\"fCrosshairPos\":0,\"fBorderSize\":2,\"fBorderMode\":0,\"fModified\":false,\"fGridx\":false,\"fGridy\":false,\"fAbsCoord\":false,\"fEditable\":true,\"fFixedAspectRatio\":false,\"fPrimitives\":{\"_typename\":\"TList\",\"name\":\"TList\",\"arr\":[{\"_typename\":\"TFrame\",\"fUniqueID\":0,\"fBits\":50331656,\"fLineColor\":1,\"fLineStyle\":1,\"fLineWidth\":1,\"fFillColor\":0,\"fFillStyle\":1001,\"fX1\":0,\"fY1\":0,\"fX2\":109.8,\"fY2\":1.1,\"fBorderSize\":1,\"fBorderMode\":0},{\"_typename\":\"TGraphAsymmErrors\",\"fUniqueID\":0,\"fBits\":50332680,\"fName\":\"28360d\",\"fTitle\":\"; p_{T}^{GEN} [GeV];\",\"fLineColor\":1,\"fLineStyle\":1,\"fLineWidth\":1,\"fFillColor\":0,\"fFillStyle\":1001,\"fMarkerColor\":1,\"fMarkerStyle\":8,\"fMarkerSize\":0.5,\"fNpoints\":49,\"fX\":[3,5,7,9,11,13,15,17,19,21,23,25,27,29,31,33,35,37,39,41,43,45,47,49,51,53,55,57,59,61,63,65,67,69,71,73,75,77,79,81,83,85,87,89,91,93,95,97,99],\"fY\":[0,0,0,0,0,0,0,0,0,0,0,0,0,0.0124555160142349,0.223613595706619,0.620758483033932,0.828719723183391,0.914965986394558,0.968476357267951,0.983240223463687,0.987012987012987,0.983298538622129,0.994661921708185,0.996268656716418,0.998293515358362,1,1,1,0.996146435452794,1,1,1,1,1,0.998185117967332,1,1,1,1,1,0.998236331569665,1,1,1,0.998178506375228,1,1,1,1],\"fFunctions\":{\"_typename\":\"TList\",\"name\":\"TList\",\"arr\":[{\"_typename\":\"TF1\",\"fUniqueID\":0,\"fBits\":50332680,\"fName\":\"tf_yc\",\"fTitle\":\"tf_yc\",\"fLineColor\":6,\"fLineStyle\":1,\"fLineWidth\":2,\"fFillColor\":19,\"fFillStyle\":0,\"fMarkerColor\":1,\"fMarkerStyle\":1,\"fMarkerSize\":1,\"fXmin\":0,\"fXmax\":100,\"fNpar\":5,\"fNdim\":1,\"fNpx\":100,\"fType\":1,\"fNpfits\":49,\"fNDF\":45,\"fChisquare\":8.3554882050992,\"fMinimum\":-1111,\"fMaximum\":-1111,\"fParErrors\":[0.0346167955974587,0.644374868846763,0.708023502510077,5.48711573066185e-4,0],\"fParMin\":[0,0,0.1,0.9,1],\"fParMax\":[1,50,1,1,1],\"fSave\":[0,0,0,0,0,9.20663908528692e-298,1.27505162139137e-274,1.99126466430751e-252,3.50782921630794e-231,6.97281791569919e-211,1.56463464718344e-191,3.96509136052868e-173,1.13543497630888e-155,3.67631638770925e-139,1.34687331396501e-123,5.58839358273837e-109,2.62878270059482e-95,1.40375554633429e-82,8.52296682323791e-71,5.89552045854531e-60,4.65795813475812e-50,4.21752832182827e-41,4.39584454348785e-33,5.30648838110624e-26,7.48412328798771e-20,1.24933441977955e-14,2.51918746235993e-10,6.34881569283501e-7,2.12717985140961e-4,0.0107010677883535,0.103879113798877,0.309760797214321,0.503686373113861,0.645215886647707,0.746324327456301,0.818532904764034,0.870102041868247,0.906931127834379,0.93323332425003,0.952017541075931,0.965432648931807,0.975013304886368,0.98185551364874,0.986742007952462,0.990231791355685,0.992724086945211,0.994504007527053,0.995775171866862,0.996682998202084,0.997331339749367,0.997794365270466,0.998125043805704,0.998361204208714,0.998529862679122,0.998650313352807,0.998736335506074,0.998797769872743,0.99884164440116,0.998872978235107,0.998895355892149,0.998911337324091,0.998922750769494,0.998930901899909,0.998936723185656,0.998940880568254,0.998943849642582,0.998945970063822,0.998947484403222,0.99894856589768,0.998949338267639,0.998949889870424,0.998950283808107,0.998950565146241,0.998950766069252,0.998950909562265,0.998951012040546,0.998951085227371,0.998951137495142,0.998951174823171,0.998951201481697,0.998951220520393,0.998951234117243,0.998951243827693,0.998951250762597,0.998951255715291,0.998951259252352,0.998951261778412,0.998951263582446,0.998951264870832,0.998951265790957,0.998951266448082,0.99895126691738,0.998951267252539,0.998951267491899,0.998951267662842,0.998951267784924,0.998951267872112,0.998951267934379,0.998951267978848,0.998951268010606,0.998951268033287,0,100],\"fNormalized\":false,\"fNormIntegral\":0,\"fFormula\":null,\"fParams\":{\"_typename\":\"TF1Parameters\",\"fParameters\":[0.336635462904187,29.8390797347099,0.676367172353587,0.998951268089956,0],\"fParNames\":[\"#lambda\",\"#mu\",\"#sigma\",\"Plateau\",\"Baseline\"]},\"fComposition_ptr\":null},{\"_typename\":\"TPaveStats\",\"fUniqueID\":0,\"fBits\":50462729,\"fLineColor\":1,\"fLineStyle\":1,\"fLineWidth\":1,\"fFillColor\":0,\"fFillStyle\":1001,\"fX1\":94.3894784279808,\"fY1\":0.692857160818019,\"fX2\":163.736848752585,\"fY2\":1.15000000884877,\"fX1NDC\":0.620000013709068,\"fY1NDC\":0.615000009536743,\"fX2NDC\":0.980000019073486,\"fY2NDC\":0.935000002384186,\"fBorderSize\":1,\"fInit\":1,\"fShadowColor\":1,\"fCornerRadius\":0,\"fOption\":\"brNDC\",\"fName\":\"stats\",\"fTextAngle\":0,\"fTextSize\":0,\"fTextAlign\":12,\"fTextColor\":1,\"fTextFont\":42,\"fLabel\":\"\",\"fLongest\":31,\"fMargin\":0.05,\"fLines\":{\"_typename\":\"TList\",\"name\":\"TList\",\"arr\":[{\"_typename\":\"TLatex\",\"fUniqueID\":0,\"fBits\":50331648,\"fName\":\"\",\"fTitle\":\"#chi^{2} \\/ ndf = 8.355 \\/ 45\",\"fTextAngle\":0,\"fTextSize\":0,\"fTextAlign\":0,\"fTextColor\":0,\"fTextFont\":0,\"fX\":0,\"fY\":0,\"fLineColor\":1,\"fLineStyle\":1,\"fLineWidth\":2,\"fLimitFactorSize\":3,\"fOriginSize\":0.04},{\"_typename\":\"TLatex\",\"fUniqueID\":0,\"fBits\":50331648,\"fName\":\"\",\"fTitle\":\"Prob  =     1\",\"fTextAngle\":0,\"fTextSize\":0,\"fTextAlign\":0,\"fTextColor\":0,\"fTextFont\":0,\"fX\":0,\"fY\":0,\"fLineColor\":1,\"fLineStyle\":1,\"fLineWidth\":2,\"fLimitFactorSize\":3,\"fOriginSize\":0.04},{\"_typename\":\"TLatex\",\"fUniqueID\":0,\"fBits\":50331648,\"fName\":\"\",\"fTitle\":\"#lambda  = 0.3366 #pm 0.03462 \",\"fTextAngle\":0,\"fTextSize\":0,\"fTextAlign\":0,\"fTextColor\":0,\"fTextFont\":0,\"fX\":0,\"fY\":0,\"fLineColor\":1,\"fLineStyle\":1,\"fLineWidth\":2,\"fLimitFactorSize\":3,\"fOriginSize\":0.04},{\"_typename\":\"TLatex\",\"fUniqueID\":0,\"fBits\":50331648,\"fName\":\"\",\"fTitle\":\"#mu      = 29.84 #pm 0.6444 \",\"fTextAngle\":0,\"fTextSize\":0,\"fTextAlign\":0,\"fTextColor\":0,\"fTextFont\":0,\"fX\":0,\"fY\":0,\"fLineColor\":1,\"fLineStyle\":1,\"fLineWidth\":2,\"fLimitFactorSize\":3,\"fOriginSize\":0.04},{\"_typename\":\"TLatex\",\"fUniqueID\":0,\"fBits\":50331648,\"fName\":\"\",\"fTitle\":\"#sigma   = 0.6764 #pm 0.708 \",\"fTextAngle\":0,\"fTextSize\":0,\"fTextAlign\":0,\"fTextColor\":0,\"fTextFont\":0,\"fX\":0,\"fY\":0,\"fLineColor\":1,\"fLineStyle\":1,\"fLineWidth\":2,\"fLimitFactorSize\":3,\"fOriginSize\":0.04},{\"_typename\":\"TLatex\",\"fUniqueID\":0,\"fBits\":50331648,\"fName\":\"\",\"fTitle\":\"Plateau  = 0.999 #pm 0.0005487 \",\"fTextAngle\":0,\"fTextSize\":0,\"fTextAlign\":0,\"fTextColor\":0,\"fTextFont\":0,\"fX\":0,\"fY\":0,\"fLineColor\":1,\"fLineStyle\":1,\"fLineWidth\":2,\"fLimitFactorSize\":3,\"fOriginSize\":0.04},{\"_typename\":\"TLatex\",\"fUniqueID\":0,\"fBits\":50331648,\"fName\":\"\",\"fTitle\":\"Baseline =     0 #pm     0 \",\"fTextAngle\":0,\"fTextSize\":0,\"fTextAlign\":0,\"fTextColor\":0,\"fTextFont\":0,\"fX\":0,\"fY\":0,\"fLineColor\":1,\"fLineStyle\":1,\"fLineWidth\":2,\"fLimitFactorSize\":3,\"fOriginSize\":0.04}],\"opt\":[\"\",\"\",\"\",\"\",\"\",\"\",\"\"]},\"fOptFit\":11111,\"fOptStat\":0,\"fFitFormat\":\"5.4g\",\"fStatFormat\":\"6.4g\",\"fParent\":{\"$ref\":4}}],\"opt\":[\"\",\"brNDC\"]},\"fHistogram\":{\"_typename\":\"TH1F\",\"fUniqueID\":0,\"fBits\":50331648,\"fName\":\"28360d\",\"fTitle\":\"\",\"fLineColor\":602,\"fLineStyle\":1,\"fLineWidth\":1,\"fFillColor\":0,\"fFillStyle\":1001,\"fMarkerColor\":1,\"fMarkerStyle\":1,\"fMarkerSize\":1,\"fNcells\":102,\"fXaxis\":{\"_typename\":\"TAxis\",\"fUniqueID\":0,\"fBits\":50331656,\"fName\":\"xaxis\",\"fTitle\":\" p_{T}^{GEN} [GeV]\",\"fNdivisions\":510,\"fAxisColor\":1,\"fLabelColor\":1,\"fLabelFont\":42,\"fLabelOffset\":0.005,\"fLabelSize\":0.035,\"fTickLength\":0.03,\"fTitleOffset\":1.4,\"fTitleSize\":0.035,\"fTitleColor\":1,\"fTitleFont\":42,\"fNbins\":100,\"fXmin\":0,\"fXmax\":109.8,\"fXbins\":[],\"fFirst\":0,\"fLast\":0,\"fBits2\":0,\"fTimeDisplay\":false,\"fTimeFormat\":\"\",\"fLabels\":null,\"fModLabs\":null},\"fYaxis\":{\"_typename\":\"TAxis\",\"fUniqueID\":0,\"fBits\":50331656,\"fName\":\"yaxis\",\"fTitle\":\"L1 matched to GEN and p_{T}>th.\\/L1 matched to GEN\",\"fNdivisions\":510,\"fAxisColor\":1,\"fLabelColor\":1,\"fLabelFont\":42,\"fLabelOffset\":0.005,\"fLabelSize\":0.035,\"fTickLength\":0.03,\"fTitleOffset\":0,\"fTitleSize\":0.035,\"fTitleColor\":1,\"fTitleFont\":42,\"fNbins\":1,\"fXmin\":0,\"fXmax\":1.1,\"fXbins\":[],\"fFirst\":0,\"fLast\":0,\"fBits2\":0,\"fTimeDisplay\":false,\"fTimeFormat\":\"\",\"fLabels\":null,\"fModLabs\":null},\"fZaxis\":{\"_typename\":\"TAxis\",\"fUniqueID\":0,\"fBits\":50331648,\"fName\":\"zaxis\",\"fTitle\":\"\",\"fNdivisions\":510,\"fAxisColor\":1,\"fLabelColor\":1,\"fLabelFont\":42,\"fLabelOffset\":0.005,\"fLabelSize\":0.035,\"fTickLength\":0.03,\"fTitleOffset\":1,\"fTitleSize\":0.035,\"fTitleColor\":1,\"fTitleFont\":42,\"fNbins\":1,\"fXmin\":0,\"fXmax\":1,\"fXbins\":[],\"fFirst\":0,\"fLast\":0,\"fBits2\":0,\"fTimeDisplay\":false,\"fTimeFormat\":\"\",\"fLabels\":null,\"fModLabs\":null},\"fBarOffset\":0,\"fBarWidth\":1000,\"fEntries\":0,\"fTsumw\":0,\"fTsumw2\":0,\"fTsumwx\":0,\"fTsumwx2\":0,\"fMaximum\":1.1,\"fMinimum\":0,\"fNormFactor\":0,\"fContour\":[],\"fSumw2\":[],\"fOption\":\"\",\"fFunctions\":{\"_typename\":\"TList\",\"name\":\"TList\",\"arr\":[],\"opt\":[]},\"fBufferSize\":0,\"fBuffer\":[],\"fBinStatErrOpt\":0,\"fStatOverflows\":2,\"fArray\":[0,0,0,0,0,0,0,0,0,0,0,0,0,0,0,0,0,0,0,0,0,0,0,0,0,0,0,0,0,0,0,0,0,0,0,0,0,0,0,0,0,0,0,0,0,0,0,0,0,0,0,0,0,0,0,0,0,0,0,0,0,0,0,0,0,0,0,0,0,0,0,0,0,0,0,0,0,0,0,0,0,0,0,0,0,0,0,0,0,0,0,0,0,0,0,0,0,0,0,0,0,0]},\"fMinimum\":-1111,\"fMaximum\":-1111,\"fEXlow\":[1,1,1,1,1,1,1,1,1,1,1,1,1,1,1,1,1,1,1,1,1,1,1,1,1,1,1,1,1,1,1,1,1,1,1,1,1,1,1,1,1,1,1,1,1,1,1,1,1],\"fEXhigh\":[1,1,1,1,1,1,1,1,1,1,1,1,1,1,1,1,1,1,1,1,1,1,1,1,1,1,1,1,1,1,1,1,1,1,1,1,1,1,1,1,1,1,1,1,1,1,1,1,1],\"fEYlow\":[0,0,0,0,0,0,0,0,0,0,0,0,0,0.00458224906380351,0.0179858058929791,0.0229041265732677,0.0171271949012902,0.0131135234227056,0.00912771630313558,0.00756048841067813,0.00692504391373783,0.00813343153788737,0.00516518057333282,0.00490010828148568,0.00391307032908195,0.00363177180340413,0.00346759968683441,0.00329388516268869,0.00505989391070327,0.00323031020388143,0.00320221671456578,0.00345458614095473,0.00352739487057507,0.00344166990678307,0.00416088718716279,0.00335389164746014,0.00323031020388143,0.00336001276404729,0.00351392951655349,0.00357534734320342,0.00404381431912104,0.00349392314601682,0.00346108068132667,0.00325890099174631,0.00417599965672255,0.00352064931846152,0.00328214061364762,0.00353416632119274,0.00365339285463007],\"fEYhigh\":[0.0204731563007113,0.00664817075517102,0.00427229336386818,0.00355463756421048,0.00327629969013888,0.0038441021671747,0.00344811592825358,0.00342247564062798,0.00341612503995261,0.00336615626450458,0.00330571406500252,0.00329978901298842,0.00347414329597734,0.00664437962969701,0.0190237224095913,0.02240048851085,0.0159282146496909,0.0115992005037163,0.00729205652435894,0.00546076868963652,0.00477728404605138,0.00575922332143697,0.00290379596154822,0.00240974151247431,0.00141172642069243,0,0,0,0.00248866110621115,0,0,0,0,0,0.00150140344772509,0,0,0,0,0,0.00145903445440587,0,0,0,0.00150687322100829,0,0,0,0]},{\"_typename\":\"TLatex\",\"fUniqueID\":0,\"fBits\":50348040,\"fName\":\"\",\"fTitle\":\"PU0, EG, hwQual 5, p_{T}^{L1}>=30GeV, 1.52 < |#eta^{GEN}| <= 2.4\",\"fTextAngle\":0,\"fTextSize\":0.03,\"fTextAlign\":11,\"fTextColor\":1,\"fTextFont\":62,\"fX\":0.15,\"fY\":0.85,\"fLineColor\":1,\"fLineStyle\":1,\"fLineWidth\":2,\"fLimitFactorSize\":3,\"fOriginSize\":0.04},{\"_typename\":\"TLatex\",\"fUniqueID\":0,\"fBits\":50331656,\"fName\":\"\",\"fTitle\":\"\",\"fTextAngle\":0,\"fTextSize\":0.03,\"fTextAlign\":11,\"fTextColor\":1,\"fTextFont\":62,\"fX\":0,\"fY\":0,\"fLineColor\":1,\"fLineStyle\":1,\"fLineWidth\":2,\"fLimitFactorSize\":3,\"fOriginSize\":0.04},{\"_typename\":\"TLine\",\"fUniqueID\":0,\"fBits\":50331656,\"fLineColor\":1,\"fLineStyle\":2,\"fLineWidth\":1,\"fX1\":0,\"fY1\":0.95,\"fX2\":109.8,\"fY2\":0.95},{\"_typename\":\"TLine\",\"fUniqueID\":0,\"fBits\":50331656,\"fLineColor\":1,\"fLineStyle\":2,\"fLineWidth\":1,\"fX1\":0,\"fY1\":1,\"fX2\":109.8,\"fY2\":1},{\"_typename\":\"TGraphErrors\",\"fUniqueID\":0,\"fBits\":50332680,\"fName\":\"Graph\",\"fTitle\":\"Fitted line with .95 conf. band\",\"fLineColor\":1,\"fLineStyle\":1,\"fLineWidth\":1,\"fFillColor\":0,\"fFillStyle\":1000,\"fMarkerColor\":1,\"fMarkerStyle\":1,\"fMarkerSize\":1,\"fNpoints\":49,\"fX\":[3,5,7,9,11,13,15,17,19,21,23,25,27,29,31,33,35,37,39,41,43,45,47,49,51,53,55,57,59,61,63,65,67,69,71,73,75,77,79,81,83,85,87,89,91,93,95,97,99],\"fY\":[0,9.20663908528692e-298,1.99126466430751e-252,6.97281791569919e-211,3.96509136052868e-173,3.67631638770925e-139,5.58839358273837e-109,1.40375554633429e-82,5.89552045854531e-60,4.21752832182827e-41,5.30648838110624e-26,1.24933441977955e-14,6.34881569283501e-7,0.0107010677883535,0.309760797214321,0.645215886647707,0.818532904764034,0.906931127834379,0.952017541075931,0.975013304886368,0.986742007952462,0.992724086945211,0.995775171866862,0.997331339749367,0.998125043805704,0.998529862679122,0.998736335506074,0.99884164440116,0.998895355892149,0.998922750769494,0.998936723185656,0.998943849642582,0.998947484403222,0.998949338267639,0.998950283808107,0.998950766069252,0.998951012040546,0.998951137495142,0.998951201481697,0.998951234117243,0.998951250762597,0.998951259252352,0.998951263582446,0.998951265790957,0.99895126691738,0.998951267491899,0.998951267784924,0.998951267934379,0.998951268010606],\"fFunctions\":{\"_typename\":\"TList\",\"name\":\"TList\",\"arr\":[],\"opt\":[]},\"fHistogram\":{\"_typename\":\"TH1F\",\"fUniqueID\":0,\"fBits\":50332168,\"fName\":\"Graph\",\"fTitle\":\"Fitted line with .95 conf. band\",\"fLineColor\":602,\"fLineStyle\":1,\"fLineWidth\":1,\"fFillColor\":0,\"fFillStyle\":1001,\"fMarkerColor\":1,\"fMarkerStyle\":1,\"fMarkerSize\":1,\"fNcells\":102,\"fXaxis\":{\"_typename\":\"TAxis\",\"fUniqueID\":0,\"fBits\":50331648,\"fName\":\"xaxis\",\"fTitle\":\"\",\"fNdivisions\":510,\"fAxisColor\":1,\"fLabelColor\":1,\"fLabelFont\":42,\"fLabelOffset\":0.005,\"fLabelSize\":0.035,\"fTickLength\":0.03,\"fTitleOffset\":1,\"fTitleSize\":0.035,\"fTitleColor\":1,\"fTitleFont\":42,\"fNbins\":100,\"fXmin\":0,\"fXmax\":108.6,\"fXbins\":[],\"fFirst\":0,\"fLast\":0,\"fBits2\":0,\"fTimeDisplay\":false,\"fTimeFormat\":\"\",\"fLabels\":null,\"fModLabs\":null},\"fYaxis\":{\"_typename\":\"TAxis\",\"fUniqueID\":0,\"fBits\":50331648,\"fName\":\"yaxis\",\"fTitle\":\"\",\"fNdivisions\":510,\"fAxisColor\":1,\"fLabelColor\":1,\"fLabelFont\":42,\"fLabelOffset\":0.005,\"fLabelSize\":0.035,\"fTickLength\":0.03,\"fTitleOffset\":0,\"fTitleSize\":0.035,\"fTitleColor\":1,\"fTitleFont\":42,\"fNbins\":1,\"fXmin\":-0.301340757222446,\"fXmax\":1.11958702384021,\"fXbins\":[],\"fFirst\":0,\"fLast\":0,\"fBits2\":0,\"fTimeDisplay\":false,\"fTimeFormat\":\"\",\"fLabels\":null,\"fModLabs\":null},\"fZaxis\":{\"_typename\":\"TAxis\",\"fUniqueID\":0,\"fBits\":50331648,\"fName\":\"zaxis\",\"fTitle\":\"\",\"fNdivisions\":510,\"fAxisColor\":1,\"fLabelColor\":1,\"fLabelFont\":42,\"fLabelOffset\":0.005,\"fLabelSize\":0.035,\"fTickLength\":0.03,\"fTitleOffset\":1,\"fTitleSize\":0.035,\"fTitleColor\":1,\"fTitleFont\":42,\"fNbins\":1,\"fXmin\":0,\"fXmax\":1,\"fXbins\":[],\"fFirst\":0,\"fLast\":0,\"fBits2\":0,\"fTimeDisplay\":false,\"fTimeFormat\":\"\",\"fLabels\":null,\"fModLabs\":null},\"fBarOffset\":0,\"fBarWidth\":1000,\"fEntries\":0,\"fTsumw\":0,\"fTsumw2\":0,\"fTsumwx\":0,\"fTsumwx2\":0,\"fMaximum\":1.11958702384021,\"fMinimum\":-0.301340757222446,\"fNormFactor\":0,\"fContour\":[],\"fSumw2\":[],\"fOption\":\"\",\"fFunctions\":{\"_typename\":\"TList\",\"name\":\"TList\",\"arr\":[],\"opt\":[]},\"fBufferSize\":0,\"fBuffer\":[],\"fBinStatErrOpt\":0,\"fStatOverflows\":2,\"fArray\":[0,0,0,0,0,0,0,0,0,0,0,0,0,0,0,0,0,0,0,0,0,0,0,0,0,0,0,0,0,0,0,0,0,0,0,0,0,0,0,0,0,0,0,0,0,0,0,0,0,0,0,0,0,0,0,0,0,0,0,0,0,0,0,0,0,0,0,0,0,0,0,0,0,0,0,0,0,0,0,0,0,0,0,0,0,0,0,0,0,0,0,0,0,0,0,0,0,0,0,0,0,0]},\"fMinimum\":-1111,\"fMaximum\":-1111,\"fEX\":[0,0,0,0,0,0,0,0,0,0,0,0,0,0,0,0,0,0,0,0,0,0,0,0,0,0,0,0,0,0,0,0,0,0,0,0,0,0,0,0,0,0,0,0,0,0,0,0,0],\"fEY\":[0,0,0,0,0,7.29832219176227e-136,8.60958161405331e-106,1.61658042127862e-79,4.82979816416718e-57,2.29357072811873e-38,1.7269492170148e-23,2.04938237196166e-12,3.76592089195744e-5,0.104343939048251,0.492690906014879,0.239607325276749,0.108360773074109,0.0583158144462897,0.0356786915032141,0.0224892723113439,0.0139488522256648,0.00845228847311041,0.00508525634438944,0.00320749289878666,0.00234411844809356,0.00206556624621216,0.0020229445202311,0.00204169248320776,0.00206583464102433,0.00208343580284355,0.00209442756753971,0.00210084922877004,0.0021044749537768,0.00210648284358331,0.00210758172598274,0.00210817848789971,0.0021085008138082,0.00210867420500562,0.00210876717912716,0.00210881689974072,0.00210884342822553,0.00210885755389786,0.00210886506171872,0.00210886904547919,0.00210887115614263,0.00210887227287409,0.00210887286286608,0.00210887317429737,0.00210887333837952]}],\"opt\":[\"\",\"pa\",\"same\",\"same\",\"same\",\"same\",\"\"]},\"fExecs\":null,\"fName\":\"c_facefc\",\"fTitle\":\"c_facefc\",\"fNumPaletteColor\":0,\"fNextPaletteColor\":0,\"fDISPLAY\":\"$DISPLAY\",\"fDoubleBuffer\":0,\"fRetained\":true,\"fXsizeUser\":0,\"fYsizeUser\":0,\"fXsizeReal\":20,\"fYsizeReal\":15,\"fWindowTopX\":0,\"fWindowTopY\":0,\"fWindowWidth\":0,\"fWindowHeight\":0,\"fCw\":796,\"fCh\":572,\"fCatt\":{\"_typename\":\"TAttCanvas\",\"fXBetween\":2,\"fYBetween\":2,\"fTitleFromTop\":1.2,\"fXdate\":0.2,\"fYdate\":0.3,\"fAdate\":1},\"kMoveOpaque\":true,\"kResizeOpaque\":true,\"fHighLightColor\":2,\"fBatch\":true,\"kShowEventStatus\":false,\"kAutoExec\":true,\"kMenuBar\":true});\n",
       "       Core.draw(\"root_plot_70\", obj, \"\");\n",
       "     }\n",
       " );\n",
       "</script>\n"
      ],
      "text/plain": [
       "<IPython.core.display.HTML object>"
      ]
     },
     "metadata": {},
     "output_type": "display_data"
    },
    {
     "data": {
      "text/html": [
       "\n",
       "<div id=\"root_plot_71\"\n",
       "     style=\"width: 796px; height: 572px\">\n",
       "</div>\n",
       "\n",
       "<script>\n",
       " requirejs.config({\n",
       "     paths: {\n",
       "       'JSRootCore' : 'https://root.cern.ch/js/notebook//scripts/JSRootCore',\n",
       "     }\n",
       "   });\n",
       " require(['JSRootCore'],\n",
       "     function(Core) {\n",
       "       var obj = Core.JSONR_unref({\"_typename\":\"TCanvas\",\"fUniqueID\":0,\"fBits\":53673992,\"fLineColor\":1,\"fLineStyle\":1,\"fLineWidth\":1,\"fFillColor\":0,\"fFillStyle\":1001,\"fLeftMargin\":0.13,\"fRightMargin\":0.3,\"fBottomMargin\":0.13,\"fTopMargin\":0.1,\"fXfile\":2,\"fYfile\":2,\"fAfile\":1,\"fXstat\":0.99,\"fYstat\":0.99,\"fAstat\":2,\"fFrameFillColor\":0,\"fFrameLineColor\":1,\"fFrameFillStyle\":1001,\"fFrameLineStyle\":1,\"fFrameLineWidth\":1,\"fFrameBorderSize\":1,\"fFrameBorderMode\":0,\"fX1\":-25.0421046588559,\"fY1\":-0.185714283502611,\"fX2\":167.58947670572,\"fY2\":1.24285714852456,\"fXtoAbsPixelk\":103.480046204376,\"fXtoPixelk\":103.480046204376,\"fXtoPixel\":4.13224038530569,\"fYtoAbsPixelk\":497.640051065433,\"fYtoPixelk\":497.640051065433,\"fYtoPixel\":-400.399999031424,\"fUtoAbsPixelk\":5e-5,\"fUtoPixelk\":5e-5,\"fUtoPixel\":796,\"fVtoAbsPixelk\":572.00005,\"fVtoPixelk\":572,\"fVtoPixel\":-572,\"fAbsPixeltoXk\":-25.0421046588559,\"fPixeltoXk\":-25.0421046588559,\"fPixeltoX\":0.241999474076101,\"fAbsPixeltoYk\":1.24285714852456,\"fPixeltoYk\":-0.185714283502611,\"fPixeltoY\":-0.00249750250354401,\"fXlowNDC\":0,\"fYlowNDC\":0,\"fXUpNDC\":0,\"fYUpNDC\":0,\"fWNDC\":1,\"fHNDC\":1,\"fAbsXlowNDC\":0,\"fAbsYlowNDC\":0,\"fAbsWNDC\":1,\"fAbsHNDC\":1,\"fUxmin\":0,\"fUymin\":0,\"fUxmax\":109.8,\"fUymax\":1.1,\"fTheta\":30,\"fPhi\":30,\"fAspectRatio\":0,\"fNumber\":0,\"fTickx\":0,\"fTicky\":0,\"fLogx\":0,\"fLogy\":0,\"fLogz\":0,\"fPadPaint\":0,\"fCrosshair\":0,\"fCrosshairPos\":0,\"fBorderSize\":2,\"fBorderMode\":0,\"fModified\":false,\"fGridx\":false,\"fGridy\":false,\"fAbsCoord\":false,\"fEditable\":true,\"fFixedAspectRatio\":false,\"fPrimitives\":{\"_typename\":\"TList\",\"name\":\"TList\",\"arr\":[{\"_typename\":\"TFrame\",\"fUniqueID\":0,\"fBits\":50331656,\"fLineColor\":1,\"fLineStyle\":1,\"fLineWidth\":1,\"fFillColor\":0,\"fFillStyle\":1001,\"fX1\":0,\"fY1\":0,\"fX2\":109.8,\"fY2\":1.1,\"fBorderSize\":1,\"fBorderMode\":0},{\"_typename\":\"TGraphAsymmErrors\",\"fUniqueID\":0,\"fBits\":50332680,\"fName\":\"ccc7f3\",\"fTitle\":\"; p_{T}^{GEN} [GeV];\",\"fLineColor\":1,\"fLineStyle\":1,\"fLineWidth\":1,\"fFillColor\":0,\"fFillStyle\":1001,\"fMarkerColor\":1,\"fMarkerStyle\":8,\"fMarkerSize\":0.5,\"fNpoints\":49,\"fX\":[3,5,7,9,11,13,15,17,19,21,23,25,27,29,31,33,35,37,39,41,43,45,47,49,51,53,55,57,59,61,63,65,67,69,71,73,75,77,79,81,83,85,87,89,91,93,95,97,99],\"fY\":[0,0,0,0,0,0,0,0,0,0,0,0,0,0,0,0,0,0,0.0192644483362522,0.202979515828678,0.565862708719852,0.807933194154488,0.895017793594306,0.942164179104478,0.972696245733788,0.978260869565217,0.983018867924528,0.992831541218638,0.996146435452794,0.996485061511424,0.996515679442509,1,1,1,0.998185117967332,1,1,1,1,1,0.998236331569665,1,1,1,0.998178506375228,1,1,1,1],\"fFunctions\":{\"_typename\":\"TList\",\"name\":\"TList\",\"arr\":[{\"_typename\":\"TF1\",\"fUniqueID\":0,\"fBits\":50332680,\"fName\":\"tf_yc\",\"fTitle\":\"tf_yc\",\"fLineColor\":6,\"fLineStyle\":1,\"fLineWidth\":2,\"fFillColor\":19,\"fFillStyle\":0,\"fMarkerColor\":1,\"fMarkerStyle\":1,\"fMarkerSize\":1,\"fXmin\":0,\"fXmax\":100,\"fNpar\":5,\"fNdim\":1,\"fNpx\":100,\"fType\":1,\"fNpfits\":49,\"fNDF\":45,\"fChisquare\":4.69935880244957,\"fMinimum\":-1111,\"fMaximum\":-1111,\"fParErrors\":[0.0259262404397028,0.632915976395569,0.763987879018515,5.97018784301351e-4,0],\"fParMin\":[0,0,0.1,0.9,1],\"fParMax\":[1,50,1,1,1],\"fSave\":[0,0,0,0,0,0,0,0,0,0,0,1.21176648626211e-299,1.6351172810395e-279,4.31579621518841e-260,2.22863161022294e-241,2.25202908588311e-223,4.4542273650938e-206,1.72484859766118e-189,1.30810575198606e-173,1.94356672848223e-158,5.65970958239479e-144,3.23166722590332e-130,3.62016659157041e-117,7.96105523253091e-105,3.43931490409611e-93,2.92154129346247e-82,4.88480399973667e-72,1.60965259055884e-62,1.04701007604574e-53,1.34697255659699e-45,3.435933437865e-38,1.74350405496849e-31,1.7675563971558e-25,3.6013440074977e-20,1.48704655136675e-15,1.25974088403522e-11,2.23119925871971e-8,8.52027629658889e-6,7.39923286800382e-4,0.0161185758829853,0.105853856205258,0.286026058598409,0.465807264033879,0.604069392791153,0.706582560724335,0.782482800340348,0.838678238972401,0.880284527138947,0.911089219781582,0.933896567675936,0.950782797446467,0.963285117189384,0.97254165349608,0.979395058796783,0.984469220735922,0.988226056681692,0.991007563557648,0.993066950928475,0.994591691485396,0.995720587291426,0.996556405381978,0.997175232980382,0.997633403963847,0.997972627118456,0.998223783024823,0.998409735217194,0.998547411524902,0.998649345067402,0.998724815184663,0.998780692165484,0.998822062672103,0.998852692795506,0.998875370894866,0.998892161430895,0.998904592900379,0.998913796980181,0.998920611547445,0.998925656954266,0.998929392500339,0.998932158244501,0.998934205961388,0.998935722061287,0.998936844559675,0.998937675641211,0.998938290961932,0.998938746536475,0.998939083837262,0.998939333569876,0.998939518468283,0.998939655364383,0.998939756720272,0.998939831762702,0.99893988732303,0.998939928459091,0.998939958915635,0.998939981465218,0.998939998160602,0.998940010521623,0.998940019673544,0.998940026449493,0.998940031466308,0,100],\"fNormalized\":false,\"fNormIntegral\":0,\"fFormula\":null,\"fParams\":{\"_typename\":\"TF1Parameters\",\"fParameters\":[0.300584276792447,39.8202699141379,0.782252347387663,0.998940045773586,0],\"fParNames\":[\"#lambda\",\"#mu\",\"#sigma\",\"Plateau\",\"Baseline\"]},\"fComposition_ptr\":null},{\"_typename\":\"TPaveStats\",\"fUniqueID\":0,\"fBits\":50462729,\"fLineColor\":1,\"fLineStyle\":1,\"fLineWidth\":1,\"fFillColor\":0,\"fFillStyle\":1001,\"fX1\":94.3894784279808,\"fY1\":0.692857160818019,\"fX2\":163.736848752585,\"fY2\":1.15000000884877,\"fX1NDC\":0.620000013709068,\"fY1NDC\":0.615000009536743,\"fX2NDC\":0.980000019073486,\"fY2NDC\":0.935000002384186,\"fBorderSize\":1,\"fInit\":1,\"fShadowColor\":1,\"fCornerRadius\":0,\"fOption\":\"brNDC\",\"fName\":\"stats\",\"fTextAngle\":0,\"fTextSize\":0,\"fTextAlign\":12,\"fTextColor\":1,\"fTextFont\":42,\"fLabel\":\"\",\"fLongest\":31,\"fMargin\":0.05,\"fLines\":{\"_typename\":\"TList\",\"name\":\"TList\",\"arr\":[{\"_typename\":\"TLatex\",\"fUniqueID\":0,\"fBits\":50331648,\"fName\":\"\",\"fTitle\":\"#chi^{2} \\/ ndf = 4.699 \\/ 45\",\"fTextAngle\":0,\"fTextSize\":0,\"fTextAlign\":0,\"fTextColor\":0,\"fTextFont\":0,\"fX\":0,\"fY\":0,\"fLineColor\":1,\"fLineStyle\":1,\"fLineWidth\":2,\"fLimitFactorSize\":3,\"fOriginSize\":0.04},{\"_typename\":\"TLatex\",\"fUniqueID\":0,\"fBits\":50331648,\"fName\":\"\",\"fTitle\":\"Prob  =     1\",\"fTextAngle\":0,\"fTextSize\":0,\"fTextAlign\":0,\"fTextColor\":0,\"fTextFont\":0,\"fX\":0,\"fY\":0,\"fLineColor\":1,\"fLineStyle\":1,\"fLineWidth\":2,\"fLimitFactorSize\":3,\"fOriginSize\":0.04},{\"_typename\":\"TLatex\",\"fUniqueID\":0,\"fBits\":50331648,\"fName\":\"\",\"fTitle\":\"#lambda  = 0.3006 #pm 0.02593 \",\"fTextAngle\":0,\"fTextSize\":0,\"fTextAlign\":0,\"fTextColor\":0,\"fTextFont\":0,\"fX\":0,\"fY\":0,\"fLineColor\":1,\"fLineStyle\":1,\"fLineWidth\":2,\"fLimitFactorSize\":3,\"fOriginSize\":0.04},{\"_typename\":\"TLatex\",\"fUniqueID\":0,\"fBits\":50331648,\"fName\":\"\",\"fTitle\":\"#mu      = 39.82 #pm 0.6329 \",\"fTextAngle\":0,\"fTextSize\":0,\"fTextAlign\":0,\"fTextColor\":0,\"fTextFont\":0,\"fX\":0,\"fY\":0,\"fLineColor\":1,\"fLineStyle\":1,\"fLineWidth\":2,\"fLimitFactorSize\":3,\"fOriginSize\":0.04},{\"_typename\":\"TLatex\",\"fUniqueID\":0,\"fBits\":50331648,\"fName\":\"\",\"fTitle\":\"#sigma   = 0.7823 #pm 0.764 \",\"fTextAngle\":0,\"fTextSize\":0,\"fTextAlign\":0,\"fTextColor\":0,\"fTextFont\":0,\"fX\":0,\"fY\":0,\"fLineColor\":1,\"fLineStyle\":1,\"fLineWidth\":2,\"fLimitFactorSize\":3,\"fOriginSize\":0.04},{\"_typename\":\"TLatex\",\"fUniqueID\":0,\"fBits\":50331648,\"fName\":\"\",\"fTitle\":\"Plateau  = 0.9989 #pm 0.000597 \",\"fTextAngle\":0,\"fTextSize\":0,\"fTextAlign\":0,\"fTextColor\":0,\"fTextFont\":0,\"fX\":0,\"fY\":0,\"fLineColor\":1,\"fLineStyle\":1,\"fLineWidth\":2,\"fLimitFactorSize\":3,\"fOriginSize\":0.04},{\"_typename\":\"TLatex\",\"fUniqueID\":0,\"fBits\":50331648,\"fName\":\"\",\"fTitle\":\"Baseline =     0 #pm     0 \",\"fTextAngle\":0,\"fTextSize\":0,\"fTextAlign\":0,\"fTextColor\":0,\"fTextFont\":0,\"fX\":0,\"fY\":0,\"fLineColor\":1,\"fLineStyle\":1,\"fLineWidth\":2,\"fLimitFactorSize\":3,\"fOriginSize\":0.04}],\"opt\":[\"\",\"\",\"\",\"\",\"\",\"\",\"\"]},\"fOptFit\":11111,\"fOptStat\":0,\"fFitFormat\":\"5.4g\",\"fStatFormat\":\"6.4g\",\"fParent\":{\"$ref\":4}}],\"opt\":[\"\",\"brNDC\"]},\"fHistogram\":{\"_typename\":\"TH1F\",\"fUniqueID\":0,\"fBits\":50331648,\"fName\":\"ccc7f3\",\"fTitle\":\"\",\"fLineColor\":602,\"fLineStyle\":1,\"fLineWidth\":1,\"fFillColor\":0,\"fFillStyle\":1001,\"fMarkerColor\":1,\"fMarkerStyle\":1,\"fMarkerSize\":1,\"fNcells\":102,\"fXaxis\":{\"_typename\":\"TAxis\",\"fUniqueID\":0,\"fBits\":50331656,\"fName\":\"xaxis\",\"fTitle\":\" p_{T}^{GEN} [GeV]\",\"fNdivisions\":510,\"fAxisColor\":1,\"fLabelColor\":1,\"fLabelFont\":42,\"fLabelOffset\":0.005,\"fLabelSize\":0.035,\"fTickLength\":0.03,\"fTitleOffset\":1.4,\"fTitleSize\":0.035,\"fTitleColor\":1,\"fTitleFont\":42,\"fNbins\":100,\"fXmin\":0,\"fXmax\":109.8,\"fXbins\":[],\"fFirst\":0,\"fLast\":0,\"fBits2\":0,\"fTimeDisplay\":false,\"fTimeFormat\":\"\",\"fLabels\":null,\"fModLabs\":null},\"fYaxis\":{\"_typename\":\"TAxis\",\"fUniqueID\":0,\"fBits\":50331656,\"fName\":\"yaxis\",\"fTitle\":\"L1 matched to GEN and p_{T}>th.\\/L1 matched to GEN\",\"fNdivisions\":510,\"fAxisColor\":1,\"fLabelColor\":1,\"fLabelFont\":42,\"fLabelOffset\":0.005,\"fLabelSize\":0.035,\"fTickLength\":0.03,\"fTitleOffset\":0,\"fTitleSize\":0.035,\"fTitleColor\":1,\"fTitleFont\":42,\"fNbins\":1,\"fXmin\":0,\"fXmax\":1.1,\"fXbins\":[],\"fFirst\":0,\"fLast\":0,\"fBits2\":0,\"fTimeDisplay\":false,\"fTimeFormat\":\"\",\"fLabels\":null,\"fModLabs\":null},\"fZaxis\":{\"_typename\":\"TAxis\",\"fUniqueID\":0,\"fBits\":50331648,\"fName\":\"zaxis\",\"fTitle\":\"\",\"fNdivisions\":510,\"fAxisColor\":1,\"fLabelColor\":1,\"fLabelFont\":42,\"fLabelOffset\":0.005,\"fLabelSize\":0.035,\"fTickLength\":0.03,\"fTitleOffset\":1,\"fTitleSize\":0.035,\"fTitleColor\":1,\"fTitleFont\":42,\"fNbins\":1,\"fXmin\":0,\"fXmax\":1,\"fXbins\":[],\"fFirst\":0,\"fLast\":0,\"fBits2\":0,\"fTimeDisplay\":false,\"fTimeFormat\":\"\",\"fLabels\":null,\"fModLabs\":null},\"fBarOffset\":0,\"fBarWidth\":1000,\"fEntries\":0,\"fTsumw\":0,\"fTsumw2\":0,\"fTsumwx\":0,\"fTsumwx2\":0,\"fMaximum\":1.1,\"fMinimum\":0,\"fNormFactor\":0,\"fContour\":[],\"fSumw2\":[],\"fOption\":\"\",\"fFunctions\":{\"_typename\":\"TList\",\"name\":\"TList\",\"arr\":[],\"opt\":[]},\"fBufferSize\":0,\"fBuffer\":[],\"fBinStatErrOpt\":0,\"fStatOverflows\":2,\"fArray\":[0,0,0,0,0,0,0,0,0,0,0,0,0,0,0,0,0,0,0,0,0,0,0,0,0,0,0,0,0,0,0,0,0,0,0,0,0,0,0,0,0,0,0,0,0,0,0,0,0,0,0,0,0,0,0,0,0,0,0,0,0,0,0,0,0,0,0,0,0,0,0,0,0,0,0,0,0,0,0,0,0,0,0,0,0,0,0,0,0,0,0,0,0,0,0,0,0,0,0,0,0,0]},\"fMinimum\":-1111,\"fMaximum\":-1111,\"fEXlow\":[1,1,1,1,1,1,1,1,1,1,1,1,1,1,1,1,1,1,1,1,1,1,1,1,1,1,1,1,1,1,1,1,1,1,1,1,1,1,1,1,1,1,1,1,1,1,1,1,1],\"fEXhigh\":[1,1,1,1,1,1,1,1,1,1,1,1,1,1,1,1,1,1,1,1,1,1,1,1,1,1,1,1,1,1,1,1,1,1,1,1,1,1,1,1,1,1,1,1,1,1,1,1,1],\"fEYlow\":[0,0,0,0,0,0,0,0,0,0,0,0,0,0,0,0,0,0,0.00569199128556203,0.0176938602065215,0.0223825509749664,0.0197086377765985,0.0145698704436393,0.0119269291826185,0.00851765085853962,0.00859510594270829,0.00765909113236696,0.00563165492680862,0.00505989391070327,0.00461708032379327,0.00457702471078392,0.00345458614095473,0.00352739487057507,0.00344166990678307,0.00416088718716279,0.00335389164746014,0.00323031020388143,0.00336001276404729,0.00351392951655349,0.00357534734320342,0.00404381431912104,0.00349392314601682,0.00346108068132667,0.00325890099174631,0.00417599965672255,0.00352064931846152,0.00328214061364762,0.00353416632119274,0.00365339285463007],\"fEYhigh\":[0.0204731563007113,0.00664817075517102,0.00427229336386818,0.00355463756421048,0.00327629969013888,0.0038441021671747,0.00344811592825358,0.00342247564062798,0.00341612503995261,0.00336615626450458,0.00330571406500252,0.00329978901298842,0.00347414329597734,0.00327047951878883,0.00328800240050438,0.00366795047711279,0.00318009131927915,0.00312609275709264,0.00763013616538154,0.0188581058439902,0.0221278378689929,0.0183500647563635,0.013068940093655,0.0101262918192618,0.00670156377271347,0.00641922166559672,0.00553261547941308,0.0034276442339024,0.00248866110621115,0.00227000468971761,0.00225023389444057,0,0,0,0.00150140344772509,0,0,0,0,0,0.00145903445440587,0,0,0,0.00150687322100829,0,0,0,0]},{\"_typename\":\"TLatex\",\"fUniqueID\":0,\"fBits\":50348040,\"fName\":\"\",\"fTitle\":\"PU0, EG, hwQual 5, p_{T}^{L1}>=40GeV, 1.52 < |#eta^{GEN}| <= 2.4\",\"fTextAngle\":0,\"fTextSize\":0.03,\"fTextAlign\":11,\"fTextColor\":1,\"fTextFont\":62,\"fX\":0.15,\"fY\":0.85,\"fLineColor\":1,\"fLineStyle\":1,\"fLineWidth\":2,\"fLimitFactorSize\":3,\"fOriginSize\":0.04},{\"_typename\":\"TLatex\",\"fUniqueID\":0,\"fBits\":50331656,\"fName\":\"\",\"fTitle\":\"\",\"fTextAngle\":0,\"fTextSize\":0.03,\"fTextAlign\":11,\"fTextColor\":1,\"fTextFont\":62,\"fX\":0,\"fY\":0,\"fLineColor\":1,\"fLineStyle\":1,\"fLineWidth\":2,\"fLimitFactorSize\":3,\"fOriginSize\":0.04},{\"_typename\":\"TLine\",\"fUniqueID\":0,\"fBits\":50331656,\"fLineColor\":1,\"fLineStyle\":2,\"fLineWidth\":1,\"fX1\":0,\"fY1\":0.95,\"fX2\":109.8,\"fY2\":0.95},{\"_typename\":\"TLine\",\"fUniqueID\":0,\"fBits\":50331656,\"fLineColor\":1,\"fLineStyle\":2,\"fLineWidth\":1,\"fX1\":0,\"fY1\":1,\"fX2\":109.8,\"fY2\":1},{\"_typename\":\"TGraphErrors\",\"fUniqueID\":0,\"fBits\":50332680,\"fName\":\"Graph\",\"fTitle\":\"Fitted line with .95 conf. band\",\"fLineColor\":1,\"fLineStyle\":1,\"fLineWidth\":1,\"fFillColor\":0,\"fFillStyle\":1000,\"fMarkerColor\":1,\"fMarkerStyle\":1,\"fMarkerSize\":1,\"fNpoints\":49,\"fX\":[3,5,7,9,11,13,15,17,19,21,23,25,27,29,31,33,35,37,39,41,43,45,47,49,51,53,55,57,59,61,63,65,67,69,71,73,75,77,79,81,83,85,87,89,91,93,95,97,99],\"fY\":[0,0,0,0,1.21176648626211e-299,4.31579621518841e-260,2.25202908588311e-223,1.72484859766118e-189,1.94356672848223e-158,3.23166722590332e-130,7.96105523253091e-105,2.92154129346247e-82,1.60965259055884e-62,1.34697255659699e-45,1.74350405496849e-31,3.6013440074977e-20,1.25974088403522e-11,8.52027629658889e-6,0.0161185758829853,0.286026058598409,0.604069392791153,0.782482800340348,0.880284527138947,0.933896567675936,0.963285117189384,0.979395058796783,0.988226056681692,0.993066950928475,0.995720587291426,0.997175232980382,0.997972627118456,0.998409735217194,0.998649345067402,0.998780692165484,0.998852692795506,0.998892161430895,0.998913796980181,0.998925656954266,0.998932158244501,0.998935722061287,0.998937675641211,0.998938746536475,0.998939333569876,0.998939655364383,0.998939831762702,0.998939928459091,0.998939981465218,0.998940010521623,0.998940026449493],\"fFunctions\":{\"_typename\":\"TList\",\"name\":\"TList\",\"arr\":[],\"opt\":[]},\"fHistogram\":{\"_typename\":\"TH1F\",\"fUniqueID\":0,\"fBits\":50332168,\"fName\":\"Graph\",\"fTitle\":\"Fitted line with .95 conf. band\",\"fLineColor\":602,\"fLineStyle\":1,\"fLineWidth\":1,\"fFillColor\":0,\"fFillStyle\":1001,\"fMarkerColor\":1,\"fMarkerStyle\":1,\"fMarkerSize\":1,\"fNcells\":102,\"fXaxis\":{\"_typename\":\"TAxis\",\"fUniqueID\":0,\"fBits\":50331648,\"fName\":\"xaxis\",\"fTitle\":\"\",\"fNdivisions\":510,\"fAxisColor\":1,\"fLabelColor\":1,\"fLabelFont\":42,\"fLabelOffset\":0.005,\"fLabelSize\":0.035,\"fTickLength\":0.03,\"fTitleOffset\":1,\"fTitleSize\":0.035,\"fTitleColor\":1,\"fTitleFont\":42,\"fNbins\":100,\"fXmin\":0,\"fXmax\":108.6,\"fXbins\":[],\"fFirst\":0,\"fLast\":0,\"fBits2\":0,\"fTimeDisplay\":false,\"fTimeFormat\":\"\",\"fLabels\":null,\"fModLabs\":null},\"fYaxis\":{\"_typename\":\"TAxis\",\"fUniqueID\":0,\"fBits\":50331648,\"fName\":\"yaxis\",\"fTitle\":\"\",\"fNdivisions\":510,\"fAxisColor\":1,\"fLabelColor\":1,\"fLabelFont\":42,\"fLabelOffset\":0.005,\"fLabelSize\":0.035,\"fTickLength\":0.03,\"fTitleOffset\":0,\"fTitleSize\":0.035,\"fTitleColor\":1,\"fTitleFont\":42,\"fNbins\":1,\"fXmin\":-0.25447857609182,\"fXmax\":1.11539047336422,\"fXbins\":[],\"fFirst\":0,\"fLast\":0,\"fBits2\":0,\"fTimeDisplay\":false,\"fTimeFormat\":\"\",\"fLabels\":null,\"fModLabs\":null},\"fZaxis\":{\"_typename\":\"TAxis\",\"fUniqueID\":0,\"fBits\":50331648,\"fName\":\"zaxis\",\"fTitle\":\"\",\"fNdivisions\":510,\"fAxisColor\":1,\"fLabelColor\":1,\"fLabelFont\":42,\"fLabelOffset\":0.005,\"fLabelSize\":0.035,\"fTickLength\":0.03,\"fTitleOffset\":1,\"fTitleSize\":0.035,\"fTitleColor\":1,\"fTitleFont\":42,\"fNbins\":1,\"fXmin\":0,\"fXmax\":1,\"fXbins\":[],\"fFirst\":0,\"fLast\":0,\"fBits2\":0,\"fTimeDisplay\":false,\"fTimeFormat\":\"\",\"fLabels\":null,\"fModLabs\":null},\"fBarOffset\":0,\"fBarWidth\":1000,\"fEntries\":0,\"fTsumw\":0,\"fTsumw2\":0,\"fTsumwx\":0,\"fTsumwx2\":0,\"fMaximum\":1.11539047336422,\"fMinimum\":-0.25447857609182,\"fNormFactor\":0,\"fContour\":[],\"fSumw2\":[],\"fOption\":\"\",\"fFunctions\":{\"_typename\":\"TList\",\"name\":\"TList\",\"arr\":[],\"opt\":[]},\"fBufferSize\":0,\"fBuffer\":[],\"fBinStatErrOpt\":0,\"fStatOverflows\":2,\"fArray\":[0,0,0,0,0,0,0,0,0,0,0,0,0,0,0,0,0,0,0,0,0,0,0,0,0,0,0,0,0,0,0,0,0,0,0,0,0,0,0,0,0,0,0,0,0,0,0,0,0,0,0,0,0,0,0,0,0,0,0,0,0,0,0,0,0,0,0,0,0,0,0,0,0,0,0,0,0,0,0,0,0,0,0,0,0,0,0,0,0,0,0,0,0,0,0,0,0,0,0,0,0,0]},\"fMinimum\":-1111,\"fMaximum\":-1111,\"fEX\":[0,0,0,0,0,0,0,0,0,0,0,0,0,0,0,0,0,0,0,0,0,0,0,0,0,0,0,0,0,0,0,0,0,0,0,0,0,0,0,0,0,0,0,0,0,0,0,0,0],\"fEY\":[0,0,0,0,0,0,0,0,4.14291331535885e-155,5.62702287058466e-127,1.10628639289279e-101,3.14809186906729e-79,1.29623107429646e-59,7.7176247947593e-43,6.63568797481457e-29,8.21705056981647e-18,1.45608886968983e-9,3.62523679936932e-4,0.123456686220219,0.426348880568892,0.24549649376648,0.114637152555492,0.0595685139643992,0.0355942918834804,0.0230857675703682,0.01521059214865,0.00989624760316603,0.0063554525239858,0.00413133840287859,0.00289305104744746,0.00234576649950877,0.00218436494804848,0.00217492282132531,0.00220434271346614,0.00223459664848094,0.00225702703339409,0.00227184067312291,0.00228109712362794,0.00228670748422334,0.00229004635304512,0.00229201032203043,0.00229315647176156,0.00229382159818636,0.00229420595342583,0.00229442732281355,0.00229455447287666,0.00229462733603581,0.00229466900577443,0.00229469279338862]}],\"opt\":[\"\",\"pa\",\"same\",\"same\",\"same\",\"same\",\"\"]},\"fExecs\":null,\"fName\":\"c_c41c75\",\"fTitle\":\"c_c41c75\",\"fNumPaletteColor\":0,\"fNextPaletteColor\":0,\"fDISPLAY\":\"$DISPLAY\",\"fDoubleBuffer\":0,\"fRetained\":true,\"fXsizeUser\":0,\"fYsizeUser\":0,\"fXsizeReal\":20,\"fYsizeReal\":15,\"fWindowTopX\":0,\"fWindowTopY\":0,\"fWindowWidth\":0,\"fWindowHeight\":0,\"fCw\":796,\"fCh\":572,\"fCatt\":{\"_typename\":\"TAttCanvas\",\"fXBetween\":2,\"fYBetween\":2,\"fTitleFromTop\":1.2,\"fXdate\":0.2,\"fYdate\":0.3,\"fAdate\":1},\"kMoveOpaque\":true,\"kResizeOpaque\":true,\"fHighLightColor\":2,\"fBatch\":true,\"kShowEventStatus\":false,\"kAutoExec\":true,\"kMenuBar\":true});\n",
       "       Core.draw(\"root_plot_71\", obj, \"\");\n",
       "     }\n",
       " );\n",
       "</script>\n"
      ],
      "text/plain": [
       "<IPython.core.display.HTML object>"
      ]
     },
     "metadata": {},
     "output_type": "display_data"
    },
    {
     "data": {
      "text/html": [
       "\n",
       "<div id=\"root_plot_72\"\n",
       "     style=\"width: 796px; height: 572px\">\n",
       "</div>\n",
       "\n",
       "<script>\n",
       " requirejs.config({\n",
       "     paths: {\n",
       "       'JSRootCore' : 'https://root.cern.ch/js/notebook//scripts/JSRootCore',\n",
       "     }\n",
       "   });\n",
       " require(['JSRootCore'],\n",
       "     function(Core) {\n",
       "       var obj = Core.JSONR_unref({\"_typename\":\"TCanvas\",\"fUniqueID\":0,\"fBits\":53673992,\"fLineColor\":1,\"fLineStyle\":1,\"fLineWidth\":1,\"fFillColor\":0,\"fFillStyle\":1001,\"fLeftMargin\":0.13,\"fRightMargin\":0.3,\"fBottomMargin\":0.13,\"fTopMargin\":0.1,\"fXfile\":2,\"fYfile\":2,\"fAfile\":1,\"fXstat\":0.99,\"fYstat\":0.99,\"fAstat\":2,\"fFrameFillColor\":0,\"fFrameLineColor\":1,\"fFrameFillStyle\":1001,\"fFrameLineStyle\":1,\"fFrameLineWidth\":1,\"fFrameBorderSize\":1,\"fFrameBorderMode\":0,\"fX1\":-25.0421046588559,\"fY1\":-0.185714283502611,\"fX2\":167.58947670572,\"fY2\":1.24285714852456,\"fXtoAbsPixelk\":103.480046204376,\"fXtoPixelk\":103.480046204376,\"fXtoPixel\":4.13224038530569,\"fYtoAbsPixelk\":497.640051065433,\"fYtoPixelk\":497.640051065433,\"fYtoPixel\":-400.399999031424,\"fUtoAbsPixelk\":5e-5,\"fUtoPixelk\":5e-5,\"fUtoPixel\":796,\"fVtoAbsPixelk\":572.00005,\"fVtoPixelk\":572,\"fVtoPixel\":-572,\"fAbsPixeltoXk\":-25.0421046588559,\"fPixeltoXk\":-25.0421046588559,\"fPixeltoX\":0.241999474076101,\"fAbsPixeltoYk\":1.24285714852456,\"fPixeltoYk\":-0.185714283502611,\"fPixeltoY\":-0.00249750250354401,\"fXlowNDC\":0,\"fYlowNDC\":0,\"fXUpNDC\":0,\"fYUpNDC\":0,\"fWNDC\":1,\"fHNDC\":1,\"fAbsXlowNDC\":0,\"fAbsYlowNDC\":0,\"fAbsWNDC\":1,\"fAbsHNDC\":1,\"fUxmin\":0,\"fUymin\":0,\"fUxmax\":109.8,\"fUymax\":1.1,\"fTheta\":30,\"fPhi\":30,\"fAspectRatio\":0,\"fNumber\":0,\"fTickx\":0,\"fTicky\":0,\"fLogx\":0,\"fLogy\":0,\"fLogz\":0,\"fPadPaint\":0,\"fCrosshair\":0,\"fCrosshairPos\":0,\"fBorderSize\":2,\"fBorderMode\":0,\"fModified\":false,\"fGridx\":false,\"fGridy\":false,\"fAbsCoord\":false,\"fEditable\":true,\"fFixedAspectRatio\":false,\"fPrimitives\":{\"_typename\":\"TList\",\"name\":\"TList\",\"arr\":[{\"_typename\":\"TFrame\",\"fUniqueID\":0,\"fBits\":50331656,\"fLineColor\":1,\"fLineStyle\":1,\"fLineWidth\":1,\"fFillColor\":0,\"fFillStyle\":1001,\"fX1\":0,\"fY1\":0,\"fX2\":109.8,\"fY2\":1.1,\"fBorderSize\":1,\"fBorderMode\":0},{\"_typename\":\"TGraphAsymmErrors\",\"fUniqueID\":0,\"fBits\":50332680,\"fName\":\"54ed5c\",\"fTitle\":\"; p_{T}^{GEN} [GeV];\",\"fLineColor\":1,\"fLineStyle\":1,\"fLineWidth\":1,\"fFillColor\":0,\"fFillStyle\":1001,\"fMarkerColor\":1,\"fMarkerStyle\":8,\"fMarkerSize\":0.5,\"fNpoints\":49,\"fX\":[3,5,7,9,11,13,15,17,19,21,23,25,27,29,31,33,35,37,39,41,43,45,47,49,51,53,55,57,59,61,63,65,67,69,71,73,75,77,79,81,83,85,87,89,91,93,95,97,99],\"fY\":[0,0.00434782608695652,0.0156739811912226,0.065989847715736,0.407079646017699,0.711111111111111,0.865546218487395,0.916488222698073,0.952282157676348,0.98443579766537,0.978805394990366,0.981060606060606,0.996,0.99814126394052,0.992592592592593,1,0.996396396396396,0.998269896193772,0.998211091234347,1,1,0.997881355932203,1,1,0.996557659208262,0.996023856858847,1,1,0.998058252427184,1,1,1,0.996138996138996,1,1,1,0.99647266313933,0.998165137614679,1,1,1,1,1,0.998230088495575,0.998158379373849,0.998058252427184,0.998201438848921,1,1],\"fFunctions\":{\"_typename\":\"TList\",\"name\":\"TList\",\"arr\":[{\"_typename\":\"TF1\",\"fUniqueID\":0,\"fBits\":50332680,\"fName\":\"tf_yc\",\"fTitle\":\"tf_yc\",\"fLineColor\":6,\"fLineStyle\":1,\"fLineWidth\":2,\"fFillColor\":19,\"fFillStyle\":0,\"fMarkerColor\":1,\"fMarkerStyle\":1,\"fMarkerSize\":1,\"fXmin\":0,\"fXmax\":100,\"fNpar\":5,\"fNdim\":1,\"fNpx\":100,\"fType\":1,\"fNpfits\":49,\"fNDF\":45,\"fChisquare\":21.4935056999392,\"fMinimum\":-1111,\"fMaximum\":-1111,\"fParErrors\":[0.137711249861884,0.901217855004242,0.867513956610686,4.74370190763129e-4,0],\"fParMin\":[0,0,0.1,0.9,1],\"fParMax\":[1,50,1,1,1],\"fSave\":[0,0,0,0,0,3.15610254743208e-262,8.2897723786998e-144,1.90395589063365e-61,6.03928631567672e-15,0.0659763527945566,0.302896285539026,0.479721481535789,0.611589557072211,0.709930685708641,0.783268963697052,0.837961268868674,0.878748267514301,0.909165329901744,0.931848972116267,0.948765386251279,0.961380867684151,0.970788911877971,0.977804997314253,0.983037270232523,0.986939258048932,0.989849180592583,0.992019266612442,0.99363761667604,0.994844507510958,0.995744551030695,0.996415761975367,0.996916320139909,0.99728961333198,0.997567998177373,0.997775604755234,0.997930428165648,0.998045888324276,0.998131993185258,0.998196206219198,0.998244093338238,0.99827980534294,0.998306437708916,0.998326298899107,0.998341110458702,0.9983521562367,0.998360393668471,0.998366536765154,0.998371118003324,0.998374534479453,0.998377082329774,0.998378982399029,0.998380399383044,0.998381456104367,0.998382244158391,0.998382831852735,0.99838327012807,0.998383596973601,0.998383840719923,0.998384022494688,0.998384158053924,0.998384259147749,0.998384334538862,0.998384390762076,0.998384432690756,0.998384463959232,0.998384487277819,0.998384504667746,0.998384517636351,0.998384527307739,0.998384534520214,0.998384539898945,0.998384543910155,0.99838454690153,0.998384549132359,0.998384550796009,0.998384552036682,0.998384552961919,0.998384553651918,0.998384554166488,0.99838455455023,0.998384554836407,0.998384555049825,0.998384555208982,0.998384555327674,0.998384555416189,0.998384555482199,0.998384555531427,0.998384555568138,0.998384555595516,0.998384555615934,0.99838455563116,0.998384555642515,0.998384555650983,0.998384555657298,0.998384555662007,0.998384555665519,0.998384555668138,0.998384555670092,0.998384555671548,0.998384555672635,0.998384555673445,0,100],\"fNormalized\":false,\"fNormIntegral\":0,\"fFormula\":null,\"fParams\":{\"_typename\":\"TF1Parameters\",\"fParameters\":[0.293359656272613,8.76588029290428,0.109564788632849,0.998384555675821,0],\"fParNames\":[\"#lambda\",\"#mu\",\"#sigma\",\"Plateau\",\"Baseline\"]},\"fComposition_ptr\":null},{\"_typename\":\"TPaveStats\",\"fUniqueID\":0,\"fBits\":50462729,\"fLineColor\":1,\"fLineStyle\":1,\"fLineWidth\":1,\"fFillColor\":0,\"fFillStyle\":1001,\"fX1\":94.3894784279808,\"fY1\":0.692857160818019,\"fX2\":163.736848752585,\"fY2\":1.15000000884877,\"fX1NDC\":0.620000013709068,\"fY1NDC\":0.615000009536743,\"fX2NDC\":0.980000019073486,\"fY2NDC\":0.935000002384186,\"fBorderSize\":1,\"fInit\":1,\"fShadowColor\":1,\"fCornerRadius\":0,\"fOption\":\"brNDC\",\"fName\":\"stats\",\"fTextAngle\":0,\"fTextSize\":0,\"fTextAlign\":12,\"fTextColor\":1,\"fTextFont\":42,\"fLabel\":\"\",\"fLongest\":32,\"fMargin\":0.05,\"fLines\":{\"_typename\":\"TList\",\"name\":\"TList\",\"arr\":[{\"_typename\":\"TLatex\",\"fUniqueID\":0,\"fBits\":50331648,\"fName\":\"\",\"fTitle\":\"#chi^{2} \\/ ndf = 21.49 \\/ 45\",\"fTextAngle\":0,\"fTextSize\":0,\"fTextAlign\":0,\"fTextColor\":0,\"fTextFont\":0,\"fX\":0,\"fY\":0,\"fLineColor\":1,\"fLineStyle\":1,\"fLineWidth\":2,\"fLimitFactorSize\":3,\"fOriginSize\":0.04},{\"_typename\":\"TLatex\",\"fUniqueID\":0,\"fBits\":50331648,\"fName\":\"\",\"fTitle\":\"Prob  = 0.9988\",\"fTextAngle\":0,\"fTextSize\":0,\"fTextAlign\":0,\"fTextColor\":0,\"fTextFont\":0,\"fX\":0,\"fY\":0,\"fLineColor\":1,\"fLineStyle\":1,\"fLineWidth\":2,\"fLimitFactorSize\":3,\"fOriginSize\":0.04},{\"_typename\":\"TLatex\",\"fUniqueID\":0,\"fBits\":50331648,\"fName\":\"\",\"fTitle\":\"#lambda  = 0.2934 #pm 0.1377 \",\"fTextAngle\":0,\"fTextSize\":0,\"fTextAlign\":0,\"fTextColor\":0,\"fTextFont\":0,\"fX\":0,\"fY\":0,\"fLineColor\":1,\"fLineStyle\":1,\"fLineWidth\":2,\"fLimitFactorSize\":3,\"fOriginSize\":0.04},{\"_typename\":\"TLatex\",\"fUniqueID\":0,\"fBits\":50331648,\"fName\":\"\",\"fTitle\":\"#mu      = 8.766 #pm 0.9012 \",\"fTextAngle\":0,\"fTextSize\":0,\"fTextAlign\":0,\"fTextColor\":0,\"fTextFont\":0,\"fX\":0,\"fY\":0,\"fLineColor\":1,\"fLineStyle\":1,\"fLineWidth\":2,\"fLimitFactorSize\":3,\"fOriginSize\":0.04},{\"_typename\":\"TLatex\",\"fUniqueID\":0,\"fBits\":50331648,\"fName\":\"\",\"fTitle\":\"#sigma   = 0.1096 #pm 0.8675 \",\"fTextAngle\":0,\"fTextSize\":0,\"fTextAlign\":0,\"fTextColor\":0,\"fTextFont\":0,\"fX\":0,\"fY\":0,\"fLineColor\":1,\"fLineStyle\":1,\"fLineWidth\":2,\"fLimitFactorSize\":3,\"fOriginSize\":0.04},{\"_typename\":\"TLatex\",\"fUniqueID\":0,\"fBits\":50331648,\"fName\":\"\",\"fTitle\":\"Plateau  = 0.9984 #pm 0.0004744 \",\"fTextAngle\":0,\"fTextSize\":0,\"fTextAlign\":0,\"fTextColor\":0,\"fTextFont\":0,\"fX\":0,\"fY\":0,\"fLineColor\":1,\"fLineStyle\":1,\"fLineWidth\":2,\"fLimitFactorSize\":3,\"fOriginSize\":0.04},{\"_typename\":\"TLatex\",\"fUniqueID\":0,\"fBits\":50331648,\"fName\":\"\",\"fTitle\":\"Baseline =     0 #pm     0 \",\"fTextAngle\":0,\"fTextSize\":0,\"fTextAlign\":0,\"fTextColor\":0,\"fTextFont\":0,\"fX\":0,\"fY\":0,\"fLineColor\":1,\"fLineStyle\":1,\"fLineWidth\":2,\"fLimitFactorSize\":3,\"fOriginSize\":0.04}],\"opt\":[\"\",\"\",\"\",\"\",\"\",\"\",\"\"]},\"fOptFit\":11111,\"fOptStat\":0,\"fFitFormat\":\"5.4g\",\"fStatFormat\":\"6.4g\",\"fParent\":{\"$ref\":4}}],\"opt\":[\"\",\"brNDC\"]},\"fHistogram\":{\"_typename\":\"TH1F\",\"fUniqueID\":0,\"fBits\":50331648,\"fName\":\"54ed5c\",\"fTitle\":\"\",\"fLineColor\":602,\"fLineStyle\":1,\"fLineWidth\":1,\"fFillColor\":0,\"fFillStyle\":1001,\"fMarkerColor\":1,\"fMarkerStyle\":1,\"fMarkerSize\":1,\"fNcells\":102,\"fXaxis\":{\"_typename\":\"TAxis\",\"fUniqueID\":0,\"fBits\":50331656,\"fName\":\"xaxis\",\"fTitle\":\" p_{T}^{GEN} [GeV]\",\"fNdivisions\":510,\"fAxisColor\":1,\"fLabelColor\":1,\"fLabelFont\":42,\"fLabelOffset\":0.005,\"fLabelSize\":0.035,\"fTickLength\":0.03,\"fTitleOffset\":1.4,\"fTitleSize\":0.035,\"fTitleColor\":1,\"fTitleFont\":42,\"fNbins\":100,\"fXmin\":0,\"fXmax\":109.8,\"fXbins\":[],\"fFirst\":0,\"fLast\":0,\"fBits2\":0,\"fTimeDisplay\":false,\"fTimeFormat\":\"\",\"fLabels\":null,\"fModLabs\":null},\"fYaxis\":{\"_typename\":\"TAxis\",\"fUniqueID\":0,\"fBits\":50331656,\"fName\":\"yaxis\",\"fTitle\":\"L1 matched to GEN and p_{T}>th.\\/L1 matched to GEN\",\"fNdivisions\":510,\"fAxisColor\":1,\"fLabelColor\":1,\"fLabelFont\":42,\"fLabelOffset\":0.005,\"fLabelSize\":0.035,\"fTickLength\":0.03,\"fTitleOffset\":0,\"fTitleSize\":0.035,\"fTitleColor\":1,\"fTitleFont\":42,\"fNbins\":1,\"fXmin\":0,\"fXmax\":1.1,\"fXbins\":[],\"fFirst\":0,\"fLast\":0,\"fBits2\":0,\"fTimeDisplay\":false,\"fTimeFormat\":\"\",\"fLabels\":null,\"fModLabs\":null},\"fZaxis\":{\"_typename\":\"TAxis\",\"fUniqueID\":0,\"fBits\":50331648,\"fName\":\"zaxis\",\"fTitle\":\"\",\"fNdivisions\":510,\"fAxisColor\":1,\"fLabelColor\":1,\"fLabelFont\":42,\"fLabelOffset\":0.005,\"fLabelSize\":0.035,\"fTickLength\":0.03,\"fTitleOffset\":1,\"fTitleSize\":0.035,\"fTitleColor\":1,\"fTitleFont\":42,\"fNbins\":1,\"fXmin\":0,\"fXmax\":1,\"fXbins\":[],\"fFirst\":0,\"fLast\":0,\"fBits2\":0,\"fTimeDisplay\":false,\"fTimeFormat\":\"\",\"fLabels\":null,\"fModLabs\":null},\"fBarOffset\":0,\"fBarWidth\":1000,\"fEntries\":0,\"fTsumw\":0,\"fTsumw2\":0,\"fTsumwx\":0,\"fTsumwx2\":0,\"fMaximum\":1.1,\"fMinimum\":0,\"fNormFactor\":0,\"fContour\":[],\"fSumw2\":[],\"fOption\":\"\",\"fFunctions\":{\"_typename\":\"TList\",\"name\":\"TList\",\"arr\":[],\"opt\":[]},\"fBufferSize\":0,\"fBuffer\":[],\"fBinStatErrOpt\":0,\"fStatOverflows\":2,\"fArray\":[0,0,0,0,0,0,0,0,0,0,0,0,0,0,0,0,0,0,0,0,0,0,0,0,0,0,0,0,0,0,0,0,0,0,0,0,0,0,0,0,0,0,0,0,0,0,0,0,0,0,0,0,0,0,0,0,0,0,0,0,0,0,0,0,0,0,0,0,0,0,0,0,0,0,0,0,0,0,0,0,0,0,0,0,0,0,0,0,0,0,0,0,0,0,0,0,0,0,0,0,0,0]},\"fMinimum\":-1111,\"fMaximum\":-1111,\"fEXlow\":[1,1,1,1,1,1,1,1,1,1,1,1,1,1,1,1,1,1,1,1,1,1,1,1,1,1,1,1,1,1,1,1,1,1,1,1,1,1,1,1,1,1,1,1,1,1,1,1,1],\"fEXhigh\":[1,1,1,1,1,1,1,1,1,1,1,1,1,1,1,1,1,1,1,1,1,1,1,1,1,1,1,1,1,1,1,1,1,1,1,1,1,1,1,1,1,1,1,1,1,1,1,1,1],\"fEYlow\":[0,0.00359700470743687,0.00675390701030627,0.0125775355655671,0.023971980646127,0.0242786466152904,0.0174988281291973,0.0148423443207968,0.011801727939644,0.00758612483179788,0.00838307260863169,0.00797201759870192,0.00525127590634411,0.00426112050496463,0.00581812491241962,0.00375779220064687,0.00473305947476055,0.00396707576217903,0.0041015155016102,0.0034873048844285,0.00347414329597728,0.0048548710412637,0.00328800240050431,0.00345458614095473,0.00452210043883006,0.00522010093980552,0.00350056657582654,0.00334171607834644,0.00445081284829207,0.00327047951878845,0.00322465214023471,0.00350056657582654,0.00506961820607532,0.00346759968683441,0.00337851090995966,0.00338472230368492,0.0046332995610554,0.00420655633739031,0.00354778751684082,0.00359629985182086,0.00325890099174631,0.00353416632119274,0.00347414329597728,0.00405808687428899,0.00422200298480258,0.00445081284829207,0.00412358026016912,0.00356151411478722,0.00366065719283548],\"fEYhigh\":[0.0110956905950783,0.00992641071108877,0.0104641004966015,0.0150005731964089,0.0244022196889146,0.0231806607049171,0.0158617914276907,0.0129118922599477,0.00972695647166,0.00536835332245655,0.00625928081468041,0.00586143368134096,0.00258321504247794,0.00153768392926579,0.00354179294253965,0,0.00232725778845122,0.00143126649636627,0.0014799157642319,0,0,0.00175270726988774,0,0,0.00222312638759459,0.00256781065272449,0,0,0.00160635959682764,0,0,0,0.00249346472665857,0,0,0,0.00227801062754107,0.00151793320693461,0,0,0,0,0,0.00146419934298714,0.00152352430682134,0.00160635959682764,0.00148790118023034,0,0]},{\"_typename\":\"TLatex\",\"fUniqueID\":0,\"fBits\":50348040,\"fName\":\"\",\"fTitle\":\"PU200, EG, hwQual 5, p_{T}^{L1}>=10GeV, 1.52 < |#eta^{GEN}| <= 2.4\",\"fTextAngle\":0,\"fTextSize\":0.03,\"fTextAlign\":11,\"fTextColor\":1,\"fTextFont\":62,\"fX\":0.15,\"fY\":0.85,\"fLineColor\":1,\"fLineStyle\":1,\"fLineWidth\":2,\"fLimitFactorSize\":3,\"fOriginSize\":0.04},{\"_typename\":\"TLatex\",\"fUniqueID\":0,\"fBits\":50331656,\"fName\":\"\",\"fTitle\":\"\",\"fTextAngle\":0,\"fTextSize\":0.03,\"fTextAlign\":11,\"fTextColor\":1,\"fTextFont\":62,\"fX\":0,\"fY\":0,\"fLineColor\":1,\"fLineStyle\":1,\"fLineWidth\":2,\"fLimitFactorSize\":3,\"fOriginSize\":0.04},{\"_typename\":\"TLine\",\"fUniqueID\":0,\"fBits\":50331656,\"fLineColor\":1,\"fLineStyle\":2,\"fLineWidth\":1,\"fX1\":0,\"fY1\":0.95,\"fX2\":109.8,\"fY2\":0.95},{\"_typename\":\"TLine\",\"fUniqueID\":0,\"fBits\":50331656,\"fLineColor\":1,\"fLineStyle\":2,\"fLineWidth\":1,\"fX1\":0,\"fY1\":1,\"fX2\":109.8,\"fY2\":1},{\"_typename\":\"TGraphErrors\",\"fUniqueID\":0,\"fBits\":50332680,\"fName\":\"Graph\",\"fTitle\":\"Fitted line with .95 conf. band\",\"fLineColor\":1,\"fLineStyle\":1,\"fLineWidth\":1,\"fFillColor\":0,\"fFillStyle\":1000,\"fMarkerColor\":1,\"fMarkerStyle\":1,\"fMarkerSize\":1,\"fNpoints\":49,\"fX\":[3,5,7,9,11,13,15,17,19,21,23,25,27,29,31,33,35,37,39,41,43,45,47,49,51,53,55,57,59,61,63,65,67,69,71,73,75,77,79,81,83,85,87,89,91,93,95,97,99],\"fY\":[0,3.15610254743208e-262,1.90395589063365e-61,0.0659763527945566,0.479721481535789,0.709930685708641,0.837961268868674,0.909165329901744,0.948765386251279,0.970788911877971,0.983037270232523,0.989849180592583,0.99363761667604,0.995744551030695,0.996916320139909,0.997567998177373,0.997930428165648,0.998131993185258,0.998244093338238,0.998306437708916,0.998341110458702,0.998360393668471,0.998371118003324,0.998377082329774,0.998380399383044,0.998382244158391,0.99838327012807,0.998383840719923,0.998384158053924,0.998384334538862,0.998384432690756,0.998384487277819,0.998384517636351,0.998384534520214,0.998384543910155,0.998384549132359,0.998384552036682,0.998384553651918,0.99838455455023,0.998384555049825,0.998384555327674,0.998384555482199,0.998384555568138,0.998384555615934,0.998384555642515,0.998384555657298,0.998384555665519,0.998384555670092,0.998384555672635],\"fFunctions\":{\"_typename\":\"TList\",\"name\":\"TList\",\"arr\":[],\"opt\":[]},\"fHistogram\":{\"_typename\":\"TH1F\",\"fUniqueID\":0,\"fBits\":50332168,\"fName\":\"Graph\",\"fTitle\":\"Fitted line with .95 conf. band\",\"fLineColor\":602,\"fLineStyle\":1,\"fLineWidth\":1,\"fFillColor\":0,\"fFillStyle\":1001,\"fMarkerColor\":1,\"fMarkerStyle\":1,\"fMarkerSize\":1,\"fNcells\":102,\"fXaxis\":{\"_typename\":\"TAxis\",\"fUniqueID\":0,\"fBits\":50331648,\"fName\":\"xaxis\",\"fTitle\":\"\",\"fNdivisions\":510,\"fAxisColor\":1,\"fLabelColor\":1,\"fLabelFont\":42,\"fLabelOffset\":0.005,\"fLabelSize\":0.035,\"fTickLength\":0.03,\"fTitleOffset\":1,\"fTitleSize\":0.035,\"fTitleColor\":1,\"fTitleFont\":42,\"fNbins\":100,\"fXmin\":0,\"fXmax\":108.6,\"fXbins\":[],\"fFirst\":0,\"fLast\":0,\"fBits2\":0,\"fTimeDisplay\":false,\"fTimeFormat\":\"\",\"fLabels\":null,\"fModLabs\":null},\"fYaxis\":{\"_typename\":\"TAxis\",\"fUniqueID\":0,\"fBits\":50331648,\"fName\":\"yaxis\",\"fTitle\":\"\",\"fNdivisions\":510,\"fAxisColor\":1,\"fLabelColor\":1,\"fLabelFont\":42,\"fLabelOffset\":0.005,\"fLabelSize\":0.035,\"fTickLength\":0.03,\"fTitleOffset\":0,\"fTitleSize\":0.035,\"fTitleColor\":1,\"fTitleFont\":42,\"fNbins\":1,\"fXmin\":-2.37121002049008,\"fXmax\":2.50316272607919,\"fXbins\":[],\"fFirst\":0,\"fLast\":0,\"fBits2\":0,\"fTimeDisplay\":false,\"fTimeFormat\":\"\",\"fLabels\":null,\"fModLabs\":null},\"fZaxis\":{\"_typename\":\"TAxis\",\"fUniqueID\":0,\"fBits\":50331648,\"fName\":\"zaxis\",\"fTitle\":\"\",\"fNdivisions\":510,\"fAxisColor\":1,\"fLabelColor\":1,\"fLabelFont\":42,\"fLabelOffset\":0.005,\"fLabelSize\":0.035,\"fTickLength\":0.03,\"fTitleOffset\":1,\"fTitleSize\":0.035,\"fTitleColor\":1,\"fTitleFont\":42,\"fNbins\":1,\"fXmin\":0,\"fXmax\":1,\"fXbins\":[],\"fFirst\":0,\"fLast\":0,\"fBits2\":0,\"fTimeDisplay\":false,\"fTimeFormat\":\"\",\"fLabels\":null,\"fModLabs\":null},\"fBarOffset\":0,\"fBarWidth\":1000,\"fEntries\":0,\"fTsumw\":0,\"fTsumw2\":0,\"fTsumwx\":0,\"fTsumwx2\":0,\"fMaximum\":2.50316272607919,\"fMinimum\":-2.37121002049008,\"fNormFactor\":0,\"fContour\":[],\"fSumw2\":[],\"fOption\":\"\",\"fFunctions\":{\"_typename\":\"TList\",\"name\":\"TList\",\"arr\":[],\"opt\":[]},\"fBufferSize\":0,\"fBuffer\":[],\"fBinStatErrOpt\":0,\"fStatOverflows\":2,\"fArray\":[0,0,0,0,0,0,0,0,0,0,0,0,0,0,0,0,0,0,0,0,0,0,0,0,0,0,0,0,0,0,0,0,0,0,0,0,0,0,0,0,0,0,0,0,0,0,0,0,0,0,0,0,0,0,0,0,0,0,0,0,0,0,0,0,0,0,0,0,0,0,0,0,0,0,0,0,0,0,0,0,0,0,0,0,0,0,0,0,0,0,0,0,0,0,0,0,0,0,0,0,0,0]},\"fMinimum\":-1111,\"fMaximum\":-1111,\"fEX\":[0,0,0,0,0,0,0,0,0,0,0,0,0,0,0,0,0,0,0,0,0,0,0,0,0,0,0,0,0,0,0,0,0,0,0,0,0,0,0,0,0,0,0,0,0,0,0,0,0],\"fEY\":[0,0,1.48798171935902e-55,2.03098864440386,0.784722759362672,0.172409217299522,0.136877232213367,0.164280926884806,0.143137690383938,0.108554373501525,0.0763583189902952,0.0511958699505692,0.0331590334225079,0.0208853611031594,0.0128276487320299,0.0076909171584435,0.00452569692219813,0.00270022965507454,0.0018212150976444,0.00156231915334396,0.00157458551893972,0.00164573294153322,0.0017085513053745,0.00175232020305653,0.00178031701001267,0.00179752274431676,0.00180787124600381,0.00181401656545245,0.00181763639522282,0.00181975699291334,0.00182099429293661,0.00182171411803055,0.00182213182271081,0.00182237371952395,0.00182251360285833,0.00182259435787075,0.00182264086866609,0.00182266769475975,0.00182268308961876,0.0018226919459518,0.00182269704348943,0.00182269995763933,0.0018227016050258,0.00182270256387404,0.00182270311463218,0.00182270343484338,0.00182270360376233,0.00182270369338787,0.00182270377833763]}],\"opt\":[\"\",\"pa\",\"same\",\"same\",\"same\",\"same\",\"\"]},\"fExecs\":null,\"fName\":\"c_2e4f3d\",\"fTitle\":\"c_2e4f3d\",\"fNumPaletteColor\":0,\"fNextPaletteColor\":0,\"fDISPLAY\":\"$DISPLAY\",\"fDoubleBuffer\":0,\"fRetained\":true,\"fXsizeUser\":0,\"fYsizeUser\":0,\"fXsizeReal\":20,\"fYsizeReal\":15,\"fWindowTopX\":0,\"fWindowTopY\":0,\"fWindowWidth\":0,\"fWindowHeight\":0,\"fCw\":796,\"fCh\":572,\"fCatt\":{\"_typename\":\"TAttCanvas\",\"fXBetween\":2,\"fYBetween\":2,\"fTitleFromTop\":1.2,\"fXdate\":0.2,\"fYdate\":0.3,\"fAdate\":1},\"kMoveOpaque\":true,\"kResizeOpaque\":true,\"fHighLightColor\":2,\"fBatch\":true,\"kShowEventStatus\":false,\"kAutoExec\":true,\"kMenuBar\":true});\n",
       "       Core.draw(\"root_plot_72\", obj, \"\");\n",
       "     }\n",
       " );\n",
       "</script>\n"
      ],
      "text/plain": [
       "<IPython.core.display.HTML object>"
      ]
     },
     "metadata": {},
     "output_type": "display_data"
    },
    {
     "data": {
      "text/html": [
       "\n",
       "<div id=\"root_plot_73\"\n",
       "     style=\"width: 796px; height: 572px\">\n",
       "</div>\n",
       "\n",
       "<script>\n",
       " requirejs.config({\n",
       "     paths: {\n",
       "       'JSRootCore' : 'https://root.cern.ch/js/notebook//scripts/JSRootCore',\n",
       "     }\n",
       "   });\n",
       " require(['JSRootCore'],\n",
       "     function(Core) {\n",
       "       var obj = Core.JSONR_unref({\"_typename\":\"TCanvas\",\"fUniqueID\":0,\"fBits\":53673992,\"fLineColor\":1,\"fLineStyle\":1,\"fLineWidth\":1,\"fFillColor\":0,\"fFillStyle\":1001,\"fLeftMargin\":0.13,\"fRightMargin\":0.3,\"fBottomMargin\":0.13,\"fTopMargin\":0.1,\"fXfile\":2,\"fYfile\":2,\"fAfile\":1,\"fXstat\":0.99,\"fYstat\":0.99,\"fAstat\":2,\"fFrameFillColor\":0,\"fFrameLineColor\":1,\"fFrameFillStyle\":1001,\"fFrameLineStyle\":1,\"fFrameLineWidth\":1,\"fFrameBorderSize\":1,\"fFrameBorderMode\":0,\"fX1\":-25.0421046588559,\"fY1\":-0.185714283502611,\"fX2\":167.58947670572,\"fY2\":1.24285714852456,\"fXtoAbsPixelk\":103.480046204376,\"fXtoPixelk\":103.480046204376,\"fXtoPixel\":4.13224038530569,\"fYtoAbsPixelk\":497.640051065433,\"fYtoPixelk\":497.640051065433,\"fYtoPixel\":-400.399999031424,\"fUtoAbsPixelk\":5e-5,\"fUtoPixelk\":5e-5,\"fUtoPixel\":796,\"fVtoAbsPixelk\":572.00005,\"fVtoPixelk\":572,\"fVtoPixel\":-572,\"fAbsPixeltoXk\":-25.0421046588559,\"fPixeltoXk\":-25.0421046588559,\"fPixeltoX\":0.241999474076101,\"fAbsPixeltoYk\":1.24285714852456,\"fPixeltoYk\":-0.185714283502611,\"fPixeltoY\":-0.00249750250354401,\"fXlowNDC\":0,\"fYlowNDC\":0,\"fXUpNDC\":0,\"fYUpNDC\":0,\"fWNDC\":1,\"fHNDC\":1,\"fAbsXlowNDC\":0,\"fAbsYlowNDC\":0,\"fAbsWNDC\":1,\"fAbsHNDC\":1,\"fUxmin\":0,\"fUymin\":0,\"fUxmax\":109.8,\"fUymax\":1.1,\"fTheta\":30,\"fPhi\":30,\"fAspectRatio\":0,\"fNumber\":0,\"fTickx\":0,\"fTicky\":0,\"fLogx\":0,\"fLogy\":0,\"fLogz\":0,\"fPadPaint\":0,\"fCrosshair\":0,\"fCrosshairPos\":0,\"fBorderSize\":2,\"fBorderMode\":0,\"fModified\":false,\"fGridx\":false,\"fGridy\":false,\"fAbsCoord\":false,\"fEditable\":true,\"fFixedAspectRatio\":false,\"fPrimitives\":{\"_typename\":\"TList\",\"name\":\"TList\",\"arr\":[{\"_typename\":\"TFrame\",\"fUniqueID\":0,\"fBits\":50331656,\"fLineColor\":1,\"fLineStyle\":1,\"fLineWidth\":1,\"fFillColor\":0,\"fFillStyle\":1001,\"fX1\":0,\"fY1\":0,\"fX2\":109.8,\"fY2\":1.1,\"fBorderSize\":1,\"fBorderMode\":0},{\"_typename\":\"TGraphAsymmErrors\",\"fUniqueID\":0,\"fBits\":50332680,\"fName\":\"47af09\",\"fTitle\":\"; p_{T}^{GEN} [GeV];\",\"fLineColor\":1,\"fLineStyle\":1,\"fLineWidth\":1,\"fFillColor\":0,\"fFillStyle\":1001,\"fMarkerColor\":1,\"fMarkerStyle\":8,\"fMarkerSize\":0.5,\"fNpoints\":49,\"fX\":[3,5,7,9,11,13,15,17,19,21,23,25,27,29,31,33,35,37,39,41,43,45,47,49,51,53,55,57,59,61,63,65,67,69,71,73,75,77,79,81,83,85,87,89,91,93,95,97,99],\"fY\":[0,0,0,0,0.00221238938053097,0.0296296296296296,0.218487394957983,0.599571734475375,0.821576763485477,0.891050583657588,0.934489402697495,0.965909090909091,0.992,0.994423791821561,0.985185185185185,0.995910020449898,0.996396396396396,0.996539792387543,0.998211091234347,1,1,0.995762711864407,1,1,0.996557659208262,0.996023856858847,1,1,0.996116504854369,1,1,1,0.996138996138996,1,1,1,0.99647266313933,0.998165137614679,0.998069498069498,1,1,1,1,0.998230088495575,0.998158379373849,0.998058252427184,0.998201438848921,1,1],\"fFunctions\":{\"_typename\":\"TList\",\"name\":\"TList\",\"arr\":[{\"_typename\":\"TF1\",\"fUniqueID\":0,\"fBits\":50332680,\"fName\":\"tf_yc\",\"fTitle\":\"tf_yc\",\"fLineColor\":6,\"fLineStyle\":1,\"fLineWidth\":2,\"fFillColor\":19,\"fFillStyle\":0,\"fMarkerColor\":1,\"fMarkerStyle\":1,\"fMarkerSize\":1,\"fXmin\":0,\"fXmax\":100,\"fNpar\":5,\"fNdim\":1,\"fNpx\":100,\"fType\":1,\"fNpfits\":49,\"fNDF\":45,\"fChisquare\":15.3150117581343,\"fMinimum\":-1111,\"fMaximum\":-1111,\"fParErrors\":[0.0251941596792624,0.550181057731801,0.183573634828767,4.29250171691542e-4,0],\"fParMin\":[0,0,0.1,0.9,1],\"fParMax\":[1,50,1,1,1],\"fSave\":[1.00269784853132e-43,5.35749668328514e-38,1.06557796750199e-32,7.90501157636247e-28,2.19284529753831e-23,2.28200301893099e-19,8.94737065706703e-16,1.32945915974996e-12,7.54707246917399e-10,1.65606722152905e-7,1.42938058372632e-5,4.98602471042088e-4,0.00734278496583915,0.0490552746773829,0.166912379679677,0.341703258660417,0.508173591095297,0.637463717172226,0.733028932739327,0.803294966955259,0.854947612010278,0.892917386440424,0.920828904465354,0.941346614936307,0.956429149773496,0.967516296043401,0.97566643882359,0.981657595224022,0.986061684328042,0.989299122902463,0.99167895861323,0.993428371885498,0.994714362671896,0.995659692359807,0.996354602640889,0.996865430032571,0.997240938398464,0.997516973973596,0.997719887265707,0.997869048489203,0.997978696656474,0.998059298841842,0.998118549374229,0.998162104342027,0.998194121526404,0.99821765730538,0.998234958417356,0.99824767643599,0.998257025430332,0.998263897860521,0.998268949772521,0.998272663424629,0.998275393324116,0.998277400068688,0.998278875223285,0.998279959606975,0.998280756735622,0.998281342703564,0.998281773447624,0.998282090086865,0.998282322847845,0.998282493950054,0.998282619727004,0.99828271218543,0.998282780151465,0.998282830113185,0.998282866839962,0.998282893837754,0.998282913683787,0.998282928272572,0.998282938996764,0.9982829468801,0.998282952675127,0.998282956935041,0.998282960066497,0.998282962368426,0.998282964060569,0.998282965304461,0.998282966218844,0.998282966891005,0.99828296738511,0.998282967748326,0.998282968015325,0.998282968211595,0.998282968355874,0.998282968461932,0.998282968539896,0.998282968597207,0.998282968639336,0.998282968670305,0.99828296869307,0.998282968709805,0.998282968722107,0.99828296873115,0.998282968737797,0.998282968742684,0.998282968746276,0.998282968748916,0.998282968750857,0.998282968752284,0.998282968753333,0,100],\"fNormalized\":false,\"fNormIntegral\":0,\"fFormula\":null,\"fParams\":{\"_typename\":\"TF1Parameters\",\"fParameters\":[0.307750997482349,13.5395657863924,0.999999999999999,0.998282968756244,0],\"fParNames\":[\"#lambda\",\"#mu\",\"#sigma\",\"Plateau\",\"Baseline\"]},\"fComposition_ptr\":null},{\"_typename\":\"TPaveStats\",\"fUniqueID\":0,\"fBits\":50462729,\"fLineColor\":1,\"fLineStyle\":1,\"fLineWidth\":1,\"fFillColor\":0,\"fFillStyle\":1001,\"fX1\":94.3894784279808,\"fY1\":0.692857160818019,\"fX2\":163.736848752585,\"fY2\":1.15000000884877,\"fX1NDC\":0.620000013709068,\"fY1NDC\":0.615000009536743,\"fX2NDC\":0.980000019073486,\"fY2NDC\":0.935000002384186,\"fBorderSize\":1,\"fInit\":1,\"fShadowColor\":1,\"fCornerRadius\":0,\"fOption\":\"brNDC\",\"fName\":\"stats\",\"fTextAngle\":0,\"fTextSize\":0,\"fTextAlign\":12,\"fTextColor\":1,\"fTextFont\":42,\"fLabel\":\"\",\"fLongest\":32,\"fMargin\":0.05,\"fLines\":{\"_typename\":\"TList\",\"name\":\"TList\",\"arr\":[{\"_typename\":\"TLatex\",\"fUniqueID\":0,\"fBits\":50331648,\"fName\":\"\",\"fTitle\":\"#chi^{2} \\/ ndf = 15.32 \\/ 45\",\"fTextAngle\":0,\"fTextSize\":0,\"fTextAlign\":0,\"fTextColor\":0,\"fTextFont\":0,\"fX\":0,\"fY\":0,\"fLineColor\":1,\"fLineStyle\":1,\"fLineWidth\":2,\"fLimitFactorSize\":3,\"fOriginSize\":0.04},{\"_typename\":\"TLatex\",\"fUniqueID\":0,\"fBits\":50331648,\"fName\":\"\",\"fTitle\":\"Prob  =     1\",\"fTextAngle\":0,\"fTextSize\":0,\"fTextAlign\":0,\"fTextColor\":0,\"fTextFont\":0,\"fX\":0,\"fY\":0,\"fLineColor\":1,\"fLineStyle\":1,\"fLineWidth\":2,\"fLimitFactorSize\":3,\"fOriginSize\":0.04},{\"_typename\":\"TLatex\",\"fUniqueID\":0,\"fBits\":50331648,\"fName\":\"\",\"fTitle\":\"#lambda  = 0.3078 #pm 0.02519 \",\"fTextAngle\":0,\"fTextSize\":0,\"fTextAlign\":0,\"fTextColor\":0,\"fTextFont\":0,\"fX\":0,\"fY\":0,\"fLineColor\":1,\"fLineStyle\":1,\"fLineWidth\":2,\"fLimitFactorSize\":3,\"fOriginSize\":0.04},{\"_typename\":\"TLatex\",\"fUniqueID\":0,\"fBits\":50331648,\"fName\":\"\",\"fTitle\":\"#mu      = 13.54 #pm 0.5502 \",\"fTextAngle\":0,\"fTextSize\":0,\"fTextAlign\":0,\"fTextColor\":0,\"fTextFont\":0,\"fX\":0,\"fY\":0,\"fLineColor\":1,\"fLineStyle\":1,\"fLineWidth\":2,\"fLimitFactorSize\":3,\"fOriginSize\":0.04},{\"_typename\":\"TLatex\",\"fUniqueID\":0,\"fBits\":50331648,\"fName\":\"\",\"fTitle\":\"#sigma   =     1 #pm 0.1836 \",\"fTextAngle\":0,\"fTextSize\":0,\"fTextAlign\":0,\"fTextColor\":0,\"fTextFont\":0,\"fX\":0,\"fY\":0,\"fLineColor\":1,\"fLineStyle\":1,\"fLineWidth\":2,\"fLimitFactorSize\":3,\"fOriginSize\":0.04},{\"_typename\":\"TLatex\",\"fUniqueID\":0,\"fBits\":50331648,\"fName\":\"\",\"fTitle\":\"Plateau  = 0.9983 #pm 0.0004293 \",\"fTextAngle\":0,\"fTextSize\":0,\"fTextAlign\":0,\"fTextColor\":0,\"fTextFont\":0,\"fX\":0,\"fY\":0,\"fLineColor\":1,\"fLineStyle\":1,\"fLineWidth\":2,\"fLimitFactorSize\":3,\"fOriginSize\":0.04},{\"_typename\":\"TLatex\",\"fUniqueID\":0,\"fBits\":50331648,\"fName\":\"\",\"fTitle\":\"Baseline =     0 #pm     0 \",\"fTextAngle\":0,\"fTextSize\":0,\"fTextAlign\":0,\"fTextColor\":0,\"fTextFont\":0,\"fX\":0,\"fY\":0,\"fLineColor\":1,\"fLineStyle\":1,\"fLineWidth\":2,\"fLimitFactorSize\":3,\"fOriginSize\":0.04}],\"opt\":[\"\",\"\",\"\",\"\",\"\",\"\",\"\"]},\"fOptFit\":11111,\"fOptStat\":0,\"fFitFormat\":\"5.4g\",\"fStatFormat\":\"6.4g\",\"fParent\":{\"$ref\":4}}],\"opt\":[\"\",\"brNDC\"]},\"fHistogram\":{\"_typename\":\"TH1F\",\"fUniqueID\":0,\"fBits\":50331648,\"fName\":\"47af09\",\"fTitle\":\"\",\"fLineColor\":602,\"fLineStyle\":1,\"fLineWidth\":1,\"fFillColor\":0,\"fFillStyle\":1001,\"fMarkerColor\":1,\"fMarkerStyle\":1,\"fMarkerSize\":1,\"fNcells\":102,\"fXaxis\":{\"_typename\":\"TAxis\",\"fUniqueID\":0,\"fBits\":50331656,\"fName\":\"xaxis\",\"fTitle\":\" p_{T}^{GEN} [GeV]\",\"fNdivisions\":510,\"fAxisColor\":1,\"fLabelColor\":1,\"fLabelFont\":42,\"fLabelOffset\":0.005,\"fLabelSize\":0.035,\"fTickLength\":0.03,\"fTitleOffset\":1.4,\"fTitleSize\":0.035,\"fTitleColor\":1,\"fTitleFont\":42,\"fNbins\":100,\"fXmin\":0,\"fXmax\":109.8,\"fXbins\":[],\"fFirst\":0,\"fLast\":0,\"fBits2\":0,\"fTimeDisplay\":false,\"fTimeFormat\":\"\",\"fLabels\":null,\"fModLabs\":null},\"fYaxis\":{\"_typename\":\"TAxis\",\"fUniqueID\":0,\"fBits\":50331656,\"fName\":\"yaxis\",\"fTitle\":\"L1 matched to GEN and p_{T}>th.\\/L1 matched to GEN\",\"fNdivisions\":510,\"fAxisColor\":1,\"fLabelColor\":1,\"fLabelFont\":42,\"fLabelOffset\":0.005,\"fLabelSize\":0.035,\"fTickLength\":0.03,\"fTitleOffset\":0,\"fTitleSize\":0.035,\"fTitleColor\":1,\"fTitleFont\":42,\"fNbins\":1,\"fXmin\":0,\"fXmax\":1.1,\"fXbins\":[],\"fFirst\":0,\"fLast\":0,\"fBits2\":0,\"fTimeDisplay\":false,\"fTimeFormat\":\"\",\"fLabels\":null,\"fModLabs\":null},\"fZaxis\":{\"_typename\":\"TAxis\",\"fUniqueID\":0,\"fBits\":50331648,\"fName\":\"zaxis\",\"fTitle\":\"\",\"fNdivisions\":510,\"fAxisColor\":1,\"fLabelColor\":1,\"fLabelFont\":42,\"fLabelOffset\":0.005,\"fLabelSize\":0.035,\"fTickLength\":0.03,\"fTitleOffset\":1,\"fTitleSize\":0.035,\"fTitleColor\":1,\"fTitleFont\":42,\"fNbins\":1,\"fXmin\":0,\"fXmax\":1,\"fXbins\":[],\"fFirst\":0,\"fLast\":0,\"fBits2\":0,\"fTimeDisplay\":false,\"fTimeFormat\":\"\",\"fLabels\":null,\"fModLabs\":null},\"fBarOffset\":0,\"fBarWidth\":1000,\"fEntries\":0,\"fTsumw\":0,\"fTsumw2\":0,\"fTsumwx\":0,\"fTsumwx2\":0,\"fMaximum\":1.1,\"fMinimum\":0,\"fNormFactor\":0,\"fContour\":[],\"fSumw2\":[],\"fOption\":\"\",\"fFunctions\":{\"_typename\":\"TList\",\"name\":\"TList\",\"arr\":[],\"opt\":[]},\"fBufferSize\":0,\"fBuffer\":[],\"fBinStatErrOpt\":0,\"fStatOverflows\":2,\"fArray\":[0,0,0,0,0,0,0,0,0,0,0,0,0,0,0,0,0,0,0,0,0,0,0,0,0,0,0,0,0,0,0,0,0,0,0,0,0,0,0,0,0,0,0,0,0,0,0,0,0,0,0,0,0,0,0,0,0,0,0,0,0,0,0,0,0,0,0,0,0,0,0,0,0,0,0,0,0,0,0,0,0,0,0,0,0,0,0,0,0,0,0,0,0,0,0,0,0,0,0,0,0,0]},\"fMinimum\":-1111,\"fMaximum\":-1111,\"fEXlow\":[1,1,1,1,1,1,1,1,1,1,1,1,1,1,1,1,1,1,1,1,1,1,1,1,1,1,1,1,1,1,1,1,1,1,1,1,1,1,1,1,1,1,1,1,1,1,1,1,1],\"fEXhigh\":[1,1,1,1,1,1,1,1,1,1,1,1,1,1,1,1,1,1,1,1,1,1,1,1,1,1,1,1,1,1,1,1,1,1,1,1,1,1,1,1,1,1,1,1,1,1,1,1,1],\"fEYlow\":[0,0,0,0,0.0018302637829638,0.00836886699939677,0.0193508949396447,0.0239415310506711,0.0191706757918412,0.0155281223888559,0.0127434492255341,0.00985417553600998,0.00628022214407487,0.00539432533261841,0.00722495993006456,0.00536884112826019,0.00473305947476055,0.00454547717016329,0.0041015155016102,0.0034873048844285,0.00347414329597728,0.00556125786809392,0.00328800240050431,0.00345458614095473,0.00452210043883006,0.00522010093980552,0.00350056657582654,0.00334171607834644,0.00509901665126333,0.00327047951878845,0.00322465214023471,0.00350056657582654,0.00506961820607532,0.00346759968683441,0.00337851090995966,0.00338472230368492,0.0046332995610554,0.00420655633739031,0.00442511811202106,0.00359629985182086,0.00325890099174631,0.00353416632119274,0.00347414329597728,0.00405808687428899,0.00422200298480258,0.00445081284829207,0.00412358026016912,0.00356151411478722,0.00366065719283548],\"fEYhigh\":[0.0110956905950783,0.00797249169425943,0.00575460618350494,0.00466174395275809,0.0050689035352251,0.0110280286617458,0.0205977171517998,0.0234955596017385,0.0177587368338643,0.0139006781882841,0.0109225752818631,0.00787981031035179,0.00382485210689876,0.00303326922138536,0.00511068872194409,0.00264131463224071,0.00232725778845122,0.00223466350376711,0.0014799157642319,0,0,0.00273643054098638,0,0,0.00222312638759459,0.00256781065272449,0,0,0.00250798749953929,0,0,0,0.00249346472665857,0,0,0,0.00227801062754107,0.00151793320693461,0.00159705603204052,0,0,0,0,0.00146419934298714,0.00152352430682134,0.00160635959682764,0.00148790118023034,0,0]},{\"_typename\":\"TLatex\",\"fUniqueID\":0,\"fBits\":50348040,\"fName\":\"\",\"fTitle\":\"PU200, EG, hwQual 5, p_{T}^{L1}>=15GeV, 1.52 < |#eta^{GEN}| <= 2.4\",\"fTextAngle\":0,\"fTextSize\":0.03,\"fTextAlign\":11,\"fTextColor\":1,\"fTextFont\":62,\"fX\":0.15,\"fY\":0.85,\"fLineColor\":1,\"fLineStyle\":1,\"fLineWidth\":2,\"fLimitFactorSize\":3,\"fOriginSize\":0.04},{\"_typename\":\"TLatex\",\"fUniqueID\":0,\"fBits\":50331656,\"fName\":\"\",\"fTitle\":\"\",\"fTextAngle\":0,\"fTextSize\":0.03,\"fTextAlign\":11,\"fTextColor\":1,\"fTextFont\":62,\"fX\":0,\"fY\":0,\"fLineColor\":1,\"fLineStyle\":1,\"fLineWidth\":2,\"fLimitFactorSize\":3,\"fOriginSize\":0.04},{\"_typename\":\"TLine\",\"fUniqueID\":0,\"fBits\":50331656,\"fLineColor\":1,\"fLineStyle\":2,\"fLineWidth\":1,\"fX1\":0,\"fY1\":0.95,\"fX2\":109.8,\"fY2\":0.95},{\"_typename\":\"TLine\",\"fUniqueID\":0,\"fBits\":50331656,\"fLineColor\":1,\"fLineStyle\":2,\"fLineWidth\":1,\"fX1\":0,\"fY1\":1,\"fX2\":109.8,\"fY2\":1},{\"_typename\":\"TGraphErrors\",\"fUniqueID\":0,\"fBits\":50332680,\"fName\":\"Graph\",\"fTitle\":\"Fitted line with .95 conf. band\",\"fLineColor\":1,\"fLineStyle\":1,\"fLineWidth\":1,\"fFillColor\":0,\"fFillStyle\":1000,\"fMarkerColor\":1,\"fMarkerStyle\":1,\"fMarkerSize\":1,\"fNpoints\":49,\"fX\":[3,5,7,9,11,13,15,17,19,21,23,25,27,29,31,33,35,37,39,41,43,45,47,49,51,53,55,57,59,61,63,65,67,69,71,73,75,77,79,81,83,85,87,89,91,93,95,97,99],\"fY\":[7.90501157636247e-28,2.28200301893099e-19,1.32945915974996e-12,1.65606722152905e-7,4.98602471042088e-4,0.0490552746773829,0.341703258660417,0.637463717172226,0.803294966955259,0.892917386440424,0.941346614936307,0.967516296043401,0.981657595224022,0.989299122902463,0.993428371885498,0.995659692359807,0.996865430032571,0.997516973973596,0.997869048489203,0.998059298841842,0.998162104342027,0.99821765730538,0.99824767643599,0.998263897860521,0.998272663424629,0.998277400068688,0.998279959606975,0.998281342703564,0.998282090086865,0.998282493950054,0.99828271218543,0.998282830113185,0.998282893837754,0.998282928272572,0.9982829468801,0.998282956935041,0.998282962368426,0.998282965304461,0.998282966891005,0.998282967748326,0.998282968211595,0.998282968461932,0.998282968597207,0.998282968670305,0.998282968709805,0.99828296873115,0.998282968742684,0.998282968748916,0.998282968752284],\"fFunctions\":{\"_typename\":\"TList\",\"name\":\"TList\",\"arr\":[],\"opt\":[]},\"fHistogram\":{\"_typename\":\"TH1F\",\"fUniqueID\":0,\"fBits\":50332168,\"fName\":\"Graph\",\"fTitle\":\"Fitted line with .95 conf. band\",\"fLineColor\":602,\"fLineStyle\":1,\"fLineWidth\":1,\"fFillColor\":0,\"fFillStyle\":1001,\"fMarkerColor\":1,\"fMarkerStyle\":1,\"fMarkerSize\":1,\"fNcells\":102,\"fXaxis\":{\"_typename\":\"TAxis\",\"fUniqueID\":0,\"fBits\":50331648,\"fName\":\"xaxis\",\"fTitle\":\"\",\"fNdivisions\":510,\"fAxisColor\":1,\"fLabelColor\":1,\"fLabelFont\":42,\"fLabelOffset\":0.005,\"fLabelSize\":0.035,\"fTickLength\":0.03,\"fTitleOffset\":1,\"fTitleSize\":0.035,\"fTitleColor\":1,\"fTitleFont\":42,\"fNbins\":100,\"fXmin\":0,\"fXmax\":108.6,\"fXbins\":[],\"fFirst\":0,\"fLast\":0,\"fBits2\":0,\"fTimeDisplay\":false,\"fTimeFormat\":\"\",\"fLabels\":null,\"fModLabs\":null},\"fYaxis\":{\"_typename\":\"TAxis\",\"fUniqueID\":0,\"fBits\":50331648,\"fName\":\"yaxis\",\"fTitle\":\"\",\"fNdivisions\":510,\"fAxisColor\":1,\"fLabelColor\":1,\"fLabelFont\":42,\"fLabelOffset\":0.005,\"fLabelSize\":0.035,\"fTickLength\":0.03,\"fTitleOffset\":0,\"fTitleSize\":0.035,\"fTitleColor\":1,\"fTitleFont\":42,\"fNbins\":1,\"fXmin\":-0.21097941150055,\"fXmax\":1.11001509103149,\"fXbins\":[],\"fFirst\":0,\"fLast\":0,\"fBits2\":0,\"fTimeDisplay\":false,\"fTimeFormat\":\"\",\"fLabels\":null,\"fModLabs\":null},\"fZaxis\":{\"_typename\":\"TAxis\",\"fUniqueID\":0,\"fBits\":50331648,\"fName\":\"zaxis\",\"fTitle\":\"\",\"fNdivisions\":510,\"fAxisColor\":1,\"fLabelColor\":1,\"fLabelFont\":42,\"fLabelOffset\":0.005,\"fLabelSize\":0.035,\"fTickLength\":0.03,\"fTitleOffset\":1,\"fTitleSize\":0.035,\"fTitleColor\":1,\"fTitleFont\":42,\"fNbins\":1,\"fXmin\":0,\"fXmax\":1,\"fXbins\":[],\"fFirst\":0,\"fLast\":0,\"fBits2\":0,\"fTimeDisplay\":false,\"fTimeFormat\":\"\",\"fLabels\":null,\"fModLabs\":null},\"fBarOffset\":0,\"fBarWidth\":1000,\"fEntries\":0,\"fTsumw\":0,\"fTsumw2\":0,\"fTsumwx\":0,\"fTsumwx2\":0,\"fMaximum\":1.11001509103149,\"fMinimum\":-0.21097941150055,\"fNormFactor\":0,\"fContour\":[],\"fSumw2\":[],\"fOption\":\"\",\"fFunctions\":{\"_typename\":\"TList\",\"name\":\"TList\",\"arr\":[],\"opt\":[]},\"fBufferSize\":0,\"fBuffer\":[],\"fBinStatErrOpt\":0,\"fStatOverflows\":2,\"fArray\":[0,0,0,0,0,0,0,0,0,0,0,0,0,0,0,0,0,0,0,0,0,0,0,0,0,0,0,0,0,0,0,0,0,0,0,0,0,0,0,0,0,0,0,0,0,0,0,0,0,0,0,0,0,0,0,0,0,0,0,0,0,0,0,0,0,0,0,0,0,0,0,0,0,0,0,0,0,0,0,0,0,0,0,0,0,0,0,0,0,0,0,0,0,0,0,0,0,0,0,0,0,0]},\"fMinimum\":-1111,\"fMaximum\":-1111,\"fEX\":[0,0,0,0,0,0,0,0,0,0,0,0,0,0,0,0,0,0,0,0,0,0,0,0,0,0,0,0,0,0,0,0,0,0,0,0,0,0,0,0,0,0,0,0,0,0,0,0,0],\"fEY\":[1.77367487919423e-26,4.1748241440687e-18,1.88727449753634e-11,1.68644910674759e-6,0.00317436257022413,0.149951810966929,0.326340591364651,0.169724189509163,0.0850065236122165,0.0508081526289867,0.0335907233663355,0.0225014555877144,0.014782431177381,0.0094861457932003,0.00599310195259351,0.00380846474557463,0.00255352896535254,0.00193457018044543,0.00169353776089132,0.00162571624645044,0.00161777513793298,0.00162487620949606,0.00163309667954975,0.00163925624190005,0.0016432845929986,0.00164576098937722,0.00164723422068822,0.00164809420888976,0.00164859039743012,0.00164887451455084,0.00164903634765808,0.00164912817433636,0.00164918012374312,0.00164920944244975,0.0016492259552878,0.00164923523917543,0.00164924045044,0.00164924337152953,0.00164924500664729,0.00164924592090312,0.0016492464314706,0.0016492467163095,0.00164924687500128,0.00164924696340722,0.00164924701257052,0.00164924703993259,0.00164924705511519,0.00164924706352411,0.00164924706820534]}],\"opt\":[\"\",\"pa\",\"same\",\"same\",\"same\",\"same\",\"\"]},\"fExecs\":null,\"fName\":\"c_6d3e4e\",\"fTitle\":\"c_6d3e4e\",\"fNumPaletteColor\":0,\"fNextPaletteColor\":0,\"fDISPLAY\":\"$DISPLAY\",\"fDoubleBuffer\":0,\"fRetained\":true,\"fXsizeUser\":0,\"fYsizeUser\":0,\"fXsizeReal\":20,\"fYsizeReal\":15,\"fWindowTopX\":0,\"fWindowTopY\":0,\"fWindowWidth\":0,\"fWindowHeight\":0,\"fCw\":796,\"fCh\":572,\"fCatt\":{\"_typename\":\"TAttCanvas\",\"fXBetween\":2,\"fYBetween\":2,\"fTitleFromTop\":1.2,\"fXdate\":0.2,\"fYdate\":0.3,\"fAdate\":1},\"kMoveOpaque\":true,\"kResizeOpaque\":true,\"fHighLightColor\":2,\"fBatch\":true,\"kShowEventStatus\":false,\"kAutoExec\":true,\"kMenuBar\":true});\n",
       "       Core.draw(\"root_plot_73\", obj, \"\");\n",
       "     }\n",
       " );\n",
       "</script>\n"
      ],
      "text/plain": [
       "<IPython.core.display.HTML object>"
      ]
     },
     "metadata": {},
     "output_type": "display_data"
    },
    {
     "data": {
      "text/html": [
       "\n",
       "<div id=\"root_plot_74\"\n",
       "     style=\"width: 796px; height: 572px\">\n",
       "</div>\n",
       "\n",
       "<script>\n",
       " requirejs.config({\n",
       "     paths: {\n",
       "       'JSRootCore' : 'https://root.cern.ch/js/notebook//scripts/JSRootCore',\n",
       "     }\n",
       "   });\n",
       " require(['JSRootCore'],\n",
       "     function(Core) {\n",
       "       var obj = Core.JSONR_unref({\"_typename\":\"TCanvas\",\"fUniqueID\":0,\"fBits\":53673992,\"fLineColor\":1,\"fLineStyle\":1,\"fLineWidth\":1,\"fFillColor\":0,\"fFillStyle\":1001,\"fLeftMargin\":0.13,\"fRightMargin\":0.3,\"fBottomMargin\":0.13,\"fTopMargin\":0.1,\"fXfile\":2,\"fYfile\":2,\"fAfile\":1,\"fXstat\":0.99,\"fYstat\":0.99,\"fAstat\":2,\"fFrameFillColor\":0,\"fFrameLineColor\":1,\"fFrameFillStyle\":1001,\"fFrameLineStyle\":1,\"fFrameLineWidth\":1,\"fFrameBorderSize\":1,\"fFrameBorderMode\":0,\"fX1\":-25.0421046588559,\"fY1\":-0.185714283502611,\"fX2\":167.58947670572,\"fY2\":1.24285714852456,\"fXtoAbsPixelk\":103.480046204376,\"fXtoPixelk\":103.480046204376,\"fXtoPixel\":4.13224038530569,\"fYtoAbsPixelk\":497.640051065433,\"fYtoPixelk\":497.640051065433,\"fYtoPixel\":-400.399999031424,\"fUtoAbsPixelk\":5e-5,\"fUtoPixelk\":5e-5,\"fUtoPixel\":796,\"fVtoAbsPixelk\":572.00005,\"fVtoPixelk\":572,\"fVtoPixel\":-572,\"fAbsPixeltoXk\":-25.0421046588559,\"fPixeltoXk\":-25.0421046588559,\"fPixeltoX\":0.241999474076101,\"fAbsPixeltoYk\":1.24285714852456,\"fPixeltoYk\":-0.185714283502611,\"fPixeltoY\":-0.00249750250354401,\"fXlowNDC\":0,\"fYlowNDC\":0,\"fXUpNDC\":0,\"fYUpNDC\":0,\"fWNDC\":1,\"fHNDC\":1,\"fAbsXlowNDC\":0,\"fAbsYlowNDC\":0,\"fAbsWNDC\":1,\"fAbsHNDC\":1,\"fUxmin\":0,\"fUymin\":0,\"fUxmax\":109.8,\"fUymax\":1.1,\"fTheta\":30,\"fPhi\":30,\"fAspectRatio\":0,\"fNumber\":0,\"fTickx\":0,\"fTicky\":0,\"fLogx\":0,\"fLogy\":0,\"fLogz\":0,\"fPadPaint\":0,\"fCrosshair\":0,\"fCrosshairPos\":0,\"fBorderSize\":2,\"fBorderMode\":0,\"fModified\":false,\"fGridx\":false,\"fGridy\":false,\"fAbsCoord\":false,\"fEditable\":true,\"fFixedAspectRatio\":false,\"fPrimitives\":{\"_typename\":\"TList\",\"name\":\"TList\",\"arr\":[{\"_typename\":\"TFrame\",\"fUniqueID\":0,\"fBits\":50331656,\"fLineColor\":1,\"fLineStyle\":1,\"fLineWidth\":1,\"fFillColor\":0,\"fFillStyle\":1001,\"fX1\":0,\"fY1\":0,\"fX2\":109.8,\"fY2\":1.1,\"fBorderSize\":1,\"fBorderMode\":0},{\"_typename\":\"TGraphAsymmErrors\",\"fUniqueID\":0,\"fBits\":50332680,\"fName\":\"43118c\",\"fTitle\":\"; p_{T}^{GEN} [GeV];\",\"fLineColor\":1,\"fLineStyle\":1,\"fLineWidth\":1,\"fFillColor\":0,\"fFillStyle\":1001,\"fMarkerColor\":1,\"fMarkerStyle\":8,\"fMarkerSize\":0.5,\"fNpoints\":49,\"fX\":[3,5,7,9,11,13,15,17,19,21,23,25,27,29,31,33,35,37,39,41,43,45,47,49,51,53,55,57,59,61,63,65,67,69,71,73,75,77,79,81,83,85,87,89,91,93,95,97,99],\"fY\":[0,0,0,0,0,0,0,0.012847965738758,0.0995850622406639,0.445525291828794,0.709055876685935,0.884469696969697,0.938,0.968401486988848,0.959259259259259,0.98159509202454,0.992792792792793,0.993079584775087,0.998211091234347,1,1,0.995762711864407,1,1,0.996557659208262,0.996023856858847,1,1,0.996116504854369,1,1,1,0.996138996138996,1,1,1,0.99647266313933,0.998165137614679,0.998069498069498,1,1,1,1,0.998230088495575,0.998158379373849,0.998058252427184,0.998201438848921,1,1],\"fFunctions\":{\"_typename\":\"TList\",\"name\":\"TList\",\"arr\":[{\"_typename\":\"TF1\",\"fUniqueID\":0,\"fBits\":50332680,\"fName\":\"tf_yc\",\"fTitle\":\"tf_yc\",\"fLineColor\":6,\"fLineStyle\":1,\"fLineWidth\":2,\"fFillColor\":19,\"fFillStyle\":0,\"fMarkerColor\":1,\"fMarkerStyle\":1,\"fMarkerSize\":1,\"fXmin\":0,\"fXmax\":100,\"fNpar\":5,\"fNdim\":1,\"fNpx\":100,\"fType\":1,\"fNpfits\":49,\"fNDF\":45,\"fChisquare\":14.1156420322412,\"fMinimum\":-1111,\"fMaximum\":-1111,\"fParErrors\":[0.0202489094263228,0.442040683518941,0.727120694863988,4.4277052832431e-4,0],\"fParMin\":[0,0,0.1,0.9,1],\"fParMax\":[1,50,1,1,1],\"fSave\":[7.50071162874717e-79,5.72828571599611e-71,1.61940245732527e-63,1.69596408231577e-56,6.58559824195831e-50,9.49189520138536e-44,5.08453737851091e-38,1.01386893920557e-32,7.54061219889946e-28,2.09710498453413e-23,2.18794904580208e-19,8.60054888796154e-16,1.28119940486427e-12,7.29176883008064e-10,1.60415832309203e-7,1.38814594196737e-5,4.85471590423163e-4,0.00716799222287007,0.0480125085735733,0.163789918121367,0.336166500809989,0.501145354975375,0.630026182799852,0.725881937548262,0.796804567014275,0.849267728228186,0.888075833692043,0.916783006063419,0.93801830563956,0.95372650365554,0.965346188323725,0.973941513621428,0.980299656641919,0.985002908848071,0.988482003489916,0.991055563017743,0.992959279163779,0.994367498062737,0.995409187219763,0.996179746612674,0.996749745612853,0.997171385869523,0.997483282041249,0.997713998203663,0.997884663804668,0.99801090874157,0.998104294778356,0.998173374395176,0.998224474041591,0.998262273525491,0.998290234599263,0.998310917994002,0.998326217936394,0.998337535625786,0.998345907558821,0.998352100453884,0.998356681468698,0.998360070141768,0.998362576814557,0.998364431053174,0.998365802672503,0.998366817288189,0.998367567820765,0.998368123005507,0.998368533687345,0.998368837477344,0.9983690621972,0.998369228427207,0.998369351391041,0.998369442349978,0.998369509634217,0.998369559405785,0.998369596222862,0.998369623457228,0.998369643603062,0.998369658505359,0.998369669528902,0.998369677683249,0.998369683715191,0.998369688177145,0.998369691477747,0.998369693919271,0.998369695725318,0.998369697061289,0.998369698049535,0.998369698780561,0.998369699321317,0.998369699721325,0.998369700017219,0.998369700236099,0.998369700398009,0.998369700517777,0.998369700606371,0.998369700671907,0.998369700720385,0.998369700756245,0.998369700782772,0.998369700802394,0.998369700816909,0.998369700827646,0.998369700835588,0,100],\"fNormalized\":false,\"fNormIntegral\":0,\"fFormula\":null,\"fParams\":{\"_typename\":\"TF1Parameters\",\"fParameters\":[0.301482128629229,18.5421083057147,0.999999999999994,0.998369700858161,0],\"fParNames\":[\"#lambda\",\"#mu\",\"#sigma\",\"Plateau\",\"Baseline\"]},\"fComposition_ptr\":null},{\"_typename\":\"TPaveStats\",\"fUniqueID\":0,\"fBits\":50462729,\"fLineColor\":1,\"fLineStyle\":1,\"fLineWidth\":1,\"fFillColor\":0,\"fFillStyle\":1001,\"fX1\":94.3894784279808,\"fY1\":0.692857160818019,\"fX2\":163.736848752585,\"fY2\":1.15000000884877,\"fX1NDC\":0.620000013709068,\"fY1NDC\":0.615000009536743,\"fX2NDC\":0.980000019073486,\"fY2NDC\":0.935000002384186,\"fBorderSize\":1,\"fInit\":1,\"fShadowColor\":1,\"fCornerRadius\":0,\"fOption\":\"brNDC\",\"fName\":\"stats\",\"fTextAngle\":0,\"fTextSize\":0,\"fTextAlign\":12,\"fTextColor\":1,\"fTextFont\":42,\"fLabel\":\"\",\"fLongest\":32,\"fMargin\":0.05,\"fLines\":{\"_typename\":\"TList\",\"name\":\"TList\",\"arr\":[{\"_typename\":\"TLatex\",\"fUniqueID\":0,\"fBits\":50331648,\"fName\":\"\",\"fTitle\":\"#chi^{2} \\/ ndf = 14.12 \\/ 45\",\"fTextAngle\":0,\"fTextSize\":0,\"fTextAlign\":0,\"fTextColor\":0,\"fTextFont\":0,\"fX\":0,\"fY\":0,\"fLineColor\":1,\"fLineStyle\":1,\"fLineWidth\":2,\"fLimitFactorSize\":3,\"fOriginSize\":0.04},{\"_typename\":\"TLatex\",\"fUniqueID\":0,\"fBits\":50331648,\"fName\":\"\",\"fTitle\":\"Prob  =     1\",\"fTextAngle\":0,\"fTextSize\":0,\"fTextAlign\":0,\"fTextColor\":0,\"fTextFont\":0,\"fX\":0,\"fY\":0,\"fLineColor\":1,\"fLineStyle\":1,\"fLineWidth\":2,\"fLimitFactorSize\":3,\"fOriginSize\":0.04},{\"_typename\":\"TLatex\",\"fUniqueID\":0,\"fBits\":50331648,\"fName\":\"\",\"fTitle\":\"#lambda  = 0.3015 #pm 0.02025 \",\"fTextAngle\":0,\"fTextSize\":0,\"fTextAlign\":0,\"fTextColor\":0,\"fTextFont\":0,\"fX\":0,\"fY\":0,\"fLineColor\":1,\"fLineStyle\":1,\"fLineWidth\":2,\"fLimitFactorSize\":3,\"fOriginSize\":0.04},{\"_typename\":\"TLatex\",\"fUniqueID\":0,\"fBits\":50331648,\"fName\":\"\",\"fTitle\":\"#mu      = 18.54 #pm 0.442 \",\"fTextAngle\":0,\"fTextSize\":0,\"fTextAlign\":0,\"fTextColor\":0,\"fTextFont\":0,\"fX\":0,\"fY\":0,\"fLineColor\":1,\"fLineStyle\":1,\"fLineWidth\":2,\"fLimitFactorSize\":3,\"fOriginSize\":0.04},{\"_typename\":\"TLatex\",\"fUniqueID\":0,\"fBits\":50331648,\"fName\":\"\",\"fTitle\":\"#sigma   =     1 #pm 0.7271 \",\"fTextAngle\":0,\"fTextSize\":0,\"fTextAlign\":0,\"fTextColor\":0,\"fTextFont\":0,\"fX\":0,\"fY\":0,\"fLineColor\":1,\"fLineStyle\":1,\"fLineWidth\":2,\"fLimitFactorSize\":3,\"fOriginSize\":0.04},{\"_typename\":\"TLatex\",\"fUniqueID\":0,\"fBits\":50331648,\"fName\":\"\",\"fTitle\":\"Plateau  = 0.9984 #pm 0.0004428 \",\"fTextAngle\":0,\"fTextSize\":0,\"fTextAlign\":0,\"fTextColor\":0,\"fTextFont\":0,\"fX\":0,\"fY\":0,\"fLineColor\":1,\"fLineStyle\":1,\"fLineWidth\":2,\"fLimitFactorSize\":3,\"fOriginSize\":0.04},{\"_typename\":\"TLatex\",\"fUniqueID\":0,\"fBits\":50331648,\"fName\":\"\",\"fTitle\":\"Baseline =     0 #pm     0 \",\"fTextAngle\":0,\"fTextSize\":0,\"fTextAlign\":0,\"fTextColor\":0,\"fTextFont\":0,\"fX\":0,\"fY\":0,\"fLineColor\":1,\"fLineStyle\":1,\"fLineWidth\":2,\"fLimitFactorSize\":3,\"fOriginSize\":0.04}],\"opt\":[\"\",\"\",\"\",\"\",\"\",\"\",\"\"]},\"fOptFit\":11111,\"fOptStat\":0,\"fFitFormat\":\"5.4g\",\"fStatFormat\":\"6.4g\",\"fParent\":{\"$ref\":4}}],\"opt\":[\"\",\"brNDC\"]},\"fHistogram\":{\"_typename\":\"TH1F\",\"fUniqueID\":0,\"fBits\":50331648,\"fName\":\"43118c\",\"fTitle\":\"\",\"fLineColor\":602,\"fLineStyle\":1,\"fLineWidth\":1,\"fFillColor\":0,\"fFillStyle\":1001,\"fMarkerColor\":1,\"fMarkerStyle\":1,\"fMarkerSize\":1,\"fNcells\":102,\"fXaxis\":{\"_typename\":\"TAxis\",\"fUniqueID\":0,\"fBits\":50331656,\"fName\":\"xaxis\",\"fTitle\":\" p_{T}^{GEN} [GeV]\",\"fNdivisions\":510,\"fAxisColor\":1,\"fLabelColor\":1,\"fLabelFont\":42,\"fLabelOffset\":0.005,\"fLabelSize\":0.035,\"fTickLength\":0.03,\"fTitleOffset\":1.4,\"fTitleSize\":0.035,\"fTitleColor\":1,\"fTitleFont\":42,\"fNbins\":100,\"fXmin\":0,\"fXmax\":109.8,\"fXbins\":[],\"fFirst\":0,\"fLast\":0,\"fBits2\":0,\"fTimeDisplay\":false,\"fTimeFormat\":\"\",\"fLabels\":null,\"fModLabs\":null},\"fYaxis\":{\"_typename\":\"TAxis\",\"fUniqueID\":0,\"fBits\":50331656,\"fName\":\"yaxis\",\"fTitle\":\"L1 matched to GEN and p_{T}>th.\\/L1 matched to GEN\",\"fNdivisions\":510,\"fAxisColor\":1,\"fLabelColor\":1,\"fLabelFont\":42,\"fLabelOffset\":0.005,\"fLabelSize\":0.035,\"fTickLength\":0.03,\"fTitleOffset\":0,\"fTitleSize\":0.035,\"fTitleColor\":1,\"fTitleFont\":42,\"fNbins\":1,\"fXmin\":0,\"fXmax\":1.1,\"fXbins\":[],\"fFirst\":0,\"fLast\":0,\"fBits2\":0,\"fTimeDisplay\":false,\"fTimeFormat\":\"\",\"fLabels\":null,\"fModLabs\":null},\"fZaxis\":{\"_typename\":\"TAxis\",\"fUniqueID\":0,\"fBits\":50331648,\"fName\":\"zaxis\",\"fTitle\":\"\",\"fNdivisions\":510,\"fAxisColor\":1,\"fLabelColor\":1,\"fLabelFont\":42,\"fLabelOffset\":0.005,\"fLabelSize\":0.035,\"fTickLength\":0.03,\"fTitleOffset\":1,\"fTitleSize\":0.035,\"fTitleColor\":1,\"fTitleFont\":42,\"fNbins\":1,\"fXmin\":0,\"fXmax\":1,\"fXbins\":[],\"fFirst\":0,\"fLast\":0,\"fBits2\":0,\"fTimeDisplay\":false,\"fTimeFormat\":\"\",\"fLabels\":null,\"fModLabs\":null},\"fBarOffset\":0,\"fBarWidth\":1000,\"fEntries\":0,\"fTsumw\":0,\"fTsumw2\":0,\"fTsumwx\":0,\"fTsumwx2\":0,\"fMaximum\":1.1,\"fMinimum\":0,\"fNormFactor\":0,\"fContour\":[],\"fSumw2\":[],\"fOption\":\"\",\"fFunctions\":{\"_typename\":\"TList\",\"name\":\"TList\",\"arr\":[],\"opt\":[]},\"fBufferSize\":0,\"fBuffer\":[],\"fBinStatErrOpt\":0,\"fStatOverflows\":2,\"fArray\":[0,0,0,0,0,0,0,0,0,0,0,0,0,0,0,0,0,0,0,0,0,0,0,0,0,0,0,0,0,0,0,0,0,0,0,0,0,0,0,0,0,0,0,0,0,0,0,0,0,0,0,0,0,0,0,0,0,0,0,0,0,0,0,0,0,0,0,0,0,0,0,0,0,0,0,0,0,0,0,0,0,0,0,0,0,0,0,0,0,0,0,0,0,0,0,0,0,0,0,0,0,0]},\"fMinimum\":-1111,\"fMaximum\":-1111,\"fEXlow\":[1,1,1,1,1,1,1,1,1,1,1,1,1,1,1,1,1,1,1,1,1,1,1,1,1,1,1,1,1,1,1,1,1,1,1,1,1,1,1,1,1,1,1,1,1,1,1,1,1],\"fEXhigh\":[1,1,1,1,1,1,1,1,1,1,1,1,1,1,1,1,1,1,1,1,1,1,1,1,1,1,1,1,1,1,1,1,1,1,1,1,1,1,1,1,1,1,1,1,1,1,1,1,1],\"fEYlow\":[0,0,0,0,0,0,0,0.00508470292948796,0.0137842559655928,0.0227619185607976,0.0213038427609484,0.0156328889496637,0.0127515199172855,0.00947200141355076,0.0103934134568294,0.00829252991311569,0.00566189878682244,0.00543800207231315,0.0041015155016102,0.0034873048844285,0.00347414329597728,0.00556125786809392,0.00328800240050431,0.00345458614095473,0.00452210043883006,0.00522010093980552,0.00350056657582654,0.00334171607834644,0.00509901665126333,0.00327047951878845,0.00322465214023471,0.00350056657582654,0.00506961820607532,0.00346759968683441,0.00337851090995966,0.00338472230368492,0.0046332995610554,0.00420655633739031,0.00442511811202106,0.00359629985182086,0.00325890099174631,0.00353416632119274,0.00347414329597728,0.00405808687428899,0.00422200298480258,0.00445081284829207,0.00412358026016912,0.00356151411478722,0.00366065719283548],\"fEYhigh\":[0.0110956905950783,0.00797249169425943,0.00575460618350494,0.00466174395275809,0.00406477309155856,0.00453541625251657,0.00386022264228776,0.00759500613238361,0.0155699249869757,0.0229830193136121,0.0204603082799425,0.0140791595383769,0.0108392290533189,0.00751815827721147,0.008509230632465,0.00599456603948612,0.00344615530165926,0.00330914350370537,0.0014799157642319,0,0,0.00273643054098638,0,0,0.00222312638759459,0.00256781065272449,0,0,0.00250798749953929,0,0,0,0.00249346472665857,0,0,0,0.00227801062754107,0.00151793320693461,0.00159705603204052,0,0,0,0,0.00146419934298714,0.00152352430682134,0.00160635959682764,0.00148790118023034,0,0]},{\"_typename\":\"TLatex\",\"fUniqueID\":0,\"fBits\":50348040,\"fName\":\"\",\"fTitle\":\"PU200, EG, hwQual 5, p_{T}^{L1}>=20GeV, 1.52 < |#eta^{GEN}| <= 2.4\",\"fTextAngle\":0,\"fTextSize\":0.03,\"fTextAlign\":11,\"fTextColor\":1,\"fTextFont\":62,\"fX\":0.15,\"fY\":0.85,\"fLineColor\":1,\"fLineStyle\":1,\"fLineWidth\":2,\"fLimitFactorSize\":3,\"fOriginSize\":0.04},{\"_typename\":\"TLatex\",\"fUniqueID\":0,\"fBits\":50331656,\"fName\":\"\",\"fTitle\":\"\",\"fTextAngle\":0,\"fTextSize\":0.03,\"fTextAlign\":11,\"fTextColor\":1,\"fTextFont\":62,\"fX\":0,\"fY\":0,\"fLineColor\":1,\"fLineStyle\":1,\"fLineWidth\":2,\"fLimitFactorSize\":3,\"fOriginSize\":0.04},{\"_typename\":\"TLine\",\"fUniqueID\":0,\"fBits\":50331656,\"fLineColor\":1,\"fLineStyle\":2,\"fLineWidth\":1,\"fX1\":0,\"fY1\":0.95,\"fX2\":109.8,\"fY2\":0.95},{\"_typename\":\"TLine\",\"fUniqueID\":0,\"fBits\":50331656,\"fLineColor\":1,\"fLineStyle\":2,\"fLineWidth\":1,\"fX1\":0,\"fY1\":1,\"fX2\":109.8,\"fY2\":1},{\"_typename\":\"TGraphErrors\",\"fUniqueID\":0,\"fBits\":50332680,\"fName\":\"Graph\",\"fTitle\":\"Fitted line with .95 conf. band\",\"fLineColor\":1,\"fLineStyle\":1,\"fLineWidth\":1,\"fFillColor\":0,\"fFillStyle\":1000,\"fMarkerColor\":1,\"fMarkerStyle\":1,\"fMarkerSize\":1,\"fNpoints\":49,\"fX\":[3,5,7,9,11,13,15,17,19,21,23,25,27,29,31,33,35,37,39,41,43,45,47,49,51,53,55,57,59,61,63,65,67,69,71,73,75,77,79,81,83,85,87,89,91,93,95,97,99],\"fY\":[1.69596408231577e-56,9.49189520138536e-44,1.01386893920557e-32,2.09710498453413e-23,8.60054888796154e-16,7.29176883008064e-10,1.38814594196737e-5,0.00716799222287007,0.163789918121367,0.501145354975375,0.725881937548262,0.849267728228186,0.916783006063419,0.95372650365554,0.973941513621428,0.985002908848071,0.991055563017743,0.994367498062737,0.996179746612674,0.997171385869523,0.997713998203663,0.99801090874157,0.998173374395176,0.998262273525491,0.998310917994002,0.998337535625786,0.998352100453884,0.998360070141768,0.998364431053174,0.998366817288189,0.998368123005507,0.998368837477344,0.998369228427207,0.998369442349978,0.998369559405785,0.998369623457228,0.998369658505359,0.998369677683249,0.998369688177145,0.998369693919271,0.998369697061289,0.998369698780561,0.998369699721325,0.998369700236099,0.998369700517777,0.998369700671907,0.998369700756245,0.998369700802394,0.998369700827646],\"fFunctions\":{\"_typename\":\"TList\",\"name\":\"TList\",\"arr\":[],\"opt\":[]},\"fHistogram\":{\"_typename\":\"TH1F\",\"fUniqueID\":0,\"fBits\":50332168,\"fName\":\"Graph\",\"fTitle\":\"Fitted line with .95 conf. band\",\"fLineColor\":602,\"fLineStyle\":1,\"fLineWidth\":1,\"fFillColor\":0,\"fFillStyle\":1001,\"fMarkerColor\":1,\"fMarkerStyle\":1,\"fMarkerSize\":1,\"fNcells\":102,\"fXaxis\":{\"_typename\":\"TAxis\",\"fUniqueID\":0,\"fBits\":50331648,\"fName\":\"xaxis\",\"fTitle\":\"\",\"fNdivisions\":510,\"fAxisColor\":1,\"fLabelColor\":1,\"fLabelFont\":42,\"fLabelOffset\":0.005,\"fLabelSize\":0.035,\"fTickLength\":0.03,\"fTitleOffset\":1,\"fTitleSize\":0.035,\"fTitleColor\":1,\"fTitleFont\":42,\"fNbins\":100,\"fXmin\":0,\"fXmax\":108.6,\"fXbins\":[],\"fFirst\":0,\"fLast\":0,\"fBits2\":0,\"fTimeDisplay\":false,\"fTimeFormat\":\"\",\"fLabels\":null,\"fModLabs\":null},\"fYaxis\":{\"_typename\":\"TAxis\",\"fUniqueID\":0,\"fBits\":50331648,\"fName\":\"yaxis\",\"fTitle\":\"\",\"fNdivisions\":510,\"fAxisColor\":1,\"fLabelColor\":1,\"fLabelFont\":42,\"fLabelOffset\":0.005,\"fLabelSize\":0.035,\"fTickLength\":0.03,\"fTitleOffset\":0,\"fTitleSize\":0.035,\"fTitleColor\":1,\"fTitleFont\":42,\"fNbins\":1,\"fXmin\":-0.185576929088927,\"fXmax\":1.10785710149221,\"fXbins\":[],\"fFirst\":0,\"fLast\":0,\"fBits2\":0,\"fTimeDisplay\":false,\"fTimeFormat\":\"\",\"fLabels\":null,\"fModLabs\":null},\"fZaxis\":{\"_typename\":\"TAxis\",\"fUniqueID\":0,\"fBits\":50331648,\"fName\":\"zaxis\",\"fTitle\":\"\",\"fNdivisions\":510,\"fAxisColor\":1,\"fLabelColor\":1,\"fLabelFont\":42,\"fLabelOffset\":0.005,\"fLabelSize\":0.035,\"fTickLength\":0.03,\"fTitleOffset\":1,\"fTitleSize\":0.035,\"fTitleColor\":1,\"fTitleFont\":42,\"fNbins\":1,\"fXmin\":0,\"fXmax\":1,\"fXbins\":[],\"fFirst\":0,\"fLast\":0,\"fBits2\":0,\"fTimeDisplay\":false,\"fTimeFormat\":\"\",\"fLabels\":null,\"fModLabs\":null},\"fBarOffset\":0,\"fBarWidth\":1000,\"fEntries\":0,\"fTsumw\":0,\"fTsumw2\":0,\"fTsumwx\":0,\"fTsumwx2\":0,\"fMaximum\":1.10785710149221,\"fMinimum\":-0.185576929088927,\"fNormFactor\":0,\"fContour\":[],\"fSumw2\":[],\"fOption\":\"\",\"fFunctions\":{\"_typename\":\"TList\",\"name\":\"TList\",\"arr\":[],\"opt\":[]},\"fBufferSize\":0,\"fBuffer\":[],\"fBinStatErrOpt\":0,\"fStatOverflows\":2,\"fArray\":[0,0,0,0,0,0,0,0,0,0,0,0,0,0,0,0,0,0,0,0,0,0,0,0,0,0,0,0,0,0,0,0,0,0,0,0,0,0,0,0,0,0,0,0,0,0,0,0,0,0,0,0,0,0,0,0,0,0,0,0,0,0,0,0,0,0,0,0,0,0,0,0,0,0,0,0,0,0,0,0,0,0,0,0,0,0,0,0,0,0,0,0,0,0,0,0,0,0,0,0,0,0]},\"fMinimum\":-1111,\"fMaximum\":-1111,\"fEX\":[0,0,0,0,0,0,0,0,0,0,0,0,0,0,0,0,0,0,0,0,0,0,0,0,0,0,0,0,0,0,0,0,0,0,0,0,0,0,0,0,0,0,0,0,0,0,0,0,0],\"fEY\":[4.48520043592154e-55,2.19081082759412e-42,1.99989832967392e-31,3.43623937743028e-22,1.1242803114032e-14,7.15138224961646e-9,9.22426718571461e-5,0.0267523355546951,0.241580677995199,0.207793447278697,0.107326132886275,0.0628333036613114,0.0405812113408947,0.0269203445363049,0.0176975104750743,0.0114243771000921,0.00726501292525846,0.00461630384764994,0.00303446024663609,0.00219353322438597,0.00182498384805804,0.00170057247691748,0.00167282441077613,0.00167457794683168,0.00168217757402759,0.00168893787271666,0.00169368614946796,0.00169672583771266,0.00169858430742985,0.00169969194529806,0.0017003421189155,0.00170072011406612,0.00170093846761093,0.00170106403406462,0.00170113599994777,0.00170117713701049,0.00170120060073554,0.00170121395917917,0.00170122155207687,0.00170122586158454,0.00170122830427135,0.00170122968712742,0.0017012304691064,0.00170123091083862,0.00170123116013238,0.00170123130067425,0.00170123137984774,0.00170123142441153,0.00170123144947204]}],\"opt\":[\"\",\"pa\",\"same\",\"same\",\"same\",\"same\",\"\"]},\"fExecs\":null,\"fName\":\"c_fc4896\",\"fTitle\":\"c_fc4896\",\"fNumPaletteColor\":0,\"fNextPaletteColor\":0,\"fDISPLAY\":\"$DISPLAY\",\"fDoubleBuffer\":0,\"fRetained\":true,\"fXsizeUser\":0,\"fYsizeUser\":0,\"fXsizeReal\":20,\"fYsizeReal\":15,\"fWindowTopX\":0,\"fWindowTopY\":0,\"fWindowWidth\":0,\"fWindowHeight\":0,\"fCw\":796,\"fCh\":572,\"fCatt\":{\"_typename\":\"TAttCanvas\",\"fXBetween\":2,\"fYBetween\":2,\"fTitleFromTop\":1.2,\"fXdate\":0.2,\"fYdate\":0.3,\"fAdate\":1},\"kMoveOpaque\":true,\"kResizeOpaque\":true,\"fHighLightColor\":2,\"fBatch\":true,\"kShowEventStatus\":false,\"kAutoExec\":true,\"kMenuBar\":true});\n",
       "       Core.draw(\"root_plot_74\", obj, \"\");\n",
       "     }\n",
       " );\n",
       "</script>\n"
      ],
      "text/plain": [
       "<IPython.core.display.HTML object>"
      ]
     },
     "metadata": {},
     "output_type": "display_data"
    },
    {
     "data": {
      "text/html": [
       "\n",
       "<div id=\"root_plot_75\"\n",
       "     style=\"width: 796px; height: 572px\">\n",
       "</div>\n",
       "\n",
       "<script>\n",
       " requirejs.config({\n",
       "     paths: {\n",
       "       'JSRootCore' : 'https://root.cern.ch/js/notebook//scripts/JSRootCore',\n",
       "     }\n",
       "   });\n",
       " require(['JSRootCore'],\n",
       "     function(Core) {\n",
       "       var obj = Core.JSONR_unref({\"_typename\":\"TCanvas\",\"fUniqueID\":0,\"fBits\":53673992,\"fLineColor\":1,\"fLineStyle\":1,\"fLineWidth\":1,\"fFillColor\":0,\"fFillStyle\":1001,\"fLeftMargin\":0.13,\"fRightMargin\":0.3,\"fBottomMargin\":0.13,\"fTopMargin\":0.1,\"fXfile\":2,\"fYfile\":2,\"fAfile\":1,\"fXstat\":0.99,\"fYstat\":0.99,\"fAstat\":2,\"fFrameFillColor\":0,\"fFrameLineColor\":1,\"fFrameFillStyle\":1001,\"fFrameLineStyle\":1,\"fFrameLineWidth\":1,\"fFrameBorderSize\":1,\"fFrameBorderMode\":0,\"fX1\":-25.0421046588559,\"fY1\":-0.185714283502611,\"fX2\":167.58947670572,\"fY2\":1.24285714852456,\"fXtoAbsPixelk\":103.480046204376,\"fXtoPixelk\":103.480046204376,\"fXtoPixel\":4.13224038530569,\"fYtoAbsPixelk\":497.640051065433,\"fYtoPixelk\":497.640051065433,\"fYtoPixel\":-400.399999031424,\"fUtoAbsPixelk\":5e-5,\"fUtoPixelk\":5e-5,\"fUtoPixel\":796,\"fVtoAbsPixelk\":572.00005,\"fVtoPixelk\":572,\"fVtoPixel\":-572,\"fAbsPixeltoXk\":-25.0421046588559,\"fPixeltoXk\":-25.0421046588559,\"fPixeltoX\":0.241999474076101,\"fAbsPixeltoYk\":1.24285714852456,\"fPixeltoYk\":-0.185714283502611,\"fPixeltoY\":-0.00249750250354401,\"fXlowNDC\":0,\"fYlowNDC\":0,\"fXUpNDC\":0,\"fYUpNDC\":0,\"fWNDC\":1,\"fHNDC\":1,\"fAbsXlowNDC\":0,\"fAbsYlowNDC\":0,\"fAbsWNDC\":1,\"fAbsHNDC\":1,\"fUxmin\":0,\"fUymin\":0,\"fUxmax\":109.8,\"fUymax\":1.1,\"fTheta\":30,\"fPhi\":30,\"fAspectRatio\":0,\"fNumber\":0,\"fTickx\":0,\"fTicky\":0,\"fLogx\":0,\"fLogy\":0,\"fLogz\":0,\"fPadPaint\":0,\"fCrosshair\":0,\"fCrosshairPos\":0,\"fBorderSize\":2,\"fBorderMode\":0,\"fModified\":false,\"fGridx\":false,\"fGridy\":false,\"fAbsCoord\":false,\"fEditable\":true,\"fFixedAspectRatio\":false,\"fPrimitives\":{\"_typename\":\"TList\",\"name\":\"TList\",\"arr\":[{\"_typename\":\"TFrame\",\"fUniqueID\":0,\"fBits\":50331656,\"fLineColor\":1,\"fLineStyle\":1,\"fLineWidth\":1,\"fFillColor\":0,\"fFillStyle\":1001,\"fX1\":0,\"fY1\":0,\"fX2\":109.8,\"fY2\":1.1,\"fBorderSize\":1,\"fBorderMode\":0},{\"_typename\":\"TGraphAsymmErrors\",\"fUniqueID\":0,\"fBits\":50332680,\"fName\":\"8f5eb8\",\"fTitle\":\"; p_{T}^{GEN} [GeV];\",\"fLineColor\":1,\"fLineStyle\":1,\"fLineWidth\":1,\"fFillColor\":0,\"fFillStyle\":1001,\"fMarkerColor\":1,\"fMarkerStyle\":8,\"fMarkerSize\":0.5,\"fNpoints\":49,\"fX\":[3,5,7,9,11,13,15,17,19,21,23,25,27,29,31,33,35,37,39,41,43,45,47,49,51,53,55,57,59,61,63,65,67,69,71,73,75,77,79,81,83,85,87,89,91,93,95,97,99],\"fY\":[0,0,0,0,0,0,0,0,0,0.00778210116731518,0.0404624277456647,0.244318181818182,0.626,0.840148698884758,0.885185185185185,0.94478527607362,0.965765765765766,0.977508650519031,0.987477638640429,0.996204933586338,0.998109640831758,0.99364406779661,0.996422182468694,0.99812030075188,0.996557659208262,0.996023856858847,1,1,0.996116504854369,1,1,1,0.996138996138996,1,1,1,0.99647266313933,0.998165137614679,0.998069498069498,1,0.99822695035461,1,1,0.998230088495575,0.998158379373849,0.998058252427184,0.998201438848921,1,1],\"fFunctions\":{\"_typename\":\"TList\",\"name\":\"TList\",\"arr\":[{\"_typename\":\"TF1\",\"fUniqueID\":0,\"fBits\":50332680,\"fName\":\"tf_yc\",\"fTitle\":\"tf_yc\",\"fLineColor\":6,\"fLineStyle\":1,\"fLineWidth\":2,\"fFillColor\":19,\"fFillStyle\":0,\"fMarkerColor\":1,\"fMarkerStyle\":1,\"fMarkerSize\":1,\"fXmin\":0,\"fXmax\":100,\"fNpar\":5,\"fNdim\":1,\"fNpx\":100,\"fType\":1,\"fNpfits\":49,\"fNDF\":45,\"fChisquare\":10.8800301016907,\"fMinimum\":-1111,\"fMaximum\":-1111,\"fParErrors\":[0.017147961274392,0.341310199114721,0.143130699336267,4.3715094521507e-4,0],\"fParMin\":[0,0,0.1,0.9,1],\"fParMax\":[1,50,1,1,1],\"fSave\":[3.24172289024035e-119,2.08055689575568e-109,4.93209286438849e-100,4.32012679005187e-91,1.39883221136171e-82,1.67516905366215e-74,7.42389351011874e-67,1.2183879380759e-59,7.41098987468107e-53,1.67235785692324e-46,1.40171226764295e-40,4.37012889578205e-35,5.07709497965001e-30,2.20294734640743e-25,3.58029967961518e-21,2.18779682120009e-17,5.05207562176253e-14,4.43952384807966e-11,1.49934080280391e-8,1.97454271781084e-6,1.03670818859261e-4,0.00224769021587477,0.0213146819355216,0.0971410336315821,0.245869985733528,0.415922732526365,0.559341032067037,0.668766065594317,0.750972562291367,0.812669728102939,0.858973176772024,0.893723700415479,0.919803807341172,0.939376806707548,0.954066252011115,0.965090612625828,0.973364344169234,0.979573741343794,0.984233865142731,0.987731266454149,0.990356049927905,0.992325937759081,0.993804329445943,0.994913855554585,0.995746549756465,0.996371482895436,0.996840492319667,0.997192481718692,0.99745664813119,0.997654903799357,0.997803693759401,0.997915359934772,0.997999164881815,0.998062060106135,0.998109262680467,0.998144687993719,0.998171274527119,0.998191227597207,0.998206202283825,0.998217440716724,0.998225875108525,0.998232205080478,0.99823695569509,0.998240521009336,0.998243196761153,0.99824520490049,0.998246711999754,0.998247843070766,0.998248691934319,0.99824932900248,0.998249807119183,0.998250165943552,0.998250435239578,0.998250637344997,0.998250789024177,0.998250902858699,0.99825098829098,0.998251052407511,0.99825110052667,0.998251136639876,0.99825116374267,0.998251184083191,0.998251199348658,0.99825121080532,0.998251219403491,0.99825122585638,0.998251230699242,0.998251234333788,0.998251237061498,0.998251239108632,0.998251240644996,0.99825124179803,0.998251242663377,0.998251243312816,0.998251243800217,0.998251244166009,0.998251244440534,0.998251244646564,0.998251244801189,0.998251244917233,0.998251245004325,0,100],\"fNormalized\":false,\"fNormIntegral\":0,\"fFormula\":null,\"fParams\":{\"_typename\":\"TF1Parameters\",\"fParameters\":[0.28702180381356,22.9945276037092,0.999999999999547,0.99825124526629,0],\"fParNames\":[\"#lambda\",\"#mu\",\"#sigma\",\"Plateau\",\"Baseline\"]},\"fComposition_ptr\":null},{\"_typename\":\"TPaveStats\",\"fUniqueID\":0,\"fBits\":50462729,\"fLineColor\":1,\"fLineStyle\":1,\"fLineWidth\":1,\"fFillColor\":0,\"fFillStyle\":1001,\"fX1\":94.3894784279808,\"fY1\":0.692857160818019,\"fX2\":163.736848752585,\"fY2\":1.15000000884877,\"fX1NDC\":0.620000013709068,\"fY1NDC\":0.615000009536743,\"fX2NDC\":0.980000019073486,\"fY2NDC\":0.935000002384186,\"fBorderSize\":1,\"fInit\":1,\"fShadowColor\":1,\"fCornerRadius\":0,\"fOption\":\"brNDC\",\"fName\":\"stats\",\"fTextAngle\":0,\"fTextSize\":0,\"fTextAlign\":12,\"fTextColor\":1,\"fTextFont\":42,\"fLabel\":\"\",\"fLongest\":32,\"fMargin\":0.05,\"fLines\":{\"_typename\":\"TList\",\"name\":\"TList\",\"arr\":[{\"_typename\":\"TLatex\",\"fUniqueID\":0,\"fBits\":50331648,\"fName\":\"\",\"fTitle\":\"#chi^{2} \\/ ndf = 10.88 \\/ 45\",\"fTextAngle\":0,\"fTextSize\":0,\"fTextAlign\":0,\"fTextColor\":0,\"fTextFont\":0,\"fX\":0,\"fY\":0,\"fLineColor\":1,\"fLineStyle\":1,\"fLineWidth\":2,\"fLimitFactorSize\":3,\"fOriginSize\":0.04},{\"_typename\":\"TLatex\",\"fUniqueID\":0,\"fBits\":50331648,\"fName\":\"\",\"fTitle\":\"Prob  =     1\",\"fTextAngle\":0,\"fTextSize\":0,\"fTextAlign\":0,\"fTextColor\":0,\"fTextFont\":0,\"fX\":0,\"fY\":0,\"fLineColor\":1,\"fLineStyle\":1,\"fLineWidth\":2,\"fLimitFactorSize\":3,\"fOriginSize\":0.04},{\"_typename\":\"TLatex\",\"fUniqueID\":0,\"fBits\":50331648,\"fName\":\"\",\"fTitle\":\"#lambda  = 0.287 #pm 0.01715 \",\"fTextAngle\":0,\"fTextSize\":0,\"fTextAlign\":0,\"fTextColor\":0,\"fTextFont\":0,\"fX\":0,\"fY\":0,\"fLineColor\":1,\"fLineStyle\":1,\"fLineWidth\":2,\"fLimitFactorSize\":3,\"fOriginSize\":0.04},{\"_typename\":\"TLatex\",\"fUniqueID\":0,\"fBits\":50331648,\"fName\":\"\",\"fTitle\":\"#mu      = 22.99 #pm 0.3413 \",\"fTextAngle\":0,\"fTextSize\":0,\"fTextAlign\":0,\"fTextColor\":0,\"fTextFont\":0,\"fX\":0,\"fY\":0,\"fLineColor\":1,\"fLineStyle\":1,\"fLineWidth\":2,\"fLimitFactorSize\":3,\"fOriginSize\":0.04},{\"_typename\":\"TLatex\",\"fUniqueID\":0,\"fBits\":50331648,\"fName\":\"\",\"fTitle\":\"#sigma   =     1 #pm 0.1431 \",\"fTextAngle\":0,\"fTextSize\":0,\"fTextAlign\":0,\"fTextColor\":0,\"fTextFont\":0,\"fX\":0,\"fY\":0,\"fLineColor\":1,\"fLineStyle\":1,\"fLineWidth\":2,\"fLimitFactorSize\":3,\"fOriginSize\":0.04},{\"_typename\":\"TLatex\",\"fUniqueID\":0,\"fBits\":50331648,\"fName\":\"\",\"fTitle\":\"Plateau  = 0.9983 #pm 0.0004372 \",\"fTextAngle\":0,\"fTextSize\":0,\"fTextAlign\":0,\"fTextColor\":0,\"fTextFont\":0,\"fX\":0,\"fY\":0,\"fLineColor\":1,\"fLineStyle\":1,\"fLineWidth\":2,\"fLimitFactorSize\":3,\"fOriginSize\":0.04},{\"_typename\":\"TLatex\",\"fUniqueID\":0,\"fBits\":50331648,\"fName\":\"\",\"fTitle\":\"Baseline =     0 #pm     0 \",\"fTextAngle\":0,\"fTextSize\":0,\"fTextAlign\":0,\"fTextColor\":0,\"fTextFont\":0,\"fX\":0,\"fY\":0,\"fLineColor\":1,\"fLineStyle\":1,\"fLineWidth\":2,\"fLimitFactorSize\":3,\"fOriginSize\":0.04}],\"opt\":[\"\",\"\",\"\",\"\",\"\",\"\",\"\"]},\"fOptFit\":11111,\"fOptStat\":0,\"fFitFormat\":\"5.4g\",\"fStatFormat\":\"6.4g\",\"fParent\":{\"$ref\":4}}],\"opt\":[\"\",\"brNDC\"]},\"fHistogram\":{\"_typename\":\"TH1F\",\"fUniqueID\":0,\"fBits\":50331648,\"fName\":\"8f5eb8\",\"fTitle\":\"\",\"fLineColor\":602,\"fLineStyle\":1,\"fLineWidth\":1,\"fFillColor\":0,\"fFillStyle\":1001,\"fMarkerColor\":1,\"fMarkerStyle\":1,\"fMarkerSize\":1,\"fNcells\":102,\"fXaxis\":{\"_typename\":\"TAxis\",\"fUniqueID\":0,\"fBits\":50331656,\"fName\":\"xaxis\",\"fTitle\":\" p_{T}^{GEN} [GeV]\",\"fNdivisions\":510,\"fAxisColor\":1,\"fLabelColor\":1,\"fLabelFont\":42,\"fLabelOffset\":0.005,\"fLabelSize\":0.035,\"fTickLength\":0.03,\"fTitleOffset\":1.4,\"fTitleSize\":0.035,\"fTitleColor\":1,\"fTitleFont\":42,\"fNbins\":100,\"fXmin\":0,\"fXmax\":109.8,\"fXbins\":[],\"fFirst\":0,\"fLast\":0,\"fBits2\":0,\"fTimeDisplay\":false,\"fTimeFormat\":\"\",\"fLabels\":null,\"fModLabs\":null},\"fYaxis\":{\"_typename\":\"TAxis\",\"fUniqueID\":0,\"fBits\":50331656,\"fName\":\"yaxis\",\"fTitle\":\"L1 matched to GEN and p_{T}>th.\\/L1 matched to GEN\",\"fNdivisions\":510,\"fAxisColor\":1,\"fLabelColor\":1,\"fLabelFont\":42,\"fLabelOffset\":0.005,\"fLabelSize\":0.035,\"fTickLength\":0.03,\"fTitleOffset\":0,\"fTitleSize\":0.035,\"fTitleColor\":1,\"fTitleFont\":42,\"fNbins\":1,\"fXmin\":0,\"fXmax\":1.1,\"fXbins\":[],\"fFirst\":0,\"fLast\":0,\"fBits2\":0,\"fTimeDisplay\":false,\"fTimeFormat\":\"\",\"fLabels\":null,\"fModLabs\":null},\"fZaxis\":{\"_typename\":\"TAxis\",\"fUniqueID\":0,\"fBits\":50331648,\"fName\":\"zaxis\",\"fTitle\":\"\",\"fNdivisions\":510,\"fAxisColor\":1,\"fLabelColor\":1,\"fLabelFont\":42,\"fLabelOffset\":0.005,\"fLabelSize\":0.035,\"fTickLength\":0.03,\"fTitleOffset\":1,\"fTitleSize\":0.035,\"fTitleColor\":1,\"fTitleFont\":42,\"fNbins\":1,\"fXmin\":0,\"fXmax\":1,\"fXbins\":[],\"fFirst\":0,\"fLast\":0,\"fBits2\":0,\"fTimeDisplay\":false,\"fTimeFormat\":\"\",\"fLabels\":null,\"fModLabs\":null},\"fBarOffset\":0,\"fBarWidth\":1000,\"fEntries\":0,\"fTsumw\":0,\"fTsumw2\":0,\"fTsumwx\":0,\"fTsumwx2\":0,\"fMaximum\":1.1,\"fMinimum\":0,\"fNormFactor\":0,\"fContour\":[],\"fSumw2\":[],\"fOption\":\"\",\"fFunctions\":{\"_typename\":\"TList\",\"name\":\"TList\",\"arr\":[],\"opt\":[]},\"fBufferSize\":0,\"fBuffer\":[],\"fBinStatErrOpt\":0,\"fStatOverflows\":2,\"fArray\":[0,0,0,0,0,0,0,0,0,0,0,0,0,0,0,0,0,0,0,0,0,0,0,0,0,0,0,0,0,0,0,0,0,0,0,0,0,0,0,0,0,0,0,0,0,0,0,0,0,0,0,0,0,0,0,0,0,0,0,0,0,0,0,0,0,0,0,0,0,0,0,0,0,0,0,0,0,0,0,0,0,0,0,0,0,0,0,0,0,0,0,0,0,0,0,0,0,0,0,0,0,0]},\"fMinimum\":-1111,\"fMaximum\":-1111,\"fEXlow\":[1,1,1,1,1,1,1,1,1,1,1,1,1,1,1,1,1,1,1,1,1,1,1,1,1,1,1,1,1,1,1,1,1,1,1,1,1,1,1,1,1,1,1,1,1,1,1,1,1],\"fEXhigh\":[1,1,1,1,1,1,1,1,1,1,1,1,1,1,1,1,1,1,1,1,1,1,1,1,1,1,1,1,1,1,1,1,1,1,1,1,1,1,1,1,1,1,1,1,1,1,1,1,1],\"fEYlow\":[0,0,0,0,0,0,0,0,0,0.0037207749516865,0.0086489633959227,0.0191229432703624,0.0228796697237383,0.0173895613287602,0.0154032605974125,0.0123631270787747,0.00957662788341351,0.00800259853130736,0.00667969111679823,0.00498342222266257,0.00433338965671748,0.00614386901883712,0.00469933225841945,0.00430902909587805,0.00452210043883006,0.00522010093980552,0.00350056657582654,0.00334171607834644,0.00509901665126333,0.00327047951878845,0.00322465214023471,0.00350056657582654,0.00506961820607532,0.00346759968683441,0.00337851090995966,0.00338472230368492,0.0046332995610554,0.00420655633739031,0.00442511811202106,0.00359629985182086,0.00406526099946136,0.00353416632119274,0.00347414329597728,0.00405808687428899,0.00422200298480258,0.00445081284829207,0.00412358026016912,0.00356151411478722,0.00366065719283548],\"fEYhigh\":[0.0110956905950783,0.00797249169425943,0.00575460618350494,0.00466174395275809,0.00406477309155856,0.00453541625251657,0.00386022264228776,0.00393447011365783,0.00381226179010358,0.0061103647264463,0.0106149763809538,0.0201392997797463,0.0223530342717816,0.0160521787694369,0.0138820151503487,0.0103661725950152,0.00770411748466449,0.00612040764534638,0.00460678048298002,0.00245088832457019,0.00156384579531399,0.00345717343867047,0.00231060717213205,0.00155502681708453,0.00222312638759459,0.00256781065272449,0,0,0.00250798749953929,0,0,0,0.00249346472665857,0,0,0,0.00227801062754107,0.00151793320693461,0.00159705603204052,0,0.00146679552412288,0,0,0.00146419934298714,0.00152352430682134,0.00160635959682764,0.00148790118023034,0,0]},{\"_typename\":\"TLatex\",\"fUniqueID\":0,\"fBits\":50348040,\"fName\":\"\",\"fTitle\":\"PU200, EG, hwQual 5, p_{T}^{L1}>=25GeV, 1.52 < |#eta^{GEN}| <= 2.4\",\"fTextAngle\":0,\"fTextSize\":0.03,\"fTextAlign\":11,\"fTextColor\":1,\"fTextFont\":62,\"fX\":0.15,\"fY\":0.85,\"fLineColor\":1,\"fLineStyle\":1,\"fLineWidth\":2,\"fLimitFactorSize\":3,\"fOriginSize\":0.04},{\"_typename\":\"TLatex\",\"fUniqueID\":0,\"fBits\":50331656,\"fName\":\"\",\"fTitle\":\"\",\"fTextAngle\":0,\"fTextSize\":0.03,\"fTextAlign\":11,\"fTextColor\":1,\"fTextFont\":62,\"fX\":0,\"fY\":0,\"fLineColor\":1,\"fLineStyle\":1,\"fLineWidth\":2,\"fLimitFactorSize\":3,\"fOriginSize\":0.04},{\"_typename\":\"TLine\",\"fUniqueID\":0,\"fBits\":50331656,\"fLineColor\":1,\"fLineStyle\":2,\"fLineWidth\":1,\"fX1\":0,\"fY1\":0.95,\"fX2\":109.8,\"fY2\":0.95},{\"_typename\":\"TLine\",\"fUniqueID\":0,\"fBits\":50331656,\"fLineColor\":1,\"fLineStyle\":2,\"fLineWidth\":1,\"fX1\":0,\"fY1\":1,\"fX2\":109.8,\"fY2\":1},{\"_typename\":\"TGraphErrors\",\"fUniqueID\":0,\"fBits\":50332680,\"fName\":\"Graph\",\"fTitle\":\"Fitted line with .95 conf. band\",\"fLineColor\":1,\"fLineStyle\":1,\"fLineWidth\":1,\"fFillColor\":0,\"fFillStyle\":1000,\"fMarkerColor\":1,\"fMarkerStyle\":1,\"fMarkerSize\":1,\"fNpoints\":49,\"fX\":[3,5,7,9,11,13,15,17,19,21,23,25,27,29,31,33,35,37,39,41,43,45,47,49,51,53,55,57,59,61,63,65,67,69,71,73,75,77,79,81,83,85,87,89,91,93,95,97,99],\"fY\":[4.32012679005187e-91,1.67516905366215e-74,1.2183879380759e-59,1.67235785692324e-46,4.37012889578205e-35,2.20294734640743e-25,2.18779682120009e-17,4.43952384807966e-11,1.97454271781084e-6,0.00224769021587477,0.0971410336315821,0.415922732526365,0.668766065594317,0.812669728102939,0.893723700415479,0.939376806707548,0.965090612625828,0.979573741343794,0.987731266454149,0.992325937759081,0.994913855554585,0.996371482895436,0.997192481718692,0.997654903799357,0.997915359934772,0.998062060106135,0.998144687993719,0.998191227597207,0.998217440716724,0.998232205080478,0.998240521009336,0.99824520490049,0.998247843070766,0.99824932900248,0.998250165943552,0.998250637344997,0.998250902858699,0.998251052407511,0.998251136639876,0.998251184083191,0.99825121080532,0.99825122585638,0.998251234333788,0.998251239108632,0.99825124179803,0.998251243312816,0.998251244166009,0.998251244646564,0.998251244917233],\"fFunctions\":{\"_typename\":\"TList\",\"name\":\"TList\",\"arr\":[],\"opt\":[]},\"fHistogram\":{\"_typename\":\"TH1F\",\"fUniqueID\":0,\"fBits\":50332168,\"fName\":\"Graph\",\"fTitle\":\"Fitted line with .95 conf. band\",\"fLineColor\":602,\"fLineStyle\":1,\"fLineWidth\":1,\"fFillColor\":0,\"fFillStyle\":1001,\"fMarkerColor\":1,\"fMarkerStyle\":1,\"fMarkerSize\":1,\"fNcells\":102,\"fXaxis\":{\"_typename\":\"TAxis\",\"fUniqueID\":0,\"fBits\":50331648,\"fName\":\"xaxis\",\"fTitle\":\"\",\"fNdivisions\":510,\"fAxisColor\":1,\"fLabelColor\":1,\"fLabelFont\":42,\"fLabelOffset\":0.005,\"fLabelSize\":0.035,\"fTickLength\":0.03,\"fTitleOffset\":1,\"fTitleSize\":0.035,\"fTitleColor\":1,\"fTitleFont\":42,\"fNbins\":100,\"fXmin\":0,\"fXmax\":108.6,\"fXbins\":[],\"fFirst\":0,\"fLast\":0,\"fBits2\":0,\"fTimeDisplay\":false,\"fTimeFormat\":\"\",\"fLabels\":null,\"fModLabs\":null},\"fYaxis\":{\"_typename\":\"TAxis\",\"fUniqueID\":0,\"fBits\":50331648,\"fName\":\"yaxis\",\"fTitle\":\"\",\"fNdivisions\":510,\"fAxisColor\":1,\"fLabelColor\":1,\"fLabelFont\":42,\"fLabelOffset\":0.005,\"fLabelSize\":0.035,\"fTickLength\":0.03,\"fTitleOffset\":0,\"fTitleSize\":0.035,\"fTitleColor\":1,\"fTitleFont\":42,\"fNbins\":1,\"fXmin\":-0.149092021642521,\"fXmax\":1.10438747840591,\"fXbins\":[],\"fFirst\":0,\"fLast\":0,\"fBits2\":0,\"fTimeDisplay\":false,\"fTimeFormat\":\"\",\"fLabels\":null,\"fModLabs\":null},\"fZaxis\":{\"_typename\":\"TAxis\",\"fUniqueID\":0,\"fBits\":50331648,\"fName\":\"zaxis\",\"fTitle\":\"\",\"fNdivisions\":510,\"fAxisColor\":1,\"fLabelColor\":1,\"fLabelFont\":42,\"fLabelOffset\":0.005,\"fLabelSize\":0.035,\"fTickLength\":0.03,\"fTitleOffset\":1,\"fTitleSize\":0.035,\"fTitleColor\":1,\"fTitleFont\":42,\"fNbins\":1,\"fXmin\":0,\"fXmax\":1,\"fXbins\":[],\"fFirst\":0,\"fLast\":0,\"fBits2\":0,\"fTimeDisplay\":false,\"fTimeFormat\":\"\",\"fLabels\":null,\"fModLabs\":null},\"fBarOffset\":0,\"fBarWidth\":1000,\"fEntries\":0,\"fTsumw\":0,\"fTsumw2\":0,\"fTsumwx\":0,\"fTsumwx2\":0,\"fMaximum\":1.10438747840591,\"fMinimum\":-0.149092021642521,\"fNormFactor\":0,\"fContour\":[],\"fSumw2\":[],\"fOption\":\"\",\"fFunctions\":{\"_typename\":\"TList\",\"name\":\"TList\",\"arr\":[],\"opt\":[]},\"fBufferSize\":0,\"fBuffer\":[],\"fBinStatErrOpt\":0,\"fStatOverflows\":2,\"fArray\":[0,0,0,0,0,0,0,0,0,0,0,0,0,0,0,0,0,0,0,0,0,0,0,0,0,0,0,0,0,0,0,0,0,0,0,0,0,0,0,0,0,0,0,0,0,0,0,0,0,0,0,0,0,0,0,0,0,0,0,0,0,0,0,0,0,0,0,0,0,0,0,0,0,0,0,0,0,0,0,0,0,0,0,0,0,0,0,0,0,0,0,0,0,0,0,0,0,0,0,0,0,0]},\"fMinimum\":-1111,\"fMaximum\":-1111,\"fEX\":[0,0,0,0,0,0,0,0,0,0,0,0,0,0,0,0,0,0,0,0,0,0,0,0,0,0,0,0,0,0,0,0,0,0,0,0,0,0,0,0,0,0,0,0,0,0,0,0,0],\"fEY\":[1.13238156281015e-89,3.95402164368776e-73,2.55850557856443e-58,3.07702466312303e-45,6.90768900414787e-34,2.91335206757712e-24,2.3324090747596e-16,3.60921604789446e-10,1.11851819521536e-5,0.00754312348850679,0.141776430270067,0.179235402738059,0.0999001440319921,0.0627823882640158,0.0432176515207823,0.0300647481565184,0.0205188482724326,0.0136761898067018,0.00893598760866886,0.00577718990359968,0.00377173418191493,0.00259385655538802,0.0019904895602769,0.00173943423498814,0.00166029928632335,0.00164646931464173,0.00165172606952856,0.00166000281395133,0.00166685012459483,0.00167163333246084,0.00167473679607058,0.00167667416130919,0.00167785702940686,0.00167856947550232,0.00167899483072051,0.00167924727288743,0.0016793964574316,0.00167948433901886,0.00167953597803851,0.00167956625816202,0.00167958398245101,0.0016795943411954,0.00167960038681203,0.00167960391073115,0.00167960596240312,0.00167960715560001,0.00167960784886847,0.00167960825126517,0.00167960848463729]}],\"opt\":[\"\",\"pa\",\"same\",\"same\",\"same\",\"same\",\"\"]},\"fExecs\":null,\"fName\":\"c_abadc2\",\"fTitle\":\"c_abadc2\",\"fNumPaletteColor\":0,\"fNextPaletteColor\":0,\"fDISPLAY\":\"$DISPLAY\",\"fDoubleBuffer\":0,\"fRetained\":true,\"fXsizeUser\":0,\"fYsizeUser\":0,\"fXsizeReal\":20,\"fYsizeReal\":15,\"fWindowTopX\":0,\"fWindowTopY\":0,\"fWindowWidth\":0,\"fWindowHeight\":0,\"fCw\":796,\"fCh\":572,\"fCatt\":{\"_typename\":\"TAttCanvas\",\"fXBetween\":2,\"fYBetween\":2,\"fTitleFromTop\":1.2,\"fXdate\":0.2,\"fYdate\":0.3,\"fAdate\":1},\"kMoveOpaque\":true,\"kResizeOpaque\":true,\"fHighLightColor\":2,\"fBatch\":true,\"kShowEventStatus\":false,\"kAutoExec\":true,\"kMenuBar\":true});\n",
       "       Core.draw(\"root_plot_75\", obj, \"\");\n",
       "     }\n",
       " );\n",
       "</script>\n"
      ],
      "text/plain": [
       "<IPython.core.display.HTML object>"
      ]
     },
     "metadata": {},
     "output_type": "display_data"
    },
    {
     "data": {
      "text/html": [
       "\n",
       "<div id=\"root_plot_76\"\n",
       "     style=\"width: 796px; height: 572px\">\n",
       "</div>\n",
       "\n",
       "<script>\n",
       " requirejs.config({\n",
       "     paths: {\n",
       "       'JSRootCore' : 'https://root.cern.ch/js/notebook//scripts/JSRootCore',\n",
       "     }\n",
       "   });\n",
       " require(['JSRootCore'],\n",
       "     function(Core) {\n",
       "       var obj = Core.JSONR_unref({\"_typename\":\"TCanvas\",\"fUniqueID\":0,\"fBits\":53673992,\"fLineColor\":1,\"fLineStyle\":1,\"fLineWidth\":1,\"fFillColor\":0,\"fFillStyle\":1001,\"fLeftMargin\":0.13,\"fRightMargin\":0.3,\"fBottomMargin\":0.13,\"fTopMargin\":0.1,\"fXfile\":2,\"fYfile\":2,\"fAfile\":1,\"fXstat\":0.99,\"fYstat\":0.99,\"fAstat\":2,\"fFrameFillColor\":0,\"fFrameLineColor\":1,\"fFrameFillStyle\":1001,\"fFrameLineStyle\":1,\"fFrameLineWidth\":1,\"fFrameBorderSize\":1,\"fFrameBorderMode\":0,\"fX1\":-25.0421046588559,\"fY1\":-0.185714283502611,\"fX2\":167.58947670572,\"fY2\":1.24285714852456,\"fXtoAbsPixelk\":103.480046204376,\"fXtoPixelk\":103.480046204376,\"fXtoPixel\":4.13224038530569,\"fYtoAbsPixelk\":497.640051065433,\"fYtoPixelk\":497.640051065433,\"fYtoPixel\":-400.399999031424,\"fUtoAbsPixelk\":5e-5,\"fUtoPixelk\":5e-5,\"fUtoPixel\":796,\"fVtoAbsPixelk\":572.00005,\"fVtoPixelk\":572,\"fVtoPixel\":-572,\"fAbsPixeltoXk\":-25.0421046588559,\"fPixeltoXk\":-25.0421046588559,\"fPixeltoX\":0.241999474076101,\"fAbsPixeltoYk\":1.24285714852456,\"fPixeltoYk\":-0.185714283502611,\"fPixeltoY\":-0.00249750250354401,\"fXlowNDC\":0,\"fYlowNDC\":0,\"fXUpNDC\":0,\"fYUpNDC\":0,\"fWNDC\":1,\"fHNDC\":1,\"fAbsXlowNDC\":0,\"fAbsYlowNDC\":0,\"fAbsWNDC\":1,\"fAbsHNDC\":1,\"fUxmin\":0,\"fUymin\":0,\"fUxmax\":109.8,\"fUymax\":1.1,\"fTheta\":30,\"fPhi\":30,\"fAspectRatio\":0,\"fNumber\":0,\"fTickx\":0,\"fTicky\":0,\"fLogx\":0,\"fLogy\":0,\"fLogz\":0,\"fPadPaint\":0,\"fCrosshair\":0,\"fCrosshairPos\":0,\"fBorderSize\":2,\"fBorderMode\":0,\"fModified\":false,\"fGridx\":false,\"fGridy\":false,\"fAbsCoord\":false,\"fEditable\":true,\"fFixedAspectRatio\":false,\"fPrimitives\":{\"_typename\":\"TList\",\"name\":\"TList\",\"arr\":[{\"_typename\":\"TFrame\",\"fUniqueID\":0,\"fBits\":50331656,\"fLineColor\":1,\"fLineStyle\":1,\"fLineWidth\":1,\"fFillColor\":0,\"fFillStyle\":1001,\"fX1\":0,\"fY1\":0,\"fX2\":109.8,\"fY2\":1.1,\"fBorderSize\":1,\"fBorderMode\":0},{\"_typename\":\"TGraphAsymmErrors\",\"fUniqueID\":0,\"fBits\":50332680,\"fName\":\"d226aa\",\"fTitle\":\"; p_{T}^{GEN} [GeV];\",\"fLineColor\":1,\"fLineStyle\":1,\"fLineWidth\":1,\"fFillColor\":0,\"fFillStyle\":1001,\"fMarkerColor\":1,\"fMarkerStyle\":8,\"fMarkerSize\":0.5,\"fNpoints\":49,\"fX\":[3,5,7,9,11,13,15,17,19,21,23,25,27,29,31,33,35,37,39,41,43,45,47,49,51,53,55,57,59,61,63,65,67,69,71,73,75,77,79,81,83,85,87,89,91,93,95,97,99],\"fY\":[0,0,0,0,0,0,0,0,0,0,0,0,0.02,0.115241635687732,0.446296296296296,0.723926380368098,0.854054054054054,0.910034602076125,0.953488372093023,0.979127134724858,0.988657844990548,0.980932203389831,0.991055456171735,0.994360902255639,0.994836488812392,0.996023856858847,0.998095238095238,1,0.994174757281553,1,1,1,0.996138996138996,1,1,1,0.99647266313933,0.998165137614679,0.998069498069498,1,0.99822695035461,1,1,0.998230088495575,0.998158379373849,0.998058252427184,0.998201438848921,1,1],\"fFunctions\":{\"_typename\":\"TList\",\"name\":\"TList\",\"arr\":[{\"_typename\":\"TF1\",\"fUniqueID\":0,\"fBits\":50332680,\"fName\":\"tf_yc\",\"fTitle\":\"tf_yc\",\"fLineColor\":6,\"fLineStyle\":1,\"fLineWidth\":2,\"fFillColor\":19,\"fFillStyle\":0,\"fMarkerColor\":1,\"fMarkerStyle\":1,\"fMarkerSize\":1,\"fXmin\":0,\"fXmax\":100,\"fNpar\":5,\"fNdim\":1,\"fNpx\":100,\"fType\":1,\"fNpfits\":49,\"fNDF\":45,\"fChisquare\":10.5913856461088,\"fMinimum\":-1111,\"fMaximum\":-1111,\"fParErrors\":[0.0194167039116314,0.449521696944061,0.814066071923345,4.60010204917483e-4,0],\"fParMin\":[0,0,0.1,0.9,1],\"fParMax\":[1,50,1,1,1],\"fSave\":[3.19950560594114e-178,3.97878212686826e-166,1.82500302772435e-154,3.08823443370183e-143,1.92835758834603e-132,4.44431575190663e-122,3.7816878895319e-112,1.18841968840397e-102,1.37980240663469e-93,5.92120073503161e-85,9.39635868792494e-77,5.5171095426803e-69,1.19936976936819e-61,9.6610270511258e-55,2.88620128208449e-48,3.20147571327654e-42,1.32034627147319e-36,2.02802253562034e-31,1.16258351899476e-26,2.49410002249968e-22,2.00939463656798e-18,6.10805902140186e-15,7.0500095441241e-12,3.11749005496806e-9,5.35043533366682e-7,3.634577069728e-5,0.00100777192596873,0.0119901312189914,0.066460327658825,0.195413698215655,0.363922808086656,0.51566248428268,0.633763482082043,0.723122392763614,0.790577192661901,0.841493234972955,0.879925500757431,0.908934806644515,0.930831507525007,0.947359497243756,0.959835095537489,0.96925188217852,0.976359827509465,0.981725021471445,0.98577475805627,0.988831565791962,0.99113889451255,0.992880504154104,0.994195099736642,0.995187378089034,0.995936366098505,0.99650171455842,0.99692844886803,0.997250554938729,0.997493685895028,0.997677205136942,0.997815728477061,0.997920288170952,0.997999211546444,0.99805878420745,0.998103750631114,0.998137692026763,0.99816331155006,0.998182649587327,0.998197246255696,0.998208264060891,0.998216580481342,0.998222857852186,0.998227596114875,0.99823117263343,0.998233872248419,0.998235909962184,0.998237448062026,0.998238609045066,0.998239485374147,0.998240146841741,0.998240646128352,0.998241022998093,0.998241307465567,0.998241522186292,0.998241684261025,0.998241806597697,0.998241898939428,0.998241968640484,0.998242021251987,0.998242060964014,0.998242090939304,0.998242113565146,0.998242130643504,0.998242143534529,0.998242153264886,0.99824216060952,0.99824216615337,0.99824217033796,0.998242173496557,0.998242175880717,0.998242177680321,0.998242179038692,0.998242180064012,0.99824218083794,0.998242181422115,0,100],\"fNormalized\":false,\"fNormIntegral\":0,\"fFormula\":null,\"fParams\":{\"_typename\":\"TF1Parameters\",\"fParameters\":[0.281280690421479,28.277499160109,0.999997706235927,0.998242183220539,0],\"fParNames\":[\"#lambda\",\"#mu\",\"#sigma\",\"Plateau\",\"Baseline\"]},\"fComposition_ptr\":null},{\"_typename\":\"TPaveStats\",\"fUniqueID\":0,\"fBits\":50462729,\"fLineColor\":1,\"fLineStyle\":1,\"fLineWidth\":1,\"fFillColor\":0,\"fFillStyle\":1001,\"fX1\":94.3894784279808,\"fY1\":0.692857160818019,\"fX2\":163.736848752585,\"fY2\":1.15000000884877,\"fX1NDC\":0.620000013709068,\"fY1NDC\":0.615000009536743,\"fX2NDC\":0.980000019073486,\"fY2NDC\":0.935000002384186,\"fBorderSize\":1,\"fInit\":1,\"fShadowColor\":1,\"fCornerRadius\":0,\"fOption\":\"brNDC\",\"fName\":\"stats\",\"fTextAngle\":0,\"fTextSize\":0,\"fTextAlign\":12,\"fTextColor\":1,\"fTextFont\":42,\"fLabel\":\"\",\"fLongest\":30,\"fMargin\":0.05,\"fLines\":{\"_typename\":\"TList\",\"name\":\"TList\",\"arr\":[{\"_typename\":\"TLatex\",\"fUniqueID\":0,\"fBits\":50331648,\"fName\":\"\",\"fTitle\":\"#chi^{2} \\/ ndf = 10.59 \\/ 45\",\"fTextAngle\":0,\"fTextSize\":0,\"fTextAlign\":0,\"fTextColor\":0,\"fTextFont\":0,\"fX\":0,\"fY\":0,\"fLineColor\":1,\"fLineStyle\":1,\"fLineWidth\":2,\"fLimitFactorSize\":3,\"fOriginSize\":0.04},{\"_typename\":\"TLatex\",\"fUniqueID\":0,\"fBits\":50331648,\"fName\":\"\",\"fTitle\":\"Prob  =     1\",\"fTextAngle\":0,\"fTextSize\":0,\"fTextAlign\":0,\"fTextColor\":0,\"fTextFont\":0,\"fX\":0,\"fY\":0,\"fLineColor\":1,\"fLineStyle\":1,\"fLineWidth\":2,\"fLimitFactorSize\":3,\"fOriginSize\":0.04},{\"_typename\":\"TLatex\",\"fUniqueID\":0,\"fBits\":50331648,\"fName\":\"\",\"fTitle\":\"#lambda  = 0.2813 #pm 0.01942 \",\"fTextAngle\":0,\"fTextSize\":0,\"fTextAlign\":0,\"fTextColor\":0,\"fTextFont\":0,\"fX\":0,\"fY\":0,\"fLineColor\":1,\"fLineStyle\":1,\"fLineWidth\":2,\"fLimitFactorSize\":3,\"fOriginSize\":0.04},{\"_typename\":\"TLatex\",\"fUniqueID\":0,\"fBits\":50331648,\"fName\":\"\",\"fTitle\":\"#mu      = 28.28 #pm 0.4495 \",\"fTextAngle\":0,\"fTextSize\":0,\"fTextAlign\":0,\"fTextColor\":0,\"fTextFont\":0,\"fX\":0,\"fY\":0,\"fLineColor\":1,\"fLineStyle\":1,\"fLineWidth\":2,\"fLimitFactorSize\":3,\"fOriginSize\":0.04},{\"_typename\":\"TLatex\",\"fUniqueID\":0,\"fBits\":50331648,\"fName\":\"\",\"fTitle\":\"#sigma   =     1 #pm 0.8141 \",\"fTextAngle\":0,\"fTextSize\":0,\"fTextAlign\":0,\"fTextColor\":0,\"fTextFont\":0,\"fX\":0,\"fY\":0,\"fLineColor\":1,\"fLineStyle\":1,\"fLineWidth\":2,\"fLimitFactorSize\":3,\"fOriginSize\":0.04},{\"_typename\":\"TLatex\",\"fUniqueID\":0,\"fBits\":50331648,\"fName\":\"\",\"fTitle\":\"Plateau  = 0.9982 #pm 0.00046 \",\"fTextAngle\":0,\"fTextSize\":0,\"fTextAlign\":0,\"fTextColor\":0,\"fTextFont\":0,\"fX\":0,\"fY\":0,\"fLineColor\":1,\"fLineStyle\":1,\"fLineWidth\":2,\"fLimitFactorSize\":3,\"fOriginSize\":0.04},{\"_typename\":\"TLatex\",\"fUniqueID\":0,\"fBits\":50331648,\"fName\":\"\",\"fTitle\":\"Baseline =     0 #pm     0 \",\"fTextAngle\":0,\"fTextSize\":0,\"fTextAlign\":0,\"fTextColor\":0,\"fTextFont\":0,\"fX\":0,\"fY\":0,\"fLineColor\":1,\"fLineStyle\":1,\"fLineWidth\":2,\"fLimitFactorSize\":3,\"fOriginSize\":0.04}],\"opt\":[\"\",\"\",\"\",\"\",\"\",\"\",\"\"]},\"fOptFit\":11111,\"fOptStat\":0,\"fFitFormat\":\"5.4g\",\"fStatFormat\":\"6.4g\",\"fParent\":{\"$ref\":4}}],\"opt\":[\"\",\"brNDC\"]},\"fHistogram\":{\"_typename\":\"TH1F\",\"fUniqueID\":0,\"fBits\":50331648,\"fName\":\"d226aa\",\"fTitle\":\"\",\"fLineColor\":602,\"fLineStyle\":1,\"fLineWidth\":1,\"fFillColor\":0,\"fFillStyle\":1001,\"fMarkerColor\":1,\"fMarkerStyle\":1,\"fMarkerSize\":1,\"fNcells\":102,\"fXaxis\":{\"_typename\":\"TAxis\",\"fUniqueID\":0,\"fBits\":50331656,\"fName\":\"xaxis\",\"fTitle\":\" p_{T}^{GEN} [GeV]\",\"fNdivisions\":510,\"fAxisColor\":1,\"fLabelColor\":1,\"fLabelFont\":42,\"fLabelOffset\":0.005,\"fLabelSize\":0.035,\"fTickLength\":0.03,\"fTitleOffset\":1.4,\"fTitleSize\":0.035,\"fTitleColor\":1,\"fTitleFont\":42,\"fNbins\":100,\"fXmin\":0,\"fXmax\":109.8,\"fXbins\":[],\"fFirst\":0,\"fLast\":0,\"fBits2\":0,\"fTimeDisplay\":false,\"fTimeFormat\":\"\",\"fLabels\":null,\"fModLabs\":null},\"fYaxis\":{\"_typename\":\"TAxis\",\"fUniqueID\":0,\"fBits\":50331656,\"fName\":\"yaxis\",\"fTitle\":\"L1 matched to GEN and p_{T}>th.\\/L1 matched to GEN\",\"fNdivisions\":510,\"fAxisColor\":1,\"fLabelColor\":1,\"fLabelFont\":42,\"fLabelOffset\":0.005,\"fLabelSize\":0.035,\"fTickLength\":0.03,\"fTitleOffset\":0,\"fTitleSize\":0.035,\"fTitleColor\":1,\"fTitleFont\":42,\"fNbins\":1,\"fXmin\":0,\"fXmax\":1.1,\"fXbins\":[],\"fFirst\":0,\"fLast\":0,\"fBits2\":0,\"fTimeDisplay\":false,\"fTimeFormat\":\"\",\"fLabels\":null,\"fModLabs\":null},\"fZaxis\":{\"_typename\":\"TAxis\",\"fUniqueID\":0,\"fBits\":50331648,\"fName\":\"zaxis\",\"fTitle\":\"\",\"fNdivisions\":510,\"fAxisColor\":1,\"fLabelColor\":1,\"fLabelFont\":42,\"fLabelOffset\":0.005,\"fLabelSize\":0.035,\"fTickLength\":0.03,\"fTitleOffset\":1,\"fTitleSize\":0.035,\"fTitleColor\":1,\"fTitleFont\":42,\"fNbins\":1,\"fXmin\":0,\"fXmax\":1,\"fXbins\":[],\"fFirst\":0,\"fLast\":0,\"fBits2\":0,\"fTimeDisplay\":false,\"fTimeFormat\":\"\",\"fLabels\":null,\"fModLabs\":null},\"fBarOffset\":0,\"fBarWidth\":1000,\"fEntries\":0,\"fTsumw\":0,\"fTsumw2\":0,\"fTsumwx\":0,\"fTsumwx2\":0,\"fMaximum\":1.1,\"fMinimum\":0,\"fNormFactor\":0,\"fContour\":[],\"fSumw2\":[],\"fOption\":\"\",\"fFunctions\":{\"_typename\":\"TList\",\"name\":\"TList\",\"arr\":[],\"opt\":[]},\"fBufferSize\":0,\"fBuffer\":[],\"fBinStatErrOpt\":0,\"fStatOverflows\":2,\"fArray\":[0,0,0,0,0,0,0,0,0,0,0,0,0,0,0,0,0,0,0,0,0,0,0,0,0,0,0,0,0,0,0,0,0,0,0,0,0,0,0,0,0,0,0,0,0,0,0,0,0,0,0,0,0,0,0,0,0,0,0,0,0,0,0,0,0,0,0,0,0,0,0,0,0,0,0,0,0,0,0,0,0,0,0,0,0,0,0,0,0,0,0,0,0,0,0,0,0,0,0,0,0,0]},\"fMinimum\":-1111,\"fMaximum\":-1111,\"fEXlow\":[1,1,1,1,1,1,1,1,1,1,1,1,1,1,1,1,1,1,1,1,1,1,1,1,1,1,1,1,1,1,1,1,1,1,1,1,1,1,1,1,1,1,1,1,1,1,1,1,1],\"fEXhigh\":[1,1,1,1,1,1,1,1,1,1,1,1,1,1,1,1,1,1,1,1,1,1,1,1,1,1,1,1,1,1,1,1,1,1,1,1,1,1,1,1,1,1,1,1,1,1,1,1,1],\"fEYlow\":[0,0,0,0,0,0,0,0,0,0,0,0,0.00618811041327565,0.0139310635195412,0.0221930069908994,0.0217000917859338,0.0165565256348377,0.013528944038155,0.010707977337591,0.00825771120787377,0.00671300209696069,0.00858698788553602,0.00600557648025124,0.00545482382233053,0.00499713126489809,0.00522010093980552,0.00436630211630595,0.00334171607834644,0.00563384714187143,0.00327047951878845,0.00322465214023471,0.00350056657582654,0.00506961820607532,0.00346759968683441,0.00337851090995966,0.00338472230368492,0.0046332995610554,0.00420655633739031,0.00442511811202106,0.00359629985182086,0.00406526099946136,0.00353416632119274,0.00347414329597728,0.00405808687428899,0.00422200298480258,0.00445081284829207,0.00412358026016912,0.00356151411478722,0.00366065719283548],\"fEYhigh\":[0.0110956905950783,0.00797249169425943,0.00575460618350494,0.00466174395275809,0.00406477309155856,0.00453541625251657,0.00386022264228776,0.00393447011365783,0.00381226179010358,0.00357534734320347,0.00354096381975243,0.00348071164830587,0.00841197623212488,0.0154562884954359,0.0224002795247922,0.0207391297940098,0.01520540596274,0.0120085207255852,0.00892428801985012,0.0061647570814265,0.00448996033626758,0.00620954070141932,0.00385820131620973,0.00306746190118123,0.00280887884563163,0.00256781065272449,0.00157576122017311,0,0.00316866556347006,0,0,0,0.00249346472665857,0,0,0,0.00227801062754107,0.00151793320693461,0.00159705603204052,0,0.00146679552412288,0,0,0.00146419934298714,0.00152352430682134,0.00160635959682764,0.00148790118023034,0,0]},{\"_typename\":\"TLatex\",\"fUniqueID\":0,\"fBits\":50348040,\"fName\":\"\",\"fTitle\":\"PU200, EG, hwQual 5, p_{T}^{L1}>=30GeV, 1.52 < |#eta^{GEN}| <= 2.4\",\"fTextAngle\":0,\"fTextSize\":0.03,\"fTextAlign\":11,\"fTextColor\":1,\"fTextFont\":62,\"fX\":0.15,\"fY\":0.85,\"fLineColor\":1,\"fLineStyle\":1,\"fLineWidth\":2,\"fLimitFactorSize\":3,\"fOriginSize\":0.04},{\"_typename\":\"TLatex\",\"fUniqueID\":0,\"fBits\":50331656,\"fName\":\"\",\"fTitle\":\"\",\"fTextAngle\":0,\"fTextSize\":0.03,\"fTextAlign\":11,\"fTextColor\":1,\"fTextFont\":62,\"fX\":0,\"fY\":0,\"fLineColor\":1,\"fLineStyle\":1,\"fLineWidth\":2,\"fLimitFactorSize\":3,\"fOriginSize\":0.04},{\"_typename\":\"TLine\",\"fUniqueID\":0,\"fBits\":50331656,\"fLineColor\":1,\"fLineStyle\":2,\"fLineWidth\":1,\"fX1\":0,\"fY1\":0.95,\"fX2\":109.8,\"fY2\":0.95},{\"_typename\":\"TLine\",\"fUniqueID\":0,\"fBits\":50331656,\"fLineColor\":1,\"fLineStyle\":2,\"fLineWidth\":1,\"fX1\":0,\"fY1\":1,\"fX2\":109.8,\"fY2\":1},{\"_typename\":\"TGraphErrors\",\"fUniqueID\":0,\"fBits\":50332680,\"fName\":\"Graph\",\"fTitle\":\"Fitted line with .95 conf. band\",\"fLineColor\":1,\"fLineStyle\":1,\"fLineWidth\":1,\"fFillColor\":0,\"fFillStyle\":1000,\"fMarkerColor\":1,\"fMarkerStyle\":1,\"fMarkerSize\":1,\"fNpoints\":49,\"fX\":[3,5,7,9,11,13,15,17,19,21,23,25,27,29,31,33,35,37,39,41,43,45,47,49,51,53,55,57,59,61,63,65,67,69,71,73,75,77,79,81,83,85,87,89,91,93,95,97,99],\"fY\":[3.08823443370183e-143,4.44431575190663e-122,1.18841968840397e-102,5.92120073503161e-85,5.5171095426803e-69,9.6610270511258e-55,3.20147571327654e-42,2.02802253562034e-31,2.49410002249968e-22,6.10805902140186e-15,3.11749005496806e-9,3.634577069728e-5,0.0119901312189914,0.195413698215655,0.51566248428268,0.723122392763614,0.841493234972955,0.908934806644515,0.947359497243756,0.96925188217852,0.981725021471445,0.988831565791962,0.992880504154104,0.995187378089034,0.99650171455842,0.997250554938729,0.997677205136942,0.997920288170952,0.99805878420745,0.998137692026763,0.998182649587327,0.998208264060891,0.998222857852186,0.99823117263343,0.998235909962184,0.998238609045066,0.998240146841741,0.998241022998093,0.998241522186292,0.998241806597697,0.998241968640484,0.998242060964014,0.998242113565146,0.998242143534529,0.99824216060952,0.99824217033796,0.998242175880717,0.998242179038692,0.99824218083794],\"fFunctions\":{\"_typename\":\"TList\",\"name\":\"TList\",\"arr\":[],\"opt\":[]},\"fHistogram\":{\"_typename\":\"TH1F\",\"fUniqueID\":0,\"fBits\":50332168,\"fName\":\"Graph\",\"fTitle\":\"Fitted line with .95 conf. band\",\"fLineColor\":602,\"fLineStyle\":1,\"fLineWidth\":1,\"fFillColor\":0,\"fFillStyle\":1001,\"fMarkerColor\":1,\"fMarkerStyle\":1,\"fMarkerSize\":1,\"fNcells\":102,\"fXaxis\":{\"_typename\":\"TAxis\",\"fUniqueID\":0,\"fBits\":50331648,\"fName\":\"xaxis\",\"fTitle\":\"\",\"fNdivisions\":510,\"fAxisColor\":1,\"fLabelColor\":1,\"fLabelFont\":42,\"fLabelOffset\":0.005,\"fLabelSize\":0.035,\"fTickLength\":0.03,\"fTitleOffset\":1,\"fTitleSize\":0.035,\"fTitleColor\":1,\"fTitleFont\":42,\"fNbins\":100,\"fXmin\":0,\"fXmax\":108.6,\"fXbins\":[],\"fFirst\":0,\"fLast\":0,\"fBits2\":0,\"fTimeDisplay\":false,\"fTimeFormat\":\"\",\"fLabels\":null,\"fModLabs\":null},\"fYaxis\":{\"_typename\":\"TAxis\",\"fUniqueID\":0,\"fBits\":50331648,\"fName\":\"yaxis\",\"fTitle\":\"\",\"fNdivisions\":510,\"fAxisColor\":1,\"fLabelColor\":1,\"fLabelFont\":42,\"fLabelOffset\":0.005,\"fLabelSize\":0.035,\"fTickLength\":0.03,\"fTitleOffset\":0,\"fTitleSize\":0.035,\"fTitleColor\":1,\"fTitleFont\":42,\"fNbins\":1,\"fXmin\":-0.16059261304379,\"fXmax\":1.10551894601626,\"fXbins\":[],\"fFirst\":0,\"fLast\":0,\"fBits2\":0,\"fTimeDisplay\":false,\"fTimeFormat\":\"\",\"fLabels\":null,\"fModLabs\":null},\"fZaxis\":{\"_typename\":\"TAxis\",\"fUniqueID\":0,\"fBits\":50331648,\"fName\":\"zaxis\",\"fTitle\":\"\",\"fNdivisions\":510,\"fAxisColor\":1,\"fLabelColor\":1,\"fLabelFont\":42,\"fLabelOffset\":0.005,\"fLabelSize\":0.035,\"fTickLength\":0.03,\"fTitleOffset\":1,\"fTitleSize\":0.035,\"fTitleColor\":1,\"fTitleFont\":42,\"fNbins\":1,\"fXmin\":0,\"fXmax\":1,\"fXbins\":[],\"fFirst\":0,\"fLast\":0,\"fBits2\":0,\"fTimeDisplay\":false,\"fTimeFormat\":\"\",\"fLabels\":null,\"fModLabs\":null},\"fBarOffset\":0,\"fBarWidth\":1000,\"fEntries\":0,\"fTsumw\":0,\"fTsumw2\":0,\"fTsumwx\":0,\"fTsumwx2\":0,\"fMaximum\":1.10551894601626,\"fMinimum\":-0.16059261304379,\"fNormFactor\":0,\"fContour\":[],\"fSumw2\":[],\"fOption\":\"\",\"fFunctions\":{\"_typename\":\"TList\",\"name\":\"TList\",\"arr\":[],\"opt\":[]},\"fBufferSize\":0,\"fBuffer\":[],\"fBinStatErrOpt\":0,\"fStatOverflows\":2,\"fArray\":[0,0,0,0,0,0,0,0,0,0,0,0,0,0,0,0,0,0,0,0,0,0,0,0,0,0,0,0,0,0,0,0,0,0,0,0,0,0,0,0,0,0,0,0,0,0,0,0,0,0,0,0,0,0,0,0,0,0,0,0,0,0,0,0,0,0,0,0,0,0,0,0,0,0,0,0,0,0,0,0,0,0,0,0,0,0,0,0,0,0,0,0,0,0,0,0,0,0,0,0,0,0]},\"fMinimum\":-1111,\"fMaximum\":-1111,\"fEX\":[0,0,0,0,0,0,0,0,0,0,0,0,0,0,0,0,0,0,0,0,0,0,0,0,0,0,0,0,0,0,0,0,0,0,0,0,0,0,0,0,0,0,0,0,0,0,0,0,0],\"fEY\":[1.36755313360229e-141,1.80851288555446e-120,4.41239776262826e-101,1.98881929686709e-83,1.65905893179019e-67,2.56759284327633e-53,7.39706409973715e-41,3.98663143453295e-30,4.05007983619706e-21,7.85359282539082e-14,2.97358657877164e-8,2.30451335658342e-4,0.0411897118991313,0.250497014671107,0.186718723535089,0.100200657840249,0.0621231491951538,0.0423429993738027,0.0294367743436272,0.0201877723111198,0.0135523975265919,0.00892412177425115,0.00581223245110017,0.00381929220129323,0.00264184778990081,0.00203985493551884,0.00179460859295557,0.00172328661194698,0.00171669585652985,0.00172763389342552,0.00174000124354858,0.00174964716701842,0.001756282411206,0.00176058370312127,0.00176328319160821,0.00176494517818762,0.00176595612884593,0.00176656617835111,0.00176693227408617,0.00176715108686173,0.00176728146731769,0.0017673589640733,0.00176740493316721,0.00176743215296435,0.00176744824575028,0.00176745774686056,0.00176746334922755,0.00176746664876189,0.00176746858998611]}],\"opt\":[\"\",\"pa\",\"same\",\"same\",\"same\",\"same\",\"\"]},\"fExecs\":null,\"fName\":\"c_2ca9ab\",\"fTitle\":\"c_2ca9ab\",\"fNumPaletteColor\":0,\"fNextPaletteColor\":0,\"fDISPLAY\":\"$DISPLAY\",\"fDoubleBuffer\":0,\"fRetained\":true,\"fXsizeUser\":0,\"fYsizeUser\":0,\"fXsizeReal\":20,\"fYsizeReal\":15,\"fWindowTopX\":0,\"fWindowTopY\":0,\"fWindowWidth\":0,\"fWindowHeight\":0,\"fCw\":796,\"fCh\":572,\"fCatt\":{\"_typename\":\"TAttCanvas\",\"fXBetween\":2,\"fYBetween\":2,\"fTitleFromTop\":1.2,\"fXdate\":0.2,\"fYdate\":0.3,\"fAdate\":1},\"kMoveOpaque\":true,\"kResizeOpaque\":true,\"fHighLightColor\":2,\"fBatch\":true,\"kShowEventStatus\":false,\"kAutoExec\":true,\"kMenuBar\":true});\n",
       "       Core.draw(\"root_plot_76\", obj, \"\");\n",
       "     }\n",
       " );\n",
       "</script>\n"
      ],
      "text/plain": [
       "<IPython.core.display.HTML object>"
      ]
     },
     "metadata": {},
     "output_type": "display_data"
    },
    {
     "data": {
      "text/html": [
       "\n",
       "<div id=\"root_plot_77\"\n",
       "     style=\"width: 796px; height: 572px\">\n",
       "</div>\n",
       "\n",
       "<script>\n",
       " requirejs.config({\n",
       "     paths: {\n",
       "       'JSRootCore' : 'https://root.cern.ch/js/notebook//scripts/JSRootCore',\n",
       "     }\n",
       "   });\n",
       " require(['JSRootCore'],\n",
       "     function(Core) {\n",
       "       var obj = Core.JSONR_unref({\"_typename\":\"TCanvas\",\"fUniqueID\":0,\"fBits\":53673992,\"fLineColor\":1,\"fLineStyle\":1,\"fLineWidth\":1,\"fFillColor\":0,\"fFillStyle\":1001,\"fLeftMargin\":0.13,\"fRightMargin\":0.3,\"fBottomMargin\":0.13,\"fTopMargin\":0.1,\"fXfile\":2,\"fYfile\":2,\"fAfile\":1,\"fXstat\":0.99,\"fYstat\":0.99,\"fAstat\":2,\"fFrameFillColor\":0,\"fFrameLineColor\":1,\"fFrameFillStyle\":1001,\"fFrameLineStyle\":1,\"fFrameLineWidth\":1,\"fFrameBorderSize\":1,\"fFrameBorderMode\":0,\"fX1\":-25.0421046588559,\"fY1\":-0.185714283502611,\"fX2\":167.58947670572,\"fY2\":1.24285714852456,\"fXtoAbsPixelk\":103.480046204376,\"fXtoPixelk\":103.480046204376,\"fXtoPixel\":4.13224038530569,\"fYtoAbsPixelk\":497.640051065433,\"fYtoPixelk\":497.640051065433,\"fYtoPixel\":-400.399999031424,\"fUtoAbsPixelk\":5e-5,\"fUtoPixelk\":5e-5,\"fUtoPixel\":796,\"fVtoAbsPixelk\":572.00005,\"fVtoPixelk\":572,\"fVtoPixel\":-572,\"fAbsPixeltoXk\":-25.0421046588559,\"fPixeltoXk\":-25.0421046588559,\"fPixeltoX\":0.241999474076101,\"fAbsPixeltoYk\":1.24285714852456,\"fPixeltoYk\":-0.185714283502611,\"fPixeltoY\":-0.00249750250354401,\"fXlowNDC\":0,\"fYlowNDC\":0,\"fXUpNDC\":0,\"fYUpNDC\":0,\"fWNDC\":1,\"fHNDC\":1,\"fAbsXlowNDC\":0,\"fAbsYlowNDC\":0,\"fAbsWNDC\":1,\"fAbsHNDC\":1,\"fUxmin\":0,\"fUymin\":0,\"fUxmax\":109.8,\"fUymax\":1.1,\"fTheta\":30,\"fPhi\":30,\"fAspectRatio\":0,\"fNumber\":0,\"fTickx\":0,\"fTicky\":0,\"fLogx\":0,\"fLogy\":0,\"fLogz\":0,\"fPadPaint\":0,\"fCrosshair\":0,\"fCrosshairPos\":0,\"fBorderSize\":2,\"fBorderMode\":0,\"fModified\":true,\"fGridx\":false,\"fGridy\":false,\"fAbsCoord\":false,\"fEditable\":true,\"fFixedAspectRatio\":false,\"fPrimitives\":{\"_typename\":\"TList\",\"name\":\"TList\",\"arr\":[{\"_typename\":\"TFrame\",\"fUniqueID\":0,\"fBits\":50331656,\"fLineColor\":1,\"fLineStyle\":1,\"fLineWidth\":1,\"fFillColor\":0,\"fFillStyle\":1001,\"fX1\":0,\"fY1\":0,\"fX2\":109.8,\"fY2\":1.1,\"fBorderSize\":1,\"fBorderMode\":0},{\"_typename\":\"TGraphAsymmErrors\",\"fUniqueID\":0,\"fBits\":50332680,\"fName\":\"55efe8\",\"fTitle\":\"; p_{T}^{GEN} [GeV];\",\"fLineColor\":1,\"fLineStyle\":1,\"fLineWidth\":1,\"fFillColor\":0,\"fFillStyle\":1001,\"fMarkerColor\":1,\"fMarkerStyle\":8,\"fMarkerSize\":0.5,\"fNpoints\":49,\"fX\":[3,5,7,9,11,13,15,17,19,21,23,25,27,29,31,33,35,37,39,41,43,45,47,49,51,53,55,57,59,61,63,65,67,69,71,73,75,77,79,81,83,85,87,89,91,93,95,97,99],\"fY\":[0,0,0,0,0,0,0,0,0,0,0,0,0,0,0,0,0.0036036036036036,0.0207612456747405,0.130590339892665,0.402277039848197,0.68241965973535,0.838983050847458,0.908765652951699,0.93609022556391,0.972461273666093,0.976143141153082,0.982857142857143,0.987272727272727,0.992233009708738,0.99644128113879,0.996491228070175,1,0.996138996138996,1,1,1,0.99647266313933,0.998165137614679,0.998069498069498,1,0.99822695035461,1,1,0.998230088495575,0.998158379373849,0.998058252427184,0.998201438848921,1,1],\"fFunctions\":{\"_typename\":\"TList\",\"name\":\"TList\",\"arr\":[{\"_typename\":\"TF1\",\"fUniqueID\":0,\"fBits\":50332680,\"fName\":\"tf_yc\",\"fTitle\":\"tf_yc\",\"fLineColor\":6,\"fLineStyle\":1,\"fLineWidth\":2,\"fFillColor\":19,\"fFillStyle\":0,\"fMarkerColor\":1,\"fMarkerStyle\":1,\"fMarkerSize\":1,\"fXmin\":0,\"fXmax\":100,\"fNpar\":5,\"fNdim\":1,\"fNpx\":100,\"fType\":1,\"fNpfits\":49,\"fNDF\":45,\"fChisquare\":8.73079259897017,\"fMinimum\":-1111,\"fMaximum\":-1111,\"fParErrors\":[0.0157758300746524,0.438730541536522,0.632380609801143,4.88163629518756e-4,0],\"fParMin\":[0,0,0.1,0.9,1],\"fParMax\":[1,50,1,1,1],\"fSave\":[0,2.64133071952437e-306,2.56745193876378e-290,9.19473372513904e-275,1.2133061267417e-259,5.89978768432745e-245,1.05725838145987e-230,6.98317217387696e-217,1.70021537241528e-203,1.52613391955944e-190,5.05106259757733e-178,6.16516796373005e-166,2.77560431898658e-154,4.61007552187484e-143,2.82549200040409e-132,6.39183322413877e-122,5.33858234595501e-112,1.64678181501969e-102,1.87679101804798e-93,7.90586065035908e-85,1.23153780075803e-76,7.09836067930924e-69,1.51484666546408e-61,1.19789972217847e-54,3.51333779108117e-48,3.82610434901213e-42,1.5492744484746e-36,2.33653525052392e-31,1.31526714503794e-26,2.77098044589876e-22,2.19263259298046e-18,6.54716122861961e-15,7.42475291000289e-12,3.22679868005787e-9,5.44532900392677e-7,3.63959264303735e-5,9.94017143807178e-4,0.0116694817174271,0.0640055321010368,0.187005402797218,0.347767618081867,0.494004000209039,0.609816359458948,0.699180038595863,0.767993080438624,0.820977969878548,0.861775413790708,0.893188736357887,0.917376448627973,0.936000566583318,0.950340813636926,0.961382554569387,0.969884503131627,0.976430855721956,0.981471433411082,0.985352590603507,0.988341014169483,0.990642048362869,0.992413804689321,0.993778026259493,0.99482845315214,0.995637263598274,0.996260033580987,0.996739555641097,0.997108779291104,0.997393075082821,0.997611977900087,0.997780529263853,0.997910310883763,0.998010240474897,0.99808718452284,0.998146430102117,0.998192048168203,0.998227173286039,0.998254219016138,0.998275043758137,0.998291078447447,0.998303424879459,0.998312931417472,0.998320251286475,0.998325887458354,0.998330227212719,0.998333568748135,0.998336141672314,0.998338122779203,0.998339648197067,0.998340822742304,0.998341727121717,0.998342423478143,0.998342959660485,0.998343372511567,0.998343690399723,0.998343935168077,0.998344123635454,0.998344268752058,0.99834438048932,0.99834446652507,0.998344532771101,0.998344583779394,0.998344623054892,0.998344653296343,0,100],\"fNormalized\":false,\"fNormIntegral\":0,\"fFormula\":null,\"fParams\":{\"_typename\":\"TF1Parameters\",\"fParameters\":[0.261387341733777,38.2588911804709,0.999999993002954,0.998344754529524,0],\"fParNames\":[\"#lambda\",\"#mu\",\"#sigma\",\"Plateau\",\"Baseline\"]},\"fComposition_ptr\":null},{\"_typename\":\"TPaveStats\",\"fUniqueID\":0,\"fBits\":50462729,\"fLineColor\":1,\"fLineStyle\":1,\"fLineWidth\":1,\"fFillColor\":0,\"fFillStyle\":1001,\"fX1\":94.3894784279808,\"fY1\":0.692857160818019,\"fX2\":163.736848752585,\"fY2\":1.15000000884877,\"fX1NDC\":0.620000013709068,\"fY1NDC\":0.615000009536743,\"fX2NDC\":0.980000019073486,\"fY2NDC\":0.935000002384186,\"fBorderSize\":1,\"fInit\":1,\"fShadowColor\":1,\"fCornerRadius\":0,\"fOption\":\"brNDC\",\"fName\":\"stats\",\"fTextAngle\":0,\"fTextSize\":0,\"fTextAlign\":12,\"fTextColor\":1,\"fTextFont\":42,\"fLabel\":\"\",\"fLongest\":32,\"fMargin\":0.05,\"fLines\":{\"_typename\":\"TList\",\"name\":\"TList\",\"arr\":[{\"_typename\":\"TLatex\",\"fUniqueID\":0,\"fBits\":50331648,\"fName\":\"\",\"fTitle\":\"#chi^{2} \\/ ndf = 8.731 \\/ 45\",\"fTextAngle\":0,\"fTextSize\":0,\"fTextAlign\":0,\"fTextColor\":0,\"fTextFont\":0,\"fX\":0,\"fY\":0,\"fLineColor\":1,\"fLineStyle\":1,\"fLineWidth\":2,\"fLimitFactorSize\":3,\"fOriginSize\":0.04},{\"_typename\":\"TLatex\",\"fUniqueID\":0,\"fBits\":50331648,\"fName\":\"\",\"fTitle\":\"Prob  =     1\",\"fTextAngle\":0,\"fTextSize\":0,\"fTextAlign\":0,\"fTextColor\":0,\"fTextFont\":0,\"fX\":0,\"fY\":0,\"fLineColor\":1,\"fLineStyle\":1,\"fLineWidth\":2,\"fLimitFactorSize\":3,\"fOriginSize\":0.04},{\"_typename\":\"TLatex\",\"fUniqueID\":0,\"fBits\":50331648,\"fName\":\"\",\"fTitle\":\"#lambda  = 0.2614 #pm 0.01578 \",\"fTextAngle\":0,\"fTextSize\":0,\"fTextAlign\":0,\"fTextColor\":0,\"fTextFont\":0,\"fX\":0,\"fY\":0,\"fLineColor\":1,\"fLineStyle\":1,\"fLineWidth\":2,\"fLimitFactorSize\":3,\"fOriginSize\":0.04},{\"_typename\":\"TLatex\",\"fUniqueID\":0,\"fBits\":50331648,\"fName\":\"\",\"fTitle\":\"#mu      = 38.26 #pm 0.4387 \",\"fTextAngle\":0,\"fTextSize\":0,\"fTextAlign\":0,\"fTextColor\":0,\"fTextFont\":0,\"fX\":0,\"fY\":0,\"fLineColor\":1,\"fLineStyle\":1,\"fLineWidth\":2,\"fLimitFactorSize\":3,\"fOriginSize\":0.04},{\"_typename\":\"TLatex\",\"fUniqueID\":0,\"fBits\":50331648,\"fName\":\"\",\"fTitle\":\"#sigma   =     1 #pm 0.6324 \",\"fTextAngle\":0,\"fTextSize\":0,\"fTextAlign\":0,\"fTextColor\":0,\"fTextFont\":0,\"fX\":0,\"fY\":0,\"fLineColor\":1,\"fLineStyle\":1,\"fLineWidth\":2,\"fLimitFactorSize\":3,\"fOriginSize\":0.04},{\"_typename\":\"TLatex\",\"fUniqueID\":0,\"fBits\":50331648,\"fName\":\"\",\"fTitle\":\"Plateau  = 0.9983 #pm 0.0004882 \",\"fTextAngle\":0,\"fTextSize\":0,\"fTextAlign\":0,\"fTextColor\":0,\"fTextFont\":0,\"fX\":0,\"fY\":0,\"fLineColor\":1,\"fLineStyle\":1,\"fLineWidth\":2,\"fLimitFactorSize\":3,\"fOriginSize\":0.04},{\"_typename\":\"TLatex\",\"fUniqueID\":0,\"fBits\":50331648,\"fName\":\"\",\"fTitle\":\"Baseline =     0 #pm     0 \",\"fTextAngle\":0,\"fTextSize\":0,\"fTextAlign\":0,\"fTextColor\":0,\"fTextFont\":0,\"fX\":0,\"fY\":0,\"fLineColor\":1,\"fLineStyle\":1,\"fLineWidth\":2,\"fLimitFactorSize\":3,\"fOriginSize\":0.04}],\"opt\":[\"\",\"\",\"\",\"\",\"\",\"\",\"\"]},\"fOptFit\":11111,\"fOptStat\":0,\"fFitFormat\":\"5.4g\",\"fStatFormat\":\"6.4g\",\"fParent\":{\"$ref\":4}}],\"opt\":[\"\",\"brNDC\"]},\"fHistogram\":{\"_typename\":\"TH1F\",\"fUniqueID\":0,\"fBits\":50331648,\"fName\":\"55efe8\",\"fTitle\":\"\",\"fLineColor\":602,\"fLineStyle\":1,\"fLineWidth\":1,\"fFillColor\":0,\"fFillStyle\":1001,\"fMarkerColor\":1,\"fMarkerStyle\":1,\"fMarkerSize\":1,\"fNcells\":102,\"fXaxis\":{\"_typename\":\"TAxis\",\"fUniqueID\":0,\"fBits\":50331656,\"fName\":\"xaxis\",\"fTitle\":\" p_{T}^{GEN} [GeV]\",\"fNdivisions\":510,\"fAxisColor\":1,\"fLabelColor\":1,\"fLabelFont\":42,\"fLabelOffset\":0.005,\"fLabelSize\":0.035,\"fTickLength\":0.03,\"fTitleOffset\":1.4,\"fTitleSize\":0.035,\"fTitleColor\":1,\"fTitleFont\":42,\"fNbins\":100,\"fXmin\":0,\"fXmax\":109.8,\"fXbins\":[],\"fFirst\":0,\"fLast\":0,\"fBits2\":0,\"fTimeDisplay\":false,\"fTimeFormat\":\"\",\"fLabels\":null,\"fModLabs\":null},\"fYaxis\":{\"_typename\":\"TAxis\",\"fUniqueID\":0,\"fBits\":50331656,\"fName\":\"yaxis\",\"fTitle\":\"L1 matched to GEN and p_{T}>th.\\/L1 matched to GEN\",\"fNdivisions\":510,\"fAxisColor\":1,\"fLabelColor\":1,\"fLabelFont\":42,\"fLabelOffset\":0.005,\"fLabelSize\":0.035,\"fTickLength\":0.03,\"fTitleOffset\":0,\"fTitleSize\":0.035,\"fTitleColor\":1,\"fTitleFont\":42,\"fNbins\":1,\"fXmin\":0,\"fXmax\":1.1,\"fXbins\":[],\"fFirst\":0,\"fLast\":0,\"fBits2\":0,\"fTimeDisplay\":false,\"fTimeFormat\":\"\",\"fLabels\":null,\"fModLabs\":null},\"fZaxis\":{\"_typename\":\"TAxis\",\"fUniqueID\":0,\"fBits\":50331648,\"fName\":\"zaxis\",\"fTitle\":\"\",\"fNdivisions\":510,\"fAxisColor\":1,\"fLabelColor\":1,\"fLabelFont\":42,\"fLabelOffset\":0.005,\"fLabelSize\":0.035,\"fTickLength\":0.03,\"fTitleOffset\":1,\"fTitleSize\":0.035,\"fTitleColor\":1,\"fTitleFont\":42,\"fNbins\":1,\"fXmin\":0,\"fXmax\":1,\"fXbins\":[],\"fFirst\":0,\"fLast\":0,\"fBits2\":0,\"fTimeDisplay\":false,\"fTimeFormat\":\"\",\"fLabels\":null,\"fModLabs\":null},\"fBarOffset\":0,\"fBarWidth\":1000,\"fEntries\":0,\"fTsumw\":0,\"fTsumw2\":0,\"fTsumwx\":0,\"fTsumwx2\":0,\"fMaximum\":1.1,\"fMinimum\":0,\"fNormFactor\":0,\"fContour\":[],\"fSumw2\":[],\"fOption\":\"\",\"fFunctions\":{\"_typename\":\"TList\",\"name\":\"TList\",\"arr\":[],\"opt\":[]},\"fBufferSize\":0,\"fBuffer\":[],\"fBinStatErrOpt\":0,\"fStatOverflows\":2,\"fArray\":[0,0,0,0,0,0,0,0,0,0,0,0,0,0,0,0,0,0,0,0,0,0,0,0,0,0,0,0,0,0,0,0,0,0,0,0,0,0,0,0,0,0,0,0,0,0,0,0,0,0,0,0,0,0,0,0,0,0,0,0,0,0,0,0,0,0,0,0,0,0,0,0,0,0,0,0,0,0,0,0,0,0,0,0,0,0,0,0,0,0,0,0,0,0,0,0,0,0,0,0,0,0]},\"fMinimum\":-1111,\"fMaximum\":-1111,\"fEXlow\":[1,1,1,1,1,1,1,1,1,1,1,1,1,1,1,1,1,1,1,1,1,1,1,1,1,1,1,1,1,1,1,1,1,1,1,1,1,1,1,1,1,1,1,1,1,1,1,1,1],\"fEXhigh\":[1,1,1,1,1,1,1,1,1,1,1,1,1,1,1,1,1,1,1,1,1,1,1,1,1,1,1,1,1,1,1,1,1,1,1,1,1,1,1,1,1,1,1,1,1,1,1,1,1],\"fEYlow\":[0,0,0,0,0,0,0,0,0,0,0,0,0,0,0,0,0.00232725778845127,0.00587749888662546,0.0144401899900823,0.0220940728284172,0.0215273733580116,0.0187290898578683,0.0138592307104322,0.0124447818293555,0.00858958959140499,0.0089157081906629,0.00773111081837352,0.00678791377734334,0.00609858294376964,0.00467435060619115,0.0046090132127572,0.00350056657582654,0.00506961820607532,0.00346759968683441,0.00337851090995966,0.00338472230368492,0.0046332995610554,0.00420655633739031,0.00442511811202106,0.00359629985182086,0.00406526099946136,0.00353416632119274,0.00347414329597728,0.00405808687428899,0.00422200298480258,0.00445081284829207,0.00412358026016912,0.00356151411478722,0.00366065719283548],\"fEYhigh\":[0.0110956905950783,0.00797249169425943,0.00575460618350494,0.00466174395275809,0.00406477309155856,0.00453541625251657,0.00386022264228776,0.00393447011365783,0.00381226179010358,0.00357534734320347,0.00354096381975243,0.00348071164830587,0.00367527288081863,0.00341612503995261,0.00340349428054338,0.00375779220064688,0.00473305947476051,0.00777574309312921,0.015843338304985,0.0224809535616476,0.0208063342232753,0.0172047298971498,0.0122909424636444,0.0106619260564249,0.00675877748610265,0.00674846185842348,0.00558510303601689,0.00468197640518275,0.003713557184024,0.00229827473165234,0.00226602278609156,0,0.00249346472665857,0,0,0,0.00227801062754107,0.00151793320693461,0.00159705603204052,0,0.00146679552412288,0,0,0.00146419934298714,0.00152352430682134,0.00160635959682764,0.00148790118023034,0,0]},{\"_typename\":\"TLatex\",\"fUniqueID\":0,\"fBits\":50348040,\"fName\":\"\",\"fTitle\":\"PU200, EG, hwQual 5, p_{T}^{L1}>=40GeV, 1.52 < |#eta^{GEN}| <= 2.4\",\"fTextAngle\":0,\"fTextSize\":0.03,\"fTextAlign\":11,\"fTextColor\":1,\"fTextFont\":62,\"fX\":0.15,\"fY\":0.85,\"fLineColor\":1,\"fLineStyle\":1,\"fLineWidth\":2,\"fLimitFactorSize\":3,\"fOriginSize\":0.04},{\"_typename\":\"TLatex\",\"fUniqueID\":0,\"fBits\":50331656,\"fName\":\"\",\"fTitle\":\"\",\"fTextAngle\":0,\"fTextSize\":0.03,\"fTextAlign\":11,\"fTextColor\":1,\"fTextFont\":62,\"fX\":0,\"fY\":0,\"fLineColor\":1,\"fLineStyle\":1,\"fLineWidth\":2,\"fLimitFactorSize\":3,\"fOriginSize\":0.04},{\"_typename\":\"TLine\",\"fUniqueID\":0,\"fBits\":50331656,\"fLineColor\":1,\"fLineStyle\":2,\"fLineWidth\":1,\"fX1\":0,\"fY1\":0.95,\"fX2\":109.8,\"fY2\":0.95},{\"_typename\":\"TLine\",\"fUniqueID\":0,\"fBits\":50331656,\"fLineColor\":1,\"fLineStyle\":2,\"fLineWidth\":1,\"fX1\":0,\"fY1\":1,\"fX2\":109.8,\"fY2\":1},{\"_typename\":\"TGraphErrors\",\"fUniqueID\":0,\"fBits\":50332680,\"fName\":\"Graph\",\"fTitle\":\"Fitted line with .95 conf. band\",\"fLineColor\":1,\"fLineStyle\":1,\"fLineWidth\":1,\"fFillColor\":0,\"fFillStyle\":1000,\"fMarkerColor\":1,\"fMarkerStyle\":1,\"fMarkerSize\":1,\"fNpoints\":49,\"fX\":[3,5,7,9,11,13,15,17,19,21,23,25,27,29,31,33,35,37,39,41,43,45,47,49,51,53,55,57,59,61,63,65,67,69,71,73,75,77,79,81,83,85,87,89,91,93,95,97,99],\"fY\":[9.19473372513904e-275,5.89978768432745e-245,6.98317217387696e-217,1.52613391955944e-190,6.16516796373005e-166,4.61007552187484e-143,6.39183322413877e-122,1.64678181501969e-102,7.90586065035908e-85,7.09836067930924e-69,1.19789972217847e-54,3.82610434901213e-42,2.33653525052392e-31,2.77098044589876e-22,6.54716122861961e-15,3.22679868005787e-9,3.63959264303735e-5,0.0116694817174271,0.187005402797218,0.494004000209039,0.699180038595863,0.820977969878548,0.893188736357887,0.936000566583318,0.961382554569387,0.976430855721956,0.985352590603507,0.990642048362869,0.993778026259493,0.995637263598274,0.996739555641097,0.997393075082821,0.997780529263853,0.998010240474897,0.998146430102117,0.998227173286039,0.998275043758137,0.998303424879459,0.998320251286475,0.998330227212719,0.998336141672314,0.998339648197067,0.998341727121717,0.998342959660485,0.998343690399723,0.998344123635454,0.99834438048932,0.998344532771101,0.998344623054892],\"fFunctions\":{\"_typename\":\"TList\",\"name\":\"TList\",\"arr\":[],\"opt\":[]},\"fHistogram\":null,\"fMinimum\":-1111,\"fMaximum\":-1111,\"fEX\":[0,0,0,0,0,0,0,0,0,0,0,0,0,0,0,0,0,0,0,0,0,0,0,0,0,0,0,0,0,0,0,0,0,0,0,0,0,0,0,0,0,0,0,0,0,0,0,0,0],\"fEY\":[0,0,0,0,0,1.96176946832229e-141,2.50522426691437e-120,5.90148058410568e-101,2.56794099717291e-83,2.06776440931507e-67,3.08864586700094e-53,8.58754599577361e-41,4.4665149573023e-30,4.37926431276133e-21,8.19736634768099e-14,2.99782572065158e-8,2.24743592069117e-4,0.039037306866915,0.234559128181739,0.179386154029811,0.0983439144308972,0.0605886147167761,0.0412448387106782,0.029160727359005,0.0205914711082761,0.0143215306590604,0.00979446326788844,0.00661908957140345,0.00447913587732871,0.00312372332912995,0.00235259213285515,0.00198402106424099,0.00184686730434333,0.00181457250641207,0.00181939307640585,0.00183310377659497,0.00184609919867463,0.0018560283252736,0.00186296404521517,0.00186758894913548,0.0018705911786381,0.00187250786121984,0.0018737182851711,0.00187447705544388,0.00187495020780489,0.00187524411033889,0.00187542612420067,0.00187553857492098,0.0018756079102077]}],\"opt\":[\"\",\"pa\",\"same\",\"same\",\"same\",\"same\",\"\"]},\"fExecs\":null,\"fName\":\"c_71b0d9\",\"fTitle\":\"c_71b0d9\",\"fNumPaletteColor\":0,\"fNextPaletteColor\":0,\"fDISPLAY\":\"$DISPLAY\",\"fDoubleBuffer\":0,\"fRetained\":true,\"fXsizeUser\":0,\"fYsizeUser\":0,\"fXsizeReal\":20,\"fYsizeReal\":15,\"fWindowTopX\":0,\"fWindowTopY\":0,\"fWindowWidth\":0,\"fWindowHeight\":0,\"fCw\":796,\"fCh\":572,\"fCatt\":{\"_typename\":\"TAttCanvas\",\"fXBetween\":2,\"fYBetween\":2,\"fTitleFromTop\":1.2,\"fXdate\":0.2,\"fYdate\":0.3,\"fAdate\":1},\"kMoveOpaque\":true,\"kResizeOpaque\":true,\"fHighLightColor\":2,\"fBatch\":true,\"kShowEventStatus\":false,\"kAutoExec\":true,\"kMenuBar\":true});\n",
       "       Core.draw(\"root_plot_77\", obj, \"\");\n",
       "     }\n",
       " );\n",
       "</script>\n"
      ],
      "text/plain": [
       "<IPython.core.display.HTML object>"
      ]
     },
     "metadata": {},
     "output_type": "display_data"
    }
   ],
   "source": [
    "ROOT.TVirtualFitter.SetDefaultFitter(\"Fumili2\")\n",
    "ROOT.TVirtualFitter.SetPrecision(1e-04)\n",
    "\n",
    "import array\n",
    "\n",
    "class HWrapper(object):\n",
    "    def __init__(self, histo):\n",
    "        self.histo = histo\n",
    "    \n",
    "    def get(self, debug=False):\n",
    "        return self.histo\n",
    "\n",
    "\n",
    "# tps_scaling = ['EG', 'TkEleEL']\n",
    "# tp_sel_scaling = [('EGq3Pt{}', 'EGq3'), ('EGq4Pt{}', 'EGq4'), ('EGq5Pt{}', 'EGq5')]\n",
    "# pt_points = [10, 15, 20, 25, 30, 40]\n",
    "\n",
    "sample = 'ele-V9'\n",
    "tps_scaling = ['EG']\n",
    "tp_sel_scaling = [('EGq5Pt{}', 'EGq5')]\n",
    "pt_points = [10, 15, 20, 25, 30, 40]\n",
    "\n",
    "# sample = 'calib'\n",
    "# tps_scaling = ['HMvDRshapeDrCalib']\n",
    "# tp_sel_scaling = [('EmPt{}', 'Em')]\n",
    "# pt_points = [10, 20, 30]\n",
    "\n",
    "\n",
    "for pu in ['PU0', 'PU200']:\n",
    "    for gen_sel in ['GENEtaBC']:\n",
    "        for tp in tps_scaling:\n",
    "            for tp_sel_strings in tp_sel_scaling:\n",
    "                pt_95 = []\n",
    "                pt_95_err = []\n",
    "                for pt in pt_points:\n",
    "#                     for (i=0; i<ngr; i++)\n",
    "#       grint->SetPoint(i, gr->GetX()[i], 0);\n",
    "        \n",
    "                    tp_sel = tp_sel_strings[0].format(pt)\n",
    "                    hsets, labels, text = hplot.get_histo(histos.HistoSetEff, sample, pu, tp, tp_sel, gen_sel)\n",
    "                        # drawSeveral([his.hreso.h_ptResVpt for his in hsets], labels,  'COLZ', do_profile=True, text=text)\n",
    "        #                 draw([his.h_ton.h_pt.CreateGraph() for his in hsets], labels, text=text, min_y=0, max_y=1.1, y_axis_label='L1 matched to GEN and p_{T}>th./L1 matched to GEN', h_lines=[0.95, 1])\n",
    "\n",
    "#                     if pt == 20:\n",
    "                    tf_yc.SetParameters(0.6, pt, 0.1, 1.0, 0.0)\n",
    "#                     else:\n",
    "#                         tf_yc.SetParameters(1, 20, 4, 1.0, 0.0)\n",
    "                    h_eff_vs_pt = [his.h_ton.h_pt.CreateGraph() for his in hsets]\n",
    "\n",
    "                    result = h_eff_vs_pt[0].Fit(tf_yc, 'EMQRS+')\n",
    "\n",
    "                    grint = ROOT.TGraphErrors(h_eff_vs_pt[0].GetN())\n",
    "                    stuff.append(grint)\n",
    "                    grint.SetTitle(\"Fitted line with .95 conf. band\")\n",
    "                    for point in range(0, h_eff_vs_pt[0].GetN()):\n",
    "                        grint.SetPoint(point, h_eff_vs_pt[0].GetX()[point], 0)\n",
    "                    ROOT.TVirtualFitter.GetFitter().GetConfidenceIntervals(grint)\n",
    "\n",
    "                        \n",
    "                    print '------- {}'.format( text)\n",
    "                    print result.Print()\n",
    "                    pt095 = tf_yc.GetX(0.95)\n",
    "                    pt_95.append(pt095)\n",
    "\n",
    "                    prev_err = 0\n",
    "                    error = 0\n",
    "                    for idx,point in enumerate(grint.GetX()):\n",
    "#                         print idx, point, grint.GetEY()[idx]\n",
    "                        if pt095 > point:\n",
    "                            prev_err = grint.GetEY()[idx]\n",
    "                        else:\n",
    "                            error = (prev_err+grint.GetEY()[idx])/2\n",
    "                            break\n",
    "                    pt_95_err.append(error)\n",
    "                    print '       pt th: {}, 95% eff: {}, err: {}'.format(pt, pt095, error)\n",
    "                    #                 points.append((tp, pu, pt, pt095))\n",
    "                    draw(h_eff_vs_pt, labels, text=text, min_y=0, max_y=1.1, y_axis_label='L1 matched to GEN and p_{T}>th./L1 matched to GEN', h_lines=[0.95, 1])\n",
    "                    ROOT.gStyle.SetOptFit(11111)\n",
    "                    grint.Draw('same')\n",
    "\n",
    "                print len(pt_points)\n",
    "                print len(pt_95)\n",
    "                print len(pt_95_err)\n",
    "                print pt_95_err\n",
    "                \n",
    "                graph = ROOT.TGraphErrors(len(pt_points), array.array('d', pt_points), \n",
    "                                                          array.array('d', pt_95),\n",
    "                                                          array.array('d', [0.]*len(pt_points)),\n",
    "                                                          array.array('d', pt_95_err) )\n",
    "                graph.SetMarkerStyle(7)\n",
    "                graph.SetMarkerColor(2)\n",
    "                stuff.append(graph)\n",
    "\n",
    "                hplot.data = hplot.data.append({'sample': sample,\n",
    "                                                'pu': pu,\n",
    "                                                'tp': tp,\n",
    "                                                'tp_sel': tp_sel_strings[1],\n",
    "                                                'gen_sel': gen_sel,\n",
    "                                                'classtype': fake_histoname,\n",
    "                                                'histo': HWrapper(graph),},\n",
    "                                                ignore_index=True)\n",
    "\n",
    "                \n",
    "                "
   ]
  },
  {
   "cell_type": "code",
   "execution_count": 140,
   "metadata": {},
   "outputs": [
    {
     "data": {
      "text/html": [
       "<div>\n",
       "<style scoped>\n",
       "    .dataframe tbody tr th:only-of-type {\n",
       "        vertical-align: middle;\n",
       "    }\n",
       "\n",
       "    .dataframe tbody tr th {\n",
       "        vertical-align: top;\n",
       "    }\n",
       "\n",
       "    .dataframe thead th {\n",
       "        text-align: right;\n",
       "    }\n",
       "</style>\n",
       "<table border=\"1\" class=\"dataframe\">\n",
       "  <thead>\n",
       "    <tr style=\"text-align: right;\">\n",
       "      <th></th>\n",
       "      <th>sample</th>\n",
       "      <th>pu</th>\n",
       "      <th>tp</th>\n",
       "      <th>tp_sel</th>\n",
       "      <th>gen_sel</th>\n",
       "      <th>classtype</th>\n",
       "      <th>histo</th>\n",
       "    </tr>\n",
       "  </thead>\n",
       "  <tbody>\n",
       "    <tr>\n",
       "      <th>3826</th>\n",
       "      <td>ele-V9</td>\n",
       "      <td>PU0</td>\n",
       "      <td>EG</td>\n",
       "      <td>EGq4</td>\n",
       "      <td>GENEtaBC</td>\n",
       "      <td>88a314</td>\n",
       "      <td>&lt;__main__.HWrapper object at 0x11d0dfe50&gt;</td>\n",
       "    </tr>\n",
       "    <tr>\n",
       "      <th>3827</th>\n",
       "      <td>ele-V9</td>\n",
       "      <td>PU200</td>\n",
       "      <td>EG</td>\n",
       "      <td>EGq4</td>\n",
       "      <td>GENEtaBC</td>\n",
       "      <td>88a314</td>\n",
       "      <td>&lt;__main__.HWrapper object at 0x11cc32cd0&gt;</td>\n",
       "    </tr>\n",
       "    <tr>\n",
       "      <th>3828</th>\n",
       "      <td>ele-V9</td>\n",
       "      <td>PU0</td>\n",
       "      <td>EG</td>\n",
       "      <td>EGq5</td>\n",
       "      <td>GENEtaBC</td>\n",
       "      <td>88a314</td>\n",
       "      <td>&lt;__main__.HWrapper object at 0x11bfac250&gt;</td>\n",
       "    </tr>\n",
       "    <tr>\n",
       "      <th>3829</th>\n",
       "      <td>ele-V9</td>\n",
       "      <td>PU200</td>\n",
       "      <td>EG</td>\n",
       "      <td>EGq5</td>\n",
       "      <td>GENEtaBC</td>\n",
       "      <td>88a314</td>\n",
       "      <td>&lt;__main__.HWrapper object at 0x11bf98c10&gt;</td>\n",
       "    </tr>\n",
       "  </tbody>\n",
       "</table>\n",
       "</div>"
      ],
      "text/plain": [
       "      sample     pu  tp tp_sel   gen_sel classtype  \\\n",
       "3826  ele-V9    PU0  EG   EGq4  GENEtaBC    88a314   \n",
       "3827  ele-V9  PU200  EG   EGq4  GENEtaBC    88a314   \n",
       "3828  ele-V9    PU0  EG   EGq5  GENEtaBC    88a314   \n",
       "3829  ele-V9  PU200  EG   EGq5  GENEtaBC    88a314   \n",
       "\n",
       "                                          histo  \n",
       "3826  <__main__.HWrapper object at 0x11d0dfe50>  \n",
       "3827  <__main__.HWrapper object at 0x11cc32cd0>  \n",
       "3828  <__main__.HWrapper object at 0x11bfac250>  \n",
       "3829  <__main__.HWrapper object at 0x11bf98c10>  "
      ]
     },
     "execution_count": 140,
     "metadata": {},
     "output_type": "execute_result"
    }
   ],
   "source": [
    "hplot.data[hplot.data.classtype == fake_histoname]\n"
   ]
  },
  {
   "cell_type": "code",
   "execution_count": 141,
   "metadata": {},
   "outputs": [
    {
     "data": {
      "text/plain": [
       "array(['ele-V9'], dtype=object)"
      ]
     },
     "execution_count": 141,
     "metadata": {},
     "output_type": "execute_result"
    }
   ],
   "source": [
    "hplot.data[hplot.data.classtype == fake_histoname]['sample'].unique()"
   ]
  },
  {
   "cell_type": "code",
   "execution_count": 142,
   "metadata": {
    "scrolled": false
   },
   "outputs": [
    {
     "name": "stdout",
     "output_type": "stream",
     "text": [
      "ele-V9\n",
      " FCN=677.332 FROM MINOS     STATUS=SUCCESSFUL     12 CALLS          77 TOTAL\n",
      "                     EDM=2.30573e-15    STRATEGY= 1      ERROR MATRIX ACCURATE \n",
      "  EXT PARAMETER                                   STEP         FIRST   \n",
      "  NO.   NAME      VALUE            ERROR          SIZE      DERIVATIVE \n",
      "   1  p0           9.46854e+00   3.84321e-02   7.69978e-08   8.40038e-09\n",
      "   2  p1           1.12507e+00   1.65213e-03   1.65213e-03  -1.78041e-06\n",
      " FCN=75.9264 FROM MINOS     STATUS=SUCCESSFUL     12 CALLS         103 TOTAL\n",
      "                     EDM=4.29279e-15    STRATEGY= 1      ERROR MATRIX ACCURATE \n",
      "  EXT PARAMETER                                   STEP         FIRST   \n",
      "  NO.   NAME      VALUE            ERROR          SIZE      DERIVATIVE \n",
      "   1  p0           5.79622e+00   7.89556e-02   5.82524e-07  -1.34512e-07\n",
      "   2  p1           1.11077e+00   3.43194e-03   3.43194e-03  -2.13489e-07\n",
      " FCN=344.07 FROM MINOS     STATUS=SUCCESSFUL     12 CALLS          78 TOTAL\n",
      "                     EDM=1.41873e-14    STRATEGY= 1      ERROR MATRIX ACCURATE \n",
      "  EXT PARAMETER                                   STEP         FIRST   \n",
      "  NO.   NAME      VALUE            ERROR          SIZE      DERIVATIVE \n",
      "   1  p0           1.05656e+01   4.71091e-02   1.29510e-07  -2.16107e-07\n",
      "   2  p1           1.06463e+00   2.41039e-03   2.41039e-03  -8.53402e-07\n",
      " FCN=118.139 FROM MINOS     STATUS=SUCCESSFUL     12 CALLS          82 TOTAL\n",
      "                     EDM=2.351e-14    STRATEGY= 1      ERROR MATRIX ACCURATE \n",
      "  EXT PARAMETER                                   STEP         FIRST   \n",
      "  NO.   NAME      VALUE            ERROR          SIZE      DERIVATIVE \n",
      "   1  p0           7.97982e+00   5.55019e-02  -6.06076e-07  -4.13651e-08\n",
      "   2  p1           1.03613e+00   2.32314e-03   2.32314e-03   7.06259e-07\n"
     ]
    },
    {
     "data": {
      "text/html": [
       "\n",
       "<div id=\"root_plot_78\"\n",
       "     style=\"width: 796px; height: 572px\">\n",
       "</div>\n",
       "\n",
       "<script>\n",
       " requirejs.config({\n",
       "     paths: {\n",
       "       'JSRootCore' : 'https://root.cern.ch/js/notebook//scripts/JSRootCore',\n",
       "     }\n",
       "   });\n",
       " require(['JSRootCore'],\n",
       "     function(Core) {\n",
       "       var obj = Core.JSONR_unref({\"_typename\":\"TCanvas\",\"fUniqueID\":0,\"fBits\":53673992,\"fLineColor\":1,\"fLineStyle\":1,\"fLineWidth\":1,\"fFillColor\":0,\"fFillStyle\":1001,\"fLeftMargin\":0.13,\"fRightMargin\":0.3,\"fBottomMargin\":0.13,\"fTopMargin\":0.1,\"fXfile\":2,\"fYfile\":2,\"fAfile\":1,\"fXstat\":0.99,\"fYstat\":0.99,\"fAstat\":2,\"fFrameFillColor\":0,\"fFrameLineColor\":1,\"fFrameFillStyle\":1001,\"fFrameLineStyle\":1,\"fFrameLineWidth\":1,\"fFrameBorderSize\":1,\"fFrameBorderMode\":0,\"fX1\":-1.21052611765769,\"fY1\":-10.1298700092333,\"fX2\":61.9473694117116,\"fY2\":67.7922081013397,\"fXtoAbsPixelk\":15.2567139780998,\"fXtoPixelk\":15.2567139780998,\"fXtoPixel\":12.6033331751823,\"fYtoAbsPixelk\":497.640051065433,\"fYtoPixelk\":497.640051065433,\"fYtoPixel\":-7.34066664890945,\"fUtoAbsPixelk\":5e-5,\"fUtoPixelk\":5e-5,\"fUtoPixel\":796,\"fVtoAbsPixelk\":572.00005,\"fVtoPixelk\":572,\"fVtoPixel\":-572,\"fAbsPixeltoXk\":-1.21052611765769,\"fPixeltoXk\":-1.21052611765769,\"fPixeltoX\":0.0793440898610166,\"fAbsPixeltoYk\":67.7922081013397,\"fPixeltoYk\":-10.1298700092333,\"fPixeltoY\":-0.136227409284218,\"fXlowNDC\":0,\"fYlowNDC\":0,\"fXUpNDC\":0,\"fYUpNDC\":0,\"fWNDC\":1,\"fHNDC\":1,\"fAbsXlowNDC\":0,\"fAbsYlowNDC\":0,\"fAbsWNDC\":1,\"fAbsHNDC\":1,\"fUxmin\":7,\"fUymin\":0,\"fUxmax\":43,\"fUymax\":60,\"fTheta\":30,\"fPhi\":30,\"fAspectRatio\":0,\"fNumber\":0,\"fTickx\":0,\"fTicky\":0,\"fLogx\":0,\"fLogy\":0,\"fLogz\":0,\"fPadPaint\":0,\"fCrosshair\":0,\"fCrosshairPos\":0,\"fBorderSize\":2,\"fBorderMode\":0,\"fModified\":false,\"fGridx\":false,\"fGridy\":false,\"fAbsCoord\":false,\"fEditable\":true,\"fFixedAspectRatio\":false,\"fPrimitives\":{\"_typename\":\"TList\",\"name\":\"TList\",\"arr\":[{\"_typename\":\"TFrame\",\"fUniqueID\":0,\"fBits\":50331656,\"fLineColor\":1,\"fLineStyle\":1,\"fLineWidth\":1,\"fFillColor\":0,\"fFillStyle\":1001,\"fX1\":7,\"fY1\":0,\"fX2\":43,\"fY2\":60,\"fBorderSize\":1,\"fBorderMode\":0},{\"_typename\":\"TGraphErrors\",\"fUniqueID\":0,\"fBits\":50332680,\"fName\":\"3ecc92\",\"fTitle\":\";;\",\"fLineColor\":1,\"fLineStyle\":1,\"fLineWidth\":1,\"fFillColor\":0,\"fFillStyle\":1001,\"fMarkerColor\":1,\"fMarkerStyle\":8,\"fMarkerSize\":0.5,\"fNpoints\":6,\"fX\":[10,15,20,25,30,40],\"fY\":[20.1917430892629,26.8774509929179,32.4271549966345,37.6351483698791,43.1454351510184,54.0829265514659],\"fFunctions\":{\"_typename\":\"TList\",\"name\":\"TList\",\"arr\":[{\"_typename\":\"TF1\",\"fUniqueID\":0,\"fBits\":50332672,\"fName\":\"pol1\",\"fTitle\":\"pol1\",\"fLineColor\":2,\"fLineStyle\":1,\"fLineWidth\":2,\"fFillColor\":19,\"fFillStyle\":0,\"fMarkerColor\":1,\"fMarkerStyle\":1,\"fMarkerSize\":1,\"fXmin\":5,\"fXmax\":35,\"fNpar\":2,\"fNdim\":1,\"fNpx\":100,\"fType\":0,\"fNpfits\":4,\"fNDF\":2,\"fChisquare\":677.331686453827,\"fMinimum\":-1111,\"fMaximum\":-1111,\"fParErrors\":[0.0384316443999809,0.00165211747955886],\"fParMin\":[0,0],\"fParMax\":[0,0],\"fSave\":[15.0938675123311,15.4313873330164,15.7689071537018,16.1064269743872,16.4439467950725,16.7814666157579,17.1189864364433,17.4565062571286,17.794026077814,18.1315458984994,18.4690657191847,18.8065855398701,19.1441053605555,19.4816251812409,19.8191450019262,20.1566648226116,20.494184643297,20.8317044639823,21.1692242846677,21.5067441053531,21.8442639260384,22.1817837467238,22.5193035674092,22.8568233880945,23.1943432087799,23.5318630294653,23.8693828501506,24.206902670836,24.5444224915214,24.8819423122067,25.2194621328921,25.5569819535775,25.8945017742628,26.2320215949482,26.5695414156336,26.907061236319,27.2445810570043,27.5821008776897,27.9196206983751,28.2571405190604,28.5946603397458,28.9321801604312,29.2696999811165,29.6072198018019,29.9447396224873,30.2822594431726,30.619779263858,30.9572990845434,31.2948189052287,31.6323387259141,31.9698585465995,32.3073783672848,32.6448981879702,32.9824180086556,33.319937829341,33.6574576500263,33.9949774707117,34.3324972913971,34.6700171120824,35.0075369327678,35.3450567534532,35.6825765741385,36.0200963948239,36.3576162155093,36.6951360361946,37.03265585688,37.3701756775654,37.7076954982507,38.0452153189361,38.3827351396215,38.7202549603069,39.0577747809922,39.3952946016776,39.732814422363,40.0703342430483,40.4078540637337,40.7453738844191,41.0828937051044,41.4204135257898,41.7579333464752,42.0954531671605,42.4329729878459,42.7704928085313,43.1080126292166,43.445532449902,43.7830522705874,44.1205720912727,44.4580919119581,44.7956117326435,45.1331315533289,45.4706513740142,45.8081711946996,46.145691015385,46.4832108360703,46.8207306567557,47.1582504774411,47.4957702981264,47.8332901188118,48.1708099394972,48.5083297601825,48.8458495808679,5,35],\"fNormalized\":false,\"fNormIntegral\":0,\"fFormula\":{\"_typename\":\"TFormula\",\"fUniqueID\":0,\"fBits\":50398208,\"fName\":\"pol1\",\"fTitle\":\"pol1\",\"fClingParameters\":[9.46853716757492,1.12506606895123],\"fAllParametersSetted\":true,\"fParams\":[{\"$pair\":\"pair<TString,int,TFormulaParamOrder>\",\"first\":\"p0\",\"second\":0},{\"$pair\":\"pair<TString,int,TFormulaParamOrder>\",\"first\":\"p1\",\"second\":1}],\"fFormula\":\"([p0]+[p1]*x)\",\"fNdim\":1,\"fLinearParts\":[],\"fVectorized\":false},\"fParams\":null,\"fComposition_ptr\":null},{\"_typename\":\"TF1\",\"fUniqueID\":0,\"fBits\":50332672,\"fName\":\"pol1\",\"fTitle\":\"pol1\",\"fLineColor\":2,\"fLineStyle\":1,\"fLineWidth\":2,\"fFillColor\":19,\"fFillStyle\":0,\"fMarkerColor\":1,\"fMarkerStyle\":1,\"fMarkerSize\":1,\"fXmin\":5,\"fXmax\":35,\"fNpar\":2,\"fNdim\":1,\"fNpx\":100,\"fType\":0,\"fNpfits\":4,\"fNDF\":2,\"fChisquare\":677.331686453827,\"fMinimum\":-1111,\"fMaximum\":-1111,\"fParErrors\":[0.0384321353497954,0.00165213138592734],\"fParMin\":[0,0],\"fParMax\":[0,0],\"fSave\":[15.0938675123418,15.4313873330274,15.768907153713,16.1064269743985,16.4439467950841,16.7814666157697,17.1189864364553,17.4565062571408,17.7940260778264,18.131545898512,18.4690657191976,18.8065855398831,19.1441053605687,19.4816251812543,19.8191450019399,20.1566648226254,20.494184643311,20.8317044639966,21.1692242846821,21.5067441053677,21.8442639260533,22.1817837467389,22.5193035674244,22.85682338811,23.1943432087956,23.5318630294812,23.8693828501667,24.2069026708523,24.5444224915379,24.8819423122235,25.219462132909,25.5569819535946,25.8945017742802,26.2320215949658,26.5695414156513,26.9070612363369,27.2445810570225,27.5821008777081,27.9196206983936,28.2571405190792,28.5946603397648,28.9321801604503,29.2696999811359,29.6072198018215,29.9447396225071,30.2822594431926,30.6197792638782,30.9572990845638,31.2948189052494,31.6323387259349,31.9698585466205,32.3073783673061,32.6448981879917,32.9824180086772,33.3199378293628,33.6574576500484,33.994977470734,34.3324972914195,34.6700171121051,35.0075369327907,35.3450567534762,35.6825765741618,36.0200963948474,36.357616215533,36.6951360362185,37.0326558569041,37.3701756775897,37.7076954982753,38.0452153189608,38.3827351396464,38.720254960332,39.0577747810175,39.3952946017031,39.7328144223887,40.0703342430743,40.4078540637598,40.7453738844454,41.082893705131,41.4204135258166,41.7579333465021,42.0954531671877,42.4329729878733,42.7704928085589,43.1080126292444,43.44553244993,43.7830522706156,44.1205720913012,44.4580919119867,44.7956117326723,45.1331315533579,45.4706513740434,45.808171194729,46.1456910154146,46.4832108361002,46.8207306567857,47.1582504774713,47.4957702981569,47.8332901188425,48.170809939528,48.5083297602136,48.8458495808992,5,35],\"fNormalized\":false,\"fNormIntegral\":0,\"fFormula\":{\"_typename\":\"TFormula\",\"fUniqueID\":0,\"fBits\":50398208,\"fName\":\"pol1\",\"fTitle\":\"pol1\",\"fClingParameters\":[9.46853716758226,1.12506606895191],\"fAllParametersSetted\":true,\"fParams\":[{\"$pair\":\"pair<TString,int,TFormulaParamOrder>\",\"first\":\"p0\",\"second\":0},{\"$pair\":\"pair<TString,int,TFormulaParamOrder>\",\"first\":\"p1\",\"second\":1}],\"fFormula\":\"([p0]+[p1]*x)\",\"fNdim\":1,\"fLinearParts\":[],\"fVectorized\":false},\"fParams\":null,\"fComposition_ptr\":null},{\"_typename\":\"TPaveStats\",\"fUniqueID\":0,\"fBits\":50462729,\"fLineColor\":1,\"fLineStyle\":1,\"fLineWidth\":1,\"fFillColor\":0,\"fFillStyle\":1001,\"fX1\":37.9473699763871,\"fY1\":47.1428579361574,\"fX2\":60.6842127057654,\"fY2\":62.7272732099331,\"fX1NDC\":0.620000013709068,\"fY1NDC\":0.735000006854534,\"fX2NDC\":0.980000019073486,\"fY2NDC\":0.935000002384186,\"fBorderSize\":1,\"fInit\":1,\"fShadowColor\":1,\"fCornerRadius\":0,\"fOption\":\"brNDC\",\"fName\":\"stats\",\"fTextAngle\":0,\"fTextSize\":0,\"fTextAlign\":12,\"fTextColor\":1,\"fTextFont\":42,\"fLabel\":\"\",\"fLongest\":30,\"fMargin\":0.05,\"fLines\":{\"_typename\":\"TList\",\"name\":\"TList\",\"arr\":[{\"_typename\":\"TLatex\",\"fUniqueID\":0,\"fBits\":50331648,\"fName\":\"\",\"fTitle\":\"#chi^{2} \\/ ndf = 677.3 \\/ 2\",\"fTextAngle\":0,\"fTextSize\":0,\"fTextAlign\":0,\"fTextColor\":0,\"fTextFont\":0,\"fX\":0,\"fY\":0,\"fLineColor\":1,\"fLineStyle\":1,\"fLineWidth\":2,\"fLimitFactorSize\":3,\"fOriginSize\":0.04},{\"_typename\":\"TLatex\",\"fUniqueID\":0,\"fBits\":50331648,\"fName\":\"\",\"fTitle\":\"Prob  =     0\",\"fTextAngle\":0,\"fTextSize\":0,\"fTextAlign\":0,\"fTextColor\":0,\"fTextFont\":0,\"fX\":0,\"fY\":0,\"fLineColor\":1,\"fLineStyle\":1,\"fLineWidth\":2,\"fLimitFactorSize\":3,\"fOriginSize\":0.04},{\"_typename\":\"TLatex\",\"fUniqueID\":0,\"fBits\":50331648,\"fName\":\"\",\"fTitle\":\"p0       = 9.469 #pm 0.03843 \",\"fTextAngle\":0,\"fTextSize\":0,\"fTextAlign\":0,\"fTextColor\":0,\"fTextFont\":0,\"fX\":0,\"fY\":0,\"fLineColor\":1,\"fLineStyle\":1,\"fLineWidth\":2,\"fLimitFactorSize\":3,\"fOriginSize\":0.04},{\"_typename\":\"TLatex\",\"fUniqueID\":0,\"fBits\":50331648,\"fName\":\"\",\"fTitle\":\"p1       = 1.125 #pm 0.001652 \",\"fTextAngle\":0,\"fTextSize\":0,\"fTextAlign\":0,\"fTextColor\":0,\"fTextFont\":0,\"fX\":0,\"fY\":0,\"fLineColor\":1,\"fLineStyle\":1,\"fLineWidth\":2,\"fLimitFactorSize\":3,\"fOriginSize\":0.04}],\"opt\":[\"\",\"\",\"\",\"\"]},\"fOptFit\":11111,\"fOptStat\":0,\"fFitFormat\":\"5.4g\",\"fStatFormat\":\"6.4g\",\"fParent\":{\"$ref\":4}}],\"opt\":[\"\",\"\",\"brNDC\"]},\"fHistogram\":{\"_typename\":\"TH1F\",\"fUniqueID\":0,\"fBits\":50331648,\"fName\":\"3ecc92\",\"fTitle\":\"\",\"fLineColor\":602,\"fLineStyle\":1,\"fLineWidth\":1,\"fFillColor\":0,\"fFillStyle\":1001,\"fMarkerColor\":1,\"fMarkerStyle\":1,\"fMarkerSize\":1,\"fNcells\":102,\"fXaxis\":{\"_typename\":\"TAxis\",\"fUniqueID\":0,\"fBits\":50331656,\"fName\":\"xaxis\",\"fTitle\":\"p_{T} thresh. [GeV]\",\"fNdivisions\":510,\"fAxisColor\":1,\"fLabelColor\":1,\"fLabelFont\":42,\"fLabelOffset\":0.005,\"fLabelSize\":0.035,\"fTickLength\":0.03,\"fTitleOffset\":1.4,\"fTitleSize\":0.035,\"fTitleColor\":1,\"fTitleFont\":42,\"fNbins\":100,\"fXmin\":7,\"fXmax\":43,\"fXbins\":[],\"fFirst\":0,\"fLast\":0,\"fBits2\":0,\"fTimeDisplay\":false,\"fTimeFormat\":\"\",\"fLabels\":null,\"fModLabs\":null},\"fYaxis\":{\"_typename\":\"TAxis\",\"fUniqueID\":0,\"fBits\":50331656,\"fName\":\"yaxis\",\"fTitle\":\"p_{T} @ 95% eff. [GeV] \",\"fNdivisions\":510,\"fAxisColor\":1,\"fLabelColor\":1,\"fLabelFont\":42,\"fLabelOffset\":0.005,\"fLabelSize\":0.035,\"fTickLength\":0.03,\"fTitleOffset\":0,\"fTitleSize\":0.035,\"fTitleColor\":1,\"fTitleFont\":42,\"fNbins\":1,\"fXmin\":16.7658717275954,\"fXmax\":57.5000670533568,\"fXbins\":[],\"fFirst\":0,\"fLast\":0,\"fBits2\":0,\"fTimeDisplay\":false,\"fTimeFormat\":\"\",\"fLabels\":null,\"fModLabs\":null},\"fZaxis\":{\"_typename\":\"TAxis\",\"fUniqueID\":0,\"fBits\":50331648,\"fName\":\"zaxis\",\"fTitle\":\"\",\"fNdivisions\":510,\"fAxisColor\":1,\"fLabelColor\":1,\"fLabelFont\":42,\"fLabelOffset\":0.005,\"fLabelSize\":0.035,\"fTickLength\":0.03,\"fTitleOffset\":1,\"fTitleSize\":0.035,\"fTitleColor\":1,\"fTitleFont\":42,\"fNbins\":1,\"fXmin\":0,\"fXmax\":1,\"fXbins\":[],\"fFirst\":0,\"fLast\":0,\"fBits2\":0,\"fTimeDisplay\":false,\"fTimeFormat\":\"\",\"fLabels\":null,\"fModLabs\":null},\"fBarOffset\":0,\"fBarWidth\":1000,\"fEntries\":0,\"fTsumw\":0,\"fTsumw2\":0,\"fTsumwx\":0,\"fTsumwx2\":0,\"fMaximum\":60,\"fMinimum\":0,\"fNormFactor\":0,\"fContour\":[],\"fSumw2\":[],\"fOption\":\"\",\"fFunctions\":{\"_typename\":\"TList\",\"name\":\"TList\",\"arr\":[],\"opt\":[]},\"fBufferSize\":0,\"fBuffer\":[],\"fBinStatErrOpt\":0,\"fStatOverflows\":2,\"fArray\":[0,0,0,0,0,0,0,0,0,0,0,0,0,0,0,0,0,0,0,0,0,0,0,0,0,0,0,0,0,0,0,0,0,0,0,0,0,0,0,0,0,0,0,0,0,0,0,0,0,0,0,0,0,0,0,0,0,0,0,0,0,0,0,0,0,0,0,0,0,0,0,0,0,0,0,0,0,0,0,0,0,0,0,0,0,0,0,0,0,0,0,0,0,0,0,0,0,0,0,0,0,0]},\"fMinimum\":-1111,\"fMaximum\":-1111,\"fEX\":[0,0,0,0,0,0],\"fEY\":[0.0313550845207994,0.027315909589824,0,0.109493716175109,0.0203642524829728,0.0226242247441377]},{\"_typename\":\"TLatex\",\"fUniqueID\":0,\"fBits\":50348040,\"fName\":\"\",\"fTitle\":\"PU0, EG, hwQual 4, 1.52 < |#eta^{GEN}| <= 2.4\",\"fTextAngle\":0,\"fTextSize\":0.03,\"fTextAlign\":11,\"fTextColor\":1,\"fTextFont\":62,\"fX\":0.15,\"fY\":0.85,\"fLineColor\":1,\"fLineStyle\":1,\"fLineWidth\":2,\"fLimitFactorSize\":3,\"fOriginSize\":0.04},{\"_typename\":\"TLatex\",\"fUniqueID\":0,\"fBits\":50331656,\"fName\":\"\",\"fTitle\":\"\",\"fTextAngle\":0,\"fTextSize\":0.03,\"fTextAlign\":11,\"fTextColor\":1,\"fTextFont\":62,\"fX\":0,\"fY\":0,\"fLineColor\":1,\"fLineStyle\":1,\"fLineWidth\":2,\"fLimitFactorSize\":3,\"fOriginSize\":0.04}],\"opt\":[\"\",\"pa\",\"same\",\"same\"]},\"fExecs\":null,\"fName\":\"c_915348\",\"fTitle\":\"c_915348\",\"fNumPaletteColor\":0,\"fNextPaletteColor\":0,\"fDISPLAY\":\"$DISPLAY\",\"fDoubleBuffer\":0,\"fRetained\":true,\"fXsizeUser\":0,\"fYsizeUser\":0,\"fXsizeReal\":20,\"fYsizeReal\":15,\"fWindowTopX\":0,\"fWindowTopY\":0,\"fWindowWidth\":0,\"fWindowHeight\":0,\"fCw\":796,\"fCh\":572,\"fCatt\":{\"_typename\":\"TAttCanvas\",\"fXBetween\":2,\"fYBetween\":2,\"fTitleFromTop\":1.2,\"fXdate\":0.2,\"fYdate\":0.3,\"fAdate\":1},\"kMoveOpaque\":true,\"kResizeOpaque\":true,\"fHighLightColor\":2,\"fBatch\":true,\"kShowEventStatus\":false,\"kAutoExec\":true,\"kMenuBar\":true});\n",
       "       Core.draw(\"root_plot_78\", obj, \"\");\n",
       "     }\n",
       " );\n",
       "</script>\n"
      ],
      "text/plain": [
       "<IPython.core.display.HTML object>"
      ]
     },
     "metadata": {},
     "output_type": "display_data"
    },
    {
     "data": {
      "text/html": [
       "\n",
       "<div id=\"root_plot_79\"\n",
       "     style=\"width: 796px; height: 572px\">\n",
       "</div>\n",
       "\n",
       "<script>\n",
       " requirejs.config({\n",
       "     paths: {\n",
       "       'JSRootCore' : 'https://root.cern.ch/js/notebook//scripts/JSRootCore',\n",
       "     }\n",
       "   });\n",
       " require(['JSRootCore'],\n",
       "     function(Core) {\n",
       "       var obj = Core.JSONR_unref({\"_typename\":\"TCanvas\",\"fUniqueID\":0,\"fBits\":53673992,\"fLineColor\":1,\"fLineStyle\":1,\"fLineWidth\":1,\"fFillColor\":0,\"fFillStyle\":1001,\"fLeftMargin\":0.13,\"fRightMargin\":0.3,\"fBottomMargin\":0.13,\"fTopMargin\":0.1,\"fXfile\":2,\"fYfile\":2,\"fAfile\":1,\"fXstat\":0.99,\"fYstat\":0.99,\"fAstat\":2,\"fFrameFillColor\":0,\"fFrameLineColor\":1,\"fFrameFillStyle\":1001,\"fFrameLineStyle\":1,\"fFrameLineWidth\":1,\"fFrameBorderSize\":1,\"fFrameBorderMode\":0,\"fX1\":-1.21052611765769,\"fY1\":-10.1298700092333,\"fX2\":61.9473694117116,\"fY2\":67.7922081013397,\"fXtoAbsPixelk\":15.2567139780998,\"fXtoPixelk\":15.2567139780998,\"fXtoPixel\":12.6033331751823,\"fYtoAbsPixelk\":497.640051065433,\"fYtoPixelk\":497.640051065433,\"fYtoPixel\":-7.34066664890945,\"fUtoAbsPixelk\":5e-5,\"fUtoPixelk\":5e-5,\"fUtoPixel\":796,\"fVtoAbsPixelk\":572.00005,\"fVtoPixelk\":572,\"fVtoPixel\":-572,\"fAbsPixeltoXk\":-1.21052611765769,\"fPixeltoXk\":-1.21052611765769,\"fPixeltoX\":0.0793440898610166,\"fAbsPixeltoYk\":67.7922081013397,\"fPixeltoYk\":-10.1298700092333,\"fPixeltoY\":-0.136227409284218,\"fXlowNDC\":0,\"fYlowNDC\":0,\"fXUpNDC\":0,\"fYUpNDC\":0,\"fWNDC\":1,\"fHNDC\":1,\"fAbsXlowNDC\":0,\"fAbsYlowNDC\":0,\"fAbsWNDC\":1,\"fAbsHNDC\":1,\"fUxmin\":7,\"fUymin\":0,\"fUxmax\":43,\"fUymax\":60,\"fTheta\":30,\"fPhi\":30,\"fAspectRatio\":0,\"fNumber\":0,\"fTickx\":0,\"fTicky\":0,\"fLogx\":0,\"fLogy\":0,\"fLogz\":0,\"fPadPaint\":0,\"fCrosshair\":0,\"fCrosshairPos\":0,\"fBorderSize\":2,\"fBorderMode\":0,\"fModified\":true,\"fGridx\":false,\"fGridy\":false,\"fAbsCoord\":false,\"fEditable\":true,\"fFixedAspectRatio\":false,\"fPrimitives\":{\"_typename\":\"TList\",\"name\":\"TList\",\"arr\":[{\"_typename\":\"TFrame\",\"fUniqueID\":0,\"fBits\":50331656,\"fLineColor\":1,\"fLineStyle\":1,\"fLineWidth\":1,\"fFillColor\":0,\"fFillStyle\":1001,\"fX1\":7,\"fY1\":0,\"fX2\":43,\"fY2\":60,\"fBorderSize\":1,\"fBorderMode\":0},{\"_typename\":\"TGraphErrors\",\"fUniqueID\":0,\"fBits\":50332680,\"fName\":\"3f88a7\",\"fTitle\":\";;\",\"fLineColor\":1,\"fLineStyle\":1,\"fLineWidth\":1,\"fFillColor\":0,\"fFillStyle\":1001,\"fMarkerColor\":1,\"fMarkerStyle\":8,\"fMarkerSize\":0.5,\"fNpoints\":6,\"fX\":[10,15,20,25,30,40],\"fY\":[16.8894383564101,22.2142279936019,28.1539570362304,33.6895953483118,38.8749723791539,49.9463567104384],\"fFunctions\":{\"_typename\":\"TList\",\"name\":\"TList\",\"arr\":[{\"_typename\":\"TF1\",\"fUniqueID\":0,\"fBits\":50332672,\"fName\":\"pol1\",\"fTitle\":\"pol1\",\"fLineColor\":2,\"fLineStyle\":1,\"fLineWidth\":2,\"fFillColor\":19,\"fFillStyle\":0,\"fMarkerColor\":1,\"fMarkerStyle\":1,\"fMarkerSize\":1,\"fXmin\":5,\"fXmax\":35,\"fNpar\":2,\"fNdim\":1,\"fNpx\":100,\"fType\":0,\"fNpfits\":5,\"fNDF\":3,\"fChisquare\":75.9263650945333,\"fMinimum\":-1111,\"fMaximum\":-1111,\"fParErrors\":[0.0789555856073158,0.00343193941391472],\"fParMin\":[0,0],\"fParMax\":[0,0],\"fSave\":[11.350065207583,11.6832957004611,12.0165261933391,12.3497566862171,12.6829871790952,13.0162176719732,13.3494481648512,13.6826786577293,14.0159091506073,14.3491396434853,14.6823701363634,15.0156006292414,15.3488311221194,15.6820616149975,16.0152921078755,16.3485226007535,16.6817530936316,17.0149835865096,17.3482140793876,17.6814445722657,18.0146750651437,18.3479055580218,18.6811360508998,19.0143665437778,19.3475970366559,19.6808275295339,20.0140580224119,20.34728851529,20.680519008168,21.013749501046,21.3469799939241,21.6802104868021,22.0134409796801,22.3466714725582,22.6799019654362,23.0131324583142,23.3463629511923,23.6795934440703,24.0128239369484,24.3460544298264,24.6792849227044,25.0125154155825,25.3457459084605,25.6789764013385,26.0122068942166,26.3454373870946,26.6786678799726,27.0118983728507,27.3451288657287,27.6783593586067,28.0115898514848,28.3448203443628,28.6780508372408,29.0112813301189,29.3445118229969,29.677742315875,30.010972808753,30.344203301631,30.6774337945091,31.0106642873871,31.3438947802651,31.6771252731432,32.0103557660212,32.3435862588992,32.6768167517773,33.0100472446553,33.3432777375333,33.6765082304114,34.0097387232894,34.3429692161674,34.6761997090455,35.0094302019235,35.3426606948016,35.6758911876796,36.0091216805576,36.3423521734357,36.6755826663137,37.0088131591917,37.3420436520698,37.6752741449478,38.0085046378258,38.3417351307039,38.6749656235819,39.0081961164599,39.341426609338,39.674657102216,40.007887595094,40.3411180879721,40.6743485808501,41.0075790737282,41.3408095666062,41.6740400594842,42.0072705523623,42.3405010452403,42.6737315381183,43.0069620309964,43.3401925238744,43.6734230167524,44.0066535096305,44.3398840025085,44.6731144953865,5,35],\"fNormalized\":false,\"fNormIntegral\":0,\"fFormula\":{\"_typename\":\"TFormula\",\"fUniqueID\":0,\"fBits\":50398208,\"fName\":\"pol1\",\"fTitle\":\"pol1\",\"fClingParameters\":[5.79622365961576,1.11076830959345],\"fAllParametersSetted\":true,\"fParams\":[{\"$pair\":\"pair<TString,int,TFormulaParamOrder>\",\"first\":\"p0\",\"second\":0},{\"$pair\":\"pair<TString,int,TFormulaParamOrder>\",\"first\":\"p1\",\"second\":1}],\"fFormula\":\"([p0]+[p1]*x)\",\"fNdim\":1,\"fLinearParts\":[],\"fVectorized\":false},\"fParams\":null,\"fComposition_ptr\":null},{\"_typename\":\"TPaveStats\",\"fUniqueID\":0,\"fBits\":50462729,\"fLineColor\":1,\"fLineStyle\":1,\"fLineWidth\":1,\"fFillColor\":0,\"fFillStyle\":1001,\"fX1\":37.9473699763871,\"fY1\":47.1428579361574,\"fX2\":60.6842127057654,\"fY2\":62.7272732099331,\"fX1NDC\":0.620000013709068,\"fY1NDC\":0.735000006854534,\"fX2NDC\":0.980000019073486,\"fY2NDC\":0.935000002384186,\"fBorderSize\":1,\"fInit\":1,\"fShadowColor\":1,\"fCornerRadius\":0,\"fOption\":\"brNDC\",\"fName\":\"stats\",\"fTextAngle\":0,\"fTextSize\":0,\"fTextAlign\":12,\"fTextColor\":1,\"fTextFont\":42,\"fLabel\":\"\",\"fLongest\":30,\"fMargin\":0.05,\"fLines\":{\"_typename\":\"TList\",\"name\":\"TList\",\"arr\":[{\"_typename\":\"TLatex\",\"fUniqueID\":0,\"fBits\":50331648,\"fName\":\"\",\"fTitle\":\"#chi^{2} \\/ ndf = 75.93 \\/ 3\",\"fTextAngle\":0,\"fTextSize\":0,\"fTextAlign\":0,\"fTextColor\":0,\"fTextFont\":0,\"fX\":0,\"fY\":0,\"fLineColor\":1,\"fLineStyle\":1,\"fLineWidth\":2,\"fLimitFactorSize\":3,\"fOriginSize\":0.04},{\"_typename\":\"TLatex\",\"fUniqueID\":0,\"fBits\":50331648,\"fName\":\"\",\"fTitle\":\"Prob  = 2.294e-16\",\"fTextAngle\":0,\"fTextSize\":0,\"fTextAlign\":0,\"fTextColor\":0,\"fTextFont\":0,\"fX\":0,\"fY\":0,\"fLineColor\":1,\"fLineStyle\":1,\"fLineWidth\":2,\"fLimitFactorSize\":3,\"fOriginSize\":0.04},{\"_typename\":\"TLatex\",\"fUniqueID\":0,\"fBits\":50331648,\"fName\":\"\",\"fTitle\":\"p0       = 5.796 #pm 0.07896 \",\"fTextAngle\":0,\"fTextSize\":0,\"fTextAlign\":0,\"fTextColor\":0,\"fTextFont\":0,\"fX\":0,\"fY\":0,\"fLineColor\":1,\"fLineStyle\":1,\"fLineWidth\":2,\"fLimitFactorSize\":3,\"fOriginSize\":0.04},{\"_typename\":\"TLatex\",\"fUniqueID\":0,\"fBits\":50331648,\"fName\":\"\",\"fTitle\":\"p1       = 1.111 #pm 0.003432 \",\"fTextAngle\":0,\"fTextSize\":0,\"fTextAlign\":0,\"fTextColor\":0,\"fTextFont\":0,\"fX\":0,\"fY\":0,\"fLineColor\":1,\"fLineStyle\":1,\"fLineWidth\":2,\"fLimitFactorSize\":3,\"fOriginSize\":0.04}],\"opt\":[\"\",\"\",\"\",\"\"]},\"fOptFit\":11111,\"fOptStat\":0,\"fFitFormat\":\"5.4g\",\"fStatFormat\":\"6.4g\",\"fParent\":{\"$ref\":4}}],\"opt\":[\"\",\"brNDC\"]},\"fHistogram\":{\"_typename\":\"TH1F\",\"fUniqueID\":0,\"fBits\":50331648,\"fName\":\"3f88a7\",\"fTitle\":\"\",\"fLineColor\":602,\"fLineStyle\":1,\"fLineWidth\":1,\"fFillColor\":0,\"fFillStyle\":1001,\"fMarkerColor\":1,\"fMarkerStyle\":1,\"fMarkerSize\":1,\"fNcells\":102,\"fXaxis\":{\"_typename\":\"TAxis\",\"fUniqueID\":0,\"fBits\":50331656,\"fName\":\"xaxis\",\"fTitle\":\"p_{T} thresh. [GeV]\",\"fNdivisions\":510,\"fAxisColor\":1,\"fLabelColor\":1,\"fLabelFont\":42,\"fLabelOffset\":0.005,\"fLabelSize\":0.035,\"fTickLength\":0.03,\"fTitleOffset\":1.4,\"fTitleSize\":0.035,\"fTitleColor\":1,\"fTitleFont\":42,\"fNbins\":100,\"fXmin\":7,\"fXmax\":43,\"fXbins\":[],\"fFirst\":0,\"fLast\":0,\"fBits2\":0,\"fTimeDisplay\":false,\"fTimeFormat\":\"\",\"fLabels\":null,\"fModLabs\":null},\"fYaxis\":{\"_typename\":\"TAxis\",\"fUniqueID\":0,\"fBits\":50331656,\"fName\":\"yaxis\",\"fTitle\":\"p_{T} @ 95% eff. [GeV] \",\"fNdivisions\":510,\"fAxisColor\":1,\"fLabelColor\":1,\"fLabelFont\":42,\"fLabelOffset\":0.005,\"fLabelSize\":0.035,\"fTickLength\":0.03,\"fTitleOffset\":0,\"fTitleSize\":0.035,\"fTitleColor\":1,\"fTitleFont\":42,\"fNbins\":1,\"fXmin\":13.4998522421565,\"fXmax\":53.2916826036207,\"fXbins\":[],\"fFirst\":0,\"fLast\":0,\"fBits2\":0,\"fTimeDisplay\":false,\"fTimeFormat\":\"\",\"fLabels\":null,\"fModLabs\":null},\"fZaxis\":{\"_typename\":\"TAxis\",\"fUniqueID\":0,\"fBits\":50331648,\"fName\":\"zaxis\",\"fTitle\":\"\",\"fNdivisions\":510,\"fAxisColor\":1,\"fLabelColor\":1,\"fLabelFont\":42,\"fLabelOffset\":0.005,\"fLabelSize\":0.035,\"fTickLength\":0.03,\"fTitleOffset\":1,\"fTitleSize\":0.035,\"fTitleColor\":1,\"fTitleFont\":42,\"fNbins\":1,\"fXmin\":0,\"fXmax\":1,\"fXbins\":[],\"fFirst\":0,\"fLast\":0,\"fBits2\":0,\"fTimeDisplay\":false,\"fTimeFormat\":\"\",\"fLabels\":null,\"fModLabs\":null},\"fBarOffset\":0,\"fBarWidth\":1000,\"fEntries\":0,\"fTsumw\":0,\"fTsumw2\":0,\"fTsumwx\":0,\"fTsumwx2\":0,\"fMaximum\":60,\"fMinimum\":0,\"fNormFactor\":0,\"fContour\":[],\"fSumw2\":[],\"fOption\":\"\",\"fFunctions\":{\"_typename\":\"TList\",\"name\":\"TList\",\"arr\":[],\"opt\":[]},\"fBufferSize\":0,\"fBuffer\":[],\"fBinStatErrOpt\":0,\"fStatOverflows\":2,\"fArray\":[0,0,0,0,0,0,0,0,0,0,0,0,0,0,0,0,0,0,0,0,0,0,0,0,0,0,0,0,0,0,0,0,0,0,0,0,0,0,0,0,0,0,0,0,0,0,0,0,0,0,0,0,0,0,0,0,0,0,0,0,0,0,0,0,0,0,0,0,0,0,0,0,0,0,0,0,0,0,0,0,0,0,0,0,0,0,0,0,0,0,0,0,0,0,0,0,0,0,0,0,0,0]},\"fMinimum\":-1111,\"fMaximum\":-1111,\"fEX\":[0,0,0,0,0,0],\"fEY\":[0.0736002507981681,0.0518031996285381,0.0424792356393558,0.0315010088478817,0.0469972529747519,0.0293400297269243]},{\"_typename\":\"TLatex\",\"fUniqueID\":0,\"fBits\":50348040,\"fName\":\"\",\"fTitle\":\"PU0, EG, hwQual 5, 1.52 < |#eta^{GEN}| <= 2.4\",\"fTextAngle\":0,\"fTextSize\":0.03,\"fTextAlign\":11,\"fTextColor\":1,\"fTextFont\":62,\"fX\":0.15,\"fY\":0.85,\"fLineColor\":1,\"fLineStyle\":1,\"fLineWidth\":2,\"fLimitFactorSize\":3,\"fOriginSize\":0.04},{\"_typename\":\"TLatex\",\"fUniqueID\":0,\"fBits\":50331656,\"fName\":\"\",\"fTitle\":\"\",\"fTextAngle\":0,\"fTextSize\":0.03,\"fTextAlign\":11,\"fTextColor\":1,\"fTextFont\":62,\"fX\":0,\"fY\":0,\"fLineColor\":1,\"fLineStyle\":1,\"fLineWidth\":2,\"fLimitFactorSize\":3,\"fOriginSize\":0.04}],\"opt\":[\"\",\"pa\",\"same\",\"same\"]},\"fExecs\":null,\"fName\":\"c_9af08c\",\"fTitle\":\"c_9af08c\",\"fNumPaletteColor\":0,\"fNextPaletteColor\":0,\"fDISPLAY\":\"$DISPLAY\",\"fDoubleBuffer\":0,\"fRetained\":true,\"fXsizeUser\":0,\"fYsizeUser\":0,\"fXsizeReal\":20,\"fYsizeReal\":15,\"fWindowTopX\":0,\"fWindowTopY\":0,\"fWindowWidth\":0,\"fWindowHeight\":0,\"fCw\":796,\"fCh\":572,\"fCatt\":{\"_typename\":\"TAttCanvas\",\"fXBetween\":2,\"fYBetween\":2,\"fTitleFromTop\":1.2,\"fXdate\":0.2,\"fYdate\":0.3,\"fAdate\":1},\"kMoveOpaque\":true,\"kResizeOpaque\":true,\"fHighLightColor\":2,\"fBatch\":true,\"kShowEventStatus\":false,\"kAutoExec\":true,\"kMenuBar\":true});\n",
       "       Core.draw(\"root_plot_79\", obj, \"\");\n",
       "     }\n",
       " );\n",
       "</script>\n"
      ],
      "text/plain": [
       "<IPython.core.display.HTML object>"
      ]
     },
     "metadata": {},
     "output_type": "display_data"
    },
    {
     "data": {
      "text/html": [
       "\n",
       "<div id=\"root_plot_80\"\n",
       "     style=\"width: 796px; height: 572px\">\n",
       "</div>\n",
       "\n",
       "<script>\n",
       " requirejs.config({\n",
       "     paths: {\n",
       "       'JSRootCore' : 'https://root.cern.ch/js/notebook//scripts/JSRootCore',\n",
       "     }\n",
       "   });\n",
       " require(['JSRootCore'],\n",
       "     function(Core) {\n",
       "       var obj = Core.JSONR_unref({\"_typename\":\"TCanvas\",\"fUniqueID\":0,\"fBits\":53673992,\"fLineColor\":1,\"fLineStyle\":1,\"fLineWidth\":1,\"fFillColor\":0,\"fFillStyle\":1001,\"fLeftMargin\":0.13,\"fRightMargin\":0.3,\"fBottomMargin\":0.13,\"fTopMargin\":0.1,\"fXfile\":2,\"fYfile\":2,\"fAfile\":1,\"fXstat\":0.99,\"fYstat\":0.99,\"fAstat\":2,\"fFrameFillColor\":0,\"fFrameLineColor\":1,\"fFrameFillStyle\":1001,\"fFrameLineStyle\":1,\"fFrameLineWidth\":1,\"fFrameBorderSize\":1,\"fFrameBorderMode\":0,\"fX1\":-1.21052611765769,\"fY1\":-10.1298700092333,\"fX2\":61.9473694117116,\"fY2\":67.7922081013397,\"fXtoAbsPixelk\":15.2567139780998,\"fXtoPixelk\":15.2567139780998,\"fXtoPixel\":12.6033331751823,\"fYtoAbsPixelk\":497.640051065433,\"fYtoPixelk\":497.640051065433,\"fYtoPixel\":-7.34066664890945,\"fUtoAbsPixelk\":5e-5,\"fUtoPixelk\":5e-5,\"fUtoPixel\":796,\"fVtoAbsPixelk\":572.00005,\"fVtoPixelk\":572,\"fVtoPixel\":-572,\"fAbsPixeltoXk\":-1.21052611765769,\"fPixeltoXk\":-1.21052611765769,\"fPixeltoX\":0.0793440898610166,\"fAbsPixeltoYk\":67.7922081013397,\"fPixeltoYk\":-10.1298700092333,\"fPixeltoY\":-0.136227409284218,\"fXlowNDC\":0,\"fYlowNDC\":0,\"fXUpNDC\":0,\"fYUpNDC\":0,\"fWNDC\":1,\"fHNDC\":1,\"fAbsXlowNDC\":0,\"fAbsYlowNDC\":0,\"fAbsWNDC\":1,\"fAbsHNDC\":1,\"fUxmin\":7,\"fUymin\":0,\"fUxmax\":43,\"fUymax\":60,\"fTheta\":30,\"fPhi\":30,\"fAspectRatio\":0,\"fNumber\":0,\"fTickx\":0,\"fTicky\":0,\"fLogx\":0,\"fLogy\":0,\"fLogz\":0,\"fPadPaint\":0,\"fCrosshair\":0,\"fCrosshairPos\":0,\"fBorderSize\":2,\"fBorderMode\":0,\"fModified\":false,\"fGridx\":false,\"fGridy\":false,\"fAbsCoord\":false,\"fEditable\":true,\"fFixedAspectRatio\":false,\"fPrimitives\":{\"_typename\":\"TList\",\"name\":\"TList\",\"arr\":[{\"_typename\":\"TFrame\",\"fUniqueID\":0,\"fBits\":50331656,\"fLineColor\":1,\"fLineStyle\":1,\"fLineWidth\":1,\"fFillColor\":0,\"fFillStyle\":1001,\"fX1\":7,\"fY1\":0,\"fX2\":43,\"fY2\":60,\"fBorderSize\":1,\"fBorderMode\":0},{\"_typename\":\"TGraphErrors\",\"fUniqueID\":0,\"fBits\":50332680,\"fName\":\"2b34cb\",\"fTitle\":\";;\",\"fLineColor\":1,\"fLineStyle\":1,\"fLineWidth\":1,\"fFillColor\":0,\"fFillStyle\":1001,\"fMarkerColor\":1,\"fMarkerStyle\":8,\"fMarkerSize\":0.5,\"fNpoints\":6,\"fX\":[10,15,20,25,30,40],\"fY\":[20.9067681788005,26.7468745926931,32.0739365314678,36.9549994674123,42.4556561175732,53.390396517807],\"fFunctions\":{\"_typename\":\"TList\",\"name\":\"TList\",\"arr\":[{\"_typename\":\"TF1\",\"fUniqueID\":0,\"fBits\":50332672,\"fName\":\"pol1\",\"fTitle\":\"pol1\",\"fLineColor\":2,\"fLineStyle\":1,\"fLineWidth\":2,\"fFillColor\":19,\"fFillStyle\":0,\"fMarkerColor\":1,\"fMarkerStyle\":1,\"fMarkerSize\":1,\"fXmin\":5,\"fXmax\":35,\"fNpar\":2,\"fNdim\":1,\"fNpx\":100,\"fType\":0,\"fNpfits\":5,\"fNDF\":3,\"fChisquare\":344.070491194655,\"fMinimum\":-1111,\"fMaximum\":-1111,\"fParErrors\":[0.0471107805229217,0.0024104819429079],\"fParMin\":[0,0],\"fParMax\":[0,0],\"fSave\":[15.8887407893053,16.2081293908023,16.5275179922994,16.8469065937964,17.1662951952934,17.4856837967905,17.8050723982875,18.1244609997846,18.4438496012816,18.7632382027786,19.0826268042757,19.4020154057727,19.7214040072697,20.0407926087668,20.3601812102638,20.6795698117608,20.9989584132579,21.3183470147549,21.637735616252,21.957124217749,22.276512819246,22.5959014207431,22.9152900222401,23.2346786237371,23.5540672252342,23.8734558267312,24.1928444282282,24.5122330297253,24.8316216312223,25.1510102327194,25.4703988342164,25.7897874357134,26.1091760372105,26.4285646387075,26.7479532402045,27.0673418417016,27.3867304431986,27.7061190446956,28.0255076461927,28.3448962476897,28.6642848491868,28.9836734506838,29.3030620521808,29.6224506536779,29.9418392551749,30.2612278566719,30.580616458169,30.900005059666,31.219393661163,31.5387822626601,31.8581708641571,32.1775594656542,32.4969480671512,32.8163366686482,33.1357252701453,33.4551138716423,33.7745024731393,34.0938910746364,34.4132796761334,34.7326682776304,35.0520568791275,35.3714454806245,35.6908340821216,36.0102226836186,36.3296112851156,36.6489998866127,36.9683884881097,37.2877770896067,37.6071656911038,37.9265542926008,38.2459428940979,38.5653314955949,38.8847200970919,39.204108698589,39.523497300086,39.842885901583,40.1622745030801,40.4816631045771,40.8010517060741,41.1204403075712,41.4398289090682,41.7592175105653,42.0786061120623,42.3979947135593,42.7173833150564,43.0367719165534,43.3561605180504,43.6755491195475,43.9949377210445,44.3143263225415,44.6337149240386,44.9531035255356,45.2724921270326,45.5918807285297,45.9112693300267,46.2306579315238,46.5500465330208,46.8694351345178,47.1888237360149,47.5082123375119,47.8276009390089,5,35],\"fNormalized\":false,\"fNormIntegral\":0,\"fFormula\":{\"_typename\":\"TFormula\",\"fUniqueID\":0,\"fBits\":50398208,\"fName\":\"pol1\",\"fTitle\":\"pol1\",\"fClingParameters\":[10.5655974310214,1.06462867165679],\"fAllParametersSetted\":true,\"fParams\":[{\"$pair\":\"pair<TString,int,TFormulaParamOrder>\",\"first\":\"p0\",\"second\":0},{\"$pair\":\"pair<TString,int,TFormulaParamOrder>\",\"first\":\"p1\",\"second\":1}],\"fFormula\":\"([p0]+[p1]*x)\",\"fNdim\":1,\"fLinearParts\":[],\"fVectorized\":false},\"fParams\":null,\"fComposition_ptr\":null},{\"_typename\":\"TF1\",\"fUniqueID\":0,\"fBits\":50332672,\"fName\":\"pol1\",\"fTitle\":\"pol1\",\"fLineColor\":2,\"fLineStyle\":1,\"fLineWidth\":2,\"fFillColor\":19,\"fFillStyle\":0,\"fMarkerColor\":1,\"fMarkerStyle\":1,\"fMarkerSize\":1,\"fXmin\":5,\"fXmax\":35,\"fNpar\":2,\"fNdim\":1,\"fNpx\":100,\"fType\":0,\"fNpfits\":5,\"fNDF\":3,\"fChisquare\":344.070491194649,\"fMinimum\":-1111,\"fMaximum\":-1111,\"fParErrors\":[0.0471090533027618,0.00241039327695458],\"fParMin\":[0,0],\"fParMax\":[0,0],\"fSave\":[15.8887407892732,16.2081293907696,16.5275179922659,16.8469065937622,17.1662951952585,17.4856837967549,17.8050723982512,18.1244609997475,18.4438496012438,18.7632382027402,19.0826268042365,19.4020154057328,19.7214040072291,20.0407926087255,20.3601812102218,20.6795698117181,20.9989584132144,21.3183470147108,21.6377356162071,21.9571242177034,22.2765128191997,22.5959014206961,22.9152900221924,23.2346786236887,23.554067225185,23.8734558266814,24.1928444281777,24.512233029674,24.8316216311703,25.1510102326667,25.470398834163,25.7897874356593,26.1091760371556,26.428564638652,26.7479532401483,27.0673418416446,27.3867304431409,27.7061190446373,28.0255076461336,28.3448962476299,28.6642848491262,28.9836734506226,29.3030620521189,29.6224506536152,29.9418392551115,30.2612278566079,30.5806164581042,30.9000050596005,31.2193936610968,31.5387822625932,31.8581708640895,32.1775594655858,32.4969480670821,32.8163366685785,33.1357252700748,33.4551138715711,33.7745024730674,34.0938910745638,34.4132796760601,34.7326682775564,35.0520568790527,35.371445480549,35.6908340820454,36.0102226835417,36.329611285038,36.6489998865343,36.9683884880307,37.287777089527,37.6071656910233,37.9265542925196,38.245942894016,38.5653314955123,38.8847200970086,39.2041086985049,39.5234973000013,39.8428859014976,40.1622745029939,40.4816631044902,40.8010517059866,41.1204403074829,41.4398289089792,41.7592175104756,42.0786061119719,42.3979947134682,42.7173833149645,43.0367719164608,43.3561605179572,43.6755491194535,43.9949377209498,44.3143263224461,44.6337149239425,44.9531035254388,45.2724921269351,45.5918807284314,45.9112693299278,46.2306579314241,46.5500465329204,46.8694351344167,47.1888237359131,47.5082123374094,47.8276009389057,5,35],\"fNormalized\":false,\"fNormIntegral\":0,\"fFormula\":{\"_typename\":\"TFormula\",\"fUniqueID\":0,\"fBits\":50398208,\"fName\":\"pol1\",\"fTitle\":\"pol1\",\"fClingParameters\":[10.5655974310012,1.06462867165442],\"fAllParametersSetted\":true,\"fParams\":[{\"$pair\":\"pair<TString,int,TFormulaParamOrder>\",\"first\":\"p0\",\"second\":0},{\"$pair\":\"pair<TString,int,TFormulaParamOrder>\",\"first\":\"p1\",\"second\":1}],\"fFormula\":\"([p0]+[p1]*x)\",\"fNdim\":1,\"fLinearParts\":[],\"fVectorized\":false},\"fParams\":null,\"fComposition_ptr\":null},{\"_typename\":\"TPaveStats\",\"fUniqueID\":0,\"fBits\":50462729,\"fLineColor\":1,\"fLineStyle\":1,\"fLineWidth\":1,\"fFillColor\":0,\"fFillStyle\":1001,\"fX1\":37.9473699763871,\"fY1\":47.1428579361574,\"fX2\":60.6842127057654,\"fY2\":62.7272732099331,\"fX1NDC\":0.620000013709068,\"fY1NDC\":0.735000006854534,\"fX2NDC\":0.980000019073486,\"fY2NDC\":0.935000002384186,\"fBorderSize\":1,\"fInit\":1,\"fShadowColor\":1,\"fCornerRadius\":0,\"fOption\":\"brNDC\",\"fName\":\"stats\",\"fTextAngle\":0,\"fTextSize\":0,\"fTextAlign\":12,\"fTextColor\":1,\"fTextFont\":42,\"fLabel\":\"\",\"fLongest\":29,\"fMargin\":0.05,\"fLines\":{\"_typename\":\"TList\",\"name\":\"TList\",\"arr\":[{\"_typename\":\"TLatex\",\"fUniqueID\":0,\"fBits\":50331648,\"fName\":\"\",\"fTitle\":\"#chi^{2} \\/ ndf = 344.1 \\/ 3\",\"fTextAngle\":0,\"fTextSize\":0,\"fTextAlign\":0,\"fTextColor\":0,\"fTextFont\":0,\"fX\":0,\"fY\":0,\"fLineColor\":1,\"fLineStyle\":1,\"fLineWidth\":2,\"fLimitFactorSize\":3,\"fOriginSize\":0.04},{\"_typename\":\"TLatex\",\"fUniqueID\":0,\"fBits\":50331648,\"fName\":\"\",\"fTitle\":\"Prob  =     0\",\"fTextAngle\":0,\"fTextSize\":0,\"fTextAlign\":0,\"fTextColor\":0,\"fTextFont\":0,\"fX\":0,\"fY\":0,\"fLineColor\":1,\"fLineStyle\":1,\"fLineWidth\":2,\"fLimitFactorSize\":3,\"fOriginSize\":0.04},{\"_typename\":\"TLatex\",\"fUniqueID\":0,\"fBits\":50331648,\"fName\":\"\",\"fTitle\":\"p0       = 10.57 #pm 0.04711 \",\"fTextAngle\":0,\"fTextSize\":0,\"fTextAlign\":0,\"fTextColor\":0,\"fTextFont\":0,\"fX\":0,\"fY\":0,\"fLineColor\":1,\"fLineStyle\":1,\"fLineWidth\":2,\"fLimitFactorSize\":3,\"fOriginSize\":0.04},{\"_typename\":\"TLatex\",\"fUniqueID\":0,\"fBits\":50331648,\"fName\":\"\",\"fTitle\":\"p1       = 1.065 #pm 0.00241 \",\"fTextAngle\":0,\"fTextSize\":0,\"fTextAlign\":0,\"fTextColor\":0,\"fTextFont\":0,\"fX\":0,\"fY\":0,\"fLineColor\":1,\"fLineStyle\":1,\"fLineWidth\":2,\"fLimitFactorSize\":3,\"fOriginSize\":0.04}],\"opt\":[\"\",\"\",\"\",\"\"]},\"fOptFit\":11111,\"fOptStat\":0,\"fFitFormat\":\"5.4g\",\"fStatFormat\":\"6.4g\",\"fParent\":{\"$ref\":4}}],\"opt\":[\"\",\"\",\"brNDC\"]},\"fHistogram\":{\"_typename\":\"TH1F\",\"fUniqueID\":0,\"fBits\":50331648,\"fName\":\"2b34cb\",\"fTitle\":\"\",\"fLineColor\":602,\"fLineStyle\":1,\"fLineWidth\":1,\"fFillColor\":0,\"fFillStyle\":1001,\"fMarkerColor\":1,\"fMarkerStyle\":1,\"fMarkerSize\":1,\"fNcells\":102,\"fXaxis\":{\"_typename\":\"TAxis\",\"fUniqueID\":0,\"fBits\":50331656,\"fName\":\"xaxis\",\"fTitle\":\"p_{T} thresh. [GeV]\",\"fNdivisions\":510,\"fAxisColor\":1,\"fLabelColor\":1,\"fLabelFont\":42,\"fLabelOffset\":0.005,\"fLabelSize\":0.035,\"fTickLength\":0.03,\"fTitleOffset\":1.4,\"fTitleSize\":0.035,\"fTitleColor\":1,\"fTitleFont\":42,\"fNbins\":100,\"fXmin\":7,\"fXmax\":43,\"fXbins\":[],\"fFirst\":0,\"fLast\":0,\"fBits2\":0,\"fTimeDisplay\":false,\"fTimeFormat\":\"\",\"fLabels\":null,\"fModLabs\":null},\"fYaxis\":{\"_typename\":\"TAxis\",\"fUniqueID\":0,\"fBits\":50331656,\"fName\":\"yaxis\",\"fTitle\":\"p_{T} @ 95% eff. [GeV] \",\"fNdivisions\":510,\"fAxisColor\":1,\"fLabelColor\":1,\"fLabelFont\":42,\"fLabelOffset\":0.005,\"fLabelSize\":0.035,\"fTickLength\":0.03,\"fTitleOffset\":0,\"fTitleSize\":0.035,\"fTitleColor\":1,\"fTitleFont\":42,\"fNbins\":1,\"fXmin\":17.622741828862,\"fXmax\":56.6621358583612,\"fXbins\":[],\"fFirst\":0,\"fLast\":0,\"fBits2\":0,\"fTimeDisplay\":false,\"fTimeFormat\":\"\",\"fLabels\":null,\"fModLabs\":null},\"fZaxis\":{\"_typename\":\"TAxis\",\"fUniqueID\":0,\"fBits\":50331648,\"fName\":\"zaxis\",\"fTitle\":\"\",\"fNdivisions\":510,\"fAxisColor\":1,\"fLabelColor\":1,\"fLabelFont\":42,\"fLabelOffset\":0.005,\"fLabelSize\":0.035,\"fTickLength\":0.03,\"fTitleOffset\":1,\"fTitleSize\":0.035,\"fTitleColor\":1,\"fTitleFont\":42,\"fNbins\":1,\"fXmin\":0,\"fXmax\":1,\"fXbins\":[],\"fFirst\":0,\"fLast\":0,\"fBits2\":0,\"fTimeDisplay\":false,\"fTimeFormat\":\"\",\"fLabels\":null,\"fModLabs\":null},\"fBarOffset\":0,\"fBarWidth\":1000,\"fEntries\":0,\"fTsumw\":0,\"fTsumw2\":0,\"fTsumwx\":0,\"fTsumwx2\":0,\"fMaximum\":60,\"fMinimum\":0,\"fNormFactor\":0,\"fContour\":[],\"fSumw2\":[],\"fOption\":\"\",\"fFunctions\":{\"_typename\":\"TList\",\"name\":\"TList\",\"arr\":[],\"opt\":[]},\"fBufferSize\":0,\"fBuffer\":[],\"fBinStatErrOpt\":0,\"fStatOverflows\":2,\"fArray\":[0,0,0,0,0,0,0,0,0,0,0,0,0,0,0,0,0,0,0,0,0,0,0,0,0,0,0,0,0,0,0,0,0,0,0,0,0,0,0,0,0,0,0,0,0,0,0,0,0,0,0,0,0,0,0,0,0,0,0,0,0,0,0,0,0,0,0,0,0,0,0,0,0,0,0,0,0,0,0,0,0,0,0,0,0,0,0,0,0,0,0,0,0,0,0,0,0,0,0,0,0,0]},\"fMinimum\":-1111,\"fMaximum\":-1111,\"fEX\":[0,0,0,0,0,0],\"fEY\":[0.0307435141469178,0.0294544399670648,0.0212211472040807,0.0238003657248074,0.225252472986738,0.0184565047625731]},{\"_typename\":\"TLatex\",\"fUniqueID\":0,\"fBits\":50348040,\"fName\":\"\",\"fTitle\":\"PU200, EG, hwQual 4, 1.52 < |#eta^{GEN}| <= 2.4\",\"fTextAngle\":0,\"fTextSize\":0.03,\"fTextAlign\":11,\"fTextColor\":1,\"fTextFont\":62,\"fX\":0.15,\"fY\":0.85,\"fLineColor\":1,\"fLineStyle\":1,\"fLineWidth\":2,\"fLimitFactorSize\":3,\"fOriginSize\":0.04},{\"_typename\":\"TLatex\",\"fUniqueID\":0,\"fBits\":50331656,\"fName\":\"\",\"fTitle\":\"\",\"fTextAngle\":0,\"fTextSize\":0.03,\"fTextAlign\":11,\"fTextColor\":1,\"fTextFont\":62,\"fX\":0,\"fY\":0,\"fLineColor\":1,\"fLineStyle\":1,\"fLineWidth\":2,\"fLimitFactorSize\":3,\"fOriginSize\":0.04}],\"opt\":[\"\",\"pa\",\"same\",\"same\"]},\"fExecs\":null,\"fName\":\"c_4cb415\",\"fTitle\":\"c_4cb415\",\"fNumPaletteColor\":0,\"fNextPaletteColor\":0,\"fDISPLAY\":\"$DISPLAY\",\"fDoubleBuffer\":0,\"fRetained\":true,\"fXsizeUser\":0,\"fYsizeUser\":0,\"fXsizeReal\":20,\"fYsizeReal\":15,\"fWindowTopX\":0,\"fWindowTopY\":0,\"fWindowWidth\":0,\"fWindowHeight\":0,\"fCw\":796,\"fCh\":572,\"fCatt\":{\"_typename\":\"TAttCanvas\",\"fXBetween\":2,\"fYBetween\":2,\"fTitleFromTop\":1.2,\"fXdate\":0.2,\"fYdate\":0.3,\"fAdate\":1},\"kMoveOpaque\":true,\"kResizeOpaque\":true,\"fHighLightColor\":2,\"fBatch\":true,\"kShowEventStatus\":false,\"kAutoExec\":true,\"kMenuBar\":true});\n",
       "       Core.draw(\"root_plot_80\", obj, \"\");\n",
       "     }\n",
       " );\n",
       "</script>\n"
      ],
      "text/plain": [
       "<IPython.core.display.HTML object>"
      ]
     },
     "metadata": {},
     "output_type": "display_data"
    },
    {
     "data": {
      "text/html": [
       "\n",
       "<div id=\"root_plot_81\"\n",
       "     style=\"width: 796px; height: 572px\">\n",
       "</div>\n",
       "\n",
       "<script>\n",
       " requirejs.config({\n",
       "     paths: {\n",
       "       'JSRootCore' : 'https://root.cern.ch/js/notebook//scripts/JSRootCore',\n",
       "     }\n",
       "   });\n",
       " require(['JSRootCore'],\n",
       "     function(Core) {\n",
       "       var obj = Core.JSONR_unref({\"_typename\":\"TCanvas\",\"fUniqueID\":0,\"fBits\":53673992,\"fLineColor\":1,\"fLineStyle\":1,\"fLineWidth\":1,\"fFillColor\":0,\"fFillStyle\":1001,\"fLeftMargin\":0.13,\"fRightMargin\":0.3,\"fBottomMargin\":0.13,\"fTopMargin\":0.1,\"fXfile\":2,\"fYfile\":2,\"fAfile\":1,\"fXstat\":0.99,\"fYstat\":0.99,\"fAstat\":2,\"fFrameFillColor\":0,\"fFrameLineColor\":1,\"fFrameFillStyle\":1001,\"fFrameLineStyle\":1,\"fFrameLineWidth\":1,\"fFrameBorderSize\":1,\"fFrameBorderMode\":0,\"fX1\":-1.21052611765769,\"fY1\":-10.1298700092333,\"fX2\":61.9473694117116,\"fY2\":67.7922081013397,\"fXtoAbsPixelk\":15.2567139780998,\"fXtoPixelk\":15.2567139780998,\"fXtoPixel\":12.6033331751823,\"fYtoAbsPixelk\":497.640051065433,\"fYtoPixelk\":497.640051065433,\"fYtoPixel\":-7.34066664890945,\"fUtoAbsPixelk\":5e-5,\"fUtoPixelk\":5e-5,\"fUtoPixel\":796,\"fVtoAbsPixelk\":572.00005,\"fVtoPixelk\":572,\"fVtoPixel\":-572,\"fAbsPixeltoXk\":-1.21052611765769,\"fPixeltoXk\":-1.21052611765769,\"fPixeltoX\":0.0793440898610166,\"fAbsPixeltoYk\":67.7922081013397,\"fPixeltoYk\":-10.1298700092333,\"fPixeltoY\":-0.136227409284218,\"fXlowNDC\":0,\"fYlowNDC\":0,\"fXUpNDC\":0,\"fYUpNDC\":0,\"fWNDC\":1,\"fHNDC\":1,\"fAbsXlowNDC\":0,\"fAbsYlowNDC\":0,\"fAbsWNDC\":1,\"fAbsHNDC\":1,\"fUxmin\":7,\"fUymin\":0,\"fUxmax\":43,\"fUymax\":60,\"fTheta\":30,\"fPhi\":30,\"fAspectRatio\":0,\"fNumber\":0,\"fTickx\":0,\"fTicky\":0,\"fLogx\":0,\"fLogy\":0,\"fLogz\":0,\"fPadPaint\":0,\"fCrosshair\":0,\"fCrosshairPos\":0,\"fBorderSize\":2,\"fBorderMode\":0,\"fModified\":false,\"fGridx\":false,\"fGridy\":false,\"fAbsCoord\":false,\"fEditable\":true,\"fFixedAspectRatio\":false,\"fPrimitives\":{\"_typename\":\"TList\",\"name\":\"TList\",\"arr\":[{\"_typename\":\"TFrame\",\"fUniqueID\":0,\"fBits\":50331656,\"fLineColor\":1,\"fLineStyle\":1,\"fLineWidth\":1,\"fFillColor\":0,\"fFillStyle\":1001,\"fX1\":7,\"fY1\":0,\"fX2\":43,\"fY2\":60,\"fBorderSize\":1,\"fBorderMode\":0},{\"_typename\":\"TGraphErrors\",\"fUniqueID\":0,\"fBits\":50332680,\"fName\":\"af1e4f\",\"fTitle\":\";;\",\"fLineColor\":1,\"fLineStyle\":1,\"fLineWidth\":1,\"fFillColor\":0,\"fFillStyle\":1001,\"fMarkerColor\":1,\"fMarkerStyle\":8,\"fMarkerSize\":0.5,\"fNpoints\":6,\"fX\":[10,15,20,25,30,40],\"fY\":[19.0858897044099,23.5356770928789,28.7340749014546,33.6932761799549,39.1894509667777,49.9729343552106],\"fFunctions\":{\"_typename\":\"TList\",\"name\":\"TList\",\"arr\":[{\"_typename\":\"TF1\",\"fUniqueID\":0,\"fBits\":50332672,\"fName\":\"pol1\",\"fTitle\":\"pol1\",\"fLineColor\":2,\"fLineStyle\":1,\"fLineWidth\":2,\"fFillColor\":19,\"fFillStyle\":0,\"fMarkerColor\":1,\"fMarkerStyle\":1,\"fMarkerSize\":1,\"fXmin\":5,\"fXmax\":35,\"fNpar\":2,\"fNdim\":1,\"fNpx\":100,\"fType\":0,\"fNpfits\":5,\"fNDF\":3,\"fChisquare\":118.139386753922,\"fMinimum\":-1111,\"fMaximum\":-1111,\"fParErrors\":[0.0555018839205107,0.00232313558342358],\"fParMin\":[0,0],\"fParMax\":[0,0],\"fSave\":[13.1604721891142,13.4713112067046,13.7821502242949,14.0929892418853,14.4038282594757,14.714667277066,15.0255062946564,15.3363453122467,15.6471843298371,15.9580233474274,16.2688623650178,16.5797013826081,16.8905404001985,17.2013794177889,17.5122184353792,17.8230574529696,18.1338964705599,18.4447354881503,18.7555745057406,19.066413523331,19.3772525409214,19.6880915585117,19.9989305761021,20.3097695936924,20.6206086112828,20.9314476288731,21.2422866464635,21.5531256640539,21.8639646816442,22.1748036992346,22.4856427168249,22.7964817344153,23.1073207520056,23.418159769596,23.7289987871863,24.0398378047767,24.3506768223671,24.6615158399574,24.9723548575478,25.2831938751381,25.5940328927285,25.9048719103188,26.2157109279092,26.5265499454996,26.8373889630899,27.1482279806803,27.4590669982706,27.769906015861,28.0807450334513,28.3915840510417,28.7024230686321,29.0132620862224,29.3241011038128,29.6349401214031,29.9457791389935,30.2566181565838,30.5674571741742,30.8782961917645,31.1891352093549,31.4999742269453,31.8108132445356,32.121652262126,32.4324912797163,32.7433302973067,33.054169314897,33.3650083324874,33.6758473500778,33.9866863676681,34.2975253852585,34.6083644028488,34.9192034204392,35.2300424380295,35.5408814556199,35.8517204732102,36.1625594908006,36.473398508391,36.7842375259813,37.0950765435717,37.405915561162,37.7167545787524,38.0275935963427,38.3384326139331,38.6492716315235,38.9601106491138,39.2709496667042,39.5817886842945,39.8926277018849,40.2034667194752,40.5143057370656,40.825144754656,41.1359837722463,41.4468227898367,41.757661807427,42.0685008250174,42.3793398426077,42.6901788601981,43.0010178777884,43.3118568953788,43.6226959129692,43.9335349305595,44.2443739481499,5,35],\"fNormalized\":false,\"fNormIntegral\":0,\"fFormula\":{\"_typename\":\"TFormula\",\"fUniqueID\":0,\"fBits\":50398208,\"fName\":\"pol1\",\"fTitle\":\"pol1\",\"fClingParameters\":[7.97982189594162,1.03613005863452],\"fAllParametersSetted\":true,\"fParams\":[{\"$pair\":\"pair<TString,int,TFormulaParamOrder>\",\"first\":\"p0\",\"second\":0},{\"$pair\":\"pair<TString,int,TFormulaParamOrder>\",\"first\":\"p1\",\"second\":1}],\"fFormula\":\"([p0]+[p1]*x)\",\"fNdim\":1,\"fLinearParts\":[],\"fVectorized\":false},\"fParams\":null,\"fComposition_ptr\":null},{\"_typename\":\"TPaveStats\",\"fUniqueID\":0,\"fBits\":50331657,\"fLineColor\":1,\"fLineStyle\":1,\"fLineWidth\":1,\"fFillColor\":0,\"fFillStyle\":1001,\"fX1\":37.9473699763871,\"fY1\":47.1428579361574,\"fX2\":60.6842127057654,\"fY2\":62.7272732099331,\"fX1NDC\":0.620000013709068,\"fY1NDC\":0.735000006854534,\"fX2NDC\":0.980000019073486,\"fY2NDC\":0.935000002384186,\"fBorderSize\":1,\"fInit\":1,\"fShadowColor\":1,\"fCornerRadius\":0,\"fOption\":\"brNDC\",\"fName\":\"stats\",\"fTextAngle\":0,\"fTextSize\":0,\"fTextAlign\":12,\"fTextColor\":1,\"fTextFont\":42,\"fLabel\":\"\",\"fLongest\":30,\"fMargin\":0.05,\"fLines\":{\"_typename\":\"TList\",\"name\":\"TList\",\"arr\":[{\"_typename\":\"TLatex\",\"fUniqueID\":0,\"fBits\":50331648,\"fName\":\"\",\"fTitle\":\"#chi^{2} \\/ ndf = 118.1 \\/ 3\",\"fTextAngle\":0,\"fTextSize\":0,\"fTextAlign\":0,\"fTextColor\":0,\"fTextFont\":0,\"fX\":0,\"fY\":0,\"fLineColor\":1,\"fLineStyle\":1,\"fLineWidth\":2,\"fLimitFactorSize\":3,\"fOriginSize\":0.04},{\"_typename\":\"TLatex\",\"fUniqueID\":0,\"fBits\":50331648,\"fName\":\"\",\"fTitle\":\"Prob  = 1.941e-25\",\"fTextAngle\":0,\"fTextSize\":0,\"fTextAlign\":0,\"fTextColor\":0,\"fTextFont\":0,\"fX\":0,\"fY\":0,\"fLineColor\":1,\"fLineStyle\":1,\"fLineWidth\":2,\"fLimitFactorSize\":3,\"fOriginSize\":0.04},{\"_typename\":\"TLatex\",\"fUniqueID\":0,\"fBits\":50331648,\"fName\":\"\",\"fTitle\":\"p0       =  7.98 #pm 0.0555 \",\"fTextAngle\":0,\"fTextSize\":0,\"fTextAlign\":0,\"fTextColor\":0,\"fTextFont\":0,\"fX\":0,\"fY\":0,\"fLineColor\":1,\"fLineStyle\":1,\"fLineWidth\":2,\"fLimitFactorSize\":3,\"fOriginSize\":0.04},{\"_typename\":\"TLatex\",\"fUniqueID\":0,\"fBits\":50331648,\"fName\":\"\",\"fTitle\":\"p1       = 1.036 #pm 0.002323 \",\"fTextAngle\":0,\"fTextSize\":0,\"fTextAlign\":0,\"fTextColor\":0,\"fTextFont\":0,\"fX\":0,\"fY\":0,\"fLineColor\":1,\"fLineStyle\":1,\"fLineWidth\":2,\"fLimitFactorSize\":3,\"fOriginSize\":0.04}],\"opt\":[\"\",\"\",\"\",\"\"]},\"fOptFit\":11111,\"fOptStat\":0,\"fFitFormat\":\"5.4g\",\"fStatFormat\":\"6.4g\",\"fParent\":{\"$ref\":4}}],\"opt\":[\"\",\"brNDC\"]},\"fHistogram\":{\"_typename\":\"TH1F\",\"fUniqueID\":0,\"fBits\":50331648,\"fName\":\"af1e4f\",\"fTitle\":\"\",\"fLineColor\":602,\"fLineStyle\":1,\"fLineWidth\":1,\"fFillColor\":0,\"fFillStyle\":1001,\"fMarkerColor\":1,\"fMarkerStyle\":1,\"fMarkerSize\":1,\"fNcells\":102,\"fXaxis\":{\"_typename\":\"TAxis\",\"fUniqueID\":0,\"fBits\":50331656,\"fName\":\"xaxis\",\"fTitle\":\"p_{T} thresh. [GeV]\",\"fNdivisions\":510,\"fAxisColor\":1,\"fLabelColor\":1,\"fLabelFont\":42,\"fLabelOffset\":0.005,\"fLabelSize\":0.035,\"fTickLength\":0.03,\"fTitleOffset\":1.4,\"fTitleSize\":0.035,\"fTitleColor\":1,\"fTitleFont\":42,\"fNbins\":100,\"fXmin\":7,\"fXmax\":43,\"fXbins\":[],\"fFirst\":0,\"fLast\":0,\"fBits2\":0,\"fTimeDisplay\":false,\"fTimeFormat\":\"\",\"fLabels\":null,\"fModLabs\":null},\"fYaxis\":{\"_typename\":\"TAxis\",\"fUniqueID\":0,\"fBits\":50331656,\"fName\":\"yaxis\",\"fTitle\":\"p_{T} @ 95% eff. [GeV] \",\"fNdivisions\":510,\"fAxisColor\":1,\"fLabelColor\":1,\"fLabelFont\":42,\"fLabelOffset\":0.005,\"fLabelSize\":0.035,\"fTickLength\":0.03,\"fTitleOffset\":0,\"fTitleSize\":0.035,\"fTitleColor\":1,\"fTitleFont\":42,\"fNbins\":1,\"fXmin\":15.8562669942694,\"fXmax\":53.1015871326419,\"fXbins\":[],\"fFirst\":0,\"fLast\":0,\"fBits2\":0,\"fTimeDisplay\":false,\"fTimeFormat\":\"\",\"fLabels\":null,\"fModLabs\":null},\"fZaxis\":{\"_typename\":\"TAxis\",\"fUniqueID\":0,\"fBits\":50331648,\"fName\":\"zaxis\",\"fTitle\":\"\",\"fNdivisions\":510,\"fAxisColor\":1,\"fLabelColor\":1,\"fLabelFont\":42,\"fLabelOffset\":0.005,\"fLabelSize\":0.035,\"fTickLength\":0.03,\"fTitleOffset\":1,\"fTitleSize\":0.035,\"fTitleColor\":1,\"fTitleFont\":42,\"fNbins\":1,\"fXmin\":0,\"fXmax\":1,\"fXbins\":[],\"fFirst\":0,\"fLast\":0,\"fBits2\":0,\"fTimeDisplay\":false,\"fTimeFormat\":\"\",\"fLabels\":null,\"fModLabs\":null},\"fBarOffset\":0,\"fBarWidth\":1000,\"fEntries\":0,\"fTsumw\":0,\"fTsumw2\":0,\"fTsumwx\":0,\"fTsumwx2\":0,\"fMaximum\":60,\"fMinimum\":0,\"fNormFactor\":0,\"fContour\":[],\"fSumw2\":[],\"fOption\":\"\",\"fFunctions\":{\"_typename\":\"TList\",\"name\":\"TList\",\"arr\":[],\"opt\":[]},\"fBufferSize\":0,\"fBuffer\":[],\"fBinStatErrOpt\":0,\"fStatOverflows\":2,\"fArray\":[0,0,0,0,0,0,0,0,0,0,0,0,0,0,0,0,0,0,0,0,0,0,0,0,0,0,0,0,0,0,0,0,0,0,0,0,0,0,0,0,0,0,0,0,0,0,0,0,0,0,0,0,0,0,0,0,0,0,0,0,0,0,0,0,0,0,0,0,0,0,0,0,0,0,0,0,0,0,0,0,0,0,0,0,0,0,0,0,0,0,0,0,0,0,0,0,0,0,0,0,0,0]},\"fMinimum\":-1111,\"fMaximum\":-1111,\"fEX\":[0,0,0,0,0,0],\"fEY\":[0.125846031942731,0.028046089477025,0.0337507779385998,0.0252917982144755,0.0248122733273735,0.0248760992336406]},{\"_typename\":\"TLatex\",\"fUniqueID\":0,\"fBits\":50348040,\"fName\":\"\",\"fTitle\":\"PU200, EG, hwQual 5, 1.52 < |#eta^{GEN}| <= 2.4\",\"fTextAngle\":0,\"fTextSize\":0.03,\"fTextAlign\":11,\"fTextColor\":1,\"fTextFont\":62,\"fX\":0.15,\"fY\":0.85,\"fLineColor\":1,\"fLineStyle\":1,\"fLineWidth\":2,\"fLimitFactorSize\":3,\"fOriginSize\":0.04},{\"_typename\":\"TLatex\",\"fUniqueID\":0,\"fBits\":50331656,\"fName\":\"\",\"fTitle\":\"\",\"fTextAngle\":0,\"fTextSize\":0.03,\"fTextAlign\":11,\"fTextColor\":1,\"fTextFont\":62,\"fX\":0,\"fY\":0,\"fLineColor\":1,\"fLineStyle\":1,\"fLineWidth\":2,\"fLimitFactorSize\":3,\"fOriginSize\":0.04}],\"opt\":[\"\",\"pa\",\"same\",\"same\"]},\"fExecs\":null,\"fName\":\"c_79457d\",\"fTitle\":\"c_79457d\",\"fNumPaletteColor\":0,\"fNextPaletteColor\":0,\"fDISPLAY\":\"$DISPLAY\",\"fDoubleBuffer\":0,\"fRetained\":true,\"fXsizeUser\":0,\"fYsizeUser\":0,\"fXsizeReal\":20,\"fYsizeReal\":15,\"fWindowTopX\":0,\"fWindowTopY\":0,\"fWindowWidth\":0,\"fWindowHeight\":0,\"fCw\":796,\"fCh\":572,\"fCatt\":{\"_typename\":\"TAttCanvas\",\"fXBetween\":2,\"fYBetween\":2,\"fTitleFromTop\":1.2,\"fXdate\":0.2,\"fYdate\":0.3,\"fAdate\":1},\"kMoveOpaque\":true,\"kResizeOpaque\":true,\"fHighLightColor\":2,\"fBatch\":true,\"kShowEventStatus\":false,\"kAutoExec\":true,\"kMenuBar\":true});\n",
       "       Core.draw(\"root_plot_81\", obj, \"\");\n",
       "     }\n",
       " );\n",
       "</script>\n"
      ],
      "text/plain": [
       "<IPython.core.display.HTML object>"
      ]
     },
     "metadata": {},
     "output_type": "display_data"
    }
   ],
   "source": [
    "scaling_params = pd.DataFrame(columns=['tp', 'tp_sel', 'params'])\n",
    "ROOT.gStyle.SetOptFit(11111)\n",
    "\n",
    "for sample in hplot.data[hplot.data.classtype == fake_histoname]['sample'].unique():\n",
    "    print sample\n",
    "    for pu in hplot.data[(hplot.data.classtype == fake_histoname) & (hplot.data['sample'] == sample)].pu.unique():\n",
    "        for tp in hplot.data[(hplot.data.classtype == fake_histoname) & (hplot.data['sample'] == sample) & (hplot.data.pu == pu)].tp.unique():\n",
    "            for tp_sel in hplot.data[(hplot.data.classtype == fake_histoname) & (hplot.data['sample'] == sample) & (hplot.data.pu == pu) & (hplot.data.tp == tp)].tp_sel.unique():\n",
    "                hsets, labels, text = hplot.get_histo(fake_histoname, sample, pu, tp, tp_sel, ['GENEtaBC'])\n",
    "                result = hsets[0].Fit('pol1', 'MES+', '', 5, 35)\n",
    "                result.GetParams()\n",
    "                scaling_params = scaling_params.append({'pu': pu,\n",
    "                                                         'tp': tp,\n",
    "                                                         'tp_sel': tp_sel+'EtaBC',\n",
    "                                                         'params': (result.GetParams()[0], result.GetParams()[1])},\n",
    "                                                          ignore_index=True)\n",
    "                draw(hsets, labels, text=text, min_y=0, max_y=60, y_axis_label='p_{T} @ 95% eff. [GeV] ', x_axis_label='p_{T} thresh. [GeV]')"
   ]
  },
  {
   "cell_type": "markdown",
   "metadata": {},
   "source": [
    "###### "
   ]
  },
  {
   "cell_type": "code",
   "execution_count": 143,
   "metadata": {},
   "outputs": [
    {
     "data": {
      "text/html": [
       "<div>\n",
       "<style scoped>\n",
       "    .dataframe tbody tr th:only-of-type {\n",
       "        vertical-align: middle;\n",
       "    }\n",
       "\n",
       "    .dataframe tbody tr th {\n",
       "        vertical-align: top;\n",
       "    }\n",
       "\n",
       "    .dataframe thead th {\n",
       "        text-align: right;\n",
       "    }\n",
       "</style>\n",
       "<table border=\"1\" class=\"dataframe\">\n",
       "  <thead>\n",
       "    <tr style=\"text-align: right;\">\n",
       "      <th></th>\n",
       "      <th>tp</th>\n",
       "      <th>tp_sel</th>\n",
       "      <th>params</th>\n",
       "      <th>pu</th>\n",
       "    </tr>\n",
       "  </thead>\n",
       "  <tbody>\n",
       "    <tr>\n",
       "      <th>0</th>\n",
       "      <td>EG</td>\n",
       "      <td>EGq4EtaBC</td>\n",
       "      <td>(9.46853716758, 1.12506606895)</td>\n",
       "      <td>PU0</td>\n",
       "    </tr>\n",
       "    <tr>\n",
       "      <th>1</th>\n",
       "      <td>EG</td>\n",
       "      <td>EGq5EtaBC</td>\n",
       "      <td>(5.79622365962, 1.11076830959)</td>\n",
       "      <td>PU0</td>\n",
       "    </tr>\n",
       "    <tr>\n",
       "      <th>2</th>\n",
       "      <td>EG</td>\n",
       "      <td>EGq4EtaBC</td>\n",
       "      <td>(10.565597431, 1.06462867165)</td>\n",
       "      <td>PU200</td>\n",
       "    </tr>\n",
       "    <tr>\n",
       "      <th>3</th>\n",
       "      <td>EG</td>\n",
       "      <td>EGq5EtaBC</td>\n",
       "      <td>(7.97982189594, 1.03613005863)</td>\n",
       "      <td>PU200</td>\n",
       "    </tr>\n",
       "  </tbody>\n",
       "</table>\n",
       "</div>"
      ],
      "text/plain": [
       "   tp     tp_sel                          params     pu\n",
       "0  EG  EGq4EtaBC  (9.46853716758, 1.12506606895)    PU0\n",
       "1  EG  EGq5EtaBC  (5.79622365962, 1.11076830959)    PU0\n",
       "2  EG  EGq4EtaBC   (10.565597431, 1.06462867165)  PU200\n",
       "3  EG  EGq5EtaBC  (7.97982189594, 1.03613005863)  PU200"
      ]
     },
     "execution_count": 143,
     "metadata": {},
     "output_type": "execute_result"
    }
   ],
   "source": [
    "scaling_params"
   ]
  },
  {
   "cell_type": "code",
   "execution_count": 144,
   "metadata": {},
   "outputs": [],
   "source": [
    "scaling_params.to_csv(r'scaling_params_{}.csv'.format(version_V9))"
   ]
  },
  {
   "cell_type": "code",
   "execution_count": null,
   "metadata": {},
   "outputs": [],
   "source": [
    "eta_boundaries_fiducial = [-5, -4, -3,-2.5 ,-1.5, -0.5, 0.5, 1.5, 2.5, 3, 4, 5]\n",
    "eta_boundaries = []\n",
    "phi_boundaries_fiducial = []\n",
    "\n",
    "\n",
    "eta_overlap = 0.25\n",
    "phi_overlap = 0.25\n",
    "phiSlices = 9\n",
    "\n",
    "phiWidth = 2*math.pi/phiSlices\n",
    "\n",
    "\n",
    "phi_boundaries = []\n",
    "\n",
    "\n",
    "for ieta,eta_low_fiducial in enumerate(eta_boundaries_fiducial):\n",
    "    if ieta>=len(eta_boundaries_fiducial)-1:\n",
    "        break\n",
    "    eta_high_fiducial = eta_boundaries_fiducial[ieta+1]\n",
    "    print 'fiducial boundaries: {}, {}'.format(eta_low_fiducial, eta_high_fiducial)\n",
    "    eta_low = eta_low_fiducial - eta_overlap\n",
    "    eta_high = eta_high_fiducial + eta_overlap\n",
    "    eta_boundaries.append((eta_low, eta_high))\n",
    "    \n",
    "    \n",
    "    \n",
    "for iphi in range(0,9):\n",
    "    phiCenter = (iphi+0.5)*phiWidth-math.pi\n",
    "    print iphi,phiCenter\n",
    "    phi_low_fiducial = phiCenter - phiWidth/2.\n",
    "    phi_high_fiducial = phiCenter+phiWidth/2.\n",
    "    \n",
    "    print 'fiducial boundaries: {}, {}'.format(phi_low_fiducial, phi_high_fiducial)\n",
    "    phi_boundaries_fiducial.append(phi_low_fiducial)\n",
    "    \n",
    "    phi_low = phi_low_fiducial - phi_overlap\n",
    "    if phi_low < -1*math.pi:\n",
    "        phi_low = math.pi-phi_overlap\n",
    "    phi_high = phi_high_fiducial + phi_overlap\n",
    "    if phi_high > math.pi:\n",
    "        phi_high = -1*math.pi+phi_overlap\n",
    "    \n",
    "    phi_boundaries.append((phi_low, phi_high))\n",
    "    print 'boundaries: {} {}'.format(phi_low, phi_high)\n",
    "    \n",
    "    \n",
    "phi_boundaries_fiducial.append(math.pi)\n",
    "print \"FIDUCIAL\"\n",
    "print eta_boundaries_fiducial\n",
    "print phi_boundaries_fiducial\n",
    "\n",
    "print \"ACTUAL\"\n",
    "print phi_boundaries\n",
    "print eta_boundaries"
   ]
  },
  {
   "cell_type": "code",
   "execution_count": null,
   "metadata": {},
   "outputs": [],
   "source": []
  },
  {
   "cell_type": "code",
   "execution_count": null,
   "metadata": {},
   "outputs": [],
   "source": []
  }
 ],
 "metadata": {
  "kernelspec": {
   "display_name": "HGCTPGPerformance",
   "language": "python",
   "name": "hgctpgperformance"
  },
  "language_info": {
   "codemirror_mode": {
    "name": "ipython",
    "version": 2
   },
   "file_extension": ".py",
   "mimetype": "text/x-python",
   "name": "python",
   "nbconvert_exporter": "python",
   "pygments_lexer": "ipython2",
   "version": "2.7.16"
  },
  "toc": {
   "base_numbering": 1,
   "nav_menu": {},
   "number_sections": true,
   "sideBar": true,
   "skip_h1_title": false,
   "title_cell": "Table of Contents",
   "title_sidebar": "Contents",
   "toc_cell": false,
   "toc_position": {
    "height": "calc(100% - 180px)",
    "left": "10px",
    "top": "150px",
    "width": "176px"
   },
   "toc_section_display": true,
   "toc_window_display": true
  }
 },
 "nbformat": 4,
 "nbformat_minor": 2
}
