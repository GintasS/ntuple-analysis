{
 "cells": [
  {
   "cell_type": "markdown",
   "metadata": {},
   "source": [
    "# Single Particle performance plots\n",
    "\n",
    "\n",
    "   * [#$p_{T}$ response](#$p_{T}$-response)\n"
   ]
  },
  {
   "cell_type": "code",
   "execution_count": 1,
   "metadata": {},
   "outputs": [
    {
     "name": "stdout",
     "output_type": "stream",
     "text": [
      "Welcome to JupyROOT 6.14/02\n"
     ]
    }
   ],
   "source": [
    "import sys\n",
    "sys.path.insert(0, '..')\n",
    "import ROOT\n",
    "import root_numpy as rnp\n",
    "import python.l1THistos as histos\n",
    "import math\n",
    "import uuid\n",
    "import pandas as pd\n",
    "\n",
    "from drawingTools import *\n",
    "\n",
    "ROOT.enableJSVis()\n",
    "#ROOT.enableJSVis()\n",
    "\n",
    "#from drawingTools import *\n",
    "\n",
    "normalized_histos = list()\n",
    "    "
   ]
  },
  {
   "cell_type": "code",
   "execution_count": 2,
   "metadata": {},
   "outputs": [],
   "source": [
    "# %load ../drawingTools\n",
    "\n"
   ]
  },
  {
   "cell_type": "code",
   "execution_count": 11,
   "metadata": {},
   "outputs": [
    {
     "name": "stderr",
     "output_type": "stream",
     "text": [
      "Error in <TFile::TFile>: file ../plots1/histos_photon_flat8to150_PU0_v76t.root does not exist\n",
      "Error in <TFile::TFile>: file ../plots1/histos_photon_flat8to150_PU200_v76t.root does not exist\n",
      "Error in <TFile::TFile>: file ../plots1/histos_pion_flat2to100_PU0_v76t.root does not exist\n",
      "Error in <TFile::TFile>: file ../plots1/histos_nugun_alleta_pu0_v76t.root does not exist\n",
      "Error in <TFile::TFile>: file ../plots1/histos_nugun_alleta_pu200_v76t.root does not exist\n",
      "Error in <TFile::TFile>: file ../plots1/histos_nugun_alleta_pu200_v76t.root does not exist\n"
     ]
    }
   ],
   "source": [
    "# %load samples.py\n",
    "import ROOT\n",
    "import pandas as pd\n",
    "import python.selections as selections\n",
    "\n",
    "version = 'v76t'\n",
    "\n",
    "\n",
    "def get_label_dict(selections):\n",
    "    dictionary = {}\n",
    "    for sel in selections:\n",
    "        dictionary[sel.name] = sel.label\n",
    "    return dictionary\n",
    "\n",
    "\n",
    "# -------------------------------------------------------------------------\n",
    "\n",
    "samples_ele = [\n",
    "    Sample('ele_flat2to100_PU0', 'PU0', version, 'ele'),\n",
    "    Sample('ele_flat2to100_PU200', 'PU200', version, 'ele')\n",
    "    ]\n",
    "\n",
    "samples_ele_V8 = [\n",
    "    Sample('ele_flat2to100_PU0', 'PU0', version, 'V8'),\n",
    "    Sample('ele_flat2to100_PU200', 'PU200', version, 'V8')\n",
    "    ]\n",
    "\n",
    "\n",
    "samples_ele_V9 = [\n",
    "    Sample('all_flat5to80_PU0', 'PU0', 'v78', 'V9'),\n",
    "    Sample('all_flat5to80_PU200', 'PU200', 'v78', 'V9')\n",
    "    ]\n",
    "\n",
    "samples_photons = [\n",
    "    Sample('photon_flat8to150_PU0', 'PU0', version, 'photon'),\n",
    "    Sample('photon_flat8to150_PU200', 'PU200', version, 'photon')\n",
    "    ]\n",
    "\n",
    "samples_pions = [\n",
    "    Sample('pion_flat2to100_PU0', 'PU0', version, 'pions'),\n",
    "    ]\n",
    "\n",
    "samples_nugus = [\n",
    "    Sample('nugun_alleta_pu0', 'PU0', version, 'mb'),\n",
    "    Sample('nugun_alleta_pu200', 'PU200', version, 'mb')\n",
    "    ]\n",
    "\n",
    "samples_nugunrates = [\n",
    "    Sample('nugun_alleta_pu200', 'PU200', version, 'mb')\n",
    "    ]\n",
    "\n",
    "all_tpsets = {'DEF': 'dRC3d',\n",
    "              'DEFCalib': 'NNDR Calib v1',\n",
    "              'DEFNC': 'dRC3d + new Th',\n",
    "              'HMvDR': 'HistoMaxC3d + dR(layer)',\n",
    "              'HMvDRNC0': 'HMC3d+dR(layer)+NC0',\n",
    "              'HMvDRNC1': 'HMC3d+dR(layer)+NC1',\n",
    "              'EG': 'EG',\n",
    "              'TkEG': 'TkEG',\n",
    "              'TkEle': 'TkEle',\n",
    "              'TkIsoEle': 'TkIsoEle',\n",
    "              'L1Trk': 'L1Track'}\n"
   ]
  },
  {
   "cell_type": "code",
   "execution_count": 4,
   "metadata": {},
   "outputs": [
    {
     "name": "stdout",
     "output_type": "stream",
     "text": [
      "--- samples:\n",
      "[<drawingTools.Sample instance at 0x1136fefc8>, <drawingTools.Sample instance at 0x114209638>, <drawingTools.Sample instance at 0x114200c20>, <drawingTools.Sample instance at 0x114209680>]\n",
      "--- TPs: \n",
      "['EG']\n",
      "--- TP selections:\n",
      "{'TkEG': ['EGq2', 'EGq3'], 'TkEle': ['EGq2', 'EGq3', 'EGq2Iso0p2', 'EGq3Iso0p2', 'EGq2Iso0p3', 'EGq3Iso0p3'], 'HMvDRNC0': ['Em', 'all'], 'HMvDRNC1': ['Em', 'all'], 'EG': ['EGq2', 'EGq3'], 'DEFNC': ['Em', 'all'], 'L1Trk': ['all', 'Pt2', 'Pt10'], 'TkIsoEle': ['EGq2', 'EGq3', 'EGq2Iso0p2', 'EGq3Iso0p2', 'EGq2Iso0p3', 'EGq3Iso0p3'], 'HMvDR': ['Em', 'all'], 'DEF': ['Em', 'all']}\n",
      "--- GEN selections:\n",
      "['GENEtaBC', 'GENEtaD']\n"
     ]
    }
   ],
   "source": [
    "# %load settings.py\n",
    "# === samples =====================================================\n",
    "samples = []\n",
    "\n",
    "samples = samples_ele_V9\n",
    "samples += samples_ele_V8\n",
    "\n",
    "\n",
    "sample = 'V9'\n",
    "# === TP ==========================================================\n",
    "tps = ['EG']\n",
    "\n",
    "# === TP selections ================================================\n",
    "tp_select = {}\n",
    "tp_select['DEF'] = ['Em', 'all']\n",
    "tp_select['DEFNC'] = tp_select['DEF']\n",
    "tp_select['HMvDR'] = tp_select['DEF']\n",
    "tp_select['HMvDRNC0'] = tp_select['DEF']\n",
    "tp_select['HMvDRNC1'] = tp_select['DEF']\n",
    "\n",
    "\n",
    "tp_select['EG'] = ['EGq2', 'EGq3']\n",
    "\n",
    "tp_select['TkEG'] = ['EGq2', 'EGq3']\n",
    "tp_select['TkEle'] = ['EGq2', 'EGq3']\n",
    "\n",
    "tp_select['TkEle'] = ['EGq2', 'EGq3', 'EGq2Iso0p2', 'EGq3Iso0p2', 'EGq2Iso0p3', 'EGq3Iso0p3']\n",
    "tp_select['TkIsoEle'] = ['EGq2', 'EGq3', 'EGq2Iso0p2', 'EGq3Iso0p2', 'EGq2Iso0p3', 'EGq3Iso0p3']\n",
    "tp_select['L1Trk'] = ['all', 'Pt2', 'Pt10']\n",
    "\n",
    "# ==== GEN selections ===============================================\n",
    "\n",
    "gen_select = ['GENEtaBC', 'GENEtaD']\n",
    "# gen_select = ['GEN', 'GENEtaA', 'GENEtaB', 'GENEtaC', 'GENEtaD', 'GENEtaE',\n",
    "#               'GENEtaAB', 'GENEtaABC', 'GENEtaBC', 'GENEtaBCD', 'GENEtaBCDE' ]\n",
    "\n",
    "# tp_select['TkEG'] = ['EGq2EtaBC', 'EGq3EtaBC', 'EGq2EtaBCM2', 'EGq3EtaBCM2', 'EGq2EtaBCM2s', 'EGq3EtaBCM2s','EGq2EtaBCM3', 'EGq3EtaBCM3', 'EGq2EtaBCM3s', 'EGq3EtaBCM3s','EGq2EtaBCM4', 'EGq3EtaBCM4']\n",
    "\n",
    "\n",
    "# ==== adapt the plot retrieval\n",
    "tpsets = {}\n",
    "tpset_selections = {}\n",
    "gen_selections = {}\n",
    "\n",
    "for tp in tps:\n",
    "    tpsets[tp] = all_tpsets[tp]\n",
    "\n",
    "if 'DEF' in tps or 'HMvDR' in tps:\n",
    "    tpset_selections.update(get_label_dict(selections.tp_match_selections))\n",
    "if 'EG' in tps:\n",
    "    tpset_selections.update(get_label_dict(selections.eg_pt_selections))\n",
    "if 'TkEG' in tps:\n",
    "    tpset_selections.update(get_label_dict(selections.tkeg_pt_selections))\n",
    "if 'TkEle' in tps or 'TkIsoEle' in tps:\n",
    "    tpset_selections.update(get_label_dict(selections.tkisoeg_pt_selections))\n",
    "if 'L1Trk' in tps:\n",
    "    tpset_selections.update(get_label_dict(selections.tracks_selections))\n",
    "\n",
    "\n",
    "gen_selections.update(get_label_dict(selections.gen_part_selections))\n",
    "gen_selections.update({'nomatch': ''})\n",
    "\n",
    "print '--- samples:'\n",
    "print samples\n",
    "print '--- TPs: '\n",
    "print tps\n",
    "print '--- TP selections:'\n",
    "print tp_select\n",
    "print '--- GEN selections:'\n",
    "print gen_select\n"
   ]
  },
  {
   "cell_type": "code",
   "execution_count": 12,
   "metadata": {},
   "outputs": [
    {
     "data": {
      "text/plain": [
       "{'EGq2': 'q2',\n",
       " 'EGq2Pt10': 'q2, p_{T}^{L1}>=10GeV',\n",
       " 'EGq2Pt20': 'q2, p_{T}^{L1}>=20GeV',\n",
       " 'EGq2Pt30': 'q2, p_{T}^{L1}>=30GeV',\n",
       " 'EGq3': 'q3',\n",
       " 'EGq3Pt10': 'q3, p_{T}^{L1}>=10GeV',\n",
       " 'EGq3Pt20': 'q3, p_{T}^{L1}>=20GeV',\n",
       " 'EGq3Pt30': 'q3, p_{T}^{L1}>=30GeV'}"
      ]
     },
     "execution_count": 12,
     "metadata": {},
     "output_type": "execute_result"
    }
   ],
   "source": [
    "tpset_selections"
   ]
  },
  {
   "cell_type": "code",
   "execution_count": 13,
   "metadata": {},
   "outputs": [
    {
     "data": {
      "text/plain": [
       "{'GEN': '',\n",
       " 'GENEtaB': '1.52 < |#eta^{GEN}| <= 1.7',\n",
       " 'GENEtaBC': '1.52 < |#eta^{GEN}| <= 2.4',\n",
       " 'GENEtaBCD': '1.52 < |#eta^{GEN}| <= 2.8',\n",
       " 'GENEtaC': '1.7 < |#eta^{GEN}| <= 2.4',\n",
       " 'GENEtaD': '2.4 < |#eta^{GEN}| <= 2.8',\n",
       " 'GENPt10': 'p_{T}^{GEN}>=10GeV',\n",
       " 'GENPt20': 'p_{T}^{GEN}>=20GeV',\n",
       " 'GENPt30': 'p_{T}^{GEN}>=30GeV',\n",
       " 'GENPt40': 'p_{T}^{GEN}>=40GeV',\n",
       " 'nomatch': ''}"
      ]
     },
     "execution_count": 13,
     "metadata": {},
     "output_type": "execute_result"
    }
   ],
   "source": [
    "gen_selections"
   ]
  },
  {
   "cell_type": "markdown",
   "metadata": {},
   "source": [
    "## Resolution Studies\n",
    "### 3D cluster: Pt resolution"
   ]
  },
  {
   "cell_type": "code",
   "execution_count": null,
   "metadata": {},
   "outputs": [],
   "source": []
  },
  {
   "cell_type": "code",
   "execution_count": 14,
   "metadata": {},
   "outputs": [
    {
     "data": {
      "text/plain": [
       "{}"
      ]
     },
     "execution_count": 14,
     "metadata": {},
     "output_type": "execute_result"
    }
   ],
   "source": [
    "files"
   ]
  },
  {
   "cell_type": "code",
   "execution_count": 15,
   "metadata": {
    "scrolled": true
   },
   "outputs": [
    {
     "name": "stdout",
     "output_type": "stream",
     "text": [
      "<drawingTools.Sample instance at 0x1136fefc8>\n",
      "<drawingTools.Sample instance at 0x1136fefc8> EG EGq3Pt10 GENPt40\n",
      "<drawingTools.Sample instance at 0x1136fefc8> EG EGq3Pt10 GENEtaC\n",
      "<drawingTools.Sample instance at 0x1136fefc8> EG EGq3Pt10 GENEtaB\n",
      "<drawingTools.Sample instance at 0x1136fefc8> EG EGq3Pt10 GENEtaD\n",
      "<drawingTools.Sample instance at 0x1136fefc8> EG EGq3Pt10 GENEtaBC\n",
      "<drawingTools.Sample instance at 0x1136fefc8> EG EGq3Pt10 GENPt30\n",
      "<drawingTools.Sample instance at 0x1136fefc8> EG EGq3Pt10 GENPt20\n",
      "<drawingTools.Sample instance at 0x1136fefc8> EG EGq3Pt10 GENEtaBCD\n",
      "<drawingTools.Sample instance at 0x1136fefc8> EG EGq3Pt10 GENPt10\n",
      "<drawingTools.Sample instance at 0x1136fefc8> EG EGq3Pt10 nomatch\n",
      "<drawingTools.Sample instance at 0x1136fefc8> EG EGq3Pt10 GEN\n",
      "<drawingTools.Sample instance at 0x1136fefc8> EG EGq3 GENPt40\n",
      "<drawingTools.Sample instance at 0x1136fefc8> EG EGq3 GENEtaC\n",
      "<drawingTools.Sample instance at 0x1136fefc8> EG EGq3 GENEtaB\n",
      "<drawingTools.Sample instance at 0x1136fefc8> EG EGq3 GENEtaD\n",
      "<drawingTools.Sample instance at 0x1136fefc8> EG EGq3 GENEtaBC\n",
      "<drawingTools.Sample instance at 0x1136fefc8> EG EGq3 GENPt30\n",
      "<drawingTools.Sample instance at 0x1136fefc8> EG EGq3 GENPt20\n",
      "<drawingTools.Sample instance at 0x1136fefc8> EG EGq3 GENEtaBCD\n",
      "<drawingTools.Sample instance at 0x1136fefc8> EG EGq3 GENPt10\n",
      "<drawingTools.Sample instance at 0x1136fefc8> EG EGq3 nomatch\n",
      "<drawingTools.Sample instance at 0x1136fefc8> EG EGq3 GEN\n",
      "<drawingTools.Sample instance at 0x1136fefc8> EG EGq2 GENPt40\n",
      "<drawingTools.Sample instance at 0x1136fefc8> EG EGq2 GENEtaC\n",
      "<drawingTools.Sample instance at 0x1136fefc8> EG EGq2 GENEtaB\n",
      "<drawingTools.Sample instance at 0x1136fefc8> EG EGq2 GENEtaD\n",
      "<drawingTools.Sample instance at 0x1136fefc8> EG EGq2 GENEtaBC\n",
      "<drawingTools.Sample instance at 0x1136fefc8> EG EGq2 GENPt30\n",
      "<drawingTools.Sample instance at 0x1136fefc8> EG EGq2 GENPt20\n",
      "<drawingTools.Sample instance at 0x1136fefc8> EG EGq2 GENEtaBCD\n",
      "<drawingTools.Sample instance at 0x1136fefc8> EG EGq2 GENPt10\n",
      "<drawingTools.Sample instance at 0x1136fefc8> EG EGq2 nomatch\n",
      "<drawingTools.Sample instance at 0x1136fefc8> EG EGq2 GEN\n",
      "<drawingTools.Sample instance at 0x1136fefc8> EG EGq2Pt10 GENPt40\n",
      "<drawingTools.Sample instance at 0x1136fefc8> EG EGq2Pt10 GENEtaC\n",
      "<drawingTools.Sample instance at 0x1136fefc8> EG EGq2Pt10 GENEtaB\n",
      "<drawingTools.Sample instance at 0x1136fefc8> EG EGq2Pt10 GENEtaD\n",
      "<drawingTools.Sample instance at 0x1136fefc8> EG EGq2Pt10 GENEtaBC\n",
      "<drawingTools.Sample instance at 0x1136fefc8> EG EGq2Pt10 GENPt30\n",
      "<drawingTools.Sample instance at 0x1136fefc8> EG EGq2Pt10 GENPt20\n",
      "<drawingTools.Sample instance at 0x1136fefc8> EG EGq2Pt10 GENEtaBCD\n",
      "<drawingTools.Sample instance at 0x1136fefc8> EG EGq2Pt10 GENPt10\n",
      "<drawingTools.Sample instance at 0x1136fefc8> EG EGq2Pt10 nomatch\n",
      "<drawingTools.Sample instance at 0x1136fefc8> EG EGq2Pt10 GEN\n",
      "<drawingTools.Sample instance at 0x1136fefc8> EG EGq3Pt20 GENPt40\n",
      "<drawingTools.Sample instance at 0x1136fefc8> EG EGq3Pt20 GENEtaC\n",
      "<drawingTools.Sample instance at 0x1136fefc8> EG EGq3Pt20 GENEtaB\n",
      "<drawingTools.Sample instance at 0x1136fefc8> EG EGq3Pt20 GENEtaD\n",
      "<drawingTools.Sample instance at 0x1136fefc8> EG EGq3Pt20 GENEtaBC\n",
      "<drawingTools.Sample instance at 0x1136fefc8> EG EGq3Pt20 GENPt30\n",
      "<drawingTools.Sample instance at 0x1136fefc8> EG EGq3Pt20 GENPt20\n",
      "<drawingTools.Sample instance at 0x1136fefc8> EG EGq3Pt20 GENEtaBCD\n",
      "<drawingTools.Sample instance at 0x1136fefc8> EG EGq3Pt20 GENPt10\n",
      "<drawingTools.Sample instance at 0x1136fefc8> EG EGq3Pt20 nomatch\n",
      "<drawingTools.Sample instance at 0x1136fefc8> EG EGq3Pt20 GEN\n",
      "<drawingTools.Sample instance at 0x1136fefc8> EG EGq2Pt30 GENPt40\n",
      "<drawingTools.Sample instance at 0x1136fefc8> EG EGq2Pt30 GENEtaC\n",
      "<drawingTools.Sample instance at 0x1136fefc8> EG EGq2Pt30 GENEtaB\n",
      "<drawingTools.Sample instance at 0x1136fefc8> EG EGq2Pt30 GENEtaD\n",
      "<drawingTools.Sample instance at 0x1136fefc8> EG EGq2Pt30 GENEtaBC\n",
      "<drawingTools.Sample instance at 0x1136fefc8> EG EGq2Pt30 GENPt30\n",
      "<drawingTools.Sample instance at 0x1136fefc8> EG EGq2Pt30 GENPt20\n",
      "<drawingTools.Sample instance at 0x1136fefc8> EG EGq2Pt30 GENEtaBCD\n",
      "<drawingTools.Sample instance at 0x1136fefc8> EG EGq2Pt30 GENPt10\n",
      "<drawingTools.Sample instance at 0x1136fefc8> EG EGq2Pt30 nomatch\n",
      "<drawingTools.Sample instance at 0x1136fefc8> EG EGq2Pt30 GEN\n",
      "<drawingTools.Sample instance at 0x1136fefc8> EG EGq3Pt30 GENPt40\n",
      "<drawingTools.Sample instance at 0x1136fefc8> EG EGq3Pt30 GENEtaC\n",
      "<drawingTools.Sample instance at 0x1136fefc8> EG EGq3Pt30 GENEtaB\n",
      "<drawingTools.Sample instance at 0x1136fefc8> EG EGq3Pt30 GENEtaD\n",
      "<drawingTools.Sample instance at 0x1136fefc8> EG EGq3Pt30 GENEtaBC\n",
      "<drawingTools.Sample instance at 0x1136fefc8> EG EGq3Pt30 GENPt30\n",
      "<drawingTools.Sample instance at 0x1136fefc8> EG EGq3Pt30 GENPt20\n",
      "<drawingTools.Sample instance at 0x1136fefc8> EG EGq3Pt30 GENEtaBCD\n",
      "<drawingTools.Sample instance at 0x1136fefc8> EG EGq3Pt30 GENPt10\n",
      "<drawingTools.Sample instance at 0x1136fefc8> EG EGq3Pt30 nomatch\n",
      "<drawingTools.Sample instance at 0x1136fefc8> EG EGq3Pt30 GEN\n",
      "<drawingTools.Sample instance at 0x1136fefc8> EG EGq2Pt20 GENPt40\n",
      "<drawingTools.Sample instance at 0x1136fefc8> EG EGq2Pt20 GENEtaC\n",
      "<drawingTools.Sample instance at 0x1136fefc8> EG EGq2Pt20 GENEtaB\n",
      "<drawingTools.Sample instance at 0x1136fefc8> EG EGq2Pt20 GENEtaD\n",
      "<drawingTools.Sample instance at 0x1136fefc8> EG EGq2Pt20 GENEtaBC\n",
      "<drawingTools.Sample instance at 0x1136fefc8> EG EGq2Pt20 GENPt30\n",
      "<drawingTools.Sample instance at 0x1136fefc8> EG EGq2Pt20 GENPt20\n",
      "<drawingTools.Sample instance at 0x1136fefc8> EG EGq2Pt20 GENEtaBCD\n",
      "<drawingTools.Sample instance at 0x1136fefc8> EG EGq2Pt20 GENPt10\n",
      "<drawingTools.Sample instance at 0x1136fefc8> EG EGq2Pt20 nomatch\n",
      "<drawingTools.Sample instance at 0x1136fefc8> EG EGq2Pt20 GEN\n",
      "<drawingTools.Sample instance at 0x114209638>\n",
      "<drawingTools.Sample instance at 0x114209638> EG EGq3Pt10 GENPt40\n",
      "<drawingTools.Sample instance at 0x114209638> EG EGq3Pt10 GENEtaC\n",
      "<drawingTools.Sample instance at 0x114209638> EG EGq3Pt10 GENEtaB\n",
      "<drawingTools.Sample instance at 0x114209638> EG EGq3Pt10 GENEtaD\n",
      "<drawingTools.Sample instance at 0x114209638> EG EGq3Pt10 GENEtaBC\n",
      "<drawingTools.Sample instance at 0x114209638> EG EGq3Pt10 GENPt30\n",
      "<drawingTools.Sample instance at 0x114209638> EG EGq3Pt10 GENPt20\n",
      "<drawingTools.Sample instance at 0x114209638> EG EGq3Pt10 GENEtaBCD\n",
      "<drawingTools.Sample instance at 0x114209638> EG EGq3Pt10 GENPt10\n",
      "<drawingTools.Sample instance at 0x114209638> EG EGq3Pt10 nomatch\n",
      "<drawingTools.Sample instance at 0x114209638> EG EGq3Pt10 GEN\n",
      "<drawingTools.Sample instance at 0x114209638> EG EGq3 GENPt40\n",
      "<drawingTools.Sample instance at 0x114209638> EG EGq3 GENEtaC\n",
      "<drawingTools.Sample instance at 0x114209638> EG EGq3 GENEtaB\n",
      "<drawingTools.Sample instance at 0x114209638> EG EGq3 GENEtaD\n",
      "<drawingTools.Sample instance at 0x114209638> EG EGq3 GENEtaBC\n",
      "<drawingTools.Sample instance at 0x114209638> EG EGq3 GENPt30\n",
      "<drawingTools.Sample instance at 0x114209638> EG EGq3 GENPt20\n",
      "<drawingTools.Sample instance at 0x114209638> EG EGq3 GENEtaBCD\n",
      "<drawingTools.Sample instance at 0x114209638> EG EGq3 GENPt10\n",
      "<drawingTools.Sample instance at 0x114209638> EG EGq3 nomatch\n",
      "<drawingTools.Sample instance at 0x114209638> EG EGq3 GEN\n",
      "<drawingTools.Sample instance at 0x114209638> EG EGq2 GENPt40\n",
      "<drawingTools.Sample instance at 0x114209638> EG EGq2 GENEtaC\n",
      "<drawingTools.Sample instance at 0x114209638> EG EGq2 GENEtaB\n",
      "<drawingTools.Sample instance at 0x114209638> EG EGq2 GENEtaD\n",
      "<drawingTools.Sample instance at 0x114209638> EG EGq2 GENEtaBC\n",
      "<drawingTools.Sample instance at 0x114209638> EG EGq2 GENPt30\n",
      "<drawingTools.Sample instance at 0x114209638> EG EGq2 GENPt20\n",
      "<drawingTools.Sample instance at 0x114209638> EG EGq2 GENEtaBCD\n",
      "<drawingTools.Sample instance at 0x114209638> EG EGq2 GENPt10\n",
      "<drawingTools.Sample instance at 0x114209638> EG EGq2 nomatch\n",
      "<drawingTools.Sample instance at 0x114209638> EG EGq2 GEN\n",
      "<drawingTools.Sample instance at 0x114209638> EG EGq2Pt10 GENPt40\n",
      "<drawingTools.Sample instance at 0x114209638> EG EGq2Pt10 GENEtaC\n",
      "<drawingTools.Sample instance at 0x114209638> EG EGq2Pt10 GENEtaB\n",
      "<drawingTools.Sample instance at 0x114209638> EG EGq2Pt10 GENEtaD\n",
      "<drawingTools.Sample instance at 0x114209638> EG EGq2Pt10 GENEtaBC\n",
      "<drawingTools.Sample instance at 0x114209638> EG EGq2Pt10 GENPt30\n",
      "<drawingTools.Sample instance at 0x114209638> EG EGq2Pt10 GENPt20\n",
      "<drawingTools.Sample instance at 0x114209638> EG EGq2Pt10 GENEtaBCD\n",
      "<drawingTools.Sample instance at 0x114209638> EG EGq2Pt10 GENPt10\n",
      "<drawingTools.Sample instance at 0x114209638> EG EGq2Pt10 nomatch\n",
      "<drawingTools.Sample instance at 0x114209638> EG EGq2Pt10 GEN\n",
      "<drawingTools.Sample instance at 0x114209638> EG EGq3Pt20 GENPt40\n",
      "<drawingTools.Sample instance at 0x114209638> EG EGq3Pt20 GENEtaC\n",
      "<drawingTools.Sample instance at 0x114209638> EG EGq3Pt20 GENEtaB\n",
      "<drawingTools.Sample instance at 0x114209638> EG EGq3Pt20 GENEtaD\n",
      "<drawingTools.Sample instance at 0x114209638> EG EGq3Pt20 GENEtaBC\n",
      "<drawingTools.Sample instance at 0x114209638> EG EGq3Pt20 GENPt30\n",
      "<drawingTools.Sample instance at 0x114209638> EG EGq3Pt20 GENPt20\n",
      "<drawingTools.Sample instance at 0x114209638> EG EGq3Pt20 GENEtaBCD\n",
      "<drawingTools.Sample instance at 0x114209638> EG EGq3Pt20 GENPt10\n",
      "<drawingTools.Sample instance at 0x114209638> EG EGq3Pt20 nomatch\n",
      "<drawingTools.Sample instance at 0x114209638> EG EGq3Pt20 GEN\n",
      "<drawingTools.Sample instance at 0x114209638> EG EGq2Pt30 GENPt40\n",
      "<drawingTools.Sample instance at 0x114209638> EG EGq2Pt30 GENEtaC\n",
      "<drawingTools.Sample instance at 0x114209638> EG EGq2Pt30 GENEtaB\n",
      "<drawingTools.Sample instance at 0x114209638> EG EGq2Pt30 GENEtaD\n",
      "<drawingTools.Sample instance at 0x114209638> EG EGq2Pt30 GENEtaBC\n",
      "<drawingTools.Sample instance at 0x114209638> EG EGq2Pt30 GENPt30\n",
      "<drawingTools.Sample instance at 0x114209638> EG EGq2Pt30 GENPt20\n",
      "<drawingTools.Sample instance at 0x114209638> EG EGq2Pt30 GENEtaBCD\n",
      "<drawingTools.Sample instance at 0x114209638> EG EGq2Pt30 GENPt10\n",
      "<drawingTools.Sample instance at 0x114209638> EG EGq2Pt30 nomatch\n",
      "<drawingTools.Sample instance at 0x114209638> EG EGq2Pt30 GEN\n",
      "<drawingTools.Sample instance at 0x114209638> EG EGq3Pt30 GENPt40\n",
      "<drawingTools.Sample instance at 0x114209638> EG EGq3Pt30 GENEtaC\n",
      "<drawingTools.Sample instance at 0x114209638> EG EGq3Pt30 GENEtaB\n",
      "<drawingTools.Sample instance at 0x114209638> EG EGq3Pt30 GENEtaD\n",
      "<drawingTools.Sample instance at 0x114209638> EG EGq3Pt30 GENEtaBC\n",
      "<drawingTools.Sample instance at 0x114209638> EG EGq3Pt30 GENPt30\n",
      "<drawingTools.Sample instance at 0x114209638> EG EGq3Pt30 GENPt20\n",
      "<drawingTools.Sample instance at 0x114209638> EG EGq3Pt30 GENEtaBCD\n",
      "<drawingTools.Sample instance at 0x114209638> EG EGq3Pt30 GENPt10\n"
     ]
    },
    {
     "name": "stdout",
     "output_type": "stream",
     "text": [
      "<drawingTools.Sample instance at 0x114209638> EG EGq3Pt30 nomatch\n",
      "<drawingTools.Sample instance at 0x114209638> EG EGq3Pt30 GEN\n",
      "<drawingTools.Sample instance at 0x114209638> EG EGq2Pt20 GENPt40\n",
      "<drawingTools.Sample instance at 0x114209638> EG EGq2Pt20 GENEtaC\n",
      "<drawingTools.Sample instance at 0x114209638> EG EGq2Pt20 GENEtaB\n",
      "<drawingTools.Sample instance at 0x114209638> EG EGq2Pt20 GENEtaD\n",
      "<drawingTools.Sample instance at 0x114209638> EG EGq2Pt20 GENEtaBC\n",
      "<drawingTools.Sample instance at 0x114209638> EG EGq2Pt20 GENPt30\n",
      "<drawingTools.Sample instance at 0x114209638> EG EGq2Pt20 GENPt20\n",
      "<drawingTools.Sample instance at 0x114209638> EG EGq2Pt20 GENEtaBCD\n",
      "<drawingTools.Sample instance at 0x114209638> EG EGq2Pt20 GENPt10\n",
      "<drawingTools.Sample instance at 0x114209638> EG EGq2Pt20 nomatch\n",
      "<drawingTools.Sample instance at 0x114209638> EG EGq2Pt20 GEN\n",
      "<drawingTools.Sample instance at 0x114200c20>\n",
      "<drawingTools.Sample instance at 0x114200c20> EG EGq3Pt10 GENPt40\n",
      "<drawingTools.Sample instance at 0x114200c20> EG EGq3Pt10 GENEtaC\n",
      "<drawingTools.Sample instance at 0x114200c20> EG EGq3Pt10 GENEtaB\n",
      "<drawingTools.Sample instance at 0x114200c20> EG EGq3Pt10 GENEtaD\n",
      "<drawingTools.Sample instance at 0x114200c20> EG EGq3Pt10 GENEtaBC\n",
      "<drawingTools.Sample instance at 0x114200c20> EG EGq3Pt10 GENPt30\n",
      "<drawingTools.Sample instance at 0x114200c20> EG EGq3Pt10 GENPt20\n",
      "<drawingTools.Sample instance at 0x114200c20> EG EGq3Pt10 GENEtaBCD\n",
      "<drawingTools.Sample instance at 0x114200c20> EG EGq3Pt10 GENPt10\n",
      "<drawingTools.Sample instance at 0x114200c20> EG EGq3Pt10 nomatch\n",
      "<drawingTools.Sample instance at 0x114200c20> EG EGq3Pt10 GEN\n",
      "<drawingTools.Sample instance at 0x114200c20> EG EGq3 GENPt40\n",
      "<drawingTools.Sample instance at 0x114200c20> EG EGq3 GENEtaC\n",
      "<drawingTools.Sample instance at 0x114200c20> EG EGq3 GENEtaB\n",
      "<drawingTools.Sample instance at 0x114200c20> EG EGq3 GENEtaD\n",
      "<drawingTools.Sample instance at 0x114200c20> EG EGq3 GENEtaBC\n",
      "<drawingTools.Sample instance at 0x114200c20> EG EGq3 GENPt30\n",
      "<drawingTools.Sample instance at 0x114200c20> EG EGq3 GENPt20\n",
      "<drawingTools.Sample instance at 0x114200c20> EG EGq3 GENEtaBCD\n",
      "<drawingTools.Sample instance at 0x114200c20> EG EGq3 GENPt10\n",
      "<drawingTools.Sample instance at 0x114200c20> EG EGq3 nomatch\n",
      "<drawingTools.Sample instance at 0x114200c20> EG EGq3 GEN\n",
      "<drawingTools.Sample instance at 0x114200c20> EG EGq2 GENPt40\n",
      "<drawingTools.Sample instance at 0x114200c20> EG EGq2 GENEtaC\n",
      "<drawingTools.Sample instance at 0x114200c20> EG EGq2 GENEtaB\n",
      "<drawingTools.Sample instance at 0x114200c20> EG EGq2 GENEtaD\n",
      "<drawingTools.Sample instance at 0x114200c20> EG EGq2 GENEtaBC\n",
      "<drawingTools.Sample instance at 0x114200c20> EG EGq2 GENPt30\n",
      "<drawingTools.Sample instance at 0x114200c20> EG EGq2 GENPt20\n",
      "<drawingTools.Sample instance at 0x114200c20> EG EGq2 GENEtaBCD\n",
      "<drawingTools.Sample instance at 0x114200c20> EG EGq2 GENPt10\n",
      "<drawingTools.Sample instance at 0x114200c20> EG EGq2 nomatch\n",
      "<drawingTools.Sample instance at 0x114200c20> EG EGq2 GEN\n",
      "<drawingTools.Sample instance at 0x114200c20> EG EGq2Pt10 GENPt40\n",
      "<drawingTools.Sample instance at 0x114200c20> EG EGq2Pt10 GENEtaC\n",
      "<drawingTools.Sample instance at 0x114200c20> EG EGq2Pt10 GENEtaB\n",
      "<drawingTools.Sample instance at 0x114200c20> EG EGq2Pt10 GENEtaD\n",
      "<drawingTools.Sample instance at 0x114200c20> EG EGq2Pt10 GENEtaBC\n",
      "<drawingTools.Sample instance at 0x114200c20> EG EGq2Pt10 GENPt30\n",
      "<drawingTools.Sample instance at 0x114200c20> EG EGq2Pt10 GENPt20\n",
      "<drawingTools.Sample instance at 0x114200c20> EG EGq2Pt10 GENEtaBCD\n",
      "<drawingTools.Sample instance at 0x114200c20> EG EGq2Pt10 GENPt10\n",
      "<drawingTools.Sample instance at 0x114200c20> EG EGq2Pt10 nomatch\n",
      "<drawingTools.Sample instance at 0x114200c20> EG EGq2Pt10 GEN\n",
      "<drawingTools.Sample instance at 0x114200c20> EG EGq3Pt20 GENPt40\n",
      "<drawingTools.Sample instance at 0x114200c20> EG EGq3Pt20 GENEtaC\n",
      "<drawingTools.Sample instance at 0x114200c20> EG EGq3Pt20 GENEtaB\n",
      "<drawingTools.Sample instance at 0x114200c20> EG EGq3Pt20 GENEtaD\n",
      "<drawingTools.Sample instance at 0x114200c20> EG EGq3Pt20 GENEtaBC\n",
      "<drawingTools.Sample instance at 0x114200c20> EG EGq3Pt20 GENPt30\n",
      "<drawingTools.Sample instance at 0x114200c20> EG EGq3Pt20 GENPt20\n",
      "<drawingTools.Sample instance at 0x114200c20> EG EGq3Pt20 GENEtaBCD\n",
      "<drawingTools.Sample instance at 0x114200c20> EG EGq3Pt20 GENPt10\n",
      "<drawingTools.Sample instance at 0x114200c20> EG EGq3Pt20 nomatch\n",
      "<drawingTools.Sample instance at 0x114200c20> EG EGq3Pt20 GEN\n",
      "<drawingTools.Sample instance at 0x114200c20> EG EGq2Pt30 GENPt40\n",
      "<drawingTools.Sample instance at 0x114200c20> EG EGq2Pt30 GENEtaC\n",
      "<drawingTools.Sample instance at 0x114200c20> EG EGq2Pt30 GENEtaB\n",
      "<drawingTools.Sample instance at 0x114200c20> EG EGq2Pt30 GENEtaD\n",
      "<drawingTools.Sample instance at 0x114200c20> EG EGq2Pt30 GENEtaBC\n",
      "<drawingTools.Sample instance at 0x114200c20> EG EGq2Pt30 GENPt30\n",
      "<drawingTools.Sample instance at 0x114200c20> EG EGq2Pt30 GENPt20\n",
      "<drawingTools.Sample instance at 0x114200c20> EG EGq2Pt30 GENEtaBCD\n",
      "<drawingTools.Sample instance at 0x114200c20> EG EGq2Pt30 GENPt10\n",
      "<drawingTools.Sample instance at 0x114200c20> EG EGq2Pt30 nomatch\n",
      "<drawingTools.Sample instance at 0x114200c20> EG EGq2Pt30 GEN\n",
      "<drawingTools.Sample instance at 0x114200c20> EG EGq3Pt30 GENPt40\n",
      "<drawingTools.Sample instance at 0x114200c20> EG EGq3Pt30 GENEtaC\n",
      "<drawingTools.Sample instance at 0x114200c20> EG EGq3Pt30 GENEtaB\n",
      "<drawingTools.Sample instance at 0x114200c20> EG EGq3Pt30 GENEtaD\n",
      "<drawingTools.Sample instance at 0x114200c20> EG EGq3Pt30 GENEtaBC\n",
      "<drawingTools.Sample instance at 0x114200c20> EG EGq3Pt30 GENPt30\n",
      "<drawingTools.Sample instance at 0x114200c20> EG EGq3Pt30 GENPt20\n",
      "<drawingTools.Sample instance at 0x114200c20> EG EGq3Pt30 GENEtaBCD\n",
      "<drawingTools.Sample instance at 0x114200c20> EG EGq3Pt30 GENPt10\n",
      "<drawingTools.Sample instance at 0x114200c20> EG EGq3Pt30 nomatch\n",
      "<drawingTools.Sample instance at 0x114200c20> EG EGq3Pt30 GEN\n",
      "<drawingTools.Sample instance at 0x114200c20> EG EGq2Pt20 GENPt40\n",
      "<drawingTools.Sample instance at 0x114200c20> EG EGq2Pt20 GENEtaC\n",
      "<drawingTools.Sample instance at 0x114200c20> EG EGq2Pt20 GENEtaB\n",
      "<drawingTools.Sample instance at 0x114200c20> EG EGq2Pt20 GENEtaD\n",
      "<drawingTools.Sample instance at 0x114200c20> EG EGq2Pt20 GENEtaBC\n",
      "<drawingTools.Sample instance at 0x114200c20> EG EGq2Pt20 GENPt30\n",
      "<drawingTools.Sample instance at 0x114200c20> EG EGq2Pt20 GENPt20\n",
      "<drawingTools.Sample instance at 0x114200c20> EG EGq2Pt20 GENEtaBCD\n",
      "<drawingTools.Sample instance at 0x114200c20> EG EGq2Pt20 GENPt10\n",
      "<drawingTools.Sample instance at 0x114200c20> EG EGq2Pt20 nomatch\n",
      "<drawingTools.Sample instance at 0x114200c20> EG EGq2Pt20 GEN\n",
      "<drawingTools.Sample instance at 0x114209680>\n",
      "<drawingTools.Sample instance at 0x114209680> EG EGq3Pt10 GENPt40\n",
      "<drawingTools.Sample instance at 0x114209680> EG EGq3Pt10 GENEtaC\n",
      "<drawingTools.Sample instance at 0x114209680> EG EGq3Pt10 GENEtaB\n",
      "<drawingTools.Sample instance at 0x114209680> EG EGq3Pt10 GENEtaD\n",
      "<drawingTools.Sample instance at 0x114209680> EG EGq3Pt10 GENEtaBC\n",
      "<drawingTools.Sample instance at 0x114209680> EG EGq3Pt10 GENPt30\n",
      "<drawingTools.Sample instance at 0x114209680> EG EGq3Pt10 GENPt20\n",
      "<drawingTools.Sample instance at 0x114209680> EG EGq3Pt10 GENEtaBCD\n",
      "<drawingTools.Sample instance at 0x114209680> EG EGq3Pt10 GENPt10\n",
      "<drawingTools.Sample instance at 0x114209680> EG EGq3Pt10 nomatch\n",
      "<drawingTools.Sample instance at 0x114209680> EG EGq3Pt10 GEN\n",
      "<drawingTools.Sample instance at 0x114209680> EG EGq3 GENPt40\n",
      "<drawingTools.Sample instance at 0x114209680> EG EGq3 GENEtaC\n",
      "<drawingTools.Sample instance at 0x114209680> EG EGq3 GENEtaB\n",
      "<drawingTools.Sample instance at 0x114209680> EG EGq3 GENEtaD\n",
      "<drawingTools.Sample instance at 0x114209680> EG EGq3 GENEtaBC\n",
      "<drawingTools.Sample instance at 0x114209680> EG EGq3 GENPt30\n",
      "<drawingTools.Sample instance at 0x114209680> EG EGq3 GENPt20\n",
      "<drawingTools.Sample instance at 0x114209680> EG EGq3 GENEtaBCD\n",
      "<drawingTools.Sample instance at 0x114209680> EG EGq3 GENPt10\n",
      "<drawingTools.Sample instance at 0x114209680> EG EGq3 nomatch\n",
      "<drawingTools.Sample instance at 0x114209680> EG EGq3 GEN\n",
      "<drawingTools.Sample instance at 0x114209680> EG EGq2 GENPt40\n",
      "<drawingTools.Sample instance at 0x114209680> EG EGq2 GENEtaC\n",
      "<drawingTools.Sample instance at 0x114209680> EG EGq2 GENEtaB\n",
      "<drawingTools.Sample instance at 0x114209680> EG EGq2 GENEtaD\n",
      "<drawingTools.Sample instance at 0x114209680> EG EGq2 GENEtaBC\n"
     ]
    },
    {
     "name": "stdout",
     "output_type": "stream",
     "text": [
      "<drawingTools.Sample instance at 0x114209680> EG EGq2 GENPt30\n",
      "<drawingTools.Sample instance at 0x114209680> EG EGq2 GENPt20\n",
      "<drawingTools.Sample instance at 0x114209680> EG EGq2 GENEtaBCD\n",
      "<drawingTools.Sample instance at 0x114209680> EG EGq2 GENPt10\n",
      "<drawingTools.Sample instance at 0x114209680> EG EGq2 nomatch\n",
      "<drawingTools.Sample instance at 0x114209680> EG EGq2 GEN\n",
      "<drawingTools.Sample instance at 0x114209680> EG EGq2Pt10 GENPt40\n",
      "<drawingTools.Sample instance at 0x114209680> EG EGq2Pt10 GENEtaC\n",
      "<drawingTools.Sample instance at 0x114209680> EG EGq2Pt10 GENEtaB\n",
      "<drawingTools.Sample instance at 0x114209680> EG EGq2Pt10 GENEtaD\n",
      "<drawingTools.Sample instance at 0x114209680> EG EGq2Pt10 GENEtaBC\n",
      "<drawingTools.Sample instance at 0x114209680> EG EGq2Pt10 GENPt30\n",
      "<drawingTools.Sample instance at 0x114209680> EG EGq2Pt10 GENPt20\n",
      "<drawingTools.Sample instance at 0x114209680> EG EGq2Pt10 GENEtaBCD\n",
      "<drawingTools.Sample instance at 0x114209680> EG EGq2Pt10 GENPt10\n",
      "<drawingTools.Sample instance at 0x114209680> EG EGq2Pt10 nomatch\n",
      "<drawingTools.Sample instance at 0x114209680> EG EGq2Pt10 GEN\n",
      "<drawingTools.Sample instance at 0x114209680> EG EGq3Pt20 GENPt40\n",
      "<drawingTools.Sample instance at 0x114209680> EG EGq3Pt20 GENEtaC\n",
      "<drawingTools.Sample instance at 0x114209680> EG EGq3Pt20 GENEtaB\n",
      "<drawingTools.Sample instance at 0x114209680> EG EGq3Pt20 GENEtaD\n",
      "<drawingTools.Sample instance at 0x114209680> EG EGq3Pt20 GENEtaBC\n",
      "<drawingTools.Sample instance at 0x114209680> EG EGq3Pt20 GENPt30\n",
      "<drawingTools.Sample instance at 0x114209680> EG EGq3Pt20 GENPt20\n",
      "<drawingTools.Sample instance at 0x114209680> EG EGq3Pt20 GENEtaBCD\n",
      "<drawingTools.Sample instance at 0x114209680> EG EGq3Pt20 GENPt10\n",
      "<drawingTools.Sample instance at 0x114209680> EG EGq3Pt20 nomatch\n",
      "<drawingTools.Sample instance at 0x114209680> EG EGq3Pt20 GEN\n",
      "<drawingTools.Sample instance at 0x114209680> EG EGq2Pt30 GENPt40\n",
      "<drawingTools.Sample instance at 0x114209680> EG EGq2Pt30 GENEtaC\n",
      "<drawingTools.Sample instance at 0x114209680> EG EGq2Pt30 GENEtaB\n",
      "<drawingTools.Sample instance at 0x114209680> EG EGq2Pt30 GENEtaD\n",
      "<drawingTools.Sample instance at 0x114209680> EG EGq2Pt30 GENEtaBC\n",
      "<drawingTools.Sample instance at 0x114209680> EG EGq2Pt30 GENPt30\n",
      "<drawingTools.Sample instance at 0x114209680> EG EGq2Pt30 GENPt20\n",
      "<drawingTools.Sample instance at 0x114209680> EG EGq2Pt30 GENEtaBCD\n",
      "<drawingTools.Sample instance at 0x114209680> EG EGq2Pt30 GENPt10\n",
      "<drawingTools.Sample instance at 0x114209680> EG EGq2Pt30 nomatch\n",
      "<drawingTools.Sample instance at 0x114209680> EG EGq2Pt30 GEN\n",
      "<drawingTools.Sample instance at 0x114209680> EG EGq3Pt30 GENPt40\n",
      "<drawingTools.Sample instance at 0x114209680> EG EGq3Pt30 GENEtaC\n",
      "<drawingTools.Sample instance at 0x114209680> EG EGq3Pt30 GENEtaB\n",
      "<drawingTools.Sample instance at 0x114209680> EG EGq3Pt30 GENEtaD\n",
      "<drawingTools.Sample instance at 0x114209680> EG EGq3Pt30 GENEtaBC\n",
      "<drawingTools.Sample instance at 0x114209680> EG EGq3Pt30 GENPt30\n",
      "<drawingTools.Sample instance at 0x114209680> EG EGq3Pt30 GENPt20\n",
      "<drawingTools.Sample instance at 0x114209680> EG EGq3Pt30 GENEtaBCD\n",
      "<drawingTools.Sample instance at 0x114209680> EG EGq3Pt30 GENPt10\n",
      "<drawingTools.Sample instance at 0x114209680> EG EGq3Pt30 nomatch\n",
      "<drawingTools.Sample instance at 0x114209680> EG EGq3Pt30 GEN\n",
      "<drawingTools.Sample instance at 0x114209680> EG EGq2Pt20 GENPt40\n",
      "<drawingTools.Sample instance at 0x114209680> EG EGq2Pt20 GENEtaC\n",
      "<drawingTools.Sample instance at 0x114209680> EG EGq2Pt20 GENEtaB\n",
      "<drawingTools.Sample instance at 0x114209680> EG EGq2Pt20 GENEtaD\n",
      "<drawingTools.Sample instance at 0x114209680> EG EGq2Pt20 GENEtaBC\n",
      "<drawingTools.Sample instance at 0x114209680> EG EGq2Pt20 GENPt30\n",
      "<drawingTools.Sample instance at 0x114209680> EG EGq2Pt20 GENPt20\n",
      "<drawingTools.Sample instance at 0x114209680> EG EGq2Pt20 GENEtaBCD\n",
      "<drawingTools.Sample instance at 0x114209680> EG EGq2Pt20 GENPt10\n",
      "<drawingTools.Sample instance at 0x114209680> EG EGq2Pt20 nomatch\n",
      "<drawingTools.Sample instance at 0x114209680> EG EGq2Pt20 GEN\n",
      "['__doc__', '__init__', '__module__', 'histo_file', 'histo_filename', 'label', 'name', 'type']\n",
      "../plots1/histos_all_flat5to80_PU0_v75t.root\n",
      "CPU times: user 1.69 s, sys: 311 ms, total: 2 s\n",
      "Wall time: 1.98 s\n"
     ]
    }
   ],
   "source": [
    "%%time\n",
    "\n",
    "\n",
    "hplot = HPlot(samples, tpsets, tpset_selections, gen_selections)\n",
    "\n",
    "\n",
    "hplot.cache_histo(classtype=histos.EGResoHistos, \n",
    "                  samples=samples,\n",
    "                  pus=[],\n",
    "                  tps=tpsets,\n",
    "                  tp_sels=tpset_selections,\n",
    "                  gen_sels=gen_selections)\n",
    "\n",
    "\n",
    "print dir(samples[0])\n",
    "print samples[0].histo_filename\n",
    "# for sample in samples:\n",
    "#     print sample\n",
    "#     for tp in tpsets:\n",
    "#         for tp_sel in tpset_selections:\n",
    "#             for gen_sel in gen_selections:\n",
    "#                 print sample, tp, tp_sel, gen_sel\n",
    "#                 hplot.data = hplot.data.append({'sample': 'ele',\n",
    "#                                                 'pu': sample.label,\n",
    "#                                                 'tp': tp,\n",
    "#                                                 'tp_sel': tp_sel,\n",
    "#                                                 'gen_sel': gen_sel,\n",
    "#                                                 'classtype': histos.HistoSetReso,\n",
    "#                                                 'histo': histos.HistoSetReso('{}_{}_{}'.format(tp, tp_sel, gen_sel), sample.histo_file)}\n",
    "#                                               , ignore_index=True)\n"
   ]
  },
  {
   "cell_type": "code",
   "execution_count": 16,
   "metadata": {},
   "outputs": [
    {
     "data": {
      "text/html": [
       "<div>\n",
       "<style scoped>\n",
       "    .dataframe tbody tr th:only-of-type {\n",
       "        vertical-align: middle;\n",
       "    }\n",
       "\n",
       "    .dataframe tbody tr th {\n",
       "        vertical-align: top;\n",
       "    }\n",
       "\n",
       "    .dataframe thead th {\n",
       "        text-align: right;\n",
       "    }\n",
       "</style>\n",
       "<table border=\"1\" class=\"dataframe\">\n",
       "  <thead>\n",
       "    <tr style=\"text-align: right;\">\n",
       "      <th></th>\n",
       "      <th>sample</th>\n",
       "      <th>pu</th>\n",
       "      <th>tp</th>\n",
       "      <th>tp_sel</th>\n",
       "      <th>gen_sel</th>\n",
       "      <th>classtype</th>\n",
       "      <th>histo</th>\n",
       "    </tr>\n",
       "  </thead>\n",
       "  <tbody>\n",
       "    <tr>\n",
       "      <th>0</th>\n",
       "      <td>V9</td>\n",
       "      <td>PU0</td>\n",
       "      <td>EG</td>\n",
       "      <td>EGq3Pt10</td>\n",
       "      <td>GENPt40</td>\n",
       "      <td>python.l1THistos.EGResoHistos</td>\n",
       "      <td>&lt;drawingTools.HProxy instance at 0x103160200&gt;</td>\n",
       "    </tr>\n",
       "    <tr>\n",
       "      <th>1</th>\n",
       "      <td>V9</td>\n",
       "      <td>PU0</td>\n",
       "      <td>EG</td>\n",
       "      <td>EGq3Pt10</td>\n",
       "      <td>GENEtaC</td>\n",
       "      <td>python.l1THistos.EGResoHistos</td>\n",
       "      <td>&lt;drawingTools.HProxy instance at 0x114209d40&gt;</td>\n",
       "    </tr>\n",
       "    <tr>\n",
       "      <th>2</th>\n",
       "      <td>V9</td>\n",
       "      <td>PU0</td>\n",
       "      <td>EG</td>\n",
       "      <td>EGq3Pt10</td>\n",
       "      <td>GENEtaB</td>\n",
       "      <td>python.l1THistos.EGResoHistos</td>\n",
       "      <td>&lt;drawingTools.HProxy instance at 0x1145bce60&gt;</td>\n",
       "    </tr>\n",
       "    <tr>\n",
       "      <th>3</th>\n",
       "      <td>V9</td>\n",
       "      <td>PU0</td>\n",
       "      <td>EG</td>\n",
       "      <td>EGq3Pt10</td>\n",
       "      <td>GENEtaD</td>\n",
       "      <td>python.l1THistos.EGResoHistos</td>\n",
       "      <td>&lt;drawingTools.HProxy instance at 0x11445df38&gt;</td>\n",
       "    </tr>\n",
       "    <tr>\n",
       "      <th>4</th>\n",
       "      <td>V9</td>\n",
       "      <td>PU0</td>\n",
       "      <td>EG</td>\n",
       "      <td>EGq3Pt10</td>\n",
       "      <td>GENEtaBC</td>\n",
       "      <td>python.l1THistos.EGResoHistos</td>\n",
       "      <td>&lt;drawingTools.HProxy instance at 0x1144415f0&gt;</td>\n",
       "    </tr>\n",
       "    <tr>\n",
       "      <th>5</th>\n",
       "      <td>V9</td>\n",
       "      <td>PU0</td>\n",
       "      <td>EG</td>\n",
       "      <td>EGq3Pt10</td>\n",
       "      <td>GENPt30</td>\n",
       "      <td>python.l1THistos.EGResoHistos</td>\n",
       "      <td>&lt;drawingTools.HProxy instance at 0x1144411b8&gt;</td>\n",
       "    </tr>\n",
       "    <tr>\n",
       "      <th>6</th>\n",
       "      <td>V9</td>\n",
       "      <td>PU0</td>\n",
       "      <td>EG</td>\n",
       "      <td>EGq3Pt10</td>\n",
       "      <td>GENPt20</td>\n",
       "      <td>python.l1THistos.EGResoHistos</td>\n",
       "      <td>&lt;drawingTools.HProxy instance at 0x1145cc128&gt;</td>\n",
       "    </tr>\n",
       "    <tr>\n",
       "      <th>7</th>\n",
       "      <td>V9</td>\n",
       "      <td>PU0</td>\n",
       "      <td>EG</td>\n",
       "      <td>EGq3Pt10</td>\n",
       "      <td>GENEtaBCD</td>\n",
       "      <td>python.l1THistos.EGResoHistos</td>\n",
       "      <td>&lt;drawingTools.HProxy instance at 0x114209cb0&gt;</td>\n",
       "    </tr>\n",
       "    <tr>\n",
       "      <th>8</th>\n",
       "      <td>V9</td>\n",
       "      <td>PU0</td>\n",
       "      <td>EG</td>\n",
       "      <td>EGq3Pt10</td>\n",
       "      <td>GENPt10</td>\n",
       "      <td>python.l1THistos.EGResoHistos</td>\n",
       "      <td>&lt;drawingTools.HProxy instance at 0x11445d518&gt;</td>\n",
       "    </tr>\n",
       "    <tr>\n",
       "      <th>9</th>\n",
       "      <td>V9</td>\n",
       "      <td>PU0</td>\n",
       "      <td>EG</td>\n",
       "      <td>EGq3Pt10</td>\n",
       "      <td>nomatch</td>\n",
       "      <td>python.l1THistos.EGResoHistos</td>\n",
       "      <td>&lt;drawingTools.HProxy instance at 0x114441bd8&gt;</td>\n",
       "    </tr>\n",
       "  </tbody>\n",
       "</table>\n",
       "</div>"
      ],
      "text/plain": [
       "  sample   pu  tp    tp_sel    gen_sel                      classtype  \\\n",
       "0     V9  PU0  EG  EGq3Pt10    GENPt40  python.l1THistos.EGResoHistos   \n",
       "1     V9  PU0  EG  EGq3Pt10    GENEtaC  python.l1THistos.EGResoHistos   \n",
       "2     V9  PU0  EG  EGq3Pt10    GENEtaB  python.l1THistos.EGResoHistos   \n",
       "3     V9  PU0  EG  EGq3Pt10    GENEtaD  python.l1THistos.EGResoHistos   \n",
       "4     V9  PU0  EG  EGq3Pt10   GENEtaBC  python.l1THistos.EGResoHistos   \n",
       "5     V9  PU0  EG  EGq3Pt10    GENPt30  python.l1THistos.EGResoHistos   \n",
       "6     V9  PU0  EG  EGq3Pt10    GENPt20  python.l1THistos.EGResoHistos   \n",
       "7     V9  PU0  EG  EGq3Pt10  GENEtaBCD  python.l1THistos.EGResoHistos   \n",
       "8     V9  PU0  EG  EGq3Pt10    GENPt10  python.l1THistos.EGResoHistos   \n",
       "9     V9  PU0  EG  EGq3Pt10    nomatch  python.l1THistos.EGResoHistos   \n",
       "\n",
       "                                           histo  \n",
       "0  <drawingTools.HProxy instance at 0x103160200>  \n",
       "1  <drawingTools.HProxy instance at 0x114209d40>  \n",
       "2  <drawingTools.HProxy instance at 0x1145bce60>  \n",
       "3  <drawingTools.HProxy instance at 0x11445df38>  \n",
       "4  <drawingTools.HProxy instance at 0x1144415f0>  \n",
       "5  <drawingTools.HProxy instance at 0x1144411b8>  \n",
       "6  <drawingTools.HProxy instance at 0x1145cc128>  \n",
       "7  <drawingTools.HProxy instance at 0x114209cb0>  \n",
       "8  <drawingTools.HProxy instance at 0x11445d518>  \n",
       "9  <drawingTools.HProxy instance at 0x114441bd8>  "
      ]
     },
     "execution_count": 16,
     "metadata": {},
     "output_type": "execute_result"
    }
   ],
   "source": [
    "hplot.data[:10]"
   ]
  },
  {
   "cell_type": "code",
   "execution_count": 13,
   "metadata": {},
   "outputs": [
    {
     "data": {
      "text/plain": [
       "{'EG': 'EG',\n",
       " 'EGq2': 'q2',\n",
       " 'EGq2Pt10': 'q2, p_{T}^{L1}>=10GeV',\n",
       " 'EGq2Pt20': 'q2, p_{T}^{L1}>=20GeV',\n",
       " 'EGq2Pt30': 'q2, p_{T}^{L1}>=30GeV',\n",
       " 'EGq3': 'q3',\n",
       " 'EGq3Pt10': 'q3, p_{T}^{L1}>=10GeV',\n",
       " 'EGq3Pt20': 'q3, p_{T}^{L1}>=20GeV',\n",
       " 'EGq3Pt30': 'q3, p_{T}^{L1}>=30GeV',\n",
       " 'GEN': '',\n",
       " 'GENEtaB': '1.52 < |#eta^{GEN}| <= 1.7',\n",
       " 'GENEtaBC': '1.52 < |#eta^{GEN}| <= 2.4',\n",
       " 'GENEtaBCD': '1.52 < |#eta^{GEN}| <= 2.8',\n",
       " 'GENEtaC': '1.7 < |#eta^{GEN}| <= 2.4',\n",
       " 'GENEtaD': '2.4 < |#eta^{GEN}| <= 2.8',\n",
       " 'GENPt10': 'p_{T}^{GEN}>=10GeV',\n",
       " 'GENPt20': 'p_{T}^{GEN}>=20GeV',\n",
       " 'GENPt30': 'p_{T}^{GEN}>=30GeV',\n",
       " 'GENPt40': 'p_{T}^{GEN}>=40GeV',\n",
       " 'PU0': 'PU0',\n",
       " 'PU200': 'PU200',\n",
       " 'ele': 'ele',\n",
       " 'nomatch': ''}"
      ]
     },
     "execution_count": 13,
     "metadata": {},
     "output_type": "execute_result"
    }
   ],
   "source": [
    "hplot.labels_dict"
   ]
  },
  {
   "cell_type": "code",
   "execution_count": 14,
   "metadata": {},
   "outputs": [
    {
     "name": "stdout",
     "output_type": "stream",
     "text": [
      "   sample   pu  tp tp_sel gen_sel                      classtype  \\\n",
      "32    ele  PU0  EG   EGq2     GEN  python.l1THistos.EGResoHistos   \n",
      "\n",
      "                                        histo  \n",
      "32  <__main__.HProxy instance at 0x121664f38>  \n",
      "[<EGResoHistos EG_EGq2_GEN>]\n",
      "['']\n",
      "PU0, EG, q2\n",
      "['GraphBuilder', '__doc__', '__init__', '__module__', '__repr__', 'fill', 'h_drRes', 'h_etaRes', 'h_phiRes', 'h_ptResVpt', 'h_ptResVpt_avg', 'h_ptResVpt_gmean', 'h_ptResVpt_mdn', 'h_ptResVpt_sigma', 'h_ptResp', 'h_ptRespVeta', 'h_ptRespVeta_avg', 'h_ptRespVeta_gmean', 'h_ptRespVeta_mdn', 'h_ptRespVeta_sigma', 'h_ptRespVpt', 'h_ptRespVpt_avg', 'h_ptRespVpt_gmean', 'h_ptRespVpt_mdn', 'h_ptRespVpt_sigma', 'name_', 'write']\n"
     ]
    }
   ],
   "source": [
    "hfd = hplot.get_histo(histos.EGResoHistos, 'ele', ['PU0'], ['EG'], 'EGq2', 'GEN', True)\n",
    "\n",
    "print hfd[0]\n",
    "print hfd[1]\n",
    "print hfd[2]\n",
    "print dir(hfd[0][0])\n",
    "\n",
    "# print hfd[0][0].h_ptRespVeta_mdn()"
   ]
  },
  {
   "cell_type": "code",
   "execution_count": null,
   "metadata": {},
   "outputs": [],
   "source": [
    "print hfd[2]\n"
   ]
  },
  {
   "cell_type": "markdown",
   "metadata": {},
   "source": [
    "#### Matching to the highes pT cluster in DR 0.2 from GEN"
   ]
  },
  {
   "cell_type": "code",
   "execution_count": null,
   "metadata": {},
   "outputs": [],
   "source": [
    "# ROOT.gStyle.SetPadTopMargin(0.05)\n",
    "# ROOT.gStyle.SetPadTopMargin(0.13)\n",
    "ROOT.gStyle.SetPadBottomMargin(0.13)\n",
    "ROOT.gStyle.SetPadLeftMargin(0.13)\n",
    "ROOT.gStyle.SetPadRightMargin(0.30)\n",
    "\n",
    "ROOT.gStyle.SetCanvasBorderMode(0)\n",
    "ROOT.gStyle.SetCanvasColor(0)\n",
    "ROOT.gStyle.SetCanvasDefH(600)\n",
    "ROOT.gStyle.SetCanvasDefW(800)\n"
   ]
  },
  {
   "cell_type": "markdown",
   "metadata": {},
   "source": [
    "## Angular resolution"
   ]
  },
  {
   "cell_type": "code",
   "execution_count": null,
   "metadata": {
    "scrolled": false
   },
   "outputs": [],
   "source": [
    "\n",
    "for tp in tps:\n",
    "    for tp_sel in tp_select:\n",
    "        for gen_sel in gen_select:\n",
    "            hsets, labels, text = hplot.get_histo(histos.EGResoHistos, ['ele'], ['PU0', 'PU200'], tp, tp_sel, gen_sel, True)            \n",
    "            draw([his.h_phiRes for his in hsets], labels, norm=True, text=text)\n"
   ]
  },
  {
   "cell_type": "code",
   "execution_count": null,
   "metadata": {
    "scrolled": true
   },
   "outputs": [],
   "source": [
    "\n",
    "for tp in tps:\n",
    "    for tp_sel in tp_select:\n",
    "        for gen_sel in gen_select:\n",
    "            hsets, labels, text = hplot.get_histo(histos.EGResoHistos, ['ele'], ['PU0', 'PU200'], tp, tp_sel, gen_sel)            \n",
    "            draw([his.h_etaRes for his in hsets], labels, norm=True, text=text)\n"
   ]
  },
  {
   "cell_type": "code",
   "execution_count": null,
   "metadata": {
    "scrolled": true
   },
   "outputs": [],
   "source": [
    "for tp in tps:\n",
    "    for tp_sel in tp_select:\n",
    "        for gen_sel in gen_select:\n",
    "            hsets, labels, text = hplot.get_histo(histos.EGResoHistos, ['ele'], ['PU0', 'PU200'], tp, tp_sel, gen_sel)            \n",
    "            draw([his.h_drRes for his in hsets], labels, norm=True, text=text)\n"
   ]
  },
  {
   "cell_type": "markdown",
   "metadata": {},
   "source": [
    "## $p_{T}$ response"
   ]
  },
  {
   "cell_type": "code",
   "execution_count": 17,
   "metadata": {
    "scrolled": false
   },
   "outputs": [
    {
     "data": {
      "text/html": [
       "\n",
       "<div id=\"root_plot_5\"\n",
       "     style=\"width: 796px; height: 572px\">\n",
       "</div>\n",
       "\n",
       "<script>\n",
       " requirejs.config({\n",
       "     paths: {\n",
       "       'JSRootCore' : 'https://root.cern.ch/js/notebook//scripts/JSRootCore',\n",
       "     }\n",
       "   });\n",
       " require(['JSRootCore'],\n",
       "     function(Core) {\n",
       "       var obj = Core.JSONR_unref({\"_typename\":\"TCanvas\",\"fUniqueID\":0,\"fBits\":53673992,\"fLineColor\":1,\"fLineStyle\":1,\"fLineWidth\":1,\"fFillColor\":0,\"fFillStyle\":1001,\"fLeftMargin\":0.13,\"fRightMargin\":0.3,\"fBottomMargin\":0.13,\"fTopMargin\":0.1,\"fXfile\":2,\"fYfile\":2,\"fAfile\":1,\"fXstat\":0.99,\"fYstat\":0.99,\"fAstat\":2,\"fFrameFillColor\":0,\"fFrameLineColor\":1,\"fFrameFillStyle\":1001,\"fFrameLineStyle\":1,\"fFrameLineWidth\":1,\"fFrameBorderSize\":1,\"fFrameBorderMode\":0,\"fX1\":-0.684210509804807,\"fY1\":-0.0491252822103643,\"fX2\":4.57894745097596,\"fY2\":0.328761509437584,\"fXtoAbsPixelk\":103.480046204376,\"fXtoPixelk\":103.480046204376,\"fXtoPixel\":151.239998102188,\"fYtoAbsPixelk\":497.640051065433,\"fYtoPixelk\":497.640051065433,\"fYtoPixel\":-1513.68085003853,\"fUtoAbsPixelk\":5e-5,\"fUtoPixelk\":5e-5,\"fUtoPixel\":796,\"fVtoAbsPixelk\":572.00005,\"fVtoPixelk\":572,\"fVtoPixel\":-572,\"fAbsPixeltoXk\":-0.684210509804807,\"fPixeltoXk\":-0.684210509804807,\"fPixeltoX\":0.00661200748841805,\"fAbsPixeltoYk\":0.328761509437584,\"fPixeltoYk\":-0.0491252822103643,\"fPixeltoY\":-6.6064124413977e-4,\"fXlowNDC\":0,\"fYlowNDC\":0,\"fXUpNDC\":0,\"fYUpNDC\":0,\"fWNDC\":1,\"fHNDC\":1,\"fAbsXlowNDC\":0,\"fAbsYlowNDC\":0,\"fAbsWNDC\":1,\"fAbsHNDC\":1,\"fUxmin\":0,\"fUymin\":0,\"fUxmax\":3,\"fUymax\":0.290972828865051,\"fTheta\":30,\"fPhi\":30,\"fAspectRatio\":0,\"fNumber\":0,\"fTickx\":0,\"fTicky\":0,\"fLogx\":0,\"fLogy\":0,\"fLogz\":0,\"fPadPaint\":0,\"fCrosshair\":0,\"fCrosshairPos\":0,\"fBorderSize\":2,\"fBorderMode\":0,\"fModified\":false,\"fGridx\":false,\"fGridy\":false,\"fAbsCoord\":false,\"fEditable\":true,\"fFixedAspectRatio\":false,\"fPrimitives\":{\"_typename\":\"TList\",\"name\":\"TList\",\"arr\":[{\"_typename\":\"TFrame\",\"fUniqueID\":0,\"fBits\":50331656,\"fLineColor\":1,\"fLineStyle\":1,\"fLineWidth\":1,\"fFillColor\":0,\"fFillStyle\":1001,\"fX1\":0,\"fY1\":0,\"fX2\":3,\"fY2\":0.290972828865051,\"fBorderSize\":1,\"fBorderMode\":0},{\"_typename\":\"TH1F\",\"fUniqueID\":0,\"fBits\":50332169,\"fName\":\"EG_EGq2_GENEtaBC_ptResp\",\"fTitle\":\"EG Pt resp.\",\"fLineColor\":1,\"fLineStyle\":1,\"fLineWidth\":1,\"fFillColor\":0,\"fFillStyle\":1001,\"fMarkerColor\":1,\"fMarkerStyle\":1,\"fMarkerSize\":1,\"fNcells\":102,\"fXaxis\":{\"_typename\":\"TAxis\",\"fUniqueID\":0,\"fBits\":50331648,\"fName\":\"xaxis\",\"fTitle\":\" p_{T}^{L1}\\/p_{T}^{GEN}\",\"fNdivisions\":510,\"fAxisColor\":1,\"fLabelColor\":1,\"fLabelFont\":42,\"fLabelOffset\":0.005,\"fLabelSize\":0.035,\"fTickLength\":0.03,\"fTitleOffset\":1,\"fTitleSize\":0.035,\"fTitleColor\":1,\"fTitleFont\":42,\"fNbins\":100,\"fXmin\":0,\"fXmax\":3,\"fXbins\":[],\"fFirst\":0,\"fLast\":0,\"fBits2\":0,\"fTimeDisplay\":false,\"fTimeFormat\":\"\",\"fLabels\":null,\"fModLabs\":null},\"fYaxis\":{\"_typename\":\"TAxis\",\"fUniqueID\":0,\"fBits\":50331656,\"fName\":\"yaxis\",\"fTitle\":\"\",\"fNdivisions\":510,\"fAxisColor\":1,\"fLabelColor\":1,\"fLabelFont\":42,\"fLabelOffset\":0.005,\"fLabelSize\":0.035,\"fTickLength\":0.03,\"fTitleOffset\":0,\"fTitleSize\":0.035,\"fTitleColor\":1,\"fTitleFont\":42,\"fNbins\":1,\"fXmin\":0,\"fXmax\":1,\"fXbins\":[],\"fFirst\":0,\"fLast\":0,\"fBits2\":0,\"fTimeDisplay\":false,\"fTimeFormat\":\"\",\"fLabels\":null,\"fModLabs\":null},\"fZaxis\":{\"_typename\":\"TAxis\",\"fUniqueID\":0,\"fBits\":50331648,\"fName\":\"zaxis\",\"fTitle\":\"\",\"fNdivisions\":510,\"fAxisColor\":1,\"fLabelColor\":1,\"fLabelFont\":42,\"fLabelOffset\":0.005,\"fLabelSize\":0.035,\"fTickLength\":0.03,\"fTitleOffset\":1,\"fTitleSize\":0.035,\"fTitleColor\":1,\"fTitleFont\":42,\"fNbins\":1,\"fXmin\":0,\"fXmax\":1,\"fXbins\":[],\"fFirst\":0,\"fLast\":0,\"fBits2\":0,\"fTimeDisplay\":false,\"fTimeFormat\":\"\",\"fLabels\":null,\"fModLabs\":null},\"fBarOffset\":0,\"fBarWidth\":1000,\"fEntries\":10543,\"fTsumw\":10269,\"fTsumw2\":10269,\"fTsumwx\":10070.8625595458,\"fTsumwx2\":10127.7885493214,\"fMaximum\":0.290972828865051,\"fMinimum\":0,\"fNormFactor\":0,\"fContour\":[],\"fSumw2\":[0,0,9.48295505683367e-9,0,9.48295505683367e-9,9.48295505683367e-9,0,3.79318202273347e-8,1.89659101136673e-8,9.48295505683367e-9,4.74147752841684e-8,1.89659101136673e-8,3.79318202273347e-8,2.8448865170501e-8,8.53465955115031e-8,9.48295505683367e-8,8.53465955115031e-8,1.13795460682004e-7,1.32761370795671e-7,1.89659101136673e-7,1.8017614607984e-7,2.75005696648176e-7,3.12937516875511e-7,4.17250022500682e-7,4.93113662955351e-7,5.78460258466854e-7,9.76744370853868e-7,1.06209096636537e-6,1.62158531471856e-6,2.23797739341275e-6,3.70783542722197e-6,5.88891509029371e-6,1.12183358322342e-5,1.89943589788378e-5,2.36125580915158e-5,1.67943134056524e-5,5.45269915767936e-6,9.38812550626534e-7,1.70693191023006e-7,5.6897730341002e-8,2.8448865170501e-8,4.74147752841684e-8,4.74147752841684e-8,4.74147752841684e-8,2.8448865170501e-8,1.89659101136673e-8,5.6897730341002e-8,9.48295505683367e-9,7.58636404546694e-8,3.79318202273347e-8,5.6897730341002e-8,4.74147752841684e-8,1.89659101136673e-8,4.74147752841684e-8,6.63806853978357e-8,3.79318202273347e-8,2.8448865170501e-8,9.48295505683367e-9,1.89659101136673e-8,1.89659101136673e-8,1.89659101136673e-8,9.48295505683367e-9,3.79318202273347e-8,9.48295505683367e-9,9.48295505683367e-9,3.79318202273347e-8,1.89659101136673e-8,1.89659101136673e-8,3.79318202273347e-8,2.8448865170501e-8,0,6.63806853978357e-8,1.89659101136673e-8,1.89659101136673e-8,1.89659101136673e-8,1.89659101136673e-8,0,2.8448865170501e-8,9.48295505683367e-9,1.89659101136673e-8,1.89659101136673e-8,9.48295505683367e-9,9.48295505683367e-9,9.48295505683367e-9,9.48295505683367e-9,2.8448865170501e-8,2.8448865170501e-8,9.48295505683367e-9,0,0,9.48295505683367e-9,2.8448865170501e-8,1.89659101136673e-8,9.48295505683367e-9,0,9.48295505683367e-9,0,9.48295505683367e-9,2.8448865170501e-8,3.79318202273347e-8,9.48295505683367e-9,2.59832968557243e-6],\"fOption\":\"\",\"fFunctions\":{\"_typename\":\"TList\",\"name\":\"TList\",\"arr\":[],\"opt\":[]},\"fBufferSize\":0,\"fBuffer\":[],\"fBinStatErrOpt\":0,\"fStatOverflows\":2,\"fArray\":[0,0,9.738046e-5,0,9.738046e-5,9.738046e-5,0,3.895219e-4,1.947609e-4,9.738046e-5,4.869023e-4,1.947609e-4,3.895219e-4,2.921414e-4,8.764242e-4,9.738047e-4,8.764242e-4,0.001168566,0.001363327,0.001947609,0.001850229,0.002824034,0.003213555,0.00428474,0.005063784,0.005940208,0.01003019,0.01090661,0.01665206,0.02298179,0.03807576,0.06047327,0.1152011,0.1950531,0.2424774,0.1724608,0.05599377,0.009640666,0.001752848,5.842828e-4,2.921414e-4,4.869023e-4,4.869023e-4,4.869023e-4,2.921414e-4,1.947609e-4,5.842828e-4,9.738046e-5,7.790437e-4,3.895219e-4,5.842828e-4,4.869023e-4,1.947609e-4,4.869023e-4,6.816633e-4,3.895219e-4,2.921414e-4,9.738046e-5,1.947609e-4,1.947609e-4,1.947609e-4,9.738046e-5,3.895219e-4,9.738046e-5,9.738046e-5,3.895219e-4,1.947609e-4,1.947609e-4,3.895219e-4,2.921414e-4,0,6.816633e-4,1.947609e-4,1.947609e-4,1.947609e-4,1.947609e-4,0,2.921414e-4,9.738046e-5,1.947609e-4,1.947609e-4,9.738046e-5,9.738046e-5,9.738046e-5,9.738046e-5,2.921414e-4,2.921414e-4,9.738046e-5,0,0,9.738046e-5,2.921414e-4,1.947609e-4,9.738046e-5,0,9.738046e-5,0,9.738046e-5,2.921414e-4,3.895219e-4,9.738046e-5,0.02668225]},{\"_typename\":\"TH1F\",\"fUniqueID\":0,\"fBits\":50332169,\"fName\":\"EG_EGq2_GENEtaBC_ptResp\",\"fTitle\":\"EG Pt resp.\",\"fLineColor\":2,\"fLineStyle\":1,\"fLineWidth\":1,\"fFillColor\":0,\"fFillStyle\":1001,\"fMarkerColor\":1,\"fMarkerStyle\":1,\"fMarkerSize\":1,\"fNcells\":102,\"fXaxis\":{\"_typename\":\"TAxis\",\"fUniqueID\":0,\"fBits\":50331648,\"fName\":\"xaxis\",\"fTitle\":\" p_{T}^{L1}\\/p_{T}^{GEN}\",\"fNdivisions\":510,\"fAxisColor\":1,\"fLabelColor\":1,\"fLabelFont\":42,\"fLabelOffset\":0.005,\"fLabelSize\":0.035,\"fTickLength\":0.03,\"fTitleOffset\":1,\"fTitleSize\":0.035,\"fTitleColor\":1,\"fTitleFont\":42,\"fNbins\":100,\"fXmin\":0,\"fXmax\":3,\"fXbins\":[],\"fFirst\":0,\"fLast\":0,\"fBits2\":0,\"fTimeDisplay\":false,\"fTimeFormat\":\"\",\"fLabels\":null,\"fModLabs\":null},\"fYaxis\":{\"_typename\":\"TAxis\",\"fUniqueID\":0,\"fBits\":50331656,\"fName\":\"yaxis\",\"fTitle\":\"\",\"fNdivisions\":510,\"fAxisColor\":1,\"fLabelColor\":1,\"fLabelFont\":42,\"fLabelOffset\":0.005,\"fLabelSize\":0.035,\"fTickLength\":0.03,\"fTitleOffset\":0,\"fTitleSize\":0.035,\"fTitleColor\":1,\"fTitleFont\":42,\"fNbins\":1,\"fXmin\":0,\"fXmax\":1,\"fXbins\":[],\"fFirst\":0,\"fLast\":0,\"fBits2\":0,\"fTimeDisplay\":false,\"fTimeFormat\":\"\",\"fLabels\":null,\"fModLabs\":null},\"fZaxis\":{\"_typename\":\"TAxis\",\"fUniqueID\":0,\"fBits\":50331648,\"fName\":\"zaxis\",\"fTitle\":\"\",\"fNdivisions\":510,\"fAxisColor\":1,\"fLabelColor\":1,\"fLabelFont\":42,\"fLabelOffset\":0.005,\"fLabelSize\":0.035,\"fTickLength\":0.03,\"fTitleOffset\":1,\"fTitleSize\":0.035,\"fTitleColor\":1,\"fTitleFont\":42,\"fNbins\":1,\"fXmin\":0,\"fXmax\":1,\"fXbins\":[],\"fFirst\":0,\"fLast\":0,\"fBits2\":0,\"fTimeDisplay\":false,\"fTimeFormat\":\"\",\"fLabels\":null,\"fModLabs\":null},\"fBarOffset\":0,\"fBarWidth\":1000,\"fEntries\":3451,\"fTsumw\":3357,\"fTsumw2\":3357,\"fTsumwx\":3469.8590041995,\"fTsumwx2\":3693.02087184833,\"fMaximum\":0.290972828865051,\"fMinimum\":0,\"fNormFactor\":0,\"fContour\":[],\"fSumw2\":[0,0,0,0,0,8.87354829859029e-8,0,8.87354829859029e-8,8.87354829859029e-8,1.77470965971806e-7,8.87354829859029e-8,2.66206448957709e-7,2.66206448957709e-7,8.87354829859029e-8,0,2.66206448957709e-7,2.66206448957709e-7,2.66206448957709e-7,4.43677414929514e-7,7.98619346873126e-7,5.32412897915417e-7,7.09883863887223e-7,1.24229676180264e-6,7.98619346873126e-7,1.24229676180264e-6,1.95218062568986e-6,1.59723869374625e-6,2.57332900659118e-6,3.37194835346431e-6,5.05792253019646e-6,6.92136767290042e-6,1.11806708562238e-5,1.57949159714907e-5,2.67981158617427e-5,3.96647608946986e-5,5.37737026894571e-5,4.81833672613453e-5,2.98151222832634e-5,1.44638837267022e-5,9.2284902305339e-6,5.50159994512598e-6,3.81562576839382e-6,1.41976772777445e-6,1.24229676180264e-6,1.41976772777445e-6,5.32412897915417e-7,4.43677414929514e-7,5.32412897915417e-7,7.09883863887223e-7,4.43677414929514e-7,3.54941931943611e-7,8.87354829859029e-8,8.87354829859029e-8,1.77470965971806e-7,0,8.87354829859029e-8,8.87354829859029e-8,8.87354829859029e-8,0,0,2.66206448957709e-7,8.87354829859029e-8,0,8.87354829859029e-8,8.87354829859029e-8,8.87354829859029e-8,8.87354829859029e-8,1.77470965971806e-7,8.87354829859029e-8,1.77470965971806e-7,8.87354829859029e-8,8.87354829859029e-8,0,8.87354829859029e-8,0,0,0,0,0,1.77470965971806e-7,1.77470965971806e-7,0,0,8.87354829859029e-8,8.87354829859029e-8,8.87354829859029e-8,0,8.87354829859029e-8,0,0,0,0,0,0,1.77470965971806e-7,8.87354829859029e-8,1.77470965971806e-7,0,0,0,1.77470965971806e-7,8.34113540067487e-6],\"fOption\":\"\",\"fFunctions\":{\"_typename\":\"TList\",\"name\":\"TList\",\"arr\":[],\"opt\":[]},\"fBufferSize\":0,\"fBuffer\":[],\"fBinStatErrOpt\":0,\"fStatOverflows\":2,\"fArray\":[0,0,0,0,0,2.97885e-4,0,2.97885e-4,2.97885e-4,5.9577e-4,2.97885e-4,8.936551e-4,8.936551e-4,2.97885e-4,0,8.936551e-4,8.936551e-4,8.936551e-4,0.001489425,0.002680965,0.00178731,0.00238308,0.00417039,0.002680965,0.00417039,0.00655347,0.00536193,0.008638665,0.01131963,0.01697945,0.02323503,0.03753351,0.05302353,0.08996128,0.1331546,0.1805183,0.1617516,0.1000894,0.04855526,0.03098004,0.01846887,0.01280906,0.00476616,0.00417039,0.00476616,0.00178731,0.001489425,0.00178731,0.00238308,0.001489425,0.00119154,2.97885e-4,2.97885e-4,5.9577e-4,0,2.97885e-4,2.97885e-4,2.97885e-4,0,0,8.936551e-4,2.97885e-4,0,2.97885e-4,2.97885e-4,2.97885e-4,2.97885e-4,5.9577e-4,2.97885e-4,5.9577e-4,2.97885e-4,2.97885e-4,0,2.97885e-4,0,0,0,0,0,5.9577e-4,5.9577e-4,0,0,2.97885e-4,2.97885e-4,2.97885e-4,0,2.97885e-4,0,0,0,0,0,0,5.9577e-4,2.97885e-4,5.9577e-4,0,0,0,5.9577e-4,0.02800119]},{\"_typename\":\"TLegend\",\"fUniqueID\":0,\"fBits\":50331656,\"fLineColor\":1,\"fLineStyle\":1,\"fLineWidth\":1,\"fFillColor\":0,\"fFillStyle\":0,\"fX1\":3.00000006274173,\"fY1\":0.219174339859679,\"fX2\":4.31578955293692,\"fY2\":0.272078490690392,\"fX1NDC\":0.7,\"fY1NDC\":0.71,\"fX2NDC\":0.95,\"fY2NDC\":0.85,\"fBorderSize\":0,\"fInit\":1,\"fShadowColor\":1,\"fCornerRadius\":0,\"fOption\":\"brNDC\",\"fName\":\"TPave\",\"fTextAngle\":0,\"fTextSize\":0.05,\"fTextAlign\":12,\"fTextColor\":1,\"fTextFont\":42,\"fPrimitives\":{\"_typename\":\"TList\",\"name\":\"TList\",\"arr\":[{\"_typename\":\"TLegendEntry\",\"fUniqueID\":0,\"fBits\":50331656,\"fTextAngle\":0,\"fTextSize\":0,\"fTextAlign\":0,\"fTextColor\":0,\"fTextFont\":42,\"fLineColor\":1,\"fLineStyle\":1,\"fLineWidth\":1,\"fFillColor\":0,\"fFillStyle\":0,\"fMarkerColor\":1,\"fMarkerStyle\":21,\"fMarkerSize\":1,\"fObject\":{\"_typename\":\"TH1F\",\"fUniqueID\":0,\"fBits\":50332168,\"fName\":\"EG_EGq2_GENEtaBC_ptResp\",\"fTitle\":\"EG Pt resp.\",\"fLineColor\":1,\"fLineStyle\":1,\"fLineWidth\":1,\"fFillColor\":0,\"fFillStyle\":1001,\"fMarkerColor\":1,\"fMarkerStyle\":1,\"fMarkerSize\":1,\"fNcells\":102,\"fXaxis\":{\"_typename\":\"TAxis\",\"fUniqueID\":0,\"fBits\":50331648,\"fName\":\"xaxis\",\"fTitle\":\" p_{T}^{L1}\\/p_{T}^{GEN}\",\"fNdivisions\":510,\"fAxisColor\":1,\"fLabelColor\":1,\"fLabelFont\":42,\"fLabelOffset\":0.005,\"fLabelSize\":0.035,\"fTickLength\":0.03,\"fTitleOffset\":1,\"fTitleSize\":0.035,\"fTitleColor\":1,\"fTitleFont\":42,\"fNbins\":100,\"fXmin\":0,\"fXmax\":3,\"fXbins\":[],\"fFirst\":0,\"fLast\":0,\"fBits2\":0,\"fTimeDisplay\":false,\"fTimeFormat\":\"\",\"fLabels\":null,\"fModLabs\":null},\"fYaxis\":{\"_typename\":\"TAxis\",\"fUniqueID\":0,\"fBits\":50331648,\"fName\":\"yaxis\",\"fTitle\":\"\",\"fNdivisions\":510,\"fAxisColor\":1,\"fLabelColor\":1,\"fLabelFont\":42,\"fLabelOffset\":0.005,\"fLabelSize\":0.035,\"fTickLength\":0.03,\"fTitleOffset\":0,\"fTitleSize\":0.035,\"fTitleColor\":1,\"fTitleFont\":42,\"fNbins\":1,\"fXmin\":0,\"fXmax\":1,\"fXbins\":[],\"fFirst\":0,\"fLast\":0,\"fBits2\":0,\"fTimeDisplay\":false,\"fTimeFormat\":\"\",\"fLabels\":null,\"fModLabs\":null},\"fZaxis\":{\"_typename\":\"TAxis\",\"fUniqueID\":0,\"fBits\":50331648,\"fName\":\"zaxis\",\"fTitle\":\"\",\"fNdivisions\":510,\"fAxisColor\":1,\"fLabelColor\":1,\"fLabelFont\":42,\"fLabelOffset\":0.005,\"fLabelSize\":0.035,\"fTickLength\":0.03,\"fTitleOffset\":1,\"fTitleSize\":0.035,\"fTitleColor\":1,\"fTitleFont\":42,\"fNbins\":1,\"fXmin\":0,\"fXmax\":1,\"fXbins\":[],\"fFirst\":0,\"fLast\":0,\"fBits2\":0,\"fTimeDisplay\":false,\"fTimeFormat\":\"\",\"fLabels\":null,\"fModLabs\":null},\"fBarOffset\":0,\"fBarWidth\":1000,\"fEntries\":10543,\"fTsumw\":10269,\"fTsumw2\":10269,\"fTsumwx\":10070.8625595458,\"fTsumwx2\":10127.7885493214,\"fMaximum\":-1111,\"fMinimum\":-1111,\"fNormFactor\":0,\"fContour\":[],\"fSumw2\":[0,0,1,0,1,1,0,4,2,1,5,2,4,3,9,10,9,12,14,20,19,29,33,44,52,61,103,112,171,236,391,621,1183,2003,2490,1771,575,99,18,6,3,5,5,5,3,2,6,1,8,4,6,5,2,5,7,4,3,1,2,2,2,1,4,1,1,4,2,2,4,3,0,7,2,2,2,2,0,3,1,2,2,1,1,1,1,3,3,1,0,0,1,3,2,1,0,1,0,1,3,4,1,274],\"fOption\":\"\",\"fFunctions\":{\"_typename\":\"TList\",\"name\":\"TList\",\"arr\":[],\"opt\":[]},\"fBufferSize\":0,\"fBuffer\":[],\"fBinStatErrOpt\":0,\"fStatOverflows\":2,\"fArray\":[0,0,1,0,1,1,0,4,2,1,5,2,4,3,9,10,9,12,14,20,19,29,33,44,52,61,103,112,171,236,391,621,1183,2003,2490,1771,575,99,18,6,3,5,5,5,3,2,6,1,8,4,6,5,2,5,7,4,3,1,2,2,2,1,4,1,1,4,2,2,4,3,0,7,2,2,2,2,0,3,1,2,2,1,1,1,1,3,3,1,0,0,1,3,2,1,0,1,0,1,3,4,1,274]},\"fLabel\":\"PU0\",\"fOption\":\"l\"},{\"_typename\":\"TLegendEntry\",\"fUniqueID\":0,\"fBits\":50331656,\"fTextAngle\":0,\"fTextSize\":0,\"fTextAlign\":0,\"fTextColor\":0,\"fTextFont\":42,\"fLineColor\":2,\"fLineStyle\":1,\"fLineWidth\":1,\"fFillColor\":0,\"fFillStyle\":0,\"fMarkerColor\":1,\"fMarkerStyle\":21,\"fMarkerSize\":1,\"fObject\":{\"_typename\":\"TH1F\",\"fUniqueID\":0,\"fBits\":50332168,\"fName\":\"EG_EGq2_GENEtaBC_ptResp\",\"fTitle\":\"EG Pt resp.\",\"fLineColor\":2,\"fLineStyle\":1,\"fLineWidth\":1,\"fFillColor\":0,\"fFillStyle\":1001,\"fMarkerColor\":1,\"fMarkerStyle\":1,\"fMarkerSize\":1,\"fNcells\":102,\"fXaxis\":{\"_typename\":\"TAxis\",\"fUniqueID\":0,\"fBits\":50331648,\"fName\":\"xaxis\",\"fTitle\":\" p_{T}^{L1}\\/p_{T}^{GEN}\",\"fNdivisions\":510,\"fAxisColor\":1,\"fLabelColor\":1,\"fLabelFont\":42,\"fLabelOffset\":0.005,\"fLabelSize\":0.035,\"fTickLength\":0.03,\"fTitleOffset\":1,\"fTitleSize\":0.035,\"fTitleColor\":1,\"fTitleFont\":42,\"fNbins\":100,\"fXmin\":0,\"fXmax\":3,\"fXbins\":[],\"fFirst\":0,\"fLast\":0,\"fBits2\":0,\"fTimeDisplay\":false,\"fTimeFormat\":\"\",\"fLabels\":null,\"fModLabs\":null},\"fYaxis\":{\"_typename\":\"TAxis\",\"fUniqueID\":0,\"fBits\":50331648,\"fName\":\"yaxis\",\"fTitle\":\"\",\"fNdivisions\":510,\"fAxisColor\":1,\"fLabelColor\":1,\"fLabelFont\":42,\"fLabelOffset\":0.005,\"fLabelSize\":0.035,\"fTickLength\":0.03,\"fTitleOffset\":0,\"fTitleSize\":0.035,\"fTitleColor\":1,\"fTitleFont\":42,\"fNbins\":1,\"fXmin\":0,\"fXmax\":1,\"fXbins\":[],\"fFirst\":0,\"fLast\":0,\"fBits2\":0,\"fTimeDisplay\":false,\"fTimeFormat\":\"\",\"fLabels\":null,\"fModLabs\":null},\"fZaxis\":{\"_typename\":\"TAxis\",\"fUniqueID\":0,\"fBits\":50331648,\"fName\":\"zaxis\",\"fTitle\":\"\",\"fNdivisions\":510,\"fAxisColor\":1,\"fLabelColor\":1,\"fLabelFont\":42,\"fLabelOffset\":0.005,\"fLabelSize\":0.035,\"fTickLength\":0.03,\"fTitleOffset\":1,\"fTitleSize\":0.035,\"fTitleColor\":1,\"fTitleFont\":42,\"fNbins\":1,\"fXmin\":0,\"fXmax\":1,\"fXbins\":[],\"fFirst\":0,\"fLast\":0,\"fBits2\":0,\"fTimeDisplay\":false,\"fTimeFormat\":\"\",\"fLabels\":null,\"fModLabs\":null},\"fBarOffset\":0,\"fBarWidth\":1000,\"fEntries\":3451,\"fTsumw\":3357,\"fTsumw2\":3357,\"fTsumwx\":3469.8590041995,\"fTsumwx2\":3693.02087184833,\"fMaximum\":-1111,\"fMinimum\":-1111,\"fNormFactor\":0,\"fContour\":[],\"fSumw2\":[0,0,0,0,0,1,0,1,1,2,1,3,3,1,0,3,3,3,5,9,6,8,14,9,14,22,18,29,38,57,78,126,178,302,447,606,543,336,163,104,62,43,16,14,16,6,5,6,8,5,4,1,1,2,0,1,1,1,0,0,3,1,0,1,1,1,1,2,1,2,1,1,0,1,0,0,0,0,0,2,2,0,0,1,1,1,0,1,0,0,0,0,0,0,2,1,2,0,0,0,2,94],\"fOption\":\"\",\"fFunctions\":{\"_typename\":\"TList\",\"name\":\"TList\",\"arr\":[],\"opt\":[]},\"fBufferSize\":0,\"fBuffer\":[],\"fBinStatErrOpt\":0,\"fStatOverflows\":2,\"fArray\":[0,0,0,0,0,1,0,1,1,2,1,3,3,1,0,3,3,3,5,9,6,8,14,9,14,22,18,29,38,57,78,126,178,302,447,606,543,336,163,104,62,43,16,14,16,6,5,6,8,5,4,1,1,2,0,1,1,1,0,0,3,1,0,1,1,1,1,2,1,2,1,1,0,1,0,0,0,0,0,2,2,0,0,1,1,1,0,1,0,0,0,0,0,0,2,1,2,0,0,0,2,94]},\"fLabel\":\"PU200\",\"fOption\":\"l\"}],\"opt\":[\"l\",\"l\"]},\"fEntrySeparation\":0.1,\"fMargin\":0.25,\"fNColumns\":1,\"fColumnSeparation\":0},{\"_typename\":\"TLatex\",\"fUniqueID\":0,\"fBits\":50348040,\"fName\":\"\",\"fTitle\":\"EG, q2, 1.52 < |#eta^{GEN}| <= 2.4\",\"fTextAngle\":0,\"fTextSize\":0.03,\"fTextAlign\":11,\"fTextColor\":1,\"fTextFont\":62,\"fX\":0.15,\"fY\":0.85,\"fLineColor\":1,\"fLineStyle\":1,\"fLineWidth\":2,\"fLimitFactorSize\":3,\"fOriginSize\":0.04}],\"opt\":[\"\",\"HIST\",\"SAME,HIST\",\"\",\"same\"]},\"fExecs\":null,\"fName\":\"c_0bc4bd\",\"fTitle\":\"c_0bc4bd\",\"fNumPaletteColor\":0,\"fNextPaletteColor\":0,\"fDISPLAY\":\"$DISPLAY\",\"fDoubleBuffer\":0,\"fRetained\":true,\"fXsizeUser\":0,\"fYsizeUser\":0,\"fXsizeReal\":20,\"fYsizeReal\":15,\"fWindowTopX\":0,\"fWindowTopY\":0,\"fWindowWidth\":0,\"fWindowHeight\":0,\"fCw\":796,\"fCh\":572,\"fCatt\":{\"_typename\":\"TAttCanvas\",\"fXBetween\":2,\"fYBetween\":2,\"fTitleFromTop\":1.2,\"fXdate\":0.2,\"fYdate\":0.3,\"fAdate\":1},\"kMoveOpaque\":true,\"kResizeOpaque\":true,\"fHighLightColor\":2,\"fBatch\":true,\"kShowEventStatus\":false,\"kAutoExec\":true,\"kMenuBar\":true});\n",
       "       Core.draw(\"root_plot_5\", obj, \"\");\n",
       "     }\n",
       " );\n",
       "</script>\n"
      ],
      "text/plain": [
       "<IPython.core.display.HTML object>"
      ]
     },
     "metadata": {},
     "output_type": "display_data"
    },
    {
     "data": {
      "text/html": [
       "\n",
       "<div id=\"root_plot_6\"\n",
       "     style=\"width: 796px; height: 572px\">\n",
       "</div>\n",
       "\n",
       "<script>\n",
       " requirejs.config({\n",
       "     paths: {\n",
       "       'JSRootCore' : 'https://root.cern.ch/js/notebook//scripts/JSRootCore',\n",
       "     }\n",
       "   });\n",
       " require(['JSRootCore'],\n",
       "     function(Core) {\n",
       "       var obj = Core.JSONR_unref({\"_typename\":\"TCanvas\",\"fUniqueID\":0,\"fBits\":53673992,\"fLineColor\":1,\"fLineStyle\":1,\"fLineWidth\":1,\"fFillColor\":0,\"fFillStyle\":1001,\"fLeftMargin\":0.13,\"fRightMargin\":0.3,\"fBottomMargin\":0.13,\"fTopMargin\":0.1,\"fXfile\":2,\"fYfile\":2,\"fAfile\":1,\"fXstat\":0.99,\"fYstat\":0.99,\"fAstat\":2,\"fFrameFillColor\":0,\"fFrameLineColor\":1,\"fFrameFillStyle\":1001,\"fFrameLineStyle\":1,\"fFrameLineWidth\":1,\"fFrameBorderSize\":1,\"fFrameBorderMode\":0,\"fX1\":-0.684210509804807,\"fY1\":-0.044255384391893,\"fX2\":4.57894745097596,\"fY2\":0.296170654269537,\"fXtoAbsPixelk\":103.480046204376,\"fXtoPixelk\":103.480046204376,\"fXtoPixel\":151.239998102188,\"fYtoAbsPixelk\":497.640051065433,\"fYtoPixelk\":497.640051065433,\"fYtoPixel\":-1680.24749883742,\"fUtoAbsPixelk\":5e-5,\"fUtoPixelk\":5e-5,\"fUtoPixel\":796,\"fVtoAbsPixelk\":572.00005,\"fVtoPixelk\":572,\"fVtoPixel\":-572,\"fAbsPixeltoXk\":-0.684210509804807,\"fPixeltoXk\":-0.684210509804807,\"fPixeltoX\":0.00661200748841805,\"fAbsPixeltoYk\":0.296170654269537,\"fPixeltoYk\":-0.044255384391893,\"fPixeltoY\":-5.95150417240262e-4,\"fXlowNDC\":0,\"fYlowNDC\":0,\"fXUpNDC\":0,\"fYUpNDC\":0,\"fWNDC\":1,\"fHNDC\":1,\"fAbsXlowNDC\":0,\"fAbsYlowNDC\":0,\"fAbsWNDC\":1,\"fAbsHNDC\":1,\"fUxmin\":0,\"fUymin\":0,\"fUxmax\":3,\"fUymax\":0.262128049135208,\"fTheta\":30,\"fPhi\":30,\"fAspectRatio\":0,\"fNumber\":0,\"fTickx\":0,\"fTicky\":0,\"fLogx\":0,\"fLogy\":0,\"fLogz\":0,\"fPadPaint\":0,\"fCrosshair\":0,\"fCrosshairPos\":0,\"fBorderSize\":2,\"fBorderMode\":0,\"fModified\":false,\"fGridx\":false,\"fGridy\":false,\"fAbsCoord\":false,\"fEditable\":true,\"fFixedAspectRatio\":false,\"fPrimitives\":{\"_typename\":\"TList\",\"name\":\"TList\",\"arr\":[{\"_typename\":\"TFrame\",\"fUniqueID\":0,\"fBits\":50331656,\"fLineColor\":1,\"fLineStyle\":1,\"fLineWidth\":1,\"fFillColor\":0,\"fFillStyle\":1001,\"fX1\":0,\"fY1\":0,\"fX2\":3,\"fY2\":0.262128049135208,\"fBorderSize\":1,\"fBorderMode\":0},{\"_typename\":\"TH1F\",\"fUniqueID\":0,\"fBits\":50332169,\"fName\":\"EG_EGq2_GENEtaD_ptResp\",\"fTitle\":\"EG Pt resp.\",\"fLineColor\":1,\"fLineStyle\":1,\"fLineWidth\":1,\"fFillColor\":0,\"fFillStyle\":1001,\"fMarkerColor\":1,\"fMarkerStyle\":1,\"fMarkerSize\":1,\"fNcells\":102,\"fXaxis\":{\"_typename\":\"TAxis\",\"fUniqueID\":0,\"fBits\":50331648,\"fName\":\"xaxis\",\"fTitle\":\" p_{T}^{L1}\\/p_{T}^{GEN}\",\"fNdivisions\":510,\"fAxisColor\":1,\"fLabelColor\":1,\"fLabelFont\":42,\"fLabelOffset\":0.005,\"fLabelSize\":0.035,\"fTickLength\":0.03,\"fTitleOffset\":1,\"fTitleSize\":0.035,\"fTitleColor\":1,\"fTitleFont\":42,\"fNbins\":100,\"fXmin\":0,\"fXmax\":3,\"fXbins\":[],\"fFirst\":0,\"fLast\":0,\"fBits2\":0,\"fTimeDisplay\":false,\"fTimeFormat\":\"\",\"fLabels\":null,\"fModLabs\":null},\"fYaxis\":{\"_typename\":\"TAxis\",\"fUniqueID\":0,\"fBits\":50331656,\"fName\":\"yaxis\",\"fTitle\":\"\",\"fNdivisions\":510,\"fAxisColor\":1,\"fLabelColor\":1,\"fLabelFont\":42,\"fLabelOffset\":0.005,\"fLabelSize\":0.035,\"fTickLength\":0.03,\"fTitleOffset\":0,\"fTitleSize\":0.035,\"fTitleColor\":1,\"fTitleFont\":42,\"fNbins\":1,\"fXmin\":0,\"fXmax\":1,\"fXbins\":[],\"fFirst\":0,\"fLast\":0,\"fBits2\":0,\"fTimeDisplay\":false,\"fTimeFormat\":\"\",\"fLabels\":null,\"fModLabs\":null},\"fZaxis\":{\"_typename\":\"TAxis\",\"fUniqueID\":0,\"fBits\":50331648,\"fName\":\"zaxis\",\"fTitle\":\"\",\"fNdivisions\":510,\"fAxisColor\":1,\"fLabelColor\":1,\"fLabelFont\":42,\"fLabelOffset\":0.005,\"fLabelSize\":0.035,\"fTickLength\":0.03,\"fTitleOffset\":1,\"fTitleSize\":0.035,\"fTitleColor\":1,\"fTitleFont\":42,\"fNbins\":1,\"fXmin\":0,\"fXmax\":1,\"fXbins\":[],\"fFirst\":0,\"fLast\":0,\"fBits2\":0,\"fTimeDisplay\":false,\"fTimeFormat\":\"\",\"fLabels\":null,\"fModLabs\":null},\"fBarOffset\":0,\"fBarWidth\":1000,\"fEntries\":4538,\"fTsumw\":4436,\"fTsumw2\":4436,\"fTsumwx\":4138.60026064515,\"fTsumwx2\":4071.53686452158,\"fMaximum\":0.262128049135208,\"fMinimum\":0,\"fNormFactor\":0,\"fContour\":[],\"fSumw2\":[0,0,5.08179246610038e-8,5.08179246610038e-8,0,2.03271698644015e-7,1.52453773983011e-7,2.54089623305019e-7,3.55725472627026e-7,3.55725472627026e-7,4.0654339728803e-7,6.09815095932045e-7,5.58997171271042e-7,9.65540568559072e-7,8.1308679457606e-7,7.62268869915057e-7,1.06717641788108e-6,1.27044811652509e-6,1.98189906177915e-6,2.13435283576216e-6,2.23598868508417e-6,2.89662170567722e-6,3.15071132898223e-6,2.94743963033822e-6,3.50643680160926e-6,4.31952359618532e-6,4.47197737016833e-6,4.26870567152432e-6,5.64078963737142e-6,5.89487926067644e-6,7.01287360321852e-6,1.19422122953359e-5,2.03779877890625e-5,3.84691689683799e-5,4.92425689965127e-5,3.34890123516015e-5,8.28332171974362e-6,8.1308679457606e-7,3.55725472627026e-7,2.03271698644015e-7,1.52453773983011e-7,1.52453773983011e-7,0,1.52453773983011e-7,5.08179246610038e-8,2.03271698644015e-7,1.01635849322008e-7,5.08179246610038e-8,1.01635849322008e-7,2.03271698644015e-7,5.08179246610038e-8,1.01635849322008e-7,0,1.01635849322008e-7,1.01635849322008e-7,0,5.08179246610038e-8,1.52453773983011e-7,0,5.08179246610038e-8,1.01635849322008e-7,5.08179246610038e-8,1.01635849322008e-7,5.08179246610038e-8,1.01635849322008e-7,5.08179246610038e-8,1.01635849322008e-7,1.01635849322008e-7,1.01635849322008e-7,0,5.08179246610038e-8,0,0,5.08179246610038e-8,1.01635849322008e-7,5.08179246610038e-8,5.08179246610038e-8,0,0,5.08179246610038e-8,0,0,0,1.01635849322008e-7,1.01635849322008e-7,5.08179246610038e-8,0,1.01635849322008e-7,1.01635849322008e-7,5.08179246610038e-8,5.08179246610038e-8,5.08179246610038e-8,5.08179246610038e-8,5.08179246610038e-8,5.08179246610038e-8,1.01635849322008e-7,1.01635849322008e-7,0,5.08179246610038e-8,0,0,5.18342831542239e-6],\"fOption\":\"\",\"fFunctions\":{\"_typename\":\"TList\",\"name\":\"TList\",\"arr\":[],\"opt\":[]},\"fBufferSize\":0,\"fBuffer\":[],\"fBinStatErrOpt\":0,\"fStatOverflows\":2,\"fArray\":[0,0,2.254283e-4,2.254283e-4,0,9.017133e-4,6.76285e-4,0.001127142,0.001577998,0.001577998,0.001803427,0.00270514,0.002479712,0.004283138,0.003606853,0.003381425,0.004733995,0.005635708,0.008791705,0.009467989,0.009918846,0.01284941,0.01397656,0.01307484,0.01555455,0.01916141,0.01983769,0.01893598,0.02502254,0.02614968,0.03110911,0.05297565,0.09039675,0.1706492,0.21844,0.1485573,0.03674481,0.003606853,0.001577998,9.017133e-4,6.76285e-4,6.76285e-4,0,6.76285e-4,2.254283e-4,9.017133e-4,4.508566e-4,2.254283e-4,4.508566e-4,9.017133e-4,2.254283e-4,4.508566e-4,0,4.508566e-4,4.508566e-4,0,2.254283e-4,6.76285e-4,0,2.254283e-4,4.508566e-4,2.254283e-4,4.508566e-4,2.254283e-4,4.508566e-4,2.254283e-4,4.508566e-4,4.508566e-4,4.508566e-4,0,2.254283e-4,0,0,2.254283e-4,4.508566e-4,2.254283e-4,2.254283e-4,0,0,2.254283e-4,0,0,0,4.508566e-4,4.508566e-4,2.254283e-4,0,4.508566e-4,4.508566e-4,2.254283e-4,2.254283e-4,2.254283e-4,2.254283e-4,2.254283e-4,2.254283e-4,4.508566e-4,4.508566e-4,0,2.254283e-4,0,0,0.02299369]},{\"_typename\":\"TH1F\",\"fUniqueID\":0,\"fBits\":50332169,\"fName\":\"EG_EGq2_GENEtaD_ptResp\",\"fTitle\":\"EG Pt resp.\",\"fLineColor\":2,\"fLineStyle\":1,\"fLineWidth\":1,\"fFillColor\":0,\"fFillStyle\":1001,\"fMarkerColor\":1,\"fMarkerStyle\":1,\"fMarkerSize\":1,\"fNcells\":102,\"fXaxis\":{\"_typename\":\"TAxis\",\"fUniqueID\":0,\"fBits\":50331648,\"fName\":\"xaxis\",\"fTitle\":\" p_{T}^{L1}\\/p_{T}^{GEN}\",\"fNdivisions\":510,\"fAxisColor\":1,\"fLabelColor\":1,\"fLabelFont\":42,\"fLabelOffset\":0.005,\"fLabelSize\":0.035,\"fTickLength\":0.03,\"fTitleOffset\":1,\"fTitleSize\":0.035,\"fTitleColor\":1,\"fTitleFont\":42,\"fNbins\":100,\"fXmin\":0,\"fXmax\":3,\"fXbins\":[],\"fFirst\":0,\"fLast\":0,\"fBits2\":0,\"fTimeDisplay\":false,\"fTimeFormat\":\"\",\"fLabels\":null,\"fModLabs\":null},\"fYaxis\":{\"_typename\":\"TAxis\",\"fUniqueID\":0,\"fBits\":50331656,\"fName\":\"yaxis\",\"fTitle\":\"\",\"fNdivisions\":510,\"fAxisColor\":1,\"fLabelColor\":1,\"fLabelFont\":42,\"fLabelOffset\":0.005,\"fLabelSize\":0.035,\"fTickLength\":0.03,\"fTitleOffset\":0,\"fTitleSize\":0.035,\"fTitleColor\":1,\"fTitleFont\":42,\"fNbins\":1,\"fXmin\":0,\"fXmax\":1,\"fXbins\":[],\"fFirst\":0,\"fLast\":0,\"fBits2\":0,\"fTimeDisplay\":false,\"fTimeFormat\":\"\",\"fLabels\":null,\"fModLabs\":null},\"fZaxis\":{\"_typename\":\"TAxis\",\"fUniqueID\":0,\"fBits\":50331648,\"fName\":\"zaxis\",\"fTitle\":\"\",\"fNdivisions\":510,\"fAxisColor\":1,\"fLabelColor\":1,\"fLabelFont\":42,\"fLabelOffset\":0.005,\"fLabelSize\":0.035,\"fTickLength\":0.03,\"fTitleOffset\":1,\"fTitleSize\":0.035,\"fTitleColor\":1,\"fTitleFont\":42,\"fNbins\":1,\"fXmin\":0,\"fXmax\":1,\"fXbins\":[],\"fFirst\":0,\"fLast\":0,\"fBits2\":0,\"fTimeDisplay\":false,\"fTimeFormat\":\"\",\"fLabels\":null,\"fModLabs\":null},\"fBarOffset\":0,\"fBarWidth\":1000,\"fEntries\":1627,\"fTsumw\":1587,\"fTsumw2\":1587,\"fTsumwx\":1631.79451502487,\"fTsumwx2\":1769.55282229775,\"fMaximum\":0.262128049135208,\"fMinimum\":0,\"fNormFactor\":0,\"fContour\":[],\"fSumw2\":[0,0,3.97050864995162e-7,3.97050864995162e-7,3.97050864995162e-7,0,3.97050864995162e-7,7.94101729990324e-7,0,0,0,3.97050864995162e-7,7.94101729990324e-7,7.94101729990324e-7,3.97050864995162e-7,2.77935605496613e-6,1.58820345998065e-6,2.38230518997097e-6,1.98525432497581e-6,2.38230518997097e-6,5.55871210993227e-6,6.74986470491775e-6,6.35281383992259e-6,9.13216989488873e-6,1.03233224898742e-5,9.13216989488873e-6,1.34997294098355e-5,1.19115259498549e-5,1.62790854648016e-5,1.66761363297968e-5,1.230857681485e-5,1.94554923847629e-5,2.30289501697194e-5,2.89847131446468e-5,3.37493235245888e-5,5.51900702343275e-5,7.26603082941146e-5,7.42485117540953e-5,6.19399349392453e-5,4.4072646014463e-5,2.50142044946952e-5,1.50879328698162e-5,5.16166124493711e-6,1.11174242198645e-5,4.76461037994194e-6,3.57345778495646e-6,1.19115259498549e-6,1.58820345998065e-6,1.19115259498549e-6,7.94101729990324e-7,1.58820345998065e-6,7.94101729990324e-7,3.97050864995162e-7,7.94101729990324e-7,3.97050864995162e-7,0,1.19115259498549e-6,3.97050864995162e-7,0,3.97050864995162e-7,0,1.58820345998065e-6,3.97050864995162e-7,0,3.97050864995162e-7,0,0,0,3.97050864995162e-7,3.97050864995162e-7,0,0,0,3.97050864995162e-7,0,0,0,7.94101729990324e-7,0,0,0,0,0,3.97050864995162e-7,0,0,0,0,0,7.94101729990324e-7,0,0,0,0,1.19115259498549e-6,3.97050864995162e-7,0,3.97050864995162e-7,0,0,0,1.58820345998065e-5],\"fOption\":\"\",\"fFunctions\":{\"_typename\":\"TList\",\"name\":\"TList\",\"arr\":[],\"opt\":[]},\"fBufferSize\":0,\"fBuffer\":[],\"fBinStatErrOpt\":0,\"fStatOverflows\":2,\"fArray\":[0,0,6.301197e-4,6.301197e-4,6.301197e-4,0,6.301197e-4,0.001260239,0,0,0,6.301197e-4,0.001260239,0.001260239,6.301197e-4,0.004410838,0.002520479,0.003780718,0.003150599,0.003780718,0.008821676,0.01071204,0.01008192,0.01449275,0.01638311,0.01449275,0.02142407,0.01890359,0.02583491,0.02646503,0.01953371,0.03087587,0.03654695,0.04599874,0.05356018,0.08758664,0.1153119,0.1178324,0.09829868,0.06994329,0.03969754,0.02394455,0.008191557,0.01764335,0.007561437,0.005671077,0.001890359,0.002520479,0.001890359,0.001260239,0.002520479,0.001260239,6.301197e-4,0.001260239,6.301197e-4,0,0.001890359,6.301197e-4,0,6.301197e-4,0,0.002520479,6.301197e-4,0,6.301197e-4,0,0,0,6.301197e-4,6.301197e-4,0,0,0,6.301197e-4,0,0,0,0.001260239,0,0,0,0,0,6.301197e-4,0,0,0,0,0,0.001260239,0,0,0,0,0.001890359,6.301197e-4,0,6.301197e-4,0,0,0,0.02520479]},{\"_typename\":\"TLegend\",\"fUniqueID\":0,\"fBits\":50331656,\"fLineColor\":1,\"fLineStyle\":1,\"fLineWidth\":1,\"fFillColor\":0,\"fFillStyle\":0,\"fX1\":3.00000006274173,\"fY1\":0.197447103057722,\"fX2\":4.31578955293692,\"fY2\":0.245106748470322,\"fX1NDC\":0.7,\"fY1NDC\":0.71,\"fX2NDC\":0.95,\"fY2NDC\":0.85,\"fBorderSize\":0,\"fInit\":1,\"fShadowColor\":1,\"fCornerRadius\":0,\"fOption\":\"brNDC\",\"fName\":\"TPave\",\"fTextAngle\":0,\"fTextSize\":0.05,\"fTextAlign\":12,\"fTextColor\":1,\"fTextFont\":42,\"fPrimitives\":{\"_typename\":\"TList\",\"name\":\"TList\",\"arr\":[{\"_typename\":\"TLegendEntry\",\"fUniqueID\":0,\"fBits\":50331656,\"fTextAngle\":0,\"fTextSize\":0,\"fTextAlign\":0,\"fTextColor\":0,\"fTextFont\":42,\"fLineColor\":1,\"fLineStyle\":1,\"fLineWidth\":1,\"fFillColor\":0,\"fFillStyle\":0,\"fMarkerColor\":1,\"fMarkerStyle\":21,\"fMarkerSize\":1,\"fObject\":{\"_typename\":\"TH1F\",\"fUniqueID\":0,\"fBits\":50332168,\"fName\":\"EG_EGq2_GENEtaD_ptResp\",\"fTitle\":\"EG Pt resp.\",\"fLineColor\":1,\"fLineStyle\":1,\"fLineWidth\":1,\"fFillColor\":0,\"fFillStyle\":1001,\"fMarkerColor\":1,\"fMarkerStyle\":1,\"fMarkerSize\":1,\"fNcells\":102,\"fXaxis\":{\"_typename\":\"TAxis\",\"fUniqueID\":0,\"fBits\":50331648,\"fName\":\"xaxis\",\"fTitle\":\" p_{T}^{L1}\\/p_{T}^{GEN}\",\"fNdivisions\":510,\"fAxisColor\":1,\"fLabelColor\":1,\"fLabelFont\":42,\"fLabelOffset\":0.005,\"fLabelSize\":0.035,\"fTickLength\":0.03,\"fTitleOffset\":1,\"fTitleSize\":0.035,\"fTitleColor\":1,\"fTitleFont\":42,\"fNbins\":100,\"fXmin\":0,\"fXmax\":3,\"fXbins\":[],\"fFirst\":0,\"fLast\":0,\"fBits2\":0,\"fTimeDisplay\":false,\"fTimeFormat\":\"\",\"fLabels\":null,\"fModLabs\":null},\"fYaxis\":{\"_typename\":\"TAxis\",\"fUniqueID\":0,\"fBits\":50331648,\"fName\":\"yaxis\",\"fTitle\":\"\",\"fNdivisions\":510,\"fAxisColor\":1,\"fLabelColor\":1,\"fLabelFont\":42,\"fLabelOffset\":0.005,\"fLabelSize\":0.035,\"fTickLength\":0.03,\"fTitleOffset\":0,\"fTitleSize\":0.035,\"fTitleColor\":1,\"fTitleFont\":42,\"fNbins\":1,\"fXmin\":0,\"fXmax\":1,\"fXbins\":[],\"fFirst\":0,\"fLast\":0,\"fBits2\":0,\"fTimeDisplay\":false,\"fTimeFormat\":\"\",\"fLabels\":null,\"fModLabs\":null},\"fZaxis\":{\"_typename\":\"TAxis\",\"fUniqueID\":0,\"fBits\":50331648,\"fName\":\"zaxis\",\"fTitle\":\"\",\"fNdivisions\":510,\"fAxisColor\":1,\"fLabelColor\":1,\"fLabelFont\":42,\"fLabelOffset\":0.005,\"fLabelSize\":0.035,\"fTickLength\":0.03,\"fTitleOffset\":1,\"fTitleSize\":0.035,\"fTitleColor\":1,\"fTitleFont\":42,\"fNbins\":1,\"fXmin\":0,\"fXmax\":1,\"fXbins\":[],\"fFirst\":0,\"fLast\":0,\"fBits2\":0,\"fTimeDisplay\":false,\"fTimeFormat\":\"\",\"fLabels\":null,\"fModLabs\":null},\"fBarOffset\":0,\"fBarWidth\":1000,\"fEntries\":4538,\"fTsumw\":4436,\"fTsumw2\":4436,\"fTsumwx\":4138.60026064515,\"fTsumwx2\":4071.53686452158,\"fMaximum\":-1111,\"fMinimum\":-1111,\"fNormFactor\":0,\"fContour\":[],\"fSumw2\":[0,0,1,1,0,4,3,5,7,7,8,12,11,19,16,15,21,25,39,42,44,57,62,58,69,85,88,84,111,116,138,235,401,757,969,659,163,16,7,4,3,3,0,3,1,4,2,1,2,4,1,2,0,2,2,0,1,3,0,1,2,1,2,1,2,1,2,2,2,0,1,0,0,1,2,1,1,0,0,1,0,0,0,2,2,1,0,2,2,1,1,1,1,1,1,2,2,0,1,0,0,102],\"fOption\":\"\",\"fFunctions\":{\"_typename\":\"TList\",\"name\":\"TList\",\"arr\":[],\"opt\":[]},\"fBufferSize\":0,\"fBuffer\":[],\"fBinStatErrOpt\":0,\"fStatOverflows\":2,\"fArray\":[0,0,1,1,0,4,3,5,7,7,8,12,11,19,16,15,21,25,39,42,44,57,62,58,69,85,88,84,111,116,138,235,401,757,969,659,163,16,7,4,3,3,0,3,1,4,2,1,2,4,1,2,0,2,2,0,1,3,0,1,2,1,2,1,2,1,2,2,2,0,1,0,0,1,2,1,1,0,0,1,0,0,0,2,2,1,0,2,2,1,1,1,1,1,1,2,2,0,1,0,0,102]},\"fLabel\":\"PU0\",\"fOption\":\"l\"},{\"_typename\":\"TLegendEntry\",\"fUniqueID\":0,\"fBits\":50331656,\"fTextAngle\":0,\"fTextSize\":0,\"fTextAlign\":0,\"fTextColor\":0,\"fTextFont\":42,\"fLineColor\":2,\"fLineStyle\":1,\"fLineWidth\":1,\"fFillColor\":0,\"fFillStyle\":0,\"fMarkerColor\":1,\"fMarkerStyle\":21,\"fMarkerSize\":1,\"fObject\":{\"_typename\":\"TH1F\",\"fUniqueID\":0,\"fBits\":50332168,\"fName\":\"EG_EGq2_GENEtaD_ptResp\",\"fTitle\":\"EG Pt resp.\",\"fLineColor\":2,\"fLineStyle\":1,\"fLineWidth\":1,\"fFillColor\":0,\"fFillStyle\":1001,\"fMarkerColor\":1,\"fMarkerStyle\":1,\"fMarkerSize\":1,\"fNcells\":102,\"fXaxis\":{\"_typename\":\"TAxis\",\"fUniqueID\":0,\"fBits\":50331648,\"fName\":\"xaxis\",\"fTitle\":\" p_{T}^{L1}\\/p_{T}^{GEN}\",\"fNdivisions\":510,\"fAxisColor\":1,\"fLabelColor\":1,\"fLabelFont\":42,\"fLabelOffset\":0.005,\"fLabelSize\":0.035,\"fTickLength\":0.03,\"fTitleOffset\":1,\"fTitleSize\":0.035,\"fTitleColor\":1,\"fTitleFont\":42,\"fNbins\":100,\"fXmin\":0,\"fXmax\":3,\"fXbins\":[],\"fFirst\":0,\"fLast\":0,\"fBits2\":0,\"fTimeDisplay\":false,\"fTimeFormat\":\"\",\"fLabels\":null,\"fModLabs\":null},\"fYaxis\":{\"_typename\":\"TAxis\",\"fUniqueID\":0,\"fBits\":50331648,\"fName\":\"yaxis\",\"fTitle\":\"\",\"fNdivisions\":510,\"fAxisColor\":1,\"fLabelColor\":1,\"fLabelFont\":42,\"fLabelOffset\":0.005,\"fLabelSize\":0.035,\"fTickLength\":0.03,\"fTitleOffset\":0,\"fTitleSize\":0.035,\"fTitleColor\":1,\"fTitleFont\":42,\"fNbins\":1,\"fXmin\":0,\"fXmax\":1,\"fXbins\":[],\"fFirst\":0,\"fLast\":0,\"fBits2\":0,\"fTimeDisplay\":false,\"fTimeFormat\":\"\",\"fLabels\":null,\"fModLabs\":null},\"fZaxis\":{\"_typename\":\"TAxis\",\"fUniqueID\":0,\"fBits\":50331648,\"fName\":\"zaxis\",\"fTitle\":\"\",\"fNdivisions\":510,\"fAxisColor\":1,\"fLabelColor\":1,\"fLabelFont\":42,\"fLabelOffset\":0.005,\"fLabelSize\":0.035,\"fTickLength\":0.03,\"fTitleOffset\":1,\"fTitleSize\":0.035,\"fTitleColor\":1,\"fTitleFont\":42,\"fNbins\":1,\"fXmin\":0,\"fXmax\":1,\"fXbins\":[],\"fFirst\":0,\"fLast\":0,\"fBits2\":0,\"fTimeDisplay\":false,\"fTimeFormat\":\"\",\"fLabels\":null,\"fModLabs\":null},\"fBarOffset\":0,\"fBarWidth\":1000,\"fEntries\":1627,\"fTsumw\":1587,\"fTsumw2\":1587,\"fTsumwx\":1631.79451502487,\"fTsumwx2\":1769.55282229775,\"fMaximum\":-1111,\"fMinimum\":-1111,\"fNormFactor\":0,\"fContour\":[],\"fSumw2\":[0,0,1,1,1,0,1,2,0,0,0,1,2,2,1,7,4,6,5,6,14,17,16,23,26,23,34,30,41,42,31,49,58,73,85,139,183,187,156,111,63,38,13,28,12,9,3,4,3,2,4,2,1,2,1,0,3,1,0,1,0,4,1,0,1,0,0,0,1,1,0,0,0,1,0,0,0,2,0,0,0,0,0,1,0,0,0,0,0,2,0,0,0,0,3,1,0,1,0,0,0,40],\"fOption\":\"\",\"fFunctions\":{\"_typename\":\"TList\",\"name\":\"TList\",\"arr\":[],\"opt\":[]},\"fBufferSize\":0,\"fBuffer\":[],\"fBinStatErrOpt\":0,\"fStatOverflows\":2,\"fArray\":[0,0,1,1,1,0,1,2,0,0,0,1,2,2,1,7,4,6,5,6,14,17,16,23,26,23,34,30,41,42,31,49,58,73,85,139,183,187,156,111,63,38,13,28,12,9,3,4,3,2,4,2,1,2,1,0,3,1,0,1,0,4,1,0,1,0,0,0,1,1,0,0,0,1,0,0,0,2,0,0,0,0,0,1,0,0,0,0,0,2,0,0,0,0,3,1,0,1,0,0,0,40]},\"fLabel\":\"PU200\",\"fOption\":\"l\"}],\"opt\":[\"l\",\"l\"]},\"fEntrySeparation\":0.1,\"fMargin\":0.25,\"fNColumns\":1,\"fColumnSeparation\":0},{\"_typename\":\"TLatex\",\"fUniqueID\":0,\"fBits\":50348040,\"fName\":\"\",\"fTitle\":\"EG, q2, 2.4 < |#eta^{GEN}| <= 2.8\",\"fTextAngle\":0,\"fTextSize\":0.03,\"fTextAlign\":11,\"fTextColor\":1,\"fTextFont\":62,\"fX\":0.15,\"fY\":0.85,\"fLineColor\":1,\"fLineStyle\":1,\"fLineWidth\":2,\"fLimitFactorSize\":3,\"fOriginSize\":0.04}],\"opt\":[\"\",\"HIST\",\"SAME,HIST\",\"\",\"same\"]},\"fExecs\":null,\"fName\":\"c_5b6eb3\",\"fTitle\":\"c_5b6eb3\",\"fNumPaletteColor\":0,\"fNextPaletteColor\":0,\"fDISPLAY\":\"$DISPLAY\",\"fDoubleBuffer\":0,\"fRetained\":true,\"fXsizeUser\":0,\"fYsizeUser\":0,\"fXsizeReal\":20,\"fYsizeReal\":15,\"fWindowTopX\":0,\"fWindowTopY\":0,\"fWindowWidth\":0,\"fWindowHeight\":0,\"fCw\":796,\"fCh\":572,\"fCatt\":{\"_typename\":\"TAttCanvas\",\"fXBetween\":2,\"fYBetween\":2,\"fTitleFromTop\":1.2,\"fXdate\":0.2,\"fYdate\":0.3,\"fAdate\":1},\"kMoveOpaque\":true,\"kResizeOpaque\":true,\"fHighLightColor\":2,\"fBatch\":true,\"kShowEventStatus\":false,\"kAutoExec\":true,\"kMenuBar\":true});\n",
       "       Core.draw(\"root_plot_6\", obj, \"\");\n",
       "     }\n",
       " );\n",
       "</script>\n"
      ],
      "text/plain": [
       "<IPython.core.display.HTML object>"
      ]
     },
     "metadata": {},
     "output_type": "display_data"
    },
    {
     "data": {
      "text/html": [
       "\n",
       "<div id=\"root_plot_7\"\n",
       "     style=\"width: 796px; height: 572px\">\n",
       "</div>\n",
       "\n",
       "<script>\n",
       " requirejs.config({\n",
       "     paths: {\n",
       "       'JSRootCore' : 'https://root.cern.ch/js/notebook//scripts/JSRootCore',\n",
       "     }\n",
       "   });\n",
       " require(['JSRootCore'],\n",
       "     function(Core) {\n",
       "       var obj = Core.JSONR_unref({\"_typename\":\"TCanvas\",\"fUniqueID\":0,\"fBits\":53673992,\"fLineColor\":1,\"fLineStyle\":1,\"fLineWidth\":1,\"fFillColor\":0,\"fFillStyle\":1001,\"fLeftMargin\":0.13,\"fRightMargin\":0.3,\"fBottomMargin\":0.13,\"fTopMargin\":0.1,\"fXfile\":2,\"fYfile\":2,\"fAfile\":1,\"fXstat\":0.99,\"fYstat\":0.99,\"fAstat\":2,\"fFrameFillColor\":0,\"fFrameLineColor\":1,\"fFrameFillStyle\":1001,\"fFrameLineStyle\":1,\"fFrameLineWidth\":1,\"fFrameBorderSize\":1,\"fFrameBorderMode\":0,\"fX1\":-0.684210509804807,\"fY1\":-0.0496672567886875,\"fX2\":4.57894745097596,\"fY2\":0.332388570136866,\"fXtoAbsPixelk\":103.480046204376,\"fXtoPixelk\":103.480046204376,\"fXtoPixel\":151.239998102188,\"fYtoAbsPixelk\":497.640051065433,\"fYtoPixelk\":497.640051065433,\"fYtoPixel\":-1497.1633978284,\"fUtoAbsPixelk\":5e-5,\"fUtoPixelk\":5e-5,\"fUtoPixel\":796,\"fVtoAbsPixelk\":572.00005,\"fVtoPixelk\":572,\"fVtoPixel\":-572,\"fAbsPixeltoXk\":-0.684210509804807,\"fPixeltoXk\":-0.684210509804807,\"fPixeltoX\":0.00661200748841805,\"fAbsPixeltoYk\":0.332388570136866,\"fPixeltoYk\":-0.0496672567886875,\"fPixeltoY\":-6.67929767352366e-4,\"fXlowNDC\":0,\"fYlowNDC\":0,\"fXUpNDC\":0,\"fYUpNDC\":0,\"fWNDC\":1,\"fHNDC\":1,\"fAbsXlowNDC\":0,\"fAbsYlowNDC\":0,\"fAbsWNDC\":1,\"fAbsHNDC\":1,\"fUxmin\":0,\"fUymin\":0,\"fUxmax\":3,\"fUymax\":0.294182986021042,\"fTheta\":30,\"fPhi\":30,\"fAspectRatio\":0,\"fNumber\":0,\"fTickx\":0,\"fTicky\":0,\"fLogx\":0,\"fLogy\":0,\"fLogz\":0,\"fPadPaint\":0,\"fCrosshair\":0,\"fCrosshairPos\":0,\"fBorderSize\":2,\"fBorderMode\":0,\"fModified\":false,\"fGridx\":false,\"fGridy\":false,\"fAbsCoord\":false,\"fEditable\":true,\"fFixedAspectRatio\":false,\"fPrimitives\":{\"_typename\":\"TList\",\"name\":\"TList\",\"arr\":[{\"_typename\":\"TFrame\",\"fUniqueID\":0,\"fBits\":50331656,\"fLineColor\":1,\"fLineStyle\":1,\"fLineWidth\":1,\"fFillColor\":0,\"fFillStyle\":1001,\"fX1\":0,\"fY1\":0,\"fX2\":3,\"fY2\":0.294182986021042,\"fBorderSize\":1,\"fBorderMode\":0},{\"_typename\":\"TH1F\",\"fUniqueID\":0,\"fBits\":50332169,\"fName\":\"EG_EGq3_GENEtaBC_ptResp\",\"fTitle\":\"EG Pt resp.\",\"fLineColor\":1,\"fLineStyle\":1,\"fLineWidth\":1,\"fFillColor\":0,\"fFillStyle\":1001,\"fMarkerColor\":1,\"fMarkerStyle\":1,\"fMarkerSize\":1,\"fNcells\":102,\"fXaxis\":{\"_typename\":\"TAxis\",\"fUniqueID\":0,\"fBits\":50331648,\"fName\":\"xaxis\",\"fTitle\":\" p_{T}^{L1}\\/p_{T}^{GEN}\",\"fNdivisions\":510,\"fAxisColor\":1,\"fLabelColor\":1,\"fLabelFont\":42,\"fLabelOffset\":0.005,\"fLabelSize\":0.035,\"fTickLength\":0.03,\"fTitleOffset\":1,\"fTitleSize\":0.035,\"fTitleColor\":1,\"fTitleFont\":42,\"fNbins\":100,\"fXmin\":0,\"fXmax\":3,\"fXbins\":[],\"fFirst\":0,\"fLast\":0,\"fBits2\":0,\"fTimeDisplay\":false,\"fTimeFormat\":\"\",\"fLabels\":null,\"fModLabs\":null},\"fYaxis\":{\"_typename\":\"TAxis\",\"fUniqueID\":0,\"fBits\":50331656,\"fName\":\"yaxis\",\"fTitle\":\"\",\"fNdivisions\":510,\"fAxisColor\":1,\"fLabelColor\":1,\"fLabelFont\":42,\"fLabelOffset\":0.005,\"fLabelSize\":0.035,\"fTickLength\":0.03,\"fTitleOffset\":0,\"fTitleSize\":0.035,\"fTitleColor\":1,\"fTitleFont\":42,\"fNbins\":1,\"fXmin\":0,\"fXmax\":1,\"fXbins\":[],\"fFirst\":0,\"fLast\":0,\"fBits2\":0,\"fTimeDisplay\":false,\"fTimeFormat\":\"\",\"fLabels\":null,\"fModLabs\":null},\"fZaxis\":{\"_typename\":\"TAxis\",\"fUniqueID\":0,\"fBits\":50331648,\"fName\":\"zaxis\",\"fTitle\":\"\",\"fNdivisions\":510,\"fAxisColor\":1,\"fLabelColor\":1,\"fLabelFont\":42,\"fLabelOffset\":0.005,\"fLabelSize\":0.035,\"fTickLength\":0.03,\"fTitleOffset\":1,\"fTitleSize\":0.035,\"fTitleColor\":1,\"fTitleFont\":42,\"fNbins\":1,\"fXmin\":0,\"fXmax\":1,\"fXbins\":[],\"fFirst\":0,\"fLast\":0,\"fBits2\":0,\"fTimeDisplay\":false,\"fTimeFormat\":\"\",\"fLabels\":null,\"fModLabs\":null},\"fBarOffset\":0,\"fBarWidth\":1000,\"fEntries\":10543,\"fTsumw\":10263,\"fTsumw2\":10263,\"fTsumwx\":10074.765969608,\"fTsumwx2\":10134.1734037979,\"fMaximum\":0.294182986021042,\"fMinimum\":0,\"fNormFactor\":0,\"fContour\":[],\"fSumw2\":[0,0,9.49404623139104e-9,0,9.49404623139104e-9,9.49404623139104e-9,0,3.79761849255642e-8,1.89880924627821e-8,9.49404623139104e-9,4.74702311569552e-8,1.89880924627821e-8,3.79761849255642e-8,2.84821386941731e-8,8.54464160825194e-8,7.59523698511283e-8,8.54464160825194e-8,7.59523698511283e-8,1.13928554776692e-7,1.51904739702257e-7,1.42410693470866e-7,2.08869017090603e-7,2.7532734071034e-7,3.98749941718424e-7,4.46220172875379e-7,5.31666588957898e-7,9.49404623139104e-7,9.87380808064668e-7,1.64246999803065e-6,2.21211277191411e-6,3.75014826139946e-6,5.95276698708218e-6,1.13738673852065e-5,1.94533007281202e-5,2.38870203181799e-5,1.6728509459711e-5,5.1932432885709e-6,8.92440345750758e-7,1.32916647239475e-7,3.79761849255642e-8,1.89880924627821e-8,3.79761849255642e-8,4.74702311569552e-8,3.79761849255642e-8,1.89880924627821e-8,3.79761849255642e-8,3.79761849255642e-8,9.49404623139104e-9,6.64583236197373e-8,3.79761849255642e-8,6.64583236197373e-8,4.74702311569552e-8,2.84821386941731e-8,3.79761849255642e-8,6.64583236197373e-8,3.79761849255642e-8,3.79761849255642e-8,9.49404623139104e-9,1.89880924627821e-8,9.49404623139104e-9,2.84821386941731e-8,1.89880924627821e-8,3.79761849255642e-8,9.49404623139104e-9,9.49404623139104e-9,1.89880924627821e-8,1.89880924627821e-8,1.89880924627821e-8,2.84821386941731e-8,2.84821386941731e-8,0,6.64583236197373e-8,1.89880924627821e-8,1.89880924627821e-8,1.89880924627821e-8,1.89880924627821e-8,0,2.84821386941731e-8,1.89880924627821e-8,2.84821386941731e-8,9.49404623139104e-9,9.49404623139104e-9,9.49404623139104e-9,9.49404623139104e-9,9.49404623139104e-9,2.84821386941731e-8,2.84821386941731e-8,9.49404623139104e-9,0,0,9.49404623139104e-9,2.84821386941731e-8,1.89880924627821e-8,1.89880924627821e-8,0,9.49404623139104e-9,0,1.89880924627821e-8,9.49404623139104e-9,3.79761849255642e-8,9.49404623139104e-9,2.65833294478949e-6],\"fOption\":\"\",\"fFunctions\":{\"_typename\":\"TList\",\"name\":\"TList\",\"arr\":[],\"opt\":[]},\"fBufferSize\":0,\"fBuffer\":[],\"fBinStatErrOpt\":0,\"fStatOverflows\":2,\"fArray\":[0,0,9.74374e-5,0,9.74374e-5,9.74374e-5,0,3.897496e-4,1.948748e-4,9.74374e-5,4.87187e-4,1.948748e-4,3.897496e-4,2.923122e-4,8.769366e-4,7.794992e-4,8.769366e-4,7.794992e-4,0.001169249,0.001558998,0.001461561,0.002143623,0.002825685,0.004092371,0.004579558,0.005456494,0.00974374,0.01013349,0.01685667,0.02270291,0.03848777,0.06109325,0.11673,0.1996492,0.2451525,0.1716847,0.05329826,0.009159115,0.001364124,3.897496e-4,1.948748e-4,3.897496e-4,4.87187e-4,3.897496e-4,1.948748e-4,3.897496e-4,3.897496e-4,9.74374e-5,6.820618e-4,3.897496e-4,6.820618e-4,4.87187e-4,2.923122e-4,3.897496e-4,6.820618e-4,3.897496e-4,3.897496e-4,9.74374e-5,1.948748e-4,9.74374e-5,2.923122e-4,1.948748e-4,3.897496e-4,9.74374e-5,9.74374e-5,1.948748e-4,1.948748e-4,1.948748e-4,2.923122e-4,2.923122e-4,0,6.820618e-4,1.948748e-4,1.948748e-4,1.948748e-4,1.948748e-4,0,2.923122e-4,1.948748e-4,2.923122e-4,9.74374e-5,9.74374e-5,9.74374e-5,9.74374e-5,9.74374e-5,2.923122e-4,2.923122e-4,9.74374e-5,0,0,9.74374e-5,2.923122e-4,1.948748e-4,1.948748e-4,0,9.74374e-5,0,1.948748e-4,9.74374e-5,3.897496e-4,9.74374e-5,0.02728247]},{\"_typename\":\"TH1F\",\"fUniqueID\":0,\"fBits\":50332169,\"fName\":\"EG_EGq3_GENEtaBC_ptResp\",\"fTitle\":\"EG Pt resp.\",\"fLineColor\":2,\"fLineStyle\":1,\"fLineWidth\":1,\"fFillColor\":0,\"fFillStyle\":1001,\"fMarkerColor\":1,\"fMarkerStyle\":1,\"fMarkerSize\":1,\"fNcells\":102,\"fXaxis\":{\"_typename\":\"TAxis\",\"fUniqueID\":0,\"fBits\":50331648,\"fName\":\"xaxis\",\"fTitle\":\" p_{T}^{L1}\\/p_{T}^{GEN}\",\"fNdivisions\":510,\"fAxisColor\":1,\"fLabelColor\":1,\"fLabelFont\":42,\"fLabelOffset\":0.005,\"fLabelSize\":0.035,\"fTickLength\":0.03,\"fTitleOffset\":1,\"fTitleSize\":0.035,\"fTitleColor\":1,\"fTitleFont\":42,\"fNbins\":100,\"fXmin\":0,\"fXmax\":3,\"fXbins\":[],\"fFirst\":0,\"fLast\":0,\"fBits2\":0,\"fTimeDisplay\":false,\"fTimeFormat\":\"\",\"fLabels\":null,\"fModLabs\":null},\"fYaxis\":{\"_typename\":\"TAxis\",\"fUniqueID\":0,\"fBits\":50331656,\"fName\":\"yaxis\",\"fTitle\":\"\",\"fNdivisions\":510,\"fAxisColor\":1,\"fLabelColor\":1,\"fLabelFont\":42,\"fLabelOffset\":0.005,\"fLabelSize\":0.035,\"fTickLength\":0.03,\"fTitleOffset\":0,\"fTitleSize\":0.035,\"fTitleColor\":1,\"fTitleFont\":42,\"fNbins\":1,\"fXmin\":0,\"fXmax\":1,\"fXbins\":[],\"fFirst\":0,\"fLast\":0,\"fBits2\":0,\"fTimeDisplay\":false,\"fTimeFormat\":\"\",\"fLabels\":null,\"fModLabs\":null},\"fZaxis\":{\"_typename\":\"TAxis\",\"fUniqueID\":0,\"fBits\":50331648,\"fName\":\"zaxis\",\"fTitle\":\"\",\"fNdivisions\":510,\"fAxisColor\":1,\"fLabelColor\":1,\"fLabelFont\":42,\"fLabelOffset\":0.005,\"fLabelSize\":0.035,\"fTickLength\":0.03,\"fTitleOffset\":1,\"fTitleSize\":0.035,\"fTitleColor\":1,\"fTitleFont\":42,\"fNbins\":1,\"fXmin\":0,\"fXmax\":1,\"fXbins\":[],\"fFirst\":0,\"fLast\":0,\"fBits2\":0,\"fTimeDisplay\":false,\"fTimeFormat\":\"\",\"fLabels\":null,\"fModLabs\":null},\"fBarOffset\":0,\"fBarWidth\":1000,\"fEntries\":3451,\"fTsumw\":3355,\"fTsumw2\":3355,\"fTsumwx\":3428.69728158414,\"fTsumwx2\":3599.74395442242,\"fMaximum\":0.294182986021042,\"fMinimum\":0,\"fNormFactor\":0,\"fContour\":[],\"fSumw2\":[0,0,0,0,0,8.88413094320597e-8,0,8.88413094320597e-8,8.88413094320597e-8,1.77682618864119e-7,3.55365237728239e-7,1.77682618864119e-7,1.77682618864119e-7,0,0,2.66523928296179e-7,4.44206547160299e-7,2.66523928296179e-7,3.55365237728239e-7,5.33047856592358e-7,4.44206547160299e-7,7.99571784888537e-7,6.21889166024418e-7,1.06609571318472e-6,1.24377833204884e-6,1.3326196414809e-6,1.51030226034502e-6,2.93176321125797e-6,3.28712844898621e-6,5.15279594705946e-6,7.64035261115714e-6,1.14605289167357e-5,1.9278564146757e-5,3.03837278257644e-5,4.86850375687687e-5,6.06786143420968e-5,4.53090678103505e-5,2.31875817617676e-5,1.10163223695754e-5,5.68584380365182e-6,3.02060452069003e-6,2.48755666409767e-6,7.10730475456478e-7,1.15493702261678e-6,6.21889166024418e-7,6.21889166024418e-7,3.55365237728239e-7,5.33047856592358e-7,4.44206547160299e-7,8.88413094320597e-8,8.88413094320597e-8,8.88413094320597e-8,0,8.88413094320597e-8,0,1.77682618864119e-7,0,0,8.88413094320597e-8,1.77682618864119e-7,2.66523928296179e-7,8.88413094320597e-8,0,1.77682618864119e-7,8.88413094320597e-8,8.88413094320597e-8,1.77682618864119e-7,2.66523928296179e-7,0,8.88413094320597e-8,8.88413094320597e-8,0,0,0,0,0,0,0,1.77682618864119e-7,0,8.88413094320597e-8,8.88413094320597e-8,0,8.88413094320597e-8,0,8.88413094320597e-8,8.88413094320597e-8,0,0,0,0,8.88413094320597e-8,0,8.88413094320597e-8,8.88413094320597e-8,8.88413094320597e-8,8.88413094320597e-8,0,0,1.77682618864119e-7,0,8.52876570547773e-6],\"fOption\":\"\",\"fFunctions\":{\"_typename\":\"TList\",\"name\":\"TList\",\"arr\":[],\"opt\":[]},\"fBufferSize\":0,\"fBuffer\":[],\"fBinStatErrOpt\":0,\"fStatOverflows\":2,\"fArray\":[0,0,0,0,0,2.980626e-4,0,2.980626e-4,2.980626e-4,5.961252e-4,0.00119225,5.961252e-4,5.961252e-4,0,0,8.941878e-4,0.001490313,8.941878e-4,0.00119225,0.001788376,0.001490313,0.002682563,0.002086438,0.003576751,0.004172876,0.004470939,0.005067064,0.009836066,0.01102832,0.01728763,0.02563338,0.03845007,0.06467959,0.1019374,0.1633383,0.2035768,0.1520119,0.07779434,0.03695976,0.01907601,0.01013413,0.008345753,0.002384501,0.003874814,0.002086438,0.002086438,0.00119225,0.001788376,0.001490313,2.980626e-4,2.980626e-4,2.980626e-4,0,2.980626e-4,0,5.961252e-4,0,0,2.980626e-4,5.961252e-4,8.941878e-4,2.980626e-4,0,5.961252e-4,2.980626e-4,2.980626e-4,5.961252e-4,8.941878e-4,0,2.980626e-4,2.980626e-4,0,0,0,0,0,0,0,5.961252e-4,0,2.980626e-4,2.980626e-4,0,2.980626e-4,0,2.980626e-4,2.980626e-4,0,0,0,0,2.980626e-4,0,2.980626e-4,2.980626e-4,2.980626e-4,2.980626e-4,0,0,5.961252e-4,0,0.02861401]},{\"_typename\":\"TLegend\",\"fUniqueID\":0,\"fBits\":50331656,\"fLineColor\":1,\"fLineStyle\":1,\"fLineWidth\":1,\"fFillColor\":0,\"fFillStyle\":0,\"fX1\":3.00000006274173,\"fY1\":0.221592380328456,\"fX2\":4.31578955293692,\"fY2\":0.275080196098033,\"fX1NDC\":0.7,\"fY1NDC\":0.71,\"fX2NDC\":0.95,\"fY2NDC\":0.85,\"fBorderSize\":0,\"fInit\":1,\"fShadowColor\":1,\"fCornerRadius\":0,\"fOption\":\"brNDC\",\"fName\":\"TPave\",\"fTextAngle\":0,\"fTextSize\":0.05,\"fTextAlign\":12,\"fTextColor\":1,\"fTextFont\":42,\"fPrimitives\":{\"_typename\":\"TList\",\"name\":\"TList\",\"arr\":[{\"_typename\":\"TLegendEntry\",\"fUniqueID\":0,\"fBits\":50331656,\"fTextAngle\":0,\"fTextSize\":0,\"fTextAlign\":0,\"fTextColor\":0,\"fTextFont\":42,\"fLineColor\":1,\"fLineStyle\":1,\"fLineWidth\":1,\"fFillColor\":0,\"fFillStyle\":0,\"fMarkerColor\":1,\"fMarkerStyle\":21,\"fMarkerSize\":1,\"fObject\":{\"_typename\":\"TH1F\",\"fUniqueID\":0,\"fBits\":50332168,\"fName\":\"EG_EGq3_GENEtaBC_ptResp\",\"fTitle\":\"EG Pt resp.\",\"fLineColor\":1,\"fLineStyle\":1,\"fLineWidth\":1,\"fFillColor\":0,\"fFillStyle\":1001,\"fMarkerColor\":1,\"fMarkerStyle\":1,\"fMarkerSize\":1,\"fNcells\":102,\"fXaxis\":{\"_typename\":\"TAxis\",\"fUniqueID\":0,\"fBits\":50331648,\"fName\":\"xaxis\",\"fTitle\":\" p_{T}^{L1}\\/p_{T}^{GEN}\",\"fNdivisions\":510,\"fAxisColor\":1,\"fLabelColor\":1,\"fLabelFont\":42,\"fLabelOffset\":0.005,\"fLabelSize\":0.035,\"fTickLength\":0.03,\"fTitleOffset\":1,\"fTitleSize\":0.035,\"fTitleColor\":1,\"fTitleFont\":42,\"fNbins\":100,\"fXmin\":0,\"fXmax\":3,\"fXbins\":[],\"fFirst\":0,\"fLast\":0,\"fBits2\":0,\"fTimeDisplay\":false,\"fTimeFormat\":\"\",\"fLabels\":null,\"fModLabs\":null},\"fYaxis\":{\"_typename\":\"TAxis\",\"fUniqueID\":0,\"fBits\":50331648,\"fName\":\"yaxis\",\"fTitle\":\"\",\"fNdivisions\":510,\"fAxisColor\":1,\"fLabelColor\":1,\"fLabelFont\":42,\"fLabelOffset\":0.005,\"fLabelSize\":0.035,\"fTickLength\":0.03,\"fTitleOffset\":0,\"fTitleSize\":0.035,\"fTitleColor\":1,\"fTitleFont\":42,\"fNbins\":1,\"fXmin\":0,\"fXmax\":1,\"fXbins\":[],\"fFirst\":0,\"fLast\":0,\"fBits2\":0,\"fTimeDisplay\":false,\"fTimeFormat\":\"\",\"fLabels\":null,\"fModLabs\":null},\"fZaxis\":{\"_typename\":\"TAxis\",\"fUniqueID\":0,\"fBits\":50331648,\"fName\":\"zaxis\",\"fTitle\":\"\",\"fNdivisions\":510,\"fAxisColor\":1,\"fLabelColor\":1,\"fLabelFont\":42,\"fLabelOffset\":0.005,\"fLabelSize\":0.035,\"fTickLength\":0.03,\"fTitleOffset\":1,\"fTitleSize\":0.035,\"fTitleColor\":1,\"fTitleFont\":42,\"fNbins\":1,\"fXmin\":0,\"fXmax\":1,\"fXbins\":[],\"fFirst\":0,\"fLast\":0,\"fBits2\":0,\"fTimeDisplay\":false,\"fTimeFormat\":\"\",\"fLabels\":null,\"fModLabs\":null},\"fBarOffset\":0,\"fBarWidth\":1000,\"fEntries\":10543,\"fTsumw\":10263,\"fTsumw2\":10263,\"fTsumwx\":10074.765969608,\"fTsumwx2\":10134.1734037979,\"fMaximum\":-1111,\"fMinimum\":-1111,\"fNormFactor\":0,\"fContour\":[],\"fSumw2\":[0,0,1,0,1,1,0,4,2,1,5,2,4,3,9,8,9,8,12,16,15,22,29,42,47,56,100,104,173,233,395,627,1198,2049,2516,1762,547,94,14,4,2,4,5,4,2,4,4,1,7,4,7,5,3,4,7,4,4,1,2,1,3,2,4,1,1,2,2,2,3,3,0,7,2,2,2,2,0,3,2,3,1,1,1,1,1,3,3,1,0,0,1,3,2,2,0,1,0,2,1,4,1,280],\"fOption\":\"\",\"fFunctions\":{\"_typename\":\"TList\",\"name\":\"TList\",\"arr\":[],\"opt\":[]},\"fBufferSize\":0,\"fBuffer\":[],\"fBinStatErrOpt\":0,\"fStatOverflows\":2,\"fArray\":[0,0,1,0,1,1,0,4,2,1,5,2,4,3,9,8,9,8,12,16,15,22,29,42,47,56,100,104,173,233,395,627,1198,2049,2516,1762,547,94,14,4,2,4,5,4,2,4,4,1,7,4,7,5,3,4,7,4,4,1,2,1,3,2,4,1,1,2,2,2,3,3,0,7,2,2,2,2,0,3,2,3,1,1,1,1,1,3,3,1,0,0,1,3,2,2,0,1,0,2,1,4,1,280]},\"fLabel\":\"PU0\",\"fOption\":\"l\"},{\"_typename\":\"TLegendEntry\",\"fUniqueID\":0,\"fBits\":50331656,\"fTextAngle\":0,\"fTextSize\":0,\"fTextAlign\":0,\"fTextColor\":0,\"fTextFont\":42,\"fLineColor\":2,\"fLineStyle\":1,\"fLineWidth\":1,\"fFillColor\":0,\"fFillStyle\":0,\"fMarkerColor\":1,\"fMarkerStyle\":21,\"fMarkerSize\":1,\"fObject\":{\"_typename\":\"TH1F\",\"fUniqueID\":0,\"fBits\":50332168,\"fName\":\"EG_EGq3_GENEtaBC_ptResp\",\"fTitle\":\"EG Pt resp.\",\"fLineColor\":2,\"fLineStyle\":1,\"fLineWidth\":1,\"fFillColor\":0,\"fFillStyle\":1001,\"fMarkerColor\":1,\"fMarkerStyle\":1,\"fMarkerSize\":1,\"fNcells\":102,\"fXaxis\":{\"_typename\":\"TAxis\",\"fUniqueID\":0,\"fBits\":50331648,\"fName\":\"xaxis\",\"fTitle\":\" p_{T}^{L1}\\/p_{T}^{GEN}\",\"fNdivisions\":510,\"fAxisColor\":1,\"fLabelColor\":1,\"fLabelFont\":42,\"fLabelOffset\":0.005,\"fLabelSize\":0.035,\"fTickLength\":0.03,\"fTitleOffset\":1,\"fTitleSize\":0.035,\"fTitleColor\":1,\"fTitleFont\":42,\"fNbins\":100,\"fXmin\":0,\"fXmax\":3,\"fXbins\":[],\"fFirst\":0,\"fLast\":0,\"fBits2\":0,\"fTimeDisplay\":false,\"fTimeFormat\":\"\",\"fLabels\":null,\"fModLabs\":null},\"fYaxis\":{\"_typename\":\"TAxis\",\"fUniqueID\":0,\"fBits\":50331648,\"fName\":\"yaxis\",\"fTitle\":\"\",\"fNdivisions\":510,\"fAxisColor\":1,\"fLabelColor\":1,\"fLabelFont\":42,\"fLabelOffset\":0.005,\"fLabelSize\":0.035,\"fTickLength\":0.03,\"fTitleOffset\":0,\"fTitleSize\":0.035,\"fTitleColor\":1,\"fTitleFont\":42,\"fNbins\":1,\"fXmin\":0,\"fXmax\":1,\"fXbins\":[],\"fFirst\":0,\"fLast\":0,\"fBits2\":0,\"fTimeDisplay\":false,\"fTimeFormat\":\"\",\"fLabels\":null,\"fModLabs\":null},\"fZaxis\":{\"_typename\":\"TAxis\",\"fUniqueID\":0,\"fBits\":50331648,\"fName\":\"zaxis\",\"fTitle\":\"\",\"fNdivisions\":510,\"fAxisColor\":1,\"fLabelColor\":1,\"fLabelFont\":42,\"fLabelOffset\":0.005,\"fLabelSize\":0.035,\"fTickLength\":0.03,\"fTitleOffset\":1,\"fTitleSize\":0.035,\"fTitleColor\":1,\"fTitleFont\":42,\"fNbins\":1,\"fXmin\":0,\"fXmax\":1,\"fXbins\":[],\"fFirst\":0,\"fLast\":0,\"fBits2\":0,\"fTimeDisplay\":false,\"fTimeFormat\":\"\",\"fLabels\":null,\"fModLabs\":null},\"fBarOffset\":0,\"fBarWidth\":1000,\"fEntries\":3451,\"fTsumw\":3355,\"fTsumw2\":3355,\"fTsumwx\":3428.69728158414,\"fTsumwx2\":3599.74395442242,\"fMaximum\":-1111,\"fMinimum\":-1111,\"fNormFactor\":0,\"fContour\":[],\"fSumw2\":[0,0,0,0,0,1,0,1,1,2,4,2,2,0,0,3,5,3,4,6,5,9,7,12,14,15,17,33,37,58,86,129,217,342,548,683,510,261,124,64,34,28,8,13,7,7,4,6,5,1,1,1,0,1,0,2,0,0,1,2,3,1,0,2,1,1,2,3,0,1,1,0,0,0,0,0,0,0,2,0,1,1,0,1,0,1,1,0,0,0,0,1,0,1,1,1,1,0,0,2,0,96],\"fOption\":\"\",\"fFunctions\":{\"_typename\":\"TList\",\"name\":\"TList\",\"arr\":[],\"opt\":[]},\"fBufferSize\":0,\"fBuffer\":[],\"fBinStatErrOpt\":0,\"fStatOverflows\":2,\"fArray\":[0,0,0,0,0,1,0,1,1,2,4,2,2,0,0,3,5,3,4,6,5,9,7,12,14,15,17,33,37,58,86,129,217,342,548,683,510,261,124,64,34,28,8,13,7,7,4,6,5,1,1,1,0,1,0,2,0,0,1,2,3,1,0,2,1,1,2,3,0,1,1,0,0,0,0,0,0,0,2,0,1,1,0,1,0,1,1,0,0,0,0,1,0,1,1,1,1,0,0,2,0,96]},\"fLabel\":\"PU200\",\"fOption\":\"l\"}],\"opt\":[\"l\",\"l\"]},\"fEntrySeparation\":0.1,\"fMargin\":0.25,\"fNColumns\":1,\"fColumnSeparation\":0},{\"_typename\":\"TLatex\",\"fUniqueID\":0,\"fBits\":50348040,\"fName\":\"\",\"fTitle\":\"EG, q3, 1.52 < |#eta^{GEN}| <= 2.4\",\"fTextAngle\":0,\"fTextSize\":0.03,\"fTextAlign\":11,\"fTextColor\":1,\"fTextFont\":62,\"fX\":0.15,\"fY\":0.85,\"fLineColor\":1,\"fLineStyle\":1,\"fLineWidth\":2,\"fLimitFactorSize\":3,\"fOriginSize\":0.04}],\"opt\":[\"\",\"HIST\",\"SAME,HIST\",\"\",\"same\"]},\"fExecs\":null,\"fName\":\"c_84c743\",\"fTitle\":\"c_84c743\",\"fNumPaletteColor\":0,\"fNextPaletteColor\":0,\"fDISPLAY\":\"$DISPLAY\",\"fDoubleBuffer\":0,\"fRetained\":true,\"fXsizeUser\":0,\"fYsizeUser\":0,\"fXsizeReal\":20,\"fYsizeReal\":15,\"fWindowTopX\":0,\"fWindowTopY\":0,\"fWindowWidth\":0,\"fWindowHeight\":0,\"fCw\":796,\"fCh\":572,\"fCatt\":{\"_typename\":\"TAttCanvas\",\"fXBetween\":2,\"fYBetween\":2,\"fTitleFromTop\":1.2,\"fXdate\":0.2,\"fYdate\":0.3,\"fAdate\":1},\"kMoveOpaque\":true,\"kResizeOpaque\":true,\"fHighLightColor\":2,\"fBatch\":true,\"kShowEventStatus\":false,\"kAutoExec\":true,\"kMenuBar\":true});\n",
       "       Core.draw(\"root_plot_7\", obj, \"\");\n",
       "     }\n",
       " );\n",
       "</script>\n"
      ],
      "text/plain": [
       "<IPython.core.display.HTML object>"
      ]
     },
     "metadata": {},
     "output_type": "display_data"
    },
    {
     "data": {
      "text/html": [
       "\n",
       "<div id=\"root_plot_8\"\n",
       "     style=\"width: 796px; height: 572px\">\n",
       "</div>\n",
       "\n",
       "<script>\n",
       " requirejs.config({\n",
       "     paths: {\n",
       "       'JSRootCore' : 'https://root.cern.ch/js/notebook//scripts/JSRootCore',\n",
       "     }\n",
       "   });\n",
       " require(['JSRootCore'],\n",
       "     function(Core) {\n",
       "       var obj = Core.JSONR_unref({\"_typename\":\"TCanvas\",\"fUniqueID\":0,\"fBits\":53673992,\"fLineColor\":1,\"fLineStyle\":1,\"fLineWidth\":1,\"fFillColor\":0,\"fFillStyle\":1001,\"fLeftMargin\":0.13,\"fRightMargin\":0.3,\"fBottomMargin\":0.13,\"fTopMargin\":0.1,\"fXfile\":2,\"fYfile\":2,\"fAfile\":1,\"fXstat\":0.99,\"fYstat\":0.99,\"fAstat\":2,\"fFrameFillColor\":0,\"fFrameLineColor\":1,\"fFrameFillStyle\":1001,\"fFrameLineStyle\":1,\"fFrameLineWidth\":1,\"fFrameBorderSize\":1,\"fFrameBorderMode\":0,\"fX1\":-0.684210509804807,\"fY1\":-0.0482614165447878,\"fX2\":4.57894745097596,\"fY2\":0.322980254503515,\"fXtoAbsPixelk\":103.480046204376,\"fXtoPixelk\":103.480046204376,\"fXtoPixel\":151.239998102188,\"fYtoAbsPixelk\":497.640051065433,\"fYtoPixelk\":497.640051065433,\"fYtoPixel\":-1540.77530786025,\"fUtoAbsPixelk\":5e-5,\"fUtoPixelk\":5e-5,\"fUtoPixel\":796,\"fVtoAbsPixelk\":572.00005,\"fVtoPixelk\":572,\"fVtoPixel\":-572,\"fAbsPixeltoXk\":-0.684210509804807,\"fPixeltoXk\":-0.684210509804807,\"fPixeltoX\":0.00661200748841805,\"fAbsPixeltoYk\":0.322980254503515,\"fPixeltoYk\":-0.0482614165447878,\"fPixeltoY\":-6.49023900434095e-4,\"fXlowNDC\":0,\"fYlowNDC\":0,\"fXUpNDC\":0,\"fYUpNDC\":0,\"fWNDC\":1,\"fHNDC\":1,\"fAbsXlowNDC\":0,\"fAbsYlowNDC\":0,\"fAbsWNDC\":1,\"fAbsHNDC\":1,\"fUxmin\":0,\"fUymin\":0,\"fUxmax\":3,\"fUymax\":0.285856086015701,\"fTheta\":30,\"fPhi\":30,\"fAspectRatio\":0,\"fNumber\":0,\"fTickx\":0,\"fTicky\":0,\"fLogx\":0,\"fLogy\":0,\"fLogz\":0,\"fPadPaint\":0,\"fCrosshair\":0,\"fCrosshairPos\":0,\"fBorderSize\":2,\"fBorderMode\":0,\"fModified\":false,\"fGridx\":false,\"fGridy\":false,\"fAbsCoord\":false,\"fEditable\":true,\"fFixedAspectRatio\":false,\"fPrimitives\":{\"_typename\":\"TList\",\"name\":\"TList\",\"arr\":[{\"_typename\":\"TFrame\",\"fUniqueID\":0,\"fBits\":50331656,\"fLineColor\":1,\"fLineStyle\":1,\"fLineWidth\":1,\"fFillColor\":0,\"fFillStyle\":1001,\"fX1\":0,\"fY1\":0,\"fX2\":3,\"fY2\":0.285856086015701,\"fBorderSize\":1,\"fBorderMode\":0},{\"_typename\":\"TH1F\",\"fUniqueID\":0,\"fBits\":50332169,\"fName\":\"EG_EGq3_GENEtaD_ptResp\",\"fTitle\":\"EG Pt resp.\",\"fLineColor\":1,\"fLineStyle\":1,\"fLineWidth\":1,\"fFillColor\":0,\"fFillStyle\":1001,\"fMarkerColor\":1,\"fMarkerStyle\":1,\"fMarkerSize\":1,\"fNcells\":102,\"fXaxis\":{\"_typename\":\"TAxis\",\"fUniqueID\":0,\"fBits\":50331648,\"fName\":\"xaxis\",\"fTitle\":\" p_{T}^{L1}\\/p_{T}^{GEN}\",\"fNdivisions\":510,\"fAxisColor\":1,\"fLabelColor\":1,\"fLabelFont\":42,\"fLabelOffset\":0.005,\"fLabelSize\":0.035,\"fTickLength\":0.03,\"fTitleOffset\":1,\"fTitleSize\":0.035,\"fTitleColor\":1,\"fTitleFont\":42,\"fNbins\":100,\"fXmin\":0,\"fXmax\":3,\"fXbins\":[],\"fFirst\":0,\"fLast\":0,\"fBits2\":0,\"fTimeDisplay\":false,\"fTimeFormat\":\"\",\"fLabels\":null,\"fModLabs\":null},\"fYaxis\":{\"_typename\":\"TAxis\",\"fUniqueID\":0,\"fBits\":50331656,\"fName\":\"yaxis\",\"fTitle\":\"\",\"fNdivisions\":510,\"fAxisColor\":1,\"fLabelColor\":1,\"fLabelFont\":42,\"fLabelOffset\":0.005,\"fLabelSize\":0.035,\"fTickLength\":0.03,\"fTitleOffset\":0,\"fTitleSize\":0.035,\"fTitleColor\":1,\"fTitleFont\":42,\"fNbins\":1,\"fXmin\":0,\"fXmax\":1,\"fXbins\":[],\"fFirst\":0,\"fLast\":0,\"fBits2\":0,\"fTimeDisplay\":false,\"fTimeFormat\":\"\",\"fLabels\":null,\"fModLabs\":null},\"fZaxis\":{\"_typename\":\"TAxis\",\"fUniqueID\":0,\"fBits\":50331648,\"fName\":\"zaxis\",\"fTitle\":\"\",\"fNdivisions\":510,\"fAxisColor\":1,\"fLabelColor\":1,\"fLabelFont\":42,\"fLabelOffset\":0.005,\"fLabelSize\":0.035,\"fTickLength\":0.03,\"fTitleOffset\":1,\"fTitleSize\":0.035,\"fTitleColor\":1,\"fTitleFont\":42,\"fNbins\":1,\"fXmin\":0,\"fXmax\":1,\"fXbins\":[],\"fFirst\":0,\"fLast\":0,\"fBits2\":0,\"fTimeDisplay\":false,\"fTimeFormat\":\"\",\"fLabels\":null,\"fModLabs\":null},\"fBarOffset\":0,\"fBarWidth\":1000,\"fEntries\":4538,\"fTsumw\":4433,\"fTsumw2\":4433,\"fTsumwx\":4200.28063985705,\"fTsumwx2\":4172.90294192393,\"fMaximum\":0.285856086015701,\"fMinimum\":0,\"fNormFactor\":0,\"fContour\":[],\"fSumw2\":[0,0,5.08867292447916e-8,5.08867292447916e-8,0,2.03546916979166e-7,1.52660187734375e-7,2.54433646223958e-7,3.56207104713541e-7,4.07093833958333e-7,3.56207104713541e-7,5.59754021692707e-7,6.10640750937499e-7,9.6684785565104e-7,8.14187667916665e-7,7.63300938671874e-7,1.01773458489583e-6,1.11950804338541e-6,1.17039477263021e-6,1.221281501875e-6,1.27216823111979e-6,1.88280898205729e-6,2.44256300375e-6,2.13724262828125e-6,2.13724262828125e-6,3.10409048393229e-6,3.30763740091145e-6,3.25675067166666e-6,5.03778619523437e-6,5.75020040466145e-6,6.76793498955728e-6,1.221281501875e-5,2.22883874092187e-5,4.21342118146874e-5,5.37363860824999e-5,3.52645033666406e-5,7.8365563036979e-6,8.65074397161457e-7,1.52660187734375e-7,1.01773458489583e-7,1.52660187734375e-7,1.01773458489583e-7,5.08867292447916e-8,1.52660187734375e-7,5.08867292447916e-8,1.52660187734375e-7,1.01773458489583e-7,1.01773458489583e-7,1.01773458489583e-7,2.03546916979166e-7,0,1.01773458489583e-7,0,1.01773458489583e-7,1.01773458489583e-7,5.08867292447916e-8,5.08867292447916e-8,1.52660187734375e-7,0,0,1.01773458489583e-7,5.08867292447916e-8,1.01773458489583e-7,0,1.01773458489583e-7,5.08867292447916e-8,5.08867292447916e-8,1.01773458489583e-7,1.01773458489583e-7,5.08867292447916e-8,5.08867292447916e-8,0,0,1.01773458489583e-7,1.01773458489583e-7,5.08867292447916e-8,0,0,0,5.08867292447916e-8,0,5.08867292447916e-8,0,5.08867292447916e-8,5.08867292447916e-8,5.08867292447916e-8,5.08867292447916e-8,1.01773458489583e-7,5.08867292447916e-8,0,1.01773458489583e-7,1.01773458489583e-7,5.08867292447916e-8,5.08867292447916e-8,5.08867292447916e-8,1.01773458489583e-7,1.01773458489583e-7,0,5.08867292447916e-8,0,0,5.34310657070312e-6],\"fOption\":\"\",\"fFunctions\":{\"_typename\":\"TList\",\"name\":\"TList\",\"arr\":[],\"opt\":[]},\"fBufferSize\":0,\"fBuffer\":[],\"fBinStatErrOpt\":0,\"fStatOverflows\":2,\"fArray\":[0,0,2.255809e-4,2.255809e-4,0,9.023235e-4,6.767426e-4,0.001127904,0.001579066,0.001804647,0.001579066,0.00248139,0.002706971,0.004286036,0.003609294,0.003383713,0.004511618,0.004962779,0.00518836,0.005413941,0.005639522,0.008346492,0.01082788,0.009474397,0.009474397,0.01376043,0.01466276,0.01443718,0.02233251,0.02549064,0.03000225,0.05413941,0.09880442,0.186781,0.2382134,0.1563275,0.03473945,0.003834875,6.767426e-4,4.511617e-4,6.767426e-4,4.511617e-4,2.255809e-4,6.767426e-4,2.255809e-4,6.767426e-4,4.511617e-4,4.511617e-4,4.511617e-4,9.023235e-4,0,4.511617e-4,0,4.511617e-4,4.511617e-4,2.255809e-4,2.255809e-4,6.767426e-4,0,0,4.511617e-4,2.255809e-4,4.511617e-4,0,4.511617e-4,2.255809e-4,2.255809e-4,4.511617e-4,4.511617e-4,2.255809e-4,2.255809e-4,0,0,4.511617e-4,4.511617e-4,2.255809e-4,0,0,0,2.255809e-4,0,2.255809e-4,0,2.255809e-4,2.255809e-4,2.255809e-4,2.255809e-4,4.511617e-4,2.255809e-4,0,4.511617e-4,4.511617e-4,2.255809e-4,2.255809e-4,2.255809e-4,4.511617e-4,4.511617e-4,0,2.255809e-4,0,0,0.02368599]},{\"_typename\":\"TH1F\",\"fUniqueID\":0,\"fBits\":50332169,\"fName\":\"EG_EGq3_GENEtaD_ptResp\",\"fTitle\":\"EG Pt resp.\",\"fLineColor\":2,\"fLineStyle\":1,\"fLineWidth\":1,\"fFillColor\":0,\"fFillStyle\":1001,\"fMarkerColor\":1,\"fMarkerStyle\":1,\"fMarkerSize\":1,\"fNcells\":102,\"fXaxis\":{\"_typename\":\"TAxis\",\"fUniqueID\":0,\"fBits\":50331648,\"fName\":\"xaxis\",\"fTitle\":\" p_{T}^{L1}\\/p_{T}^{GEN}\",\"fNdivisions\":510,\"fAxisColor\":1,\"fLabelColor\":1,\"fLabelFont\":42,\"fLabelOffset\":0.005,\"fLabelSize\":0.035,\"fTickLength\":0.03,\"fTitleOffset\":1,\"fTitleSize\":0.035,\"fTitleColor\":1,\"fTitleFont\":42,\"fNbins\":100,\"fXmin\":0,\"fXmax\":3,\"fXbins\":[],\"fFirst\":0,\"fLast\":0,\"fBits2\":0,\"fTimeDisplay\":false,\"fTimeFormat\":\"\",\"fLabels\":null,\"fModLabs\":null},\"fYaxis\":{\"_typename\":\"TAxis\",\"fUniqueID\":0,\"fBits\":50331656,\"fName\":\"yaxis\",\"fTitle\":\"\",\"fNdivisions\":510,\"fAxisColor\":1,\"fLabelColor\":1,\"fLabelFont\":42,\"fLabelOffset\":0.005,\"fLabelSize\":0.035,\"fTickLength\":0.03,\"fTitleOffset\":0,\"fTitleSize\":0.035,\"fTitleColor\":1,\"fTitleFont\":42,\"fNbins\":1,\"fXmin\":0,\"fXmax\":1,\"fXbins\":[],\"fFirst\":0,\"fLast\":0,\"fBits2\":0,\"fTimeDisplay\":false,\"fTimeFormat\":\"\",\"fLabels\":null,\"fModLabs\":null},\"fZaxis\":{\"_typename\":\"TAxis\",\"fUniqueID\":0,\"fBits\":50331648,\"fName\":\"zaxis\",\"fTitle\":\"\",\"fNdivisions\":510,\"fAxisColor\":1,\"fLabelColor\":1,\"fLabelFont\":42,\"fLabelOffset\":0.005,\"fLabelSize\":0.035,\"fTickLength\":0.03,\"fTitleOffset\":1,\"fTitleSize\":0.035,\"fTitleColor\":1,\"fTitleFont\":42,\"fNbins\":1,\"fXmin\":0,\"fXmax\":1,\"fXbins\":[],\"fFirst\":0,\"fLast\":0,\"fBits2\":0,\"fTimeDisplay\":false,\"fTimeFormat\":\"\",\"fLabels\":null,\"fModLabs\":null},\"fBarOffset\":0,\"fBarWidth\":1000,\"fEntries\":1627,\"fTsumw\":1584,\"fTsumw2\":1584,\"fTsumwx\":1625.90509454533,\"fTsumwx2\":1743.77157859015,\"fMaximum\":0.285856086015701,\"fMinimum\":0,\"fNormFactor\":0,\"fContour\":[],\"fSumw2\":[0,3.98556269768391e-7,3.98556269768391e-7,0,3.98556269768391e-7,0,7.97112539536782e-7,3.98556269768391e-7,0,0,0,7.97112539536782e-7,7.97112539536782e-7,7.97112539536782e-7,1.19566880930517e-6,2.39133761861035e-6,1.99278134884196e-6,1.19566880930517e-6,1.99278134884196e-6,3.18845015814713e-6,3.98556269768391e-6,3.58700642791552e-6,3.18845015814713e-6,7.57256912559943e-6,5.97834404652587e-6,5.18123150698908e-6,1.03624630139782e-5,9.56535047444139e-6,1.43480257116621e-5,1.35509131721253e-5,1.75364758698092e-5,1.6340807060504e-5,2.5507601265177e-5,3.14859453117029e-5,4.62325272931334e-5,6.89502346699316e-5,9.24650545862667e-5,9.36607233955719e-5,6.33704468931742e-5,2.5507601265177e-5,1.8333588409346e-5,1.19566880930517e-5,6.37690031629426e-6,2.78989388837874e-6,1.19566880930517e-6,2.78989388837874e-6,1.59422507907356e-6,3.98556269768391e-7,1.19566880930517e-6,7.97112539536782e-7,7.97112539536782e-7,0,3.98556269768391e-7,0,3.98556269768391e-7,1.19566880930517e-6,3.98556269768391e-7,0,0,0,0,3.98556269768391e-7,0,3.98556269768391e-7,0,0,7.97112539536782e-7,3.98556269768391e-7,0,0,0,0,0,0,0,0,3.98556269768391e-7,0,0,0,0,0,0,0,0,0,0,0,1.19566880930517e-6,0,0,0,3.98556269768391e-7,3.98556269768391e-7,7.97112539536782e-7,3.98556269768391e-7,0,0,0,0,0,1.71379196000408e-5],\"fOption\":\"\",\"fFunctions\":{\"_typename\":\"TList\",\"name\":\"TList\",\"arr\":[],\"opt\":[]},\"fBufferSize\":0,\"fBuffer\":[],\"fBinStatErrOpt\":0,\"fStatOverflows\":2,\"fArray\":[0,6.313131e-4,6.313131e-4,0,6.313131e-4,0,0.001262626,6.313131e-4,0,0,0,0.001262626,0.001262626,0.001262626,0.001893939,0.003787879,0.003156566,0.001893939,0.003156566,0.005050505,0.006313131,0.005681818,0.005050505,0.01199495,0.009469697,0.008207071,0.01641414,0.01515152,0.02272727,0.02146465,0.02777778,0.02588384,0.04040404,0.04987374,0.07323232,0.1092172,0.1464646,0.1483586,0.1003788,0.04040404,0.0290404,0.01893939,0.01010101,0.004419192,0.001893939,0.004419192,0.002525253,6.313131e-4,0.001893939,0.001262626,0.001262626,0,6.313131e-4,0,6.313131e-4,0.001893939,6.313131e-4,0,0,0,0,6.313131e-4,0,6.313131e-4,0,0,0.001262626,6.313131e-4,0,0,0,0,0,0,0,0,6.313131e-4,0,0,0,0,0,0,0,0,0,0,0,0.001893939,0,0,0,6.313131e-4,6.313131e-4,0.001262626,6.313131e-4,0,0,0,0,0,0.02714646]},{\"_typename\":\"TLegend\",\"fUniqueID\":0,\"fBits\":50331656,\"fLineColor\":1,\"fLineStyle\":1,\"fLineWidth\":1,\"fFillColor\":0,\"fFillStyle\":0,\"fX1\":3.00000006274173,\"fY1\":0.215320169899507,\"fX2\":4.31578955293692,\"fY2\":0.267294003846269,\"fX1NDC\":0.7,\"fY1NDC\":0.71,\"fX2NDC\":0.95,\"fY2NDC\":0.85,\"fBorderSize\":0,\"fInit\":1,\"fShadowColor\":1,\"fCornerRadius\":0,\"fOption\":\"brNDC\",\"fName\":\"TPave\",\"fTextAngle\":0,\"fTextSize\":0.05,\"fTextAlign\":12,\"fTextColor\":1,\"fTextFont\":42,\"fPrimitives\":{\"_typename\":\"TList\",\"name\":\"TList\",\"arr\":[{\"_typename\":\"TLegendEntry\",\"fUniqueID\":0,\"fBits\":50331656,\"fTextAngle\":0,\"fTextSize\":0,\"fTextAlign\":0,\"fTextColor\":0,\"fTextFont\":42,\"fLineColor\":1,\"fLineStyle\":1,\"fLineWidth\":1,\"fFillColor\":0,\"fFillStyle\":0,\"fMarkerColor\":1,\"fMarkerStyle\":21,\"fMarkerSize\":1,\"fObject\":{\"_typename\":\"TH1F\",\"fUniqueID\":0,\"fBits\":50332168,\"fName\":\"EG_EGq3_GENEtaD_ptResp\",\"fTitle\":\"EG Pt resp.\",\"fLineColor\":1,\"fLineStyle\":1,\"fLineWidth\":1,\"fFillColor\":0,\"fFillStyle\":1001,\"fMarkerColor\":1,\"fMarkerStyle\":1,\"fMarkerSize\":1,\"fNcells\":102,\"fXaxis\":{\"_typename\":\"TAxis\",\"fUniqueID\":0,\"fBits\":50331648,\"fName\":\"xaxis\",\"fTitle\":\" p_{T}^{L1}\\/p_{T}^{GEN}\",\"fNdivisions\":510,\"fAxisColor\":1,\"fLabelColor\":1,\"fLabelFont\":42,\"fLabelOffset\":0.005,\"fLabelSize\":0.035,\"fTickLength\":0.03,\"fTitleOffset\":1,\"fTitleSize\":0.035,\"fTitleColor\":1,\"fTitleFont\":42,\"fNbins\":100,\"fXmin\":0,\"fXmax\":3,\"fXbins\":[],\"fFirst\":0,\"fLast\":0,\"fBits2\":0,\"fTimeDisplay\":false,\"fTimeFormat\":\"\",\"fLabels\":null,\"fModLabs\":null},\"fYaxis\":{\"_typename\":\"TAxis\",\"fUniqueID\":0,\"fBits\":50331648,\"fName\":\"yaxis\",\"fTitle\":\"\",\"fNdivisions\":510,\"fAxisColor\":1,\"fLabelColor\":1,\"fLabelFont\":42,\"fLabelOffset\":0.005,\"fLabelSize\":0.035,\"fTickLength\":0.03,\"fTitleOffset\":0,\"fTitleSize\":0.035,\"fTitleColor\":1,\"fTitleFont\":42,\"fNbins\":1,\"fXmin\":0,\"fXmax\":1,\"fXbins\":[],\"fFirst\":0,\"fLast\":0,\"fBits2\":0,\"fTimeDisplay\":false,\"fTimeFormat\":\"\",\"fLabels\":null,\"fModLabs\":null},\"fZaxis\":{\"_typename\":\"TAxis\",\"fUniqueID\":0,\"fBits\":50331648,\"fName\":\"zaxis\",\"fTitle\":\"\",\"fNdivisions\":510,\"fAxisColor\":1,\"fLabelColor\":1,\"fLabelFont\":42,\"fLabelOffset\":0.005,\"fLabelSize\":0.035,\"fTickLength\":0.03,\"fTitleOffset\":1,\"fTitleSize\":0.035,\"fTitleColor\":1,\"fTitleFont\":42,\"fNbins\":1,\"fXmin\":0,\"fXmax\":1,\"fXbins\":[],\"fFirst\":0,\"fLast\":0,\"fBits2\":0,\"fTimeDisplay\":false,\"fTimeFormat\":\"\",\"fLabels\":null,\"fModLabs\":null},\"fBarOffset\":0,\"fBarWidth\":1000,\"fEntries\":4538,\"fTsumw\":4433,\"fTsumw2\":4433,\"fTsumwx\":4200.28063985705,\"fTsumwx2\":4172.90294192393,\"fMaximum\":-1111,\"fMinimum\":-1111,\"fNormFactor\":0,\"fContour\":[],\"fSumw2\":[0,0,1,1,0,4,3,5,7,8,7,11,12,19,16,15,20,22,23,24,25,37,48,42,42,61,65,64,99,113,133,240,438,828,1056,693,154,17,3,2,3,2,1,3,1,3,2,2,2,4,0,2,0,2,2,1,1,3,0,0,2,1,2,0,2,1,1,2,2,1,1,0,0,2,2,1,0,0,0,1,0,1,0,1,1,1,1,2,1,0,2,2,1,1,1,2,2,0,1,0,0,105],\"fOption\":\"\",\"fFunctions\":{\"_typename\":\"TList\",\"name\":\"TList\",\"arr\":[],\"opt\":[]},\"fBufferSize\":0,\"fBuffer\":[],\"fBinStatErrOpt\":0,\"fStatOverflows\":2,\"fArray\":[0,0,1,1,0,4,3,5,7,8,7,11,12,19,16,15,20,22,23,24,25,37,48,42,42,61,65,64,99,113,133,240,438,828,1056,693,154,17,3,2,3,2,1,3,1,3,2,2,2,4,0,2,0,2,2,1,1,3,0,0,2,1,2,0,2,1,1,2,2,1,1,0,0,2,2,1,0,0,0,1,0,1,0,1,1,1,1,2,1,0,2,2,1,1,1,2,2,0,1,0,0,105]},\"fLabel\":\"PU0\",\"fOption\":\"l\"},{\"_typename\":\"TLegendEntry\",\"fUniqueID\":0,\"fBits\":50331656,\"fTextAngle\":0,\"fTextSize\":0,\"fTextAlign\":0,\"fTextColor\":0,\"fTextFont\":42,\"fLineColor\":2,\"fLineStyle\":1,\"fLineWidth\":1,\"fFillColor\":0,\"fFillStyle\":0,\"fMarkerColor\":1,\"fMarkerStyle\":21,\"fMarkerSize\":1,\"fObject\":{\"_typename\":\"TH1F\",\"fUniqueID\":0,\"fBits\":50332168,\"fName\":\"EG_EGq3_GENEtaD_ptResp\",\"fTitle\":\"EG Pt resp.\",\"fLineColor\":2,\"fLineStyle\":1,\"fLineWidth\":1,\"fFillColor\":0,\"fFillStyle\":1001,\"fMarkerColor\":1,\"fMarkerStyle\":1,\"fMarkerSize\":1,\"fNcells\":102,\"fXaxis\":{\"_typename\":\"TAxis\",\"fUniqueID\":0,\"fBits\":50331648,\"fName\":\"xaxis\",\"fTitle\":\" p_{T}^{L1}\\/p_{T}^{GEN}\",\"fNdivisions\":510,\"fAxisColor\":1,\"fLabelColor\":1,\"fLabelFont\":42,\"fLabelOffset\":0.005,\"fLabelSize\":0.035,\"fTickLength\":0.03,\"fTitleOffset\":1,\"fTitleSize\":0.035,\"fTitleColor\":1,\"fTitleFont\":42,\"fNbins\":100,\"fXmin\":0,\"fXmax\":3,\"fXbins\":[],\"fFirst\":0,\"fLast\":0,\"fBits2\":0,\"fTimeDisplay\":false,\"fTimeFormat\":\"\",\"fLabels\":null,\"fModLabs\":null},\"fYaxis\":{\"_typename\":\"TAxis\",\"fUniqueID\":0,\"fBits\":50331648,\"fName\":\"yaxis\",\"fTitle\":\"\",\"fNdivisions\":510,\"fAxisColor\":1,\"fLabelColor\":1,\"fLabelFont\":42,\"fLabelOffset\":0.005,\"fLabelSize\":0.035,\"fTickLength\":0.03,\"fTitleOffset\":0,\"fTitleSize\":0.035,\"fTitleColor\":1,\"fTitleFont\":42,\"fNbins\":1,\"fXmin\":0,\"fXmax\":1,\"fXbins\":[],\"fFirst\":0,\"fLast\":0,\"fBits2\":0,\"fTimeDisplay\":false,\"fTimeFormat\":\"\",\"fLabels\":null,\"fModLabs\":null},\"fZaxis\":{\"_typename\":\"TAxis\",\"fUniqueID\":0,\"fBits\":50331648,\"fName\":\"zaxis\",\"fTitle\":\"\",\"fNdivisions\":510,\"fAxisColor\":1,\"fLabelColor\":1,\"fLabelFont\":42,\"fLabelOffset\":0.005,\"fLabelSize\":0.035,\"fTickLength\":0.03,\"fTitleOffset\":1,\"fTitleSize\":0.035,\"fTitleColor\":1,\"fTitleFont\":42,\"fNbins\":1,\"fXmin\":0,\"fXmax\":1,\"fXbins\":[],\"fFirst\":0,\"fLast\":0,\"fBits2\":0,\"fTimeDisplay\":false,\"fTimeFormat\":\"\",\"fLabels\":null,\"fModLabs\":null},\"fBarOffset\":0,\"fBarWidth\":1000,\"fEntries\":1627,\"fTsumw\":1584,\"fTsumw2\":1584,\"fTsumwx\":1625.90509454533,\"fTsumwx2\":1743.77157859015,\"fMaximum\":-1111,\"fMinimum\":-1111,\"fNormFactor\":0,\"fContour\":[],\"fSumw2\":[0,1,1,0,1,0,2,1,0,0,0,2,2,2,3,6,5,3,5,8,10,9,8,19,15,13,26,24,36,34,44,41,64,79,116,173,232,235,159,64,46,30,16,7,3,7,4,1,3,2,2,0,1,0,1,3,1,0,0,0,0,1,0,1,0,0,2,1,0,0,0,0,0,0,0,0,1,0,0,0,0,0,0,0,0,0,0,0,3,0,0,0,1,1,2,1,0,0,0,0,0,43],\"fOption\":\"\",\"fFunctions\":{\"_typename\":\"TList\",\"name\":\"TList\",\"arr\":[],\"opt\":[]},\"fBufferSize\":0,\"fBuffer\":[],\"fBinStatErrOpt\":0,\"fStatOverflows\":2,\"fArray\":[0,1,1,0,1,0,2,1,0,0,0,2,2,2,3,6,5,3,5,8,10,9,8,19,15,13,26,24,36,34,44,41,64,79,116,173,232,235,159,64,46,30,16,7,3,7,4,1,3,2,2,0,1,0,1,3,1,0,0,0,0,1,0,1,0,0,2,1,0,0,0,0,0,0,0,0,1,0,0,0,0,0,0,0,0,0,0,0,3,0,0,0,1,1,2,1,0,0,0,0,0,43]},\"fLabel\":\"PU200\",\"fOption\":\"l\"}],\"opt\":[\"l\",\"l\"]},\"fEntrySeparation\":0.1,\"fMargin\":0.25,\"fNColumns\":1,\"fColumnSeparation\":0},{\"_typename\":\"TLatex\",\"fUniqueID\":0,\"fBits\":50348040,\"fName\":\"\",\"fTitle\":\"EG, q3, 2.4 < |#eta^{GEN}| <= 2.8\",\"fTextAngle\":0,\"fTextSize\":0.03,\"fTextAlign\":11,\"fTextColor\":1,\"fTextFont\":62,\"fX\":0.15,\"fY\":0.85,\"fLineColor\":1,\"fLineStyle\":1,\"fLineWidth\":2,\"fLimitFactorSize\":3,\"fOriginSize\":0.04}],\"opt\":[\"\",\"HIST\",\"SAME,HIST\",\"\",\"same\"]},\"fExecs\":null,\"fName\":\"c_fcd15c\",\"fTitle\":\"c_fcd15c\",\"fNumPaletteColor\":0,\"fNextPaletteColor\":0,\"fDISPLAY\":\"$DISPLAY\",\"fDoubleBuffer\":0,\"fRetained\":true,\"fXsizeUser\":0,\"fYsizeUser\":0,\"fXsizeReal\":20,\"fYsizeReal\":15,\"fWindowTopX\":0,\"fWindowTopY\":0,\"fWindowWidth\":0,\"fWindowHeight\":0,\"fCw\":796,\"fCh\":572,\"fCatt\":{\"_typename\":\"TAttCanvas\",\"fXBetween\":2,\"fYBetween\":2,\"fTitleFromTop\":1.2,\"fXdate\":0.2,\"fYdate\":0.3,\"fAdate\":1},\"kMoveOpaque\":true,\"kResizeOpaque\":true,\"fHighLightColor\":2,\"fBatch\":true,\"kShowEventStatus\":false,\"kAutoExec\":true,\"kMenuBar\":true});\n",
       "       Core.draw(\"root_plot_8\", obj, \"\");\n",
       "     }\n",
       " );\n",
       "</script>\n"
      ],
      "text/plain": [
       "<IPython.core.display.HTML object>"
      ]
     },
     "metadata": {},
     "output_type": "display_data"
    }
   ],
   "source": [
    "for tp in tps:\n",
    "    for tp_sel in tp_select[tp]:\n",
    "        for gen_sel in gen_select:\n",
    "            hsets, labels, text = hplot.get_histo(histos.EGResoHistos, sample, ['PU0', 'PU200'], tp, tp_sel, gen_sel)            \n",
    "            draw([his.h_ptResp for his in hsets], labels, norm=True, text=text, options='hist')\n"
   ]
  },
  {
   "cell_type": "code",
   "execution_count": 10,
   "metadata": {
    "scrolled": false
   },
   "outputs": [
    {
     "data": {
      "text/html": [
       "\n",
       "<div id=\"root_plot_1\"\n",
       "     style=\"width: 796px; height: 572px\">\n",
       "</div>\n",
       "\n",
       "<script>\n",
       " requirejs.config({\n",
       "     paths: {\n",
       "       'JSRootCore' : 'https://root.cern.ch/js/notebook//scripts/JSRootCore',\n",
       "     }\n",
       "   });\n",
       " require(['JSRootCore'],\n",
       "     function(Core) {\n",
       "       var obj = Core.JSONR_unref({\"_typename\":\"TCanvas\",\"fUniqueID\":0,\"fBits\":53673992,\"fLineColor\":1,\"fLineStyle\":1,\"fLineWidth\":1,\"fFillColor\":0,\"fFillStyle\":1001,\"fLeftMargin\":0.13,\"fRightMargin\":0.3,\"fBottomMargin\":0.13,\"fTopMargin\":0.1,\"fXfile\":2,\"fYfile\":2,\"fAfile\":1,\"fXstat\":0.99,\"fYstat\":0.99,\"fAstat\":2,\"fFrameFillColor\":0,\"fFrameLineColor\":1,\"fFrameFillStyle\":1001,\"fFrameLineStyle\":1,\"fFrameLineWidth\":1,\"fFrameBorderSize\":1,\"fFrameBorderMode\":0,\"fX1\":-0.684210509804807,\"fY1\":-0.0567285402465588,\"fX2\":4.57894745097596,\"fY2\":0.379644852517807,\"fXtoAbsPixelk\":103.480046204376,\"fXtoPixelk\":103.480046204376,\"fXtoPixel\":151.239998102188,\"fYtoAbsPixelk\":497.640051065433,\"fYtoPixelk\":497.640051065433,\"fYtoPixel\":-1310.80402582856,\"fUtoAbsPixelk\":5e-5,\"fUtoPixelk\":5e-5,\"fUtoPixel\":796,\"fVtoAbsPixelk\":572.00005,\"fVtoPixelk\":572,\"fVtoPixel\":-572,\"fAbsPixeltoXk\":-0.684210509804807,\"fPixeltoXk\":-0.684210509804807,\"fPixeltoX\":0.00661200748841805,\"fAbsPixeltoYk\":0.379644852517807,\"fPixeltoYk\":-0.0567285402465588,\"fPixeltoY\":-7.6289054679085e-4,\"fXlowNDC\":0,\"fYlowNDC\":0,\"fXUpNDC\":0,\"fYUpNDC\":0,\"fWNDC\":1,\"fHNDC\":1,\"fAbsXlowNDC\":0,\"fAbsYlowNDC\":0,\"fAbsWNDC\":1,\"fAbsHNDC\":1,\"fUxmin\":0,\"fUymin\":0,\"fUxmax\":3,\"fUymax\":0.336007511615753,\"fTheta\":30,\"fPhi\":30,\"fAspectRatio\":0,\"fNumber\":0,\"fTickx\":0,\"fTicky\":0,\"fLogx\":0,\"fLogy\":0,\"fLogz\":0,\"fPadPaint\":0,\"fCrosshair\":0,\"fCrosshairPos\":0,\"fBorderSize\":2,\"fBorderMode\":0,\"fModified\":false,\"fGridx\":false,\"fGridy\":false,\"fAbsCoord\":false,\"fEditable\":true,\"fFixedAspectRatio\":false,\"fPrimitives\":{\"_typename\":\"TList\",\"name\":\"TList\",\"arr\":[{\"_typename\":\"TFrame\",\"fUniqueID\":0,\"fBits\":50331656,\"fLineColor\":1,\"fLineStyle\":1,\"fLineWidth\":1,\"fFillColor\":0,\"fFillStyle\":1001,\"fX1\":0,\"fY1\":0,\"fX2\":3,\"fY2\":0.336007511615753,\"fBorderSize\":1,\"fBorderMode\":0},{\"_typename\":\"TH1F\",\"fUniqueID\":0,\"fBits\":50332169,\"fName\":\"EG_EGq3_GENEtaBC_ptResp\",\"fTitle\":\"EG Pt resp.\",\"fLineColor\":1,\"fLineStyle\":1,\"fLineWidth\":1,\"fFillColor\":0,\"fFillStyle\":1001,\"fMarkerColor\":1,\"fMarkerStyle\":1,\"fMarkerSize\":1,\"fNcells\":102,\"fXaxis\":{\"_typename\":\"TAxis\",\"fUniqueID\":0,\"fBits\":50331648,\"fName\":\"xaxis\",\"fTitle\":\" p_{T}^{L1}\\/p_{T}^{GEN}\",\"fNdivisions\":510,\"fAxisColor\":1,\"fLabelColor\":1,\"fLabelFont\":42,\"fLabelOffset\":0.005,\"fLabelSize\":0.035,\"fTickLength\":0.03,\"fTitleOffset\":1,\"fTitleSize\":0.035,\"fTitleColor\":1,\"fTitleFont\":42,\"fNbins\":100,\"fXmin\":0,\"fXmax\":3,\"fXbins\":[],\"fFirst\":0,\"fLast\":0,\"fBits2\":0,\"fTimeDisplay\":false,\"fTimeFormat\":\"\",\"fLabels\":null,\"fModLabs\":null},\"fYaxis\":{\"_typename\":\"TAxis\",\"fUniqueID\":0,\"fBits\":50331656,\"fName\":\"yaxis\",\"fTitle\":\"\",\"fNdivisions\":510,\"fAxisColor\":1,\"fLabelColor\":1,\"fLabelFont\":42,\"fLabelOffset\":0.005,\"fLabelSize\":0.035,\"fTickLength\":0.03,\"fTitleOffset\":0,\"fTitleSize\":0.035,\"fTitleColor\":1,\"fTitleFont\":42,\"fNbins\":1,\"fXmin\":0,\"fXmax\":1,\"fXbins\":[],\"fFirst\":0,\"fLast\":0,\"fBits2\":0,\"fTimeDisplay\":false,\"fTimeFormat\":\"\",\"fLabels\":null,\"fModLabs\":null},\"fZaxis\":{\"_typename\":\"TAxis\",\"fUniqueID\":0,\"fBits\":50331648,\"fName\":\"zaxis\",\"fTitle\":\"\",\"fNdivisions\":510,\"fAxisColor\":1,\"fLabelColor\":1,\"fLabelFont\":42,\"fLabelOffset\":0.005,\"fLabelSize\":0.035,\"fTickLength\":0.03,\"fTitleOffset\":1,\"fTitleSize\":0.035,\"fTitleColor\":1,\"fTitleFont\":42,\"fNbins\":1,\"fXmin\":0,\"fXmax\":1,\"fXbins\":[],\"fFirst\":0,\"fLast\":0,\"fBits2\":0,\"fTimeDisplay\":false,\"fTimeFormat\":\"\",\"fLabels\":null,\"fModLabs\":null},\"fBarOffset\":0,\"fBarWidth\":1000,\"fEntries\":108394,\"fTsumw\":108394,\"fTsumw2\":108394,\"fTsumwx\":105707.597615857,\"fTsumwx2\":103936.014061274,\"fMaximum\":0.336007511615753,\"fMinimum\":0,\"fNormFactor\":0,\"fContour\":[],\"fSumw2\":[0,0,3.40446994968322e-10,3.40446994968322e-10,4.25558743710402e-10,6.80893989936644e-10,1.10645273364705e-9,9.36229236162885e-10,2.29801721603617e-9,2.80868770848865e-9,2.46824071352033e-9,2.89379945723074e-9,3.83002869339362e-9,5.19181667326691e-9,6.04293416068771e-9,8.42606312546596e-9,8.51117487420804e-9,1.13198625826967e-8,1.10645273364705e-8,1.38732150449591e-8,1.85543612257735e-8,1.96608139594206e-8,2.57888598688504e-8,3.22573527732485e-8,3.93216279188412e-8,5.06414905015379e-8,6.60467170238544e-8,7.95794850738452e-8,1.1660309577665e-7,1.73117296941392e-7,2.73464048708304e-7,4.74072440493388e-7,9.1597263996227e-7,1.85594679306981e-6,2.58322668607088e-6,1.74657819593623e-6,5.34076223356555e-7,1.02048986741754e-7,2.16183841804884e-8,7.23449864307684e-9,3.74491694465154e-9,1.95757022106785e-9,9.36229236162885e-10,2.55335246226241e-10,2.55335246226241e-10,8.51117487420804e-11,0,0,0,0,0,0,0,0,0,0,0,0,0,0,0,0,0,0,0,0,0,0,0,0,0,0,0,0,0,0,0,0,0,0,0,0,0,0,0,0,0,0,0,0,0,0,0,0,0,0,0,0,0,0,0,0],\"fOption\":\"\",\"fFunctions\":{\"_typename\":\"TList\",\"name\":\"TList\",\"arr\":[],\"opt\":[]},\"fBufferSize\":0,\"fBuffer\":[],\"fBinStatErrOpt\":0,\"fStatOverflows\":2,\"fArray\":[0,0,3.690241e-5,3.690241e-5,4.612801e-5,7.380483e-5,1.199328e-4,1.014816e-4,2.490913e-4,3.044449e-4,2.675425e-4,3.136705e-4,4.151521e-4,5.627618e-4,6.550178e-4,9.133347e-4,9.225603e-4,0.001227005,0.001199328,0.001503773,0.002011181,0.002131114,0.002795358,0.003496503,0.004262228,0.005489234,0.007159068,0.008625939,0.01263908,0.01876488,0.02964186,0.05138661,0.09928594,0.2011735,0.2800063,0.1893186,0.05789066,0.0110615,0.002343303,7.841762e-4,4.059265e-4,2.121889e-4,1.014816e-4,2.767681e-5,2.767681e-5,9.225603e-6,0,0,0,0,0,0,0,0,0,0,0,0,0,0,0,0,0,0,0,0,0,0,0,0,0,0,0,0,0,0,0,0,0,0,0,0,0,0,0,0,0,0,0,0,0,0,0,0,0,0,0,0,0,0,0,0]},{\"_typename\":\"TH1F\",\"fUniqueID\":0,\"fBits\":50332169,\"fName\":\"EG_EGq2_GENEtaBC_ptResp\",\"fTitle\":\"EG Pt resp.\",\"fLineColor\":2,\"fLineStyle\":1,\"fLineWidth\":1,\"fFillColor\":0,\"fFillStyle\":1001,\"fMarkerColor\":1,\"fMarkerStyle\":1,\"fMarkerSize\":1,\"fNcells\":102,\"fXaxis\":{\"_typename\":\"TAxis\",\"fUniqueID\":0,\"fBits\":50331648,\"fName\":\"xaxis\",\"fTitle\":\" p_{T}^{L1}\\/p_{T}^{GEN}\",\"fNdivisions\":510,\"fAxisColor\":1,\"fLabelColor\":1,\"fLabelFont\":42,\"fLabelOffset\":0.005,\"fLabelSize\":0.035,\"fTickLength\":0.03,\"fTitleOffset\":1,\"fTitleSize\":0.035,\"fTitleColor\":1,\"fTitleFont\":42,\"fNbins\":100,\"fXmin\":0,\"fXmax\":3,\"fXbins\":[],\"fFirst\":0,\"fLast\":0,\"fBits2\":0,\"fTimeDisplay\":false,\"fTimeFormat\":\"\",\"fLabels\":null,\"fModLabs\":null},\"fYaxis\":{\"_typename\":\"TAxis\",\"fUniqueID\":0,\"fBits\":50331656,\"fName\":\"yaxis\",\"fTitle\":\"\",\"fNdivisions\":510,\"fAxisColor\":1,\"fLabelColor\":1,\"fLabelFont\":42,\"fLabelOffset\":0.005,\"fLabelSize\":0.035,\"fTickLength\":0.03,\"fTitleOffset\":0,\"fTitleSize\":0.035,\"fTitleColor\":1,\"fTitleFont\":42,\"fNbins\":1,\"fXmin\":0,\"fXmax\":1,\"fXbins\":[],\"fFirst\":0,\"fLast\":0,\"fBits2\":0,\"fTimeDisplay\":false,\"fTimeFormat\":\"\",\"fLabels\":null,\"fModLabs\":null},\"fZaxis\":{\"_typename\":\"TAxis\",\"fUniqueID\":0,\"fBits\":50331648,\"fName\":\"zaxis\",\"fTitle\":\"\",\"fNdivisions\":510,\"fAxisColor\":1,\"fLabelColor\":1,\"fLabelFont\":42,\"fLabelOffset\":0.005,\"fLabelSize\":0.035,\"fTickLength\":0.03,\"fTitleOffset\":1,\"fTitleSize\":0.035,\"fTitleColor\":1,\"fTitleFont\":42,\"fNbins\":1,\"fXmin\":0,\"fXmax\":1,\"fXbins\":[],\"fFirst\":0,\"fLast\":0,\"fBits2\":0,\"fTimeDisplay\":false,\"fTimeFormat\":\"\",\"fLabels\":null,\"fModLabs\":null},\"fBarOffset\":0,\"fBarWidth\":1000,\"fEntries\":108394,\"fTsumw\":108394,\"fTsumw2\":108394,\"fTsumwx\":104882.481098864,\"fTsumwx2\":102583.018512519,\"fMaximum\":0.336007511615753,\"fMinimum\":0,\"fNormFactor\":0,\"fContour\":[],\"fSumw2\":[0,0,2.55335246226241e-10,4.25558743710402e-10,4.25558743710402e-10,6.80893989936644e-10,1.02134098490497e-9,9.36229236162885e-10,2.38312896477825e-9,2.89379945723074e-9,2.63846421100449e-9,2.80868770848865e-9,4.25558743710402e-9,5.78759891446147e-9,7.31961039181892e-9,1.04687450952759e-8,1.31072093062804e-8,1.71074614971582e-8,2.2214166421683e-8,3.00444473059544e-8,3.64278284616104e-8,4.0172745406262e-8,4.31516566122348e-8,4.58752325719814e-8,5.47268544411577e-8,6.68978345112752e-8,8.17923905411393e-8,9.67720583197455e-8,1.41370614660596e-7,1.94820792870622e-7,2.9457176239634e-7,4.8190272137766e-7,8.828641697016e-7,1.76062163447868e-6,2.48688018649485e-6,1.71636352513279e-6,5.37736028552464e-7,1.0145320450056e-7,2.21290546729409e-8,7.14938689433476e-9,3.65980519590946e-9,1.95757022106785e-9,9.36229236162885e-10,2.55335246226241e-10,2.55335246226241e-10,8.51117487420804e-11,0,0,0,0,0,0,0,0,0,0,0,0,0,0,0,0,0,0,0,0,0,0,0,0,0,0,0,0,0,0,0,0,0,0,0,0,0,0,0,0,0,0,0,0,0,0,0,0,0,0,0,0,0,0,0,0],\"fOption\":\"\",\"fFunctions\":{\"_typename\":\"TList\",\"name\":\"TList\",\"arr\":[],\"opt\":[]},\"fBufferSize\":0,\"fBuffer\":[],\"fBinStatErrOpt\":0,\"fStatOverflows\":2,\"fArray\":[0,0,2.767681e-5,4.612801e-5,4.612801e-5,7.380483e-5,1.107072e-4,1.014816e-4,2.583169e-4,3.136705e-4,2.859937e-4,3.044449e-4,4.612801e-4,6.27341e-4,7.934019e-4,0.001134749,0.001420743,0.001854346,0.002407882,0.003256638,0.003948558,0.004354484,0.00467738,0.0049726,0.005932063,0.007251324,0.008865804,0.01048951,0.01532373,0.0211174,0.03192981,0.05223536,0.09569718,0.1908408,0.2695629,0.1860435,0.05828736,0.01099692,0.002398657,7.749507e-4,3.967009e-4,2.121889e-4,1.014816e-4,2.767681e-5,2.767681e-5,9.225603e-6,0,0,0,0,0,0,0,0,0,0,0,0,0,0,0,0,0,0,0,0,0,0,0,0,0,0,0,0,0,0,0,0,0,0,0,0,0,0,0,0,0,0,0,0,0,0,0,0,0,0,0,0,0,0,0,0]},{\"_typename\":\"TLegend\",\"fUniqueID\":0,\"fBits\":50331656,\"fLineColor\":1,\"fLineStyle\":1,\"fLineWidth\":1,\"fFillColor\":0,\"fFillStyle\":0,\"fX1\":3.00000006274173,\"fY1\":0.253096568616141,\"fX2\":4.31578955293692,\"fY2\":0.314188843603152,\"fX1NDC\":0.7,\"fY1NDC\":0.71,\"fX2NDC\":0.95,\"fY2NDC\":0.85,\"fBorderSize\":0,\"fInit\":1,\"fShadowColor\":1,\"fCornerRadius\":0,\"fOption\":\"brNDC\",\"fName\":\"TPave\",\"fTextAngle\":0,\"fTextSize\":0.05,\"fTextAlign\":12,\"fTextColor\":1,\"fTextFont\":42,\"fPrimitives\":{\"_typename\":\"TList\",\"name\":\"TList\",\"arr\":[{\"_typename\":\"TLegendEntry\",\"fUniqueID\":0,\"fBits\":50331656,\"fTextAngle\":0,\"fTextSize\":0,\"fTextAlign\":0,\"fTextColor\":0,\"fTextFont\":42,\"fLineColor\":1,\"fLineStyle\":1,\"fLineWidth\":1,\"fFillColor\":0,\"fFillStyle\":0,\"fMarkerColor\":1,\"fMarkerStyle\":21,\"fMarkerSize\":1,\"fObject\":{\"_typename\":\"TH1F\",\"fUniqueID\":0,\"fBits\":50332168,\"fName\":\"EG_EGq3_GENEtaBC_ptResp\",\"fTitle\":\"EG Pt resp.\",\"fLineColor\":1,\"fLineStyle\":1,\"fLineWidth\":1,\"fFillColor\":0,\"fFillStyle\":1001,\"fMarkerColor\":1,\"fMarkerStyle\":1,\"fMarkerSize\":1,\"fNcells\":102,\"fXaxis\":{\"_typename\":\"TAxis\",\"fUniqueID\":0,\"fBits\":50331648,\"fName\":\"xaxis\",\"fTitle\":\" p_{T}^{L1}\\/p_{T}^{GEN}\",\"fNdivisions\":510,\"fAxisColor\":1,\"fLabelColor\":1,\"fLabelFont\":42,\"fLabelOffset\":0.005,\"fLabelSize\":0.035,\"fTickLength\":0.03,\"fTitleOffset\":1,\"fTitleSize\":0.035,\"fTitleColor\":1,\"fTitleFont\":42,\"fNbins\":100,\"fXmin\":0,\"fXmax\":3,\"fXbins\":[],\"fFirst\":0,\"fLast\":0,\"fBits2\":0,\"fTimeDisplay\":false,\"fTimeFormat\":\"\",\"fLabels\":null,\"fModLabs\":null},\"fYaxis\":{\"_typename\":\"TAxis\",\"fUniqueID\":0,\"fBits\":50331648,\"fName\":\"yaxis\",\"fTitle\":\"\",\"fNdivisions\":510,\"fAxisColor\":1,\"fLabelColor\":1,\"fLabelFont\":42,\"fLabelOffset\":0.005,\"fLabelSize\":0.035,\"fTickLength\":0.03,\"fTitleOffset\":0,\"fTitleSize\":0.035,\"fTitleColor\":1,\"fTitleFont\":42,\"fNbins\":1,\"fXmin\":0,\"fXmax\":1,\"fXbins\":[],\"fFirst\":0,\"fLast\":0,\"fBits2\":0,\"fTimeDisplay\":false,\"fTimeFormat\":\"\",\"fLabels\":null,\"fModLabs\":null},\"fZaxis\":{\"_typename\":\"TAxis\",\"fUniqueID\":0,\"fBits\":50331648,\"fName\":\"zaxis\",\"fTitle\":\"\",\"fNdivisions\":510,\"fAxisColor\":1,\"fLabelColor\":1,\"fLabelFont\":42,\"fLabelOffset\":0.005,\"fLabelSize\":0.035,\"fTickLength\":0.03,\"fTitleOffset\":1,\"fTitleSize\":0.035,\"fTitleColor\":1,\"fTitleFont\":42,\"fNbins\":1,\"fXmin\":0,\"fXmax\":1,\"fXbins\":[],\"fFirst\":0,\"fLast\":0,\"fBits2\":0,\"fTimeDisplay\":false,\"fTimeFormat\":\"\",\"fLabels\":null,\"fModLabs\":null},\"fBarOffset\":0,\"fBarWidth\":1000,\"fEntries\":108394,\"fTsumw\":108394,\"fTsumw2\":108394,\"fTsumwx\":105707.597615857,\"fTsumwx2\":103936.014061274,\"fMaximum\":-1111,\"fMinimum\":-1111,\"fNormFactor\":0,\"fContour\":[],\"fSumw2\":[0,0,4,4,5,8,13,11,27,33,29,34,45,61,71,99,100,133,130,163,218,231,303,379,462,595,776,935,1370,2034,3213,5570,10762,21806,30351,20521,6275,1199,254,85,44,23,11,3,3,1,0,0,0,0,0,0,0,0,0,0,0,0,0,0,0,0,0,0,0,0,0,0,0,0,0,0,0,0,0,0,0,0,0,0,0,0,0,0,0,0,0,0,0,0,0,0,0,0,0,0,0,0,0,0,0,0],\"fOption\":\"\",\"fFunctions\":{\"_typename\":\"TList\",\"name\":\"TList\",\"arr\":[],\"opt\":[]},\"fBufferSize\":0,\"fBuffer\":[],\"fBinStatErrOpt\":0,\"fStatOverflows\":2,\"fArray\":[0,0,4,4,5,8,13,11,27,33,29,34,45,61,71,99,100,133,130,163,218,231,303,379,462,595,776,935,1370,2034,3213,5570,10762,21806,30351,20521,6275,1199,254,85,44,23,11,3,3,1,0,0,0,0,0,0,0,0,0,0,0,0,0,0,0,0,0,0,0,0,0,0,0,0,0,0,0,0,0,0,0,0,0,0,0,0,0,0,0,0,0,0,0,0,0,0,0,0,0,0,0,0,0,0,0,0]},\"fLabel\":\"q3\",\"fOption\":\"l\"},{\"_typename\":\"TLegendEntry\",\"fUniqueID\":0,\"fBits\":50331656,\"fTextAngle\":0,\"fTextSize\":0,\"fTextAlign\":0,\"fTextColor\":0,\"fTextFont\":42,\"fLineColor\":2,\"fLineStyle\":1,\"fLineWidth\":1,\"fFillColor\":0,\"fFillStyle\":0,\"fMarkerColor\":1,\"fMarkerStyle\":21,\"fMarkerSize\":1,\"fObject\":{\"_typename\":\"TH1F\",\"fUniqueID\":0,\"fBits\":50332168,\"fName\":\"EG_EGq2_GENEtaBC_ptResp\",\"fTitle\":\"EG Pt resp.\",\"fLineColor\":2,\"fLineStyle\":1,\"fLineWidth\":1,\"fFillColor\":0,\"fFillStyle\":1001,\"fMarkerColor\":1,\"fMarkerStyle\":1,\"fMarkerSize\":1,\"fNcells\":102,\"fXaxis\":{\"_typename\":\"TAxis\",\"fUniqueID\":0,\"fBits\":50331648,\"fName\":\"xaxis\",\"fTitle\":\" p_{T}^{L1}\\/p_{T}^{GEN}\",\"fNdivisions\":510,\"fAxisColor\":1,\"fLabelColor\":1,\"fLabelFont\":42,\"fLabelOffset\":0.005,\"fLabelSize\":0.035,\"fTickLength\":0.03,\"fTitleOffset\":1,\"fTitleSize\":0.035,\"fTitleColor\":1,\"fTitleFont\":42,\"fNbins\":100,\"fXmin\":0,\"fXmax\":3,\"fXbins\":[],\"fFirst\":0,\"fLast\":0,\"fBits2\":0,\"fTimeDisplay\":false,\"fTimeFormat\":\"\",\"fLabels\":null,\"fModLabs\":null},\"fYaxis\":{\"_typename\":\"TAxis\",\"fUniqueID\":0,\"fBits\":50331648,\"fName\":\"yaxis\",\"fTitle\":\"\",\"fNdivisions\":510,\"fAxisColor\":1,\"fLabelColor\":1,\"fLabelFont\":42,\"fLabelOffset\":0.005,\"fLabelSize\":0.035,\"fTickLength\":0.03,\"fTitleOffset\":0,\"fTitleSize\":0.035,\"fTitleColor\":1,\"fTitleFont\":42,\"fNbins\":1,\"fXmin\":0,\"fXmax\":1,\"fXbins\":[],\"fFirst\":0,\"fLast\":0,\"fBits2\":0,\"fTimeDisplay\":false,\"fTimeFormat\":\"\",\"fLabels\":null,\"fModLabs\":null},\"fZaxis\":{\"_typename\":\"TAxis\",\"fUniqueID\":0,\"fBits\":50331648,\"fName\":\"zaxis\",\"fTitle\":\"\",\"fNdivisions\":510,\"fAxisColor\":1,\"fLabelColor\":1,\"fLabelFont\":42,\"fLabelOffset\":0.005,\"fLabelSize\":0.035,\"fTickLength\":0.03,\"fTitleOffset\":1,\"fTitleSize\":0.035,\"fTitleColor\":1,\"fTitleFont\":42,\"fNbins\":1,\"fXmin\":0,\"fXmax\":1,\"fXbins\":[],\"fFirst\":0,\"fLast\":0,\"fBits2\":0,\"fTimeDisplay\":false,\"fTimeFormat\":\"\",\"fLabels\":null,\"fModLabs\":null},\"fBarOffset\":0,\"fBarWidth\":1000,\"fEntries\":108394,\"fTsumw\":108394,\"fTsumw2\":108394,\"fTsumwx\":104882.481098864,\"fTsumwx2\":102583.018512519,\"fMaximum\":-1111,\"fMinimum\":-1111,\"fNormFactor\":0,\"fContour\":[],\"fSumw2\":[0,0,3,5,5,8,12,11,28,34,31,33,50,68,86,123,154,201,261,353,428,472,507,539,643,786,961,1137,1661,2289,3461,5662,10373,20686,29219,20166,6318,1192,260,84,43,23,11,3,3,1,0,0,0,0,0,0,0,0,0,0,0,0,0,0,0,0,0,0,0,0,0,0,0,0,0,0,0,0,0,0,0,0,0,0,0,0,0,0,0,0,0,0,0,0,0,0,0,0,0,0,0,0,0,0,0,0],\"fOption\":\"\",\"fFunctions\":{\"_typename\":\"TList\",\"name\":\"TList\",\"arr\":[],\"opt\":[]},\"fBufferSize\":0,\"fBuffer\":[],\"fBinStatErrOpt\":0,\"fStatOverflows\":2,\"fArray\":[0,0,3,5,5,8,12,11,28,34,31,33,50,68,86,123,154,201,261,353,428,472,507,539,643,786,961,1137,1661,2289,3461,5662,10373,20686,29219,20166,6318,1192,260,84,43,23,11,3,3,1,0,0,0,0,0,0,0,0,0,0,0,0,0,0,0,0,0,0,0,0,0,0,0,0,0,0,0,0,0,0,0,0,0,0,0,0,0,0,0,0,0,0,0,0,0,0,0,0,0,0,0,0,0,0,0,0]},\"fLabel\":\"q2\",\"fOption\":\"l\"}],\"opt\":[\"l\",\"l\"]},\"fEntrySeparation\":0.1,\"fMargin\":0.25,\"fNColumns\":1,\"fColumnSeparation\":0},{\"_typename\":\"TLatex\",\"fUniqueID\":0,\"fBits\":50348040,\"fName\":\"\",\"fTitle\":\"PU0, EG, 1.52 < |#eta^{GEN}| <= 2.4\",\"fTextAngle\":0,\"fTextSize\":0.03,\"fTextAlign\":11,\"fTextColor\":1,\"fTextFont\":62,\"fX\":0.15,\"fY\":0.85,\"fLineColor\":1,\"fLineStyle\":1,\"fLineWidth\":2,\"fLimitFactorSize\":3,\"fOriginSize\":0.04}],\"opt\":[\"\",\"HIST\",\"SAME,HIST\",\"\",\"same\"]},\"fExecs\":null,\"fName\":\"c_2c512b\",\"fTitle\":\"c_2c512b\",\"fNumPaletteColor\":0,\"fNextPaletteColor\":0,\"fDISPLAY\":\"$DISPLAY\",\"fDoubleBuffer\":0,\"fRetained\":true,\"fXsizeUser\":0,\"fYsizeUser\":0,\"fXsizeReal\":20,\"fYsizeReal\":15,\"fWindowTopX\":0,\"fWindowTopY\":0,\"fWindowWidth\":0,\"fWindowHeight\":0,\"fCw\":796,\"fCh\":572,\"fCatt\":{\"_typename\":\"TAttCanvas\",\"fXBetween\":2,\"fYBetween\":2,\"fTitleFromTop\":1.2,\"fXdate\":0.2,\"fYdate\":0.3,\"fAdate\":1},\"kMoveOpaque\":true,\"kResizeOpaque\":true,\"fHighLightColor\":2,\"fBatch\":true,\"kShowEventStatus\":false,\"kAutoExec\":true,\"kMenuBar\":true});\n",
       "       Core.draw(\"root_plot_1\", obj, \"\");\n",
       "     }\n",
       " );\n",
       "</script>\n"
      ],
      "text/plain": [
       "<IPython.core.display.HTML object>"
      ]
     },
     "metadata": {},
     "output_type": "display_data"
    },
    {
     "data": {
      "text/html": [
       "\n",
       "<div id=\"root_plot_2\"\n",
       "     style=\"width: 796px; height: 572px\">\n",
       "</div>\n",
       "\n",
       "<script>\n",
       " requirejs.config({\n",
       "     paths: {\n",
       "       'JSRootCore' : 'https://root.cern.ch/js/notebook//scripts/JSRootCore',\n",
       "     }\n",
       "   });\n",
       " require(['JSRootCore'],\n",
       "     function(Core) {\n",
       "       var obj = Core.JSONR_unref({\"_typename\":\"TCanvas\",\"fUniqueID\":0,\"fBits\":53673992,\"fLineColor\":1,\"fLineStyle\":1,\"fLineWidth\":1,\"fFillColor\":0,\"fFillStyle\":1001,\"fLeftMargin\":0.13,\"fRightMargin\":0.3,\"fBottomMargin\":0.13,\"fTopMargin\":0.1,\"fXfile\":2,\"fYfile\":2,\"fAfile\":1,\"fXstat\":0.99,\"fYstat\":0.99,\"fAstat\":2,\"fFrameFillColor\":0,\"fFrameLineColor\":1,\"fFrameFillStyle\":1001,\"fFrameLineStyle\":1,\"fFrameLineWidth\":1,\"fFrameBorderSize\":1,\"fFrameBorderMode\":0,\"fX1\":-0.684210509804807,\"fY1\":-0.0539689484894341,\"fX2\":4.57894745097596,\"fY2\":0.361176815069823,\"fXtoAbsPixelk\":103.480046204376,\"fXtoPixelk\":103.480046204376,\"fXtoPixel\":151.239998102188,\"fYtoAbsPixelk\":497.640051065433,\"fYtoPixelk\":497.640051065433,\"fYtoPixel\":-1377.82930770135,\"fUtoAbsPixelk\":5e-5,\"fUtoPixelk\":5e-5,\"fUtoPixel\":796,\"fVtoAbsPixelk\":572.00005,\"fVtoPixelk\":572,\"fVtoPixel\":-572,\"fAbsPixeltoXk\":-0.684210509804807,\"fPixeltoXk\":-0.684210509804807,\"fPixeltoX\":0.00661200748841805,\"fAbsPixeltoYk\":0.361176815069823,\"fPixeltoYk\":-0.0539689484894341,\"fPixeltoY\":-7.25779306921777e-4,\"fXlowNDC\":0,\"fYlowNDC\":0,\"fXUpNDC\":0,\"fYUpNDC\":0,\"fWNDC\":1,\"fHNDC\":1,\"fAbsXlowNDC\":0,\"fAbsYlowNDC\":0,\"fAbsWNDC\":1,\"fAbsHNDC\":1,\"fUxmin\":0,\"fUymin\":0,\"fUxmax\":3,\"fUymax\":0.319662237167358,\"fTheta\":30,\"fPhi\":30,\"fAspectRatio\":0,\"fNumber\":0,\"fTickx\":0,\"fTicky\":0,\"fLogx\":0,\"fLogy\":0,\"fLogz\":0,\"fPadPaint\":0,\"fCrosshair\":0,\"fCrosshairPos\":0,\"fBorderSize\":2,\"fBorderMode\":0,\"fModified\":false,\"fGridx\":false,\"fGridy\":false,\"fAbsCoord\":false,\"fEditable\":true,\"fFixedAspectRatio\":false,\"fPrimitives\":{\"_typename\":\"TList\",\"name\":\"TList\",\"arr\":[{\"_typename\":\"TFrame\",\"fUniqueID\":0,\"fBits\":50331656,\"fLineColor\":1,\"fLineStyle\":1,\"fLineWidth\":1,\"fFillColor\":0,\"fFillStyle\":1001,\"fX1\":0,\"fY1\":0,\"fX2\":3,\"fY2\":0.319662237167358,\"fBorderSize\":1,\"fBorderMode\":0},{\"_typename\":\"TH1F\",\"fUniqueID\":0,\"fBits\":50332169,\"fName\":\"EG_EGq3_GENEtaD_ptResp\",\"fTitle\":\"EG Pt resp.\",\"fLineColor\":1,\"fLineStyle\":1,\"fLineWidth\":1,\"fFillColor\":0,\"fFillStyle\":1001,\"fMarkerColor\":1,\"fMarkerStyle\":1,\"fMarkerSize\":1,\"fNcells\":102,\"fXaxis\":{\"_typename\":\"TAxis\",\"fUniqueID\":0,\"fBits\":50331648,\"fName\":\"xaxis\",\"fTitle\":\" p_{T}^{L1}\\/p_{T}^{GEN}\",\"fNdivisions\":510,\"fAxisColor\":1,\"fLabelColor\":1,\"fLabelFont\":42,\"fLabelOffset\":0.005,\"fLabelSize\":0.035,\"fTickLength\":0.03,\"fTitleOffset\":1,\"fTitleSize\":0.035,\"fTitleColor\":1,\"fTitleFont\":42,\"fNbins\":100,\"fXmin\":0,\"fXmax\":3,\"fXbins\":[],\"fFirst\":0,\"fLast\":0,\"fBits2\":0,\"fTimeDisplay\":false,\"fTimeFormat\":\"\",\"fLabels\":null,\"fModLabs\":null},\"fYaxis\":{\"_typename\":\"TAxis\",\"fUniqueID\":0,\"fBits\":50331656,\"fName\":\"yaxis\",\"fTitle\":\"\",\"fNdivisions\":510,\"fAxisColor\":1,\"fLabelColor\":1,\"fLabelFont\":42,\"fLabelOffset\":0.005,\"fLabelSize\":0.035,\"fTickLength\":0.03,\"fTitleOffset\":0,\"fTitleSize\":0.035,\"fTitleColor\":1,\"fTitleFont\":42,\"fNbins\":1,\"fXmin\":0,\"fXmax\":1,\"fXbins\":[],\"fFirst\":0,\"fLast\":0,\"fBits2\":0,\"fTimeDisplay\":false,\"fTimeFormat\":\"\",\"fLabels\":null,\"fModLabs\":null},\"fZaxis\":{\"_typename\":\"TAxis\",\"fUniqueID\":0,\"fBits\":50331648,\"fName\":\"zaxis\",\"fTitle\":\"\",\"fNdivisions\":510,\"fAxisColor\":1,\"fLabelColor\":1,\"fLabelFont\":42,\"fLabelOffset\":0.005,\"fLabelSize\":0.035,\"fTickLength\":0.03,\"fTitleOffset\":1,\"fTitleSize\":0.035,\"fTitleColor\":1,\"fTitleFont\":42,\"fNbins\":1,\"fXmin\":0,\"fXmax\":1,\"fXbins\":[],\"fFirst\":0,\"fLast\":0,\"fBits2\":0,\"fTimeDisplay\":false,\"fTimeFormat\":\"\",\"fLabels\":null,\"fModLabs\":null},\"fBarOffset\":0,\"fBarWidth\":1000,\"fEntries\":46185,\"fTsumw\":46185,\"fTsumw2\":46185,\"fTsumwx\":42967.9956893623,\"fTsumwx2\":40711.7557822479,\"fMaximum\":0.319662237167358,\"fMinimum\":0,\"fNormFactor\":0,\"fContour\":[],\"fSumw2\":[0,0,3.75049068431441e-9,4.68811335539302e-9,7.03217003308952e-9,8.90741537524673e-9,1.5470774072797e-8,1.73460194149542e-8,2.06276987637293e-8,2.53158121191223e-8,3.04727368100546e-8,3.84425295142227e-8,3.60984728365262e-8,5.01628129027053e-8,5.25068695804018e-8,5.76637942713341e-8,5.57885489291769e-8,6.75088323176594e-8,8.71989084103101e-8,9.46998897789389e-8,8.71989084103101e-8,1.11108286522814e-7,1.33611230628701e-7,1.66428024116452e-7,2.015888742819e-7,2.63940781908627e-7,3.10821915462557e-7,4.07397050583653e-7,5.51790941929758e-7,6.83995738551841e-7,9.06681122933009e-7,1.48519431098851e-6,3.09931173925032e-6,5.76778586114003e-6,5.06363123516e-6,1.48378787698189e-6,2.02057685617439e-7,3.70360955076048e-8,8.90741537524673e-9,4.68811335539302e-9,4.68811335539302e-10,4.68811335539302e-10,4.68811335539302e-10,0,0,0,0,0,0,0,0,0,0,0,0,0,0,0,0,0,0,0,0,0,0,0,0,0,0,0,0,0,0,0,0,0,0,0,0,0,0,0,0,0,0,0,0,0,0,0,0,0,0,0,0,0,0,0,0,0,0,0],\"fOption\":\"\",\"fFunctions\":{\"_typename\":\"TList\",\"name\":\"TList\",\"arr\":[],\"opt\":[]},\"fBufferSize\":0,\"fBuffer\":[],\"fBinStatErrOpt\":0,\"fStatOverflows\":2,\"fArray\":[0,0,1.732164e-4,2.165205e-4,3.247808e-4,4.11389e-4,7.145177e-4,8.011259e-4,9.526903e-4,0.001169211,0.001407383,0.001775468,0.001667208,0.002316769,0.00242503,0.002663202,0.002576594,0.003117895,0.004027281,0.004373714,0.004027281,0.005131536,0.006170835,0.007686478,0.009310382,0.01219011,0.01435531,0.01881563,0.02548447,0.03159034,0.04187507,0.0685937,0.1431417,0.2663852,0.2338638,0.06852874,0.009332034,0.001710512,4.11389e-4,2.165205e-4,2.165205e-5,2.165205e-5,2.165205e-5,0,0,0,0,0,0,0,0,0,0,0,0,0,0,0,0,0,0,0,0,0,0,0,0,0,0,0,0,0,0,0,0,0,0,0,0,0,0,0,0,0,0,0,0,0,0,0,0,0,0,0,0,0,0,0,0,0,0,0]},{\"_typename\":\"TH1F\",\"fUniqueID\":0,\"fBits\":50332169,\"fName\":\"EG_EGq2_GENEtaD_ptResp\",\"fTitle\":\"EG Pt resp.\",\"fLineColor\":2,\"fLineStyle\":1,\"fLineWidth\":1,\"fFillColor\":0,\"fFillStyle\":1001,\"fMarkerColor\":1,\"fMarkerStyle\":1,\"fMarkerSize\":1,\"fNcells\":102,\"fXaxis\":{\"_typename\":\"TAxis\",\"fUniqueID\":0,\"fBits\":50331648,\"fName\":\"xaxis\",\"fTitle\":\" p_{T}^{L1}\\/p_{T}^{GEN}\",\"fNdivisions\":510,\"fAxisColor\":1,\"fLabelColor\":1,\"fLabelFont\":42,\"fLabelOffset\":0.005,\"fLabelSize\":0.035,\"fTickLength\":0.03,\"fTitleOffset\":1,\"fTitleSize\":0.035,\"fTitleColor\":1,\"fTitleFont\":42,\"fNbins\":100,\"fXmin\":0,\"fXmax\":3,\"fXbins\":[],\"fFirst\":0,\"fLast\":0,\"fBits2\":0,\"fTimeDisplay\":false,\"fTimeFormat\":\"\",\"fLabels\":null,\"fModLabs\":null},\"fYaxis\":{\"_typename\":\"TAxis\",\"fUniqueID\":0,\"fBits\":50331656,\"fName\":\"yaxis\",\"fTitle\":\"\",\"fNdivisions\":510,\"fAxisColor\":1,\"fLabelColor\":1,\"fLabelFont\":42,\"fLabelOffset\":0.005,\"fLabelSize\":0.035,\"fTickLength\":0.03,\"fTitleOffset\":0,\"fTitleSize\":0.035,\"fTitleColor\":1,\"fTitleFont\":42,\"fNbins\":1,\"fXmin\":0,\"fXmax\":1,\"fXbins\":[],\"fFirst\":0,\"fLast\":0,\"fBits2\":0,\"fTimeDisplay\":false,\"fTimeFormat\":\"\",\"fLabels\":null,\"fModLabs\":null},\"fZaxis\":{\"_typename\":\"TAxis\",\"fUniqueID\":0,\"fBits\":50331648,\"fName\":\"zaxis\",\"fTitle\":\"\",\"fNdivisions\":510,\"fAxisColor\":1,\"fLabelColor\":1,\"fLabelFont\":42,\"fLabelOffset\":0.005,\"fLabelSize\":0.035,\"fTickLength\":0.03,\"fTitleOffset\":1,\"fTitleSize\":0.035,\"fTitleColor\":1,\"fTitleFont\":42,\"fNbins\":1,\"fXmin\":0,\"fXmax\":1,\"fXbins\":[],\"fFirst\":0,\"fLast\":0,\"fBits2\":0,\"fTimeDisplay\":false,\"fTimeFormat\":\"\",\"fLabels\":null,\"fModLabs\":null},\"fBarOffset\":0,\"fBarWidth\":1000,\"fEntries\":46185,\"fTsumw\":46185,\"fTsumw2\":46185,\"fTsumwx\":41485.1506665908,\"fTsumwx2\":38305.1914949821,\"fMaximum\":0.319662237167358,\"fMinimum\":0,\"fNormFactor\":0,\"fContour\":[],\"fSumw2\":[0,0,3.75049068431441e-9,4.68811335539302e-9,7.03217003308952e-9,8.90741537524673e-9,1.5470774072797e-8,1.73460194149542e-8,2.15653214348079e-8,2.43781894480437e-8,3.00039254745153e-8,3.8911340849762e-8,3.56296615009869e-8,4.82875675605481e-8,5.62573602647162e-8,6.00078509490306e-8,6.56335869755022e-8,1.28454305937769e-7,2.60190291224312e-7,2.86443726014513e-7,2.8878778269221e-7,3.25355066864275e-7,3.2863674621305e-7,3.7598669110252e-7,4.10678729932428e-7,4.55684618144201e-7,4.95064770329503e-7,5.71481018022409e-7,6.70400209821201e-7,7.95104025074655e-7,9.35747425736446e-7,1.41018449730222e-6,2.64737761179044e-6,4.86860571957565e-6,4.37963549660816e-6,1.34173804231348e-6,1.8799334555126e-7,3.65672841720655e-8,7.96979270416813e-9,4.68811335539302e-9,4.68811335539302e-10,4.68811335539302e-10,4.68811335539302e-10,0,0,0,0,0,0,0,0,0,0,0,0,0,0,0,0,0,0,0,0,0,0,0,0,0,0,0,0,0,0,0,0,0,0,0,0,0,0,0,0,0,0,0,0,0,0,0,0,0,0,0,0,0,0,0,0,0,0,0],\"fOption\":\"\",\"fFunctions\":{\"_typename\":\"TList\",\"name\":\"TList\",\"arr\":[],\"opt\":[]},\"fBufferSize\":0,\"fBuffer\":[],\"fBinStatErrOpt\":0,\"fStatOverflows\":2,\"fArray\":[0,0,1.732164e-4,2.165205e-4,3.247808e-4,4.11389e-4,7.145177e-4,8.011259e-4,9.959943e-4,0.001125907,0.001385731,0.00179712,0.001645556,0.002230161,0.002598246,0.002771463,0.003031287,0.005932662,0.01201689,0.0132294,0.01333766,0.01502652,0.01517809,0.01736495,0.0189672,0.02104579,0.02286457,0.02639385,0.03096243,0.03672188,0.0432175,0.06512937,0.1222691,0.2248566,0.2022735,0.06196817,0.008682473,0.00168886,3.680849e-4,2.165205e-4,2.165205e-5,2.165205e-5,2.165205e-5,0,0,0,0,0,0,0,0,0,0,0,0,0,0,0,0,0,0,0,0,0,0,0,0,0,0,0,0,0,0,0,0,0,0,0,0,0,0,0,0,0,0,0,0,0,0,0,0,0,0,0,0,0,0,0,0,0,0,0]},{\"_typename\":\"TLegend\",\"fUniqueID\":0,\"fBits\":50331656,\"fLineColor\":1,\"fLineStyle\":1,\"fLineWidth\":1,\"fFillColor\":0,\"fFillStyle\":0,\"fX1\":3.00000006274173,\"fY1\":0.240784543637638,\"fX2\":4.31578955293692,\"fY2\":0.298904950535934,\"fX1NDC\":0.7,\"fY1NDC\":0.71,\"fX2NDC\":0.95,\"fY2NDC\":0.85,\"fBorderSize\":0,\"fInit\":1,\"fShadowColor\":1,\"fCornerRadius\":0,\"fOption\":\"brNDC\",\"fName\":\"TPave\",\"fTextAngle\":0,\"fTextSize\":0.05,\"fTextAlign\":12,\"fTextColor\":1,\"fTextFont\":42,\"fPrimitives\":{\"_typename\":\"TList\",\"name\":\"TList\",\"arr\":[{\"_typename\":\"TLegendEntry\",\"fUniqueID\":0,\"fBits\":50331656,\"fTextAngle\":0,\"fTextSize\":0,\"fTextAlign\":0,\"fTextColor\":0,\"fTextFont\":42,\"fLineColor\":1,\"fLineStyle\":1,\"fLineWidth\":1,\"fFillColor\":0,\"fFillStyle\":0,\"fMarkerColor\":1,\"fMarkerStyle\":21,\"fMarkerSize\":1,\"fObject\":{\"_typename\":\"TH1F\",\"fUniqueID\":0,\"fBits\":50332168,\"fName\":\"EG_EGq3_GENEtaD_ptResp\",\"fTitle\":\"EG Pt resp.\",\"fLineColor\":1,\"fLineStyle\":1,\"fLineWidth\":1,\"fFillColor\":0,\"fFillStyle\":1001,\"fMarkerColor\":1,\"fMarkerStyle\":1,\"fMarkerSize\":1,\"fNcells\":102,\"fXaxis\":{\"_typename\":\"TAxis\",\"fUniqueID\":0,\"fBits\":50331648,\"fName\":\"xaxis\",\"fTitle\":\" p_{T}^{L1}\\/p_{T}^{GEN}\",\"fNdivisions\":510,\"fAxisColor\":1,\"fLabelColor\":1,\"fLabelFont\":42,\"fLabelOffset\":0.005,\"fLabelSize\":0.035,\"fTickLength\":0.03,\"fTitleOffset\":1,\"fTitleSize\":0.035,\"fTitleColor\":1,\"fTitleFont\":42,\"fNbins\":100,\"fXmin\":0,\"fXmax\":3,\"fXbins\":[],\"fFirst\":0,\"fLast\":0,\"fBits2\":0,\"fTimeDisplay\":false,\"fTimeFormat\":\"\",\"fLabels\":null,\"fModLabs\":null},\"fYaxis\":{\"_typename\":\"TAxis\",\"fUniqueID\":0,\"fBits\":50331648,\"fName\":\"yaxis\",\"fTitle\":\"\",\"fNdivisions\":510,\"fAxisColor\":1,\"fLabelColor\":1,\"fLabelFont\":42,\"fLabelOffset\":0.005,\"fLabelSize\":0.035,\"fTickLength\":0.03,\"fTitleOffset\":0,\"fTitleSize\":0.035,\"fTitleColor\":1,\"fTitleFont\":42,\"fNbins\":1,\"fXmin\":0,\"fXmax\":1,\"fXbins\":[],\"fFirst\":0,\"fLast\":0,\"fBits2\":0,\"fTimeDisplay\":false,\"fTimeFormat\":\"\",\"fLabels\":null,\"fModLabs\":null},\"fZaxis\":{\"_typename\":\"TAxis\",\"fUniqueID\":0,\"fBits\":50331648,\"fName\":\"zaxis\",\"fTitle\":\"\",\"fNdivisions\":510,\"fAxisColor\":1,\"fLabelColor\":1,\"fLabelFont\":42,\"fLabelOffset\":0.005,\"fLabelSize\":0.035,\"fTickLength\":0.03,\"fTitleOffset\":1,\"fTitleSize\":0.035,\"fTitleColor\":1,\"fTitleFont\":42,\"fNbins\":1,\"fXmin\":0,\"fXmax\":1,\"fXbins\":[],\"fFirst\":0,\"fLast\":0,\"fBits2\":0,\"fTimeDisplay\":false,\"fTimeFormat\":\"\",\"fLabels\":null,\"fModLabs\":null},\"fBarOffset\":0,\"fBarWidth\":1000,\"fEntries\":46185,\"fTsumw\":46185,\"fTsumw2\":46185,\"fTsumwx\":42967.9956893623,\"fTsumwx2\":40711.7557822479,\"fMaximum\":-1111,\"fMinimum\":-1111,\"fNormFactor\":0,\"fContour\":[],\"fSumw2\":[0,0,8,10,15,19,33,37,44,54,65,82,77,107,112,123,119,144,186,202,186,237,285,355,430,563,663,869,1177,1459,1934,3168,6611,12303,10801,3165,431,79,19,10,1,1,1,0,0,0,0,0,0,0,0,0,0,0,0,0,0,0,0,0,0,0,0,0,0,0,0,0,0,0,0,0,0,0,0,0,0,0,0,0,0,0,0,0,0,0,0,0,0,0,0,0,0,0,0,0,0,0,0,0,0,0],\"fOption\":\"\",\"fFunctions\":{\"_typename\":\"TList\",\"name\":\"TList\",\"arr\":[],\"opt\":[]},\"fBufferSize\":0,\"fBuffer\":[],\"fBinStatErrOpt\":0,\"fStatOverflows\":2,\"fArray\":[0,0,8,10,15,19,33,37,44,54,65,82,77,107,112,123,119,144,186,202,186,237,285,355,430,563,663,869,1177,1459,1934,3168,6611,12303,10801,3165,431,79,19,10,1,1,1,0,0,0,0,0,0,0,0,0,0,0,0,0,0,0,0,0,0,0,0,0,0,0,0,0,0,0,0,0,0,0,0,0,0,0,0,0,0,0,0,0,0,0,0,0,0,0,0,0,0,0,0,0,0,0,0,0,0,0]},\"fLabel\":\"q3\",\"fOption\":\"l\"},{\"_typename\":\"TLegendEntry\",\"fUniqueID\":0,\"fBits\":50331656,\"fTextAngle\":0,\"fTextSize\":0,\"fTextAlign\":0,\"fTextColor\":0,\"fTextFont\":42,\"fLineColor\":2,\"fLineStyle\":1,\"fLineWidth\":1,\"fFillColor\":0,\"fFillStyle\":0,\"fMarkerColor\":1,\"fMarkerStyle\":21,\"fMarkerSize\":1,\"fObject\":{\"_typename\":\"TH1F\",\"fUniqueID\":0,\"fBits\":50332168,\"fName\":\"EG_EGq2_GENEtaD_ptResp\",\"fTitle\":\"EG Pt resp.\",\"fLineColor\":2,\"fLineStyle\":1,\"fLineWidth\":1,\"fFillColor\":0,\"fFillStyle\":1001,\"fMarkerColor\":1,\"fMarkerStyle\":1,\"fMarkerSize\":1,\"fNcells\":102,\"fXaxis\":{\"_typename\":\"TAxis\",\"fUniqueID\":0,\"fBits\":50331648,\"fName\":\"xaxis\",\"fTitle\":\" p_{T}^{L1}\\/p_{T}^{GEN}\",\"fNdivisions\":510,\"fAxisColor\":1,\"fLabelColor\":1,\"fLabelFont\":42,\"fLabelOffset\":0.005,\"fLabelSize\":0.035,\"fTickLength\":0.03,\"fTitleOffset\":1,\"fTitleSize\":0.035,\"fTitleColor\":1,\"fTitleFont\":42,\"fNbins\":100,\"fXmin\":0,\"fXmax\":3,\"fXbins\":[],\"fFirst\":0,\"fLast\":0,\"fBits2\":0,\"fTimeDisplay\":false,\"fTimeFormat\":\"\",\"fLabels\":null,\"fModLabs\":null},\"fYaxis\":{\"_typename\":\"TAxis\",\"fUniqueID\":0,\"fBits\":50331648,\"fName\":\"yaxis\",\"fTitle\":\"\",\"fNdivisions\":510,\"fAxisColor\":1,\"fLabelColor\":1,\"fLabelFont\":42,\"fLabelOffset\":0.005,\"fLabelSize\":0.035,\"fTickLength\":0.03,\"fTitleOffset\":0,\"fTitleSize\":0.035,\"fTitleColor\":1,\"fTitleFont\":42,\"fNbins\":1,\"fXmin\":0,\"fXmax\":1,\"fXbins\":[],\"fFirst\":0,\"fLast\":0,\"fBits2\":0,\"fTimeDisplay\":false,\"fTimeFormat\":\"\",\"fLabels\":null,\"fModLabs\":null},\"fZaxis\":{\"_typename\":\"TAxis\",\"fUniqueID\":0,\"fBits\":50331648,\"fName\":\"zaxis\",\"fTitle\":\"\",\"fNdivisions\":510,\"fAxisColor\":1,\"fLabelColor\":1,\"fLabelFont\":42,\"fLabelOffset\":0.005,\"fLabelSize\":0.035,\"fTickLength\":0.03,\"fTitleOffset\":1,\"fTitleSize\":0.035,\"fTitleColor\":1,\"fTitleFont\":42,\"fNbins\":1,\"fXmin\":0,\"fXmax\":1,\"fXbins\":[],\"fFirst\":0,\"fLast\":0,\"fBits2\":0,\"fTimeDisplay\":false,\"fTimeFormat\":\"\",\"fLabels\":null,\"fModLabs\":null},\"fBarOffset\":0,\"fBarWidth\":1000,\"fEntries\":46185,\"fTsumw\":46185,\"fTsumw2\":46185,\"fTsumwx\":41485.1506665908,\"fTsumwx2\":38305.1914949821,\"fMaximum\":-1111,\"fMinimum\":-1111,\"fNormFactor\":0,\"fContour\":[],\"fSumw2\":[0,0,8,10,15,19,33,37,46,52,64,83,76,103,120,128,140,274,555,611,616,694,701,802,876,972,1056,1219,1430,1696,1996,3008,5647,10385,9342,2862,401,78,17,10,1,1,1,0,0,0,0,0,0,0,0,0,0,0,0,0,0,0,0,0,0,0,0,0,0,0,0,0,0,0,0,0,0,0,0,0,0,0,0,0,0,0,0,0,0,0,0,0,0,0,0,0,0,0,0,0,0,0,0,0,0,0],\"fOption\":\"\",\"fFunctions\":{\"_typename\":\"TList\",\"name\":\"TList\",\"arr\":[],\"opt\":[]},\"fBufferSize\":0,\"fBuffer\":[],\"fBinStatErrOpt\":0,\"fStatOverflows\":2,\"fArray\":[0,0,8,10,15,19,33,37,46,52,64,83,76,103,120,128,140,274,555,611,616,694,701,802,876,972,1056,1219,1430,1696,1996,3008,5647,10385,9342,2862,401,78,17,10,1,1,1,0,0,0,0,0,0,0,0,0,0,0,0,0,0,0,0,0,0,0,0,0,0,0,0,0,0,0,0,0,0,0,0,0,0,0,0,0,0,0,0,0,0,0,0,0,0,0,0,0,0,0,0,0,0,0,0,0,0,0]},\"fLabel\":\"q2\",\"fOption\":\"l\"}],\"opt\":[\"l\",\"l\"]},\"fEntrySeparation\":0.1,\"fMargin\":0.25,\"fNColumns\":1,\"fColumnSeparation\":0},{\"_typename\":\"TLatex\",\"fUniqueID\":0,\"fBits\":50348040,\"fName\":\"\",\"fTitle\":\"PU0, EG, 2.4 < |#eta^{GEN}| <= 2.8\",\"fTextAngle\":0,\"fTextSize\":0.03,\"fTextAlign\":11,\"fTextColor\":1,\"fTextFont\":62,\"fX\":0.15,\"fY\":0.85,\"fLineColor\":1,\"fLineStyle\":1,\"fLineWidth\":2,\"fLimitFactorSize\":3,\"fOriginSize\":0.04}],\"opt\":[\"\",\"HIST\",\"SAME,HIST\",\"\",\"same\"]},\"fExecs\":null,\"fName\":\"c_836700\",\"fTitle\":\"c_836700\",\"fNumPaletteColor\":0,\"fNextPaletteColor\":0,\"fDISPLAY\":\"$DISPLAY\",\"fDoubleBuffer\":0,\"fRetained\":true,\"fXsizeUser\":0,\"fYsizeUser\":0,\"fXsizeReal\":20,\"fYsizeReal\":15,\"fWindowTopX\":0,\"fWindowTopY\":0,\"fWindowWidth\":0,\"fWindowHeight\":0,\"fCw\":796,\"fCh\":572,\"fCatt\":{\"_typename\":\"TAttCanvas\",\"fXBetween\":2,\"fYBetween\":2,\"fTitleFromTop\":1.2,\"fXdate\":0.2,\"fYdate\":0.3,\"fAdate\":1},\"kMoveOpaque\":true,\"kResizeOpaque\":true,\"fHighLightColor\":2,\"fBatch\":true,\"kShowEventStatus\":false,\"kAutoExec\":true,\"kMenuBar\":true});\n",
       "       Core.draw(\"root_plot_2\", obj, \"\");\n",
       "     }\n",
       " );\n",
       "</script>\n"
      ],
      "text/plain": [
       "<IPython.core.display.HTML object>"
      ]
     },
     "metadata": {},
     "output_type": "display_data"
    },
    {
     "data": {
      "text/html": [
       "\n",
       "<div id=\"root_plot_3\"\n",
       "     style=\"width: 796px; height: 572px\">\n",
       "</div>\n",
       "\n",
       "<script>\n",
       " requirejs.config({\n",
       "     paths: {\n",
       "       'JSRootCore' : 'https://root.cern.ch/js/notebook//scripts/JSRootCore',\n",
       "     }\n",
       "   });\n",
       " require(['JSRootCore'],\n",
       "     function(Core) {\n",
       "       var obj = Core.JSONR_unref({\"_typename\":\"TCanvas\",\"fUniqueID\":0,\"fBits\":53673992,\"fLineColor\":1,\"fLineStyle\":1,\"fLineWidth\":1,\"fFillColor\":0,\"fFillStyle\":1001,\"fLeftMargin\":0.13,\"fRightMargin\":0.3,\"fBottomMargin\":0.13,\"fTopMargin\":0.1,\"fXfile\":2,\"fYfile\":2,\"fAfile\":1,\"fXstat\":0.99,\"fYstat\":0.99,\"fAstat\":2,\"fFrameFillColor\":0,\"fFrameLineColor\":1,\"fFrameFillStyle\":1001,\"fFrameLineStyle\":1,\"fFrameLineWidth\":1,\"fFrameBorderSize\":1,\"fFrameBorderMode\":0,\"fX1\":-0.684210509804807,\"fY1\":-0.0505144367921312,\"fX2\":4.57894745097596,\"fY2\":0.338058159484054,\"fXtoAbsPixelk\":103.480046204376,\"fXtoPixelk\":103.480046204376,\"fXtoPixel\":151.239998102188,\"fYtoAbsPixelk\":497.640051065433,\"fYtoPixelk\":497.640051065433,\"fYtoPixel\":-1472.05439982556,\"fUtoAbsPixelk\":5e-5,\"fUtoPixelk\":5e-5,\"fUtoPixel\":796,\"fVtoAbsPixelk\":572.00005,\"fVtoPixelk\":572,\"fVtoPixel\":-572,\"fAbsPixeltoXk\":-0.684210509804807,\"fPixeltoXk\":-0.684210509804807,\"fPixeltoX\":0.00661200748841805,\"fAbsPixeltoYk\":0.338058159484054,\"fPixeltoYk\":-0.0505144367921312,\"fPixeltoY\":-6.79322720762562e-4,\"fXlowNDC\":0,\"fYlowNDC\":0,\"fXUpNDC\":0,\"fYUpNDC\":0,\"fWNDC\":1,\"fHNDC\":1,\"fAbsXlowNDC\":0,\"fAbsYlowNDC\":0,\"fAbsWNDC\":1,\"fAbsHNDC\":1,\"fUxmin\":0,\"fUymin\":0,\"fUxmax\":3,\"fUymax\":0.29920089840889,\"fTheta\":30,\"fPhi\":30,\"fAspectRatio\":0,\"fNumber\":0,\"fTickx\":0,\"fTicky\":0,\"fLogx\":0,\"fLogy\":0,\"fLogz\":0,\"fPadPaint\":0,\"fCrosshair\":0,\"fCrosshairPos\":0,\"fBorderSize\":2,\"fBorderMode\":0,\"fModified\":false,\"fGridx\":false,\"fGridy\":false,\"fAbsCoord\":false,\"fEditable\":true,\"fFixedAspectRatio\":false,\"fPrimitives\":{\"_typename\":\"TList\",\"name\":\"TList\",\"arr\":[{\"_typename\":\"TFrame\",\"fUniqueID\":0,\"fBits\":50331656,\"fLineColor\":1,\"fLineStyle\":1,\"fLineWidth\":1,\"fFillColor\":0,\"fFillStyle\":1001,\"fX1\":0,\"fY1\":0,\"fX2\":3,\"fY2\":0.29920089840889,\"fBorderSize\":1,\"fBorderMode\":0},{\"_typename\":\"TH1F\",\"fUniqueID\":0,\"fBits\":50332169,\"fName\":\"EG_EGq3_GENEtaBC_ptResp\",\"fTitle\":\"EG Pt resp.\",\"fLineColor\":1,\"fLineStyle\":1,\"fLineWidth\":1,\"fFillColor\":0,\"fFillStyle\":1001,\"fMarkerColor\":1,\"fMarkerStyle\":1,\"fMarkerSize\":1,\"fNcells\":102,\"fXaxis\":{\"_typename\":\"TAxis\",\"fUniqueID\":0,\"fBits\":50331648,\"fName\":\"xaxis\",\"fTitle\":\" p_{T}^{L1}\\/p_{T}^{GEN}\",\"fNdivisions\":510,\"fAxisColor\":1,\"fLabelColor\":1,\"fLabelFont\":42,\"fLabelOffset\":0.005,\"fLabelSize\":0.035,\"fTickLength\":0.03,\"fTitleOffset\":1,\"fTitleSize\":0.035,\"fTitleColor\":1,\"fTitleFont\":42,\"fNbins\":100,\"fXmin\":0,\"fXmax\":3,\"fXbins\":[],\"fFirst\":0,\"fLast\":0,\"fBits2\":0,\"fTimeDisplay\":false,\"fTimeFormat\":\"\",\"fLabels\":null,\"fModLabs\":null},\"fYaxis\":{\"_typename\":\"TAxis\",\"fUniqueID\":0,\"fBits\":50331656,\"fName\":\"yaxis\",\"fTitle\":\"\",\"fNdivisions\":510,\"fAxisColor\":1,\"fLabelColor\":1,\"fLabelFont\":42,\"fLabelOffset\":0.005,\"fLabelSize\":0.035,\"fTickLength\":0.03,\"fTitleOffset\":0,\"fTitleSize\":0.035,\"fTitleColor\":1,\"fTitleFont\":42,\"fNbins\":1,\"fXmin\":0,\"fXmax\":1,\"fXbins\":[],\"fFirst\":0,\"fLast\":0,\"fBits2\":0,\"fTimeDisplay\":false,\"fTimeFormat\":\"\",\"fLabels\":null,\"fModLabs\":null},\"fZaxis\":{\"_typename\":\"TAxis\",\"fUniqueID\":0,\"fBits\":50331648,\"fName\":\"zaxis\",\"fTitle\":\"\",\"fNdivisions\":510,\"fAxisColor\":1,\"fLabelColor\":1,\"fLabelFont\":42,\"fLabelOffset\":0.005,\"fLabelSize\":0.035,\"fTickLength\":0.03,\"fTitleOffset\":1,\"fTitleSize\":0.035,\"fTitleColor\":1,\"fTitleFont\":42,\"fNbins\":1,\"fXmin\":0,\"fXmax\":1,\"fXbins\":[],\"fFirst\":0,\"fLast\":0,\"fBits2\":0,\"fTimeDisplay\":false,\"fTimeFormat\":\"\",\"fLabels\":null,\"fModLabs\":null},\"fBarOffset\":0,\"fBarWidth\":1000,\"fEntries\":90478,\"fTsumw\":90477,\"fTsumw2\":90477,\"fTsumwx\":92133.8075368702,\"fTsumwx2\":94821.6032638164,\"fMaximum\":0.29920089840889,\"fMinimum\":0,\"fNormFactor\":0,\"fContour\":[],\"fSumw2\":[0,4.88633915265335e-10,4.88633915265335e-10,9.7726783053067e-10,1.099426309347e-9,7.32950872898002e-10,1.95453566106134e-9,2.32101109751034e-9,1.58806022461234e-9,2.19885261869401e-9,3.29827892804101e-9,2.19885261869401e-9,5.37497306791868e-9,4.51986371620435e-9,5.98576546200035e-9,6.84087481371469e-9,9.03972743240869e-9,9.89483678412303e-9,1.25823233180824e-8,1.47811759367764e-8,1.58806022461234e-8,2.00339905258787e-8,2.13777337928584e-8,2.84629255642058e-8,3.70140190813491e-8,4.62980634713905e-8,6.20565072386975e-8,6.86530650947795e-8,9.63830397860873e-8,1.36206703880212e-7,1.97896735682461e-7,3.02464393549242e-7,5.35909246567256e-7,1.00414269587026e-6,2.02648700508416e-6,2.75577312361767e-6,1.88966950880987e-6,8.39228749468213e-7,3.5083915116051e-7,1.88734849771236e-7,1.10309106371149e-7,6.80422727006979e-8,4.55651125984925e-8,3.10282536193488e-8,2.07669413987767e-8,1.45368589791437e-8,1.19715309240007e-8,8.06245960187802e-9,5.49713154673502e-9,5.13065611028602e-9,4.03122980093901e-9,3.29827892804101e-9,2.93180349159201e-9,1.83237718224501e-9,1.465901745796e-9,8.55109351714336e-10,8.55109351714336e-10,1.099426309347e-9,6.10792394081668e-10,6.10792394081668e-10,8.55109351714336e-10,6.10792394081668e-10,2.44316957632667e-10,6.10792394081668e-10,1.22158478816334e-10,2.44316957632667e-10,0,0,0,0,1.22158478816334e-10,2.44316957632667e-10,3.66475436449001e-10,0,0,0,1.22158478816334e-10,1.22158478816334e-10,0,0,2.44316957632667e-10,0,1.22158478816334e-10,0,0,0,0,0,1.22158478816334e-10,0,0,0,0,0,0,0,0,0,0,0,0,1.22158478816334e-10],\"fOption\":\"\",\"fFunctions\":{\"_typename\":\"TList\",\"name\":\"TList\",\"arr\":[],\"opt\":[]},\"fBufferSize\":0,\"fBuffer\":[],\"fBinStatErrOpt\":0,\"fStatOverflows\":2,\"fArray\":[0,4.421013e-5,4.421013e-5,8.842026e-5,9.94728e-5,6.631519e-5,1.768405e-4,2.099981e-4,1.436829e-4,1.989456e-4,2.984184e-4,1.989456e-4,4.863114e-4,4.089437e-4,5.415741e-4,6.189418e-4,8.178874e-4,8.952551e-4,0.001138411,0.001337356,0.001436829,0.001812615,0.001934193,0.00257524,0.003348917,0.00418891,0.005614687,0.006211523,0.008720448,0.01232357,0.0179051,0.02736607,0.04848746,0.09085182,0.1833505,0.2493341,0.1709716,0.0759309,0.03174287,0.01707616,0.009980437,0.006156261,0.004122595,0.002807343,0.001878931,0.001315251,0.001083148,7.294671e-4,4.97364e-4,4.642064e-4,3.647336e-4,2.984184e-4,2.652608e-4,1.65788e-4,1.326304e-4,7.736773e-5,7.736773e-5,9.94728e-5,5.526266e-5,5.526266e-5,7.736773e-5,5.526266e-5,2.210506e-5,5.526266e-5,1.105253e-5,2.210506e-5,0,0,0,0,1.105253e-5,2.210506e-5,3.31576e-5,0,0,0,1.105253e-5,1.105253e-5,0,0,2.210506e-5,0,1.105253e-5,0,0,0,0,0,1.105253e-5,0,0,0,0,0,0,0,0,0,0,0,0,1.105253e-5]},{\"_typename\":\"TH1F\",\"fUniqueID\":0,\"fBits\":50332169,\"fName\":\"EG_EGq2_GENEtaBC_ptResp\",\"fTitle\":\"EG Pt resp.\",\"fLineColor\":2,\"fLineStyle\":1,\"fLineWidth\":1,\"fFillColor\":0,\"fFillStyle\":1001,\"fMarkerColor\":1,\"fMarkerStyle\":1,\"fMarkerSize\":1,\"fNcells\":102,\"fXaxis\":{\"_typename\":\"TAxis\",\"fUniqueID\":0,\"fBits\":50331648,\"fName\":\"xaxis\",\"fTitle\":\" p_{T}^{L1}\\/p_{T}^{GEN}\",\"fNdivisions\":510,\"fAxisColor\":1,\"fLabelColor\":1,\"fLabelFont\":42,\"fLabelOffset\":0.005,\"fLabelSize\":0.035,\"fTickLength\":0.03,\"fTitleOffset\":1,\"fTitleSize\":0.035,\"fTitleColor\":1,\"fTitleFont\":42,\"fNbins\":100,\"fXmin\":0,\"fXmax\":3,\"fXbins\":[],\"fFirst\":0,\"fLast\":0,\"fBits2\":0,\"fTimeDisplay\":false,\"fTimeFormat\":\"\",\"fLabels\":null,\"fModLabs\":null},\"fYaxis\":{\"_typename\":\"TAxis\",\"fUniqueID\":0,\"fBits\":50331656,\"fName\":\"yaxis\",\"fTitle\":\"\",\"fNdivisions\":510,\"fAxisColor\":1,\"fLabelColor\":1,\"fLabelFont\":42,\"fLabelOffset\":0.005,\"fLabelSize\":0.035,\"fTickLength\":0.03,\"fTitleOffset\":0,\"fTitleSize\":0.035,\"fTitleColor\":1,\"fTitleFont\":42,\"fNbins\":1,\"fXmin\":0,\"fXmax\":1,\"fXbins\":[],\"fFirst\":0,\"fLast\":0,\"fBits2\":0,\"fTimeDisplay\":false,\"fTimeFormat\":\"\",\"fLabels\":null,\"fModLabs\":null},\"fZaxis\":{\"_typename\":\"TAxis\",\"fUniqueID\":0,\"fBits\":50331648,\"fName\":\"zaxis\",\"fTitle\":\"\",\"fNdivisions\":510,\"fAxisColor\":1,\"fLabelColor\":1,\"fLabelFont\":42,\"fLabelOffset\":0.005,\"fLabelSize\":0.035,\"fTickLength\":0.03,\"fTitleOffset\":1,\"fTitleSize\":0.035,\"fTitleColor\":1,\"fTitleFont\":42,\"fNbins\":1,\"fXmin\":0,\"fXmax\":1,\"fXbins\":[],\"fFirst\":0,\"fLast\":0,\"fBits2\":0,\"fTimeDisplay\":false,\"fTimeFormat\":\"\",\"fLabels\":null,\"fModLabs\":null},\"fBarOffset\":0,\"fBarWidth\":1000,\"fEntries\":90485,\"fTsumw\":90484,\"fTsumw2\":90484,\"fTsumwx\":92222.4808769505,\"fTsumwx2\":95369.9083826363,\"fMaximum\":0.29920089840889,\"fMinimum\":0,\"fNormFactor\":0,\"fContour\":[],\"fSumw2\":[0,3.66418736284861e-10,4.88558315046482e-10,8.54977051331343e-10,9.77116630092963e-10,8.54977051331343e-10,1.58781452390107e-9,1.83209368142431e-9,2.07637283894755e-9,1.83209368142431e-9,3.17562904780213e-9,1.95423326018593e-9,5.00772272922644e-9,5.00772272922644e-9,6.47339767436588e-9,6.96195598941236e-9,9.77116630092963e-9,1.33132140850166e-8,1.86873555505279e-8,2.85806614302192e-8,3.38326633169689e-8,4.25045734090439e-8,5.26421584462584e-8,5.04436460285492e-8,5.99705331719556e-8,6.83981641065074e-8,8.59862634481808e-8,8.83069154446516e-8,1.1981892676515e-7,1.5450656713345e-7,2.08125842209801e-7,3.05348946904051e-7,4.86237663050011e-7,8.46427280818029e-7,1.67954134755104e-6,2.48114340296356e-6,1.96107307659658e-6,9.95437566907206e-7,4.73413007280041e-7,2.53073207194077e-7,1.49498844404223e-7,9.49024526977791e-8,6.29018830622345e-8,4.67794586657006e-8,3.43212216320153e-8,2.45500553310857e-8,1.61224243965339e-8,1.24582370336853e-8,9.52688714340639e-9,7.69479346198208e-9,6.71767683188912e-9,5.00772272922644e-9,5.49628104427292e-9,3.54204778408699e-9,2.44279157523241e-9,1.95423326018593e-9,1.09925620885458e-9,9.77116630092963e-10,9.77116630092963e-10,1.34353536637782e-9,8.54977051331343e-10,7.32837472569722e-10,1.09925620885458e-9,8.54977051331343e-10,2.44279157523241e-10,4.88558315046482e-10,6.10697893808102e-10,3.66418736284861e-10,1.2213957876162e-10,0,0,0,3.66418736284861e-10,2.44279157523241e-10,1.2213957876162e-10,1.2213957876162e-10,1.2213957876162e-10,0,0,0,1.2213957876162e-10,0,2.44279157523241e-10,0,2.44279157523241e-10,0,0,0,0,0,0,0,0,1.2213957876162e-10,0,0,0,1.2213957876162e-10,0,1.2213957876162e-10,0,1.2213957876162e-10],\"fOption\":\"\",\"fFunctions\":{\"_typename\":\"TList\",\"name\":\"TList\",\"arr\":[],\"opt\":[]},\"fBufferSize\":0,\"fBuffer\":[],\"fBinStatErrOpt\":0,\"fStatOverflows\":2,\"fArray\":[0,3.315503e-5,4.420671e-5,7.736174e-5,8.841342e-5,7.736174e-5,1.436718e-4,1.657752e-4,1.878785e-4,1.657752e-4,2.873436e-4,1.768268e-4,4.531188e-4,4.531188e-4,5.857389e-4,6.299456e-4,8.841342e-4,0.001204633,0.001690907,0.002586093,0.003061315,0.003845984,0.004763273,0.004564343,0.005426374,0.006188939,0.007780381,0.007990363,0.0108417,0.01398037,0.01883206,0.02762919,0.04399673,0.07658812,0.1519716,0.2245038,0.1774457,0.09007117,0.0428363,0.02289908,0.01352725,0.008587154,0.005691614,0.004232793,0.003105521,0.002221387,0.001458821,0.001127271,8.620308e-4,6.962557e-4,6.078423e-4,4.531188e-4,4.973255e-4,3.204987e-4,2.210336e-4,1.768268e-4,9.94651e-5,8.841342e-5,8.841342e-5,1.215685e-4,7.736174e-5,6.631007e-5,9.94651e-5,7.736174e-5,2.210336e-5,4.420671e-5,5.525839e-5,3.315503e-5,1.105168e-5,0,0,0,3.315503e-5,2.210336e-5,1.105168e-5,1.105168e-5,1.105168e-5,0,0,0,1.105168e-5,0,2.210336e-5,0,2.210336e-5,0,0,0,0,0,0,0,0,1.105168e-5,0,0,0,1.105168e-5,0,1.105168e-5,0,1.105168e-5]},{\"_typename\":\"TLegend\",\"fUniqueID\":0,\"fBits\":50331656,\"fLineColor\":1,\"fLineStyle\":1,\"fLineWidth\":1,\"fFillColor\":0,\"fFillStyle\":0,\"fX1\":3.00000006274173,\"fY1\":0.22537210656396,\"fX2\":4.31578955293692,\"fY2\":0.279772270042626,\"fX1NDC\":0.7,\"fY1NDC\":0.71,\"fX2NDC\":0.95,\"fY2NDC\":0.85,\"fBorderSize\":0,\"fInit\":1,\"fShadowColor\":1,\"fCornerRadius\":0,\"fOption\":\"brNDC\",\"fName\":\"TPave\",\"fTextAngle\":0,\"fTextSize\":0.05,\"fTextAlign\":12,\"fTextColor\":1,\"fTextFont\":42,\"fPrimitives\":{\"_typename\":\"TList\",\"name\":\"TList\",\"arr\":[{\"_typename\":\"TLegendEntry\",\"fUniqueID\":0,\"fBits\":50331656,\"fTextAngle\":0,\"fTextSize\":0,\"fTextAlign\":0,\"fTextColor\":0,\"fTextFont\":42,\"fLineColor\":1,\"fLineStyle\":1,\"fLineWidth\":1,\"fFillColor\":0,\"fFillStyle\":0,\"fMarkerColor\":1,\"fMarkerStyle\":21,\"fMarkerSize\":1,\"fObject\":{\"_typename\":\"TH1F\",\"fUniqueID\":0,\"fBits\":50332168,\"fName\":\"EG_EGq3_GENEtaBC_ptResp\",\"fTitle\":\"EG Pt resp.\",\"fLineColor\":1,\"fLineStyle\":1,\"fLineWidth\":1,\"fFillColor\":0,\"fFillStyle\":1001,\"fMarkerColor\":1,\"fMarkerStyle\":1,\"fMarkerSize\":1,\"fNcells\":102,\"fXaxis\":{\"_typename\":\"TAxis\",\"fUniqueID\":0,\"fBits\":50331648,\"fName\":\"xaxis\",\"fTitle\":\" p_{T}^{L1}\\/p_{T}^{GEN}\",\"fNdivisions\":510,\"fAxisColor\":1,\"fLabelColor\":1,\"fLabelFont\":42,\"fLabelOffset\":0.005,\"fLabelSize\":0.035,\"fTickLength\":0.03,\"fTitleOffset\":1,\"fTitleSize\":0.035,\"fTitleColor\":1,\"fTitleFont\":42,\"fNbins\":100,\"fXmin\":0,\"fXmax\":3,\"fXbins\":[],\"fFirst\":0,\"fLast\":0,\"fBits2\":0,\"fTimeDisplay\":false,\"fTimeFormat\":\"\",\"fLabels\":null,\"fModLabs\":null},\"fYaxis\":{\"_typename\":\"TAxis\",\"fUniqueID\":0,\"fBits\":50331648,\"fName\":\"yaxis\",\"fTitle\":\"\",\"fNdivisions\":510,\"fAxisColor\":1,\"fLabelColor\":1,\"fLabelFont\":42,\"fLabelOffset\":0.005,\"fLabelSize\":0.035,\"fTickLength\":0.03,\"fTitleOffset\":0,\"fTitleSize\":0.035,\"fTitleColor\":1,\"fTitleFont\":42,\"fNbins\":1,\"fXmin\":0,\"fXmax\":1,\"fXbins\":[],\"fFirst\":0,\"fLast\":0,\"fBits2\":0,\"fTimeDisplay\":false,\"fTimeFormat\":\"\",\"fLabels\":null,\"fModLabs\":null},\"fZaxis\":{\"_typename\":\"TAxis\",\"fUniqueID\":0,\"fBits\":50331648,\"fName\":\"zaxis\",\"fTitle\":\"\",\"fNdivisions\":510,\"fAxisColor\":1,\"fLabelColor\":1,\"fLabelFont\":42,\"fLabelOffset\":0.005,\"fLabelSize\":0.035,\"fTickLength\":0.03,\"fTitleOffset\":1,\"fTitleSize\":0.035,\"fTitleColor\":1,\"fTitleFont\":42,\"fNbins\":1,\"fXmin\":0,\"fXmax\":1,\"fXbins\":[],\"fFirst\":0,\"fLast\":0,\"fBits2\":0,\"fTimeDisplay\":false,\"fTimeFormat\":\"\",\"fLabels\":null,\"fModLabs\":null},\"fBarOffset\":0,\"fBarWidth\":1000,\"fEntries\":90478,\"fTsumw\":90477,\"fTsumw2\":90477,\"fTsumwx\":92133.8075368702,\"fTsumwx2\":94821.6032638164,\"fMaximum\":-1111,\"fMinimum\":-1111,\"fNormFactor\":0,\"fContour\":[],\"fSumw2\":[0,4,4,8,9,6,16,19,13,18,27,18,44,37,49,56,74,81,103,121,130,164,175,233,303,379,508,562,789,1115,1620,2476,4387,8220,16589,22559,15469,6870,2872,1545,903,557,373,254,170,119,98,66,45,42,33,27,24,15,12,7,7,9,5,5,7,5,2,5,1,2,0,0,0,0,1,2,3,0,0,0,1,1,0,0,2,0,1,0,0,0,0,0,1,0,0,0,0,0,0,0,0,0,0,0,0,1],\"fOption\":\"\",\"fFunctions\":{\"_typename\":\"TList\",\"name\":\"TList\",\"arr\":[],\"opt\":[]},\"fBufferSize\":0,\"fBuffer\":[],\"fBinStatErrOpt\":0,\"fStatOverflows\":2,\"fArray\":[0,4,4,8,9,6,16,19,13,18,27,18,44,37,49,56,74,81,103,121,130,164,175,233,303,379,508,562,789,1115,1620,2476,4387,8220,16589,22559,15469,6870,2872,1545,903,557,373,254,170,119,98,66,45,42,33,27,24,15,12,7,7,9,5,5,7,5,2,5,1,2,0,0,0,0,1,2,3,0,0,0,1,1,0,0,2,0,1,0,0,0,0,0,1,0,0,0,0,0,0,0,0,0,0,0,0,1]},\"fLabel\":\"q3\",\"fOption\":\"l\"},{\"_typename\":\"TLegendEntry\",\"fUniqueID\":0,\"fBits\":50331656,\"fTextAngle\":0,\"fTextSize\":0,\"fTextAlign\":0,\"fTextColor\":0,\"fTextFont\":42,\"fLineColor\":2,\"fLineStyle\":1,\"fLineWidth\":1,\"fFillColor\":0,\"fFillStyle\":0,\"fMarkerColor\":1,\"fMarkerStyle\":21,\"fMarkerSize\":1,\"fObject\":{\"_typename\":\"TH1F\",\"fUniqueID\":0,\"fBits\":50332168,\"fName\":\"EG_EGq2_GENEtaBC_ptResp\",\"fTitle\":\"EG Pt resp.\",\"fLineColor\":2,\"fLineStyle\":1,\"fLineWidth\":1,\"fFillColor\":0,\"fFillStyle\":1001,\"fMarkerColor\":1,\"fMarkerStyle\":1,\"fMarkerSize\":1,\"fNcells\":102,\"fXaxis\":{\"_typename\":\"TAxis\",\"fUniqueID\":0,\"fBits\":50331648,\"fName\":\"xaxis\",\"fTitle\":\" p_{T}^{L1}\\/p_{T}^{GEN}\",\"fNdivisions\":510,\"fAxisColor\":1,\"fLabelColor\":1,\"fLabelFont\":42,\"fLabelOffset\":0.005,\"fLabelSize\":0.035,\"fTickLength\":0.03,\"fTitleOffset\":1,\"fTitleSize\":0.035,\"fTitleColor\":1,\"fTitleFont\":42,\"fNbins\":100,\"fXmin\":0,\"fXmax\":3,\"fXbins\":[],\"fFirst\":0,\"fLast\":0,\"fBits2\":0,\"fTimeDisplay\":false,\"fTimeFormat\":\"\",\"fLabels\":null,\"fModLabs\":null},\"fYaxis\":{\"_typename\":\"TAxis\",\"fUniqueID\":0,\"fBits\":50331648,\"fName\":\"yaxis\",\"fTitle\":\"\",\"fNdivisions\":510,\"fAxisColor\":1,\"fLabelColor\":1,\"fLabelFont\":42,\"fLabelOffset\":0.005,\"fLabelSize\":0.035,\"fTickLength\":0.03,\"fTitleOffset\":0,\"fTitleSize\":0.035,\"fTitleColor\":1,\"fTitleFont\":42,\"fNbins\":1,\"fXmin\":0,\"fXmax\":1,\"fXbins\":[],\"fFirst\":0,\"fLast\":0,\"fBits2\":0,\"fTimeDisplay\":false,\"fTimeFormat\":\"\",\"fLabels\":null,\"fModLabs\":null},\"fZaxis\":{\"_typename\":\"TAxis\",\"fUniqueID\":0,\"fBits\":50331648,\"fName\":\"zaxis\",\"fTitle\":\"\",\"fNdivisions\":510,\"fAxisColor\":1,\"fLabelColor\":1,\"fLabelFont\":42,\"fLabelOffset\":0.005,\"fLabelSize\":0.035,\"fTickLength\":0.03,\"fTitleOffset\":1,\"fTitleSize\":0.035,\"fTitleColor\":1,\"fTitleFont\":42,\"fNbins\":1,\"fXmin\":0,\"fXmax\":1,\"fXbins\":[],\"fFirst\":0,\"fLast\":0,\"fBits2\":0,\"fTimeDisplay\":false,\"fTimeFormat\":\"\",\"fLabels\":null,\"fModLabs\":null},\"fBarOffset\":0,\"fBarWidth\":1000,\"fEntries\":90485,\"fTsumw\":90484,\"fTsumw2\":90484,\"fTsumwx\":92222.4808769505,\"fTsumwx2\":95369.9083826363,\"fMaximum\":-1111,\"fMinimum\":-1111,\"fNormFactor\":0,\"fContour\":[],\"fSumw2\":[0,3,4,7,8,7,13,15,17,15,26,16,41,41,53,57,80,109,153,234,277,348,431,413,491,560,704,723,981,1265,1704,2500,3981,6930,13751,20314,16056,8150,3876,2072,1224,777,515,383,281,201,132,102,78,63,55,41,45,29,20,16,9,8,8,11,7,6,9,7,2,4,5,3,1,0,0,0,3,2,1,1,1,0,0,0,1,0,2,0,2,0,0,0,0,0,0,0,0,1,0,0,0,1,0,1,0,1],\"fOption\":\"\",\"fFunctions\":{\"_typename\":\"TList\",\"name\":\"TList\",\"arr\":[],\"opt\":[]},\"fBufferSize\":0,\"fBuffer\":[],\"fBinStatErrOpt\":0,\"fStatOverflows\":2,\"fArray\":[0,3,4,7,8,7,13,15,17,15,26,16,41,41,53,57,80,109,153,234,277,348,431,413,491,560,704,723,981,1265,1704,2500,3981,6930,13751,20314,16056,8150,3876,2072,1224,777,515,383,281,201,132,102,78,63,55,41,45,29,20,16,9,8,8,11,7,6,9,7,2,4,5,3,1,0,0,0,3,2,1,1,1,0,0,0,1,0,2,0,2,0,0,0,0,0,0,0,0,1,0,0,0,1,0,1,0,1]},\"fLabel\":\"q2\",\"fOption\":\"l\"}],\"opt\":[\"l\",\"l\"]},\"fEntrySeparation\":0.1,\"fMargin\":0.25,\"fNColumns\":1,\"fColumnSeparation\":0},{\"_typename\":\"TLatex\",\"fUniqueID\":0,\"fBits\":50348040,\"fName\":\"\",\"fTitle\":\"PU200, EG, 1.52 < |#eta^{GEN}| <= 2.4\",\"fTextAngle\":0,\"fTextSize\":0.03,\"fTextAlign\":11,\"fTextColor\":1,\"fTextFont\":62,\"fX\":0.15,\"fY\":0.85,\"fLineColor\":1,\"fLineStyle\":1,\"fLineWidth\":2,\"fLimitFactorSize\":3,\"fOriginSize\":0.04}],\"opt\":[\"\",\"HIST\",\"SAME,HIST\",\"\",\"same\"]},\"fExecs\":null,\"fName\":\"c_8d9aff\",\"fTitle\":\"c_8d9aff\",\"fNumPaletteColor\":0,\"fNextPaletteColor\":0,\"fDISPLAY\":\"$DISPLAY\",\"fDoubleBuffer\":0,\"fRetained\":true,\"fXsizeUser\":0,\"fYsizeUser\":0,\"fXsizeReal\":20,\"fYsizeReal\":15,\"fWindowTopX\":0,\"fWindowTopY\":0,\"fWindowWidth\":0,\"fWindowHeight\":0,\"fCw\":796,\"fCh\":572,\"fCatt\":{\"_typename\":\"TAttCanvas\",\"fXBetween\":2,\"fYBetween\":2,\"fTitleFromTop\":1.2,\"fXdate\":0.2,\"fYdate\":0.3,\"fAdate\":1},\"kMoveOpaque\":true,\"kResizeOpaque\":true,\"fHighLightColor\":2,\"fBatch\":true,\"kShowEventStatus\":false,\"kAutoExec\":true,\"kMenuBar\":true});\n",
       "       Core.draw(\"root_plot_3\", obj, \"\");\n",
       "     }\n",
       " );\n",
       "</script>\n"
      ],
      "text/plain": [
       "<IPython.core.display.HTML object>"
      ]
     },
     "metadata": {},
     "output_type": "display_data"
    },
    {
     "data": {
      "text/html": [
       "\n",
       "<div id=\"root_plot_4\"\n",
       "     style=\"width: 796px; height: 572px\">\n",
       "</div>\n",
       "\n",
       "<script>\n",
       " requirejs.config({\n",
       "     paths: {\n",
       "       'JSRootCore' : 'https://root.cern.ch/js/notebook//scripts/JSRootCore',\n",
       "     }\n",
       "   });\n",
       " require(['JSRootCore'],\n",
       "     function(Core) {\n",
       "       var obj = Core.JSONR_unref({\"_typename\":\"TCanvas\",\"fUniqueID\":0,\"fBits\":53673992,\"fLineColor\":1,\"fLineStyle\":1,\"fLineWidth\":1,\"fFillColor\":0,\"fFillStyle\":1001,\"fLeftMargin\":0.13,\"fRightMargin\":0.3,\"fBottomMargin\":0.13,\"fTopMargin\":0.1,\"fXfile\":2,\"fYfile\":2,\"fAfile\":1,\"fXstat\":0.99,\"fYstat\":0.99,\"fAstat\":2,\"fFrameFillColor\":0,\"fFrameLineColor\":1,\"fFrameFillStyle\":1001,\"fFrameLineStyle\":1,\"fFrameLineWidth\":1,\"fFrameBorderSize\":1,\"fFrameBorderMode\":0,\"fX1\":-0.684210509804807,\"fY1\":-0.0348058776147373,\"fX2\":4.57894745097596,\"fY2\":0.23293164633478,\"fXtoAbsPixelk\":103.480046204376,\"fXtoPixelk\":103.480046204376,\"fXtoPixel\":151.239998102188,\"fYtoAbsPixelk\":497.640051065433,\"fYtoPixelk\":497.640051065433,\"fYtoPixel\":-2136.42074357815,\"fUtoAbsPixelk\":5e-5,\"fUtoPixelk\":5e-5,\"fUtoPixel\":796,\"fVtoAbsPixelk\":572.00005,\"fVtoPixelk\":572,\"fVtoPixel\":-572,\"fAbsPixeltoXk\":-0.684210509804807,\"fPixeltoXk\":-0.684210509804807,\"fPixeltoX\":0.00661200748841805,\"fAbsPixeltoYk\":0.23293164633478,\"fPixeltoYk\":-0.0348058776147373,\"fPixeltoY\":-4.68072594317339e-4,\"fXlowNDC\":0,\"fYlowNDC\":0,\"fXUpNDC\":0,\"fYUpNDC\":0,\"fWNDC\":1,\"fHNDC\":1,\"fAbsXlowNDC\":0,\"fAbsYlowNDC\":0,\"fAbsWNDC\":1,\"fAbsHNDC\":1,\"fUxmin\":0,\"fUymin\":0,\"fUxmax\":3,\"fUymax\":0.206157892942429,\"fTheta\":30,\"fPhi\":30,\"fAspectRatio\":0,\"fNumber\":0,\"fTickx\":0,\"fTicky\":0,\"fLogx\":0,\"fLogy\":0,\"fLogz\":0,\"fPadPaint\":0,\"fCrosshair\":0,\"fCrosshairPos\":0,\"fBorderSize\":2,\"fBorderMode\":0,\"fModified\":false,\"fGridx\":false,\"fGridy\":false,\"fAbsCoord\":false,\"fEditable\":true,\"fFixedAspectRatio\":false,\"fPrimitives\":{\"_typename\":\"TList\",\"name\":\"TList\",\"arr\":[{\"_typename\":\"TFrame\",\"fUniqueID\":0,\"fBits\":50331656,\"fLineColor\":1,\"fLineStyle\":1,\"fLineWidth\":1,\"fFillColor\":0,\"fFillStyle\":1001,\"fX1\":0,\"fY1\":0,\"fX2\":3,\"fY2\":0.206157892942429,\"fBorderSize\":1,\"fBorderMode\":0},{\"_typename\":\"TH1F\",\"fUniqueID\":0,\"fBits\":50332169,\"fName\":\"EG_EGq3_GENEtaD_ptResp\",\"fTitle\":\"EG Pt resp.\",\"fLineColor\":1,\"fLineStyle\":1,\"fLineWidth\":1,\"fFillColor\":0,\"fFillStyle\":1001,\"fMarkerColor\":1,\"fMarkerStyle\":1,\"fMarkerSize\":1,\"fNcells\":102,\"fXaxis\":{\"_typename\":\"TAxis\",\"fUniqueID\":0,\"fBits\":50331648,\"fName\":\"xaxis\",\"fTitle\":\" p_{T}^{L1}\\/p_{T}^{GEN}\",\"fNdivisions\":510,\"fAxisColor\":1,\"fLabelColor\":1,\"fLabelFont\":42,\"fLabelOffset\":0.005,\"fLabelSize\":0.035,\"fTickLength\":0.03,\"fTitleOffset\":1,\"fTitleSize\":0.035,\"fTitleColor\":1,\"fTitleFont\":42,\"fNbins\":100,\"fXmin\":0,\"fXmax\":3,\"fXbins\":[],\"fFirst\":0,\"fLast\":0,\"fBits2\":0,\"fTimeDisplay\":false,\"fTimeFormat\":\"\",\"fLabels\":null,\"fModLabs\":null},\"fYaxis\":{\"_typename\":\"TAxis\",\"fUniqueID\":0,\"fBits\":50331656,\"fName\":\"yaxis\",\"fTitle\":\"\",\"fNdivisions\":510,\"fAxisColor\":1,\"fLabelColor\":1,\"fLabelFont\":42,\"fLabelOffset\":0.005,\"fLabelSize\":0.035,\"fTickLength\":0.03,\"fTitleOffset\":0,\"fTitleSize\":0.035,\"fTitleColor\":1,\"fTitleFont\":42,\"fNbins\":1,\"fXmin\":0,\"fXmax\":1,\"fXbins\":[],\"fFirst\":0,\"fLast\":0,\"fBits2\":0,\"fTimeDisplay\":false,\"fTimeFormat\":\"\",\"fLabels\":null,\"fModLabs\":null},\"fZaxis\":{\"_typename\":\"TAxis\",\"fUniqueID\":0,\"fBits\":50331648,\"fName\":\"zaxis\",\"fTitle\":\"\",\"fNdivisions\":510,\"fAxisColor\":1,\"fLabelColor\":1,\"fLabelFont\":42,\"fLabelOffset\":0.005,\"fLabelSize\":0.035,\"fTickLength\":0.03,\"fTitleOffset\":1,\"fTitleSize\":0.035,\"fTitleColor\":1,\"fTitleFont\":42,\"fNbins\":1,\"fXmin\":0,\"fXmax\":1,\"fXbins\":[],\"fFirst\":0,\"fLast\":0,\"fBits2\":0,\"fTimeDisplay\":false,\"fTimeFormat\":\"\",\"fLabels\":null,\"fModLabs\":null},\"fBarOffset\":0,\"fBarWidth\":1000,\"fEntries\":37253,\"fTsumw\":37253,\"fTsumw2\":37253,\"fTsumwx\":37528.7266223319,\"fTsumwx2\":38792.0669000926,\"fMaximum\":0.206157892942429,\"fMinimum\":0,\"fNormFactor\":0,\"fContour\":[],\"fSumw2\":[0,0,7.20572187293178e-10,5.04400531105225e-9,5.04400531105225e-9,1.00880106221045e-8,1.15291549966908e-8,1.58525881204499e-8,1.44114437458636e-8,1.29702993712772e-8,1.94554490569158e-8,1.72937324950363e-8,1.80143046823294e-8,2.08965934315022e-8,3.53080371773657e-8,3.17051762408998e-8,4.53960477994702e-8,5.18811974851088e-8,7.34983631039041e-8,1.0664468371939e-7,1.36908715585704e-7,1.47717298395101e-7,1.87348768696226e-7,2.21936233686299e-7,2.55803126489078e-7,2.88228874917271e-7,3.93432414262075e-7,4.4891647268365e-7,5.92310337954992e-7,6.73734995119121e-7,7.08322460109194e-7,9.00715234116472e-7,1.1939881143448e-6,1.86700253727662e-6,3.14385645316014e-6,4.61166199867634e-6,3.97611732948376e-6,2.45210715335868e-6,1.3943071824123e-6,8.01996844457307e-7,5.49076006717402e-7,3.65330098957641e-7,2.43553399305094e-7,1.66452175264724e-7,1.26820704963599e-7,9.22332399735268e-8,6.26897802945065e-8,5.69252027961611e-8,4.4675475612177e-8,3.60286093646589e-8,3.38668928027794e-8,2.59405987425544e-8,1.72937324950363e-8,2.0176021244209e-8,2.08965934315022e-8,1.44114437458636e-8,8.64686624751814e-9,9.36743843481131e-9,7.92629406022496e-9,4.32343312375907e-9,2.16171656187953e-9,5.04400531105225e-9,2.16171656187953e-9,2.88228874917271e-9,3.60286093646589e-9,3.60286093646589e-9,2.88228874917271e-9,1.44114437458636e-9,1.44114437458636e-9,7.20572187293178e-10,2.88228874917271e-9,0,1.44114437458636e-9,1.44114437458636e-9,2.88228874917271e-9,1.44114437458636e-9,7.20572187293178e-10,0,7.20572187293178e-10,0,0,2.16171656187953e-9,0,0,0,0,1.44114437458636e-9,7.20572187293178e-10,7.20572187293178e-10,0,7.20572187293178e-10,0,0,0,7.20572187293178e-10,7.20572187293178e-10,0,0,0,0,0,0],\"fOption\":\"\",\"fFunctions\":{\"_typename\":\"TList\",\"name\":\"TList\",\"arr\":[],\"opt\":[]},\"fBufferSize\":0,\"fBuffer\":[],\"fBinStatErrOpt\":0,\"fStatOverflows\":2,\"fArray\":[0,0,2.684348e-5,1.879043e-4,1.879043e-4,3.758087e-4,4.294956e-4,5.905565e-4,5.368695e-4,4.831825e-4,7.247739e-4,6.442434e-4,6.710869e-4,7.784608e-4,0.00131533,0.001181113,0.001691139,0.00193273,0.002738035,0.003972834,0.00510026,0.005502913,0.006979304,0.00826779,0.009529434,0.01073739,0.01465654,0.01672349,0.02206534,0.02509865,0.02638714,0.03355435,0.04447964,0.06955145,0.1171181,0.1717982,0.1481223,0.09134835,0.05194212,0.02987679,0.02045473,0.01360964,0.009073094,0.006200843,0.004724452,0.003435965,0.002335382,0.002120635,0.001664295,0.001342174,0.001261643,9.663651e-4,6.442434e-4,7.516173e-4,7.784608e-4,5.368695e-4,3.221217e-4,3.489652e-4,2.952782e-4,1.610609e-4,8.053043e-5,1.879043e-4,8.053043e-5,1.073739e-4,1.342174e-4,1.342174e-4,1.073739e-4,5.368695e-5,5.368695e-5,2.684348e-5,1.073739e-4,0,5.368695e-5,5.368695e-5,1.073739e-4,5.368695e-5,2.684348e-5,0,2.684348e-5,0,0,8.053043e-5,0,0,0,0,5.368695e-5,2.684348e-5,2.684348e-5,0,2.684348e-5,0,0,0,2.684348e-5,2.684348e-5,0,0,0,0,0,0]},{\"_typename\":\"TH1F\",\"fUniqueID\":0,\"fBits\":50332169,\"fName\":\"EG_EGq2_GENEtaD_ptResp\",\"fTitle\":\"EG Pt resp.\",\"fLineColor\":2,\"fLineStyle\":1,\"fLineWidth\":1,\"fFillColor\":0,\"fFillStyle\":1001,\"fMarkerColor\":1,\"fMarkerStyle\":1,\"fMarkerSize\":1,\"fNcells\":102,\"fXaxis\":{\"_typename\":\"TAxis\",\"fUniqueID\":0,\"fBits\":50331648,\"fName\":\"xaxis\",\"fTitle\":\" p_{T}^{L1}\\/p_{T}^{GEN}\",\"fNdivisions\":510,\"fAxisColor\":1,\"fLabelColor\":1,\"fLabelFont\":42,\"fLabelOffset\":0.005,\"fLabelSize\":0.035,\"fTickLength\":0.03,\"fTitleOffset\":1,\"fTitleSize\":0.035,\"fTitleColor\":1,\"fTitleFont\":42,\"fNbins\":100,\"fXmin\":0,\"fXmax\":3,\"fXbins\":[],\"fFirst\":0,\"fLast\":0,\"fBits2\":0,\"fTimeDisplay\":false,\"fTimeFormat\":\"\",\"fLabels\":null,\"fModLabs\":null},\"fYaxis\":{\"_typename\":\"TAxis\",\"fUniqueID\":0,\"fBits\":50331656,\"fName\":\"yaxis\",\"fTitle\":\"\",\"fNdivisions\":510,\"fAxisColor\":1,\"fLabelColor\":1,\"fLabelFont\":42,\"fLabelOffset\":0.005,\"fLabelSize\":0.035,\"fTickLength\":0.03,\"fTitleOffset\":0,\"fTitleSize\":0.035,\"fTitleColor\":1,\"fTitleFont\":42,\"fNbins\":1,\"fXmin\":0,\"fXmax\":1,\"fXbins\":[],\"fFirst\":0,\"fLast\":0,\"fBits2\":0,\"fTimeDisplay\":false,\"fTimeFormat\":\"\",\"fLabels\":null,\"fModLabs\":null},\"fZaxis\":{\"_typename\":\"TAxis\",\"fUniqueID\":0,\"fBits\":50331648,\"fName\":\"zaxis\",\"fTitle\":\"\",\"fNdivisions\":510,\"fAxisColor\":1,\"fLabelColor\":1,\"fLabelFont\":42,\"fLabelOffset\":0.005,\"fLabelSize\":0.035,\"fTickLength\":0.03,\"fTitleOffset\":1,\"fTitleSize\":0.035,\"fTitleColor\":1,\"fTitleFont\":42,\"fNbins\":1,\"fXmin\":0,\"fXmax\":1,\"fXbins\":[],\"fFirst\":0,\"fLast\":0,\"fBits2\":0,\"fTimeDisplay\":false,\"fTimeFormat\":\"\",\"fLabels\":null,\"fModLabs\":null},\"fBarOffset\":0,\"fBarWidth\":1000,\"fEntries\":37253,\"fTsumw\":37252,\"fTsumw2\":37252,\"fTsumwx\":36953.6699034572,\"fTsumwx2\":38029.4237540128,\"fMaximum\":0.206157892942429,\"fMinimum\":0,\"fNormFactor\":0,\"fContour\":[],\"fSumw2\":[0,0,7.20610874174896e-10,4.32366524504938e-9,4.32366524504938e-9,6.48549786757407e-9,1.29709957351481e-8,1.29709957351481e-8,1.29709957351481e-8,1.51328283576728e-8,1.51328283576728e-8,1.80152718543724e-8,1.44122174834979e-8,2.01771044768971e-8,3.17068784636954e-8,2.88244349669958e-8,4.39572633246687e-8,5.47664264372921e-8,1.05209187629535e-7,2.31316090610142e-7,3.24995504252878e-7,3.50216884849e-7,3.8408559593522e-7,4.1651308527309e-7,4.57587905101059e-7,4.95059670558154e-7,5.54149762240495e-7,5.67120757975643e-7,6.70168112982653e-7,7.55920807009466e-7,7.70333024492964e-7,9.10852144957069e-7,1.12847662895789e-6,1.54498971423098e-6,2.49835790076436e-6,3.64773224507332e-6,3.49712457237077e-6,2.43494414383697e-6,1.47797290293271e-6,9.28146805937266e-7,6.27652071406335e-7,4.01380256915417e-7,3.12745119391905e-7,2.11859597007419e-7,1.59975614066827e-7,1.17459572490508e-7,8.21496396559382e-8,7.49435309141892e-8,5.40458155631172e-8,5.33252046889423e-8,4.39572633246687e-8,3.24274893378703e-8,2.95450458411707e-8,1.87358827285473e-8,2.0897715351072e-8,1.80152718543724e-8,1.87358827285473e-8,2.0897715351072e-8,1.22503848609732e-8,9.36794136427365e-9,5.04427611922427e-9,7.20610874174896e-9,7.20610874174896e-9,5.04427611922427e-9,5.04427611922427e-9,2.88244349669958e-9,2.16183262252469e-9,7.20610874174896e-10,5.04427611922427e-9,3.60305437087448e-9,1.44122174834979e-9,2.88244349669958e-9,2.16183262252469e-9,7.20610874174896e-10,2.16183262252469e-9,2.16183262252469e-9,1.44122174834979e-9,1.44122174834979e-9,1.44122174834979e-9,2.88244349669958e-9,7.20610874174896e-10,1.44122174834979e-9,1.44122174834979e-9,0,0,0,7.20610874174896e-10,7.20610874174896e-10,7.20610874174896e-10,7.20610874174896e-10,7.20610874174896e-10,7.20610874174896e-10,0,0,2.16183262252469e-9,0,1.44122174834979e-9,7.20610874174896e-10,7.20610874174896e-10,0,0,7.20610874174896e-10],\"fOption\":\"\",\"fFunctions\":{\"_typename\":\"TList\",\"name\":\"TList\",\"arr\":[],\"opt\":[]},\"fBufferSize\":0,\"fBuffer\":[],\"fBinStatErrOpt\":0,\"fStatOverflows\":2,\"fArray\":[0,0,2.68442e-5,1.610652e-4,1.610652e-4,2.415978e-4,4.831955e-4,4.831955e-4,4.831955e-4,5.637281e-4,5.637281e-4,6.711049e-4,5.368839e-4,7.516375e-4,0.001181145,0.001073768,0.001637496,0.002040159,0.003919253,0.008616987,0.01210673,0.01304628,0.01430796,0.01551595,0.01704606,0.01844196,0.02064319,0.02112638,0.0249651,0.02815956,0.02869645,0.03393107,0.04203801,0.05755396,0.09306883,0.1358853,0.1302749,0.09070654,0.05505745,0.03457532,0.02338129,0.01495222,0.01165038,0.007892193,0.005959412,0.004375604,0.003060238,0.002791796,0.002013315,0.001986471,0.001637496,0.001207989,0.001100612,6.979491e-4,7.784817e-4,6.711049e-4,6.979491e-4,7.784817e-4,4.563514e-4,3.489745e-4,1.879094e-4,2.68442e-4,2.68442e-4,1.879094e-4,1.879094e-4,1.073768e-4,8.053259e-5,2.68442e-5,1.879094e-4,1.34221e-4,5.368839e-5,1.073768e-4,8.053259e-5,2.68442e-5,8.053259e-5,8.053259e-5,5.368839e-5,5.368839e-5,5.368839e-5,1.073768e-4,2.68442e-5,5.368839e-5,5.368839e-5,0,0,0,2.68442e-5,2.68442e-5,2.68442e-5,2.68442e-5,2.68442e-5,2.68442e-5,0,0,8.053259e-5,0,5.368839e-5,2.68442e-5,2.68442e-5,0,0,2.68442e-5]},{\"_typename\":\"TLegend\",\"fUniqueID\":0,\"fBits\":50331656,\"fLineColor\":1,\"fLineStyle\":1,\"fLineWidth\":1,\"fFillColor\":0,\"fFillStyle\":0,\"fX1\":3.00000006274173,\"fY1\":0.15528776438942,\"fX2\":4.31578955293692,\"fY2\":0.192771017742353,\"fX1NDC\":0.7,\"fY1NDC\":0.71,\"fX2NDC\":0.95,\"fY2NDC\":0.85,\"fBorderSize\":0,\"fInit\":1,\"fShadowColor\":1,\"fCornerRadius\":0,\"fOption\":\"brNDC\",\"fName\":\"TPave\",\"fTextAngle\":0,\"fTextSize\":0.05,\"fTextAlign\":12,\"fTextColor\":1,\"fTextFont\":42,\"fPrimitives\":{\"_typename\":\"TList\",\"name\":\"TList\",\"arr\":[{\"_typename\":\"TLegendEntry\",\"fUniqueID\":0,\"fBits\":50331656,\"fTextAngle\":0,\"fTextSize\":0,\"fTextAlign\":0,\"fTextColor\":0,\"fTextFont\":42,\"fLineColor\":1,\"fLineStyle\":1,\"fLineWidth\":1,\"fFillColor\":0,\"fFillStyle\":0,\"fMarkerColor\":1,\"fMarkerStyle\":21,\"fMarkerSize\":1,\"fObject\":{\"_typename\":\"TH1F\",\"fUniqueID\":0,\"fBits\":50332168,\"fName\":\"EG_EGq3_GENEtaD_ptResp\",\"fTitle\":\"EG Pt resp.\",\"fLineColor\":1,\"fLineStyle\":1,\"fLineWidth\":1,\"fFillColor\":0,\"fFillStyle\":1001,\"fMarkerColor\":1,\"fMarkerStyle\":1,\"fMarkerSize\":1,\"fNcells\":102,\"fXaxis\":{\"_typename\":\"TAxis\",\"fUniqueID\":0,\"fBits\":50331648,\"fName\":\"xaxis\",\"fTitle\":\" p_{T}^{L1}\\/p_{T}^{GEN}\",\"fNdivisions\":510,\"fAxisColor\":1,\"fLabelColor\":1,\"fLabelFont\":42,\"fLabelOffset\":0.005,\"fLabelSize\":0.035,\"fTickLength\":0.03,\"fTitleOffset\":1,\"fTitleSize\":0.035,\"fTitleColor\":1,\"fTitleFont\":42,\"fNbins\":100,\"fXmin\":0,\"fXmax\":3,\"fXbins\":[],\"fFirst\":0,\"fLast\":0,\"fBits2\":0,\"fTimeDisplay\":false,\"fTimeFormat\":\"\",\"fLabels\":null,\"fModLabs\":null},\"fYaxis\":{\"_typename\":\"TAxis\",\"fUniqueID\":0,\"fBits\":50331648,\"fName\":\"yaxis\",\"fTitle\":\"\",\"fNdivisions\":510,\"fAxisColor\":1,\"fLabelColor\":1,\"fLabelFont\":42,\"fLabelOffset\":0.005,\"fLabelSize\":0.035,\"fTickLength\":0.03,\"fTitleOffset\":0,\"fTitleSize\":0.035,\"fTitleColor\":1,\"fTitleFont\":42,\"fNbins\":1,\"fXmin\":0,\"fXmax\":1,\"fXbins\":[],\"fFirst\":0,\"fLast\":0,\"fBits2\":0,\"fTimeDisplay\":false,\"fTimeFormat\":\"\",\"fLabels\":null,\"fModLabs\":null},\"fZaxis\":{\"_typename\":\"TAxis\",\"fUniqueID\":0,\"fBits\":50331648,\"fName\":\"zaxis\",\"fTitle\":\"\",\"fNdivisions\":510,\"fAxisColor\":1,\"fLabelColor\":1,\"fLabelFont\":42,\"fLabelOffset\":0.005,\"fLabelSize\":0.035,\"fTickLength\":0.03,\"fTitleOffset\":1,\"fTitleSize\":0.035,\"fTitleColor\":1,\"fTitleFont\":42,\"fNbins\":1,\"fXmin\":0,\"fXmax\":1,\"fXbins\":[],\"fFirst\":0,\"fLast\":0,\"fBits2\":0,\"fTimeDisplay\":false,\"fTimeFormat\":\"\",\"fLabels\":null,\"fModLabs\":null},\"fBarOffset\":0,\"fBarWidth\":1000,\"fEntries\":37253,\"fTsumw\":37253,\"fTsumw2\":37253,\"fTsumwx\":37528.7266223319,\"fTsumwx2\":38792.0669000926,\"fMaximum\":-1111,\"fMinimum\":-1111,\"fNormFactor\":0,\"fContour\":[],\"fSumw2\":[0,0,1,7,7,14,16,22,20,18,27,24,25,29,49,44,63,72,102,148,190,205,260,308,355,400,546,623,822,935,983,1250,1657,2591,4363,6400,5518,3403,1935,1113,762,507,338,231,176,128,87,79,62,50,47,36,24,28,29,20,12,13,11,6,3,7,3,4,5,5,4,2,2,1,4,0,2,2,4,2,1,0,1,0,0,3,0,0,0,0,2,1,1,0,1,0,0,0,1,1,0,0,0,0,0,0],\"fOption\":\"\",\"fFunctions\":{\"_typename\":\"TList\",\"name\":\"TList\",\"arr\":[],\"opt\":[]},\"fBufferSize\":0,\"fBuffer\":[],\"fBinStatErrOpt\":0,\"fStatOverflows\":2,\"fArray\":[0,0,1,7,7,14,16,22,20,18,27,24,25,29,49,44,63,72,102,148,190,205,260,308,355,400,546,623,822,935,983,1250,1657,2591,4363,6400,5518,3403,1935,1113,762,507,338,231,176,128,87,79,62,50,47,36,24,28,29,20,12,13,11,6,3,7,3,4,5,5,4,2,2,1,4,0,2,2,4,2,1,0,1,0,0,3,0,0,0,0,2,1,1,0,1,0,0,0,1,1,0,0,0,0,0,0]},\"fLabel\":\"q3\",\"fOption\":\"l\"},{\"_typename\":\"TLegendEntry\",\"fUniqueID\":0,\"fBits\":50331656,\"fTextAngle\":0,\"fTextSize\":0,\"fTextAlign\":0,\"fTextColor\":0,\"fTextFont\":42,\"fLineColor\":2,\"fLineStyle\":1,\"fLineWidth\":1,\"fFillColor\":0,\"fFillStyle\":0,\"fMarkerColor\":1,\"fMarkerStyle\":21,\"fMarkerSize\":1,\"fObject\":{\"_typename\":\"TH1F\",\"fUniqueID\":0,\"fBits\":50332168,\"fName\":\"EG_EGq2_GENEtaD_ptResp\",\"fTitle\":\"EG Pt resp.\",\"fLineColor\":2,\"fLineStyle\":1,\"fLineWidth\":1,\"fFillColor\":0,\"fFillStyle\":1001,\"fMarkerColor\":1,\"fMarkerStyle\":1,\"fMarkerSize\":1,\"fNcells\":102,\"fXaxis\":{\"_typename\":\"TAxis\",\"fUniqueID\":0,\"fBits\":50331648,\"fName\":\"xaxis\",\"fTitle\":\" p_{T}^{L1}\\/p_{T}^{GEN}\",\"fNdivisions\":510,\"fAxisColor\":1,\"fLabelColor\":1,\"fLabelFont\":42,\"fLabelOffset\":0.005,\"fLabelSize\":0.035,\"fTickLength\":0.03,\"fTitleOffset\":1,\"fTitleSize\":0.035,\"fTitleColor\":1,\"fTitleFont\":42,\"fNbins\":100,\"fXmin\":0,\"fXmax\":3,\"fXbins\":[],\"fFirst\":0,\"fLast\":0,\"fBits2\":0,\"fTimeDisplay\":false,\"fTimeFormat\":\"\",\"fLabels\":null,\"fModLabs\":null},\"fYaxis\":{\"_typename\":\"TAxis\",\"fUniqueID\":0,\"fBits\":50331648,\"fName\":\"yaxis\",\"fTitle\":\"\",\"fNdivisions\":510,\"fAxisColor\":1,\"fLabelColor\":1,\"fLabelFont\":42,\"fLabelOffset\":0.005,\"fLabelSize\":0.035,\"fTickLength\":0.03,\"fTitleOffset\":0,\"fTitleSize\":0.035,\"fTitleColor\":1,\"fTitleFont\":42,\"fNbins\":1,\"fXmin\":0,\"fXmax\":1,\"fXbins\":[],\"fFirst\":0,\"fLast\":0,\"fBits2\":0,\"fTimeDisplay\":false,\"fTimeFormat\":\"\",\"fLabels\":null,\"fModLabs\":null},\"fZaxis\":{\"_typename\":\"TAxis\",\"fUniqueID\":0,\"fBits\":50331648,\"fName\":\"zaxis\",\"fTitle\":\"\",\"fNdivisions\":510,\"fAxisColor\":1,\"fLabelColor\":1,\"fLabelFont\":42,\"fLabelOffset\":0.005,\"fLabelSize\":0.035,\"fTickLength\":0.03,\"fTitleOffset\":1,\"fTitleSize\":0.035,\"fTitleColor\":1,\"fTitleFont\":42,\"fNbins\":1,\"fXmin\":0,\"fXmax\":1,\"fXbins\":[],\"fFirst\":0,\"fLast\":0,\"fBits2\":0,\"fTimeDisplay\":false,\"fTimeFormat\":\"\",\"fLabels\":null,\"fModLabs\":null},\"fBarOffset\":0,\"fBarWidth\":1000,\"fEntries\":37253,\"fTsumw\":37252,\"fTsumw2\":37252,\"fTsumwx\":36953.6699034572,\"fTsumwx2\":38029.4237540128,\"fMaximum\":-1111,\"fMinimum\":-1111,\"fNormFactor\":0,\"fContour\":[],\"fSumw2\":[0,0,1,6,6,9,18,18,18,21,21,25,20,28,44,40,61,76,146,321,451,486,533,578,635,687,769,787,930,1049,1069,1264,1566,2144,3467,5062,4853,3379,2051,1288,871,557,434,294,222,163,114,104,75,74,61,45,41,26,29,25,26,29,17,13,7,10,10,7,7,4,3,1,7,5,2,4,3,1,3,3,2,2,2,4,1,2,2,0,0,0,1,1,1,1,1,1,0,0,3,0,2,1,1,0,0,1],\"fOption\":\"\",\"fFunctions\":{\"_typename\":\"TList\",\"name\":\"TList\",\"arr\":[],\"opt\":[]},\"fBufferSize\":0,\"fBuffer\":[],\"fBinStatErrOpt\":0,\"fStatOverflows\":2,\"fArray\":[0,0,1,6,6,9,18,18,18,21,21,25,20,28,44,40,61,76,146,321,451,486,533,578,635,687,769,787,930,1049,1069,1264,1566,2144,3467,5062,4853,3379,2051,1288,871,557,434,294,222,163,114,104,75,74,61,45,41,26,29,25,26,29,17,13,7,10,10,7,7,4,3,1,7,5,2,4,3,1,3,3,2,2,2,4,1,2,2,0,0,0,1,1,1,1,1,1,0,0,3,0,2,1,1,0,0,1]},\"fLabel\":\"q2\",\"fOption\":\"l\"}],\"opt\":[\"l\",\"l\"]},\"fEntrySeparation\":0.1,\"fMargin\":0.25,\"fNColumns\":1,\"fColumnSeparation\":0},{\"_typename\":\"TLatex\",\"fUniqueID\":0,\"fBits\":50348040,\"fName\":\"\",\"fTitle\":\"PU200, EG, 2.4 < |#eta^{GEN}| <= 2.8\",\"fTextAngle\":0,\"fTextSize\":0.03,\"fTextAlign\":11,\"fTextColor\":1,\"fTextFont\":62,\"fX\":0.15,\"fY\":0.85,\"fLineColor\":1,\"fLineStyle\":1,\"fLineWidth\":2,\"fLimitFactorSize\":3,\"fOriginSize\":0.04}],\"opt\":[\"\",\"HIST\",\"SAME,HIST\",\"\",\"same\"]},\"fExecs\":null,\"fName\":\"c_9ac31a\",\"fTitle\":\"c_9ac31a\",\"fNumPaletteColor\":0,\"fNextPaletteColor\":0,\"fDISPLAY\":\"$DISPLAY\",\"fDoubleBuffer\":0,\"fRetained\":true,\"fXsizeUser\":0,\"fYsizeUser\":0,\"fXsizeReal\":20,\"fYsizeReal\":15,\"fWindowTopX\":0,\"fWindowTopY\":0,\"fWindowWidth\":0,\"fWindowHeight\":0,\"fCw\":796,\"fCh\":572,\"fCatt\":{\"_typename\":\"TAttCanvas\",\"fXBetween\":2,\"fYBetween\":2,\"fTitleFromTop\":1.2,\"fXdate\":0.2,\"fYdate\":0.3,\"fAdate\":1},\"kMoveOpaque\":true,\"kResizeOpaque\":true,\"fHighLightColor\":2,\"fBatch\":true,\"kShowEventStatus\":false,\"kAutoExec\":true,\"kMenuBar\":true});\n",
       "       Core.draw(\"root_plot_4\", obj, \"\");\n",
       "     }\n",
       " );\n",
       "</script>\n"
      ],
      "text/plain": [
       "<IPython.core.display.HTML object>"
      ]
     },
     "metadata": {},
     "output_type": "display_data"
    }
   ],
   "source": [
    "\n",
    "for tp in tps:\n",
    "    for pu in ['PU0', 'PU200']:\n",
    "        for gen_sel in gen_select:\n",
    "            hsets, labels, text = hplot.get_histo(histos.EGResoHistos, 'V8', pu, tp, ['EGq2', 'EGq3'], gen_sel)            \n",
    "            draw([his.h_ptResp for his in hsets], labels, norm=True, text=text, options='hist')\n"
   ]
  },
  {
   "cell_type": "code",
   "execution_count": 25,
   "metadata": {
    "scrolled": false
   },
   "outputs": [
    {
     "data": {
      "text/html": [
       "\n",
       "<div id=\"root_plot_9\"\n",
       "     style=\"width: 796px; height: 572px\">\n",
       "</div>\n",
       "\n",
       "<script>\n",
       " requirejs.config({\n",
       "     paths: {\n",
       "       'JSRootCore' : 'https://root.cern.ch/js/notebook//scripts/JSRootCore',\n",
       "     }\n",
       "   });\n",
       " require(['JSRootCore'],\n",
       "     function(Core) {\n",
       "       var obj = Core.JSONR_unref({\"_typename\":\"TCanvas\",\"fUniqueID\":0,\"fBits\":53673992,\"fLineColor\":1,\"fLineStyle\":1,\"fLineWidth\":1,\"fFillColor\":0,\"fFillStyle\":1001,\"fLeftMargin\":0.13,\"fRightMargin\":0.3,\"fBottomMargin\":0.13,\"fTopMargin\":0.1,\"fXfile\":2,\"fYfile\":2,\"fAfile\":1,\"fXstat\":0.99,\"fYstat\":0.99,\"fAstat\":2,\"fFrameFillColor\":0,\"fFrameLineColor\":1,\"fFrameFillStyle\":1001,\"fFrameLineStyle\":1,\"fFrameLineWidth\":1,\"fFrameBorderSize\":1,\"fFrameBorderMode\":0,\"fX1\":-0.684210509804807,\"fY1\":-0.0496672567886875,\"fX2\":4.57894745097596,\"fY2\":0.332388570136866,\"fXtoAbsPixelk\":103.480046204376,\"fXtoPixelk\":103.480046204376,\"fXtoPixel\":151.239998102188,\"fYtoAbsPixelk\":497.640051065433,\"fYtoPixelk\":497.640051065433,\"fYtoPixel\":-1497.1633978284,\"fUtoAbsPixelk\":5e-5,\"fUtoPixelk\":5e-5,\"fUtoPixel\":796,\"fVtoAbsPixelk\":572.00005,\"fVtoPixelk\":572,\"fVtoPixel\":-572,\"fAbsPixeltoXk\":-0.684210509804807,\"fPixeltoXk\":-0.684210509804807,\"fPixeltoX\":0.00661200748841805,\"fAbsPixeltoYk\":0.332388570136866,\"fPixeltoYk\":-0.0496672567886875,\"fPixeltoY\":-6.67929767352366e-4,\"fXlowNDC\":0,\"fYlowNDC\":0,\"fXUpNDC\":0,\"fYUpNDC\":0,\"fWNDC\":1,\"fHNDC\":1,\"fAbsXlowNDC\":0,\"fAbsYlowNDC\":0,\"fAbsWNDC\":1,\"fAbsHNDC\":1,\"fUxmin\":0,\"fUymin\":0,\"fUxmax\":3,\"fUymax\":0.294182986021042,\"fTheta\":30,\"fPhi\":30,\"fAspectRatio\":0,\"fNumber\":0,\"fTickx\":0,\"fTicky\":0,\"fLogx\":0,\"fLogy\":0,\"fLogz\":0,\"fPadPaint\":0,\"fCrosshair\":0,\"fCrosshairPos\":0,\"fBorderSize\":2,\"fBorderMode\":0,\"fModified\":false,\"fGridx\":false,\"fGridy\":false,\"fAbsCoord\":false,\"fEditable\":true,\"fFixedAspectRatio\":false,\"fPrimitives\":{\"_typename\":\"TList\",\"name\":\"TList\",\"arr\":[{\"_typename\":\"TFrame\",\"fUniqueID\":0,\"fBits\":50331656,\"fLineColor\":1,\"fLineStyle\":1,\"fLineWidth\":1,\"fFillColor\":0,\"fFillStyle\":1001,\"fX1\":0,\"fY1\":0,\"fX2\":3,\"fY2\":0.294182986021042,\"fBorderSize\":1,\"fBorderMode\":0},{\"_typename\":\"TH1F\",\"fUniqueID\":0,\"fBits\":50332169,\"fName\":\"EG_EGq3_GENEtaBC_ptResp\",\"fTitle\":\"EG Pt resp.\",\"fLineColor\":1,\"fLineStyle\":1,\"fLineWidth\":1,\"fFillColor\":0,\"fFillStyle\":1001,\"fMarkerColor\":1,\"fMarkerStyle\":1,\"fMarkerSize\":1,\"fNcells\":102,\"fXaxis\":{\"_typename\":\"TAxis\",\"fUniqueID\":0,\"fBits\":50331648,\"fName\":\"xaxis\",\"fTitle\":\" p_{T}^{L1}\\/p_{T}^{GEN}\",\"fNdivisions\":510,\"fAxisColor\":1,\"fLabelColor\":1,\"fLabelFont\":42,\"fLabelOffset\":0.005,\"fLabelSize\":0.035,\"fTickLength\":0.03,\"fTitleOffset\":1,\"fTitleSize\":0.035,\"fTitleColor\":1,\"fTitleFont\":42,\"fNbins\":100,\"fXmin\":0,\"fXmax\":3,\"fXbins\":[],\"fFirst\":0,\"fLast\":0,\"fBits2\":0,\"fTimeDisplay\":false,\"fTimeFormat\":\"\",\"fLabels\":null,\"fModLabs\":null},\"fYaxis\":{\"_typename\":\"TAxis\",\"fUniqueID\":0,\"fBits\":50331656,\"fName\":\"yaxis\",\"fTitle\":\"\",\"fNdivisions\":510,\"fAxisColor\":1,\"fLabelColor\":1,\"fLabelFont\":42,\"fLabelOffset\":0.005,\"fLabelSize\":0.035,\"fTickLength\":0.03,\"fTitleOffset\":0,\"fTitleSize\":0.035,\"fTitleColor\":1,\"fTitleFont\":42,\"fNbins\":1,\"fXmin\":0,\"fXmax\":1,\"fXbins\":[],\"fFirst\":0,\"fLast\":0,\"fBits2\":0,\"fTimeDisplay\":false,\"fTimeFormat\":\"\",\"fLabels\":null,\"fModLabs\":null},\"fZaxis\":{\"_typename\":\"TAxis\",\"fUniqueID\":0,\"fBits\":50331648,\"fName\":\"zaxis\",\"fTitle\":\"\",\"fNdivisions\":510,\"fAxisColor\":1,\"fLabelColor\":1,\"fLabelFont\":42,\"fLabelOffset\":0.005,\"fLabelSize\":0.035,\"fTickLength\":0.03,\"fTitleOffset\":1,\"fTitleSize\":0.035,\"fTitleColor\":1,\"fTitleFont\":42,\"fNbins\":1,\"fXmin\":0,\"fXmax\":1,\"fXbins\":[],\"fFirst\":0,\"fLast\":0,\"fBits2\":0,\"fTimeDisplay\":false,\"fTimeFormat\":\"\",\"fLabels\":null,\"fModLabs\":null},\"fBarOffset\":0,\"fBarWidth\":1000,\"fEntries\":10543,\"fTsumw\":10263,\"fTsumw2\":10263,\"fTsumwx\":10074.765969608,\"fTsumwx2\":10134.1734037979,\"fMaximum\":0.294182986021042,\"fMinimum\":0,\"fNormFactor\":0,\"fContour\":[],\"fSumw2\":[0,0,9.49404623139104e-9,0,9.49404623139104e-9,9.49404623139104e-9,0,3.79761849255642e-8,1.89880924627821e-8,9.49404623139104e-9,4.74702311569552e-8,1.89880924627821e-8,3.79761849255642e-8,2.84821386941731e-8,8.54464160825194e-8,7.59523698511283e-8,8.54464160825194e-8,7.59523698511283e-8,1.13928554776692e-7,1.51904739702257e-7,1.42410693470866e-7,2.08869017090603e-7,2.7532734071034e-7,3.98749941718424e-7,4.46220172875379e-7,5.31666588957898e-7,9.49404623139104e-7,9.87380808064668e-7,1.64246999803065e-6,2.21211277191411e-6,3.75014826139946e-6,5.95276698708218e-6,1.13738673852065e-5,1.94533007281202e-5,2.38870203181799e-5,1.6728509459711e-5,5.1932432885709e-6,8.92440345750758e-7,1.32916647239475e-7,3.79761849255642e-8,1.89880924627821e-8,3.79761849255642e-8,4.74702311569552e-8,3.79761849255642e-8,1.89880924627821e-8,3.79761849255642e-8,3.79761849255642e-8,9.49404623139104e-9,6.64583236197373e-8,3.79761849255642e-8,6.64583236197373e-8,4.74702311569552e-8,2.84821386941731e-8,3.79761849255642e-8,6.64583236197373e-8,3.79761849255642e-8,3.79761849255642e-8,9.49404623139104e-9,1.89880924627821e-8,9.49404623139104e-9,2.84821386941731e-8,1.89880924627821e-8,3.79761849255642e-8,9.49404623139104e-9,9.49404623139104e-9,1.89880924627821e-8,1.89880924627821e-8,1.89880924627821e-8,2.84821386941731e-8,2.84821386941731e-8,0,6.64583236197373e-8,1.89880924627821e-8,1.89880924627821e-8,1.89880924627821e-8,1.89880924627821e-8,0,2.84821386941731e-8,1.89880924627821e-8,2.84821386941731e-8,9.49404623139104e-9,9.49404623139104e-9,9.49404623139104e-9,9.49404623139104e-9,9.49404623139104e-9,2.84821386941731e-8,2.84821386941731e-8,9.49404623139104e-9,0,0,9.49404623139104e-9,2.84821386941731e-8,1.89880924627821e-8,1.89880924627821e-8,0,9.49404623139104e-9,0,1.89880924627821e-8,9.49404623139104e-9,3.79761849255642e-8,9.49404623139104e-9,2.65833294478949e-6],\"fOption\":\"\",\"fFunctions\":{\"_typename\":\"TList\",\"name\":\"TList\",\"arr\":[],\"opt\":[]},\"fBufferSize\":0,\"fBuffer\":[],\"fBinStatErrOpt\":0,\"fStatOverflows\":2,\"fArray\":[0,0,9.74374e-5,0,9.74374e-5,9.74374e-5,0,3.897496e-4,1.948748e-4,9.74374e-5,4.87187e-4,1.948748e-4,3.897496e-4,2.923122e-4,8.769366e-4,7.794992e-4,8.769366e-4,7.794992e-4,0.001169249,0.001558998,0.001461561,0.002143623,0.002825685,0.004092371,0.004579558,0.005456494,0.00974374,0.01013349,0.01685667,0.02270291,0.03848777,0.06109325,0.11673,0.1996492,0.2451525,0.1716847,0.05329826,0.009159115,0.001364124,3.897496e-4,1.948748e-4,3.897496e-4,4.87187e-4,3.897496e-4,1.948748e-4,3.897496e-4,3.897496e-4,9.74374e-5,6.820618e-4,3.897496e-4,6.820618e-4,4.87187e-4,2.923122e-4,3.897496e-4,6.820618e-4,3.897496e-4,3.897496e-4,9.74374e-5,1.948748e-4,9.74374e-5,2.923122e-4,1.948748e-4,3.897496e-4,9.74374e-5,9.74374e-5,1.948748e-4,1.948748e-4,1.948748e-4,2.923122e-4,2.923122e-4,0,6.820618e-4,1.948748e-4,1.948748e-4,1.948748e-4,1.948748e-4,0,2.923122e-4,1.948748e-4,2.923122e-4,9.74374e-5,9.74374e-5,9.74374e-5,9.74374e-5,9.74374e-5,2.923122e-4,2.923122e-4,9.74374e-5,0,0,9.74374e-5,2.923122e-4,1.948748e-4,1.948748e-4,0,9.74374e-5,0,1.948748e-4,9.74374e-5,3.897496e-4,9.74374e-5,0.02728247]},{\"_typename\":\"TH1F\",\"fUniqueID\":0,\"fBits\":50332169,\"fName\":\"EG_EGq2_GENEtaBC_ptResp\",\"fTitle\":\"EG Pt resp.\",\"fLineColor\":2,\"fLineStyle\":1,\"fLineWidth\":1,\"fFillColor\":0,\"fFillStyle\":1001,\"fMarkerColor\":1,\"fMarkerStyle\":1,\"fMarkerSize\":1,\"fNcells\":102,\"fXaxis\":{\"_typename\":\"TAxis\",\"fUniqueID\":0,\"fBits\":50331648,\"fName\":\"xaxis\",\"fTitle\":\" p_{T}^{L1}\\/p_{T}^{GEN}\",\"fNdivisions\":510,\"fAxisColor\":1,\"fLabelColor\":1,\"fLabelFont\":42,\"fLabelOffset\":0.005,\"fLabelSize\":0.035,\"fTickLength\":0.03,\"fTitleOffset\":1,\"fTitleSize\":0.035,\"fTitleColor\":1,\"fTitleFont\":42,\"fNbins\":100,\"fXmin\":0,\"fXmax\":3,\"fXbins\":[],\"fFirst\":0,\"fLast\":0,\"fBits2\":0,\"fTimeDisplay\":false,\"fTimeFormat\":\"\",\"fLabels\":null,\"fModLabs\":null},\"fYaxis\":{\"_typename\":\"TAxis\",\"fUniqueID\":0,\"fBits\":50331656,\"fName\":\"yaxis\",\"fTitle\":\"\",\"fNdivisions\":510,\"fAxisColor\":1,\"fLabelColor\":1,\"fLabelFont\":42,\"fLabelOffset\":0.005,\"fLabelSize\":0.035,\"fTickLength\":0.03,\"fTitleOffset\":0,\"fTitleSize\":0.035,\"fTitleColor\":1,\"fTitleFont\":42,\"fNbins\":1,\"fXmin\":0,\"fXmax\":1,\"fXbins\":[],\"fFirst\":0,\"fLast\":0,\"fBits2\":0,\"fTimeDisplay\":false,\"fTimeFormat\":\"\",\"fLabels\":null,\"fModLabs\":null},\"fZaxis\":{\"_typename\":\"TAxis\",\"fUniqueID\":0,\"fBits\":50331648,\"fName\":\"zaxis\",\"fTitle\":\"\",\"fNdivisions\":510,\"fAxisColor\":1,\"fLabelColor\":1,\"fLabelFont\":42,\"fLabelOffset\":0.005,\"fLabelSize\":0.035,\"fTickLength\":0.03,\"fTitleOffset\":1,\"fTitleSize\":0.035,\"fTitleColor\":1,\"fTitleFont\":42,\"fNbins\":1,\"fXmin\":0,\"fXmax\":1,\"fXbins\":[],\"fFirst\":0,\"fLast\":0,\"fBits2\":0,\"fTimeDisplay\":false,\"fTimeFormat\":\"\",\"fLabels\":null,\"fModLabs\":null},\"fBarOffset\":0,\"fBarWidth\":1000,\"fEntries\":10543,\"fTsumw\":10269,\"fTsumw2\":10269,\"fTsumwx\":10070.8625595458,\"fTsumwx2\":10127.7885493214,\"fMaximum\":0.294182986021042,\"fMinimum\":0,\"fNormFactor\":0,\"fContour\":[],\"fSumw2\":[0,0,9.48295505683367e-9,0,9.48295505683367e-9,9.48295505683367e-9,0,3.79318202273347e-8,1.89659101136673e-8,9.48295505683367e-9,4.74147752841684e-8,1.89659101136673e-8,3.79318202273347e-8,2.8448865170501e-8,8.53465955115031e-8,9.48295505683367e-8,8.53465955115031e-8,1.13795460682004e-7,1.32761370795671e-7,1.89659101136673e-7,1.8017614607984e-7,2.75005696648176e-7,3.12937516875511e-7,4.17250022500682e-7,4.93113662955351e-7,5.78460258466854e-7,9.76744370853868e-7,1.06209096636537e-6,1.62158531471856e-6,2.23797739341275e-6,3.70783542722197e-6,5.88891509029371e-6,1.12183358322342e-5,1.89943589788378e-5,2.36125580915158e-5,1.67943134056524e-5,5.45269915767936e-6,9.38812550626534e-7,1.70693191023006e-7,5.6897730341002e-8,2.8448865170501e-8,4.74147752841684e-8,4.74147752841684e-8,4.74147752841684e-8,2.8448865170501e-8,1.89659101136673e-8,5.6897730341002e-8,9.48295505683367e-9,7.58636404546694e-8,3.79318202273347e-8,5.6897730341002e-8,4.74147752841684e-8,1.89659101136673e-8,4.74147752841684e-8,6.63806853978357e-8,3.79318202273347e-8,2.8448865170501e-8,9.48295505683367e-9,1.89659101136673e-8,1.89659101136673e-8,1.89659101136673e-8,9.48295505683367e-9,3.79318202273347e-8,9.48295505683367e-9,9.48295505683367e-9,3.79318202273347e-8,1.89659101136673e-8,1.89659101136673e-8,3.79318202273347e-8,2.8448865170501e-8,0,6.63806853978357e-8,1.89659101136673e-8,1.89659101136673e-8,1.89659101136673e-8,1.89659101136673e-8,0,2.8448865170501e-8,9.48295505683367e-9,1.89659101136673e-8,1.89659101136673e-8,9.48295505683367e-9,9.48295505683367e-9,9.48295505683367e-9,9.48295505683367e-9,2.8448865170501e-8,2.8448865170501e-8,9.48295505683367e-9,0,0,9.48295505683367e-9,2.8448865170501e-8,1.89659101136673e-8,9.48295505683367e-9,0,9.48295505683367e-9,0,9.48295505683367e-9,2.8448865170501e-8,3.79318202273347e-8,9.48295505683367e-9,2.59832968557243e-6],\"fOption\":\"\",\"fFunctions\":{\"_typename\":\"TList\",\"name\":\"TList\",\"arr\":[],\"opt\":[]},\"fBufferSize\":0,\"fBuffer\":[],\"fBinStatErrOpt\":0,\"fStatOverflows\":2,\"fArray\":[0,0,9.738046e-5,0,9.738046e-5,9.738046e-5,0,3.895219e-4,1.947609e-4,9.738046e-5,4.869023e-4,1.947609e-4,3.895219e-4,2.921414e-4,8.764242e-4,9.738047e-4,8.764242e-4,0.001168566,0.001363327,0.001947609,0.001850229,0.002824034,0.003213555,0.00428474,0.005063784,0.005940208,0.01003019,0.01090661,0.01665206,0.02298179,0.03807576,0.06047327,0.1152011,0.1950531,0.2424774,0.1724608,0.05599377,0.009640666,0.001752848,5.842828e-4,2.921414e-4,4.869023e-4,4.869023e-4,4.869023e-4,2.921414e-4,1.947609e-4,5.842828e-4,9.738046e-5,7.790437e-4,3.895219e-4,5.842828e-4,4.869023e-4,1.947609e-4,4.869023e-4,6.816633e-4,3.895219e-4,2.921414e-4,9.738046e-5,1.947609e-4,1.947609e-4,1.947609e-4,9.738046e-5,3.895219e-4,9.738046e-5,9.738046e-5,3.895219e-4,1.947609e-4,1.947609e-4,3.895219e-4,2.921414e-4,0,6.816633e-4,1.947609e-4,1.947609e-4,1.947609e-4,1.947609e-4,0,2.921414e-4,9.738046e-5,1.947609e-4,1.947609e-4,9.738046e-5,9.738046e-5,9.738046e-5,9.738046e-5,2.921414e-4,2.921414e-4,9.738046e-5,0,0,9.738046e-5,2.921414e-4,1.947609e-4,9.738046e-5,0,9.738046e-5,0,9.738046e-5,2.921414e-4,3.895219e-4,9.738046e-5,0.02668225]},{\"_typename\":\"TLegend\",\"fUniqueID\":0,\"fBits\":50331656,\"fLineColor\":1,\"fLineStyle\":1,\"fLineWidth\":1,\"fFillColor\":0,\"fFillStyle\":0,\"fX1\":3.00000006274173,\"fY1\":0.221592380328456,\"fX2\":4.31578955293692,\"fY2\":0.275080196098033,\"fX1NDC\":0.7,\"fY1NDC\":0.71,\"fX2NDC\":0.95,\"fY2NDC\":0.85,\"fBorderSize\":0,\"fInit\":1,\"fShadowColor\":1,\"fCornerRadius\":0,\"fOption\":\"brNDC\",\"fName\":\"TPave\",\"fTextAngle\":0,\"fTextSize\":0.05,\"fTextAlign\":12,\"fTextColor\":1,\"fTextFont\":42,\"fPrimitives\":{\"_typename\":\"TList\",\"name\":\"TList\",\"arr\":[{\"_typename\":\"TLegendEntry\",\"fUniqueID\":0,\"fBits\":50331656,\"fTextAngle\":0,\"fTextSize\":0,\"fTextAlign\":0,\"fTextColor\":0,\"fTextFont\":42,\"fLineColor\":1,\"fLineStyle\":1,\"fLineWidth\":1,\"fFillColor\":0,\"fFillStyle\":0,\"fMarkerColor\":1,\"fMarkerStyle\":21,\"fMarkerSize\":1,\"fObject\":{\"_typename\":\"TH1F\",\"fUniqueID\":0,\"fBits\":50332168,\"fName\":\"EG_EGq3_GENEtaBC_ptResp\",\"fTitle\":\"EG Pt resp.\",\"fLineColor\":1,\"fLineStyle\":1,\"fLineWidth\":1,\"fFillColor\":0,\"fFillStyle\":1001,\"fMarkerColor\":1,\"fMarkerStyle\":1,\"fMarkerSize\":1,\"fNcells\":102,\"fXaxis\":{\"_typename\":\"TAxis\",\"fUniqueID\":0,\"fBits\":50331648,\"fName\":\"xaxis\",\"fTitle\":\" p_{T}^{L1}\\/p_{T}^{GEN}\",\"fNdivisions\":510,\"fAxisColor\":1,\"fLabelColor\":1,\"fLabelFont\":42,\"fLabelOffset\":0.005,\"fLabelSize\":0.035,\"fTickLength\":0.03,\"fTitleOffset\":1,\"fTitleSize\":0.035,\"fTitleColor\":1,\"fTitleFont\":42,\"fNbins\":100,\"fXmin\":0,\"fXmax\":3,\"fXbins\":[],\"fFirst\":0,\"fLast\":0,\"fBits2\":0,\"fTimeDisplay\":false,\"fTimeFormat\":\"\",\"fLabels\":null,\"fModLabs\":null},\"fYaxis\":{\"_typename\":\"TAxis\",\"fUniqueID\":0,\"fBits\":50331648,\"fName\":\"yaxis\",\"fTitle\":\"\",\"fNdivisions\":510,\"fAxisColor\":1,\"fLabelColor\":1,\"fLabelFont\":42,\"fLabelOffset\":0.005,\"fLabelSize\":0.035,\"fTickLength\":0.03,\"fTitleOffset\":0,\"fTitleSize\":0.035,\"fTitleColor\":1,\"fTitleFont\":42,\"fNbins\":1,\"fXmin\":0,\"fXmax\":1,\"fXbins\":[],\"fFirst\":0,\"fLast\":0,\"fBits2\":0,\"fTimeDisplay\":false,\"fTimeFormat\":\"\",\"fLabels\":null,\"fModLabs\":null},\"fZaxis\":{\"_typename\":\"TAxis\",\"fUniqueID\":0,\"fBits\":50331648,\"fName\":\"zaxis\",\"fTitle\":\"\",\"fNdivisions\":510,\"fAxisColor\":1,\"fLabelColor\":1,\"fLabelFont\":42,\"fLabelOffset\":0.005,\"fLabelSize\":0.035,\"fTickLength\":0.03,\"fTitleOffset\":1,\"fTitleSize\":0.035,\"fTitleColor\":1,\"fTitleFont\":42,\"fNbins\":1,\"fXmin\":0,\"fXmax\":1,\"fXbins\":[],\"fFirst\":0,\"fLast\":0,\"fBits2\":0,\"fTimeDisplay\":false,\"fTimeFormat\":\"\",\"fLabels\":null,\"fModLabs\":null},\"fBarOffset\":0,\"fBarWidth\":1000,\"fEntries\":10543,\"fTsumw\":10263,\"fTsumw2\":10263,\"fTsumwx\":10074.765969608,\"fTsumwx2\":10134.1734037979,\"fMaximum\":-1111,\"fMinimum\":-1111,\"fNormFactor\":0,\"fContour\":[],\"fSumw2\":[0,0,1,0,1,1,0,4,2,1,5,2,4,3,9,8,9,8,12,16,15,22,29,42,47,56,100,104,173,233,395,627,1198,2049,2516,1762,547,94,14,4,2,4,5,4,2,4,4,1,7,4,7,5,3,4,7,4,4,1,2,1,3,2,4,1,1,2,2,2,3,3,0,7,2,2,2,2,0,3,2,3,1,1,1,1,1,3,3,1,0,0,1,3,2,2,0,1,0,2,1,4,1,280],\"fOption\":\"\",\"fFunctions\":{\"_typename\":\"TList\",\"name\":\"TList\",\"arr\":[],\"opt\":[]},\"fBufferSize\":0,\"fBuffer\":[],\"fBinStatErrOpt\":0,\"fStatOverflows\":2,\"fArray\":[0,0,1,0,1,1,0,4,2,1,5,2,4,3,9,8,9,8,12,16,15,22,29,42,47,56,100,104,173,233,395,627,1198,2049,2516,1762,547,94,14,4,2,4,5,4,2,4,4,1,7,4,7,5,3,4,7,4,4,1,2,1,3,2,4,1,1,2,2,2,3,3,0,7,2,2,2,2,0,3,2,3,1,1,1,1,1,3,3,1,0,0,1,3,2,2,0,1,0,2,1,4,1,280]},\"fLabel\":\"q3\",\"fOption\":\"l\"},{\"_typename\":\"TLegendEntry\",\"fUniqueID\":0,\"fBits\":50331656,\"fTextAngle\":0,\"fTextSize\":0,\"fTextAlign\":0,\"fTextColor\":0,\"fTextFont\":42,\"fLineColor\":2,\"fLineStyle\":1,\"fLineWidth\":1,\"fFillColor\":0,\"fFillStyle\":0,\"fMarkerColor\":1,\"fMarkerStyle\":21,\"fMarkerSize\":1,\"fObject\":{\"_typename\":\"TH1F\",\"fUniqueID\":0,\"fBits\":50332168,\"fName\":\"EG_EGq2_GENEtaBC_ptResp\",\"fTitle\":\"EG Pt resp.\",\"fLineColor\":2,\"fLineStyle\":1,\"fLineWidth\":1,\"fFillColor\":0,\"fFillStyle\":1001,\"fMarkerColor\":1,\"fMarkerStyle\":1,\"fMarkerSize\":1,\"fNcells\":102,\"fXaxis\":{\"_typename\":\"TAxis\",\"fUniqueID\":0,\"fBits\":50331648,\"fName\":\"xaxis\",\"fTitle\":\" p_{T}^{L1}\\/p_{T}^{GEN}\",\"fNdivisions\":510,\"fAxisColor\":1,\"fLabelColor\":1,\"fLabelFont\":42,\"fLabelOffset\":0.005,\"fLabelSize\":0.035,\"fTickLength\":0.03,\"fTitleOffset\":1,\"fTitleSize\":0.035,\"fTitleColor\":1,\"fTitleFont\":42,\"fNbins\":100,\"fXmin\":0,\"fXmax\":3,\"fXbins\":[],\"fFirst\":0,\"fLast\":0,\"fBits2\":0,\"fTimeDisplay\":false,\"fTimeFormat\":\"\",\"fLabels\":null,\"fModLabs\":null},\"fYaxis\":{\"_typename\":\"TAxis\",\"fUniqueID\":0,\"fBits\":50331648,\"fName\":\"yaxis\",\"fTitle\":\"\",\"fNdivisions\":510,\"fAxisColor\":1,\"fLabelColor\":1,\"fLabelFont\":42,\"fLabelOffset\":0.005,\"fLabelSize\":0.035,\"fTickLength\":0.03,\"fTitleOffset\":0,\"fTitleSize\":0.035,\"fTitleColor\":1,\"fTitleFont\":42,\"fNbins\":1,\"fXmin\":0,\"fXmax\":1,\"fXbins\":[],\"fFirst\":0,\"fLast\":0,\"fBits2\":0,\"fTimeDisplay\":false,\"fTimeFormat\":\"\",\"fLabels\":null,\"fModLabs\":null},\"fZaxis\":{\"_typename\":\"TAxis\",\"fUniqueID\":0,\"fBits\":50331648,\"fName\":\"zaxis\",\"fTitle\":\"\",\"fNdivisions\":510,\"fAxisColor\":1,\"fLabelColor\":1,\"fLabelFont\":42,\"fLabelOffset\":0.005,\"fLabelSize\":0.035,\"fTickLength\":0.03,\"fTitleOffset\":1,\"fTitleSize\":0.035,\"fTitleColor\":1,\"fTitleFont\":42,\"fNbins\":1,\"fXmin\":0,\"fXmax\":1,\"fXbins\":[],\"fFirst\":0,\"fLast\":0,\"fBits2\":0,\"fTimeDisplay\":false,\"fTimeFormat\":\"\",\"fLabels\":null,\"fModLabs\":null},\"fBarOffset\":0,\"fBarWidth\":1000,\"fEntries\":10543,\"fTsumw\":10269,\"fTsumw2\":10269,\"fTsumwx\":10070.8625595458,\"fTsumwx2\":10127.7885493214,\"fMaximum\":-1111,\"fMinimum\":-1111,\"fNormFactor\":0,\"fContour\":[],\"fSumw2\":[0,0,1,0,1,1,0,4,2,1,5,2,4,3,9,10,9,12,14,20,19,29,33,44,52,61,103,112,171,236,391,621,1183,2003,2490,1771,575,99,18,6,3,5,5,5,3,2,6,1,8,4,6,5,2,5,7,4,3,1,2,2,2,1,4,1,1,4,2,2,4,3,0,7,2,2,2,2,0,3,1,2,2,1,1,1,1,3,3,1,0,0,1,3,2,1,0,1,0,1,3,4,1,274],\"fOption\":\"\",\"fFunctions\":{\"_typename\":\"TList\",\"name\":\"TList\",\"arr\":[],\"opt\":[]},\"fBufferSize\":0,\"fBuffer\":[],\"fBinStatErrOpt\":0,\"fStatOverflows\":2,\"fArray\":[0,0,1,0,1,1,0,4,2,1,5,2,4,3,9,10,9,12,14,20,19,29,33,44,52,61,103,112,171,236,391,621,1183,2003,2490,1771,575,99,18,6,3,5,5,5,3,2,6,1,8,4,6,5,2,5,7,4,3,1,2,2,2,1,4,1,1,4,2,2,4,3,0,7,2,2,2,2,0,3,1,2,2,1,1,1,1,3,3,1,0,0,1,3,2,1,0,1,0,1,3,4,1,274]},\"fLabel\":\"q2\",\"fOption\":\"l\"}],\"opt\":[\"l\",\"l\"]},\"fEntrySeparation\":0.1,\"fMargin\":0.25,\"fNColumns\":1,\"fColumnSeparation\":0},{\"_typename\":\"TLatex\",\"fUniqueID\":0,\"fBits\":50348040,\"fName\":\"\",\"fTitle\":\"PU0, EG, 1.52 < |#eta^{GEN}| <= 2.4\",\"fTextAngle\":0,\"fTextSize\":0.03,\"fTextAlign\":11,\"fTextColor\":1,\"fTextFont\":62,\"fX\":0.15,\"fY\":0.85,\"fLineColor\":1,\"fLineStyle\":1,\"fLineWidth\":2,\"fLimitFactorSize\":3,\"fOriginSize\":0.04}],\"opt\":[\"\",\"HIST\",\"SAME,HIST\",\"\",\"same\"]},\"fExecs\":null,\"fName\":\"c_f98a77\",\"fTitle\":\"c_f98a77\",\"fNumPaletteColor\":0,\"fNextPaletteColor\":0,\"fDISPLAY\":\"$DISPLAY\",\"fDoubleBuffer\":0,\"fRetained\":true,\"fXsizeUser\":0,\"fYsizeUser\":0,\"fXsizeReal\":20,\"fYsizeReal\":15,\"fWindowTopX\":0,\"fWindowTopY\":0,\"fWindowWidth\":0,\"fWindowHeight\":0,\"fCw\":796,\"fCh\":572,\"fCatt\":{\"_typename\":\"TAttCanvas\",\"fXBetween\":2,\"fYBetween\":2,\"fTitleFromTop\":1.2,\"fXdate\":0.2,\"fYdate\":0.3,\"fAdate\":1},\"kMoveOpaque\":true,\"kResizeOpaque\":true,\"fHighLightColor\":2,\"fBatch\":true,\"kShowEventStatus\":false,\"kAutoExec\":true,\"kMenuBar\":true});\n",
       "       Core.draw(\"root_plot_9\", obj, \"\");\n",
       "     }\n",
       " );\n",
       "</script>\n"
      ],
      "text/plain": [
       "<IPython.core.display.HTML object>"
      ]
     },
     "metadata": {},
     "output_type": "display_data"
    },
    {
     "data": {
      "text/html": [
       "\n",
       "<div id=\"root_plot_10\"\n",
       "     style=\"width: 796px; height: 572px\">\n",
       "</div>\n",
       "\n",
       "<script>\n",
       " requirejs.config({\n",
       "     paths: {\n",
       "       'JSRootCore' : 'https://root.cern.ch/js/notebook//scripts/JSRootCore',\n",
       "     }\n",
       "   });\n",
       " require(['JSRootCore'],\n",
       "     function(Core) {\n",
       "       var obj = Core.JSONR_unref({\"_typename\":\"TCanvas\",\"fUniqueID\":0,\"fBits\":53673992,\"fLineColor\":1,\"fLineStyle\":1,\"fLineWidth\":1,\"fFillColor\":0,\"fFillStyle\":1001,\"fLeftMargin\":0.13,\"fRightMargin\":0.3,\"fBottomMargin\":0.13,\"fTopMargin\":0.1,\"fXfile\":2,\"fYfile\":2,\"fAfile\":1,\"fXstat\":0.99,\"fYstat\":0.99,\"fAstat\":2,\"fFrameFillColor\":0,\"fFrameLineColor\":1,\"fFrameFillStyle\":1001,\"fFrameLineStyle\":1,\"fFrameLineWidth\":1,\"fFrameBorderSize\":1,\"fFrameBorderMode\":0,\"fX1\":-0.684210509804807,\"fY1\":-0.0482614165447878,\"fX2\":4.57894745097596,\"fY2\":0.322980254503515,\"fXtoAbsPixelk\":103.480046204376,\"fXtoPixelk\":103.480046204376,\"fXtoPixel\":151.239998102188,\"fYtoAbsPixelk\":497.640051065433,\"fYtoPixelk\":497.640051065433,\"fYtoPixel\":-1540.77530786025,\"fUtoAbsPixelk\":5e-5,\"fUtoPixelk\":5e-5,\"fUtoPixel\":796,\"fVtoAbsPixelk\":572.00005,\"fVtoPixelk\":572,\"fVtoPixel\":-572,\"fAbsPixeltoXk\":-0.684210509804807,\"fPixeltoXk\":-0.684210509804807,\"fPixeltoX\":0.00661200748841805,\"fAbsPixeltoYk\":0.322980254503515,\"fPixeltoYk\":-0.0482614165447878,\"fPixeltoY\":-6.49023900434095e-4,\"fXlowNDC\":0,\"fYlowNDC\":0,\"fXUpNDC\":0,\"fYUpNDC\":0,\"fWNDC\":1,\"fHNDC\":1,\"fAbsXlowNDC\":0,\"fAbsYlowNDC\":0,\"fAbsWNDC\":1,\"fAbsHNDC\":1,\"fUxmin\":0,\"fUymin\":0,\"fUxmax\":3,\"fUymax\":0.285856086015701,\"fTheta\":30,\"fPhi\":30,\"fAspectRatio\":0,\"fNumber\":0,\"fTickx\":0,\"fTicky\":0,\"fLogx\":0,\"fLogy\":0,\"fLogz\":0,\"fPadPaint\":0,\"fCrosshair\":0,\"fCrosshairPos\":0,\"fBorderSize\":2,\"fBorderMode\":0,\"fModified\":false,\"fGridx\":false,\"fGridy\":false,\"fAbsCoord\":false,\"fEditable\":true,\"fFixedAspectRatio\":false,\"fPrimitives\":{\"_typename\":\"TList\",\"name\":\"TList\",\"arr\":[{\"_typename\":\"TFrame\",\"fUniqueID\":0,\"fBits\":50331656,\"fLineColor\":1,\"fLineStyle\":1,\"fLineWidth\":1,\"fFillColor\":0,\"fFillStyle\":1001,\"fX1\":0,\"fY1\":0,\"fX2\":3,\"fY2\":0.285856086015701,\"fBorderSize\":1,\"fBorderMode\":0},{\"_typename\":\"TH1F\",\"fUniqueID\":0,\"fBits\":50332169,\"fName\":\"EG_EGq3_GENEtaD_ptResp\",\"fTitle\":\"EG Pt resp.\",\"fLineColor\":1,\"fLineStyle\":1,\"fLineWidth\":1,\"fFillColor\":0,\"fFillStyle\":1001,\"fMarkerColor\":1,\"fMarkerStyle\":1,\"fMarkerSize\":1,\"fNcells\":102,\"fXaxis\":{\"_typename\":\"TAxis\",\"fUniqueID\":0,\"fBits\":50331648,\"fName\":\"xaxis\",\"fTitle\":\" p_{T}^{L1}\\/p_{T}^{GEN}\",\"fNdivisions\":510,\"fAxisColor\":1,\"fLabelColor\":1,\"fLabelFont\":42,\"fLabelOffset\":0.005,\"fLabelSize\":0.035,\"fTickLength\":0.03,\"fTitleOffset\":1,\"fTitleSize\":0.035,\"fTitleColor\":1,\"fTitleFont\":42,\"fNbins\":100,\"fXmin\":0,\"fXmax\":3,\"fXbins\":[],\"fFirst\":0,\"fLast\":0,\"fBits2\":0,\"fTimeDisplay\":false,\"fTimeFormat\":\"\",\"fLabels\":null,\"fModLabs\":null},\"fYaxis\":{\"_typename\":\"TAxis\",\"fUniqueID\":0,\"fBits\":50331656,\"fName\":\"yaxis\",\"fTitle\":\"\",\"fNdivisions\":510,\"fAxisColor\":1,\"fLabelColor\":1,\"fLabelFont\":42,\"fLabelOffset\":0.005,\"fLabelSize\":0.035,\"fTickLength\":0.03,\"fTitleOffset\":0,\"fTitleSize\":0.035,\"fTitleColor\":1,\"fTitleFont\":42,\"fNbins\":1,\"fXmin\":0,\"fXmax\":1,\"fXbins\":[],\"fFirst\":0,\"fLast\":0,\"fBits2\":0,\"fTimeDisplay\":false,\"fTimeFormat\":\"\",\"fLabels\":null,\"fModLabs\":null},\"fZaxis\":{\"_typename\":\"TAxis\",\"fUniqueID\":0,\"fBits\":50331648,\"fName\":\"zaxis\",\"fTitle\":\"\",\"fNdivisions\":510,\"fAxisColor\":1,\"fLabelColor\":1,\"fLabelFont\":42,\"fLabelOffset\":0.005,\"fLabelSize\":0.035,\"fTickLength\":0.03,\"fTitleOffset\":1,\"fTitleSize\":0.035,\"fTitleColor\":1,\"fTitleFont\":42,\"fNbins\":1,\"fXmin\":0,\"fXmax\":1,\"fXbins\":[],\"fFirst\":0,\"fLast\":0,\"fBits2\":0,\"fTimeDisplay\":false,\"fTimeFormat\":\"\",\"fLabels\":null,\"fModLabs\":null},\"fBarOffset\":0,\"fBarWidth\":1000,\"fEntries\":4538,\"fTsumw\":4433,\"fTsumw2\":4433,\"fTsumwx\":4200.28063985705,\"fTsumwx2\":4172.90294192393,\"fMaximum\":0.285856086015701,\"fMinimum\":0,\"fNormFactor\":0,\"fContour\":[],\"fSumw2\":[0,0,5.08867292447916e-8,5.08867292447916e-8,0,2.03546916979166e-7,1.52660187734375e-7,2.54433646223958e-7,3.56207104713541e-7,4.07093833958333e-7,3.56207104713541e-7,5.59754021692707e-7,6.10640750937499e-7,9.6684785565104e-7,8.14187667916665e-7,7.63300938671874e-7,1.01773458489583e-6,1.11950804338541e-6,1.17039477263021e-6,1.221281501875e-6,1.27216823111979e-6,1.88280898205729e-6,2.44256300375e-6,2.13724262828125e-6,2.13724262828125e-6,3.10409048393229e-6,3.30763740091145e-6,3.25675067166666e-6,5.03778619523437e-6,5.75020040466145e-6,6.76793498955728e-6,1.221281501875e-5,2.22883874092187e-5,4.21342118146874e-5,5.37363860824999e-5,3.52645033666406e-5,7.8365563036979e-6,8.65074397161457e-7,1.52660187734375e-7,1.01773458489583e-7,1.52660187734375e-7,1.01773458489583e-7,5.08867292447916e-8,1.52660187734375e-7,5.08867292447916e-8,1.52660187734375e-7,1.01773458489583e-7,1.01773458489583e-7,1.01773458489583e-7,2.03546916979166e-7,0,1.01773458489583e-7,0,1.01773458489583e-7,1.01773458489583e-7,5.08867292447916e-8,5.08867292447916e-8,1.52660187734375e-7,0,0,1.01773458489583e-7,5.08867292447916e-8,1.01773458489583e-7,0,1.01773458489583e-7,5.08867292447916e-8,5.08867292447916e-8,1.01773458489583e-7,1.01773458489583e-7,5.08867292447916e-8,5.08867292447916e-8,0,0,1.01773458489583e-7,1.01773458489583e-7,5.08867292447916e-8,0,0,0,5.08867292447916e-8,0,5.08867292447916e-8,0,5.08867292447916e-8,5.08867292447916e-8,5.08867292447916e-8,5.08867292447916e-8,1.01773458489583e-7,5.08867292447916e-8,0,1.01773458489583e-7,1.01773458489583e-7,5.08867292447916e-8,5.08867292447916e-8,5.08867292447916e-8,1.01773458489583e-7,1.01773458489583e-7,0,5.08867292447916e-8,0,0,5.34310657070312e-6],\"fOption\":\"\",\"fFunctions\":{\"_typename\":\"TList\",\"name\":\"TList\",\"arr\":[],\"opt\":[]},\"fBufferSize\":0,\"fBuffer\":[],\"fBinStatErrOpt\":0,\"fStatOverflows\":2,\"fArray\":[0,0,2.255809e-4,2.255809e-4,0,9.023235e-4,6.767426e-4,0.001127904,0.001579066,0.001804647,0.001579066,0.00248139,0.002706971,0.004286036,0.003609294,0.003383713,0.004511618,0.004962779,0.00518836,0.005413941,0.005639522,0.008346492,0.01082788,0.009474397,0.009474397,0.01376043,0.01466276,0.01443718,0.02233251,0.02549064,0.03000225,0.05413941,0.09880442,0.186781,0.2382134,0.1563275,0.03473945,0.003834875,6.767426e-4,4.511617e-4,6.767426e-4,4.511617e-4,2.255809e-4,6.767426e-4,2.255809e-4,6.767426e-4,4.511617e-4,4.511617e-4,4.511617e-4,9.023235e-4,0,4.511617e-4,0,4.511617e-4,4.511617e-4,2.255809e-4,2.255809e-4,6.767426e-4,0,0,4.511617e-4,2.255809e-4,4.511617e-4,0,4.511617e-4,2.255809e-4,2.255809e-4,4.511617e-4,4.511617e-4,2.255809e-4,2.255809e-4,0,0,4.511617e-4,4.511617e-4,2.255809e-4,0,0,0,2.255809e-4,0,2.255809e-4,0,2.255809e-4,2.255809e-4,2.255809e-4,2.255809e-4,4.511617e-4,2.255809e-4,0,4.511617e-4,4.511617e-4,2.255809e-4,2.255809e-4,2.255809e-4,4.511617e-4,4.511617e-4,0,2.255809e-4,0,0,0.02368599]},{\"_typename\":\"TH1F\",\"fUniqueID\":0,\"fBits\":50332169,\"fName\":\"EG_EGq2_GENEtaD_ptResp\",\"fTitle\":\"EG Pt resp.\",\"fLineColor\":2,\"fLineStyle\":1,\"fLineWidth\":1,\"fFillColor\":0,\"fFillStyle\":1001,\"fMarkerColor\":1,\"fMarkerStyle\":1,\"fMarkerSize\":1,\"fNcells\":102,\"fXaxis\":{\"_typename\":\"TAxis\",\"fUniqueID\":0,\"fBits\":50331648,\"fName\":\"xaxis\",\"fTitle\":\" p_{T}^{L1}\\/p_{T}^{GEN}\",\"fNdivisions\":510,\"fAxisColor\":1,\"fLabelColor\":1,\"fLabelFont\":42,\"fLabelOffset\":0.005,\"fLabelSize\":0.035,\"fTickLength\":0.03,\"fTitleOffset\":1,\"fTitleSize\":0.035,\"fTitleColor\":1,\"fTitleFont\":42,\"fNbins\":100,\"fXmin\":0,\"fXmax\":3,\"fXbins\":[],\"fFirst\":0,\"fLast\":0,\"fBits2\":0,\"fTimeDisplay\":false,\"fTimeFormat\":\"\",\"fLabels\":null,\"fModLabs\":null},\"fYaxis\":{\"_typename\":\"TAxis\",\"fUniqueID\":0,\"fBits\":50331656,\"fName\":\"yaxis\",\"fTitle\":\"\",\"fNdivisions\":510,\"fAxisColor\":1,\"fLabelColor\":1,\"fLabelFont\":42,\"fLabelOffset\":0.005,\"fLabelSize\":0.035,\"fTickLength\":0.03,\"fTitleOffset\":0,\"fTitleSize\":0.035,\"fTitleColor\":1,\"fTitleFont\":42,\"fNbins\":1,\"fXmin\":0,\"fXmax\":1,\"fXbins\":[],\"fFirst\":0,\"fLast\":0,\"fBits2\":0,\"fTimeDisplay\":false,\"fTimeFormat\":\"\",\"fLabels\":null,\"fModLabs\":null},\"fZaxis\":{\"_typename\":\"TAxis\",\"fUniqueID\":0,\"fBits\":50331648,\"fName\":\"zaxis\",\"fTitle\":\"\",\"fNdivisions\":510,\"fAxisColor\":1,\"fLabelColor\":1,\"fLabelFont\":42,\"fLabelOffset\":0.005,\"fLabelSize\":0.035,\"fTickLength\":0.03,\"fTitleOffset\":1,\"fTitleSize\":0.035,\"fTitleColor\":1,\"fTitleFont\":42,\"fNbins\":1,\"fXmin\":0,\"fXmax\":1,\"fXbins\":[],\"fFirst\":0,\"fLast\":0,\"fBits2\":0,\"fTimeDisplay\":false,\"fTimeFormat\":\"\",\"fLabels\":null,\"fModLabs\":null},\"fBarOffset\":0,\"fBarWidth\":1000,\"fEntries\":4538,\"fTsumw\":4436,\"fTsumw2\":4436,\"fTsumwx\":4138.60026064515,\"fTsumwx2\":4071.53686452158,\"fMaximum\":0.285856086015701,\"fMinimum\":0,\"fNormFactor\":0,\"fContour\":[],\"fSumw2\":[0,0,5.08179246610038e-8,5.08179246610038e-8,0,2.03271698644015e-7,1.52453773983011e-7,2.54089623305019e-7,3.55725472627026e-7,3.55725472627026e-7,4.0654339728803e-7,6.09815095932045e-7,5.58997171271042e-7,9.65540568559072e-7,8.1308679457606e-7,7.62268869915057e-7,1.06717641788108e-6,1.27044811652509e-6,1.98189906177915e-6,2.13435283576216e-6,2.23598868508417e-6,2.89662170567722e-6,3.15071132898223e-6,2.94743963033822e-6,3.50643680160926e-6,4.31952359618532e-6,4.47197737016833e-6,4.26870567152432e-6,5.64078963737142e-6,5.89487926067644e-6,7.01287360321852e-6,1.19422122953359e-5,2.03779877890625e-5,3.84691689683799e-5,4.92425689965127e-5,3.34890123516015e-5,8.28332171974362e-6,8.1308679457606e-7,3.55725472627026e-7,2.03271698644015e-7,1.52453773983011e-7,1.52453773983011e-7,0,1.52453773983011e-7,5.08179246610038e-8,2.03271698644015e-7,1.01635849322008e-7,5.08179246610038e-8,1.01635849322008e-7,2.03271698644015e-7,5.08179246610038e-8,1.01635849322008e-7,0,1.01635849322008e-7,1.01635849322008e-7,0,5.08179246610038e-8,1.52453773983011e-7,0,5.08179246610038e-8,1.01635849322008e-7,5.08179246610038e-8,1.01635849322008e-7,5.08179246610038e-8,1.01635849322008e-7,5.08179246610038e-8,1.01635849322008e-7,1.01635849322008e-7,1.01635849322008e-7,0,5.08179246610038e-8,0,0,5.08179246610038e-8,1.01635849322008e-7,5.08179246610038e-8,5.08179246610038e-8,0,0,5.08179246610038e-8,0,0,0,1.01635849322008e-7,1.01635849322008e-7,5.08179246610038e-8,0,1.01635849322008e-7,1.01635849322008e-7,5.08179246610038e-8,5.08179246610038e-8,5.08179246610038e-8,5.08179246610038e-8,5.08179246610038e-8,5.08179246610038e-8,1.01635849322008e-7,1.01635849322008e-7,0,5.08179246610038e-8,0,0,5.18342831542239e-6],\"fOption\":\"\",\"fFunctions\":{\"_typename\":\"TList\",\"name\":\"TList\",\"arr\":[],\"opt\":[]},\"fBufferSize\":0,\"fBuffer\":[],\"fBinStatErrOpt\":0,\"fStatOverflows\":2,\"fArray\":[0,0,2.254283e-4,2.254283e-4,0,9.017133e-4,6.76285e-4,0.001127142,0.001577998,0.001577998,0.001803427,0.00270514,0.002479712,0.004283138,0.003606853,0.003381425,0.004733995,0.005635708,0.008791705,0.009467989,0.009918846,0.01284941,0.01397656,0.01307484,0.01555455,0.01916141,0.01983769,0.01893598,0.02502254,0.02614968,0.03110911,0.05297565,0.09039675,0.1706492,0.21844,0.1485573,0.03674481,0.003606853,0.001577998,9.017133e-4,6.76285e-4,6.76285e-4,0,6.76285e-4,2.254283e-4,9.017133e-4,4.508566e-4,2.254283e-4,4.508566e-4,9.017133e-4,2.254283e-4,4.508566e-4,0,4.508566e-4,4.508566e-4,0,2.254283e-4,6.76285e-4,0,2.254283e-4,4.508566e-4,2.254283e-4,4.508566e-4,2.254283e-4,4.508566e-4,2.254283e-4,4.508566e-4,4.508566e-4,4.508566e-4,0,2.254283e-4,0,0,2.254283e-4,4.508566e-4,2.254283e-4,2.254283e-4,0,0,2.254283e-4,0,0,0,4.508566e-4,4.508566e-4,2.254283e-4,0,4.508566e-4,4.508566e-4,2.254283e-4,2.254283e-4,2.254283e-4,2.254283e-4,2.254283e-4,2.254283e-4,4.508566e-4,4.508566e-4,0,2.254283e-4,0,0,0.02299369]},{\"_typename\":\"TLegend\",\"fUniqueID\":0,\"fBits\":50331656,\"fLineColor\":1,\"fLineStyle\":1,\"fLineWidth\":1,\"fFillColor\":0,\"fFillStyle\":0,\"fX1\":3.00000006274173,\"fY1\":0.215320169899507,\"fX2\":4.31578955293692,\"fY2\":0.267294003846269,\"fX1NDC\":0.7,\"fY1NDC\":0.71,\"fX2NDC\":0.95,\"fY2NDC\":0.85,\"fBorderSize\":0,\"fInit\":1,\"fShadowColor\":1,\"fCornerRadius\":0,\"fOption\":\"brNDC\",\"fName\":\"TPave\",\"fTextAngle\":0,\"fTextSize\":0.05,\"fTextAlign\":12,\"fTextColor\":1,\"fTextFont\":42,\"fPrimitives\":{\"_typename\":\"TList\",\"name\":\"TList\",\"arr\":[{\"_typename\":\"TLegendEntry\",\"fUniqueID\":0,\"fBits\":50331656,\"fTextAngle\":0,\"fTextSize\":0,\"fTextAlign\":0,\"fTextColor\":0,\"fTextFont\":42,\"fLineColor\":1,\"fLineStyle\":1,\"fLineWidth\":1,\"fFillColor\":0,\"fFillStyle\":0,\"fMarkerColor\":1,\"fMarkerStyle\":21,\"fMarkerSize\":1,\"fObject\":{\"_typename\":\"TH1F\",\"fUniqueID\":0,\"fBits\":50332168,\"fName\":\"EG_EGq3_GENEtaD_ptResp\",\"fTitle\":\"EG Pt resp.\",\"fLineColor\":1,\"fLineStyle\":1,\"fLineWidth\":1,\"fFillColor\":0,\"fFillStyle\":1001,\"fMarkerColor\":1,\"fMarkerStyle\":1,\"fMarkerSize\":1,\"fNcells\":102,\"fXaxis\":{\"_typename\":\"TAxis\",\"fUniqueID\":0,\"fBits\":50331648,\"fName\":\"xaxis\",\"fTitle\":\" p_{T}^{L1}\\/p_{T}^{GEN}\",\"fNdivisions\":510,\"fAxisColor\":1,\"fLabelColor\":1,\"fLabelFont\":42,\"fLabelOffset\":0.005,\"fLabelSize\":0.035,\"fTickLength\":0.03,\"fTitleOffset\":1,\"fTitleSize\":0.035,\"fTitleColor\":1,\"fTitleFont\":42,\"fNbins\":100,\"fXmin\":0,\"fXmax\":3,\"fXbins\":[],\"fFirst\":0,\"fLast\":0,\"fBits2\":0,\"fTimeDisplay\":false,\"fTimeFormat\":\"\",\"fLabels\":null,\"fModLabs\":null},\"fYaxis\":{\"_typename\":\"TAxis\",\"fUniqueID\":0,\"fBits\":50331648,\"fName\":\"yaxis\",\"fTitle\":\"\",\"fNdivisions\":510,\"fAxisColor\":1,\"fLabelColor\":1,\"fLabelFont\":42,\"fLabelOffset\":0.005,\"fLabelSize\":0.035,\"fTickLength\":0.03,\"fTitleOffset\":0,\"fTitleSize\":0.035,\"fTitleColor\":1,\"fTitleFont\":42,\"fNbins\":1,\"fXmin\":0,\"fXmax\":1,\"fXbins\":[],\"fFirst\":0,\"fLast\":0,\"fBits2\":0,\"fTimeDisplay\":false,\"fTimeFormat\":\"\",\"fLabels\":null,\"fModLabs\":null},\"fZaxis\":{\"_typename\":\"TAxis\",\"fUniqueID\":0,\"fBits\":50331648,\"fName\":\"zaxis\",\"fTitle\":\"\",\"fNdivisions\":510,\"fAxisColor\":1,\"fLabelColor\":1,\"fLabelFont\":42,\"fLabelOffset\":0.005,\"fLabelSize\":0.035,\"fTickLength\":0.03,\"fTitleOffset\":1,\"fTitleSize\":0.035,\"fTitleColor\":1,\"fTitleFont\":42,\"fNbins\":1,\"fXmin\":0,\"fXmax\":1,\"fXbins\":[],\"fFirst\":0,\"fLast\":0,\"fBits2\":0,\"fTimeDisplay\":false,\"fTimeFormat\":\"\",\"fLabels\":null,\"fModLabs\":null},\"fBarOffset\":0,\"fBarWidth\":1000,\"fEntries\":4538,\"fTsumw\":4433,\"fTsumw2\":4433,\"fTsumwx\":4200.28063985705,\"fTsumwx2\":4172.90294192393,\"fMaximum\":-1111,\"fMinimum\":-1111,\"fNormFactor\":0,\"fContour\":[],\"fSumw2\":[0,0,1,1,0,4,3,5,7,8,7,11,12,19,16,15,20,22,23,24,25,37,48,42,42,61,65,64,99,113,133,240,438,828,1056,693,154,17,3,2,3,2,1,3,1,3,2,2,2,4,0,2,0,2,2,1,1,3,0,0,2,1,2,0,2,1,1,2,2,1,1,0,0,2,2,1,0,0,0,1,0,1,0,1,1,1,1,2,1,0,2,2,1,1,1,2,2,0,1,0,0,105],\"fOption\":\"\",\"fFunctions\":{\"_typename\":\"TList\",\"name\":\"TList\",\"arr\":[],\"opt\":[]},\"fBufferSize\":0,\"fBuffer\":[],\"fBinStatErrOpt\":0,\"fStatOverflows\":2,\"fArray\":[0,0,1,1,0,4,3,5,7,8,7,11,12,19,16,15,20,22,23,24,25,37,48,42,42,61,65,64,99,113,133,240,438,828,1056,693,154,17,3,2,3,2,1,3,1,3,2,2,2,4,0,2,0,2,2,1,1,3,0,0,2,1,2,0,2,1,1,2,2,1,1,0,0,2,2,1,0,0,0,1,0,1,0,1,1,1,1,2,1,0,2,2,1,1,1,2,2,0,1,0,0,105]},\"fLabel\":\"q3\",\"fOption\":\"l\"},{\"_typename\":\"TLegendEntry\",\"fUniqueID\":0,\"fBits\":50331656,\"fTextAngle\":0,\"fTextSize\":0,\"fTextAlign\":0,\"fTextColor\":0,\"fTextFont\":42,\"fLineColor\":2,\"fLineStyle\":1,\"fLineWidth\":1,\"fFillColor\":0,\"fFillStyle\":0,\"fMarkerColor\":1,\"fMarkerStyle\":21,\"fMarkerSize\":1,\"fObject\":{\"_typename\":\"TH1F\",\"fUniqueID\":0,\"fBits\":50332168,\"fName\":\"EG_EGq2_GENEtaD_ptResp\",\"fTitle\":\"EG Pt resp.\",\"fLineColor\":2,\"fLineStyle\":1,\"fLineWidth\":1,\"fFillColor\":0,\"fFillStyle\":1001,\"fMarkerColor\":1,\"fMarkerStyle\":1,\"fMarkerSize\":1,\"fNcells\":102,\"fXaxis\":{\"_typename\":\"TAxis\",\"fUniqueID\":0,\"fBits\":50331648,\"fName\":\"xaxis\",\"fTitle\":\" p_{T}^{L1}\\/p_{T}^{GEN}\",\"fNdivisions\":510,\"fAxisColor\":1,\"fLabelColor\":1,\"fLabelFont\":42,\"fLabelOffset\":0.005,\"fLabelSize\":0.035,\"fTickLength\":0.03,\"fTitleOffset\":1,\"fTitleSize\":0.035,\"fTitleColor\":1,\"fTitleFont\":42,\"fNbins\":100,\"fXmin\":0,\"fXmax\":3,\"fXbins\":[],\"fFirst\":0,\"fLast\":0,\"fBits2\":0,\"fTimeDisplay\":false,\"fTimeFormat\":\"\",\"fLabels\":null,\"fModLabs\":null},\"fYaxis\":{\"_typename\":\"TAxis\",\"fUniqueID\":0,\"fBits\":50331648,\"fName\":\"yaxis\",\"fTitle\":\"\",\"fNdivisions\":510,\"fAxisColor\":1,\"fLabelColor\":1,\"fLabelFont\":42,\"fLabelOffset\":0.005,\"fLabelSize\":0.035,\"fTickLength\":0.03,\"fTitleOffset\":0,\"fTitleSize\":0.035,\"fTitleColor\":1,\"fTitleFont\":42,\"fNbins\":1,\"fXmin\":0,\"fXmax\":1,\"fXbins\":[],\"fFirst\":0,\"fLast\":0,\"fBits2\":0,\"fTimeDisplay\":false,\"fTimeFormat\":\"\",\"fLabels\":null,\"fModLabs\":null},\"fZaxis\":{\"_typename\":\"TAxis\",\"fUniqueID\":0,\"fBits\":50331648,\"fName\":\"zaxis\",\"fTitle\":\"\",\"fNdivisions\":510,\"fAxisColor\":1,\"fLabelColor\":1,\"fLabelFont\":42,\"fLabelOffset\":0.005,\"fLabelSize\":0.035,\"fTickLength\":0.03,\"fTitleOffset\":1,\"fTitleSize\":0.035,\"fTitleColor\":1,\"fTitleFont\":42,\"fNbins\":1,\"fXmin\":0,\"fXmax\":1,\"fXbins\":[],\"fFirst\":0,\"fLast\":0,\"fBits2\":0,\"fTimeDisplay\":false,\"fTimeFormat\":\"\",\"fLabels\":null,\"fModLabs\":null},\"fBarOffset\":0,\"fBarWidth\":1000,\"fEntries\":4538,\"fTsumw\":4436,\"fTsumw2\":4436,\"fTsumwx\":4138.60026064515,\"fTsumwx2\":4071.53686452158,\"fMaximum\":-1111,\"fMinimum\":-1111,\"fNormFactor\":0,\"fContour\":[],\"fSumw2\":[0,0,1,1,0,4,3,5,7,7,8,12,11,19,16,15,21,25,39,42,44,57,62,58,69,85,88,84,111,116,138,235,401,757,969,659,163,16,7,4,3,3,0,3,1,4,2,1,2,4,1,2,0,2,2,0,1,3,0,1,2,1,2,1,2,1,2,2,2,0,1,0,0,1,2,1,1,0,0,1,0,0,0,2,2,1,0,2,2,1,1,1,1,1,1,2,2,0,1,0,0,102],\"fOption\":\"\",\"fFunctions\":{\"_typename\":\"TList\",\"name\":\"TList\",\"arr\":[],\"opt\":[]},\"fBufferSize\":0,\"fBuffer\":[],\"fBinStatErrOpt\":0,\"fStatOverflows\":2,\"fArray\":[0,0,1,1,0,4,3,5,7,7,8,12,11,19,16,15,21,25,39,42,44,57,62,58,69,85,88,84,111,116,138,235,401,757,969,659,163,16,7,4,3,3,0,3,1,4,2,1,2,4,1,2,0,2,2,0,1,3,0,1,2,1,2,1,2,1,2,2,2,0,1,0,0,1,2,1,1,0,0,1,0,0,0,2,2,1,0,2,2,1,1,1,1,1,1,2,2,0,1,0,0,102]},\"fLabel\":\"q2\",\"fOption\":\"l\"}],\"opt\":[\"l\",\"l\"]},\"fEntrySeparation\":0.1,\"fMargin\":0.25,\"fNColumns\":1,\"fColumnSeparation\":0},{\"_typename\":\"TLatex\",\"fUniqueID\":0,\"fBits\":50348040,\"fName\":\"\",\"fTitle\":\"PU0, EG, 2.4 < |#eta^{GEN}| <= 2.8\",\"fTextAngle\":0,\"fTextSize\":0.03,\"fTextAlign\":11,\"fTextColor\":1,\"fTextFont\":62,\"fX\":0.15,\"fY\":0.85,\"fLineColor\":1,\"fLineStyle\":1,\"fLineWidth\":2,\"fLimitFactorSize\":3,\"fOriginSize\":0.04}],\"opt\":[\"\",\"HIST\",\"SAME,HIST\",\"\",\"same\"]},\"fExecs\":null,\"fName\":\"c_18235c\",\"fTitle\":\"c_18235c\",\"fNumPaletteColor\":0,\"fNextPaletteColor\":0,\"fDISPLAY\":\"$DISPLAY\",\"fDoubleBuffer\":0,\"fRetained\":true,\"fXsizeUser\":0,\"fYsizeUser\":0,\"fXsizeReal\":20,\"fYsizeReal\":15,\"fWindowTopX\":0,\"fWindowTopY\":0,\"fWindowWidth\":0,\"fWindowHeight\":0,\"fCw\":796,\"fCh\":572,\"fCatt\":{\"_typename\":\"TAttCanvas\",\"fXBetween\":2,\"fYBetween\":2,\"fTitleFromTop\":1.2,\"fXdate\":0.2,\"fYdate\":0.3,\"fAdate\":1},\"kMoveOpaque\":true,\"kResizeOpaque\":true,\"fHighLightColor\":2,\"fBatch\":true,\"kShowEventStatus\":false,\"kAutoExec\":true,\"kMenuBar\":true});\n",
       "       Core.draw(\"root_plot_10\", obj, \"\");\n",
       "     }\n",
       " );\n",
       "</script>\n"
      ],
      "text/plain": [
       "<IPython.core.display.HTML object>"
      ]
     },
     "metadata": {},
     "output_type": "display_data"
    },
    {
     "data": {
      "text/html": [
       "\n",
       "<div id=\"root_plot_11\"\n",
       "     style=\"width: 796px; height: 572px\">\n",
       "</div>\n",
       "\n",
       "<script>\n",
       " requirejs.config({\n",
       "     paths: {\n",
       "       'JSRootCore' : 'https://root.cern.ch/js/notebook//scripts/JSRootCore',\n",
       "     }\n",
       "   });\n",
       " require(['JSRootCore'],\n",
       "     function(Core) {\n",
       "       var obj = Core.JSONR_unref({\"_typename\":\"TCanvas\",\"fUniqueID\":0,\"fBits\":53673992,\"fLineColor\":1,\"fLineStyle\":1,\"fLineWidth\":1,\"fFillColor\":0,\"fFillStyle\":1001,\"fLeftMargin\":0.13,\"fRightMargin\":0.3,\"fBottomMargin\":0.13,\"fTopMargin\":0.1,\"fXfile\":2,\"fYfile\":2,\"fAfile\":1,\"fXstat\":0.99,\"fYstat\":0.99,\"fAstat\":2,\"fFrameFillColor\":0,\"fFrameLineColor\":1,\"fFrameFillStyle\":1001,\"fFrameLineStyle\":1,\"fFrameLineWidth\":1,\"fFrameBorderSize\":1,\"fFrameBorderMode\":0,\"fX1\":-0.684210509804807,\"fY1\":-0.0412441220109145,\"fX2\":4.57894745097596,\"fY2\":0.27601835954187,\"fXtoAbsPixelk\":103.480046204376,\"fXtoPixelk\":103.480046204376,\"fXtoPixel\":151.239998102188,\"fYtoAbsPixelk\":497.640051065433,\"fYtoPixelk\":497.640051065433,\"fYtoPixel\":-1802.92355150363,\"fUtoAbsPixelk\":5e-5,\"fUtoPixelk\":5e-5,\"fUtoPixel\":796,\"fVtoAbsPixelk\":572.00005,\"fVtoPixelk\":572,\"fVtoPixel\":-572,\"fAbsPixeltoXk\":-0.684210509804807,\"fPixeltoXk\":-0.684210509804807,\"fPixeltoX\":0.00661200748841805,\"fAbsPixeltoYk\":0.27601835954187,\"fPixeltoYk\":-0.0412441220109145,\"fPixeltoY\":-5.54654688029344e-4,\"fXlowNDC\":0,\"fYlowNDC\":0,\"fXUpNDC\":0,\"fYUpNDC\":0,\"fWNDC\":1,\"fHNDC\":1,\"fAbsXlowNDC\":0,\"fAbsYlowNDC\":0,\"fAbsWNDC\":1,\"fAbsHNDC\":1,\"fUxmin\":0,\"fUymin\":0,\"fUxmax\":3,\"fUymax\":0.244292110204697,\"fTheta\":30,\"fPhi\":30,\"fAspectRatio\":0,\"fNumber\":0,\"fTickx\":0,\"fTicky\":0,\"fLogx\":0,\"fLogy\":0,\"fLogz\":0,\"fPadPaint\":0,\"fCrosshair\":0,\"fCrosshairPos\":0,\"fBorderSize\":2,\"fBorderMode\":0,\"fModified\":false,\"fGridx\":false,\"fGridy\":false,\"fAbsCoord\":false,\"fEditable\":true,\"fFixedAspectRatio\":false,\"fPrimitives\":{\"_typename\":\"TList\",\"name\":\"TList\",\"arr\":[{\"_typename\":\"TFrame\",\"fUniqueID\":0,\"fBits\":50331656,\"fLineColor\":1,\"fLineStyle\":1,\"fLineWidth\":1,\"fFillColor\":0,\"fFillStyle\":1001,\"fX1\":0,\"fY1\":0,\"fX2\":3,\"fY2\":0.244292110204697,\"fBorderSize\":1,\"fBorderMode\":0},{\"_typename\":\"TH1F\",\"fUniqueID\":0,\"fBits\":50332169,\"fName\":\"EG_EGq3_GENEtaBC_ptResp\",\"fTitle\":\"EG Pt resp.\",\"fLineColor\":1,\"fLineStyle\":1,\"fLineWidth\":1,\"fFillColor\":0,\"fFillStyle\":1001,\"fMarkerColor\":1,\"fMarkerStyle\":1,\"fMarkerSize\":1,\"fNcells\":102,\"fXaxis\":{\"_typename\":\"TAxis\",\"fUniqueID\":0,\"fBits\":50331648,\"fName\":\"xaxis\",\"fTitle\":\" p_{T}^{L1}\\/p_{T}^{GEN}\",\"fNdivisions\":510,\"fAxisColor\":1,\"fLabelColor\":1,\"fLabelFont\":42,\"fLabelOffset\":0.005,\"fLabelSize\":0.035,\"fTickLength\":0.03,\"fTitleOffset\":1,\"fTitleSize\":0.035,\"fTitleColor\":1,\"fTitleFont\":42,\"fNbins\":100,\"fXmin\":0,\"fXmax\":3,\"fXbins\":[],\"fFirst\":0,\"fLast\":0,\"fBits2\":0,\"fTimeDisplay\":false,\"fTimeFormat\":\"\",\"fLabels\":null,\"fModLabs\":null},\"fYaxis\":{\"_typename\":\"TAxis\",\"fUniqueID\":0,\"fBits\":50331656,\"fName\":\"yaxis\",\"fTitle\":\"\",\"fNdivisions\":510,\"fAxisColor\":1,\"fLabelColor\":1,\"fLabelFont\":42,\"fLabelOffset\":0.005,\"fLabelSize\":0.035,\"fTickLength\":0.03,\"fTitleOffset\":0,\"fTitleSize\":0.035,\"fTitleColor\":1,\"fTitleFont\":42,\"fNbins\":1,\"fXmin\":0,\"fXmax\":1,\"fXbins\":[],\"fFirst\":0,\"fLast\":0,\"fBits2\":0,\"fTimeDisplay\":false,\"fTimeFormat\":\"\",\"fLabels\":null,\"fModLabs\":null},\"fZaxis\":{\"_typename\":\"TAxis\",\"fUniqueID\":0,\"fBits\":50331648,\"fName\":\"zaxis\",\"fTitle\":\"\",\"fNdivisions\":510,\"fAxisColor\":1,\"fLabelColor\":1,\"fLabelFont\":42,\"fLabelOffset\":0.005,\"fLabelSize\":0.035,\"fTickLength\":0.03,\"fTitleOffset\":1,\"fTitleSize\":0.035,\"fTitleColor\":1,\"fTitleFont\":42,\"fNbins\":1,\"fXmin\":0,\"fXmax\":1,\"fXbins\":[],\"fFirst\":0,\"fLast\":0,\"fBits2\":0,\"fTimeDisplay\":false,\"fTimeFormat\":\"\",\"fLabels\":null,\"fModLabs\":null},\"fBarOffset\":0,\"fBarWidth\":1000,\"fEntries\":3451,\"fTsumw\":3355,\"fTsumw2\":3355,\"fTsumwx\":3428.69728158414,\"fTsumwx2\":3599.74395442242,\"fMaximum\":0.244292110204697,\"fMinimum\":0,\"fNormFactor\":0,\"fContour\":[],\"fSumw2\":[0,0,0,0,0,8.88413094320597e-8,0,8.88413094320597e-8,8.88413094320597e-8,1.77682618864119e-7,3.55365237728239e-7,1.77682618864119e-7,1.77682618864119e-7,0,0,2.66523928296179e-7,4.44206547160299e-7,2.66523928296179e-7,3.55365237728239e-7,5.33047856592358e-7,4.44206547160299e-7,7.99571784888537e-7,6.21889166024418e-7,1.06609571318472e-6,1.24377833204884e-6,1.3326196414809e-6,1.51030226034502e-6,2.93176321125797e-6,3.28712844898621e-6,5.15279594705946e-6,7.64035261115714e-6,1.14605289167357e-5,1.9278564146757e-5,3.03837278257644e-5,4.86850375687687e-5,6.06786143420968e-5,4.53090678103505e-5,2.31875817617676e-5,1.10163223695754e-5,5.68584380365182e-6,3.02060452069003e-6,2.48755666409767e-6,7.10730475456478e-7,1.15493702261678e-6,6.21889166024418e-7,6.21889166024418e-7,3.55365237728239e-7,5.33047856592358e-7,4.44206547160299e-7,8.88413094320597e-8,8.88413094320597e-8,8.88413094320597e-8,0,8.88413094320597e-8,0,1.77682618864119e-7,0,0,8.88413094320597e-8,1.77682618864119e-7,2.66523928296179e-7,8.88413094320597e-8,0,1.77682618864119e-7,8.88413094320597e-8,8.88413094320597e-8,1.77682618864119e-7,2.66523928296179e-7,0,8.88413094320597e-8,8.88413094320597e-8,0,0,0,0,0,0,0,1.77682618864119e-7,0,8.88413094320597e-8,8.88413094320597e-8,0,8.88413094320597e-8,0,8.88413094320597e-8,8.88413094320597e-8,0,0,0,0,8.88413094320597e-8,0,8.88413094320597e-8,8.88413094320597e-8,8.88413094320597e-8,8.88413094320597e-8,0,0,1.77682618864119e-7,0,8.52876570547773e-6],\"fOption\":\"\",\"fFunctions\":{\"_typename\":\"TList\",\"name\":\"TList\",\"arr\":[],\"opt\":[]},\"fBufferSize\":0,\"fBuffer\":[],\"fBinStatErrOpt\":0,\"fStatOverflows\":2,\"fArray\":[0,0,0,0,0,2.980626e-4,0,2.980626e-4,2.980626e-4,5.961252e-4,0.00119225,5.961252e-4,5.961252e-4,0,0,8.941878e-4,0.001490313,8.941878e-4,0.00119225,0.001788376,0.001490313,0.002682563,0.002086438,0.003576751,0.004172876,0.004470939,0.005067064,0.009836066,0.01102832,0.01728763,0.02563338,0.03845007,0.06467959,0.1019374,0.1633383,0.2035768,0.1520119,0.07779434,0.03695976,0.01907601,0.01013413,0.008345753,0.002384501,0.003874814,0.002086438,0.002086438,0.00119225,0.001788376,0.001490313,2.980626e-4,2.980626e-4,2.980626e-4,0,2.980626e-4,0,5.961252e-4,0,0,2.980626e-4,5.961252e-4,8.941878e-4,2.980626e-4,0,5.961252e-4,2.980626e-4,2.980626e-4,5.961252e-4,8.941878e-4,0,2.980626e-4,2.980626e-4,0,0,0,0,0,0,0,5.961252e-4,0,2.980626e-4,2.980626e-4,0,2.980626e-4,0,2.980626e-4,2.980626e-4,0,0,0,0,2.980626e-4,0,2.980626e-4,2.980626e-4,2.980626e-4,2.980626e-4,0,0,5.961252e-4,0,0.02861401]},{\"_typename\":\"TH1F\",\"fUniqueID\":0,\"fBits\":50332169,\"fName\":\"EG_EGq2_GENEtaBC_ptResp\",\"fTitle\":\"EG Pt resp.\",\"fLineColor\":2,\"fLineStyle\":1,\"fLineWidth\":1,\"fFillColor\":0,\"fFillStyle\":1001,\"fMarkerColor\":1,\"fMarkerStyle\":1,\"fMarkerSize\":1,\"fNcells\":102,\"fXaxis\":{\"_typename\":\"TAxis\",\"fUniqueID\":0,\"fBits\":50331648,\"fName\":\"xaxis\",\"fTitle\":\" p_{T}^{L1}\\/p_{T}^{GEN}\",\"fNdivisions\":510,\"fAxisColor\":1,\"fLabelColor\":1,\"fLabelFont\":42,\"fLabelOffset\":0.005,\"fLabelSize\":0.035,\"fTickLength\":0.03,\"fTitleOffset\":1,\"fTitleSize\":0.035,\"fTitleColor\":1,\"fTitleFont\":42,\"fNbins\":100,\"fXmin\":0,\"fXmax\":3,\"fXbins\":[],\"fFirst\":0,\"fLast\":0,\"fBits2\":0,\"fTimeDisplay\":false,\"fTimeFormat\":\"\",\"fLabels\":null,\"fModLabs\":null},\"fYaxis\":{\"_typename\":\"TAxis\",\"fUniqueID\":0,\"fBits\":50331656,\"fName\":\"yaxis\",\"fTitle\":\"\",\"fNdivisions\":510,\"fAxisColor\":1,\"fLabelColor\":1,\"fLabelFont\":42,\"fLabelOffset\":0.005,\"fLabelSize\":0.035,\"fTickLength\":0.03,\"fTitleOffset\":0,\"fTitleSize\":0.035,\"fTitleColor\":1,\"fTitleFont\":42,\"fNbins\":1,\"fXmin\":0,\"fXmax\":1,\"fXbins\":[],\"fFirst\":0,\"fLast\":0,\"fBits2\":0,\"fTimeDisplay\":false,\"fTimeFormat\":\"\",\"fLabels\":null,\"fModLabs\":null},\"fZaxis\":{\"_typename\":\"TAxis\",\"fUniqueID\":0,\"fBits\":50331648,\"fName\":\"zaxis\",\"fTitle\":\"\",\"fNdivisions\":510,\"fAxisColor\":1,\"fLabelColor\":1,\"fLabelFont\":42,\"fLabelOffset\":0.005,\"fLabelSize\":0.035,\"fTickLength\":0.03,\"fTitleOffset\":1,\"fTitleSize\":0.035,\"fTitleColor\":1,\"fTitleFont\":42,\"fNbins\":1,\"fXmin\":0,\"fXmax\":1,\"fXbins\":[],\"fFirst\":0,\"fLast\":0,\"fBits2\":0,\"fTimeDisplay\":false,\"fTimeFormat\":\"\",\"fLabels\":null,\"fModLabs\":null},\"fBarOffset\":0,\"fBarWidth\":1000,\"fEntries\":3451,\"fTsumw\":3357,\"fTsumw2\":3357,\"fTsumwx\":3469.8590041995,\"fTsumwx2\":3693.02087184833,\"fMaximum\":0.244292110204697,\"fMinimum\":0,\"fNormFactor\":0,\"fContour\":[],\"fSumw2\":[0,0,0,0,0,8.87354829859029e-8,0,8.87354829859029e-8,8.87354829859029e-8,1.77470965971806e-7,8.87354829859029e-8,2.66206448957709e-7,2.66206448957709e-7,8.87354829859029e-8,0,2.66206448957709e-7,2.66206448957709e-7,2.66206448957709e-7,4.43677414929514e-7,7.98619346873126e-7,5.32412897915417e-7,7.09883863887223e-7,1.24229676180264e-6,7.98619346873126e-7,1.24229676180264e-6,1.95218062568986e-6,1.59723869374625e-6,2.57332900659118e-6,3.37194835346431e-6,5.05792253019646e-6,6.92136767290042e-6,1.11806708562238e-5,1.57949159714907e-5,2.67981158617427e-5,3.96647608946986e-5,5.37737026894571e-5,4.81833672613453e-5,2.98151222832634e-5,1.44638837267022e-5,9.2284902305339e-6,5.50159994512598e-6,3.81562576839382e-6,1.41976772777445e-6,1.24229676180264e-6,1.41976772777445e-6,5.32412897915417e-7,4.43677414929514e-7,5.32412897915417e-7,7.09883863887223e-7,4.43677414929514e-7,3.54941931943611e-7,8.87354829859029e-8,8.87354829859029e-8,1.77470965971806e-7,0,8.87354829859029e-8,8.87354829859029e-8,8.87354829859029e-8,0,0,2.66206448957709e-7,8.87354829859029e-8,0,8.87354829859029e-8,8.87354829859029e-8,8.87354829859029e-8,8.87354829859029e-8,1.77470965971806e-7,8.87354829859029e-8,1.77470965971806e-7,8.87354829859029e-8,8.87354829859029e-8,0,8.87354829859029e-8,0,0,0,0,0,1.77470965971806e-7,1.77470965971806e-7,0,0,8.87354829859029e-8,8.87354829859029e-8,8.87354829859029e-8,0,8.87354829859029e-8,0,0,0,0,0,0,1.77470965971806e-7,8.87354829859029e-8,1.77470965971806e-7,0,0,0,1.77470965971806e-7,8.34113540067487e-6],\"fOption\":\"\",\"fFunctions\":{\"_typename\":\"TList\",\"name\":\"TList\",\"arr\":[],\"opt\":[]},\"fBufferSize\":0,\"fBuffer\":[],\"fBinStatErrOpt\":0,\"fStatOverflows\":2,\"fArray\":[0,0,0,0,0,2.97885e-4,0,2.97885e-4,2.97885e-4,5.9577e-4,2.97885e-4,8.936551e-4,8.936551e-4,2.97885e-4,0,8.936551e-4,8.936551e-4,8.936551e-4,0.001489425,0.002680965,0.00178731,0.00238308,0.00417039,0.002680965,0.00417039,0.00655347,0.00536193,0.008638665,0.01131963,0.01697945,0.02323503,0.03753351,0.05302353,0.08996128,0.1331546,0.1805183,0.1617516,0.1000894,0.04855526,0.03098004,0.01846887,0.01280906,0.00476616,0.00417039,0.00476616,0.00178731,0.001489425,0.00178731,0.00238308,0.001489425,0.00119154,2.97885e-4,2.97885e-4,5.9577e-4,0,2.97885e-4,2.97885e-4,2.97885e-4,0,0,8.936551e-4,2.97885e-4,0,2.97885e-4,2.97885e-4,2.97885e-4,2.97885e-4,5.9577e-4,2.97885e-4,5.9577e-4,2.97885e-4,2.97885e-4,0,2.97885e-4,0,0,0,0,0,5.9577e-4,5.9577e-4,0,0,2.97885e-4,2.97885e-4,2.97885e-4,0,2.97885e-4,0,0,0,0,0,0,5.9577e-4,2.97885e-4,5.9577e-4,0,0,0,5.9577e-4,0.02800119]},{\"_typename\":\"TLegend\",\"fUniqueID\":0,\"fBits\":50331656,\"fLineColor\":1,\"fLineStyle\":1,\"fLineWidth\":1,\"fFillColor\":0,\"fFillStyle\":0,\"fX1\":3.00000006274173,\"fY1\":0.184012239891562,\"fX2\":4.31578955293692,\"fY2\":0.228428987308952,\"fX1NDC\":0.7,\"fY1NDC\":0.71,\"fX2NDC\":0.95,\"fY2NDC\":0.85,\"fBorderSize\":0,\"fInit\":1,\"fShadowColor\":1,\"fCornerRadius\":0,\"fOption\":\"brNDC\",\"fName\":\"TPave\",\"fTextAngle\":0,\"fTextSize\":0.05,\"fTextAlign\":12,\"fTextColor\":1,\"fTextFont\":42,\"fPrimitives\":{\"_typename\":\"TList\",\"name\":\"TList\",\"arr\":[{\"_typename\":\"TLegendEntry\",\"fUniqueID\":0,\"fBits\":50331656,\"fTextAngle\":0,\"fTextSize\":0,\"fTextAlign\":0,\"fTextColor\":0,\"fTextFont\":42,\"fLineColor\":1,\"fLineStyle\":1,\"fLineWidth\":1,\"fFillColor\":0,\"fFillStyle\":0,\"fMarkerColor\":1,\"fMarkerStyle\":21,\"fMarkerSize\":1,\"fObject\":{\"_typename\":\"TH1F\",\"fUniqueID\":0,\"fBits\":50332168,\"fName\":\"EG_EGq3_GENEtaBC_ptResp\",\"fTitle\":\"EG Pt resp.\",\"fLineColor\":1,\"fLineStyle\":1,\"fLineWidth\":1,\"fFillColor\":0,\"fFillStyle\":1001,\"fMarkerColor\":1,\"fMarkerStyle\":1,\"fMarkerSize\":1,\"fNcells\":102,\"fXaxis\":{\"_typename\":\"TAxis\",\"fUniqueID\":0,\"fBits\":50331648,\"fName\":\"xaxis\",\"fTitle\":\" p_{T}^{L1}\\/p_{T}^{GEN}\",\"fNdivisions\":510,\"fAxisColor\":1,\"fLabelColor\":1,\"fLabelFont\":42,\"fLabelOffset\":0.005,\"fLabelSize\":0.035,\"fTickLength\":0.03,\"fTitleOffset\":1,\"fTitleSize\":0.035,\"fTitleColor\":1,\"fTitleFont\":42,\"fNbins\":100,\"fXmin\":0,\"fXmax\":3,\"fXbins\":[],\"fFirst\":0,\"fLast\":0,\"fBits2\":0,\"fTimeDisplay\":false,\"fTimeFormat\":\"\",\"fLabels\":null,\"fModLabs\":null},\"fYaxis\":{\"_typename\":\"TAxis\",\"fUniqueID\":0,\"fBits\":50331648,\"fName\":\"yaxis\",\"fTitle\":\"\",\"fNdivisions\":510,\"fAxisColor\":1,\"fLabelColor\":1,\"fLabelFont\":42,\"fLabelOffset\":0.005,\"fLabelSize\":0.035,\"fTickLength\":0.03,\"fTitleOffset\":0,\"fTitleSize\":0.035,\"fTitleColor\":1,\"fTitleFont\":42,\"fNbins\":1,\"fXmin\":0,\"fXmax\":1,\"fXbins\":[],\"fFirst\":0,\"fLast\":0,\"fBits2\":0,\"fTimeDisplay\":false,\"fTimeFormat\":\"\",\"fLabels\":null,\"fModLabs\":null},\"fZaxis\":{\"_typename\":\"TAxis\",\"fUniqueID\":0,\"fBits\":50331648,\"fName\":\"zaxis\",\"fTitle\":\"\",\"fNdivisions\":510,\"fAxisColor\":1,\"fLabelColor\":1,\"fLabelFont\":42,\"fLabelOffset\":0.005,\"fLabelSize\":0.035,\"fTickLength\":0.03,\"fTitleOffset\":1,\"fTitleSize\":0.035,\"fTitleColor\":1,\"fTitleFont\":42,\"fNbins\":1,\"fXmin\":0,\"fXmax\":1,\"fXbins\":[],\"fFirst\":0,\"fLast\":0,\"fBits2\":0,\"fTimeDisplay\":false,\"fTimeFormat\":\"\",\"fLabels\":null,\"fModLabs\":null},\"fBarOffset\":0,\"fBarWidth\":1000,\"fEntries\":3451,\"fTsumw\":3355,\"fTsumw2\":3355,\"fTsumwx\":3428.69728158414,\"fTsumwx2\":3599.74395442242,\"fMaximum\":-1111,\"fMinimum\":-1111,\"fNormFactor\":0,\"fContour\":[],\"fSumw2\":[0,0,0,0,0,1,0,1,1,2,4,2,2,0,0,3,5,3,4,6,5,9,7,12,14,15,17,33,37,58,86,129,217,342,548,683,510,261,124,64,34,28,8,13,7,7,4,6,5,1,1,1,0,1,0,2,0,0,1,2,3,1,0,2,1,1,2,3,0,1,1,0,0,0,0,0,0,0,2,0,1,1,0,1,0,1,1,0,0,0,0,1,0,1,1,1,1,0,0,2,0,96],\"fOption\":\"\",\"fFunctions\":{\"_typename\":\"TList\",\"name\":\"TList\",\"arr\":[],\"opt\":[]},\"fBufferSize\":0,\"fBuffer\":[],\"fBinStatErrOpt\":0,\"fStatOverflows\":2,\"fArray\":[0,0,0,0,0,1,0,1,1,2,4,2,2,0,0,3,5,3,4,6,5,9,7,12,14,15,17,33,37,58,86,129,217,342,548,683,510,261,124,64,34,28,8,13,7,7,4,6,5,1,1,1,0,1,0,2,0,0,1,2,3,1,0,2,1,1,2,3,0,1,1,0,0,0,0,0,0,0,2,0,1,1,0,1,0,1,1,0,0,0,0,1,0,1,1,1,1,0,0,2,0,96]},\"fLabel\":\"q3\",\"fOption\":\"l\"},{\"_typename\":\"TLegendEntry\",\"fUniqueID\":0,\"fBits\":50331656,\"fTextAngle\":0,\"fTextSize\":0,\"fTextAlign\":0,\"fTextColor\":0,\"fTextFont\":42,\"fLineColor\":2,\"fLineStyle\":1,\"fLineWidth\":1,\"fFillColor\":0,\"fFillStyle\":0,\"fMarkerColor\":1,\"fMarkerStyle\":21,\"fMarkerSize\":1,\"fObject\":{\"_typename\":\"TH1F\",\"fUniqueID\":0,\"fBits\":50332168,\"fName\":\"EG_EGq2_GENEtaBC_ptResp\",\"fTitle\":\"EG Pt resp.\",\"fLineColor\":2,\"fLineStyle\":1,\"fLineWidth\":1,\"fFillColor\":0,\"fFillStyle\":1001,\"fMarkerColor\":1,\"fMarkerStyle\":1,\"fMarkerSize\":1,\"fNcells\":102,\"fXaxis\":{\"_typename\":\"TAxis\",\"fUniqueID\":0,\"fBits\":50331648,\"fName\":\"xaxis\",\"fTitle\":\" p_{T}^{L1}\\/p_{T}^{GEN}\",\"fNdivisions\":510,\"fAxisColor\":1,\"fLabelColor\":1,\"fLabelFont\":42,\"fLabelOffset\":0.005,\"fLabelSize\":0.035,\"fTickLength\":0.03,\"fTitleOffset\":1,\"fTitleSize\":0.035,\"fTitleColor\":1,\"fTitleFont\":42,\"fNbins\":100,\"fXmin\":0,\"fXmax\":3,\"fXbins\":[],\"fFirst\":0,\"fLast\":0,\"fBits2\":0,\"fTimeDisplay\":false,\"fTimeFormat\":\"\",\"fLabels\":null,\"fModLabs\":null},\"fYaxis\":{\"_typename\":\"TAxis\",\"fUniqueID\":0,\"fBits\":50331648,\"fName\":\"yaxis\",\"fTitle\":\"\",\"fNdivisions\":510,\"fAxisColor\":1,\"fLabelColor\":1,\"fLabelFont\":42,\"fLabelOffset\":0.005,\"fLabelSize\":0.035,\"fTickLength\":0.03,\"fTitleOffset\":0,\"fTitleSize\":0.035,\"fTitleColor\":1,\"fTitleFont\":42,\"fNbins\":1,\"fXmin\":0,\"fXmax\":1,\"fXbins\":[],\"fFirst\":0,\"fLast\":0,\"fBits2\":0,\"fTimeDisplay\":false,\"fTimeFormat\":\"\",\"fLabels\":null,\"fModLabs\":null},\"fZaxis\":{\"_typename\":\"TAxis\",\"fUniqueID\":0,\"fBits\":50331648,\"fName\":\"zaxis\",\"fTitle\":\"\",\"fNdivisions\":510,\"fAxisColor\":1,\"fLabelColor\":1,\"fLabelFont\":42,\"fLabelOffset\":0.005,\"fLabelSize\":0.035,\"fTickLength\":0.03,\"fTitleOffset\":1,\"fTitleSize\":0.035,\"fTitleColor\":1,\"fTitleFont\":42,\"fNbins\":1,\"fXmin\":0,\"fXmax\":1,\"fXbins\":[],\"fFirst\":0,\"fLast\":0,\"fBits2\":0,\"fTimeDisplay\":false,\"fTimeFormat\":\"\",\"fLabels\":null,\"fModLabs\":null},\"fBarOffset\":0,\"fBarWidth\":1000,\"fEntries\":3451,\"fTsumw\":3357,\"fTsumw2\":3357,\"fTsumwx\":3469.8590041995,\"fTsumwx2\":3693.02087184833,\"fMaximum\":-1111,\"fMinimum\":-1111,\"fNormFactor\":0,\"fContour\":[],\"fSumw2\":[0,0,0,0,0,1,0,1,1,2,1,3,3,1,0,3,3,3,5,9,6,8,14,9,14,22,18,29,38,57,78,126,178,302,447,606,543,336,163,104,62,43,16,14,16,6,5,6,8,5,4,1,1,2,0,1,1,1,0,0,3,1,0,1,1,1,1,2,1,2,1,1,0,1,0,0,0,0,0,2,2,0,0,1,1,1,0,1,0,0,0,0,0,0,2,1,2,0,0,0,2,94],\"fOption\":\"\",\"fFunctions\":{\"_typename\":\"TList\",\"name\":\"TList\",\"arr\":[],\"opt\":[]},\"fBufferSize\":0,\"fBuffer\":[],\"fBinStatErrOpt\":0,\"fStatOverflows\":2,\"fArray\":[0,0,0,0,0,1,0,1,1,2,1,3,3,1,0,3,3,3,5,9,6,8,14,9,14,22,18,29,38,57,78,126,178,302,447,606,543,336,163,104,62,43,16,14,16,6,5,6,8,5,4,1,1,2,0,1,1,1,0,0,3,1,0,1,1,1,1,2,1,2,1,1,0,1,0,0,0,0,0,2,2,0,0,1,1,1,0,1,0,0,0,0,0,0,2,1,2,0,0,0,2,94]},\"fLabel\":\"q2\",\"fOption\":\"l\"}],\"opt\":[\"l\",\"l\"]},\"fEntrySeparation\":0.1,\"fMargin\":0.25,\"fNColumns\":1,\"fColumnSeparation\":0},{\"_typename\":\"TLatex\",\"fUniqueID\":0,\"fBits\":50348040,\"fName\":\"\",\"fTitle\":\"PU200, EG, 1.52 < |#eta^{GEN}| <= 2.4\",\"fTextAngle\":0,\"fTextSize\":0.03,\"fTextAlign\":11,\"fTextColor\":1,\"fTextFont\":62,\"fX\":0.15,\"fY\":0.85,\"fLineColor\":1,\"fLineStyle\":1,\"fLineWidth\":2,\"fLimitFactorSize\":3,\"fOriginSize\":0.04}],\"opt\":[\"\",\"HIST\",\"SAME,HIST\",\"\",\"same\"]},\"fExecs\":null,\"fName\":\"c_cd7ecb\",\"fTitle\":\"c_cd7ecb\",\"fNumPaletteColor\":0,\"fNextPaletteColor\":0,\"fDISPLAY\":\"$DISPLAY\",\"fDoubleBuffer\":0,\"fRetained\":true,\"fXsizeUser\":0,\"fYsizeUser\":0,\"fXsizeReal\":20,\"fYsizeReal\":15,\"fWindowTopX\":0,\"fWindowTopY\":0,\"fWindowWidth\":0,\"fWindowHeight\":0,\"fCw\":796,\"fCh\":572,\"fCatt\":{\"_typename\":\"TAttCanvas\",\"fXBetween\":2,\"fYBetween\":2,\"fTitleFromTop\":1.2,\"fXdate\":0.2,\"fYdate\":0.3,\"fAdate\":1},\"kMoveOpaque\":true,\"kResizeOpaque\":true,\"fHighLightColor\":2,\"fBatch\":true,\"kShowEventStatus\":false,\"kAutoExec\":true,\"kMenuBar\":true});\n",
       "       Core.draw(\"root_plot_11\", obj, \"\");\n",
       "     }\n",
       " );\n",
       "</script>\n"
      ],
      "text/plain": [
       "<IPython.core.display.HTML object>"
      ]
     },
     "metadata": {},
     "output_type": "display_data"
    },
    {
     "data": {
      "text/html": [
       "\n",
       "<div id=\"root_plot_12\"\n",
       "     style=\"width: 796px; height: 572px\">\n",
       "</div>\n",
       "\n",
       "<script>\n",
       " requirejs.config({\n",
       "     paths: {\n",
       "       'JSRootCore' : 'https://root.cern.ch/js/notebook//scripts/JSRootCore',\n",
       "     }\n",
       "   });\n",
       " require(['JSRootCore'],\n",
       "     function(Core) {\n",
       "       var obj = Core.JSONR_unref({\"_typename\":\"TCanvas\",\"fUniqueID\":0,\"fBits\":53673992,\"fLineColor\":1,\"fLineStyle\":1,\"fLineWidth\":1,\"fFillColor\":0,\"fFillStyle\":1001,\"fLeftMargin\":0.13,\"fRightMargin\":0.3,\"fBottomMargin\":0.13,\"fTopMargin\":0.1,\"fXfile\":2,\"fYfile\":2,\"fAfile\":1,\"fXstat\":0.99,\"fYstat\":0.99,\"fAstat\":2,\"fFrameFillColor\":0,\"fFrameLineColor\":1,\"fFrameFillStyle\":1001,\"fFrameLineStyle\":1,\"fFrameLineWidth\":1,\"fFrameBorderSize\":1,\"fFrameBorderMode\":0,\"fX1\":-0.684210509804807,\"fY1\":-0.0300570633021141,\"fX2\":4.57894745097596,\"fY2\":0.201151119257678,\"fXtoAbsPixelk\":103.480046204376,\"fXtoPixelk\":103.480046204376,\"fXtoPixel\":151.239998102188,\"fYtoAbsPixelk\":497.640051065433,\"fYtoPixelk\":497.640051065433,\"fYtoPixel\":-2473.96088523847,\"fUtoAbsPixelk\":5e-5,\"fUtoPixelk\":5e-5,\"fUtoPixel\":796,\"fVtoAbsPixelk\":572.00005,\"fVtoPixelk\":572,\"fVtoPixel\":-572,\"fAbsPixeltoXk\":-0.684210509804807,\"fPixeltoXk\":-0.684210509804807,\"fPixeltoX\":0.00661200748841805,\"fAbsPixeltoYk\":0.201151119257678,\"fPixeltoYk\":-0.0300570633021141,\"fPixeltoY\":-4.04210109370265e-4,\"fXlowNDC\":0,\"fYlowNDC\":0,\"fXUpNDC\":0,\"fYUpNDC\":0,\"fWNDC\":1,\"fHNDC\":1,\"fAbsXlowNDC\":0,\"fAbsYlowNDC\":0,\"fAbsWNDC\":1,\"fAbsHNDC\":1,\"fUxmin\":0,\"fUymin\":0,\"fUxmax\":3,\"fUymax\":0.178030300140381,\"fTheta\":30,\"fPhi\":30,\"fAspectRatio\":0,\"fNumber\":0,\"fTickx\":0,\"fTicky\":0,\"fLogx\":0,\"fLogy\":0,\"fLogz\":0,\"fPadPaint\":0,\"fCrosshair\":0,\"fCrosshairPos\":0,\"fBorderSize\":2,\"fBorderMode\":0,\"fModified\":false,\"fGridx\":false,\"fGridy\":false,\"fAbsCoord\":false,\"fEditable\":true,\"fFixedAspectRatio\":false,\"fPrimitives\":{\"_typename\":\"TList\",\"name\":\"TList\",\"arr\":[{\"_typename\":\"TFrame\",\"fUniqueID\":0,\"fBits\":50331656,\"fLineColor\":1,\"fLineStyle\":1,\"fLineWidth\":1,\"fFillColor\":0,\"fFillStyle\":1001,\"fX1\":0,\"fY1\":0,\"fX2\":3,\"fY2\":0.178030300140381,\"fBorderSize\":1,\"fBorderMode\":0},{\"_typename\":\"TH1F\",\"fUniqueID\":0,\"fBits\":50332169,\"fName\":\"EG_EGq3_GENEtaD_ptResp\",\"fTitle\":\"EG Pt resp.\",\"fLineColor\":1,\"fLineStyle\":1,\"fLineWidth\":1,\"fFillColor\":0,\"fFillStyle\":1001,\"fMarkerColor\":1,\"fMarkerStyle\":1,\"fMarkerSize\":1,\"fNcells\":102,\"fXaxis\":{\"_typename\":\"TAxis\",\"fUniqueID\":0,\"fBits\":50331648,\"fName\":\"xaxis\",\"fTitle\":\" p_{T}^{L1}\\/p_{T}^{GEN}\",\"fNdivisions\":510,\"fAxisColor\":1,\"fLabelColor\":1,\"fLabelFont\":42,\"fLabelOffset\":0.005,\"fLabelSize\":0.035,\"fTickLength\":0.03,\"fTitleOffset\":1,\"fTitleSize\":0.035,\"fTitleColor\":1,\"fTitleFont\":42,\"fNbins\":100,\"fXmin\":0,\"fXmax\":3,\"fXbins\":[],\"fFirst\":0,\"fLast\":0,\"fBits2\":0,\"fTimeDisplay\":false,\"fTimeFormat\":\"\",\"fLabels\":null,\"fModLabs\":null},\"fYaxis\":{\"_typename\":\"TAxis\",\"fUniqueID\":0,\"fBits\":50331656,\"fName\":\"yaxis\",\"fTitle\":\"\",\"fNdivisions\":510,\"fAxisColor\":1,\"fLabelColor\":1,\"fLabelFont\":42,\"fLabelOffset\":0.005,\"fLabelSize\":0.035,\"fTickLength\":0.03,\"fTitleOffset\":0,\"fTitleSize\":0.035,\"fTitleColor\":1,\"fTitleFont\":42,\"fNbins\":1,\"fXmin\":0,\"fXmax\":1,\"fXbins\":[],\"fFirst\":0,\"fLast\":0,\"fBits2\":0,\"fTimeDisplay\":false,\"fTimeFormat\":\"\",\"fLabels\":null,\"fModLabs\":null},\"fZaxis\":{\"_typename\":\"TAxis\",\"fUniqueID\":0,\"fBits\":50331648,\"fName\":\"zaxis\",\"fTitle\":\"\",\"fNdivisions\":510,\"fAxisColor\":1,\"fLabelColor\":1,\"fLabelFont\":42,\"fLabelOffset\":0.005,\"fLabelSize\":0.035,\"fTickLength\":0.03,\"fTitleOffset\":1,\"fTitleSize\":0.035,\"fTitleColor\":1,\"fTitleFont\":42,\"fNbins\":1,\"fXmin\":0,\"fXmax\":1,\"fXbins\":[],\"fFirst\":0,\"fLast\":0,\"fBits2\":0,\"fTimeDisplay\":false,\"fTimeFormat\":\"\",\"fLabels\":null,\"fModLabs\":null},\"fBarOffset\":0,\"fBarWidth\":1000,\"fEntries\":1627,\"fTsumw\":1584,\"fTsumw2\":1584,\"fTsumwx\":1625.90509454533,\"fTsumwx2\":1743.77157859015,\"fMaximum\":0.178030300140381,\"fMinimum\":0,\"fNormFactor\":0,\"fContour\":[],\"fSumw2\":[0,3.98556269768391e-7,3.98556269768391e-7,0,3.98556269768391e-7,0,7.97112539536782e-7,3.98556269768391e-7,0,0,0,7.97112539536782e-7,7.97112539536782e-7,7.97112539536782e-7,1.19566880930517e-6,2.39133761861035e-6,1.99278134884196e-6,1.19566880930517e-6,1.99278134884196e-6,3.18845015814713e-6,3.98556269768391e-6,3.58700642791552e-6,3.18845015814713e-6,7.57256912559943e-6,5.97834404652587e-6,5.18123150698908e-6,1.03624630139782e-5,9.56535047444139e-6,1.43480257116621e-5,1.35509131721253e-5,1.75364758698092e-5,1.6340807060504e-5,2.5507601265177e-5,3.14859453117029e-5,4.62325272931334e-5,6.89502346699316e-5,9.24650545862667e-5,9.36607233955719e-5,6.33704468931742e-5,2.5507601265177e-5,1.8333588409346e-5,1.19566880930517e-5,6.37690031629426e-6,2.78989388837874e-6,1.19566880930517e-6,2.78989388837874e-6,1.59422507907356e-6,3.98556269768391e-7,1.19566880930517e-6,7.97112539536782e-7,7.97112539536782e-7,0,3.98556269768391e-7,0,3.98556269768391e-7,1.19566880930517e-6,3.98556269768391e-7,0,0,0,0,3.98556269768391e-7,0,3.98556269768391e-7,0,0,7.97112539536782e-7,3.98556269768391e-7,0,0,0,0,0,0,0,0,3.98556269768391e-7,0,0,0,0,0,0,0,0,0,0,0,1.19566880930517e-6,0,0,0,3.98556269768391e-7,3.98556269768391e-7,7.97112539536782e-7,3.98556269768391e-7,0,0,0,0,0,1.71379196000408e-5],\"fOption\":\"\",\"fFunctions\":{\"_typename\":\"TList\",\"name\":\"TList\",\"arr\":[],\"opt\":[]},\"fBufferSize\":0,\"fBuffer\":[],\"fBinStatErrOpt\":0,\"fStatOverflows\":2,\"fArray\":[0,6.313131e-4,6.313131e-4,0,6.313131e-4,0,0.001262626,6.313131e-4,0,0,0,0.001262626,0.001262626,0.001262626,0.001893939,0.003787879,0.003156566,0.001893939,0.003156566,0.005050505,0.006313131,0.005681818,0.005050505,0.01199495,0.009469697,0.008207071,0.01641414,0.01515152,0.02272727,0.02146465,0.02777778,0.02588384,0.04040404,0.04987374,0.07323232,0.1092172,0.1464646,0.1483586,0.1003788,0.04040404,0.0290404,0.01893939,0.01010101,0.004419192,0.001893939,0.004419192,0.002525253,6.313131e-4,0.001893939,0.001262626,0.001262626,0,6.313131e-4,0,6.313131e-4,0.001893939,6.313131e-4,0,0,0,0,6.313131e-4,0,6.313131e-4,0,0,0.001262626,6.313131e-4,0,0,0,0,0,0,0,0,6.313131e-4,0,0,0,0,0,0,0,0,0,0,0,0.001893939,0,0,0,6.313131e-4,6.313131e-4,0.001262626,6.313131e-4,0,0,0,0,0,0.02714646]},{\"_typename\":\"TH1F\",\"fUniqueID\":0,\"fBits\":50332169,\"fName\":\"EG_EGq2_GENEtaD_ptResp\",\"fTitle\":\"EG Pt resp.\",\"fLineColor\":2,\"fLineStyle\":1,\"fLineWidth\":1,\"fFillColor\":0,\"fFillStyle\":1001,\"fMarkerColor\":1,\"fMarkerStyle\":1,\"fMarkerSize\":1,\"fNcells\":102,\"fXaxis\":{\"_typename\":\"TAxis\",\"fUniqueID\":0,\"fBits\":50331648,\"fName\":\"xaxis\",\"fTitle\":\" p_{T}^{L1}\\/p_{T}^{GEN}\",\"fNdivisions\":510,\"fAxisColor\":1,\"fLabelColor\":1,\"fLabelFont\":42,\"fLabelOffset\":0.005,\"fLabelSize\":0.035,\"fTickLength\":0.03,\"fTitleOffset\":1,\"fTitleSize\":0.035,\"fTitleColor\":1,\"fTitleFont\":42,\"fNbins\":100,\"fXmin\":0,\"fXmax\":3,\"fXbins\":[],\"fFirst\":0,\"fLast\":0,\"fBits2\":0,\"fTimeDisplay\":false,\"fTimeFormat\":\"\",\"fLabels\":null,\"fModLabs\":null},\"fYaxis\":{\"_typename\":\"TAxis\",\"fUniqueID\":0,\"fBits\":50331656,\"fName\":\"yaxis\",\"fTitle\":\"\",\"fNdivisions\":510,\"fAxisColor\":1,\"fLabelColor\":1,\"fLabelFont\":42,\"fLabelOffset\":0.005,\"fLabelSize\":0.035,\"fTickLength\":0.03,\"fTitleOffset\":0,\"fTitleSize\":0.035,\"fTitleColor\":1,\"fTitleFont\":42,\"fNbins\":1,\"fXmin\":0,\"fXmax\":1,\"fXbins\":[],\"fFirst\":0,\"fLast\":0,\"fBits2\":0,\"fTimeDisplay\":false,\"fTimeFormat\":\"\",\"fLabels\":null,\"fModLabs\":null},\"fZaxis\":{\"_typename\":\"TAxis\",\"fUniqueID\":0,\"fBits\":50331648,\"fName\":\"zaxis\",\"fTitle\":\"\",\"fNdivisions\":510,\"fAxisColor\":1,\"fLabelColor\":1,\"fLabelFont\":42,\"fLabelOffset\":0.005,\"fLabelSize\":0.035,\"fTickLength\":0.03,\"fTitleOffset\":1,\"fTitleSize\":0.035,\"fTitleColor\":1,\"fTitleFont\":42,\"fNbins\":1,\"fXmin\":0,\"fXmax\":1,\"fXbins\":[],\"fFirst\":0,\"fLast\":0,\"fBits2\":0,\"fTimeDisplay\":false,\"fTimeFormat\":\"\",\"fLabels\":null,\"fModLabs\":null},\"fBarOffset\":0,\"fBarWidth\":1000,\"fEntries\":1627,\"fTsumw\":1587,\"fTsumw2\":1587,\"fTsumwx\":1631.79451502487,\"fTsumwx2\":1769.55282229775,\"fMaximum\":0.178030300140381,\"fMinimum\":0,\"fNormFactor\":0,\"fContour\":[],\"fSumw2\":[0,0,3.97050864995162e-7,3.97050864995162e-7,3.97050864995162e-7,0,3.97050864995162e-7,7.94101729990324e-7,0,0,0,3.97050864995162e-7,7.94101729990324e-7,7.94101729990324e-7,3.97050864995162e-7,2.77935605496613e-6,1.58820345998065e-6,2.38230518997097e-6,1.98525432497581e-6,2.38230518997097e-6,5.55871210993227e-6,6.74986470491775e-6,6.35281383992259e-6,9.13216989488873e-6,1.03233224898742e-5,9.13216989488873e-6,1.34997294098355e-5,1.19115259498549e-5,1.62790854648016e-5,1.66761363297968e-5,1.230857681485e-5,1.94554923847629e-5,2.30289501697194e-5,2.89847131446468e-5,3.37493235245888e-5,5.51900702343275e-5,7.26603082941146e-5,7.42485117540953e-5,6.19399349392453e-5,4.4072646014463e-5,2.50142044946952e-5,1.50879328698162e-5,5.16166124493711e-6,1.11174242198645e-5,4.76461037994194e-6,3.57345778495646e-6,1.19115259498549e-6,1.58820345998065e-6,1.19115259498549e-6,7.94101729990324e-7,1.58820345998065e-6,7.94101729990324e-7,3.97050864995162e-7,7.94101729990324e-7,3.97050864995162e-7,0,1.19115259498549e-6,3.97050864995162e-7,0,3.97050864995162e-7,0,1.58820345998065e-6,3.97050864995162e-7,0,3.97050864995162e-7,0,0,0,3.97050864995162e-7,3.97050864995162e-7,0,0,0,3.97050864995162e-7,0,0,0,7.94101729990324e-7,0,0,0,0,0,3.97050864995162e-7,0,0,0,0,0,7.94101729990324e-7,0,0,0,0,1.19115259498549e-6,3.97050864995162e-7,0,3.97050864995162e-7,0,0,0,1.58820345998065e-5],\"fOption\":\"\",\"fFunctions\":{\"_typename\":\"TList\",\"name\":\"TList\",\"arr\":[],\"opt\":[]},\"fBufferSize\":0,\"fBuffer\":[],\"fBinStatErrOpt\":0,\"fStatOverflows\":2,\"fArray\":[0,0,6.301197e-4,6.301197e-4,6.301197e-4,0,6.301197e-4,0.001260239,0,0,0,6.301197e-4,0.001260239,0.001260239,6.301197e-4,0.004410838,0.002520479,0.003780718,0.003150599,0.003780718,0.008821676,0.01071204,0.01008192,0.01449275,0.01638311,0.01449275,0.02142407,0.01890359,0.02583491,0.02646503,0.01953371,0.03087587,0.03654695,0.04599874,0.05356018,0.08758664,0.1153119,0.1178324,0.09829868,0.06994329,0.03969754,0.02394455,0.008191557,0.01764335,0.007561437,0.005671077,0.001890359,0.002520479,0.001890359,0.001260239,0.002520479,0.001260239,6.301197e-4,0.001260239,6.301197e-4,0,0.001890359,6.301197e-4,0,6.301197e-4,0,0.002520479,6.301197e-4,0,6.301197e-4,0,0,0,6.301197e-4,6.301197e-4,0,0,0,6.301197e-4,0,0,0,0.001260239,0,0,0,0,0,6.301197e-4,0,0,0,0,0,0.001260239,0,0,0,0,0.001890359,6.301197e-4,0,6.301197e-4,0,0,0,0.02520479]},{\"_typename\":\"TLegend\",\"fUniqueID\":0,\"fBits\":50331656,\"fLineColor\":1,\"fLineStyle\":1,\"fLineWidth\":1,\"fFillColor\":0,\"fFillStyle\":0,\"fX1\":3.00000006274173,\"fY1\":0.134100746315338,\"fX2\":4.31578955293692,\"fY2\":0.166469891873709,\"fX1NDC\":0.7,\"fY1NDC\":0.71,\"fX2NDC\":0.95,\"fY2NDC\":0.85,\"fBorderSize\":0,\"fInit\":1,\"fShadowColor\":1,\"fCornerRadius\":0,\"fOption\":\"brNDC\",\"fName\":\"TPave\",\"fTextAngle\":0,\"fTextSize\":0.05,\"fTextAlign\":12,\"fTextColor\":1,\"fTextFont\":42,\"fPrimitives\":{\"_typename\":\"TList\",\"name\":\"TList\",\"arr\":[{\"_typename\":\"TLegendEntry\",\"fUniqueID\":0,\"fBits\":50331656,\"fTextAngle\":0,\"fTextSize\":0,\"fTextAlign\":0,\"fTextColor\":0,\"fTextFont\":42,\"fLineColor\":1,\"fLineStyle\":1,\"fLineWidth\":1,\"fFillColor\":0,\"fFillStyle\":0,\"fMarkerColor\":1,\"fMarkerStyle\":21,\"fMarkerSize\":1,\"fObject\":{\"_typename\":\"TH1F\",\"fUniqueID\":0,\"fBits\":50332168,\"fName\":\"EG_EGq3_GENEtaD_ptResp\",\"fTitle\":\"EG Pt resp.\",\"fLineColor\":1,\"fLineStyle\":1,\"fLineWidth\":1,\"fFillColor\":0,\"fFillStyle\":1001,\"fMarkerColor\":1,\"fMarkerStyle\":1,\"fMarkerSize\":1,\"fNcells\":102,\"fXaxis\":{\"_typename\":\"TAxis\",\"fUniqueID\":0,\"fBits\":50331648,\"fName\":\"xaxis\",\"fTitle\":\" p_{T}^{L1}\\/p_{T}^{GEN}\",\"fNdivisions\":510,\"fAxisColor\":1,\"fLabelColor\":1,\"fLabelFont\":42,\"fLabelOffset\":0.005,\"fLabelSize\":0.035,\"fTickLength\":0.03,\"fTitleOffset\":1,\"fTitleSize\":0.035,\"fTitleColor\":1,\"fTitleFont\":42,\"fNbins\":100,\"fXmin\":0,\"fXmax\":3,\"fXbins\":[],\"fFirst\":0,\"fLast\":0,\"fBits2\":0,\"fTimeDisplay\":false,\"fTimeFormat\":\"\",\"fLabels\":null,\"fModLabs\":null},\"fYaxis\":{\"_typename\":\"TAxis\",\"fUniqueID\":0,\"fBits\":50331648,\"fName\":\"yaxis\",\"fTitle\":\"\",\"fNdivisions\":510,\"fAxisColor\":1,\"fLabelColor\":1,\"fLabelFont\":42,\"fLabelOffset\":0.005,\"fLabelSize\":0.035,\"fTickLength\":0.03,\"fTitleOffset\":0,\"fTitleSize\":0.035,\"fTitleColor\":1,\"fTitleFont\":42,\"fNbins\":1,\"fXmin\":0,\"fXmax\":1,\"fXbins\":[],\"fFirst\":0,\"fLast\":0,\"fBits2\":0,\"fTimeDisplay\":false,\"fTimeFormat\":\"\",\"fLabels\":null,\"fModLabs\":null},\"fZaxis\":{\"_typename\":\"TAxis\",\"fUniqueID\":0,\"fBits\":50331648,\"fName\":\"zaxis\",\"fTitle\":\"\",\"fNdivisions\":510,\"fAxisColor\":1,\"fLabelColor\":1,\"fLabelFont\":42,\"fLabelOffset\":0.005,\"fLabelSize\":0.035,\"fTickLength\":0.03,\"fTitleOffset\":1,\"fTitleSize\":0.035,\"fTitleColor\":1,\"fTitleFont\":42,\"fNbins\":1,\"fXmin\":0,\"fXmax\":1,\"fXbins\":[],\"fFirst\":0,\"fLast\":0,\"fBits2\":0,\"fTimeDisplay\":false,\"fTimeFormat\":\"\",\"fLabels\":null,\"fModLabs\":null},\"fBarOffset\":0,\"fBarWidth\":1000,\"fEntries\":1627,\"fTsumw\":1584,\"fTsumw2\":1584,\"fTsumwx\":1625.90509454533,\"fTsumwx2\":1743.77157859015,\"fMaximum\":-1111,\"fMinimum\":-1111,\"fNormFactor\":0,\"fContour\":[],\"fSumw2\":[0,1,1,0,1,0,2,1,0,0,0,2,2,2,3,6,5,3,5,8,10,9,8,19,15,13,26,24,36,34,44,41,64,79,116,173,232,235,159,64,46,30,16,7,3,7,4,1,3,2,2,0,1,0,1,3,1,0,0,0,0,1,0,1,0,0,2,1,0,0,0,0,0,0,0,0,1,0,0,0,0,0,0,0,0,0,0,0,3,0,0,0,1,1,2,1,0,0,0,0,0,43],\"fOption\":\"\",\"fFunctions\":{\"_typename\":\"TList\",\"name\":\"TList\",\"arr\":[],\"opt\":[]},\"fBufferSize\":0,\"fBuffer\":[],\"fBinStatErrOpt\":0,\"fStatOverflows\":2,\"fArray\":[0,1,1,0,1,0,2,1,0,0,0,2,2,2,3,6,5,3,5,8,10,9,8,19,15,13,26,24,36,34,44,41,64,79,116,173,232,235,159,64,46,30,16,7,3,7,4,1,3,2,2,0,1,0,1,3,1,0,0,0,0,1,0,1,0,0,2,1,0,0,0,0,0,0,0,0,1,0,0,0,0,0,0,0,0,0,0,0,3,0,0,0,1,1,2,1,0,0,0,0,0,43]},\"fLabel\":\"q3\",\"fOption\":\"l\"},{\"_typename\":\"TLegendEntry\",\"fUniqueID\":0,\"fBits\":50331656,\"fTextAngle\":0,\"fTextSize\":0,\"fTextAlign\":0,\"fTextColor\":0,\"fTextFont\":42,\"fLineColor\":2,\"fLineStyle\":1,\"fLineWidth\":1,\"fFillColor\":0,\"fFillStyle\":0,\"fMarkerColor\":1,\"fMarkerStyle\":21,\"fMarkerSize\":1,\"fObject\":{\"_typename\":\"TH1F\",\"fUniqueID\":0,\"fBits\":50332168,\"fName\":\"EG_EGq2_GENEtaD_ptResp\",\"fTitle\":\"EG Pt resp.\",\"fLineColor\":2,\"fLineStyle\":1,\"fLineWidth\":1,\"fFillColor\":0,\"fFillStyle\":1001,\"fMarkerColor\":1,\"fMarkerStyle\":1,\"fMarkerSize\":1,\"fNcells\":102,\"fXaxis\":{\"_typename\":\"TAxis\",\"fUniqueID\":0,\"fBits\":50331648,\"fName\":\"xaxis\",\"fTitle\":\" p_{T}^{L1}\\/p_{T}^{GEN}\",\"fNdivisions\":510,\"fAxisColor\":1,\"fLabelColor\":1,\"fLabelFont\":42,\"fLabelOffset\":0.005,\"fLabelSize\":0.035,\"fTickLength\":0.03,\"fTitleOffset\":1,\"fTitleSize\":0.035,\"fTitleColor\":1,\"fTitleFont\":42,\"fNbins\":100,\"fXmin\":0,\"fXmax\":3,\"fXbins\":[],\"fFirst\":0,\"fLast\":0,\"fBits2\":0,\"fTimeDisplay\":false,\"fTimeFormat\":\"\",\"fLabels\":null,\"fModLabs\":null},\"fYaxis\":{\"_typename\":\"TAxis\",\"fUniqueID\":0,\"fBits\":50331648,\"fName\":\"yaxis\",\"fTitle\":\"\",\"fNdivisions\":510,\"fAxisColor\":1,\"fLabelColor\":1,\"fLabelFont\":42,\"fLabelOffset\":0.005,\"fLabelSize\":0.035,\"fTickLength\":0.03,\"fTitleOffset\":0,\"fTitleSize\":0.035,\"fTitleColor\":1,\"fTitleFont\":42,\"fNbins\":1,\"fXmin\":0,\"fXmax\":1,\"fXbins\":[],\"fFirst\":0,\"fLast\":0,\"fBits2\":0,\"fTimeDisplay\":false,\"fTimeFormat\":\"\",\"fLabels\":null,\"fModLabs\":null},\"fZaxis\":{\"_typename\":\"TAxis\",\"fUniqueID\":0,\"fBits\":50331648,\"fName\":\"zaxis\",\"fTitle\":\"\",\"fNdivisions\":510,\"fAxisColor\":1,\"fLabelColor\":1,\"fLabelFont\":42,\"fLabelOffset\":0.005,\"fLabelSize\":0.035,\"fTickLength\":0.03,\"fTitleOffset\":1,\"fTitleSize\":0.035,\"fTitleColor\":1,\"fTitleFont\":42,\"fNbins\":1,\"fXmin\":0,\"fXmax\":1,\"fXbins\":[],\"fFirst\":0,\"fLast\":0,\"fBits2\":0,\"fTimeDisplay\":false,\"fTimeFormat\":\"\",\"fLabels\":null,\"fModLabs\":null},\"fBarOffset\":0,\"fBarWidth\":1000,\"fEntries\":1627,\"fTsumw\":1587,\"fTsumw2\":1587,\"fTsumwx\":1631.79451502487,\"fTsumwx2\":1769.55282229775,\"fMaximum\":-1111,\"fMinimum\":-1111,\"fNormFactor\":0,\"fContour\":[],\"fSumw2\":[0,0,1,1,1,0,1,2,0,0,0,1,2,2,1,7,4,6,5,6,14,17,16,23,26,23,34,30,41,42,31,49,58,73,85,139,183,187,156,111,63,38,13,28,12,9,3,4,3,2,4,2,1,2,1,0,3,1,0,1,0,4,1,0,1,0,0,0,1,1,0,0,0,1,0,0,0,2,0,0,0,0,0,1,0,0,0,0,0,2,0,0,0,0,3,1,0,1,0,0,0,40],\"fOption\":\"\",\"fFunctions\":{\"_typename\":\"TList\",\"name\":\"TList\",\"arr\":[],\"opt\":[]},\"fBufferSize\":0,\"fBuffer\":[],\"fBinStatErrOpt\":0,\"fStatOverflows\":2,\"fArray\":[0,0,1,1,1,0,1,2,0,0,0,1,2,2,1,7,4,6,5,6,14,17,16,23,26,23,34,30,41,42,31,49,58,73,85,139,183,187,156,111,63,38,13,28,12,9,3,4,3,2,4,2,1,2,1,0,3,1,0,1,0,4,1,0,1,0,0,0,1,1,0,0,0,1,0,0,0,2,0,0,0,0,0,1,0,0,0,0,0,2,0,0,0,0,3,1,0,1,0,0,0,40]},\"fLabel\":\"q2\",\"fOption\":\"l\"}],\"opt\":[\"l\",\"l\"]},\"fEntrySeparation\":0.1,\"fMargin\":0.25,\"fNColumns\":1,\"fColumnSeparation\":0},{\"_typename\":\"TLatex\",\"fUniqueID\":0,\"fBits\":50348040,\"fName\":\"\",\"fTitle\":\"PU200, EG, 2.4 < |#eta^{GEN}| <= 2.8\",\"fTextAngle\":0,\"fTextSize\":0.03,\"fTextAlign\":11,\"fTextColor\":1,\"fTextFont\":62,\"fX\":0.15,\"fY\":0.85,\"fLineColor\":1,\"fLineStyle\":1,\"fLineWidth\":2,\"fLimitFactorSize\":3,\"fOriginSize\":0.04}],\"opt\":[\"\",\"HIST\",\"SAME,HIST\",\"\",\"same\"]},\"fExecs\":null,\"fName\":\"c_6df85c\",\"fTitle\":\"c_6df85c\",\"fNumPaletteColor\":0,\"fNextPaletteColor\":0,\"fDISPLAY\":\"$DISPLAY\",\"fDoubleBuffer\":0,\"fRetained\":true,\"fXsizeUser\":0,\"fYsizeUser\":0,\"fXsizeReal\":20,\"fYsizeReal\":15,\"fWindowTopX\":0,\"fWindowTopY\":0,\"fWindowWidth\":0,\"fWindowHeight\":0,\"fCw\":796,\"fCh\":572,\"fCatt\":{\"_typename\":\"TAttCanvas\",\"fXBetween\":2,\"fYBetween\":2,\"fTitleFromTop\":1.2,\"fXdate\":0.2,\"fYdate\":0.3,\"fAdate\":1},\"kMoveOpaque\":true,\"kResizeOpaque\":true,\"fHighLightColor\":2,\"fBatch\":true,\"kShowEventStatus\":false,\"kAutoExec\":true,\"kMenuBar\":true});\n",
       "       Core.draw(\"root_plot_12\", obj, \"\");\n",
       "     }\n",
       " );\n",
       "</script>\n"
      ],
      "text/plain": [
       "<IPython.core.display.HTML object>"
      ]
     },
     "metadata": {},
     "output_type": "display_data"
    }
   ],
   "source": [
    "\n",
    "for tp in tps:\n",
    "    for pu in ['PU0', 'PU200']:\n",
    "        for gen_sel in gen_select:\n",
    "            hsets, labels, text = hplot.get_histo(histos.EGResoHistos, sample, pu, tp, ['EGq2', 'EGq3'], gen_sel)            \n",
    "            draw([his.h_ptResp for his in hsets], labels, norm=True, text=text, options='hist')\n"
   ]
  },
  {
   "cell_type": "code",
   "execution_count": null,
   "metadata": {},
   "outputs": [],
   "source": [
    "for tp in tps:\n",
    "    for tp_sel in tp_select:\n",
    "        for gen_sel in gen_select:\n",
    "            hsets, labels, text = hplot.get_histo(histos.EGResoHistos, ['ele'], ['PU0', 'PU200'], tp, tp_sel, gen_sel)            \n",
    "            draw([his.h_ptRespVpt for his in hsets], labels, options=\"COLZ\", do_profile=False, text=text)\n"
   ]
  },
  {
   "cell_type": "code",
   "execution_count": null,
   "metadata": {
    "scrolled": false
   },
   "outputs": [],
   "source": [
    "for tp in tps:\n",
    "    for tp_sel in tp_select:\n",
    "        for gen_sel in gen_select:\n",
    "            hsets, labels, text = hplot.get_histo(histos.EGResoHistos, ['ele'], ['PU0', 'PU200'], tp, tp_sel, gen_sel)            \n",
    "            draw([his.h_ptRespVpt_mdn() for his in hsets], labels, options=\"COLZ\", do_profile=False, text=text, min_y=0, max_y=3)\n"
   ]
  },
  {
   "cell_type": "code",
   "execution_count": null,
   "metadata": {},
   "outputs": [],
   "source": [
    "for tp in tps:\n",
    "    for tp_sel in tp_select:\n",
    "        for gen_sel in ['GENEtaC']:\n",
    "            hsets, labels, text = hplot.get_histo(histos.EGResoHistos, ['ele'], ['PU0', 'PU200'], tp, tp_sel, gen_sel)            \n",
    "            draw([his.h_ptRespVpt_gmean() for his in hsets], labels, options=\"COLZ\", do_profile=False, text=text, min_y=0, max_y=3)\n"
   ]
  },
  {
   "cell_type": "code",
   "execution_count": null,
   "metadata": {},
   "outputs": [],
   "source": [
    "for tp in tps:\n",
    "    for pu in ['PU0', 'PU200']:\n",
    "    #for tp_sel in tp_select:\n",
    "        for gen_sel in ['GENEtaC']:\n",
    "            hsets, labels, text = hplot.get_histo(histos.EGResoHistos, ['ele'], pu, tp, ['EGq2', 'EGq3'], gen_sel)            \n",
    "            draw([his.h_ptRespVpt_sigma() for his in hsets], labels, options=\"COLZ\", do_profile=False, text=text, min_y=0, max_y=3)\n"
   ]
  },
  {
   "cell_type": "code",
   "execution_count": null,
   "metadata": {},
   "outputs": [],
   "source": [
    "for tp in tps:\n",
    "    for tp_sel in tp_select:\n",
    "        for gen_sel in gen_select:\n",
    "            hsets, labels, text = hplot.get_histo(histos.EGResoHistos, ['ele'], ['PU200'], tp, tp_sel, gen_sel)            \n",
    "            plots = []\n",
    "            plots.append(hsets[0].h_ptRespVpt.ProjectionY(uuid.uuid4().hex[:6], 21, 22))\n",
    "            plots.append(hsets[0].h_ptRespVpt.ProjectionY(uuid.uuid4().hex[:6], 22, 23))\n",
    "            drawSame(plots, ['A', 'B'], text=text)\n",
    "            #drawSeveral([his.h_ptRespVpt for his in hsets], labels, options=\"COLZ\", do_profile=False, text=text)\n"
   ]
  },
  {
   "cell_type": "code",
   "execution_count": null,
   "metadata": {},
   "outputs": [],
   "source": [
    "for tp in tps:\n",
    "    for tp_sel in tp_select:\n",
    "        for gen_sel in ['GEN']:\n",
    "            hsets, labels, text = hplot.get_histo(histos.EGResoHistos, 'ele', ['PU0', 'PU200'], tp, tp_sel, gen_sel)            \n",
    "            print labels\n",
    "            print text\n",
    "            drawSeveral([his.h_ptRespVeta for his in hsets], labels, options=\"COLZ\", do_profile=False, text=text)\n"
   ]
  },
  {
   "cell_type": "markdown",
   "metadata": {},
   "source": [
    "#### All clusters in DR 0.2 from GEN"
   ]
  },
  {
   "cell_type": "code",
   "execution_count": null,
   "metadata": {},
   "outputs": [],
   "source": [
    "histo_resoCone_df = pd.DataFrame(index=tp_sets, columns=particles)\n",
    "for tp_set in tp_sets:\n",
    "    for particle in particles:\n",
    "        histo_resoCone_df.loc[tp_set][particle] =  [histos.HistoSetReso('{}_{}'.format(tp_set, particle), sample.histo_file).hresoCone for sample in samples]\n",
    "histo_resoCone_df"
   ]
  },
  {
   "cell_type": "code",
   "execution_count": null,
   "metadata": {
    "scrolled": false
   },
   "outputs": [],
   "source": [
    "for particle in particles:\n",
    "    for tp_set in ['DEF', 'DEF_em']:\n",
    "        hByTPset = [histo.h_ptRes for histo in histo_resoCone_df.loc[tp_set, particle]]\n",
    "        drawSame(hByTPset, labels, norm=True, text=titles_df.loc[tp_set, particle])\n"
   ]
  },
  {
   "cell_type": "code",
   "execution_count": null,
   "metadata": {
    "scrolled": false
   },
   "outputs": [],
   "source": [
    "for particle in particles:\n",
    "    for tp_set in ['DEF', 'DEF_em']:\n",
    "        hByTPset = [histo.h_ptResp for histo in histo_resoCone_df.loc[tp_set, particle]]\n",
    "        drawSame(hByTPset, labels, norm=True, text=titles_df.loc[tp_set, particle])\n"
   ]
  },
  {
   "cell_type": "code",
   "execution_count": null,
   "metadata": {
    "scrolled": false
   },
   "outputs": [],
   "source": [
    "for particle in particles:\n",
    "    for tp_set in ['DEF', 'DEF_em']:\n",
    "        hByTPset = [histo.h_n010 for histo in histo_resoCone_df.loc[tp_set, particle]]\n",
    "        drawSame(hByTPset, labels, norm=True, text=titles_df.loc[tp_set, particle])\n"
   ]
  },
  {
   "cell_type": "code",
   "execution_count": null,
   "metadata": {
    "scrolled": false
   },
   "outputs": [],
   "source": [
    "for particle in particles:\n",
    "    for tp_set in ['DEF', 'DEF_em']:\n",
    "        hByTPset = [histo.h_n025 for histo in histo_resoCone_df.loc[tp_set, particle]]\n",
    "        drawSame(hByTPset, labels, norm=True, text=titles_df.loc[tp_set, particle])\n"
   ]
  },
  {
   "cell_type": "markdown",
   "metadata": {},
   "source": [
    "We now compare the 2 defitnitions (highest pt and all clusters in cone) for the same PU point"
   ]
  },
  {
   "cell_type": "code",
   "execution_count": null,
   "metadata": {
    "scrolled": false
   },
   "outputs": [],
   "source": [
    "for particle in particles:\n",
    "    for tp_set in ['DEF', 'DEF_em']:\n",
    "        hByTPset_best = [histo.h_ptRes for histo in histo_reso_df.loc[tp_set, particle]]\n",
    "        hByTPset_cone = [histo.h_ptRes for histo in histo_resoCone_df.loc[tp_set, particle]]\n",
    "\n",
    "        drawSame([hByTPset_best[0], hByTPset_cone[0]], ['PU0 best', 'PU0 cone'], norm=True, text=titles_df.loc[tp_set, particle])\n",
    "        drawSame([hByTPset_best[1], hByTPset_cone[1]], ['PU200 best', 'PU200 cone'], norm=True, text=titles_df.loc[tp_set, particle])\n"
   ]
  },
  {
   "cell_type": "markdown",
   "metadata": {},
   "source": [
    "We now show the behavior of the pt residuals vs pt of the GEN particle"
   ]
  },
  {
   "cell_type": "code",
   "execution_count": null,
   "metadata": {},
   "outputs": [],
   "source": [
    "for algo in algos:\n",
    "    hByAlgo = [histo.h_ptResVpt for histo in histosAlgos_all.loc[algo].hresoCone]\n",
    "    #normalize(hclAll_pt35_layer, nevents_pt35)\n",
    "    drawSeveral(hByAlgo, histosAlgos_all.loc[algo]['labels'], 'COLZ',do_profile=True)\n",
    "    #print hByAlgo[0].GetName()"
   ]
  },
  {
   "cell_type": "code",
   "execution_count": null,
   "metadata": {},
   "outputs": [],
   "source": [
    "for algo in algos:\n",
    "    hCl3D_ptResVpt_0 = [histo.h_ptResVpt.ProjectionY(uuid.uuid4().hex[:6], 1, 5) for histo in histosAlgos_all.loc[algo].hresoCone]\n",
    "    for histo in hCl3D_ptResVpt_0:\n",
    "        histo.SetTitle('3D cluster reso (GeV) for 1 < pt < 10 GeV')\n",
    "    #     normalize(hByAlgo, histosAlgos_all.loc[algo]['norm'])\n",
    "    drawSame(hCl3D_ptResVpt_0, histosAlgos_all.loc[algo]['labels'], norm=True)\n"
   ]
  },
  {
   "cell_type": "code",
   "execution_count": null,
   "metadata": {},
   "outputs": [],
   "source": [
    "for algo in algos:\n",
    "    hCl3D_ptResVpt_1 = [histo.h_ptResVpt.ProjectionY(uuid.uuid4().hex[:6], 6, 10) for histo in histosAlgos_all.loc[algo].hresoCone]\n",
    "    for histo in hCl3D_ptResVpt_1:\n",
    "        histo.SetTitle('3D cluster reso (GeV) for 10 < pt < 20 GeV')\n",
    "    #     normalize(hByAlgo, histosAlgos_all.loc[algo]['norm'])\n",
    "    drawSame(hCl3D_ptResVpt_1, histosAlgos_all.loc[algo]['labels'], norm=True)\n"
   ]
  },
  {
   "cell_type": "code",
   "execution_count": null,
   "metadata": {},
   "outputs": [],
   "source": [
    "for algo in algos:\n",
    "    hCl3D_ptResVpt_2 = [histo.h_ptResVpt.ProjectionY(uuid.uuid4().hex[:6], 11, 15) for histo in histosAlgos_all.loc[algo].hresoCone]\n",
    "    for histo in hCl3D_ptResVpt_2:\n",
    "        histo.SetTitle('3D cluster reso (GeV) for 20 < pt < 30 GeV')\n",
    "    #     normalize(hByAlgo, histosAlgos_all.loc[algo]['norm'])\n",
    "    drawSame(hCl3D_ptResVpt_2, histosAlgos_all.loc[algo]['labels'], norm=True)\n"
   ]
  },
  {
   "cell_type": "code",
   "execution_count": null,
   "metadata": {},
   "outputs": [],
   "source": [
    "for algo in algos:\n",
    "    hCl3D_ptResVpt_3 = [histo.h_ptResVpt.ProjectionY(uuid.uuid4().hex[:6], 16, 20) for histo in histosAlgos_all.loc[algo].hresoCone]\n",
    "    for histo in hCl3D_ptResVpt_3:\n",
    "        histo.SetTitle('3D cluster reso (GeV) for 30 < pt < 40 GeV')\n",
    "    #     normalize(hByAlgo, histosAlgos_all.loc[algo]['norm'])\n",
    "    drawSame(hCl3D_ptResVpt_3, histosAlgos_all.loc[algo]['labels'], norm=True)\n"
   ]
  },
  {
   "cell_type": "code",
   "execution_count": null,
   "metadata": {},
   "outputs": [],
   "source": [
    "for algo in algos:\n",
    "    hByAlgo = [histo.h_ptResVeta for histo in histosAlgos_all.loc[algo].hresoCone]\n",
    "    #normalize(hclAll_pt35_layer, nevents_pt35)\n",
    "    drawSeveral(hByAlgo, histosAlgos_all.loc[algo]['labels'], 'COLZ',do_profile=True)"
   ]
  },
  {
   "cell_type": "code",
   "execution_count": null,
   "metadata": {
    "scrolled": false
   },
   "outputs": [],
   "source": [
    "for algo in algos:\n",
    "    hByAlgo = [histo.h_ptResVnclu for histo in histosAlgos_all.loc[algo].hresoCone]\n",
    "    #normalize(hclAll_pt35_layer, nevents_pt35)\n",
    "    drawSeveral(hByAlgo, histosAlgos_all.loc[algo]['labels'], 'COLZ',do_profile=True)"
   ]
  },
  {
   "cell_type": "markdown",
   "metadata": {},
   "source": [
    "### Energy resolution\n"
   ]
  },
  {
   "cell_type": "code",
   "execution_count": null,
   "metadata": {},
   "outputs": [],
   "source": [
    "\n",
    "\n",
    "for algo in algos:\n",
    "    hByAlgo = [histo.h_energyRes for histo in histosAlgos_all.loc[algo].hreso]\n",
    "    #normalize(hclAll_pt35_layer, nevents_pt35)\n",
    "    drawSame(hByAlgo, histosAlgos_all.loc[algo]['labels'], norm=True)\n",
    "\n"
   ]
  },
  {
   "cell_type": "code",
   "execution_count": null,
   "metadata": {},
   "outputs": [],
   "source": [
    "\n",
    "for s_id in range(0, len(samples)):\n",
    "    labels_bySample = histosAlgos_all['labels'].apply(lambda x: x[s_id])\n",
    "    hBySample = [histo.h_energyRes for histo in  histosAlgos_all['hreso'].apply(lambda x: x[s_id])]\n",
    "    drawSame(hBySample, labels_bySample,'hist',logy=True)\n"
   ]
  },
  {
   "cell_type": "markdown",
   "metadata": {},
   "source": [
    "## Postion resolution of 2D clusters"
   ]
  },
  {
   "cell_type": "code",
   "execution_count": null,
   "metadata": {},
   "outputs": [],
   "source": [
    "for algo in algos:\n",
    "    hByAlgo = [histo.h_xResVlayer for histo in histosAlgos_all.loc[algo].hreso2D]\n",
    "    #normalize(hclAll_pt35_layer, nevents_pt35)\n",
    "    drawSeveral(hByAlgo, histosAlgos_all.loc[algo]['labels'], 'COLZ',do_profile=True, miny=-2, maxy=2)"
   ]
  },
  {
   "cell_type": "code",
   "execution_count": null,
   "metadata": {
    "scrolled": false
   },
   "outputs": [],
   "source": [
    "for algo in algos:\n",
    "    hByAlgo = [histo.h_xResVlayer.ProjectionY(uuid.uuid4().hex[:6], 1, 3) for histo in histosAlgos_all.loc[algo].hreso2D]\n",
    "    for histo in hByAlgo:\n",
    "        histo.SetTitle('2D cluster x reso (cm) for layer 1 and 3')\n",
    "    #     normalize(hByAlgo, histosAlgos_all.loc[algo]['norm'])\n",
    "    drawSame(hByAlgo, histosAlgos_all.loc[algo]['labels'], norm=True, options='hist')\n"
   ]
  },
  {
   "cell_type": "code",
   "execution_count": null,
   "metadata": {
    "scrolled": false
   },
   "outputs": [],
   "source": [
    "for algo in algos:\n",
    "    hByAlgo = [histo.h_xResVlayer.ProjectionY(uuid.uuid4().hex[:6], 12, 15) for histo in histosAlgos_all.loc[algo].hreso2D]\n",
    "    for histo in hByAlgo:\n",
    "        histo.SetTitle('2D cluster x reso (cm) for layer 13 and 15')\n",
    "    #     normalize(hByAlgo, histosAlgos_all.loc[algo]['norm'])\n",
    "    drawSame(hByAlgo, histosAlgos_all.loc[algo]['labels'], norm=True, options='hist')\n"
   ]
  },
  {
   "cell_type": "code",
   "execution_count": null,
   "metadata": {},
   "outputs": [],
   "source": [
    "for algo in algos:\n",
    "    hByAlgo = [histo.h_yResVlayer for histo in histosAlgos_all.loc[algo].hreso2D]\n",
    "    #normalize(hclAll_pt35_layer, nevents_pt35)\n",
    "    drawSeveral(hByAlgo, histosAlgos_all.loc[algo]['labels'], 'COLZ',do_profile=True, miny=-2, maxy=2)"
   ]
  },
  {
   "cell_type": "code",
   "execution_count": null,
   "metadata": {},
   "outputs": [],
   "source": []
  },
  {
   "cell_type": "code",
   "execution_count": null,
   "metadata": {},
   "outputs": [],
   "source": []
  }
 ],
 "metadata": {
  "kernelspec": {
   "display_name": "HGCTPGPerformance",
   "language": "python",
   "name": "hgctpgperformance"
  },
  "language_info": {
   "codemirror_mode": {
    "name": "ipython",
    "version": 2
   },
   "file_extension": ".py",
   "mimetype": "text/x-python",
   "name": "python",
   "nbconvert_exporter": "python",
   "pygments_lexer": "ipython2",
   "version": "2.7.15"
  },
  "toc": {
   "base_numbering": 1,
   "nav_menu": {},
   "number_sections": true,
   "sideBar": true,
   "skip_h1_title": false,
   "title_cell": "Table of Contents",
   "title_sidebar": "Contents",
   "toc_cell": false,
   "toc_position": {},
   "toc_section_display": true,
   "toc_window_display": true
  }
 },
 "nbformat": 4,
 "nbformat_minor": 2
}
