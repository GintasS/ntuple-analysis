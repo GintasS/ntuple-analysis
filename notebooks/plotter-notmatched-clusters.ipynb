{
 "cells": [
  {
   "cell_type": "markdown",
   "metadata": {},
   "source": [
    "# Single Particle performance plots\n",
    "\n",
    "\n",
    "   * [GEN Level plots](#Gen-level)\n",
    "   * [All clusters without selection](#All-clusters-without-selection)\n",
    "      * [2D clusters per layer](#2D-clusters-per-layer)\n",
    "      * [2D cluster energy](#2D-cluster-energy)\n",
    "      * [2D cluster: # of TriggerCells](#2D-cluster:-#-of-TriggerCells)\n",
    "      * [# of 3D clusters](##-of-3D-clusters)\n",
    "   * [Cluster matched to GEN particles](#Cluster-matched-to-GEN-particles)\n",
    "      * [2D clusters per layer](#2D-clusters-per-layer)\n",
    "      * [2D clusters: # of Trigger Cells](#2D-clusters:-#-of-Trigger-Cells)\n",
    "      * [2D Cluster Energy](#2D-Cluster-Energy)\n",
    "      * [3D clusters: # of 2D components](#3D-clusters:-#-of-2D-components)\n",
    "      * [3D cluster energy](#3D-cluster-energy)\n",
    "   * [Resolution studies](#Resolution-Studies)\n",
    "      * [3D cluster: pt resolution](#3D-cluster:-Pt-resolution)\n",
    "      * [2D position resolution](#Postion-resolution-of-2D-clusters)\n",
    "   * [Trigger Tower performance](#Trigger-Tower-plots)\n",
    "      * [Towers matched to GEN](#Towers-matched-to-GEN-particles)\n",
    "      * [Resolution studies](#Trigger-Tower-resolution)\n",
    "\n"
   ]
  },
  {
   "cell_type": "code",
   "execution_count": 1,
   "metadata": {},
   "outputs": [
    {
     "name": "stdout",
     "output_type": "stream",
     "text": [
      "Welcome to JupyROOT 6.14/02\n"
     ]
    }
   ],
   "source": [
    "import sys\n",
    "sys.path.insert(0, '..')\n",
    "import ROOT\n",
    "import root_numpy as rnp\n",
    "import python.l1THistos as histos\n",
    "import math\n",
    "import uuid\n",
    "import pandas as pd\n",
    "\n",
    "ROOT.enableJSVis()\n",
    "#ROOT.enableJSVis()\n",
    "\n",
    "#from drawingTools import *\n",
    "\n",
    "normalized_histos = list()"
   ]
  },
  {
   "cell_type": "code",
   "execution_count": 2,
   "metadata": {},
   "outputs": [],
   "source": [
    "# %load ../drawingTools\n",
    "import ROOT\n",
    "import math\n",
    "import uuid\n",
    "\n",
    "# some useful globals, mainly to deal with ROOT idiosyncrasies\n",
    "c_idx = 0\n",
    "p_idx = 0\n",
    "colors = range(1, 6)\n",
    "stuff = []\n",
    "f_idx = 0\n",
    "\n",
    "ROOT.gStyle.SetPadBottomMargin(0.13)\n",
    "ROOT.gStyle.SetPadLeftMargin(0.13)\n",
    "ROOT.gStyle.SetPadRightMargin(0.30)\n",
    "\n",
    "ROOT.gStyle.SetCanvasBorderMode(0)\n",
    "ROOT.gStyle.SetCanvasColor(0)\n",
    "ROOT.gStyle.SetCanvasDefH(600)\n",
    "ROOT.gStyle.SetCanvasDefW(800)\n",
    "\n",
    "# define some utility functions\n",
    "def newCanvas(name=None, title=None, xdiv=0, ydiv=0, form=4):\n",
    "    global c_idx\n",
    "    if name is None:\n",
    "        name = 'c_{}'.format(uuid.uuid4().hex[:6])\n",
    "        c_idx += 1\n",
    "    if title is None:\n",
    "        title = name\n",
    "    # print name, title\n",
    "    canvas = ROOT.TCanvas(name, title)\n",
    "    if(xdiv*ydiv != 0):\n",
    "        canvas.Divide(xdiv, ydiv)\n",
    "    global stuff\n",
    "    stuff.append(canvas)\n",
    "    return canvas\n",
    "\n",
    "\n",
    "def draw(plot, options='', text=None):\n",
    "    c = newCanvas()\n",
    "    c.cd()\n",
    "    plot.Draw(options)\n",
    "    if text:\n",
    "        rtext = getText(text, 0.15, 0.85)\n",
    "        rtext.Draw('same')\n",
    "\n",
    "    c.Draw()\n",
    "\n",
    "    return\n",
    "\n",
    "\n",
    "def drawAll(histograms,\n",
    "            labels=None,\n",
    "            options='',\n",
    "            text=None,\n",
    "            norm=False,\n",
    "            logy=False,\n",
    "            min_y=None,\n",
    "            max_y=None,\n",
    "            y_axis_label=None,\n",
    "            do_ratio=False,\n",
    "            do_profile=False):\n",
    "    if len(histograms) == 0:\n",
    "        print 'ERROR: no histogram in input'\n",
    "        return -1\n",
    "    if do_ratio and len(histograms) != 2:\n",
    "        print 'ERROR: do_ratio option only available when 2 histograms need to be drawn!'\n",
    "        return -2\n",
    "    if do_profile and not ('TH2' in histograms[0].ClassName() or 'TH3' in histograms[0].ClassName()):\n",
    "        print 'ERROR: do_profile option only available with TH2 and TH3 histograms'\n",
    "        return -3\n",
    "\n",
    "    # we build the canvas\n",
    "    return\n",
    "\n",
    "\n",
    "def drawAll(histograms,\n",
    "            labels=None,\n",
    "            options='',\n",
    "            text=None,\n",
    "            norm=False,\n",
    "            logy=False,\n",
    "            min_y=None,\n",
    "            max_y=None,\n",
    "            y_axis_label=None,\n",
    "            do_ratio=False,\n",
    "            do_profile=False):\n",
    "    if len(histograms) == 0:\n",
    "        print 'ERROR: no histogram in input'\n",
    "        return -1\n",
    "    if do_ratio and len(histograms) != 2:\n",
    "        print 'ERROR: do_ratio option only available when 2 histograms need to be drawn!'\n",
    "        return -2\n",
    "    if do_profile and not ('TH2' in histograms[0].ClassName() or 'TH3' in histograms[0].ClassName()):\n",
    "        print 'ERROR: do_profile option only available with TH2 and TH3 histograms'\n",
    "        return -3\n",
    "\n",
    "    # we build the canvas\n",
    "    return 0\n",
    "\n",
    "\n",
    "def getLegend(x1=0.7, y1=0.71, x2=0.95, y2=0.85):\n",
    "    global stuff\n",
    "    legend = ROOT.TLegend(x1, y1, x2, y2)\n",
    "    stuff.append(legend)\n",
    "    legend.SetFillColor(0)\n",
    "    legend.SetFillStyle(0)\n",
    "    legend.SetBorderSize(0)\n",
    "    legend.SetTextSize(0.05)\n",
    "    return legend\n",
    "\n",
    "\n",
    "def drawAndProfileX(plot2d, miny=None, maxy=None, do_profile=True, options='', text=None):\n",
    "    global p_idx\n",
    "    if miny and maxy:\n",
    "        plot2d.GetYaxis().SetRangeUser(miny, maxy)\n",
    "    c = newCanvas()\n",
    "    c.SetGrid(1, 1)\n",
    "    c.cd()\n",
    "    plot2d.Draw(options)\n",
    "    ROOT.gPad.SetGrid(1, 1)\n",
    "    ROOT.gStyle.SetGridColor(15)\n",
    "\n",
    "    if do_profile:\n",
    "        profname = plot2d.GetName()+'_prof_'+str(p_idx)\n",
    "        p_idx += 1\n",
    "        firstbin = 1\n",
    "        lastbin = -1\n",
    "        prof = plot2d.ProfileX(profname, firstbin, lastbin, 's')\n",
    "        prof.SetMarkerColor(2)\n",
    "        prof.SetLineColor(2)\n",
    "        prof.Draw('same')\n",
    "\n",
    "    if text:\n",
    "        rtext = getText(text, 0.15, 0.85)\n",
    "        rtext.Draw('same')\n",
    "\n",
    "    c.Draw()\n",
    "\n",
    "\n",
    "def getText(text, ndc_x, ndc_y):\n",
    "    global stuff\n",
    "    rtext = ROOT.TLatex(ndc_x, ndc_y, text)\n",
    "    stuff.append(rtext)\n",
    "    rtext.SetNDC(True)\n",
    "    # rtext.SetTextFont(40)\n",
    "    rtext.SetTextSize(0.03)\n",
    "    return rtext\n",
    "\n",
    "\n",
    "def drawSame(histograms,\n",
    "             labels,\n",
    "             options='',\n",
    "             norm=False,\n",
    "             logy=False,\n",
    "             min_y=None,\n",
    "             max_y=None,\n",
    "             text=None,\n",
    "             y_axis_label=None,\n",
    "             x_axis_label=None,\n",
    "             v_lines=None,\n",
    "             h_lines=None):\n",
    "    global colors\n",
    "    global stuff\n",
    "    c = newCanvas(title=histograms[0].GetName())\n",
    "    c.cd()\n",
    "    leg = getLegend()\n",
    "\n",
    "    max_value = max_y\n",
    "    min_value = min_y\n",
    "\n",
    "    newHistos = []\n",
    "    for hidx, hist in enumerate(histograms):\n",
    "        hist.SetLineColor(colors[hidx])\n",
    "        hist.SetStats(False)\n",
    "        if norm:\n",
    "            nhist = hist.DrawNormalized('same'+','+options, 1.)\n",
    "            newHistos.append(nhist)\n",
    "        else:\n",
    "            if hidx:\n",
    "                hist.Draw('same'+','+options)\n",
    "            else:\n",
    "                hist.Draw(options)\n",
    "            newHistos.append(hist)\n",
    "        leg.AddEntry(histograms[hidx], labels[hidx], 'l')\n",
    "\n",
    "    if min_y is None:\n",
    "        min_value = min([hist.GetBinContent(hist.GetMinimumBin()) for hist in newHistos])\n",
    "    if max_y is None:\n",
    "        max_value = max([hist.GetBinContent(hist.GetMaximumBin()) for hist in newHistos])*1.2\n",
    "    print min_value, max_value\n",
    "\n",
    "    newHistos[0].GetYaxis().SetRangeUser(min_value, max_value)\n",
    "    if y_axis_label:\n",
    "        newHistos[0].GetYaxis().SetTitle(y_axis_label)\n",
    "    if x_axis_label:\n",
    "            newHistos[0].GetXaxis().SetTitle(x_axis_label)\n",
    "\n",
    "    leg.Draw()\n",
    "    c.Draw()\n",
    "    if text:\n",
    "        rtext = getText(text, 0.15, 0.85)\n",
    "        rtext.Draw(\"same\")\n",
    "    if logy:\n",
    "        c.SetLogy()\n",
    "\n",
    "    if v_lines:\n",
    "        for v_line_x in v_lines:\n",
    "            aline = ROOT.TLine(v_line_x, c.GetUymin(), v_line_x,  c.GetUymax())\n",
    "            aline.SetLineStyle(2)\n",
    "            aline.Draw(\"same\")\n",
    "            stuff.append(aline)\n",
    "    if h_lines:\n",
    "        for h_line_y in h_lines:\n",
    "            aline = ROOT.TLine(c.GetUxmin(), h_line_y, c.GetUxmax(),  h_line_y)\n",
    "            aline.SetLineStyle(2)\n",
    "            aline.Draw(\"same\")\n",
    "            stuff.append(aline)\n",
    "    c.Update()\n",
    "\n",
    "def drawProfileX(histograms, labels, options=''):\n",
    "    profiles = [hist.ProfileX() for hist in histograms]\n",
    "    drawSame(profiles, labels, options)\n",
    "\n",
    "\n",
    "def drawSeveral(histograms, labels, options='', do_profile=False, miny=None, maxy=None, text=None):\n",
    "    ydiv = int(math.ceil(float(len(histograms))/2))\n",
    "    for hidx in range(0, len(histograms)):\n",
    "        newtext = labels[hidx]\n",
    "        if text:\n",
    "            newtext = '{}: {}'.format(labels[hidx], text)\n",
    "        if do_profile:\n",
    "            drawAndProfileX(histograms[hidx], miny=miny, maxy=maxy, options=options, do_profile=do_profile, text=newtext)\n",
    "        else:\n",
    "            draw(histograms[hidx], options=options, text=newtext)\n",
    "\n",
    "\n",
    "def drawProfileRatio(prof1, prof2, ymin=None, ymax=None, text=None):\n",
    "    hist1 = prof1.ProjectionX(uuid.uuid4().hex[:6])\n",
    "    hist2 = prof2.ProjectionX(uuid.uuid4().hex[:6])\n",
    "    hist1.Divide(hist2)\n",
    "    draw(hist1)\n",
    "    if text:\n",
    "        rtext = getText(text, 0.15, 0.85)\n",
    "        rtext.Draw(\"same\")\n",
    "\n",
    "    if ymin is not None and ymax is not None:\n",
    "        hist1.GetYaxis().SetRangeUser(ymin, ymax)\n",
    "    ROOT.gPad.Update()\n",
    "\n",
    "\n",
    "# mean+-nsigmas*RMS.\n",
    "def drawGaussFit(histo, nsigmas, min, max):\n",
    "    minfit = histo.GetMean() - nsigmas*histo.GetRMS()\n",
    "    maxfit = histo.GetMean() + nsigmas*histo.GetRMS()\n",
    "    drawGFit(histo, min, max, minfit, maxfit)\n",
    "\n",
    "\n",
    "# Fit a histogram in the range (minfit, maxfit) with a gaussian and\n",
    "# draw it in the range (min, max)\n",
    "def drawGFit(histo, min, max, minfit, maxfit):\n",
    "    # static int i = 0\n",
    "    # i++\n",
    "    # gPad->SetGrid(1,1);\n",
    "    # gStyle->SetGridColor(15);\n",
    "    histo.GetXaxis().SetRangeUser(min, max)\n",
    "    global f_idx\n",
    "    nameF1 = \"g{}\".format(f_idx)\n",
    "    f_idx +=1\n",
    "    g1 = ROOT.TF1(nameF1, \"gaus\", minfit, maxfit)\n",
    "    g1.SetLineColor(2)\n",
    "    g1.SetLineWidth(2)\n",
    "    histo.Fit(g1,\"R\")\n",
    "\n",
    "\n",
    "def drawGraphsSame(histograms,\n",
    "                   labels,\n",
    "                   options='',\n",
    "                   norm=False,\n",
    "                   logy=False,\n",
    "                   min_y=None,\n",
    "                   max_y=None,\n",
    "                   text=None):\n",
    "    global colors\n",
    "    c = newCanvas()\n",
    "    c.cd()\n",
    "    leg = getLegend()\n",
    "\n",
    "    for hidx in range(0, len(histograms)):\n",
    "        histograms[hidx].SetLineColor(colors[hidx])\n",
    "        histograms[hidx].Draw('same'+','+options)\n",
    "        leg.AddEntry(histograms[hidx], labels[hidx], 'l')\n",
    "\n",
    "    max_value = max_y\n",
    "    min_value = min_y\n",
    "    if min_y is None:\n",
    "        min_value = min([hist.GetBinContent(hist.GetMinimumBin()) for hist in histograms])\n",
    "    if max_y is None:\n",
    "        max_value = max([hist.GetBinContent(hist.GetMaximumBin()) for hist in histograms])*1.2\n",
    "    histograms[0].GetYaxis().SetRangeUser(min_value, max_value)\n",
    "    leg.Draw()\n",
    "    c.Draw()\n",
    "    if logy:\n",
    "        c.SetLogy()\n",
    "    if text:\n",
    "        rtext = getText(text, 0.15, 0.85)\n",
    "        rtext.Draw(\"same\")\n",
    "    c.Update()\n"
   ]
  },
  {
   "cell_type": "code",
   "execution_count": 3,
   "metadata": {},
   "outputs": [
    {
     "name": "stdout",
     "output_type": "stream",
     "text": [
      "gen_part_selections: 10\n"
     ]
    },
    {
     "name": "stderr",
     "output_type": "stream",
     "text": [
      "Error in <TFile::TFile>: file ../plots1/histos_photon_flat8to150_PU0_v58t.root does not exist\n",
      "Error in <TFile::TFile>: file ../plots1/histos_photon_flat8to150_PU200_v58t.root does not exist\n",
      "Error in <TFile::TFile>: file ../plots1/histos_nugun_alleta_pu0_v58t.root does not exist\n",
      "Error in <TFile::TFile>: file ../plots1/histos_nugun_alleta_pu200_v58t.root does not exist\n",
      "Error in <TFile::TFile>: file ../plots1/histos_nugun_alleta_pu200_v58t.root does not exist\n"
     ]
    }
   ],
   "source": [
    "# %load samples.py\n",
    "import ROOT\n",
    "import pandas as pd\n",
    "import python.selections as selections\n",
    "\n",
    "version = 'v58t'\n",
    "\n",
    "files = {}\n",
    "file_keys = {}\n",
    "\n",
    "\n",
    "class RootFile:\n",
    "    def __init__(self, file_name):\n",
    "        global file\n",
    "        self.file_name = file_name\n",
    "        if self.file_name not in files.keys():\n",
    "            print 'get file: {}'.format(self.file_name)\n",
    "            files[self.file_name] = ROOT.TFile(self.file_name)\n",
    "        self._file = files[self.file_name]\n",
    "        self._file_keys = None\n",
    "\n",
    "    def cd(self):\n",
    "        self._file.cd()\n",
    "\n",
    "    def GetListOfKeys(self):\n",
    "        global file_keys\n",
    "        if self.file_name not in file_keys.keys():\n",
    "            print 'get list'\n",
    "            file_keys[self.file_name] = self._file.GetListOfKeys()\n",
    "        self._file_keys = file_keys[self.file_name]\n",
    "        return self._file_keys\n",
    "\n",
    "\n",
    "class Sample():\n",
    "    def __init__(self, name, label, version=None, type=None):\n",
    "        self.name = name\n",
    "        self.label = label\n",
    "        if version:\n",
    "            version = '_'+version\n",
    "        else:\n",
    "            version = ''\n",
    "        self.histo_filename = '../plots1/histos_{}{}.root'.format(self.name, version)\n",
    "        self.histo_file = ROOT.TFile(self.histo_filename, 'r')\n",
    "        self.type = type\n",
    "\n",
    "\n",
    "# sample_names = ['ele_flat2to100_PU0',\n",
    "#                 'ele_flat2to100_PU200',\n",
    "#                 'photonPt35_PU0',\n",
    "#                 'photonPt35_PU200']\n",
    "\n",
    "\n",
    "def get_label_dict(selections):\n",
    "    dictionary = {}\n",
    "    for sel in selections:\n",
    "        dictionary[sel.name] = sel.label\n",
    "    return dictionary\n",
    "\n",
    "\n",
    "class HProxy:\n",
    "    def __init__(self, classtype, tp, tp_sel, gen_sel, root_file):\n",
    "        self.classtype = classtype\n",
    "        self.tp = tp\n",
    "        self.tp_sel = tp_sel\n",
    "        self.gen_sel = gen_sel\n",
    "        self.root_file = root_file\n",
    "        self.instance = None\n",
    "\n",
    "    def get(self):\n",
    "        if self.instance is None:\n",
    "            name = '{}_{}_{}'.format(self.tp, self.tp_sel, self.gen_sel)\n",
    "            if self.gen_sel is None:\n",
    "                name = '{}_{}'.format(self.tp, self.tp_sel)\n",
    "            self.instance = self.classtype(name, self.root_file)\n",
    "        return self.instance\n",
    "\n",
    "\n",
    "class HPlot:\n",
    "    def __init__(self, samples, tp_sets, tp_selections, gen_selections):\n",
    "        self.tp_sets = tp_sets\n",
    "        self.tp_selections = tp_selections\n",
    "        self.gen_selections = gen_selections\n",
    "        self.pus = []\n",
    "        self.labels_dict = {}\n",
    "\n",
    "        for sample in samples:\n",
    "            self.pus.append(sample.label)\n",
    "            self.labels_dict[sample.type] = sample.type\n",
    "\n",
    "        self.data = pd.DataFrame(columns=['sample', 'pu', 'tp', 'tp_sel', 'gen_sel', 'classtype', 'histo'])\n",
    "\n",
    "        self.labels_dict.update(tp_sets)\n",
    "        self.labels_dict.update(tp_selections)\n",
    "        self.labels_dict.update(gen_selections)\n",
    "        self.labels_dict.update({'PU0': 'PU0', 'PU200': 'PU200'})\n",
    "\n",
    "    def cache_histo(self,\n",
    "                    classtype,\n",
    "                    samples,\n",
    "                    pus,\n",
    "                    tps,\n",
    "                    tp_sels,\n",
    "                    gen_sels):\n",
    "        if gen_sels is None:\n",
    "            gen_sels = [None]\n",
    "\n",
    "        for sample in samples:\n",
    "            print sample\n",
    "            for tp in tps:\n",
    "                for tp_sel in tp_sels:\n",
    "                    for gen_sel in gen_sels:\n",
    "                        print sample, tp, tp_sel, gen_sel\n",
    "                        self.data = self.data.append({'sample': sample.type,\n",
    "                                                      'pu': sample.label,\n",
    "                                                      'tp': tp,\n",
    "                                                      'tp_sel': tp_sel,\n",
    "                                                      'gen_sel': gen_sel,\n",
    "                                                      'classtype': classtype,\n",
    "                                                      'histo': HProxy(classtype, tp, tp_sel, gen_sel, sample.histo_file)},\n",
    "                                                     ignore_index=True)\n",
    "\n",
    "    def get_histo(self,\n",
    "                  classtype,\n",
    "                  sample=None,\n",
    "                  pu=None,\n",
    "                  tp=None,\n",
    "                  tp_sel=None,\n",
    "                  gen_sel=None):\n",
    "        histo = None\n",
    "        labels = []\n",
    "        text = ''\n",
    "\n",
    "        query = '(pu == @pu) & (tp == @tp) & (tp_sel == @tp_sel) & (classtype == @classtype)'\n",
    "        if gen_sel is not None:\n",
    "            query += ' & (gen_sel == @gen_sel)'\n",
    "        else:\n",
    "            query += ' & (gen_sel.isnull())'\n",
    "        if sample is not None:\n",
    "            query += '& (sample == @sample)'\n",
    "\n",
    "        histo_df = self.data.query(query)\n",
    "\n",
    "        if histo_df.empty:\n",
    "            print 'No match found for: pu: {}, tp: {}, tp_sel: {}, gen_sel: {}, classtype: {}'.format(pu, tp, tp_sel, gen_sel, classtype)\n",
    "            return None, None, None\n",
    "#         print histo_df\n",
    "\n",
    "        field_counts = histo_df.apply(lambda x: len(x.unique()))\n",
    "        label_fields = []\n",
    "        text_fields = []\n",
    "        # print field_counts\n",
    "        for field in field_counts.iteritems():\n",
    "            if(field[1] > 1 and field[0] != 'histo'):\n",
    "                label_fields.append(field[0])\n",
    "            if(field[1] == 1 and field[0] != 'histo' and field[0] != 'classtype' and field[0] != 'sample'):\n",
    "                if(gen_sel is None and field[0] == 'gen_sel'):\n",
    "                    continue\n",
    "                text_fields.append(field[0])\n",
    "#         print 'label fields: {}'.format(label_fields)\n",
    "#         print 'text fields: {}'.format(text_fields)\n",
    "\n",
    "        for item in histo_df[label_fields].iterrows():\n",
    "            labels.append(', '.join([self.labels_dict[tx] for tx in item[1].values if self.labels_dict[tx] != '']))\n",
    "\n",
    "        # print labels\n",
    "        text = ', '.join([self.labels_dict[fl] for fl in histo_df[text_fields].iloc[0].values if self.labels_dict[fl] != ''])\n",
    "        histo = [his.get() for his in histo_df['histo'].values]\n",
    "        return histo, labels, text\n",
    "\n",
    "\n",
    "# -------------------------------------------------------------------------\n",
    "\n",
    "samples_ele = [\n",
    "    Sample('ele_flat2to100_PU0', 'PU0', version, 'ele'),\n",
    "    Sample('ele_flat2to100_PU200', 'PU200', version, 'ele')\n",
    "    ]\n",
    "\n",
    "samples_photons = [\n",
    "    Sample('photon_flat8to150_PU0', 'PU0', version, 'photon'),\n",
    "    Sample('photon_flat8to150_PU200', 'PU200', version, 'photon')\n",
    "    ]\n",
    "\n",
    "samples_pions = [\n",
    "    Sample('pion_flat2to100_PU0', 'PU0', version, 'pions'),\n",
    "    ]\n",
    "\n",
    "samples_nugus = [\n",
    "    Sample('nugun_alleta_pu0', 'PU0', version, 'mb'),\n",
    "    Sample('nugun_alleta_pu200', 'PU200', version, 'mb')\n",
    "    ]\n",
    "\n",
    "samples_nugunrates = [\n",
    "    Sample('nugun_alleta_pu200', 'PU200', version, 'mb')\n",
    "    ]\n",
    "\n",
    "tpsets = {'DEF': 'NNDR',\n",
    "          'DEFCalib': 'NNDR Calib v1'}\n",
    "\n",
    "tpset_selections = {}\n",
    "gen_selections = {}\n",
    "samples = []\n",
    "\n",
    "# tpset_selections.update(get_label_dict(tp_rate_selections))\n",
    "tpset_selections.update(get_label_dict(selections.tp_match_selections))\n",
    "gen_selections.update(get_label_dict(selections.gen_part_selections))\n",
    "gen_selections.update({'nomatch': ''})\n"
   ]
  },
  {
   "cell_type": "code",
   "execution_count": 4,
   "metadata": {},
   "outputs": [],
   "source": [
    "gen_selections = {'nomatch': ''}\n",
    "tpset_selections = {'all': '',\n",
    "                    'Em': 'EGId'}\n",
    "samples = samples_ele\n",
    "samples += samples_pions"
   ]
  },
  {
   "cell_type": "code",
   "execution_count": 5,
   "metadata": {},
   "outputs": [
    {
     "data": {
      "text/plain": [
       "{'DEF': 'NNDR', 'DEFCalib': 'NNDR Calib v1'}"
      ]
     },
     "execution_count": 5,
     "metadata": {},
     "output_type": "execute_result"
    }
   ],
   "source": [
    "tpsets"
   ]
  },
  {
   "cell_type": "code",
   "execution_count": 6,
   "metadata": {},
   "outputs": [
    {
     "data": {
      "text/plain": [
       "{'Em': 'EGId', 'all': ''}"
      ]
     },
     "execution_count": 6,
     "metadata": {},
     "output_type": "execute_result"
    }
   ],
   "source": [
    "tpset_selections"
   ]
  },
  {
   "cell_type": "code",
   "execution_count": 7,
   "metadata": {},
   "outputs": [
    {
     "data": {
      "text/plain": [
       "{'nomatch': ''}"
      ]
     },
     "execution_count": 7,
     "metadata": {},
     "output_type": "execute_result"
    }
   ],
   "source": [
    "gen_selections"
   ]
  },
  {
   "cell_type": "code",
   "execution_count": 9,
   "metadata": {},
   "outputs": [
    {
     "name": "stdout",
     "output_type": "stream",
     "text": [
      "<__main__.Sample instance at 0x1158d4f80>\n",
      "<__main__.Sample instance at 0x1158d4f80> DEFCalib Em nomatch\n",
      "<__main__.Sample instance at 0x1158d4f80> DEFCalib all nomatch\n",
      "<__main__.Sample instance at 0x1158d4f80> DEF Em nomatch\n",
      "<__main__.Sample instance at 0x1158d4f80> DEF all nomatch\n",
      "<__main__.Sample instance at 0x1158977a0>\n",
      "<__main__.Sample instance at 0x1158977a0> DEFCalib Em nomatch\n",
      "<__main__.Sample instance at 0x1158977a0> DEFCalib all nomatch\n",
      "<__main__.Sample instance at 0x1158977a0> DEF Em nomatch\n",
      "<__main__.Sample instance at 0x1158977a0> DEF all nomatch\n",
      "<__main__.Sample instance at 0x1158977e8>\n",
      "<__main__.Sample instance at 0x1158977e8> DEFCalib Em nomatch\n",
      "<__main__.Sample instance at 0x1158977e8> DEFCalib all nomatch\n",
      "<__main__.Sample instance at 0x1158977e8> DEF Em nomatch\n",
      "<__main__.Sample instance at 0x1158977e8> DEF all nomatch\n",
      "CPU times: user 103 ms, sys: 18.9 ms, total: 122 ms\n",
      "Wall time: 122 ms\n"
     ]
    }
   ],
   "source": [
    "%%time\n",
    "\n",
    "hplot = HPlot(samples, tpsets, tpset_selections, gen_selections)\n",
    "\n",
    "\n",
    "# hplot.cache_histo(classtype=histos.TriggerTowerHistos, \n",
    "#                   samples=samples,\n",
    "#                   pus=[],\n",
    "#                   tps=tpsets,\n",
    "#                   tp_sels=tpset_selections,\n",
    "#                   gen_sels=['nomatch'])\n",
    "\n",
    "\n",
    "hplot.cache_histo(classtype=histos.HistoSetClusters, \n",
    "                  samples=samples,\n",
    "                  pus=[],\n",
    "                  tps=tpsets,\n",
    "                  tp_sels=tpset_selections,\n",
    "                  gen_sels=gen_selections)\n"
   ]
  },
  {
   "cell_type": "code",
   "execution_count": 27,
   "metadata": {},
   "outputs": [
    {
     "data": {
      "text/html": [
       "<div>\n",
       "<table border=\"1\" class=\"dataframe\">\n",
       "  <thead>\n",
       "    <tr style=\"text-align: right;\">\n",
       "      <th></th>\n",
       "      <th>sample</th>\n",
       "      <th>pu</th>\n",
       "      <th>tp</th>\n",
       "      <th>tp_sel</th>\n",
       "      <th>gen_sel</th>\n",
       "      <th>classtype</th>\n",
       "      <th>histo</th>\n",
       "    </tr>\n",
       "  </thead>\n",
       "  <tbody>\n",
       "    <tr>\n",
       "      <th>0</th>\n",
       "      <td>ele</td>\n",
       "      <td>PU0</td>\n",
       "      <td>DEFCalib</td>\n",
       "      <td>Em</td>\n",
       "      <td>nomatch</td>\n",
       "      <td>python.l1THistos.HistoSetClusters</td>\n",
       "      <td>&lt;__main__.HProxy instance at 0x120c8a908&gt;</td>\n",
       "    </tr>\n",
       "    <tr>\n",
       "      <th>1</th>\n",
       "      <td>ele</td>\n",
       "      <td>PU0</td>\n",
       "      <td>DEFCalib</td>\n",
       "      <td>all</td>\n",
       "      <td>nomatch</td>\n",
       "      <td>python.l1THistos.HistoSetClusters</td>\n",
       "      <td>&lt;__main__.HProxy instance at 0x120c8a1b8&gt;</td>\n",
       "    </tr>\n",
       "    <tr>\n",
       "      <th>2</th>\n",
       "      <td>ele</td>\n",
       "      <td>PU0</td>\n",
       "      <td>DEF</td>\n",
       "      <td>Em</td>\n",
       "      <td>nomatch</td>\n",
       "      <td>python.l1THistos.HistoSetClusters</td>\n",
       "      <td>&lt;__main__.HProxy instance at 0x120d262d8&gt;</td>\n",
       "    </tr>\n",
       "    <tr>\n",
       "      <th>3</th>\n",
       "      <td>ele</td>\n",
       "      <td>PU0</td>\n",
       "      <td>DEF</td>\n",
       "      <td>all</td>\n",
       "      <td>nomatch</td>\n",
       "      <td>python.l1THistos.HistoSetClusters</td>\n",
       "      <td>&lt;__main__.HProxy instance at 0x120c8a710&gt;</td>\n",
       "    </tr>\n",
       "    <tr>\n",
       "      <th>4</th>\n",
       "      <td>ele</td>\n",
       "      <td>PU200</td>\n",
       "      <td>DEFCalib</td>\n",
       "      <td>Em</td>\n",
       "      <td>nomatch</td>\n",
       "      <td>python.l1THistos.HistoSetClusters</td>\n",
       "      <td>&lt;__main__.HProxy instance at 0x120c8a3b0&gt;</td>\n",
       "    </tr>\n",
       "    <tr>\n",
       "      <th>5</th>\n",
       "      <td>ele</td>\n",
       "      <td>PU200</td>\n",
       "      <td>DEFCalib</td>\n",
       "      <td>all</td>\n",
       "      <td>nomatch</td>\n",
       "      <td>python.l1THistos.HistoSetClusters</td>\n",
       "      <td>&lt;__main__.HProxy instance at 0x120c6be60&gt;</td>\n",
       "    </tr>\n",
       "    <tr>\n",
       "      <th>6</th>\n",
       "      <td>ele</td>\n",
       "      <td>PU200</td>\n",
       "      <td>DEF</td>\n",
       "      <td>Em</td>\n",
       "      <td>nomatch</td>\n",
       "      <td>python.l1THistos.HistoSetClusters</td>\n",
       "      <td>&lt;__main__.HProxy instance at 0x120cabef0&gt;</td>\n",
       "    </tr>\n",
       "    <tr>\n",
       "      <th>7</th>\n",
       "      <td>ele</td>\n",
       "      <td>PU200</td>\n",
       "      <td>DEF</td>\n",
       "      <td>all</td>\n",
       "      <td>nomatch</td>\n",
       "      <td>python.l1THistos.HistoSetClusters</td>\n",
       "      <td>&lt;__main__.HProxy instance at 0x120c8a5f0&gt;</td>\n",
       "    </tr>\n",
       "    <tr>\n",
       "      <th>8</th>\n",
       "      <td>pions</td>\n",
       "      <td>PU0</td>\n",
       "      <td>DEFCalib</td>\n",
       "      <td>Em</td>\n",
       "      <td>nomatch</td>\n",
       "      <td>python.l1THistos.HistoSetClusters</td>\n",
       "      <td>&lt;__main__.HProxy instance at 0x120cce638&gt;</td>\n",
       "    </tr>\n",
       "    <tr>\n",
       "      <th>9</th>\n",
       "      <td>pions</td>\n",
       "      <td>PU0</td>\n",
       "      <td>DEFCalib</td>\n",
       "      <td>all</td>\n",
       "      <td>nomatch</td>\n",
       "      <td>python.l1THistos.HistoSetClusters</td>\n",
       "      <td>&lt;__main__.HProxy instance at 0x120d263b0&gt;</td>\n",
       "    </tr>\n",
       "    <tr>\n",
       "      <th>10</th>\n",
       "      <td>pions</td>\n",
       "      <td>PU0</td>\n",
       "      <td>DEF</td>\n",
       "      <td>Em</td>\n",
       "      <td>nomatch</td>\n",
       "      <td>python.l1THistos.HistoSetClusters</td>\n",
       "      <td>&lt;__main__.HProxy instance at 0x120cc0440&gt;</td>\n",
       "    </tr>\n",
       "    <tr>\n",
       "      <th>11</th>\n",
       "      <td>pions</td>\n",
       "      <td>PU0</td>\n",
       "      <td>DEF</td>\n",
       "      <td>all</td>\n",
       "      <td>nomatch</td>\n",
       "      <td>python.l1THistos.HistoSetClusters</td>\n",
       "      <td>&lt;__main__.HProxy instance at 0x120c6e9e0&gt;</td>\n",
       "    </tr>\n",
       "    <tr>\n",
       "      <th>12</th>\n",
       "      <td>pions</td>\n",
       "      <td>PU0</td>\n",
       "      <td>DEFCalib</td>\n",
       "      <td>Em</td>\n",
       "      <td>nomatch</td>\n",
       "      <td>python.l1THistos.HistoSetClusters</td>\n",
       "      <td>&lt;__main__.HProxy instance at 0x120c78cf8&gt;</td>\n",
       "    </tr>\n",
       "    <tr>\n",
       "      <th>13</th>\n",
       "      <td>pions</td>\n",
       "      <td>PU0</td>\n",
       "      <td>DEFCalib</td>\n",
       "      <td>all</td>\n",
       "      <td>nomatch</td>\n",
       "      <td>python.l1THistos.HistoSetClusters</td>\n",
       "      <td>&lt;__main__.HProxy instance at 0x120c8a758&gt;</td>\n",
       "    </tr>\n",
       "    <tr>\n",
       "      <th>14</th>\n",
       "      <td>pions</td>\n",
       "      <td>PU0</td>\n",
       "      <td>DEF</td>\n",
       "      <td>Em</td>\n",
       "      <td>nomatch</td>\n",
       "      <td>python.l1THistos.HistoSetClusters</td>\n",
       "      <td>&lt;__main__.HProxy instance at 0x120d26710&gt;</td>\n",
       "    </tr>\n",
       "    <tr>\n",
       "      <th>15</th>\n",
       "      <td>pions</td>\n",
       "      <td>PU0</td>\n",
       "      <td>DEF</td>\n",
       "      <td>all</td>\n",
       "      <td>nomatch</td>\n",
       "      <td>python.l1THistos.HistoSetClusters</td>\n",
       "      <td>&lt;__main__.HProxy instance at 0x120c6eb00&gt;</td>\n",
       "    </tr>\n",
       "  </tbody>\n",
       "</table>\n",
       "</div>"
      ],
      "text/plain": [
       "   sample     pu        tp tp_sel  gen_sel                          classtype  \\\n",
       "0     ele    PU0  DEFCalib     Em  nomatch  python.l1THistos.HistoSetClusters   \n",
       "1     ele    PU0  DEFCalib    all  nomatch  python.l1THistos.HistoSetClusters   \n",
       "2     ele    PU0       DEF     Em  nomatch  python.l1THistos.HistoSetClusters   \n",
       "3     ele    PU0       DEF    all  nomatch  python.l1THistos.HistoSetClusters   \n",
       "4     ele  PU200  DEFCalib     Em  nomatch  python.l1THistos.HistoSetClusters   \n",
       "5     ele  PU200  DEFCalib    all  nomatch  python.l1THistos.HistoSetClusters   \n",
       "6     ele  PU200       DEF     Em  nomatch  python.l1THistos.HistoSetClusters   \n",
       "7     ele  PU200       DEF    all  nomatch  python.l1THistos.HistoSetClusters   \n",
       "8   pions    PU0  DEFCalib     Em  nomatch  python.l1THistos.HistoSetClusters   \n",
       "9   pions    PU0  DEFCalib    all  nomatch  python.l1THistos.HistoSetClusters   \n",
       "10  pions    PU0       DEF     Em  nomatch  python.l1THistos.HistoSetClusters   \n",
       "11  pions    PU0       DEF    all  nomatch  python.l1THistos.HistoSetClusters   \n",
       "12  pions    PU0  DEFCalib     Em  nomatch  python.l1THistos.HistoSetClusters   \n",
       "13  pions    PU0  DEFCalib    all  nomatch  python.l1THistos.HistoSetClusters   \n",
       "14  pions    PU0       DEF     Em  nomatch  python.l1THistos.HistoSetClusters   \n",
       "15  pions    PU0       DEF    all  nomatch  python.l1THistos.HistoSetClusters   \n",
       "\n",
       "                                        histo  \n",
       "0   <__main__.HProxy instance at 0x120c8a908>  \n",
       "1   <__main__.HProxy instance at 0x120c8a1b8>  \n",
       "2   <__main__.HProxy instance at 0x120d262d8>  \n",
       "3   <__main__.HProxy instance at 0x120c8a710>  \n",
       "4   <__main__.HProxy instance at 0x120c8a3b0>  \n",
       "5   <__main__.HProxy instance at 0x120c6be60>  \n",
       "6   <__main__.HProxy instance at 0x120cabef0>  \n",
       "7   <__main__.HProxy instance at 0x120c8a5f0>  \n",
       "8   <__main__.HProxy instance at 0x120cce638>  \n",
       "9   <__main__.HProxy instance at 0x120d263b0>  \n",
       "10  <__main__.HProxy instance at 0x120cc0440>  \n",
       "11  <__main__.HProxy instance at 0x120c6e9e0>  \n",
       "12  <__main__.HProxy instance at 0x120c78cf8>  \n",
       "13  <__main__.HProxy instance at 0x120c8a758>  \n",
       "14  <__main__.HProxy instance at 0x120d26710>  \n",
       "15  <__main__.HProxy instance at 0x120c6eb00>  "
      ]
     },
     "execution_count": 27,
     "metadata": {},
     "output_type": "execute_result"
    }
   ],
   "source": [
    "hplot.data"
   ]
  },
  {
   "cell_type": "markdown",
   "metadata": {},
   "source": [
    "## Electron flat pT gun 2 < pt < 100 GeV"
   ]
  },
  {
   "cell_type": "code",
   "execution_count": 10,
   "metadata": {},
   "outputs": [],
   "source": [
    "sample_type = ['ele']\n",
    "tps = ['DEF', 'DEFCalib']\n",
    "tp_select = ['all', 'Em']"
   ]
  },
  {
   "cell_type": "markdown",
   "metadata": {},
   "source": [
    "### 3D clusters not matched to GEN"
   ]
  },
  {
   "cell_type": "code",
   "execution_count": 11,
   "metadata": {},
   "outputs": [
    {
     "name": "stdout",
     "output_type": "stream",
     "text": [
      "3.78596655537e-06 0.574142003059\n",
      "0.000175056193257 0.396365869045\n",
      "5.66641392652e-06 0.574150514603\n",
      "0.000267636816716 0.396647250652\n"
     ]
    },
    {
     "data": {
      "text/html": [
       "\n",
       "<div id=\"root_plot_1\"\n",
       "     style=\"width: 796px; height: 572px\">\n",
       "</div>\n",
       "\n",
       "<script>\n",
       " requirejs.config({\n",
       "     paths: {\n",
       "       'JSRootCore' : 'https://root.cern.ch/js/notebook//scripts/JSRootCore',\n",
       "     }\n",
       "   });\n",
       " require(['JSRootCore'],\n",
       "     function(Core) {\n",
       "       var obj = Core.JSONR_unref({\"_typename\":\"TCanvas\",\"fUniqueID\":0,\"fBits\":53673992,\"fLineColor\":1,\"fLineStyle\":1,\"fLineWidth\":1,\"fFillColor\":0,\"fFillStyle\":1001,\"fLeftMargin\":0.13,\"fRightMargin\":0.3,\"fBottomMargin\":0.13,\"fTopMargin\":0.1,\"fXfile\":2,\"fYfile\":2,\"fAfile\":1,\"fXstat\":0.99,\"fYstat\":0.99,\"fAstat\":2,\"fFrameFillColor\":0,\"fFrameLineColor\":1,\"fFrameFillStyle\":1001,\"fFrameLineStyle\":1,\"fFrameLineWidth\":1,\"fFrameBorderSize\":1,\"fFrameBorderMode\":0,\"fX1\":-22.8070169934936,\"fY1\":-6.29651091916323,\"fX2\":152.631581699199,\"fY2\":0.431856041234363,\"fXtoAbsPixelk\":103.480046204376,\"fXtoPixelk\":103.480046204376,\"fXtoPixel\":4.53719994306564,\"fYtoAbsPixelk\":36.7135136145735,\"fYtoPixelk\":36.7135136145735,\"fYtoPixel\":-85.013199096709,\"fUtoAbsPixelk\":5e-5,\"fUtoPixelk\":5e-5,\"fUtoPixel\":796,\"fVtoAbsPixelk\":572.00005,\"fVtoPixelk\":572,\"fVtoPixel\":-572,\"fAbsPixeltoXk\":-22.8070169934936,\"fPixeltoXk\":-22.8070169934936,\"fPixeltoX\":0.220400249613935,\"fAbsPixeltoYk\":0.431856041234363,\"fPixeltoYk\":-6.29651091916323,\"fPixeltoY\":-0.0117628793013944,\"fXlowNDC\":0,\"fYlowNDC\":0,\"fXUpNDC\":0,\"fYUpNDC\":0,\"fWNDC\":1,\"fHNDC\":1,\"fAbsXlowNDC\":0,\"fAbsYlowNDC\":0,\"fAbsWNDC\":1,\"fAbsHNDC\":1,\"fUxmin\":0,\"fUymin\":-5.42182322684411,\"fUxmax\":100,\"fUymax\":-0.240980679870517,\"fTheta\":30,\"fPhi\":30,\"fAspectRatio\":0,\"fNumber\":0,\"fTickx\":0,\"fTicky\":0,\"fLogx\":0,\"fLogy\":1,\"fLogz\":0,\"fPadPaint\":0,\"fCrosshair\":0,\"fCrosshairPos\":0,\"fBorderSize\":2,\"fBorderMode\":0,\"fModified\":false,\"fGridx\":false,\"fGridy\":false,\"fAbsCoord\":false,\"fEditable\":true,\"fFixedAspectRatio\":false,\"fPrimitives\":{\"_typename\":\"TList\",\"name\":\"TList\",\"arr\":[{\"_typename\":\"TFrame\",\"fUniqueID\":0,\"fBits\":50331656,\"fLineColor\":1,\"fLineStyle\":1,\"fLineWidth\":1,\"fFillColor\":0,\"fFillStyle\":1001,\"fX1\":0,\"fY1\":-5.42182322684411,\"fX2\":100,\"fY2\":-0.240980679870517,\"fBorderSize\":1,\"fBorderMode\":0},{\"_typename\":\"TH1F\",\"fUniqueID\":0,\"fBits\":50332169,\"fName\":\"h_cl3d_DEF_all_nomatch_pt\",\"fTitle\":\"3D Cluster Pt (GeV)\",\"fLineColor\":1,\"fLineStyle\":1,\"fLineWidth\":1,\"fFillColor\":0,\"fFillStyle\":1001,\"fMarkerColor\":1,\"fMarkerStyle\":1,\"fMarkerSize\":1,\"fNcells\":102,\"fXaxis\":{\"_typename\":\"TAxis\",\"fUniqueID\":0,\"fBits\":50331648,\"fName\":\"xaxis\",\"fTitle\":\" p_{T} [GeV]\",\"fNdivisions\":510,\"fAxisColor\":1,\"fLabelColor\":1,\"fLabelFont\":42,\"fLabelOffset\":0.005,\"fLabelSize\":0.035,\"fTickLength\":0.03,\"fTitleOffset\":1,\"fTitleSize\":0.035,\"fTitleColor\":1,\"fTitleFont\":42,\"fNbins\":100,\"fXmin\":0,\"fXmax\":100,\"fXbins\":[],\"fFirst\":0,\"fLast\":0,\"fBits2\":0,\"fTimeDisplay\":false,\"fTimeFormat\":\"\",\"fLabels\":null,\"fModLabs\":null},\"fYaxis\":{\"_typename\":\"TAxis\",\"fUniqueID\":0,\"fBits\":50331656,\"fName\":\"yaxis\",\"fTitle\":\"\",\"fNdivisions\":510,\"fAxisColor\":1,\"fLabelColor\":1,\"fLabelFont\":42,\"fLabelOffset\":0.005,\"fLabelSize\":0.035,\"fTickLength\":0.03,\"fTitleOffset\":0,\"fTitleSize\":0.035,\"fTitleColor\":1,\"fTitleFont\":42,\"fNbins\":1,\"fXmin\":0,\"fXmax\":1,\"fXbins\":[],\"fFirst\":0,\"fLast\":0,\"fBits2\":0,\"fTimeDisplay\":false,\"fTimeFormat\":\"\",\"fLabels\":null,\"fModLabs\":null},\"fZaxis\":{\"_typename\":\"TAxis\",\"fUniqueID\":0,\"fBits\":50331648,\"fName\":\"zaxis\",\"fTitle\":\"\",\"fNdivisions\":510,\"fAxisColor\":1,\"fLabelColor\":1,\"fLabelFont\":42,\"fLabelOffset\":0.005,\"fLabelSize\":0.035,\"fTickLength\":0.03,\"fTitleOffset\":1,\"fTitleSize\":0.035,\"fTitleColor\":1,\"fTitleFont\":42,\"fNbins\":1,\"fXmin\":0,\"fXmax\":1,\"fXbins\":[],\"fFirst\":0,\"fLast\":0,\"fBits2\":0,\"fTimeDisplay\":false,\"fTimeFormat\":\"\",\"fLabels\":null,\"fModLabs\":null},\"fBarOffset\":0,\"fBarWidth\":1000,\"fEntries\":346471,\"fTsumw\":345737,\"fTsumw2\":345737,\"fTsumwx\":10692668.2197766,\"fTsumwx2\":649837280.265334,\"fMaximum\":0.574142003059387,\"fMinimum\":3.78596655536967e-6,\"fNormFactor\":0,\"fContour\":[],\"fSumw2\":[0,3.82167182870224e-7,3.03612175489825e-7,1.47012475473457e-7,9.27266988077047e-8,6.68428657049405e-8,5.24201998131611e-8,4.24397819425736e-8,3.74704875459861e-8,3.32875798047507e-8,3.00332775820696e-8,2.74398747825037e-8,2.59591254421064e-8,2.60678810433786e-8,2.4813008721008e-8,2.33991859044704e-8,2.33322593806106e-8,2.24956778323636e-8,2.25542385407409e-8,2.19017049331082e-8,2.16925595460464e-8,2.06468326107376e-8,2.09061728906942e-8,2.1224073879028e-8,2.05380770094655e-8,2.07472223965272e-8,2.04042239617459e-8,2.136629274223e-8,2.04460530391583e-8,2.09730994145539e-8,2.01365178663069e-8,2.05380770094655e-8,2.0086322973412e-8,2.01783469437192e-8,2.05548086404304e-8,2.00695913424471e-8,2.03623948843336e-8,2.03205658069212e-8,2.04376872236758e-8,1.99273724792451e-8,1.94170577348144e-8,1.99942990031049e-8,2.00612255269646e-8,1.93584970264371e-8,1.98520801399029e-8,1.9659666383806e-8,2.04795163010882e-8,2.02620050985439e-8,2.0956367783589e-8,2.02034443901666e-8,1.9818616877973e-8,1.98102510624905e-8,2.06384667952551e-8,2.13411952957826e-8,2.04209555927109e-8,2.04795163010882e-8,1.95425449670514e-8,1.99692015566574e-8,1.94337893657793e-8,1.98688117708678e-8,1.87310608652518e-8,1.97600561695957e-8,1.95258133360865e-8,2.02787367295089e-8,1.99357382947276e-8,1.97684219850782e-8,1.97684219850782e-8,1.97935194315256e-8,1.90824251155156e-8,1.99190066637626e-8,1.95676424134989e-8,2.0086322973412e-8,1.97098612767009e-8,1.87896215736291e-8,1.97516903541132e-8,1.94086919193319e-8,1.92664730561299e-8,1.95927398599463e-8,1.87979873891116e-8,1.85721103710848e-8,1.8396428245953e-8,1.90573276690681e-8,1.86223052639797e-8,1.76602364834955e-8,1.78191869776625e-8,1.78777476860398e-8,1.70913610306875e-8,1.62380478514755e-8,1.58866836012118e-8,1.56859040296325e-8,1.4682006171736e-8,1.43390077369547e-8,1.41298623498929e-8,1.32096226468212e-8,1.21638957115123e-8,1.10512422523437e-8,9.62068780484125e-9,7.25316202330206e-9,5.85607083772946e-9,4.03232306255085e-9,2.49301301377625e-9,6.14050856413346e-9],\"fOption\":\"\",\"fFunctions\":{\"_typename\":\"TList\",\"name\":\"TList\",\"arr\":[],\"opt\":[]},\"fBufferSize\":0,\"fBuffer\":[],\"fBinStatErrOpt\":0,\"fStatOverflows\":2,\"fArray\":[0,0.1321293,0.10497,0.05082765,0.03205905,0.02311005,0.0181236,0.014673,0.01295493,0.01150875,0.01038362,0.00948698,0.00897503,0.009012631,0.008578775,0.008089964,0.008066826,0.007777588,0.007797835,0.00757223,0.007499921,0.007138374,0.007228037,0.007337948,0.007100773,0.007173082,0.007054495,0.007387118,0.007068957,0.007251177,0.006961939,0.007100773,0.006944585,0.006976401,0.007106558,0.0069388,0.007040033,0.007025572,0.007066065,0.00688963,0.006713195,0.006912769,0.006935908,0.006692949,0.006863599,0.006797074,0.007080527,0.007005325,0.007245392,0.006985078,0.006852029,0.006849137,0.007135482,0.007378441,0.00706028,0.007080527,0.006756581,0.006904092,0.00671898,0.006869383,0.006476021,0.006831782,0.006750796,0.007011109,0.006892522,0.006834675,0.006834675,0.006843352,0.0065975,0.006886737,0.006765258,0.006944585,0.006814428,0.006496267,0.00682889,0.006710303,0.006661132,0.006773935,0.00649916,0.006421066,0.006360326,0.006588823,0.00643842,0.006105797,0.006160752,0.006180999,0.005909116,0.005614094,0.005492614,0.005423198,0.005076113,0.004957526,0.004885216,0.004567055,0.004205509,0.003820823,0.003326228,0.002507686,0.00202466,0.001394123,8.619268e-4,0.002123001]},{\"_typename\":\"TH1F\",\"fUniqueID\":0,\"fBits\":50332169,\"fName\":\"h_cl3d_DEF_all_nomatch_pt\",\"fTitle\":\"3D Cluster Pt (GeV)\",\"fLineColor\":2,\"fLineStyle\":1,\"fLineWidth\":1,\"fFillColor\":0,\"fFillStyle\":1001,\"fMarkerColor\":1,\"fMarkerStyle\":1,\"fMarkerSize\":1,\"fNcells\":102,\"fXaxis\":{\"_typename\":\"TAxis\",\"fUniqueID\":0,\"fBits\":50331648,\"fName\":\"xaxis\",\"fTitle\":\" p_{T} [GeV]\",\"fNdivisions\":510,\"fAxisColor\":1,\"fLabelColor\":1,\"fLabelFont\":42,\"fLabelOffset\":0.005,\"fLabelSize\":0.035,\"fTickLength\":0.03,\"fTitleOffset\":1,\"fTitleSize\":0.035,\"fTitleColor\":1,\"fTitleFont\":42,\"fNbins\":100,\"fXmin\":0,\"fXmax\":100,\"fXbins\":[],\"fFirst\":0,\"fLast\":0,\"fBits2\":0,\"fTimeDisplay\":false,\"fTimeFormat\":\"\",\"fLabels\":null,\"fModLabs\":null},\"fYaxis\":{\"_typename\":\"TAxis\",\"fUniqueID\":0,\"fBits\":50331648,\"fName\":\"yaxis\",\"fTitle\":\"\",\"fNdivisions\":510,\"fAxisColor\":1,\"fLabelColor\":1,\"fLabelFont\":42,\"fLabelOffset\":0.005,\"fLabelSize\":0.035,\"fTickLength\":0.03,\"fTitleOffset\":0,\"fTitleSize\":0.035,\"fTitleColor\":1,\"fTitleFont\":42,\"fNbins\":1,\"fXmin\":0,\"fXmax\":1,\"fXbins\":[],\"fFirst\":0,\"fLast\":0,\"fBits2\":0,\"fTimeDisplay\":false,\"fTimeFormat\":\"\",\"fLabels\":null,\"fModLabs\":null},\"fZaxis\":{\"_typename\":\"TAxis\",\"fUniqueID\":0,\"fBits\":50331648,\"fName\":\"zaxis\",\"fTitle\":\"\",\"fNdivisions\":510,\"fAxisColor\":1,\"fLabelColor\":1,\"fLabelFont\":42,\"fLabelOffset\":0.005,\"fLabelSize\":0.035,\"fTickLength\":0.03,\"fTitleOffset\":1,\"fTitleSize\":0.035,\"fTitleColor\":1,\"fTitleFont\":42,\"fNbins\":1,\"fXmin\":0,\"fXmax\":1,\"fXbins\":[],\"fFirst\":0,\"fLast\":0,\"fBits2\":0,\"fTimeDisplay\":false,\"fTimeFormat\":\"\",\"fLabels\":null,\"fModLabs\":null},\"fBarOffset\":0,\"fBarWidth\":1000,\"fEntries\":79241009,\"fTsumw\":79240004,\"fTsumw2\":79240004,\"fTsumwx\":116593658.965345,\"fTsumwx2\":521247507.748554,\"fMaximum\":-1111,\"fMinimum\":-1111,\"fNormFactor\":0,\"fContour\":[],\"fSumw2\":[0,6.03800612626549e-9,4.1803958159453e-9,1.3765771212817e-9,5.50949339814133e-10,2.38002889420485e-10,1.08128258702367e-10,5.19036664299509e-11,2.64649740156987e-11,1.4342142044795e-11,8.22681601556769e-12,4.99523935899568e-12,3.19223904708144e-12,2.14843867217764e-12,1.48320306552931e-12,1.04300406701937e-12,7.68118585315994e-13,5.98027221202894e-13,4.81766270076898e-13,3.9257978702134e-13,3.33971526727688e-13,2.85396745777786e-13,2.51633291478182e-13,2.18666145063002e-13,2.19462452947427e-13,2.00351063721236e-13,1.92706508030759e-13,1.85380475494053e-13,1.85858260224708e-13,1.79010012418656e-13,1.6913579465179e-13,1.63720901037703e-13,1.61650500538199e-13,1.65950563114092e-13,1.55280037462802e-13,1.4906883596429e-13,1.57987484269846e-13,1.54324468001492e-13,1.50502190156254e-13,1.44131727080857e-13,1.52731852232643e-13,1.49228097541175e-13,1.50342928579369e-13,1.44768773388397e-13,1.45565081272822e-13,1.44768773388397e-13,1.51457759617564e-13,1.45883604426591e-13,1.3903535662054e-13,1.47954004926095e-13,1.44928034965282e-13,1.40468710812504e-13,1.51298498040679e-13,1.39990926081849e-13,1.40946495543159e-13,1.43176157619548e-13,1.53846683270838e-13,1.46202127580361e-13,1.52891113809528e-13,1.36964956121036e-13,1.47157697041671e-13,1.43335419196433e-13,1.43494680773318e-13,1.35531601929071e-13,1.41583541850698e-13,1.42857634465778e-13,1.3903535662054e-13,1.44450250234627e-13,1.41742803427583e-13,1.43335419196433e-13,1.44768773388397e-13,1.39831664504964e-13,1.40468710812504e-13,1.33779724583337e-13,1.49865143848715e-13,1.42539111312008e-13,1.37283479274805e-13,1.40150187658734e-13,1.40309449235619e-13,1.33461201429567e-13,1.39672402928079e-13,1.35850125082841e-13,1.35053817198416e-13,1.32505631968258e-13,1.30594493045639e-13,1.2740926150794e-13,1.24701814700896e-13,1.24861076277781e-13,1.20720275278773e-13,1.14190550626491e-13,1.14031289049606e-13,1.10209011204368e-13,1.05590425474705e-13,9.30087609007962e-14,9.81051313611138e-14,8.83901751711334e-14,8.12234042113118e-14,7.29418022132957e-14,5.78119524092278e-14,6.19527534082359e-14,4.77784730654775e-14,1.6005788476935e-13],\"fOption\":\"\",\"fFunctions\":{\"_typename\":\"TList\",\"name\":\"TList\",\"arr\":[],\"opt\":[]},\"fBufferSize\":0,\"fBuffer\":[],\"fBinStatErrOpt\":0,\"fStatOverflows\":2,\"fArray\":[0,0.4784517,0.3312546,0.10908,0.04365723,0.01885935,0.008568084,0.004112847,0.002097085,0.001136471,6.518929e-4,3.958228e-4,2.52953e-4,1.702423e-4,1.17529e-4,8.264765e-5,6.086572e-5,4.738768e-5,3.817516e-5,3.110803e-5,2.646391e-5,2.261484e-5,1.993942e-5,1.732711e-5,1.739021e-5,1.587582e-5,1.527006e-5,1.468955e-5,1.472741e-5,1.418475e-5,1.340232e-5,1.297325e-5,1.280919e-5,1.314992e-5,1.230439e-5,1.181222e-5,1.251893e-5,1.222867e-5,1.192579e-5,1.1421e-5,1.210247e-5,1.182484e-5,1.191317e-5,1.147148e-5,1.153458e-5,1.147148e-5,1.200151e-5,1.155982e-5,1.101716e-5,1.172388e-5,1.14841e-5,1.113074e-5,1.198889e-5,1.109288e-5,1.11686e-5,1.134528e-5,1.219081e-5,1.158506e-5,1.211509e-5,1.08531e-5,1.166078e-5,1.13579e-5,1.137052e-5,1.073952e-5,1.121908e-5,1.132004e-5,1.101716e-5,1.144624e-5,1.12317e-5,1.13579e-5,1.147148e-5,1.108026e-5,1.113074e-5,1.060071e-5,1.187532e-5,1.12948e-5,1.087834e-5,1.11055e-5,1.111812e-5,1.057547e-5,1.106764e-5,1.076476e-5,1.070166e-5,1.049975e-5,1.034831e-5,1.009591e-5,9.881373e-6,9.893993e-6,9.565875e-6,9.04846e-6,9.03584e-6,8.732963e-6,8.366986e-6,7.370015e-6,7.773851e-6,7.004038e-6,6.436143e-6,5.779909e-6,4.581019e-6,4.909136e-6,3.785967e-6,1.268299e-5]},{\"_typename\":\"TLegend\",\"fUniqueID\":0,\"fBits\":50331656,\"fLineColor\":1,\"fLineStyle\":1,\"fLineWidth\":1,\"fFillColor\":0,\"fFillStyle\":0,\"fX1\":100.000002091391,\"fY1\":-1.51937037728094,\"fX2\":143.859651764564,\"fY2\":-0.577399002825277,\"fX1NDC\":0.7,\"fY1NDC\":0.71,\"fX2NDC\":0.95,\"fY2NDC\":0.85,\"fBorderSize\":0,\"fInit\":1,\"fShadowColor\":1,\"fCornerRadius\":0,\"fOption\":\"brNDC\",\"fName\":\"TPave\",\"fTextAngle\":0,\"fTextSize\":0.05,\"fTextAlign\":12,\"fTextColor\":1,\"fTextFont\":42,\"fPrimitives\":{\"_typename\":\"TList\",\"name\":\"TList\",\"arr\":[{\"_typename\":\"TLegendEntry\",\"fUniqueID\":0,\"fBits\":50331656,\"fTextAngle\":0,\"fTextSize\":0,\"fTextAlign\":0,\"fTextColor\":0,\"fTextFont\":42,\"fLineColor\":1,\"fLineStyle\":1,\"fLineWidth\":1,\"fFillColor\":0,\"fFillStyle\":0,\"fMarkerColor\":1,\"fMarkerStyle\":21,\"fMarkerSize\":1,\"fObject\":{\"_typename\":\"TH1F\",\"fUniqueID\":0,\"fBits\":50332168,\"fName\":\"h_cl3d_DEF_all_nomatch_pt\",\"fTitle\":\"3D Cluster Pt (GeV)\",\"fLineColor\":1,\"fLineStyle\":1,\"fLineWidth\":1,\"fFillColor\":0,\"fFillStyle\":1001,\"fMarkerColor\":1,\"fMarkerStyle\":1,\"fMarkerSize\":1,\"fNcells\":102,\"fXaxis\":{\"_typename\":\"TAxis\",\"fUniqueID\":0,\"fBits\":50331648,\"fName\":\"xaxis\",\"fTitle\":\" p_{T} [GeV]\",\"fNdivisions\":510,\"fAxisColor\":1,\"fLabelColor\":1,\"fLabelFont\":42,\"fLabelOffset\":0.005,\"fLabelSize\":0.035,\"fTickLength\":0.03,\"fTitleOffset\":1,\"fTitleSize\":0.035,\"fTitleColor\":1,\"fTitleFont\":42,\"fNbins\":100,\"fXmin\":0,\"fXmax\":100,\"fXbins\":[],\"fFirst\":0,\"fLast\":0,\"fBits2\":0,\"fTimeDisplay\":false,\"fTimeFormat\":\"\",\"fLabels\":null,\"fModLabs\":null},\"fYaxis\":{\"_typename\":\"TAxis\",\"fUniqueID\":0,\"fBits\":50331648,\"fName\":\"yaxis\",\"fTitle\":\"\",\"fNdivisions\":510,\"fAxisColor\":1,\"fLabelColor\":1,\"fLabelFont\":42,\"fLabelOffset\":0.005,\"fLabelSize\":0.035,\"fTickLength\":0.03,\"fTitleOffset\":0,\"fTitleSize\":0.035,\"fTitleColor\":1,\"fTitleFont\":42,\"fNbins\":1,\"fXmin\":0,\"fXmax\":1,\"fXbins\":[],\"fFirst\":0,\"fLast\":0,\"fBits2\":0,\"fTimeDisplay\":false,\"fTimeFormat\":\"\",\"fLabels\":null,\"fModLabs\":null},\"fZaxis\":{\"_typename\":\"TAxis\",\"fUniqueID\":0,\"fBits\":50331648,\"fName\":\"zaxis\",\"fTitle\":\"\",\"fNdivisions\":510,\"fAxisColor\":1,\"fLabelColor\":1,\"fLabelFont\":42,\"fLabelOffset\":0.005,\"fLabelSize\":0.035,\"fTickLength\":0.03,\"fTitleOffset\":1,\"fTitleSize\":0.035,\"fTitleColor\":1,\"fTitleFont\":42,\"fNbins\":1,\"fXmin\":0,\"fXmax\":1,\"fXbins\":[],\"fFirst\":0,\"fLast\":0,\"fBits2\":0,\"fTimeDisplay\":false,\"fTimeFormat\":\"\",\"fLabels\":null,\"fModLabs\":null},\"fBarOffset\":0,\"fBarWidth\":1000,\"fEntries\":346471,\"fTsumw\":345737,\"fTsumw2\":345737,\"fTsumwx\":10692668.2197766,\"fTsumwx2\":649837280.265334,\"fMaximum\":-1111,\"fMinimum\":-1111,\"fNormFactor\":0,\"fContour\":[],\"fSumw2\":[0,45682,36292,17573,11084,7990,6266,5073,4479,3979,3590,3280,3103,3116,2966,2797,2789,2689,2696,2618,2593,2468,2499,2537,2455,2480,2439,2554,2444,2507,2407,2455,2401,2412,2457,2399,2434,2429,2443,2382,2321,2390,2398,2314,2373,2350,2448,2422,2505,2415,2369,2368,2467,2551,2441,2448,2336,2387,2323,2375,2239,2362,2334,2424,2383,2363,2363,2366,2281,2381,2339,2401,2356,2246,2361,2320,2303,2342,2247,2220,2199,2278,2226,2111,2130,2137,2043,1941,1899,1875,1755,1714,1689,1579,1454,1321,1150,867,700,482,298,734],\"fOption\":\"\",\"fFunctions\":{\"_typename\":\"TList\",\"name\":\"TList\",\"arr\":[],\"opt\":[]},\"fBufferSize\":0,\"fBuffer\":[],\"fBinStatErrOpt\":0,\"fStatOverflows\":2,\"fArray\":[0,45682,36292,17573,11084,7990,6266,5073,4479,3979,3590,3280,3103,3116,2966,2797,2789,2689,2696,2618,2593,2468,2499,2537,2455,2480,2439,2554,2444,2507,2407,2455,2401,2412,2457,2399,2434,2429,2443,2382,2321,2390,2398,2314,2373,2350,2448,2422,2505,2415,2369,2368,2467,2551,2441,2448,2336,2387,2323,2375,2239,2362,2334,2424,2383,2363,2363,2366,2281,2381,2339,2401,2356,2246,2361,2320,2303,2342,2247,2220,2199,2278,2226,2111,2130,2137,2043,1941,1899,1875,1755,1714,1689,1579,1454,1321,1150,867,700,482,298,734]},\"fLabel\":\"PU0\",\"fOption\":\"l\"},{\"_typename\":\"TLegendEntry\",\"fUniqueID\":0,\"fBits\":50331656,\"fTextAngle\":0,\"fTextSize\":0,\"fTextAlign\":0,\"fTextColor\":0,\"fTextFont\":42,\"fLineColor\":2,\"fLineStyle\":1,\"fLineWidth\":1,\"fFillColor\":0,\"fFillStyle\":0,\"fMarkerColor\":1,\"fMarkerStyle\":21,\"fMarkerSize\":1,\"fObject\":{\"_typename\":\"TH1F\",\"fUniqueID\":0,\"fBits\":50332168,\"fName\":\"h_cl3d_DEF_all_nomatch_pt\",\"fTitle\":\"3D Cluster Pt (GeV)\",\"fLineColor\":2,\"fLineStyle\":1,\"fLineWidth\":1,\"fFillColor\":0,\"fFillStyle\":1001,\"fMarkerColor\":1,\"fMarkerStyle\":1,\"fMarkerSize\":1,\"fNcells\":102,\"fXaxis\":{\"_typename\":\"TAxis\",\"fUniqueID\":0,\"fBits\":50331648,\"fName\":\"xaxis\",\"fTitle\":\" p_{T} [GeV]\",\"fNdivisions\":510,\"fAxisColor\":1,\"fLabelColor\":1,\"fLabelFont\":42,\"fLabelOffset\":0.005,\"fLabelSize\":0.035,\"fTickLength\":0.03,\"fTitleOffset\":1,\"fTitleSize\":0.035,\"fTitleColor\":1,\"fTitleFont\":42,\"fNbins\":100,\"fXmin\":0,\"fXmax\":100,\"fXbins\":[],\"fFirst\":0,\"fLast\":0,\"fBits2\":0,\"fTimeDisplay\":false,\"fTimeFormat\":\"\",\"fLabels\":null,\"fModLabs\":null},\"fYaxis\":{\"_typename\":\"TAxis\",\"fUniqueID\":0,\"fBits\":50331648,\"fName\":\"yaxis\",\"fTitle\":\"\",\"fNdivisions\":510,\"fAxisColor\":1,\"fLabelColor\":1,\"fLabelFont\":42,\"fLabelOffset\":0.005,\"fLabelSize\":0.035,\"fTickLength\":0.03,\"fTitleOffset\":0,\"fTitleSize\":0.035,\"fTitleColor\":1,\"fTitleFont\":42,\"fNbins\":1,\"fXmin\":0,\"fXmax\":1,\"fXbins\":[],\"fFirst\":0,\"fLast\":0,\"fBits2\":0,\"fTimeDisplay\":false,\"fTimeFormat\":\"\",\"fLabels\":null,\"fModLabs\":null},\"fZaxis\":{\"_typename\":\"TAxis\",\"fUniqueID\":0,\"fBits\":50331648,\"fName\":\"zaxis\",\"fTitle\":\"\",\"fNdivisions\":510,\"fAxisColor\":1,\"fLabelColor\":1,\"fLabelFont\":42,\"fLabelOffset\":0.005,\"fLabelSize\":0.035,\"fTickLength\":0.03,\"fTitleOffset\":1,\"fTitleSize\":0.035,\"fTitleColor\":1,\"fTitleFont\":42,\"fNbins\":1,\"fXmin\":0,\"fXmax\":1,\"fXbins\":[],\"fFirst\":0,\"fLast\":0,\"fBits2\":0,\"fTimeDisplay\":false,\"fTimeFormat\":\"\",\"fLabels\":null,\"fModLabs\":null},\"fBarOffset\":0,\"fBarWidth\":1000,\"fEntries\":79241009,\"fTsumw\":79240004,\"fTsumw2\":79240004,\"fTsumwx\":116593658.965345,\"fTsumwx2\":521247507.748554,\"fMaximum\":-1111,\"fMinimum\":-1111,\"fNormFactor\":0,\"fContour\":[],\"fSumw2\":[0,37912510,26248615,8643498,3459399,1494415,678935,325902,166173,90054,51656,31365,20044,13490,9313,6549,4823,3755,3025,2465,2097,1792,1580,1373,1378,1258,1210,1164,1167,1124,1062,1028,1015,1042,975,936,992,969,945,905,959,937,944,909,914,909,951,916,873,929,910,882,950,879,885,899,966,918,960,860,924,900,901,851,889,897,873,907,890,900,909,878,882,840,941,895,862,880,881,838,877,853,848,832,820,800,783,784,758,717,716,692,663,584,616,555,510,458,363,389,300,1005],\"fOption\":\"\",\"fFunctions\":{\"_typename\":\"TList\",\"name\":\"TList\",\"arr\":[],\"opt\":[]},\"fBufferSize\":0,\"fBuffer\":[],\"fBinStatErrOpt\":0,\"fStatOverflows\":2,\"fArray\":[0,37912512,26248614,8643498,3459399,1494415,678935,325902,166173,90054,51656,31365,20044,13490,9313,6549,4823,3755,3025,2465,2097,1792,1580,1373,1378,1258,1210,1164,1167,1124,1062,1028,1015,1042,975,936,992,969,945,905,959,937,944,909,914,909,951,916,873,929,910,882,950,879,885,899,966,918,960,860,924,900,901,851,889,897,873,907,890,900,909,878,882,840,941,895,862,880,881,838,877,853,848,832,820,800,783,784,758,717,716,692,663,584,616,555,510,458,363,389,300,1005]},\"fLabel\":\"PU200\",\"fOption\":\"l\"}],\"opt\":[\"l\",\"l\"]},\"fEntrySeparation\":0.1,\"fMargin\":0.25,\"fNColumns\":1,\"fColumnSeparation\":0},{\"_typename\":\"TPaveText\",\"fUniqueID\":0,\"fBits\":50331657,\"fLineColor\":1,\"fLineStyle\":1,\"fLineWidth\":1,\"fFillColor\":0,\"fFillStyle\":0,\"fX1\":33.7344630424653,\"fY1\":0.00298149398887748,\"fX2\":96.0901016632398,\"fY2\":0.398214238515729,\"fX1NDC\":0.322286432160804,\"fY1NDC\":0.936258746027113,\"fX2NDC\":0.677713567839196,\"fY2NDC\":0.995000004768372,\"fBorderSize\":0,\"fInit\":1,\"fShadowColor\":1,\"fCornerRadius\":0,\"fOption\":\"blNDC\",\"fName\":\"title\",\"fTextAngle\":0,\"fTextSize\":0,\"fTextAlign\":22,\"fTextColor\":1,\"fTextFont\":42,\"fLabel\":\"\",\"fLongest\":19,\"fMargin\":0.05,\"fLines\":{\"_typename\":\"TList\",\"name\":\"TList\",\"arr\":[{\"_typename\":\"TLatex\",\"fUniqueID\":0,\"fBits\":50331648,\"fName\":\"\",\"fTitle\":\"3D Cluster Pt (GeV)\",\"fTextAngle\":0,\"fTextSize\":0,\"fTextAlign\":0,\"fTextColor\":0,\"fTextFont\":0,\"fX\":0,\"fY\":0,\"fLineColor\":1,\"fLineStyle\":1,\"fLineWidth\":2,\"fLimitFactorSize\":3,\"fOriginSize\":0.0499300695955753}],\"opt\":[\"\"]}},{\"_typename\":\"TLatex\",\"fUniqueID\":0,\"fBits\":50348040,\"fName\":\"\",\"fTitle\":\"NNDR\",\"fTextAngle\":0,\"fTextSize\":0.03,\"fTextAlign\":11,\"fTextColor\":1,\"fTextFont\":62,\"fX\":0.15,\"fY\":0.85,\"fLineColor\":1,\"fLineStyle\":1,\"fLineWidth\":2,\"fLimitFactorSize\":3,\"fOriginSize\":0.04}],\"opt\":[\"\",\",\",\"SAME,\",\"\",\"blNDC\",\"same\"]},\"fExecs\":null,\"fName\":\"c_59ab57\",\"fTitle\":\"h_cl3d_DEF_all_nomatch_pt\",\"fNumPaletteColor\":0,\"fNextPaletteColor\":0,\"fDISPLAY\":\"$DISPLAY\",\"fDoubleBuffer\":0,\"fRetained\":true,\"fXsizeUser\":0,\"fYsizeUser\":0,\"fXsizeReal\":20,\"fYsizeReal\":15,\"fWindowTopX\":0,\"fWindowTopY\":0,\"fWindowWidth\":0,\"fWindowHeight\":0,\"fCw\":796,\"fCh\":572,\"fCatt\":{\"_typename\":\"TAttCanvas\",\"fXBetween\":2,\"fYBetween\":2,\"fTitleFromTop\":1.2,\"fXdate\":0.2,\"fYdate\":0.3,\"fAdate\":1},\"kMoveOpaque\":true,\"kResizeOpaque\":true,\"fHighLightColor\":2,\"fBatch\":true,\"kShowEventStatus\":false,\"kAutoExec\":true,\"kMenuBar\":true});\n",
       "       Core.draw(\"root_plot_1\", obj, \"\");\n",
       "     }\n",
       " );\n",
       "</script>\n"
      ],
      "text/plain": [
       "<IPython.core.display.HTML object>"
      ]
     },
     "metadata": {},
     "output_type": "display_data"
    },
    {
     "data": {
      "text/html": [
       "\n",
       "<div id=\"root_plot_2\"\n",
       "     style=\"width: 796px; height: 572px\">\n",
       "</div>\n",
       "\n",
       "<script>\n",
       " requirejs.config({\n",
       "     paths: {\n",
       "       'JSRootCore' : 'https://root.cern.ch/js/notebook//scripts/JSRootCore',\n",
       "     }\n",
       "   });\n",
       " require(['JSRootCore'],\n",
       "     function(Core) {\n",
       "       var obj = Core.JSONR_unref({\"_typename\":\"TCanvas\",\"fUniqueID\":0,\"fBits\":53673992,\"fLineColor\":1,\"fLineStyle\":1,\"fLineWidth\":1,\"fFillColor\":0,\"fFillStyle\":1001,\"fLeftMargin\":0.13,\"fRightMargin\":0.3,\"fBottomMargin\":0.13,\"fTopMargin\":0.1,\"fXfile\":2,\"fYfile\":2,\"fAfile\":1,\"fXstat\":0.99,\"fYstat\":0.99,\"fAstat\":2,\"fFrameFillColor\":0,\"fFrameLineColor\":1,\"fFrameFillStyle\":1001,\"fFrameLineStyle\":1,\"fFrameLineWidth\":1,\"fFrameBorderSize\":1,\"fFrameBorderMode\":0,\"fX1\":-22.8070169934936,\"fY1\":-4.32323737044176,\"fX2\":152.631581699199,\"fY2\":0.0338000041351393,\"fXtoAbsPixelk\":103.480046204376,\"fXtoPixelk\":103.480046204376,\"fXtoPixel\":4.53719994306564,\"fYtoAbsPixelk\":4.43737763875527,\"fYtoPixelk\":4.43737763875527,\"fYtoPixel\":-131.281866742203,\"fUtoAbsPixelk\":5e-5,\"fUtoPixelk\":5e-5,\"fUtoPixel\":796,\"fVtoAbsPixelk\":572.00005,\"fVtoPixelk\":572,\"fVtoPixel\":-572,\"fAbsPixeltoXk\":-22.8070169934936,\"fPixeltoXk\":-22.8070169934936,\"fPixeltoX\":0.220400249613935,\"fAbsPixeltoYk\":0.0338000041351396,\"fPixeltoYk\":-4.32323737044176,\"fPixeltoY\":-0.00761719820730227,\"fXlowNDC\":0,\"fYlowNDC\":0,\"fXUpNDC\":0,\"fYUpNDC\":0,\"fWNDC\":1,\"fHNDC\":1,\"fAbsXlowNDC\":0,\"fAbsYlowNDC\":0,\"fAbsWNDC\":1,\"fAbsHNDC\":1,\"fUxmin\":0,\"fUymin\":-3.75682251986237,\"fUxmax\":100,\"fUymax\":-0.40190374955378,\"fTheta\":30,\"fPhi\":30,\"fAspectRatio\":0,\"fNumber\":0,\"fTickx\":0,\"fTicky\":0,\"fLogx\":0,\"fLogy\":1,\"fLogz\":0,\"fPadPaint\":0,\"fCrosshair\":0,\"fCrosshairPos\":0,\"fBorderSize\":2,\"fBorderMode\":0,\"fModified\":false,\"fGridx\":false,\"fGridy\":false,\"fAbsCoord\":false,\"fEditable\":true,\"fFixedAspectRatio\":false,\"fPrimitives\":{\"_typename\":\"TList\",\"name\":\"TList\",\"arr\":[{\"_typename\":\"TFrame\",\"fUniqueID\":0,\"fBits\":50331656,\"fLineColor\":1,\"fLineStyle\":1,\"fLineWidth\":1,\"fFillColor\":0,\"fFillStyle\":1001,\"fX1\":0,\"fY1\":-3.75682251986237,\"fX2\":100,\"fY2\":-0.40190374955378,\"fBorderSize\":1,\"fBorderMode\":0},{\"_typename\":\"TH1F\",\"fUniqueID\":0,\"fBits\":50332169,\"fName\":\"h_cl3d_DEF_Em_nomatch_pt\",\"fTitle\":\"3D Cluster Pt (GeV)\",\"fLineColor\":1,\"fLineStyle\":1,\"fLineWidth\":1,\"fFillColor\":0,\"fFillStyle\":1001,\"fMarkerColor\":1,\"fMarkerStyle\":1,\"fMarkerSize\":1,\"fNcells\":102,\"fXaxis\":{\"_typename\":\"TAxis\",\"fUniqueID\":0,\"fBits\":50331648,\"fName\":\"xaxis\",\"fTitle\":\" p_{T} [GeV]\",\"fNdivisions\":510,\"fAxisColor\":1,\"fLabelColor\":1,\"fLabelFont\":42,\"fLabelOffset\":0.005,\"fLabelSize\":0.035,\"fTickLength\":0.03,\"fTitleOffset\":1,\"fTitleSize\":0.035,\"fTitleColor\":1,\"fTitleFont\":42,\"fNbins\":100,\"fXmin\":0,\"fXmax\":100,\"fXbins\":[],\"fFirst\":0,\"fLast\":0,\"fBits2\":0,\"fTimeDisplay\":false,\"fTimeFormat\":\"\",\"fLabels\":null,\"fModLabs\":null},\"fYaxis\":{\"_typename\":\"TAxis\",\"fUniqueID\":0,\"fBits\":50331656,\"fName\":\"yaxis\",\"fTitle\":\"\",\"fNdivisions\":510,\"fAxisColor\":1,\"fLabelColor\":1,\"fLabelFont\":42,\"fLabelOffset\":0.005,\"fLabelSize\":0.035,\"fTickLength\":0.03,\"fTitleOffset\":0,\"fTitleSize\":0.035,\"fTitleColor\":1,\"fTitleFont\":42,\"fNbins\":1,\"fXmin\":0,\"fXmax\":1,\"fXbins\":[],\"fFirst\":0,\"fLast\":0,\"fBits2\":0,\"fTimeDisplay\":false,\"fTimeFormat\":\"\",\"fLabels\":null,\"fModLabs\":null},\"fZaxis\":{\"_typename\":\"TAxis\",\"fUniqueID\":0,\"fBits\":50331648,\"fName\":\"zaxis\",\"fTitle\":\"\",\"fNdivisions\":510,\"fAxisColor\":1,\"fLabelColor\":1,\"fLabelFont\":42,\"fLabelOffset\":0.005,\"fLabelSize\":0.035,\"fTickLength\":0.03,\"fTitleOffset\":1,\"fTitleSize\":0.035,\"fTitleColor\":1,\"fTitleFont\":42,\"fNbins\":1,\"fXmin\":0,\"fXmax\":1,\"fXbins\":[],\"fFirst\":0,\"fLast\":0,\"fBits2\":0,\"fTimeDisplay\":false,\"fTimeFormat\":\"\",\"fLabels\":null,\"fModLabs\":null},\"fBarOffset\":0,\"fBarWidth\":1000,\"fEntries\":226771,\"fTsumw\":226343,\"fTsumw2\":226343,\"fTsumwx\":10134170.3466856,\"fTsumwx2\":632236697.538144,\"fMaximum\":0.396365869045258,\"fMinimum\":1.75056193256751e-4,\"fNormFactor\":0,\"fContour\":[],\"fSumw2\":[0,5.36001984029809e-8,7.06015723319672e-8,8.62756288933633e-8,7.99708713973098e-8,7.22997577875606e-8,6.52923028616064e-8,5.99635140181928e-8,5.78749411015435e-8,5.30731753305554e-8,5.13164317558036e-8,4.93840138235767e-8,4.86422776475704e-8,4.95596881810519e-8,4.80176577098809e-8,4.60071622854428e-8,4.63975497464988e-8,4.60657204046012e-8,4.67098597153435e-8,4.53825423477533e-8,4.49726355136446e-8,4.27864657317313e-8,4.41528218454271e-8,4.4738403037011e-8,4.3391566296368e-8,4.38795506226879e-8,4.39381087418463e-8,4.61437978968124e-8,4.43089768298495e-8,4.57143716896509e-8,4.43284962029023e-8,4.53044648555421e-8,4.44651318142719e-8,4.46798449178526e-8,4.54411004669117e-8,4.48945580214334e-8,4.53239842285949e-8,4.57338910627037e-8,4.57924491818621e-8,4.43089768298495e-8,4.33134888041568e-8,4.4933596767539e-8,4.51678292441726e-8,4.38405118765823e-8,4.46993642909054e-8,4.45822480525886e-8,4.63389916273404e-8,4.56362941974397e-8,4.7529673383561e-8,4.56558135704925e-8,4.48945580214334e-8,4.48164805292222e-8,4.68660146997659e-8,4.85056420362009e-8,4.63389916273404e-8,4.68464953267131e-8,4.45236899334302e-8,4.55191779591229e-8,4.38990699957407e-8,4.51678292441726e-8,4.27474269856257e-8,4.5031193632803e-8,4.43870543220607e-8,4.62609141351292e-8,4.55386973321757e-8,4.52068679902781e-8,4.50116742597502e-8,4.54215810938589e-8,4.35672406538432e-8,4.53044648555421e-8,4.46993642909054e-8,4.60071622854428e-8,4.49921548866974e-8,4.29621400892065e-8,4.5128790498067e-8,4.43480155759551e-8,4.42308993376383e-8,4.48164805292222e-8,4.30402175814177e-8,4.26303107473089e-8,4.2044729555725e-8,4.34501244155264e-8,4.25912720012033e-8,4.04636603384484e-8,4.08345284264516e-8,4.10102027839268e-8,3.9155862343911e-8,3.70672894272617e-8,3.63841113704138e-8,3.58375689249355e-8,3.37099572621806e-8,3.28511048478576e-8,3.22264849101681e-8,3.03526250970995e-8,2.77565484810775e-8,2.52385493572667e-8,2.19007365652384e-8,1.64157927374024e-8,1.31755768106381e-8,8.99843097733948e-9,5.4654244547832e-9,8.35429166659717e-9],\"fOption\":\"\",\"fFunctions\":{\"_typename\":\"TList\",\"name\":\"TList\",\"arr\":[],\"opt\":[]},\"fBufferSize\":0,\"fBuffer\":[],\"fBinStatErrOpt\":0,\"fStatOverflows\":2,\"fArray\":[0,0.01213203,0.01598017,0.01952788,0.01810085,0.01636454,0.01477846,0.01357232,0.01309959,0.01201274,0.01161512,0.01117773,0.01100984,0.01121749,0.01086846,0.0104134,0.01050176,0.01042665,0.01057245,0.01027202,0.01017924,0.009684417,0.009993683,0.01012622,0.009821378,0.009931829,0.009945083,0.01044433,0.01002903,0.01034713,0.01003344,0.01025435,0.01006437,0.01011297,0.01028528,0.01016157,0.01025877,0.01035155,0.0103648,0.01002903,0.009803705,0.0101704,0.01022342,0.009922993,0.01011739,0.01009088,0.01048851,0.01032946,0.01075801,0.01033387,0.01016157,0.0101439,0.01060779,0.01097891,0.01048851,0.01060338,0.01007763,0.01030295,0.009936247,0.01022342,0.009675581,0.0101925,0.0100467,0.01047083,0.01030737,0.01023226,0.01018808,0.01028086,0.00986114,0.01025435,0.01011739,0.0104134,0.01018366,0.009724179,0.01021459,0.01003786,0.01001135,0.0101439,0.009741852,0.009649073,0.009516531,0.009834631,0.009640236,0.009158666,0.00924261,0.009282372,0.008862656,0.008389922,0.008235289,0.008111583,0.007630013,0.007435618,0.007294239,0.006870104,0.0062825,0.005712569,0.004957078,0.0037156,0.0029822,0.002036732,0.001237061,0.001890935]},{\"_typename\":\"TH1F\",\"fUniqueID\":0,\"fBits\":50332169,\"fName\":\"h_cl3d_DEF_Em_nomatch_pt\",\"fTitle\":\"3D Cluster Pt (GeV)\",\"fLineColor\":2,\"fLineStyle\":1,\"fLineWidth\":1,\"fFillColor\":0,\"fFillStyle\":1001,\"fMarkerColor\":1,\"fMarkerStyle\":1,\"fMarkerSize\":1,\"fNcells\":102,\"fXaxis\":{\"_typename\":\"TAxis\",\"fUniqueID\":0,\"fBits\":50331648,\"fName\":\"xaxis\",\"fTitle\":\" p_{T} [GeV]\",\"fNdivisions\":510,\"fAxisColor\":1,\"fLabelColor\":1,\"fLabelFont\":42,\"fLabelOffset\":0.005,\"fLabelSize\":0.035,\"fTickLength\":0.03,\"fTitleOffset\":1,\"fTitleSize\":0.035,\"fTitleColor\":1,\"fTitleFont\":42,\"fNbins\":100,\"fXmin\":0,\"fXmax\":100,\"fXbins\":[],\"fFirst\":0,\"fLast\":0,\"fBits2\":0,\"fTimeDisplay\":false,\"fTimeFormat\":\"\",\"fLabels\":null,\"fModLabs\":null},\"fYaxis\":{\"_typename\":\"TAxis\",\"fUniqueID\":0,\"fBits\":50331648,\"fName\":\"yaxis\",\"fTitle\":\"\",\"fNdivisions\":510,\"fAxisColor\":1,\"fLabelColor\":1,\"fLabelFont\":42,\"fLabelOffset\":0.005,\"fLabelSize\":0.035,\"fTickLength\":0.03,\"fTitleOffset\":0,\"fTitleSize\":0.035,\"fTitleColor\":1,\"fTitleFont\":42,\"fNbins\":1,\"fXmin\":0,\"fXmax\":1,\"fXbins\":[],\"fFirst\":0,\"fLast\":0,\"fBits2\":0,\"fTimeDisplay\":false,\"fTimeFormat\":\"\",\"fLabels\":null,\"fModLabs\":null},\"fZaxis\":{\"_typename\":\"TAxis\",\"fUniqueID\":0,\"fBits\":50331648,\"fName\":\"zaxis\",\"fTitle\":\"\",\"fNdivisions\":510,\"fAxisColor\":1,\"fLabelColor\":1,\"fLabelFont\":42,\"fLabelOffset\":0.005,\"fLabelSize\":0.035,\"fTickLength\":0.03,\"fTitleOffset\":1,\"fTitleSize\":0.035,\"fTitleColor\":1,\"fTitleFont\":42,\"fNbins\":1,\"fXmin\":0,\"fXmax\":1,\"fXbins\":[],\"fFirst\":0,\"fLast\":0,\"fBits2\":0,\"fTimeDisplay\":false,\"fTimeFormat\":\"\",\"fLabels\":null,\"fModLabs\":null},\"fBarOffset\":0,\"fBarWidth\":1000,\"fEntries\":1646046,\"fTsumw\":1645186,\"fTsumw2\":1645186,\"fTsumwx\":6656480.74578822,\"fTsumwx2\":254959316.694868,\"fMaximum\":-1111,\"fMinimum\":-1111,\"fNormFactor\":0,\"fContour\":[],\"fSumw2\":[0,1.97631970973811e-7,2.00770552202004e-7,1.02797679412301e-7,4.30733789179104e-8,1.83504476094041e-8,8.30661821700558e-9,4.2174107969185e-9,2.35421301778053e-9,1.45198637160663e-9,9.69838225309774e-10,7.16017706914416e-10,5.67124447943049e-10,4.63305575062269e-10,4.11950331893485e-10,3.73526265062164e-10,3.71309491975742e-10,3.23648870617662e-10,3.32146500782281e-10,3.24757257160873e-10,3.15520702634113e-10,2.99264366667016e-10,2.94091896132031e-10,2.8411641724313e-10,3.13673391728761e-10,3.05175761564142e-10,3.19954248806958e-10,3.02589526296649e-10,3.29929727695858e-10,3.15151240453043e-10,3.18106937901606e-10,3.04067375020931e-10,3.17737475720535e-10,3.26974030247295e-10,3.17737475720535e-10,3.09239845555916e-10,3.24018332798732e-10,3.18845862263747e-10,3.18106937901606e-10,3.05175761564142e-10,3.22540484074451e-10,3.19584786625887e-10,3.17737475720535e-10,3.08870383374846e-10,3.10717694280198e-10,3.15520702634113e-10,3.33993811687633e-10,3.15520702634113e-10,3.04806299383072e-10,3.25126719341943e-10,3.16998551358395e-10,3.08500921193776e-10,3.36949509136196e-10,3.09978769918057e-10,3.1293446736662e-10,3.17368013539465e-10,3.43969290576533e-10,3.24757257160873e-10,3.4101359312797e-10,3.06284148107353e-10,3.26604568066225e-10,3.22909946255521e-10,3.18845862263747e-10,3.04067375020931e-10,3.18845862263747e-10,3.21062635350169e-10,3.11456618642339e-10,3.26235105885154e-10,3.18845862263747e-10,3.25865643704084e-10,3.29190803333718e-10,3.14781778271972e-10,3.18476400082676e-10,3.01850601934509e-10,3.38427357860477e-10,3.2180155971231e-10,3.11087156461268e-10,3.16998551358395e-10,3.16998551358395e-10,3.03697912839861e-10,3.15151240453043e-10,3.08500921193776e-10,3.07023072469494e-10,3.00372753210227e-10,2.95569744856312e-10,2.89658349959186e-10,2.8374695506206e-10,2.82269106337778e-10,2.77096635802793e-10,2.59731913292484e-10,2.60101375473555e-10,2.49386972222513e-10,2.36086333703979e-10,2.09115594485841e-10,2.22785695185445e-10,1.99509577778011e-10,1.85839477078406e-10,1.66257981481676e-10,1.31528536461059e-10,1.39287242263537e-10,1.06405108148272e-10,3.17737475720535e-10],\"fOption\":\"\",\"fFunctions\":{\"_typename\":\"TList\",\"name\":\"TList\",\"arr\":[],\"opt\":[]},\"fBufferSize\":0,\"fBuffer\":[],\"fBinStatErrOpt\":0,\"fStatOverflows\":2,\"fArray\":[0,0.3251413,0.3303049,0.1691213,0.07086372,0.0301899,0.01366593,0.006938425,0.003873118,0.002388788,0.001595564,0.001177982,9.330252e-4,7.622238e-4,6.777349e-4,6.145202e-4,6.108732e-4,5.324626e-4,5.464428e-4,5.342861e-4,5.190902e-4,4.923455e-4,4.838359e-4,4.674243e-4,5.160511e-4,5.020709e-4,5.263843e-4,4.978161e-4,5.427958e-4,5.184824e-4,5.233451e-4,5.002474e-4,5.227373e-4,5.379331e-4,5.227373e-4,5.087571e-4,5.330704e-4,5.245607e-4,5.233451e-4,5.020709e-4,5.306391e-4,5.257764e-4,5.227373e-4,5.081492e-4,5.111884e-4,5.190902e-4,5.494819e-4,5.190902e-4,5.014631e-4,5.348939e-4,5.215215e-4,5.075414e-4,5.543446e-4,5.099727e-4,5.148354e-4,5.221294e-4,5.658935e-4,5.342861e-4,5.610308e-4,5.038944e-4,5.373253e-4,5.312469e-4,5.245607e-4,5.002474e-4,5.245607e-4,5.282077e-4,5.124041e-4,5.367174e-4,5.245607e-4,5.361096e-4,5.415801e-4,5.178745e-4,5.239529e-4,4.966004e-4,5.56776e-4,5.294234e-4,5.117962e-4,5.215215e-4,5.215215e-4,4.996395e-4,5.184824e-4,5.075414e-4,5.051101e-4,4.941691e-4,4.862672e-4,4.765419e-4,4.668165e-4,4.643852e-4,4.558755e-4,4.273073e-4,4.279151e-4,4.10288e-4,3.884059e-4,3.440341e-4,3.665239e-4,3.282304e-4,3.057405e-4,2.735253e-4,2.163889e-4,2.291534e-4,1.750562e-4,5.227373e-4]},{\"_typename\":\"TLegend\",\"fUniqueID\":0,\"fBits\":50331656,\"fLineColor\":1,\"fLineStyle\":1,\"fLineWidth\":1,\"fFillColor\":0,\"fFillStyle\":0,\"fX1\":100.000002091391,\"fY1\":-1.22974083449216,\"fX2\":143.859651764564,\"fY2\":-0.619755602051395,\"fX1NDC\":0.7,\"fY1NDC\":0.71,\"fX2NDC\":0.95,\"fY2NDC\":0.85,\"fBorderSize\":0,\"fInit\":1,\"fShadowColor\":1,\"fCornerRadius\":0,\"fOption\":\"brNDC\",\"fName\":\"TPave\",\"fTextAngle\":0,\"fTextSize\":0.05,\"fTextAlign\":12,\"fTextColor\":1,\"fTextFont\":42,\"fPrimitives\":{\"_typename\":\"TList\",\"name\":\"TList\",\"arr\":[{\"_typename\":\"TLegendEntry\",\"fUniqueID\":0,\"fBits\":50331656,\"fTextAngle\":0,\"fTextSize\":0,\"fTextAlign\":0,\"fTextColor\":0,\"fTextFont\":42,\"fLineColor\":1,\"fLineStyle\":1,\"fLineWidth\":1,\"fFillColor\":0,\"fFillStyle\":0,\"fMarkerColor\":1,\"fMarkerStyle\":21,\"fMarkerSize\":1,\"fObject\":{\"_typename\":\"TH1F\",\"fUniqueID\":0,\"fBits\":50332168,\"fName\":\"h_cl3d_DEF_Em_nomatch_pt\",\"fTitle\":\"3D Cluster Pt (GeV)\",\"fLineColor\":1,\"fLineStyle\":1,\"fLineWidth\":1,\"fFillColor\":0,\"fFillStyle\":1001,\"fMarkerColor\":1,\"fMarkerStyle\":1,\"fMarkerSize\":1,\"fNcells\":102,\"fXaxis\":{\"_typename\":\"TAxis\",\"fUniqueID\":0,\"fBits\":50331648,\"fName\":\"xaxis\",\"fTitle\":\" p_{T} [GeV]\",\"fNdivisions\":510,\"fAxisColor\":1,\"fLabelColor\":1,\"fLabelFont\":42,\"fLabelOffset\":0.005,\"fLabelSize\":0.035,\"fTickLength\":0.03,\"fTitleOffset\":1,\"fTitleSize\":0.035,\"fTitleColor\":1,\"fTitleFont\":42,\"fNbins\":100,\"fXmin\":0,\"fXmax\":100,\"fXbins\":[],\"fFirst\":0,\"fLast\":0,\"fBits2\":0,\"fTimeDisplay\":false,\"fTimeFormat\":\"\",\"fLabels\":null,\"fModLabs\":null},\"fYaxis\":{\"_typename\":\"TAxis\",\"fUniqueID\":0,\"fBits\":50331648,\"fName\":\"yaxis\",\"fTitle\":\"\",\"fNdivisions\":510,\"fAxisColor\":1,\"fLabelColor\":1,\"fLabelFont\":42,\"fLabelOffset\":0.005,\"fLabelSize\":0.035,\"fTickLength\":0.03,\"fTitleOffset\":0,\"fTitleSize\":0.035,\"fTitleColor\":1,\"fTitleFont\":42,\"fNbins\":1,\"fXmin\":0,\"fXmax\":1,\"fXbins\":[],\"fFirst\":0,\"fLast\":0,\"fBits2\":0,\"fTimeDisplay\":false,\"fTimeFormat\":\"\",\"fLabels\":null,\"fModLabs\":null},\"fZaxis\":{\"_typename\":\"TAxis\",\"fUniqueID\":0,\"fBits\":50331648,\"fName\":\"zaxis\",\"fTitle\":\"\",\"fNdivisions\":510,\"fAxisColor\":1,\"fLabelColor\":1,\"fLabelFont\":42,\"fLabelOffset\":0.005,\"fLabelSize\":0.035,\"fTickLength\":0.03,\"fTitleOffset\":1,\"fTitleSize\":0.035,\"fTitleColor\":1,\"fTitleFont\":42,\"fNbins\":1,\"fXmin\":0,\"fXmax\":1,\"fXbins\":[],\"fFirst\":0,\"fLast\":0,\"fBits2\":0,\"fTimeDisplay\":false,\"fTimeFormat\":\"\",\"fLabels\":null,\"fModLabs\":null},\"fBarOffset\":0,\"fBarWidth\":1000,\"fEntries\":226771,\"fTsumw\":226343,\"fTsumw2\":226343,\"fTsumwx\":10134170.3466856,\"fTsumwx2\":632236697.538144,\"fMaximum\":-1111,\"fMinimum\":-1111,\"fNormFactor\":0,\"fContour\":[],\"fSumw2\":[0,2746,3617,4420,4097,3704,3345,3072,2965,2719,2629,2530,2492,2539,2460,2357,2377,2360,2393,2325,2304,2192,2262,2292,2223,2248,2251,2364,2270,2342,2271,2321,2278,2289,2328,2300,2322,2343,2346,2270,2219,2302,2314,2246,2290,2284,2374,2338,2435,2339,2300,2296,2401,2485,2374,2400,2281,2332,2249,2314,2190,2307,2274,2370,2333,2316,2306,2327,2232,2321,2290,2357,2305,2201,2312,2272,2266,2296,2205,2184,2154,2226,2182,2073,2092,2101,2006,1899,1864,1836,1727,1683,1651,1555,1422,1293,1122,841,675,461,280,428],\"fOption\":\"\",\"fFunctions\":{\"_typename\":\"TList\",\"name\":\"TList\",\"arr\":[],\"opt\":[]},\"fBufferSize\":0,\"fBuffer\":[],\"fBinStatErrOpt\":0,\"fStatOverflows\":2,\"fArray\":[0,2746,3617,4420,4097,3704,3345,3072,2965,2719,2629,2530,2492,2539,2460,2357,2377,2360,2393,2325,2304,2192,2262,2292,2223,2248,2251,2364,2270,2342,2271,2321,2278,2289,2328,2300,2322,2343,2346,2270,2219,2302,2314,2246,2290,2284,2374,2338,2435,2339,2300,2296,2401,2485,2374,2400,2281,2332,2249,2314,2190,2307,2274,2370,2333,2316,2306,2327,2232,2321,2290,2357,2305,2201,2312,2272,2266,2296,2205,2184,2154,2226,2182,2073,2092,2101,2006,1899,1864,1836,1727,1683,1651,1555,1422,1293,1122,841,675,461,280,428]},\"fLabel\":\"PU0\",\"fOption\":\"l\"},{\"_typename\":\"TLegendEntry\",\"fUniqueID\":0,\"fBits\":50331656,\"fTextAngle\":0,\"fTextSize\":0,\"fTextAlign\":0,\"fTextColor\":0,\"fTextFont\":42,\"fLineColor\":2,\"fLineStyle\":1,\"fLineWidth\":1,\"fFillColor\":0,\"fFillStyle\":0,\"fMarkerColor\":1,\"fMarkerStyle\":21,\"fMarkerSize\":1,\"fObject\":{\"_typename\":\"TH1F\",\"fUniqueID\":0,\"fBits\":50332168,\"fName\":\"h_cl3d_DEF_Em_nomatch_pt\",\"fTitle\":\"3D Cluster Pt (GeV)\",\"fLineColor\":2,\"fLineStyle\":1,\"fLineWidth\":1,\"fFillColor\":0,\"fFillStyle\":1001,\"fMarkerColor\":1,\"fMarkerStyle\":1,\"fMarkerSize\":1,\"fNcells\":102,\"fXaxis\":{\"_typename\":\"TAxis\",\"fUniqueID\":0,\"fBits\":50331648,\"fName\":\"xaxis\",\"fTitle\":\" p_{T} [GeV]\",\"fNdivisions\":510,\"fAxisColor\":1,\"fLabelColor\":1,\"fLabelFont\":42,\"fLabelOffset\":0.005,\"fLabelSize\":0.035,\"fTickLength\":0.03,\"fTitleOffset\":1,\"fTitleSize\":0.035,\"fTitleColor\":1,\"fTitleFont\":42,\"fNbins\":100,\"fXmin\":0,\"fXmax\":100,\"fXbins\":[],\"fFirst\":0,\"fLast\":0,\"fBits2\":0,\"fTimeDisplay\":false,\"fTimeFormat\":\"\",\"fLabels\":null,\"fModLabs\":null},\"fYaxis\":{\"_typename\":\"TAxis\",\"fUniqueID\":0,\"fBits\":50331648,\"fName\":\"yaxis\",\"fTitle\":\"\",\"fNdivisions\":510,\"fAxisColor\":1,\"fLabelColor\":1,\"fLabelFont\":42,\"fLabelOffset\":0.005,\"fLabelSize\":0.035,\"fTickLength\":0.03,\"fTitleOffset\":0,\"fTitleSize\":0.035,\"fTitleColor\":1,\"fTitleFont\":42,\"fNbins\":1,\"fXmin\":0,\"fXmax\":1,\"fXbins\":[],\"fFirst\":0,\"fLast\":0,\"fBits2\":0,\"fTimeDisplay\":false,\"fTimeFormat\":\"\",\"fLabels\":null,\"fModLabs\":null},\"fZaxis\":{\"_typename\":\"TAxis\",\"fUniqueID\":0,\"fBits\":50331648,\"fName\":\"zaxis\",\"fTitle\":\"\",\"fNdivisions\":510,\"fAxisColor\":1,\"fLabelColor\":1,\"fLabelFont\":42,\"fLabelOffset\":0.005,\"fLabelSize\":0.035,\"fTickLength\":0.03,\"fTitleOffset\":1,\"fTitleSize\":0.035,\"fTitleColor\":1,\"fTitleFont\":42,\"fNbins\":1,\"fXmin\":0,\"fXmax\":1,\"fXbins\":[],\"fFirst\":0,\"fLast\":0,\"fBits2\":0,\"fTimeDisplay\":false,\"fTimeFormat\":\"\",\"fLabels\":null,\"fModLabs\":null},\"fBarOffset\":0,\"fBarWidth\":1000,\"fEntries\":1646046,\"fTsumw\":1645186,\"fTsumw2\":1645186,\"fTsumwx\":6656480.74578822,\"fTsumwx2\":254959316.694868,\"fMaximum\":-1111,\"fMinimum\":-1111,\"fNormFactor\":0,\"fContour\":[],\"fSumw2\":[0,534918,543413,278236,116584,49668,22483,11415,6372,3930,2625,1938,1535,1254,1115,1011,1005,876,899,879,854,810,796,769,849,826,866,819,893,853,861,823,860,885,860,837,877,863,861,826,873,865,860,836,841,854,904,854,825,880,858,835,912,839,847,859,931,879,923,829,884,874,863,823,863,869,843,883,863,882,891,852,862,817,916,871,842,858,858,822,853,835,831,813,800,784,768,764,750,703,704,675,639,566,603,540,503,450,356,377,288,860],\"fOption\":\"\",\"fFunctions\":{\"_typename\":\"TList\",\"name\":\"TList\",\"arr\":[],\"opt\":[]},\"fBufferSize\":0,\"fBuffer\":[],\"fBinStatErrOpt\":0,\"fStatOverflows\":2,\"fArray\":[0,534918,543413,278236,116584,49668,22483,11415,6372,3930,2625,1938,1535,1254,1115,1011,1005,876,899,879,854,810,796,769,849,826,866,819,893,853,861,823,860,885,860,837,877,863,861,826,873,865,860,836,841,854,904,854,825,880,858,835,912,839,847,859,931,879,923,829,884,874,863,823,863,869,843,883,863,882,891,852,862,817,916,871,842,858,858,822,853,835,831,813,800,784,768,764,750,703,704,675,639,566,603,540,503,450,356,377,288,860]},\"fLabel\":\"PU200\",\"fOption\":\"l\"}],\"opt\":[\"l\",\"l\"]},\"fEntrySeparation\":0.1,\"fMargin\":0.25,\"fNColumns\":1,\"fColumnSeparation\":0},{\"_typename\":\"TPaveText\",\"fUniqueID\":0,\"fBits\":50331657,\"fLineColor\":1,\"fLineStyle\":1,\"fLineWidth\":1,\"fFillColor\":0,\"fFillStyle\":0,\"fX1\":33.7344630424653,\"fY1\":-0.243923021727128,\"fX2\":96.0901016632398,\"fY2\":0.0120148380382279,\"fX1NDC\":0.322286432160804,\"fY1NDC\":0.936258746027113,\"fX2NDC\":0.677713567839196,\"fY2NDC\":0.995000004768372,\"fBorderSize\":0,\"fInit\":1,\"fShadowColor\":1,\"fCornerRadius\":0,\"fOption\":\"blNDC\",\"fName\":\"title\",\"fTextAngle\":0,\"fTextSize\":0,\"fTextAlign\":22,\"fTextColor\":1,\"fTextFont\":42,\"fLabel\":\"\",\"fLongest\":19,\"fMargin\":0.05,\"fLines\":{\"_typename\":\"TList\",\"name\":\"TList\",\"arr\":[{\"_typename\":\"TLatex\",\"fUniqueID\":0,\"fBits\":50331648,\"fName\":\"\",\"fTitle\":\"3D Cluster Pt (GeV)\",\"fTextAngle\":0,\"fTextSize\":0,\"fTextAlign\":0,\"fTextColor\":0,\"fTextFont\":0,\"fX\":0,\"fY\":0,\"fLineColor\":1,\"fLineStyle\":1,\"fLineWidth\":2,\"fLimitFactorSize\":3,\"fOriginSize\":0.0499300695955753}],\"opt\":[\"\"]}},{\"_typename\":\"TLatex\",\"fUniqueID\":0,\"fBits\":50348040,\"fName\":\"\",\"fTitle\":\"NNDR, EGId\",\"fTextAngle\":0,\"fTextSize\":0.03,\"fTextAlign\":11,\"fTextColor\":1,\"fTextFont\":62,\"fX\":0.15,\"fY\":0.85,\"fLineColor\":1,\"fLineStyle\":1,\"fLineWidth\":2,\"fLimitFactorSize\":3,\"fOriginSize\":0.04}],\"opt\":[\"\",\",\",\"SAME,\",\"\",\"blNDC\",\"same\"]},\"fExecs\":null,\"fName\":\"c_96052b\",\"fTitle\":\"h_cl3d_DEF_Em_nomatch_pt\",\"fNumPaletteColor\":0,\"fNextPaletteColor\":0,\"fDISPLAY\":\"$DISPLAY\",\"fDoubleBuffer\":0,\"fRetained\":true,\"fXsizeUser\":0,\"fYsizeUser\":0,\"fXsizeReal\":20,\"fYsizeReal\":15,\"fWindowTopX\":0,\"fWindowTopY\":0,\"fWindowWidth\":0,\"fWindowHeight\":0,\"fCw\":796,\"fCh\":572,\"fCatt\":{\"_typename\":\"TAttCanvas\",\"fXBetween\":2,\"fYBetween\":2,\"fTitleFromTop\":1.2,\"fXdate\":0.2,\"fYdate\":0.3,\"fAdate\":1},\"kMoveOpaque\":true,\"kResizeOpaque\":true,\"fHighLightColor\":2,\"fBatch\":true,\"kShowEventStatus\":false,\"kAutoExec\":true,\"kMenuBar\":true});\n",
       "       Core.draw(\"root_plot_2\", obj, \"\");\n",
       "     }\n",
       " );\n",
       "</script>\n"
      ],
      "text/plain": [
       "<IPython.core.display.HTML object>"
      ]
     },
     "metadata": {},
     "output_type": "display_data"
    },
    {
     "data": {
      "text/html": [
       "\n",
       "<div id=\"root_plot_3\"\n",
       "     style=\"width: 796px; height: 572px\">\n",
       "</div>\n",
       "\n",
       "<script>\n",
       " requirejs.config({\n",
       "     paths: {\n",
       "       'JSRootCore' : 'https://root.cern.ch/js/notebook//scripts/JSRootCore',\n",
       "     }\n",
       "   });\n",
       " require(['JSRootCore'],\n",
       "     function(Core) {\n",
       "       var obj = Core.JSONR_unref({\"_typename\":\"TCanvas\",\"fUniqueID\":0,\"fBits\":53673992,\"fLineColor\":1,\"fLineStyle\":1,\"fLineWidth\":1,\"fFillColor\":0,\"fFillStyle\":1001,\"fLeftMargin\":0.13,\"fRightMargin\":0.3,\"fBottomMargin\":0.13,\"fTopMargin\":0.1,\"fXfile\":2,\"fYfile\":2,\"fAfile\":1,\"fXstat\":0.99,\"fYstat\":0.99,\"fAstat\":2,\"fFrameFillColor\":0,\"fFrameLineColor\":1,\"fFrameFillStyle\":1001,\"fFrameLineStyle\":1,\"fFrameLineWidth\":1,\"fFrameBorderSize\":1,\"fFrameBorderMode\":0,\"fX1\":-22.8070169934936,\"fY1\":-6.09181282375387,\"fX2\":152.631581699199,\"fY2\":0.409118961117822,\"fXtoAbsPixelk\":103.480046204376,\"fXtoPixelk\":103.480046204376,\"fXtoPixel\":4.53719994306564,\"fYtoAbsPixelk\":35.9973583095522,\"fYtoPixelk\":35.9973583095522,\"fYtoPixel\":-87.9873868744633,\"fUtoAbsPixelk\":5e-5,\"fUtoPixelk\":5e-5,\"fUtoPixel\":796,\"fVtoAbsPixelk\":572.00005,\"fVtoPixelk\":572,\"fVtoPixel\":-572,\"fAbsPixeltoXk\":-22.8070169934936,\"fPixeltoXk\":-22.8070169934936,\"fPixeltoX\":0.220400249613935,\"fAbsPixeltoYk\":0.409118961117821,\"fPixeltoYk\":-6.09181282375387,\"fPixeltoY\":-0.0113652653581673,\"fXlowNDC\":0,\"fYlowNDC\":0,\"fXUpNDC\":0,\"fYUpNDC\":0,\"fWNDC\":1,\"fHNDC\":1,\"fAbsXlowNDC\":0,\"fAbsYlowNDC\":0,\"fAbsWNDC\":1,\"fAbsHNDC\":1,\"fUxmin\":0,\"fUymin\":-5.24669170382947,\"fUxmax\":100,\"fUymax\":-0.240974241587206,\"fTheta\":30,\"fPhi\":30,\"fAspectRatio\":0,\"fNumber\":0,\"fTickx\":0,\"fTicky\":0,\"fLogx\":0,\"fLogy\":1,\"fLogz\":0,\"fPadPaint\":0,\"fCrosshair\":0,\"fCrosshairPos\":0,\"fBorderSize\":2,\"fBorderMode\":0,\"fModified\":false,\"fGridx\":false,\"fGridy\":false,\"fAbsCoord\":false,\"fEditable\":true,\"fFixedAspectRatio\":false,\"fPrimitives\":{\"_typename\":\"TList\",\"name\":\"TList\",\"arr\":[{\"_typename\":\"TFrame\",\"fUniqueID\":0,\"fBits\":50331656,\"fLineColor\":1,\"fLineStyle\":1,\"fLineWidth\":1,\"fFillColor\":0,\"fFillStyle\":1001,\"fX1\":0,\"fY1\":-5.24669170382947,\"fX2\":100,\"fY2\":-0.240974241587206,\"fBorderSize\":1,\"fBorderMode\":0},{\"_typename\":\"TH1F\",\"fUniqueID\":0,\"fBits\":50332169,\"fName\":\"h_cl3d_DEFCalib_all_nomatch_pt\",\"fTitle\":\"3D Cluster Pt (GeV)\",\"fLineColor\":1,\"fLineStyle\":1,\"fLineWidth\":1,\"fFillColor\":0,\"fFillStyle\":1001,\"fMarkerColor\":1,\"fMarkerStyle\":1,\"fMarkerSize\":1,\"fNcells\":102,\"fXaxis\":{\"_typename\":\"TAxis\",\"fUniqueID\":0,\"fBits\":50331648,\"fName\":\"xaxis\",\"fTitle\":\" p_{T} [GeV]\",\"fNdivisions\":510,\"fAxisColor\":1,\"fLabelColor\":1,\"fLabelFont\":42,\"fLabelOffset\":0.005,\"fLabelSize\":0.035,\"fTickLength\":0.03,\"fTitleOffset\":1,\"fTitleSize\":0.035,\"fTitleColor\":1,\"fTitleFont\":42,\"fNbins\":100,\"fXmin\":0,\"fXmax\":100,\"fXbins\":[],\"fFirst\":0,\"fLast\":0,\"fBits2\":0,\"fTimeDisplay\":false,\"fTimeFormat\":\"\",\"fLabels\":null,\"fModLabs\":null},\"fYaxis\":{\"_typename\":\"TAxis\",\"fUniqueID\":0,\"fBits\":50331656,\"fName\":\"yaxis\",\"fTitle\":\"\",\"fNdivisions\":510,\"fAxisColor\":1,\"fLabelColor\":1,\"fLabelFont\":42,\"fLabelOffset\":0.005,\"fLabelSize\":0.035,\"fTickLength\":0.03,\"fTitleOffset\":0,\"fTitleSize\":0.035,\"fTitleColor\":1,\"fTitleFont\":42,\"fNbins\":1,\"fXmin\":0,\"fXmax\":1,\"fXbins\":[],\"fFirst\":0,\"fLast\":0,\"fBits2\":0,\"fTimeDisplay\":false,\"fTimeFormat\":\"\",\"fLabels\":null,\"fModLabs\":null},\"fZaxis\":{\"_typename\":\"TAxis\",\"fUniqueID\":0,\"fBits\":50331648,\"fName\":\"zaxis\",\"fTitle\":\"\",\"fNdivisions\":510,\"fAxisColor\":1,\"fLabelColor\":1,\"fLabelFont\":42,\"fLabelOffset\":0.005,\"fLabelSize\":0.035,\"fTickLength\":0.03,\"fTitleOffset\":1,\"fTitleSize\":0.035,\"fTitleColor\":1,\"fTitleFont\":42,\"fNbins\":1,\"fXmin\":0,\"fXmax\":1,\"fXbins\":[],\"fFirst\":0,\"fLast\":0,\"fBits2\":0,\"fTimeDisplay\":false,\"fTimeFormat\":\"\",\"fLabels\":null,\"fModLabs\":null},\"fBarOffset\":0,\"fBarWidth\":1000,\"fEntries\":346471,\"fTsumw\":343849,\"fTsumw2\":343849,\"fTsumwx\":10922701.1141388,\"fTsumwx2\":677862667.222651,\"fMaximum\":0.574150514602661,\"fMinimum\":5.66641392651945e-6,\"fNormFactor\":0,\"fContour\":[],\"fSumw2\":[0,3.86375498310072e-7,3.06955465712297e-7,1.48631334700821e-7,9.37477786276617e-8,3.36795069014208e-8,5.29889780857362e-8,4.40489382075841e-8,3.7570158125593e-8,3.33496473411106e-8,3.05246962348639e-8,2.71922688819859e-8,3.20555829122012e-8,2.59658679526273e-8,2.35807295934609e-8,2.2827973160958e-8,2.76320816290663e-8,2.25573191627548e-8,2.1855310354915e-8,2.05020403638986e-8,2.61265687640605e-8,2.09333951735351e-8,2.02060125533637e-8,2.04005451145723e-8,2.14154976078347e-8,2.00622276168182e-8,1.92840973719838e-8,2.06711991127756e-8,2.18468524174711e-8,2.03413395524654e-8,1.94109664336416e-8,1.96647045569572e-8,1.90726489358875e-8,2.12463388589576e-8,1.92502656222084e-8,1.94278823085293e-8,1.98761529930535e-8,1.97577418688396e-8,2.02821339903584e-8,2.00453117419305e-8,1.87935370002404e-8,1.95293775578555e-8,1.88273687500158e-8,1.91826021226576e-8,2.2827973160958e-8,2.78266141902749e-8,1.91318544979945e-8,2.00622276168182e-8,2.03667133647969e-8,1.97661998062834e-8,1.97492839313957e-8,1.97831156811711e-8,1.98676950556096e-8,1.94532561208609e-8,2.03836292396846e-8,2.04005451145723e-8,1.99691903049359e-8,1.96224148697379e-8,1.96139569322941e-8,1.88189108125719e-8,1.938559262131e-8,1.96139569322941e-8,1.8928863999342e-8,1.95970410574064e-8,1.88612004997912e-8,1.89542378116736e-8,1.8928863999342e-8,1.94701719957486e-8,1.94363402459732e-8,1.96393307446256e-8,1.93602188089785e-8,1.90726489358875e-8,1.96224148697379e-8,1.85905465015879e-8,1.92587235596523e-8,1.98254053683904e-8,1.8412929815267e-8,1.89119481244543e-8,1.89626957491174e-8,1.85905465015879e-8,1.89796116240051e-8,1.85313409394809e-8,1.81169020047322e-8,1.78716218188604e-8,1.79900329430744e-8,1.824377106639e-8,1.73726035096731e-8,1.71949868233522e-8,1.72457344480153e-8,1.67974637634912e-8,1.60362493935444e-8,1.52073715240469e-8,1.50805024623891e-8,1.44630730289879e-8,1.40317182193514e-8,1.32535879745169e-8,1.31098030379715e-8,1.17142433597358e-8,1.07923281783559e-8,9.34602087545707e-9,8.11116200865459e-9,2.21767119777814e-8],\"fOption\":\"\",\"fFunctions\":{\"_typename\":\"TList\",\"name\":\"TList\",\"arr\":[],\"opt\":[]},\"fBufferSize\":0,\"fBuffer\":[],\"fBinStatErrOpt\":0,\"fStatOverflows\":2,\"fArray\":[0,0.1328548,0.1055463,0.05110674,0.03223508,0.01158066,0.01822021,0.01514618,0.01291846,0.01146724,0.01049589,0.009350034,0.01102228,0.008928338,0.008108211,0.007849376,0.009501263,0.007756311,0.007514927,0.007049606,0.008983594,0.007197927,0.006947817,0.007014707,0.007363698,0.006898377,0.006630817,0.007107771,0.007512019,0.006994349,0.006674442,0.006761689,0.006558111,0.007305532,0.006619185,0.006680258,0.006834395,0.00679368,0.006973992,0.006892561,0.006462139,0.006715157,0.006473772,0.006595918,0.007849376,0.009568154,0.006578469,0.006898377,0.007003074,0.006796588,0.006790772,0.006802405,0.006831487,0.006688983,0.007008891,0.007014707,0.006866386,0.006747148,0.006744239,0.006470864,0.006665716,0.006744239,0.006508671,0.006738423,0.006485405,0.006517396,0.006508671,0.006694799,0.006683166,0.006752964,0.006656992,0.006558111,0.006747148,0.006392341,0.006622093,0.006816946,0.006331267,0.006502855,0.006520304,0.006392341,0.00652612,0.006371983,0.006229479,0.006145139,0.006185855,0.006273102,0.005973552,0.005912479,0.005929929,0.005775791,0.005514049,0.00522904,0.005185416,0.004973113,0.004824793,0.004557233,0.004507793,0.004027931,0.003710931,0.00321362,0.002789015,0.00762544]},{\"_typename\":\"TH1F\",\"fUniqueID\":0,\"fBits\":50332169,\"fName\":\"h_cl3d_DEFCalib_all_nomatch_pt\",\"fTitle\":\"3D Cluster Pt (GeV)\",\"fLineColor\":2,\"fLineStyle\":1,\"fLineWidth\":1,\"fFillColor\":0,\"fFillStyle\":1001,\"fMarkerColor\":1,\"fMarkerStyle\":1,\"fMarkerSize\":1,\"fNcells\":102,\"fXaxis\":{\"_typename\":\"TAxis\",\"fUniqueID\":0,\"fBits\":50331648,\"fName\":\"xaxis\",\"fTitle\":\" p_{T} [GeV]\",\"fNdivisions\":510,\"fAxisColor\":1,\"fLabelColor\":1,\"fLabelFont\":42,\"fLabelOffset\":0.005,\"fLabelSize\":0.035,\"fTickLength\":0.03,\"fTitleOffset\":1,\"fTitleSize\":0.035,\"fTitleColor\":1,\"fTitleFont\":42,\"fNbins\":100,\"fXmin\":0,\"fXmax\":100,\"fXbins\":[],\"fFirst\":0,\"fLast\":0,\"fBits2\":0,\"fTimeDisplay\":false,\"fTimeFormat\":\"\",\"fLabels\":null,\"fModLabs\":null},\"fYaxis\":{\"_typename\":\"TAxis\",\"fUniqueID\":0,\"fBits\":50331648,\"fName\":\"yaxis\",\"fTitle\":\"\",\"fNdivisions\":510,\"fAxisColor\":1,\"fLabelColor\":1,\"fLabelFont\":42,\"fLabelOffset\":0.005,\"fLabelSize\":0.035,\"fTickLength\":0.03,\"fTitleOffset\":0,\"fTitleSize\":0.035,\"fTitleColor\":1,\"fTitleFont\":42,\"fNbins\":1,\"fXmin\":0,\"fXmax\":1,\"fXbins\":[],\"fFirst\":0,\"fLast\":0,\"fBits2\":0,\"fTimeDisplay\":false,\"fTimeFormat\":\"\",\"fLabels\":null,\"fModLabs\":null},\"fZaxis\":{\"_typename\":\"TAxis\",\"fUniqueID\":0,\"fBits\":50331648,\"fName\":\"zaxis\",\"fTitle\":\"\",\"fNdivisions\":510,\"fAxisColor\":1,\"fLabelColor\":1,\"fLabelFont\":42,\"fLabelOffset\":0.005,\"fLabelSize\":0.035,\"fTickLength\":0.03,\"fTitleOffset\":1,\"fTitleSize\":0.035,\"fTitleColor\":1,\"fTitleFont\":42,\"fNbins\":1,\"fXmin\":0,\"fXmax\":1,\"fXbins\":[],\"fFirst\":0,\"fLast\":0,\"fBits2\":0,\"fTimeDisplay\":false,\"fTimeFormat\":\"\",\"fLabels\":null,\"fModLabs\":null},\"fBarOffset\":0,\"fBarWidth\":1000,\"fEntries\":79241009,\"fTsumw\":79238828,\"fTsumw2\":79238828,\"fTsumwx\":118105446.392511,\"fTsumwx2\":546943731.032863,\"fMaximum\":-1111,\"fMinimum\":-1111,\"fNormFactor\":0,\"fContour\":[],\"fSumw2\":[0,6.03818535021379e-9,4.18051990111976e-9,1.37661798172166e-9,5.5096569344378e-10,1.55380365632714e-10,1.43783548959524e-10,7.07656820759966e-11,3.66083156155776e-11,2.03024721264433e-11,1.18776031674741e-11,7.3856563241385e-12,5.90893915170169e-12,3.07447673605696e-12,1.99831431865451e-12,1.44072298769018e-12,1.25103681940155e-12,8.18628803529465e-13,5.84666602676394e-13,4.74613586482063e-13,4.97388667981035e-13,3.13754619251565e-13,2.77919700809128e-13,2.37784592153598e-13,2.45270108450462e-13,2.02746005232103e-13,1.91438097634711e-13,1.93349293284975e-13,1.9733095088969e-13,1.77104130257736e-13,1.7328173895721e-13,1.63088695489139e-13,1.53532717237822e-13,1.67070353093854e-13,1.49073260720541e-13,1.5369198354201e-13,1.47002798766089e-13,1.50028858545672e-13,1.53373450933633e-13,1.44295271594882e-13,1.41587744423676e-13,1.42543342248808e-13,1.43658206378128e-13,1.42702608552996e-13,1.72326141132078e-13,2.03701603057235e-13,1.40313613990167e-13,1.43658206378128e-13,1.47162065070277e-13,1.40950679206922e-13,1.3537635856032e-13,1.42543342248808e-13,1.3999508138179e-13,1.33783695518434e-13,1.43339673769751e-13,1.38720950948281e-13,1.39039483556658e-13,1.36013423777075e-13,1.45250869420014e-13,1.42384075944619e-13,1.43021141161373e-13,1.38720950948281e-13,1.39358016165035e-13,1.41747010727865e-13,1.40632146598544e-13,1.32987363997491e-13,1.34102228126811e-13,1.34898559647754e-13,1.43976738986505e-13,1.28687173784398e-13,1.35694891168697e-13,1.36013423777075e-13,1.39358016165035e-13,1.40472880294356e-13,1.34898559647754e-13,1.36331956385452e-13,1.28687173784398e-13,1.44932336811637e-13,1.41428478119487e-13,1.31235434651416e-13,1.33783695518434e-13,1.33465162910057e-13,1.29324239001153e-13,1.32350298780736e-13,1.32987363997491e-13,1.28846440088587e-13,1.27572309655078e-13,1.2741304335089e-13,1.23112853137797e-13,1.23272119441986e-13,1.09734483585954e-13,1.1706073357863e-13,1.17697798795384e-13,1.08938152065011e-13,1.10212282498519e-13,1.00019239030448e-13,9.36485868629038e-14,8.79149999121138e-14,8.6163070566039e-14,8.55260053492846e-14,7.15105705806867e-14,3.47359809435363e-13],\"fOption\":\"\",\"fFunctions\":{\"_typename\":\"TList\",\"name\":\"TList\",\"arr\":[],\"opt\":[]},\"fBufferSize\":0,\"fBuffer\":[],\"fBinStatErrOpt\":0,\"fStatOverflows\":2,\"fArray\":[0,0.4784588,0.3312595,0.1090816,0.04365788,0.01231216,0.01139324,0.00560739,0.0029008,0.001608744,9.411674e-4,5.852308e-4,4.682174e-4,2.436179e-4,1.583441e-4,1.141612e-4,9.91307e-5,6.486718e-5,4.63283e-5,3.760782e-5,3.941249e-5,2.486155e-5,2.202203e-5,1.884177e-5,1.943492e-5,1.606536e-5,1.516933e-5,1.532077e-5,1.563627e-5,1.403352e-5,1.373064e-5,1.292296e-5,1.216575e-5,1.323846e-5,1.181239e-5,1.217837e-5,1.164833e-5,1.188811e-5,1.215313e-5,1.143379e-5,1.121925e-5,1.129497e-5,1.138331e-5,1.130759e-5,1.365492e-5,1.614108e-5,1.111829e-5,1.138331e-5,1.166095e-5,1.116877e-5,1.072706e-5,1.129497e-5,1.109305e-5,1.060086e-5,1.135807e-5,1.099209e-5,1.101733e-5,1.077754e-5,1.150951e-5,1.128235e-5,1.133283e-5,1.099209e-5,1.104257e-5,1.123187e-5,1.114353e-5,1.053776e-5,1.06261e-5,1.06892e-5,1.140855e-5,1.019702e-5,1.07523e-5,1.077754e-5,1.104257e-5,1.113091e-5,1.06892e-5,1.080278e-5,1.019702e-5,1.148427e-5,1.120663e-5,1.039894e-5,1.060086e-5,1.057562e-5,1.02475e-5,1.048728e-5,1.053776e-5,1.020964e-5,1.010868e-5,1.009606e-5,9.755318e-6,9.767939e-6,8.695232e-6,9.275755e-6,9.326236e-6,8.632132e-6,8.733092e-6,7.925408e-6,7.420605e-6,6.966281e-6,6.827461e-6,6.776981e-6,5.666414e-6,2.752438e-5]},{\"_typename\":\"TLegend\",\"fUniqueID\":0,\"fBits\":50331656,\"fLineColor\":1,\"fLineStyle\":1,\"fLineWidth\":1,\"fFillColor\":0,\"fFillStyle\":0,\"fX1\":100.000002091391,\"fY1\":-1.47615125649497,\"fX2\":143.859651764564,\"fY2\":-0.566020806612932,\"fX1NDC\":0.7,\"fY1NDC\":0.71,\"fX2NDC\":0.95,\"fY2NDC\":0.85,\"fBorderSize\":0,\"fInit\":1,\"fShadowColor\":1,\"fCornerRadius\":0,\"fOption\":\"brNDC\",\"fName\":\"TPave\",\"fTextAngle\":0,\"fTextSize\":0.05,\"fTextAlign\":12,\"fTextColor\":1,\"fTextFont\":42,\"fPrimitives\":{\"_typename\":\"TList\",\"name\":\"TList\",\"arr\":[{\"_typename\":\"TLegendEntry\",\"fUniqueID\":0,\"fBits\":50331656,\"fTextAngle\":0,\"fTextSize\":0,\"fTextAlign\":0,\"fTextColor\":0,\"fTextFont\":42,\"fLineColor\":1,\"fLineStyle\":1,\"fLineWidth\":1,\"fFillColor\":0,\"fFillStyle\":0,\"fMarkerColor\":1,\"fMarkerStyle\":21,\"fMarkerSize\":1,\"fObject\":{\"_typename\":\"TH1F\",\"fUniqueID\":0,\"fBits\":50332168,\"fName\":\"h_cl3d_DEFCalib_all_nomatch_pt\",\"fTitle\":\"3D Cluster Pt (GeV)\",\"fLineColor\":1,\"fLineStyle\":1,\"fLineWidth\":1,\"fFillColor\":0,\"fFillStyle\":1001,\"fMarkerColor\":1,\"fMarkerStyle\":1,\"fMarkerSize\":1,\"fNcells\":102,\"fXaxis\":{\"_typename\":\"TAxis\",\"fUniqueID\":0,\"fBits\":50331648,\"fName\":\"xaxis\",\"fTitle\":\" p_{T} [GeV]\",\"fNdivisions\":510,\"fAxisColor\":1,\"fLabelColor\":1,\"fLabelFont\":42,\"fLabelOffset\":0.005,\"fLabelSize\":0.035,\"fTickLength\":0.03,\"fTitleOffset\":1,\"fTitleSize\":0.035,\"fTitleColor\":1,\"fTitleFont\":42,\"fNbins\":100,\"fXmin\":0,\"fXmax\":100,\"fXbins\":[],\"fFirst\":0,\"fLast\":0,\"fBits2\":0,\"fTimeDisplay\":false,\"fTimeFormat\":\"\",\"fLabels\":null,\"fModLabs\":null},\"fYaxis\":{\"_typename\":\"TAxis\",\"fUniqueID\":0,\"fBits\":50331648,\"fName\":\"yaxis\",\"fTitle\":\"\",\"fNdivisions\":510,\"fAxisColor\":1,\"fLabelColor\":1,\"fLabelFont\":42,\"fLabelOffset\":0.005,\"fLabelSize\":0.035,\"fTickLength\":0.03,\"fTitleOffset\":0,\"fTitleSize\":0.035,\"fTitleColor\":1,\"fTitleFont\":42,\"fNbins\":1,\"fXmin\":0,\"fXmax\":1,\"fXbins\":[],\"fFirst\":0,\"fLast\":0,\"fBits2\":0,\"fTimeDisplay\":false,\"fTimeFormat\":\"\",\"fLabels\":null,\"fModLabs\":null},\"fZaxis\":{\"_typename\":\"TAxis\",\"fUniqueID\":0,\"fBits\":50331648,\"fName\":\"zaxis\",\"fTitle\":\"\",\"fNdivisions\":510,\"fAxisColor\":1,\"fLabelColor\":1,\"fLabelFont\":42,\"fLabelOffset\":0.005,\"fLabelSize\":0.035,\"fTickLength\":0.03,\"fTitleOffset\":1,\"fTitleSize\":0.035,\"fTitleColor\":1,\"fTitleFont\":42,\"fNbins\":1,\"fXmin\":0,\"fXmax\":1,\"fXbins\":[],\"fFirst\":0,\"fLast\":0,\"fBits2\":0,\"fTimeDisplay\":false,\"fTimeFormat\":\"\",\"fLabels\":null,\"fModLabs\":null},\"fBarOffset\":0,\"fBarWidth\":1000,\"fEntries\":346471,\"fTsumw\":343849,\"fTsumw2\":343849,\"fTsumwx\":10922701.1141388,\"fTsumwx2\":677862667.222651,\"fMaximum\":-1111,\"fMinimum\":-1111,\"fNormFactor\":0,\"fContour\":[],\"fSumw2\":[0,45682,36292,17573,11084,3982,6265,5208,4442,3943,3609,3215,3790,3070,2788,2699,3267,2667,2584,2424,3089,2475,2389,2412,2532,2372,2280,2444,2583,2405,2295,2325,2255,2512,2276,2297,2350,2336,2398,2370,2222,2309,2226,2268,2699,3290,2262,2372,2408,2337,2335,2339,2349,2300,2410,2412,2361,2320,2319,2225,2292,2319,2238,2317,2230,2241,2238,2302,2298,2322,2289,2255,2320,2198,2277,2344,2177,2236,2242,2198,2244,2191,2142,2113,2127,2157,2054,2033,2039,1986,1896,1798,1783,1710,1659,1567,1550,1385,1276,1105,959,2622],\"fOption\":\"\",\"fFunctions\":{\"_typename\":\"TList\",\"name\":\"TList\",\"arr\":[],\"opt\":[]},\"fBufferSize\":0,\"fBuffer\":[],\"fBinStatErrOpt\":0,\"fStatOverflows\":2,\"fArray\":[0,45682,36292,17573,11084,3982,6265,5208,4442,3943,3609,3215,3790,3070,2788,2699,3267,2667,2584,2424,3089,2475,2389,2412,2532,2372,2280,2444,2583,2405,2295,2325,2255,2512,2276,2297,2350,2336,2398,2370,2222,2309,2226,2268,2699,3290,2262,2372,2408,2337,2335,2339,2349,2300,2410,2412,2361,2320,2319,2225,2292,2319,2238,2317,2230,2241,2238,2302,2298,2322,2289,2255,2320,2198,2277,2344,2177,2236,2242,2198,2244,2191,2142,2113,2127,2157,2054,2033,2039,1986,1896,1798,1783,1710,1659,1567,1550,1385,1276,1105,959,2622]},\"fLabel\":\"PU0\",\"fOption\":\"l\"},{\"_typename\":\"TLegendEntry\",\"fUniqueID\":0,\"fBits\":50331656,\"fTextAngle\":0,\"fTextSize\":0,\"fTextAlign\":0,\"fTextColor\":0,\"fTextFont\":42,\"fLineColor\":2,\"fLineStyle\":1,\"fLineWidth\":1,\"fFillColor\":0,\"fFillStyle\":0,\"fMarkerColor\":1,\"fMarkerStyle\":21,\"fMarkerSize\":1,\"fObject\":{\"_typename\":\"TH1F\",\"fUniqueID\":0,\"fBits\":50332168,\"fName\":\"h_cl3d_DEFCalib_all_nomatch_pt\",\"fTitle\":\"3D Cluster Pt (GeV)\",\"fLineColor\":2,\"fLineStyle\":1,\"fLineWidth\":1,\"fFillColor\":0,\"fFillStyle\":1001,\"fMarkerColor\":1,\"fMarkerStyle\":1,\"fMarkerSize\":1,\"fNcells\":102,\"fXaxis\":{\"_typename\":\"TAxis\",\"fUniqueID\":0,\"fBits\":50331648,\"fName\":\"xaxis\",\"fTitle\":\" p_{T} [GeV]\",\"fNdivisions\":510,\"fAxisColor\":1,\"fLabelColor\":1,\"fLabelFont\":42,\"fLabelOffset\":0.005,\"fLabelSize\":0.035,\"fTickLength\":0.03,\"fTitleOffset\":1,\"fTitleSize\":0.035,\"fTitleColor\":1,\"fTitleFont\":42,\"fNbins\":100,\"fXmin\":0,\"fXmax\":100,\"fXbins\":[],\"fFirst\":0,\"fLast\":0,\"fBits2\":0,\"fTimeDisplay\":false,\"fTimeFormat\":\"\",\"fLabels\":null,\"fModLabs\":null},\"fYaxis\":{\"_typename\":\"TAxis\",\"fUniqueID\":0,\"fBits\":50331648,\"fName\":\"yaxis\",\"fTitle\":\"\",\"fNdivisions\":510,\"fAxisColor\":1,\"fLabelColor\":1,\"fLabelFont\":42,\"fLabelOffset\":0.005,\"fLabelSize\":0.035,\"fTickLength\":0.03,\"fTitleOffset\":0,\"fTitleSize\":0.035,\"fTitleColor\":1,\"fTitleFont\":42,\"fNbins\":1,\"fXmin\":0,\"fXmax\":1,\"fXbins\":[],\"fFirst\":0,\"fLast\":0,\"fBits2\":0,\"fTimeDisplay\":false,\"fTimeFormat\":\"\",\"fLabels\":null,\"fModLabs\":null},\"fZaxis\":{\"_typename\":\"TAxis\",\"fUniqueID\":0,\"fBits\":50331648,\"fName\":\"zaxis\",\"fTitle\":\"\",\"fNdivisions\":510,\"fAxisColor\":1,\"fLabelColor\":1,\"fLabelFont\":42,\"fLabelOffset\":0.005,\"fLabelSize\":0.035,\"fTickLength\":0.03,\"fTitleOffset\":1,\"fTitleSize\":0.035,\"fTitleColor\":1,\"fTitleFont\":42,\"fNbins\":1,\"fXmin\":0,\"fXmax\":1,\"fXbins\":[],\"fFirst\":0,\"fLast\":0,\"fBits2\":0,\"fTimeDisplay\":false,\"fTimeFormat\":\"\",\"fLabels\":null,\"fModLabs\":null},\"fBarOffset\":0,\"fBarWidth\":1000,\"fEntries\":79241009,\"fTsumw\":79238828,\"fTsumw2\":79238828,\"fTsumwx\":118105446.392511,\"fTsumwx2\":546943731.032863,\"fMaximum\":-1111,\"fMinimum\":-1111,\"fNormFactor\":0,\"fContour\":[],\"fSumw2\":[0,37912510,26248615,8643498,3459399,975601,902787,444323,229856,127475,74577,46373,37101,19304,12547,9046,7855,5140,3671,2980,3123,1970,1745,1493,1540,1273,1202,1214,1239,1112,1088,1024,964,1049,936,965,923,942,963,906,889,895,902,896,1082,1279,881,902,924,885,850,895,879,840,900,871,873,854,912,894,898,871,875,890,883,835,842,847,904,808,852,854,875,882,847,856,808,910,888,824,840,838,812,831,835,809,801,800,773,774,689,735,739,684,692,628,588,552,541,537,449,2181],\"fOption\":\"\",\"fFunctions\":{\"_typename\":\"TList\",\"name\":\"TList\",\"arr\":[],\"opt\":[]},\"fBufferSize\":0,\"fBuffer\":[],\"fBinStatErrOpt\":0,\"fStatOverflows\":2,\"fArray\":[0,37912512,26248614,8643498,3459399,975601,902787,444323,229856,127475,74577,46373,37101,19304,12547,9046,7855,5140,3671,2980,3123,1970,1745,1493,1540,1273,1202,1214,1239,1112,1088,1024,964,1049,936,965,923,942,963,906,889,895,902,896,1082,1279,881,902,924,885,850,895,879,840,900,871,873,854,912,894,898,871,875,890,883,835,842,847,904,808,852,854,875,882,847,856,808,910,888,824,840,838,812,831,835,809,801,800,773,774,689,735,739,684,692,628,588,552,541,537,449,2181]},\"fLabel\":\"PU200\",\"fOption\":\"l\"}],\"opt\":[\"l\",\"l\"]},\"fEntrySeparation\":0.1,\"fMargin\":0.25,\"fNColumns\":1,\"fColumnSeparation\":0},{\"_typename\":\"TPaveText\",\"fUniqueID\":0,\"fBits\":50331657,\"fLineColor\":1,\"fLineStyle\":1,\"fLineWidth\":1,\"fFillColor\":0,\"fFillStyle\":0,\"fX1\":33.7344630424653,\"fY1\":-0.00525858284210035,\"fX2\":96.0901016632398,\"fY2\":0.376614333192321,\"fX1NDC\":0.322286432160804,\"fY1NDC\":0.936258746027113,\"fX2NDC\":0.677713567839196,\"fY2NDC\":0.995000004768372,\"fBorderSize\":0,\"fInit\":1,\"fShadowColor\":1,\"fCornerRadius\":0,\"fOption\":\"blNDC\",\"fName\":\"title\",\"fTextAngle\":0,\"fTextSize\":0,\"fTextAlign\":22,\"fTextColor\":1,\"fTextFont\":42,\"fLabel\":\"\",\"fLongest\":19,\"fMargin\":0.05,\"fLines\":{\"_typename\":\"TList\",\"name\":\"TList\",\"arr\":[{\"_typename\":\"TLatex\",\"fUniqueID\":0,\"fBits\":50331648,\"fName\":\"\",\"fTitle\":\"3D Cluster Pt (GeV)\",\"fTextAngle\":0,\"fTextSize\":0,\"fTextAlign\":0,\"fTextColor\":0,\"fTextFont\":0,\"fX\":0,\"fY\":0,\"fLineColor\":1,\"fLineStyle\":1,\"fLineWidth\":2,\"fLimitFactorSize\":3,\"fOriginSize\":0.0499300695955753}],\"opt\":[\"\"]}},{\"_typename\":\"TLatex\",\"fUniqueID\":0,\"fBits\":50348040,\"fName\":\"\",\"fTitle\":\"NNDR Calib v1\",\"fTextAngle\":0,\"fTextSize\":0.03,\"fTextAlign\":11,\"fTextColor\":1,\"fTextFont\":62,\"fX\":0.15,\"fY\":0.85,\"fLineColor\":1,\"fLineStyle\":1,\"fLineWidth\":2,\"fLimitFactorSize\":3,\"fOriginSize\":0.04}],\"opt\":[\"\",\",\",\"SAME,\",\"\",\"blNDC\",\"same\"]},\"fExecs\":null,\"fName\":\"c_5f2ca6\",\"fTitle\":\"h_cl3d_DEFCalib_all_nomatch_pt\",\"fNumPaletteColor\":0,\"fNextPaletteColor\":0,\"fDISPLAY\":\"$DISPLAY\",\"fDoubleBuffer\":0,\"fRetained\":true,\"fXsizeUser\":0,\"fYsizeUser\":0,\"fXsizeReal\":20,\"fYsizeReal\":15,\"fWindowTopX\":0,\"fWindowTopY\":0,\"fWindowWidth\":0,\"fWindowHeight\":0,\"fCw\":796,\"fCh\":572,\"fCatt\":{\"_typename\":\"TAttCanvas\",\"fXBetween\":2,\"fYBetween\":2,\"fTitleFromTop\":1.2,\"fXdate\":0.2,\"fYdate\":0.3,\"fAdate\":1},\"kMoveOpaque\":true,\"kResizeOpaque\":true,\"fHighLightColor\":2,\"fBatch\":true,\"kShowEventStatus\":false,\"kAutoExec\":true,\"kMenuBar\":true});\n",
       "       Core.draw(\"root_plot_3\", obj, \"\");\n",
       "     }\n",
       " );\n",
       "</script>\n"
      ],
      "text/plain": [
       "<IPython.core.display.HTML object>"
      ]
     },
     "metadata": {},
     "output_type": "display_data"
    },
    {
     "data": {
      "text/html": [
       "\n",
       "<div id=\"root_plot_4\"\n",
       "     style=\"width: 796px; height: 572px\">\n",
       "</div>\n",
       "\n",
       "<script>\n",
       " requirejs.config({\n",
       "     paths: {\n",
       "       'JSRootCore' : 'https://root.cern.ch/js/notebook//scripts/JSRootCore',\n",
       "     }\n",
       "   });\n",
       " require(['JSRootCore'],\n",
       "     function(Core) {\n",
       "       var obj = Core.JSONR_unref({\"_typename\":\"TCanvas\",\"fUniqueID\":0,\"fBits\":53673992,\"fLineColor\":1,\"fLineStyle\":1,\"fLineWidth\":1,\"fFillColor\":0,\"fFillStyle\":1001,\"fLeftMargin\":0.13,\"fRightMargin\":0.3,\"fBottomMargin\":0.13,\"fTopMargin\":0.1,\"fXfile\":2,\"fYfile\":2,\"fAfile\":1,\"fXstat\":0.99,\"fYstat\":0.99,\"fAstat\":2,\"fFrameFillColor\":0,\"fFrameLineColor\":1,\"fFrameFillStyle\":1001,\"fFrameLineStyle\":1,\"fFrameLineWidth\":1,\"fFrameBorderSize\":1,\"fFrameBorderMode\":0,\"fX1\":-22.8070169934936,\"fY1\":-4.10779390029376,\"fX2\":152.631581699199,\"fY2\":0.0102042818938687,\"fXtoAbsPixelk\":103.480046204376,\"fXtoPixelk\":103.480046204376,\"fXtoPixel\":4.53719994306564,\"fYtoAbsPixelk\":1.4174496648518,\"fYtoPixelk\":1.4174496648518,\"fYtoPixel\":-138.902441111845,\"fUtoAbsPixelk\":5e-5,\"fUtoPixelk\":5e-5,\"fUtoPixel\":796,\"fVtoAbsPixelk\":572.00005,\"fVtoPixelk\":572,\"fVtoPixel\":-572,\"fAbsPixeltoXk\":-22.8070169934936,\"fPixeltoXk\":-22.8070169934936,\"fPixeltoX\":0.220400249613935,\"fAbsPixeltoYk\":0.010204281893869,\"fPixeltoYk\":-4.10779390029376,\"fPixeltoY\":-0.00719929752130704,\"fXlowNDC\":0,\"fYlowNDC\":0,\"fXUpNDC\":0,\"fYUpNDC\":0,\"fWNDC\":1,\"fHNDC\":1,\"fAbsXlowNDC\":0,\"fAbsYlowNDC\":0,\"fAbsWNDC\":1,\"fAbsHNDC\":1,\"fUxmin\":0,\"fUymin\":-3.57245414427973,\"fUxmax\":100,\"fUymax\":-0.401595551665633,\"fTheta\":30,\"fPhi\":30,\"fAspectRatio\":0,\"fNumber\":0,\"fTickx\":0,\"fTicky\":0,\"fLogx\":0,\"fLogy\":1,\"fLogz\":0,\"fPadPaint\":0,\"fCrosshair\":0,\"fCrosshairPos\":0,\"fBorderSize\":2,\"fBorderMode\":0,\"fModified\":false,\"fGridx\":false,\"fGridy\":false,\"fAbsCoord\":false,\"fEditable\":true,\"fFixedAspectRatio\":false,\"fPrimitives\":{\"_typename\":\"TList\",\"name\":\"TList\",\"arr\":[{\"_typename\":\"TFrame\",\"fUniqueID\":0,\"fBits\":50331656,\"fLineColor\":1,\"fLineStyle\":1,\"fLineWidth\":1,\"fFillColor\":0,\"fFillStyle\":1001,\"fX1\":0,\"fY1\":-3.57245414427973,\"fX2\":100,\"fY2\":-0.401595551665633,\"fBorderSize\":1,\"fBorderMode\":0},{\"_typename\":\"TH1F\",\"fUniqueID\":0,\"fBits\":50332169,\"fName\":\"h_cl3d_DEFCalib_Em_nomatch_pt\",\"fTitle\":\"3D Cluster Pt (GeV)\",\"fLineColor\":1,\"fLineStyle\":1,\"fLineWidth\":1,\"fFillColor\":0,\"fFillStyle\":1001,\"fMarkerColor\":1,\"fMarkerStyle\":1,\"fMarkerSize\":1,\"fNcells\":102,\"fXaxis\":{\"_typename\":\"TAxis\",\"fUniqueID\":0,\"fBits\":50331648,\"fName\":\"xaxis\",\"fTitle\":\" p_{T} [GeV]\",\"fNdivisions\":510,\"fAxisColor\":1,\"fLabelColor\":1,\"fLabelFont\":42,\"fLabelOffset\":0.005,\"fLabelSize\":0.035,\"fTickLength\":0.03,\"fTitleOffset\":1,\"fTitleSize\":0.035,\"fTitleColor\":1,\"fTitleFont\":42,\"fNbins\":100,\"fXmin\":0,\"fXmax\":100,\"fXbins\":[],\"fFirst\":0,\"fLast\":0,\"fBits2\":0,\"fTimeDisplay\":false,\"fTimeFormat\":\"\",\"fLabels\":null,\"fModLabs\":null},\"fYaxis\":{\"_typename\":\"TAxis\",\"fUniqueID\":0,\"fBits\":50331656,\"fName\":\"yaxis\",\"fTitle\":\"\",\"fNdivisions\":510,\"fAxisColor\":1,\"fLabelColor\":1,\"fLabelFont\":42,\"fLabelOffset\":0.005,\"fLabelSize\":0.035,\"fTickLength\":0.03,\"fTitleOffset\":0,\"fTitleSize\":0.035,\"fTitleColor\":1,\"fTitleFont\":42,\"fNbins\":1,\"fXmin\":0,\"fXmax\":1,\"fXbins\":[],\"fFirst\":0,\"fLast\":0,\"fBits2\":0,\"fTimeDisplay\":false,\"fTimeFormat\":\"\",\"fLabels\":null,\"fModLabs\":null},\"fZaxis\":{\"_typename\":\"TAxis\",\"fUniqueID\":0,\"fBits\":50331648,\"fName\":\"zaxis\",\"fTitle\":\"\",\"fNdivisions\":510,\"fAxisColor\":1,\"fLabelColor\":1,\"fLabelFont\":42,\"fLabelOffset\":0.005,\"fLabelSize\":0.035,\"fTickLength\":0.03,\"fTitleOffset\":1,\"fTitleSize\":0.035,\"fTitleColor\":1,\"fTitleFont\":42,\"fNbins\":1,\"fXmin\":0,\"fXmax\":1,\"fXbins\":[],\"fFirst\":0,\"fLast\":0,\"fBits2\":0,\"fTimeDisplay\":false,\"fTimeFormat\":\"\",\"fLabels\":null,\"fModLabs\":null},\"fBarOffset\":0,\"fBarWidth\":1000,\"fEntries\":226771,\"fTsumw\":224472,\"fTsumw2\":224472,\"fTsumwx\":10353279.8821227,\"fTsumwx2\":660025891.153804,\"fMaximum\":0.396647250652313,\"fMinimum\":2.67636816715822e-4,\"fNormFactor\":0,\"fContour\":[],\"fSumw2\":[0,5.449744989785e-8,7.17834218064543e-8,8.77198574466486e-8,8.13095601717012e-8,3.1674410064446e-8,6.03917480113465e-8,5.70972918266986e-8,5.36440666692966e-8,5.05877639437799e-8,4.97542268368208e-8,4.58048486395622e-8,5.86055970678627e-8,4.84840750547879e-8,4.51499266269515e-8,4.4137774425644e-8,5.46363727490099e-8,4.52491572349228e-8,4.49514654110088e-8,4.20539316582462e-8,5.54103714911862e-8,4.36019291425989e-8,4.25500846981028e-8,4.26096230628856e-8,4.56460796668081e-8,4.23317773605659e-8,4.12997790376642e-8,4.47530041950662e-8,4.76902301910173e-8,4.44950046143408e-8,4.26493153060742e-8,4.34431601698447e-8,4.23317773605659e-8,4.74322306102919e-8,4.25302385765086e-8,4.36217752641931e-8,4.44751584927465e-8,4.44553123711522e-8,4.56857719099966e-8,4.50308498973859e-8,4.19943932934634e-8,4.41179283040497e-8,4.25500846981028e-8,4.35423907778161e-8,5.17388389962473e-8,6.38648192903428e-8,4.3463006291439e-8,4.53086955997056e-8,4.64796167737672e-8,4.4812542559849e-8,4.48720809246318e-8,4.51300805053572e-8,4.52491572349228e-8,4.43362356415866e-8,4.653915513855e-8,4.69757698136238e-8,4.5864387004345e-8,4.49514654110088e-8,4.46140813439063e-8,4.29271610083939e-8,4.43957740063694e-8,4.48522348030375e-8,4.32446989539021e-8,4.49911576541974e-8,4.32446989539021e-8,4.34233140482505e-8,4.33240834402792e-8,4.49713115326031e-8,4.46339274655006e-8,4.48522348030375e-8,4.43957740063694e-8,4.38996209665128e-8,4.50110037757916e-8,4.2788238157234e-8,4.42370050336153e-8,4.56460796668081e-8,4.24905463333201e-8,4.34233140482505e-8,4.35820830210046e-8,4.28279304004225e-8,4.36813136289759e-8,4.25897769412914e-8,4.17760859559265e-8,4.12005484296929e-8,4.1359317402447e-8,4.21531622662176e-8,3.99700888908485e-8,3.95731664589632e-8,3.97914737965001e-8,3.86007065008442e-8,3.70328628948973e-8,3.50284046138766e-8,3.453225157402e-8,3.34208687647412e-8,3.23491781986509e-8,3.05630272551672e-8,3.02256431880647e-8,2.69708792466053e-8,2.48274981144247e-8,2.14536574433998e-8,1.86553542986085e-8,4.56262335452138e-8],\"fOption\":\"\",\"fFunctions\":{\"_typename\":\"TList\",\"name\":\"TList\",\"arr\":[],\"opt\":[]},\"fBufferSize\":0,\"fBuffer\":[],\"fBinStatErrOpt\":0,\"fStatOverflows\":2,\"fArray\":[0,0.01223315,0.01611337,0.01969065,0.01825172,0.007110018,0.01355626,0.01281674,0.01204159,0.01135554,0.01116843,0.01028191,0.01315532,0.01088332,0.01013489,0.009907695,0.01226434,0.01015717,0.01009035,0.00943993,0.01243808,0.009787412,0.009551303,0.009564667,0.01024627,0.009502299,0.009270644,0.0100458,0.01070512,0.009987882,0.009573577,0.009751773,0.009502299,0.01064721,0.009546848,0.009791867,0.009983428,0.009978973,0.01025518,0.01010816,0.009426566,0.00990324,0.009551303,0.009774048,0.01161392,0.01433586,0.009756228,0.01017053,0.01043337,0.01005916,0.01007253,0.01013044,0.01015717,0.009952243,0.01044674,0.01054475,0.01029527,0.01009035,0.01001461,0.009635946,0.009965608,0.01006807,0.009707224,0.01009926,0.009707224,0.009747318,0.009725044,0.0100948,0.01001907,0.01006807,0.009965608,0.009854236,0.01010371,0.009604761,0.009929969,0.01024627,0.009537938,0.009747318,0.009782957,0.009613671,0.009805232,0.009560212,0.009377562,0.009248369,0.009284008,0.009462205,0.008972166,0.008883067,0.008932072,0.008664778,0.008312841,0.007862896,0.007751524,0.007502049,0.007261485,0.006860544,0.006784811,0.006054207,0.005573078,0.004815745,0.004187605,0.01024181]},{\"_typename\":\"TH1F\",\"fUniqueID\":0,\"fBits\":50332169,\"fName\":\"h_cl3d_DEFCalib_Em_nomatch_pt\",\"fTitle\":\"3D Cluster Pt (GeV)\",\"fLineColor\":2,\"fLineStyle\":1,\"fLineWidth\":1,\"fFillColor\":0,\"fFillStyle\":1001,\"fMarkerColor\":1,\"fMarkerStyle\":1,\"fMarkerSize\":1,\"fNcells\":102,\"fXaxis\":{\"_typename\":\"TAxis\",\"fUniqueID\":0,\"fBits\":50331648,\"fName\":\"xaxis\",\"fTitle\":\" p_{T} [GeV]\",\"fNdivisions\":510,\"fAxisColor\":1,\"fLabelColor\":1,\"fLabelFont\":42,\"fLabelOffset\":0.005,\"fLabelSize\":0.035,\"fTickLength\":0.03,\"fTitleOffset\":1,\"fTitleSize\":0.035,\"fTitleColor\":1,\"fTitleFont\":42,\"fNbins\":100,\"fXmin\":0,\"fXmax\":100,\"fXbins\":[],\"fFirst\":0,\"fLast\":0,\"fBits2\":0,\"fTimeDisplay\":false,\"fTimeFormat\":\"\",\"fLabels\":null,\"fModLabs\":null},\"fYaxis\":{\"_typename\":\"TAxis\",\"fUniqueID\":0,\"fBits\":50331648,\"fName\":\"yaxis\",\"fTitle\":\"\",\"fNdivisions\":510,\"fAxisColor\":1,\"fLabelColor\":1,\"fLabelFont\":42,\"fLabelOffset\":0.005,\"fLabelSize\":0.035,\"fTickLength\":0.03,\"fTitleOffset\":0,\"fTitleSize\":0.035,\"fTitleColor\":1,\"fTitleFont\":42,\"fNbins\":1,\"fXmin\":0,\"fXmax\":1,\"fXbins\":[],\"fFirst\":0,\"fLast\":0,\"fBits2\":0,\"fTimeDisplay\":false,\"fTimeFormat\":\"\",\"fLabels\":null,\"fModLabs\":null},\"fZaxis\":{\"_typename\":\"TAxis\",\"fUniqueID\":0,\"fBits\":50331648,\"fName\":\"zaxis\",\"fTitle\":\"\",\"fNdivisions\":510,\"fAxisColor\":1,\"fLabelColor\":1,\"fLabelFont\":42,\"fLabelOffset\":0.005,\"fLabelSize\":0.035,\"fTickLength\":0.03,\"fTitleOffset\":1,\"fTitleSize\":0.035,\"fTitleColor\":1,\"fTitleFont\":42,\"fNbins\":1,\"fXmin\":0,\"fXmax\":1,\"fXbins\":[],\"fFirst\":0,\"fLast\":0,\"fBits2\":0,\"fTimeDisplay\":false,\"fTimeFormat\":\"\",\"fLabels\":null,\"fModLabs\":null},\"fBarOffset\":0,\"fBarWidth\":1000,\"fEntries\":1646046,\"fTsumw\":1644019,\"fTsumw2\":1644019,\"fTsumwx\":6738300.63032126,\"fTsumwx2\":261633606.256024,\"fMaximum\":-1111,\"fMinimum\":-1111,\"fNormFactor\":0,\"fContour\":[],\"fSumw2\":[0,1.97912647010167e-7,2.01055685637304e-7,1.02943672214285e-7,4.31345515369332e-8,1.18514200476141e-8,1.10259792969202e-8,5.58051225581181e-9,3.10899983329488e-9,1.91579211434022e-9,1.2283564734665e-9,8.63179413432935e-10,8.10271288220372e-10,5.66819914864662e-10,4.21045080362915e-10,3.7738662739031e-10,4.243749623693e-10,3.59997243579188e-10,3.17448751275378e-10,2.9487955100988e-10,3.95145998091031e-10,2.93029616561888e-10,2.77120180309159e-10,2.76010219640364e-10,3.126389217106e-10,2.81190036094741e-10,2.91549669003494e-10,3.0375923636024e-10,3.34468148196902e-10,3.01169328133051e-10,3.12268934821002e-10,2.93029616561888e-10,2.88959760776306e-10,3.18928698833772e-10,3.00059367464256e-10,3.0819907903542e-10,2.96729485457871e-10,3.07459105256223e-10,3.20408646392165e-10,3.00799341243453e-10,2.94509564120281e-10,3.00059367464256e-10,3.04869197029035e-10,3.04869197029035e-10,3.69986889598343e-10,4.42504319959618e-10,3.02649275691445e-10,3.11158974152207e-10,3.25588462846542e-10,3.0597915769783e-10,2.95989511678675e-10,3.15598816827387e-10,3.08569065925018e-10,2.93399603451486e-10,3.20778633281764e-10,3.07459105256223e-10,3.10049013483412e-10,2.99689380574658e-10,3.2373852839855e-10,3.20408646392165e-10,3.18928698833772e-10,3.12268934821002e-10,3.07829092145822e-10,3.1707876438578e-10,3.17448751275378e-10,2.98209433016265e-10,2.9931939368506e-10,3.04499210139436e-10,3.23368541508952e-10,2.92289642782691e-10,3.06349144587428e-10,3.07089118366625e-10,3.15228829937788e-10,3.20038659502567e-10,3.04499210139436e-10,3.10049013483412e-10,2.91179682113896e-10,3.26698423515337e-10,3.19668672612968e-10,2.99689380574658e-10,3.04129223249838e-10,3.03019262581043e-10,2.93399603451486e-10,3.00429354353855e-10,3.00799341243453e-10,2.92289642782691e-10,2.90809695224298e-10,2.87849800107511e-10,2.83779944321929e-10,2.80820049205142e-10,2.49001176699685e-10,2.66020573621209e-10,2.66020573621209e-10,2.46041281582898e-10,2.51961071816472e-10,2.26801963323784e-10,2.12372474629449e-10,2.01642854831097e-10,1.96833025266319e-10,1.93133156370335e-10,1.62794231423271e-10,7.49963425215842e-10],\"fOption\":\"\",\"fFunctions\":{\"_typename\":\"TList\",\"name\":\"TList\",\"arr\":[],\"opt\":[]},\"fBufferSize\":0,\"fBuffer\":[],\"fBinStatErrOpt\":0,\"fStatOverflows\":2,\"fArray\":[0,0.3253722,0.3305394,0.1692414,0.07091402,0.01948396,0.01812692,0.009174468,0.005111255,0.003149599,0.002019441,0.001419083,0.001332101,9.318627e-4,6.922061e-4,6.204308e-4,6.976805e-4,5.918423e-4,5.218918e-4,4.847876e-4,6.496275e-4,4.817462e-4,4.555908e-4,4.537661e-4,5.139844e-4,4.622818e-4,4.793132e-4,4.993859e-4,5.49872e-4,4.951281e-4,5.133761e-4,4.817462e-4,4.750553e-4,5.243248e-4,4.933033e-4,5.066851e-4,4.878289e-4,5.054686e-4,5.267579e-4,4.945198e-4,4.841793e-4,4.933033e-4,5.012107e-4,5.012107e-4,6.082655e-4,7.274855e-4,4.975612e-4,5.115513e-4,5.352736e-4,5.030356e-4,4.866124e-4,5.188505e-4,5.072934e-4,4.823545e-4,5.273662e-4,5.054686e-4,5.097265e-4,4.92695e-4,5.322323e-4,5.267579e-4,5.243248e-4,5.133761e-4,5.060769e-4,5.212835e-4,5.218918e-4,4.90262e-4,4.920868e-4,5.006025e-4,5.31624e-4,4.805297e-4,5.036438e-4,5.048604e-4,5.182422e-4,5.261496e-4,5.006025e-4,5.097265e-4,4.787049e-4,5.370984e-4,5.255414e-4,4.92695e-4,4.999942e-4,4.981695e-4,4.823545e-4,4.939116e-4,4.945198e-4,4.805297e-4,4.780967e-4,4.732306e-4,4.665396e-4,4.616735e-4,4.093627e-4,4.373429e-4,4.373429e-4,4.044965e-4,4.142288e-4,3.728668e-4,3.491444e-4,3.315047e-4,3.235972e-4,3.175146e-4,2.676368e-4,0.001232954]},{\"_typename\":\"TLegend\",\"fUniqueID\":0,\"fBits\":50331656,\"fLineColor\":1,\"fLineStyle\":1,\"fLineWidth\":1,\"fFillColor\":0,\"fFillStyle\":0,\"fX1\":100.000002091391,\"fY1\":-1.18401519094054,\"fX2\":143.859651764564,\"fY2\":-0.607495445434275,\"fX1NDC\":0.7,\"fY1NDC\":0.71,\"fX2NDC\":0.95,\"fY2NDC\":0.85,\"fBorderSize\":0,\"fInit\":1,\"fShadowColor\":1,\"fCornerRadius\":0,\"fOption\":\"brNDC\",\"fName\":\"TPave\",\"fTextAngle\":0,\"fTextSize\":0.05,\"fTextAlign\":12,\"fTextColor\":1,\"fTextFont\":42,\"fPrimitives\":{\"_typename\":\"TList\",\"name\":\"TList\",\"arr\":[{\"_typename\":\"TLegendEntry\",\"fUniqueID\":0,\"fBits\":50331656,\"fTextAngle\":0,\"fTextSize\":0,\"fTextAlign\":0,\"fTextColor\":0,\"fTextFont\":42,\"fLineColor\":1,\"fLineStyle\":1,\"fLineWidth\":1,\"fFillColor\":0,\"fFillStyle\":0,\"fMarkerColor\":1,\"fMarkerStyle\":21,\"fMarkerSize\":1,\"fObject\":{\"_typename\":\"TH1F\",\"fUniqueID\":0,\"fBits\":50332168,\"fName\":\"h_cl3d_DEFCalib_Em_nomatch_pt\",\"fTitle\":\"3D Cluster Pt (GeV)\",\"fLineColor\":1,\"fLineStyle\":1,\"fLineWidth\":1,\"fFillColor\":0,\"fFillStyle\":1001,\"fMarkerColor\":1,\"fMarkerStyle\":1,\"fMarkerSize\":1,\"fNcells\":102,\"fXaxis\":{\"_typename\":\"TAxis\",\"fUniqueID\":0,\"fBits\":50331648,\"fName\":\"xaxis\",\"fTitle\":\" p_{T} [GeV]\",\"fNdivisions\":510,\"fAxisColor\":1,\"fLabelColor\":1,\"fLabelFont\":42,\"fLabelOffset\":0.005,\"fLabelSize\":0.035,\"fTickLength\":0.03,\"fTitleOffset\":1,\"fTitleSize\":0.035,\"fTitleColor\":1,\"fTitleFont\":42,\"fNbins\":100,\"fXmin\":0,\"fXmax\":100,\"fXbins\":[],\"fFirst\":0,\"fLast\":0,\"fBits2\":0,\"fTimeDisplay\":false,\"fTimeFormat\":\"\",\"fLabels\":null,\"fModLabs\":null},\"fYaxis\":{\"_typename\":\"TAxis\",\"fUniqueID\":0,\"fBits\":50331648,\"fName\":\"yaxis\",\"fTitle\":\"\",\"fNdivisions\":510,\"fAxisColor\":1,\"fLabelColor\":1,\"fLabelFont\":42,\"fLabelOffset\":0.005,\"fLabelSize\":0.035,\"fTickLength\":0.03,\"fTitleOffset\":0,\"fTitleSize\":0.035,\"fTitleColor\":1,\"fTitleFont\":42,\"fNbins\":1,\"fXmin\":0,\"fXmax\":1,\"fXbins\":[],\"fFirst\":0,\"fLast\":0,\"fBits2\":0,\"fTimeDisplay\":false,\"fTimeFormat\":\"\",\"fLabels\":null,\"fModLabs\":null},\"fZaxis\":{\"_typename\":\"TAxis\",\"fUniqueID\":0,\"fBits\":50331648,\"fName\":\"zaxis\",\"fTitle\":\"\",\"fNdivisions\":510,\"fAxisColor\":1,\"fLabelColor\":1,\"fLabelFont\":42,\"fLabelOffset\":0.005,\"fLabelSize\":0.035,\"fTickLength\":0.03,\"fTitleOffset\":1,\"fTitleSize\":0.035,\"fTitleColor\":1,\"fTitleFont\":42,\"fNbins\":1,\"fXmin\":0,\"fXmax\":1,\"fXbins\":[],\"fFirst\":0,\"fLast\":0,\"fBits2\":0,\"fTimeDisplay\":false,\"fTimeFormat\":\"\",\"fLabels\":null,\"fModLabs\":null},\"fBarOffset\":0,\"fBarWidth\":1000,\"fEntries\":226771,\"fTsumw\":224472,\"fTsumw2\":224472,\"fTsumwx\":10353279.8821227,\"fTsumwx2\":660025891.153804,\"fMaximum\":-1111,\"fMinimum\":-1111,\"fNormFactor\":0,\"fContour\":[],\"fSumw2\":[0,2746,3617,4420,4097,1596,3043,2877,2703,2549,2507,2308,2953,2443,2275,2224,2753,2280,2265,2119,2792,2197,2144,2147,2300,2133,2081,2255,2403,2242,2149,2189,2133,2390,2143,2198,2241,2240,2302,2269,2116,2223,2144,2194,2607,3218,2190,2283,2342,2258,2261,2274,2280,2234,2345,2367,2311,2265,2248,2163,2237,2260,2179,2267,2179,2188,2183,2266,2249,2260,2237,2212,2268,2156,2229,2300,2141,2188,2196,2158,2201,2146,2105,2076,2084,2124,2014,1994,2005,1945,1866,1765,1740,1684,1630,1540,1523,1359,1251,1081,940,2299],\"fOption\":\"\",\"fFunctions\":{\"_typename\":\"TList\",\"name\":\"TList\",\"arr\":[],\"opt\":[]},\"fBufferSize\":0,\"fBuffer\":[],\"fBinStatErrOpt\":0,\"fStatOverflows\":2,\"fArray\":[0,2746,3617,4420,4097,1596,3043,2877,2703,2549,2507,2308,2953,2443,2275,2224,2753,2280,2265,2119,2792,2197,2144,2147,2300,2133,2081,2255,2403,2242,2149,2189,2133,2390,2143,2198,2241,2240,2302,2269,2116,2223,2144,2194,2607,3218,2190,2283,2342,2258,2261,2274,2280,2234,2345,2367,2311,2265,2248,2163,2237,2260,2179,2267,2179,2188,2183,2266,2249,2260,2237,2212,2268,2156,2229,2300,2141,2188,2196,2158,2201,2146,2105,2076,2084,2124,2014,1994,2005,1945,1866,1765,1740,1684,1630,1540,1523,1359,1251,1081,940,2299]},\"fLabel\":\"PU0\",\"fOption\":\"l\"},{\"_typename\":\"TLegendEntry\",\"fUniqueID\":0,\"fBits\":50331656,\"fTextAngle\":0,\"fTextSize\":0,\"fTextAlign\":0,\"fTextColor\":0,\"fTextFont\":42,\"fLineColor\":2,\"fLineStyle\":1,\"fLineWidth\":1,\"fFillColor\":0,\"fFillStyle\":0,\"fMarkerColor\":1,\"fMarkerStyle\":21,\"fMarkerSize\":1,\"fObject\":{\"_typename\":\"TH1F\",\"fUniqueID\":0,\"fBits\":50332168,\"fName\":\"h_cl3d_DEFCalib_Em_nomatch_pt\",\"fTitle\":\"3D Cluster Pt (GeV)\",\"fLineColor\":2,\"fLineStyle\":1,\"fLineWidth\":1,\"fFillColor\":0,\"fFillStyle\":1001,\"fMarkerColor\":1,\"fMarkerStyle\":1,\"fMarkerSize\":1,\"fNcells\":102,\"fXaxis\":{\"_typename\":\"TAxis\",\"fUniqueID\":0,\"fBits\":50331648,\"fName\":\"xaxis\",\"fTitle\":\" p_{T} [GeV]\",\"fNdivisions\":510,\"fAxisColor\":1,\"fLabelColor\":1,\"fLabelFont\":42,\"fLabelOffset\":0.005,\"fLabelSize\":0.035,\"fTickLength\":0.03,\"fTitleOffset\":1,\"fTitleSize\":0.035,\"fTitleColor\":1,\"fTitleFont\":42,\"fNbins\":100,\"fXmin\":0,\"fXmax\":100,\"fXbins\":[],\"fFirst\":0,\"fLast\":0,\"fBits2\":0,\"fTimeDisplay\":false,\"fTimeFormat\":\"\",\"fLabels\":null,\"fModLabs\":null},\"fYaxis\":{\"_typename\":\"TAxis\",\"fUniqueID\":0,\"fBits\":50331648,\"fName\":\"yaxis\",\"fTitle\":\"\",\"fNdivisions\":510,\"fAxisColor\":1,\"fLabelColor\":1,\"fLabelFont\":42,\"fLabelOffset\":0.005,\"fLabelSize\":0.035,\"fTickLength\":0.03,\"fTitleOffset\":0,\"fTitleSize\":0.035,\"fTitleColor\":1,\"fTitleFont\":42,\"fNbins\":1,\"fXmin\":0,\"fXmax\":1,\"fXbins\":[],\"fFirst\":0,\"fLast\":0,\"fBits2\":0,\"fTimeDisplay\":false,\"fTimeFormat\":\"\",\"fLabels\":null,\"fModLabs\":null},\"fZaxis\":{\"_typename\":\"TAxis\",\"fUniqueID\":0,\"fBits\":50331648,\"fName\":\"zaxis\",\"fTitle\":\"\",\"fNdivisions\":510,\"fAxisColor\":1,\"fLabelColor\":1,\"fLabelFont\":42,\"fLabelOffset\":0.005,\"fLabelSize\":0.035,\"fTickLength\":0.03,\"fTitleOffset\":1,\"fTitleSize\":0.035,\"fTitleColor\":1,\"fTitleFont\":42,\"fNbins\":1,\"fXmin\":0,\"fXmax\":1,\"fXbins\":[],\"fFirst\":0,\"fLast\":0,\"fBits2\":0,\"fTimeDisplay\":false,\"fTimeFormat\":\"\",\"fLabels\":null,\"fModLabs\":null},\"fBarOffset\":0,\"fBarWidth\":1000,\"fEntries\":1646046,\"fTsumw\":1644019,\"fTsumw2\":1644019,\"fTsumwx\":6738300.63032126,\"fTsumwx2\":261633606.256024,\"fMaximum\":-1111,\"fMinimum\":-1111,\"fNormFactor\":0,\"fContour\":[],\"fSumw2\":[0,534918,543413,278236,116584,32032,29801,15083,8403,5178,3320,2333,2190,1532,1138,1020,1147,973,858,797,1068,792,749,746,845,760,788,821,904,814,844,792,781,862,811,833,802,831,866,813,796,811,824,824,1000,1196,818,841,880,827,800,853,834,793,867,831,838,810,875,866,862,844,832,857,858,806,809,823,874,790,828,830,852,865,823,838,787,883,864,810,822,819,793,812,813,790,786,778,767,759,673,719,719,665,681,613,574,545,532,522,440,2027],\"fOption\":\"\",\"fFunctions\":{\"_typename\":\"TList\",\"name\":\"TList\",\"arr\":[],\"opt\":[]},\"fBufferSize\":0,\"fBuffer\":[],\"fBinStatErrOpt\":0,\"fStatOverflows\":2,\"fArray\":[0,534918,543413,278236,116584,32032,29801,15083,8403,5178,3320,2333,2190,1532,1138,1020,1147,973,858,797,1068,792,749,746,845,760,788,821,904,814,844,792,781,862,811,833,802,831,866,813,796,811,824,824,1000,1196,818,841,880,827,800,853,834,793,867,831,838,810,875,866,862,844,832,857,858,806,809,823,874,790,828,830,852,865,823,838,787,883,864,810,822,819,793,812,813,790,786,778,767,759,673,719,719,665,681,613,574,545,532,522,440,2027]},\"fLabel\":\"PU200\",\"fOption\":\"l\"}],\"opt\":[\"l\",\"l\"]},\"fEntrySeparation\":0.1,\"fMargin\":0.25,\"fNColumns\":1,\"fColumnSeparation\":0},{\"_typename\":\"TPaveText\",\"fUniqueID\":0,\"fBits\":50331657,\"fLineColor\":1,\"fLineStyle\":1,\"fLineWidth\":1,\"fFillColor\":0,\"fFillStyle\":0,\"fX1\":33.7344630424653,\"fY1\":-0.25228208609684,\"fX2\":96.0901016632398,\"fY2\":-0.0103856893809233,\"fX1NDC\":0.322286432160804,\"fY1NDC\":0.936258746027113,\"fX2NDC\":0.677713567839196,\"fY2NDC\":0.995000004768372,\"fBorderSize\":0,\"fInit\":1,\"fShadowColor\":1,\"fCornerRadius\":0,\"fOption\":\"blNDC\",\"fName\":\"title\",\"fTextAngle\":0,\"fTextSize\":0,\"fTextAlign\":22,\"fTextColor\":1,\"fTextFont\":42,\"fLabel\":\"\",\"fLongest\":19,\"fMargin\":0.05,\"fLines\":{\"_typename\":\"TList\",\"name\":\"TList\",\"arr\":[{\"_typename\":\"TLatex\",\"fUniqueID\":0,\"fBits\":50331648,\"fName\":\"\",\"fTitle\":\"3D Cluster Pt (GeV)\",\"fTextAngle\":0,\"fTextSize\":0,\"fTextAlign\":0,\"fTextColor\":0,\"fTextFont\":0,\"fX\":0,\"fY\":0,\"fLineColor\":1,\"fLineStyle\":1,\"fLineWidth\":2,\"fLimitFactorSize\":3,\"fOriginSize\":0.0499300695955753}],\"opt\":[\"\"]}},{\"_typename\":\"TLatex\",\"fUniqueID\":0,\"fBits\":50348040,\"fName\":\"\",\"fTitle\":\"NNDR Calib v1, EGId\",\"fTextAngle\":0,\"fTextSize\":0.03,\"fTextAlign\":11,\"fTextColor\":1,\"fTextFont\":62,\"fX\":0.15,\"fY\":0.85,\"fLineColor\":1,\"fLineStyle\":1,\"fLineWidth\":2,\"fLimitFactorSize\":3,\"fOriginSize\":0.04}],\"opt\":[\"\",\",\",\"SAME,\",\"\",\"blNDC\",\"same\"]},\"fExecs\":null,\"fName\":\"c_8f4016\",\"fTitle\":\"h_cl3d_DEFCalib_Em_nomatch_pt\",\"fNumPaletteColor\":0,\"fNextPaletteColor\":0,\"fDISPLAY\":\"$DISPLAY\",\"fDoubleBuffer\":0,\"fRetained\":true,\"fXsizeUser\":0,\"fYsizeUser\":0,\"fXsizeReal\":20,\"fYsizeReal\":15,\"fWindowTopX\":0,\"fWindowTopY\":0,\"fWindowWidth\":0,\"fWindowHeight\":0,\"fCw\":796,\"fCh\":572,\"fCatt\":{\"_typename\":\"TAttCanvas\",\"fXBetween\":2,\"fYBetween\":2,\"fTitleFromTop\":1.2,\"fXdate\":0.2,\"fYdate\":0.3,\"fAdate\":1},\"kMoveOpaque\":true,\"kResizeOpaque\":true,\"fHighLightColor\":2,\"fBatch\":true,\"kShowEventStatus\":false,\"kAutoExec\":true,\"kMenuBar\":true});\n",
       "       Core.draw(\"root_plot_4\", obj, \"\");\n",
       "     }\n",
       " );\n",
       "</script>\n"
      ],
      "text/plain": [
       "<IPython.core.display.HTML object>"
      ]
     },
     "metadata": {},
     "output_type": "display_data"
    }
   ],
   "source": [
    "for tp in tps:\n",
    "    for tp_sel in tp_select:\n",
    "        hsets, labels, text = hplot.get_histo(histos.HistoSetClusters, sample_type, ['PU0', 'PU200'], tp, tp_sel, ['nomatch'])            \n",
    "#         print hsets\n",
    "        drawSame([his.hcl3d.h_pt for his in hsets], labels, norm=True, text=text, logy=True)\n"
   ]
  },
  {
   "cell_type": "code",
   "execution_count": 12,
   "metadata": {},
   "outputs": [
    {
     "name": "stdout",
     "output_type": "stream",
     "text": [
      "0.0 0.0646218582988\n",
      "0.0 0.207418513298\n",
      "0.0 0.0646218582988\n",
      "0.0 0.207418513298\n"
     ]
    },
    {
     "name": "stderr",
     "output_type": "stream",
     "text": [
      "Error in <THistPainter::PaintInit>: Cannot set Y axis to log scale\n",
      "Error in <THistPainter::PaintInit>: Cannot set Y axis to log scale\n",
      "Error in <THistPainter::PaintInit>: Cannot set Y axis to log scale\n",
      "Error in <THistPainter::PaintInit>: Cannot set Y axis to log scale\n"
     ]
    },
    {
     "data": {
      "text/html": [
       "\n",
       "<div id=\"root_plot_5\"\n",
       "     style=\"width: 796px; height: 572px\">\n",
       "</div>\n",
       "\n",
       "<script>\n",
       " requirejs.config({\n",
       "     paths: {\n",
       "       'JSRootCore' : 'https://root.cern.ch/js/notebook//scripts/JSRootCore',\n",
       "     }\n",
       "   });\n",
       " require(['JSRootCore'],\n",
       "     function(Core) {\n",
       "       var obj = Core.JSONR_unref({\"_typename\":\"TCanvas\",\"fUniqueID\":0,\"fBits\":53673992,\"fLineColor\":1,\"fLineStyle\":1,\"fLineWidth\":1,\"fFillColor\":0,\"fFillStyle\":1001,\"fLeftMargin\":0.13,\"fRightMargin\":0.3,\"fBottomMargin\":0.13,\"fTopMargin\":0.1,\"fXfile\":2,\"fYfile\":2,\"fAfile\":1,\"fXstat\":0.99,\"fYstat\":0.99,\"fAstat\":2,\"fFrameFillColor\":0,\"fFrameLineColor\":1,\"fFrameFillStyle\":1001,\"fFrameLineStyle\":1,\"fFrameLineWidth\":1,\"fFrameBorderSize\":1,\"fFrameBorderMode\":0,\"fX1\":-5.82456135947949,\"fY1\":-0.0109101837386953,\"fX2\":8.2105265359359,\"fY2\":0.0730143077614346,\"fXtoAbsPixelk\":330.340043357658,\"fXtoPixelk\":330.340043357658,\"fXtoPixel\":56.7149992883205,\"fYtoAbsPixelk\":497.640051065433,\"fYtoPixelk\":497.640051065433,\"fYtoPixel\":-6815.65047074624,\"fUtoAbsPixelk\":5e-5,\"fUtoPixelk\":5e-5,\"fUtoPixel\":796,\"fVtoAbsPixelk\":572.00005,\"fVtoPixelk\":572,\"fVtoPixel\":-572,\"fAbsPixeltoXk\":-5.82456135947949,\"fPixeltoXk\":-5.82456135947949,\"fPixeltoX\":0.0176320199691148,\"fAbsPixeltoYk\":0.0730143077614346,\"fPixeltoYk\":-0.0109101837386953,\"fPixeltoY\":-1.46721138986241e-4,\"fXlowNDC\":0,\"fYlowNDC\":0,\"fXUpNDC\":0,\"fYUpNDC\":0,\"fWNDC\":1,\"fHNDC\":1,\"fAbsXlowNDC\":0,\"fAbsYlowNDC\":0,\"fAbsWNDC\":1,\"fAbsHNDC\":1,\"fUxmin\":-4,\"fUymin\":0,\"fUxmax\":4,\"fUymax\":0.0646218582987785,\"fTheta\":30,\"fPhi\":30,\"fAspectRatio\":0,\"fNumber\":0,\"fTickx\":0,\"fTicky\":0,\"fLogx\":0,\"fLogy\":1,\"fLogz\":0,\"fPadPaint\":0,\"fCrosshair\":0,\"fCrosshairPos\":0,\"fBorderSize\":2,\"fBorderMode\":0,\"fModified\":false,\"fGridx\":false,\"fGridy\":false,\"fAbsCoord\":false,\"fEditable\":true,\"fFixedAspectRatio\":false,\"fPrimitives\":{\"_typename\":\"TList\",\"name\":\"TList\",\"arr\":[{\"_typename\":\"TFrame\",\"fUniqueID\":0,\"fBits\":50331656,\"fLineColor\":1,\"fLineStyle\":1,\"fLineWidth\":1,\"fFillColor\":0,\"fFillStyle\":1001,\"fX1\":-4,\"fY1\":0,\"fX2\":4,\"fY2\":0.0646218582987785,\"fBorderSize\":1,\"fBorderMode\":0},{\"_typename\":\"TH1F\",\"fUniqueID\":0,\"fBits\":50332169,\"fName\":\"h_cl3d_DEF_all_nomatch_eta\",\"fTitle\":\"3D Cluster eta\",\"fLineColor\":1,\"fLineStyle\":1,\"fLineWidth\":1,\"fFillColor\":0,\"fFillStyle\":1001,\"fMarkerColor\":1,\"fMarkerStyle\":1,\"fMarkerSize\":1,\"fNcells\":102,\"fXaxis\":{\"_typename\":\"TAxis\",\"fUniqueID\":0,\"fBits\":50331648,\"fName\":\"xaxis\",\"fTitle\":\" #eta\",\"fNdivisions\":510,\"fAxisColor\":1,\"fLabelColor\":1,\"fLabelFont\":42,\"fLabelOffset\":0.005,\"fLabelSize\":0.035,\"fTickLength\":0.03,\"fTitleOffset\":1,\"fTitleSize\":0.035,\"fTitleColor\":1,\"fTitleFont\":42,\"fNbins\":100,\"fXmin\":-4,\"fXmax\":4,\"fXbins\":[],\"fFirst\":0,\"fLast\":0,\"fBits2\":0,\"fTimeDisplay\":false,\"fTimeFormat\":\"\",\"fLabels\":null,\"fModLabs\":null},\"fYaxis\":{\"_typename\":\"TAxis\",\"fUniqueID\":0,\"fBits\":50331656,\"fName\":\"yaxis\",\"fTitle\":\"\",\"fNdivisions\":510,\"fAxisColor\":1,\"fLabelColor\":1,\"fLabelFont\":42,\"fLabelOffset\":0.005,\"fLabelSize\":0.035,\"fTickLength\":0.03,\"fTitleOffset\":0,\"fTitleSize\":0.035,\"fTitleColor\":1,\"fTitleFont\":42,\"fNbins\":1,\"fXmin\":0,\"fXmax\":1,\"fXbins\":[],\"fFirst\":0,\"fLast\":0,\"fBits2\":0,\"fTimeDisplay\":false,\"fTimeFormat\":\"\",\"fLabels\":null,\"fModLabs\":null},\"fZaxis\":{\"_typename\":\"TAxis\",\"fUniqueID\":0,\"fBits\":50331648,\"fName\":\"zaxis\",\"fTitle\":\"\",\"fNdivisions\":510,\"fAxisColor\":1,\"fLabelColor\":1,\"fLabelFont\":42,\"fLabelOffset\":0.005,\"fLabelSize\":0.035,\"fTickLength\":0.03,\"fTitleOffset\":1,\"fTitleSize\":0.035,\"fTitleColor\":1,\"fTitleFont\":42,\"fNbins\":1,\"fXmin\":0,\"fXmax\":1,\"fXbins\":[],\"fFirst\":0,\"fLast\":0,\"fBits2\":0,\"fTimeDisplay\":false,\"fTimeFormat\":\"\",\"fLabels\":null,\"fModLabs\":null},\"fBarOffset\":0,\"fBarWidth\":1000,\"fEntries\":346471,\"fTsumw\":346471,\"fTsumw2\":346471,\"fTsumwx\":-179.025020360947,\"fTsumwx2\":1598541.5698652,\"fMaximum\":0.0646218582987785,\"fMinimum\":0,\"fNormFactor\":0,\"fContour\":[],\"fSumw2\":[0,0,0,0,0,0,0,0,0,0,0,0,0,2.10009560753063e-8,5.58970310453412e-8,5.10987166068738e-8,5.15652193995025e-8,5.26981547530296e-8,5.69300015147335e-8,5.72215657601265e-8,6.28195992716718e-8,6.38442393340529e-8,6.56685984695119e-8,7.10250501777316e-8,7.53152097885141e-8,7.64981275841085e-8,8.23627341200132e-8,8.58031922156504e-8,9.07597843873312e-8,9.46084324265186e-8,9.75657269155046e-8,1.53854287090374e-7,7.3632467572246e-8,3.12390262921057e-9,0,0,0,0,0,0,0,0,0,0,0,0,0,0,0,0,0,0,0,0,0,0,0,0,0,0,0,0,0,0,0,0,0,0,2.89898163990741e-9,7.32742600707632e-8,1.55428734015496e-7,9.75990485435495e-8,9.45667803914625e-8,9.14595385762744e-8,8.64029815204588e-8,8.22211172008223e-8,7.51985840903569e-8,7.56484260689633e-8,6.97171762769688e-8,6.59351714938712e-8,6.33027628783231e-8,6.27113039805259e-8,5.71132704689805e-8,5.72965394232275e-8,5.22982952164906e-8,5.15402281784688e-8,5.15485585854801e-8,5.56221276139707e-8,2.11675642155308e-8,0,0,0,0,0,0,0,0,0,0,0,0,0],\"fOption\":\"\",\"fFunctions\":{\"_typename\":\"TList\",\"name\":\"TList\",\"arr\":[],\"opt\":[]},\"fBufferSize\":0,\"fBuffer\":[],\"fBinStatErrOpt\":0,\"fStatOverflows\":2,\"fArray\":[0,0,0,0,0,0,0,0,0,0,0,0,0,0.007276222,0.0193667,0.01770422,0.01786585,0.01825838,0.01972459,0.01982561,0.02176517,0.02212018,0.02275226,0.02460812,0.02609454,0.02650438,0.0285363,0.02972832,0.03144563,0.03277908,0.03380369,0.05330605,0.02551151,0.001082342,0,0,0,0,0,0,0,0,0,0,0,0,0,0,0,0,0,0,0,0,0,0,0,0,0,0,0,0,0,0,0,0,0,0,0.001004413,0.02538741,0.05385155,0.03381524,0.03276465,0.03168808,0.02993613,0.02848723,0.02605413,0.02620999,0.02415498,0.02284463,0.02193257,0.02172765,0.01978809,0.01985159,0.01811984,0.01785719,0.01786008,0.01927145,0.007333947,0,0,0,0,0,0,0,0,0,0,0,0,0]},{\"_typename\":\"TH1F\",\"fUniqueID\":0,\"fBits\":50332169,\"fName\":\"h_cl3d_DEF_all_nomatch_eta\",\"fTitle\":\"3D Cluster eta\",\"fLineColor\":2,\"fLineStyle\":1,\"fLineWidth\":1,\"fFillColor\":0,\"fFillStyle\":1001,\"fMarkerColor\":1,\"fMarkerStyle\":1,\"fMarkerSize\":1,\"fNcells\":102,\"fXaxis\":{\"_typename\":\"TAxis\",\"fUniqueID\":0,\"fBits\":50331648,\"fName\":\"xaxis\",\"fTitle\":\" #eta\",\"fNdivisions\":510,\"fAxisColor\":1,\"fLabelColor\":1,\"fLabelFont\":42,\"fLabelOffset\":0.005,\"fLabelSize\":0.035,\"fTickLength\":0.03,\"fTitleOffset\":1,\"fTitleSize\":0.035,\"fTitleColor\":1,\"fTitleFont\":42,\"fNbins\":100,\"fXmin\":-4,\"fXmax\":4,\"fXbins\":[],\"fFirst\":0,\"fLast\":0,\"fBits2\":0,\"fTimeDisplay\":false,\"fTimeFormat\":\"\",\"fLabels\":null,\"fModLabs\":null},\"fYaxis\":{\"_typename\":\"TAxis\",\"fUniqueID\":0,\"fBits\":50331648,\"fName\":\"yaxis\",\"fTitle\":\"\",\"fNdivisions\":510,\"fAxisColor\":1,\"fLabelColor\":1,\"fLabelFont\":42,\"fLabelOffset\":0.005,\"fLabelSize\":0.035,\"fTickLength\":0.03,\"fTitleOffset\":0,\"fTitleSize\":0.035,\"fTitleColor\":1,\"fTitleFont\":42,\"fNbins\":1,\"fXmin\":0,\"fXmax\":1,\"fXbins\":[],\"fFirst\":0,\"fLast\":0,\"fBits2\":0,\"fTimeDisplay\":false,\"fTimeFormat\":\"\",\"fLabels\":null,\"fModLabs\":null},\"fZaxis\":{\"_typename\":\"TAxis\",\"fUniqueID\":0,\"fBits\":50331648,\"fName\":\"zaxis\",\"fTitle\":\"\",\"fNdivisions\":510,\"fAxisColor\":1,\"fLabelColor\":1,\"fLabelFont\":42,\"fLabelOffset\":0.005,\"fLabelSize\":0.035,\"fTickLength\":0.03,\"fTitleOffset\":1,\"fTitleSize\":0.035,\"fTitleColor\":1,\"fTitleFont\":42,\"fNbins\":1,\"fXmin\":0,\"fXmax\":1,\"fXbins\":[],\"fFirst\":0,\"fLast\":0,\"fBits2\":0,\"fTimeDisplay\":false,\"fTimeFormat\":\"\",\"fLabels\":null,\"fModLabs\":null},\"fBarOffset\":0,\"fBarWidth\":1000,\"fEntries\":79241009,\"fTsumw\":79241009,\"fTsumw2\":79241009,\"fTsumwx\":125300.456281304,\"fTsumwx2\":416095617.767728,\"fMaximum\":-1111,\"fMinimum\":-1111,\"fNormFactor\":0,\"fContour\":[],\"fSumw2\":[0,0,0,0,0,0,0,0,0,0,0,0,0,2.47301480208911e-11,3.84427637900753e-10,3.19785320460555e-10,3.30012043465897e-10,3.47694886033088e-10,3.57161632052032e-10,3.68313641371492e-10,3.83489770240884e-10,3.76927085484922e-10,3.75579448171659e-10,3.66169238579824e-10,3.57663134049133e-10,3.54235433990829e-10,3.47002115729058e-10,3.31484697948968e-10,3.19302292338229e-10,3.02162677243922e-10,2.88481180398279e-10,2.68301338843302e-10,8.1001092810216e-11,2.19461669439405e-11,0,0,0,0,0,0,0,0,0,0,0,0,0,0,0,0,0,0,0,0,0,0,0,0,0,0,0,0,0,0,0,0,0,0,2.18862861084658e-11,8.11431505369272e-11,2.68545958426518e-10,2.8877469204663e-10,3.02198669448223e-10,3.1935213994861e-10,3.31915489597795e-10,3.47351208259273e-10,3.54431957796616e-10,3.57401314651472e-10,3.66315914775229e-10,3.75830278798979e-10,3.77462031565665e-10,3.84071378781187e-10,3.689374531602e-10,3.58062074189729e-10,3.48160395825887e-10,3.30778231496399e-10,3.20056217538062e-10,3.86594177490641e-10,2.4588249551721e-11,0,0,0,0,0,0,0,0,0,0,0,0,0],\"fOption\":\"\",\"fFunctions\":{\"_typename\":\"TList\",\"name\":\"TList\",\"arr\":[],\"opt\":[]},\"fBufferSize\":0,\"fBuffer\":[],\"fBinStatErrOpt\":0,\"fStatOverflows\":2,\"fArray\":[0,0,0,0,0,0,0,0,0,0,0,0,0,0.001959642,0.03046243,0.02534011,0.02615049,0.02755169,0.02830185,0.02918554,0.03038812,0.02986808,0.02976129,0.02901562,0.02834159,0.02806997,0.0274968,0.02626718,0.02530184,0.02394368,0.02285954,0.02126047,0.006418608,0.001739036,0,0,0,0,0,0,0,0,0,0,0,0,0,0,0,0,0,0,0,0,0,0,0,0,0,0,0,0,0,0,0,0,0,0,0.001734291,0.006429865,0.02127985,0.0228828,0.02394653,0.02530579,0.02630132,0.02752446,0.02808555,0.02832084,0.02902724,0.02978117,0.02991047,0.0304342,0.02923498,0.0283732,0.02758858,0.0262112,0.02536158,0.03063411,0.001948398,0,0,0,0,0,0,0,0,0,0,0,0,0]},{\"_typename\":\"TLegend\",\"fUniqueID\":0,\"fBits\":50331656,\"fLineColor\":1,\"fLineStyle\":1,\"fLineWidth\":1,\"fFillColor\":0,\"fFillStyle\":0,\"fX1\":4.00000016731128,\"fY1\":0.0486762052263969,\"fX2\":7.50877214116513,\"fY2\":0.0604256340364151,\"fX1NDC\":0.7,\"fY1NDC\":0.71,\"fX2NDC\":0.95,\"fY2NDC\":0.85,\"fBorderSize\":0,\"fInit\":1,\"fShadowColor\":1,\"fCornerRadius\":0,\"fOption\":\"brNDC\",\"fName\":\"TPave\",\"fTextAngle\":0,\"fTextSize\":0.05,\"fTextAlign\":12,\"fTextColor\":1,\"fTextFont\":42,\"fPrimitives\":{\"_typename\":\"TList\",\"name\":\"TList\",\"arr\":[{\"_typename\":\"TLegendEntry\",\"fUniqueID\":0,\"fBits\":50331656,\"fTextAngle\":0,\"fTextSize\":0,\"fTextAlign\":0,\"fTextColor\":0,\"fTextFont\":42,\"fLineColor\":1,\"fLineStyle\":1,\"fLineWidth\":1,\"fFillColor\":0,\"fFillStyle\":0,\"fMarkerColor\":1,\"fMarkerStyle\":21,\"fMarkerSize\":1,\"fObject\":{\"_typename\":\"TH1F\",\"fUniqueID\":0,\"fBits\":50332168,\"fName\":\"h_cl3d_DEF_all_nomatch_eta\",\"fTitle\":\"3D Cluster eta\",\"fLineColor\":1,\"fLineStyle\":1,\"fLineWidth\":1,\"fFillColor\":0,\"fFillStyle\":1001,\"fMarkerColor\":1,\"fMarkerStyle\":1,\"fMarkerSize\":1,\"fNcells\":102,\"fXaxis\":{\"_typename\":\"TAxis\",\"fUniqueID\":0,\"fBits\":50331648,\"fName\":\"xaxis\",\"fTitle\":\" #eta\",\"fNdivisions\":510,\"fAxisColor\":1,\"fLabelColor\":1,\"fLabelFont\":42,\"fLabelOffset\":0.005,\"fLabelSize\":0.035,\"fTickLength\":0.03,\"fTitleOffset\":1,\"fTitleSize\":0.035,\"fTitleColor\":1,\"fTitleFont\":42,\"fNbins\":100,\"fXmin\":-4,\"fXmax\":4,\"fXbins\":[],\"fFirst\":0,\"fLast\":0,\"fBits2\":0,\"fTimeDisplay\":false,\"fTimeFormat\":\"\",\"fLabels\":null,\"fModLabs\":null},\"fYaxis\":{\"_typename\":\"TAxis\",\"fUniqueID\":0,\"fBits\":50331648,\"fName\":\"yaxis\",\"fTitle\":\"\",\"fNdivisions\":510,\"fAxisColor\":1,\"fLabelColor\":1,\"fLabelFont\":42,\"fLabelOffset\":0.005,\"fLabelSize\":0.035,\"fTickLength\":0.03,\"fTitleOffset\":0,\"fTitleSize\":0.035,\"fTitleColor\":1,\"fTitleFont\":42,\"fNbins\":1,\"fXmin\":0,\"fXmax\":1,\"fXbins\":[],\"fFirst\":0,\"fLast\":0,\"fBits2\":0,\"fTimeDisplay\":false,\"fTimeFormat\":\"\",\"fLabels\":null,\"fModLabs\":null},\"fZaxis\":{\"_typename\":\"TAxis\",\"fUniqueID\":0,\"fBits\":50331648,\"fName\":\"zaxis\",\"fTitle\":\"\",\"fNdivisions\":510,\"fAxisColor\":1,\"fLabelColor\":1,\"fLabelFont\":42,\"fLabelOffset\":0.005,\"fLabelSize\":0.035,\"fTickLength\":0.03,\"fTitleOffset\":1,\"fTitleSize\":0.035,\"fTitleColor\":1,\"fTitleFont\":42,\"fNbins\":1,\"fXmin\":0,\"fXmax\":1,\"fXbins\":[],\"fFirst\":0,\"fLast\":0,\"fBits2\":0,\"fTimeDisplay\":false,\"fTimeFormat\":\"\",\"fLabels\":null,\"fModLabs\":null},\"fBarOffset\":0,\"fBarWidth\":1000,\"fEntries\":346471,\"fTsumw\":346471,\"fTsumw2\":346471,\"fTsumwx\":-179.025020360947,\"fTsumwx2\":1598541.5698652,\"fMaximum\":-1111,\"fMinimum\":-1111,\"fNormFactor\":0,\"fContour\":[],\"fSumw2\":[0,0,0,0,0,0,0,0,0,0,0,0,0,2521,6710,6134,6190,6326,6834,6869,7541,7664,7883,8526,9041,9183,9887,10300,10895,11357,11712,18469,8839,375,0,0,0,0,0,0,0,0,0,0,0,0,0,0,0,0,0,0,0,0,0,0,0,0,0,0,0,0,0,0,0,0,0,0,348,8796,18658,11716,11352,10979,10372,9870,9027,9081,8369,7915,7599,7528,6856,6878,6278,6187,6188,6677,2541,0,0,0,0,0,0,0,0,0,0,0,0,0],\"fOption\":\"\",\"fFunctions\":{\"_typename\":\"TList\",\"name\":\"TList\",\"arr\":[],\"opt\":[]},\"fBufferSize\":0,\"fBuffer\":[],\"fBinStatErrOpt\":0,\"fStatOverflows\":2,\"fArray\":[0,0,0,0,0,0,0,0,0,0,0,0,0,2521,6710,6134,6190,6326,6834,6869,7541,7664,7883,8526,9041,9183,9887,10300,10895,11357,11712,18469,8839,375,0,0,0,0,0,0,0,0,0,0,0,0,0,0,0,0,0,0,0,0,0,0,0,0,0,0,0,0,0,0,0,0,0,0,348,8796,18658,11716,11352,10979,10372,9870,9027,9081,8369,7915,7599,7528,6856,6878,6278,6187,6188,6677,2541,0,0,0,0,0,0,0,0,0,0,0,0,0]},\"fLabel\":\"PU0\",\"fOption\":\"l\"},{\"_typename\":\"TLegendEntry\",\"fUniqueID\":0,\"fBits\":50331656,\"fTextAngle\":0,\"fTextSize\":0,\"fTextAlign\":0,\"fTextColor\":0,\"fTextFont\":42,\"fLineColor\":2,\"fLineStyle\":1,\"fLineWidth\":1,\"fFillColor\":0,\"fFillStyle\":0,\"fMarkerColor\":1,\"fMarkerStyle\":21,\"fMarkerSize\":1,\"fObject\":{\"_typename\":\"TH1F\",\"fUniqueID\":0,\"fBits\":50332168,\"fName\":\"h_cl3d_DEF_all_nomatch_eta\",\"fTitle\":\"3D Cluster eta\",\"fLineColor\":2,\"fLineStyle\":1,\"fLineWidth\":1,\"fFillColor\":0,\"fFillStyle\":1001,\"fMarkerColor\":1,\"fMarkerStyle\":1,\"fMarkerSize\":1,\"fNcells\":102,\"fXaxis\":{\"_typename\":\"TAxis\",\"fUniqueID\":0,\"fBits\":50331648,\"fName\":\"xaxis\",\"fTitle\":\" #eta\",\"fNdivisions\":510,\"fAxisColor\":1,\"fLabelColor\":1,\"fLabelFont\":42,\"fLabelOffset\":0.005,\"fLabelSize\":0.035,\"fTickLength\":0.03,\"fTitleOffset\":1,\"fTitleSize\":0.035,\"fTitleColor\":1,\"fTitleFont\":42,\"fNbins\":100,\"fXmin\":-4,\"fXmax\":4,\"fXbins\":[],\"fFirst\":0,\"fLast\":0,\"fBits2\":0,\"fTimeDisplay\":false,\"fTimeFormat\":\"\",\"fLabels\":null,\"fModLabs\":null},\"fYaxis\":{\"_typename\":\"TAxis\",\"fUniqueID\":0,\"fBits\":50331648,\"fName\":\"yaxis\",\"fTitle\":\"\",\"fNdivisions\":510,\"fAxisColor\":1,\"fLabelColor\":1,\"fLabelFont\":42,\"fLabelOffset\":0.005,\"fLabelSize\":0.035,\"fTickLength\":0.03,\"fTitleOffset\":0,\"fTitleSize\":0.035,\"fTitleColor\":1,\"fTitleFont\":42,\"fNbins\":1,\"fXmin\":0,\"fXmax\":1,\"fXbins\":[],\"fFirst\":0,\"fLast\":0,\"fBits2\":0,\"fTimeDisplay\":false,\"fTimeFormat\":\"\",\"fLabels\":null,\"fModLabs\":null},\"fZaxis\":{\"_typename\":\"TAxis\",\"fUniqueID\":0,\"fBits\":50331648,\"fName\":\"zaxis\",\"fTitle\":\"\",\"fNdivisions\":510,\"fAxisColor\":1,\"fLabelColor\":1,\"fLabelFont\":42,\"fLabelOffset\":0.005,\"fLabelSize\":0.035,\"fTickLength\":0.03,\"fTitleOffset\":1,\"fTitleSize\":0.035,\"fTitleColor\":1,\"fTitleFont\":42,\"fNbins\":1,\"fXmin\":0,\"fXmax\":1,\"fXbins\":[],\"fFirst\":0,\"fLast\":0,\"fBits2\":0,\"fTimeDisplay\":false,\"fTimeFormat\":\"\",\"fLabels\":null,\"fModLabs\":null},\"fBarOffset\":0,\"fBarWidth\":1000,\"fEntries\":79241009,\"fTsumw\":79241009,\"fTsumw2\":79241009,\"fTsumwx\":125300.456281304,\"fTsumwx2\":416095617.767728,\"fMaximum\":-1111,\"fMinimum\":-1111,\"fNormFactor\":0,\"fContour\":[],\"fSumw2\":[0,0,0,0,0,0,0,0,0,0,0,0,0,155284,2413874,2007976,2072191,2183224,2242667,2312692,2407985,2366777,2358315,2299227,2245816,2224293,2178874,2081438,2004943,1897321,1811413,1684701,508617,137803,0,0,0,0,0,0,0,0,0,0,0,0,0,0,0,0,0,0,0,0,0,0,0,0,0,0,0,0,0,0,0,0,0,0,137427,509509,1686237,1813256,1897547,2005256,2084143,2181066,2225527,2244172,2300148,2359890,2370136,2411637,2316609,2248321,2186147,2077002,2009677,2427478,154393,0,0,0,0,0,0,0,0,0,0,0,0,0],\"fOption\":\"\",\"fFunctions\":{\"_typename\":\"TList\",\"name\":\"TList\",\"arr\":[],\"opt\":[]},\"fBufferSize\":0,\"fBuffer\":[],\"fBinStatErrOpt\":0,\"fStatOverflows\":2,\"fArray\":[0,0,0,0,0,0,0,0,0,0,0,0,0,155284,2413874,2007976,2072191,2183224,2242667,2312692,2407985,2366777,2358315,2299227,2245816,2224293,2178874,2081438,2004943,1897321,1811413,1684701,508617,137803,0,0,0,0,0,0,0,0,0,0,0,0,0,0,0,0,0,0,0,0,0,0,0,0,0,0,0,0,0,0,0,0,0,0,137427,509509,1686237,1813256,1897547,2005256,2084143,2181066,2225527,2244172,2300148,2359890,2370136,2411637,2316609,2248321,2186147,2077002,2009677,2427478,154393,0,0,0,0,0,0,0,0,0,0,0,0,0]},\"fLabel\":\"PU200\",\"fOption\":\"l\"}],\"opt\":[\"l\",\"l\"]},\"fEntrySeparation\":0.1,\"fMargin\":0.25,\"fNColumns\":1,\"fColumnSeparation\":0},{\"_typename\":\"TPaveText\",\"fUniqueID\":0,\"fBits\":50331657,\"fLineColor\":1,\"fLineStyle\":1,\"fLineWidth\":1,\"fFillColor\":0,\"fFillStyle\":0,\"fX1\":-0.66649023771464,\"fY1\":0.0679788386028285,\"fX2\":3.05245541417106,\"fY2\":0.0725946857041171,\"fX1NDC\":0.36751256281407,\"fY1NDC\":0.940000003948808,\"fX2NDC\":0.63248743718593,\"fY2NDC\":0.995000004768372,\"fBorderSize\":0,\"fInit\":1,\"fShadowColor\":1,\"fCornerRadius\":0,\"fOption\":\"blNDC\",\"fName\":\"title\",\"fTextAngle\":0,\"fTextSize\":0,\"fTextAlign\":22,\"fTextColor\":1,\"fTextFont\":42,\"fLabel\":\"\",\"fLongest\":14,\"fMargin\":0.05,\"fLines\":{\"_typename\":\"TList\",\"name\":\"TList\",\"arr\":[{\"_typename\":\"TLatex\",\"fUniqueID\":0,\"fBits\":50331648,\"fName\":\"\",\"fTitle\":\"3D Cluster eta\",\"fTextAngle\":0,\"fTextSize\":0,\"fTextAlign\":0,\"fTextColor\":0,\"fTextFont\":0,\"fX\":0,\"fY\":0,\"fLineColor\":1,\"fLineStyle\":1,\"fLineWidth\":2,\"fLimitFactorSize\":3,\"fOriginSize\":0.0467500016093254}],\"opt\":[\"\"]}},{\"_typename\":\"TLatex\",\"fUniqueID\":0,\"fBits\":50348040,\"fName\":\"\",\"fTitle\":\"NNDR\",\"fTextAngle\":0,\"fTextSize\":0.03,\"fTextAlign\":11,\"fTextColor\":1,\"fTextFont\":62,\"fX\":0.15,\"fY\":0.85,\"fLineColor\":1,\"fLineStyle\":1,\"fLineWidth\":2,\"fLimitFactorSize\":3,\"fOriginSize\":0.04}],\"opt\":[\"\",\",\",\"SAME,\",\"\",\"blNDC\",\"same\"]},\"fExecs\":null,\"fName\":\"c_674efd\",\"fTitle\":\"h_cl3d_DEF_all_nomatch_eta\",\"fNumPaletteColor\":0,\"fNextPaletteColor\":0,\"fDISPLAY\":\"$DISPLAY\",\"fDoubleBuffer\":0,\"fRetained\":true,\"fXsizeUser\":0,\"fYsizeUser\":0,\"fXsizeReal\":20,\"fYsizeReal\":15,\"fWindowTopX\":0,\"fWindowTopY\":0,\"fWindowWidth\":0,\"fWindowHeight\":0,\"fCw\":796,\"fCh\":572,\"fCatt\":{\"_typename\":\"TAttCanvas\",\"fXBetween\":2,\"fYBetween\":2,\"fTitleFromTop\":1.2,\"fXdate\":0.2,\"fYdate\":0.3,\"fAdate\":1},\"kMoveOpaque\":true,\"kResizeOpaque\":true,\"fHighLightColor\":2,\"fBatch\":true,\"kShowEventStatus\":false,\"kAutoExec\":true,\"kMenuBar\":true});\n",
       "       Core.draw(\"root_plot_5\", obj, \"\");\n",
       "     }\n",
       " );\n",
       "</script>\n"
      ],
      "text/plain": [
       "<IPython.core.display.HTML object>"
      ]
     },
     "metadata": {},
     "output_type": "display_data"
    },
    {
     "data": {
      "text/html": [
       "\n",
       "<div id=\"root_plot_6\"\n",
       "     style=\"width: 796px; height: 572px\">\n",
       "</div>\n",
       "\n",
       "<script>\n",
       " requirejs.config({\n",
       "     paths: {\n",
       "       'JSRootCore' : 'https://root.cern.ch/js/notebook//scripts/JSRootCore',\n",
       "     }\n",
       "   });\n",
       " require(['JSRootCore'],\n",
       "     function(Core) {\n",
       "       var obj = Core.JSONR_unref({\"_typename\":\"TCanvas\",\"fUniqueID\":0,\"fBits\":53673992,\"fLineColor\":1,\"fLineStyle\":1,\"fLineWidth\":1,\"fFillColor\":0,\"fFillStyle\":1001,\"fLeftMargin\":0.13,\"fRightMargin\":0.3,\"fBottomMargin\":0.13,\"fTopMargin\":0.1,\"fXfile\":2,\"fYfile\":2,\"fAfile\":1,\"fXstat\":0.99,\"fYstat\":0.99,\"fAstat\":2,\"fFrameFillColor\":0,\"fFrameLineColor\":1,\"fFrameFillStyle\":1001,\"fFrameLineStyle\":1,\"fFrameLineWidth\":1,\"fFrameBorderSize\":1,\"fFrameBorderMode\":0,\"fX1\":-5.82456135947949,\"fY1\":-0.035018709620292,\"fX2\":8.2105265359359,\"fY2\":0.234355983626181,\"fXtoAbsPixelk\":330.340043357658,\"fXtoPixelk\":330.340043357658,\"fXtoPixel\":56.7149992883205,\"fYtoAbsPixelk\":497.640051065433,\"fYtoPixelk\":497.640051065433,\"fYtoPixel\":-2123.4362927947,\"fUtoAbsPixelk\":5e-5,\"fUtoPixelk\":5e-5,\"fUtoPixel\":796,\"fVtoAbsPixelk\":572.00005,\"fVtoPixelk\":572,\"fVtoPixel\":-572,\"fAbsPixeltoXk\":-5.82456135947949,\"fPixeltoXk\":-5.82456135947949,\"fPixeltoX\":0.0176320199691148,\"fAbsPixeltoYk\":0.234355983626181,\"fPixeltoYk\":-0.035018709620292,\"fPixeltoY\":-4.70934778402925e-4,\"fXlowNDC\":0,\"fYlowNDC\":0,\"fXUpNDC\":0,\"fYUpNDC\":0,\"fWNDC\":1,\"fHNDC\":1,\"fAbsXlowNDC\":0,\"fAbsYlowNDC\":0,\"fAbsWNDC\":1,\"fAbsHNDC\":1,\"fUxmin\":-4,\"fUymin\":0,\"fUxmax\":4,\"fUymax\":0.207418513298035,\"fTheta\":30,\"fPhi\":30,\"fAspectRatio\":0,\"fNumber\":0,\"fTickx\":0,\"fTicky\":0,\"fLogx\":0,\"fLogy\":1,\"fLogz\":0,\"fPadPaint\":0,\"fCrosshair\":0,\"fCrosshairPos\":0,\"fBorderSize\":2,\"fBorderMode\":0,\"fModified\":false,\"fGridx\":false,\"fGridy\":false,\"fAbsCoord\":false,\"fEditable\":true,\"fFixedAspectRatio\":false,\"fPrimitives\":{\"_typename\":\"TList\",\"name\":\"TList\",\"arr\":[{\"_typename\":\"TFrame\",\"fUniqueID\":0,\"fBits\":50331656,\"fLineColor\":1,\"fLineStyle\":1,\"fLineWidth\":1,\"fFillColor\":0,\"fFillStyle\":1001,\"fX1\":-4,\"fY1\":0,\"fX2\":4,\"fY2\":0.207418513298035,\"fBorderSize\":1,\"fBorderMode\":0},{\"_typename\":\"TH1F\",\"fUniqueID\":0,\"fBits\":50332169,\"fName\":\"h_cl3d_DEF_Em_nomatch_eta\",\"fTitle\":\"3D Cluster eta\",\"fLineColor\":1,\"fLineStyle\":1,\"fLineWidth\":1,\"fFillColor\":0,\"fFillStyle\":1001,\"fMarkerColor\":1,\"fMarkerStyle\":1,\"fMarkerSize\":1,\"fNcells\":102,\"fXaxis\":{\"_typename\":\"TAxis\",\"fUniqueID\":0,\"fBits\":50331648,\"fName\":\"xaxis\",\"fTitle\":\" #eta\",\"fNdivisions\":510,\"fAxisColor\":1,\"fLabelColor\":1,\"fLabelFont\":42,\"fLabelOffset\":0.005,\"fLabelSize\":0.035,\"fTickLength\":0.03,\"fTitleOffset\":1,\"fTitleSize\":0.035,\"fTitleColor\":1,\"fTitleFont\":42,\"fNbins\":100,\"fXmin\":-4,\"fXmax\":4,\"fXbins\":[],\"fFirst\":0,\"fLast\":0,\"fBits2\":0,\"fTimeDisplay\":false,\"fTimeFormat\":\"\",\"fLabels\":null,\"fModLabs\":null},\"fYaxis\":{\"_typename\":\"TAxis\",\"fUniqueID\":0,\"fBits\":50331656,\"fName\":\"yaxis\",\"fTitle\":\"\",\"fNdivisions\":510,\"fAxisColor\":1,\"fLabelColor\":1,\"fLabelFont\":42,\"fLabelOffset\":0.005,\"fLabelSize\":0.035,\"fTickLength\":0.03,\"fTitleOffset\":0,\"fTitleSize\":0.035,\"fTitleColor\":1,\"fTitleFont\":42,\"fNbins\":1,\"fXmin\":0,\"fXmax\":1,\"fXbins\":[],\"fFirst\":0,\"fLast\":0,\"fBits2\":0,\"fTimeDisplay\":false,\"fTimeFormat\":\"\",\"fLabels\":null,\"fModLabs\":null},\"fZaxis\":{\"_typename\":\"TAxis\",\"fUniqueID\":0,\"fBits\":50331648,\"fName\":\"zaxis\",\"fTitle\":\"\",\"fNdivisions\":510,\"fAxisColor\":1,\"fLabelColor\":1,\"fLabelFont\":42,\"fLabelOffset\":0.005,\"fLabelSize\":0.035,\"fTickLength\":0.03,\"fTitleOffset\":1,\"fTitleSize\":0.035,\"fTitleColor\":1,\"fTitleFont\":42,\"fNbins\":1,\"fXmin\":0,\"fXmax\":1,\"fXbins\":[],\"fFirst\":0,\"fLast\":0,\"fBits2\":0,\"fTimeDisplay\":false,\"fTimeFormat\":\"\",\"fLabels\":null,\"fModLabs\":null},\"fBarOffset\":0,\"fBarWidth\":1000,\"fEntries\":226771,\"fTsumw\":226771,\"fTsumw2\":226771,\"fTsumwx\":-1073.85667526722,\"fTsumwx2\":1121742.48478191,\"fMaximum\":0.207418513298035,\"fMinimum\":0,\"fNormFactor\":0,\"fContour\":[],\"fSumw2\":[0,0,0,0,0,0,0,0,0,0,0,0,0,1.43704182363962e-8,1.02654178443756e-7,1.0298475640048e-7,1.04093164843612e-7,1.08449015567499e-7,1.14379973026364e-7,1.11424217178012e-7,1.15157803512772e-7,1.11696457848254e-7,1.11424217178012e-7,1.16149537382943e-7,1.15799513664059e-7,1.18852498323212e-7,1.22099940603968e-7,1.23363915144381e-7,1.22761096517415e-7,1.30306052235577e-7,1.3059773866798e-7,1.15021683177651e-7,1.11210313794249e-7,7.29216081007929e-9,0,0,0,0,0,0,0,0,0,0,0,0,0,0,0,0,0,0,0,0,0,0,0,0,0,0,0,0,0,0,0,0,0,0,6.76712523175358e-9,1.08682364713422e-7,1.15255032323573e-7,1.29489330224848e-7,1.28672608214119e-7,1.23752830387586e-7,1.23908396484867e-7,1.20427605058189e-7,1.17277391588235e-7,1.16694018723429e-7,1.14341081502043e-7,1.11638120561774e-7,1.11229759556409e-7,1.15313369610054e-7,1.11190868032089e-7,1.1494390012901e-7,1.08157329135096e-7,1.02440275059994e-7,1.0389870722201e-7,1.01331866616862e-7,1.42342979012748e-8,0,0,0,0,0,0,0,0,0,0,0,0,0],\"fOption\":\"\",\"fFunctions\":{\"_typename\":\"TList\",\"name\":\"TList\",\"arr\":[],\"opt\":[]},\"fBufferSize\":0,\"fBuffer\":[],\"fBinStatErrOpt\":0,\"fStatOverflows\":2,\"fArray\":[0,0,0,0,0,0,0,0,0,0,0,0,0,0.003258794,0.02327899,0.02335396,0.02360531,0.02459309,0.02593806,0.02526778,0.02611445,0.02532952,0.02526778,0.02633935,0.02625997,0.0269523,0.02768872,0.02797536,0.02783866,0.02954963,0.02961578,0.02608358,0.02521927,0.001653651,0,0,0,0,0,0,0,0,0,0,0,0,0,0,0,0,0,0,0,0,0,0,0,0,0,0,0,0,0,0,0,0,0,0,0.001534588,0.02464601,0.0261365,0.02936443,0.02917922,0.02806355,0.02809883,0.02730949,0.02659511,0.02646282,0.02592924,0.02531629,0.02522368,0.02614973,0.02521486,0.02606594,0.02452695,0.02323048,0.02356121,0.02297913,0.003227926,0,0,0,0,0,0,0,0,0,0,0,0,0]},{\"_typename\":\"TH1F\",\"fUniqueID\":0,\"fBits\":50332169,\"fName\":\"h_cl3d_DEF_Em_nomatch_eta\",\"fTitle\":\"3D Cluster eta\",\"fLineColor\":2,\"fLineStyle\":1,\"fLineWidth\":1,\"fFillColor\":0,\"fFillStyle\":1001,\"fMarkerColor\":1,\"fMarkerStyle\":1,\"fMarkerSize\":1,\"fNcells\":102,\"fXaxis\":{\"_typename\":\"TAxis\",\"fUniqueID\":0,\"fBits\":50331648,\"fName\":\"xaxis\",\"fTitle\":\" #eta\",\"fNdivisions\":510,\"fAxisColor\":1,\"fLabelColor\":1,\"fLabelFont\":42,\"fLabelOffset\":0.005,\"fLabelSize\":0.035,\"fTickLength\":0.03,\"fTitleOffset\":1,\"fTitleSize\":0.035,\"fTitleColor\":1,\"fTitleFont\":42,\"fNbins\":100,\"fXmin\":-4,\"fXmax\":4,\"fXbins\":[],\"fFirst\":0,\"fLast\":0,\"fBits2\":0,\"fTimeDisplay\":false,\"fTimeFormat\":\"\",\"fLabels\":null,\"fModLabs\":null},\"fYaxis\":{\"_typename\":\"TAxis\",\"fUniqueID\":0,\"fBits\":50331648,\"fName\":\"yaxis\",\"fTitle\":\"\",\"fNdivisions\":510,\"fAxisColor\":1,\"fLabelColor\":1,\"fLabelFont\":42,\"fLabelOffset\":0.005,\"fLabelSize\":0.035,\"fTickLength\":0.03,\"fTitleOffset\":0,\"fTitleSize\":0.035,\"fTitleColor\":1,\"fTitleFont\":42,\"fNbins\":1,\"fXmin\":0,\"fXmax\":1,\"fXbins\":[],\"fFirst\":0,\"fLast\":0,\"fBits2\":0,\"fTimeDisplay\":false,\"fTimeFormat\":\"\",\"fLabels\":null,\"fModLabs\":null},\"fZaxis\":{\"_typename\":\"TAxis\",\"fUniqueID\":0,\"fBits\":50331648,\"fName\":\"zaxis\",\"fTitle\":\"\",\"fNdivisions\":510,\"fAxisColor\":1,\"fLabelColor\":1,\"fLabelFont\":42,\"fLabelOffset\":0.005,\"fLabelSize\":0.035,\"fTickLength\":0.03,\"fTitleOffset\":1,\"fTitleSize\":0.035,\"fTitleColor\":1,\"fTitleFont\":42,\"fNbins\":1,\"fXmin\":0,\"fXmax\":1,\"fXbins\":[],\"fFirst\":0,\"fLast\":0,\"fBits2\":0,\"fTimeDisplay\":false,\"fTimeFormat\":\"\",\"fLabels\":null,\"fModLabs\":null},\"fBarOffset\":0,\"fBarWidth\":1000,\"fEntries\":1646046,\"fTsumw\":1646046,\"fTsumw2\":1646046,\"fTsumwx\":-1587.95775508881,\"fTsumwx2\":6416638.39931908,\"fMaximum\":-1111,\"fMinimum\":-1111,\"fNormFactor\":0,\"fContour\":[],\"fSumw2\":[0,0,0,0,0,0,0,0,0,0,0,0,0,4.64666961539165e-10,3.00162308562806e-8,8.41752135966937e-9,1.16247937153289e-8,5.43501642226032e-9,3.06813062055209e-9,4.45253552343804e-9,5.5811706055562e-9,6.73453379444412e-9,7.75281508664949e-9,7.90856525167691e-9,8.04106361481636e-9,8.22228003905443e-9,7.93956765419422e-9,7.59854122650384e-9,7.01060280733633e-9,6.81536148672139e-9,6.33260979038046e-9,4.64666961539165e-9,1.04953097579037e-7,5.08598104058631e-8,0,0,0,0,0,0,0,0,0,0,0,0,0,0,0,0,0,0,0,0,0,0,0,0,0,0,0,0,0,0,0,0,0,0,5.07210377469761e-8,1.05008459012104e-7,4.65737282578453e-9,6.35659974470933e-9,6.78435908420408e-9,7.06264255441896e-9,7.61330427532161e-9,7.89823111750448e-9,8.33189567652633e-9,7.92960259624223e-9,7.91631585230624e-9,7.78713917515079e-9,6.67289806562995e-9,5.54426298351179e-9,4.4455230752496e-9,3.08067921204719e-9,5.49369954131094e-9,1.17052523313857e-8,8.25586597511484e-9,2.98962810846362e-8,4.79430010356931e-10,0,0,0,0,0,0,0,0,0,0,0,0,0],\"fOption\":\"\",\"fFunctions\":{\"_typename\":\"TList\",\"name\":\"TList\",\"arr\":[],\"opt\":[]},\"fBufferSize\":0,\"fBuffer\":[],\"fBinStatErrOpt\":0,\"fStatOverflows\":2,\"fArray\":[0,0,0,0,0,0,0,0,0,0,0,0,0,7.648632e-4,0.0494081,0.01385563,0.01913494,0.008946287,0.005050284,0.007329078,0.009186864,0.01108535,0.01276149,0.01301786,0.01323596,0.01353425,0.01306889,0.01250755,0.01153977,0.0112184,0.01042377,0.007648632,0.1727576,0.08371758,0,0,0,0,0,0,0,0,0,0,0,0,0,0,0,0,0,0,0,0,0,0,0,0,0,0,0,0,0,0,0,0,0,0,0.08348916,0.1728488,0.00766625,0.01046326,0.01116737,0.01162543,0.01253185,0.01300085,0.01371468,0.01305249,0.01303062,0.01281799,0.0109839,0.009126112,0.007317536,0.00507094,0.009042882,0.01926738,0.01358953,0.04921065,7.891639e-4,0,0,0,0,0,0,0,0,0,0,0,0,0]},{\"_typename\":\"TLegend\",\"fUniqueID\":0,\"fBits\":50331656,\"fLineColor\":1,\"fLineStyle\":1,\"fLineWidth\":1,\"fFillColor\":0,\"fFillStyle\":0,\"fX1\":4.00000016731128,\"fY1\":0.156237322584704,\"fX2\":7.50877214116513,\"fY2\":0.19394977963921,\"fX1NDC\":0.7,\"fY1NDC\":0.71,\"fX2NDC\":0.95,\"fY2NDC\":0.85,\"fBorderSize\":0,\"fInit\":1,\"fShadowColor\":1,\"fCornerRadius\":0,\"fOption\":\"brNDC\",\"fName\":\"TPave\",\"fTextAngle\":0,\"fTextSize\":0.05,\"fTextAlign\":12,\"fTextColor\":1,\"fTextFont\":42,\"fPrimitives\":{\"_typename\":\"TList\",\"name\":\"TList\",\"arr\":[{\"_typename\":\"TLegendEntry\",\"fUniqueID\":0,\"fBits\":50331656,\"fTextAngle\":0,\"fTextSize\":0,\"fTextAlign\":0,\"fTextColor\":0,\"fTextFont\":42,\"fLineColor\":1,\"fLineStyle\":1,\"fLineWidth\":1,\"fFillColor\":0,\"fFillStyle\":0,\"fMarkerColor\":1,\"fMarkerStyle\":21,\"fMarkerSize\":1,\"fObject\":{\"_typename\":\"TH1F\",\"fUniqueID\":0,\"fBits\":50332168,\"fName\":\"h_cl3d_DEF_Em_nomatch_eta\",\"fTitle\":\"3D Cluster eta\",\"fLineColor\":1,\"fLineStyle\":1,\"fLineWidth\":1,\"fFillColor\":0,\"fFillStyle\":1001,\"fMarkerColor\":1,\"fMarkerStyle\":1,\"fMarkerSize\":1,\"fNcells\":102,\"fXaxis\":{\"_typename\":\"TAxis\",\"fUniqueID\":0,\"fBits\":50331648,\"fName\":\"xaxis\",\"fTitle\":\" #eta\",\"fNdivisions\":510,\"fAxisColor\":1,\"fLabelColor\":1,\"fLabelFont\":42,\"fLabelOffset\":0.005,\"fLabelSize\":0.035,\"fTickLength\":0.03,\"fTitleOffset\":1,\"fTitleSize\":0.035,\"fTitleColor\":1,\"fTitleFont\":42,\"fNbins\":100,\"fXmin\":-4,\"fXmax\":4,\"fXbins\":[],\"fFirst\":0,\"fLast\":0,\"fBits2\":0,\"fTimeDisplay\":false,\"fTimeFormat\":\"\",\"fLabels\":null,\"fModLabs\":null},\"fYaxis\":{\"_typename\":\"TAxis\",\"fUniqueID\":0,\"fBits\":50331648,\"fName\":\"yaxis\",\"fTitle\":\"\",\"fNdivisions\":510,\"fAxisColor\":1,\"fLabelColor\":1,\"fLabelFont\":42,\"fLabelOffset\":0.005,\"fLabelSize\":0.035,\"fTickLength\":0.03,\"fTitleOffset\":0,\"fTitleSize\":0.035,\"fTitleColor\":1,\"fTitleFont\":42,\"fNbins\":1,\"fXmin\":0,\"fXmax\":1,\"fXbins\":[],\"fFirst\":0,\"fLast\":0,\"fBits2\":0,\"fTimeDisplay\":false,\"fTimeFormat\":\"\",\"fLabels\":null,\"fModLabs\":null},\"fZaxis\":{\"_typename\":\"TAxis\",\"fUniqueID\":0,\"fBits\":50331648,\"fName\":\"zaxis\",\"fTitle\":\"\",\"fNdivisions\":510,\"fAxisColor\":1,\"fLabelColor\":1,\"fLabelFont\":42,\"fLabelOffset\":0.005,\"fLabelSize\":0.035,\"fTickLength\":0.03,\"fTitleOffset\":1,\"fTitleSize\":0.035,\"fTitleColor\":1,\"fTitleFont\":42,\"fNbins\":1,\"fXmin\":0,\"fXmax\":1,\"fXbins\":[],\"fFirst\":0,\"fLast\":0,\"fBits2\":0,\"fTimeDisplay\":false,\"fTimeFormat\":\"\",\"fLabels\":null,\"fModLabs\":null},\"fBarOffset\":0,\"fBarWidth\":1000,\"fEntries\":226771,\"fTsumw\":226771,\"fTsumw2\":226771,\"fTsumwx\":-1073.85667526722,\"fTsumwx2\":1121742.48478191,\"fMaximum\":-1111,\"fMinimum\":-1111,\"fNormFactor\":0,\"fContour\":[],\"fSumw2\":[0,0,0,0,0,0,0,0,0,0,0,0,0,739,5279,5296,5353,5577,5882,5730,5922,5744,5730,5973,5955,6112,6279,6344,6313,6701,6716,5915,5719,375,0,0,0,0,0,0,0,0,0,0,0,0,0,0,0,0,0,0,0,0,0,0,0,0,0,0,0,0,0,0,0,0,0,0,348,5589,5927,6659,6617,6364,6372,6193,6031,6001,5880,5741,5720,5930,5718,5911,5562,5268,5343,5211,732,0,0,0,0,0,0,0,0,0,0,0,0,0],\"fOption\":\"\",\"fFunctions\":{\"_typename\":\"TList\",\"name\":\"TList\",\"arr\":[],\"opt\":[]},\"fBufferSize\":0,\"fBuffer\":[],\"fBinStatErrOpt\":0,\"fStatOverflows\":2,\"fArray\":[0,0,0,0,0,0,0,0,0,0,0,0,0,739,5279,5296,5353,5577,5882,5730,5922,5744,5730,5973,5955,6112,6279,6344,6313,6701,6716,5915,5719,375,0,0,0,0,0,0,0,0,0,0,0,0,0,0,0,0,0,0,0,0,0,0,0,0,0,0,0,0,0,0,0,0,0,0,348,5589,5927,6659,6617,6364,6372,6193,6031,6001,5880,5741,5720,5930,5718,5911,5562,5268,5343,5211,732,0,0,0,0,0,0,0,0,0,0,0,0,0]},\"fLabel\":\"PU0\",\"fOption\":\"l\"},{\"_typename\":\"TLegendEntry\",\"fUniqueID\":0,\"fBits\":50331656,\"fTextAngle\":0,\"fTextSize\":0,\"fTextAlign\":0,\"fTextColor\":0,\"fTextFont\":42,\"fLineColor\":2,\"fLineStyle\":1,\"fLineWidth\":1,\"fFillColor\":0,\"fFillStyle\":0,\"fMarkerColor\":1,\"fMarkerStyle\":21,\"fMarkerSize\":1,\"fObject\":{\"_typename\":\"TH1F\",\"fUniqueID\":0,\"fBits\":50332168,\"fName\":\"h_cl3d_DEF_Em_nomatch_eta\",\"fTitle\":\"3D Cluster eta\",\"fLineColor\":2,\"fLineStyle\":1,\"fLineWidth\":1,\"fFillColor\":0,\"fFillStyle\":1001,\"fMarkerColor\":1,\"fMarkerStyle\":1,\"fMarkerSize\":1,\"fNcells\":102,\"fXaxis\":{\"_typename\":\"TAxis\",\"fUniqueID\":0,\"fBits\":50331648,\"fName\":\"xaxis\",\"fTitle\":\" #eta\",\"fNdivisions\":510,\"fAxisColor\":1,\"fLabelColor\":1,\"fLabelFont\":42,\"fLabelOffset\":0.005,\"fLabelSize\":0.035,\"fTickLength\":0.03,\"fTitleOffset\":1,\"fTitleSize\":0.035,\"fTitleColor\":1,\"fTitleFont\":42,\"fNbins\":100,\"fXmin\":-4,\"fXmax\":4,\"fXbins\":[],\"fFirst\":0,\"fLast\":0,\"fBits2\":0,\"fTimeDisplay\":false,\"fTimeFormat\":\"\",\"fLabels\":null,\"fModLabs\":null},\"fYaxis\":{\"_typename\":\"TAxis\",\"fUniqueID\":0,\"fBits\":50331648,\"fName\":\"yaxis\",\"fTitle\":\"\",\"fNdivisions\":510,\"fAxisColor\":1,\"fLabelColor\":1,\"fLabelFont\":42,\"fLabelOffset\":0.005,\"fLabelSize\":0.035,\"fTickLength\":0.03,\"fTitleOffset\":0,\"fTitleSize\":0.035,\"fTitleColor\":1,\"fTitleFont\":42,\"fNbins\":1,\"fXmin\":0,\"fXmax\":1,\"fXbins\":[],\"fFirst\":0,\"fLast\":0,\"fBits2\":0,\"fTimeDisplay\":false,\"fTimeFormat\":\"\",\"fLabels\":null,\"fModLabs\":null},\"fZaxis\":{\"_typename\":\"TAxis\",\"fUniqueID\":0,\"fBits\":50331648,\"fName\":\"zaxis\",\"fTitle\":\"\",\"fNdivisions\":510,\"fAxisColor\":1,\"fLabelColor\":1,\"fLabelFont\":42,\"fLabelOffset\":0.005,\"fLabelSize\":0.035,\"fTickLength\":0.03,\"fTitleOffset\":1,\"fTitleSize\":0.035,\"fTitleColor\":1,\"fTitleFont\":42,\"fNbins\":1,\"fXmin\":0,\"fXmax\":1,\"fXbins\":[],\"fFirst\":0,\"fLast\":0,\"fBits2\":0,\"fTimeDisplay\":false,\"fTimeFormat\":\"\",\"fLabels\":null,\"fModLabs\":null},\"fBarOffset\":0,\"fBarWidth\":1000,\"fEntries\":1646046,\"fTsumw\":1646046,\"fTsumw2\":1646046,\"fTsumwx\":-1587.95775508881,\"fTsumwx2\":6416638.39931908,\"fMaximum\":-1111,\"fMinimum\":-1111,\"fNormFactor\":0,\"fContour\":[],\"fSumw2\":[0,0,0,0,0,0,0,0,0,0,0,0,0,1259,81328,22807,31497,14726,8313,12064,15122,18247,21006,21428,21787,22278,21512,20588,18995,18466,17158,12590,284367,137803,0,0,0,0,0,0,0,0,0,0,0,0,0,0,0,0,0,0,0,0,0,0,0,0,0,0,0,0,0,0,0,0,0,0,137427,284517,12619,17223,18382,19136,20628,21400,22575,21485,21449,21099,18080,15022,12045,8347,14885,31715,22369,81003,1299,0,0,0,0,0,0,0,0,0,0,0,0,0],\"fOption\":\"\",\"fFunctions\":{\"_typename\":\"TList\",\"name\":\"TList\",\"arr\":[],\"opt\":[]},\"fBufferSize\":0,\"fBuffer\":[],\"fBinStatErrOpt\":0,\"fStatOverflows\":2,\"fArray\":[0,0,0,0,0,0,0,0,0,0,0,0,0,1259,81328,22807,31497,14726,8313,12064,15122,18247,21006,21428,21787,22278,21512,20588,18995,18466,17158,12590,284367,137803,0,0,0,0,0,0,0,0,0,0,0,0,0,0,0,0,0,0,0,0,0,0,0,0,0,0,0,0,0,0,0,0,0,0,137427,284517,12619,17223,18382,19136,20628,21400,22575,21485,21449,21099,18080,15022,12045,8347,14885,31715,22369,81003,1299,0,0,0,0,0,0,0,0,0,0,0,0,0]},\"fLabel\":\"PU200\",\"fOption\":\"l\"}],\"opt\":[\"l\",\"l\"]},\"fEntrySeparation\":0.1,\"fMargin\":0.25,\"fNColumns\":1,\"fColumnSeparation\":0},{\"_typename\":\"TPaveText\",\"fUniqueID\":0,\"fBits\":50331657,\"fLineColor\":1,\"fLineStyle\":1,\"fLineWidth\":1,\"fFillColor\":0,\"fFillStyle\":0,\"fX1\":-0.66649023771464,\"fY1\":0.218193503095101,\"fX2\":3.05245541417106,\"fY2\":0.233009111444427,\"fX1NDC\":0.36751256281407,\"fY1NDC\":0.940000003948808,\"fX2NDC\":0.63248743718593,\"fY2NDC\":0.995000004768372,\"fBorderSize\":0,\"fInit\":1,\"fShadowColor\":1,\"fCornerRadius\":0,\"fOption\":\"blNDC\",\"fName\":\"title\",\"fTextAngle\":0,\"fTextSize\":0,\"fTextAlign\":22,\"fTextColor\":1,\"fTextFont\":42,\"fLabel\":\"\",\"fLongest\":14,\"fMargin\":0.05,\"fLines\":{\"_typename\":\"TList\",\"name\":\"TList\",\"arr\":[{\"_typename\":\"TLatex\",\"fUniqueID\":0,\"fBits\":50331648,\"fName\":\"\",\"fTitle\":\"3D Cluster eta\",\"fTextAngle\":0,\"fTextSize\":0,\"fTextAlign\":0,\"fTextColor\":0,\"fTextFont\":0,\"fX\":0,\"fY\":0,\"fLineColor\":1,\"fLineStyle\":1,\"fLineWidth\":2,\"fLimitFactorSize\":3,\"fOriginSize\":0.0467500016093254}],\"opt\":[\"\"]}},{\"_typename\":\"TLatex\",\"fUniqueID\":0,\"fBits\":50348040,\"fName\":\"\",\"fTitle\":\"NNDR, EGId\",\"fTextAngle\":0,\"fTextSize\":0.03,\"fTextAlign\":11,\"fTextColor\":1,\"fTextFont\":62,\"fX\":0.15,\"fY\":0.85,\"fLineColor\":1,\"fLineStyle\":1,\"fLineWidth\":2,\"fLimitFactorSize\":3,\"fOriginSize\":0.04}],\"opt\":[\"\",\",\",\"SAME,\",\"\",\"blNDC\",\"same\"]},\"fExecs\":null,\"fName\":\"c_b0c36c\",\"fTitle\":\"h_cl3d_DEF_Em_nomatch_eta\",\"fNumPaletteColor\":0,\"fNextPaletteColor\":0,\"fDISPLAY\":\"$DISPLAY\",\"fDoubleBuffer\":0,\"fRetained\":true,\"fXsizeUser\":0,\"fYsizeUser\":0,\"fXsizeReal\":20,\"fYsizeReal\":15,\"fWindowTopX\":0,\"fWindowTopY\":0,\"fWindowWidth\":0,\"fWindowHeight\":0,\"fCw\":796,\"fCh\":572,\"fCatt\":{\"_typename\":\"TAttCanvas\",\"fXBetween\":2,\"fYBetween\":2,\"fTitleFromTop\":1.2,\"fXdate\":0.2,\"fYdate\":0.3,\"fAdate\":1},\"kMoveOpaque\":true,\"kResizeOpaque\":true,\"fHighLightColor\":2,\"fBatch\":true,\"kShowEventStatus\":false,\"kAutoExec\":true,\"kMenuBar\":true});\n",
       "       Core.draw(\"root_plot_6\", obj, \"\");\n",
       "     }\n",
       " );\n",
       "</script>\n"
      ],
      "text/plain": [
       "<IPython.core.display.HTML object>"
      ]
     },
     "metadata": {},
     "output_type": "display_data"
    },
    {
     "data": {
      "text/html": [
       "\n",
       "<div id=\"root_plot_7\"\n",
       "     style=\"width: 796px; height: 572px\">\n",
       "</div>\n",
       "\n",
       "<script>\n",
       " requirejs.config({\n",
       "     paths: {\n",
       "       'JSRootCore' : 'https://root.cern.ch/js/notebook//scripts/JSRootCore',\n",
       "     }\n",
       "   });\n",
       " require(['JSRootCore'],\n",
       "     function(Core) {\n",
       "       var obj = Core.JSONR_unref({\"_typename\":\"TCanvas\",\"fUniqueID\":0,\"fBits\":53673992,\"fLineColor\":1,\"fLineStyle\":1,\"fLineWidth\":1,\"fFillColor\":0,\"fFillStyle\":1001,\"fLeftMargin\":0.13,\"fRightMargin\":0.3,\"fBottomMargin\":0.13,\"fTopMargin\":0.1,\"fXfile\":2,\"fYfile\":2,\"fAfile\":1,\"fXstat\":0.99,\"fYstat\":0.99,\"fAstat\":2,\"fFrameFillColor\":0,\"fFrameLineColor\":1,\"fFrameFillStyle\":1001,\"fFrameLineStyle\":1,\"fFrameLineWidth\":1,\"fFrameBorderSize\":1,\"fFrameBorderMode\":0,\"fX1\":-5.82456135947949,\"fY1\":-0.0109101837386953,\"fX2\":8.2105265359359,\"fY2\":0.0730143077614346,\"fXtoAbsPixelk\":330.340043357658,\"fXtoPixelk\":330.340043357658,\"fXtoPixel\":56.7149992883205,\"fYtoAbsPixelk\":497.640051065433,\"fYtoPixelk\":497.640051065433,\"fYtoPixel\":-6815.65047074624,\"fUtoAbsPixelk\":5e-5,\"fUtoPixelk\":5e-5,\"fUtoPixel\":796,\"fVtoAbsPixelk\":572.00005,\"fVtoPixelk\":572,\"fVtoPixel\":-572,\"fAbsPixeltoXk\":-5.82456135947949,\"fPixeltoXk\":-5.82456135947949,\"fPixeltoX\":0.0176320199691148,\"fAbsPixeltoYk\":0.0730143077614346,\"fPixeltoYk\":-0.0109101837386953,\"fPixeltoY\":-1.46721138986241e-4,\"fXlowNDC\":0,\"fYlowNDC\":0,\"fXUpNDC\":0,\"fYUpNDC\":0,\"fWNDC\":1,\"fHNDC\":1,\"fAbsXlowNDC\":0,\"fAbsYlowNDC\":0,\"fAbsWNDC\":1,\"fAbsHNDC\":1,\"fUxmin\":-4,\"fUymin\":0,\"fUxmax\":4,\"fUymax\":0.0646218582987785,\"fTheta\":30,\"fPhi\":30,\"fAspectRatio\":0,\"fNumber\":0,\"fTickx\":0,\"fTicky\":0,\"fLogx\":0,\"fLogy\":1,\"fLogz\":0,\"fPadPaint\":0,\"fCrosshair\":0,\"fCrosshairPos\":0,\"fBorderSize\":2,\"fBorderMode\":0,\"fModified\":false,\"fGridx\":false,\"fGridy\":false,\"fAbsCoord\":false,\"fEditable\":true,\"fFixedAspectRatio\":false,\"fPrimitives\":{\"_typename\":\"TList\",\"name\":\"TList\",\"arr\":[{\"_typename\":\"TFrame\",\"fUniqueID\":0,\"fBits\":50331656,\"fLineColor\":1,\"fLineStyle\":1,\"fLineWidth\":1,\"fFillColor\":0,\"fFillStyle\":1001,\"fX1\":-4,\"fY1\":0,\"fX2\":4,\"fY2\":0.0646218582987785,\"fBorderSize\":1,\"fBorderMode\":0},{\"_typename\":\"TH1F\",\"fUniqueID\":0,\"fBits\":50332169,\"fName\":\"h_cl3d_DEFCalib_all_nomatch_eta\",\"fTitle\":\"3D Cluster eta\",\"fLineColor\":1,\"fLineStyle\":1,\"fLineWidth\":1,\"fFillColor\":0,\"fFillStyle\":1001,\"fMarkerColor\":1,\"fMarkerStyle\":1,\"fMarkerSize\":1,\"fNcells\":102,\"fXaxis\":{\"_typename\":\"TAxis\",\"fUniqueID\":0,\"fBits\":50331648,\"fName\":\"xaxis\",\"fTitle\":\" #eta\",\"fNdivisions\":510,\"fAxisColor\":1,\"fLabelColor\":1,\"fLabelFont\":42,\"fLabelOffset\":0.005,\"fLabelSize\":0.035,\"fTickLength\":0.03,\"fTitleOffset\":1,\"fTitleSize\":0.035,\"fTitleColor\":1,\"fTitleFont\":42,\"fNbins\":100,\"fXmin\":-4,\"fXmax\":4,\"fXbins\":[],\"fFirst\":0,\"fLast\":0,\"fBits2\":0,\"fTimeDisplay\":false,\"fTimeFormat\":\"\",\"fLabels\":null,\"fModLabs\":null},\"fYaxis\":{\"_typename\":\"TAxis\",\"fUniqueID\":0,\"fBits\":50331656,\"fName\":\"yaxis\",\"fTitle\":\"\",\"fNdivisions\":510,\"fAxisColor\":1,\"fLabelColor\":1,\"fLabelFont\":42,\"fLabelOffset\":0.005,\"fLabelSize\":0.035,\"fTickLength\":0.03,\"fTitleOffset\":0,\"fTitleSize\":0.035,\"fTitleColor\":1,\"fTitleFont\":42,\"fNbins\":1,\"fXmin\":0,\"fXmax\":1,\"fXbins\":[],\"fFirst\":0,\"fLast\":0,\"fBits2\":0,\"fTimeDisplay\":false,\"fTimeFormat\":\"\",\"fLabels\":null,\"fModLabs\":null},\"fZaxis\":{\"_typename\":\"TAxis\",\"fUniqueID\":0,\"fBits\":50331648,\"fName\":\"zaxis\",\"fTitle\":\"\",\"fNdivisions\":510,\"fAxisColor\":1,\"fLabelColor\":1,\"fLabelFont\":42,\"fLabelOffset\":0.005,\"fLabelSize\":0.035,\"fTickLength\":0.03,\"fTitleOffset\":1,\"fTitleSize\":0.035,\"fTitleColor\":1,\"fTitleFont\":42,\"fNbins\":1,\"fXmin\":0,\"fXmax\":1,\"fXbins\":[],\"fFirst\":0,\"fLast\":0,\"fBits2\":0,\"fTimeDisplay\":false,\"fTimeFormat\":\"\",\"fLabels\":null,\"fModLabs\":null},\"fBarOffset\":0,\"fBarWidth\":1000,\"fEntries\":346471,\"fTsumw\":346471,\"fTsumw2\":346471,\"fTsumwx\":-179.025020360947,\"fTsumwx2\":1598541.5698652,\"fMaximum\":0.0646218582987785,\"fMinimum\":0,\"fNormFactor\":0,\"fContour\":[],\"fSumw2\":[0,0,0,0,0,0,0,0,0,0,0,0,0,2.10009560753063e-8,5.58970310453412e-8,5.10987166068738e-8,5.15652193995025e-8,5.26981547530296e-8,5.69300015147335e-8,5.72215657601265e-8,6.28195992716718e-8,6.38442393340529e-8,6.56685984695119e-8,7.10250501777316e-8,7.53152097885141e-8,7.64981275841085e-8,8.23627341200132e-8,8.58031922156504e-8,9.07597843873312e-8,9.46084324265186e-8,9.75657269155046e-8,1.53854287090374e-7,7.3632467572246e-8,3.12390262921057e-9,0,0,0,0,0,0,0,0,0,0,0,0,0,0,0,0,0,0,0,0,0,0,0,0,0,0,0,0,0,0,0,0,0,0,2.89898163990741e-9,7.32742600707632e-8,1.55428734015496e-7,9.75990485435495e-8,9.45667803914625e-8,9.14595385762744e-8,8.64029815204588e-8,8.22211172008223e-8,7.51985840903569e-8,7.56484260689633e-8,6.97171762769688e-8,6.59351714938712e-8,6.33027628783231e-8,6.27113039805259e-8,5.71132704689805e-8,5.72965394232275e-8,5.22982952164906e-8,5.15402281784688e-8,5.15485585854801e-8,5.56221276139707e-8,2.11675642155308e-8,0,0,0,0,0,0,0,0,0,0,0,0,0],\"fOption\":\"\",\"fFunctions\":{\"_typename\":\"TList\",\"name\":\"TList\",\"arr\":[],\"opt\":[]},\"fBufferSize\":0,\"fBuffer\":[],\"fBinStatErrOpt\":0,\"fStatOverflows\":2,\"fArray\":[0,0,0,0,0,0,0,0,0,0,0,0,0,0.007276222,0.0193667,0.01770422,0.01786585,0.01825838,0.01972459,0.01982561,0.02176517,0.02212018,0.02275226,0.02460812,0.02609454,0.02650438,0.0285363,0.02972832,0.03144563,0.03277908,0.03380369,0.05330605,0.02551151,0.001082342,0,0,0,0,0,0,0,0,0,0,0,0,0,0,0,0,0,0,0,0,0,0,0,0,0,0,0,0,0,0,0,0,0,0,0.001004413,0.02538741,0.05385155,0.03381524,0.03276465,0.03168808,0.02993613,0.02848723,0.02605413,0.02620999,0.02415498,0.02284463,0.02193257,0.02172765,0.01978809,0.01985159,0.01811984,0.01785719,0.01786008,0.01927145,0.007333947,0,0,0,0,0,0,0,0,0,0,0,0,0]},{\"_typename\":\"TH1F\",\"fUniqueID\":0,\"fBits\":50332169,\"fName\":\"h_cl3d_DEFCalib_all_nomatch_eta\",\"fTitle\":\"3D Cluster eta\",\"fLineColor\":2,\"fLineStyle\":1,\"fLineWidth\":1,\"fFillColor\":0,\"fFillStyle\":1001,\"fMarkerColor\":1,\"fMarkerStyle\":1,\"fMarkerSize\":1,\"fNcells\":102,\"fXaxis\":{\"_typename\":\"TAxis\",\"fUniqueID\":0,\"fBits\":50331648,\"fName\":\"xaxis\",\"fTitle\":\" #eta\",\"fNdivisions\":510,\"fAxisColor\":1,\"fLabelColor\":1,\"fLabelFont\":42,\"fLabelOffset\":0.005,\"fLabelSize\":0.035,\"fTickLength\":0.03,\"fTitleOffset\":1,\"fTitleSize\":0.035,\"fTitleColor\":1,\"fTitleFont\":42,\"fNbins\":100,\"fXmin\":-4,\"fXmax\":4,\"fXbins\":[],\"fFirst\":0,\"fLast\":0,\"fBits2\":0,\"fTimeDisplay\":false,\"fTimeFormat\":\"\",\"fLabels\":null,\"fModLabs\":null},\"fYaxis\":{\"_typename\":\"TAxis\",\"fUniqueID\":0,\"fBits\":50331648,\"fName\":\"yaxis\",\"fTitle\":\"\",\"fNdivisions\":510,\"fAxisColor\":1,\"fLabelColor\":1,\"fLabelFont\":42,\"fLabelOffset\":0.005,\"fLabelSize\":0.035,\"fTickLength\":0.03,\"fTitleOffset\":0,\"fTitleSize\":0.035,\"fTitleColor\":1,\"fTitleFont\":42,\"fNbins\":1,\"fXmin\":0,\"fXmax\":1,\"fXbins\":[],\"fFirst\":0,\"fLast\":0,\"fBits2\":0,\"fTimeDisplay\":false,\"fTimeFormat\":\"\",\"fLabels\":null,\"fModLabs\":null},\"fZaxis\":{\"_typename\":\"TAxis\",\"fUniqueID\":0,\"fBits\":50331648,\"fName\":\"zaxis\",\"fTitle\":\"\",\"fNdivisions\":510,\"fAxisColor\":1,\"fLabelColor\":1,\"fLabelFont\":42,\"fLabelOffset\":0.005,\"fLabelSize\":0.035,\"fTickLength\":0.03,\"fTitleOffset\":1,\"fTitleSize\":0.035,\"fTitleColor\":1,\"fTitleFont\":42,\"fNbins\":1,\"fXmin\":0,\"fXmax\":1,\"fXbins\":[],\"fFirst\":0,\"fLast\":0,\"fBits2\":0,\"fTimeDisplay\":false,\"fTimeFormat\":\"\",\"fLabels\":null,\"fModLabs\":null},\"fBarOffset\":0,\"fBarWidth\":1000,\"fEntries\":79241009,\"fTsumw\":79241009,\"fTsumw2\":79241009,\"fTsumwx\":125300.456281304,\"fTsumwx2\":416095617.767728,\"fMaximum\":-1111,\"fMinimum\":-1111,\"fNormFactor\":0,\"fContour\":[],\"fSumw2\":[0,0,0,0,0,0,0,0,0,0,0,0,0,2.47301480208911e-11,3.84427637900753e-10,3.19785320460555e-10,3.30012043465897e-10,3.47694886033088e-10,3.57161632052032e-10,3.68313641371492e-10,3.83489770240884e-10,3.76927085484922e-10,3.75579448171659e-10,3.66169238579824e-10,3.57663134049133e-10,3.54235433990829e-10,3.47002115729058e-10,3.31484697948968e-10,3.19302292338229e-10,3.02162677243922e-10,2.88481180398279e-10,2.68301338843302e-10,8.1001092810216e-11,2.19461669439405e-11,0,0,0,0,0,0,0,0,0,0,0,0,0,0,0,0,0,0,0,0,0,0,0,0,0,0,0,0,0,0,0,0,0,0,2.18862861084658e-11,8.11431505369272e-11,2.68545958426518e-10,2.8877469204663e-10,3.02198669448223e-10,3.1935213994861e-10,3.31915489597795e-10,3.47351208259273e-10,3.54431957796616e-10,3.57401314651472e-10,3.66315914775229e-10,3.75830278798979e-10,3.77462031565665e-10,3.84071378781187e-10,3.689374531602e-10,3.58062074189729e-10,3.48160395825887e-10,3.30778231496399e-10,3.20056217538062e-10,3.86594177490641e-10,2.4588249551721e-11,0,0,0,0,0,0,0,0,0,0,0,0,0],\"fOption\":\"\",\"fFunctions\":{\"_typename\":\"TList\",\"name\":\"TList\",\"arr\":[],\"opt\":[]},\"fBufferSize\":0,\"fBuffer\":[],\"fBinStatErrOpt\":0,\"fStatOverflows\":2,\"fArray\":[0,0,0,0,0,0,0,0,0,0,0,0,0,0.001959642,0.03046243,0.02534011,0.02615049,0.02755169,0.02830185,0.02918554,0.03038812,0.02986808,0.02976129,0.02901562,0.02834159,0.02806997,0.0274968,0.02626718,0.02530184,0.02394368,0.02285954,0.02126047,0.006418608,0.001739036,0,0,0,0,0,0,0,0,0,0,0,0,0,0,0,0,0,0,0,0,0,0,0,0,0,0,0,0,0,0,0,0,0,0,0.001734291,0.006429865,0.02127985,0.0228828,0.02394653,0.02530579,0.02630132,0.02752446,0.02808555,0.02832084,0.02902724,0.02978117,0.02991047,0.0304342,0.02923498,0.0283732,0.02758858,0.0262112,0.02536158,0.03063411,0.001948398,0,0,0,0,0,0,0,0,0,0,0,0,0]},{\"_typename\":\"TLegend\",\"fUniqueID\":0,\"fBits\":50331656,\"fLineColor\":1,\"fLineStyle\":1,\"fLineWidth\":1,\"fFillColor\":0,\"fFillStyle\":0,\"fX1\":4.00000016731128,\"fY1\":0.0486762052263969,\"fX2\":7.50877214116513,\"fY2\":0.0604256340364151,\"fX1NDC\":0.7,\"fY1NDC\":0.71,\"fX2NDC\":0.95,\"fY2NDC\":0.85,\"fBorderSize\":0,\"fInit\":1,\"fShadowColor\":1,\"fCornerRadius\":0,\"fOption\":\"brNDC\",\"fName\":\"TPave\",\"fTextAngle\":0,\"fTextSize\":0.05,\"fTextAlign\":12,\"fTextColor\":1,\"fTextFont\":42,\"fPrimitives\":{\"_typename\":\"TList\",\"name\":\"TList\",\"arr\":[{\"_typename\":\"TLegendEntry\",\"fUniqueID\":0,\"fBits\":50331656,\"fTextAngle\":0,\"fTextSize\":0,\"fTextAlign\":0,\"fTextColor\":0,\"fTextFont\":42,\"fLineColor\":1,\"fLineStyle\":1,\"fLineWidth\":1,\"fFillColor\":0,\"fFillStyle\":0,\"fMarkerColor\":1,\"fMarkerStyle\":21,\"fMarkerSize\":1,\"fObject\":{\"_typename\":\"TH1F\",\"fUniqueID\":0,\"fBits\":50332168,\"fName\":\"h_cl3d_DEFCalib_all_nomatch_eta\",\"fTitle\":\"3D Cluster eta\",\"fLineColor\":1,\"fLineStyle\":1,\"fLineWidth\":1,\"fFillColor\":0,\"fFillStyle\":1001,\"fMarkerColor\":1,\"fMarkerStyle\":1,\"fMarkerSize\":1,\"fNcells\":102,\"fXaxis\":{\"_typename\":\"TAxis\",\"fUniqueID\":0,\"fBits\":50331648,\"fName\":\"xaxis\",\"fTitle\":\" #eta\",\"fNdivisions\":510,\"fAxisColor\":1,\"fLabelColor\":1,\"fLabelFont\":42,\"fLabelOffset\":0.005,\"fLabelSize\":0.035,\"fTickLength\":0.03,\"fTitleOffset\":1,\"fTitleSize\":0.035,\"fTitleColor\":1,\"fTitleFont\":42,\"fNbins\":100,\"fXmin\":-4,\"fXmax\":4,\"fXbins\":[],\"fFirst\":0,\"fLast\":0,\"fBits2\":0,\"fTimeDisplay\":false,\"fTimeFormat\":\"\",\"fLabels\":null,\"fModLabs\":null},\"fYaxis\":{\"_typename\":\"TAxis\",\"fUniqueID\":0,\"fBits\":50331648,\"fName\":\"yaxis\",\"fTitle\":\"\",\"fNdivisions\":510,\"fAxisColor\":1,\"fLabelColor\":1,\"fLabelFont\":42,\"fLabelOffset\":0.005,\"fLabelSize\":0.035,\"fTickLength\":0.03,\"fTitleOffset\":0,\"fTitleSize\":0.035,\"fTitleColor\":1,\"fTitleFont\":42,\"fNbins\":1,\"fXmin\":0,\"fXmax\":1,\"fXbins\":[],\"fFirst\":0,\"fLast\":0,\"fBits2\":0,\"fTimeDisplay\":false,\"fTimeFormat\":\"\",\"fLabels\":null,\"fModLabs\":null},\"fZaxis\":{\"_typename\":\"TAxis\",\"fUniqueID\":0,\"fBits\":50331648,\"fName\":\"zaxis\",\"fTitle\":\"\",\"fNdivisions\":510,\"fAxisColor\":1,\"fLabelColor\":1,\"fLabelFont\":42,\"fLabelOffset\":0.005,\"fLabelSize\":0.035,\"fTickLength\":0.03,\"fTitleOffset\":1,\"fTitleSize\":0.035,\"fTitleColor\":1,\"fTitleFont\":42,\"fNbins\":1,\"fXmin\":0,\"fXmax\":1,\"fXbins\":[],\"fFirst\":0,\"fLast\":0,\"fBits2\":0,\"fTimeDisplay\":false,\"fTimeFormat\":\"\",\"fLabels\":null,\"fModLabs\":null},\"fBarOffset\":0,\"fBarWidth\":1000,\"fEntries\":346471,\"fTsumw\":346471,\"fTsumw2\":346471,\"fTsumwx\":-179.025020360947,\"fTsumwx2\":1598541.5698652,\"fMaximum\":-1111,\"fMinimum\":-1111,\"fNormFactor\":0,\"fContour\":[],\"fSumw2\":[0,0,0,0,0,0,0,0,0,0,0,0,0,2521,6710,6134,6190,6326,6834,6869,7541,7664,7883,8526,9041,9183,9887,10300,10895,11357,11712,18469,8839,375,0,0,0,0,0,0,0,0,0,0,0,0,0,0,0,0,0,0,0,0,0,0,0,0,0,0,0,0,0,0,0,0,0,0,348,8796,18658,11716,11352,10979,10372,9870,9027,9081,8369,7915,7599,7528,6856,6878,6278,6187,6188,6677,2541,0,0,0,0,0,0,0,0,0,0,0,0,0],\"fOption\":\"\",\"fFunctions\":{\"_typename\":\"TList\",\"name\":\"TList\",\"arr\":[],\"opt\":[]},\"fBufferSize\":0,\"fBuffer\":[],\"fBinStatErrOpt\":0,\"fStatOverflows\":2,\"fArray\":[0,0,0,0,0,0,0,0,0,0,0,0,0,2521,6710,6134,6190,6326,6834,6869,7541,7664,7883,8526,9041,9183,9887,10300,10895,11357,11712,18469,8839,375,0,0,0,0,0,0,0,0,0,0,0,0,0,0,0,0,0,0,0,0,0,0,0,0,0,0,0,0,0,0,0,0,0,0,348,8796,18658,11716,11352,10979,10372,9870,9027,9081,8369,7915,7599,7528,6856,6878,6278,6187,6188,6677,2541,0,0,0,0,0,0,0,0,0,0,0,0,0]},\"fLabel\":\"PU0\",\"fOption\":\"l\"},{\"_typename\":\"TLegendEntry\",\"fUniqueID\":0,\"fBits\":50331656,\"fTextAngle\":0,\"fTextSize\":0,\"fTextAlign\":0,\"fTextColor\":0,\"fTextFont\":42,\"fLineColor\":2,\"fLineStyle\":1,\"fLineWidth\":1,\"fFillColor\":0,\"fFillStyle\":0,\"fMarkerColor\":1,\"fMarkerStyle\":21,\"fMarkerSize\":1,\"fObject\":{\"_typename\":\"TH1F\",\"fUniqueID\":0,\"fBits\":50332168,\"fName\":\"h_cl3d_DEFCalib_all_nomatch_eta\",\"fTitle\":\"3D Cluster eta\",\"fLineColor\":2,\"fLineStyle\":1,\"fLineWidth\":1,\"fFillColor\":0,\"fFillStyle\":1001,\"fMarkerColor\":1,\"fMarkerStyle\":1,\"fMarkerSize\":1,\"fNcells\":102,\"fXaxis\":{\"_typename\":\"TAxis\",\"fUniqueID\":0,\"fBits\":50331648,\"fName\":\"xaxis\",\"fTitle\":\" #eta\",\"fNdivisions\":510,\"fAxisColor\":1,\"fLabelColor\":1,\"fLabelFont\":42,\"fLabelOffset\":0.005,\"fLabelSize\":0.035,\"fTickLength\":0.03,\"fTitleOffset\":1,\"fTitleSize\":0.035,\"fTitleColor\":1,\"fTitleFont\":42,\"fNbins\":100,\"fXmin\":-4,\"fXmax\":4,\"fXbins\":[],\"fFirst\":0,\"fLast\":0,\"fBits2\":0,\"fTimeDisplay\":false,\"fTimeFormat\":\"\",\"fLabels\":null,\"fModLabs\":null},\"fYaxis\":{\"_typename\":\"TAxis\",\"fUniqueID\":0,\"fBits\":50331648,\"fName\":\"yaxis\",\"fTitle\":\"\",\"fNdivisions\":510,\"fAxisColor\":1,\"fLabelColor\":1,\"fLabelFont\":42,\"fLabelOffset\":0.005,\"fLabelSize\":0.035,\"fTickLength\":0.03,\"fTitleOffset\":0,\"fTitleSize\":0.035,\"fTitleColor\":1,\"fTitleFont\":42,\"fNbins\":1,\"fXmin\":0,\"fXmax\":1,\"fXbins\":[],\"fFirst\":0,\"fLast\":0,\"fBits2\":0,\"fTimeDisplay\":false,\"fTimeFormat\":\"\",\"fLabels\":null,\"fModLabs\":null},\"fZaxis\":{\"_typename\":\"TAxis\",\"fUniqueID\":0,\"fBits\":50331648,\"fName\":\"zaxis\",\"fTitle\":\"\",\"fNdivisions\":510,\"fAxisColor\":1,\"fLabelColor\":1,\"fLabelFont\":42,\"fLabelOffset\":0.005,\"fLabelSize\":0.035,\"fTickLength\":0.03,\"fTitleOffset\":1,\"fTitleSize\":0.035,\"fTitleColor\":1,\"fTitleFont\":42,\"fNbins\":1,\"fXmin\":0,\"fXmax\":1,\"fXbins\":[],\"fFirst\":0,\"fLast\":0,\"fBits2\":0,\"fTimeDisplay\":false,\"fTimeFormat\":\"\",\"fLabels\":null,\"fModLabs\":null},\"fBarOffset\":0,\"fBarWidth\":1000,\"fEntries\":79241009,\"fTsumw\":79241009,\"fTsumw2\":79241009,\"fTsumwx\":125300.456281304,\"fTsumwx2\":416095617.767728,\"fMaximum\":-1111,\"fMinimum\":-1111,\"fNormFactor\":0,\"fContour\":[],\"fSumw2\":[0,0,0,0,0,0,0,0,0,0,0,0,0,155284,2413874,2007976,2072191,2183224,2242667,2312692,2407985,2366777,2358315,2299227,2245816,2224293,2178874,2081438,2004943,1897321,1811413,1684701,508617,137803,0,0,0,0,0,0,0,0,0,0,0,0,0,0,0,0,0,0,0,0,0,0,0,0,0,0,0,0,0,0,0,0,0,0,137427,509509,1686237,1813256,1897547,2005256,2084143,2181066,2225527,2244172,2300148,2359890,2370136,2411637,2316609,2248321,2186147,2077002,2009677,2427478,154393,0,0,0,0,0,0,0,0,0,0,0,0,0],\"fOption\":\"\",\"fFunctions\":{\"_typename\":\"TList\",\"name\":\"TList\",\"arr\":[],\"opt\":[]},\"fBufferSize\":0,\"fBuffer\":[],\"fBinStatErrOpt\":0,\"fStatOverflows\":2,\"fArray\":[0,0,0,0,0,0,0,0,0,0,0,0,0,155284,2413874,2007976,2072191,2183224,2242667,2312692,2407985,2366777,2358315,2299227,2245816,2224293,2178874,2081438,2004943,1897321,1811413,1684701,508617,137803,0,0,0,0,0,0,0,0,0,0,0,0,0,0,0,0,0,0,0,0,0,0,0,0,0,0,0,0,0,0,0,0,0,0,137427,509509,1686237,1813256,1897547,2005256,2084143,2181066,2225527,2244172,2300148,2359890,2370136,2411637,2316609,2248321,2186147,2077002,2009677,2427478,154393,0,0,0,0,0,0,0,0,0,0,0,0,0]},\"fLabel\":\"PU200\",\"fOption\":\"l\"}],\"opt\":[\"l\",\"l\"]},\"fEntrySeparation\":0.1,\"fMargin\":0.25,\"fNColumns\":1,\"fColumnSeparation\":0},{\"_typename\":\"TPaveText\",\"fUniqueID\":0,\"fBits\":50331657,\"fLineColor\":1,\"fLineStyle\":1,\"fLineWidth\":1,\"fFillColor\":0,\"fFillStyle\":0,\"fX1\":-0.66649023771464,\"fY1\":0.0679788386028285,\"fX2\":3.05245541417106,\"fY2\":0.0725946857041171,\"fX1NDC\":0.36751256281407,\"fY1NDC\":0.940000003948808,\"fX2NDC\":0.63248743718593,\"fY2NDC\":0.995000004768372,\"fBorderSize\":0,\"fInit\":1,\"fShadowColor\":1,\"fCornerRadius\":0,\"fOption\":\"blNDC\",\"fName\":\"title\",\"fTextAngle\":0,\"fTextSize\":0,\"fTextAlign\":22,\"fTextColor\":1,\"fTextFont\":42,\"fLabel\":\"\",\"fLongest\":14,\"fMargin\":0.05,\"fLines\":{\"_typename\":\"TList\",\"name\":\"TList\",\"arr\":[{\"_typename\":\"TLatex\",\"fUniqueID\":0,\"fBits\":50331648,\"fName\":\"\",\"fTitle\":\"3D Cluster eta\",\"fTextAngle\":0,\"fTextSize\":0,\"fTextAlign\":0,\"fTextColor\":0,\"fTextFont\":0,\"fX\":0,\"fY\":0,\"fLineColor\":1,\"fLineStyle\":1,\"fLineWidth\":2,\"fLimitFactorSize\":3,\"fOriginSize\":0.0467500016093254}],\"opt\":[\"\"]}},{\"_typename\":\"TLatex\",\"fUniqueID\":0,\"fBits\":50348040,\"fName\":\"\",\"fTitle\":\"NNDR Calib v1\",\"fTextAngle\":0,\"fTextSize\":0.03,\"fTextAlign\":11,\"fTextColor\":1,\"fTextFont\":62,\"fX\":0.15,\"fY\":0.85,\"fLineColor\":1,\"fLineStyle\":1,\"fLineWidth\":2,\"fLimitFactorSize\":3,\"fOriginSize\":0.04}],\"opt\":[\"\",\",\",\"SAME,\",\"\",\"blNDC\",\"same\"]},\"fExecs\":null,\"fName\":\"c_45ce7e\",\"fTitle\":\"h_cl3d_DEFCalib_all_nomatch_eta\",\"fNumPaletteColor\":0,\"fNextPaletteColor\":0,\"fDISPLAY\":\"$DISPLAY\",\"fDoubleBuffer\":0,\"fRetained\":true,\"fXsizeUser\":0,\"fYsizeUser\":0,\"fXsizeReal\":20,\"fYsizeReal\":15,\"fWindowTopX\":0,\"fWindowTopY\":0,\"fWindowWidth\":0,\"fWindowHeight\":0,\"fCw\":796,\"fCh\":572,\"fCatt\":{\"_typename\":\"TAttCanvas\",\"fXBetween\":2,\"fYBetween\":2,\"fTitleFromTop\":1.2,\"fXdate\":0.2,\"fYdate\":0.3,\"fAdate\":1},\"kMoveOpaque\":true,\"kResizeOpaque\":true,\"fHighLightColor\":2,\"fBatch\":true,\"kShowEventStatus\":false,\"kAutoExec\":true,\"kMenuBar\":true});\n",
       "       Core.draw(\"root_plot_7\", obj, \"\");\n",
       "     }\n",
       " );\n",
       "</script>\n"
      ],
      "text/plain": [
       "<IPython.core.display.HTML object>"
      ]
     },
     "metadata": {},
     "output_type": "display_data"
    },
    {
     "data": {
      "text/html": [
       "\n",
       "<div id=\"root_plot_8\"\n",
       "     style=\"width: 796px; height: 572px\">\n",
       "</div>\n",
       "\n",
       "<script>\n",
       " requirejs.config({\n",
       "     paths: {\n",
       "       'JSRootCore' : 'https://root.cern.ch/js/notebook//scripts/JSRootCore',\n",
       "     }\n",
       "   });\n",
       " require(['JSRootCore'],\n",
       "     function(Core) {\n",
       "       var obj = Core.JSONR_unref({\"_typename\":\"TCanvas\",\"fUniqueID\":0,\"fBits\":53673992,\"fLineColor\":1,\"fLineStyle\":1,\"fLineWidth\":1,\"fFillColor\":0,\"fFillStyle\":1001,\"fLeftMargin\":0.13,\"fRightMargin\":0.3,\"fBottomMargin\":0.13,\"fTopMargin\":0.1,\"fXfile\":2,\"fYfile\":2,\"fAfile\":1,\"fXstat\":0.99,\"fYstat\":0.99,\"fAstat\":2,\"fFrameFillColor\":0,\"fFrameLineColor\":1,\"fFrameFillStyle\":1001,\"fFrameLineStyle\":1,\"fFrameLineWidth\":1,\"fFrameBorderSize\":1,\"fFrameBorderMode\":0,\"fX1\":-5.82456135947949,\"fY1\":-0.035018709620292,\"fX2\":8.2105265359359,\"fY2\":0.234355983626181,\"fXtoAbsPixelk\":330.340043357658,\"fXtoPixelk\":330.340043357658,\"fXtoPixel\":56.7149992883205,\"fYtoAbsPixelk\":497.640051065433,\"fYtoPixelk\":497.640051065433,\"fYtoPixel\":-2123.4362927947,\"fUtoAbsPixelk\":5e-5,\"fUtoPixelk\":5e-5,\"fUtoPixel\":796,\"fVtoAbsPixelk\":572.00005,\"fVtoPixelk\":572,\"fVtoPixel\":-572,\"fAbsPixeltoXk\":-5.82456135947949,\"fPixeltoXk\":-5.82456135947949,\"fPixeltoX\":0.0176320199691148,\"fAbsPixeltoYk\":0.234355983626181,\"fPixeltoYk\":-0.035018709620292,\"fPixeltoY\":-4.70934778402925e-4,\"fXlowNDC\":0,\"fYlowNDC\":0,\"fXUpNDC\":0,\"fYUpNDC\":0,\"fWNDC\":1,\"fHNDC\":1,\"fAbsXlowNDC\":0,\"fAbsYlowNDC\":0,\"fAbsWNDC\":1,\"fAbsHNDC\":1,\"fUxmin\":-4,\"fUymin\":0,\"fUxmax\":4,\"fUymax\":0.207418513298035,\"fTheta\":30,\"fPhi\":30,\"fAspectRatio\":0,\"fNumber\":0,\"fTickx\":0,\"fTicky\":0,\"fLogx\":0,\"fLogy\":1,\"fLogz\":0,\"fPadPaint\":0,\"fCrosshair\":0,\"fCrosshairPos\":0,\"fBorderSize\":2,\"fBorderMode\":0,\"fModified\":false,\"fGridx\":false,\"fGridy\":false,\"fAbsCoord\":false,\"fEditable\":true,\"fFixedAspectRatio\":false,\"fPrimitives\":{\"_typename\":\"TList\",\"name\":\"TList\",\"arr\":[{\"_typename\":\"TFrame\",\"fUniqueID\":0,\"fBits\":50331656,\"fLineColor\":1,\"fLineStyle\":1,\"fLineWidth\":1,\"fFillColor\":0,\"fFillStyle\":1001,\"fX1\":-4,\"fY1\":0,\"fX2\":4,\"fY2\":0.207418513298035,\"fBorderSize\":1,\"fBorderMode\":0},{\"_typename\":\"TH1F\",\"fUniqueID\":0,\"fBits\":50332169,\"fName\":\"h_cl3d_DEFCalib_Em_nomatch_eta\",\"fTitle\":\"3D Cluster eta\",\"fLineColor\":1,\"fLineStyle\":1,\"fLineWidth\":1,\"fFillColor\":0,\"fFillStyle\":1001,\"fMarkerColor\":1,\"fMarkerStyle\":1,\"fMarkerSize\":1,\"fNcells\":102,\"fXaxis\":{\"_typename\":\"TAxis\",\"fUniqueID\":0,\"fBits\":50331648,\"fName\":\"xaxis\",\"fTitle\":\" #eta\",\"fNdivisions\":510,\"fAxisColor\":1,\"fLabelColor\":1,\"fLabelFont\":42,\"fLabelOffset\":0.005,\"fLabelSize\":0.035,\"fTickLength\":0.03,\"fTitleOffset\":1,\"fTitleSize\":0.035,\"fTitleColor\":1,\"fTitleFont\":42,\"fNbins\":100,\"fXmin\":-4,\"fXmax\":4,\"fXbins\":[],\"fFirst\":0,\"fLast\":0,\"fBits2\":0,\"fTimeDisplay\":false,\"fTimeFormat\":\"\",\"fLabels\":null,\"fModLabs\":null},\"fYaxis\":{\"_typename\":\"TAxis\",\"fUniqueID\":0,\"fBits\":50331656,\"fName\":\"yaxis\",\"fTitle\":\"\",\"fNdivisions\":510,\"fAxisColor\":1,\"fLabelColor\":1,\"fLabelFont\":42,\"fLabelOffset\":0.005,\"fLabelSize\":0.035,\"fTickLength\":0.03,\"fTitleOffset\":0,\"fTitleSize\":0.035,\"fTitleColor\":1,\"fTitleFont\":42,\"fNbins\":1,\"fXmin\":0,\"fXmax\":1,\"fXbins\":[],\"fFirst\":0,\"fLast\":0,\"fBits2\":0,\"fTimeDisplay\":false,\"fTimeFormat\":\"\",\"fLabels\":null,\"fModLabs\":null},\"fZaxis\":{\"_typename\":\"TAxis\",\"fUniqueID\":0,\"fBits\":50331648,\"fName\":\"zaxis\",\"fTitle\":\"\",\"fNdivisions\":510,\"fAxisColor\":1,\"fLabelColor\":1,\"fLabelFont\":42,\"fLabelOffset\":0.005,\"fLabelSize\":0.035,\"fTickLength\":0.03,\"fTitleOffset\":1,\"fTitleSize\":0.035,\"fTitleColor\":1,\"fTitleFont\":42,\"fNbins\":1,\"fXmin\":0,\"fXmax\":1,\"fXbins\":[],\"fFirst\":0,\"fLast\":0,\"fBits2\":0,\"fTimeDisplay\":false,\"fTimeFormat\":\"\",\"fLabels\":null,\"fModLabs\":null},\"fBarOffset\":0,\"fBarWidth\":1000,\"fEntries\":226771,\"fTsumw\":226771,\"fTsumw2\":226771,\"fTsumwx\":-1073.85667526722,\"fTsumwx2\":1121742.48478191,\"fMaximum\":0.207418513298035,\"fMinimum\":0,\"fNormFactor\":0,\"fContour\":[],\"fSumw2\":[0,0,0,0,0,0,0,0,0,0,0,0,0,1.43704182363962e-8,1.02654178443756e-7,1.0298475640048e-7,1.04093164843612e-7,1.08449015567499e-7,1.14379973026364e-7,1.11424217178012e-7,1.15157803512772e-7,1.11696457848254e-7,1.11424217178012e-7,1.16149537382943e-7,1.15799513664059e-7,1.18852498323212e-7,1.22099940603968e-7,1.23363915144381e-7,1.22761096517415e-7,1.30306052235577e-7,1.3059773866798e-7,1.15021683177651e-7,1.11210313794249e-7,7.29216081007929e-9,0,0,0,0,0,0,0,0,0,0,0,0,0,0,0,0,0,0,0,0,0,0,0,0,0,0,0,0,0,0,0,0,0,0,6.76712523175358e-9,1.08682364713422e-7,1.15255032323573e-7,1.29489330224848e-7,1.28672608214119e-7,1.23752830387586e-7,1.23908396484867e-7,1.20427605058189e-7,1.17277391588235e-7,1.16694018723429e-7,1.14341081502043e-7,1.11638120561774e-7,1.11229759556409e-7,1.15313369610054e-7,1.11190868032089e-7,1.1494390012901e-7,1.08157329135096e-7,1.02440275059994e-7,1.0389870722201e-7,1.01331866616862e-7,1.42342979012748e-8,0,0,0,0,0,0,0,0,0,0,0,0,0],\"fOption\":\"\",\"fFunctions\":{\"_typename\":\"TList\",\"name\":\"TList\",\"arr\":[],\"opt\":[]},\"fBufferSize\":0,\"fBuffer\":[],\"fBinStatErrOpt\":0,\"fStatOverflows\":2,\"fArray\":[0,0,0,0,0,0,0,0,0,0,0,0,0,0.003258794,0.02327899,0.02335396,0.02360531,0.02459309,0.02593806,0.02526778,0.02611445,0.02532952,0.02526778,0.02633935,0.02625997,0.0269523,0.02768872,0.02797536,0.02783866,0.02954963,0.02961578,0.02608358,0.02521927,0.001653651,0,0,0,0,0,0,0,0,0,0,0,0,0,0,0,0,0,0,0,0,0,0,0,0,0,0,0,0,0,0,0,0,0,0,0.001534588,0.02464601,0.0261365,0.02936443,0.02917922,0.02806355,0.02809883,0.02730949,0.02659511,0.02646282,0.02592924,0.02531629,0.02522368,0.02614973,0.02521486,0.02606594,0.02452695,0.02323048,0.02356121,0.02297913,0.003227926,0,0,0,0,0,0,0,0,0,0,0,0,0]},{\"_typename\":\"TH1F\",\"fUniqueID\":0,\"fBits\":50332169,\"fName\":\"h_cl3d_DEFCalib_Em_nomatch_eta\",\"fTitle\":\"3D Cluster eta\",\"fLineColor\":2,\"fLineStyle\":1,\"fLineWidth\":1,\"fFillColor\":0,\"fFillStyle\":1001,\"fMarkerColor\":1,\"fMarkerStyle\":1,\"fMarkerSize\":1,\"fNcells\":102,\"fXaxis\":{\"_typename\":\"TAxis\",\"fUniqueID\":0,\"fBits\":50331648,\"fName\":\"xaxis\",\"fTitle\":\" #eta\",\"fNdivisions\":510,\"fAxisColor\":1,\"fLabelColor\":1,\"fLabelFont\":42,\"fLabelOffset\":0.005,\"fLabelSize\":0.035,\"fTickLength\":0.03,\"fTitleOffset\":1,\"fTitleSize\":0.035,\"fTitleColor\":1,\"fTitleFont\":42,\"fNbins\":100,\"fXmin\":-4,\"fXmax\":4,\"fXbins\":[],\"fFirst\":0,\"fLast\":0,\"fBits2\":0,\"fTimeDisplay\":false,\"fTimeFormat\":\"\",\"fLabels\":null,\"fModLabs\":null},\"fYaxis\":{\"_typename\":\"TAxis\",\"fUniqueID\":0,\"fBits\":50331648,\"fName\":\"yaxis\",\"fTitle\":\"\",\"fNdivisions\":510,\"fAxisColor\":1,\"fLabelColor\":1,\"fLabelFont\":42,\"fLabelOffset\":0.005,\"fLabelSize\":0.035,\"fTickLength\":0.03,\"fTitleOffset\":0,\"fTitleSize\":0.035,\"fTitleColor\":1,\"fTitleFont\":42,\"fNbins\":1,\"fXmin\":0,\"fXmax\":1,\"fXbins\":[],\"fFirst\":0,\"fLast\":0,\"fBits2\":0,\"fTimeDisplay\":false,\"fTimeFormat\":\"\",\"fLabels\":null,\"fModLabs\":null},\"fZaxis\":{\"_typename\":\"TAxis\",\"fUniqueID\":0,\"fBits\":50331648,\"fName\":\"zaxis\",\"fTitle\":\"\",\"fNdivisions\":510,\"fAxisColor\":1,\"fLabelColor\":1,\"fLabelFont\":42,\"fLabelOffset\":0.005,\"fLabelSize\":0.035,\"fTickLength\":0.03,\"fTitleOffset\":1,\"fTitleSize\":0.035,\"fTitleColor\":1,\"fTitleFont\":42,\"fNbins\":1,\"fXmin\":0,\"fXmax\":1,\"fXbins\":[],\"fFirst\":0,\"fLast\":0,\"fBits2\":0,\"fTimeDisplay\":false,\"fTimeFormat\":\"\",\"fLabels\":null,\"fModLabs\":null},\"fBarOffset\":0,\"fBarWidth\":1000,\"fEntries\":1646046,\"fTsumw\":1646046,\"fTsumw2\":1646046,\"fTsumwx\":-1587.95775508881,\"fTsumwx2\":6416638.39931908,\"fMaximum\":-1111,\"fMinimum\":-1111,\"fNormFactor\":0,\"fContour\":[],\"fSumw2\":[0,0,0,0,0,0,0,0,0,0,0,0,0,4.64666961539165e-10,3.00162308562806e-8,8.41752135966937e-9,1.16247937153289e-8,5.43501642226032e-9,3.06813062055209e-9,4.45253552343804e-9,5.5811706055562e-9,6.73453379444412e-9,7.75281508664949e-9,7.90856525167691e-9,8.04106361481636e-9,8.22228003905443e-9,7.93956765419422e-9,7.59854122650384e-9,7.01060280733633e-9,6.81536148672139e-9,6.33260979038046e-9,4.64666961539165e-9,1.04953097579037e-7,5.08598104058631e-8,0,0,0,0,0,0,0,0,0,0,0,0,0,0,0,0,0,0,0,0,0,0,0,0,0,0,0,0,0,0,0,0,0,0,5.07210377469761e-8,1.05008459012104e-7,4.65737282578453e-9,6.35659974470933e-9,6.78435908420408e-9,7.06264255441896e-9,7.61330427532161e-9,7.89823111750448e-9,8.33189567652633e-9,7.92960259624223e-9,7.91631585230624e-9,7.78713917515079e-9,6.67289806562995e-9,5.54426298351179e-9,4.4455230752496e-9,3.08067921204719e-9,5.49369954131094e-9,1.17052523313857e-8,8.25586597511484e-9,2.98962810846362e-8,4.79430010356931e-10,0,0,0,0,0,0,0,0,0,0,0,0,0],\"fOption\":\"\",\"fFunctions\":{\"_typename\":\"TList\",\"name\":\"TList\",\"arr\":[],\"opt\":[]},\"fBufferSize\":0,\"fBuffer\":[],\"fBinStatErrOpt\":0,\"fStatOverflows\":2,\"fArray\":[0,0,0,0,0,0,0,0,0,0,0,0,0,7.648632e-4,0.0494081,0.01385563,0.01913494,0.008946287,0.005050284,0.007329078,0.009186864,0.01108535,0.01276149,0.01301786,0.01323596,0.01353425,0.01306889,0.01250755,0.01153977,0.0112184,0.01042377,0.007648632,0.1727576,0.08371758,0,0,0,0,0,0,0,0,0,0,0,0,0,0,0,0,0,0,0,0,0,0,0,0,0,0,0,0,0,0,0,0,0,0,0.08348916,0.1728488,0.00766625,0.01046326,0.01116737,0.01162543,0.01253185,0.01300085,0.01371468,0.01305249,0.01303062,0.01281799,0.0109839,0.009126112,0.007317536,0.00507094,0.009042882,0.01926738,0.01358953,0.04921065,7.891639e-4,0,0,0,0,0,0,0,0,0,0,0,0,0]},{\"_typename\":\"TLegend\",\"fUniqueID\":0,\"fBits\":50331656,\"fLineColor\":1,\"fLineStyle\":1,\"fLineWidth\":1,\"fFillColor\":0,\"fFillStyle\":0,\"fX1\":4.00000016731128,\"fY1\":0.156237322584704,\"fX2\":7.50877214116513,\"fY2\":0.19394977963921,\"fX1NDC\":0.7,\"fY1NDC\":0.71,\"fX2NDC\":0.95,\"fY2NDC\":0.85,\"fBorderSize\":0,\"fInit\":1,\"fShadowColor\":1,\"fCornerRadius\":0,\"fOption\":\"brNDC\",\"fName\":\"TPave\",\"fTextAngle\":0,\"fTextSize\":0.05,\"fTextAlign\":12,\"fTextColor\":1,\"fTextFont\":42,\"fPrimitives\":{\"_typename\":\"TList\",\"name\":\"TList\",\"arr\":[{\"_typename\":\"TLegendEntry\",\"fUniqueID\":0,\"fBits\":50331656,\"fTextAngle\":0,\"fTextSize\":0,\"fTextAlign\":0,\"fTextColor\":0,\"fTextFont\":42,\"fLineColor\":1,\"fLineStyle\":1,\"fLineWidth\":1,\"fFillColor\":0,\"fFillStyle\":0,\"fMarkerColor\":1,\"fMarkerStyle\":21,\"fMarkerSize\":1,\"fObject\":{\"_typename\":\"TH1F\",\"fUniqueID\":0,\"fBits\":50332168,\"fName\":\"h_cl3d_DEFCalib_Em_nomatch_eta\",\"fTitle\":\"3D Cluster eta\",\"fLineColor\":1,\"fLineStyle\":1,\"fLineWidth\":1,\"fFillColor\":0,\"fFillStyle\":1001,\"fMarkerColor\":1,\"fMarkerStyle\":1,\"fMarkerSize\":1,\"fNcells\":102,\"fXaxis\":{\"_typename\":\"TAxis\",\"fUniqueID\":0,\"fBits\":50331648,\"fName\":\"xaxis\",\"fTitle\":\" #eta\",\"fNdivisions\":510,\"fAxisColor\":1,\"fLabelColor\":1,\"fLabelFont\":42,\"fLabelOffset\":0.005,\"fLabelSize\":0.035,\"fTickLength\":0.03,\"fTitleOffset\":1,\"fTitleSize\":0.035,\"fTitleColor\":1,\"fTitleFont\":42,\"fNbins\":100,\"fXmin\":-4,\"fXmax\":4,\"fXbins\":[],\"fFirst\":0,\"fLast\":0,\"fBits2\":0,\"fTimeDisplay\":false,\"fTimeFormat\":\"\",\"fLabels\":null,\"fModLabs\":null},\"fYaxis\":{\"_typename\":\"TAxis\",\"fUniqueID\":0,\"fBits\":50331648,\"fName\":\"yaxis\",\"fTitle\":\"\",\"fNdivisions\":510,\"fAxisColor\":1,\"fLabelColor\":1,\"fLabelFont\":42,\"fLabelOffset\":0.005,\"fLabelSize\":0.035,\"fTickLength\":0.03,\"fTitleOffset\":0,\"fTitleSize\":0.035,\"fTitleColor\":1,\"fTitleFont\":42,\"fNbins\":1,\"fXmin\":0,\"fXmax\":1,\"fXbins\":[],\"fFirst\":0,\"fLast\":0,\"fBits2\":0,\"fTimeDisplay\":false,\"fTimeFormat\":\"\",\"fLabels\":null,\"fModLabs\":null},\"fZaxis\":{\"_typename\":\"TAxis\",\"fUniqueID\":0,\"fBits\":50331648,\"fName\":\"zaxis\",\"fTitle\":\"\",\"fNdivisions\":510,\"fAxisColor\":1,\"fLabelColor\":1,\"fLabelFont\":42,\"fLabelOffset\":0.005,\"fLabelSize\":0.035,\"fTickLength\":0.03,\"fTitleOffset\":1,\"fTitleSize\":0.035,\"fTitleColor\":1,\"fTitleFont\":42,\"fNbins\":1,\"fXmin\":0,\"fXmax\":1,\"fXbins\":[],\"fFirst\":0,\"fLast\":0,\"fBits2\":0,\"fTimeDisplay\":false,\"fTimeFormat\":\"\",\"fLabels\":null,\"fModLabs\":null},\"fBarOffset\":0,\"fBarWidth\":1000,\"fEntries\":226771,\"fTsumw\":226771,\"fTsumw2\":226771,\"fTsumwx\":-1073.85667526722,\"fTsumwx2\":1121742.48478191,\"fMaximum\":-1111,\"fMinimum\":-1111,\"fNormFactor\":0,\"fContour\":[],\"fSumw2\":[0,0,0,0,0,0,0,0,0,0,0,0,0,739,5279,5296,5353,5577,5882,5730,5922,5744,5730,5973,5955,6112,6279,6344,6313,6701,6716,5915,5719,375,0,0,0,0,0,0,0,0,0,0,0,0,0,0,0,0,0,0,0,0,0,0,0,0,0,0,0,0,0,0,0,0,0,0,348,5589,5927,6659,6617,6364,6372,6193,6031,6001,5880,5741,5720,5930,5718,5911,5562,5268,5343,5211,732,0,0,0,0,0,0,0,0,0,0,0,0,0],\"fOption\":\"\",\"fFunctions\":{\"_typename\":\"TList\",\"name\":\"TList\",\"arr\":[],\"opt\":[]},\"fBufferSize\":0,\"fBuffer\":[],\"fBinStatErrOpt\":0,\"fStatOverflows\":2,\"fArray\":[0,0,0,0,0,0,0,0,0,0,0,0,0,739,5279,5296,5353,5577,5882,5730,5922,5744,5730,5973,5955,6112,6279,6344,6313,6701,6716,5915,5719,375,0,0,0,0,0,0,0,0,0,0,0,0,0,0,0,0,0,0,0,0,0,0,0,0,0,0,0,0,0,0,0,0,0,0,348,5589,5927,6659,6617,6364,6372,6193,6031,6001,5880,5741,5720,5930,5718,5911,5562,5268,5343,5211,732,0,0,0,0,0,0,0,0,0,0,0,0,0]},\"fLabel\":\"PU0\",\"fOption\":\"l\"},{\"_typename\":\"TLegendEntry\",\"fUniqueID\":0,\"fBits\":50331656,\"fTextAngle\":0,\"fTextSize\":0,\"fTextAlign\":0,\"fTextColor\":0,\"fTextFont\":42,\"fLineColor\":2,\"fLineStyle\":1,\"fLineWidth\":1,\"fFillColor\":0,\"fFillStyle\":0,\"fMarkerColor\":1,\"fMarkerStyle\":21,\"fMarkerSize\":1,\"fObject\":{\"_typename\":\"TH1F\",\"fUniqueID\":0,\"fBits\":50332168,\"fName\":\"h_cl3d_DEFCalib_Em_nomatch_eta\",\"fTitle\":\"3D Cluster eta\",\"fLineColor\":2,\"fLineStyle\":1,\"fLineWidth\":1,\"fFillColor\":0,\"fFillStyle\":1001,\"fMarkerColor\":1,\"fMarkerStyle\":1,\"fMarkerSize\":1,\"fNcells\":102,\"fXaxis\":{\"_typename\":\"TAxis\",\"fUniqueID\":0,\"fBits\":50331648,\"fName\":\"xaxis\",\"fTitle\":\" #eta\",\"fNdivisions\":510,\"fAxisColor\":1,\"fLabelColor\":1,\"fLabelFont\":42,\"fLabelOffset\":0.005,\"fLabelSize\":0.035,\"fTickLength\":0.03,\"fTitleOffset\":1,\"fTitleSize\":0.035,\"fTitleColor\":1,\"fTitleFont\":42,\"fNbins\":100,\"fXmin\":-4,\"fXmax\":4,\"fXbins\":[],\"fFirst\":0,\"fLast\":0,\"fBits2\":0,\"fTimeDisplay\":false,\"fTimeFormat\":\"\",\"fLabels\":null,\"fModLabs\":null},\"fYaxis\":{\"_typename\":\"TAxis\",\"fUniqueID\":0,\"fBits\":50331648,\"fName\":\"yaxis\",\"fTitle\":\"\",\"fNdivisions\":510,\"fAxisColor\":1,\"fLabelColor\":1,\"fLabelFont\":42,\"fLabelOffset\":0.005,\"fLabelSize\":0.035,\"fTickLength\":0.03,\"fTitleOffset\":0,\"fTitleSize\":0.035,\"fTitleColor\":1,\"fTitleFont\":42,\"fNbins\":1,\"fXmin\":0,\"fXmax\":1,\"fXbins\":[],\"fFirst\":0,\"fLast\":0,\"fBits2\":0,\"fTimeDisplay\":false,\"fTimeFormat\":\"\",\"fLabels\":null,\"fModLabs\":null},\"fZaxis\":{\"_typename\":\"TAxis\",\"fUniqueID\":0,\"fBits\":50331648,\"fName\":\"zaxis\",\"fTitle\":\"\",\"fNdivisions\":510,\"fAxisColor\":1,\"fLabelColor\":1,\"fLabelFont\":42,\"fLabelOffset\":0.005,\"fLabelSize\":0.035,\"fTickLength\":0.03,\"fTitleOffset\":1,\"fTitleSize\":0.035,\"fTitleColor\":1,\"fTitleFont\":42,\"fNbins\":1,\"fXmin\":0,\"fXmax\":1,\"fXbins\":[],\"fFirst\":0,\"fLast\":0,\"fBits2\":0,\"fTimeDisplay\":false,\"fTimeFormat\":\"\",\"fLabels\":null,\"fModLabs\":null},\"fBarOffset\":0,\"fBarWidth\":1000,\"fEntries\":1646046,\"fTsumw\":1646046,\"fTsumw2\":1646046,\"fTsumwx\":-1587.95775508881,\"fTsumwx2\":6416638.39931908,\"fMaximum\":-1111,\"fMinimum\":-1111,\"fNormFactor\":0,\"fContour\":[],\"fSumw2\":[0,0,0,0,0,0,0,0,0,0,0,0,0,1259,81328,22807,31497,14726,8313,12064,15122,18247,21006,21428,21787,22278,21512,20588,18995,18466,17158,12590,284367,137803,0,0,0,0,0,0,0,0,0,0,0,0,0,0,0,0,0,0,0,0,0,0,0,0,0,0,0,0,0,0,0,0,0,0,137427,284517,12619,17223,18382,19136,20628,21400,22575,21485,21449,21099,18080,15022,12045,8347,14885,31715,22369,81003,1299,0,0,0,0,0,0,0,0,0,0,0,0,0],\"fOption\":\"\",\"fFunctions\":{\"_typename\":\"TList\",\"name\":\"TList\",\"arr\":[],\"opt\":[]},\"fBufferSize\":0,\"fBuffer\":[],\"fBinStatErrOpt\":0,\"fStatOverflows\":2,\"fArray\":[0,0,0,0,0,0,0,0,0,0,0,0,0,1259,81328,22807,31497,14726,8313,12064,15122,18247,21006,21428,21787,22278,21512,20588,18995,18466,17158,12590,284367,137803,0,0,0,0,0,0,0,0,0,0,0,0,0,0,0,0,0,0,0,0,0,0,0,0,0,0,0,0,0,0,0,0,0,0,137427,284517,12619,17223,18382,19136,20628,21400,22575,21485,21449,21099,18080,15022,12045,8347,14885,31715,22369,81003,1299,0,0,0,0,0,0,0,0,0,0,0,0,0]},\"fLabel\":\"PU200\",\"fOption\":\"l\"}],\"opt\":[\"l\",\"l\"]},\"fEntrySeparation\":0.1,\"fMargin\":0.25,\"fNColumns\":1,\"fColumnSeparation\":0},{\"_typename\":\"TPaveText\",\"fUniqueID\":0,\"fBits\":50331657,\"fLineColor\":1,\"fLineStyle\":1,\"fLineWidth\":1,\"fFillColor\":0,\"fFillStyle\":0,\"fX1\":-0.66649023771464,\"fY1\":0.218193503095101,\"fX2\":3.05245541417106,\"fY2\":0.233009111444427,\"fX1NDC\":0.36751256281407,\"fY1NDC\":0.940000003948808,\"fX2NDC\":0.63248743718593,\"fY2NDC\":0.995000004768372,\"fBorderSize\":0,\"fInit\":1,\"fShadowColor\":1,\"fCornerRadius\":0,\"fOption\":\"blNDC\",\"fName\":\"title\",\"fTextAngle\":0,\"fTextSize\":0,\"fTextAlign\":22,\"fTextColor\":1,\"fTextFont\":42,\"fLabel\":\"\",\"fLongest\":14,\"fMargin\":0.05,\"fLines\":{\"_typename\":\"TList\",\"name\":\"TList\",\"arr\":[{\"_typename\":\"TLatex\",\"fUniqueID\":0,\"fBits\":50331648,\"fName\":\"\",\"fTitle\":\"3D Cluster eta\",\"fTextAngle\":0,\"fTextSize\":0,\"fTextAlign\":0,\"fTextColor\":0,\"fTextFont\":0,\"fX\":0,\"fY\":0,\"fLineColor\":1,\"fLineStyle\":1,\"fLineWidth\":2,\"fLimitFactorSize\":3,\"fOriginSize\":0.0467500016093254}],\"opt\":[\"\"]}},{\"_typename\":\"TLatex\",\"fUniqueID\":0,\"fBits\":50348040,\"fName\":\"\",\"fTitle\":\"NNDR Calib v1, EGId\",\"fTextAngle\":0,\"fTextSize\":0.03,\"fTextAlign\":11,\"fTextColor\":1,\"fTextFont\":62,\"fX\":0.15,\"fY\":0.85,\"fLineColor\":1,\"fLineStyle\":1,\"fLineWidth\":2,\"fLimitFactorSize\":3,\"fOriginSize\":0.04}],\"opt\":[\"\",\",\",\"SAME,\",\"\",\"blNDC\",\"same\"]},\"fExecs\":null,\"fName\":\"c_aac635\",\"fTitle\":\"h_cl3d_DEFCalib_Em_nomatch_eta\",\"fNumPaletteColor\":0,\"fNextPaletteColor\":0,\"fDISPLAY\":\"$DISPLAY\",\"fDoubleBuffer\":0,\"fRetained\":true,\"fXsizeUser\":0,\"fYsizeUser\":0,\"fXsizeReal\":20,\"fYsizeReal\":15,\"fWindowTopX\":0,\"fWindowTopY\":0,\"fWindowWidth\":0,\"fWindowHeight\":0,\"fCw\":796,\"fCh\":572,\"fCatt\":{\"_typename\":\"TAttCanvas\",\"fXBetween\":2,\"fYBetween\":2,\"fTitleFromTop\":1.2,\"fXdate\":0.2,\"fYdate\":0.3,\"fAdate\":1},\"kMoveOpaque\":true,\"kResizeOpaque\":true,\"fHighLightColor\":2,\"fBatch\":true,\"kShowEventStatus\":false,\"kAutoExec\":true,\"kMenuBar\":true});\n",
       "       Core.draw(\"root_plot_8\", obj, \"\");\n",
       "     }\n",
       " );\n",
       "</script>\n"
      ],
      "text/plain": [
       "<IPython.core.display.HTML object>"
      ]
     },
     "metadata": {},
     "output_type": "display_data"
    }
   ],
   "source": [
    "for tp in tps:\n",
    "    for tp_sel in tp_select:\n",
    "        hsets, labels, text = hplot.get_histo(histos.HistoSetClusters, sample_type, ['PU0', 'PU200'], tp, tp_sel, ['nomatch'])            \n",
    "#         print hsets\n",
    "        drawSame([his.hcl3d.h_eta for his in hsets], labels, norm=True, text=text, logy=True)\n"
   ]
  },
  {
   "cell_type": "code",
   "execution_count": 13,
   "metadata": {
    "scrolled": false
   },
   "outputs": [
    {
     "name": "stdout",
     "output_type": "stream",
     "text": [
      "0.0 0.152109700441\n",
      "0.0 0.226822650433\n",
      "0.0 0.152109700441\n",
      "0.0 0.226822650433\n"
     ]
    },
    {
     "name": "stderr",
     "output_type": "stream",
     "text": [
      "Error in <THistPainter::PaintInit>: Cannot set Y axis to log scale\n",
      "Error in <THistPainter::PaintInit>: Cannot set Y axis to log scale\n",
      "Error in <THistPainter::PaintInit>: Cannot set Y axis to log scale\n",
      "Error in <THistPainter::PaintInit>: Cannot set Y axis to log scale\n"
     ]
    },
    {
     "data": {
      "text/html": [
       "\n",
       "<div id=\"root_plot_9\"\n",
       "     style=\"width: 796px; height: 572px\">\n",
       "</div>\n",
       "\n",
       "<script>\n",
       " requirejs.config({\n",
       "     paths: {\n",
       "       'JSRootCore' : 'https://root.cern.ch/js/notebook//scripts/JSRootCore',\n",
       "     }\n",
       "   });\n",
       " require(['JSRootCore'],\n",
       "     function(Core) {\n",
       "       var obj = Core.JSONR_unref({\"_typename\":\"TCanvas\",\"fUniqueID\":0,\"fBits\":53673992,\"fLineColor\":1,\"fLineStyle\":1,\"fLineWidth\":1,\"fFillColor\":0,\"fFillStyle\":1001,\"fLeftMargin\":0.13,\"fRightMargin\":0.3,\"fBottomMargin\":0.13,\"fTopMargin\":0.1,\"fXfile\":2,\"fYfile\":2,\"fAfile\":1,\"fXstat\":0.99,\"fYstat\":0.99,\"fAstat\":2,\"fFrameFillColor\":0,\"fFrameLineColor\":1,\"fFrameFillStyle\":1001,\"fFrameLineStyle\":1,\"fFrameLineWidth\":1,\"fFrameBorderSize\":1,\"fFrameBorderMode\":0,\"fX1\":-1.45614033986987,\"fY1\":-0.02568085821024,\"fX2\":2.05263163398398,\"fY2\":0.171864207775886,\"fXtoAbsPixelk\":330.340043357658,\"fXtoPixelk\":330.340043357658,\"fXtoPixel\":226.859997153282,\"fYtoAbsPixelk\":497.640051065433,\"fYtoPixelk\":497.640051065433,\"fYtoPixel\":-2895.54182051894,\"fUtoAbsPixelk\":5e-5,\"fUtoPixelk\":5e-5,\"fUtoPixel\":796,\"fVtoAbsPixelk\":572.00005,\"fVtoPixelk\":572,\"fVtoPixel\":-572,\"fAbsPixeltoXk\":-1.45614033986987,\"fPixeltoXk\":-1.45614033986987,\"fPixeltoX\":0.0044080049922787,\"fAbsPixeltoYk\":0.171864207775886,\"fPixeltoYk\":-0.02568085821024,\"fPixeltoY\":-3.45358506968751e-4,\"fXlowNDC\":0,\"fYlowNDC\":0,\"fXUpNDC\":0,\"fYUpNDC\":0,\"fWNDC\":1,\"fHNDC\":1,\"fAbsXlowNDC\":0,\"fAbsYlowNDC\":0,\"fAbsWNDC\":1,\"fAbsHNDC\":1,\"fUxmin\":-1,\"fUymin\":0,\"fUxmax\":1,\"fUymax\":0.15210970044136,\"fTheta\":30,\"fPhi\":30,\"fAspectRatio\":0,\"fNumber\":0,\"fTickx\":0,\"fTicky\":0,\"fLogx\":0,\"fLogy\":1,\"fLogz\":0,\"fPadPaint\":0,\"fCrosshair\":0,\"fCrosshairPos\":0,\"fBorderSize\":2,\"fBorderMode\":0,\"fModified\":false,\"fGridx\":false,\"fGridy\":false,\"fAbsCoord\":false,\"fEditable\":true,\"fFixedAspectRatio\":false,\"fPrimitives\":{\"_typename\":\"TList\",\"name\":\"TList\",\"arr\":[{\"_typename\":\"TFrame\",\"fUniqueID\":0,\"fBits\":50331656,\"fLineColor\":1,\"fLineStyle\":1,\"fLineWidth\":1,\"fFillColor\":0,\"fFillStyle\":1001,\"fX1\":-1,\"fY1\":0,\"fX2\":1,\"fY2\":0.15210970044136,\"fBorderSize\":1,\"fBorderMode\":0},{\"_typename\":\"TH1F\",\"fUniqueID\":0,\"fBits\":50332169,\"fName\":\"h_cl3d_DEF_all_nomatch_bdt\",\"fTitle\":\"3D Cluster bdt out\",\"fLineColor\":1,\"fLineStyle\":1,\"fLineWidth\":1,\"fFillColor\":0,\"fFillStyle\":1001,\"fMarkerColor\":1,\"fMarkerStyle\":1,\"fMarkerSize\":1,\"fNcells\":102,\"fXaxis\":{\"_typename\":\"TAxis\",\"fUniqueID\":0,\"fBits\":50331648,\"fName\":\"xaxis\",\"fTitle\":\" BDT out\",\"fNdivisions\":510,\"fAxisColor\":1,\"fLabelColor\":1,\"fLabelFont\":42,\"fLabelOffset\":0.005,\"fLabelSize\":0.035,\"fTickLength\":0.03,\"fTitleOffset\":1,\"fTitleSize\":0.035,\"fTitleColor\":1,\"fTitleFont\":42,\"fNbins\":100,\"fXmin\":-1,\"fXmax\":1,\"fXbins\":[],\"fFirst\":0,\"fLast\":0,\"fBits2\":0,\"fTimeDisplay\":false,\"fTimeFormat\":\"\",\"fLabels\":null,\"fModLabs\":null},\"fYaxis\":{\"_typename\":\"TAxis\",\"fUniqueID\":0,\"fBits\":50331656,\"fName\":\"yaxis\",\"fTitle\":\"\",\"fNdivisions\":510,\"fAxisColor\":1,\"fLabelColor\":1,\"fLabelFont\":42,\"fLabelOffset\":0.005,\"fLabelSize\":0.035,\"fTickLength\":0.03,\"fTitleOffset\":0,\"fTitleSize\":0.035,\"fTitleColor\":1,\"fTitleFont\":42,\"fNbins\":1,\"fXmin\":0,\"fXmax\":1,\"fXbins\":[],\"fFirst\":0,\"fLast\":0,\"fBits2\":0,\"fTimeDisplay\":false,\"fTimeFormat\":\"\",\"fLabels\":null,\"fModLabs\":null},\"fZaxis\":{\"_typename\":\"TAxis\",\"fUniqueID\":0,\"fBits\":50331648,\"fName\":\"zaxis\",\"fTitle\":\"\",\"fNdivisions\":510,\"fAxisColor\":1,\"fLabelColor\":1,\"fLabelFont\":42,\"fLabelOffset\":0.005,\"fLabelSize\":0.035,\"fTickLength\":0.03,\"fTitleOffset\":1,\"fTitleSize\":0.035,\"fTitleColor\":1,\"fTitleFont\":42,\"fNbins\":1,\"fXmin\":0,\"fXmax\":1,\"fXbins\":[],\"fFirst\":0,\"fLast\":0,\"fBits2\":0,\"fTimeDisplay\":false,\"fTimeFormat\":\"\",\"fLabels\":null,\"fModLabs\":null},\"fBarOffset\":0,\"fBarWidth\":1000,\"fEntries\":346471,\"fTsumw\":346471,\"fTsumw2\":346471,\"fTsumwx\":56111.5706059189,\"fTsumwx2\":19663.6103676725,\"fMaximum\":0.15210970044136,\"fMinimum\":0,\"fNormFactor\":0,\"fContour\":[],\"fSumw2\":[0,0,0,0,0,0,0,0,0,0,0,0,0,0,0,0,0,0,0,0,0,0,0,0,0,0,0,0,0,0,2.49912210336846e-11,1.24956105168423e-10,4.58172385617551e-10,1.15792657456072e-9,2.14091460188565e-9,3.76534396907514e-9,5.09820909087166e-9,7.25578450677976e-9,1.02130789957658e-8,1.43033088382788e-8,1.86267900771062e-8,2.59992002820432e-8,3.06975498363759e-8,4.13104883686806e-8,5.18484532378843e-8,6.93922904035309e-8,8.00052289358356e-8,9.89735657004022e-8,1.14109915239804e-7,9.77489958697516e-8,9.69492767966737e-8,6.8375980748161e-8,5.2898084521299e-8,4.30182218059824e-8,3.53709081696749e-8,3.26468650770033e-8,3.16305554216335e-8,3.1247356699117e-8,3.05892545452299e-8,3.06975498363759e-8,3.45795195036082e-8,4.52924229200477e-8,1.06121054916036e-7,2.26353819309093e-7,2.5312774744318e-7,3.23952867852642e-7,3.6585481511912e-7,2.81592748200547e-7,7.47154204837057e-8,2.63490773765148e-8,1.70440127449729e-8,4.32348123882743e-9,2.58242617348074e-10,0,0,0,0,0,0,0,0,0,0,0,0,0,0,0,0,0,0,0,0,0,0,0,0,0,0,0,0,0],\"fOption\":\"\",\"fFunctions\":{\"_typename\":\"TList\",\"name\":\"TList\",\"arr\":[],\"opt\":[]},\"fBufferSize\":0,\"fBuffer\":[],\"fBinStatErrOpt\":0,\"fStatOverflows\":2,\"fArray\":[0,0,0,0,0,0,0,0,0,0,0,0,0,0,0,0,0,0,0,0,0,0,0,0,0,0,0,0,0,0,8.658733e-6,4.329366e-5,1.587434e-4,4.01188e-4,7.417648e-4,0.001304582,0.001766382,0.002513919,0.003538536,0.004955682,0.006453643,0.009007969,0.01063581,0.01431289,0.01796398,0.02404242,0.02771949,0.03429147,0.03953578,0.03386719,0.03359011,0.02369029,0.01832765,0.01490457,0.01225499,0.01131119,0.01095907,0.0108263,0.01059829,0.01063581,0.0119808,0.01569251,0.03676787,0.07842503,0.08770142,0.1122403,0.1267581,0.09756372,0.02588673,0.009129191,0.005905256,0.001497961,8.947358e-5,0,0,0,0,0,0,0,0,0,0,0,0,0,0,0,0,0,0,0,0,0,0,0,0,0,0,0,0,0]},{\"_typename\":\"TH1F\",\"fUniqueID\":0,\"fBits\":50332169,\"fName\":\"h_cl3d_DEF_all_nomatch_bdt\",\"fTitle\":\"3D Cluster bdt out\",\"fLineColor\":2,\"fLineStyle\":1,\"fLineWidth\":1,\"fFillColor\":0,\"fFillStyle\":1001,\"fMarkerColor\":1,\"fMarkerStyle\":1,\"fMarkerSize\":1,\"fNcells\":102,\"fXaxis\":{\"_typename\":\"TAxis\",\"fUniqueID\":0,\"fBits\":50331648,\"fName\":\"xaxis\",\"fTitle\":\" BDT out\",\"fNdivisions\":510,\"fAxisColor\":1,\"fLabelColor\":1,\"fLabelFont\":42,\"fLabelOffset\":0.005,\"fLabelSize\":0.035,\"fTickLength\":0.03,\"fTitleOffset\":1,\"fTitleSize\":0.035,\"fTitleColor\":1,\"fTitleFont\":42,\"fNbins\":100,\"fXmin\":-1,\"fXmax\":1,\"fXbins\":[],\"fFirst\":0,\"fLast\":0,\"fBits2\":0,\"fTimeDisplay\":false,\"fTimeFormat\":\"\",\"fLabels\":null,\"fModLabs\":null},\"fYaxis\":{\"_typename\":\"TAxis\",\"fUniqueID\":0,\"fBits\":50331648,\"fName\":\"yaxis\",\"fTitle\":\"\",\"fNdivisions\":510,\"fAxisColor\":1,\"fLabelColor\":1,\"fLabelFont\":42,\"fLabelOffset\":0.005,\"fLabelSize\":0.035,\"fTickLength\":0.03,\"fTitleOffset\":0,\"fTitleSize\":0.035,\"fTitleColor\":1,\"fTitleFont\":42,\"fNbins\":1,\"fXmin\":0,\"fXmax\":1,\"fXbins\":[],\"fFirst\":0,\"fLast\":0,\"fBits2\":0,\"fTimeDisplay\":false,\"fTimeFormat\":\"\",\"fLabels\":null,\"fModLabs\":null},\"fZaxis\":{\"_typename\":\"TAxis\",\"fUniqueID\":0,\"fBits\":50331648,\"fName\":\"zaxis\",\"fTitle\":\"\",\"fNdivisions\":510,\"fAxisColor\":1,\"fLabelColor\":1,\"fLabelFont\":42,\"fLabelOffset\":0.005,\"fLabelSize\":0.035,\"fTickLength\":0.03,\"fTitleOffset\":1,\"fTitleSize\":0.035,\"fTitleColor\":1,\"fTitleFont\":42,\"fNbins\":1,\"fXmin\":0,\"fXmax\":1,\"fXbins\":[],\"fFirst\":0,\"fLast\":0,\"fBits2\":0,\"fTimeDisplay\":false,\"fTimeFormat\":\"\",\"fLabels\":null,\"fModLabs\":null},\"fBarOffset\":0,\"fBarWidth\":1000,\"fEntries\":79241009,\"fTsumw\":79241009,\"fTsumw2\":79241009,\"fTsumwx\":-11413777.5656457,\"fTsumwx2\":2154216.40761358,\"fMaximum\":-1111,\"fMinimum\":-1111,\"fNormFactor\":0,\"fContour\":[],\"fSumw2\":[0,0,0,0,0,0,0,0,0,0,0,0,0,0,0,0,0,0,0,0,0,0,0,0,0,0,0,7.00733181087046e-15,7.81954527076681e-14,5.16472205969384e-13,2.39523341898845e-12,8.89023371995959e-12,2.70545118340651e-11,6.71845455696733e-11,1.26456220949462e-10,1.88296242695476e-10,2.71591281128505e-10,3.86435238464567e-10,5.1463819612543e-10,6.50531541191182e-10,7.57359588708232e-10,9.12577403075412e-10,1.04051296732467e-9,1.21399141061836e-9,1.29205006109817e-9,1.36507219183893e-9,1.1607130742849e-9,9.34314146352732e-10,7.15769959607927e-10,4.45787975932805e-10,2.71603066186551e-10,1.24389376580338e-10,5.60245733731563e-11,2.79089285423678e-11,1.55000587081043e-11,8.90966313998064e-12,5.94269514824162e-12,3.88413217125727e-12,2.82029179633421e-12,2.09105151538021e-12,1.56836826530573e-12,1.47058413503586e-12,1.8187211200032e-12,2.31528613332806e-12,2.39714450948232e-12,2.65737133173147e-12,3.11221086927342e-12,2.16096557594776e-12,5.54534758305703e-13,2.12608817443456e-13,1.26291230136824e-13,3.48774015131962e-14,1.75183295271762e-15,0,0,0,0,0,0,0,0,0,0,0,0,0,0,0,0,0,0,0,0,0,0,0,0,0,0,0,0,0],\"fOption\":\"\",\"fFunctions\":{\"_typename\":\"TList\",\"name\":\"TList\",\"arr\":[],\"opt\":[]},\"fBufferSize\":0,\"fBuffer\":[],\"fBinStatErrOpt\":0,\"fStatOverflows\":2,\"fArray\":[0,0,0,0,0,0,0,0,0,0,0,0,0,0,0,0,0,0,0,0,0,0,0,0,0,0,0,5.552681e-7,6.196286e-6,4.092578e-5,1.898007e-4,7.044711e-4,0.002143827,0.005323771,0.01002052,0.01492078,0.02152117,0.03062152,0.04078045,0.05154878,0.06001394,0.07231355,0.0824513,0.0961979,0.1023834,0.1081697,0.09197608,0.07403599,0.05671833,0.03532469,0.0215221,0.00985674,0.004439444,0.002211532,0.00122824,7.060107e-4,4.709052e-4,3.077826e-4,2.234828e-4,1.65697e-4,1.242791e-4,1.165306e-4,1.441173e-4,1.834656e-4,1.899521e-4,2.105728e-4,2.466147e-4,1.712371e-4,4.394189e-5,1.684734e-5,1.000744e-5,2.76372e-6,1.38817e-7,0,0,0,0,0,0,0,0,0,0,0,0,0,0,0,0,0,0,0,0,0,0,0,0,0,0,0,0,0]},{\"_typename\":\"TLegend\",\"fUniqueID\":0,\"fBits\":50331656,\"fLineColor\":1,\"fLineStyle\":1,\"fLineWidth\":1,\"fFillColor\":0,\"fFillStyle\":0,\"fX1\":1.00000004182782,\"fY1\":0.114576138639909,\"fX2\":1.87719303529128,\"fY2\":0.142232447877967,\"fX1NDC\":0.7,\"fY1NDC\":0.71,\"fX2NDC\":0.95,\"fY2NDC\":0.85,\"fBorderSize\":0,\"fInit\":1,\"fShadowColor\":1,\"fCornerRadius\":0,\"fOption\":\"brNDC\",\"fName\":\"TPave\",\"fTextAngle\":0,\"fTextSize\":0.05,\"fTextAlign\":12,\"fTextColor\":1,\"fTextFont\":42,\"fPrimitives\":{\"_typename\":\"TList\",\"name\":\"TList\",\"arr\":[{\"_typename\":\"TLegendEntry\",\"fUniqueID\":0,\"fBits\":50331656,\"fTextAngle\":0,\"fTextSize\":0,\"fTextAlign\":0,\"fTextColor\":0,\"fTextFont\":42,\"fLineColor\":1,\"fLineStyle\":1,\"fLineWidth\":1,\"fFillColor\":0,\"fFillStyle\":0,\"fMarkerColor\":1,\"fMarkerStyle\":21,\"fMarkerSize\":1,\"fObject\":{\"_typename\":\"TH1F\",\"fUniqueID\":0,\"fBits\":50332168,\"fName\":\"h_cl3d_DEF_all_nomatch_bdt\",\"fTitle\":\"3D Cluster bdt out\",\"fLineColor\":1,\"fLineStyle\":1,\"fLineWidth\":1,\"fFillColor\":0,\"fFillStyle\":1001,\"fMarkerColor\":1,\"fMarkerStyle\":1,\"fMarkerSize\":1,\"fNcells\":102,\"fXaxis\":{\"_typename\":\"TAxis\",\"fUniqueID\":0,\"fBits\":50331648,\"fName\":\"xaxis\",\"fTitle\":\" BDT out\",\"fNdivisions\":510,\"fAxisColor\":1,\"fLabelColor\":1,\"fLabelFont\":42,\"fLabelOffset\":0.005,\"fLabelSize\":0.035,\"fTickLength\":0.03,\"fTitleOffset\":1,\"fTitleSize\":0.035,\"fTitleColor\":1,\"fTitleFont\":42,\"fNbins\":100,\"fXmin\":-1,\"fXmax\":1,\"fXbins\":[],\"fFirst\":0,\"fLast\":0,\"fBits2\":0,\"fTimeDisplay\":false,\"fTimeFormat\":\"\",\"fLabels\":null,\"fModLabs\":null},\"fYaxis\":{\"_typename\":\"TAxis\",\"fUniqueID\":0,\"fBits\":50331648,\"fName\":\"yaxis\",\"fTitle\":\"\",\"fNdivisions\":510,\"fAxisColor\":1,\"fLabelColor\":1,\"fLabelFont\":42,\"fLabelOffset\":0.005,\"fLabelSize\":0.035,\"fTickLength\":0.03,\"fTitleOffset\":0,\"fTitleSize\":0.035,\"fTitleColor\":1,\"fTitleFont\":42,\"fNbins\":1,\"fXmin\":0,\"fXmax\":1,\"fXbins\":[],\"fFirst\":0,\"fLast\":0,\"fBits2\":0,\"fTimeDisplay\":false,\"fTimeFormat\":\"\",\"fLabels\":null,\"fModLabs\":null},\"fZaxis\":{\"_typename\":\"TAxis\",\"fUniqueID\":0,\"fBits\":50331648,\"fName\":\"zaxis\",\"fTitle\":\"\",\"fNdivisions\":510,\"fAxisColor\":1,\"fLabelColor\":1,\"fLabelFont\":42,\"fLabelOffset\":0.005,\"fLabelSize\":0.035,\"fTickLength\":0.03,\"fTitleOffset\":1,\"fTitleSize\":0.035,\"fTitleColor\":1,\"fTitleFont\":42,\"fNbins\":1,\"fXmin\":0,\"fXmax\":1,\"fXbins\":[],\"fFirst\":0,\"fLast\":0,\"fBits2\":0,\"fTimeDisplay\":false,\"fTimeFormat\":\"\",\"fLabels\":null,\"fModLabs\":null},\"fBarOffset\":0,\"fBarWidth\":1000,\"fEntries\":346471,\"fTsumw\":346471,\"fTsumw2\":346471,\"fTsumwx\":56111.5706059189,\"fTsumwx2\":19663.6103676725,\"fMaximum\":-1111,\"fMinimum\":-1111,\"fNormFactor\":0,\"fContour\":[],\"fSumw2\":[0,0,0,0,0,0,0,0,0,0,0,0,0,0,0,0,0,0,0,0,0,0,0,0,0,0,0,0,0,0,3,15,55,139,257,452,612,871,1226,1717,2236,3121,3685,4959,6224,8330,9604,11881,13698,11734,11638,8208,6350,5164,4246,3919,3797,3751,3672,3685,4151,5437,12739,27172,30386,38888,43918,33803,8969,3163,2046,519,31,0,0,0,0,0,0,0,0,0,0,0,0,0,0,0,0,0,0,0,0,0,0,0,0,0,0,0,0,0],\"fOption\":\"\",\"fFunctions\":{\"_typename\":\"TList\",\"name\":\"TList\",\"arr\":[],\"opt\":[]},\"fBufferSize\":0,\"fBuffer\":[],\"fBinStatErrOpt\":0,\"fStatOverflows\":2,\"fArray\":[0,0,0,0,0,0,0,0,0,0,0,0,0,0,0,0,0,0,0,0,0,0,0,0,0,0,0,0,0,0,3,15,55,139,257,452,612,871,1226,1717,2236,3121,3685,4959,6224,8330,9604,11881,13698,11734,11638,8208,6350,5164,4246,3919,3797,3751,3672,3685,4151,5437,12739,27172,30386,38888,43918,33803,8969,3163,2046,519,31,0,0,0,0,0,0,0,0,0,0,0,0,0,0,0,0,0,0,0,0,0,0,0,0,0,0,0,0,0]},\"fLabel\":\"PU0\",\"fOption\":\"l\"},{\"_typename\":\"TLegendEntry\",\"fUniqueID\":0,\"fBits\":50331656,\"fTextAngle\":0,\"fTextSize\":0,\"fTextAlign\":0,\"fTextColor\":0,\"fTextFont\":42,\"fLineColor\":2,\"fLineStyle\":1,\"fLineWidth\":1,\"fFillColor\":0,\"fFillStyle\":0,\"fMarkerColor\":1,\"fMarkerStyle\":21,\"fMarkerSize\":1,\"fObject\":{\"_typename\":\"TH1F\",\"fUniqueID\":0,\"fBits\":50332168,\"fName\":\"h_cl3d_DEF_all_nomatch_bdt\",\"fTitle\":\"3D Cluster bdt out\",\"fLineColor\":2,\"fLineStyle\":1,\"fLineWidth\":1,\"fFillColor\":0,\"fFillStyle\":1001,\"fMarkerColor\":1,\"fMarkerStyle\":1,\"fMarkerSize\":1,\"fNcells\":102,\"fXaxis\":{\"_typename\":\"TAxis\",\"fUniqueID\":0,\"fBits\":50331648,\"fName\":\"xaxis\",\"fTitle\":\" BDT out\",\"fNdivisions\":510,\"fAxisColor\":1,\"fLabelColor\":1,\"fLabelFont\":42,\"fLabelOffset\":0.005,\"fLabelSize\":0.035,\"fTickLength\":0.03,\"fTitleOffset\":1,\"fTitleSize\":0.035,\"fTitleColor\":1,\"fTitleFont\":42,\"fNbins\":100,\"fXmin\":-1,\"fXmax\":1,\"fXbins\":[],\"fFirst\":0,\"fLast\":0,\"fBits2\":0,\"fTimeDisplay\":false,\"fTimeFormat\":\"\",\"fLabels\":null,\"fModLabs\":null},\"fYaxis\":{\"_typename\":\"TAxis\",\"fUniqueID\":0,\"fBits\":50331648,\"fName\":\"yaxis\",\"fTitle\":\"\",\"fNdivisions\":510,\"fAxisColor\":1,\"fLabelColor\":1,\"fLabelFont\":42,\"fLabelOffset\":0.005,\"fLabelSize\":0.035,\"fTickLength\":0.03,\"fTitleOffset\":0,\"fTitleSize\":0.035,\"fTitleColor\":1,\"fTitleFont\":42,\"fNbins\":1,\"fXmin\":0,\"fXmax\":1,\"fXbins\":[],\"fFirst\":0,\"fLast\":0,\"fBits2\":0,\"fTimeDisplay\":false,\"fTimeFormat\":\"\",\"fLabels\":null,\"fModLabs\":null},\"fZaxis\":{\"_typename\":\"TAxis\",\"fUniqueID\":0,\"fBits\":50331648,\"fName\":\"zaxis\",\"fTitle\":\"\",\"fNdivisions\":510,\"fAxisColor\":1,\"fLabelColor\":1,\"fLabelFont\":42,\"fLabelOffset\":0.005,\"fLabelSize\":0.035,\"fTickLength\":0.03,\"fTitleOffset\":1,\"fTitleSize\":0.035,\"fTitleColor\":1,\"fTitleFont\":42,\"fNbins\":1,\"fXmin\":0,\"fXmax\":1,\"fXbins\":[],\"fFirst\":0,\"fLast\":0,\"fBits2\":0,\"fTimeDisplay\":false,\"fTimeFormat\":\"\",\"fLabels\":null,\"fModLabs\":null},\"fBarOffset\":0,\"fBarWidth\":1000,\"fEntries\":79241009,\"fTsumw\":79241009,\"fTsumw2\":79241009,\"fTsumwx\":-11413777.5656457,\"fTsumwx2\":2154216.40761358,\"fMaximum\":-1111,\"fMinimum\":-1111,\"fNormFactor\":0,\"fContour\":[],\"fSumw2\":[0,0,0,0,0,0,0,0,0,0,0,0,0,0,0,0,0,0,0,0,0,0,0,0,0,0,0,44,491,3243,15040,55823,169879,421861,794036,1182338,1705359,2426480,3231484,4084777,4755565,5730199,6533524,7622819,8112960,8571476,7288277,5866687,4494418,2799164,1705433,781058,351786,175244,97327,55945,37315,24389,17709,13130,9848,9234,11420,14538,15052,16686,19542,13569,3482,1335,793,219,11,0,0,0,0,0,0,0,0,0,0,0,0,0,0,0,0,0,0,0,0,0,0,0,0,0,0,0,0,0],\"fOption\":\"\",\"fFunctions\":{\"_typename\":\"TList\",\"name\":\"TList\",\"arr\":[],\"opt\":[]},\"fBufferSize\":0,\"fBuffer\":[],\"fBinStatErrOpt\":0,\"fStatOverflows\":2,\"fArray\":[0,0,0,0,0,0,0,0,0,0,0,0,0,0,0,0,0,0,0,0,0,0,0,0,0,0,0,44,491,3243,15040,55823,169879,421861,794036,1182338,1705359,2426480,3231484,4084777,4755565,5730199,6533524,7622819,8112960,8571476,7288277,5866687,4494418,2799164,1705433,781058,351786,175244,97327,55945,37315,24389,17709,13130,9848,9234,11420,14538,15052,16686,19542,13569,3482,1335,793,219,11,0,0,0,0,0,0,0,0,0,0,0,0,0,0,0,0,0,0,0,0,0,0,0,0,0,0,0,0,0]},\"fLabel\":\"PU200\",\"fOption\":\"l\"}],\"opt\":[\"l\",\"l\"]},\"fEntrySeparation\":0.1,\"fMargin\":0.25,\"fNColumns\":1,\"fColumnSeparation\":0},{\"_typename\":\"TPaveText\",\"fUniqueID\":0,\"fBits\":50331657,\"fLineColor\":1,\"fLineStyle\":1,\"fLineWidth\":1,\"fFillColor\":0,\"fFillStyle\":0,\"fX1\":-0.290046699212464,\"fY1\":0.160011504596786,\"fX2\":0.886537993326568,\"fY2\":0.170876483387923,\"fX1NDC\":0.332336683417085,\"fY1NDC\":0.940000003948808,\"fX2NDC\":0.667663316582915,\"fY2NDC\":0.995000004768372,\"fBorderSize\":0,\"fInit\":1,\"fShadowColor\":1,\"fCornerRadius\":0,\"fOption\":\"blNDC\",\"fName\":\"title\",\"fTextAngle\":0,\"fTextSize\":0,\"fTextAlign\":22,\"fTextColor\":1,\"fTextFont\":42,\"fLabel\":\"\",\"fLongest\":18,\"fMargin\":0.05,\"fLines\":{\"_typename\":\"TList\",\"name\":\"TList\",\"arr\":[{\"_typename\":\"TLatex\",\"fUniqueID\":0,\"fBits\":50331648,\"fName\":\"\",\"fTitle\":\"3D Cluster bdt out\",\"fTextAngle\":0,\"fTextSize\":0,\"fTextAlign\":0,\"fTextColor\":0,\"fTextFont\":0,\"fX\":0,\"fY\":0,\"fLineColor\":1,\"fLineStyle\":1,\"fLineWidth\":2,\"fLimitFactorSize\":3,\"fOriginSize\":0.0467500016093254}],\"opt\":[\"\"]}},{\"_typename\":\"TLatex\",\"fUniqueID\":0,\"fBits\":50348040,\"fName\":\"\",\"fTitle\":\"NNDR\",\"fTextAngle\":0,\"fTextSize\":0.03,\"fTextAlign\":11,\"fTextColor\":1,\"fTextFont\":62,\"fX\":0.15,\"fY\":0.85,\"fLineColor\":1,\"fLineStyle\":1,\"fLineWidth\":2,\"fLimitFactorSize\":3,\"fOriginSize\":0.04}],\"opt\":[\"\",\",\",\"SAME,\",\"\",\"blNDC\",\"same\"]},\"fExecs\":null,\"fName\":\"c_e93b30\",\"fTitle\":\"h_cl3d_DEF_all_nomatch_bdt\",\"fNumPaletteColor\":0,\"fNextPaletteColor\":0,\"fDISPLAY\":\"$DISPLAY\",\"fDoubleBuffer\":0,\"fRetained\":true,\"fXsizeUser\":0,\"fYsizeUser\":0,\"fXsizeReal\":20,\"fYsizeReal\":15,\"fWindowTopX\":0,\"fWindowTopY\":0,\"fWindowWidth\":0,\"fWindowHeight\":0,\"fCw\":796,\"fCh\":572,\"fCatt\":{\"_typename\":\"TAttCanvas\",\"fXBetween\":2,\"fYBetween\":2,\"fTitleFromTop\":1.2,\"fXdate\":0.2,\"fYdate\":0.3,\"fAdate\":1},\"kMoveOpaque\":true,\"kResizeOpaque\":true,\"fHighLightColor\":2,\"fBatch\":true,\"kShowEventStatus\":false,\"kAutoExec\":true,\"kMenuBar\":true});\n",
       "       Core.draw(\"root_plot_9\", obj, \"\");\n",
       "     }\n",
       " );\n",
       "</script>\n"
      ],
      "text/plain": [
       "<IPython.core.display.HTML object>"
      ]
     },
     "metadata": {},
     "output_type": "display_data"
    },
    {
     "data": {
      "text/html": [
       "\n",
       "<div id=\"root_plot_10\"\n",
       "     style=\"width: 796px; height: 572px\">\n",
       "</div>\n",
       "\n",
       "<script>\n",
       " requirejs.config({\n",
       "     paths: {\n",
       "       'JSRootCore' : 'https://root.cern.ch/js/notebook//scripts/JSRootCore',\n",
       "     }\n",
       "   });\n",
       " require(['JSRootCore'],\n",
       "     function(Core) {\n",
       "       var obj = Core.JSONR_unref({\"_typename\":\"TCanvas\",\"fUniqueID\":0,\"fBits\":53673992,\"fLineColor\":1,\"fLineStyle\":1,\"fLineWidth\":1,\"fFillColor\":0,\"fFillStyle\":1001,\"fLeftMargin\":0.13,\"fRightMargin\":0.3,\"fBottomMargin\":0.13,\"fTopMargin\":0.1,\"fXfile\":2,\"fYfile\":2,\"fAfile\":1,\"fXstat\":0.99,\"fYstat\":0.99,\"fAstat\":2,\"fFrameFillColor\":0,\"fFrameLineColor\":1,\"fFrameFillStyle\":1001,\"fFrameLineStyle\":1,\"fFrameLineWidth\":1,\"fFrameBorderSize\":1,\"fFrameBorderMode\":0,\"fX1\":-1.45614033986987,\"fY1\":-0.0382947327338645,\"fX2\":2.05263163398398,\"fY2\":0.256280138670389,\"fXtoAbsPixelk\":330.340043357658,\"fXtoPixelk\":330.340043357658,\"fXtoPixel\":226.859997153282,\"fYtoAbsPixelk\":497.640051065433,\"fYtoPixelk\":497.640051065433,\"fYtoPixel\":-1941.78137895214,\"fUtoAbsPixelk\":5e-5,\"fUtoPixelk\":5e-5,\"fUtoPixel\":796,\"fVtoAbsPixelk\":572.00005,\"fVtoPixelk\":572,\"fVtoPixel\":-572,\"fAbsPixeltoXk\":-1.45614033986987,\"fPixeltoXk\":-1.45614033986987,\"fPixeltoX\":0.0044080049922787,\"fAbsPixeltoYk\":0.256280138670389,\"fPixeltoYk\":-0.0382947327338645,\"fPixeltoY\":-5.1499103392352e-4,\"fXlowNDC\":0,\"fYlowNDC\":0,\"fXUpNDC\":0,\"fYUpNDC\":0,\"fWNDC\":1,\"fHNDC\":1,\"fAbsXlowNDC\":0,\"fAbsYlowNDC\":0,\"fAbsWNDC\":1,\"fAbsHNDC\":1,\"fUxmin\":-1,\"fUymin\":0,\"fUxmax\":1,\"fUymax\":0.226822650432587,\"fTheta\":30,\"fPhi\":30,\"fAspectRatio\":0,\"fNumber\":0,\"fTickx\":0,\"fTicky\":0,\"fLogx\":0,\"fLogy\":1,\"fLogz\":0,\"fPadPaint\":0,\"fCrosshair\":0,\"fCrosshairPos\":0,\"fBorderSize\":2,\"fBorderMode\":0,\"fModified\":false,\"fGridx\":false,\"fGridy\":false,\"fAbsCoord\":false,\"fEditable\":true,\"fFixedAspectRatio\":false,\"fPrimitives\":{\"_typename\":\"TList\",\"name\":\"TList\",\"arr\":[{\"_typename\":\"TFrame\",\"fUniqueID\":0,\"fBits\":50331656,\"fLineColor\":1,\"fLineStyle\":1,\"fLineWidth\":1,\"fFillColor\":0,\"fFillStyle\":1001,\"fX1\":-1,\"fY1\":0,\"fX2\":1,\"fY2\":0.226822650432587,\"fBorderSize\":1,\"fBorderMode\":0},{\"_typename\":\"TH1F\",\"fUniqueID\":0,\"fBits\":50332169,\"fName\":\"h_cl3d_DEF_Em_nomatch_bdt\",\"fTitle\":\"3D Cluster bdt out\",\"fLineColor\":1,\"fLineStyle\":1,\"fLineWidth\":1,\"fFillColor\":0,\"fFillStyle\":1001,\"fMarkerColor\":1,\"fMarkerStyle\":1,\"fMarkerSize\":1,\"fNcells\":102,\"fXaxis\":{\"_typename\":\"TAxis\",\"fUniqueID\":0,\"fBits\":50331648,\"fName\":\"xaxis\",\"fTitle\":\" BDT out\",\"fNdivisions\":510,\"fAxisColor\":1,\"fLabelColor\":1,\"fLabelFont\":42,\"fLabelOffset\":0.005,\"fLabelSize\":0.035,\"fTickLength\":0.03,\"fTitleOffset\":1,\"fTitleSize\":0.035,\"fTitleColor\":1,\"fTitleFont\":42,\"fNbins\":100,\"fXmin\":-1,\"fXmax\":1,\"fXbins\":[],\"fFirst\":0,\"fLast\":0,\"fBits2\":0,\"fTimeDisplay\":false,\"fTimeFormat\":\"\",\"fLabels\":null,\"fModLabs\":null},\"fYaxis\":{\"_typename\":\"TAxis\",\"fUniqueID\":0,\"fBits\":50331656,\"fName\":\"yaxis\",\"fTitle\":\"\",\"fNdivisions\":510,\"fAxisColor\":1,\"fLabelColor\":1,\"fLabelFont\":42,\"fLabelOffset\":0.005,\"fLabelSize\":0.035,\"fTickLength\":0.03,\"fTitleOffset\":0,\"fTitleSize\":0.035,\"fTitleColor\":1,\"fTitleFont\":42,\"fNbins\":1,\"fXmin\":0,\"fXmax\":1,\"fXbins\":[],\"fFirst\":0,\"fLast\":0,\"fBits2\":0,\"fTimeDisplay\":false,\"fTimeFormat\":\"\",\"fLabels\":null,\"fModLabs\":null},\"fZaxis\":{\"_typename\":\"TAxis\",\"fUniqueID\":0,\"fBits\":50331648,\"fName\":\"zaxis\",\"fTitle\":\"\",\"fNdivisions\":510,\"fAxisColor\":1,\"fLabelColor\":1,\"fLabelFont\":42,\"fLabelOffset\":0.005,\"fLabelSize\":0.035,\"fTickLength\":0.03,\"fTitleOffset\":1,\"fTitleSize\":0.035,\"fTitleColor\":1,\"fTitleFont\":42,\"fNbins\":1,\"fXmin\":0,\"fXmax\":1,\"fXbins\":[],\"fFirst\":0,\"fLast\":0,\"fBits2\":0,\"fTimeDisplay\":false,\"fTimeFormat\":\"\",\"fLabels\":null,\"fModLabs\":null},\"fBarOffset\":0,\"fBarWidth\":1000,\"fEntries\":226771,\"fTsumw\":226771,\"fTsumw2\":226771,\"fTsumwx\":59215.9161862838,\"fTsumwx2\":17528.2848873903,\"fMaximum\":0.226822650432587,\"fMinimum\":0,\"fNormFactor\":0,\"fContour\":[],\"fSumw2\":[0,0,0,0,0,0,0,0,0,0,0,0,0,0,0,0,0,0,0,0,0,0,0,0,0,0,0,0,0,0,0,0,0,0,0,1.75011859441903e-10,2.7224067024296e-10,5.83372864806343e-10,7.38938962088034e-10,9.5284234585036e-10,1.49732368633628e-9,1.82790164305987e-9,2.81963551323066e-9,3.79192362124123e-9,5.19201849677645e-9,6.39765575070956e-9,9.8590014152272e-9,2.07486282249456e-8,4.66892749466677e-8,4.22945326984599e-8,5.90178881562417e-8,4.18667259309352e-8,3.68497192936007e-8,3.63052379531148e-8,3.38550719209281e-8,3.59163227099105e-8,3.64996955747169e-8,3.7335863347606e-8,3.63635752395954e-8,3.93387768501077e-8,4.53669631197733e-8,7.11131522198932e-8,2.11336543157178e-7,5.00553363766003e-7,5.63693753500209e-7,7.27796540370233e-7,8.33523149235303e-7,6.42585210584187e-7,1.66825193572454e-7,5.99512847399319e-8,3.94165598987486e-8,9.82010989090677e-9,5.63927102646132e-10,0,0,0,0,0,0,0,0,0,0,0,0,0,0,0,0,0,0,0,0,0,0,0,0,0,0,0,0,0],\"fOption\":\"\",\"fFunctions\":{\"_typename\":\"TList\",\"name\":\"TList\",\"arr\":[],\"opt\":[]},\"fBufferSize\":0,\"fBuffer\":[],\"fBinStatErrOpt\":0,\"fStatOverflows\":2,\"fArray\":[0,0,0,0,0,0,0,0,0,0,0,0,0,0,0,0,0,0,0,0,0,0,0,0,0,0,0,0,0,0,0,0,0,0,0,3.968761e-5,6.173629e-5,1.32292e-4,1.675699e-4,2.16077e-4,3.395496e-4,4.145151e-4,6.394116e-4,8.598983e-4,0.001177399,0.001450803,0.002235736,0.004705187,0.01058777,0.009591173,0.01338355,0.009494159,0.008356447,0.008232975,0.007677348,0.00814478,0.008277073,0.008466691,0.008246204,0.008920894,0.01028791,0.0161264,0.047925,0.113511,0.1278294,0.1650431,0.1890189,0.1457197,0.03783112,0.01359521,0.008938532,0.002226916,1.278823e-4,0,0,0,0,0,0,0,0,0,0,0,0,0,0,0,0,0,0,0,0,0,0,0,0,0,0,0,0,0]},{\"_typename\":\"TH1F\",\"fUniqueID\":0,\"fBits\":50332169,\"fName\":\"h_cl3d_DEF_Em_nomatch_bdt\",\"fTitle\":\"3D Cluster bdt out\",\"fLineColor\":2,\"fLineStyle\":1,\"fLineWidth\":1,\"fFillColor\":0,\"fFillStyle\":1001,\"fMarkerColor\":1,\"fMarkerStyle\":1,\"fMarkerSize\":1,\"fNcells\":102,\"fXaxis\":{\"_typename\":\"TAxis\",\"fUniqueID\":0,\"fBits\":50331648,\"fName\":\"xaxis\",\"fTitle\":\" BDT out\",\"fNdivisions\":510,\"fAxisColor\":1,\"fLabelColor\":1,\"fLabelFont\":42,\"fLabelOffset\":0.005,\"fLabelSize\":0.035,\"fTickLength\":0.03,\"fTitleOffset\":1,\"fTitleSize\":0.035,\"fTitleColor\":1,\"fTitleFont\":42,\"fNbins\":100,\"fXmin\":-1,\"fXmax\":1,\"fXbins\":[],\"fFirst\":0,\"fLast\":0,\"fBits2\":0,\"fTimeDisplay\":false,\"fTimeFormat\":\"\",\"fLabels\":null,\"fModLabs\":null},\"fYaxis\":{\"_typename\":\"TAxis\",\"fUniqueID\":0,\"fBits\":50331648,\"fName\":\"yaxis\",\"fTitle\":\"\",\"fNdivisions\":510,\"fAxisColor\":1,\"fLabelColor\":1,\"fLabelFont\":42,\"fLabelOffset\":0.005,\"fLabelSize\":0.035,\"fTickLength\":0.03,\"fTitleOffset\":0,\"fTitleSize\":0.035,\"fTitleColor\":1,\"fTitleFont\":42,\"fNbins\":1,\"fXmin\":0,\"fXmax\":1,\"fXbins\":[],\"fFirst\":0,\"fLast\":0,\"fBits2\":0,\"fTimeDisplay\":false,\"fTimeFormat\":\"\",\"fLabels\":null,\"fModLabs\":null},\"fZaxis\":{\"_typename\":\"TAxis\",\"fUniqueID\":0,\"fBits\":50331648,\"fName\":\"zaxis\",\"fTitle\":\"\",\"fNdivisions\":510,\"fAxisColor\":1,\"fLabelColor\":1,\"fLabelFont\":42,\"fLabelOffset\":0.005,\"fLabelSize\":0.035,\"fTickLength\":0.03,\"fTitleOffset\":1,\"fTitleSize\":0.035,\"fTitleColor\":1,\"fTitleFont\":42,\"fNbins\":1,\"fXmin\":0,\"fXmax\":1,\"fXbins\":[],\"fFirst\":0,\"fLast\":0,\"fBits2\":0,\"fTimeDisplay\":false,\"fTimeFormat\":\"\",\"fLabels\":null,\"fModLabs\":null},\"fBarOffset\":0,\"fBarWidth\":1000,\"fEntries\":1646046,\"fTsumw\":1646046,\"fTsumw2\":1646046,\"fTsumwx\":-75336.3959718271,\"fTsumwx2\":24905.7900721604,\"fMaximum\":-1111,\"fMinimum\":-1111,\"fNormFactor\":0,\"fContour\":[],\"fSumw2\":[0,0,0,0,0,0,0,0,0,0,0,0,0,0,0,0,0,0,0,0,0,0,0,0,0,0,0,0,3.69076220444134e-13,0,7.01244818843855e-12,3.06333262968632e-11,1.14782704558126e-10,3.52098714303704e-10,1.04227124653424e-9,2.6016182779107e-9,5.46122083391186e-9,9.52475002100178e-9,1.44334637529088e-8,1.6360779776068e-8,1.66058463864429e-8,1.50830379008904e-8,1.35513715860473e-8,1.1779436651695e-8,1.22182682778031e-8,1.46645054669068e-8,2.12274188188444e-8,4.28593451752956e-8,1.09909422143381e-7,7.48058446644989e-8,1.02597653140163e-7,4.21389083929886e-8,1.76599280720314e-8,1.11900219276457e-8,7.98680941041107e-9,4.54886441697396e-9,3.25451411187638e-9,2.27498582281764e-9,1.6708080499506e-9,1.1732933047919e-9,8.9537891079747e-10,1.09394191739641e-9,2.34437215226114e-9,3.7815549546706e-9,4.18274080629338e-9,5.07110726890241e-9,6.4558812480088e-9,4.64556238673032e-9,1.1356475303066e-9,4.3477178768319e-10,2.69794717144662e-10,7.27080154274945e-11,3.69076220444134e-12,0,0,0,0,0,0,0,0,0,0,0,0,0,0,0,0,0,0,0,0,0,0,0,0,0,0,0,0,0],\"fOption\":\"\",\"fFunctions\":{\"_typename\":\"TList\",\"name\":\"TList\",\"arr\":[],\"opt\":[]},\"fBufferSize\":0,\"fBuffer\":[],\"fBinStatErrOpt\":0,\"fStatOverflows\":2,\"fArray\":[0,0,0,0,0,0,0,0,0,0,0,0,0,0,0,0,0,0,0,0,0,0,0,0,0,0,0,0,6.075164e-7,0,1.154281e-5,5.042386e-5,1.889376e-4,5.795707e-4,0.001715626,0.004282383,0.008989421,0.01567818,0.02375815,0.0269306,0.02733399,0.02482737,0.02230618,0.0193895,0.02011183,0.02413845,0.03494131,0.07054845,0.180916,0.1231339,0.1688805,0.06936258,0.02906905,0.01841929,0.01314666,0.00748764,0.00535708,0.003744731,0.002750227,0.001931295,0.001473835,0.001800679,0.003858944,0.006224614,0.006884984,0.008347276,0.01062668,0.007646809,0.001869328,7.156543e-4,4.440945e-4,1.196807e-4,6.075164e-6,0,0,0,0,0,0,0,0,0,0,0,0,0,0,0,0,0,0,0,0,0,0,0,0,0,0,0,0,0]},{\"_typename\":\"TLegend\",\"fUniqueID\":0,\"fBits\":50331656,\"fLineColor\":1,\"fLineStyle\":1,\"fLineWidth\":1,\"fFillColor\":0,\"fFillStyle\":0,\"fX1\":1.00000004182782,\"fY1\":0.170853425963155,\"fX2\":1.87719303529128,\"fY2\":0.212093907959751,\"fX1NDC\":0.7,\"fY1NDC\":0.71,\"fX2NDC\":0.95,\"fY2NDC\":0.85,\"fBorderSize\":0,\"fInit\":1,\"fShadowColor\":1,\"fCornerRadius\":0,\"fOption\":\"brNDC\",\"fName\":\"TPave\",\"fTextAngle\":0,\"fTextSize\":0.05,\"fTextAlign\":12,\"fTextColor\":1,\"fTextFont\":42,\"fPrimitives\":{\"_typename\":\"TList\",\"name\":\"TList\",\"arr\":[{\"_typename\":\"TLegendEntry\",\"fUniqueID\":0,\"fBits\":50331656,\"fTextAngle\":0,\"fTextSize\":0,\"fTextAlign\":0,\"fTextColor\":0,\"fTextFont\":42,\"fLineColor\":1,\"fLineStyle\":1,\"fLineWidth\":1,\"fFillColor\":0,\"fFillStyle\":0,\"fMarkerColor\":1,\"fMarkerStyle\":21,\"fMarkerSize\":1,\"fObject\":{\"_typename\":\"TH1F\",\"fUniqueID\":0,\"fBits\":50332168,\"fName\":\"h_cl3d_DEF_Em_nomatch_bdt\",\"fTitle\":\"3D Cluster bdt out\",\"fLineColor\":1,\"fLineStyle\":1,\"fLineWidth\":1,\"fFillColor\":0,\"fFillStyle\":1001,\"fMarkerColor\":1,\"fMarkerStyle\":1,\"fMarkerSize\":1,\"fNcells\":102,\"fXaxis\":{\"_typename\":\"TAxis\",\"fUniqueID\":0,\"fBits\":50331648,\"fName\":\"xaxis\",\"fTitle\":\" BDT out\",\"fNdivisions\":510,\"fAxisColor\":1,\"fLabelColor\":1,\"fLabelFont\":42,\"fLabelOffset\":0.005,\"fLabelSize\":0.035,\"fTickLength\":0.03,\"fTitleOffset\":1,\"fTitleSize\":0.035,\"fTitleColor\":1,\"fTitleFont\":42,\"fNbins\":100,\"fXmin\":-1,\"fXmax\":1,\"fXbins\":[],\"fFirst\":0,\"fLast\":0,\"fBits2\":0,\"fTimeDisplay\":false,\"fTimeFormat\":\"\",\"fLabels\":null,\"fModLabs\":null},\"fYaxis\":{\"_typename\":\"TAxis\",\"fUniqueID\":0,\"fBits\":50331648,\"fName\":\"yaxis\",\"fTitle\":\"\",\"fNdivisions\":510,\"fAxisColor\":1,\"fLabelColor\":1,\"fLabelFont\":42,\"fLabelOffset\":0.005,\"fLabelSize\":0.035,\"fTickLength\":0.03,\"fTitleOffset\":0,\"fTitleSize\":0.035,\"fTitleColor\":1,\"fTitleFont\":42,\"fNbins\":1,\"fXmin\":0,\"fXmax\":1,\"fXbins\":[],\"fFirst\":0,\"fLast\":0,\"fBits2\":0,\"fTimeDisplay\":false,\"fTimeFormat\":\"\",\"fLabels\":null,\"fModLabs\":null},\"fZaxis\":{\"_typename\":\"TAxis\",\"fUniqueID\":0,\"fBits\":50331648,\"fName\":\"zaxis\",\"fTitle\":\"\",\"fNdivisions\":510,\"fAxisColor\":1,\"fLabelColor\":1,\"fLabelFont\":42,\"fLabelOffset\":0.005,\"fLabelSize\":0.035,\"fTickLength\":0.03,\"fTitleOffset\":1,\"fTitleSize\":0.035,\"fTitleColor\":1,\"fTitleFont\":42,\"fNbins\":1,\"fXmin\":0,\"fXmax\":1,\"fXbins\":[],\"fFirst\":0,\"fLast\":0,\"fBits2\":0,\"fTimeDisplay\":false,\"fTimeFormat\":\"\",\"fLabels\":null,\"fModLabs\":null},\"fBarOffset\":0,\"fBarWidth\":1000,\"fEntries\":226771,\"fTsumw\":226771,\"fTsumw2\":226771,\"fTsumwx\":59215.9161862838,\"fTsumwx2\":17528.2848873903,\"fMaximum\":-1111,\"fMinimum\":-1111,\"fNormFactor\":0,\"fContour\":[],\"fSumw2\":[0,0,0,0,0,0,0,0,0,0,0,0,0,0,0,0,0,0,0,0,0,0,0,0,0,0,0,0,0,0,0,0,0,0,0,9,14,30,38,49,77,94,145,195,267,329,507,1067,2401,2175,3035,2153,1895,1867,1741,1847,1877,1920,1870,2023,2333,3657,10868,25741,28988,37427,42864,33045,8579,3083,2027,505,29,0,0,0,0,0,0,0,0,0,0,0,0,0,0,0,0,0,0,0,0,0,0,0,0,0,0,0,0,0],\"fOption\":\"\",\"fFunctions\":{\"_typename\":\"TList\",\"name\":\"TList\",\"arr\":[],\"opt\":[]},\"fBufferSize\":0,\"fBuffer\":[],\"fBinStatErrOpt\":0,\"fStatOverflows\":2,\"fArray\":[0,0,0,0,0,0,0,0,0,0,0,0,0,0,0,0,0,0,0,0,0,0,0,0,0,0,0,0,0,0,0,0,0,0,0,9,14,30,38,49,77,94,145,195,267,329,507,1067,2401,2175,3035,2153,1895,1867,1741,1847,1877,1920,1870,2023,2333,3657,10868,25741,28988,37427,42864,33045,8579,3083,2027,505,29,0,0,0,0,0,0,0,0,0,0,0,0,0,0,0,0,0,0,0,0,0,0,0,0,0,0,0,0,0]},\"fLabel\":\"PU0\",\"fOption\":\"l\"},{\"_typename\":\"TLegendEntry\",\"fUniqueID\":0,\"fBits\":50331656,\"fTextAngle\":0,\"fTextSize\":0,\"fTextAlign\":0,\"fTextColor\":0,\"fTextFont\":42,\"fLineColor\":2,\"fLineStyle\":1,\"fLineWidth\":1,\"fFillColor\":0,\"fFillStyle\":0,\"fMarkerColor\":1,\"fMarkerStyle\":21,\"fMarkerSize\":1,\"fObject\":{\"_typename\":\"TH1F\",\"fUniqueID\":0,\"fBits\":50332168,\"fName\":\"h_cl3d_DEF_Em_nomatch_bdt\",\"fTitle\":\"3D Cluster bdt out\",\"fLineColor\":2,\"fLineStyle\":1,\"fLineWidth\":1,\"fFillColor\":0,\"fFillStyle\":1001,\"fMarkerColor\":1,\"fMarkerStyle\":1,\"fMarkerSize\":1,\"fNcells\":102,\"fXaxis\":{\"_typename\":\"TAxis\",\"fUniqueID\":0,\"fBits\":50331648,\"fName\":\"xaxis\",\"fTitle\":\" BDT out\",\"fNdivisions\":510,\"fAxisColor\":1,\"fLabelColor\":1,\"fLabelFont\":42,\"fLabelOffset\":0.005,\"fLabelSize\":0.035,\"fTickLength\":0.03,\"fTitleOffset\":1,\"fTitleSize\":0.035,\"fTitleColor\":1,\"fTitleFont\":42,\"fNbins\":100,\"fXmin\":-1,\"fXmax\":1,\"fXbins\":[],\"fFirst\":0,\"fLast\":0,\"fBits2\":0,\"fTimeDisplay\":false,\"fTimeFormat\":\"\",\"fLabels\":null,\"fModLabs\":null},\"fYaxis\":{\"_typename\":\"TAxis\",\"fUniqueID\":0,\"fBits\":50331648,\"fName\":\"yaxis\",\"fTitle\":\"\",\"fNdivisions\":510,\"fAxisColor\":1,\"fLabelColor\":1,\"fLabelFont\":42,\"fLabelOffset\":0.005,\"fLabelSize\":0.035,\"fTickLength\":0.03,\"fTitleOffset\":0,\"fTitleSize\":0.035,\"fTitleColor\":1,\"fTitleFont\":42,\"fNbins\":1,\"fXmin\":0,\"fXmax\":1,\"fXbins\":[],\"fFirst\":0,\"fLast\":0,\"fBits2\":0,\"fTimeDisplay\":false,\"fTimeFormat\":\"\",\"fLabels\":null,\"fModLabs\":null},\"fZaxis\":{\"_typename\":\"TAxis\",\"fUniqueID\":0,\"fBits\":50331648,\"fName\":\"zaxis\",\"fTitle\":\"\",\"fNdivisions\":510,\"fAxisColor\":1,\"fLabelColor\":1,\"fLabelFont\":42,\"fLabelOffset\":0.005,\"fLabelSize\":0.035,\"fTickLength\":0.03,\"fTitleOffset\":1,\"fTitleSize\":0.035,\"fTitleColor\":1,\"fTitleFont\":42,\"fNbins\":1,\"fXmin\":0,\"fXmax\":1,\"fXbins\":[],\"fFirst\":0,\"fLast\":0,\"fBits2\":0,\"fTimeDisplay\":false,\"fTimeFormat\":\"\",\"fLabels\":null,\"fModLabs\":null},\"fBarOffset\":0,\"fBarWidth\":1000,\"fEntries\":1646046,\"fTsumw\":1646046,\"fTsumw2\":1646046,\"fTsumwx\":-75336.3959718271,\"fTsumwx2\":24905.7900721604,\"fMaximum\":-1111,\"fMinimum\":-1111,\"fNormFactor\":0,\"fContour\":[],\"fSumw2\":[0,0,0,0,0,0,0,0,0,0,0,0,0,0,0,0,0,0,0,0,0,0,0,0,0,0,0,0,1,0,19,83,311,954,2824,7049,14797,25807,39107,44329,44993,40867,36717,31916,33105,39733,57515,116126,297796,202684,277985,114174,47849,30319,21640,12325,8818,6164,4527,3179,2426,2964,6352,10246,11333,13740,17492,12587,3077,1178,731,197,10,0,0,0,0,0,0,0,0,0,0,0,0,0,0,0,0,0,0,0,0,0,0,0,0,0,0,0,0,0],\"fOption\":\"\",\"fFunctions\":{\"_typename\":\"TList\",\"name\":\"TList\",\"arr\":[],\"opt\":[]},\"fBufferSize\":0,\"fBuffer\":[],\"fBinStatErrOpt\":0,\"fStatOverflows\":2,\"fArray\":[0,0,0,0,0,0,0,0,0,0,0,0,0,0,0,0,0,0,0,0,0,0,0,0,0,0,0,0,1,0,19,83,311,954,2824,7049,14797,25807,39107,44329,44993,40867,36717,31916,33105,39733,57515,116126,297796,202684,277985,114174,47849,30319,21640,12325,8818,6164,4527,3179,2426,2964,6352,10246,11333,13740,17492,12587,3077,1178,731,197,10,0,0,0,0,0,0,0,0,0,0,0,0,0,0,0,0,0,0,0,0,0,0,0,0,0,0,0,0,0]},\"fLabel\":\"PU200\",\"fOption\":\"l\"}],\"opt\":[\"l\",\"l\"]},\"fEntrySeparation\":0.1,\"fMargin\":0.25,\"fNColumns\":1,\"fColumnSeparation\":0},{\"_typename\":\"TPaveText\",\"fUniqueID\":0,\"fBits\":50331657,\"fLineColor\":1,\"fLineStyle\":1,\"fLineWidth\":1,\"fFillColor\":0,\"fFillStyle\":0,\"fX1\":-0.290046699212464,\"fY1\":0.238605647549353,\"fX2\":0.886537993326568,\"fY2\":0.25480726571801,\"fX1NDC\":0.332336683417085,\"fY1NDC\":0.940000003948808,\"fX2NDC\":0.667663316582915,\"fY2NDC\":0.995000004768372,\"fBorderSize\":0,\"fInit\":1,\"fShadowColor\":1,\"fCornerRadius\":0,\"fOption\":\"blNDC\",\"fName\":\"title\",\"fTextAngle\":0,\"fTextSize\":0,\"fTextAlign\":22,\"fTextColor\":1,\"fTextFont\":42,\"fLabel\":\"\",\"fLongest\":18,\"fMargin\":0.05,\"fLines\":{\"_typename\":\"TList\",\"name\":\"TList\",\"arr\":[{\"_typename\":\"TLatex\",\"fUniqueID\":0,\"fBits\":50331648,\"fName\":\"\",\"fTitle\":\"3D Cluster bdt out\",\"fTextAngle\":0,\"fTextSize\":0,\"fTextAlign\":0,\"fTextColor\":0,\"fTextFont\":0,\"fX\":0,\"fY\":0,\"fLineColor\":1,\"fLineStyle\":1,\"fLineWidth\":2,\"fLimitFactorSize\":3,\"fOriginSize\":0.0467500016093254}],\"opt\":[\"\"]}},{\"_typename\":\"TLatex\",\"fUniqueID\":0,\"fBits\":50348040,\"fName\":\"\",\"fTitle\":\"NNDR, EGId\",\"fTextAngle\":0,\"fTextSize\":0.03,\"fTextAlign\":11,\"fTextColor\":1,\"fTextFont\":62,\"fX\":0.15,\"fY\":0.85,\"fLineColor\":1,\"fLineStyle\":1,\"fLineWidth\":2,\"fLimitFactorSize\":3,\"fOriginSize\":0.04}],\"opt\":[\"\",\",\",\"SAME,\",\"\",\"blNDC\",\"same\"]},\"fExecs\":null,\"fName\":\"c_452f58\",\"fTitle\":\"h_cl3d_DEF_Em_nomatch_bdt\",\"fNumPaletteColor\":0,\"fNextPaletteColor\":0,\"fDISPLAY\":\"$DISPLAY\",\"fDoubleBuffer\":0,\"fRetained\":true,\"fXsizeUser\":0,\"fYsizeUser\":0,\"fXsizeReal\":20,\"fYsizeReal\":15,\"fWindowTopX\":0,\"fWindowTopY\":0,\"fWindowWidth\":0,\"fWindowHeight\":0,\"fCw\":796,\"fCh\":572,\"fCatt\":{\"_typename\":\"TAttCanvas\",\"fXBetween\":2,\"fYBetween\":2,\"fTitleFromTop\":1.2,\"fXdate\":0.2,\"fYdate\":0.3,\"fAdate\":1},\"kMoveOpaque\":true,\"kResizeOpaque\":true,\"fHighLightColor\":2,\"fBatch\":true,\"kShowEventStatus\":false,\"kAutoExec\":true,\"kMenuBar\":true});\n",
       "       Core.draw(\"root_plot_10\", obj, \"\");\n",
       "     }\n",
       " );\n",
       "</script>\n"
      ],
      "text/plain": [
       "<IPython.core.display.HTML object>"
      ]
     },
     "metadata": {},
     "output_type": "display_data"
    },
    {
     "data": {
      "text/html": [
       "\n",
       "<div id=\"root_plot_11\"\n",
       "     style=\"width: 796px; height: 572px\">\n",
       "</div>\n",
       "\n",
       "<script>\n",
       " requirejs.config({\n",
       "     paths: {\n",
       "       'JSRootCore' : 'https://root.cern.ch/js/notebook//scripts/JSRootCore',\n",
       "     }\n",
       "   });\n",
       " require(['JSRootCore'],\n",
       "     function(Core) {\n",
       "       var obj = Core.JSONR_unref({\"_typename\":\"TCanvas\",\"fUniqueID\":0,\"fBits\":53673992,\"fLineColor\":1,\"fLineStyle\":1,\"fLineWidth\":1,\"fFillColor\":0,\"fFillStyle\":1001,\"fLeftMargin\":0.13,\"fRightMargin\":0.3,\"fBottomMargin\":0.13,\"fTopMargin\":0.1,\"fXfile\":2,\"fYfile\":2,\"fAfile\":1,\"fXstat\":0.99,\"fYstat\":0.99,\"fAstat\":2,\"fFrameFillColor\":0,\"fFrameLineColor\":1,\"fFrameFillStyle\":1001,\"fFrameLineStyle\":1,\"fFrameLineWidth\":1,\"fFrameBorderSize\":1,\"fFrameBorderMode\":0,\"fX1\":-1.45614033986987,\"fY1\":-0.02568085821024,\"fX2\":2.05263163398398,\"fY2\":0.171864207775886,\"fXtoAbsPixelk\":330.340043357658,\"fXtoPixelk\":330.340043357658,\"fXtoPixel\":226.859997153282,\"fYtoAbsPixelk\":497.640051065433,\"fYtoPixelk\":497.640051065433,\"fYtoPixel\":-2895.54182051894,\"fUtoAbsPixelk\":5e-5,\"fUtoPixelk\":5e-5,\"fUtoPixel\":796,\"fVtoAbsPixelk\":572.00005,\"fVtoPixelk\":572,\"fVtoPixel\":-572,\"fAbsPixeltoXk\":-1.45614033986987,\"fPixeltoXk\":-1.45614033986987,\"fPixeltoX\":0.0044080049922787,\"fAbsPixeltoYk\":0.171864207775886,\"fPixeltoYk\":-0.02568085821024,\"fPixeltoY\":-3.45358506968751e-4,\"fXlowNDC\":0,\"fYlowNDC\":0,\"fXUpNDC\":0,\"fYUpNDC\":0,\"fWNDC\":1,\"fHNDC\":1,\"fAbsXlowNDC\":0,\"fAbsYlowNDC\":0,\"fAbsWNDC\":1,\"fAbsHNDC\":1,\"fUxmin\":-1,\"fUymin\":0,\"fUxmax\":1,\"fUymax\":0.15210970044136,\"fTheta\":30,\"fPhi\":30,\"fAspectRatio\":0,\"fNumber\":0,\"fTickx\":0,\"fTicky\":0,\"fLogx\":0,\"fLogy\":1,\"fLogz\":0,\"fPadPaint\":0,\"fCrosshair\":0,\"fCrosshairPos\":0,\"fBorderSize\":2,\"fBorderMode\":0,\"fModified\":false,\"fGridx\":false,\"fGridy\":false,\"fAbsCoord\":false,\"fEditable\":true,\"fFixedAspectRatio\":false,\"fPrimitives\":{\"_typename\":\"TList\",\"name\":\"TList\",\"arr\":[{\"_typename\":\"TFrame\",\"fUniqueID\":0,\"fBits\":50331656,\"fLineColor\":1,\"fLineStyle\":1,\"fLineWidth\":1,\"fFillColor\":0,\"fFillStyle\":1001,\"fX1\":-1,\"fY1\":0,\"fX2\":1,\"fY2\":0.15210970044136,\"fBorderSize\":1,\"fBorderMode\":0},{\"_typename\":\"TH1F\",\"fUniqueID\":0,\"fBits\":50332169,\"fName\":\"h_cl3d_DEFCalib_all_nomatch_bdt\",\"fTitle\":\"3D Cluster bdt out\",\"fLineColor\":1,\"fLineStyle\":1,\"fLineWidth\":1,\"fFillColor\":0,\"fFillStyle\":1001,\"fMarkerColor\":1,\"fMarkerStyle\":1,\"fMarkerSize\":1,\"fNcells\":102,\"fXaxis\":{\"_typename\":\"TAxis\",\"fUniqueID\":0,\"fBits\":50331648,\"fName\":\"xaxis\",\"fTitle\":\" BDT out\",\"fNdivisions\":510,\"fAxisColor\":1,\"fLabelColor\":1,\"fLabelFont\":42,\"fLabelOffset\":0.005,\"fLabelSize\":0.035,\"fTickLength\":0.03,\"fTitleOffset\":1,\"fTitleSize\":0.035,\"fTitleColor\":1,\"fTitleFont\":42,\"fNbins\":100,\"fXmin\":-1,\"fXmax\":1,\"fXbins\":[],\"fFirst\":0,\"fLast\":0,\"fBits2\":0,\"fTimeDisplay\":false,\"fTimeFormat\":\"\",\"fLabels\":null,\"fModLabs\":null},\"fYaxis\":{\"_typename\":\"TAxis\",\"fUniqueID\":0,\"fBits\":50331656,\"fName\":\"yaxis\",\"fTitle\":\"\",\"fNdivisions\":510,\"fAxisColor\":1,\"fLabelColor\":1,\"fLabelFont\":42,\"fLabelOffset\":0.005,\"fLabelSize\":0.035,\"fTickLength\":0.03,\"fTitleOffset\":0,\"fTitleSize\":0.035,\"fTitleColor\":1,\"fTitleFont\":42,\"fNbins\":1,\"fXmin\":0,\"fXmax\":1,\"fXbins\":[],\"fFirst\":0,\"fLast\":0,\"fBits2\":0,\"fTimeDisplay\":false,\"fTimeFormat\":\"\",\"fLabels\":null,\"fModLabs\":null},\"fZaxis\":{\"_typename\":\"TAxis\",\"fUniqueID\":0,\"fBits\":50331648,\"fName\":\"zaxis\",\"fTitle\":\"\",\"fNdivisions\":510,\"fAxisColor\":1,\"fLabelColor\":1,\"fLabelFont\":42,\"fLabelOffset\":0.005,\"fLabelSize\":0.035,\"fTickLength\":0.03,\"fTitleOffset\":1,\"fTitleSize\":0.035,\"fTitleColor\":1,\"fTitleFont\":42,\"fNbins\":1,\"fXmin\":0,\"fXmax\":1,\"fXbins\":[],\"fFirst\":0,\"fLast\":0,\"fBits2\":0,\"fTimeDisplay\":false,\"fTimeFormat\":\"\",\"fLabels\":null,\"fModLabs\":null},\"fBarOffset\":0,\"fBarWidth\":1000,\"fEntries\":346471,\"fTsumw\":346471,\"fTsumw2\":346471,\"fTsumwx\":56111.5706059189,\"fTsumwx2\":19663.6103676725,\"fMaximum\":0.15210970044136,\"fMinimum\":0,\"fNormFactor\":0,\"fContour\":[],\"fSumw2\":[0,0,0,0,0,0,0,0,0,0,0,0,0,0,0,0,0,0,0,0,0,0,0,0,0,0,0,0,0,0,2.49912210336846e-11,1.24956105168423e-10,4.58172385617551e-10,1.15792657456072e-9,2.14091460188565e-9,3.76534396907514e-9,5.09820909087166e-9,7.25578450677976e-9,1.02130789957658e-8,1.43033088382788e-8,1.86267900771062e-8,2.59992002820432e-8,3.06975498363759e-8,4.13104883686806e-8,5.18484532378843e-8,6.93922904035309e-8,8.00052289358356e-8,9.89735657004022e-8,1.14109915239804e-7,9.77489958697516e-8,9.69492767966737e-8,6.8375980748161e-8,5.2898084521299e-8,4.30182218059824e-8,3.53709081696749e-8,3.26468650770033e-8,3.16305554216335e-8,3.1247356699117e-8,3.05892545452299e-8,3.06975498363759e-8,3.45795195036082e-8,4.52924229200477e-8,1.06121054916036e-7,2.26353819309093e-7,2.5312774744318e-7,3.23952867852642e-7,3.6585481511912e-7,2.81592748200547e-7,7.47154204837057e-8,2.63490773765148e-8,1.70440127449729e-8,4.32348123882743e-9,2.58242617348074e-10,0,0,0,0,0,0,0,0,0,0,0,0,0,0,0,0,0,0,0,0,0,0,0,0,0,0,0,0,0],\"fOption\":\"\",\"fFunctions\":{\"_typename\":\"TList\",\"name\":\"TList\",\"arr\":[],\"opt\":[]},\"fBufferSize\":0,\"fBuffer\":[],\"fBinStatErrOpt\":0,\"fStatOverflows\":2,\"fArray\":[0,0,0,0,0,0,0,0,0,0,0,0,0,0,0,0,0,0,0,0,0,0,0,0,0,0,0,0,0,0,8.658733e-6,4.329366e-5,1.587434e-4,4.01188e-4,7.417648e-4,0.001304582,0.001766382,0.002513919,0.003538536,0.004955682,0.006453643,0.009007969,0.01063581,0.01431289,0.01796398,0.02404242,0.02771949,0.03429147,0.03953578,0.03386719,0.03359011,0.02369029,0.01832765,0.01490457,0.01225499,0.01131119,0.01095907,0.0108263,0.01059829,0.01063581,0.0119808,0.01569251,0.03676787,0.07842503,0.08770142,0.1122403,0.1267581,0.09756372,0.02588673,0.009129191,0.005905256,0.001497961,8.947358e-5,0,0,0,0,0,0,0,0,0,0,0,0,0,0,0,0,0,0,0,0,0,0,0,0,0,0,0,0,0]},{\"_typename\":\"TH1F\",\"fUniqueID\":0,\"fBits\":50332169,\"fName\":\"h_cl3d_DEFCalib_all_nomatch_bdt\",\"fTitle\":\"3D Cluster bdt out\",\"fLineColor\":2,\"fLineStyle\":1,\"fLineWidth\":1,\"fFillColor\":0,\"fFillStyle\":1001,\"fMarkerColor\":1,\"fMarkerStyle\":1,\"fMarkerSize\":1,\"fNcells\":102,\"fXaxis\":{\"_typename\":\"TAxis\",\"fUniqueID\":0,\"fBits\":50331648,\"fName\":\"xaxis\",\"fTitle\":\" BDT out\",\"fNdivisions\":510,\"fAxisColor\":1,\"fLabelColor\":1,\"fLabelFont\":42,\"fLabelOffset\":0.005,\"fLabelSize\":0.035,\"fTickLength\":0.03,\"fTitleOffset\":1,\"fTitleSize\":0.035,\"fTitleColor\":1,\"fTitleFont\":42,\"fNbins\":100,\"fXmin\":-1,\"fXmax\":1,\"fXbins\":[],\"fFirst\":0,\"fLast\":0,\"fBits2\":0,\"fTimeDisplay\":false,\"fTimeFormat\":\"\",\"fLabels\":null,\"fModLabs\":null},\"fYaxis\":{\"_typename\":\"TAxis\",\"fUniqueID\":0,\"fBits\":50331648,\"fName\":\"yaxis\",\"fTitle\":\"\",\"fNdivisions\":510,\"fAxisColor\":1,\"fLabelColor\":1,\"fLabelFont\":42,\"fLabelOffset\":0.005,\"fLabelSize\":0.035,\"fTickLength\":0.03,\"fTitleOffset\":0,\"fTitleSize\":0.035,\"fTitleColor\":1,\"fTitleFont\":42,\"fNbins\":1,\"fXmin\":0,\"fXmax\":1,\"fXbins\":[],\"fFirst\":0,\"fLast\":0,\"fBits2\":0,\"fTimeDisplay\":false,\"fTimeFormat\":\"\",\"fLabels\":null,\"fModLabs\":null},\"fZaxis\":{\"_typename\":\"TAxis\",\"fUniqueID\":0,\"fBits\":50331648,\"fName\":\"zaxis\",\"fTitle\":\"\",\"fNdivisions\":510,\"fAxisColor\":1,\"fLabelColor\":1,\"fLabelFont\":42,\"fLabelOffset\":0.005,\"fLabelSize\":0.035,\"fTickLength\":0.03,\"fTitleOffset\":1,\"fTitleSize\":0.035,\"fTitleColor\":1,\"fTitleFont\":42,\"fNbins\":1,\"fXmin\":0,\"fXmax\":1,\"fXbins\":[],\"fFirst\":0,\"fLast\":0,\"fBits2\":0,\"fTimeDisplay\":false,\"fTimeFormat\":\"\",\"fLabels\":null,\"fModLabs\":null},\"fBarOffset\":0,\"fBarWidth\":1000,\"fEntries\":79241009,\"fTsumw\":79241009,\"fTsumw2\":79241009,\"fTsumwx\":-11413777.5656457,\"fTsumwx2\":2154216.40761358,\"fMaximum\":-1111,\"fMinimum\":-1111,\"fNormFactor\":0,\"fContour\":[],\"fSumw2\":[0,0,0,0,0,0,0,0,0,0,0,0,0,0,0,0,0,0,0,0,0,0,0,0,0,0,0,7.00733181087046e-15,7.81954527076681e-14,5.16472205969384e-13,2.39523341898845e-12,8.89023371995959e-12,2.70545118340651e-11,6.71845455696733e-11,1.26456220949462e-10,1.88296242695476e-10,2.71591281128505e-10,3.86435238464567e-10,5.1463819612543e-10,6.50531541191182e-10,7.57359588708232e-10,9.12577403075412e-10,1.04051296732467e-9,1.21399141061836e-9,1.29205006109817e-9,1.36507219183893e-9,1.1607130742849e-9,9.34314146352732e-10,7.15769959607927e-10,4.45787975932805e-10,2.71603066186551e-10,1.24389376580338e-10,5.60245733731563e-11,2.79089285423678e-11,1.55000587081043e-11,8.90966313998064e-12,5.94269514824162e-12,3.88413217125727e-12,2.82029179633421e-12,2.09105151538021e-12,1.56836826530573e-12,1.47058413503586e-12,1.8187211200032e-12,2.31528613332806e-12,2.39714450948232e-12,2.65737133173147e-12,3.11221086927342e-12,2.16096557594776e-12,5.54534758305703e-13,2.12608817443456e-13,1.26291230136824e-13,3.48774015131962e-14,1.75183295271762e-15,0,0,0,0,0,0,0,0,0,0,0,0,0,0,0,0,0,0,0,0,0,0,0,0,0,0,0,0,0],\"fOption\":\"\",\"fFunctions\":{\"_typename\":\"TList\",\"name\":\"TList\",\"arr\":[],\"opt\":[]},\"fBufferSize\":0,\"fBuffer\":[],\"fBinStatErrOpt\":0,\"fStatOverflows\":2,\"fArray\":[0,0,0,0,0,0,0,0,0,0,0,0,0,0,0,0,0,0,0,0,0,0,0,0,0,0,0,5.552681e-7,6.196286e-6,4.092578e-5,1.898007e-4,7.044711e-4,0.002143827,0.005323771,0.01002052,0.01492078,0.02152117,0.03062152,0.04078045,0.05154878,0.06001394,0.07231355,0.0824513,0.0961979,0.1023834,0.1081697,0.09197608,0.07403599,0.05671833,0.03532469,0.0215221,0.00985674,0.004439444,0.002211532,0.00122824,7.060107e-4,4.709052e-4,3.077826e-4,2.234828e-4,1.65697e-4,1.242791e-4,1.165306e-4,1.441173e-4,1.834656e-4,1.899521e-4,2.105728e-4,2.466147e-4,1.712371e-4,4.394189e-5,1.684734e-5,1.000744e-5,2.76372e-6,1.38817e-7,0,0,0,0,0,0,0,0,0,0,0,0,0,0,0,0,0,0,0,0,0,0,0,0,0,0,0,0,0]},{\"_typename\":\"TLegend\",\"fUniqueID\":0,\"fBits\":50331656,\"fLineColor\":1,\"fLineStyle\":1,\"fLineWidth\":1,\"fFillColor\":0,\"fFillStyle\":0,\"fX1\":1.00000004182782,\"fY1\":0.114576138639909,\"fX2\":1.87719303529128,\"fY2\":0.142232447877967,\"fX1NDC\":0.7,\"fY1NDC\":0.71,\"fX2NDC\":0.95,\"fY2NDC\":0.85,\"fBorderSize\":0,\"fInit\":1,\"fShadowColor\":1,\"fCornerRadius\":0,\"fOption\":\"brNDC\",\"fName\":\"TPave\",\"fTextAngle\":0,\"fTextSize\":0.05,\"fTextAlign\":12,\"fTextColor\":1,\"fTextFont\":42,\"fPrimitives\":{\"_typename\":\"TList\",\"name\":\"TList\",\"arr\":[{\"_typename\":\"TLegendEntry\",\"fUniqueID\":0,\"fBits\":50331656,\"fTextAngle\":0,\"fTextSize\":0,\"fTextAlign\":0,\"fTextColor\":0,\"fTextFont\":42,\"fLineColor\":1,\"fLineStyle\":1,\"fLineWidth\":1,\"fFillColor\":0,\"fFillStyle\":0,\"fMarkerColor\":1,\"fMarkerStyle\":21,\"fMarkerSize\":1,\"fObject\":{\"_typename\":\"TH1F\",\"fUniqueID\":0,\"fBits\":50332168,\"fName\":\"h_cl3d_DEFCalib_all_nomatch_bdt\",\"fTitle\":\"3D Cluster bdt out\",\"fLineColor\":1,\"fLineStyle\":1,\"fLineWidth\":1,\"fFillColor\":0,\"fFillStyle\":1001,\"fMarkerColor\":1,\"fMarkerStyle\":1,\"fMarkerSize\":1,\"fNcells\":102,\"fXaxis\":{\"_typename\":\"TAxis\",\"fUniqueID\":0,\"fBits\":50331648,\"fName\":\"xaxis\",\"fTitle\":\" BDT out\",\"fNdivisions\":510,\"fAxisColor\":1,\"fLabelColor\":1,\"fLabelFont\":42,\"fLabelOffset\":0.005,\"fLabelSize\":0.035,\"fTickLength\":0.03,\"fTitleOffset\":1,\"fTitleSize\":0.035,\"fTitleColor\":1,\"fTitleFont\":42,\"fNbins\":100,\"fXmin\":-1,\"fXmax\":1,\"fXbins\":[],\"fFirst\":0,\"fLast\":0,\"fBits2\":0,\"fTimeDisplay\":false,\"fTimeFormat\":\"\",\"fLabels\":null,\"fModLabs\":null},\"fYaxis\":{\"_typename\":\"TAxis\",\"fUniqueID\":0,\"fBits\":50331648,\"fName\":\"yaxis\",\"fTitle\":\"\",\"fNdivisions\":510,\"fAxisColor\":1,\"fLabelColor\":1,\"fLabelFont\":42,\"fLabelOffset\":0.005,\"fLabelSize\":0.035,\"fTickLength\":0.03,\"fTitleOffset\":0,\"fTitleSize\":0.035,\"fTitleColor\":1,\"fTitleFont\":42,\"fNbins\":1,\"fXmin\":0,\"fXmax\":1,\"fXbins\":[],\"fFirst\":0,\"fLast\":0,\"fBits2\":0,\"fTimeDisplay\":false,\"fTimeFormat\":\"\",\"fLabels\":null,\"fModLabs\":null},\"fZaxis\":{\"_typename\":\"TAxis\",\"fUniqueID\":0,\"fBits\":50331648,\"fName\":\"zaxis\",\"fTitle\":\"\",\"fNdivisions\":510,\"fAxisColor\":1,\"fLabelColor\":1,\"fLabelFont\":42,\"fLabelOffset\":0.005,\"fLabelSize\":0.035,\"fTickLength\":0.03,\"fTitleOffset\":1,\"fTitleSize\":0.035,\"fTitleColor\":1,\"fTitleFont\":42,\"fNbins\":1,\"fXmin\":0,\"fXmax\":1,\"fXbins\":[],\"fFirst\":0,\"fLast\":0,\"fBits2\":0,\"fTimeDisplay\":false,\"fTimeFormat\":\"\",\"fLabels\":null,\"fModLabs\":null},\"fBarOffset\":0,\"fBarWidth\":1000,\"fEntries\":346471,\"fTsumw\":346471,\"fTsumw2\":346471,\"fTsumwx\":56111.5706059189,\"fTsumwx2\":19663.6103676725,\"fMaximum\":-1111,\"fMinimum\":-1111,\"fNormFactor\":0,\"fContour\":[],\"fSumw2\":[0,0,0,0,0,0,0,0,0,0,0,0,0,0,0,0,0,0,0,0,0,0,0,0,0,0,0,0,0,0,3,15,55,139,257,452,612,871,1226,1717,2236,3121,3685,4959,6224,8330,9604,11881,13698,11734,11638,8208,6350,5164,4246,3919,3797,3751,3672,3685,4151,5437,12739,27172,30386,38888,43918,33803,8969,3163,2046,519,31,0,0,0,0,0,0,0,0,0,0,0,0,0,0,0,0,0,0,0,0,0,0,0,0,0,0,0,0,0],\"fOption\":\"\",\"fFunctions\":{\"_typename\":\"TList\",\"name\":\"TList\",\"arr\":[],\"opt\":[]},\"fBufferSize\":0,\"fBuffer\":[],\"fBinStatErrOpt\":0,\"fStatOverflows\":2,\"fArray\":[0,0,0,0,0,0,0,0,0,0,0,0,0,0,0,0,0,0,0,0,0,0,0,0,0,0,0,0,0,0,3,15,55,139,257,452,612,871,1226,1717,2236,3121,3685,4959,6224,8330,9604,11881,13698,11734,11638,8208,6350,5164,4246,3919,3797,3751,3672,3685,4151,5437,12739,27172,30386,38888,43918,33803,8969,3163,2046,519,31,0,0,0,0,0,0,0,0,0,0,0,0,0,0,0,0,0,0,0,0,0,0,0,0,0,0,0,0,0]},\"fLabel\":\"PU0\",\"fOption\":\"l\"},{\"_typename\":\"TLegendEntry\",\"fUniqueID\":0,\"fBits\":50331656,\"fTextAngle\":0,\"fTextSize\":0,\"fTextAlign\":0,\"fTextColor\":0,\"fTextFont\":42,\"fLineColor\":2,\"fLineStyle\":1,\"fLineWidth\":1,\"fFillColor\":0,\"fFillStyle\":0,\"fMarkerColor\":1,\"fMarkerStyle\":21,\"fMarkerSize\":1,\"fObject\":{\"_typename\":\"TH1F\",\"fUniqueID\":0,\"fBits\":50332168,\"fName\":\"h_cl3d_DEFCalib_all_nomatch_bdt\",\"fTitle\":\"3D Cluster bdt out\",\"fLineColor\":2,\"fLineStyle\":1,\"fLineWidth\":1,\"fFillColor\":0,\"fFillStyle\":1001,\"fMarkerColor\":1,\"fMarkerStyle\":1,\"fMarkerSize\":1,\"fNcells\":102,\"fXaxis\":{\"_typename\":\"TAxis\",\"fUniqueID\":0,\"fBits\":50331648,\"fName\":\"xaxis\",\"fTitle\":\" BDT out\",\"fNdivisions\":510,\"fAxisColor\":1,\"fLabelColor\":1,\"fLabelFont\":42,\"fLabelOffset\":0.005,\"fLabelSize\":0.035,\"fTickLength\":0.03,\"fTitleOffset\":1,\"fTitleSize\":0.035,\"fTitleColor\":1,\"fTitleFont\":42,\"fNbins\":100,\"fXmin\":-1,\"fXmax\":1,\"fXbins\":[],\"fFirst\":0,\"fLast\":0,\"fBits2\":0,\"fTimeDisplay\":false,\"fTimeFormat\":\"\",\"fLabels\":null,\"fModLabs\":null},\"fYaxis\":{\"_typename\":\"TAxis\",\"fUniqueID\":0,\"fBits\":50331648,\"fName\":\"yaxis\",\"fTitle\":\"\",\"fNdivisions\":510,\"fAxisColor\":1,\"fLabelColor\":1,\"fLabelFont\":42,\"fLabelOffset\":0.005,\"fLabelSize\":0.035,\"fTickLength\":0.03,\"fTitleOffset\":0,\"fTitleSize\":0.035,\"fTitleColor\":1,\"fTitleFont\":42,\"fNbins\":1,\"fXmin\":0,\"fXmax\":1,\"fXbins\":[],\"fFirst\":0,\"fLast\":0,\"fBits2\":0,\"fTimeDisplay\":false,\"fTimeFormat\":\"\",\"fLabels\":null,\"fModLabs\":null},\"fZaxis\":{\"_typename\":\"TAxis\",\"fUniqueID\":0,\"fBits\":50331648,\"fName\":\"zaxis\",\"fTitle\":\"\",\"fNdivisions\":510,\"fAxisColor\":1,\"fLabelColor\":1,\"fLabelFont\":42,\"fLabelOffset\":0.005,\"fLabelSize\":0.035,\"fTickLength\":0.03,\"fTitleOffset\":1,\"fTitleSize\":0.035,\"fTitleColor\":1,\"fTitleFont\":42,\"fNbins\":1,\"fXmin\":0,\"fXmax\":1,\"fXbins\":[],\"fFirst\":0,\"fLast\":0,\"fBits2\":0,\"fTimeDisplay\":false,\"fTimeFormat\":\"\",\"fLabels\":null,\"fModLabs\":null},\"fBarOffset\":0,\"fBarWidth\":1000,\"fEntries\":79241009,\"fTsumw\":79241009,\"fTsumw2\":79241009,\"fTsumwx\":-11413777.5656457,\"fTsumwx2\":2154216.40761358,\"fMaximum\":-1111,\"fMinimum\":-1111,\"fNormFactor\":0,\"fContour\":[],\"fSumw2\":[0,0,0,0,0,0,0,0,0,0,0,0,0,0,0,0,0,0,0,0,0,0,0,0,0,0,0,44,491,3243,15040,55823,169879,421861,794036,1182338,1705359,2426480,3231484,4084777,4755565,5730199,6533524,7622819,8112960,8571476,7288277,5866687,4494418,2799164,1705433,781058,351786,175244,97327,55945,37315,24389,17709,13130,9848,9234,11420,14538,15052,16686,19542,13569,3482,1335,793,219,11,0,0,0,0,0,0,0,0,0,0,0,0,0,0,0,0,0,0,0,0,0,0,0,0,0,0,0,0,0],\"fOption\":\"\",\"fFunctions\":{\"_typename\":\"TList\",\"name\":\"TList\",\"arr\":[],\"opt\":[]},\"fBufferSize\":0,\"fBuffer\":[],\"fBinStatErrOpt\":0,\"fStatOverflows\":2,\"fArray\":[0,0,0,0,0,0,0,0,0,0,0,0,0,0,0,0,0,0,0,0,0,0,0,0,0,0,0,44,491,3243,15040,55823,169879,421861,794036,1182338,1705359,2426480,3231484,4084777,4755565,5730199,6533524,7622819,8112960,8571476,7288277,5866687,4494418,2799164,1705433,781058,351786,175244,97327,55945,37315,24389,17709,13130,9848,9234,11420,14538,15052,16686,19542,13569,3482,1335,793,219,11,0,0,0,0,0,0,0,0,0,0,0,0,0,0,0,0,0,0,0,0,0,0,0,0,0,0,0,0,0]},\"fLabel\":\"PU200\",\"fOption\":\"l\"}],\"opt\":[\"l\",\"l\"]},\"fEntrySeparation\":0.1,\"fMargin\":0.25,\"fNColumns\":1,\"fColumnSeparation\":0},{\"_typename\":\"TPaveText\",\"fUniqueID\":0,\"fBits\":50331657,\"fLineColor\":1,\"fLineStyle\":1,\"fLineWidth\":1,\"fFillColor\":0,\"fFillStyle\":0,\"fX1\":-0.290046699212464,\"fY1\":0.160011504596786,\"fX2\":0.886537993326568,\"fY2\":0.170876483387923,\"fX1NDC\":0.332336683417085,\"fY1NDC\":0.940000003948808,\"fX2NDC\":0.667663316582915,\"fY2NDC\":0.995000004768372,\"fBorderSize\":0,\"fInit\":1,\"fShadowColor\":1,\"fCornerRadius\":0,\"fOption\":\"blNDC\",\"fName\":\"title\",\"fTextAngle\":0,\"fTextSize\":0,\"fTextAlign\":22,\"fTextColor\":1,\"fTextFont\":42,\"fLabel\":\"\",\"fLongest\":18,\"fMargin\":0.05,\"fLines\":{\"_typename\":\"TList\",\"name\":\"TList\",\"arr\":[{\"_typename\":\"TLatex\",\"fUniqueID\":0,\"fBits\":50331648,\"fName\":\"\",\"fTitle\":\"3D Cluster bdt out\",\"fTextAngle\":0,\"fTextSize\":0,\"fTextAlign\":0,\"fTextColor\":0,\"fTextFont\":0,\"fX\":0,\"fY\":0,\"fLineColor\":1,\"fLineStyle\":1,\"fLineWidth\":2,\"fLimitFactorSize\":3,\"fOriginSize\":0.0467500016093254}],\"opt\":[\"\"]}},{\"_typename\":\"TLatex\",\"fUniqueID\":0,\"fBits\":50348040,\"fName\":\"\",\"fTitle\":\"NNDR Calib v1\",\"fTextAngle\":0,\"fTextSize\":0.03,\"fTextAlign\":11,\"fTextColor\":1,\"fTextFont\":62,\"fX\":0.15,\"fY\":0.85,\"fLineColor\":1,\"fLineStyle\":1,\"fLineWidth\":2,\"fLimitFactorSize\":3,\"fOriginSize\":0.04}],\"opt\":[\"\",\",\",\"SAME,\",\"\",\"blNDC\",\"same\"]},\"fExecs\":null,\"fName\":\"c_000cdd\",\"fTitle\":\"h_cl3d_DEFCalib_all_nomatch_bdt\",\"fNumPaletteColor\":0,\"fNextPaletteColor\":0,\"fDISPLAY\":\"$DISPLAY\",\"fDoubleBuffer\":0,\"fRetained\":true,\"fXsizeUser\":0,\"fYsizeUser\":0,\"fXsizeReal\":20,\"fYsizeReal\":15,\"fWindowTopX\":0,\"fWindowTopY\":0,\"fWindowWidth\":0,\"fWindowHeight\":0,\"fCw\":796,\"fCh\":572,\"fCatt\":{\"_typename\":\"TAttCanvas\",\"fXBetween\":2,\"fYBetween\":2,\"fTitleFromTop\":1.2,\"fXdate\":0.2,\"fYdate\":0.3,\"fAdate\":1},\"kMoveOpaque\":true,\"kResizeOpaque\":true,\"fHighLightColor\":2,\"fBatch\":true,\"kShowEventStatus\":false,\"kAutoExec\":true,\"kMenuBar\":true});\n",
       "       Core.draw(\"root_plot_11\", obj, \"\");\n",
       "     }\n",
       " );\n",
       "</script>\n"
      ],
      "text/plain": [
       "<IPython.core.display.HTML object>"
      ]
     },
     "metadata": {},
     "output_type": "display_data"
    },
    {
     "data": {
      "text/html": [
       "\n",
       "<div id=\"root_plot_12\"\n",
       "     style=\"width: 796px; height: 572px\">\n",
       "</div>\n",
       "\n",
       "<script>\n",
       " requirejs.config({\n",
       "     paths: {\n",
       "       'JSRootCore' : 'https://root.cern.ch/js/notebook//scripts/JSRootCore',\n",
       "     }\n",
       "   });\n",
       " require(['JSRootCore'],\n",
       "     function(Core) {\n",
       "       var obj = Core.JSONR_unref({\"_typename\":\"TCanvas\",\"fUniqueID\":0,\"fBits\":53673992,\"fLineColor\":1,\"fLineStyle\":1,\"fLineWidth\":1,\"fFillColor\":0,\"fFillStyle\":1001,\"fLeftMargin\":0.13,\"fRightMargin\":0.3,\"fBottomMargin\":0.13,\"fTopMargin\":0.1,\"fXfile\":2,\"fYfile\":2,\"fAfile\":1,\"fXstat\":0.99,\"fYstat\":0.99,\"fAstat\":2,\"fFrameFillColor\":0,\"fFrameLineColor\":1,\"fFrameFillStyle\":1001,\"fFrameLineStyle\":1,\"fFrameLineWidth\":1,\"fFrameBorderSize\":1,\"fFrameBorderMode\":0,\"fX1\":-1.45614033986987,\"fY1\":-0.0382947327338645,\"fX2\":2.05263163398398,\"fY2\":0.256280138670389,\"fXtoAbsPixelk\":330.340043357658,\"fXtoPixelk\":330.340043357658,\"fXtoPixel\":226.859997153282,\"fYtoAbsPixelk\":497.640051065433,\"fYtoPixelk\":497.640051065433,\"fYtoPixel\":-1941.78137895214,\"fUtoAbsPixelk\":5e-5,\"fUtoPixelk\":5e-5,\"fUtoPixel\":796,\"fVtoAbsPixelk\":572.00005,\"fVtoPixelk\":572,\"fVtoPixel\":-572,\"fAbsPixeltoXk\":-1.45614033986987,\"fPixeltoXk\":-1.45614033986987,\"fPixeltoX\":0.0044080049922787,\"fAbsPixeltoYk\":0.256280138670389,\"fPixeltoYk\":-0.0382947327338645,\"fPixeltoY\":-5.1499103392352e-4,\"fXlowNDC\":0,\"fYlowNDC\":0,\"fXUpNDC\":0,\"fYUpNDC\":0,\"fWNDC\":1,\"fHNDC\":1,\"fAbsXlowNDC\":0,\"fAbsYlowNDC\":0,\"fAbsWNDC\":1,\"fAbsHNDC\":1,\"fUxmin\":-1,\"fUymin\":0,\"fUxmax\":1,\"fUymax\":0.226822650432587,\"fTheta\":30,\"fPhi\":30,\"fAspectRatio\":0,\"fNumber\":0,\"fTickx\":0,\"fTicky\":0,\"fLogx\":0,\"fLogy\":1,\"fLogz\":0,\"fPadPaint\":0,\"fCrosshair\":0,\"fCrosshairPos\":0,\"fBorderSize\":2,\"fBorderMode\":0,\"fModified\":false,\"fGridx\":false,\"fGridy\":false,\"fAbsCoord\":false,\"fEditable\":true,\"fFixedAspectRatio\":false,\"fPrimitives\":{\"_typename\":\"TList\",\"name\":\"TList\",\"arr\":[{\"_typename\":\"TFrame\",\"fUniqueID\":0,\"fBits\":50331656,\"fLineColor\":1,\"fLineStyle\":1,\"fLineWidth\":1,\"fFillColor\":0,\"fFillStyle\":1001,\"fX1\":-1,\"fY1\":0,\"fX2\":1,\"fY2\":0.226822650432587,\"fBorderSize\":1,\"fBorderMode\":0},{\"_typename\":\"TH1F\",\"fUniqueID\":0,\"fBits\":50332169,\"fName\":\"h_cl3d_DEFCalib_Em_nomatch_bdt\",\"fTitle\":\"3D Cluster bdt out\",\"fLineColor\":1,\"fLineStyle\":1,\"fLineWidth\":1,\"fFillColor\":0,\"fFillStyle\":1001,\"fMarkerColor\":1,\"fMarkerStyle\":1,\"fMarkerSize\":1,\"fNcells\":102,\"fXaxis\":{\"_typename\":\"TAxis\",\"fUniqueID\":0,\"fBits\":50331648,\"fName\":\"xaxis\",\"fTitle\":\" BDT out\",\"fNdivisions\":510,\"fAxisColor\":1,\"fLabelColor\":1,\"fLabelFont\":42,\"fLabelOffset\":0.005,\"fLabelSize\":0.035,\"fTickLength\":0.03,\"fTitleOffset\":1,\"fTitleSize\":0.035,\"fTitleColor\":1,\"fTitleFont\":42,\"fNbins\":100,\"fXmin\":-1,\"fXmax\":1,\"fXbins\":[],\"fFirst\":0,\"fLast\":0,\"fBits2\":0,\"fTimeDisplay\":false,\"fTimeFormat\":\"\",\"fLabels\":null,\"fModLabs\":null},\"fYaxis\":{\"_typename\":\"TAxis\",\"fUniqueID\":0,\"fBits\":50331656,\"fName\":\"yaxis\",\"fTitle\":\"\",\"fNdivisions\":510,\"fAxisColor\":1,\"fLabelColor\":1,\"fLabelFont\":42,\"fLabelOffset\":0.005,\"fLabelSize\":0.035,\"fTickLength\":0.03,\"fTitleOffset\":0,\"fTitleSize\":0.035,\"fTitleColor\":1,\"fTitleFont\":42,\"fNbins\":1,\"fXmin\":0,\"fXmax\":1,\"fXbins\":[],\"fFirst\":0,\"fLast\":0,\"fBits2\":0,\"fTimeDisplay\":false,\"fTimeFormat\":\"\",\"fLabels\":null,\"fModLabs\":null},\"fZaxis\":{\"_typename\":\"TAxis\",\"fUniqueID\":0,\"fBits\":50331648,\"fName\":\"zaxis\",\"fTitle\":\"\",\"fNdivisions\":510,\"fAxisColor\":1,\"fLabelColor\":1,\"fLabelFont\":42,\"fLabelOffset\":0.005,\"fLabelSize\":0.035,\"fTickLength\":0.03,\"fTitleOffset\":1,\"fTitleSize\":0.035,\"fTitleColor\":1,\"fTitleFont\":42,\"fNbins\":1,\"fXmin\":0,\"fXmax\":1,\"fXbins\":[],\"fFirst\":0,\"fLast\":0,\"fBits2\":0,\"fTimeDisplay\":false,\"fTimeFormat\":\"\",\"fLabels\":null,\"fModLabs\":null},\"fBarOffset\":0,\"fBarWidth\":1000,\"fEntries\":226771,\"fTsumw\":226771,\"fTsumw2\":226771,\"fTsumwx\":59215.9161862838,\"fTsumwx2\":17528.2848873903,\"fMaximum\":0.226822650432587,\"fMinimum\":0,\"fNormFactor\":0,\"fContour\":[],\"fSumw2\":[0,0,0,0,0,0,0,0,0,0,0,0,0,0,0,0,0,0,0,0,0,0,0,0,0,0,0,0,0,0,0,0,0,0,0,1.75011859441903e-10,2.7224067024296e-10,5.83372864806343e-10,7.38938962088034e-10,9.5284234585036e-10,1.49732368633628e-9,1.82790164305987e-9,2.81963551323066e-9,3.79192362124123e-9,5.19201849677645e-9,6.39765575070956e-9,9.8590014152272e-9,2.07486282249456e-8,4.66892749466677e-8,4.22945326984599e-8,5.90178881562417e-8,4.18667259309352e-8,3.68497192936007e-8,3.63052379531148e-8,3.38550719209281e-8,3.59163227099105e-8,3.64996955747169e-8,3.7335863347606e-8,3.63635752395954e-8,3.93387768501077e-8,4.53669631197733e-8,7.11131522198932e-8,2.11336543157178e-7,5.00553363766003e-7,5.63693753500209e-7,7.27796540370233e-7,8.33523149235303e-7,6.42585210584187e-7,1.66825193572454e-7,5.99512847399319e-8,3.94165598987486e-8,9.82010989090677e-9,5.63927102646132e-10,0,0,0,0,0,0,0,0,0,0,0,0,0,0,0,0,0,0,0,0,0,0,0,0,0,0,0,0,0],\"fOption\":\"\",\"fFunctions\":{\"_typename\":\"TList\",\"name\":\"TList\",\"arr\":[],\"opt\":[]},\"fBufferSize\":0,\"fBuffer\":[],\"fBinStatErrOpt\":0,\"fStatOverflows\":2,\"fArray\":[0,0,0,0,0,0,0,0,0,0,0,0,0,0,0,0,0,0,0,0,0,0,0,0,0,0,0,0,0,0,0,0,0,0,0,3.968761e-5,6.173629e-5,1.32292e-4,1.675699e-4,2.16077e-4,3.395496e-4,4.145151e-4,6.394116e-4,8.598983e-4,0.001177399,0.001450803,0.002235736,0.004705187,0.01058777,0.009591173,0.01338355,0.009494159,0.008356447,0.008232975,0.007677348,0.00814478,0.008277073,0.008466691,0.008246204,0.008920894,0.01028791,0.0161264,0.047925,0.113511,0.1278294,0.1650431,0.1890189,0.1457197,0.03783112,0.01359521,0.008938532,0.002226916,1.278823e-4,0,0,0,0,0,0,0,0,0,0,0,0,0,0,0,0,0,0,0,0,0,0,0,0,0,0,0,0,0]},{\"_typename\":\"TH1F\",\"fUniqueID\":0,\"fBits\":50332169,\"fName\":\"h_cl3d_DEFCalib_Em_nomatch_bdt\",\"fTitle\":\"3D Cluster bdt out\",\"fLineColor\":2,\"fLineStyle\":1,\"fLineWidth\":1,\"fFillColor\":0,\"fFillStyle\":1001,\"fMarkerColor\":1,\"fMarkerStyle\":1,\"fMarkerSize\":1,\"fNcells\":102,\"fXaxis\":{\"_typename\":\"TAxis\",\"fUniqueID\":0,\"fBits\":50331648,\"fName\":\"xaxis\",\"fTitle\":\" BDT out\",\"fNdivisions\":510,\"fAxisColor\":1,\"fLabelColor\":1,\"fLabelFont\":42,\"fLabelOffset\":0.005,\"fLabelSize\":0.035,\"fTickLength\":0.03,\"fTitleOffset\":1,\"fTitleSize\":0.035,\"fTitleColor\":1,\"fTitleFont\":42,\"fNbins\":100,\"fXmin\":-1,\"fXmax\":1,\"fXbins\":[],\"fFirst\":0,\"fLast\":0,\"fBits2\":0,\"fTimeDisplay\":false,\"fTimeFormat\":\"\",\"fLabels\":null,\"fModLabs\":null},\"fYaxis\":{\"_typename\":\"TAxis\",\"fUniqueID\":0,\"fBits\":50331648,\"fName\":\"yaxis\",\"fTitle\":\"\",\"fNdivisions\":510,\"fAxisColor\":1,\"fLabelColor\":1,\"fLabelFont\":42,\"fLabelOffset\":0.005,\"fLabelSize\":0.035,\"fTickLength\":0.03,\"fTitleOffset\":0,\"fTitleSize\":0.035,\"fTitleColor\":1,\"fTitleFont\":42,\"fNbins\":1,\"fXmin\":0,\"fXmax\":1,\"fXbins\":[],\"fFirst\":0,\"fLast\":0,\"fBits2\":0,\"fTimeDisplay\":false,\"fTimeFormat\":\"\",\"fLabels\":null,\"fModLabs\":null},\"fZaxis\":{\"_typename\":\"TAxis\",\"fUniqueID\":0,\"fBits\":50331648,\"fName\":\"zaxis\",\"fTitle\":\"\",\"fNdivisions\":510,\"fAxisColor\":1,\"fLabelColor\":1,\"fLabelFont\":42,\"fLabelOffset\":0.005,\"fLabelSize\":0.035,\"fTickLength\":0.03,\"fTitleOffset\":1,\"fTitleSize\":0.035,\"fTitleColor\":1,\"fTitleFont\":42,\"fNbins\":1,\"fXmin\":0,\"fXmax\":1,\"fXbins\":[],\"fFirst\":0,\"fLast\":0,\"fBits2\":0,\"fTimeDisplay\":false,\"fTimeFormat\":\"\",\"fLabels\":null,\"fModLabs\":null},\"fBarOffset\":0,\"fBarWidth\":1000,\"fEntries\":1646046,\"fTsumw\":1646046,\"fTsumw2\":1646046,\"fTsumwx\":-75336.3959718271,\"fTsumwx2\":24905.7900721604,\"fMaximum\":-1111,\"fMinimum\":-1111,\"fNormFactor\":0,\"fContour\":[],\"fSumw2\":[0,0,0,0,0,0,0,0,0,0,0,0,0,0,0,0,0,0,0,0,0,0,0,0,0,0,0,0,3.69076220444134e-13,0,7.01244818843855e-12,3.06333262968632e-11,1.14782704558126e-10,3.52098714303704e-10,1.04227124653424e-9,2.6016182779107e-9,5.46122083391186e-9,9.52475002100178e-9,1.44334637529088e-8,1.6360779776068e-8,1.66058463864429e-8,1.50830379008904e-8,1.35513715860473e-8,1.1779436651695e-8,1.22182682778031e-8,1.46645054669068e-8,2.12274188188444e-8,4.28593451752956e-8,1.09909422143381e-7,7.48058446644989e-8,1.02597653140163e-7,4.21389083929886e-8,1.76599280720314e-8,1.11900219276457e-8,7.98680941041107e-9,4.54886441697396e-9,3.25451411187638e-9,2.27498582281764e-9,1.6708080499506e-9,1.1732933047919e-9,8.9537891079747e-10,1.09394191739641e-9,2.34437215226114e-9,3.7815549546706e-9,4.18274080629338e-9,5.07110726890241e-9,6.4558812480088e-9,4.64556238673032e-9,1.1356475303066e-9,4.3477178768319e-10,2.69794717144662e-10,7.27080154274945e-11,3.69076220444134e-12,0,0,0,0,0,0,0,0,0,0,0,0,0,0,0,0,0,0,0,0,0,0,0,0,0,0,0,0,0],\"fOption\":\"\",\"fFunctions\":{\"_typename\":\"TList\",\"name\":\"TList\",\"arr\":[],\"opt\":[]},\"fBufferSize\":0,\"fBuffer\":[],\"fBinStatErrOpt\":0,\"fStatOverflows\":2,\"fArray\":[0,0,0,0,0,0,0,0,0,0,0,0,0,0,0,0,0,0,0,0,0,0,0,0,0,0,0,0,6.075164e-7,0,1.154281e-5,5.042386e-5,1.889376e-4,5.795707e-4,0.001715626,0.004282383,0.008989421,0.01567818,0.02375815,0.0269306,0.02733399,0.02482737,0.02230618,0.0193895,0.02011183,0.02413845,0.03494131,0.07054845,0.180916,0.1231339,0.1688805,0.06936258,0.02906905,0.01841929,0.01314666,0.00748764,0.00535708,0.003744731,0.002750227,0.001931295,0.001473835,0.001800679,0.003858944,0.006224614,0.006884984,0.008347276,0.01062668,0.007646809,0.001869328,7.156543e-4,4.440945e-4,1.196807e-4,6.075164e-6,0,0,0,0,0,0,0,0,0,0,0,0,0,0,0,0,0,0,0,0,0,0,0,0,0,0,0,0,0]},{\"_typename\":\"TLegend\",\"fUniqueID\":0,\"fBits\":50331656,\"fLineColor\":1,\"fLineStyle\":1,\"fLineWidth\":1,\"fFillColor\":0,\"fFillStyle\":0,\"fX1\":1.00000004182782,\"fY1\":0.170853425963155,\"fX2\":1.87719303529128,\"fY2\":0.212093907959751,\"fX1NDC\":0.7,\"fY1NDC\":0.71,\"fX2NDC\":0.95,\"fY2NDC\":0.85,\"fBorderSize\":0,\"fInit\":1,\"fShadowColor\":1,\"fCornerRadius\":0,\"fOption\":\"brNDC\",\"fName\":\"TPave\",\"fTextAngle\":0,\"fTextSize\":0.05,\"fTextAlign\":12,\"fTextColor\":1,\"fTextFont\":42,\"fPrimitives\":{\"_typename\":\"TList\",\"name\":\"TList\",\"arr\":[{\"_typename\":\"TLegendEntry\",\"fUniqueID\":0,\"fBits\":50331656,\"fTextAngle\":0,\"fTextSize\":0,\"fTextAlign\":0,\"fTextColor\":0,\"fTextFont\":42,\"fLineColor\":1,\"fLineStyle\":1,\"fLineWidth\":1,\"fFillColor\":0,\"fFillStyle\":0,\"fMarkerColor\":1,\"fMarkerStyle\":21,\"fMarkerSize\":1,\"fObject\":{\"_typename\":\"TH1F\",\"fUniqueID\":0,\"fBits\":50332168,\"fName\":\"h_cl3d_DEFCalib_Em_nomatch_bdt\",\"fTitle\":\"3D Cluster bdt out\",\"fLineColor\":1,\"fLineStyle\":1,\"fLineWidth\":1,\"fFillColor\":0,\"fFillStyle\":1001,\"fMarkerColor\":1,\"fMarkerStyle\":1,\"fMarkerSize\":1,\"fNcells\":102,\"fXaxis\":{\"_typename\":\"TAxis\",\"fUniqueID\":0,\"fBits\":50331648,\"fName\":\"xaxis\",\"fTitle\":\" BDT out\",\"fNdivisions\":510,\"fAxisColor\":1,\"fLabelColor\":1,\"fLabelFont\":42,\"fLabelOffset\":0.005,\"fLabelSize\":0.035,\"fTickLength\":0.03,\"fTitleOffset\":1,\"fTitleSize\":0.035,\"fTitleColor\":1,\"fTitleFont\":42,\"fNbins\":100,\"fXmin\":-1,\"fXmax\":1,\"fXbins\":[],\"fFirst\":0,\"fLast\":0,\"fBits2\":0,\"fTimeDisplay\":false,\"fTimeFormat\":\"\",\"fLabels\":null,\"fModLabs\":null},\"fYaxis\":{\"_typename\":\"TAxis\",\"fUniqueID\":0,\"fBits\":50331648,\"fName\":\"yaxis\",\"fTitle\":\"\",\"fNdivisions\":510,\"fAxisColor\":1,\"fLabelColor\":1,\"fLabelFont\":42,\"fLabelOffset\":0.005,\"fLabelSize\":0.035,\"fTickLength\":0.03,\"fTitleOffset\":0,\"fTitleSize\":0.035,\"fTitleColor\":1,\"fTitleFont\":42,\"fNbins\":1,\"fXmin\":0,\"fXmax\":1,\"fXbins\":[],\"fFirst\":0,\"fLast\":0,\"fBits2\":0,\"fTimeDisplay\":false,\"fTimeFormat\":\"\",\"fLabels\":null,\"fModLabs\":null},\"fZaxis\":{\"_typename\":\"TAxis\",\"fUniqueID\":0,\"fBits\":50331648,\"fName\":\"zaxis\",\"fTitle\":\"\",\"fNdivisions\":510,\"fAxisColor\":1,\"fLabelColor\":1,\"fLabelFont\":42,\"fLabelOffset\":0.005,\"fLabelSize\":0.035,\"fTickLength\":0.03,\"fTitleOffset\":1,\"fTitleSize\":0.035,\"fTitleColor\":1,\"fTitleFont\":42,\"fNbins\":1,\"fXmin\":0,\"fXmax\":1,\"fXbins\":[],\"fFirst\":0,\"fLast\":0,\"fBits2\":0,\"fTimeDisplay\":false,\"fTimeFormat\":\"\",\"fLabels\":null,\"fModLabs\":null},\"fBarOffset\":0,\"fBarWidth\":1000,\"fEntries\":226771,\"fTsumw\":226771,\"fTsumw2\":226771,\"fTsumwx\":59215.9161862838,\"fTsumwx2\":17528.2848873903,\"fMaximum\":-1111,\"fMinimum\":-1111,\"fNormFactor\":0,\"fContour\":[],\"fSumw2\":[0,0,0,0,0,0,0,0,0,0,0,0,0,0,0,0,0,0,0,0,0,0,0,0,0,0,0,0,0,0,0,0,0,0,0,9,14,30,38,49,77,94,145,195,267,329,507,1067,2401,2175,3035,2153,1895,1867,1741,1847,1877,1920,1870,2023,2333,3657,10868,25741,28988,37427,42864,33045,8579,3083,2027,505,29,0,0,0,0,0,0,0,0,0,0,0,0,0,0,0,0,0,0,0,0,0,0,0,0,0,0,0,0,0],\"fOption\":\"\",\"fFunctions\":{\"_typename\":\"TList\",\"name\":\"TList\",\"arr\":[],\"opt\":[]},\"fBufferSize\":0,\"fBuffer\":[],\"fBinStatErrOpt\":0,\"fStatOverflows\":2,\"fArray\":[0,0,0,0,0,0,0,0,0,0,0,0,0,0,0,0,0,0,0,0,0,0,0,0,0,0,0,0,0,0,0,0,0,0,0,9,14,30,38,49,77,94,145,195,267,329,507,1067,2401,2175,3035,2153,1895,1867,1741,1847,1877,1920,1870,2023,2333,3657,10868,25741,28988,37427,42864,33045,8579,3083,2027,505,29,0,0,0,0,0,0,0,0,0,0,0,0,0,0,0,0,0,0,0,0,0,0,0,0,0,0,0,0,0]},\"fLabel\":\"PU0\",\"fOption\":\"l\"},{\"_typename\":\"TLegendEntry\",\"fUniqueID\":0,\"fBits\":50331656,\"fTextAngle\":0,\"fTextSize\":0,\"fTextAlign\":0,\"fTextColor\":0,\"fTextFont\":42,\"fLineColor\":2,\"fLineStyle\":1,\"fLineWidth\":1,\"fFillColor\":0,\"fFillStyle\":0,\"fMarkerColor\":1,\"fMarkerStyle\":21,\"fMarkerSize\":1,\"fObject\":{\"_typename\":\"TH1F\",\"fUniqueID\":0,\"fBits\":50332168,\"fName\":\"h_cl3d_DEFCalib_Em_nomatch_bdt\",\"fTitle\":\"3D Cluster bdt out\",\"fLineColor\":2,\"fLineStyle\":1,\"fLineWidth\":1,\"fFillColor\":0,\"fFillStyle\":1001,\"fMarkerColor\":1,\"fMarkerStyle\":1,\"fMarkerSize\":1,\"fNcells\":102,\"fXaxis\":{\"_typename\":\"TAxis\",\"fUniqueID\":0,\"fBits\":50331648,\"fName\":\"xaxis\",\"fTitle\":\" BDT out\",\"fNdivisions\":510,\"fAxisColor\":1,\"fLabelColor\":1,\"fLabelFont\":42,\"fLabelOffset\":0.005,\"fLabelSize\":0.035,\"fTickLength\":0.03,\"fTitleOffset\":1,\"fTitleSize\":0.035,\"fTitleColor\":1,\"fTitleFont\":42,\"fNbins\":100,\"fXmin\":-1,\"fXmax\":1,\"fXbins\":[],\"fFirst\":0,\"fLast\":0,\"fBits2\":0,\"fTimeDisplay\":false,\"fTimeFormat\":\"\",\"fLabels\":null,\"fModLabs\":null},\"fYaxis\":{\"_typename\":\"TAxis\",\"fUniqueID\":0,\"fBits\":50331648,\"fName\":\"yaxis\",\"fTitle\":\"\",\"fNdivisions\":510,\"fAxisColor\":1,\"fLabelColor\":1,\"fLabelFont\":42,\"fLabelOffset\":0.005,\"fLabelSize\":0.035,\"fTickLength\":0.03,\"fTitleOffset\":0,\"fTitleSize\":0.035,\"fTitleColor\":1,\"fTitleFont\":42,\"fNbins\":1,\"fXmin\":0,\"fXmax\":1,\"fXbins\":[],\"fFirst\":0,\"fLast\":0,\"fBits2\":0,\"fTimeDisplay\":false,\"fTimeFormat\":\"\",\"fLabels\":null,\"fModLabs\":null},\"fZaxis\":{\"_typename\":\"TAxis\",\"fUniqueID\":0,\"fBits\":50331648,\"fName\":\"zaxis\",\"fTitle\":\"\",\"fNdivisions\":510,\"fAxisColor\":1,\"fLabelColor\":1,\"fLabelFont\":42,\"fLabelOffset\":0.005,\"fLabelSize\":0.035,\"fTickLength\":0.03,\"fTitleOffset\":1,\"fTitleSize\":0.035,\"fTitleColor\":1,\"fTitleFont\":42,\"fNbins\":1,\"fXmin\":0,\"fXmax\":1,\"fXbins\":[],\"fFirst\":0,\"fLast\":0,\"fBits2\":0,\"fTimeDisplay\":false,\"fTimeFormat\":\"\",\"fLabels\":null,\"fModLabs\":null},\"fBarOffset\":0,\"fBarWidth\":1000,\"fEntries\":1646046,\"fTsumw\":1646046,\"fTsumw2\":1646046,\"fTsumwx\":-75336.3959718271,\"fTsumwx2\":24905.7900721604,\"fMaximum\":-1111,\"fMinimum\":-1111,\"fNormFactor\":0,\"fContour\":[],\"fSumw2\":[0,0,0,0,0,0,0,0,0,0,0,0,0,0,0,0,0,0,0,0,0,0,0,0,0,0,0,0,1,0,19,83,311,954,2824,7049,14797,25807,39107,44329,44993,40867,36717,31916,33105,39733,57515,116126,297796,202684,277985,114174,47849,30319,21640,12325,8818,6164,4527,3179,2426,2964,6352,10246,11333,13740,17492,12587,3077,1178,731,197,10,0,0,0,0,0,0,0,0,0,0,0,0,0,0,0,0,0,0,0,0,0,0,0,0,0,0,0,0,0],\"fOption\":\"\",\"fFunctions\":{\"_typename\":\"TList\",\"name\":\"TList\",\"arr\":[],\"opt\":[]},\"fBufferSize\":0,\"fBuffer\":[],\"fBinStatErrOpt\":0,\"fStatOverflows\":2,\"fArray\":[0,0,0,0,0,0,0,0,0,0,0,0,0,0,0,0,0,0,0,0,0,0,0,0,0,0,0,0,1,0,19,83,311,954,2824,7049,14797,25807,39107,44329,44993,40867,36717,31916,33105,39733,57515,116126,297796,202684,277985,114174,47849,30319,21640,12325,8818,6164,4527,3179,2426,2964,6352,10246,11333,13740,17492,12587,3077,1178,731,197,10,0,0,0,0,0,0,0,0,0,0,0,0,0,0,0,0,0,0,0,0,0,0,0,0,0,0,0,0,0]},\"fLabel\":\"PU200\",\"fOption\":\"l\"}],\"opt\":[\"l\",\"l\"]},\"fEntrySeparation\":0.1,\"fMargin\":0.25,\"fNColumns\":1,\"fColumnSeparation\":0},{\"_typename\":\"TPaveText\",\"fUniqueID\":0,\"fBits\":50331657,\"fLineColor\":1,\"fLineStyle\":1,\"fLineWidth\":1,\"fFillColor\":0,\"fFillStyle\":0,\"fX1\":-0.290046699212464,\"fY1\":0.238605647549353,\"fX2\":0.886537993326568,\"fY2\":0.25480726571801,\"fX1NDC\":0.332336683417085,\"fY1NDC\":0.940000003948808,\"fX2NDC\":0.667663316582915,\"fY2NDC\":0.995000004768372,\"fBorderSize\":0,\"fInit\":1,\"fShadowColor\":1,\"fCornerRadius\":0,\"fOption\":\"blNDC\",\"fName\":\"title\",\"fTextAngle\":0,\"fTextSize\":0,\"fTextAlign\":22,\"fTextColor\":1,\"fTextFont\":42,\"fLabel\":\"\",\"fLongest\":18,\"fMargin\":0.05,\"fLines\":{\"_typename\":\"TList\",\"name\":\"TList\",\"arr\":[{\"_typename\":\"TLatex\",\"fUniqueID\":0,\"fBits\":50331648,\"fName\":\"\",\"fTitle\":\"3D Cluster bdt out\",\"fTextAngle\":0,\"fTextSize\":0,\"fTextAlign\":0,\"fTextColor\":0,\"fTextFont\":0,\"fX\":0,\"fY\":0,\"fLineColor\":1,\"fLineStyle\":1,\"fLineWidth\":2,\"fLimitFactorSize\":3,\"fOriginSize\":0.0467500016093254}],\"opt\":[\"\"]}},{\"_typename\":\"TLatex\",\"fUniqueID\":0,\"fBits\":50348040,\"fName\":\"\",\"fTitle\":\"NNDR Calib v1, EGId\",\"fTextAngle\":0,\"fTextSize\":0.03,\"fTextAlign\":11,\"fTextColor\":1,\"fTextFont\":62,\"fX\":0.15,\"fY\":0.85,\"fLineColor\":1,\"fLineStyle\":1,\"fLineWidth\":2,\"fLimitFactorSize\":3,\"fOriginSize\":0.04}],\"opt\":[\"\",\",\",\"SAME,\",\"\",\"blNDC\",\"same\"]},\"fExecs\":null,\"fName\":\"c_f9944c\",\"fTitle\":\"h_cl3d_DEFCalib_Em_nomatch_bdt\",\"fNumPaletteColor\":0,\"fNextPaletteColor\":0,\"fDISPLAY\":\"$DISPLAY\",\"fDoubleBuffer\":0,\"fRetained\":true,\"fXsizeUser\":0,\"fYsizeUser\":0,\"fXsizeReal\":20,\"fYsizeReal\":15,\"fWindowTopX\":0,\"fWindowTopY\":0,\"fWindowWidth\":0,\"fWindowHeight\":0,\"fCw\":796,\"fCh\":572,\"fCatt\":{\"_typename\":\"TAttCanvas\",\"fXBetween\":2,\"fYBetween\":2,\"fTitleFromTop\":1.2,\"fXdate\":0.2,\"fYdate\":0.3,\"fAdate\":1},\"kMoveOpaque\":true,\"kResizeOpaque\":true,\"fHighLightColor\":2,\"fBatch\":true,\"kShowEventStatus\":false,\"kAutoExec\":true,\"kMenuBar\":true});\n",
       "       Core.draw(\"root_plot_12\", obj, \"\");\n",
       "     }\n",
       " );\n",
       "</script>\n"
      ],
      "text/plain": [
       "<IPython.core.display.HTML object>"
      ]
     },
     "metadata": {},
     "output_type": "display_data"
    }
   ],
   "source": [
    "for tp in tps:\n",
    "    for tp_sel in tp_select:\n",
    "        hsets, labels, text = hplot.get_histo(histos.HistoSetClusters, sample_type, ['PU0', 'PU200'], tp, tp_sel, ['nomatch'])            \n",
    "#         print hsets\n",
    "        drawSame([his.hcl3d.h_bdt for his in hsets], labels, norm=True, text=text, logy=True)\n"
   ]
  },
  {
   "cell_type": "code",
   "execution_count": 14,
   "metadata": {},
   "outputs": [
    {
     "ename": "NameError",
     "evalue": "name 'tpset_labels' is not defined",
     "output_type": "error",
     "traceback": [
      "\u001b[0;31m\u001b[0m",
      "\u001b[0;31mNameError\u001b[0mTraceback (most recent call last)",
      "\u001b[0;32m<ipython-input-14-5afd3543b7d1>\u001b[0m in \u001b[0;36m<module>\u001b[0;34m()\u001b[0m\n\u001b[1;32m     18\u001b[0m         \u001b[0mhisto_hcl2d_df\u001b[0m\u001b[0;34m.\u001b[0m\u001b[0mloc\u001b[0m\u001b[0;34m[\u001b[0m\u001b[0mtp_set\u001b[0m\u001b[0;34m]\u001b[0m\u001b[0;34m[\u001b[0m\u001b[0mparticle\u001b[0m\u001b[0;34m]\u001b[0m \u001b[0;34m=\u001b[0m  \u001b[0;34m[\u001b[0m\u001b[0mhistos\u001b[0m\u001b[0;34m.\u001b[0m\u001b[0mHistoSetClusters\u001b[0m\u001b[0;34m(\u001b[0m\u001b[0;34m'{}_{}'\u001b[0m\u001b[0;34m.\u001b[0m\u001b[0mformat\u001b[0m\u001b[0;34m(\u001b[0m\u001b[0mtp_set\u001b[0m\u001b[0;34m,\u001b[0m \u001b[0mparticle\u001b[0m\u001b[0;34m)\u001b[0m\u001b[0;34m,\u001b[0m \u001b[0msample\u001b[0m\u001b[0;34m.\u001b[0m\u001b[0mhisto_file\u001b[0m\u001b[0;34m)\u001b[0m\u001b[0;34m.\u001b[0m\u001b[0mhcl2d\u001b[0m \u001b[0;32mfor\u001b[0m \u001b[0msample\u001b[0m \u001b[0;32min\u001b[0m \u001b[0msamples\u001b[0m\u001b[0;34m]\u001b[0m\u001b[0;34m\u001b[0m\u001b[0m\n\u001b[1;32m     19\u001b[0m         \u001b[0mhisto_htc_df\u001b[0m\u001b[0;34m.\u001b[0m\u001b[0mloc\u001b[0m\u001b[0;34m[\u001b[0m\u001b[0mtp_set\u001b[0m\u001b[0;34m]\u001b[0m\u001b[0;34m[\u001b[0m\u001b[0mparticle\u001b[0m\u001b[0;34m]\u001b[0m \u001b[0;34m=\u001b[0m  \u001b[0;34m[\u001b[0m\u001b[0mhistos\u001b[0m\u001b[0;34m.\u001b[0m\u001b[0mHistoSetClusters\u001b[0m\u001b[0;34m(\u001b[0m\u001b[0;34m'{}_{}'\u001b[0m\u001b[0;34m.\u001b[0m\u001b[0mformat\u001b[0m\u001b[0;34m(\u001b[0m\u001b[0mtp_set\u001b[0m\u001b[0;34m,\u001b[0m \u001b[0mparticle\u001b[0m\u001b[0;34m)\u001b[0m\u001b[0;34m,\u001b[0m \u001b[0msample\u001b[0m\u001b[0;34m.\u001b[0m\u001b[0mhisto_file\u001b[0m\u001b[0;34m)\u001b[0m\u001b[0;34m.\u001b[0m\u001b[0mhtc\u001b[0m \u001b[0;32mfor\u001b[0m \u001b[0msample\u001b[0m \u001b[0;32min\u001b[0m \u001b[0msamples\u001b[0m\u001b[0;34m]\u001b[0m\u001b[0;34m\u001b[0m\u001b[0m\n\u001b[0;32m---> 20\u001b[0;31m         \u001b[0mtitles_df\u001b[0m\u001b[0;34m.\u001b[0m\u001b[0mloc\u001b[0m\u001b[0;34m[\u001b[0m\u001b[0mtp_set\u001b[0m\u001b[0;34m,\u001b[0m \u001b[0mparticle\u001b[0m\u001b[0;34m]\u001b[0m \u001b[0;34m=\u001b[0m \u001b[0;34m'{}, {}'\u001b[0m\u001b[0;34m.\u001b[0m\u001b[0mformat\u001b[0m\u001b[0;34m(\u001b[0m\u001b[0mtpset_labels\u001b[0m\u001b[0;34m[\u001b[0m\u001b[0mtp_set\u001b[0m\u001b[0;34m]\u001b[0m\u001b[0;34m,\u001b[0m \u001b[0mparticle_labels\u001b[0m\u001b[0;34m[\u001b[0m\u001b[0mparticle\u001b[0m\u001b[0;34m]\u001b[0m\u001b[0;34m)\u001b[0m\u001b[0;34m\u001b[0m\u001b[0m\n\u001b[0m\u001b[1;32m     21\u001b[0m \u001b[0;34m\u001b[0m\u001b[0m\n\u001b[1;32m     22\u001b[0m \u001b[0;34m\u001b[0m\u001b[0m\n",
      "\u001b[0;31mNameError\u001b[0m: name 'tpset_labels' is not defined"
     ]
    }
   ],
   "source": [
    "\n",
    "samples = samples_ele\n",
    "tp_sets = ['DEF', 'DEF_em']\n",
    "particles = ['nomatch']\n",
    "labels = [sample.label for sample in samples]\n",
    "\n",
    "histo_hGenDen_df = pd.DataFrame(index=tp_sets, columns=particles)\n",
    "histo_hcl3d_df = pd.DataFrame(index=tp_sets, columns=particles)\n",
    "histo_hcl2d_df = pd.DataFrame(index=tp_sets, columns=particles)\n",
    "histo_htc_df = pd.DataFrame(index=tp_sets, columns=particles)\n",
    "titles_df = pd.DataFrame(index=tp_sets, columns=particles)\n",
    "\n",
    "\n",
    "for tp_set in tp_sets:\n",
    "    for particle in particles:\n",
    "        histo_hGenDen_df.loc[tp_set][particle] =  [histos.HistoSetEff('{}_{}'.format(tp_set, particle), sample.histo_file).h_den for sample in samples]\n",
    "        histo_hcl3d_df.loc[tp_set][particle] =  [histos.HistoSetClusters('{}_{}'.format(tp_set, particle), sample.histo_file).hcl3d for sample in samples]\n",
    "        histo_hcl2d_df.loc[tp_set][particle] =  [histos.HistoSetClusters('{}_{}'.format(tp_set, particle), sample.histo_file).hcl2d for sample in samples]\n",
    "        histo_htc_df.loc[tp_set][particle] =  [histos.HistoSetClusters('{}_{}'.format(tp_set, particle), sample.histo_file).htc for sample in samples]\n",
    "        titles_df.loc[tp_set, particle] = '{}, {}'.format(tpset_labels[tp_set], particle_labels[particle])\n",
    "\n",
    "\n",
    "        \n",
    "        \n",
    "histo_hGenDen_df    \n",
    "histo_hcl3d_df\n",
    "histo_hcl2d_df\n",
    "histo_htc_df\n"
   ]
  },
  {
   "cell_type": "code",
   "execution_count": null,
   "metadata": {},
   "outputs": [],
   "source": [
    "dir(histo_hcl3d_df.loc['DEF', 'ele'][0])\n",
    "dir(histo_hcl2d_df.loc['DEF', 'ele'][0])\n",
    "dir(histo_htc_df.loc['DEF', 'ele'][0])"
   ]
  },
  {
   "cell_type": "markdown",
   "metadata": {},
   "source": [
    "### Gen level particle distribution"
   ]
  },
  {
   "cell_type": "code",
   "execution_count": null,
   "metadata": {},
   "outputs": [],
   "source": [
    "tp_set = 'DEF'\n",
    "particle = 'nomatch'\n",
    "\n",
    "h_eta = [histo.h_eta for histo in histo_hGenDen_df.loc[tp_set, particle]]\n",
    "drawSame(h_eta, labels, text=titles_df.loc[tp_set, particle])\n",
    "h_pt = [histo.h_pt for histo in histo_hGenDen_df.loc[tp_set, particle]]\n",
    "drawSame(h_pt, labels, text=titles_df.loc[tp_set, particle])\n",
    "h_reachedEE = [histo.h_reachedEE for histo in histo_hGenDen_df.loc[tp_set, particle]]\n",
    "drawSame(h_reachedEE, labels, text=titles_df.loc[tp_set, particle])\n"
   ]
  },
  {
   "cell_type": "markdown",
   "metadata": {},
   "source": [
    "#### 3D clusters matched to GEN"
   ]
  },
  {
   "cell_type": "code",
   "execution_count": null,
   "metadata": {
    "scrolled": false
   },
   "outputs": [],
   "source": [
    "\n",
    "for particle in particles:\n",
    "    for tp_set in tp_sets:\n",
    "        hByTPset = [histo.h_pt for histo in histo_hcl3d_df.loc[tp_set, particle]]\n",
    "        drawSame(hByTPset, labels, text=titles_df.loc[tp_set, particle], norm=True)\n"
   ]
  },
  {
   "cell_type": "code",
   "execution_count": null,
   "metadata": {
    "scrolled": false
   },
   "outputs": [],
   "source": [
    "\n",
    "for particle in ['nomatch']:\n",
    "    for tp_set in tp_sets:\n",
    "        hByTPset = [histo.h_eta for histo in histo_hcl3d_df.loc[tp_set, particle]]\n",
    "        drawSame(hByTPset, labels, text=titles_df.loc[tp_set, particle])"
   ]
  },
  {
   "cell_type": "markdown",
   "metadata": {},
   "source": [
    "3D cluster # of 2D components"
   ]
  },
  {
   "cell_type": "code",
   "execution_count": null,
   "metadata": {
    "scrolled": false
   },
   "outputs": [],
   "source": [
    "\n",
    "for particle in particles:\n",
    "    for tp_set in ['DEF', 'DEF_em']:\n",
    "        hByTPset = [histo.h_nclu for histo in histo_hcl3d_df.loc[tp_set, particle]]\n",
    "        drawSame(hByTPset, labels, text=titles_df.loc[tp_set, particle])\n"
   ]
  },
  {
   "cell_type": "code",
   "execution_count": null,
   "metadata": {
    "scrolled": false
   },
   "outputs": [],
   "source": [
    "\n",
    "for particle in particles:\n",
    "    for tp_set in ['DEF', 'DEF_em']:\n",
    "        hByTPset = [histo.h_ncluVpt for histo in histo_hcl3d_df.loc[tp_set, particle]]\n",
    "        drawSeveral(hByTPset, labels, options='COLZ', do_profile=True, text=titles_df.loc[tp_set, particle])\n"
   ]
  },
  {
   "cell_type": "code",
   "execution_count": null,
   "metadata": {
    "scrolled": false
   },
   "outputs": [],
   "source": [
    "\n",
    "for particle in particles:\n",
    "    for tp_set in ['DEF']:\n",
    "        hByTPset = [histo.h_iso0p2 for histo in histo_hcl3d_df.loc[tp_set, particle]]\n",
    "        drawSame(hByTPset, labels, text=titles_df.loc[tp_set, particle], logy=True)\n"
   ]
  },
  {
   "cell_type": "code",
   "execution_count": null,
   "metadata": {
    "scrolled": false
   },
   "outputs": [],
   "source": [
    "\n",
    "for particle in particles:\n",
    "    for tp_set in ['DEF']:\n",
    "        hByTPset = [histo.h_isoRel0p2 for histo in histo_hcl3d_df.loc[tp_set, particle]]\n",
    "        drawSame(hByTPset, labels, text=titles_df.loc[tp_set, particle], logy=True)\n",
    "\n",
    "particle = 'ele'\n",
    "tp_set = 'DEF'\n",
    "hByTPset = [histo.h_isoRel0p2 for histo in histo_hcl3d_df.loc[tp_set, particle]]\n",
    "draw(hByTPset[1])"
   ]
  },
  {
   "cell_type": "markdown",
   "metadata": {},
   "source": [
    "#### 2D cluster components of matched 3D clusters"
   ]
  },
  {
   "cell_type": "code",
   "execution_count": null,
   "metadata": {},
   "outputs": [],
   "source": [
    "histo_hcl2d_df"
   ]
  },
  {
   "cell_type": "markdown",
   "metadata": {},
   "source": [
    "distribution of the counts of 2D cluster per layer "
   ]
  },
  {
   "cell_type": "code",
   "execution_count": null,
   "metadata": {
    "scrolled": false
   },
   "outputs": [],
   "source": [
    "for particle in particles:\n",
    "    for tp_set in tp_sets:\n",
    "        hByTPset = [histo.h_layer for histo in histo_hcl2d_df.loc[tp_set, particle]]\n",
    "        drawSame(hByTPset, labels, norm=True, text=titles_df.loc[tp_set, particle])\n",
    "#         drawSeveral(hByTPset, labels, options='COLZ', do_profile=True)\n"
   ]
  },
  {
   "cell_type": "markdown",
   "metadata": {},
   "source": [
    "Number of TCs composing the 2D cluster"
   ]
  },
  {
   "cell_type": "code",
   "execution_count": null,
   "metadata": {
    "scrolled": false
   },
   "outputs": [],
   "source": [
    "for particle in particles:\n",
    "    for tp_set in tp_sets:\n",
    "        hByTPset = [histo.h_ncells for histo in histo_hcl2d_df.loc[tp_set, particle]]\n",
    "        drawSame(hByTPset, labels, norm=True, text=titles_df.loc[tp_set, particle])\n",
    "#         drawSeveral(hByTPset, labels, options='COLZ', do_profile=True)\n"
   ]
  },
  {
   "cell_type": "code",
   "execution_count": null,
   "metadata": {
    "scrolled": false
   },
   "outputs": [],
   "source": [
    "for particle in particles:\n",
    "    for tp_set in tp_sets:\n",
    "        hByTPset = [histo.h_energy for histo in histo_hcl2d_df.loc[tp_set, particle]]\n",
    "        drawSame(hByTPset, labels, norm=True, text=titles_df.loc[tp_set, particle])\n",
    "#         drawSeveral(hByTPset, labels, options='COLZ', do_profile=True)"
   ]
  },
  {
   "cell_type": "markdown",
   "metadata": {},
   "source": [
    "*NOTE*: we can conclude that at high PU the 3D clusters have more clusters in the first layers and the size (in terms of constituents and hence collected energy) of the 2D clusters grows\n",
    "\n",
    "In the following we try to breakdown this behavior by layer\n"
   ]
  },
  {
   "cell_type": "markdown",
   "metadata": {},
   "source": [
    "Distribution of the # of TC in the 2D cluster components vs layer"
   ]
  },
  {
   "cell_type": "code",
   "execution_count": null,
   "metadata": {
    "scrolled": false
   },
   "outputs": [],
   "source": [
    "for particle in particles:\n",
    "    for tp_set in tp_sets:\n",
    "        hByTPset = [histo.h_layerVncells for histo in histo_hcl2d_df.loc[tp_set, particle]]\n",
    "#        drawSame(hByTPset, labels, norm=True)\n",
    "        drawSeveral(hByTPset, labels, options='COLZ', do_profile=True, text=titles_df.loc[tp_set, particle])\n",
    "        hByTPset = [histo.h_layerVncells.ProfileX(uuid.uuid4().hex[:6]) for histo in histo_hcl2d_df.loc[tp_set, particle]]\n",
    "        drawSame(hByTPset, labels, text=titles_df.loc[tp_set, particle])"
   ]
  },
  {
   "cell_type": "code",
   "execution_count": null,
   "metadata": {
    "scrolled": false
   },
   "outputs": [],
   "source": [
    "for particle in particles:\n",
    "    for tp_set in tp_sets:\n",
    "        hByTPset = [histo.h_layerVenergy for histo in histo_hcl2d_df.loc[tp_set, particle]]\n",
    "#        drawSame(hByTPset, labels, norm=True)\n",
    "        drawSeveral(hByTPset, labels, options='COLZ', do_profile=True)\n",
    "        hByTPset = [histo.h_layerVenergy.ProfileX(uuid.uuid4().hex[:6]) for histo in histo_hcl2d_df.loc[tp_set, particle]]\n",
    "        drawSame(hByTPset, labels, text=titles_df.loc[tp_set, particle])"
   ]
  },
  {
   "cell_type": "markdown",
   "metadata": {},
   "source": [
    "#### TCs components of Matched 3D clusters"
   ]
  },
  {
   "cell_type": "code",
   "execution_count": null,
   "metadata": {},
   "outputs": [],
   "source": [
    "histo_htc_df"
   ]
  },
  {
   "cell_type": "markdown",
   "metadata": {},
   "source": [
    "*WARNING*: looking inclusively at the energy of TCs is very misleading since PU TCs are mostly at high-eta one might conclude that they are more energetic....while they ahave the same pT"
   ]
  },
  {
   "cell_type": "code",
   "execution_count": null,
   "metadata": {
    "scrolled": false
   },
   "outputs": [],
   "source": [
    "for particle in particles:\n",
    "    for tp_set in tp_sets:\n",
    "        hByTPset = [histo.h_energy for histo in histo_htc_df.loc[tp_set, particle]]\n",
    "        drawSame(hByTPset, labels, norm=True, text=titles_df.loc[tp_set, particle])\n"
   ]
  },
  {
   "cell_type": "code",
   "execution_count": null,
   "metadata": {
    "scrolled": false
   },
   "outputs": [],
   "source": [
    "for particle in particles:\n",
    "    for tp_set in tp_sets:\n",
    "        hByTPset = [histo.h_mipPt for histo in histo_htc_df.loc[tp_set, particle]]\n",
    "        drawSame(hByTPset, labels, norm=True, text=titles_df.loc[tp_set, particle])"
   ]
  },
  {
   "cell_type": "code",
   "execution_count": null,
   "metadata": {
    "scrolled": false
   },
   "outputs": [],
   "source": [
    "for particle in particles:\n",
    "    for tp_set in tp_sets:\n",
    "        hByTPset = [histo.h_layer for histo in histo_htc_df.loc[tp_set, particle]]\n",
    "        drawSame(hByTPset, labels, norm=True, text=titles_df.loc[tp_set, particle])"
   ]
  },
  {
   "cell_type": "code",
   "execution_count": null,
   "metadata": {},
   "outputs": [],
   "source": []
  }
 ],
 "metadata": {
  "kernelspec": {
   "display_name": "HGCTPGPerformance",
   "language": "python",
   "name": "hgctpgperformance"
  },
  "language_info": {
   "codemirror_mode": {
    "name": "ipython",
    "version": 2
   },
   "file_extension": ".py",
   "mimetype": "text/x-python",
   "name": "python",
   "nbconvert_exporter": "python",
   "pygments_lexer": "ipython2",
   "version": "2.7.15"
  },
  "toc": {
   "base_numbering": 1,
   "nav_menu": {},
   "number_sections": true,
   "sideBar": true,
   "skip_h1_title": false,
   "title_cell": "Table of Contents",
   "title_sidebar": "Contents",
   "toc_cell": false,
   "toc_position": {
    "height": "calc(100% - 180px)",
    "left": "10px",
    "top": "150px",
    "width": "468.8px"
   },
   "toc_section_display": true,
   "toc_window_display": true
  }
 },
 "nbformat": 4,
 "nbformat_minor": 2
}
