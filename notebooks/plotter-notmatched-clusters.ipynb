{
 "cells": [
  {
   "cell_type": "markdown",
   "metadata": {},
   "source": [
    "# Single Particle performance plots\n",
    "\n",
    "\n",
    "   * [GEN Level plots](#Gen-level)\n",
    "   * [All clusters without selection](#All-clusters-without-selection)\n",
    "      * [2D clusters per layer](#2D-clusters-per-layer)\n",
    "      * [2D cluster energy](#2D-cluster-energy)\n",
    "      * [2D cluster: # of TriggerCells](#2D-cluster:-#-of-TriggerCells)\n",
    "      * [# of 3D clusters](##-of-3D-clusters)\n",
    "   * [Cluster matched to GEN particles](#Cluster-matched-to-GEN-particles)\n",
    "      * [2D clusters per layer](#2D-clusters-per-layer)\n",
    "      * [2D clusters: # of Trigger Cells](#2D-clusters:-#-of-Trigger-Cells)\n",
    "      * [2D Cluster Energy](#2D-Cluster-Energy)\n",
    "      * [3D clusters: # of 2D components](#3D-clusters:-#-of-2D-components)\n",
    "      * [3D cluster energy](#3D-cluster-energy)\n",
    "   * [Resolution studies](#Resolution-Studies)\n",
    "      * [3D cluster: pt resolution](#3D-cluster:-Pt-resolution)\n",
    "      * [2D position resolution](#Postion-resolution-of-2D-clusters)\n",
    "   * [Trigger Tower performance](#Trigger-Tower-plots)\n",
    "      * [Towers matched to GEN](#Towers-matched-to-GEN-particles)\n",
    "      * [Resolution studies](#Trigger-Tower-resolution)\n",
    "\n"
   ]
  },
  {
   "cell_type": "code",
   "execution_count": 1,
   "metadata": {},
   "outputs": [
    {
     "name": "stdout",
     "output_type": "stream",
     "text": [
      "Welcome to JupyROOT 6.14/02\n"
     ]
    }
   ],
   "source": [
    "import sys\n",
    "sys.path.insert(0, '..')\n",
    "import ROOT\n",
    "import root_numpy as rnp\n",
    "import python.l1THistos as histos\n",
    "import math\n",
    "import uuid\n",
    "import pandas as pd\n",
    "\n",
    "ROOT.enableJSVis()\n",
    "#ROOT.enableJSVis()\n",
    "\n",
    "#from drawingTools import *\n",
    "\n",
    "normalized_histos = list()"
   ]
  },
  {
   "cell_type": "code",
   "execution_count": 3,
   "metadata": {},
   "outputs": [],
   "source": [
    "# %load ../drawingTools\n",
    "import ROOT\n",
    "import math\n",
    "import uuid\n",
    "\n",
    "# some useful globals, mainly to deal with ROOT idiosyncrasies\n",
    "c_idx = 0\n",
    "p_idx = 0\n",
    "colors = range(1, 12)\n",
    "stuff = []\n",
    "f_idx = 0\n",
    "\n",
    "ROOT.gStyle.SetOptTitle(False)\n",
    "ROOT.gStyle.SetPadBottomMargin(0.13)\n",
    "ROOT.gStyle.SetPadLeftMargin(0.13)\n",
    "ROOT.gStyle.SetPadRightMargin(0.13)\n",
    "\n",
    "# ROOT.gStyle.SetCanvasBorderMode(0)\n",
    "# ROOT.gStyle.SetCanvasColor(0)\n",
    "\n",
    "\n",
    "def getText(text, ndc_x, ndc_y):\n",
    "    global stuff\n",
    "    rtext = ROOT.TLatex(ndc_x, ndc_y, text)\n",
    "    stuff.append(rtext)\n",
    "    rtext.SetNDC(True)\n",
    "    # rtext.SetTextFont(40)\n",
    "    rtext.SetTextSize(0.03)\n",
    "    return rtext\n",
    "\n",
    "def getLegend(x1=0.7, y1=0.71, x2=0.95, y2=0.85):\n",
    "    global stuff\n",
    "    legend = ROOT.TLegend(x1, y1, x2, y2)\n",
    "    stuff.append(legend)\n",
    "    legend.SetFillColor(0)\n",
    "    legend.SetFillStyle(0)\n",
    "    legend.SetBorderSize(0)\n",
    "    legend.SetTextSize(0.05)\n",
    "    return legend\n",
    "\n",
    "def newCanvas(name=None, title=None, height=600, width=800, xdiv=0, ydiv=0, form=4):\n",
    "    global c_idx\n",
    "    if name is None:\n",
    "        name = 'c_{}'.format(uuid.uuid4().hex[:6])\n",
    "        c_idx += 1\n",
    "    if title is None:\n",
    "        title = name\n",
    "    # print name, title, width, height\n",
    "    canvas = ROOT.TCanvas(name, title, width, height)\n",
    "    if(xdiv*ydiv != 0):\n",
    "        canvas.Divide(xdiv, ydiv)\n",
    "    global stuff\n",
    "    stuff.append(canvas)\n",
    "    return canvas\n",
    "\n",
    "def drawAndProfileX(plot2d, miny=None, maxy=None, do_profile=True, options='', text=None):\n",
    "    global p_idx\n",
    "    if miny and maxy:\n",
    "        plot2d.GetYaxis().SetRangeUser(miny, maxy)\n",
    "    c = newCanvas()\n",
    "    c.SetGrid(1, 1)\n",
    "    c.cd()\n",
    "    plot2d.Draw(options)\n",
    "    ROOT.gPad.SetGrid(1, 1)\n",
    "    ROOT.gStyle.SetGridColor(15)\n",
    "\n",
    "    if do_profile:\n",
    "        profname = plot2d.GetName()+'_prof_'+str(p_idx)\n",
    "        p_idx += 1\n",
    "        firstbin = 1\n",
    "        lastbin = -1\n",
    "        prof = plot2d.ProfileX(profname, firstbin, lastbin, 's')\n",
    "        prof.SetMarkerColor(2)\n",
    "        prof.SetLineColor(2)\n",
    "        prof.Draw('same')\n",
    "\n",
    "    if text:\n",
    "        rtext = getText(text, 0.15, 0.85)\n",
    "        rtext.Draw('same')\n",
    "\n",
    "    c.Draw()\n",
    "\n",
    "\n",
    "def draw(histograms,\n",
    "         labels,\n",
    "         options='',\n",
    "         norm=False,\n",
    "         logy=False,\n",
    "         min_y=None,\n",
    "         max_y=None,\n",
    "         text=None,\n",
    "         y_axis_label=None,\n",
    "         x_axis_label=None,\n",
    "         v_lines=None,\n",
    "         h_lines=None,\n",
    "         do_stats=False,\n",
    "         do_profile=False,\n",
    "         do_ratio=False):\n",
    "    global colors\n",
    "    global stuff\n",
    "    global p_idx\n",
    "\n",
    "\n",
    "    # 0 - determine kind and # of histos\n",
    "    n_histos = len(histograms)\n",
    "    if n_histos == 0:\n",
    "        print '[draw]**ERROR: empy histo list'\n",
    "        return\n",
    "\n",
    "    histo_class = histograms[0].ClassName()\n",
    "\n",
    "    # 1 - check argument consisntency\n",
    "    if 'TH2' not in histo_class and do_profile:\n",
    "        print '[draw]**ERROR: do_profile set for histo of class: {}'.format(histo_class)\n",
    "        return\n",
    "\n",
    "    # TH1 histograms are overlayed\n",
    "    # TH2 histograms are drawn side by side in the same canvas\n",
    "    overlay = True\n",
    "    if n_histos > 1:\n",
    "        if 'TH2' in histo_class or 'TH3' in histo_class:\n",
    "            overlay = False\n",
    "\n",
    "    # 2 - determine canvas properties\n",
    "    xdiv = 0\n",
    "    ydiv = 0\n",
    "    c_width = 800\n",
    "    c_height = 600\n",
    "    # do_ratio = False\n",
    "\n",
    "    if do_ratio:\n",
    "        c_height = 800\n",
    "\n",
    "    if not overlay:\n",
    "        xdiv = 2\n",
    "        c_width = 1000.\n",
    "        ydiv = math.ceil(float(n_histos)/2)\n",
    "        c_height = 500*ydiv\n",
    "    canvas = newCanvas(name=None,\n",
    "                       title=None,\n",
    "                       height=int(c_height),\n",
    "                       width=int(c_width),\n",
    "                       xdiv=int(xdiv),\n",
    "                       ydiv=int(ydiv))\n",
    "    if overlay:\n",
    "        canvas.SetRightMargin(0.30)\n",
    "\n",
    "    canvas.cd()\n",
    "    leg = getLegend()\n",
    "\n",
    "    drawn_histos = []\n",
    "    # drawn_histos = histograms\n",
    "    for hidx, hist in enumerate(histograms):\n",
    "        opt = options\n",
    "        if 'TGraph' not in histo_class:\n",
    "            hist.SetStats(do_stats)\n",
    "        else:\n",
    "            opt = 'P'+options\n",
    "        if overlay:\n",
    "            hist.SetLineColor(colors[hidx])\n",
    "            if 'TGraph' in histo_class:\n",
    "                hist.SetMarkerColor(colors[hidx])\n",
    "            if hidx:\n",
    "                opt = 'same,'+opt\n",
    "            else:\n",
    "                if 'TGraph' in histo_class:\n",
    "                    opt = opt+'A'\n",
    "        else:\n",
    "            canvas.cd(hidx+1)\n",
    "        # print hidx, opt\n",
    "        d_hist = hist\n",
    "        if norm:\n",
    "            d_hist = hist.DrawNormalized(opt, 1.)\n",
    "        else:\n",
    "            hist.Draw(opt)\n",
    "\n",
    "        if do_profile:\n",
    "            profname = d_hist.GetName()+'_prof_'+str(p_idx)\n",
    "            p_idx += 1\n",
    "            firstbin = 1\n",
    "            lastbin = -1\n",
    "            prof = d_hist.ProfileX(profname, firstbin, lastbin, 's')\n",
    "            prof.SetMarkerColor(2)\n",
    "            prof.SetLineColor(2)\n",
    "            prof.Draw('same')\n",
    "\n",
    "        if overlay:\n",
    "            if 'TGraph' not in histo_class:\n",
    "                leg.AddEntry(hist, labels[hidx], 'l')\n",
    "            else:\n",
    "                leg.AddEntry(hist, labels[hidx], 'P')\n",
    "        else:\n",
    "            if text:\n",
    "                newtext = '{}: {}'.format(labels[hidx], text)\n",
    "                rtext = getText(newtext, 0.15, 0.85)\n",
    "                rtext.Draw('same')\n",
    "        drawn_histos.append(d_hist)\n",
    "\n",
    "    if do_ratio:\n",
    "        h_ratio = ROOT.TRatioPlot(drawn_histos[0], drawn_histos[1])\n",
    "        stuff.append(h_ratio)\n",
    "        h_ratio.Draw()\n",
    "\n",
    "        pad = canvas.cd(1)\n",
    "        h_ratio.GetUpperPad().SetBottomMargin(0)\n",
    "        h_ratio.GetUpperPad().SetRightMargin(0.3)\n",
    "        if logy:\n",
    "            h_ratio.GetUpperPad().SetLogy()\n",
    "        pad.Update()\n",
    "        pad = canvas.cd(2)\n",
    "        h_ratio.GetLowerPad().SetTopMargin(0)\n",
    "        h_ratio.GetLowerPad().SetRightMargin(0.3)\n",
    "        pad.Update()\n",
    "        # hratio.GetLowerRefGraph().GetYaxis().SetRangeUser(-6, 6)\n",
    "\n",
    "    canvas.Update()\n",
    "\n",
    "    # we now set the axis properties\n",
    "    max_value = max_y\n",
    "    min_value = min_y\n",
    "\n",
    "    if min_y is None:\n",
    "        min_value = min([hist.GetBinContent(hist.GetMinimumBin()) for hist in drawn_histos])\n",
    "    if max_y is None:\n",
    "        max_value = max([hist.GetBinContent(hist.GetMaximumBin()) for hist in drawn_histos])*1.2\n",
    "    # print min_value, max_value\n",
    "\n",
    "    for hist in drawn_histos:\n",
    "        hist.GetYaxis().SetRangeUser(min_value, max_value)\n",
    "        if y_axis_label:\n",
    "            hist.GetYaxis().SetTitle(y_axis_label)\n",
    "        if x_axis_label:\n",
    "            hist.GetXaxis().SetTitle(x_axis_label)\n",
    "\n",
    "    canvas.Draw()\n",
    "\n",
    "    # we draw additional stuff if needed\n",
    "    if overlay:\n",
    "        canvas.cd()\n",
    "        leg.Draw()\n",
    "        if text:\n",
    "            rtext = getText(text, 0.15, 0.85)\n",
    "            rtext.Draw(\"same\")\n",
    "\n",
    "    pad_range = range(0, 1)\n",
    "    if not overlay:\n",
    "        pad_range = range(1, len(histograms)+1)\n",
    "\n",
    "    for pad_id in pad_range:\n",
    "        canvas.cd(pad_id)\n",
    "        if v_lines:\n",
    "            for v_line_x in v_lines:\n",
    "                aline = ROOT.TLine(v_line_x, ROOT.gPad.GetUymin(), v_line_x,  ROOT.gPad.GetUymax())\n",
    "                aline.SetLineStyle(2)\n",
    "                aline.Draw(\"same\")\n",
    "                stuff.append(aline)\n",
    "        if h_lines:\n",
    "            for h_line_y in h_lines:\n",
    "                aline = ROOT.TLine(ROOT.gPad.GetUxmin(), h_line_y, ROOT.gPad.GetUxmax(),  h_line_y)\n",
    "                aline.SetLineStyle(2)\n",
    "                aline.Draw(\"same\")\n",
    "                stuff.append(aline)\n",
    "        if logy:\n",
    "            if not do_ratio:\n",
    "                ROOT.gPad.SetLogy()\n",
    "\n",
    "        ROOT.gPad.Update()\n",
    "    canvas.Update()\n",
    "    canvas.Draw()\n",
    "\n",
    "    return canvas\n"
   ]
  },
  {
   "cell_type": "code",
   "execution_count": 11,
   "metadata": {},
   "outputs": [
    {
     "name": "stderr",
     "output_type": "stream",
     "text": [
      "Error in <TFile::TFile>: file ../plots1/histos_pion_flat2to100_PU0_v66.root does not exist\n",
      "Error in <TFile::TFile>: file ../plots1/histos_nugun_alleta_pu0_v66.root does not exist\n"
     ]
    }
   ],
   "source": [
    "# %load samples.py\n",
    "import ROOT\n",
    "import pandas as pd\n",
    "import python.selections as selections\n",
    "\n",
    "version = 'v66'\n",
    "\n",
    "files = {}\n",
    "file_keys = {}\n",
    "\n",
    "\n",
    "class RootFile:\n",
    "    def __init__(self, file_name):\n",
    "        global file\n",
    "        self.file_name = file_name\n",
    "        if self.file_name not in files.keys():\n",
    "            print 'get file: {}'.format(self.file_name)\n",
    "            files[self.file_name] = ROOT.TFile(self.file_name)\n",
    "        self._file = files[self.file_name]\n",
    "        self._file_keys = None\n",
    "\n",
    "    def cd(self):\n",
    "        self._file.cd()\n",
    "\n",
    "    def GetListOfKeys(self):\n",
    "        global file_keys\n",
    "        if self.file_name not in file_keys.keys():\n",
    "            print 'get list'\n",
    "            file_keys[self.file_name] = self._file.GetListOfKeys()\n",
    "        self._file_keys = file_keys[self.file_name]\n",
    "        return self._file_keys\n",
    "\n",
    "\n",
    "class Sample():\n",
    "    def __init__(self, name, label, version=None, type=None):\n",
    "        self.name = name\n",
    "        self.label = label\n",
    "        if version:\n",
    "            version = '_'+version\n",
    "        else:\n",
    "            version = ''\n",
    "        self.histo_filename = '../plots1/histos_{}{}.root'.format(self.name, version)\n",
    "        self.histo_file = ROOT.TFile(self.histo_filename, 'r')\n",
    "        self.type = type\n",
    "\n",
    "\n",
    "# sample_names = ['ele_flat2to100_PU0',\n",
    "#                 'ele_flat2to100_PU200',\n",
    "#                 'photonPt35_PU0',\n",
    "#                 'photonPt35_PU200']\n",
    "\n",
    "\n",
    "def get_label_dict(selections):\n",
    "    dictionary = {}\n",
    "    for sel in selections:\n",
    "        dictionary[sel.name] = sel.label\n",
    "    return dictionary\n",
    "\n",
    "\n",
    "class HProxy:\n",
    "    def __init__(self, classtype, tp, tp_sel, gen_sel, root_file):\n",
    "        self.classtype = classtype\n",
    "        self.tp = tp\n",
    "        self.tp_sel = tp_sel\n",
    "        self.gen_sel = gen_sel\n",
    "        self.root_file = root_file\n",
    "        self.instance = None\n",
    "\n",
    "    def get(self):\n",
    "        if self.instance is None:\n",
    "            name = '{}_{}_{}'.format(self.tp, self.tp_sel, self.gen_sel)\n",
    "            if self.gen_sel is None:\n",
    "                name = '{}_{}'.format(self.tp, self.tp_sel)\n",
    "            self.instance = self.classtype(name, self.root_file)\n",
    "        return self.instance\n",
    "\n",
    "\n",
    "class HPlot:\n",
    "    def __init__(self, samples, tp_sets, tp_selections, gen_selections):\n",
    "        self.tp_sets = tp_sets\n",
    "        self.tp_selections = tp_selections\n",
    "        self.gen_selections = gen_selections\n",
    "        self.pus = []\n",
    "        self.labels_dict = {}\n",
    "\n",
    "        for sample in samples:\n",
    "            self.pus.append(sample.label)\n",
    "            self.labels_dict[sample.type] = sample.type\n",
    "\n",
    "        self.data = pd.DataFrame(columns=['sample', 'pu', 'tp', 'tp_sel', 'gen_sel', 'classtype', 'histo'])\n",
    "\n",
    "        self.labels_dict.update(tp_sets)\n",
    "        self.labels_dict.update(tp_selections)\n",
    "        self.labels_dict.update(gen_selections)\n",
    "        self.labels_dict.update({'PU0': 'PU0', 'PU200': 'PU200'})\n",
    "\n",
    "    def cache_histo(self,\n",
    "                    classtype,\n",
    "                    samples,\n",
    "                    pus,\n",
    "                    tps,\n",
    "                    tp_sels,\n",
    "                    gen_sels):\n",
    "        if gen_sels is None:\n",
    "            gen_sels = [None]\n",
    "\n",
    "        for sample in samples:\n",
    "            print sample\n",
    "            for tp in tps:\n",
    "                for tp_sel in tp_sels:\n",
    "                    for gen_sel in gen_sels:\n",
    "                        print sample, tp, tp_sel, gen_sel\n",
    "                        self.data = self.data.append({'sample': sample.type,\n",
    "                                                      'pu': sample.label,\n",
    "                                                      'tp': tp,\n",
    "                                                      'tp_sel': tp_sel,\n",
    "                                                      'gen_sel': gen_sel,\n",
    "                                                      'classtype': classtype,\n",
    "                                                      'histo': HProxy(classtype, tp, tp_sel, gen_sel, sample.histo_file)},\n",
    "                                                     ignore_index=True)\n",
    "\n",
    "    def get_histo(self,\n",
    "                  classtype,\n",
    "                  sample=None,\n",
    "                  pu=None,\n",
    "                  tp=None,\n",
    "                  tp_sel=None,\n",
    "                  gen_sel=None,\n",
    "                  debug=False):\n",
    "        histo = None\n",
    "        labels = []\n",
    "        text = ''\n",
    "\n",
    "        query = '(pu == @pu) & (tp == @tp) & (tp_sel == @tp_sel) & (classtype == @classtype)'\n",
    "        if gen_sel is not None:\n",
    "            query += ' & (gen_sel == @gen_sel)'\n",
    "        else:\n",
    "            query += ' & (gen_sel.isnull())'\n",
    "        if sample is not None:\n",
    "            query += '& (sample == @sample)'\n",
    "\n",
    "        histo_df = self.data.query(query)\n",
    "\n",
    "        if histo_df.empty:\n",
    "            print 'No match found for: pu: {}, tp: {}, tp_sel: {}, gen_sel: {}, classtype: {}'.format(pu, tp, tp_sel, gen_sel, classtype)\n",
    "            return None, None, None\n",
    "        if debug:\n",
    "            print histo_df\n",
    "\n",
    "        field_counts = histo_df.apply(lambda x: len(x.unique()))\n",
    "        label_fields = []\n",
    "        text_fields = []\n",
    "        # print field_counts\n",
    "        for field in field_counts.iteritems():\n",
    "            if(field[1] > 1 and field[0] != 'histo'):\n",
    "                label_fields.append(field[0])\n",
    "            if(field[1] == 1 and field[0] != 'histo' and field[0] != 'classtype' and field[0] != 'sample'):\n",
    "                if(gen_sel is None and field[0] == 'gen_sel'):\n",
    "                    continue\n",
    "                text_fields.append(field[0])\n",
    "#         print 'label fields: {}'.format(label_fields)\n",
    "#         print 'text fields: {}'.format(text_fields)\n",
    "\n",
    "        for item in histo_df[label_fields].iterrows():\n",
    "            labels.append(', '.join([self.labels_dict[tx] for tx in item[1].values if self.labels_dict[tx] != '']))\n",
    "\n",
    "        # print labels\n",
    "        text = ', '.join([self.labels_dict[fl] for fl in histo_df[text_fields].iloc[0].values if self.labels_dict[fl] != ''])\n",
    "        histo = [his.get() for his in histo_df['histo'].values]\n",
    "        return histo, labels, text\n",
    "\n",
    "\n",
    "# -------------------------------------------------------------------------\n",
    "\n",
    "samples_ele = [\n",
    "    Sample('ele_flat2to100_PU0', 'PU0', version, 'V8'),\n",
    "    Sample('ele_flat2to100_PU200', 'PU200', version+'t', 'V8')\n",
    "    ]\n",
    "\n",
    "\n",
    "samples_ele_v9 = [\n",
    "    Sample('all_flat5to80_PU0', 'PU0', 'v67t', 'V9'),\n",
    "    Sample('all_flat5to80_PU200', 'PU200', 'v67t', 'V9')\n",
    "    ]\n",
    "\n",
    "samples_photons = [\n",
    "    Sample('photon_flat8to150_PU0', 'PU0', version, 'photon'),\n",
    "    Sample('photon_flat8to150_PU200', 'PU200', version, 'photon')\n",
    "    ]\n",
    "\n",
    "samples_pions = [\n",
    "    Sample('pion_flat2to100_PU0', 'PU0', version, 'pions'),\n",
    "    ]\n",
    "\n",
    "samples_nugus = [\n",
    "    Sample('nugun_alleta_pu0', 'PU0', version, 'mb'),\n",
    "    Sample('nugun_alleta_pu200', 'PU200', version, 'mb')\n",
    "    ]\n",
    "\n",
    "samples_nugunrates = [\n",
    "    Sample('nugun_alleta_pu200', 'PU200', version, 'mb')\n",
    "    ]\n",
    "\n",
    "tpsets = {'DEF': 'NNDR',\n",
    "#           'DEFCalib': 'NNDR Calib v1'\n",
    "         }\n",
    "\n",
    "tpset_selections = {}\n",
    "gen_selections = {}\n",
    "samples = []\n",
    "\n",
    "# tpset_selections.update(get_label_dict(tp_rate_selections))\n",
    "tpset_selections.update(get_label_dict(selections.tp_match_selections))\n",
    "gen_selections.update(get_label_dict(selections.gen_part_selections))\n",
    "gen_selections.update({'nomatch': ''})\n"
   ]
  },
  {
   "cell_type": "code",
   "execution_count": 14,
   "metadata": {},
   "outputs": [],
   "source": [
    "gen_selections = {'nomatch': ''}\n",
    "tpset_selections = {'all': '',\n",
    "                    'Em': 'EGId'}\n",
    "samples = samples_ele\n",
    "samples += samples_ele_v9\n",
    "# samples += samples_pions"
   ]
  },
  {
   "cell_type": "code",
   "execution_count": 15,
   "metadata": {},
   "outputs": [
    {
     "data": {
      "text/plain": [
       "{'DEF': 'NNDR'}"
      ]
     },
     "execution_count": 15,
     "metadata": {},
     "output_type": "execute_result"
    }
   ],
   "source": [
    "tpsets"
   ]
  },
  {
   "cell_type": "code",
   "execution_count": 9,
   "metadata": {},
   "outputs": [
    {
     "data": {
      "text/plain": [
       "{'Em': 'EGId', 'all': ''}"
      ]
     },
     "execution_count": 9,
     "metadata": {},
     "output_type": "execute_result"
    }
   ],
   "source": [
    "tpset_selections"
   ]
  },
  {
   "cell_type": "code",
   "execution_count": 10,
   "metadata": {},
   "outputs": [
    {
     "data": {
      "text/plain": [
       "{'nomatch': ''}"
      ]
     },
     "execution_count": 10,
     "metadata": {},
     "output_type": "execute_result"
    }
   ],
   "source": [
    "gen_selections"
   ]
  },
  {
   "cell_type": "code",
   "execution_count": 16,
   "metadata": {},
   "outputs": [
    {
     "name": "stdout",
     "output_type": "stream",
     "text": [
      "<__main__.Sample instance at 0x11e6c6c20>\n",
      "<__main__.Sample instance at 0x11e6c6c20> DEF Em nomatch\n",
      "<__main__.Sample instance at 0x11e6c6c20> DEF all nomatch\n",
      "<__main__.Sample instance at 0x11e6c6b48>\n",
      "<__main__.Sample instance at 0x11e6c6b48> DEF Em nomatch\n",
      "<__main__.Sample instance at 0x11e6c6b48> DEF all nomatch\n",
      "<__main__.Sample instance at 0x11e6c6bd8>\n",
      "<__main__.Sample instance at 0x11e6c6bd8> DEF Em nomatch\n",
      "<__main__.Sample instance at 0x11e6c6bd8> DEF all nomatch\n",
      "<__main__.Sample instance at 0x11e6c6cb0>\n",
      "<__main__.Sample instance at 0x11e6c6cb0> DEF Em nomatch\n",
      "<__main__.Sample instance at 0x11e6c6cb0> DEF all nomatch\n",
      "CPU times: user 56.9 ms, sys: 9.37 ms, total: 66.3 ms\n",
      "Wall time: 63.3 ms\n"
     ]
    }
   ],
   "source": [
    "%%time\n",
    "\n",
    "hplot = HPlot(samples, tpsets, tpset_selections, gen_selections)\n",
    "\n",
    "\n",
    "# hplot.cache_histo(classtype=histos.TriggerTowerHistos, \n",
    "#                   samples=samples,\n",
    "#                   pus=[],\n",
    "#                   tps=tpsets,\n",
    "#                   tp_sels=tpset_selections,\n",
    "#                   gen_sels=['nomatch'])\n",
    "\n",
    "\n",
    "hplot.cache_histo(classtype=histos.HistoSetClusters, \n",
    "                  samples=samples,\n",
    "                  pus=[],\n",
    "                  tps=tpsets,\n",
    "                  tp_sels=tpset_selections,\n",
    "                  gen_sels=gen_selections)\n"
   ]
  },
  {
   "cell_type": "code",
   "execution_count": 17,
   "metadata": {},
   "outputs": [
    {
     "data": {
      "text/html": [
       "<div>\n",
       "<style scoped>\n",
       "    .dataframe tbody tr th:only-of-type {\n",
       "        vertical-align: middle;\n",
       "    }\n",
       "\n",
       "    .dataframe tbody tr th {\n",
       "        vertical-align: top;\n",
       "    }\n",
       "\n",
       "    .dataframe thead th {\n",
       "        text-align: right;\n",
       "    }\n",
       "</style>\n",
       "<table border=\"1\" class=\"dataframe\">\n",
       "  <thead>\n",
       "    <tr style=\"text-align: right;\">\n",
       "      <th></th>\n",
       "      <th>sample</th>\n",
       "      <th>pu</th>\n",
       "      <th>tp</th>\n",
       "      <th>tp_sel</th>\n",
       "      <th>gen_sel</th>\n",
       "      <th>classtype</th>\n",
       "      <th>histo</th>\n",
       "    </tr>\n",
       "  </thead>\n",
       "  <tbody>\n",
       "    <tr>\n",
       "      <th>0</th>\n",
       "      <td>V8</td>\n",
       "      <td>PU0</td>\n",
       "      <td>DEF</td>\n",
       "      <td>Em</td>\n",
       "      <td>nomatch</td>\n",
       "      <td>python.l1THistos.HistoSetClusters</td>\n",
       "      <td>&lt;__main__.HProxy instance at 0x11e64ccf8&gt;</td>\n",
       "    </tr>\n",
       "    <tr>\n",
       "      <th>1</th>\n",
       "      <td>V8</td>\n",
       "      <td>PU0</td>\n",
       "      <td>DEF</td>\n",
       "      <td>all</td>\n",
       "      <td>nomatch</td>\n",
       "      <td>python.l1THistos.HistoSetClusters</td>\n",
       "      <td>&lt;__main__.HProxy instance at 0x10d4b1c20&gt;</td>\n",
       "    </tr>\n",
       "    <tr>\n",
       "      <th>2</th>\n",
       "      <td>V8</td>\n",
       "      <td>PU200</td>\n",
       "      <td>DEF</td>\n",
       "      <td>Em</td>\n",
       "      <td>nomatch</td>\n",
       "      <td>python.l1THistos.HistoSetClusters</td>\n",
       "      <td>&lt;__main__.HProxy instance at 0x11e64c488&gt;</td>\n",
       "    </tr>\n",
       "    <tr>\n",
       "      <th>3</th>\n",
       "      <td>V8</td>\n",
       "      <td>PU200</td>\n",
       "      <td>DEF</td>\n",
       "      <td>all</td>\n",
       "      <td>nomatch</td>\n",
       "      <td>python.l1THistos.HistoSetClusters</td>\n",
       "      <td>&lt;__main__.HProxy instance at 0x11e68b9e0&gt;</td>\n",
       "    </tr>\n",
       "    <tr>\n",
       "      <th>4</th>\n",
       "      <td>V9</td>\n",
       "      <td>PU0</td>\n",
       "      <td>DEF</td>\n",
       "      <td>Em</td>\n",
       "      <td>nomatch</td>\n",
       "      <td>python.l1THistos.HistoSetClusters</td>\n",
       "      <td>&lt;__main__.HProxy instance at 0x11e69d830&gt;</td>\n",
       "    </tr>\n",
       "    <tr>\n",
       "      <th>5</th>\n",
       "      <td>V9</td>\n",
       "      <td>PU0</td>\n",
       "      <td>DEF</td>\n",
       "      <td>all</td>\n",
       "      <td>nomatch</td>\n",
       "      <td>python.l1THistos.HistoSetClusters</td>\n",
       "      <td>&lt;__main__.HProxy instance at 0x11e694d40&gt;</td>\n",
       "    </tr>\n",
       "    <tr>\n",
       "      <th>6</th>\n",
       "      <td>V9</td>\n",
       "      <td>PU200</td>\n",
       "      <td>DEF</td>\n",
       "      <td>Em</td>\n",
       "      <td>nomatch</td>\n",
       "      <td>python.l1THistos.HistoSetClusters</td>\n",
       "      <td>&lt;__main__.HProxy instance at 0x11e694fc8&gt;</td>\n",
       "    </tr>\n",
       "    <tr>\n",
       "      <th>7</th>\n",
       "      <td>V9</td>\n",
       "      <td>PU200</td>\n",
       "      <td>DEF</td>\n",
       "      <td>all</td>\n",
       "      <td>nomatch</td>\n",
       "      <td>python.l1THistos.HistoSetClusters</td>\n",
       "      <td>&lt;__main__.HProxy instance at 0x11e69dcb0&gt;</td>\n",
       "    </tr>\n",
       "  </tbody>\n",
       "</table>\n",
       "</div>"
      ],
      "text/plain": [
       "  sample     pu   tp tp_sel  gen_sel                          classtype  \\\n",
       "0     V8    PU0  DEF     Em  nomatch  python.l1THistos.HistoSetClusters   \n",
       "1     V8    PU0  DEF    all  nomatch  python.l1THistos.HistoSetClusters   \n",
       "2     V8  PU200  DEF     Em  nomatch  python.l1THistos.HistoSetClusters   \n",
       "3     V8  PU200  DEF    all  nomatch  python.l1THistos.HistoSetClusters   \n",
       "4     V9    PU0  DEF     Em  nomatch  python.l1THistos.HistoSetClusters   \n",
       "5     V9    PU0  DEF    all  nomatch  python.l1THistos.HistoSetClusters   \n",
       "6     V9  PU200  DEF     Em  nomatch  python.l1THistos.HistoSetClusters   \n",
       "7     V9  PU200  DEF    all  nomatch  python.l1THistos.HistoSetClusters   \n",
       "\n",
       "                                       histo  \n",
       "0  <__main__.HProxy instance at 0x11e64ccf8>  \n",
       "1  <__main__.HProxy instance at 0x10d4b1c20>  \n",
       "2  <__main__.HProxy instance at 0x11e64c488>  \n",
       "3  <__main__.HProxy instance at 0x11e68b9e0>  \n",
       "4  <__main__.HProxy instance at 0x11e69d830>  \n",
       "5  <__main__.HProxy instance at 0x11e694d40>  \n",
       "6  <__main__.HProxy instance at 0x11e694fc8>  \n",
       "7  <__main__.HProxy instance at 0x11e69dcb0>  "
      ]
     },
     "execution_count": 17,
     "metadata": {},
     "output_type": "execute_result"
    }
   ],
   "source": [
    "hplot.data"
   ]
  },
  {
   "cell_type": "markdown",
   "metadata": {},
   "source": [
    "## Electron flat pT gun 2 < pt < 100 GeV"
   ]
  },
  {
   "cell_type": "code",
   "execution_count": 22,
   "metadata": {},
   "outputs": [],
   "source": [
    "sample_type = ['V8', 'V9']\n",
    "pus =  ['PU0']\n",
    "tps = ['DEF']\n",
    "tp_select = ['all', 'Em']"
   ]
  },
  {
   "cell_type": "markdown",
   "metadata": {},
   "source": [
    "### 3D clusters not matched to GEN"
   ]
  },
  {
   "cell_type": "code",
   "execution_count": 23,
   "metadata": {},
   "outputs": [
    {
     "name": "stderr",
     "output_type": "stream",
     "text": [
      "Error in <THistPainter::PaintInit>: Cannot set Y axis to log scale\n",
      "Error in <THistPainter::PaintInit>: Cannot set Y axis to log scale\n",
      "Error in <THistPainter::PaintInit>: Cannot set Y axis to log scale\n",
      "Error in <THistPainter::PaintInit>: Cannot set Y axis to log scale\n",
      "Error in <THistPainter::PaintInit>: Cannot set Y axis to log scale\n",
      "Error in <THistPainter::PaintInit>: Cannot set Y axis to log scale\n",
      "Error in <THistPainter::PaintInit>: Cannot set Y axis to log scale\n",
      "Error in <THistPainter::PaintInit>: Cannot set Y axis to log scale\n"
     ]
    },
    {
     "data": {
      "text/html": [
       "\n",
       "<div id=\"root_plot_5\"\n",
       "     style=\"width: 796px; height: 572px\">\n",
       "</div>\n",
       "\n",
       "<script>\n",
       " requirejs.config({\n",
       "     paths: {\n",
       "       'JSRootCore' : 'https://root.cern.ch/js/notebook//scripts/JSRootCore',\n",
       "     }\n",
       "   });\n",
       " require(['JSRootCore'],\n",
       "     function(Core) {\n",
       "       var obj = Core.JSONR_unref({\"_typename\":\"TCanvas\",\"fUniqueID\":0,\"fBits\":53673992,\"fLineColor\":1,\"fLineStyle\":1,\"fLineWidth\":1,\"fFillColor\":0,\"fFillStyle\":1001,\"fLeftMargin\":0.13,\"fRightMargin\":0.3,\"fBottomMargin\":0.13,\"fTopMargin\":0.1,\"fXfile\":2,\"fYfile\":2,\"fAfile\":1,\"fXstat\":0.99,\"fYstat\":0.99,\"fAstat\":2,\"fFrameFillColor\":0,\"fFrameLineColor\":1,\"fFrameFillStyle\":1001,\"fFrameLineStyle\":1,\"fFrameLineWidth\":1,\"fFrameBorderSize\":1,\"fFrameBorderMode\":0,\"fX1\":-22.8070169934936,\"fY1\":-0.063380597802659,\"fX2\":152.631581699199,\"fY2\":0.424162469203331,\"fXtoAbsPixelk\":103.480046204376,\"fXtoPixelk\":103.480046204376,\"fXtoPixel\":4.53719994306564,\"fYtoAbsPixelk\":497.640051065433,\"fYtoPixelk\":497.640051065433,\"fYtoPixel\":-1173.22968720007,\"fUtoAbsPixelk\":5e-5,\"fUtoPixelk\":5e-5,\"fUtoPixel\":796,\"fVtoAbsPixelk\":572.00005,\"fVtoPixelk\":572,\"fVtoPixel\":-572,\"fAbsPixeltoXk\":-22.8070169934936,\"fPixeltoXk\":-22.8070169934936,\"fPixeltoX\":0.220400249613935,\"fAbsPixeltoYk\":0.424162469203332,\"fPixeltoYk\":-0.063380597802659,\"fPixeltoY\":-8.52348019241242e-4,\"fXlowNDC\":0,\"fYlowNDC\":0,\"fXUpNDC\":0,\"fYUpNDC\":0,\"fWNDC\":1,\"fHNDC\":1,\"fAbsXlowNDC\":0,\"fAbsYlowNDC\":0,\"fAbsWNDC\":1,\"fAbsHNDC\":1,\"fUxmin\":0,\"fUymin\":0,\"fUxmax\":100,\"fUymax\":0.375408160686493,\"fTheta\":30,\"fPhi\":30,\"fAspectRatio\":0,\"fNumber\":0,\"fTickx\":0,\"fTicky\":0,\"fLogx\":0,\"fLogy\":1,\"fLogz\":0,\"fPadPaint\":0,\"fCrosshair\":0,\"fCrosshairPos\":0,\"fBorderSize\":2,\"fBorderMode\":0,\"fModified\":false,\"fGridx\":false,\"fGridy\":false,\"fAbsCoord\":false,\"fEditable\":true,\"fFixedAspectRatio\":false,\"fPrimitives\":{\"_typename\":\"TList\",\"name\":\"TList\",\"arr\":[{\"_typename\":\"TFrame\",\"fUniqueID\":0,\"fBits\":50331656,\"fLineColor\":1,\"fLineStyle\":1,\"fLineWidth\":1,\"fFillColor\":0,\"fFillStyle\":1001,\"fX1\":0,\"fY1\":0,\"fX2\":100,\"fY2\":0.375408160686493,\"fBorderSize\":1,\"fBorderMode\":0},{\"_typename\":\"TH1F\",\"fUniqueID\":0,\"fBits\":50332169,\"fName\":\"h_cl3d_DEF_all_nomatch_pt\",\"fTitle\":\"3D Cluster Pt (GeV)\",\"fLineColor\":1,\"fLineStyle\":1,\"fLineWidth\":1,\"fFillColor\":0,\"fFillStyle\":1001,\"fMarkerColor\":1,\"fMarkerStyle\":1,\"fMarkerSize\":1,\"fNcells\":102,\"fXaxis\":{\"_typename\":\"TAxis\",\"fUniqueID\":0,\"fBits\":50331648,\"fName\":\"xaxis\",\"fTitle\":\" p_{T} [GeV]\",\"fNdivisions\":510,\"fAxisColor\":1,\"fLabelColor\":1,\"fLabelFont\":42,\"fLabelOffset\":0.005,\"fLabelSize\":0.035,\"fTickLength\":0.03,\"fTitleOffset\":1,\"fTitleSize\":0.035,\"fTitleColor\":1,\"fTitleFont\":42,\"fNbins\":100,\"fXmin\":0,\"fXmax\":100,\"fXbins\":[],\"fFirst\":0,\"fLast\":0,\"fBits2\":0,\"fTimeDisplay\":false,\"fTimeFormat\":\"\",\"fLabels\":null,\"fModLabs\":null},\"fYaxis\":{\"_typename\":\"TAxis\",\"fUniqueID\":0,\"fBits\":50331656,\"fName\":\"yaxis\",\"fTitle\":\"\",\"fNdivisions\":510,\"fAxisColor\":1,\"fLabelColor\":1,\"fLabelFont\":42,\"fLabelOffset\":0.005,\"fLabelSize\":0.035,\"fTickLength\":0.03,\"fTitleOffset\":0,\"fTitleSize\":0.035,\"fTitleColor\":1,\"fTitleFont\":42,\"fNbins\":1,\"fXmin\":0,\"fXmax\":1,\"fXbins\":[],\"fFirst\":0,\"fLast\":0,\"fBits2\":0,\"fTimeDisplay\":false,\"fTimeFormat\":\"\",\"fLabels\":null,\"fModLabs\":null},\"fZaxis\":{\"_typename\":\"TAxis\",\"fUniqueID\":0,\"fBits\":50331648,\"fName\":\"zaxis\",\"fTitle\":\"\",\"fNdivisions\":510,\"fAxisColor\":1,\"fLabelColor\":1,\"fLabelFont\":42,\"fLabelOffset\":0.005,\"fLabelSize\":0.035,\"fTickLength\":0.03,\"fTitleOffset\":1,\"fTitleSize\":0.035,\"fTitleColor\":1,\"fTitleFont\":42,\"fNbins\":1,\"fXmin\":0,\"fXmax\":1,\"fXbins\":[],\"fFirst\":0,\"fLast\":0,\"fBits2\":0,\"fTimeDisplay\":false,\"fTimeFormat\":\"\",\"fLabels\":null,\"fModLabs\":null},\"fBarOffset\":0,\"fBarWidth\":1000,\"fEntries\":389134,\"fTsumw\":387505,\"fTsumw2\":387505,\"fTsumwx\":11648972.972404,\"fTsumwx2\":731281648.802017,\"fMaximum\":0.375408160686493,\"fMinimum\":0,\"fNormFactor\":0,\"fContour\":[],\"fSumw2\":[0,4.1540322365618e-7,2.890780757726e-7,1.3440319123762e-7,8.18326436392763e-8,5.84043200452843e-8,4.57245223980527e-8,3.64943755813179e-8,3.20457911126463e-8,2.82698219603457e-8,2.57991260952601e-8,2.38745139523768e-8,2.19698804822569e-8,2.23960921678781e-8,2.09176703833795e-8,1.95191632899348e-8,1.92394618712459e-8,1.89331222222056e-8,1.83670598272399e-8,1.79608268143822e-8,1.73481475163017e-8,1.71150630007275e-8,1.66888513151063e-8,1.67687660061603e-8,1.6742127775809e-8,1.68287020244508e-8,1.6702170430282e-8,1.67687660061603e-8,1.6582298393701e-8,1.646242635712e-8,1.65490006057618e-8,1.65356814905862e-8,1.59296617500935e-8,1.64890645874714e-8,1.62093631687824e-8,1.63558734357147e-8,1.63358947629512e-8,1.56299816586411e-8,1.63691925508904e-8,1.64557667995322e-8,1.57032367921072e-8,1.60961506897893e-8,1.59296617500935e-8,1.59163426349178e-8,1.5989597768384e-8,1.535693979754e-8,1.59629595380327e-8,1.64291285691809e-8,1.62559800718973e-8,1.62160227263703e-8,1.5789811040749e-8,1.56499603314046e-8,1.6069512459438e-8,1.5789811040749e-8,1.63558734357147e-8,1.6582298393701e-8,1.58763852893908e-8,1.55500669675871e-8,1.55767051979384e-8,1.61694058232554e-8,1.58164492711004e-8,1.59696190956205e-8,1.56299816586411e-8,1.55034500644723e-8,1.62160227263703e-8,1.55234287372358e-8,1.53103228944251e-8,1.57032367921072e-8,1.55767051979384e-8,1.54568331613574e-8,1.58763852893908e-8,1.61494271504919e-8,1.5789811040749e-8,1.62626396294851e-8,1.54634927189453e-8,1.57232154648707e-8,1.57098963496951e-8,1.51305148395537e-8,1.53902375854791e-8,1.57298750224585e-8,1.57431941376342e-8,1.54368544885939e-8,1.52970037792495e-8,1.56699390041681e-8,1.54235353734183e-8,1.53769184703035e-8,1.49040898815674e-8,1.50639192636754e-8,1.5197110415432e-8,1.56433007738167e-8,1.42181554500207e-8,1.40450069527371e-8,1.43979635048922e-8,1.43779848321287e-8,1.41515598741424e-8,1.36587526126429e-8,1.27863505686369e-8,1.17474595849352e-8,9.85614522999096e-9,7.49866184389853e-9,5.42087987649503e-9,1.08484193105779e-8],\"fOption\":\"\",\"fFunctions\":{\"_typename\":\"TList\",\"name\":\"TList\",\"arr\":[],\"opt\":[]},\"fBufferSize\":0,\"fBuffer\":[],\"fBinStatErrOpt\":0,\"fStatOverflows\":2,\"fArray\":[0,0.1609708,0.1120192,0.05208191,0.03171056,0.02263197,0.01771848,0.01414175,0.0124179,0.0109547,0.009997291,0.009251494,0.008513439,0.008678597,0.008105702,0.007563774,0.007455388,0.007336679,0.007117327,0.00695991,0.006722494,0.006632173,0.006467013,0.006497981,0.006487658,0.006521206,0.006472175,0.006497981,0.006425723,0.006379272,0.00641282,0.006407659,0.006172824,0.006389595,0.006281209,0.006337983,0.006330241,0.006056696,0.006343144,0.006376692,0.006085083,0.006237339,0.006172824,0.006167662,0.006196049,0.005950891,0.006185727,0.006366369,0.006299274,0.00628379,0.006118631,0.006064438,0.006227016,0.006118631,0.006337983,0.006425723,0.006152179,0.006025729,0.006036051,0.006265725,0.006128953,0.006188307,0.006056696,0.006007664,0.00628379,0.006015406,0.005932827,0.006085083,0.006036051,0.0059896,0.006152179,0.006257984,0.006118631,0.006301854,0.005992181,0.006092825,0.006087664,0.00586315,0.005963794,0.006095405,0.006100567,0.005981858,0.005927666,0.00607218,0.005976697,0.005958633,0.005775409,0.005837344,0.005888956,0.006061857,0.005509606,0.00544251,0.005579283,0.005571541,0.0054838,0.005292835,0.004954775,0.0045522,0.003819305,0.002905769,0.002100618,0.004203817]},{\"_typename\":\"TH1F\",\"fUniqueID\":0,\"fBits\":50332169,\"fName\":\"h_cl3d_DEF_all_nomatch_pt\",\"fTitle\":\"3D Cluster Pt (GeV)\",\"fLineColor\":2,\"fLineStyle\":1,\"fLineWidth\":1,\"fFillColor\":0,\"fFillStyle\":1001,\"fMarkerColor\":1,\"fMarkerStyle\":1,\"fMarkerSize\":1,\"fNcells\":102,\"fXaxis\":{\"_typename\":\"TAxis\",\"fUniqueID\":0,\"fBits\":50331648,\"fName\":\"xaxis\",\"fTitle\":\" p_{T} [GeV]\",\"fNdivisions\":510,\"fAxisColor\":1,\"fLabelColor\":1,\"fLabelFont\":42,\"fLabelOffset\":0.005,\"fLabelSize\":0.035,\"fTickLength\":0.03,\"fTitleOffset\":1,\"fTitleSize\":0.035,\"fTitleColor\":1,\"fTitleFont\":42,\"fNbins\":100,\"fXmin\":0,\"fXmax\":100,\"fXbins\":[],\"fFirst\":0,\"fLast\":0,\"fBits2\":0,\"fTimeDisplay\":false,\"fTimeFormat\":\"\",\"fLabels\":null,\"fModLabs\":null},\"fYaxis\":{\"_typename\":\"TAxis\",\"fUniqueID\":0,\"fBits\":50331656,\"fName\":\"yaxis\",\"fTitle\":\"\",\"fNdivisions\":510,\"fAxisColor\":1,\"fLabelColor\":1,\"fLabelFont\":42,\"fLabelOffset\":0.005,\"fLabelSize\":0.035,\"fTickLength\":0.03,\"fTitleOffset\":0,\"fTitleSize\":0.035,\"fTitleColor\":1,\"fTitleFont\":42,\"fNbins\":1,\"fXmin\":0,\"fXmax\":1,\"fXbins\":[],\"fFirst\":0,\"fLast\":0,\"fBits2\":0,\"fTimeDisplay\":false,\"fTimeFormat\":\"\",\"fLabels\":null,\"fModLabs\":null},\"fZaxis\":{\"_typename\":\"TAxis\",\"fUniqueID\":0,\"fBits\":50331648,\"fName\":\"zaxis\",\"fTitle\":\"\",\"fNdivisions\":510,\"fAxisColor\":1,\"fLabelColor\":1,\"fLabelFont\":42,\"fLabelOffset\":0.005,\"fLabelSize\":0.035,\"fTickLength\":0.03,\"fTitleOffset\":1,\"fTitleSize\":0.035,\"fTitleColor\":1,\"fTitleFont\":42,\"fNbins\":1,\"fXmin\":0,\"fXmax\":1,\"fXbins\":[],\"fFirst\":0,\"fLast\":0,\"fBits2\":0,\"fTimeDisplay\":false,\"fTimeFormat\":\"\",\"fLabels\":null,\"fModLabs\":null},\"fBarOffset\":0,\"fBarWidth\":1000,\"fEntries\":923192,\"fTsumw\":923152,\"fTsumw2\":923152,\"fTsumwx\":12078540.0087325,\"fTsumwx2\":502606622.681672,\"fMaximum\":0.375408160686493,\"fMinimum\":0,\"fNormFactor\":0,\"fContour\":[],\"fSumw2\":[0,3.38882588135029e-7,1.97386883483439e-7,6.65704763177034e-8,3.52401562570202e-8,2.44493838496029e-8,1.83006618601654e-8,1.49658015750545e-8,1.29240503800886e-8,1.16133399865387e-8,1.05032844518043e-8,1.00092745362408e-8,9.39088207661603e-9,8.90860636332237e-9,8.84172141038383e-9,8.47444087933537e-9,8.27495944074675e-9,8.17991240236041e-9,7.86426236129959e-9,7.90533206924431e-9,7.49346156957016e-9,7.48642104820821e-9,7.32331563665634e-9,7.21418755554609e-9,7.09449869239292e-9,7.24586990167487e-9,6.94664774379194e-9,6.9525148449269e-9,6.99710481355259e-9,6.63099770273113e-9,6.62395718136917e-9,6.63099770273113e-9,6.47375939231421e-9,6.58640773410543e-9,6.27897163463356e-9,6.28249189531454e-9,6.11938648376266e-9,5.96332159357274e-9,5.75914647407616e-9,5.74271859089827e-9,5.52328900845079e-9,5.51624848708884e-9,5.22406685056786e-9,5.10789824809566e-9,4.96591440062964e-9,4.73944429682021e-9,4.54817679982053e-9,4.53996285823159e-9,4.44726266029923e-9,4.19732415194996e-9,4.22665965762476e-9,4.12691893833045e-9,3.81713599840459e-9,3.89223489293207e-9,3.77137260955191e-9,3.66928504980361e-9,3.69392687457044e-9,3.58597221368719e-9,3.65520400707971e-9,3.40643891895743e-9,3.43108074372426e-9,3.31491214125207e-9,3.28675005580426e-9,3.26210823103743e-9,3.20695748036881e-9,3.13537884652231e-9,3.0790546756267e-9,3.10369650039353e-9,2.86549219431418e-9,2.93589740793369e-9,2.79743382114865e-9,2.7892198795597e-9,2.71529440525921e-9,2.70708046367027e-9,2.48413062054181e-9,2.29403654376913e-9,2.01710937019905e-9,1.69911248868425e-9,1.25086596197335e-9,8.21394158894317e-10,4.48246526710899e-10,2.10042220631547e-10,8.21394158894317e-11,4.45899686256915e-11,1.64278831778863e-11,1.52544629508945e-11,4.69368090796753e-12,8.21394158894317e-12,2.34684045398376e-12,3.52026068097565e-12,1.17342022699188e-12,4.69368090796753e-12,2.34684045398376e-12,1.17342022699188e-12,0,3.52026068097565e-12,3.52026068097565e-12,5.86710113495941e-12,1.17342022699188e-12,2.34684045398376e-12,0,4.69368090796753e-11],\"fOption\":\"\",\"fFunctions\":{\"_typename\":\"TList\",\"name\":\"TList\",\"arr\":[],\"opt\":[]},\"fBufferSize\":0,\"fBuffer\":[],\"fBinStatErrOpt\":0,\"fStatOverflows\":2,\"fArray\":[0,0.3128401,0.1822181,0.06145467,0.03253202,0.0225705,0.01689429,0.01381571,0.01193086,0.01072088,0.009696128,0.009240082,0.008669212,0.008223997,0.008162253,0.007823197,0.007639045,0.007551303,0.00725991,0.007297823,0.006917604,0.006911105,0.006760533,0.006659792,0.006549301,0.006689039,0.006412812,0.006418228,0.006459391,0.006121419,0.006114919,0.006121419,0.005976264,0.006080255,0.005796445,0.005799695,0.005649124,0.005505052,0.005316568,0.005301402,0.005098835,0.005092336,0.004822608,0.004715366,0.004584294,0.004375227,0.004198658,0.004191076,0.004105499,0.003874768,0.003901849,0.003809773,0.003523797,0.003593124,0.00348155,0.003387308,0.003410056,0.003310398,0.003374309,0.003144661,0.003167409,0.003060168,0.00303417,0.003011422,0.002960509,0.002894431,0.002842435,0.002865184,0.002645285,0.00271028,0.002582457,0.002574874,0.00250663,0.002499047,0.00229323,0.002117744,0.001862099,0.001568539,0.001154739,7.582717e-4,4.137997e-4,1.939009e-4,7.582716e-5,4.116332e-5,1.516543e-5,1.408219e-5,4.332981e-6,7.582717e-6,2.166491e-6,3.249736e-6,1.083245e-6,4.332981e-6,2.166491e-6,1.083245e-6,0,3.249736e-6,3.249736e-6,5.416226e-6,1.083245e-6,2.166491e-6,0,4.332981e-5]},{\"_typename\":\"TLegend\",\"fUniqueID\":0,\"fBits\":50331656,\"fLineColor\":1,\"fLineStyle\":1,\"fLineWidth\":1,\"fFillColor\":0,\"fFillStyle\":0,\"fX1\":100.000002091391,\"fY1\":0.282774979771594,\"fX2\":143.859651764564,\"fY2\":0.351031009152433,\"fX1NDC\":0.7,\"fY1NDC\":0.71,\"fX2NDC\":0.95,\"fY2NDC\":0.85,\"fBorderSize\":0,\"fInit\":1,\"fShadowColor\":1,\"fCornerRadius\":0,\"fOption\":\"brNDC\",\"fName\":\"TPave\",\"fTextAngle\":0,\"fTextSize\":0.05,\"fTextAlign\":12,\"fTextColor\":1,\"fTextFont\":42,\"fPrimitives\":{\"_typename\":\"TList\",\"name\":\"TList\",\"arr\":[{\"_typename\":\"TLegendEntry\",\"fUniqueID\":0,\"fBits\":50331656,\"fTextAngle\":0,\"fTextSize\":0,\"fTextAlign\":0,\"fTextColor\":0,\"fTextFont\":42,\"fLineColor\":1,\"fLineStyle\":1,\"fLineWidth\":1,\"fFillColor\":0,\"fFillStyle\":0,\"fMarkerColor\":1,\"fMarkerStyle\":21,\"fMarkerSize\":1,\"fObject\":{\"_typename\":\"TH1F\",\"fUniqueID\":0,\"fBits\":50332168,\"fName\":\"h_cl3d_DEF_all_nomatch_pt\",\"fTitle\":\"3D Cluster Pt (GeV)\",\"fLineColor\":1,\"fLineStyle\":1,\"fLineWidth\":1,\"fFillColor\":0,\"fFillStyle\":1001,\"fMarkerColor\":1,\"fMarkerStyle\":1,\"fMarkerSize\":1,\"fNcells\":102,\"fXaxis\":{\"_typename\":\"TAxis\",\"fUniqueID\":0,\"fBits\":50331648,\"fName\":\"xaxis\",\"fTitle\":\" p_{T} [GeV]\",\"fNdivisions\":510,\"fAxisColor\":1,\"fLabelColor\":1,\"fLabelFont\":42,\"fLabelOffset\":0.005,\"fLabelSize\":0.035,\"fTickLength\":0.03,\"fTitleOffset\":1,\"fTitleSize\":0.035,\"fTitleColor\":1,\"fTitleFont\":42,\"fNbins\":100,\"fXmin\":0,\"fXmax\":100,\"fXbins\":[],\"fFirst\":0,\"fLast\":0,\"fBits2\":0,\"fTimeDisplay\":false,\"fTimeFormat\":\"\",\"fLabels\":null,\"fModLabs\":null},\"fYaxis\":{\"_typename\":\"TAxis\",\"fUniqueID\":0,\"fBits\":50331648,\"fName\":\"yaxis\",\"fTitle\":\"\",\"fNdivisions\":510,\"fAxisColor\":1,\"fLabelColor\":1,\"fLabelFont\":42,\"fLabelOffset\":0.005,\"fLabelSize\":0.035,\"fTickLength\":0.03,\"fTitleOffset\":0,\"fTitleSize\":0.035,\"fTitleColor\":1,\"fTitleFont\":42,\"fNbins\":1,\"fXmin\":0,\"fXmax\":1,\"fXbins\":[],\"fFirst\":0,\"fLast\":0,\"fBits2\":0,\"fTimeDisplay\":false,\"fTimeFormat\":\"\",\"fLabels\":null,\"fModLabs\":null},\"fZaxis\":{\"_typename\":\"TAxis\",\"fUniqueID\":0,\"fBits\":50331648,\"fName\":\"zaxis\",\"fTitle\":\"\",\"fNdivisions\":510,\"fAxisColor\":1,\"fLabelColor\":1,\"fLabelFont\":42,\"fLabelOffset\":0.005,\"fLabelSize\":0.035,\"fTickLength\":0.03,\"fTitleOffset\":1,\"fTitleSize\":0.035,\"fTitleColor\":1,\"fTitleFont\":42,\"fNbins\":1,\"fXmin\":0,\"fXmax\":1,\"fXbins\":[],\"fFirst\":0,\"fLast\":0,\"fBits2\":0,\"fTimeDisplay\":false,\"fTimeFormat\":\"\",\"fLabels\":null,\"fModLabs\":null},\"fBarOffset\":0,\"fBarWidth\":1000,\"fEntries\":389134,\"fTsumw\":387505,\"fTsumw2\":387505,\"fTsumwx\":11648972.972404,\"fTsumwx2\":731281648.802017,\"fMaximum\":-1111,\"fMinimum\":-1111,\"fNormFactor\":0,\"fContour\":[],\"fSumw2\":[0,62377,43408,20182,12288,8770,6866,5480,4812,4245,3874,3585,3299,3363,3141,2931,2889,2843,2758,2697,2605,2570,2506,2518,2514,2527,2508,2518,2490,2472,2485,2483,2392,2476,2434,2456,2453,2347,2458,2471,2358,2417,2392,2390,2401,2306,2397,2467,2441,2435,2371,2350,2413,2371,2456,2490,2384,2335,2339,2428,2375,2398,2347,2328,2435,2331,2299,2358,2339,2321,2384,2425,2371,2442,2322,2361,2359,2272,2311,2362,2364,2318,2297,2353,2316,2309,2238,2262,2282,2349,2135,2109,2162,2159,2125,2051,1920,1764,1480,1126,814,1629],\"fOption\":\"\",\"fFunctions\":{\"_typename\":\"TList\",\"name\":\"TList\",\"arr\":[],\"opt\":[]},\"fBufferSize\":0,\"fBuffer\":[],\"fBinStatErrOpt\":0,\"fStatOverflows\":2,\"fArray\":[0,62377,43408,20182,12288,8770,6866,5480,4812,4245,3874,3585,3299,3363,3141,2931,2889,2843,2758,2697,2605,2570,2506,2518,2514,2527,2508,2518,2490,2472,2485,2483,2392,2476,2434,2456,2453,2347,2458,2471,2358,2417,2392,2390,2401,2306,2397,2467,2441,2435,2371,2350,2413,2371,2456,2490,2384,2335,2339,2428,2375,2398,2347,2328,2435,2331,2299,2358,2339,2321,2384,2425,2371,2442,2322,2361,2359,2272,2311,2362,2364,2318,2297,2353,2316,2309,2238,2262,2282,2349,2135,2109,2162,2159,2125,2051,1920,1764,1480,1126,814,1629]},\"fLabel\":\"V8\",\"fOption\":\"l\"},{\"_typename\":\"TLegendEntry\",\"fUniqueID\":0,\"fBits\":50331656,\"fTextAngle\":0,\"fTextSize\":0,\"fTextAlign\":0,\"fTextColor\":0,\"fTextFont\":42,\"fLineColor\":2,\"fLineStyle\":1,\"fLineWidth\":1,\"fFillColor\":0,\"fFillStyle\":0,\"fMarkerColor\":1,\"fMarkerStyle\":21,\"fMarkerSize\":1,\"fObject\":{\"_typename\":\"TH1F\",\"fUniqueID\":0,\"fBits\":50332168,\"fName\":\"h_cl3d_DEF_all_nomatch_pt\",\"fTitle\":\"3D Cluster Pt (GeV)\",\"fLineColor\":2,\"fLineStyle\":1,\"fLineWidth\":1,\"fFillColor\":0,\"fFillStyle\":1001,\"fMarkerColor\":1,\"fMarkerStyle\":1,\"fMarkerSize\":1,\"fNcells\":102,\"fXaxis\":{\"_typename\":\"TAxis\",\"fUniqueID\":0,\"fBits\":50331648,\"fName\":\"xaxis\",\"fTitle\":\" p_{T} [GeV]\",\"fNdivisions\":510,\"fAxisColor\":1,\"fLabelColor\":1,\"fLabelFont\":42,\"fLabelOffset\":0.005,\"fLabelSize\":0.035,\"fTickLength\":0.03,\"fTitleOffset\":1,\"fTitleSize\":0.035,\"fTitleColor\":1,\"fTitleFont\":42,\"fNbins\":100,\"fXmin\":0,\"fXmax\":100,\"fXbins\":[],\"fFirst\":0,\"fLast\":0,\"fBits2\":0,\"fTimeDisplay\":false,\"fTimeFormat\":\"\",\"fLabels\":null,\"fModLabs\":null},\"fYaxis\":{\"_typename\":\"TAxis\",\"fUniqueID\":0,\"fBits\":50331648,\"fName\":\"yaxis\",\"fTitle\":\"\",\"fNdivisions\":510,\"fAxisColor\":1,\"fLabelColor\":1,\"fLabelFont\":42,\"fLabelOffset\":0.005,\"fLabelSize\":0.035,\"fTickLength\":0.03,\"fTitleOffset\":0,\"fTitleSize\":0.035,\"fTitleColor\":1,\"fTitleFont\":42,\"fNbins\":1,\"fXmin\":0,\"fXmax\":1,\"fXbins\":[],\"fFirst\":0,\"fLast\":0,\"fBits2\":0,\"fTimeDisplay\":false,\"fTimeFormat\":\"\",\"fLabels\":null,\"fModLabs\":null},\"fZaxis\":{\"_typename\":\"TAxis\",\"fUniqueID\":0,\"fBits\":50331648,\"fName\":\"zaxis\",\"fTitle\":\"\",\"fNdivisions\":510,\"fAxisColor\":1,\"fLabelColor\":1,\"fLabelFont\":42,\"fLabelOffset\":0.005,\"fLabelSize\":0.035,\"fTickLength\":0.03,\"fTitleOffset\":1,\"fTitleSize\":0.035,\"fTitleColor\":1,\"fTitleFont\":42,\"fNbins\":1,\"fXmin\":0,\"fXmax\":1,\"fXbins\":[],\"fFirst\":0,\"fLast\":0,\"fBits2\":0,\"fTimeDisplay\":false,\"fTimeFormat\":\"\",\"fLabels\":null,\"fModLabs\":null},\"fBarOffset\":0,\"fBarWidth\":1000,\"fEntries\":923192,\"fTsumw\":923152,\"fTsumw2\":923152,\"fTsumwx\":12078540.0087325,\"fTsumwx2\":502606622.681672,\"fMaximum\":-1111,\"fMinimum\":-1111,\"fNormFactor\":0,\"fContour\":[],\"fSumw2\":[0,288799,168215,56732,30032,20836,15596,12754,11014,9897,8951,8530,8003,7592,7535,7222,7052,6971,6702,6737,6386,6380,6241,6148,6046,6175,5920,5925,5963,5651,5645,5651,5517,5613,5351,5354,5215,5082,4908,4894,4707,4701,4452,4353,4232,4039,3876,3869,3790,3577,3602,3517,3253,3317,3214,3127,3148,3056,3115,2903,2924,2825,2801,2780,2733,2672,2624,2645,2442,2502,2384,2377,2314,2307,2117,1955,1719,1448,1066,700,382,179,70,38,14,13,4,7,2,3,1,4,2,1,0,3,3,5,1,2,0,40],\"fOption\":\"\",\"fFunctions\":{\"_typename\":\"TList\",\"name\":\"TList\",\"arr\":[],\"opt\":[]},\"fBufferSize\":0,\"fBuffer\":[],\"fBinStatErrOpt\":0,\"fStatOverflows\":2,\"fArray\":[0,288799,168215,56732,30032,20836,15596,12754,11014,9897,8951,8530,8003,7592,7535,7222,7052,6971,6702,6737,6386,6380,6241,6148,6046,6175,5920,5925,5963,5651,5645,5651,5517,5613,5351,5354,5215,5082,4908,4894,4707,4701,4452,4353,4232,4039,3876,3869,3790,3577,3602,3517,3253,3317,3214,3127,3148,3056,3115,2903,2924,2825,2801,2780,2733,2672,2624,2645,2442,2502,2384,2377,2314,2307,2117,1955,1719,1448,1066,700,382,179,70,38,14,13,4,7,2,3,1,4,2,1,0,3,3,5,1,2,0,40]},\"fLabel\":\"V9\",\"fOption\":\"l\"}],\"opt\":[\"l\",\"l\"]},\"fEntrySeparation\":0.1,\"fMargin\":0.25,\"fNColumns\":1,\"fColumnSeparation\":0},{\"_typename\":\"TLatex\",\"fUniqueID\":0,\"fBits\":50348040,\"fName\":\"\",\"fTitle\":\"PU0, NNDR\",\"fTextAngle\":0,\"fTextSize\":0.03,\"fTextAlign\":11,\"fTextColor\":1,\"fTextFont\":62,\"fX\":0.15,\"fY\":0.85,\"fLineColor\":1,\"fLineStyle\":1,\"fLineWidth\":2,\"fLimitFactorSize\":3,\"fOriginSize\":0.04}],\"opt\":[\"\",\"\",\"SAME,\",\"\",\"same\"]},\"fExecs\":null,\"fName\":\"c_4847b2\",\"fTitle\":\"c_4847b2\",\"fNumPaletteColor\":0,\"fNextPaletteColor\":0,\"fDISPLAY\":\"$DISPLAY\",\"fDoubleBuffer\":0,\"fRetained\":true,\"fXsizeUser\":0,\"fYsizeUser\":0,\"fXsizeReal\":20,\"fYsizeReal\":15,\"fWindowTopX\":0,\"fWindowTopY\":0,\"fWindowWidth\":0,\"fWindowHeight\":0,\"fCw\":796,\"fCh\":572,\"fCatt\":{\"_typename\":\"TAttCanvas\",\"fXBetween\":2,\"fYBetween\":2,\"fTitleFromTop\":1.2,\"fXdate\":0.2,\"fYdate\":0.3,\"fAdate\":1},\"kMoveOpaque\":true,\"kResizeOpaque\":true,\"fHighLightColor\":2,\"fBatch\":true,\"kShowEventStatus\":false,\"kAutoExec\":true,\"kMenuBar\":true});\n",
       "       Core.draw(\"root_plot_5\", obj, \"\");\n",
       "     }\n",
       " );\n",
       "</script>\n"
      ],
      "text/plain": [
       "<IPython.core.display.HTML object>"
      ]
     },
     "metadata": {},
     "output_type": "display_data"
    },
    {
     "data": {
      "text/html": [
       "\n",
       "<div id=\"root_plot_6\"\n",
       "     style=\"width: 796px; height: 572px\">\n",
       "</div>\n",
       "\n",
       "<script>\n",
       " requirejs.config({\n",
       "     paths: {\n",
       "       'JSRootCore' : 'https://root.cern.ch/js/notebook//scripts/JSRootCore',\n",
       "     }\n",
       "   });\n",
       " require(['JSRootCore'],\n",
       "     function(Core) {\n",
       "       var obj = Core.JSONR_unref({\"_typename\":\"TCanvas\",\"fUniqueID\":0,\"fBits\":53673992,\"fLineColor\":1,\"fLineStyle\":1,\"fLineWidth\":1,\"fFillColor\":0,\"fFillStyle\":1001,\"fLeftMargin\":0.13,\"fRightMargin\":0.3,\"fBottomMargin\":0.13,\"fTopMargin\":0.1,\"fXfile\":2,\"fYfile\":2,\"fAfile\":1,\"fXstat\":0.99,\"fYstat\":0.99,\"fAstat\":2,\"fFrameFillColor\":0,\"fFrameLineColor\":1,\"fFrameFillStyle\":1001,\"fFrameLineStyle\":1,\"fFrameLineWidth\":1,\"fFrameBorderSize\":1,\"fFrameBorderMode\":0,\"fX1\":-22.8070169934936,\"fY1\":-0.0220335028860654,\"fX2\":152.631581699199,\"fY2\":0.147454983281337,\"fXtoAbsPixelk\":103.480046204376,\"fXtoPixelk\":103.480046204376,\"fXtoPixel\":4.53719994306564,\"fYtoAbsPixelk\":497.640051065433,\"fYtoPixelk\":497.640051065433,\"fYtoPixel\":-3374.86051669043,\"fUtoAbsPixelk\":5e-5,\"fUtoPixelk\":5e-5,\"fUtoPixel\":796,\"fVtoAbsPixelk\":572.00005,\"fVtoPixelk\":572,\"fVtoPixel\":-572,\"fAbsPixeltoXk\":-22.8070169934936,\"fPixeltoXk\":-22.8070169934936,\"fPixeltoX\":0.220400249613935,\"fAbsPixeltoYk\":0.147454983281337,\"fPixeltoYk\":-0.0220335028860654,\"fPixeltoY\":-2.96308542250704e-4,\"fXlowNDC\":0,\"fYlowNDC\":0,\"fXUpNDC\":0,\"fYUpNDC\":0,\"fWNDC\":1,\"fHNDC\":1,\"fAbsXlowNDC\":0,\"fAbsYlowNDC\":0,\"fAbsWNDC\":1,\"fAbsHNDC\":1,\"fUxmin\":0,\"fUymin\":0,\"fUxmax\":100,\"fUymax\":0.130506134033203,\"fTheta\":30,\"fPhi\":30,\"fAspectRatio\":0,\"fNumber\":0,\"fTickx\":0,\"fTicky\":0,\"fLogx\":0,\"fLogy\":1,\"fLogz\":0,\"fPadPaint\":0,\"fCrosshair\":0,\"fCrosshairPos\":0,\"fBorderSize\":2,\"fBorderMode\":0,\"fModified\":false,\"fGridx\":false,\"fGridy\":false,\"fAbsCoord\":false,\"fEditable\":true,\"fFixedAspectRatio\":false,\"fPrimitives\":{\"_typename\":\"TList\",\"name\":\"TList\",\"arr\":[{\"_typename\":\"TFrame\",\"fUniqueID\":0,\"fBits\":50331656,\"fLineColor\":1,\"fLineStyle\":1,\"fLineWidth\":1,\"fFillColor\":0,\"fFillStyle\":1001,\"fX1\":0,\"fY1\":0,\"fX2\":100,\"fY2\":0.130506134033203,\"fBorderSize\":1,\"fBorderMode\":0},{\"_typename\":\"TH1F\",\"fUniqueID\":0,\"fBits\":50332169,\"fName\":\"h_cl3d_DEF_Em_nomatch_pt\",\"fTitle\":\"3D Cluster Pt (GeV)\",\"fLineColor\":1,\"fLineStyle\":1,\"fLineWidth\":1,\"fFillColor\":0,\"fFillStyle\":1001,\"fMarkerColor\":1,\"fMarkerStyle\":1,\"fMarkerSize\":1,\"fNcells\":102,\"fXaxis\":{\"_typename\":\"TAxis\",\"fUniqueID\":0,\"fBits\":50331648,\"fName\":\"xaxis\",\"fTitle\":\" p_{T} [GeV]\",\"fNdivisions\":510,\"fAxisColor\":1,\"fLabelColor\":1,\"fLabelFont\":42,\"fLabelOffset\":0.005,\"fLabelSize\":0.035,\"fTickLength\":0.03,\"fTitleOffset\":1,\"fTitleSize\":0.035,\"fTitleColor\":1,\"fTitleFont\":42,\"fNbins\":100,\"fXmin\":0,\"fXmax\":100,\"fXbins\":[],\"fFirst\":0,\"fLast\":0,\"fBits2\":0,\"fTimeDisplay\":false,\"fTimeFormat\":\"\",\"fLabels\":null,\"fModLabs\":null},\"fYaxis\":{\"_typename\":\"TAxis\",\"fUniqueID\":0,\"fBits\":50331656,\"fName\":\"yaxis\",\"fTitle\":\"\",\"fNdivisions\":510,\"fAxisColor\":1,\"fLabelColor\":1,\"fLabelFont\":42,\"fLabelOffset\":0.005,\"fLabelSize\":0.035,\"fTickLength\":0.03,\"fTitleOffset\":0,\"fTitleSize\":0.035,\"fTitleColor\":1,\"fTitleFont\":42,\"fNbins\":1,\"fXmin\":0,\"fXmax\":1,\"fXbins\":[],\"fFirst\":0,\"fLast\":0,\"fBits2\":0,\"fTimeDisplay\":false,\"fTimeFormat\":\"\",\"fLabels\":null,\"fModLabs\":null},\"fZaxis\":{\"_typename\":\"TAxis\",\"fUniqueID\":0,\"fBits\":50331648,\"fName\":\"zaxis\",\"fTitle\":\"\",\"fNdivisions\":510,\"fAxisColor\":1,\"fLabelColor\":1,\"fLabelFont\":42,\"fLabelOffset\":0.005,\"fLabelSize\":0.035,\"fTickLength\":0.03,\"fTitleOffset\":1,\"fTitleSize\":0.035,\"fTitleColor\":1,\"fTitleFont\":42,\"fNbins\":1,\"fXmin\":0,\"fXmax\":1,\"fXbins\":[],\"fFirst\":0,\"fLast\":0,\"fBits2\":0,\"fTimeDisplay\":false,\"fTimeFormat\":\"\",\"fLabels\":null,\"fModLabs\":null},\"fBarOffset\":0,\"fBarWidth\":1000,\"fEntries\":236500,\"fTsumw\":235326,\"fTsumw2\":235326,\"fTsumwx\":10729217.2674568,\"fTsumwx2\":689540835.025817,\"fMaximum\":0.130506134033203,\"fMinimum\":0,\"fNormFactor\":0,\"fContour\":[],\"fSumw2\":[0,5.69356318984031e-8,6.64339326844989e-8,8.35706008327972e-8,8.04105197727843e-8,7.20679057743504e-8,6.56393980179814e-8,5.97706760493861e-8,5.72426112013758e-8,5.2836555323415e-8,5.10127371116361e-8,5.03265480814619e-8,4.69317181427052e-8,4.92792069301434e-8,4.71303518093346e-8,4.42772500522945e-8,4.41147315977795e-8,4.47828630218965e-8,4.38077522948068e-8,4.28326415677171e-8,4.1568609143712e-8,4.1568609143712e-8,4.06657288408512e-8,4.10991113862244e-8,4.11352265983388e-8,4.17672428103414e-8,4.14963787194831e-8,4.20200492951424e-8,4.13519178710254e-8,4.18033580224558e-8,4.22006253557146e-8,4.20381069011996e-8,4.03226343257641e-8,4.20200492951424e-8,4.09727081438239e-8,4.19117036587991e-8,4.19117036587991e-8,3.99975974167342e-8,4.22186829617718e-8,4.1983934083028e-8,4.02865191136496e-8,4.13519178710254e-8,4.07740744771945e-8,4.10268809619955e-8,4.09727081438239e-8,3.94378116289605e-8,4.10810537801672e-8,4.22006253557146e-8,4.19658764769708e-8,4.18033580224558e-8,4.06115560226795e-8,4.03768071439357e-8,4.14602635073687e-8,4.03948647499929e-8,4.23812014162867e-8,4.27784687495455e-8,4.07018440529656e-8,4.01962310833636e-8,4.00517702349058e-8,4.16227819618836e-8,4.07199016590228e-8,4.09185353256522e-8,4.03045767197069e-8,3.97809061440476e-8,4.14602635073687e-8,4.0069827840963e-8,3.93836388107888e-8,4.07018440529656e-8,4.00337126288486e-8,3.96725605077043e-8,4.0900477719595e-8,4.18575308406275e-8,4.07018440529656e-8,4.15324939315976e-8,3.96183876895326e-8,4.02142886894208e-8,4.04670951742218e-8,3.91308323259878e-8,3.97447909319331e-8,4.05934984166223e-8,4.0485152780279e-8,3.97628485379904e-8,3.92572355683883e-8,4.04309799621074e-8,3.97809061440476e-8,3.93475235986744e-8,3.81015487807265e-8,3.82460096291842e-8,3.85529889321569e-8,3.97628485379904e-8,3.63680185992337e-8,3.57179447811739e-8,3.70000348112363e-8,3.69639195991218e-8,3.60249240841466e-8,3.51039861752285e-8,3.26120365393327e-8,3.00297988731508e-8,2.4955611571073e-8,1.85451614207612e-8,1.36334925731983e-8,2.1199629511172e-8],\"fOption\":\"\",\"fFunctions\":{\"_typename\":\"TList\",\"name\":\"TList\",\"arr\":[],\"opt\":[]},\"fBufferSize\":0,\"fBuffer\":[],\"fBinStatErrOpt\":0,\"fStatOverflows\":2,\"fArray\":[0,0.01339843,0.01563363,0.01966633,0.01892269,0.01695945,0.01544666,0.01406559,0.01347067,0.01243381,0.01200462,0.01184314,0.01104425,0.01159668,0.011091,0.01041959,0.01038134,0.01053857,0.0103091,0.01007963,0.009782175,0.009782175,0.009569704,0.00967169,0.009680188,0.009828919,0.009765177,0.009888411,0.009731181,0.009837417,0.009930904,0.009892659,0.009488964,0.009888411,0.009641943,0.009862914,0.009862914,0.009412475,0.009935154,0.009879911,0.009480465,0.009731181,0.009595199,0.009654691,0.009641943,0.009280742,0.00966744,0.009930904,0.009875662,0.009837417,0.009556955,0.009501712,0.009756678,0.009505962,0.009973398,0.01006689,0.009578202,0.009459218,0.009425223,0.009794923,0.009582452,0.009629196,0.009484715,0.009361481,0.009756678,0.009429472,0.009267994,0.009578202,0.009420973,0.009335985,0.009624946,0.009850165,0.009578202,0.009773675,0.009323237,0.009463468,0.00952296,0.009208502,0.009352983,0.009552706,0.009527209,0.009357232,0.009238248,0.00951446,0.009361481,0.009259495,0.008966285,0.009000281,0.009072521,0.009357232,0.00855834,0.008405361,0.00870707,0.008698571,0.008477601,0.008260881,0.00767446,0.007066792,0.005872704,0.004364158,0.003208315,0.004988824]},{\"_typename\":\"TH1F\",\"fUniqueID\":0,\"fBits\":50332169,\"fName\":\"h_cl3d_DEF_Em_nomatch_pt\",\"fTitle\":\"3D Cluster Pt (GeV)\",\"fLineColor\":2,\"fLineStyle\":1,\"fLineWidth\":1,\"fFillColor\":0,\"fFillStyle\":1001,\"fMarkerColor\":1,\"fMarkerStyle\":1,\"fMarkerSize\":1,\"fNcells\":102,\"fXaxis\":{\"_typename\":\"TAxis\",\"fUniqueID\":0,\"fBits\":50331648,\"fName\":\"xaxis\",\"fTitle\":\" p_{T} [GeV]\",\"fNdivisions\":510,\"fAxisColor\":1,\"fLabelColor\":1,\"fLabelFont\":42,\"fLabelOffset\":0.005,\"fLabelSize\":0.035,\"fTickLength\":0.03,\"fTitleOffset\":1,\"fTitleSize\":0.035,\"fTitleColor\":1,\"fTitleFont\":42,\"fNbins\":100,\"fXmin\":0,\"fXmax\":100,\"fXbins\":[],\"fFirst\":0,\"fLast\":0,\"fBits2\":0,\"fTimeDisplay\":false,\"fTimeFormat\":\"\",\"fLabels\":null,\"fModLabs\":null},\"fYaxis\":{\"_typename\":\"TAxis\",\"fUniqueID\":0,\"fBits\":50331656,\"fName\":\"yaxis\",\"fTitle\":\"\",\"fNdivisions\":510,\"fAxisColor\":1,\"fLabelColor\":1,\"fLabelFont\":42,\"fLabelOffset\":0.005,\"fLabelSize\":0.035,\"fTickLength\":0.03,\"fTitleOffset\":0,\"fTitleSize\":0.035,\"fTitleColor\":1,\"fTitleFont\":42,\"fNbins\":1,\"fXmin\":0,\"fXmax\":1,\"fXbins\":[],\"fFirst\":0,\"fLast\":0,\"fBits2\":0,\"fTimeDisplay\":false,\"fTimeFormat\":\"\",\"fLabels\":null,\"fModLabs\":null},\"fZaxis\":{\"_typename\":\"TAxis\",\"fUniqueID\":0,\"fBits\":50331648,\"fName\":\"zaxis\",\"fTitle\":\"\",\"fNdivisions\":510,\"fAxisColor\":1,\"fLabelColor\":1,\"fLabelFont\":42,\"fLabelOffset\":0.005,\"fLabelSize\":0.035,\"fTickLength\":0.03,\"fTitleOffset\":1,\"fTitleSize\":0.035,\"fTitleColor\":1,\"fTitleFont\":42,\"fNbins\":1,\"fXmin\":0,\"fXmax\":1,\"fXbins\":[],\"fFirst\":0,\"fLast\":0,\"fBits2\":0,\"fTimeDisplay\":false,\"fTimeFormat\":\"\",\"fLabels\":null,\"fModLabs\":null},\"fBarOffset\":0,\"fBarWidth\":1000,\"fEntries\":237654,\"fTsumw\":237644,\"fTsumw2\":237644,\"fTsumwx\":7095879.29592079,\"fTsumwx2\":349273189.621706,\"fMaximum\":0.130506134033203,\"fMinimum\":0,\"fNormFactor\":0,\"fContour\":[],\"fSumw2\":[0,4.57638790331627e-7,2.62648720332328e-7,1.0974831582416e-7,7.92036490289561e-8,7.03501224216504e-8,6.7499286854098e-8,6.21340497300708e-8,6.07528995793312e-8,5.63615503821076e-8,5.25014127813223e-8,5.42898251559981e-8,5.36346641870574e-8,5.0465101661642e-8,5.14389895884456e-8,5.05359298745005e-8,4.84996187548202e-8,5.01994958634229e-8,4.8871466872327e-8,5.0057839437706e-8,4.72955391362266e-8,4.70122262847928e-8,4.76673872537334e-8,4.7277832083012e-8,4.6640378167286e-8,4.79684071583818e-8,4.61799947837061e-8,4.67643275397883e-8,4.78621648390942e-8,4.57019043469116e-8,4.60383383579892e-8,4.71538827105097e-8,4.56310761340532e-8,4.66580852205006e-8,4.48519657926103e-8,4.59143889854869e-8,4.73309532426558e-8,4.61622877304915e-8,4.41259766108112e-8,4.55248338147655e-8,4.41613907172404e-8,4.61622877304915e-8,4.36833002804459e-8,4.48696728458249e-8,4.37541284933044e-8,4.14167974689757e-8,4.20896654911309e-8,4.33999874290121e-8,4.41082695575966e-8,4.1859473799341e-8,4.35770579611583e-8,4.31166745775784e-8,4.04606165953867e-8,4.20896654911309e-8,4.1310555149688e-8,4.08501717661081e-8,4.21427866507747e-8,4.18063526396971e-8,4.31166745775784e-8,4.09387070321812e-8,4.17532314800533e-8,4.06199800743182e-8,4.04960307018159e-8,4.11334846175419e-8,4.01950107971675e-8,4.00002332118068e-8,3.87430324335694e-8,3.96283850942999e-8,3.67598424735329e-8,3.81409926242726e-8,3.58744898128024e-8,3.59984391853046e-8,3.45110467152773e-8,3.49714300988572e-8,3.25986849680993e-8,3.01019904648391e-8,2.66845291944191e-8,2.20098671457618e-8,1.59540549463647e-8,1.03763331837622e-8,5.6662570286756e-9,2.70917914183552e-9,9.03059713945173e-10,4.2496927715067e-10,5.31211596438337e-11,7.08282128584449e-11,1.77070532146112e-11,0,1.77070532146112e-11,0,0,0,0,0,0,1.77070532146112e-11,3.54141064292225e-11,0,0,0,0,1.77070532146112e-10],\"fOption\":\"\",\"fFunctions\":{\"_typename\":\"TList\",\"name\":\"TList\",\"arr\":[],\"opt\":[]},\"fBufferSize\":0,\"fBuffer\":[],\"fBinStatErrOpt\":0,\"fStatOverflows\":2,\"fArray\":[0,0.1087551,0.06241689,0.02608103,0.01882227,0.01671829,0.0160408,0.01476578,0.01443756,0.01339398,0.01247665,0.01290165,0.01274596,0.01199273,0.01222417,0.01200956,0.01152564,0.01192961,0.01161401,0.01189595,0.0112395,0.01117217,0.01132787,0.01123529,0.01108381,0.0113994,0.0109744,0.01111326,0.01137416,0.01086078,0.01094074,0.01120584,0.01084395,0.01108801,0.0106588,0.01091128,0.01124792,0.01097019,0.01048627,0.0108187,0.01049469,0.01097019,0.01038107,0.01066301,0.01039791,0.009842454,0.01000236,0.01031375,0.01048207,0.009947653,0.01035583,0.01024642,0.009615223,0.01000236,0.009817205,0.009707798,0.01001498,0.009935029,0.01024642,0.009728838,0.009922405,0.009653094,0.009623638,0.009775125,0.009552103,0.009505816,0.009207049,0.009417448,0.008735756,0.009063978,0.008525358,0.008554813,0.008201343,0.00831075,0.007746882,0.007153558,0.006341418,0.005230513,0.003791385,0.002465873,0.001346552,6.438202e-4,2.146067e-4,1.009914e-4,1.262392e-5,1.68319e-5,4.207975e-6,0,4.207975e-6,0,0,0,0,0,0,4.207975e-6,8.41595e-6,0,0,0,0,4.207975e-5]},{\"_typename\":\"TLegend\",\"fUniqueID\":0,\"fBits\":50331656,\"fLineColor\":1,\"fLineStyle\":1,\"fLineWidth\":1,\"fFillColor\":0,\"fFillStyle\":0,\"fX1\":100.000002091391,\"fY1\":0.0983033222927904,\"fX2\":143.859651764564,\"fY2\":0.122031710356227,\"fX1NDC\":0.7,\"fY1NDC\":0.71,\"fX2NDC\":0.95,\"fY2NDC\":0.85,\"fBorderSize\":0,\"fInit\":1,\"fShadowColor\":1,\"fCornerRadius\":0,\"fOption\":\"brNDC\",\"fName\":\"TPave\",\"fTextAngle\":0,\"fTextSize\":0.05,\"fTextAlign\":12,\"fTextColor\":1,\"fTextFont\":42,\"fPrimitives\":{\"_typename\":\"TList\",\"name\":\"TList\",\"arr\":[{\"_typename\":\"TLegendEntry\",\"fUniqueID\":0,\"fBits\":50331656,\"fTextAngle\":0,\"fTextSize\":0,\"fTextAlign\":0,\"fTextColor\":0,\"fTextFont\":42,\"fLineColor\":1,\"fLineStyle\":1,\"fLineWidth\":1,\"fFillColor\":0,\"fFillStyle\":0,\"fMarkerColor\":1,\"fMarkerStyle\":21,\"fMarkerSize\":1,\"fObject\":{\"_typename\":\"TH1F\",\"fUniqueID\":0,\"fBits\":50332168,\"fName\":\"h_cl3d_DEF_Em_nomatch_pt\",\"fTitle\":\"3D Cluster Pt (GeV)\",\"fLineColor\":1,\"fLineStyle\":1,\"fLineWidth\":1,\"fFillColor\":0,\"fFillStyle\":1001,\"fMarkerColor\":1,\"fMarkerStyle\":1,\"fMarkerSize\":1,\"fNcells\":102,\"fXaxis\":{\"_typename\":\"TAxis\",\"fUniqueID\":0,\"fBits\":50331648,\"fName\":\"xaxis\",\"fTitle\":\" p_{T} [GeV]\",\"fNdivisions\":510,\"fAxisColor\":1,\"fLabelColor\":1,\"fLabelFont\":42,\"fLabelOffset\":0.005,\"fLabelSize\":0.035,\"fTickLength\":0.03,\"fTitleOffset\":1,\"fTitleSize\":0.035,\"fTitleColor\":1,\"fTitleFont\":42,\"fNbins\":100,\"fXmin\":0,\"fXmax\":100,\"fXbins\":[],\"fFirst\":0,\"fLast\":0,\"fBits2\":0,\"fTimeDisplay\":false,\"fTimeFormat\":\"\",\"fLabels\":null,\"fModLabs\":null},\"fYaxis\":{\"_typename\":\"TAxis\",\"fUniqueID\":0,\"fBits\":50331648,\"fName\":\"yaxis\",\"fTitle\":\"\",\"fNdivisions\":510,\"fAxisColor\":1,\"fLabelColor\":1,\"fLabelFont\":42,\"fLabelOffset\":0.005,\"fLabelSize\":0.035,\"fTickLength\":0.03,\"fTitleOffset\":0,\"fTitleSize\":0.035,\"fTitleColor\":1,\"fTitleFont\":42,\"fNbins\":1,\"fXmin\":0,\"fXmax\":1,\"fXbins\":[],\"fFirst\":0,\"fLast\":0,\"fBits2\":0,\"fTimeDisplay\":false,\"fTimeFormat\":\"\",\"fLabels\":null,\"fModLabs\":null},\"fZaxis\":{\"_typename\":\"TAxis\",\"fUniqueID\":0,\"fBits\":50331648,\"fName\":\"zaxis\",\"fTitle\":\"\",\"fNdivisions\":510,\"fAxisColor\":1,\"fLabelColor\":1,\"fLabelFont\":42,\"fLabelOffset\":0.005,\"fLabelSize\":0.035,\"fTickLength\":0.03,\"fTitleOffset\":1,\"fTitleSize\":0.035,\"fTitleColor\":1,\"fTitleFont\":42,\"fNbins\":1,\"fXmin\":0,\"fXmax\":1,\"fXbins\":[],\"fFirst\":0,\"fLast\":0,\"fBits2\":0,\"fTimeDisplay\":false,\"fTimeFormat\":\"\",\"fLabels\":null,\"fModLabs\":null},\"fBarOffset\":0,\"fBarWidth\":1000,\"fEntries\":236500,\"fTsumw\":235326,\"fTsumw2\":235326,\"fTsumwx\":10729217.2674568,\"fTsumwx2\":689540835.025817,\"fMaximum\":-1111,\"fMinimum\":-1111,\"fNormFactor\":0,\"fContour\":[],\"fSumw2\":[0,3153,3679,4628,4453,3991,3635,3310,3170,2926,2825,2787,2599,2729,2610,2452,2443,2480,2426,2372,2302,2302,2252,2276,2278,2313,2298,2327,2290,2315,2337,2328,2233,2327,2269,2321,2321,2215,2338,2325,2231,2290,2258,2272,2269,2184,2275,2337,2324,2315,2249,2236,2296,2237,2347,2369,2254,2226,2218,2305,2255,2266,2232,2203,2296,2219,2181,2254,2217,2197,2265,2318,2254,2300,2194,2227,2241,2167,2201,2248,2242,2202,2174,2239,2203,2179,2110,2118,2135,2202,2014,1978,2049,2047,1995,1944,1806,1663,1382,1027,755,1174],\"fOption\":\"\",\"fFunctions\":{\"_typename\":\"TList\",\"name\":\"TList\",\"arr\":[],\"opt\":[]},\"fBufferSize\":0,\"fBuffer\":[],\"fBinStatErrOpt\":0,\"fStatOverflows\":2,\"fArray\":[0,3153,3679,4628,4453,3991,3635,3310,3170,2926,2825,2787,2599,2729,2610,2452,2443,2480,2426,2372,2302,2302,2252,2276,2278,2313,2298,2327,2290,2315,2337,2328,2233,2327,2269,2321,2321,2215,2338,2325,2231,2290,2258,2272,2269,2184,2275,2337,2324,2315,2249,2236,2296,2237,2347,2369,2254,2226,2218,2305,2255,2266,2232,2203,2296,2219,2181,2254,2217,2197,2265,2318,2254,2300,2194,2227,2241,2167,2201,2248,2242,2202,2174,2239,2203,2179,2110,2118,2135,2202,2014,1978,2049,2047,1995,1944,1806,1663,1382,1027,755,1174]},\"fLabel\":\"V8\",\"fOption\":\"l\"},{\"_typename\":\"TLegendEntry\",\"fUniqueID\":0,\"fBits\":50331656,\"fTextAngle\":0,\"fTextSize\":0,\"fTextAlign\":0,\"fTextColor\":0,\"fTextFont\":42,\"fLineColor\":2,\"fLineStyle\":1,\"fLineWidth\":1,\"fFillColor\":0,\"fFillStyle\":0,\"fMarkerColor\":1,\"fMarkerStyle\":21,\"fMarkerSize\":1,\"fObject\":{\"_typename\":\"TH1F\",\"fUniqueID\":0,\"fBits\":50332168,\"fName\":\"h_cl3d_DEF_Em_nomatch_pt\",\"fTitle\":\"3D Cluster Pt (GeV)\",\"fLineColor\":2,\"fLineStyle\":1,\"fLineWidth\":1,\"fFillColor\":0,\"fFillStyle\":1001,\"fMarkerColor\":1,\"fMarkerStyle\":1,\"fMarkerSize\":1,\"fNcells\":102,\"fXaxis\":{\"_typename\":\"TAxis\",\"fUniqueID\":0,\"fBits\":50331648,\"fName\":\"xaxis\",\"fTitle\":\" p_{T} [GeV]\",\"fNdivisions\":510,\"fAxisColor\":1,\"fLabelColor\":1,\"fLabelFont\":42,\"fLabelOffset\":0.005,\"fLabelSize\":0.035,\"fTickLength\":0.03,\"fTitleOffset\":1,\"fTitleSize\":0.035,\"fTitleColor\":1,\"fTitleFont\":42,\"fNbins\":100,\"fXmin\":0,\"fXmax\":100,\"fXbins\":[],\"fFirst\":0,\"fLast\":0,\"fBits2\":0,\"fTimeDisplay\":false,\"fTimeFormat\":\"\",\"fLabels\":null,\"fModLabs\":null},\"fYaxis\":{\"_typename\":\"TAxis\",\"fUniqueID\":0,\"fBits\":50331648,\"fName\":\"yaxis\",\"fTitle\":\"\",\"fNdivisions\":510,\"fAxisColor\":1,\"fLabelColor\":1,\"fLabelFont\":42,\"fLabelOffset\":0.005,\"fLabelSize\":0.035,\"fTickLength\":0.03,\"fTitleOffset\":0,\"fTitleSize\":0.035,\"fTitleColor\":1,\"fTitleFont\":42,\"fNbins\":1,\"fXmin\":0,\"fXmax\":1,\"fXbins\":[],\"fFirst\":0,\"fLast\":0,\"fBits2\":0,\"fTimeDisplay\":false,\"fTimeFormat\":\"\",\"fLabels\":null,\"fModLabs\":null},\"fZaxis\":{\"_typename\":\"TAxis\",\"fUniqueID\":0,\"fBits\":50331648,\"fName\":\"zaxis\",\"fTitle\":\"\",\"fNdivisions\":510,\"fAxisColor\":1,\"fLabelColor\":1,\"fLabelFont\":42,\"fLabelOffset\":0.005,\"fLabelSize\":0.035,\"fTickLength\":0.03,\"fTitleOffset\":1,\"fTitleSize\":0.035,\"fTitleColor\":1,\"fTitleFont\":42,\"fNbins\":1,\"fXmin\":0,\"fXmax\":1,\"fXbins\":[],\"fFirst\":0,\"fLast\":0,\"fBits2\":0,\"fTimeDisplay\":false,\"fTimeFormat\":\"\",\"fLabels\":null,\"fModLabs\":null},\"fBarOffset\":0,\"fBarWidth\":1000,\"fEntries\":237654,\"fTsumw\":237644,\"fTsumw2\":237644,\"fTsumwx\":7095879.29592079,\"fTsumwx2\":349273189.621706,\"fMaximum\":-1111,\"fMinimum\":-1111,\"fNormFactor\":0,\"fContour\":[],\"fSumw2\":[0,25845,14833,6198,4473,3973,3812,3509,3431,3183,2965,3066,3029,2850,2905,2854,2739,2835,2760,2827,2671,2655,2692,2670,2634,2709,2608,2641,2703,2581,2600,2663,2577,2635,2533,2593,2673,2607,2492,2571,2494,2607,2467,2534,2471,2339,2377,2451,2491,2364,2461,2435,2285,2377,2333,2307,2380,2361,2435,2312,2358,2294,2287,2323,2270,2259,2188,2238,2076,2154,2026,2033,1949,1975,1841,1700,1507,1243,901,586,320,153,51,24,3,4,1,0,1,0,0,0,0,0,0,1,2,0,0,0,0,10],\"fOption\":\"\",\"fFunctions\":{\"_typename\":\"TList\",\"name\":\"TList\",\"arr\":[],\"opt\":[]},\"fBufferSize\":0,\"fBuffer\":[],\"fBinStatErrOpt\":0,\"fStatOverflows\":2,\"fArray\":[0,25845,14833,6198,4473,3973,3812,3509,3431,3183,2965,3066,3029,2850,2905,2854,2739,2835,2760,2827,2671,2655,2692,2670,2634,2709,2608,2641,2703,2581,2600,2663,2577,2635,2533,2593,2673,2607,2492,2571,2494,2607,2467,2534,2471,2339,2377,2451,2491,2364,2461,2435,2285,2377,2333,2307,2380,2361,2435,2312,2358,2294,2287,2323,2270,2259,2188,2238,2076,2154,2026,2033,1949,1975,1841,1700,1507,1243,901,586,320,153,51,24,3,4,1,0,1,0,0,0,0,0,0,1,2,0,0,0,0,10]},\"fLabel\":\"V9\",\"fOption\":\"l\"}],\"opt\":[\"l\",\"l\"]},\"fEntrySeparation\":0.1,\"fMargin\":0.25,\"fNColumns\":1,\"fColumnSeparation\":0},{\"_typename\":\"TLatex\",\"fUniqueID\":0,\"fBits\":50348040,\"fName\":\"\",\"fTitle\":\"PU0, NNDR, EGId\",\"fTextAngle\":0,\"fTextSize\":0.03,\"fTextAlign\":11,\"fTextColor\":1,\"fTextFont\":62,\"fX\":0.15,\"fY\":0.85,\"fLineColor\":1,\"fLineStyle\":1,\"fLineWidth\":2,\"fLimitFactorSize\":3,\"fOriginSize\":0.04}],\"opt\":[\"\",\"\",\"SAME,\",\"\",\"same\"]},\"fExecs\":null,\"fName\":\"c_f6364c\",\"fTitle\":\"c_f6364c\",\"fNumPaletteColor\":0,\"fNextPaletteColor\":0,\"fDISPLAY\":\"$DISPLAY\",\"fDoubleBuffer\":0,\"fRetained\":true,\"fXsizeUser\":0,\"fYsizeUser\":0,\"fXsizeReal\":20,\"fYsizeReal\":15,\"fWindowTopX\":0,\"fWindowTopY\":0,\"fWindowWidth\":0,\"fWindowHeight\":0,\"fCw\":796,\"fCh\":572,\"fCatt\":{\"_typename\":\"TAttCanvas\",\"fXBetween\":2,\"fYBetween\":2,\"fTitleFromTop\":1.2,\"fXdate\":0.2,\"fYdate\":0.3,\"fAdate\":1},\"kMoveOpaque\":true,\"kResizeOpaque\":true,\"fHighLightColor\":2,\"fBatch\":true,\"kShowEventStatus\":false,\"kAutoExec\":true,\"kMenuBar\":true});\n",
       "       Core.draw(\"root_plot_6\", obj, \"\");\n",
       "     }\n",
       " );\n",
       "</script>\n"
      ],
      "text/plain": [
       "<IPython.core.display.HTML object>"
      ]
     },
     "metadata": {},
     "output_type": "display_data"
    }
   ],
   "source": [
    "for tp in tps:\n",
    "    for tp_sel in tp_select:\n",
    "        hsets, labels, text = hplot.get_histo(histos.HistoSetClusters, sample_type, pus, tp, tp_sel, ['nomatch'])            \n",
    "#         print hsets\n",
    "        draw([his.hcl3d.h_pt for his in hsets], labels, norm=True, text=text, logy=True)\n"
   ]
  },
  {
   "cell_type": "code",
   "execution_count": 25,
   "metadata": {},
   "outputs": [
    {
     "name": "stderr",
     "output_type": "stream",
     "text": [
      "Error in <THistPainter::PaintInit>: Cannot set Y axis to log scale\n",
      "Error in <THistPainter::PaintInit>: Cannot set Y axis to log scale\n",
      "Error in <THistPainter::PaintInit>: Cannot set Y axis to log scale\n",
      "Error in <THistPainter::PaintInit>: Cannot set Y axis to log scale\n",
      "Error in <THistPainter::PaintInit>: Cannot set Y axis to log scale\n",
      "Error in <THistPainter::PaintInit>: Cannot set Y axis to log scale\n",
      "Error in <THistPainter::PaintInit>: Cannot set Y axis to log scale\n",
      "Error in <THistPainter::PaintInit>: Cannot set Y axis to log scale\n"
     ]
    },
    {
     "data": {
      "text/html": [
       "\n",
       "<div id=\"root_plot_9\"\n",
       "     style=\"width: 796px; height: 572px\">\n",
       "</div>\n",
       "\n",
       "<script>\n",
       " requirejs.config({\n",
       "     paths: {\n",
       "       'JSRootCore' : 'https://root.cern.ch/js/notebook//scripts/JSRootCore',\n",
       "     }\n",
       "   });\n",
       " require(['JSRootCore'],\n",
       "     function(Core) {\n",
       "       var obj = Core.JSONR_unref({\"_typename\":\"TCanvas\",\"fUniqueID\":0,\"fBits\":53673992,\"fLineColor\":1,\"fLineStyle\":1,\"fLineWidth\":1,\"fFillColor\":0,\"fFillStyle\":1001,\"fLeftMargin\":0.13,\"fRightMargin\":0.3,\"fBottomMargin\":0.13,\"fTopMargin\":0.1,\"fXfile\":2,\"fYfile\":2,\"fAfile\":1,\"fXstat\":0.99,\"fYstat\":0.99,\"fAstat\":2,\"fFrameFillColor\":0,\"fFrameLineColor\":1,\"fFrameFillStyle\":1001,\"fFrameLineStyle\":1,\"fFrameLineWidth\":1,\"fFrameBorderSize\":1,\"fFrameBorderMode\":0,\"fX1\":-5.82456135947949,\"fY1\":-0.0109661684069461,\"fX2\":8.2105265359359,\"fY2\":0.0733889743935908,\"fXtoAbsPixelk\":330.340043357658,\"fXtoPixelk\":330.340043357658,\"fXtoPixel\":56.7149992883205,\"fYtoAbsPixelk\":497.640051065433,\"fYtoPixelk\":497.640051065433,\"fYtoPixel\":-6780.8550967963,\"fUtoAbsPixelk\":5e-5,\"fUtoPixelk\":5e-5,\"fUtoPixel\":796,\"fVtoAbsPixelk\":572.00005,\"fVtoPixelk\":572,\"fVtoPixel\":-572,\"fAbsPixeltoXk\":-5.82456135947949,\"fPixeltoXk\":-5.82456135947949,\"fPixeltoX\":0.0176320199691148,\"fAbsPixeltoYk\":0.0733889743935908,\"fPixeltoYk\":-0.0109661684069461,\"fPixeltoY\":-1.47474025875064e-4,\"fXlowNDC\":0,\"fYlowNDC\":0,\"fXUpNDC\":0,\"fYUpNDC\":0,\"fWNDC\":1,\"fHNDC\":1,\"fAbsXlowNDC\":0,\"fAbsYlowNDC\":0,\"fAbsWNDC\":1,\"fAbsHNDC\":1,\"fUxmin\":-4,\"fUymin\":0,\"fUxmax\":4,\"fUymax\":0.0649534597992897,\"fTheta\":30,\"fPhi\":30,\"fAspectRatio\":0,\"fNumber\":0,\"fTickx\":0,\"fTicky\":0,\"fLogx\":0,\"fLogy\":1,\"fLogz\":0,\"fPadPaint\":0,\"fCrosshair\":0,\"fCrosshairPos\":0,\"fBorderSize\":2,\"fBorderMode\":0,\"fModified\":false,\"fGridx\":false,\"fGridy\":false,\"fAbsCoord\":false,\"fEditable\":true,\"fFixedAspectRatio\":false,\"fPrimitives\":{\"_typename\":\"TList\",\"name\":\"TList\",\"arr\":[{\"_typename\":\"TFrame\",\"fUniqueID\":0,\"fBits\":50331656,\"fLineColor\":1,\"fLineStyle\":1,\"fLineWidth\":1,\"fFillColor\":0,\"fFillStyle\":1001,\"fX1\":-4,\"fY1\":0,\"fX2\":4,\"fY2\":0.0649534597992897,\"fBorderSize\":1,\"fBorderMode\":0},{\"_typename\":\"TH1F\",\"fUniqueID\":0,\"fBits\":50332169,\"fName\":\"h_cl3d_DEF_all_nomatch_eta\",\"fTitle\":\"3D Cluster eta\",\"fLineColor\":1,\"fLineStyle\":1,\"fLineWidth\":1,\"fFillColor\":0,\"fFillStyle\":1001,\"fMarkerColor\":1,\"fMarkerStyle\":1,\"fMarkerSize\":1,\"fNcells\":102,\"fXaxis\":{\"_typename\":\"TAxis\",\"fUniqueID\":0,\"fBits\":50331648,\"fName\":\"xaxis\",\"fTitle\":\" #eta\",\"fNdivisions\":510,\"fAxisColor\":1,\"fLabelColor\":1,\"fLabelFont\":42,\"fLabelOffset\":0.005,\"fLabelSize\":0.035,\"fTickLength\":0.03,\"fTitleOffset\":1,\"fTitleSize\":0.035,\"fTitleColor\":1,\"fTitleFont\":42,\"fNbins\":100,\"fXmin\":-4,\"fXmax\":4,\"fXbins\":[],\"fFirst\":0,\"fLast\":0,\"fBits2\":0,\"fTimeDisplay\":false,\"fTimeFormat\":\"\",\"fLabels\":null,\"fModLabs\":null},\"fYaxis\":{\"_typename\":\"TAxis\",\"fUniqueID\":0,\"fBits\":50331656,\"fName\":\"yaxis\",\"fTitle\":\"\",\"fNdivisions\":510,\"fAxisColor\":1,\"fLabelColor\":1,\"fLabelFont\":42,\"fLabelOffset\":0.005,\"fLabelSize\":0.035,\"fTickLength\":0.03,\"fTitleOffset\":0,\"fTitleSize\":0.035,\"fTitleColor\":1,\"fTitleFont\":42,\"fNbins\":1,\"fXmin\":0,\"fXmax\":1,\"fXbins\":[],\"fFirst\":0,\"fLast\":0,\"fBits2\":0,\"fTimeDisplay\":false,\"fTimeFormat\":\"\",\"fLabels\":null,\"fModLabs\":null},\"fZaxis\":{\"_typename\":\"TAxis\",\"fUniqueID\":0,\"fBits\":50331648,\"fName\":\"zaxis\",\"fTitle\":\"\",\"fNdivisions\":510,\"fAxisColor\":1,\"fLabelColor\":1,\"fLabelFont\":42,\"fLabelOffset\":0.005,\"fLabelSize\":0.035,\"fTickLength\":0.03,\"fTitleOffset\":1,\"fTitleSize\":0.035,\"fTitleColor\":1,\"fTitleFont\":42,\"fNbins\":1,\"fXmin\":0,\"fXmax\":1,\"fXbins\":[],\"fFirst\":0,\"fLast\":0,\"fBits2\":0,\"fTimeDisplay\":false,\"fTimeFormat\":\"\",\"fLabels\":null,\"fModLabs\":null},\"fBarOffset\":0,\"fBarWidth\":1000,\"fEntries\":389134,\"fTsumw\":389134,\"fTsumw2\":389134,\"fTsumwx\":261.658981561661,\"fTsumwx2\":1791804.88487373,\"fMaximum\":0.0649534597992897,\"fMinimum\":0,\"fNormFactor\":0,\"fContour\":[],\"fSumw2\":[0,0,0,0,0,0,0,0,0,0,0,0,0,1.75862324747633e-8,4.76274534765275e-8,4.44509691279127e-8,4.51311726370755e-8,4.67029050174712e-8,5.05992163806369e-8,5.21181174205151e-8,5.73484201317477e-8,5.77710708558877e-8,5.97192265374706e-8,6.38268632627063e-8,6.75250570989314e-8,6.87269700957045e-8,7.30921596059631e-8,7.60441107573785e-8,8.01847670704376e-8,8.47348662725075e-8,8.71519001011831e-8,1.37691681223738e-7,6.36155379006363e-8,2.58213176779288e-9,0,0,0,0,0,0,0,0,0,0,0,0,0,0,0,0,0,0,0,0,0,0,0,0,0,0,0,0,0,0,0,0,0,0,2.35099465302881e-9,6.38466750154004e-8,1.39098315665016e-7,8.73566215456885e-8,8.41801371970737e-8,8.14791349131164e-8,7.74243295283982e-8,7.3052536100575e-8,6.74788296759786e-8,6.76439276150958e-8,6.2796652122615e-8,5.95739403510474e-8,5.73748358020064e-8,5.74012514722652e-8,5.18803763881863e-8,5.11143219506825e-8,4.63925208919309e-8,4.52566470708046e-8,4.47811650061471e-8,4.74359398671515e-8,1.76588755679748e-8,0,0,0,0,0,0,0,0,0,0,0,0,0],\"fOption\":\"\",\"fFunctions\":{\"_typename\":\"TList\",\"name\":\"TList\",\"arr\":[],\"opt\":[]},\"fBufferSize\":0,\"fBuffer\":[],\"fBinStatErrOpt\":0,\"fStatOverflows\":2,\"fArray\":[0,0,0,0,0,0,0,0,0,0,0,0,0,0.006843401,0.01853346,0.01729738,0.01756207,0.01817369,0.01968987,0.02028093,0.02231622,0.02248069,0.02323878,0.0248372,0.0262763,0.026744,0.02844264,0.02959135,0.03120262,0.03297322,0.03391377,0.05358052,0.02475497,0.001004795,0,0,0,0,0,0,0,0,0,0,0,0,0,0,0,0,0,0,0,0,0,0,0,0,0,0,0,0,0,0,0,0,0,0,9.14852e-4,0.02484491,0.05412788,0.03399343,0.03275735,0.0317063,0.03012844,0.02842723,0.02625831,0.02632255,0.02443631,0.02318224,0.0223265,0.02233678,0.02018842,0.01989032,0.01805291,0.0176109,0.01742587,0.01845894,0.006871669,0,0,0,0,0,0,0,0,0,0,0,0,0]},{\"_typename\":\"TH1F\",\"fUniqueID\":0,\"fBits\":50332169,\"fName\":\"h_cl3d_DEF_all_nomatch_eta\",\"fTitle\":\"3D Cluster eta\",\"fLineColor\":2,\"fLineStyle\":1,\"fLineWidth\":1,\"fFillColor\":0,\"fFillStyle\":1001,\"fMarkerColor\":1,\"fMarkerStyle\":1,\"fMarkerSize\":1,\"fNcells\":102,\"fXaxis\":{\"_typename\":\"TAxis\",\"fUniqueID\":0,\"fBits\":50331648,\"fName\":\"xaxis\",\"fTitle\":\" #eta\",\"fNdivisions\":510,\"fAxisColor\":1,\"fLabelColor\":1,\"fLabelFont\":42,\"fLabelOffset\":0.005,\"fLabelSize\":0.035,\"fTickLength\":0.03,\"fTitleOffset\":1,\"fTitleSize\":0.035,\"fTitleColor\":1,\"fTitleFont\":42,\"fNbins\":100,\"fXmin\":-4,\"fXmax\":4,\"fXbins\":[],\"fFirst\":0,\"fLast\":0,\"fBits2\":0,\"fTimeDisplay\":false,\"fTimeFormat\":\"\",\"fLabels\":null,\"fModLabs\":null},\"fYaxis\":{\"_typename\":\"TAxis\",\"fUniqueID\":0,\"fBits\":50331656,\"fName\":\"yaxis\",\"fTitle\":\"\",\"fNdivisions\":510,\"fAxisColor\":1,\"fLabelColor\":1,\"fLabelFont\":42,\"fLabelOffset\":0.005,\"fLabelSize\":0.035,\"fTickLength\":0.03,\"fTitleOffset\":0,\"fTitleSize\":0.035,\"fTitleColor\":1,\"fTitleFont\":42,\"fNbins\":1,\"fXmin\":0,\"fXmax\":1,\"fXbins\":[],\"fFirst\":0,\"fLast\":0,\"fBits2\":0,\"fTimeDisplay\":false,\"fTimeFormat\":\"\",\"fLabels\":null,\"fModLabs\":null},\"fZaxis\":{\"_typename\":\"TAxis\",\"fUniqueID\":0,\"fBits\":50331648,\"fName\":\"zaxis\",\"fTitle\":\"\",\"fNdivisions\":510,\"fAxisColor\":1,\"fLabelColor\":1,\"fLabelFont\":42,\"fLabelOffset\":0.005,\"fLabelSize\":0.035,\"fTickLength\":0.03,\"fTitleOffset\":1,\"fTitleSize\":0.035,\"fTitleColor\":1,\"fTitleFont\":42,\"fNbins\":1,\"fXmin\":0,\"fXmax\":1,\"fXbins\":[],\"fFirst\":0,\"fLast\":0,\"fBits2\":0,\"fTimeDisplay\":false,\"fTimeFormat\":\"\",\"fLabels\":null,\"fModLabs\":null},\"fBarOffset\":0,\"fBarWidth\":1000,\"fEntries\":923192,\"fTsumw\":923192,\"fTsumw2\":923192,\"fTsumwx\":1864.84128820896,\"fTsumwx2\":4253684.95708309,\"fMaximum\":0.0649534597992897,\"fMinimum\":0,\"fNormFactor\":0,\"fContour\":[],\"fSumw2\":[0,0,0,0,0,0,0,0,0,0,0,0,0,6.50253137889308e-9,1.65707778174137e-8,1.77781226006835e-8,1.93632759555887e-8,2.10939208101299e-8,2.27565131890349e-8,2.4014310669759e-8,2.53812267752102e-8,2.58505541933909e-8,2.67023834573888e-8,2.72116037061148e-8,2.94561620835638e-8,2.96063468573816e-8,3.02868716137436e-8,3.17159736021037e-8,3.32847004973726e-8,3.40121579955526e-8,3.55175256893671e-8,3.94845156915391e-8,2.990084981229e-8,1.31634607614221e-8,1.698965253814e-9,0,0,0,0,0,0,0,0,0,0,0,0,0,0,0,0,0,0,0,0,0,0,0,0,0,0,0,0,0,0,0,0,1.62387286690509e-9,1.35870287563302e-8,2.98668235744719e-8,3.82337581220877e-8,3.49813191140957e-8,3.35721635410082e-8,3.34923778799175e-8,3.21665279235571e-8,3.05180153671976e-8,3.00428213562896e-8,2.9718985437745e-8,2.72162969802966e-8,2.64243069621167e-8,2.64677197482985e-8,2.53824000937557e-8,2.39708978835773e-8,2.27189669955804e-8,2.12159459388568e-8,1.94723945803157e-8,1.77018568952291e-8,1.67233092283224e-8,6.74775495489247e-9,0,0,0,0,0,0,0,0,0,0,0,0,0],\"fOption\":\"\",\"fFunctions\":{\"_typename\":\"TList\",\"name\":\"TList\",\"arr\":[],\"opt\":[]},\"fBufferSize\":0,\"fBuffer\":[],\"fBinStatErrOpt\":0,\"fStatOverflows\":2,\"fArray\":[0,0,0,0,0,0,0,0,0,0,0,0,0,0.006003085,0.01529801,0.01641262,0.01787602,0.01947374,0.02100863,0.02216982,0.02343175,0.02386503,0.02465143,0.02512153,0.02719369,0.02733234,0.0279606,0.02927993,0.03072817,0.03139975,0.03278949,0.03645179,0.02760423,0.0121524,0.001568471,0,0,0,0,0,0,0,0,0,0,0,0,0,0,0,0,0,0,0,0,0,0,0,0,0,0,0,0,0,0,0,0,0.001499146,0.01254344,0.02757281,0.0352971,0.03229447,0.03099355,0.03091989,0.02969588,0.02817399,0.02773529,0.02743633,0.02512587,0.02439471,0.02443479,0.02343283,0.02212974,0.02097397,0.01958639,0.01797676,0.01634221,0.01543882,0.006229473,0,0,0,0,0,0,0,0,0,0,0,0,0]},{\"_typename\":\"TLegend\",\"fUniqueID\":0,\"fBits\":50331656,\"fLineColor\":1,\"fLineStyle\":1,\"fLineWidth\":1,\"fFillColor\":0,\"fFillStyle\":0,\"fX1\":4.00000016731128,\"fY1\":0.0489259829814351,\"fX2\":7.50877214116513,\"fY2\":0.0607357029735103,\"fX1NDC\":0.7,\"fY1NDC\":0.71,\"fX2NDC\":0.95,\"fY2NDC\":0.85,\"fBorderSize\":0,\"fInit\":1,\"fShadowColor\":1,\"fCornerRadius\":0,\"fOption\":\"brNDC\",\"fName\":\"TPave\",\"fTextAngle\":0,\"fTextSize\":0.05,\"fTextAlign\":12,\"fTextColor\":1,\"fTextFont\":42,\"fPrimitives\":{\"_typename\":\"TList\",\"name\":\"TList\",\"arr\":[{\"_typename\":\"TLegendEntry\",\"fUniqueID\":0,\"fBits\":50331656,\"fTextAngle\":0,\"fTextSize\":0,\"fTextAlign\":0,\"fTextColor\":0,\"fTextFont\":42,\"fLineColor\":1,\"fLineStyle\":1,\"fLineWidth\":1,\"fFillColor\":0,\"fFillStyle\":0,\"fMarkerColor\":1,\"fMarkerStyle\":21,\"fMarkerSize\":1,\"fObject\":{\"_typename\":\"TH1F\",\"fUniqueID\":0,\"fBits\":50332168,\"fName\":\"h_cl3d_DEF_all_nomatch_eta\",\"fTitle\":\"3D Cluster eta\",\"fLineColor\":1,\"fLineStyle\":1,\"fLineWidth\":1,\"fFillColor\":0,\"fFillStyle\":1001,\"fMarkerColor\":1,\"fMarkerStyle\":1,\"fMarkerSize\":1,\"fNcells\":102,\"fXaxis\":{\"_typename\":\"TAxis\",\"fUniqueID\":0,\"fBits\":50331648,\"fName\":\"xaxis\",\"fTitle\":\" #eta\",\"fNdivisions\":510,\"fAxisColor\":1,\"fLabelColor\":1,\"fLabelFont\":42,\"fLabelOffset\":0.005,\"fLabelSize\":0.035,\"fTickLength\":0.03,\"fTitleOffset\":1,\"fTitleSize\":0.035,\"fTitleColor\":1,\"fTitleFont\":42,\"fNbins\":100,\"fXmin\":-4,\"fXmax\":4,\"fXbins\":[],\"fFirst\":0,\"fLast\":0,\"fBits2\":0,\"fTimeDisplay\":false,\"fTimeFormat\":\"\",\"fLabels\":null,\"fModLabs\":null},\"fYaxis\":{\"_typename\":\"TAxis\",\"fUniqueID\":0,\"fBits\":50331648,\"fName\":\"yaxis\",\"fTitle\":\"\",\"fNdivisions\":510,\"fAxisColor\":1,\"fLabelColor\":1,\"fLabelFont\":42,\"fLabelOffset\":0.005,\"fLabelSize\":0.035,\"fTickLength\":0.03,\"fTitleOffset\":0,\"fTitleSize\":0.035,\"fTitleColor\":1,\"fTitleFont\":42,\"fNbins\":1,\"fXmin\":0,\"fXmax\":1,\"fXbins\":[],\"fFirst\":0,\"fLast\":0,\"fBits2\":0,\"fTimeDisplay\":false,\"fTimeFormat\":\"\",\"fLabels\":null,\"fModLabs\":null},\"fZaxis\":{\"_typename\":\"TAxis\",\"fUniqueID\":0,\"fBits\":50331648,\"fName\":\"zaxis\",\"fTitle\":\"\",\"fNdivisions\":510,\"fAxisColor\":1,\"fLabelColor\":1,\"fLabelFont\":42,\"fLabelOffset\":0.005,\"fLabelSize\":0.035,\"fTickLength\":0.03,\"fTitleOffset\":1,\"fTitleSize\":0.035,\"fTitleColor\":1,\"fTitleFont\":42,\"fNbins\":1,\"fXmin\":0,\"fXmax\":1,\"fXbins\":[],\"fFirst\":0,\"fLast\":0,\"fBits2\":0,\"fTimeDisplay\":false,\"fTimeFormat\":\"\",\"fLabels\":null,\"fModLabs\":null},\"fBarOffset\":0,\"fBarWidth\":1000,\"fEntries\":389134,\"fTsumw\":389134,\"fTsumw2\":389134,\"fTsumwx\":261.658981561661,\"fTsumwx2\":1791804.88487373,\"fMaximum\":-1111,\"fMinimum\":-1111,\"fNormFactor\":0,\"fContour\":[],\"fSumw2\":[0,0,0,0,0,0,0,0,0,0,0,0,0,2663,7212,6731,6834,7072,7662,7892,8684,8748,9043,9665,10225,10407,11068,11515,12142,12831,13197,20850,9633,391,0,0,0,0,0,0,0,0,0,0,0,0,0,0,0,0,0,0,0,0,0,0,0,0,0,0,0,0,0,0,0,0,0,0,356,9668,21063,13228,12747,12338,11724,11062,10218,10243,9509,9021,8688,8692,7856,7740,7025,6853,6781,7183,2674,0,0,0,0,0,0,0,0,0,0,0,0,0],\"fOption\":\"\",\"fFunctions\":{\"_typename\":\"TList\",\"name\":\"TList\",\"arr\":[],\"opt\":[]},\"fBufferSize\":0,\"fBuffer\":[],\"fBinStatErrOpt\":0,\"fStatOverflows\":2,\"fArray\":[0,0,0,0,0,0,0,0,0,0,0,0,0,2663,7212,6731,6834,7072,7662,7892,8684,8748,9043,9665,10225,10407,11068,11515,12142,12831,13197,20850,9633,391,0,0,0,0,0,0,0,0,0,0,0,0,0,0,0,0,0,0,0,0,0,0,0,0,0,0,0,0,0,0,0,0,0,0,356,9668,21063,13228,12747,12338,11724,11062,10218,10243,9509,9021,8688,8692,7856,7740,7025,6853,6781,7183,2674,0,0,0,0,0,0,0,0,0,0,0,0,0]},\"fLabel\":\"V8\",\"fOption\":\"l\"},{\"_typename\":\"TLegendEntry\",\"fUniqueID\":0,\"fBits\":50331656,\"fTextAngle\":0,\"fTextSize\":0,\"fTextAlign\":0,\"fTextColor\":0,\"fTextFont\":42,\"fLineColor\":2,\"fLineStyle\":1,\"fLineWidth\":1,\"fFillColor\":0,\"fFillStyle\":0,\"fMarkerColor\":1,\"fMarkerStyle\":21,\"fMarkerSize\":1,\"fObject\":{\"_typename\":\"TH1F\",\"fUniqueID\":0,\"fBits\":50332168,\"fName\":\"h_cl3d_DEF_all_nomatch_eta\",\"fTitle\":\"3D Cluster eta\",\"fLineColor\":2,\"fLineStyle\":1,\"fLineWidth\":1,\"fFillColor\":0,\"fFillStyle\":1001,\"fMarkerColor\":1,\"fMarkerStyle\":1,\"fMarkerSize\":1,\"fNcells\":102,\"fXaxis\":{\"_typename\":\"TAxis\",\"fUniqueID\":0,\"fBits\":50331648,\"fName\":\"xaxis\",\"fTitle\":\" #eta\",\"fNdivisions\":510,\"fAxisColor\":1,\"fLabelColor\":1,\"fLabelFont\":42,\"fLabelOffset\":0.005,\"fLabelSize\":0.035,\"fTickLength\":0.03,\"fTitleOffset\":1,\"fTitleSize\":0.035,\"fTitleColor\":1,\"fTitleFont\":42,\"fNbins\":100,\"fXmin\":-4,\"fXmax\":4,\"fXbins\":[],\"fFirst\":0,\"fLast\":0,\"fBits2\":0,\"fTimeDisplay\":false,\"fTimeFormat\":\"\",\"fLabels\":null,\"fModLabs\":null},\"fYaxis\":{\"_typename\":\"TAxis\",\"fUniqueID\":0,\"fBits\":50331648,\"fName\":\"yaxis\",\"fTitle\":\"\",\"fNdivisions\":510,\"fAxisColor\":1,\"fLabelColor\":1,\"fLabelFont\":42,\"fLabelOffset\":0.005,\"fLabelSize\":0.035,\"fTickLength\":0.03,\"fTitleOffset\":0,\"fTitleSize\":0.035,\"fTitleColor\":1,\"fTitleFont\":42,\"fNbins\":1,\"fXmin\":0,\"fXmax\":1,\"fXbins\":[],\"fFirst\":0,\"fLast\":0,\"fBits2\":0,\"fTimeDisplay\":false,\"fTimeFormat\":\"\",\"fLabels\":null,\"fModLabs\":null},\"fZaxis\":{\"_typename\":\"TAxis\",\"fUniqueID\":0,\"fBits\":50331648,\"fName\":\"zaxis\",\"fTitle\":\"\",\"fNdivisions\":510,\"fAxisColor\":1,\"fLabelColor\":1,\"fLabelFont\":42,\"fLabelOffset\":0.005,\"fLabelSize\":0.035,\"fTickLength\":0.03,\"fTitleOffset\":1,\"fTitleSize\":0.035,\"fTitleColor\":1,\"fTitleFont\":42,\"fNbins\":1,\"fXmin\":0,\"fXmax\":1,\"fXbins\":[],\"fFirst\":0,\"fLast\":0,\"fBits2\":0,\"fTimeDisplay\":false,\"fTimeFormat\":\"\",\"fLabels\":null,\"fModLabs\":null},\"fBarOffset\":0,\"fBarWidth\":1000,\"fEntries\":923192,\"fTsumw\":923192,\"fTsumw2\":923192,\"fTsumwx\":1864.84128820896,\"fTsumwx2\":4253684.95708309,\"fMaximum\":-1111,\"fMinimum\":-1111,\"fNormFactor\":0,\"fContour\":[],\"fSumw2\":[0,0,0,0,0,0,0,0,0,0,0,0,0,5542,14123,15152,16503,17978,19395,20467,21632,22032,22758,23192,25105,25233,25813,27031,28368,28988,30271,33652,25484,11219,1448,0,0,0,0,0,0,0,0,0,0,0,0,0,0,0,0,0,0,0,0,0,0,0,0,0,0,0,0,0,0,0,0,1384,11580,25455,32586,29814,28613,28545,27415,26010,25605,25329,23196,22521,22558,21633,20430,19363,18082,16596,15087,14253,5751,0,0,0,0,0,0,0,0,0,0,0,0,0],\"fOption\":\"\",\"fFunctions\":{\"_typename\":\"TList\",\"name\":\"TList\",\"arr\":[],\"opt\":[]},\"fBufferSize\":0,\"fBuffer\":[],\"fBinStatErrOpt\":0,\"fStatOverflows\":2,\"fArray\":[0,0,0,0,0,0,0,0,0,0,0,0,0,5542,14123,15152,16503,17978,19395,20467,21632,22032,22758,23192,25105,25233,25813,27031,28368,28988,30271,33652,25484,11219,1448,0,0,0,0,0,0,0,0,0,0,0,0,0,0,0,0,0,0,0,0,0,0,0,0,0,0,0,0,0,0,0,0,1384,11580,25455,32586,29814,28613,28545,27415,26010,25605,25329,23196,22521,22558,21633,20430,19363,18082,16596,15087,14253,5751,0,0,0,0,0,0,0,0,0,0,0,0,0]},\"fLabel\":\"V9\",\"fOption\":\"l\"}],\"opt\":[\"l\",\"l\"]},\"fEntrySeparation\":0.1,\"fMargin\":0.25,\"fNColumns\":1,\"fColumnSeparation\":0},{\"_typename\":\"TLatex\",\"fUniqueID\":0,\"fBits\":50348040,\"fName\":\"\",\"fTitle\":\"PU0, NNDR\",\"fTextAngle\":0,\"fTextSize\":0.03,\"fTextAlign\":11,\"fTextColor\":1,\"fTextFont\":62,\"fX\":0.15,\"fY\":0.85,\"fLineColor\":1,\"fLineStyle\":1,\"fLineWidth\":2,\"fLimitFactorSize\":3,\"fOriginSize\":0.04}],\"opt\":[\"\",\"\",\"SAME,\",\"\",\"same\"]},\"fExecs\":null,\"fName\":\"c_984d7e\",\"fTitle\":\"c_984d7e\",\"fNumPaletteColor\":0,\"fNextPaletteColor\":0,\"fDISPLAY\":\"$DISPLAY\",\"fDoubleBuffer\":0,\"fRetained\":true,\"fXsizeUser\":0,\"fYsizeUser\":0,\"fXsizeReal\":20,\"fYsizeReal\":15,\"fWindowTopX\":0,\"fWindowTopY\":0,\"fWindowWidth\":0,\"fWindowHeight\":0,\"fCw\":796,\"fCh\":572,\"fCatt\":{\"_typename\":\"TAttCanvas\",\"fXBetween\":2,\"fYBetween\":2,\"fTitleFromTop\":1.2,\"fXdate\":0.2,\"fYdate\":0.3,\"fAdate\":1},\"kMoveOpaque\":true,\"kResizeOpaque\":true,\"fHighLightColor\":2,\"fBatch\":true,\"kShowEventStatus\":false,\"kAutoExec\":true,\"kMenuBar\":true});\n",
       "       Core.draw(\"root_plot_9\", obj, \"\");\n",
       "     }\n",
       " );\n",
       "</script>\n"
      ],
      "text/plain": [
       "<IPython.core.display.HTML object>"
      ]
     },
     "metadata": {},
     "output_type": "display_data"
    },
    {
     "data": {
      "text/html": [
       "\n",
       "<div id=\"root_plot_10\"\n",
       "     style=\"width: 796px; height: 572px\">\n",
       "</div>\n",
       "\n",
       "<script>\n",
       " requirejs.config({\n",
       "     paths: {\n",
       "       'JSRootCore' : 'https://root.cern.ch/js/notebook//scripts/JSRootCore',\n",
       "     }\n",
       "   });\n",
       " require(['JSRootCore'],\n",
       "     function(Core) {\n",
       "       var obj = Core.JSONR_unref({\"_typename\":\"TCanvas\",\"fUniqueID\":0,\"fBits\":53673992,\"fLineColor\":1,\"fLineStyle\":1,\"fLineWidth\":1,\"fFillColor\":0,\"fFillStyle\":1001,\"fLeftMargin\":0.13,\"fRightMargin\":0.3,\"fBottomMargin\":0.13,\"fTopMargin\":0.1,\"fXfile\":2,\"fYfile\":2,\"fAfile\":1,\"fXstat\":0.99,\"fYstat\":0.99,\"fAstat\":2,\"fFrameFillColor\":0,\"fFrameLineColor\":1,\"fFrameFillStyle\":1001,\"fFrameLineStyle\":1,\"fFrameLineWidth\":1,\"fFrameBorderSize\":1,\"fFrameBorderMode\":0,\"fX1\":-5.82456135947949,\"fY1\":-0.0153541782953382,\"fX2\":8.2105265359359,\"fY2\":0.102754887207227,\"fXtoAbsPixelk\":330.340043357658,\"fXtoPixelk\":330.340043357658,\"fXtoPixel\":56.7149992883205,\"fYtoAbsPixelk\":497.640051065433,\"fYtoPixelk\":497.640051065433,\"fYtoPixel\":-4842.98133734346,\"fUtoAbsPixelk\":5e-5,\"fUtoPixelk\":5e-5,\"fUtoPixel\":796,\"fVtoAbsPixelk\":572.00005,\"fVtoPixelk\":572,\"fVtoPixel\":-572,\"fAbsPixeltoXk\":-5.82456135947949,\"fPixeltoXk\":-5.82456135947949,\"fPixeltoX\":0.0176320199691148,\"fAbsPixeltoYk\":0.102754887207227,\"fPixeltoYk\":-0.0153541782953382,\"fPixeltoY\":-2.0648438024924e-4,\"fXlowNDC\":0,\"fYlowNDC\":0,\"fXUpNDC\":0,\"fYUpNDC\":0,\"fWNDC\":1,\"fHNDC\":1,\"fAbsXlowNDC\":0,\"fAbsYlowNDC\":0,\"fAbsWNDC\":1,\"fAbsHNDC\":1,\"fUxmin\":-4,\"fUymin\":0,\"fUxmax\":4,\"fUymax\":0.09094398021698,\"fTheta\":30,\"fPhi\":30,\"fAspectRatio\":0,\"fNumber\":0,\"fTickx\":0,\"fTicky\":0,\"fLogx\":0,\"fLogy\":1,\"fLogz\":0,\"fPadPaint\":0,\"fCrosshair\":0,\"fCrosshairPos\":0,\"fBorderSize\":2,\"fBorderMode\":0,\"fModified\":false,\"fGridx\":false,\"fGridy\":false,\"fAbsCoord\":false,\"fEditable\":true,\"fFixedAspectRatio\":false,\"fPrimitives\":{\"_typename\":\"TList\",\"name\":\"TList\",\"arr\":[{\"_typename\":\"TFrame\",\"fUniqueID\":0,\"fBits\":50331656,\"fLineColor\":1,\"fLineStyle\":1,\"fLineWidth\":1,\"fFillColor\":0,\"fFillStyle\":1001,\"fX1\":-4,\"fY1\":0,\"fX2\":4,\"fY2\":0.09094398021698,\"fBorderSize\":1,\"fBorderMode\":0},{\"_typename\":\"TH1F\",\"fUniqueID\":0,\"fBits\":50332169,\"fName\":\"h_cl3d_DEF_Em_nomatch_eta\",\"fTitle\":\"3D Cluster eta\",\"fLineColor\":1,\"fLineStyle\":1,\"fLineWidth\":1,\"fFillColor\":0,\"fFillStyle\":1001,\"fMarkerColor\":1,\"fMarkerStyle\":1,\"fMarkerSize\":1,\"fNcells\":102,\"fXaxis\":{\"_typename\":\"TAxis\",\"fUniqueID\":0,\"fBits\":50331648,\"fName\":\"xaxis\",\"fTitle\":\" #eta\",\"fNdivisions\":510,\"fAxisColor\":1,\"fLabelColor\":1,\"fLabelFont\":42,\"fLabelOffset\":0.005,\"fLabelSize\":0.035,\"fTickLength\":0.03,\"fTitleOffset\":1,\"fTitleSize\":0.035,\"fTitleColor\":1,\"fTitleFont\":42,\"fNbins\":100,\"fXmin\":-4,\"fXmax\":4,\"fXbins\":[],\"fFirst\":0,\"fLast\":0,\"fBits2\":0,\"fTimeDisplay\":false,\"fTimeFormat\":\"\",\"fLabels\":null,\"fModLabs\":null},\"fYaxis\":{\"_typename\":\"TAxis\",\"fUniqueID\":0,\"fBits\":50331656,\"fName\":\"yaxis\",\"fTitle\":\"\",\"fNdivisions\":510,\"fAxisColor\":1,\"fLabelColor\":1,\"fLabelFont\":42,\"fLabelOffset\":0.005,\"fLabelSize\":0.035,\"fTickLength\":0.03,\"fTitleOffset\":0,\"fTitleSize\":0.035,\"fTitleColor\":1,\"fTitleFont\":42,\"fNbins\":1,\"fXmin\":0,\"fXmax\":1,\"fXbins\":[],\"fFirst\":0,\"fLast\":0,\"fBits2\":0,\"fTimeDisplay\":false,\"fTimeFormat\":\"\",\"fLabels\":null,\"fModLabs\":null},\"fZaxis\":{\"_typename\":\"TAxis\",\"fUniqueID\":0,\"fBits\":50331648,\"fName\":\"zaxis\",\"fTitle\":\"\",\"fNdivisions\":510,\"fAxisColor\":1,\"fLabelColor\":1,\"fLabelFont\":42,\"fLabelOffset\":0.005,\"fLabelSize\":0.035,\"fTickLength\":0.03,\"fTitleOffset\":1,\"fTitleSize\":0.035,\"fTitleColor\":1,\"fTitleFont\":42,\"fNbins\":1,\"fXmin\":0,\"fXmax\":1,\"fXbins\":[],\"fFirst\":0,\"fLast\":0,\"fBits2\":0,\"fTimeDisplay\":false,\"fTimeFormat\":\"\",\"fLabels\":null,\"fModLabs\":null},\"fBarOffset\":0,\"fBarWidth\":1000,\"fEntries\":236500,\"fTsumw\":236500,\"fTsumw2\":236500,\"fTsumwx\":-1013.51310026646,\"fTsumwx2\":1178834.48786142,\"fMaximum\":0.09094398021698,\"fMinimum\":0,\"fNormFactor\":0,\"fContour\":[],\"fSumw2\":[0,0,0,0,0,0,0,0,0,0,0,0,0,1.39096853782925e-8,1.03929307331638e-7,1.02373854082394e-7,1.03303550277344e-7,1.04984154937447e-7,1.09435969409419e-7,1.07075971376084e-7,1.10455059469269e-7,1.08148697754873e-7,1.08077182662954e-7,1.10919907566744e-7,1.10687483518006e-7,1.14012935292251e-7,1.16730508785182e-7,1.17642326207152e-7,1.16998690379879e-7,1.23184745830894e-7,1.21182323257155e-7,1.0375051960184e-7,1.04912639845527e-7,6.99060023510586e-9,0,0,0,0,0,0,0,0,0,0,0,0,0,0,0,0,0,0,0,0,0,0,0,0,0,0,0,0,0,0,0,0,0,0,6.3648431808125e-9,1.03321429050324e-7,1.0276718708795e-7,1.21772322765489e-7,1.21772322765489e-7,1.17409902158415e-7,1.17409902158415e-7,1.15121419216999e-7,1.1217142167533e-7,1.12618390999826e-7,1.09185666587702e-7,1.08309606711691e-7,1.07165365240983e-7,1.10705362290986e-7,1.07040213830125e-7,1.10240514193511e-7,1.04787488434669e-7,1.02105672487697e-7,1.03589610645021e-7,1.0180173334704e-7,1.39633216972319e-8,0,0,0,0,0,0,0,0,0,0,0,0,0],\"fOption\":\"\",\"fFunctions\":{\"_typename\":\"TList\",\"name\":\"TList\",\"arr\":[],\"opt\":[]},\"fBufferSize\":0,\"fBuffer\":[],\"fBinStatErrOpt\":0,\"fStatOverflows\":2,\"fArray\":[0,0,0,0,0,0,0,0,0,0,0,0,0,0.003289641,0.02457928,0.02421142,0.02443129,0.02482875,0.02588161,0.02532347,0.02612262,0.02557717,0.02556025,0.02623256,0.02617759,0.02696406,0.02760676,0.02782241,0.02767019,0.02913319,0.02865962,0.024537,0.02481184,0.001653277,0,0,0,0,0,0,0,0,0,0,0,0,0,0,0,0,0,0,0,0,0,0,0,0,0,0,0,0,0,0,0,0,0,0,0.001505285,0.02443552,0.02430444,0.02879915,0.02879915,0.02776744,0.02776744,0.02722622,0.02652854,0.02663425,0.02582241,0.02561522,0.02534461,0.02618182,0.02531501,0.02607188,0.02478224,0.02414799,0.02449894,0.02407611,0.003302325,0,0,0,0,0,0,0,0,0,0,0,0,0]},{\"_typename\":\"TH1F\",\"fUniqueID\":0,\"fBits\":50332169,\"fName\":\"h_cl3d_DEF_Em_nomatch_eta\",\"fTitle\":\"3D Cluster eta\",\"fLineColor\":2,\"fLineStyle\":1,\"fLineWidth\":1,\"fFillColor\":0,\"fFillStyle\":1001,\"fMarkerColor\":1,\"fMarkerStyle\":1,\"fMarkerSize\":1,\"fNcells\":102,\"fXaxis\":{\"_typename\":\"TAxis\",\"fUniqueID\":0,\"fBits\":50331648,\"fName\":\"xaxis\",\"fTitle\":\" #eta\",\"fNdivisions\":510,\"fAxisColor\":1,\"fLabelColor\":1,\"fLabelFont\":42,\"fLabelOffset\":0.005,\"fLabelSize\":0.035,\"fTickLength\":0.03,\"fTitleOffset\":1,\"fTitleSize\":0.035,\"fTitleColor\":1,\"fTitleFont\":42,\"fNbins\":100,\"fXmin\":-4,\"fXmax\":4,\"fXbins\":[],\"fFirst\":0,\"fLast\":0,\"fBits2\":0,\"fTimeDisplay\":false,\"fTimeFormat\":\"\",\"fLabels\":null,\"fModLabs\":null},\"fYaxis\":{\"_typename\":\"TAxis\",\"fUniqueID\":0,\"fBits\":50331656,\"fName\":\"yaxis\",\"fTitle\":\"\",\"fNdivisions\":510,\"fAxisColor\":1,\"fLabelColor\":1,\"fLabelFont\":42,\"fLabelOffset\":0.005,\"fLabelSize\":0.035,\"fTickLength\":0.03,\"fTitleOffset\":0,\"fTitleSize\":0.035,\"fTitleColor\":1,\"fTitleFont\":42,\"fNbins\":1,\"fXmin\":0,\"fXmax\":1,\"fXbins\":[],\"fFirst\":0,\"fLast\":0,\"fBits2\":0,\"fTimeDisplay\":false,\"fTimeFormat\":\"\",\"fLabels\":null,\"fModLabs\":null},\"fZaxis\":{\"_typename\":\"TAxis\",\"fUniqueID\":0,\"fBits\":50331648,\"fName\":\"zaxis\",\"fTitle\":\"\",\"fNdivisions\":510,\"fAxisColor\":1,\"fLabelColor\":1,\"fLabelFont\":42,\"fLabelOffset\":0.005,\"fLabelSize\":0.035,\"fTickLength\":0.03,\"fTitleOffset\":1,\"fTitleSize\":0.035,\"fTitleColor\":1,\"fTitleFont\":42,\"fNbins\":1,\"fXmin\":0,\"fXmax\":1,\"fXbins\":[],\"fFirst\":0,\"fLast\":0,\"fBits2\":0,\"fTimeDisplay\":false,\"fTimeFormat\":\"\",\"fLabels\":null,\"fModLabs\":null},\"fBarOffset\":0,\"fBarWidth\":1000,\"fEntries\":237654,\"fTsumw\":237654,\"fTsumw2\":237654,\"fTsumwx\":1832.40797054768,\"fTsumwx2\":1016855.39061971,\"fMaximum\":0.09094398021698,\"fMinimum\":0,\"fNormFactor\":0,\"fContour\":[],\"fSumw2\":[0,0,0,0,0,0,0,0,0,0,0,0,0,1.78117964704907e-8,5.84106526403071e-8,5.62151628169067e-8,5.25147001306914e-8,8.65093812672145e-8,9.54683961917357e-8,9.32729063683352e-8,9.11305332342106e-8,9.12013554865783e-8,9.54506906286437e-8,9.31312618635997e-8,9.14669389329574e-8,9.11128276711186e-8,9.15731723115091e-8,9.09357720401993e-8,9.10774165449348e-8,9.26886227863012e-8,9.1006594292567e-8,8.33754965999413e-8,3.16008890064929e-7,1.98638712328465e-7,2.56376553571278e-8,0,0,0,0,0,0,0,0,0,0,0,0,0,0,0,0,0,0,0,0,0,0,0,0,0,0,0,0,0,0,0,0,2.45044993192437e-8,2.05030420604655e-7,3.18894896848915e-7,8.16757625431151e-8,9.20158113888075e-8,9.26532116601173e-8,9.46716458525984e-8,9.21928670197269e-8,9.05108385259927e-8,9.35384898147143e-8,9.3910306639645e-8,9.3910306639645e-8,9.34676675623465e-8,9.63713799094246e-8,9.35739009408982e-8,9.20158113888075e-8,9.56808629488389e-8,8.35348466677687e-8,5.26563446354269e-8,5.55069402932291e-8,5.8446063766491e-8,1.83960800525247e-8,0,0,0,0,0,0,0,0,0,0,0,0,0],\"fOption\":\"\",\"fFunctions\":{\"_typename\":\"TList\",\"name\":\"TList\",\"arr\":[],\"opt\":[]},\"fBufferSize\":0,\"fBuffer\":[],\"fBinStatErrOpt\":0,\"fStatOverflows\":2,\"fArray\":[0,0,0,0,0,0,0,0,0,0,0,0,0,0.004233045,0.01388153,0.01335976,0.01248033,0.0205593,0.02268845,0.02216668,0.02165754,0.02167437,0.02268424,0.02213302,0.02173748,0.02165333,0.02176273,0.02161125,0.02164491,0.02202782,0.02162808,0.01981452,0.07510078,0.04720728,0.006092892,0,0,0,0,0,0,0,0,0,0,0,0,0,0,0,0,0,0,0,0,0,0,0,0,0,0,0,0,0,0,0,0,0.005823592,0.0487263,0.07578665,0.01941057,0.02186793,0.02201941,0.0224991,0.02191,0.02151026,0.0222298,0.02231816,0.02231816,0.02221297,0.02290304,0.02223821,0.02186793,0.02273894,0.01985239,0.01251399,0.01319145,0.01388994,0.004371902,0,0,0,0,0,0,0,0,0,0,0,0,0]},{\"_typename\":\"TLegend\",\"fUniqueID\":0,\"fBits\":50331656,\"fLineColor\":1,\"fLineStyle\":1,\"fLineWidth\":1,\"fFillColor\":0,\"fFillStyle\":0,\"fX1\":4.00000016731128,\"fY1\":0.0685032582114831,\"fX2\":7.50877214116513,\"fY2\":0.0850385273818423,\"fX1NDC\":0.7,\"fY1NDC\":0.71,\"fX2NDC\":0.95,\"fY2NDC\":0.85,\"fBorderSize\":0,\"fInit\":1,\"fShadowColor\":1,\"fCornerRadius\":0,\"fOption\":\"brNDC\",\"fName\":\"TPave\",\"fTextAngle\":0,\"fTextSize\":0.05,\"fTextAlign\":12,\"fTextColor\":1,\"fTextFont\":42,\"fPrimitives\":{\"_typename\":\"TList\",\"name\":\"TList\",\"arr\":[{\"_typename\":\"TLegendEntry\",\"fUniqueID\":0,\"fBits\":50331656,\"fTextAngle\":0,\"fTextSize\":0,\"fTextAlign\":0,\"fTextColor\":0,\"fTextFont\":42,\"fLineColor\":1,\"fLineStyle\":1,\"fLineWidth\":1,\"fFillColor\":0,\"fFillStyle\":0,\"fMarkerColor\":1,\"fMarkerStyle\":21,\"fMarkerSize\":1,\"fObject\":{\"_typename\":\"TH1F\",\"fUniqueID\":0,\"fBits\":50332168,\"fName\":\"h_cl3d_DEF_Em_nomatch_eta\",\"fTitle\":\"3D Cluster eta\",\"fLineColor\":1,\"fLineStyle\":1,\"fLineWidth\":1,\"fFillColor\":0,\"fFillStyle\":1001,\"fMarkerColor\":1,\"fMarkerStyle\":1,\"fMarkerSize\":1,\"fNcells\":102,\"fXaxis\":{\"_typename\":\"TAxis\",\"fUniqueID\":0,\"fBits\":50331648,\"fName\":\"xaxis\",\"fTitle\":\" #eta\",\"fNdivisions\":510,\"fAxisColor\":1,\"fLabelColor\":1,\"fLabelFont\":42,\"fLabelOffset\":0.005,\"fLabelSize\":0.035,\"fTickLength\":0.03,\"fTitleOffset\":1,\"fTitleSize\":0.035,\"fTitleColor\":1,\"fTitleFont\":42,\"fNbins\":100,\"fXmin\":-4,\"fXmax\":4,\"fXbins\":[],\"fFirst\":0,\"fLast\":0,\"fBits2\":0,\"fTimeDisplay\":false,\"fTimeFormat\":\"\",\"fLabels\":null,\"fModLabs\":null},\"fYaxis\":{\"_typename\":\"TAxis\",\"fUniqueID\":0,\"fBits\":50331648,\"fName\":\"yaxis\",\"fTitle\":\"\",\"fNdivisions\":510,\"fAxisColor\":1,\"fLabelColor\":1,\"fLabelFont\":42,\"fLabelOffset\":0.005,\"fLabelSize\":0.035,\"fTickLength\":0.03,\"fTitleOffset\":0,\"fTitleSize\":0.035,\"fTitleColor\":1,\"fTitleFont\":42,\"fNbins\":1,\"fXmin\":0,\"fXmax\":1,\"fXbins\":[],\"fFirst\":0,\"fLast\":0,\"fBits2\":0,\"fTimeDisplay\":false,\"fTimeFormat\":\"\",\"fLabels\":null,\"fModLabs\":null},\"fZaxis\":{\"_typename\":\"TAxis\",\"fUniqueID\":0,\"fBits\":50331648,\"fName\":\"zaxis\",\"fTitle\":\"\",\"fNdivisions\":510,\"fAxisColor\":1,\"fLabelColor\":1,\"fLabelFont\":42,\"fLabelOffset\":0.005,\"fLabelSize\":0.035,\"fTickLength\":0.03,\"fTitleOffset\":1,\"fTitleSize\":0.035,\"fTitleColor\":1,\"fTitleFont\":42,\"fNbins\":1,\"fXmin\":0,\"fXmax\":1,\"fXbins\":[],\"fFirst\":0,\"fLast\":0,\"fBits2\":0,\"fTimeDisplay\":false,\"fTimeFormat\":\"\",\"fLabels\":null,\"fModLabs\":null},\"fBarOffset\":0,\"fBarWidth\":1000,\"fEntries\":236500,\"fTsumw\":236500,\"fTsumw2\":236500,\"fTsumwx\":-1013.51310026646,\"fTsumwx2\":1178834.48786142,\"fMaximum\":-1111,\"fMinimum\":-1111,\"fNormFactor\":0,\"fContour\":[],\"fSumw2\":[0,0,0,0,0,0,0,0,0,0,0,0,0,778,5813,5726,5778,5872,6121,5989,6178,6049,6045,6204,6191,6377,6529,6580,6544,6890,6778,5803,5868,391,0,0,0,0,0,0,0,0,0,0,0,0,0,0,0,0,0,0,0,0,0,0,0,0,0,0,0,0,0,0,0,0,0,0,356,5779,5748,6811,6811,6567,6567,6439,6274,6299,6107,6058,5994,6192,5987,6166,5861,5711,5794,5694,781,0,0,0,0,0,0,0,0,0,0,0,0,0],\"fOption\":\"\",\"fFunctions\":{\"_typename\":\"TList\",\"name\":\"TList\",\"arr\":[],\"opt\":[]},\"fBufferSize\":0,\"fBuffer\":[],\"fBinStatErrOpt\":0,\"fStatOverflows\":2,\"fArray\":[0,0,0,0,0,0,0,0,0,0,0,0,0,778,5813,5726,5778,5872,6121,5989,6178,6049,6045,6204,6191,6377,6529,6580,6544,6890,6778,5803,5868,391,0,0,0,0,0,0,0,0,0,0,0,0,0,0,0,0,0,0,0,0,0,0,0,0,0,0,0,0,0,0,0,0,0,0,356,5779,5748,6811,6811,6567,6567,6439,6274,6299,6107,6058,5994,6192,5987,6166,5861,5711,5794,5694,781,0,0,0,0,0,0,0,0,0,0,0,0,0]},\"fLabel\":\"V8\",\"fOption\":\"l\"},{\"_typename\":\"TLegendEntry\",\"fUniqueID\":0,\"fBits\":50331656,\"fTextAngle\":0,\"fTextSize\":0,\"fTextAlign\":0,\"fTextColor\":0,\"fTextFont\":42,\"fLineColor\":2,\"fLineStyle\":1,\"fLineWidth\":1,\"fFillColor\":0,\"fFillStyle\":0,\"fMarkerColor\":1,\"fMarkerStyle\":21,\"fMarkerSize\":1,\"fObject\":{\"_typename\":\"TH1F\",\"fUniqueID\":0,\"fBits\":50332168,\"fName\":\"h_cl3d_DEF_Em_nomatch_eta\",\"fTitle\":\"3D Cluster eta\",\"fLineColor\":2,\"fLineStyle\":1,\"fLineWidth\":1,\"fFillColor\":0,\"fFillStyle\":1001,\"fMarkerColor\":1,\"fMarkerStyle\":1,\"fMarkerSize\":1,\"fNcells\":102,\"fXaxis\":{\"_typename\":\"TAxis\",\"fUniqueID\":0,\"fBits\":50331648,\"fName\":\"xaxis\",\"fTitle\":\" #eta\",\"fNdivisions\":510,\"fAxisColor\":1,\"fLabelColor\":1,\"fLabelFont\":42,\"fLabelOffset\":0.005,\"fLabelSize\":0.035,\"fTickLength\":0.03,\"fTitleOffset\":1,\"fTitleSize\":0.035,\"fTitleColor\":1,\"fTitleFont\":42,\"fNbins\":100,\"fXmin\":-4,\"fXmax\":4,\"fXbins\":[],\"fFirst\":0,\"fLast\":0,\"fBits2\":0,\"fTimeDisplay\":false,\"fTimeFormat\":\"\",\"fLabels\":null,\"fModLabs\":null},\"fYaxis\":{\"_typename\":\"TAxis\",\"fUniqueID\":0,\"fBits\":50331648,\"fName\":\"yaxis\",\"fTitle\":\"\",\"fNdivisions\":510,\"fAxisColor\":1,\"fLabelColor\":1,\"fLabelFont\":42,\"fLabelOffset\":0.005,\"fLabelSize\":0.035,\"fTickLength\":0.03,\"fTitleOffset\":0,\"fTitleSize\":0.035,\"fTitleColor\":1,\"fTitleFont\":42,\"fNbins\":1,\"fXmin\":0,\"fXmax\":1,\"fXbins\":[],\"fFirst\":0,\"fLast\":0,\"fBits2\":0,\"fTimeDisplay\":false,\"fTimeFormat\":\"\",\"fLabels\":null,\"fModLabs\":null},\"fZaxis\":{\"_typename\":\"TAxis\",\"fUniqueID\":0,\"fBits\":50331648,\"fName\":\"zaxis\",\"fTitle\":\"\",\"fNdivisions\":510,\"fAxisColor\":1,\"fLabelColor\":1,\"fLabelFont\":42,\"fLabelOffset\":0.005,\"fLabelSize\":0.035,\"fTickLength\":0.03,\"fTitleOffset\":1,\"fTitleSize\":0.035,\"fTitleColor\":1,\"fTitleFont\":42,\"fNbins\":1,\"fXmin\":0,\"fXmax\":1,\"fXbins\":[],\"fFirst\":0,\"fLast\":0,\"fBits2\":0,\"fTimeDisplay\":false,\"fTimeFormat\":\"\",\"fLabels\":null,\"fModLabs\":null},\"fBarOffset\":0,\"fBarWidth\":1000,\"fEntries\":237654,\"fTsumw\":237654,\"fTsumw2\":237654,\"fTsumwx\":1832.40797054768,\"fTsumwx2\":1016855.39061971,\"fMaximum\":-1111,\"fMinimum\":-1111,\"fNormFactor\":0,\"fContour\":[],\"fSumw2\":[0,0,0,0,0,0,0,0,0,0,0,0,0,1006,3299,3175,2966,4886,5392,5268,5147,5151,5391,5260,5166,5146,5172,5136,5144,5235,5140,4709,17848,11219,1448,0,0,0,0,0,0,0,0,0,0,0,0,0,0,0,0,0,0,0,0,0,0,0,0,0,0,0,0,0,0,0,0,1384,11580,18011,4613,5197,5233,5347,5207,5112,5283,5304,5304,5279,5443,5285,5197,5404,4718,2974,3135,3301,1039,0,0,0,0,0,0,0,0,0,0,0,0,0],\"fOption\":\"\",\"fFunctions\":{\"_typename\":\"TList\",\"name\":\"TList\",\"arr\":[],\"opt\":[]},\"fBufferSize\":0,\"fBuffer\":[],\"fBinStatErrOpt\":0,\"fStatOverflows\":2,\"fArray\":[0,0,0,0,0,0,0,0,0,0,0,0,0,1006,3299,3175,2966,4886,5392,5268,5147,5151,5391,5260,5166,5146,5172,5136,5144,5235,5140,4709,17848,11219,1448,0,0,0,0,0,0,0,0,0,0,0,0,0,0,0,0,0,0,0,0,0,0,0,0,0,0,0,0,0,0,0,0,1384,11580,18011,4613,5197,5233,5347,5207,5112,5283,5304,5304,5279,5443,5285,5197,5404,4718,2974,3135,3301,1039,0,0,0,0,0,0,0,0,0,0,0,0,0]},\"fLabel\":\"V9\",\"fOption\":\"l\"}],\"opt\":[\"l\",\"l\"]},\"fEntrySeparation\":0.1,\"fMargin\":0.25,\"fNColumns\":1,\"fColumnSeparation\":0},{\"_typename\":\"TLatex\",\"fUniqueID\":0,\"fBits\":50348040,\"fName\":\"\",\"fTitle\":\"PU0, NNDR, EGId\",\"fTextAngle\":0,\"fTextSize\":0.03,\"fTextAlign\":11,\"fTextColor\":1,\"fTextFont\":62,\"fX\":0.15,\"fY\":0.85,\"fLineColor\":1,\"fLineStyle\":1,\"fLineWidth\":2,\"fLimitFactorSize\":3,\"fOriginSize\":0.04}],\"opt\":[\"\",\"\",\"SAME,\",\"\",\"same\"]},\"fExecs\":null,\"fName\":\"c_4ac959\",\"fTitle\":\"c_4ac959\",\"fNumPaletteColor\":0,\"fNextPaletteColor\":0,\"fDISPLAY\":\"$DISPLAY\",\"fDoubleBuffer\":0,\"fRetained\":true,\"fXsizeUser\":0,\"fYsizeUser\":0,\"fXsizeReal\":20,\"fYsizeReal\":15,\"fWindowTopX\":0,\"fWindowTopY\":0,\"fWindowWidth\":0,\"fWindowHeight\":0,\"fCw\":796,\"fCh\":572,\"fCatt\":{\"_typename\":\"TAttCanvas\",\"fXBetween\":2,\"fYBetween\":2,\"fTitleFromTop\":1.2,\"fXdate\":0.2,\"fYdate\":0.3,\"fAdate\":1},\"kMoveOpaque\":true,\"kResizeOpaque\":true,\"fHighLightColor\":2,\"fBatch\":true,\"kShowEventStatus\":false,\"kAutoExec\":true,\"kMenuBar\":true});\n",
       "       Core.draw(\"root_plot_10\", obj, \"\");\n",
       "     }\n",
       " );\n",
       "</script>\n"
      ],
      "text/plain": [
       "<IPython.core.display.HTML object>"
      ]
     },
     "metadata": {},
     "output_type": "display_data"
    }
   ],
   "source": [
    "for tp in tps:\n",
    "    for tp_sel in tp_select:\n",
    "        hsets, labels, text = hplot.get_histo(histos.HistoSetClusters, sample_type, pus, tp, tp_sel, ['nomatch'])            \n",
    "#         print hsets\n",
    "        draw([his.hcl3d.h_eta for his in hsets], labels, norm=True, text=text, logy=True)\n"
   ]
  },
  {
   "cell_type": "code",
   "execution_count": 27,
   "metadata": {
    "scrolled": false
   },
   "outputs": [
    {
     "ename": "AttributeError",
     "evalue": "Cluster3DHistos instance has no attribute 'h_bdt'",
     "output_type": "error",
     "traceback": [
      "\u001b[0;31m\u001b[0m",
      "\u001b[0;31mAttributeError\u001b[0mTraceback (most recent call last)",
      "\u001b[0;32m<ipython-input-27-1eacd1987e73>\u001b[0m in \u001b[0;36m<module>\u001b[0;34m()\u001b[0m\n\u001b[1;32m      3\u001b[0m         \u001b[0mhsets\u001b[0m\u001b[0;34m,\u001b[0m \u001b[0mlabels\u001b[0m\u001b[0;34m,\u001b[0m \u001b[0mtext\u001b[0m \u001b[0;34m=\u001b[0m \u001b[0mhplot\u001b[0m\u001b[0;34m.\u001b[0m\u001b[0mget_histo\u001b[0m\u001b[0;34m(\u001b[0m\u001b[0mhistos\u001b[0m\u001b[0;34m.\u001b[0m\u001b[0mHistoSetClusters\u001b[0m\u001b[0;34m,\u001b[0m \u001b[0msample_type\u001b[0m\u001b[0;34m,\u001b[0m \u001b[0mpus\u001b[0m\u001b[0;34m,\u001b[0m \u001b[0mtp\u001b[0m\u001b[0;34m,\u001b[0m \u001b[0mtp_sel\u001b[0m\u001b[0;34m,\u001b[0m \u001b[0;34m[\u001b[0m\u001b[0;34m'nomatch'\u001b[0m\u001b[0;34m]\u001b[0m\u001b[0;34m)\u001b[0m\u001b[0;34m\u001b[0m\u001b[0m\n\u001b[1;32m      4\u001b[0m \u001b[0;31m#         print hsets\u001b[0m\u001b[0;34m\u001b[0m\u001b[0;34m\u001b[0m\u001b[0m\n\u001b[0;32m----> 5\u001b[0;31m         \u001b[0mdraw\u001b[0m\u001b[0;34m(\u001b[0m\u001b[0;34m[\u001b[0m\u001b[0mhis\u001b[0m\u001b[0;34m.\u001b[0m\u001b[0mhcl3d\u001b[0m\u001b[0;34m.\u001b[0m\u001b[0mh_bdt\u001b[0m \u001b[0;32mfor\u001b[0m \u001b[0mhis\u001b[0m \u001b[0;32min\u001b[0m \u001b[0mhsets\u001b[0m\u001b[0;34m]\u001b[0m\u001b[0;34m,\u001b[0m \u001b[0mlabels\u001b[0m\u001b[0;34m,\u001b[0m \u001b[0mnorm\u001b[0m\u001b[0;34m=\u001b[0m\u001b[0mTrue\u001b[0m\u001b[0;34m,\u001b[0m \u001b[0mtext\u001b[0m\u001b[0;34m=\u001b[0m\u001b[0mtext\u001b[0m\u001b[0;34m,\u001b[0m \u001b[0mlogy\u001b[0m\u001b[0;34m=\u001b[0m\u001b[0mTrue\u001b[0m\u001b[0;34m)\u001b[0m\u001b[0;34m\u001b[0m\u001b[0m\n\u001b[0m",
      "\u001b[0;31mAttributeError\u001b[0m: Cluster3DHistos instance has no attribute 'h_bdt'"
     ]
    }
   ],
   "source": [
    "for tp in tps:\n",
    "    for tp_sel in tp_select:\n",
    "        hsets, labels, text = hplot.get_histo(histos.HistoSetClusters, sample_type, pus, tp, tp_sel, ['nomatch'])            \n",
    "#         print hsets\n",
    "        draw([his.hcl3d.h_bdt for his in hsets], labels, norm=True, text=text, logy=True)\n"
   ]
  },
  {
   "cell_type": "code",
   "execution_count": 14,
   "metadata": {},
   "outputs": [
    {
     "ename": "NameError",
     "evalue": "name 'tpset_labels' is not defined",
     "output_type": "error",
     "traceback": [
      "\u001b[0;31m\u001b[0m",
      "\u001b[0;31mNameError\u001b[0mTraceback (most recent call last)",
      "\u001b[0;32m<ipython-input-14-5afd3543b7d1>\u001b[0m in \u001b[0;36m<module>\u001b[0;34m()\u001b[0m\n\u001b[1;32m     18\u001b[0m         \u001b[0mhisto_hcl2d_df\u001b[0m\u001b[0;34m.\u001b[0m\u001b[0mloc\u001b[0m\u001b[0;34m[\u001b[0m\u001b[0mtp_set\u001b[0m\u001b[0;34m]\u001b[0m\u001b[0;34m[\u001b[0m\u001b[0mparticle\u001b[0m\u001b[0;34m]\u001b[0m \u001b[0;34m=\u001b[0m  \u001b[0;34m[\u001b[0m\u001b[0mhistos\u001b[0m\u001b[0;34m.\u001b[0m\u001b[0mHistoSetClusters\u001b[0m\u001b[0;34m(\u001b[0m\u001b[0;34m'{}_{}'\u001b[0m\u001b[0;34m.\u001b[0m\u001b[0mformat\u001b[0m\u001b[0;34m(\u001b[0m\u001b[0mtp_set\u001b[0m\u001b[0;34m,\u001b[0m \u001b[0mparticle\u001b[0m\u001b[0;34m)\u001b[0m\u001b[0;34m,\u001b[0m \u001b[0msample\u001b[0m\u001b[0;34m.\u001b[0m\u001b[0mhisto_file\u001b[0m\u001b[0;34m)\u001b[0m\u001b[0;34m.\u001b[0m\u001b[0mhcl2d\u001b[0m \u001b[0;32mfor\u001b[0m \u001b[0msample\u001b[0m \u001b[0;32min\u001b[0m \u001b[0msamples\u001b[0m\u001b[0;34m]\u001b[0m\u001b[0;34m\u001b[0m\u001b[0m\n\u001b[1;32m     19\u001b[0m         \u001b[0mhisto_htc_df\u001b[0m\u001b[0;34m.\u001b[0m\u001b[0mloc\u001b[0m\u001b[0;34m[\u001b[0m\u001b[0mtp_set\u001b[0m\u001b[0;34m]\u001b[0m\u001b[0;34m[\u001b[0m\u001b[0mparticle\u001b[0m\u001b[0;34m]\u001b[0m \u001b[0;34m=\u001b[0m  \u001b[0;34m[\u001b[0m\u001b[0mhistos\u001b[0m\u001b[0;34m.\u001b[0m\u001b[0mHistoSetClusters\u001b[0m\u001b[0;34m(\u001b[0m\u001b[0;34m'{}_{}'\u001b[0m\u001b[0;34m.\u001b[0m\u001b[0mformat\u001b[0m\u001b[0;34m(\u001b[0m\u001b[0mtp_set\u001b[0m\u001b[0;34m,\u001b[0m \u001b[0mparticle\u001b[0m\u001b[0;34m)\u001b[0m\u001b[0;34m,\u001b[0m \u001b[0msample\u001b[0m\u001b[0;34m.\u001b[0m\u001b[0mhisto_file\u001b[0m\u001b[0;34m)\u001b[0m\u001b[0;34m.\u001b[0m\u001b[0mhtc\u001b[0m \u001b[0;32mfor\u001b[0m \u001b[0msample\u001b[0m \u001b[0;32min\u001b[0m \u001b[0msamples\u001b[0m\u001b[0;34m]\u001b[0m\u001b[0;34m\u001b[0m\u001b[0m\n\u001b[0;32m---> 20\u001b[0;31m         \u001b[0mtitles_df\u001b[0m\u001b[0;34m.\u001b[0m\u001b[0mloc\u001b[0m\u001b[0;34m[\u001b[0m\u001b[0mtp_set\u001b[0m\u001b[0;34m,\u001b[0m \u001b[0mparticle\u001b[0m\u001b[0;34m]\u001b[0m \u001b[0;34m=\u001b[0m \u001b[0;34m'{}, {}'\u001b[0m\u001b[0;34m.\u001b[0m\u001b[0mformat\u001b[0m\u001b[0;34m(\u001b[0m\u001b[0mtpset_labels\u001b[0m\u001b[0;34m[\u001b[0m\u001b[0mtp_set\u001b[0m\u001b[0;34m]\u001b[0m\u001b[0;34m,\u001b[0m \u001b[0mparticle_labels\u001b[0m\u001b[0;34m[\u001b[0m\u001b[0mparticle\u001b[0m\u001b[0;34m]\u001b[0m\u001b[0;34m)\u001b[0m\u001b[0;34m\u001b[0m\u001b[0m\n\u001b[0m\u001b[1;32m     21\u001b[0m \u001b[0;34m\u001b[0m\u001b[0m\n\u001b[1;32m     22\u001b[0m \u001b[0;34m\u001b[0m\u001b[0m\n",
      "\u001b[0;31mNameError\u001b[0m: name 'tpset_labels' is not defined"
     ]
    }
   ],
   "source": [
    "\n",
    "samples = samples_ele\n",
    "tp_sets = ['DEF', 'DEF_em']\n",
    "particles = ['nomatch']\n",
    "labels = [sample.label for sample in samples]\n",
    "\n",
    "histo_hGenDen_df = pd.DataFrame(index=tp_sets, columns=particles)\n",
    "histo_hcl3d_df = pd.DataFrame(index=tp_sets, columns=particles)\n",
    "histo_hcl2d_df = pd.DataFrame(index=tp_sets, columns=particles)\n",
    "histo_htc_df = pd.DataFrame(index=tp_sets, columns=particles)\n",
    "titles_df = pd.DataFrame(index=tp_sets, columns=particles)\n",
    "\n",
    "\n",
    "for tp_set in tp_sets:\n",
    "    for particle in particles:\n",
    "        histo_hGenDen_df.loc[tp_set][particle] =  [histos.HistoSetEff('{}_{}'.format(tp_set, particle), sample.histo_file).h_den for sample in samples]\n",
    "        histo_hcl3d_df.loc[tp_set][particle] =  [histos.HistoSetClusters('{}_{}'.format(tp_set, particle), sample.histo_file).hcl3d for sample in samples]\n",
    "        histo_hcl2d_df.loc[tp_set][particle] =  [histos.HistoSetClusters('{}_{}'.format(tp_set, particle), sample.histo_file).hcl2d for sample in samples]\n",
    "        histo_htc_df.loc[tp_set][particle] =  [histos.HistoSetClusters('{}_{}'.format(tp_set, particle), sample.histo_file).htc for sample in samples]\n",
    "        titles_df.loc[tp_set, particle] = '{}, {}'.format(tpset_labels[tp_set], particle_labels[particle])\n",
    "\n",
    "\n",
    "        \n",
    "        \n",
    "histo_hGenDen_df    \n",
    "histo_hcl3d_df\n",
    "histo_hcl2d_df\n",
    "histo_htc_df\n"
   ]
  },
  {
   "cell_type": "code",
   "execution_count": null,
   "metadata": {},
   "outputs": [],
   "source": [
    "dir(histo_hcl3d_df.loc['DEF', 'ele'][0])\n",
    "dir(histo_hcl2d_df.loc['DEF', 'ele'][0])\n",
    "dir(histo_htc_df.loc['DEF', 'ele'][0])"
   ]
  },
  {
   "cell_type": "markdown",
   "metadata": {},
   "source": [
    "### Gen level particle distribution"
   ]
  },
  {
   "cell_type": "code",
   "execution_count": null,
   "metadata": {},
   "outputs": [],
   "source": [
    "tp_set = 'DEF'\n",
    "particle = 'nomatch'\n",
    "\n",
    "h_eta = [histo.h_eta for histo in histo_hGenDen_df.loc[tp_set, particle]]\n",
    "drawSame(h_eta, labels, text=titles_df.loc[tp_set, particle])\n",
    "h_pt = [histo.h_pt for histo in histo_hGenDen_df.loc[tp_set, particle]]\n",
    "drawSame(h_pt, labels, text=titles_df.loc[tp_set, particle])\n",
    "h_reachedEE = [histo.h_reachedEE for histo in histo_hGenDen_df.loc[tp_set, particle]]\n",
    "drawSame(h_reachedEE, labels, text=titles_df.loc[tp_set, particle])\n"
   ]
  },
  {
   "cell_type": "markdown",
   "metadata": {},
   "source": [
    "#### 3D clusters matched to GEN"
   ]
  },
  {
   "cell_type": "code",
   "execution_count": null,
   "metadata": {
    "scrolled": false
   },
   "outputs": [],
   "source": [
    "\n",
    "for particle in particles:\n",
    "    for tp_set in tp_sets:\n",
    "        hByTPset = [histo.h_pt for histo in histo_hcl3d_df.loc[tp_set, particle]]\n",
    "        drawSame(hByTPset, labels, text=titles_df.loc[tp_set, particle], norm=True)\n"
   ]
  },
  {
   "cell_type": "code",
   "execution_count": null,
   "metadata": {
    "scrolled": false
   },
   "outputs": [],
   "source": [
    "\n",
    "for particle in ['nomatch']:\n",
    "    for tp_set in tp_sets:\n",
    "        hByTPset = [histo.h_eta for histo in histo_hcl3d_df.loc[tp_set, particle]]\n",
    "        drawSame(hByTPset, labels, text=titles_df.loc[tp_set, particle])"
   ]
  },
  {
   "cell_type": "markdown",
   "metadata": {},
   "source": [
    "3D cluster # of 2D components"
   ]
  },
  {
   "cell_type": "code",
   "execution_count": null,
   "metadata": {
    "scrolled": false
   },
   "outputs": [],
   "source": [
    "\n",
    "for particle in particles:\n",
    "    for tp_set in ['DEF', 'DEF_em']:\n",
    "        hByTPset = [histo.h_nclu for histo in histo_hcl3d_df.loc[tp_set, particle]]\n",
    "        drawSame(hByTPset, labels, text=titles_df.loc[tp_set, particle])\n"
   ]
  },
  {
   "cell_type": "code",
   "execution_count": null,
   "metadata": {
    "scrolled": false
   },
   "outputs": [],
   "source": [
    "\n",
    "for particle in particles:\n",
    "    for tp_set in ['DEF', 'DEF_em']:\n",
    "        hByTPset = [histo.h_ncluVpt for histo in histo_hcl3d_df.loc[tp_set, particle]]\n",
    "        drawSeveral(hByTPset, labels, options='COLZ', do_profile=True, text=titles_df.loc[tp_set, particle])\n"
   ]
  },
  {
   "cell_type": "code",
   "execution_count": null,
   "metadata": {
    "scrolled": false
   },
   "outputs": [],
   "source": [
    "\n",
    "for particle in particles:\n",
    "    for tp_set in ['DEF']:\n",
    "        hByTPset = [histo.h_iso0p2 for histo in histo_hcl3d_df.loc[tp_set, particle]]\n",
    "        drawSame(hByTPset, labels, text=titles_df.loc[tp_set, particle], logy=True)\n"
   ]
  },
  {
   "cell_type": "code",
   "execution_count": null,
   "metadata": {
    "scrolled": false
   },
   "outputs": [],
   "source": [
    "\n",
    "for particle in particles:\n",
    "    for tp_set in ['DEF']:\n",
    "        hByTPset = [histo.h_isoRel0p2 for histo in histo_hcl3d_df.loc[tp_set, particle]]\n",
    "        drawSame(hByTPset, labels, text=titles_df.loc[tp_set, particle], logy=True)\n",
    "\n",
    "particle = 'ele'\n",
    "tp_set = 'DEF'\n",
    "hByTPset = [histo.h_isoRel0p2 for histo in histo_hcl3d_df.loc[tp_set, particle]]\n",
    "draw(hByTPset[1])"
   ]
  },
  {
   "cell_type": "markdown",
   "metadata": {},
   "source": [
    "#### 2D cluster components of matched 3D clusters"
   ]
  },
  {
   "cell_type": "code",
   "execution_count": null,
   "metadata": {},
   "outputs": [],
   "source": [
    "histo_hcl2d_df"
   ]
  },
  {
   "cell_type": "markdown",
   "metadata": {},
   "source": [
    "distribution of the counts of 2D cluster per layer "
   ]
  },
  {
   "cell_type": "code",
   "execution_count": null,
   "metadata": {
    "scrolled": false
   },
   "outputs": [],
   "source": [
    "for particle in particles:\n",
    "    for tp_set in tp_sets:\n",
    "        hByTPset = [histo.h_layer for histo in histo_hcl2d_df.loc[tp_set, particle]]\n",
    "        drawSame(hByTPset, labels, norm=True, text=titles_df.loc[tp_set, particle])\n",
    "#         drawSeveral(hByTPset, labels, options='COLZ', do_profile=True)\n"
   ]
  },
  {
   "cell_type": "markdown",
   "metadata": {},
   "source": [
    "Number of TCs composing the 2D cluster"
   ]
  },
  {
   "cell_type": "code",
   "execution_count": null,
   "metadata": {
    "scrolled": false
   },
   "outputs": [],
   "source": [
    "for particle in particles:\n",
    "    for tp_set in tp_sets:\n",
    "        hByTPset = [histo.h_ncells for histo in histo_hcl2d_df.loc[tp_set, particle]]\n",
    "        drawSame(hByTPset, labels, norm=True, text=titles_df.loc[tp_set, particle])\n",
    "#         drawSeveral(hByTPset, labels, options='COLZ', do_profile=True)\n"
   ]
  },
  {
   "cell_type": "code",
   "execution_count": null,
   "metadata": {
    "scrolled": false
   },
   "outputs": [],
   "source": [
    "for particle in particles:\n",
    "    for tp_set in tp_sets:\n",
    "        hByTPset = [histo.h_energy for histo in histo_hcl2d_df.loc[tp_set, particle]]\n",
    "        drawSame(hByTPset, labels, norm=True, text=titles_df.loc[tp_set, particle])\n",
    "#         drawSeveral(hByTPset, labels, options='COLZ', do_profile=True)"
   ]
  },
  {
   "cell_type": "markdown",
   "metadata": {},
   "source": [
    "*NOTE*: we can conclude that at high PU the 3D clusters have more clusters in the first layers and the size (in terms of constituents and hence collected energy) of the 2D clusters grows\n",
    "\n",
    "In the following we try to breakdown this behavior by layer\n"
   ]
  },
  {
   "cell_type": "markdown",
   "metadata": {},
   "source": [
    "Distribution of the # of TC in the 2D cluster components vs layer"
   ]
  },
  {
   "cell_type": "code",
   "execution_count": null,
   "metadata": {
    "scrolled": false
   },
   "outputs": [],
   "source": [
    "for particle in particles:\n",
    "    for tp_set in tp_sets:\n",
    "        hByTPset = [histo.h_layerVncells for histo in histo_hcl2d_df.loc[tp_set, particle]]\n",
    "#        drawSame(hByTPset, labels, norm=True)\n",
    "        drawSeveral(hByTPset, labels, options='COLZ', do_profile=True, text=titles_df.loc[tp_set, particle])\n",
    "        hByTPset = [histo.h_layerVncells.ProfileX(uuid.uuid4().hex[:6]) for histo in histo_hcl2d_df.loc[tp_set, particle]]\n",
    "        drawSame(hByTPset, labels, text=titles_df.loc[tp_set, particle])"
   ]
  },
  {
   "cell_type": "code",
   "execution_count": null,
   "metadata": {
    "scrolled": false
   },
   "outputs": [],
   "source": [
    "for particle in particles:\n",
    "    for tp_set in tp_sets:\n",
    "        hByTPset = [histo.h_layerVenergy for histo in histo_hcl2d_df.loc[tp_set, particle]]\n",
    "#        drawSame(hByTPset, labels, norm=True)\n",
    "        drawSeveral(hByTPset, labels, options='COLZ', do_profile=True)\n",
    "        hByTPset = [histo.h_layerVenergy.ProfileX(uuid.uuid4().hex[:6]) for histo in histo_hcl2d_df.loc[tp_set, particle]]\n",
    "        drawSame(hByTPset, labels, text=titles_df.loc[tp_set, particle])"
   ]
  },
  {
   "cell_type": "markdown",
   "metadata": {},
   "source": [
    "#### TCs components of Matched 3D clusters"
   ]
  },
  {
   "cell_type": "code",
   "execution_count": null,
   "metadata": {},
   "outputs": [],
   "source": [
    "histo_htc_df"
   ]
  },
  {
   "cell_type": "markdown",
   "metadata": {},
   "source": [
    "*WARNING*: looking inclusively at the energy of TCs is very misleading since PU TCs are mostly at high-eta one might conclude that they are more energetic....while they ahave the same pT"
   ]
  },
  {
   "cell_type": "code",
   "execution_count": null,
   "metadata": {
    "scrolled": false
   },
   "outputs": [],
   "source": [
    "for particle in particles:\n",
    "    for tp_set in tp_sets:\n",
    "        hByTPset = [histo.h_energy for histo in histo_htc_df.loc[tp_set, particle]]\n",
    "        drawSame(hByTPset, labels, norm=True, text=titles_df.loc[tp_set, particle])\n"
   ]
  },
  {
   "cell_type": "code",
   "execution_count": null,
   "metadata": {
    "scrolled": false
   },
   "outputs": [],
   "source": [
    "for particle in particles:\n",
    "    for tp_set in tp_sets:\n",
    "        hByTPset = [histo.h_mipPt for histo in histo_htc_df.loc[tp_set, particle]]\n",
    "        drawSame(hByTPset, labels, norm=True, text=titles_df.loc[tp_set, particle])"
   ]
  },
  {
   "cell_type": "code",
   "execution_count": null,
   "metadata": {
    "scrolled": false
   },
   "outputs": [],
   "source": [
    "for particle in particles:\n",
    "    for tp_set in tp_sets:\n",
    "        hByTPset = [histo.h_layer for histo in histo_htc_df.loc[tp_set, particle]]\n",
    "        drawSame(hByTPset, labels, norm=True, text=titles_df.loc[tp_set, particle])"
   ]
  },
  {
   "cell_type": "code",
   "execution_count": null,
   "metadata": {},
   "outputs": [],
   "source": []
  }
 ],
 "metadata": {
  "kernelspec": {
   "display_name": "HGCTPGPerformance",
   "language": "python",
   "name": "hgctpgperformance"
  },
  "language_info": {
   "codemirror_mode": {
    "name": "ipython",
    "version": 2
   },
   "file_extension": ".py",
   "mimetype": "text/x-python",
   "name": "python",
   "nbconvert_exporter": "python",
   "pygments_lexer": "ipython2",
   "version": "2.7.15"
  },
  "toc": {
   "base_numbering": 1,
   "nav_menu": {},
   "number_sections": true,
   "sideBar": true,
   "skip_h1_title": false,
   "title_cell": "Table of Contents",
   "title_sidebar": "Contents",
   "toc_cell": false,
   "toc_position": {
    "height": "calc(100% - 180px)",
    "left": "10px",
    "top": "150px",
    "width": "221.8px"
   },
   "toc_section_display": true,
   "toc_window_display": true
  }
 },
 "nbformat": 4,
 "nbformat_minor": 2
}
