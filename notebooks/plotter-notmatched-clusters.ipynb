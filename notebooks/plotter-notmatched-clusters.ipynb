{
 "cells": [
  {
   "cell_type": "markdown",
   "metadata": {},
   "source": [
    "# Single Particle performance plots\n",
    "\n",
    "\n",
    "   * [GEN Level plots](#Gen-level)\n",
    "   * [All clusters without selection](#All-clusters-without-selection)\n",
    "      * [2D clusters per layer](#2D-clusters-per-layer)\n",
    "      * [2D cluster energy](#2D-cluster-energy)\n",
    "      * [2D cluster: # of TriggerCells](#2D-cluster:-#-of-TriggerCells)\n",
    "      * [# of 3D clusters](##-of-3D-clusters)\n",
    "   * [Cluster matched to GEN particles](#Cluster-matched-to-GEN-particles)\n",
    "      * [2D clusters per layer](#2D-clusters-per-layer)\n",
    "      * [2D clusters: # of Trigger Cells](#2D-clusters:-#-of-Trigger-Cells)\n",
    "      * [2D Cluster Energy](#2D-Cluster-Energy)\n",
    "      * [3D clusters: # of 2D components](#3D-clusters:-#-of-2D-components)\n",
    "      * [3D cluster energy](#3D-cluster-energy)\n",
    "   * [Resolution studies](#Resolution-Studies)\n",
    "      * [3D cluster: pt resolution](#3D-cluster:-Pt-resolution)\n",
    "      * [2D position resolution](#Postion-resolution-of-2D-clusters)\n",
    "   * [Trigger Tower performance](#Trigger-Tower-plots)\n",
    "      * [Towers matched to GEN](#Towers-matched-to-GEN-particles)\n",
    "      * [Resolution studies](#Trigger-Tower-resolution)\n",
    "\n"
   ]
  },
  {
   "cell_type": "code",
   "execution_count": 1,
   "metadata": {},
   "outputs": [
    {
     "name": "stdout",
     "output_type": "stream",
     "text": [
      "Welcome to JupyROOT 6.14/02\n"
     ]
    }
   ],
   "source": [
    "import sys\n",
    "sys.path.insert(0, '..')\n",
    "import ROOT\n",
    "import root_numpy as rnp\n",
    "import l1THistos as histos\n",
    "import math\n",
    "import uuid\n",
    "import pandas as pd\n",
    "\n",
    "ROOT.enableJSVis()\n",
    "#ROOT.enableJSVis()\n",
    "\n",
    "#from drawingTools import *\n",
    "\n",
    "normalized_histos = list()\n",
    "    "
   ]
  },
  {
   "cell_type": "code",
   "execution_count": 4,
   "metadata": {},
   "outputs": [],
   "source": [
    "# %load ../drawingTools\n",
    "import ROOT\n",
    "import math\n",
    "import uuid\n",
    "\n",
    "# some useful globals, mainly to deal with ROOT idiosyncrasies\n",
    "c_idx = 0\n",
    "p_idx = 0\n",
    "colors = range(1, 6)\n",
    "stuff = []\n",
    "f_idx = 0\n",
    "\n",
    "ROOT.gStyle.SetPadBottomMargin(0.13)\n",
    "ROOT.gStyle.SetPadLeftMargin(0.13)\n",
    "ROOT.gStyle.SetPadRightMargin(0.30)\n",
    "\n",
    "ROOT.gStyle.SetCanvasBorderMode(0)\n",
    "ROOT.gStyle.SetCanvasColor(0)\n",
    "ROOT.gStyle.SetCanvasDefH(600)\n",
    "ROOT.gStyle.SetCanvasDefW(800)\n",
    "\n",
    "# define some utility functions\n",
    "def newCanvas(name=None, title=None, xdiv=0, ydiv=0, form=4):\n",
    "    global c_idx\n",
    "    if name is None:\n",
    "        name = 'c_{}'.format(uuid.uuid4().hex[:6])\n",
    "        c_idx += 1\n",
    "    if title is None:\n",
    "        title = name\n",
    "    # print name, title\n",
    "    canvas = ROOT.TCanvas(name, title)\n",
    "    if(xdiv*ydiv != 0):\n",
    "        canvas.Divide(xdiv, ydiv)\n",
    "    global stuff\n",
    "    stuff.append(canvas)\n",
    "    return canvas\n",
    "\n",
    "\n",
    "def draw(plot, options='', text=None):\n",
    "    c = newCanvas()\n",
    "    c.cd()\n",
    "    plot.Draw(options)\n",
    "    if text:\n",
    "        rtext = getText(text, 0.15, 0.85)\n",
    "        rtext.Draw('same')\n",
    "\n",
    "    c.Draw()\n",
    "\n",
    "    return\n",
    "\n",
    "\n",
    "def getLegend(x1=0.7, y1=0.71, x2=0.95, y2=0.85):\n",
    "    global stuff\n",
    "    legend = ROOT.TLegend(x1, y1, x2, y2)\n",
    "    stuff.append(legend)\n",
    "    legend.SetFillColor(0)\n",
    "    legend.SetFillStyle(0)\n",
    "    legend.SetBorderSize(0)\n",
    "    legend.SetTextSize(0.05)\n",
    "    return legend\n",
    "\n",
    "\n",
    "def drawAndProfileX(plot2d, miny=None, maxy=None, do_profile=True, options='', text=None):\n",
    "    global p_idx\n",
    "    if miny and maxy:\n",
    "        plot2d.GetYaxis().SetRangeUser(miny, maxy)\n",
    "    c = newCanvas()\n",
    "    c.SetGrid(1, 1)\n",
    "    c.cd()\n",
    "    plot2d.Draw(options)\n",
    "    ROOT.gPad.SetGrid(1, 1)\n",
    "    ROOT.gStyle.SetGridColor(15)\n",
    "\n",
    "    if do_profile:\n",
    "        profname = plot2d.GetName()+'_prof_'+str(p_idx)\n",
    "        p_idx += 1\n",
    "        firstbin = 1\n",
    "        lastbin = -1\n",
    "        prof = plot2d.ProfileX(profname, firstbin, lastbin, 's')\n",
    "        prof.SetMarkerColor(2)\n",
    "        prof.SetLineColor(2)\n",
    "        prof.Draw('same')\n",
    "\n",
    "    if text:\n",
    "        rtext = getText(text, 0.15, 0.85)\n",
    "        rtext.Draw('same')\n",
    "\n",
    "    c.Draw()\n",
    "\n",
    "\n",
    "class Sample():\n",
    "    def __init__(cls, name, label, version=None):\n",
    "        cls.name = name\n",
    "        cls.label = label\n",
    "        if version:\n",
    "            version = '_'+version\n",
    "        else:\n",
    "            version = ''\n",
    "        cls.histo_filename = '../plots1/histos_{}{}.root'.format(cls.name, version)\n",
    "        cls.histo_file = ROOT.TFile(cls.histo_filename)\n",
    "\n",
    "\n",
    "def getText(text, ndc_x, ndc_y):\n",
    "    global stuff\n",
    "    rtext = ROOT.TLatex(ndc_x, ndc_y, text)\n",
    "    stuff.append(rtext)\n",
    "    rtext.SetNDC(True)\n",
    "    # rtext.SetTextFont(40)\n",
    "    rtext.SetTextSize(0.03)\n",
    "    return rtext\n",
    "\n",
    "\n",
    "def drawSame(histograms,\n",
    "             labels,\n",
    "             options='',\n",
    "             norm=False,\n",
    "             logy=False,\n",
    "             min_y=None,\n",
    "             max_y=None,\n",
    "             text=None,\n",
    "             y_axis_label=None,\n",
    "             x_axis_label=None):\n",
    "    global colors\n",
    "    c = newCanvas(title=histograms[0].GetName())\n",
    "    c.cd()\n",
    "    leg = getLegend()\n",
    "\n",
    "    max_value = max_y\n",
    "    min_value = min_y\n",
    "    if min_y is None:\n",
    "        min_value = min([hist.GetBinContent(hist.GetMinimumBin()) for hist in histograms])\n",
    "    if max_y is None:\n",
    "        max_value = max([hist.GetBinContent(hist.GetMaximumBin()) for hist in histograms])*1.2\n",
    "\n",
    "    for hidx, hist in enumerate(histograms):\n",
    "        hist.SetLineColor(colors[hidx])\n",
    "        hist.SetStats(False)\n",
    "        if norm:\n",
    "            hist.DrawNormalized('same'+','+options, 1.)\n",
    "        else:\n",
    "            if hidx:\n",
    "                hist.Draw('same'+','+options)\n",
    "            else:\n",
    "                hist.Draw(options)\n",
    "        leg.AddEntry(histograms[hidx], labels[hidx], 'l')\n",
    "\n",
    "    histograms[0].GetYaxis().SetRangeUser(min_value, max_value)\n",
    "    if y_axis_label:\n",
    "        histograms[0].GetYaxis().SetTitle(y_axis_label)\n",
    "    if x_axis_label:\n",
    "            histograms[0].GetXaxis().SetTitle(x_axis_label)\n",
    "\n",
    "    leg.Draw()\n",
    "    c.Draw()\n",
    "    if text:\n",
    "        rtext = getText(text, 0.15, 0.85)\n",
    "        rtext.Draw(\"same\")\n",
    "    if logy:\n",
    "        c.SetLogy()\n",
    "    c.Update()\n",
    "\n",
    "\n",
    "def drawProfileX(histograms, labels, options=''):\n",
    "    profiles = [hist.ProfileX() for hist in histograms]\n",
    "    drawSame(profiles, labels, options)\n",
    "\n",
    "\n",
    "def drawSeveral(histograms, labels, options='', do_profile=False, miny=None, maxy=None, text=None):\n",
    "    ydiv = int(math.ceil(float(len(histograms))/2))\n",
    "    for hidx in range(0, len(histograms)):\n",
    "        newtext = labels[hidx]\n",
    "        if text:\n",
    "            newtext = '{}: {}'.format(labels[hidx], text)\n",
    "        if do_profile:\n",
    "            drawAndProfileX(histograms[hidx], miny=miny, maxy=maxy, options=options, do_profile=do_profile, text=newtext)\n",
    "        else:\n",
    "            draw(histograms[hidx], options=options, text=newtext)\n",
    "\n",
    "\n",
    "def drawProfileRatio(prof1, prof2, ymin=None, ymax=None, text=None):\n",
    "    hist1 = prof1.ProjectionX(uuid.uuid4().hex[:6])\n",
    "    hist2 = prof2.ProjectionX(uuid.uuid4().hex[:6])\n",
    "    hist1.Divide(hist2)\n",
    "    draw(hist1)\n",
    "    if text:\n",
    "        rtext = getText(text, 0.15, 0.85)\n",
    "        rtext.Draw(\"same\")\n",
    "\n",
    "    if ymin is not None and ymax is not None:\n",
    "        hist1.GetYaxis().SetRangeUser(ymin, ymax)\n",
    "    ROOT.gPad.Update()\n",
    "\n",
    "\n",
    "# mean+-nsigmas*RMS.\n",
    "def drawGaussFit(histo, nsigmas, min, max):\n",
    "    minfit = histo.GetMean() - nsigmas*histo.GetRMS()\n",
    "    maxfit = histo.GetMean() + nsigmas*histo.GetRMS()\n",
    "    drawGFit(histo, min, max, minfit, maxfit)\n",
    "\n",
    "\n",
    "# Fit a histogram in the range (minfit, maxfit) with a gaussian and\n",
    "# draw it in the range (min, max)\n",
    "def drawGFit(histo, min, max, minfit, maxfit):\n",
    "    # static int i = 0\n",
    "    # i++\n",
    "    # gPad->SetGrid(1,1);\n",
    "    # gStyle->SetGridColor(15);\n",
    "    histo.GetXaxis().SetRangeUser(min,max)\n",
    "    global f_idx\n",
    "    nameF1 = \"g{}\".format(f_idx)\n",
    "    f_idx +=1\n",
    "    g1 = ROOT.TF1(nameF1,\"gaus\",minfit,maxfit)\n",
    "    g1.SetLineColor(2)\n",
    "    g1.SetLineWidth(2)\n",
    "    histo.Fit(g1,\"R\")\n",
    "\n",
    "\n",
    "def drawGraphsSame(histograms, labels, options='', norm=False, logy=False, min_y=None, max_y=None, text=None):\n",
    "    global colors\n",
    "    c = newCanvas()\n",
    "    c.cd()\n",
    "    leg = getLegend()\n",
    "\n",
    "    for hidx in range(0, len(histograms)):\n",
    "        histograms[hidx].SetLineColor(colors[hidx])\n",
    "        histograms[hidx].Draw('same'+','+options)\n",
    "        leg.AddEntry(histograms[hidx], labels[hidx], 'l')\n",
    "\n",
    "    max_value = max_y\n",
    "    min_value = min_y\n",
    "    if min_y is None:\n",
    "        min_value = min([hist.GetBinContent(hist.GetMinimumBin()) for hist in histograms])\n",
    "    if max_y is None:\n",
    "        max_value = max([hist.GetBinContent(hist.GetMaximumBin()) for hist in histograms])*1.2\n",
    "    histograms[0].GetYaxis().SetRangeUser(min_value, max_value)\n",
    "    leg.Draw()\n",
    "    c.Draw()\n",
    "    if logy:\n",
    "        c.SetLogy()\n",
    "    if text:\n",
    "        rtext = getText(text, 0.15, 0.85)\n",
    "        rtext.Draw(\"same\")\n",
    "    c.Update()\n"
   ]
  },
  {
   "cell_type": "code",
   "execution_count": 6,
   "metadata": {},
   "outputs": [
    {
     "name": "stderr",
     "output_type": "stream",
     "text": [
      "Error in <TFile::TFile>: file ../plots1/histos_photonPt35_PU0_v38b.root does not exist\n",
      "Error in <TFile::TFile>: file ../plots1/histos_photonPt35_PU200_v38b.root does not exist\n",
      "Error in <TFile::TFile>: file ../plots1/histos_hadronGun_PU0_v38b.root does not exist\n",
      "Error in <TFile::TFile>: file ../plots1/histos_hadronGun_PU200_v38b.root does not exist\n"
     ]
    }
   ],
   "source": [
    "# %load samples.py\n",
    "version = 'v38b'\n",
    "\n",
    "#      Particle('ele', PID.electron),\n",
    "#                  Particle('ele_A', PID.electron, '1.4 < abseta < 1.7'),\n",
    "#                  Particle('ele_B', PID.electron, '1.7 <= abseta <= 2.8'),\n",
    "#                  Particle('ele_C', PID.electron, 'abseta > 2.8'),\n",
    "#                  Particle('photon', PID.photon),\n",
    "#                  Particle('photon_A', PID.photon, '1.4 < abseta < 1.7'),\n",
    "#                  Particle('photon_B', PID.photon, '1.7 <= abseta <= 2.8'),\n",
    "#                  Particle('photon_C', PID.photon, 'abseta > 2.8'),\n",
    "\n",
    "particles = ''\n",
    "\n",
    "sample_names = ['ele_flat2to100_PU0',\n",
    "                'ele_flat2to100_PU200',\n",
    "                'photonPt35_PU0',\n",
    "                'photonPt35_PU200']\n",
    "\n",
    "\n",
    "\n",
    "\n",
    "sample_ele_flat2to100_PU0 = Sample('ele_flat2to100_PU0', 'PU0', version)\n",
    "sample_ele_flat2to100_PU200 = Sample('ele_flat2to100_PU200', 'PU200', version)\n",
    "\n",
    "sample_gPt35_PU0 = Sample('photonPt35_PU0', 'Pt35 PU0', version)\n",
    "sample_gPt35_PU200 = Sample('photonPt35_PU200', 'Pt35 PU200', version)\n",
    "\n",
    "sample_hadronGun_PU0 = Sample('hadronGun_PU0', 'PU0', version)\n",
    "sample_hadronGun_PU200 = Sample('hadronGun_PU200', 'PU200', version)\n",
    "\n",
    "\n",
    "samples_ele = [sample_ele_flat2to100_PU0,sample_ele_flat2to100_PU200]\n",
    "#samples_ele = [sample_ele_flat2to100_PU200]\n",
    "\n",
    "samples_photon = [sample_gPt35_PU0,sample_gPt35_PU200]\n",
    "samples_hadrons = [sample_hadronGun_PU0,sample_hadronGun_PU200]\n",
    "\n",
    "sample_nugunrate = Sample('nugun_alleta_pu200', 'PU200', version)\n",
    "samples_nugunrates = [sample_nugunrate]\n",
    "\n",
    "\n",
    "\n",
    "\n",
    "tpset_labels = {'DEF' : 'NNDR',\n",
    "                'DEF_em': 'NNDR + EGID',\n",
    "                'DEF_pt20': 'NNDR, p_{T}^{L1}>20GeV',\n",
    "                'DEF_pt20_em': 'NNDR + EGID, p_{T}^{L1}>20GeV',\n",
    "                'DEF_pt25': 'NNDR, p_{T}^{L1}>25GeV',\n",
    "                'DEF_pt25_em': 'NNDR + EGID, p_{T}^{L1}>25GeV',\n",
    "                'DEF_pt30': 'NNDR, p_{T}^{L1}>30GeV',\n",
    "                'DEF_pt30_em': 'NNDR + EGID, p_{T}^{L1}>30GeV'}\n",
    "\n",
    "\n",
    "particle_labels = {'ele': 'all #eta',\n",
    "                   'elePt20': 'p_{T}^{GEN}>20GeV',\n",
    "                   'elePt30': 'p_{T}^{GEN}>30GeV',\n",
    "                   'elePt40': 'p_{T}^{GEN}>40GeV',\n",
    "                   'eleA' : '1.4 < |#eta^{GEN}| < 1.7',\n",
    "                   'eleB' : '1.7 < |#eta^{GEN}| < 2.8',\n",
    "                   'eleC' : '|#eta^{GEN}| > 2.8',\n",
    "                   'eleD' : '|#eta^{GEN}| < 2.4',\n",
    "                   'all'  : 'all #eta^{GEN}',\n",
    "                   'etaA': '#eta^{GEN} < 1.7',\n",
    "                   'etaB': '1.7 < |#eta^{GEN}| < 2.8)',\n",
    "                   'etaC': '|#eta^{GEN}| > 2.8',\n",
    "                   'etaD': '|#eta^{GEN}| < 2.4',\n",
    "                   'etaE': '1.7 < |#eta^{GEN}| < 2.7'}\n",
    "\n",
    "\n",
    "\n",
    "\n",
    "\n",
    "samples = []\n"
   ]
  },
  {
   "cell_type": "markdown",
   "metadata": {},
   "source": [
    "## Electron flat pT gun 2 < pt < 100 GeV"
   ]
  },
  {
   "cell_type": "code",
   "execution_count": null,
   "metadata": {},
   "outputs": [],
   "source": [
    "\n",
    "samples = samples_ele\n",
    "tp_sets = ['DEF', 'DEF_em']\n",
    "particles = ['nomatch']\n",
    "labels = [sample.label for sample in samples]\n",
    "\n",
    "histo_hGenDen_df = pd.DataFrame(index=tp_sets, columns=particles)\n",
    "histo_hcl3d_df = pd.DataFrame(index=tp_sets, columns=particles)\n",
    "histo_hcl2d_df = pd.DataFrame(index=tp_sets, columns=particles)\n",
    "histo_htc_df = pd.DataFrame(index=tp_sets, columns=particles)\n",
    "titles_df = pd.DataFrame(index=tp_sets, columns=particles)\n",
    "\n",
    "\n",
    "for tp_set in tp_sets:\n",
    "    for particle in particles:\n",
    "        histo_hGenDen_df.loc[tp_set][particle] =  [histos.HistoSetEff('{}_{}'.format(tp_set, particle), sample.histo_file).h_den for sample in samples]\n",
    "        histo_hcl3d_df.loc[tp_set][particle] =  [histos.HistoSetClusters('{}_{}'.format(tp_set, particle), sample.histo_file).hcl3d for sample in samples]\n",
    "        histo_hcl2d_df.loc[tp_set][particle] =  [histos.HistoSetClusters('{}_{}'.format(tp_set, particle), sample.histo_file).hcl2d for sample in samples]\n",
    "        histo_htc_df.loc[tp_set][particle] =  [histos.HistoSetClusters('{}_{}'.format(tp_set, particle), sample.histo_file).htc for sample in samples]\n",
    "        titles_df.loc[tp_set, particle] = '{}, {}'.format(tpset_labels[tp_set], particle_labels[particle])\n",
    "\n",
    "\n",
    "        \n",
    "        \n",
    "histo_hGenDen_df    \n",
    "histo_hcl3d_df\n",
    "histo_hcl2d_df\n",
    "histo_htc_df\n"
   ]
  },
  {
   "cell_type": "code",
   "execution_count": null,
   "metadata": {},
   "outputs": [],
   "source": [
    "dir(histo_hcl3d_df.loc['DEF', 'ele'][0])\n",
    "dir(histo_hcl2d_df.loc['DEF', 'ele'][0])\n",
    "dir(histo_htc_df.loc['DEF', 'ele'][0])"
   ]
  },
  {
   "cell_type": "markdown",
   "metadata": {},
   "source": [
    "### Gen level particle distribution"
   ]
  },
  {
   "cell_type": "code",
   "execution_count": null,
   "metadata": {},
   "outputs": [],
   "source": [
    "tp_set = 'DEF'\n",
    "particle = 'nomatch'\n",
    "\n",
    "h_eta = [histo.h_eta for histo in histo_hGenDen_df.loc[tp_set, particle]]\n",
    "drawSame(h_eta, labels, text=titles_df.loc[tp_set, particle])\n",
    "h_pt = [histo.h_pt for histo in histo_hGenDen_df.loc[tp_set, particle]]\n",
    "drawSame(h_pt, labels, text=titles_df.loc[tp_set, particle])\n",
    "h_reachedEE = [histo.h_reachedEE for histo in histo_hGenDen_df.loc[tp_set, particle]]\n",
    "drawSame(h_reachedEE, labels, text=titles_df.loc[tp_set, particle])\n"
   ]
  },
  {
   "cell_type": "markdown",
   "metadata": {},
   "source": [
    "#### 3D clusters matched to GEN"
   ]
  },
  {
   "cell_type": "code",
   "execution_count": null,
   "metadata": {
    "scrolled": false
   },
   "outputs": [],
   "source": [
    "\n",
    "for particle in particles:\n",
    "    for tp_set in tp_sets:\n",
    "        hByTPset = [histo.h_pt for histo in histo_hcl3d_df.loc[tp_set, particle]]\n",
    "        drawSame(hByTPset, labels, text=titles_df.loc[tp_set, particle], norm=True)\n"
   ]
  },
  {
   "cell_type": "code",
   "execution_count": null,
   "metadata": {
    "scrolled": false
   },
   "outputs": [],
   "source": [
    "\n",
    "for particle in ['nomatch']:\n",
    "    for tp_set in tp_sets:\n",
    "        hByTPset = [histo.h_eta for histo in histo_hcl3d_df.loc[tp_set, particle]]\n",
    "        drawSame(hByTPset, labels, text=titles_df.loc[tp_set, particle])"
   ]
  },
  {
   "cell_type": "markdown",
   "metadata": {},
   "source": [
    "3D cluster # of 2D components"
   ]
  },
  {
   "cell_type": "code",
   "execution_count": null,
   "metadata": {
    "scrolled": false
   },
   "outputs": [],
   "source": [
    "\n",
    "for particle in particles:\n",
    "    for tp_set in ['DEF', 'DEF_em']:\n",
    "        hByTPset = [histo.h_nclu for histo in histo_hcl3d_df.loc[tp_set, particle]]\n",
    "        drawSame(hByTPset, labels, text=titles_df.loc[tp_set, particle])\n"
   ]
  },
  {
   "cell_type": "code",
   "execution_count": null,
   "metadata": {
    "scrolled": false
   },
   "outputs": [],
   "source": [
    "\n",
    "for particle in particles:\n",
    "    for tp_set in ['DEF', 'DEF_em']:\n",
    "        hByTPset = [histo.h_ncluVpt for histo in histo_hcl3d_df.loc[tp_set, particle]]\n",
    "        drawSeveral(hByTPset, labels, options='COLZ', do_profile=True, text=titles_df.loc[tp_set, particle])\n"
   ]
  },
  {
   "cell_type": "code",
   "execution_count": null,
   "metadata": {
    "scrolled": false
   },
   "outputs": [],
   "source": [
    "\n",
    "for particle in particles:\n",
    "    for tp_set in ['DEF']:\n",
    "        hByTPset = [histo.h_iso0p2 for histo in histo_hcl3d_df.loc[tp_set, particle]]\n",
    "        drawSame(hByTPset, labels, text=titles_df.loc[tp_set, particle], logy=True)\n"
   ]
  },
  {
   "cell_type": "code",
   "execution_count": null,
   "metadata": {
    "scrolled": false
   },
   "outputs": [],
   "source": [
    "\n",
    "for particle in particles:\n",
    "    for tp_set in ['DEF']:\n",
    "        hByTPset = [histo.h_isoRel0p2 for histo in histo_hcl3d_df.loc[tp_set, particle]]\n",
    "        drawSame(hByTPset, labels, text=titles_df.loc[tp_set, particle], logy=True)\n",
    "\n",
    "particle = 'ele'\n",
    "tp_set = 'DEF'\n",
    "hByTPset = [histo.h_isoRel0p2 for histo in histo_hcl3d_df.loc[tp_set, particle]]\n",
    "draw(hByTPset[1])"
   ]
  },
  {
   "cell_type": "markdown",
   "metadata": {},
   "source": [
    "#### 2D cluster components of matched 3D clusters"
   ]
  },
  {
   "cell_type": "code",
   "execution_count": null,
   "metadata": {},
   "outputs": [],
   "source": [
    "histo_hcl2d_df"
   ]
  },
  {
   "cell_type": "markdown",
   "metadata": {},
   "source": [
    "distribution of the counts of 2D cluster per layer "
   ]
  },
  {
   "cell_type": "code",
   "execution_count": null,
   "metadata": {
    "scrolled": false
   },
   "outputs": [],
   "source": [
    "for particle in particles:\n",
    "    for tp_set in tp_sets:\n",
    "        hByTPset = [histo.h_layer for histo in histo_hcl2d_df.loc[tp_set, particle]]\n",
    "        drawSame(hByTPset, labels, norm=True, text=titles_df.loc[tp_set, particle])\n",
    "#         drawSeveral(hByTPset, labels, options='COLZ', do_profile=True)\n"
   ]
  },
  {
   "cell_type": "markdown",
   "metadata": {},
   "source": [
    "Number of TCs composing the 2D cluster"
   ]
  },
  {
   "cell_type": "code",
   "execution_count": null,
   "metadata": {
    "scrolled": false
   },
   "outputs": [],
   "source": [
    "for particle in particles:\n",
    "    for tp_set in tp_sets:\n",
    "        hByTPset = [histo.h_ncells for histo in histo_hcl2d_df.loc[tp_set, particle]]\n",
    "        drawSame(hByTPset, labels, norm=True, text=titles_df.loc[tp_set, particle])\n",
    "#         drawSeveral(hByTPset, labels, options='COLZ', do_profile=True)\n"
   ]
  },
  {
   "cell_type": "code",
   "execution_count": null,
   "metadata": {
    "scrolled": false
   },
   "outputs": [],
   "source": [
    "for particle in particles:\n",
    "    for tp_set in tp_sets:\n",
    "        hByTPset = [histo.h_energy for histo in histo_hcl2d_df.loc[tp_set, particle]]\n",
    "        drawSame(hByTPset, labels, norm=True, text=titles_df.loc[tp_set, particle])\n",
    "#         drawSeveral(hByTPset, labels, options='COLZ', do_profile=True)"
   ]
  },
  {
   "cell_type": "markdown",
   "metadata": {},
   "source": [
    "*NOTE*: we can conclude that at high PU the 3D clusters have more clusters in the first layers and the size (in terms of constituents and hence collected energy) of the 2D clusters grows\n",
    "\n",
    "In the following we try to breakdown this behavior by layer\n"
   ]
  },
  {
   "cell_type": "markdown",
   "metadata": {},
   "source": [
    "Distribution of the # of TC in the 2D cluster components vs layer"
   ]
  },
  {
   "cell_type": "code",
   "execution_count": null,
   "metadata": {
    "scrolled": false
   },
   "outputs": [],
   "source": [
    "for particle in particles:\n",
    "    for tp_set in tp_sets:\n",
    "        hByTPset = [histo.h_layerVncells for histo in histo_hcl2d_df.loc[tp_set, particle]]\n",
    "#        drawSame(hByTPset, labels, norm=True)\n",
    "        drawSeveral(hByTPset, labels, options='COLZ', do_profile=True, text=titles_df.loc[tp_set, particle])\n",
    "        hByTPset = [histo.h_layerVncells.ProfileX(uuid.uuid4().hex[:6]) for histo in histo_hcl2d_df.loc[tp_set, particle]]\n",
    "        drawSame(hByTPset, labels, text=titles_df.loc[tp_set, particle])"
   ]
  },
  {
   "cell_type": "code",
   "execution_count": null,
   "metadata": {
    "scrolled": false
   },
   "outputs": [],
   "source": [
    "for particle in particles:\n",
    "    for tp_set in tp_sets:\n",
    "        hByTPset = [histo.h_layerVenergy for histo in histo_hcl2d_df.loc[tp_set, particle]]\n",
    "#        drawSame(hByTPset, labels, norm=True)\n",
    "        drawSeveral(hByTPset, labels, options='COLZ', do_profile=True)\n",
    "        hByTPset = [histo.h_layerVenergy.ProfileX(uuid.uuid4().hex[:6]) for histo in histo_hcl2d_df.loc[tp_set, particle]]\n",
    "        drawSame(hByTPset, labels, text=titles_df.loc[tp_set, particle])"
   ]
  },
  {
   "cell_type": "markdown",
   "metadata": {},
   "source": [
    "#### TCs components of Matched 3D clusters"
   ]
  },
  {
   "cell_type": "code",
   "execution_count": null,
   "metadata": {},
   "outputs": [],
   "source": [
    "histo_htc_df"
   ]
  },
  {
   "cell_type": "markdown",
   "metadata": {},
   "source": [
    "*WARNING*: looking inclusively at the energy of TCs is very misleading since PU TCs are mostly at high-eta one might conclude that they are more energetic....while they ahave the same pT"
   ]
  },
  {
   "cell_type": "code",
   "execution_count": null,
   "metadata": {
    "scrolled": false
   },
   "outputs": [],
   "source": [
    "for particle in particles:\n",
    "    for tp_set in tp_sets:\n",
    "        hByTPset = [histo.h_energy for histo in histo_htc_df.loc[tp_set, particle]]\n",
    "        drawSame(hByTPset, labels, norm=True, text=titles_df.loc[tp_set, particle])\n"
   ]
  },
  {
   "cell_type": "code",
   "execution_count": null,
   "metadata": {
    "scrolled": false
   },
   "outputs": [],
   "source": [
    "for particle in particles:\n",
    "    for tp_set in tp_sets:\n",
    "        hByTPset = [histo.h_mipPt for histo in histo_htc_df.loc[tp_set, particle]]\n",
    "        drawSame(hByTPset, labels, norm=True, text=titles_df.loc[tp_set, particle])"
   ]
  },
  {
   "cell_type": "code",
   "execution_count": null,
   "metadata": {
    "scrolled": false
   },
   "outputs": [],
   "source": [
    "for particle in particles:\n",
    "    for tp_set in tp_sets:\n",
    "        hByTPset = [histo.h_layer for histo in histo_htc_df.loc[tp_set, particle]]\n",
    "        drawSame(hByTPset, labels, norm=True, text=titles_df.loc[tp_set, particle])"
   ]
  },
  {
   "cell_type": "code",
   "execution_count": null,
   "metadata": {},
   "outputs": [],
   "source": []
  }
 ],
 "metadata": {
  "kernelspec": {
   "display_name": "HGCTPGPerformance",
   "language": "python",
   "name": "hgctpgperformance"
  },
  "language_info": {
   "codemirror_mode": {
    "name": "ipython",
    "version": 2
   },
   "file_extension": ".py",
   "mimetype": "text/x-python",
   "name": "python",
   "nbconvert_exporter": "python",
   "pygments_lexer": "ipython2",
   "version": "2.7.15"
  }
 },
 "nbformat": 4,
 "nbformat_minor": 2
}
