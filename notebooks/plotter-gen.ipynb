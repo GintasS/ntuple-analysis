{
 "cells": [
  {
   "cell_type": "markdown",
   "metadata": {},
   "source": [
    "# Gen level plots\n",
    "\n",
    "   * [Electron flat pt 2-100](#Electron-samples-2<-pt-<-100GeV-flat)\n",
    "   * [Photon pt35GeV (1.6 < |eta| < 2.8](#Photons-pt-35GeV)\n",
    "  \n"
   ]
  },
  {
   "cell_type": "code",
   "execution_count": 5,
   "metadata": {},
   "outputs": [],
   "source": [
    "import sys\n",
    "sys.path.insert(0, '..')\n",
    "import ROOT\n",
    "import root_numpy as rnp\n",
    "import l1THistos as histos\n",
    "import math\n",
    "import uuid\n",
    "\n",
    "ROOT.enableJSVis()\n",
    "#ROOT.enableJSVis()\n",
    "\n",
    "#from drawingTools import *\n",
    "\n",
    "normalized_histos = list()\n",
    "    "
   ]
  },
  {
   "cell_type": "code",
   "execution_count": 6,
   "metadata": {},
   "outputs": [],
   "source": [
    "# %load ../drawingTools\n",
    "import ROOT\n",
    "import math\n",
    "import uuid\n",
    "\n",
    "# some useful globals, mainly to deal with ROOT idiosyncrasies\n",
    "c_idx = 0\n",
    "p_idx = 0\n",
    "colors = range(1, 6)\n",
    "stuff = []\n",
    "f_idx = 0\n",
    "\n",
    "ROOT.gStyle.SetPadBottomMargin(0.13)\n",
    "ROOT.gStyle.SetPadLeftMargin(0.13)\n",
    "ROOT.gStyle.SetPadRightMargin(0.30)\n",
    "\n",
    "ROOT.gStyle.SetCanvasBorderMode(0)\n",
    "ROOT.gStyle.SetCanvasColor(0)\n",
    "ROOT.gStyle.SetCanvasDefH(600)\n",
    "ROOT.gStyle.SetCanvasDefW(800)\n",
    "\n",
    "# define some utility functions\n",
    "def newCanvas(name=None, title=None, xdiv=0, ydiv=0, form=4):\n",
    "    global c_idx\n",
    "    if name is None:\n",
    "        name = 'c_{}'.format(uuid.uuid4().hex[:6])\n",
    "        c_idx += 1\n",
    "    if title is None:\n",
    "        title = name\n",
    "    # print name, title\n",
    "    canvas = ROOT.TCanvas(name, title)\n",
    "    if(xdiv*ydiv != 0):\n",
    "        canvas.Divide(xdiv, ydiv)\n",
    "    global stuff\n",
    "    stuff.append(canvas)\n",
    "    return canvas\n",
    "\n",
    "\n",
    "def draw(plot, options='', text=None):\n",
    "    c = newCanvas()\n",
    "    c.cd()\n",
    "    plot.Draw(options)\n",
    "    if text:\n",
    "        rtext = getText(text, 0.15, 0.85)\n",
    "        rtext.Draw('same')\n",
    "\n",
    "    c.Draw()\n",
    "\n",
    "    return\n",
    "\n",
    "\n",
    "def getLegend(x1=0.7, y1=0.71, x2=0.95, y2=0.85):\n",
    "    global stuff\n",
    "    legend = ROOT.TLegend(x1, y1, x2, y2)\n",
    "    stuff.append(legend)\n",
    "    legend.SetFillColor(0)\n",
    "    legend.SetFillStyle(0)\n",
    "    legend.SetBorderSize(0)\n",
    "    legend.SetTextSize(0.05)\n",
    "    return legend\n",
    "\n",
    "\n",
    "def drawAndProfileX(plot2d, miny=None, maxy=None, do_profile=True, options='', text=None):\n",
    "    global p_idx\n",
    "    if miny and maxy:\n",
    "        plot2d.GetYaxis().SetRangeUser(miny, maxy)\n",
    "    c = newCanvas()\n",
    "    c.SetGrid(1, 1)\n",
    "    c.cd()\n",
    "    plot2d.Draw(options)\n",
    "    ROOT.gPad.SetGrid(1, 1)\n",
    "    ROOT.gStyle.SetGridColor(15)\n",
    "\n",
    "    if do_profile:\n",
    "        profname = plot2d.GetName()+'_prof_'+str(p_idx)\n",
    "        p_idx += 1\n",
    "        firstbin = 1\n",
    "        lastbin = -1\n",
    "        prof = plot2d.ProfileX(profname, firstbin, lastbin, 's')\n",
    "        prof.SetMarkerColor(2)\n",
    "        prof.SetLineColor(2)\n",
    "        prof.Draw('same')\n",
    "\n",
    "    if text:\n",
    "        rtext = getText(text, 0.15, 0.85)\n",
    "        rtext.Draw('same')\n",
    "\n",
    "    c.Draw()\n",
    "\n",
    "\n",
    "def getText(text, ndc_x, ndc_y):\n",
    "    global stuff\n",
    "    rtext = ROOT.TLatex(ndc_x, ndc_y, text)\n",
    "    stuff.append(rtext)\n",
    "    rtext.SetNDC(True)\n",
    "    # rtext.SetTextFont(40)\n",
    "    rtext.SetTextSize(0.03)\n",
    "    return rtext\n",
    "\n",
    "\n",
    "def drawSame(histograms,\n",
    "             labels,\n",
    "             options='',\n",
    "             norm=False,\n",
    "             logy=False,\n",
    "             min_y=None,\n",
    "             max_y=None,\n",
    "             text=None,\n",
    "             y_axis_label=None,\n",
    "             x_axis_label=None,\n",
    "             v_lines=None,\n",
    "             h_lines=None):\n",
    "    global colors\n",
    "    global stuff\n",
    "    c = newCanvas(title=histograms[0].GetName())\n",
    "    c.cd()\n",
    "    leg = getLegend()\n",
    "\n",
    "    max_value = max_y\n",
    "    min_value = min_y\n",
    "    if min_y is None:\n",
    "        min_value = min([hist.GetBinContent(hist.GetMinimumBin()) for hist in histograms])\n",
    "    if max_y is None:\n",
    "        max_value = max([hist.GetBinContent(hist.GetMaximumBin()) for hist in histograms])*1.2\n",
    "\n",
    "    for hidx, hist in enumerate(histograms):\n",
    "        hist.SetLineColor(colors[hidx])\n",
    "        hist.SetStats(False)\n",
    "        if norm:\n",
    "            hist.DrawNormalized('same'+','+options, 1.)\n",
    "        else:\n",
    "            if hidx:\n",
    "                hist.Draw('same'+','+options)\n",
    "            else:\n",
    "                hist.Draw(options)\n",
    "        leg.AddEntry(histograms[hidx], labels[hidx], 'l')\n",
    "\n",
    "    histograms[0].GetYaxis().SetRangeUser(min_value, max_value)\n",
    "    if y_axis_label:\n",
    "        histograms[0].GetYaxis().SetTitle(y_axis_label)\n",
    "    if x_axis_label:\n",
    "            histograms[0].GetXaxis().SetTitle(x_axis_label)\n",
    "\n",
    "    leg.Draw()\n",
    "    c.Draw()\n",
    "    if text:\n",
    "        rtext = getText(text, 0.15, 0.85)\n",
    "        rtext.Draw(\"same\")\n",
    "    if logy:\n",
    "        c.SetLogy()\n",
    "\n",
    "    if v_lines:\n",
    "        for v_line_x in v_lines:\n",
    "            aline = ROOT.TLine(v_line_x, c.GetUymin(), v_line_x,  c.GetUymax())\n",
    "            aline.SetLineStyle(2)\n",
    "            aline.Draw(\"same\")\n",
    "            stuff.append(aline)\n",
    "    if h_lines:\n",
    "        for h_line_y in h_lines:\n",
    "            aline = ROOT.TLine(c.GetUxmin(), h_line_y, c.GetUxmax(),  h_line_y)\n",
    "            aline.SetLineStyle(2)\n",
    "            aline.Draw(\"same\")\n",
    "            stuff.append(aline)\n",
    "    c.Update()\n",
    "\n",
    "\n",
    "def drawProfileX(histograms, labels, options=''):\n",
    "    profiles = [hist.ProfileX() for hist in histograms]\n",
    "    drawSame(profiles, labels, options)\n",
    "\n",
    "\n",
    "def drawSeveral(histograms, labels, options='', do_profile=False, miny=None, maxy=None, text=None):\n",
    "    ydiv = int(math.ceil(float(len(histograms))/2))\n",
    "    for hidx in range(0, len(histograms)):\n",
    "        newtext = labels[hidx]\n",
    "        if text:\n",
    "            newtext = '{}: {}'.format(labels[hidx], text)\n",
    "        if do_profile:\n",
    "            drawAndProfileX(histograms[hidx], miny=miny, maxy=maxy, options=options, do_profile=do_profile, text=newtext)\n",
    "        else:\n",
    "            draw(histograms[hidx], options=options, text=newtext)\n",
    "\n",
    "\n",
    "def drawProfileRatio(prof1, prof2, ymin=None, ymax=None, text=None):\n",
    "    hist1 = prof1.ProjectionX(uuid.uuid4().hex[:6])\n",
    "    hist2 = prof2.ProjectionX(uuid.uuid4().hex[:6])\n",
    "    hist1.Divide(hist2)\n",
    "    draw(hist1)\n",
    "    if text:\n",
    "        rtext = getText(text, 0.15, 0.85)\n",
    "        rtext.Draw(\"same\")\n",
    "\n",
    "    if ymin is not None and ymax is not None:\n",
    "        hist1.GetYaxis().SetRangeUser(ymin, ymax)\n",
    "    ROOT.gPad.Update()\n",
    "\n",
    "\n",
    "# mean+-nsigmas*RMS.\n",
    "def drawGaussFit(histo, nsigmas, min, max):\n",
    "    minfit = histo.GetMean() - nsigmas*histo.GetRMS()\n",
    "    maxfit = histo.GetMean() + nsigmas*histo.GetRMS()\n",
    "    drawGFit(histo, min, max, minfit, maxfit)\n",
    "\n",
    "\n",
    "# Fit a histogram in the range (minfit, maxfit) with a gaussian and\n",
    "# draw it in the range (min, max)\n",
    "def drawGFit(histo, min, max, minfit, maxfit):\n",
    "    # static int i = 0\n",
    "    # i++\n",
    "    # gPad->SetGrid(1,1);\n",
    "    # gStyle->SetGridColor(15);\n",
    "    histo.GetXaxis().SetRangeUser(min, max)\n",
    "    global f_idx\n",
    "    nameF1 = \"g{}\".format(f_idx)\n",
    "    f_idx +=1\n",
    "    g1 = ROOT.TF1(nameF1, \"gaus\", minfit, maxfit)\n",
    "    g1.SetLineColor(2)\n",
    "    g1.SetLineWidth(2)\n",
    "    histo.Fit(g1,\"R\")\n",
    "\n",
    "\n",
    "def drawGraphsSame(histograms,\n",
    "                   labels,\n",
    "                   options='',\n",
    "                   norm=False,\n",
    "                   logy=False,\n",
    "                   min_y=None,\n",
    "                   max_y=None,\n",
    "                   text=None):\n",
    "    global colors\n",
    "    c = newCanvas()\n",
    "    c.cd()\n",
    "    leg = getLegend()\n",
    "\n",
    "    for hidx in range(0, len(histograms)):\n",
    "        histograms[hidx].SetLineColor(colors[hidx])\n",
    "        histograms[hidx].Draw('same'+','+options)\n",
    "        leg.AddEntry(histograms[hidx], labels[hidx], 'l')\n",
    "\n",
    "    max_value = max_y\n",
    "    min_value = min_y\n",
    "    if min_y is None:\n",
    "        min_value = min([hist.GetBinContent(hist.GetMinimumBin()) for hist in histograms])\n",
    "    if max_y is None:\n",
    "        max_value = max([hist.GetBinContent(hist.GetMaximumBin()) for hist in histograms])*1.2\n",
    "    histograms[0].GetYaxis().SetRangeUser(min_value, max_value)\n",
    "    leg.Draw()\n",
    "    c.Draw()\n",
    "    if logy:\n",
    "        c.SetLogy()\n",
    "    if text:\n",
    "        rtext = getText(text, 0.15, 0.85)\n",
    "        rtext.Draw(\"same\")\n",
    "    c.Update()\n"
   ]
  },
  {
   "cell_type": "code",
   "execution_count": 7,
   "metadata": {},
   "outputs": [
    {
     "name": "stderr",
     "output_type": "stream",
     "text": [
      "Error in <TFile::TFile>: file ../plots1/histos_photonPt35_PU0_v45.root does not exist\n",
      "Error in <TFile::TFile>: file ../plots1/histos_photonPt35_PU200_v45.root does not exist\n",
      "Error in <TFile::TFile>: file ../plots1/histos_hadronGun_PU0_v45.root does not exist\n",
      "Error in <TFile::TFile>: file ../plots1/histos_hadronGun_PU200_v45.root does not exist\n",
      "Error in <TFile::TFile>: file ../plots1/histos_nugun_alleta_pu200_v45.root does not exist\n"
     ]
    }
   ],
   "source": [
    "# %load samples.py\n",
    "import ROOT\n",
    "\n",
    "version = 'v45'\n",
    "\n",
    "\n",
    "class Sample():\n",
    "    def __init__(cls, name, label, version=None):\n",
    "        cls.name = name\n",
    "        cls.label = label\n",
    "        if version:\n",
    "            version = '_'+version\n",
    "        else:\n",
    "            version = ''\n",
    "        cls.histo_filename = '../plots1/histos_{}{}.root'.format(cls.name, version)\n",
    "        cls.histo_file = ROOT.TFile(cls.histo_filename)\n",
    "\n",
    "\n",
    "sample_names = ['ele_flat2to100_PU0',\n",
    "                'ele_flat2to100_PU200',\n",
    "                'photonPt35_PU0',\n",
    "                'photonPt35_PU200']\n",
    "\n",
    "sample_ele_flat2to100_PU0 = Sample('ele_flat2to100_PU0', 'PU0', version)\n",
    "sample_ele_flat2to100_PU200 = Sample('ele_flat2to100_PU200', 'PU200', version)\n",
    "\n",
    "sample_gPt35_PU0 = Sample('photonPt35_PU0', 'Pt35 PU0', version)\n",
    "sample_gPt35_PU200 = Sample('photonPt35_PU200', 'Pt35 PU200', version)\n",
    "\n",
    "sample_hadronGun_PU0 = Sample('hadronGun_PU0', 'PU0', version)\n",
    "sample_hadronGun_PU200 = Sample('hadronGun_PU200', 'PU200', version)\n",
    "\n",
    "samples_ele = [sample_ele_flat2to100_PU0, sample_ele_flat2to100_PU200]\n",
    "\n",
    "samples_photon = [sample_gPt35_PU0, sample_gPt35_PU200]\n",
    "samples_hadrons = [sample_hadronGun_PU0, sample_hadronGun_PU200]\n",
    "\n",
    "sample_nugunrate = Sample('nugun_alleta_pu200', 'PU200', version)\n",
    "samples_nugunrates = [sample_nugunrate]\n",
    "\n",
    "\n",
    "tpset_labels = {'DEF': 'NNDR',\n",
    "                'DEF_em': 'NNDR + EGID',\n",
    "                'DEF_em_calib': 'NNDR + EGID + calib v0',\n",
    "                'DEF_pt10': 'NNDR, p_{T}^{L1}>10GeV',\n",
    "                'DEF_pt20': 'NNDR, p_{T}^{L1}>20GeV',\n",
    "                'DEF_pt25': 'NNDR, p_{T}^{L1}>25GeV',\n",
    "                'DEF_pt30': 'NNDR, p_{T}^{L1}>30GeV',\n",
    "                'DEF_pt10_em': 'NNDR + EGID, p_{T}^{L1}>10GeV',\n",
    "                'DEF_pt20_em': 'NNDR + EGID, p_{T}^{L1}>20GeV',\n",
    "                'DEF_pt25_em': 'NNDR + EGID, p_{T}^{L1}>25GeV',\n",
    "                'DEF_pt30_em': 'NNDR + EGID, p_{T}^{L1}>30GeV'}\n",
    "\n",
    "\n",
    "particle_labels = {'ele': 'all #eta',\n",
    "                   'elePt20': 'p_{T}^{GEN}>20GeV',\n",
    "                   'elePt30': 'p_{T}^{GEN}>30GeV',\n",
    "                   'elePt40': 'p_{T}^{GEN}>40GeV',\n",
    "                   'eleA': '|#eta^{GEN}| <= 1.52',\n",
    "                   'eleB': '1.52 < |#eta^{GEN}| <= 1.7',\n",
    "                   'eleC': '1.7 < |#eta^{GEN}| <= 2.4',\n",
    "                   'eleD': '2.4 < |#eta^{GEN}| <= 2.8',\n",
    "                   'eleE': '|#eta^{GEN}| > 2.8',\n",
    "                   'eleAB': '|#eta^{GEN}| <= 1.7',\n",
    "                   'eleABC': '|#eta^{GEN}| <= 2.4',\n",
    "                   'eleBC': '1.52 < |#eta^{GEN}| <= 2.4',\n",
    "                   'eleBCD': '1.52 < |#eta^{GEN}| <= 2.8',\n",
    "                   'eleBCDE': '|#eta^{GEN}| > 1.52',\n",
    "                   'all': 'all #eta^{L1}',\n",
    "                   'etaA': '|#eta^{L1}| <= 1.52',\n",
    "                   'etaB': '1.52 < |#eta^{L1}| <= 1.7)',\n",
    "                   'etaC': '1.7 < |#eta^{L1}| <= 2.4)',\n",
    "                   'etaD': '2.4 < |#eta^{L1}| <= 2.8)',\n",
    "                   'etaE': '|#eta^{L1}| > 2.8',\n",
    "                   'etaAB': '|#eta^{L1}| <= 1.7',\n",
    "                   'etaABC': '|#eta^{L1}| <= 2.4',\n",
    "                   'etaBC': '1.52 < |#eta^{L1}| <= 2.4',\n",
    "                   'etaBCD': '1.52 < |#eta^{L1}| <= 2.8',\n",
    "                   'etaBCDE': '|#eta^{L1}| > 1.52'}\n",
    "\n",
    "samples = []\n",
    "# particles = ''\n"
   ]
  },
  {
   "cell_type": "markdown",
   "metadata": {},
   "source": [
    "## Electron samples 2< pt < 100GeV flat"
   ]
  },
  {
   "cell_type": "code",
   "execution_count": 8,
   "metadata": {},
   "outputs": [],
   "source": [
    "particle = 'ele'\n",
    "samples = samples_ele\n",
    "\n",
    "\n",
    "ele_histos = [histos.GenParticleHistos('h_genParts_{}'.format(particle), sample.histo_file) for sample in samples]\n",
    "labels = [sample.label for sample in samples]\n",
    "\n",
    "\n"
   ]
  },
  {
   "cell_type": "code",
   "execution_count": 9,
   "metadata": {},
   "outputs": [
    {
     "data": {
      "text/html": [
       "\n",
       "<div id=\"root_plot_1\"\n",
       "     style=\"width: 796px; height: 572px\">\n",
       "</div>\n",
       "\n",
       "<script>\n",
       " requirejs.config({\n",
       "     paths: {\n",
       "       'JSRootCore' : 'https://root.cern.ch/js/notebook//scripts/JSRootCore',\n",
       "     }\n",
       "   });\n",
       " require(['JSRootCore'],\n",
       "     function(Core) {\n",
       "       var obj = Core.JSONR_unref({\"_typename\":\"TCanvas\",\"fUniqueID\":0,\"fBits\":53673992,\"fLineColor\":1,\"fLineStyle\":1,\"fLineWidth\":1,\"fFillColor\":0,\"fFillStyle\":1001,\"fLeftMargin\":0.13,\"fRightMargin\":0.3,\"fBottomMargin\":0.13,\"fTopMargin\":0.1,\"fXfile\":2,\"fYfile\":2,\"fAfile\":1,\"fXstat\":0.99,\"fYstat\":0.99,\"fAstat\":2,\"fFrameFillColor\":0,\"fFrameLineColor\":1,\"fFrameFillStyle\":1001,\"fFrameLineStyle\":1,\"fFrameLineWidth\":1,\"fFrameBorderSize\":1,\"fFrameBorderMode\":0,\"fX1\":-228.070169934936,\"fY1\":-0.00871703324787554,\"fX2\":1526.31581699199,\"fY2\":0.0583370696196133,\"fXtoAbsPixelk\":103.480046204376,\"fXtoPixelk\":103.480046204376,\"fXtoPixel\":0.453719994306564,\"fYtoAbsPixelk\":497.640051065433,\"fYtoPixelk\":497.640051065433,\"fYtoPixel\":-8530.42506780498,\"fUtoAbsPixelk\":5e-5,\"fUtoPixelk\":5e-5,\"fUtoPixel\":796,\"fVtoAbsPixelk\":572.00005,\"fVtoPixelk\":572,\"fVtoPixel\":-572,\"fAbsPixeltoXk\":-228.070169934936,\"fPixeltoXk\":-228.070169934936,\"fPixeltoX\":2.20400249613935,\"fAbsPixeltoYk\":0.0583370696196133,\"fPixeltoYk\":-0.00871703324787554,\"fPixeltoY\":-1.1722745256554e-4,\"fXlowNDC\":0,\"fYlowNDC\":0,\"fXUpNDC\":0,\"fYUpNDC\":0,\"fWNDC\":1,\"fHNDC\":1,\"fAbsXlowNDC\":0,\"fAbsYlowNDC\":0,\"fAbsWNDC\":1,\"fAbsHNDC\":1,\"fUxmin\":0,\"fUymin\":0,\"fUxmax\":1000,\"fUymax\":0.0516316590830684,\"fTheta\":30,\"fPhi\":30,\"fAspectRatio\":0,\"fNumber\":0,\"fTickx\":0,\"fTicky\":0,\"fLogx\":0,\"fLogy\":0,\"fLogz\":0,\"fPadPaint\":0,\"fCrosshair\":0,\"fCrosshairPos\":0,\"fBorderSize\":2,\"fBorderMode\":0,\"fModified\":false,\"fGridx\":false,\"fGridy\":false,\"fAbsCoord\":false,\"fEditable\":true,\"fFixedAspectRatio\":false,\"fPrimitives\":{\"_typename\":\"TList\",\"name\":\"TList\",\"arr\":[{\"_typename\":\"TFrame\",\"fUniqueID\":0,\"fBits\":50331656,\"fLineColor\":1,\"fLineStyle\":1,\"fLineWidth\":1,\"fFillColor\":0,\"fFillStyle\":1001,\"fX1\":0,\"fY1\":0,\"fX2\":1000,\"fY2\":0.0516316590830684,\"fBorderSize\":1,\"fBorderMode\":0},{\"_typename\":\"TH1F\",\"fUniqueID\":0,\"fBits\":50332169,\"fName\":\"h_genParts_ele_energy\",\"fTitle\":\"Gen Part Energy (GeV)\",\"fLineColor\":1,\"fLineStyle\":1,\"fLineWidth\":1,\"fFillColor\":0,\"fFillStyle\":1001,\"fMarkerColor\":1,\"fMarkerStyle\":1,\"fMarkerSize\":1,\"fNcells\":102,\"fXaxis\":{\"_typename\":\"TAxis\",\"fUniqueID\":0,\"fBits\":50331648,\"fName\":\"xaxis\",\"fTitle\":\" E [GeV]\",\"fNdivisions\":510,\"fAxisColor\":1,\"fLabelColor\":1,\"fLabelFont\":42,\"fLabelOffset\":0.005,\"fLabelSize\":0.035,\"fTickLength\":0.03,\"fTitleOffset\":1,\"fTitleSize\":0.035,\"fTitleColor\":1,\"fTitleFont\":42,\"fNbins\":100,\"fXmin\":0,\"fXmax\":1000,\"fXbins\":[],\"fFirst\":0,\"fLast\":0,\"fBits2\":0,\"fTimeDisplay\":false,\"fTimeFormat\":\"\",\"fLabels\":null,\"fModLabs\":null},\"fYaxis\":{\"_typename\":\"TAxis\",\"fUniqueID\":0,\"fBits\":50331648,\"fName\":\"yaxis\",\"fTitle\":\"\",\"fNdivisions\":510,\"fAxisColor\":1,\"fLabelColor\":1,\"fLabelFont\":42,\"fLabelOffset\":0.005,\"fLabelSize\":0.035,\"fTickLength\":0.03,\"fTitleOffset\":0,\"fTitleSize\":0.035,\"fTitleColor\":1,\"fTitleFont\":42,\"fNbins\":1,\"fXmin\":0,\"fXmax\":1,\"fXbins\":[],\"fFirst\":0,\"fLast\":0,\"fBits2\":0,\"fTimeDisplay\":false,\"fTimeFormat\":\"\",\"fLabels\":null,\"fModLabs\":null},\"fZaxis\":{\"_typename\":\"TAxis\",\"fUniqueID\":0,\"fBits\":50331648,\"fName\":\"zaxis\",\"fTitle\":\"\",\"fNdivisions\":510,\"fAxisColor\":1,\"fLabelColor\":1,\"fLabelFont\":42,\"fLabelOffset\":0.005,\"fLabelSize\":0.035,\"fTickLength\":0.03,\"fTitleOffset\":1,\"fTitleSize\":0.035,\"fTitleColor\":1,\"fTitleFont\":42,\"fNbins\":1,\"fXmin\":0,\"fXmax\":1,\"fXbins\":[],\"fFirst\":0,\"fLast\":0,\"fBits2\":0,\"fTimeDisplay\":false,\"fTimeFormat\":\"\",\"fLabels\":null,\"fModLabs\":null},\"fBarOffset\":0,\"fBarWidth\":1000,\"fEntries\":480000,\"fTsumw\":479206,\"fTsumw2\":479206,\"fTsumwx\":86371079.4012742,\"fTsumwx2\":32140409297.9258,\"fMaximum\":-1111,\"fMinimum\":-1111,\"fNormFactor\":0,\"fContour\":[],\"fSumw2\":[0,6.37262783989007e-8,9.93649187171052e-8,9.96523271067681e-8,1.02239002613735e-7,1.01463870896159e-7,1.00584227036887e-7,1.01786116666387e-7,1.01307102683615e-7,1.01159043816213e-7,1.0261350445481e-7,8.32177928251328e-8,6.70445388977365e-8,5.80129479862072e-8,5.19338250775789e-8,4.64556469837005e-8,4.26845005375171e-8,3.85214335599751e-8,3.55080001410849e-8,3.34351759974552e-8,3.0970431322467e-8,2.82356969480984e-8,2.75563680270769e-8,2.53093569806212e-8,2.48303429978497e-8,2.28184842702091e-8,2.17994908886769e-8,2.10069404808184e-8,1.93870022845364e-8,1.84289743189933e-8,1.7958669681363e-8,1.66435585650266e-8,1.62777660690919e-8,1.56245651834943e-8,1.45358970408317e-8,1.39436615712232e-8,1.28898308091257e-8,1.30901457473757e-8,1.23498514103651e-8,1.17227785601914e-8,1.16356851087784e-8,1.13308580288328e-8,9.99832822221375e-9,1.00592936382029e-8,9.44093013317048e-9,9.47576751373568e-9,8.91836942469241e-9,8.45677413220344e-9,8.30000591966002e-9,7.66422372434504e-9,7.50745551180162e-9,7.70777045005154e-9,7.22004712213868e-9,6.88909200676923e-9,6.88038266162793e-9,6.37524064343246e-9,6.27943784687815e-9,6.29685653716075e-9,5.82655189953049e-9,5.34753791675892e-9,5.31270053619372e-9,5.51301547444365e-9,4.80755851799825e-9,5.23431642992201e-9,4.52885947347661e-9,4.51144078319401e-9,4.424347331781e-9,4.18048566782457e-9,4.18048566782457e-9,3.54470347250958e-9,4.02371745528114e-9,3.29213246341185e-9,3.34438853425965e-9,3.14407359600973e-9,3.03085210917281e-9,2.71731568408597e-9,2.70860633894467e-9,2.80440913549898e-9,2.77828110007508e-9,2.63893157781426e-9,2.46474467498823e-9,2.1860456304666e-9,2.48216336527084e-9,2.2295923561731e-9,2.12508021447749e-9,1.95089331165146e-9,1.80283444424934e-9,1.61122885114072e-9,1.4805886740212e-9,1.61122885114072e-9,1.36736718718429e-9,1.4805886740212e-9,1.42833260317339e-9,1.39349522260819e-9,1.10608683294525e-9,1.04512141695614e-9,1.13221486836915e-9,1.07995879752135e-9,8.70934514130118e-10,8.44806478706214e-10,6.70619575880191e-10,3.45761002109657e-9],\"fOption\":\"\",\"fFunctions\":{\"_typename\":\"TList\",\"name\":\"TList\",\"arr\":[],\"opt\":[]},\"fBufferSize\":0,\"fBuffer\":[],\"fBinStatErrOpt\":0,\"fStatOverflows\":2,\"fArray\":[0,0.03053802,0.04761627,0.04775399,0.04899354,0.04862209,0.04820057,0.04877652,0.04854697,0.04847602,0.04917301,0.03987847,0.03212814,0.02780015,0.024887,0.02226182,0.02045467,0.0184597,0.01701565,0.01602234,0.01484122,0.01353072,0.01320518,0.0121284,0.01189885,0.01093475,0.01044645,0.01006665,0.009290367,0.008831275,0.008605902,0.007975693,0.007800403,0.007487386,0.006965689,0.006681887,0.006176884,0.006272876,0.005918123,0.005617626,0.00557589,0.005429815,0.004791259,0.004820474,0.00452415,0.004540845,0.004273736,0.004052537,0.003977413,0.003672742,0.003597618,0.00369361,0.00345989,0.003301294,0.003297121,0.003055054,0.003009144,0.003017491,0.002792119,0.002562572,0.002545878,0.00264187,0.002303811,0.002508316,0.002170257,0.00216191,0.002120174,0.002003314,0.002003314,0.001698643,0.00192819,0.00157761,0.001602651,0.001506659,0.001452403,0.001302154,0.00129798,0.00134389,0.001331369,0.001264592,0.00118112,0.001047566,0.001189468,0.001068434,0.001018351,9.348798e-4,8.639291e-4,7.721105e-4,7.09507e-4,7.721105e-4,6.552506e-4,7.09507e-4,6.844656e-4,6.677713e-4,5.300434e-4,5.008284e-4,5.425641e-4,5.175227e-4,4.17357e-4,4.048363e-4,3.213649e-4,0.001656907]},{\"_typename\":\"TH1F\",\"fUniqueID\":0,\"fBits\":50332169,\"fName\":\"h_genParts_ele_energy\",\"fTitle\":\"Gen Part Energy (GeV)\",\"fLineColor\":2,\"fLineStyle\":1,\"fLineWidth\":1,\"fFillColor\":0,\"fFillStyle\":1001,\"fMarkerColor\":1,\"fMarkerStyle\":1,\"fMarkerSize\":1,\"fNcells\":102,\"fXaxis\":{\"_typename\":\"TAxis\",\"fUniqueID\":0,\"fBits\":50331648,\"fName\":\"xaxis\",\"fTitle\":\" E [GeV]\",\"fNdivisions\":510,\"fAxisColor\":1,\"fLabelColor\":1,\"fLabelFont\":42,\"fLabelOffset\":0.005,\"fLabelSize\":0.035,\"fTickLength\":0.03,\"fTitleOffset\":1,\"fTitleSize\":0.035,\"fTitleColor\":1,\"fTitleFont\":42,\"fNbins\":100,\"fXmin\":0,\"fXmax\":1000,\"fXbins\":[],\"fFirst\":0,\"fLast\":0,\"fBits2\":0,\"fTimeDisplay\":false,\"fTimeFormat\":\"\",\"fLabels\":null,\"fModLabs\":null},\"fYaxis\":{\"_typename\":\"TAxis\",\"fUniqueID\":0,\"fBits\":50331648,\"fName\":\"yaxis\",\"fTitle\":\"\",\"fNdivisions\":510,\"fAxisColor\":1,\"fLabelColor\":1,\"fLabelFont\":42,\"fLabelOffset\":0.005,\"fLabelSize\":0.035,\"fTickLength\":0.03,\"fTitleOffset\":0,\"fTitleSize\":0.035,\"fTitleColor\":1,\"fTitleFont\":42,\"fNbins\":1,\"fXmin\":0,\"fXmax\":1,\"fXbins\":[],\"fFirst\":0,\"fLast\":0,\"fBits2\":0,\"fTimeDisplay\":false,\"fTimeFormat\":\"\",\"fLabels\":null,\"fModLabs\":null},\"fZaxis\":{\"_typename\":\"TAxis\",\"fUniqueID\":0,\"fBits\":50331648,\"fName\":\"zaxis\",\"fTitle\":\"\",\"fNdivisions\":510,\"fAxisColor\":1,\"fLabelColor\":1,\"fLabelFont\":42,\"fLabelOffset\":0.005,\"fLabelSize\":0.035,\"fTickLength\":0.03,\"fTitleOffset\":1,\"fTitleSize\":0.035,\"fTitleColor\":1,\"fTitleFont\":42,\"fNbins\":1,\"fXmin\":0,\"fXmax\":1,\"fXbins\":[],\"fFirst\":0,\"fLast\":0,\"fBits2\":0,\"fTimeDisplay\":false,\"fTimeFormat\":\"\",\"fLabels\":null,\"fModLabs\":null},\"fBarOffset\":0,\"fBarWidth\":1000,\"fEntries\":106400,\"fTsumw\":106226,\"fTsumw2\":106226,\"fTsumwx\":19187850.7143154,\"fTsumwx2\":7140970714.00369,\"fMaximum\":-1111,\"fMinimum\":-1111,\"fNormFactor\":0,\"fContour\":[],\"fSumw2\":[0,2.83765551024389e-7,4.38852907143278e-7,4.37080480216205e-7,4.56931661799422e-7,4.61894457195227e-7,4.42220518304716e-7,4.8139115339303e-7,4.55159234872349e-7,4.49310226013008e-7,4.81922881471152e-7,3.67601344674943e-7,3.01844305680534e-7,2.63559884055757e-7,2.42645246316295e-7,2.07728435852957e-7,1.9638490351969e-7,1.72634382696911e-7,1.50656288801206e-7,1.56859783045961e-7,1.4055345531689e-7,1.24424370280525e-7,1.25133341051355e-7,1.07586314473332e-7,1.1556223564516e-7,1.02978004462942e-7,1.03864217926478e-7,9.81924517598448e-8,9.23434429005039e-8,8.29495801870169e-8,8.38357936505534e-8,7.33784747808227e-8,7.30239893954081e-8,6.78839513068963e-8,6.43390974527503e-8,6.39846120673357e-8,5.83128459007021e-8,5.5299720124678e-8,5.49452347392634e-8,5.19321089632392e-8,5.14003808851173e-8,4.90962258799224e-8,4.85644978018005e-8,4.55513720257764e-8,4.50196439476545e-8,4.11203047080939e-8,3.98796058591428e-8,3.98796058591428e-8,3.8284421624777e-8,3.79299362393624e-8,3.33216262289726e-8,3.43850823852164e-8,2.83588308331682e-8,3.31443835362653e-8,2.90678016039974e-8,2.48139769790222e-8,2.69408892915098e-8,3.04857431456558e-8,2.7649860062339e-8,2.57001904425587e-8,2.62319185206806e-8,2.64091612133879e-8,1.87877254269739e-8,2.33960354373637e-8,1.98511815832177e-8,1.89649681196812e-8,2.4105006208193e-8,1.98511815832177e-8,1.77242692707301e-8,1.63063277290717e-8,1.57745996509498e-8,1.57745996509498e-8,1.48883861874133e-8,1.31159592603403e-8,1.38249300311695e-8,1.43566581092914e-8,1.22297457968038e-8,1.31159592603403e-8,1.09890469478527e-8,1.09890469478527e-8,1.06345615624381e-8,1.25842311822184e-8,9.21662002077966e-9,8.86213463536506e-9,9.03937732807236e-9,1.02800761770235e-8,8.50764924995045e-9,4.96279539580443e-9,7.79867847912125e-9,9.39386271348696e-9,6.55797963017014e-9,7.26695040099935e-9,6.73522232287744e-9,6.20349424475554e-9,4.96279539580443e-9,4.96279539580443e-9,4.96279539580443e-9,3.54485385414602e-9,3.01312577602412e-9,4.25382462497523e-9,3.89933923956062e-9,1.54201142655352e-8],\"fOption\":\"\",\"fFunctions\":{\"_typename\":\"TList\",\"name\":\"TList\",\"arr\":[],\"opt\":[]},\"fBufferSize\":0,\"fBuffer\":[],\"fBinStatErrOpt\":0,\"fStatOverflows\":2,\"fArray\":[0,0.03014328,0.04661759,0.04642931,0.04853802,0.0490652,0.04697532,0.05113626,0.04834975,0.04772843,0.05119274,0.03904882,0.03206371,0.02799691,0.02577523,0.02206616,0.02086118,0.01833826,0.01600361,0.01666259,0.01493043,0.0132171,0.01329241,0.01142846,0.01227571,0.01093894,0.01103308,0.01043059,0.009809274,0.008811402,0.008905541,0.007794702,0.007757046,0.007211041,0.006834485,0.006796829,0.006194341,0.005874268,0.005836613,0.00551654,0.005460057,0.005215296,0.005158812,0.00483874,0.004782257,0.004368045,0.004236251,0.004236251,0.004066801,0.004029145,0.003539623,0.00365259,0.003012445,0.003520795,0.003087756,0.002635889,0.002861823,0.003238379,0.002937134,0.002730028,0.002786512,0.00280534,0.001995745,0.002485267,0.002108712,0.002014573,0.002560578,0.002108712,0.001882778,0.001732156,0.001675673,0.001675673,0.001581534,0.001393256,0.001468567,0.00152505,0.001299117,0.001393256,0.001167323,0.001167323,0.001129667,0.001336773,9.790447e-4,9.413891e-4,9.602169e-4,0.001092011,9.037335e-4,5.271779e-4,8.284224e-4,9.978724e-4,6.966279e-4,7.719391e-4,7.154557e-4,6.589724e-4,5.271779e-4,5.271779e-4,5.271779e-4,3.765556e-4,3.200723e-4,4.518668e-4,4.142112e-4,0.001638017]},{\"_typename\":\"TLegend\",\"fUniqueID\":0,\"fBits\":50331656,\"fLineColor\":1,\"fLineStyle\":1,\"fLineWidth\":1,\"fFillColor\":0,\"fFillStyle\":0,\"fX1\":1000.00002091391,\"fY1\":0.0388913797880415,\"fX2\":1438.59651764564,\"fY2\":0.0482789541894899,\"fX1NDC\":0.7,\"fY1NDC\":0.71,\"fX2NDC\":0.95,\"fY2NDC\":0.85,\"fBorderSize\":0,\"fInit\":1,\"fShadowColor\":1,\"fCornerRadius\":0,\"fOption\":\"brNDC\",\"fName\":\"TPave\",\"fTextAngle\":0,\"fTextSize\":0.05,\"fTextAlign\":12,\"fTextColor\":1,\"fTextFont\":42,\"fPrimitives\":{\"_typename\":\"TList\",\"name\":\"TList\",\"arr\":[{\"_typename\":\"TLegendEntry\",\"fUniqueID\":0,\"fBits\":50331656,\"fTextAngle\":0,\"fTextSize\":0,\"fTextAlign\":0,\"fTextColor\":0,\"fTextFont\":42,\"fLineColor\":1,\"fLineStyle\":1,\"fLineWidth\":1,\"fFillColor\":0,\"fFillStyle\":0,\"fMarkerColor\":1,\"fMarkerStyle\":21,\"fMarkerSize\":1,\"fObject\":{\"_typename\":\"TH1F\",\"fUniqueID\":0,\"fBits\":50332168,\"fName\":\"h_genParts_ele_energy\",\"fTitle\":\"Gen Part Energy (GeV)\",\"fLineColor\":1,\"fLineStyle\":1,\"fLineWidth\":1,\"fFillColor\":0,\"fFillStyle\":1001,\"fMarkerColor\":1,\"fMarkerStyle\":1,\"fMarkerSize\":1,\"fNcells\":102,\"fXaxis\":{\"_typename\":\"TAxis\",\"fUniqueID\":0,\"fBits\":50331648,\"fName\":\"xaxis\",\"fTitle\":\" E [GeV]\",\"fNdivisions\":510,\"fAxisColor\":1,\"fLabelColor\":1,\"fLabelFont\":42,\"fLabelOffset\":0.005,\"fLabelSize\":0.035,\"fTickLength\":0.03,\"fTitleOffset\":1,\"fTitleSize\":0.035,\"fTitleColor\":1,\"fTitleFont\":42,\"fNbins\":100,\"fXmin\":0,\"fXmax\":1000,\"fXbins\":[],\"fFirst\":0,\"fLast\":0,\"fBits2\":0,\"fTimeDisplay\":false,\"fTimeFormat\":\"\",\"fLabels\":null,\"fModLabs\":null},\"fYaxis\":{\"_typename\":\"TAxis\",\"fUniqueID\":0,\"fBits\":50331656,\"fName\":\"yaxis\",\"fTitle\":\"\",\"fNdivisions\":510,\"fAxisColor\":1,\"fLabelColor\":1,\"fLabelFont\":42,\"fLabelOffset\":0.005,\"fLabelSize\":0.035,\"fTickLength\":0.03,\"fTitleOffset\":0,\"fTitleSize\":0.035,\"fTitleColor\":1,\"fTitleFont\":42,\"fNbins\":1,\"fXmin\":0,\"fXmax\":1,\"fXbins\":[],\"fFirst\":0,\"fLast\":0,\"fBits2\":0,\"fTimeDisplay\":false,\"fTimeFormat\":\"\",\"fLabels\":null,\"fModLabs\":null},\"fZaxis\":{\"_typename\":\"TAxis\",\"fUniqueID\":0,\"fBits\":50331648,\"fName\":\"zaxis\",\"fTitle\":\"\",\"fNdivisions\":510,\"fAxisColor\":1,\"fLabelColor\":1,\"fLabelFont\":42,\"fLabelOffset\":0.005,\"fLabelSize\":0.035,\"fTickLength\":0.03,\"fTitleOffset\":1,\"fTitleSize\":0.035,\"fTitleColor\":1,\"fTitleFont\":42,\"fNbins\":1,\"fXmin\":0,\"fXmax\":1,\"fXbins\":[],\"fFirst\":0,\"fLast\":0,\"fBits2\":0,\"fTimeDisplay\":false,\"fTimeFormat\":\"\",\"fLabels\":null,\"fModLabs\":null},\"fBarOffset\":0,\"fBarWidth\":1000,\"fEntries\":480000,\"fTsumw\":479206,\"fTsumw2\":479206,\"fTsumwx\":86371079.4012742,\"fTsumwx2\":32140409297.9258,\"fMaximum\":28276.8,\"fMinimum\":34,\"fNormFactor\":0,\"fContour\":[],\"fSumw2\":[0,14634,22818,22884,23478,23300,23098,23374,23264,23230,23564,19110,15396,13322,11926,10668,9802,8846,8154,7678,7112,6484,6328,5812,5702,5240,5006,4824,4452,4232,4124,3822,3738,3588,3338,3202,2960,3006,2836,2692,2672,2602,2296,2310,2168,2176,2048,1942,1906,1760,1724,1770,1658,1582,1580,1464,1442,1446,1338,1228,1220,1266,1104,1202,1040,1036,1016,960,960,814,924,756,768,722,696,624,622,644,638,606,566,502,570,512,488,448,414,370,340,370,314,340,328,320,254,240,260,248,200,194,154,794],\"fOption\":\"\",\"fFunctions\":{\"_typename\":\"TList\",\"name\":\"TList\",\"arr\":[],\"opt\":[]},\"fBufferSize\":0,\"fBuffer\":[],\"fBinStatErrOpt\":0,\"fStatOverflows\":2,\"fArray\":[0,14634,22818,22884,23478,23300,23098,23374,23264,23230,23564,19110,15396,13322,11926,10668,9802,8846,8154,7678,7112,6484,6328,5812,5702,5240,5006,4824,4452,4232,4124,3822,3738,3588,3338,3202,2960,3006,2836,2692,2672,2602,2296,2310,2168,2176,2048,1942,1906,1760,1724,1770,1658,1582,1580,1464,1442,1446,1338,1228,1220,1266,1104,1202,1040,1036,1016,960,960,814,924,756,768,722,696,624,622,644,638,606,566,502,570,512,488,448,414,370,340,370,314,340,328,320,254,240,260,248,200,194,154,794]},\"fLabel\":\"PU0\",\"fOption\":\"l\"},{\"_typename\":\"TLegendEntry\",\"fUniqueID\":0,\"fBits\":50331656,\"fTextAngle\":0,\"fTextSize\":0,\"fTextAlign\":0,\"fTextColor\":0,\"fTextFont\":42,\"fLineColor\":2,\"fLineStyle\":1,\"fLineWidth\":1,\"fFillColor\":0,\"fFillStyle\":0,\"fMarkerColor\":1,\"fMarkerStyle\":21,\"fMarkerSize\":1,\"fObject\":{\"_typename\":\"TH1F\",\"fUniqueID\":0,\"fBits\":50332168,\"fName\":\"h_genParts_ele_energy\",\"fTitle\":\"Gen Part Energy (GeV)\",\"fLineColor\":2,\"fLineStyle\":1,\"fLineWidth\":1,\"fFillColor\":0,\"fFillStyle\":1001,\"fMarkerColor\":1,\"fMarkerStyle\":1,\"fMarkerSize\":1,\"fNcells\":102,\"fXaxis\":{\"_typename\":\"TAxis\",\"fUniqueID\":0,\"fBits\":50331648,\"fName\":\"xaxis\",\"fTitle\":\" E [GeV]\",\"fNdivisions\":510,\"fAxisColor\":1,\"fLabelColor\":1,\"fLabelFont\":42,\"fLabelOffset\":0.005,\"fLabelSize\":0.035,\"fTickLength\":0.03,\"fTitleOffset\":1,\"fTitleSize\":0.035,\"fTitleColor\":1,\"fTitleFont\":42,\"fNbins\":100,\"fXmin\":0,\"fXmax\":1000,\"fXbins\":[],\"fFirst\":0,\"fLast\":0,\"fBits2\":0,\"fTimeDisplay\":false,\"fTimeFormat\":\"\",\"fLabels\":null,\"fModLabs\":null},\"fYaxis\":{\"_typename\":\"TAxis\",\"fUniqueID\":0,\"fBits\":50331648,\"fName\":\"yaxis\",\"fTitle\":\"\",\"fNdivisions\":510,\"fAxisColor\":1,\"fLabelColor\":1,\"fLabelFont\":42,\"fLabelOffset\":0.005,\"fLabelSize\":0.035,\"fTickLength\":0.03,\"fTitleOffset\":0,\"fTitleSize\":0.035,\"fTitleColor\":1,\"fTitleFont\":42,\"fNbins\":1,\"fXmin\":0,\"fXmax\":1,\"fXbins\":[],\"fFirst\":0,\"fLast\":0,\"fBits2\":0,\"fTimeDisplay\":false,\"fTimeFormat\":\"\",\"fLabels\":null,\"fModLabs\":null},\"fZaxis\":{\"_typename\":\"TAxis\",\"fUniqueID\":0,\"fBits\":50331648,\"fName\":\"zaxis\",\"fTitle\":\"\",\"fNdivisions\":510,\"fAxisColor\":1,\"fLabelColor\":1,\"fLabelFont\":42,\"fLabelOffset\":0.005,\"fLabelSize\":0.035,\"fTickLength\":0.03,\"fTitleOffset\":1,\"fTitleSize\":0.035,\"fTitleColor\":1,\"fTitleFont\":42,\"fNbins\":1,\"fXmin\":0,\"fXmax\":1,\"fXbins\":[],\"fFirst\":0,\"fLast\":0,\"fBits2\":0,\"fTimeDisplay\":false,\"fTimeFormat\":\"\",\"fLabels\":null,\"fModLabs\":null},\"fBarOffset\":0,\"fBarWidth\":1000,\"fEntries\":106400,\"fTsumw\":106226,\"fTsumw2\":106226,\"fTsumwx\":19187850.7143154,\"fTsumwx2\":7140970714.00369,\"fMaximum\":-1111,\"fMinimum\":-1111,\"fNormFactor\":0,\"fContour\":[],\"fSumw2\":[0,3202,4952,4932,5156,5212,4990,5432,5136,5070,5438,4148,3406,2974,2738,2344,2216,1948,1700,1770,1586,1404,1412,1214,1304,1162,1172,1108,1042,936,946,828,824,766,726,722,658,624,620,586,580,554,548,514,508,464,450,450,432,428,376,388,320,374,328,280,304,344,312,290,296,298,212,264,224,214,272,224,200,184,178,178,168,148,156,162,138,148,124,124,120,142,104,100,102,116,96,56,88,106,74,82,76,70,56,56,56,40,34,48,44,174],\"fOption\":\"\",\"fFunctions\":{\"_typename\":\"TList\",\"name\":\"TList\",\"arr\":[],\"opt\":[]},\"fBufferSize\":0,\"fBuffer\":[],\"fBinStatErrOpt\":0,\"fStatOverflows\":2,\"fArray\":[0,3202,4952,4932,5156,5212,4990,5432,5136,5070,5438,4148,3406,2974,2738,2344,2216,1948,1700,1770,1586,1404,1412,1214,1304,1162,1172,1108,1042,936,946,828,824,766,726,722,658,624,620,586,580,554,548,514,508,464,450,450,432,428,376,388,320,374,328,280,304,344,312,290,296,298,212,264,224,214,272,224,200,184,178,178,168,148,156,162,138,148,124,124,120,142,104,100,102,116,96,56,88,106,74,82,76,70,56,56,56,40,34,48,44,174]},\"fLabel\":\"PU200\",\"fOption\":\"l\"}],\"opt\":[\"l\",\"l\"]},\"fEntrySeparation\":0.1,\"fMargin\":0.25,\"fNColumns\":1,\"fColumnSeparation\":0},{\"_typename\":\"TPaveText\",\"fUniqueID\":0,\"fBits\":50331657,\"fLineColor\":1,\"fLineStyle\":1,\"fLineWidth\":1,\"fFillColor\":0,\"fFillStyle\":0,\"fX1\":287.754574261518,\"fY1\":0.0539222840757339,\"fX2\":1010.49107279553,\"fY2\":0.0580017994250147,\"fX1NDC\":0.294020100502513,\"fY1NDC\":0.934160843929211,\"fX2NDC\":0.705979899497488,\"fY2NDC\":0.995000004768372,\"fBorderSize\":0,\"fInit\":1,\"fShadowColor\":1,\"fCornerRadius\":0,\"fOption\":\"blNDC\",\"fName\":\"title\",\"fTextAngle\":0,\"fTextSize\":0,\"fTextAlign\":22,\"fTextColor\":1,\"fTextFont\":42,\"fLabel\":\"\",\"fLongest\":21,\"fMargin\":0.05,\"fLines\":{\"_typename\":\"TList\",\"name\":\"TList\",\"arr\":[{\"_typename\":\"TLatex\",\"fUniqueID\":0,\"fBits\":50331648,\"fName\":\"\",\"fTitle\":\"Gen Part Energy (GeV)\",\"fTextAngle\":0,\"fTextSize\":0,\"fTextAlign\":0,\"fTextColor\":0,\"fTextFont\":0,\"fX\":0,\"fY\":0,\"fLineColor\":1,\"fLineStyle\":1,\"fLineWidth\":2,\"fLimitFactorSize\":3,\"fOriginSize\":0.0517132878303528}],\"opt\":[\"\"]}}],\"opt\":[\"\",\",HIST\",\"SAME,HIST\",\"\",\"blNDC\"]},\"fExecs\":null,\"fName\":\"c_e974d8\",\"fTitle\":\"h_genParts_ele_energy\",\"fNumPaletteColor\":0,\"fNextPaletteColor\":0,\"fDISPLAY\":\"$DISPLAY\",\"fDoubleBuffer\":0,\"fRetained\":true,\"fXsizeUser\":0,\"fYsizeUser\":0,\"fXsizeReal\":20,\"fYsizeReal\":15,\"fWindowTopX\":0,\"fWindowTopY\":0,\"fWindowWidth\":0,\"fWindowHeight\":0,\"fCw\":796,\"fCh\":572,\"fCatt\":{\"_typename\":\"TAttCanvas\",\"fXBetween\":2,\"fYBetween\":2,\"fTitleFromTop\":1.2,\"fXdate\":0.2,\"fYdate\":0.3,\"fAdate\":1},\"kMoveOpaque\":true,\"kResizeOpaque\":true,\"fHighLightColor\":2,\"fBatch\":true,\"kShowEventStatus\":false,\"kAutoExec\":true,\"kMenuBar\":true});\n",
       "       Core.draw(\"root_plot_1\", obj, \"\");\n",
       "     }\n",
       " );\n",
       "</script>\n"
      ],
      "text/plain": [
       "<IPython.core.display.HTML object>"
      ]
     },
     "metadata": {},
     "output_type": "display_data"
    }
   ],
   "source": [
    "h_energy = [histo.h_energy for histo in ele_histos]\n",
    "drawSame(h_energy, labels,'hist', norm=True)\n"
   ]
  },
  {
   "cell_type": "code",
   "execution_count": 10,
   "metadata": {},
   "outputs": [
    {
     "data": {
      "text/html": [
       "\n",
       "<div id=\"root_plot_2\"\n",
       "     style=\"width: 796px; height: 572px\">\n",
       "</div>\n",
       "\n",
       "<script>\n",
       " requirejs.config({\n",
       "     paths: {\n",
       "       'JSRootCore' : 'https://root.cern.ch/js/notebook//scripts/JSRootCore',\n",
       "     }\n",
       "   });\n",
       " require(['JSRootCore'],\n",
       "     function(Core) {\n",
       "       var obj = Core.JSONR_unref({\"_typename\":\"TCanvas\",\"fUniqueID\":0,\"fBits\":53673992,\"fLineColor\":1,\"fLineStyle\":1,\"fLineWidth\":1,\"fFillColor\":0,\"fFillStyle\":1001,\"fLeftMargin\":0.13,\"fRightMargin\":0.3,\"fBottomMargin\":0.13,\"fTopMargin\":0.1,\"fXfile\":2,\"fYfile\":2,\"fAfile\":1,\"fXstat\":0.99,\"fYstat\":0.99,\"fAstat\":2,\"fFrameFillColor\":0,\"fFrameLineColor\":1,\"fFrameFillStyle\":1001,\"fFrameLineStyle\":1,\"fFrameLineWidth\":1,\"fFrameBorderSize\":1,\"fFrameBorderMode\":0,\"fX1\":-22.8070169934936,\"fY1\":-0.00374636361147183,\"fX2\":152.631581699199,\"fY2\":0.0250718184281426,\"fXtoAbsPixelk\":103.480046204376,\"fXtoPixelk\":103.480046204376,\"fXtoPixel\":4.53719994306564,\"fYtoAbsPixelk\":497.640051065433,\"fYtoPixelk\":497.640051065433,\"fYtoPixel\":-19848.5802891282,\"fUtoAbsPixelk\":5e-5,\"fUtoPixelk\":5e-5,\"fUtoPixel\":796,\"fVtoAbsPixelk\":572.00005,\"fVtoPixelk\":572,\"fVtoPixel\":-572,\"fAbsPixeltoXk\":-22.8070169934936,\"fPixeltoXk\":-22.8070169934936,\"fPixeltoX\":0.220400249613935,\"fAbsPixeltoYk\":0.0250718184281426,\"fPixeltoYk\":-0.00374636361147183,\"fPixeltoY\":-5.03814371321932e-5,\"fXlowNDC\":0,\"fYlowNDC\":0,\"fXUpNDC\":0,\"fYUpNDC\":0,\"fWNDC\":1,\"fHNDC\":1,\"fAbsXlowNDC\":0,\"fAbsYlowNDC\":0,\"fAbsWNDC\":1,\"fAbsHNDC\":1,\"fUxmin\":0,\"fUymin\":0,\"fUxmax\":100,\"fUymax\":0.0221900001168251,\"fTheta\":30,\"fPhi\":30,\"fAspectRatio\":0,\"fNumber\":0,\"fTickx\":0,\"fTicky\":0,\"fLogx\":0,\"fLogy\":0,\"fLogz\":0,\"fPadPaint\":0,\"fCrosshair\":0,\"fCrosshairPos\":0,\"fBorderSize\":2,\"fBorderMode\":0,\"fModified\":false,\"fGridx\":false,\"fGridy\":false,\"fAbsCoord\":false,\"fEditable\":true,\"fFixedAspectRatio\":false,\"fPrimitives\":{\"_typename\":\"TList\",\"name\":\"TList\",\"arr\":[{\"_typename\":\"TFrame\",\"fUniqueID\":0,\"fBits\":50331656,\"fLineColor\":1,\"fLineStyle\":1,\"fLineWidth\":1,\"fFillColor\":0,\"fFillStyle\":1001,\"fX1\":0,\"fY1\":0,\"fX2\":100,\"fY2\":0.0221900001168251,\"fBorderSize\":1,\"fBorderMode\":0},{\"_typename\":\"TH1F\",\"fUniqueID\":0,\"fBits\":50332169,\"fName\":\"h_genParts_ele_pt\",\"fTitle\":\"Gen Part P_{T} (GeV)\",\"fLineColor\":1,\"fLineStyle\":1,\"fLineWidth\":1,\"fFillColor\":0,\"fFillStyle\":1001,\"fMarkerColor\":1,\"fMarkerStyle\":1,\"fMarkerSize\":1,\"fNcells\":52,\"fXaxis\":{\"_typename\":\"TAxis\",\"fUniqueID\":0,\"fBits\":50331648,\"fName\":\"xaxis\",\"fTitle\":\" p_{T}^{GEN} [GeV]\",\"fNdivisions\":510,\"fAxisColor\":1,\"fLabelColor\":1,\"fLabelFont\":42,\"fLabelOffset\":0.005,\"fLabelSize\":0.035,\"fTickLength\":0.03,\"fTitleOffset\":1,\"fTitleSize\":0.035,\"fTitleColor\":1,\"fTitleFont\":42,\"fNbins\":50,\"fXmin\":0,\"fXmax\":100,\"fXbins\":[],\"fFirst\":0,\"fLast\":0,\"fBits2\":0,\"fTimeDisplay\":false,\"fTimeFormat\":\"\",\"fLabels\":null,\"fModLabs\":null},\"fYaxis\":{\"_typename\":\"TAxis\",\"fUniqueID\":0,\"fBits\":50331648,\"fName\":\"yaxis\",\"fTitle\":\"\",\"fNdivisions\":510,\"fAxisColor\":1,\"fLabelColor\":1,\"fLabelFont\":42,\"fLabelOffset\":0.005,\"fLabelSize\":0.035,\"fTickLength\":0.03,\"fTitleOffset\":0,\"fTitleSize\":0.035,\"fTitleColor\":1,\"fTitleFont\":42,\"fNbins\":1,\"fXmin\":0,\"fXmax\":1,\"fXbins\":[],\"fFirst\":0,\"fLast\":0,\"fBits2\":0,\"fTimeDisplay\":false,\"fTimeFormat\":\"\",\"fLabels\":null,\"fModLabs\":null},\"fZaxis\":{\"_typename\":\"TAxis\",\"fUniqueID\":0,\"fBits\":50331648,\"fName\":\"zaxis\",\"fTitle\":\"\",\"fNdivisions\":510,\"fAxisColor\":1,\"fLabelColor\":1,\"fLabelFont\":42,\"fLabelOffset\":0.005,\"fLabelSize\":0.035,\"fTickLength\":0.03,\"fTitleOffset\":1,\"fTitleSize\":0.035,\"fTitleColor\":1,\"fTitleFont\":42,\"fNbins\":1,\"fXmin\":0,\"fXmax\":1,\"fXbins\":[],\"fFirst\":0,\"fLast\":0,\"fBits2\":0,\"fTimeDisplay\":false,\"fTimeFormat\":\"\",\"fLabels\":null,\"fModLabs\":null},\"fBarOffset\":0,\"fBarWidth\":1000,\"fEntries\":480000,\"fTsumw\":480000,\"fTsumw2\":480000,\"fTsumwx\":24472915.2298946,\"fTsumwx2\":1632593424.87883,\"fMaximum\":-1111,\"fMinimum\":-1111,\"fNormFactor\":0,\"fContour\":[],\"fSumw2\":[0,0,4.28211805555556e-8,4.32725694444445e-8,4.28385416666667e-8,4.22309027777778e-8,4.27083333333333e-8,4.15798611111111e-8,4.30208333333333e-8,4.35416666666667e-8,4.20399305555556e-8,4.29340277777778e-8,4.14930555555556e-8,4.18055555555556e-8,4.23263888888889e-8,4.38715277777778e-8,4.24826388888889e-8,4.22135416666667e-8,4.2265625e-8,4.18315972222222e-8,4.28559027777778e-8,4.23871527777778e-8,4.26475694444445e-8,4.21701388888889e-8,4.27777777777778e-8,4.19097222222222e-8,4.25e-8,4.2109375e-8,4.35243055555556e-8,4.30381944444444e-8,4.28038194444445e-8,4.29340277777778e-8,4.09201388888889e-8,4.2265625e-8,4.3359375e-8,4.25347222222222e-8,4.22222222222222e-8,4.28038194444445e-8,4.27951388888889e-8,4.24739583333333e-8,4.25086805555556e-8,4.23958333333333e-8,4.24913194444445e-8,4.25173611111111e-8,4.15364583333333e-8,4.19791666666667e-8,4.22569444444444e-8,4.16319444444444e-8,4.21267361111111e-8,4.40277777777778e-8,4.35503472222222e-8,0],\"fOption\":\"\",\"fFunctions\":{\"_typename\":\"TList\",\"name\":\"TList\",\"arr\":[],\"opt\":[]},\"fBufferSize\":0,\"fBuffer\":[],\"fBinStatErrOpt\":0,\"fStatOverflows\":2,\"fArray\":[0,0,0.02055417,0.02077083,0.0205625,0.02027083,0.0205,0.01995833,0.02065,0.0209,0.02017917,0.02060833,0.01991667,0.02006667,0.02031667,0.02105833,0.02039167,0.0202625,0.0202875,0.02007917,0.02057083,0.02034583,0.02047083,0.02024167,0.02053333,0.02011667,0.0204,0.0202125,0.02089167,0.02065833,0.02054583,0.02060833,0.01964167,0.0202875,0.0208125,0.02041667,0.02026667,0.02054583,0.02054167,0.0203875,0.02040417,0.02035,0.02039583,0.02040833,0.0199375,0.02015,0.02028333,0.01998333,0.02022083,0.02113333,0.02090417,0]},{\"_typename\":\"TH1F\",\"fUniqueID\":0,\"fBits\":50332169,\"fName\":\"h_genParts_ele_pt\",\"fTitle\":\"Gen Part P_{T} (GeV)\",\"fLineColor\":2,\"fLineStyle\":1,\"fLineWidth\":1,\"fFillColor\":0,\"fFillStyle\":1001,\"fMarkerColor\":1,\"fMarkerStyle\":1,\"fMarkerSize\":1,\"fNcells\":52,\"fXaxis\":{\"_typename\":\"TAxis\",\"fUniqueID\":0,\"fBits\":50331648,\"fName\":\"xaxis\",\"fTitle\":\" p_{T}^{GEN} [GeV]\",\"fNdivisions\":510,\"fAxisColor\":1,\"fLabelColor\":1,\"fLabelFont\":42,\"fLabelOffset\":0.005,\"fLabelSize\":0.035,\"fTickLength\":0.03,\"fTitleOffset\":1,\"fTitleSize\":0.035,\"fTitleColor\":1,\"fTitleFont\":42,\"fNbins\":50,\"fXmin\":0,\"fXmax\":100,\"fXbins\":[],\"fFirst\":0,\"fLast\":0,\"fBits2\":0,\"fTimeDisplay\":false,\"fTimeFormat\":\"\",\"fLabels\":null,\"fModLabs\":null},\"fYaxis\":{\"_typename\":\"TAxis\",\"fUniqueID\":0,\"fBits\":50331648,\"fName\":\"yaxis\",\"fTitle\":\"\",\"fNdivisions\":510,\"fAxisColor\":1,\"fLabelColor\":1,\"fLabelFont\":42,\"fLabelOffset\":0.005,\"fLabelSize\":0.035,\"fTickLength\":0.03,\"fTitleOffset\":0,\"fTitleSize\":0.035,\"fTitleColor\":1,\"fTitleFont\":42,\"fNbins\":1,\"fXmin\":0,\"fXmax\":1,\"fXbins\":[],\"fFirst\":0,\"fLast\":0,\"fBits2\":0,\"fTimeDisplay\":false,\"fTimeFormat\":\"\",\"fLabels\":null,\"fModLabs\":null},\"fZaxis\":{\"_typename\":\"TAxis\",\"fUniqueID\":0,\"fBits\":50331648,\"fName\":\"zaxis\",\"fTitle\":\"\",\"fNdivisions\":510,\"fAxisColor\":1,\"fLabelColor\":1,\"fLabelFont\":42,\"fLabelOffset\":0.005,\"fLabelSize\":0.035,\"fTickLength\":0.03,\"fTitleOffset\":1,\"fTitleSize\":0.035,\"fTitleColor\":1,\"fTitleFont\":42,\"fNbins\":1,\"fXmin\":0,\"fXmax\":1,\"fXbins\":[],\"fFirst\":0,\"fLast\":0,\"fBits2\":0,\"fTimeDisplay\":false,\"fTimeFormat\":\"\",\"fLabels\":null,\"fModLabs\":null},\"fBarOffset\":0,\"fBarWidth\":1000,\"fEntries\":106400,\"fTsumw\":106400,\"fTsumw2\":106400,\"fTsumwx\":5431138.93791294,\"fTsumwx2\":362625492.422576,\"fMaximum\":-1111,\"fMinimum\":-1111,\"fNormFactor\":0,\"fContour\":[],\"fSumw2\":[0,0,2.01926338402397e-7,1.99453049918028e-7,1.8567329979083e-7,1.84789982474984e-7,1.9026654983323e-7,1.93799819096614e-7,1.812567132116e-7,1.93799819096614e-7,1.87086607496184e-7,1.95036463338798e-7,1.9468313641246e-7,1.85849963254e-7,1.91503194075414e-7,2.05989598055289e-7,1.97509751823167e-7,1.84436655548646e-7,1.87616597885692e-7,1.85143309401323e-7,1.91856521001752e-7,1.96449771044152e-7,1.90619876759568e-7,1.9026654983323e-7,1.93269828707106e-7,1.84789982474984e-7,1.93093165243937e-7,1.83906665159138e-7,1.90973203685906e-7,1.92033184464922e-7,1.94329809486121e-7,1.92916501780768e-7,1.90443213296399e-7,1.94153146022952e-7,1.89736559443722e-7,1.99806376844367e-7,1.97509751823167e-7,1.88499915201538e-7,1.86556617106676e-7,2.00689694160213e-7,1.90796540222737e-7,1.91503194075414e-7,1.94506472949291e-7,1.80020068969416e-7,1.93269828707106e-7,1.90443213296399e-7,2.00159703770705e-7,1.84259992085477e-7,1.96096444117813e-7,1.95743117191475e-7,1.93976482559783e-7,0],\"fOption\":\"\",\"fFunctions\":{\"_typename\":\"TList\",\"name\":\"TList\",\"arr\":[],\"opt\":[]},\"fBufferSize\":0,\"fBuffer\":[],\"fBinStatErrOpt\":0,\"fStatOverflows\":2,\"fArray\":[0,0,0.02148496,0.02122181,0.01975564,0.01966165,0.02024436,0.0206203,0.01928571,0.0206203,0.01990601,0.02075188,0.02071428,0.01977444,0.02037594,0.02191729,0.02101504,0.01962406,0.01996241,0.01969925,0.02041353,0.02090226,0.02028196,0.02024436,0.02056391,0.01966165,0.02054511,0.01956767,0.02031955,0.02043233,0.02067669,0.02052632,0.02026316,0.0206579,0.02018797,0.0212594,0.02101504,0.02005639,0.01984962,0.02135338,0.02030075,0.02037594,0.02069549,0.01915414,0.02056391,0.02026316,0.02129699,0.01960526,0.02086466,0.02082707,0.0206391,0]},{\"_typename\":\"TLegend\",\"fUniqueID\":0,\"fBits\":50331656,\"fLineColor\":1,\"fLineStyle\":1,\"fLineWidth\":1,\"fFillColor\":0,\"fFillStyle\":0,\"fX1\":100.000002091391,\"fY1\":0.0167145456366544,\"fX2\":143.859651764564,\"fY2\":0.0207490911222005,\"fX1NDC\":0.7,\"fY1NDC\":0.71,\"fX2NDC\":0.95,\"fY2NDC\":0.85,\"fBorderSize\":0,\"fInit\":1,\"fShadowColor\":1,\"fCornerRadius\":0,\"fOption\":\"brNDC\",\"fName\":\"TPave\",\"fTextAngle\":0,\"fTextSize\":0.05,\"fTextAlign\":12,\"fTextColor\":1,\"fTextFont\":42,\"fPrimitives\":{\"_typename\":\"TList\",\"name\":\"TList\",\"arr\":[{\"_typename\":\"TLegendEntry\",\"fUniqueID\":0,\"fBits\":50331656,\"fTextAngle\":0,\"fTextSize\":0,\"fTextAlign\":0,\"fTextColor\":0,\"fTextFont\":42,\"fLineColor\":1,\"fLineStyle\":1,\"fLineWidth\":1,\"fFillColor\":0,\"fFillStyle\":0,\"fMarkerColor\":1,\"fMarkerStyle\":21,\"fMarkerSize\":1,\"fObject\":{\"_typename\":\"TH1F\",\"fUniqueID\":0,\"fBits\":50332168,\"fName\":\"h_genParts_ele_pt\",\"fTitle\":\"Gen Part P_{T} (GeV)\",\"fLineColor\":1,\"fLineStyle\":1,\"fLineWidth\":1,\"fFillColor\":0,\"fFillStyle\":1001,\"fMarkerColor\":1,\"fMarkerStyle\":1,\"fMarkerSize\":1,\"fNcells\":52,\"fXaxis\":{\"_typename\":\"TAxis\",\"fUniqueID\":0,\"fBits\":50331648,\"fName\":\"xaxis\",\"fTitle\":\" p_{T}^{GEN} [GeV]\",\"fNdivisions\":510,\"fAxisColor\":1,\"fLabelColor\":1,\"fLabelFont\":42,\"fLabelOffset\":0.005,\"fLabelSize\":0.035,\"fTickLength\":0.03,\"fTitleOffset\":1,\"fTitleSize\":0.035,\"fTitleColor\":1,\"fTitleFont\":42,\"fNbins\":50,\"fXmin\":0,\"fXmax\":100,\"fXbins\":[],\"fFirst\":0,\"fLast\":0,\"fBits2\":0,\"fTimeDisplay\":false,\"fTimeFormat\":\"\",\"fLabels\":null,\"fModLabs\":null},\"fYaxis\":{\"_typename\":\"TAxis\",\"fUniqueID\":0,\"fBits\":50331656,\"fName\":\"yaxis\",\"fTitle\":\"\",\"fNdivisions\":510,\"fAxisColor\":1,\"fLabelColor\":1,\"fLabelFont\":42,\"fLabelOffset\":0.005,\"fLabelSize\":0.035,\"fTickLength\":0.03,\"fTitleOffset\":0,\"fTitleSize\":0.035,\"fTitleColor\":1,\"fTitleFont\":42,\"fNbins\":1,\"fXmin\":0,\"fXmax\":1,\"fXbins\":[],\"fFirst\":0,\"fLast\":0,\"fBits2\":0,\"fTimeDisplay\":false,\"fTimeFormat\":\"\",\"fLabels\":null,\"fModLabs\":null},\"fZaxis\":{\"_typename\":\"TAxis\",\"fUniqueID\":0,\"fBits\":50331648,\"fName\":\"zaxis\",\"fTitle\":\"\",\"fNdivisions\":510,\"fAxisColor\":1,\"fLabelColor\":1,\"fLabelFont\":42,\"fLabelOffset\":0.005,\"fLabelSize\":0.035,\"fTickLength\":0.03,\"fTitleOffset\":1,\"fTitleSize\":0.035,\"fTitleColor\":1,\"fTitleFont\":42,\"fNbins\":1,\"fXmin\":0,\"fXmax\":1,\"fXbins\":[],\"fFirst\":0,\"fLast\":0,\"fBits2\":0,\"fTimeDisplay\":false,\"fTimeFormat\":\"\",\"fLabels\":null,\"fModLabs\":null},\"fBarOffset\":0,\"fBarWidth\":1000,\"fEntries\":480000,\"fTsumw\":480000,\"fTsumw2\":480000,\"fTsumwx\":24472915.2298946,\"fTsumwx2\":1632593424.87883,\"fMaximum\":12172.8,\"fMinimum\":0,\"fNormFactor\":0,\"fContour\":[],\"fSumw2\":[0,0,9866,9970,9870,9730,9840,9580,9912,10032,9686,9892,9560,9632,9752,10108,9788,9726,9738,9638,9874,9766,9826,9716,9856,9656,9792,9702,10028,9916,9862,9892,9428,9738,9990,9800,9728,9862,9860,9786,9794,9768,9790,9796,9570,9672,9736,9592,9706,10144,10034,0],\"fOption\":\"\",\"fFunctions\":{\"_typename\":\"TList\",\"name\":\"TList\",\"arr\":[],\"opt\":[]},\"fBufferSize\":0,\"fBuffer\":[],\"fBinStatErrOpt\":0,\"fStatOverflows\":2,\"fArray\":[0,0,9866,9970,9870,9730,9840,9580,9912,10032,9686,9892,9560,9632,9752,10108,9788,9726,9738,9638,9874,9766,9826,9716,9856,9656,9792,9702,10028,9916,9862,9892,9428,9738,9990,9800,9728,9862,9860,9786,9794,9768,9790,9796,9570,9672,9736,9592,9706,10144,10034,0]},\"fLabel\":\"PU0\",\"fOption\":\"l\"},{\"_typename\":\"TLegendEntry\",\"fUniqueID\":0,\"fBits\":50331656,\"fTextAngle\":0,\"fTextSize\":0,\"fTextAlign\":0,\"fTextColor\":0,\"fTextFont\":42,\"fLineColor\":2,\"fLineStyle\":1,\"fLineWidth\":1,\"fFillColor\":0,\"fFillStyle\":0,\"fMarkerColor\":1,\"fMarkerStyle\":21,\"fMarkerSize\":1,\"fObject\":{\"_typename\":\"TH1F\",\"fUniqueID\":0,\"fBits\":50332168,\"fName\":\"h_genParts_ele_pt\",\"fTitle\":\"Gen Part P_{T} (GeV)\",\"fLineColor\":2,\"fLineStyle\":1,\"fLineWidth\":1,\"fFillColor\":0,\"fFillStyle\":1001,\"fMarkerColor\":1,\"fMarkerStyle\":1,\"fMarkerSize\":1,\"fNcells\":52,\"fXaxis\":{\"_typename\":\"TAxis\",\"fUniqueID\":0,\"fBits\":50331648,\"fName\":\"xaxis\",\"fTitle\":\" p_{T}^{GEN} [GeV]\",\"fNdivisions\":510,\"fAxisColor\":1,\"fLabelColor\":1,\"fLabelFont\":42,\"fLabelOffset\":0.005,\"fLabelSize\":0.035,\"fTickLength\":0.03,\"fTitleOffset\":1,\"fTitleSize\":0.035,\"fTitleColor\":1,\"fTitleFont\":42,\"fNbins\":50,\"fXmin\":0,\"fXmax\":100,\"fXbins\":[],\"fFirst\":0,\"fLast\":0,\"fBits2\":0,\"fTimeDisplay\":false,\"fTimeFormat\":\"\",\"fLabels\":null,\"fModLabs\":null},\"fYaxis\":{\"_typename\":\"TAxis\",\"fUniqueID\":0,\"fBits\":50331648,\"fName\":\"yaxis\",\"fTitle\":\"\",\"fNdivisions\":510,\"fAxisColor\":1,\"fLabelColor\":1,\"fLabelFont\":42,\"fLabelOffset\":0.005,\"fLabelSize\":0.035,\"fTickLength\":0.03,\"fTitleOffset\":0,\"fTitleSize\":0.035,\"fTitleColor\":1,\"fTitleFont\":42,\"fNbins\":1,\"fXmin\":0,\"fXmax\":1,\"fXbins\":[],\"fFirst\":0,\"fLast\":0,\"fBits2\":0,\"fTimeDisplay\":false,\"fTimeFormat\":\"\",\"fLabels\":null,\"fModLabs\":null},\"fZaxis\":{\"_typename\":\"TAxis\",\"fUniqueID\":0,\"fBits\":50331648,\"fName\":\"zaxis\",\"fTitle\":\"\",\"fNdivisions\":510,\"fAxisColor\":1,\"fLabelColor\":1,\"fLabelFont\":42,\"fLabelOffset\":0.005,\"fLabelSize\":0.035,\"fTickLength\":0.03,\"fTitleOffset\":1,\"fTitleSize\":0.035,\"fTitleColor\":1,\"fTitleFont\":42,\"fNbins\":1,\"fXmin\":0,\"fXmax\":1,\"fXbins\":[],\"fFirst\":0,\"fLast\":0,\"fBits2\":0,\"fTimeDisplay\":false,\"fTimeFormat\":\"\",\"fLabels\":null,\"fModLabs\":null},\"fBarOffset\":0,\"fBarWidth\":1000,\"fEntries\":106400,\"fTsumw\":106400,\"fTsumw2\":106400,\"fTsumwx\":5431138.93791294,\"fTsumwx2\":362625492.422576,\"fMaximum\":-1111,\"fMinimum\":-1111,\"fNormFactor\":0,\"fContour\":[],\"fSumw2\":[0,0,2286,2258,2102,2092,2154,2194,2052,2194,2118,2208,2204,2104,2168,2332,2236,2088,2124,2096,2172,2224,2158,2154,2188,2092,2186,2082,2162,2174,2200,2184,2156,2198,2148,2262,2236,2134,2112,2272,2160,2168,2202,2038,2188,2156,2266,2086,2220,2216,2196,0],\"fOption\":\"\",\"fFunctions\":{\"_typename\":\"TList\",\"name\":\"TList\",\"arr\":[],\"opt\":[]},\"fBufferSize\":0,\"fBuffer\":[],\"fBinStatErrOpt\":0,\"fStatOverflows\":2,\"fArray\":[0,0,2286,2258,2102,2092,2154,2194,2052,2194,2118,2208,2204,2104,2168,2332,2236,2088,2124,2096,2172,2224,2158,2154,2188,2092,2186,2082,2162,2174,2200,2184,2156,2198,2148,2262,2236,2134,2112,2272,2160,2168,2202,2038,2188,2156,2266,2086,2220,2216,2196,0]},\"fLabel\":\"PU200\",\"fOption\":\"l\"}],\"opt\":[\"l\",\"l\"]},\"fEntrySeparation\":0.1,\"fMargin\":0.25,\"fNColumns\":1,\"fColumnSeparation\":0},{\"_typename\":\"TPaveText\",\"fUniqueID\":0,\"fBits\":50331657,\"fLineColor\":1,\"fLineStyle\":1,\"fLineWidth\":1,\"fFillColor\":0,\"fFillStyle\":0,\"fX1\":36.1588657882186,\"fY1\":0.0229930804694842,\"fX2\":93.6656989174866,\"fY2\":0.0249277276553604,\"fX1NDC\":0.336105527638191,\"fY1NDC\":0.927867137635504,\"fX2NDC\":0.663894472361809,\"fY2NDC\":0.995000004768372,\"fBorderSize\":0,\"fInit\":1,\"fShadowColor\":1,\"fCornerRadius\":0,\"fOption\":\"blNDC\",\"fName\":\"title\",\"fTextAngle\":0,\"fTextSize\":0,\"fTextAlign\":22,\"fTextColor\":1,\"fTextFont\":42,\"fLabel\":\"\",\"fLongest\":20,\"fMargin\":0.05,\"fLines\":{\"_typename\":\"TList\",\"name\":\"TList\",\"arr\":[{\"_typename\":\"TLatex\",\"fUniqueID\":0,\"fBits\":50331648,\"fName\":\"\",\"fTitle\":\"Gen Part P_{T} (GeV)\",\"fTextAngle\":0,\"fTextSize\":0,\"fTextAlign\":0,\"fTextColor\":0,\"fTextFont\":0,\"fX\":0,\"fY\":0,\"fLineColor\":1,\"fLineStyle\":1,\"fLineWidth\":2,\"fLimitFactorSize\":3,\"fOriginSize\":0.0570629388093948}],\"opt\":[\"\"]}}],\"opt\":[\"\",\",HIST\",\"SAME,HIST\",\"\",\"blNDC\"]},\"fExecs\":null,\"fName\":\"c_2eb6e2\",\"fTitle\":\"h_genParts_ele_pt\",\"fNumPaletteColor\":0,\"fNextPaletteColor\":0,\"fDISPLAY\":\"$DISPLAY\",\"fDoubleBuffer\":0,\"fRetained\":true,\"fXsizeUser\":0,\"fYsizeUser\":0,\"fXsizeReal\":20,\"fYsizeReal\":15,\"fWindowTopX\":0,\"fWindowTopY\":0,\"fWindowWidth\":0,\"fWindowHeight\":0,\"fCw\":796,\"fCh\":572,\"fCatt\":{\"_typename\":\"TAttCanvas\",\"fXBetween\":2,\"fYBetween\":2,\"fTitleFromTop\":1.2,\"fXdate\":0.2,\"fYdate\":0.3,\"fAdate\":1},\"kMoveOpaque\":true,\"kResizeOpaque\":true,\"fHighLightColor\":2,\"fBatch\":true,\"kShowEventStatus\":false,\"kAutoExec\":true,\"kMenuBar\":true});\n",
       "       Core.draw(\"root_plot_2\", obj, \"\");\n",
       "     }\n",
       " );\n",
       "</script>\n"
      ],
      "text/plain": [
       "<IPython.core.display.HTML object>"
      ]
     },
     "metadata": {},
     "output_type": "display_data"
    }
   ],
   "source": [
    "h_pt = [histo.h_pt for histo in ele_histos]\n",
    "drawSame(h_pt, labels,'hist', norm=True)"
   ]
  },
  {
   "cell_type": "code",
   "execution_count": 12,
   "metadata": {},
   "outputs": [
    {
     "data": {
      "text/html": [
       "\n",
       "<div id=\"root_plot_4\"\n",
       "     style=\"width: 796px; height: 572px\">\n",
       "</div>\n",
       "\n",
       "<script>\n",
       " requirejs.config({\n",
       "     paths: {\n",
       "       'JSRootCore' : 'https://root.cern.ch/js/notebook//scripts/JSRootCore',\n",
       "     }\n",
       "   });\n",
       " require(['JSRootCore'],\n",
       "     function(Core) {\n",
       "       var obj = Core.JSONR_unref({\"_typename\":\"TCanvas\",\"fUniqueID\":0,\"fBits\":53673992,\"fLineColor\":1,\"fLineStyle\":1,\"fLineWidth\":1,\"fFillColor\":0,\"fFillStyle\":1001,\"fLeftMargin\":0.13,\"fRightMargin\":0.3,\"fBottomMargin\":0.13,\"fTopMargin\":0.1,\"fXfile\":2,\"fYfile\":2,\"fAfile\":1,\"fXstat\":0.99,\"fYstat\":0.99,\"fAstat\":2,\"fFrameFillColor\":0,\"fFrameLineColor\":1,\"fFrameFillStyle\":1001,\"fFrameLineStyle\":1,\"fFrameLineWidth\":1,\"fFrameBorderSize\":1,\"fFrameBorderMode\":0,\"fX1\":-4.36842101960961,\"fY1\":-0.00411432350277514,\"fX2\":6.15789490195193,\"fY2\":0.0275343192797274,\"fXtoAbsPixelk\":330.340043357658,\"fXtoPixelk\":330.340043357658,\"fXtoPixel\":75.6199990510941,\"fYtoAbsPixelk\":497.640051065433,\"fYtoPixelk\":497.640051065433,\"fYtoPixel\":-18073.4448529413,\"fUtoAbsPixelk\":5e-5,\"fUtoPixelk\":5e-5,\"fUtoPixel\":796,\"fVtoAbsPixelk\":572.00005,\"fVtoPixelk\":572,\"fVtoPixel\":-572,\"fAbsPixeltoXk\":-4.36842101960961,\"fPixeltoXk\":-4.36842101960961,\"fPixeltoX\":0.0132240149768361,\"fAbsPixeltoYk\":0.0275343192797274,\"fPixeltoYk\":-0.00411432350277514,\"fPixeltoY\":-5.53297950743052e-5,\"fXlowNDC\":0,\"fYlowNDC\":0,\"fXUpNDC\":0,\"fYUpNDC\":0,\"fWNDC\":1,\"fHNDC\":1,\"fAbsXlowNDC\":0,\"fAbsYlowNDC\":0,\"fAbsWNDC\":1,\"fAbsHNDC\":1,\"fUxmin\":-3,\"fUymin\":0,\"fUxmax\":3,\"fUymax\":0.0243694548835768,\"fTheta\":30,\"fPhi\":30,\"fAspectRatio\":0,\"fNumber\":0,\"fTickx\":0,\"fTicky\":0,\"fLogx\":0,\"fLogy\":0,\"fLogz\":0,\"fPadPaint\":0,\"fCrosshair\":0,\"fCrosshairPos\":0,\"fBorderSize\":2,\"fBorderMode\":0,\"fModified\":false,\"fGridx\":false,\"fGridy\":false,\"fAbsCoord\":false,\"fEditable\":true,\"fFixedAspectRatio\":false,\"fPrimitives\":{\"_typename\":\"TList\",\"name\":\"TList\",\"arr\":[{\"_typename\":\"TFrame\",\"fUniqueID\":0,\"fBits\":50331656,\"fLineColor\":1,\"fLineStyle\":1,\"fLineWidth\":1,\"fFillColor\":0,\"fFillStyle\":1001,\"fX1\":-3,\"fY1\":0,\"fX2\":3,\"fY2\":0.0243694548835768,\"fBorderSize\":1,\"fBorderMode\":0},{\"_typename\":\"TH1F\",\"fUniqueID\":0,\"fBits\":50332169,\"fName\":\"h_genParts_ele_eta\",\"fTitle\":\"Gen Part eta\",\"fLineColor\":1,\"fLineStyle\":1,\"fLineWidth\":1,\"fFillColor\":0,\"fFillStyle\":1001,\"fMarkerColor\":1,\"fMarkerStyle\":1,\"fMarkerSize\":1,\"fNcells\":52,\"fXaxis\":{\"_typename\":\"TAxis\",\"fUniqueID\":0,\"fBits\":50331648,\"fName\":\"xaxis\",\"fTitle\":\" #eta^{GEN}\",\"fNdivisions\":510,\"fAxisColor\":1,\"fLabelColor\":1,\"fLabelFont\":42,\"fLabelOffset\":0.005,\"fLabelSize\":0.035,\"fTickLength\":0.03,\"fTitleOffset\":1,\"fTitleSize\":0.035,\"fTitleColor\":1,\"fTitleFont\":42,\"fNbins\":50,\"fXmin\":-3,\"fXmax\":3,\"fXbins\":[],\"fFirst\":0,\"fLast\":0,\"fBits2\":0,\"fTimeDisplay\":false,\"fTimeFormat\":\"\",\"fLabels\":null,\"fModLabs\":null},\"fYaxis\":{\"_typename\":\"TAxis\",\"fUniqueID\":0,\"fBits\":50331656,\"fName\":\"yaxis\",\"fTitle\":\"\",\"fNdivisions\":510,\"fAxisColor\":1,\"fLabelColor\":1,\"fLabelFont\":42,\"fLabelOffset\":0.005,\"fLabelSize\":0.035,\"fTickLength\":0.03,\"fTitleOffset\":0,\"fTitleSize\":0.035,\"fTitleColor\":1,\"fTitleFont\":42,\"fNbins\":1,\"fXmin\":0,\"fXmax\":1,\"fXbins\":[],\"fFirst\":0,\"fLast\":0,\"fBits2\":0,\"fTimeDisplay\":false,\"fTimeFormat\":\"\",\"fLabels\":null,\"fModLabs\":null},\"fZaxis\":{\"_typename\":\"TAxis\",\"fUniqueID\":0,\"fBits\":50331648,\"fName\":\"zaxis\",\"fTitle\":\"\",\"fNdivisions\":510,\"fAxisColor\":1,\"fLabelColor\":1,\"fLabelFont\":42,\"fLabelOffset\":0.005,\"fLabelSize\":0.035,\"fTickLength\":0.03,\"fTitleOffset\":1,\"fTitleSize\":0.035,\"fTitleColor\":1,\"fTitleFont\":42,\"fNbins\":1,\"fXmin\":0,\"fXmax\":1,\"fXbins\":[],\"fFirst\":0,\"fLast\":0,\"fBits2\":0,\"fTimeDisplay\":false,\"fTimeFormat\":\"\",\"fLabels\":null,\"fModLabs\":null},\"fBarOffset\":0,\"fBarWidth\":1000,\"fEntries\":480000,\"fTsumw\":464598,\"fTsumw2\":464598,\"fTsumwx\":2.98857688903809e-4,\"fTsumwx2\":1392804.40472798,\"fMaximum\":0.0243694548835768,\"fMinimum\":0,\"fNormFactor\":0,\"fContour\":[],\"fSumw2\":[3.56773387177819e-8,4.2797981440705e-8,4.28026142596529e-8,4.24458872006645e-8,4.33678181712967e-8,4.37106467734414e-8,4.2612668682789e-8,4.32427320597034e-8,4.34141463607757e-8,4.35577637481607e-8,4.32705289733908e-8,4.25709733122578e-8,4.26311999585805e-8,4.27933486217571e-8,4.28257783543924e-8,4.33724509902446e-8,4.31778725944328e-8,4.27331219754344e-8,4.36643185839624e-8,4.34048807228799e-8,4.3122278767058e-8,4.27840829838613e-8,4.34326776365673e-8,4.28396768112361e-8,4.20289334953535e-8,4.35948262997439e-8,4.35948262997439e-8,4.20289334953535e-8,4.28396768112361e-8,4.34326776365673e-8,4.27840829838613e-8,4.3122278767058e-8,4.34048807228799e-8,4.36643185839624e-8,4.27331219754344e-8,4.31778725944328e-8,4.33724509902446e-8,4.28257783543924e-8,4.27933486217571e-8,4.26311999585805e-8,4.25709733122578e-8,4.32705289733908e-8,4.35577637481607e-8,4.34141463607757e-8,4.32427320597034e-8,4.2612668682789e-8,4.37106467734414e-8,4.33678181712967e-8,4.24458872006645e-8,4.28026142596529e-8,4.2797981440705e-8,3.56773387177819e-8],\"fOption\":\"\",\"fFunctions\":{\"_typename\":\"TList\",\"name\":\"TList\",\"arr\":[],\"opt\":[]},\"fBufferSize\":0,\"fBuffer\":[],\"fBinStatErrOpt\":0,\"fStatOverflows\":2,\"fArray\":[0.01657562,0.01988386,0.01988601,0.01972027,0.0201486,0.02030788,0.01979776,0.02009049,0.02017013,0.02023685,0.0201034,0.01977839,0.01980637,0.0198817,0.01989677,0.02015075,0.02006035,0.01985372,0.02028636,0.02016582,0.02003452,0.0198774,0.02017874,0.01990323,0.01952656,0.02025407,0.02025407,0.01952656,0.01990323,0.02017874,0.0198774,0.02003452,0.02016582,0.02028636,0.01985372,0.02006035,0.02015075,0.01989677,0.0198817,0.01980637,0.01977839,0.0201034,0.02023685,0.02017013,0.02009049,0.01979776,0.02030788,0.0201486,0.01972027,0.01988601,0.01988386,0.01657562]},{\"_typename\":\"TH1F\",\"fUniqueID\":0,\"fBits\":50332169,\"fName\":\"h_genParts_ele_eta\",\"fTitle\":\"Gen Part eta\",\"fLineColor\":2,\"fLineStyle\":1,\"fLineWidth\":1,\"fFillColor\":0,\"fFillStyle\":1001,\"fMarkerColor\":1,\"fMarkerStyle\":1,\"fMarkerSize\":1,\"fNcells\":52,\"fXaxis\":{\"_typename\":\"TAxis\",\"fUniqueID\":0,\"fBits\":50331648,\"fName\":\"xaxis\",\"fTitle\":\" #eta^{GEN}\",\"fNdivisions\":510,\"fAxisColor\":1,\"fLabelColor\":1,\"fLabelFont\":42,\"fLabelOffset\":0.005,\"fLabelSize\":0.035,\"fTickLength\":0.03,\"fTitleOffset\":1,\"fTitleSize\":0.035,\"fTitleColor\":1,\"fTitleFont\":42,\"fNbins\":50,\"fXmin\":-3,\"fXmax\":3,\"fXbins\":[],\"fFirst\":0,\"fLast\":0,\"fBits2\":0,\"fTimeDisplay\":false,\"fTimeFormat\":\"\",\"fLabels\":null,\"fModLabs\":null},\"fYaxis\":{\"_typename\":\"TAxis\",\"fUniqueID\":0,\"fBits\":50331648,\"fName\":\"yaxis\",\"fTitle\":\"\",\"fNdivisions\":510,\"fAxisColor\":1,\"fLabelColor\":1,\"fLabelFont\":42,\"fLabelOffset\":0.005,\"fLabelSize\":0.035,\"fTickLength\":0.03,\"fTitleOffset\":0,\"fTitleSize\":0.035,\"fTitleColor\":1,\"fTitleFont\":42,\"fNbins\":1,\"fXmin\":0,\"fXmax\":1,\"fXbins\":[],\"fFirst\":0,\"fLast\":0,\"fBits2\":0,\"fTimeDisplay\":false,\"fTimeFormat\":\"\",\"fLabels\":null,\"fModLabs\":null},\"fZaxis\":{\"_typename\":\"TAxis\",\"fUniqueID\":0,\"fBits\":50331648,\"fName\":\"zaxis\",\"fTitle\":\"\",\"fNdivisions\":510,\"fAxisColor\":1,\"fLabelColor\":1,\"fLabelFont\":42,\"fLabelOffset\":0.005,\"fLabelSize\":0.035,\"fTickLength\":0.03,\"fTitleOffset\":1,\"fTitleSize\":0.035,\"fTitleColor\":1,\"fTitleFont\":42,\"fNbins\":1,\"fXmin\":0,\"fXmax\":1,\"fXbins\":[],\"fFirst\":0,\"fLast\":0,\"fBits2\":0,\"fTimeDisplay\":false,\"fTimeFormat\":\"\",\"fLabels\":null,\"fModLabs\":null},\"fBarOffset\":0,\"fBarWidth\":1000,\"fEntries\":106400,\"fTsumw\":102998,\"fTsumw2\":102998,\"fTsumwx\":6.67572021484375e-5,\"fTsumwx2\":310740.327542352,\"fMaximum\":-1111,\"fMinimum\":-1111,\"fNormFactor\":0,\"fContour\":[],\"fSumw2\":[1.60341790948865e-7,1.97575775325585e-7,1.97387248822412e-7,1.96633142809719e-7,1.9380524526212e-7,1.97670038577172e-7,1.92862612746253e-7,1.95030667532746e-7,1.95690510293852e-7,1.90411768205001e-7,1.95407720539092e-7,1.918257169788e-7,1.9408803501688e-7,1.89657662192308e-7,2.00403672873184e-7,1.97010195816065e-7,2.00497936124771e-7,1.97010195816065e-7,1.95784773545439e-7,1.87206817651055e-7,1.90788821211347e-7,1.86924027896295e-7,1.9352245550736e-7,1.87772397160575e-7,1.90223241701828e-7,1.99272513854144e-7,1.99272513854144e-7,1.90223241701828e-7,1.87772397160575e-7,1.9352245550736e-7,1.86924027896295e-7,1.90788821211347e-7,1.87206817651055e-7,1.95784773545439e-7,1.97010195816065e-7,2.00497936124771e-7,1.97010195816065e-7,2.00403672873184e-7,1.89657662192308e-7,1.9408803501688e-7,1.918257169788e-7,1.95407720539092e-7,1.90411768205001e-7,1.95690510293852e-7,1.95030667532746e-7,1.92862612746253e-7,1.97670038577172e-7,1.9380524526212e-7,1.96633142809719e-7,1.97387248822412e-7,1.97575775325585e-7,1.60341790948865e-7],\"fOption\":\"\",\"fFunctions\":{\"_typename\":\"TList\",\"name\":\"TList\",\"arr\":[],\"opt\":[]},\"fBufferSize\":0,\"fBuffer\":[],\"fBinStatErrOpt\":0,\"fStatOverflows\":2,\"fArray\":[0.01651488,0.02034991,0.02033049,0.02025282,0.01996155,0.02035962,0.01986446,0.02008777,0.02015573,0.01961203,0.0201266,0.01975767,0.01999068,0.01953436,0.02064118,0.02029166,0.02065089,0.02029166,0.02016544,0.01928193,0.01965087,0.0192528,0.01993243,0.01934018,0.01959261,0.02052467,0.02052467,0.01959261,0.01934018,0.01993243,0.0192528,0.01965087,0.01928193,0.02016544,0.02029166,0.02065089,0.02029166,0.02064118,0.01953436,0.01999068,0.01975767,0.0201266,0.01961203,0.02015573,0.02008777,0.01986446,0.02035962,0.01996155,0.02025282,0.02033049,0.02034991,0.01651488]},{\"_typename\":\"TLegend\",\"fUniqueID\":0,\"fBits\":50331656,\"fLineColor\":1,\"fLineStyle\":1,\"fLineWidth\":1,\"fFillColor\":0,\"fFillStyle\":0,\"fX1\":3.00000012548346,\"fY1\":0.0183562128728017,\"fX2\":5.63157910587385,\"fY2\":0.022787022862352,\"fX1NDC\":0.7,\"fY1NDC\":0.71,\"fX2NDC\":0.95,\"fY2NDC\":0.85,\"fBorderSize\":0,\"fInit\":1,\"fShadowColor\":1,\"fCornerRadius\":0,\"fOption\":\"brNDC\",\"fName\":\"TPave\",\"fTextAngle\":0,\"fTextSize\":0.05,\"fTextAlign\":12,\"fTextColor\":1,\"fTextFont\":42,\"fPrimitives\":{\"_typename\":\"TList\",\"name\":\"TList\",\"arr\":[{\"_typename\":\"TLegendEntry\",\"fUniqueID\":0,\"fBits\":50331656,\"fTextAngle\":0,\"fTextSize\":0,\"fTextAlign\":0,\"fTextColor\":0,\"fTextFont\":42,\"fLineColor\":1,\"fLineStyle\":1,\"fLineWidth\":1,\"fFillColor\":0,\"fFillStyle\":0,\"fMarkerColor\":1,\"fMarkerStyle\":21,\"fMarkerSize\":1,\"fObject\":{\"_typename\":\"TH1F\",\"fUniqueID\":0,\"fBits\":50332168,\"fName\":\"h_genParts_ele_eta\",\"fTitle\":\"Gen Part eta\",\"fLineColor\":1,\"fLineStyle\":1,\"fLineWidth\":1,\"fFillColor\":0,\"fFillStyle\":1001,\"fMarkerColor\":1,\"fMarkerStyle\":1,\"fMarkerSize\":1,\"fNcells\":52,\"fXaxis\":{\"_typename\":\"TAxis\",\"fUniqueID\":0,\"fBits\":50331648,\"fName\":\"xaxis\",\"fTitle\":\" #eta^{GEN}\",\"fNdivisions\":510,\"fAxisColor\":1,\"fLabelColor\":1,\"fLabelFont\":42,\"fLabelOffset\":0.005,\"fLabelSize\":0.035,\"fTickLength\":0.03,\"fTitleOffset\":1,\"fTitleSize\":0.035,\"fTitleColor\":1,\"fTitleFont\":42,\"fNbins\":50,\"fXmin\":-3,\"fXmax\":3,\"fXbins\":[],\"fFirst\":0,\"fLast\":0,\"fBits2\":0,\"fTimeDisplay\":false,\"fTimeFormat\":\"\",\"fLabels\":null,\"fModLabs\":null},\"fYaxis\":{\"_typename\":\"TAxis\",\"fUniqueID\":0,\"fBits\":50331656,\"fName\":\"yaxis\",\"fTitle\":\"\",\"fNdivisions\":510,\"fAxisColor\":1,\"fLabelColor\":1,\"fLabelFont\":42,\"fLabelOffset\":0.005,\"fLabelSize\":0.035,\"fTickLength\":0.03,\"fTitleOffset\":0,\"fTitleSize\":0.035,\"fTitleColor\":1,\"fTitleFont\":42,\"fNbins\":1,\"fXmin\":0,\"fXmax\":1,\"fXbins\":[],\"fFirst\":0,\"fLast\":0,\"fBits2\":0,\"fTimeDisplay\":false,\"fTimeFormat\":\"\",\"fLabels\":null,\"fModLabs\":null},\"fZaxis\":{\"_typename\":\"TAxis\",\"fUniqueID\":0,\"fBits\":50331648,\"fName\":\"zaxis\",\"fTitle\":\"\",\"fNdivisions\":510,\"fAxisColor\":1,\"fLabelColor\":1,\"fLabelFont\":42,\"fLabelOffset\":0.005,\"fLabelSize\":0.035,\"fTickLength\":0.03,\"fTitleOffset\":1,\"fTitleSize\":0.035,\"fTitleColor\":1,\"fTitleFont\":42,\"fNbins\":1,\"fXmin\":0,\"fXmax\":1,\"fXbins\":[],\"fFirst\":0,\"fLast\":0,\"fBits2\":0,\"fTimeDisplay\":false,\"fTimeFormat\":\"\",\"fLabels\":null,\"fModLabs\":null},\"fBarOffset\":0,\"fBarWidth\":1000,\"fEntries\":480000,\"fTsumw\":464598,\"fTsumw2\":464598,\"fTsumwx\":2.98857688903809e-4,\"fTsumwx2\":1392804.40472798,\"fMaximum\":11322,\"fMinimum\":0,\"fNormFactor\":0,\"fContour\":[],\"fSumw2\":[7701,9238,9239,9162,9361,9435,9198,9334,9371,9402,9340,9189,9202,9237,9244,9362,9320,9224,9425,9369,9308,9235,9375,9247,9072,9410,9410,9072,9247,9375,9235,9308,9369,9425,9224,9320,9362,9244,9237,9202,9189,9340,9402,9371,9334,9198,9435,9361,9162,9239,9238,7701],\"fOption\":\"\",\"fFunctions\":{\"_typename\":\"TList\",\"name\":\"TList\",\"arr\":[],\"opt\":[]},\"fBufferSize\":0,\"fBuffer\":[],\"fBinStatErrOpt\":0,\"fStatOverflows\":2,\"fArray\":[7701,9238,9239,9162,9361,9435,9198,9334,9371,9402,9340,9189,9202,9237,9244,9362,9320,9224,9425,9369,9308,9235,9375,9247,9072,9410,9410,9072,9247,9375,9235,9308,9369,9425,9224,9320,9362,9244,9237,9202,9189,9340,9402,9371,9334,9198,9435,9361,9162,9239,9238,7701]},\"fLabel\":\"PU0\",\"fOption\":\"l\"},{\"_typename\":\"TLegendEntry\",\"fUniqueID\":0,\"fBits\":50331656,\"fTextAngle\":0,\"fTextSize\":0,\"fTextAlign\":0,\"fTextColor\":0,\"fTextFont\":42,\"fLineColor\":2,\"fLineStyle\":1,\"fLineWidth\":1,\"fFillColor\":0,\"fFillStyle\":0,\"fMarkerColor\":1,\"fMarkerStyle\":21,\"fMarkerSize\":1,\"fObject\":{\"_typename\":\"TH1F\",\"fUniqueID\":0,\"fBits\":50332168,\"fName\":\"h_genParts_ele_eta\",\"fTitle\":\"Gen Part eta\",\"fLineColor\":2,\"fLineStyle\":1,\"fLineWidth\":1,\"fFillColor\":0,\"fFillStyle\":1001,\"fMarkerColor\":1,\"fMarkerStyle\":1,\"fMarkerSize\":1,\"fNcells\":52,\"fXaxis\":{\"_typename\":\"TAxis\",\"fUniqueID\":0,\"fBits\":50331648,\"fName\":\"xaxis\",\"fTitle\":\" #eta^{GEN}\",\"fNdivisions\":510,\"fAxisColor\":1,\"fLabelColor\":1,\"fLabelFont\":42,\"fLabelOffset\":0.005,\"fLabelSize\":0.035,\"fTickLength\":0.03,\"fTitleOffset\":1,\"fTitleSize\":0.035,\"fTitleColor\":1,\"fTitleFont\":42,\"fNbins\":50,\"fXmin\":-3,\"fXmax\":3,\"fXbins\":[],\"fFirst\":0,\"fLast\":0,\"fBits2\":0,\"fTimeDisplay\":false,\"fTimeFormat\":\"\",\"fLabels\":null,\"fModLabs\":null},\"fYaxis\":{\"_typename\":\"TAxis\",\"fUniqueID\":0,\"fBits\":50331648,\"fName\":\"yaxis\",\"fTitle\":\"\",\"fNdivisions\":510,\"fAxisColor\":1,\"fLabelColor\":1,\"fLabelFont\":42,\"fLabelOffset\":0.005,\"fLabelSize\":0.035,\"fTickLength\":0.03,\"fTitleOffset\":0,\"fTitleSize\":0.035,\"fTitleColor\":1,\"fTitleFont\":42,\"fNbins\":1,\"fXmin\":0,\"fXmax\":1,\"fXbins\":[],\"fFirst\":0,\"fLast\":0,\"fBits2\":0,\"fTimeDisplay\":false,\"fTimeFormat\":\"\",\"fLabels\":null,\"fModLabs\":null},\"fZaxis\":{\"_typename\":\"TAxis\",\"fUniqueID\":0,\"fBits\":50331648,\"fName\":\"zaxis\",\"fTitle\":\"\",\"fNdivisions\":510,\"fAxisColor\":1,\"fLabelColor\":1,\"fLabelFont\":42,\"fLabelOffset\":0.005,\"fLabelSize\":0.035,\"fTickLength\":0.03,\"fTitleOffset\":1,\"fTitleSize\":0.035,\"fTitleColor\":1,\"fTitleFont\":42,\"fNbins\":1,\"fXmin\":0,\"fXmax\":1,\"fXbins\":[],\"fFirst\":0,\"fLast\":0,\"fBits2\":0,\"fTimeDisplay\":false,\"fTimeFormat\":\"\",\"fLabels\":null,\"fModLabs\":null},\"fBarOffset\":0,\"fBarWidth\":1000,\"fEntries\":106400,\"fTsumw\":102998,\"fTsumw2\":102998,\"fTsumwx\":6.67572021484375e-5,\"fTsumwx2\":310740.327542352,\"fMaximum\":-1111,\"fMinimum\":-1111,\"fNormFactor\":0,\"fContour\":[],\"fSumw2\":[1701,2096,2094,2086,2056,2097,2046,2069,2076,2020,2073,2035,2059,2012,2126,2090,2127,2090,2077,1986,2024,1983,2053,1992,2018,2114,2114,2018,1992,2053,1983,2024,1986,2077,2090,2127,2090,2126,2012,2059,2035,2073,2020,2076,2069,2046,2097,2056,2086,2094,2096,1701],\"fOption\":\"\",\"fFunctions\":{\"_typename\":\"TList\",\"name\":\"TList\",\"arr\":[],\"opt\":[]},\"fBufferSize\":0,\"fBuffer\":[],\"fBinStatErrOpt\":0,\"fStatOverflows\":2,\"fArray\":[1701,2096,2094,2086,2056,2097,2046,2069,2076,2020,2073,2035,2059,2012,2126,2090,2127,2090,2077,1986,2024,1983,2053,1992,2018,2114,2114,2018,1992,2053,1983,2024,1986,2077,2090,2127,2090,2126,2012,2059,2035,2073,2020,2076,2069,2046,2097,2056,2086,2094,2096,1701]},\"fLabel\":\"PU200\",\"fOption\":\"l\"}],\"opt\":[\"l\",\"l\"]},\"fEntrySeparation\":0.1,\"fMargin\":0.25,\"fNColumns\":1,\"fColumnSeparation\":0},{\"_typename\":\"TPaveText\",\"fUniqueID\":0,\"fBits\":50331657,\"fLineColor\":1,\"fLineStyle\":1,\"fLineWidth\":1,\"fFillColor\":0,\"fFillStyle\":0,\"fX1\":-0.341179498563946,\"fY1\":0.0256354008377517,\"fX2\":2.13065338090626,\"fY2\":0.0273760762167274,\"fX1NDC\":0.382587939698492,\"fY1NDC\":0.940000003948808,\"fX2NDC\":0.617412060301508,\"fY2NDC\":0.995000004768372,\"fBorderSize\":0,\"fInit\":1,\"fShadowColor\":1,\"fCornerRadius\":0,\"fOption\":\"blNDC\",\"fName\":\"title\",\"fTextAngle\":0,\"fTextSize\":0,\"fTextAlign\":22,\"fTextColor\":1,\"fTextFont\":42,\"fLabel\":\"\",\"fLongest\":12,\"fMargin\":0.05,\"fLines\":{\"_typename\":\"TList\",\"name\":\"TList\",\"arr\":[{\"_typename\":\"TLatex\",\"fUniqueID\":0,\"fBits\":50331648,\"fName\":\"\",\"fTitle\":\"Gen Part eta\",\"fTextAngle\":0,\"fTextSize\":0,\"fTextAlign\":0,\"fTextColor\":0,\"fTextFont\":0,\"fX\":0,\"fY\":0,\"fLineColor\":1,\"fLineStyle\":1,\"fLineWidth\":2,\"fLimitFactorSize\":3,\"fOriginSize\":0.0467500016093254}],\"opt\":[\"\"]}}],\"opt\":[\"\",\",HIST\",\"SAME,HIST\",\"\",\"blNDC\"]},\"fExecs\":null,\"fName\":\"c_32ae80\",\"fTitle\":\"h_genParts_ele_eta\",\"fNumPaletteColor\":0,\"fNextPaletteColor\":0,\"fDISPLAY\":\"$DISPLAY\",\"fDoubleBuffer\":0,\"fRetained\":true,\"fXsizeUser\":0,\"fYsizeUser\":0,\"fXsizeReal\":20,\"fYsizeReal\":15,\"fWindowTopX\":0,\"fWindowTopY\":0,\"fWindowWidth\":0,\"fWindowHeight\":0,\"fCw\":796,\"fCh\":572,\"fCatt\":{\"_typename\":\"TAttCanvas\",\"fXBetween\":2,\"fYBetween\":2,\"fTitleFromTop\":1.2,\"fXdate\":0.2,\"fYdate\":0.3,\"fAdate\":1},\"kMoveOpaque\":true,\"kResizeOpaque\":true,\"fHighLightColor\":2,\"fBatch\":true,\"kShowEventStatus\":false,\"kAutoExec\":true,\"kMenuBar\":true});\n",
       "       Core.draw(\"root_plot_4\", obj, \"\");\n",
       "     }\n",
       " );\n",
       "</script>\n"
      ],
      "text/plain": [
       "<IPython.core.display.HTML object>"
      ]
     },
     "metadata": {},
     "output_type": "display_data"
    }
   ],
   "source": [
    "h_eta = [histo.h_eta for histo in ele_histos]\n",
    "drawSame(h_eta, labels,'hist', norm=True, min_y= 0)"
   ]
  },
  {
   "cell_type": "code",
   "execution_count": 13,
   "metadata": {},
   "outputs": [
    {
     "data": {
      "text/html": [
       "\n",
       "<div id=\"root_plot_5\"\n",
       "     style=\"width: 796px; height: 572px\">\n",
       "</div>\n",
       "\n",
       "<script>\n",
       " requirejs.config({\n",
       "     paths: {\n",
       "       'JSRootCore' : 'https://root.cern.ch/js/notebook//scripts/JSRootCore',\n",
       "     }\n",
       "   });\n",
       " require(['JSRootCore'],\n",
       "     function(Core) {\n",
       "       var obj = Core.JSONR_unref({\"_typename\":\"TCanvas\",\"fUniqueID\":0,\"fBits\":53673992,\"fLineColor\":1,\"fLineStyle\":1,\"fLineWidth\":1,\"fFillColor\":0,\"fFillStyle\":1001,\"fLeftMargin\":0.13,\"fRightMargin\":0.3,\"fBottomMargin\":0.13,\"fTopMargin\":0.1,\"fXfile\":2,\"fYfile\":2,\"fAfile\":1,\"fXstat\":0.99,\"fYstat\":0.99,\"fAstat\":2,\"fFrameFillColor\":0,\"fFrameLineColor\":1,\"fFrameFillStyle\":1001,\"fFrameLineStyle\":1,\"fFrameLineWidth\":1,\"fFrameBorderSize\":1,\"fFrameBorderMode\":0,\"fX1\":-0.228070169934936,\"fY1\":-1494.88827754648,\"fX2\":1.52631581699199,\"fY2\":20558.0987887871,\"fXtoAbsPixelk\":103.480046204376,\"fXtoPixelk\":103.480046204376,\"fXtoPixel\":453.719994306564,\"fYtoAbsPixelk\":533.226341377917,\"fYtoPixelk\":533.226341377917,\"fYtoPixel\":-0.0259375293822769,\"fUtoAbsPixelk\":5e-5,\"fUtoPixelk\":5e-5,\"fUtoPixel\":796,\"fVtoAbsPixelk\":572.00005,\"fVtoPixelk\":572,\"fVtoPixel\":-572,\"fAbsPixeltoXk\":-0.228070169934936,\"fPixeltoXk\":-0.228070169934936,\"fPixeltoX\":0.00220400249613935,\"fAbsPixeltoYk\":20558.0987887871,\"fPixeltoYk\":-1494.88827754648,\"fPixeltoY\":-38.5541731928909,\"fXlowNDC\":0,\"fYlowNDC\":0,\"fXUpNDC\":0,\"fYUpNDC\":0,\"fWNDC\":1,\"fHNDC\":1,\"fAbsXlowNDC\":0,\"fAbsYlowNDC\":0,\"fAbsWNDC\":1,\"fAbsHNDC\":1,\"fUxmin\":0,\"fUymin\":1372,\"fUxmax\":1,\"fUymax\":18352.8,\"fTheta\":30,\"fPhi\":30,\"fAspectRatio\":0,\"fNumber\":0,\"fTickx\":0,\"fTicky\":0,\"fLogx\":0,\"fLogy\":0,\"fLogz\":0,\"fPadPaint\":0,\"fCrosshair\":0,\"fCrosshairPos\":0,\"fBorderSize\":2,\"fBorderMode\":0,\"fModified\":false,\"fGridx\":false,\"fGridy\":false,\"fAbsCoord\":false,\"fEditable\":true,\"fFixedAspectRatio\":false,\"fPrimitives\":{\"_typename\":\"TList\",\"name\":\"TList\",\"arr\":[{\"_typename\":\"TFrame\",\"fUniqueID\":0,\"fBits\":50331656,\"fLineColor\":1,\"fLineStyle\":1,\"fLineWidth\":1,\"fFillColor\":0,\"fFillStyle\":1001,\"fX1\":0,\"fY1\":1372,\"fX2\":1,\"fY2\":18352.8,\"fBorderSize\":1,\"fBorderMode\":0},{\"_typename\":\"TH1F\",\"fUniqueID\":0,\"fBits\":50332168,\"fName\":\"h_genParts_ele_fBrem\",\"fTitle\":\"Brem. p_{T} fraction\",\"fLineColor\":1,\"fLineStyle\":1,\"fLineWidth\":1,\"fFillColor\":0,\"fFillStyle\":1001,\"fMarkerColor\":1,\"fMarkerStyle\":1,\"fMarkerSize\":1,\"fNcells\":32,\"fXaxis\":{\"_typename\":\"TAxis\",\"fUniqueID\":0,\"fBits\":50331648,\"fName\":\"xaxis\",\"fTitle\":\"\",\"fNdivisions\":510,\"fAxisColor\":1,\"fLabelColor\":1,\"fLabelFont\":42,\"fLabelOffset\":0.005,\"fLabelSize\":0.035,\"fTickLength\":0.03,\"fTitleOffset\":1,\"fTitleSize\":0.035,\"fTitleColor\":1,\"fTitleFont\":42,\"fNbins\":30,\"fXmin\":0,\"fXmax\":1,\"fXbins\":[],\"fFirst\":0,\"fLast\":0,\"fBits2\":0,\"fTimeDisplay\":false,\"fTimeFormat\":\"\",\"fLabels\":null,\"fModLabs\":null},\"fYaxis\":{\"_typename\":\"TAxis\",\"fUniqueID\":0,\"fBits\":50331656,\"fName\":\"yaxis\",\"fTitle\":\"\",\"fNdivisions\":510,\"fAxisColor\":1,\"fLabelColor\":1,\"fLabelFont\":42,\"fLabelOffset\":0.005,\"fLabelSize\":0.035,\"fTickLength\":0.03,\"fTitleOffset\":0,\"fTitleSize\":0.035,\"fTitleColor\":1,\"fTitleFont\":42,\"fNbins\":1,\"fXmin\":0,\"fXmax\":1,\"fXbins\":[],\"fFirst\":0,\"fLast\":0,\"fBits2\":0,\"fTimeDisplay\":false,\"fTimeFormat\":\"\",\"fLabels\":null,\"fModLabs\":null},\"fZaxis\":{\"_typename\":\"TAxis\",\"fUniqueID\":0,\"fBits\":50331648,\"fName\":\"zaxis\",\"fTitle\":\"\",\"fNdivisions\":510,\"fAxisColor\":1,\"fLabelColor\":1,\"fLabelFont\":42,\"fLabelOffset\":0.005,\"fLabelSize\":0.035,\"fTickLength\":0.03,\"fTitleOffset\":1,\"fTitleSize\":0.035,\"fTitleColor\":1,\"fTitleFont\":42,\"fNbins\":1,\"fXmin\":0,\"fXmax\":1,\"fXbins\":[],\"fFirst\":0,\"fLast\":0,\"fBits2\":0,\"fTimeDisplay\":false,\"fTimeFormat\":\"\",\"fLabels\":null,\"fModLabs\":null},\"fBarOffset\":0,\"fBarWidth\":1000,\"fEntries\":480000,\"fTsumw\":233527,\"fTsumw2\":233527,\"fTsumwx\":116632.243344176,\"fTsumwx2\":81825.3539197584,\"fMaximum\":18352.8,\"fMinimum\":1372,\"fNormFactor\":0,\"fContour\":[],\"fSumw2\":[246457,15294,9190,8476,7989,7888,7468,7276,7116,7074,6829,6688,6624,6580,6580,6473,6506,6511,6276,6375,6550,6493,6685,6669,7023,7205,7566,7941,8865,10384,14933,16],\"fOption\":\"\",\"fFunctions\":{\"_typename\":\"TList\",\"name\":\"TList\",\"arr\":[],\"opt\":[]},\"fBufferSize\":0,\"fBuffer\":[],\"fBinStatErrOpt\":0,\"fStatOverflows\":2,\"fArray\":[246457,15294,9190,8476,7989,7888,7468,7276,7116,7074,6829,6688,6624,6580,6580,6473,6506,6511,6276,6375,6550,6493,6685,6669,7023,7205,7566,7941,8865,10384,14933,16]},{\"_typename\":\"TH1F\",\"fUniqueID\":0,\"fBits\":50332168,\"fName\":\"h_genParts_ele_fBrem\",\"fTitle\":\"Brem. p_{T} fraction\",\"fLineColor\":2,\"fLineStyle\":1,\"fLineWidth\":1,\"fFillColor\":0,\"fFillStyle\":1001,\"fMarkerColor\":1,\"fMarkerStyle\":1,\"fMarkerSize\":1,\"fNcells\":32,\"fXaxis\":{\"_typename\":\"TAxis\",\"fUniqueID\":0,\"fBits\":50331648,\"fName\":\"xaxis\",\"fTitle\":\"\",\"fNdivisions\":510,\"fAxisColor\":1,\"fLabelColor\":1,\"fLabelFont\":42,\"fLabelOffset\":0.005,\"fLabelSize\":0.035,\"fTickLength\":0.03,\"fTitleOffset\":1,\"fTitleSize\":0.035,\"fTitleColor\":1,\"fTitleFont\":42,\"fNbins\":30,\"fXmin\":0,\"fXmax\":1,\"fXbins\":[],\"fFirst\":0,\"fLast\":0,\"fBits2\":0,\"fTimeDisplay\":false,\"fTimeFormat\":\"\",\"fLabels\":null,\"fModLabs\":null},\"fYaxis\":{\"_typename\":\"TAxis\",\"fUniqueID\":0,\"fBits\":50331648,\"fName\":\"yaxis\",\"fTitle\":\"\",\"fNdivisions\":510,\"fAxisColor\":1,\"fLabelColor\":1,\"fLabelFont\":42,\"fLabelOffset\":0.005,\"fLabelSize\":0.035,\"fTickLength\":0.03,\"fTitleOffset\":0,\"fTitleSize\":0.035,\"fTitleColor\":1,\"fTitleFont\":42,\"fNbins\":1,\"fXmin\":0,\"fXmax\":1,\"fXbins\":[],\"fFirst\":0,\"fLast\":0,\"fBits2\":0,\"fTimeDisplay\":false,\"fTimeFormat\":\"\",\"fLabels\":null,\"fModLabs\":null},\"fZaxis\":{\"_typename\":\"TAxis\",\"fUniqueID\":0,\"fBits\":50331648,\"fName\":\"zaxis\",\"fTitle\":\"\",\"fNdivisions\":510,\"fAxisColor\":1,\"fLabelColor\":1,\"fLabelFont\":42,\"fLabelOffset\":0.005,\"fLabelSize\":0.035,\"fTickLength\":0.03,\"fTitleOffset\":1,\"fTitleSize\":0.035,\"fTitleColor\":1,\"fTitleFont\":42,\"fNbins\":1,\"fXmin\":0,\"fXmax\":1,\"fXbins\":[],\"fFirst\":0,\"fLast\":0,\"fBits2\":0,\"fTimeDisplay\":false,\"fTimeFormat\":\"\",\"fLabels\":null,\"fModLabs\":null},\"fBarOffset\":0,\"fBarWidth\":1000,\"fEntries\":106400,\"fTsumw\":51813,\"fTsumw2\":51813,\"fTsumwx\":25771.8590999826,\"fTsumwx2\":18063.3641908534,\"fMaximum\":-1111,\"fMinimum\":-1111,\"fNormFactor\":0,\"fContour\":[],\"fSumw2\":[54584,3418,2052,1885,1826,1778,1641,1658,1596,1594,1546,1461,1508,1419,1396,1452,1405,1436,1372,1472,1477,1407,1460,1483,1557,1551,1719,1683,1887,2277,3397,3],\"fOption\":\"\",\"fFunctions\":{\"_typename\":\"TList\",\"name\":\"TList\",\"arr\":[],\"opt\":[]},\"fBufferSize\":0,\"fBuffer\":[],\"fBinStatErrOpt\":0,\"fStatOverflows\":2,\"fArray\":[54584,3418,2052,1885,1826,1778,1641,1658,1596,1594,1546,1461,1508,1419,1396,1452,1405,1436,1372,1472,1477,1407,1460,1483,1557,1551,1719,1683,1887,2277,3397,3]},{\"_typename\":\"TLegend\",\"fUniqueID\":0,\"fBits\":50331656,\"fLineColor\":1,\"fLineStyle\":1,\"fLineWidth\":1,\"fFillColor\":0,\"fFillStyle\":0,\"fX1\":1.00000002091391,\"fY1\":14162.7325395504,\"fX2\":1.43859651764564,\"fY2\":17250.1507288371,\"fX1NDC\":0.7,\"fY1NDC\":0.71,\"fX2NDC\":0.95,\"fY2NDC\":0.85,\"fBorderSize\":0,\"fInit\":1,\"fShadowColor\":1,\"fCornerRadius\":0,\"fOption\":\"brNDC\",\"fName\":\"TPave\",\"fTextAngle\":0,\"fTextSize\":0.05,\"fTextAlign\":12,\"fTextColor\":1,\"fTextFont\":42,\"fPrimitives\":{\"_typename\":\"TList\",\"name\":\"TList\",\"arr\":[{\"_typename\":\"TLegendEntry\",\"fUniqueID\":0,\"fBits\":50331656,\"fTextAngle\":0,\"fTextSize\":0,\"fTextAlign\":0,\"fTextColor\":0,\"fTextFont\":42,\"fLineColor\":1,\"fLineStyle\":1,\"fLineWidth\":1,\"fFillColor\":0,\"fFillStyle\":0,\"fMarkerColor\":1,\"fMarkerStyle\":21,\"fMarkerSize\":1,\"fObject\":{\"$ref\":3},\"fLabel\":\"PU0\",\"fOption\":\"l\"},{\"_typename\":\"TLegendEntry\",\"fUniqueID\":0,\"fBits\":50331656,\"fTextAngle\":0,\"fTextSize\":0,\"fTextAlign\":0,\"fTextColor\":0,\"fTextFont\":42,\"fLineColor\":2,\"fLineStyle\":1,\"fLineWidth\":1,\"fFillColor\":0,\"fFillStyle\":0,\"fMarkerColor\":1,\"fMarkerStyle\":21,\"fMarkerSize\":1,\"fObject\":{\"$ref\":8},\"fLabel\":\"PU200\",\"fOption\":\"l\"}],\"opt\":[\"l\",\"l\"]},\"fEntrySeparation\":0.1,\"fMargin\":0.25,\"fNColumns\":1,\"fColumnSeparation\":0},{\"_typename\":\"TPaveText\",\"fUniqueID\":0,\"fBits\":50331657,\"fLineColor\":1,\"fLineStyle\":1,\"fLineWidth\":1,\"fFillColor\":0,\"fFillStyle\":0,\"fX1\":0.375914674107092,\"fY1\":18689.7636610165,\"fX2\":0.92233097294996,\"fY2\":20447.8339586123,\"fX1NDC\":0.34427135678392,\"fY1NDC\":0.915279725048092,\"fX2NDC\":0.65572864321608,\"fY2NDC\":0.995000004768372,\"fBorderSize\":0,\"fInit\":1,\"fShadowColor\":1,\"fCornerRadius\":0,\"fOption\":\"blNDC\",\"fName\":\"title\",\"fTextAngle\":0,\"fTextSize\":0,\"fTextAlign\":22,\"fTextColor\":1,\"fTextFont\":42,\"fLabel\":\"\",\"fLongest\":20,\"fMargin\":0.05,\"fLines\":{\"_typename\":\"TList\",\"name\":\"TList\",\"arr\":[{\"_typename\":\"TLatex\",\"fUniqueID\":0,\"fBits\":50331648,\"fName\":\"\",\"fTitle\":\"Brem. p_{T} fraction\",\"fTextAngle\":0,\"fTextSize\":0,\"fTextAlign\":0,\"fTextColor\":0,\"fTextFont\":0,\"fX\":0,\"fY\":0,\"fLineColor\":1,\"fLineStyle\":1,\"fLineWidth\":2,\"fLimitFactorSize\":3,\"fOriginSize\":0.0677622407674789}],\"opt\":[\"\"]}}],\"opt\":[\"\",\"hist\",\"same,hist\",\"\",\"blNDC\"]},\"fExecs\":null,\"fName\":\"c_12db67\",\"fTitle\":\"h_genParts_ele_fBrem\",\"fNumPaletteColor\":0,\"fNextPaletteColor\":0,\"fDISPLAY\":\"$DISPLAY\",\"fDoubleBuffer\":0,\"fRetained\":true,\"fXsizeUser\":0,\"fYsizeUser\":0,\"fXsizeReal\":20,\"fYsizeReal\":15,\"fWindowTopX\":0,\"fWindowTopY\":0,\"fWindowWidth\":0,\"fWindowHeight\":0,\"fCw\":796,\"fCh\":572,\"fCatt\":{\"_typename\":\"TAttCanvas\",\"fXBetween\":2,\"fYBetween\":2,\"fTitleFromTop\":1.2,\"fXdate\":0.2,\"fYdate\":0.3,\"fAdate\":1},\"kMoveOpaque\":true,\"kResizeOpaque\":true,\"fHighLightColor\":2,\"fBatch\":true,\"kShowEventStatus\":false,\"kAutoExec\":true,\"kMenuBar\":true});\n",
       "       Core.draw(\"root_plot_5\", obj, \"\");\n",
       "     }\n",
       " );\n",
       "</script>\n"
      ],
      "text/plain": [
       "<IPython.core.display.HTML object>"
      ]
     },
     "metadata": {},
     "output_type": "display_data"
    }
   ],
   "source": [
    "h_fBrem = [histo.h_fBrem for histo in ele_histos]\n",
    "drawSame(h_fBrem, labels,'hist')"
   ]
  },
  {
   "cell_type": "code",
   "execution_count": 14,
   "metadata": {},
   "outputs": [
    {
     "data": {
      "text/html": [
       "\n",
       "<div id=\"root_plot_6\"\n",
       "     style=\"width: 796px; height: 572px\">\n",
       "</div>\n",
       "\n",
       "<script>\n",
       " requirejs.config({\n",
       "     paths: {\n",
       "       'JSRootCore' : 'https://root.cern.ch/js/notebook//scripts/JSRootCore',\n",
       "     }\n",
       "   });\n",
       " require(['JSRootCore'],\n",
       "     function(Core) {\n",
       "       var obj = Core.JSONR_unref({\"_typename\":\"TCanvas\",\"fUniqueID\":0,\"fBits\":53673992,\"fLineColor\":1,\"fLineStyle\":1,\"fLineWidth\":1,\"fFillColor\":0,\"fFillStyle\":1001,\"fLeftMargin\":0.13,\"fRightMargin\":0.3,\"fBottomMargin\":0.13,\"fTopMargin\":0.1,\"fXfile\":2,\"fYfile\":2,\"fAfile\":1,\"fXstat\":0.99,\"fYstat\":0.99,\"fAstat\":2,\"fFrameFillColor\":0,\"fFrameLineColor\":1,\"fFrameFillStyle\":1001,\"fFrameLineStyle\":1,\"fFrameLineWidth\":1,\"fFrameBorderSize\":1,\"fFrameBorderMode\":0,\"fX1\":-0.912280679739743,\"fY1\":-0.0862516751909032,\"fX2\":6.10526326796795,\"fY2\":0.577222758860794,\"fXtoAbsPixelk\":103.480046204376,\"fXtoPixelk\":103.480046204376,\"fXtoPixel\":113.429998576641,\"fYtoAbsPixelk\":497.640051065433,\"fYtoPixelk\":497.640051065433,\"fYtoPixel\":-862.128170496212,\"fUtoAbsPixelk\":5e-5,\"fUtoPixelk\":5e-5,\"fUtoPixel\":796,\"fVtoAbsPixelk\":572.00005,\"fVtoPixelk\":572,\"fVtoPixel\":-572,\"fAbsPixeltoXk\":-0.912280679739743,\"fPixeltoXk\":-0.912280679739743,\"fPixeltoX\":0.0088160099845574,\"fAbsPixeltoYk\":0.577222758860794,\"fPixeltoYk\":-0.0862516751909032,\"fPixeltoY\":-0.00115992033925122,\"fXlowNDC\":0,\"fYlowNDC\":0,\"fXUpNDC\":0,\"fYUpNDC\":0,\"fWNDC\":1,\"fHNDC\":1,\"fAbsXlowNDC\":0,\"fAbsYlowNDC\":0,\"fAbsWNDC\":1,\"fAbsHNDC\":1,\"fUxmin\":0,\"fUymin\":0,\"fUxmax\":4,\"fUymax\":0.51087531298399,\"fTheta\":30,\"fPhi\":30,\"fAspectRatio\":0,\"fNumber\":0,\"fTickx\":0,\"fTicky\":0,\"fLogx\":0,\"fLogy\":0,\"fLogz\":0,\"fPadPaint\":0,\"fCrosshair\":0,\"fCrosshairPos\":0,\"fBorderSize\":2,\"fBorderMode\":0,\"fModified\":false,\"fGridx\":false,\"fGridy\":false,\"fAbsCoord\":false,\"fEditable\":true,\"fFixedAspectRatio\":false,\"fPrimitives\":{\"_typename\":\"TList\",\"name\":\"TList\",\"arr\":[{\"_typename\":\"TFrame\",\"fUniqueID\":0,\"fBits\":50331656,\"fLineColor\":1,\"fLineStyle\":1,\"fLineWidth\":1,\"fFillColor\":0,\"fFillStyle\":1001,\"fX1\":0,\"fY1\":0,\"fX2\":4,\"fY2\":0.51087531298399,\"fBorderSize\":1,\"fBorderMode\":0},{\"_typename\":\"TH1F\",\"fUniqueID\":0,\"fBits\":50332169,\"fName\":\"h_genParts_ele_reachedEE\",\"fTitle\":\"Gen Part reachedEE\",\"fLineColor\":1,\"fLineStyle\":1,\"fLineWidth\":1,\"fFillColor\":0,\"fFillStyle\":1001,\"fMarkerColor\":1,\"fMarkerStyle\":1,\"fMarkerSize\":1,\"fNcells\":6,\"fXaxis\":{\"_typename\":\"TAxis\",\"fUniqueID\":0,\"fBits\":50331648,\"fName\":\"xaxis\",\"fTitle\":\"\",\"fNdivisions\":510,\"fAxisColor\":1,\"fLabelColor\":1,\"fLabelFont\":42,\"fLabelOffset\":0.005,\"fLabelSize\":0.035,\"fTickLength\":0.03,\"fTitleOffset\":1,\"fTitleSize\":0.035,\"fTitleColor\":1,\"fTitleFont\":42,\"fNbins\":4,\"fXmin\":0,\"fXmax\":4,\"fXbins\":[],\"fFirst\":0,\"fLast\":0,\"fBits2\":0,\"fTimeDisplay\":false,\"fTimeFormat\":\"\",\"fLabels\":null,\"fModLabs\":null},\"fYaxis\":{\"_typename\":\"TAxis\",\"fUniqueID\":0,\"fBits\":50331648,\"fName\":\"yaxis\",\"fTitle\":\"\",\"fNdivisions\":510,\"fAxisColor\":1,\"fLabelColor\":1,\"fLabelFont\":42,\"fLabelOffset\":0.005,\"fLabelSize\":0.035,\"fTickLength\":0.03,\"fTitleOffset\":0,\"fTitleSize\":0.035,\"fTitleColor\":1,\"fTitleFont\":42,\"fNbins\":1,\"fXmin\":0,\"fXmax\":1,\"fXbins\":[],\"fFirst\":0,\"fLast\":0,\"fBits2\":0,\"fTimeDisplay\":false,\"fTimeFormat\":\"\",\"fLabels\":null,\"fModLabs\":null},\"fZaxis\":{\"_typename\":\"TAxis\",\"fUniqueID\":0,\"fBits\":50331648,\"fName\":\"zaxis\",\"fTitle\":\"\",\"fNdivisions\":510,\"fAxisColor\":1,\"fLabelColor\":1,\"fLabelFont\":42,\"fLabelOffset\":0.005,\"fLabelSize\":0.035,\"fTickLength\":0.03,\"fTitleOffset\":1,\"fTitleSize\":0.035,\"fTitleColor\":1,\"fTitleFont\":42,\"fNbins\":1,\"fXmin\":0,\"fXmax\":1,\"fXbins\":[],\"fFirst\":0,\"fLast\":0,\"fBits2\":0,\"fTimeDisplay\":false,\"fTimeFormat\":\"\",\"fLabels\":null,\"fModLabs\":null},\"fBarOffset\":0,\"fBarWidth\":1000,\"fEntries\":480000,\"fTsumw\":480000,\"fTsumw2\":480000,\"fTsumwx\":633759,\"fTsumwx2\":1100845,\"fMaximum\":-1111,\"fMinimum\":-1111,\"fNormFactor\":0,\"fContour\":[],\"fSumw2\":[0,3.46284722222222e-7,7.23407118055556e-7,1.01364149305556e-6,0,0],\"fOption\":\"\",\"fFunctions\":{\"_typename\":\"TList\",\"name\":\"TList\",\"arr\":[],\"opt\":[]},\"fBufferSize\":0,\"fBuffer\":[],\"fBinStatErrOpt\":0,\"fStatOverflows\":2,\"fArray\":[0,0.1662167,0.3472354,0.4865479,0,0]},{\"_typename\":\"TH1F\",\"fUniqueID\":0,\"fBits\":50332169,\"fName\":\"h_genParts_ele_reachedEE\",\"fTitle\":\"Gen Part reachedEE\",\"fLineColor\":2,\"fLineStyle\":1,\"fLineWidth\":1,\"fFillColor\":0,\"fFillStyle\":1001,\"fMarkerColor\":1,\"fMarkerStyle\":1,\"fMarkerSize\":1,\"fNcells\":6,\"fXaxis\":{\"_typename\":\"TAxis\",\"fUniqueID\":0,\"fBits\":50331648,\"fName\":\"xaxis\",\"fTitle\":\"\",\"fNdivisions\":510,\"fAxisColor\":1,\"fLabelColor\":1,\"fLabelFont\":42,\"fLabelOffset\":0.005,\"fLabelSize\":0.035,\"fTickLength\":0.03,\"fTitleOffset\":1,\"fTitleSize\":0.035,\"fTitleColor\":1,\"fTitleFont\":42,\"fNbins\":4,\"fXmin\":0,\"fXmax\":4,\"fXbins\":[],\"fFirst\":0,\"fLast\":0,\"fBits2\":0,\"fTimeDisplay\":false,\"fTimeFormat\":\"\",\"fLabels\":null,\"fModLabs\":null},\"fYaxis\":{\"_typename\":\"TAxis\",\"fUniqueID\":0,\"fBits\":50331648,\"fName\":\"yaxis\",\"fTitle\":\"\",\"fNdivisions\":510,\"fAxisColor\":1,\"fLabelColor\":1,\"fLabelFont\":42,\"fLabelOffset\":0.005,\"fLabelSize\":0.035,\"fTickLength\":0.03,\"fTitleOffset\":0,\"fTitleSize\":0.035,\"fTitleColor\":1,\"fTitleFont\":42,\"fNbins\":1,\"fXmin\":0,\"fXmax\":1,\"fXbins\":[],\"fFirst\":0,\"fLast\":0,\"fBits2\":0,\"fTimeDisplay\":false,\"fTimeFormat\":\"\",\"fLabels\":null,\"fModLabs\":null},\"fZaxis\":{\"_typename\":\"TAxis\",\"fUniqueID\":0,\"fBits\":50331648,\"fName\":\"zaxis\",\"fTitle\":\"\",\"fNdivisions\":510,\"fAxisColor\":1,\"fLabelColor\":1,\"fLabelFont\":42,\"fLabelOffset\":0.005,\"fLabelSize\":0.035,\"fTickLength\":0.03,\"fTitleOffset\":1,\"fTitleSize\":0.035,\"fTitleColor\":1,\"fTitleFont\":42,\"fNbins\":1,\"fXmin\":0,\"fXmax\":1,\"fXbins\":[],\"fFirst\":0,\"fLast\":0,\"fBits2\":0,\"fTimeDisplay\":false,\"fTimeFormat\":\"\",\"fLabels\":null,\"fModLabs\":null},\"fBarOffset\":0,\"fBarWidth\":1000,\"fEntries\":106400,\"fTsumw\":106400,\"fTsumw2\":106400,\"fTsumwx\":140477,\"fTsumwx2\":244109,\"fMaximum\":-1111,\"fMinimum\":-1111,\"fNormFactor\":0,\"fContour\":[],\"fSumw2\":[0,1.56691658657923e-6,3.25458265023461e-6,4.57699700378766e-6,0,0],\"fOption\":\"\",\"fFunctions\":{\"_typename\":\"TList\",\"name\":\"TList\",\"arr\":[],\"opt\":[]},\"fBufferSize\":0,\"fBuffer\":[],\"fBinStatErrOpt\":0,\"fStatOverflows\":2,\"fArray\":[0,0.1667199,0.3462876,0.4869925,0,0]},{\"_typename\":\"TLegend\",\"fUniqueID\":0,\"fBits\":50331656,\"fLineColor\":1,\"fLineStyle\":1,\"fLineWidth\":1,\"fFillColor\":0,\"fFillStyle\":0,\"fX1\":4.00000008365564,\"fY1\":0.384815172985802,\"fX2\":5.75438607058257,\"fY2\":0.47770159375304,\"fX1NDC\":0.7,\"fY1NDC\":0.71,\"fX2NDC\":0.95,\"fY2NDC\":0.85,\"fBorderSize\":0,\"fInit\":1,\"fShadowColor\":1,\"fCornerRadius\":0,\"fOption\":\"brNDC\",\"fName\":\"TPave\",\"fTextAngle\":0,\"fTextSize\":0.05,\"fTextAlign\":12,\"fTextColor\":1,\"fTextFont\":42,\"fPrimitives\":{\"_typename\":\"TList\",\"name\":\"TList\",\"arr\":[{\"_typename\":\"TLegendEntry\",\"fUniqueID\":0,\"fBits\":50331656,\"fTextAngle\":0,\"fTextSize\":0,\"fTextAlign\":0,\"fTextColor\":0,\"fTextFont\":42,\"fLineColor\":1,\"fLineStyle\":1,\"fLineWidth\":1,\"fFillColor\":0,\"fFillStyle\":0,\"fMarkerColor\":1,\"fMarkerStyle\":21,\"fMarkerSize\":1,\"fObject\":{\"_typename\":\"TH1F\",\"fUniqueID\":0,\"fBits\":50332168,\"fName\":\"h_genParts_ele_reachedEE\",\"fTitle\":\"Gen Part reachedEE\",\"fLineColor\":1,\"fLineStyle\":1,\"fLineWidth\":1,\"fFillColor\":0,\"fFillStyle\":1001,\"fMarkerColor\":1,\"fMarkerStyle\":1,\"fMarkerSize\":1,\"fNcells\":6,\"fXaxis\":{\"_typename\":\"TAxis\",\"fUniqueID\":0,\"fBits\":50331648,\"fName\":\"xaxis\",\"fTitle\":\"\",\"fNdivisions\":510,\"fAxisColor\":1,\"fLabelColor\":1,\"fLabelFont\":42,\"fLabelOffset\":0.005,\"fLabelSize\":0.035,\"fTickLength\":0.03,\"fTitleOffset\":1,\"fTitleSize\":0.035,\"fTitleColor\":1,\"fTitleFont\":42,\"fNbins\":4,\"fXmin\":0,\"fXmax\":4,\"fXbins\":[],\"fFirst\":0,\"fLast\":0,\"fBits2\":0,\"fTimeDisplay\":false,\"fTimeFormat\":\"\",\"fLabels\":null,\"fModLabs\":null},\"fYaxis\":{\"_typename\":\"TAxis\",\"fUniqueID\":0,\"fBits\":50331656,\"fName\":\"yaxis\",\"fTitle\":\"\",\"fNdivisions\":510,\"fAxisColor\":1,\"fLabelColor\":1,\"fLabelFont\":42,\"fLabelOffset\":0.005,\"fLabelSize\":0.035,\"fTickLength\":0.03,\"fTitleOffset\":0,\"fTitleSize\":0.035,\"fTitleColor\":1,\"fTitleFont\":42,\"fNbins\":1,\"fXmin\":0,\"fXmax\":1,\"fXbins\":[],\"fFirst\":0,\"fLast\":0,\"fBits2\":0,\"fTimeDisplay\":false,\"fTimeFormat\":\"\",\"fLabels\":null,\"fModLabs\":null},\"fZaxis\":{\"_typename\":\"TAxis\",\"fUniqueID\":0,\"fBits\":50331648,\"fName\":\"zaxis\",\"fTitle\":\"\",\"fNdivisions\":510,\"fAxisColor\":1,\"fLabelColor\":1,\"fLabelFont\":42,\"fLabelOffset\":0.005,\"fLabelSize\":0.035,\"fTickLength\":0.03,\"fTitleOffset\":1,\"fTitleSize\":0.035,\"fTitleColor\":1,\"fTitleFont\":42,\"fNbins\":1,\"fXmin\":0,\"fXmax\":1,\"fXbins\":[],\"fFirst\":0,\"fLast\":0,\"fBits2\":0,\"fTimeDisplay\":false,\"fTimeFormat\":\"\",\"fLabels\":null,\"fModLabs\":null},\"fBarOffset\":0,\"fBarWidth\":1000,\"fEntries\":480000,\"fTsumw\":480000,\"fTsumw2\":480000,\"fTsumwx\":633759,\"fTsumwx2\":1100845,\"fMaximum\":280251.6,\"fMinimum\":0,\"fNormFactor\":0,\"fContour\":[],\"fSumw2\":[0,79784,166673,233543,0,0],\"fOption\":\"\",\"fFunctions\":{\"_typename\":\"TList\",\"name\":\"TList\",\"arr\":[],\"opt\":[]},\"fBufferSize\":0,\"fBuffer\":[],\"fBinStatErrOpt\":0,\"fStatOverflows\":2,\"fArray\":[0,79784,166673,233543,0,0]},\"fLabel\":\"PU0\",\"fOption\":\"l\"},{\"_typename\":\"TLegendEntry\",\"fUniqueID\":0,\"fBits\":50331656,\"fTextAngle\":0,\"fTextSize\":0,\"fTextAlign\":0,\"fTextColor\":0,\"fTextFont\":42,\"fLineColor\":2,\"fLineStyle\":1,\"fLineWidth\":1,\"fFillColor\":0,\"fFillStyle\":0,\"fMarkerColor\":1,\"fMarkerStyle\":21,\"fMarkerSize\":1,\"fObject\":{\"_typename\":\"TH1F\",\"fUniqueID\":0,\"fBits\":50332168,\"fName\":\"h_genParts_ele_reachedEE\",\"fTitle\":\"Gen Part reachedEE\",\"fLineColor\":2,\"fLineStyle\":1,\"fLineWidth\":1,\"fFillColor\":0,\"fFillStyle\":1001,\"fMarkerColor\":1,\"fMarkerStyle\":1,\"fMarkerSize\":1,\"fNcells\":6,\"fXaxis\":{\"_typename\":\"TAxis\",\"fUniqueID\":0,\"fBits\":50331648,\"fName\":\"xaxis\",\"fTitle\":\"\",\"fNdivisions\":510,\"fAxisColor\":1,\"fLabelColor\":1,\"fLabelFont\":42,\"fLabelOffset\":0.005,\"fLabelSize\":0.035,\"fTickLength\":0.03,\"fTitleOffset\":1,\"fTitleSize\":0.035,\"fTitleColor\":1,\"fTitleFont\":42,\"fNbins\":4,\"fXmin\":0,\"fXmax\":4,\"fXbins\":[],\"fFirst\":0,\"fLast\":0,\"fBits2\":0,\"fTimeDisplay\":false,\"fTimeFormat\":\"\",\"fLabels\":null,\"fModLabs\":null},\"fYaxis\":{\"_typename\":\"TAxis\",\"fUniqueID\":0,\"fBits\":50331648,\"fName\":\"yaxis\",\"fTitle\":\"\",\"fNdivisions\":510,\"fAxisColor\":1,\"fLabelColor\":1,\"fLabelFont\":42,\"fLabelOffset\":0.005,\"fLabelSize\":0.035,\"fTickLength\":0.03,\"fTitleOffset\":0,\"fTitleSize\":0.035,\"fTitleColor\":1,\"fTitleFont\":42,\"fNbins\":1,\"fXmin\":0,\"fXmax\":1,\"fXbins\":[],\"fFirst\":0,\"fLast\":0,\"fBits2\":0,\"fTimeDisplay\":false,\"fTimeFormat\":\"\",\"fLabels\":null,\"fModLabs\":null},\"fZaxis\":{\"_typename\":\"TAxis\",\"fUniqueID\":0,\"fBits\":50331648,\"fName\":\"zaxis\",\"fTitle\":\"\",\"fNdivisions\":510,\"fAxisColor\":1,\"fLabelColor\":1,\"fLabelFont\":42,\"fLabelOffset\":0.005,\"fLabelSize\":0.035,\"fTickLength\":0.03,\"fTitleOffset\":1,\"fTitleSize\":0.035,\"fTitleColor\":1,\"fTitleFont\":42,\"fNbins\":1,\"fXmin\":0,\"fXmax\":1,\"fXbins\":[],\"fFirst\":0,\"fLast\":0,\"fBits2\":0,\"fTimeDisplay\":false,\"fTimeFormat\":\"\",\"fLabels\":null,\"fModLabs\":null},\"fBarOffset\":0,\"fBarWidth\":1000,\"fEntries\":106400,\"fTsumw\":106400,\"fTsumw2\":106400,\"fTsumwx\":140477,\"fTsumwx2\":244109,\"fMaximum\":-1111,\"fMinimum\":-1111,\"fNormFactor\":0,\"fContour\":[],\"fSumw2\":[0,17739,36845,51816,0,0],\"fOption\":\"\",\"fFunctions\":{\"_typename\":\"TList\",\"name\":\"TList\",\"arr\":[],\"opt\":[]},\"fBufferSize\":0,\"fBuffer\":[],\"fBinStatErrOpt\":0,\"fStatOverflows\":2,\"fArray\":[0,17739,36845,51816,0,0]},\"fLabel\":\"PU200\",\"fOption\":\"l\"}],\"opt\":[\"l\",\"l\"]},\"fEntrySeparation\":0.1,\"fMargin\":0.25,\"fNColumns\":1,\"fColumnSeparation\":0},{\"_typename\":\"TPaveText\",\"fUniqueID\":0,\"fBits\":50331657,\"fLineColor\":1,\"fLineStyle\":1,\"fLineWidth\":1,\"fFillColor\":0,\"fFillStyle\":0,\"fX1\":1.30089046678355,\"fY1\":0.537414295437625,\"fX2\":3.89209212144466,\"fY2\":0.573905389854228,\"fX1NDC\":0.315376884422111,\"fY1NDC\":0.940000003948808,\"fX2NDC\":0.684623115577889,\"fY2NDC\":0.995000004768372,\"fBorderSize\":0,\"fInit\":1,\"fShadowColor\":1,\"fCornerRadius\":0,\"fOption\":\"blNDC\",\"fName\":\"title\",\"fTextAngle\":0,\"fTextSize\":0,\"fTextAlign\":22,\"fTextColor\":1,\"fTextFont\":42,\"fLabel\":\"\",\"fLongest\":18,\"fMargin\":0.05,\"fLines\":{\"_typename\":\"TList\",\"name\":\"TList\",\"arr\":[{\"_typename\":\"TLatex\",\"fUniqueID\":0,\"fBits\":50331648,\"fName\":\"\",\"fTitle\":\"Gen Part reachedEE\",\"fTextAngle\":0,\"fTextSize\":0,\"fTextAlign\":0,\"fTextColor\":0,\"fTextFont\":0,\"fX\":0,\"fY\":0,\"fLineColor\":1,\"fLineStyle\":1,\"fLineWidth\":2,\"fLimitFactorSize\":3,\"fOriginSize\":0.0467500016093254}],\"opt\":[\"\"]}}],\"opt\":[\"\",\",HIST\",\"SAME,HIST\",\"\",\"blNDC\"]},\"fExecs\":null,\"fName\":\"c_df6f80\",\"fTitle\":\"h_genParts_ele_reachedEE\",\"fNumPaletteColor\":0,\"fNextPaletteColor\":0,\"fDISPLAY\":\"$DISPLAY\",\"fDoubleBuffer\":0,\"fRetained\":true,\"fXsizeUser\":0,\"fYsizeUser\":0,\"fXsizeReal\":20,\"fYsizeReal\":15,\"fWindowTopX\":0,\"fWindowTopY\":0,\"fWindowWidth\":0,\"fWindowHeight\":0,\"fCw\":796,\"fCh\":572,\"fCatt\":{\"_typename\":\"TAttCanvas\",\"fXBetween\":2,\"fYBetween\":2,\"fTitleFromTop\":1.2,\"fXdate\":0.2,\"fYdate\":0.3,\"fAdate\":1},\"kMoveOpaque\":true,\"kResizeOpaque\":true,\"fHighLightColor\":2,\"fBatch\":true,\"kShowEventStatus\":false,\"kAutoExec\":true,\"kMenuBar\":true});\n",
       "       Core.draw(\"root_plot_6\", obj, \"\");\n",
       "     }\n",
       " );\n",
       "</script>\n"
      ],
      "text/plain": [
       "<IPython.core.display.HTML object>"
      ]
     },
     "metadata": {},
     "output_type": "display_data"
    }
   ],
   "source": [
    "h_reachedEE = [histo.h_reachedEE for histo in ele_histos]\n",
    "drawSame(h_reachedEE, labels,'hist', norm=True)\n"
   ]
  },
  {
   "cell_type": "code",
   "execution_count": 24,
   "metadata": {},
   "outputs": [
    {
     "data": {
      "text/html": [
       "\n",
       "<div id=\"root_plot_13\"\n",
       "     style=\"width: 796px; height: 572px\">\n",
       "</div>\n",
       "\n",
       "<script>\n",
       " requirejs.config({\n",
       "     paths: {\n",
       "       'JSRootCore' : 'https://root.cern.ch/js/notebook//scripts/JSRootCore',\n",
       "     }\n",
       "   });\n",
       " require(['JSRootCore'],\n",
       "     function(Core) {\n",
       "       var obj = Core.JSONR_unref({\"_typename\":\"TCanvas\",\"fUniqueID\":0,\"fBits\":53673992,\"fLineColor\":1,\"fLineStyle\":1,\"fLineWidth\":1,\"fFillColor\":0,\"fFillStyle\":1001,\"fLeftMargin\":0.13,\"fRightMargin\":0.3,\"fBottomMargin\":0.13,\"fTopMargin\":0.1,\"fXfile\":2,\"fYfile\":2,\"fAfile\":1,\"fXstat\":0.99,\"fYstat\":0.99,\"fAstat\":2,\"fFrameFillColor\":0,\"fFrameLineColor\":1,\"fFrameFillStyle\":1001,\"fFrameLineStyle\":1,\"fFrameLineWidth\":1,\"fFrameBorderSize\":1,\"fFrameBorderMode\":0,\"fX1\":-0.912280679739743,\"fY1\":-26482.924359939,\"fX2\":6.10526326796795,\"fY2\":177231.881327656,\"fXtoAbsPixelk\":103.480046204376,\"fXtoPixelk\":103.480046204376,\"fXtoPixel\":113.429998576641,\"fYtoAbsPixelk\":497.640051065433,\"fYtoPixelk\":497.640051065433,\"fYtoPixel\":-0.00280784697052007,\"fUtoAbsPixelk\":5e-5,\"fUtoPixelk\":5e-5,\"fUtoPixel\":796,\"fVtoAbsPixelk\":572.00005,\"fVtoPixelk\":572,\"fVtoPixel\":-572,\"fAbsPixeltoXk\":-0.912280679739743,\"fPixeltoXk\":-0.912280679739743,\"fPixeltoX\":0.0088160099845574,\"fAbsPixeltoYk\":177231.881327656,\"fPixeltoYk\":-26482.924359939,\"fPixeltoY\":-356.144765188104,\"fXlowNDC\":0,\"fYlowNDC\":0,\"fXUpNDC\":0,\"fYUpNDC\":0,\"fWNDC\":1,\"fHNDC\":1,\"fAbsXlowNDC\":0,\"fAbsYlowNDC\":0,\"fAbsWNDC\":1,\"fAbsHNDC\":1,\"fUxmin\":0,\"fUymin\":0,\"fUxmax\":4,\"fUymax\":156860.4,\"fTheta\":30,\"fPhi\":30,\"fAspectRatio\":0,\"fNumber\":0,\"fTickx\":0,\"fTicky\":0,\"fLogx\":0,\"fLogy\":0,\"fLogz\":0,\"fPadPaint\":0,\"fCrosshair\":0,\"fCrosshairPos\":0,\"fBorderSize\":2,\"fBorderMode\":0,\"fModified\":false,\"fGridx\":false,\"fGridy\":false,\"fAbsCoord\":false,\"fEditable\":true,\"fFixedAspectRatio\":false,\"fPrimitives\":{\"_typename\":\"TList\",\"name\":\"TList\",\"arr\":[{\"_typename\":\"TFrame\",\"fUniqueID\":0,\"fBits\":50331656,\"fLineColor\":1,\"fLineStyle\":1,\"fLineWidth\":1,\"fFillColor\":0,\"fFillStyle\":1001,\"fX1\":0,\"fY1\":0,\"fX2\":4,\"fY2\":156860.4,\"fBorderSize\":1,\"fBorderMode\":0},{\"_typename\":\"TH1F\",\"fUniqueID\":0,\"fBits\":50332168,\"fName\":\"h_effNum_DEF_eleABC_reachedEE\",\"fTitle\":\"Gen Part reachedEE\",\"fLineColor\":1,\"fLineStyle\":1,\"fLineWidth\":1,\"fFillColor\":0,\"fFillStyle\":1001,\"fMarkerColor\":1,\"fMarkerStyle\":1,\"fMarkerSize\":1,\"fNcells\":6,\"fXaxis\":{\"_typename\":\"TAxis\",\"fUniqueID\":0,\"fBits\":50331648,\"fName\":\"xaxis\",\"fTitle\":\"\",\"fNdivisions\":510,\"fAxisColor\":1,\"fLabelColor\":1,\"fLabelFont\":42,\"fLabelOffset\":0.005,\"fLabelSize\":0.035,\"fTickLength\":0.03,\"fTitleOffset\":1,\"fTitleSize\":0.035,\"fTitleColor\":1,\"fTitleFont\":42,\"fNbins\":4,\"fXmin\":0,\"fXmax\":4,\"fXbins\":[],\"fFirst\":0,\"fLast\":0,\"fBits2\":0,\"fTimeDisplay\":false,\"fTimeFormat\":\"\",\"fLabels\":null,\"fModLabs\":null},\"fYaxis\":{\"_typename\":\"TAxis\",\"fUniqueID\":0,\"fBits\":50331656,\"fName\":\"yaxis\",\"fTitle\":\"\",\"fNdivisions\":510,\"fAxisColor\":1,\"fLabelColor\":1,\"fLabelFont\":42,\"fLabelOffset\":0.005,\"fLabelSize\":0.035,\"fTickLength\":0.03,\"fTitleOffset\":0,\"fTitleSize\":0.035,\"fTitleColor\":1,\"fTitleFont\":42,\"fNbins\":1,\"fXmin\":0,\"fXmax\":1,\"fXbins\":[],\"fFirst\":0,\"fLast\":0,\"fBits2\":0,\"fTimeDisplay\":false,\"fTimeFormat\":\"\",\"fLabels\":null,\"fModLabs\":null},\"fZaxis\":{\"_typename\":\"TAxis\",\"fUniqueID\":0,\"fBits\":50331648,\"fName\":\"zaxis\",\"fTitle\":\"\",\"fNdivisions\":510,\"fAxisColor\":1,\"fLabelColor\":1,\"fLabelFont\":42,\"fLabelOffset\":0.005,\"fLabelSize\":0.035,\"fTickLength\":0.03,\"fTitleOffset\":1,\"fTitleSize\":0.035,\"fTitleColor\":1,\"fTitleFont\":42,\"fNbins\":1,\"fXmin\":0,\"fXmax\":1,\"fXbins\":[],\"fFirst\":0,\"fLast\":0,\"fBits2\":0,\"fTimeDisplay\":false,\"fTimeFormat\":\"\",\"fLabels\":null,\"fModLabs\":null},\"fBarOffset\":0,\"fBarWidth\":1000,\"fEntries\":130717,\"fTsumw\":130717,\"fTsumw2\":130717,\"fTsumwx\":261434,\"fTsumwx2\":522868,\"fMaximum\":156860.4,\"fMinimum\":0,\"fNormFactor\":0,\"fContour\":[],\"fSumw2\":[0,0,0,130717,0,0],\"fOption\":\"\",\"fFunctions\":{\"_typename\":\"TList\",\"name\":\"TList\",\"arr\":[],\"opt\":[]},\"fBufferSize\":0,\"fBuffer\":[],\"fBinStatErrOpt\":0,\"fStatOverflows\":2,\"fArray\":[0,0,0,130717,0,0]},{\"_typename\":\"TH1F\",\"fUniqueID\":0,\"fBits\":50332168,\"fName\":\"h_effNum_DEF_eleABC_reachedEE\",\"fTitle\":\"Gen Part reachedEE\",\"fLineColor\":2,\"fLineStyle\":1,\"fLineWidth\":1,\"fFillColor\":0,\"fFillStyle\":1001,\"fMarkerColor\":1,\"fMarkerStyle\":1,\"fMarkerSize\":1,\"fNcells\":6,\"fXaxis\":{\"_typename\":\"TAxis\",\"fUniqueID\":0,\"fBits\":50331648,\"fName\":\"xaxis\",\"fTitle\":\"\",\"fNdivisions\":510,\"fAxisColor\":1,\"fLabelColor\":1,\"fLabelFont\":42,\"fLabelOffset\":0.005,\"fLabelSize\":0.035,\"fTickLength\":0.03,\"fTitleOffset\":1,\"fTitleSize\":0.035,\"fTitleColor\":1,\"fTitleFont\":42,\"fNbins\":4,\"fXmin\":0,\"fXmax\":4,\"fXbins\":[],\"fFirst\":0,\"fLast\":0,\"fBits2\":0,\"fTimeDisplay\":false,\"fTimeFormat\":\"\",\"fLabels\":null,\"fModLabs\":null},\"fYaxis\":{\"_typename\":\"TAxis\",\"fUniqueID\":0,\"fBits\":50331648,\"fName\":\"yaxis\",\"fTitle\":\"\",\"fNdivisions\":510,\"fAxisColor\":1,\"fLabelColor\":1,\"fLabelFont\":42,\"fLabelOffset\":0.005,\"fLabelSize\":0.035,\"fTickLength\":0.03,\"fTitleOffset\":0,\"fTitleSize\":0.035,\"fTitleColor\":1,\"fTitleFont\":42,\"fNbins\":1,\"fXmin\":0,\"fXmax\":1,\"fXbins\":[],\"fFirst\":0,\"fLast\":0,\"fBits2\":0,\"fTimeDisplay\":false,\"fTimeFormat\":\"\",\"fLabels\":null,\"fModLabs\":null},\"fZaxis\":{\"_typename\":\"TAxis\",\"fUniqueID\":0,\"fBits\":50331648,\"fName\":\"zaxis\",\"fTitle\":\"\",\"fNdivisions\":510,\"fAxisColor\":1,\"fLabelColor\":1,\"fLabelFont\":42,\"fLabelOffset\":0.005,\"fLabelSize\":0.035,\"fTickLength\":0.03,\"fTitleOffset\":1,\"fTitleSize\":0.035,\"fTitleColor\":1,\"fTitleFont\":42,\"fNbins\":1,\"fXmin\":0,\"fXmax\":1,\"fXbins\":[],\"fFirst\":0,\"fLast\":0,\"fBits2\":0,\"fTimeDisplay\":false,\"fTimeFormat\":\"\",\"fLabels\":null,\"fModLabs\":null},\"fBarOffset\":0,\"fBarWidth\":1000,\"fEntries\":29820,\"fTsumw\":29820,\"fTsumw2\":29820,\"fTsumwx\":59640,\"fTsumwx2\":119280,\"fMaximum\":-1111,\"fMinimum\":-1111,\"fNormFactor\":0,\"fContour\":[],\"fSumw2\":[0,0,0,29820,0,0],\"fOption\":\"\",\"fFunctions\":{\"_typename\":\"TList\",\"name\":\"TList\",\"arr\":[],\"opt\":[]},\"fBufferSize\":0,\"fBuffer\":[],\"fBinStatErrOpt\":0,\"fStatOverflows\":2,\"fArray\":[0,0,0,29820,0,0]},{\"_typename\":\"TLegend\",\"fUniqueID\":0,\"fBits\":50331656,\"fLineColor\":1,\"fLineStyle\":1,\"fLineWidth\":1,\"fFillColor\":0,\"fFillStyle\":0,\"fX1\":4.00000008365564,\"fY1\":118154.587678254,\"fX2\":5.75438607058257,\"fY2\":146674.660474517,\"fX1NDC\":0.7,\"fY1NDC\":0.71,\"fX2NDC\":0.95,\"fY2NDC\":0.85,\"fBorderSize\":0,\"fInit\":1,\"fShadowColor\":1,\"fCornerRadius\":0,\"fOption\":\"brNDC\",\"fName\":\"TPave\",\"fTextAngle\":0,\"fTextSize\":0.05,\"fTextAlign\":12,\"fTextColor\":1,\"fTextFont\":42,\"fPrimitives\":{\"_typename\":\"TList\",\"name\":\"TList\",\"arr\":[{\"_typename\":\"TLegendEntry\",\"fUniqueID\":0,\"fBits\":50331656,\"fTextAngle\":0,\"fTextSize\":0,\"fTextAlign\":0,\"fTextColor\":0,\"fTextFont\":42,\"fLineColor\":1,\"fLineStyle\":1,\"fLineWidth\":1,\"fFillColor\":0,\"fFillStyle\":0,\"fMarkerColor\":1,\"fMarkerStyle\":21,\"fMarkerSize\":1,\"fObject\":{\"$ref\":3},\"fLabel\":\"PU0\",\"fOption\":\"l\"},{\"_typename\":\"TLegendEntry\",\"fUniqueID\":0,\"fBits\":50331656,\"fTextAngle\":0,\"fTextSize\":0,\"fTextAlign\":0,\"fTextColor\":0,\"fTextFont\":42,\"fLineColor\":2,\"fLineStyle\":1,\"fLineWidth\":1,\"fFillColor\":0,\"fFillStyle\":0,\"fMarkerColor\":1,\"fMarkerStyle\":21,\"fMarkerSize\":1,\"fObject\":{\"$ref\":8},\"fLabel\":\"PU200\",\"fOption\":\"l\"}],\"opt\":[\"l\",\"l\"]},\"fEntrySeparation\":0.1,\"fMargin\":0.25,\"fNColumns\":1,\"fColumnSeparation\":0},{\"_typename\":\"TPaveText\",\"fUniqueID\":0,\"fBits\":50331657,\"fLineColor\":1,\"fLineStyle\":1,\"fLineWidth\":1,\"fFillColor\":0,\"fFillStyle\":0,\"fX1\":1.30089046678355,\"fY1\":165008.993790831,\"fX2\":3.89209212144466,\"fY2\":176213.308270606,\"fX1NDC\":0.315376884422111,\"fY1NDC\":0.940000003948808,\"fX2NDC\":0.684623115577889,\"fY2NDC\":0.995000004768372,\"fBorderSize\":0,\"fInit\":1,\"fShadowColor\":1,\"fCornerRadius\":0,\"fOption\":\"blNDC\",\"fName\":\"title\",\"fTextAngle\":0,\"fTextSize\":0,\"fTextAlign\":22,\"fTextColor\":1,\"fTextFont\":42,\"fLabel\":\"\",\"fLongest\":18,\"fMargin\":0.05,\"fLines\":{\"_typename\":\"TList\",\"name\":\"TList\",\"arr\":[{\"_typename\":\"TLatex\",\"fUniqueID\":0,\"fBits\":50331648,\"fName\":\"\",\"fTitle\":\"Gen Part reachedEE\",\"fTextAngle\":0,\"fTextSize\":0,\"fTextAlign\":0,\"fTextColor\":0,\"fTextFont\":0,\"fX\":0,\"fY\":0,\"fLineColor\":1,\"fLineStyle\":1,\"fLineWidth\":2,\"fLimitFactorSize\":3,\"fOriginSize\":0.0467500016093254}],\"opt\":[\"\"]}}],\"opt\":[\"\",\"hist\",\"same,hist\",\"\",\"blNDC\"]},\"fExecs\":null,\"fName\":\"c_5900da\",\"fTitle\":\"h_effNum_DEF_eleABC_reachedEE\",\"fNumPaletteColor\":0,\"fNextPaletteColor\":0,\"fDISPLAY\":\"$DISPLAY\",\"fDoubleBuffer\":0,\"fRetained\":true,\"fXsizeUser\":0,\"fYsizeUser\":0,\"fXsizeReal\":20,\"fYsizeReal\":15,\"fWindowTopX\":0,\"fWindowTopY\":0,\"fWindowWidth\":0,\"fWindowHeight\":0,\"fCw\":796,\"fCh\":572,\"fCatt\":{\"_typename\":\"TAttCanvas\",\"fXBetween\":2,\"fYBetween\":2,\"fTitleFromTop\":1.2,\"fXdate\":0.2,\"fYdate\":0.3,\"fAdate\":1},\"kMoveOpaque\":true,\"kResizeOpaque\":true,\"fHighLightColor\":2,\"fBatch\":true,\"kShowEventStatus\":false,\"kAutoExec\":true,\"kMenuBar\":true});\n",
       "       Core.draw(\"root_plot_13\", obj, \"\");\n",
       "     }\n",
       " );\n",
       "</script>\n"
      ],
      "text/plain": [
       "<IPython.core.display.HTML object>"
      ]
     },
     "metadata": {},
     "output_type": "display_data"
    }
   ],
   "source": [
    "particle = 'eleABC'\n",
    "\n",
    "ele_histos = [histos.GenParticleHistos('h_effNum_DEF_{}'.format(particle), sample.histo_file) for sample in samples]\n",
    "labels = [sample.label for sample in samples]\n",
    "h_reachedEE = [histo.h_reachedEE for histo in ele_histos]\n",
    "drawSame(h_reachedEE, labels,'hist')\n"
   ]
  },
  {
   "cell_type": "markdown",
   "metadata": {},
   "source": [
    "## Photons pt 35GeV\n",
    "\n",
    "1.6 < Eta  < 2.8"
   ]
  },
  {
   "cell_type": "code",
   "execution_count": null,
   "metadata": {},
   "outputs": [],
   "source": [
    "particle = 'photon'\n",
    "samples = samples_photon\n",
    "\n",
    "\n",
    "photon_histos = [histos.GenParticleHistos('h_genParts_{}'.format(particle), sample.histo_file) for sample in samples]\n",
    "labels = [sample.label for sample in samples]\n"
   ]
  },
  {
   "cell_type": "code",
   "execution_count": null,
   "metadata": {},
   "outputs": [],
   "source": [
    "h_energy = [histo.h_energy for histo in photon_histos]\n",
    "drawSame(h_energy, labels,'hist', norm=True)\n"
   ]
  },
  {
   "cell_type": "code",
   "execution_count": null,
   "metadata": {},
   "outputs": [],
   "source": [
    "h_pt = [histo.h_pt for histo in photon_histos]\n",
    "drawSame(h_pt, labels,'hist', norm=True)"
   ]
  },
  {
   "cell_type": "code",
   "execution_count": null,
   "metadata": {},
   "outputs": [],
   "source": [
    "h_eta = [histo.h_eta for histo in photon_histos]\n",
    "drawSame(h_eta, labels,'hist', norm=True)"
   ]
  },
  {
   "cell_type": "code",
   "execution_count": null,
   "metadata": {},
   "outputs": [],
   "source": [
    "h_reachedEE = [histo.h_reachedEE for histo in photon_histos]\n",
    "drawSame(h_reachedEE, labels,'hist', norm=True)"
   ]
  },
  {
   "cell_type": "code",
   "execution_count": null,
   "metadata": {},
   "outputs": [],
   "source": []
  },
  {
   "cell_type": "code",
   "execution_count": null,
   "metadata": {},
   "outputs": [],
   "source": []
  },
  {
   "cell_type": "code",
   "execution_count": null,
   "metadata": {},
   "outputs": [],
   "source": []
  }
 ],
 "metadata": {
  "kernelspec": {
   "display_name": "HGCTPGPerformance",
   "language": "python",
   "name": "hgctpgperformance"
  },
  "language_info": {
   "codemirror_mode": {
    "name": "ipython",
    "version": 2
   },
   "file_extension": ".py",
   "mimetype": "text/x-python",
   "name": "python",
   "nbconvert_exporter": "python",
   "pygments_lexer": "ipython2",
   "version": "2.7.15"
  }
 },
 "nbformat": 4,
 "nbformat_minor": 2
}
