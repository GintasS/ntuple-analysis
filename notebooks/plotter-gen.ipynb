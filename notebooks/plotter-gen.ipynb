{
 "cells": [
  {
   "cell_type": "markdown",
   "metadata": {},
   "source": [
    "# Gen level plots\n",
    "\n",
    "   * [Electron flat pt 2-100](#Electron-samples-2<-pt-<-100GeV-flat)\n",
    "   * [Photon pt35GeV (1.6 < |eta| < 2.8](#Photons-pt-35GeV)\n",
    "  \n"
   ]
  },
  {
   "cell_type": "code",
   "execution_count": 1,
   "metadata": {},
   "outputs": [
    {
     "name": "stdout",
     "output_type": "stream",
     "text": [
      "Welcome to JupyROOT 6.14/02\n"
     ]
    },
    {
     "ename": "ImportError",
     "evalue": "No module named l1THistos",
     "output_type": "error",
     "traceback": [
      "\u001b[0;31m---------------------------------------------------------------------------\u001b[0m",
      "\u001b[0;31mImportError\u001b[0m                               Traceback (most recent call last)",
      "\u001b[0;32m<ipython-input-1-06a3a65d9ab2>\u001b[0m in \u001b[0;36m<module>\u001b[0;34m()\u001b[0m\n\u001b[1;32m      3\u001b[0m \u001b[0;32mimport\u001b[0m \u001b[0mROOT\u001b[0m\u001b[0;34m\u001b[0m\u001b[0m\n\u001b[1;32m      4\u001b[0m \u001b[0;32mimport\u001b[0m \u001b[0mroot_numpy\u001b[0m \u001b[0;32mas\u001b[0m \u001b[0mrnp\u001b[0m\u001b[0;34m\u001b[0m\u001b[0m\n\u001b[0;32m----> 5\u001b[0;31m \u001b[0;32mimport\u001b[0m \u001b[0ml1THistos\u001b[0m \u001b[0;32mas\u001b[0m \u001b[0mhistos\u001b[0m\u001b[0;34m\u001b[0m\u001b[0m\n\u001b[0m\u001b[1;32m      6\u001b[0m \u001b[0;32mimport\u001b[0m \u001b[0mmath\u001b[0m\u001b[0;34m\u001b[0m\u001b[0m\n\u001b[1;32m      7\u001b[0m \u001b[0;32mimport\u001b[0m \u001b[0muuid\u001b[0m\u001b[0;34m\u001b[0m\u001b[0m\n",
      "\u001b[0;32m/opt/local/Library/Frameworks/Python.framework/Versions/2.7/lib/python2.7/site-packages/ROOT.pyc\u001b[0m in \u001b[0;36m_importhook\u001b[0;34m(name, *args, **kwds)\u001b[0m\n\u001b[1;32m    459\u001b[0m       \u001b[0;32mexcept\u001b[0m \u001b[0mException\u001b[0m\u001b[0;34m:\u001b[0m\u001b[0;34m\u001b[0m\u001b[0m\n\u001b[1;32m    460\u001b[0m          \u001b[0;32mpass\u001b[0m\u001b[0;34m\u001b[0m\u001b[0m\n\u001b[0;32m--> 461\u001b[0;31m    \u001b[0;32mreturn\u001b[0m \u001b[0m_orig_ihook\u001b[0m\u001b[0;34m(\u001b[0m \u001b[0mname\u001b[0m\u001b[0;34m,\u001b[0m \u001b[0;34m*\u001b[0m\u001b[0margs\u001b[0m\u001b[0;34m,\u001b[0m \u001b[0;34m**\u001b[0m\u001b[0mkwds\u001b[0m \u001b[0;34m)\u001b[0m\u001b[0;34m\u001b[0m\u001b[0m\n\u001b[0m\u001b[1;32m    462\u001b[0m \u001b[0;34m\u001b[0m\u001b[0m\n\u001b[1;32m    463\u001b[0m \u001b[0m__builtin__\u001b[0m\u001b[0;34m.\u001b[0m\u001b[0m__import__\u001b[0m \u001b[0;34m=\u001b[0m \u001b[0m_importhook\u001b[0m\u001b[0;34m\u001b[0m\u001b[0m\n",
      "\u001b[0;31mImportError\u001b[0m: No module named l1THistos"
     ]
    }
   ],
   "source": [
    "import sys\n",
    "sys.path.insert(0, '..')\n",
    "import ROOT\n",
    "import root_numpy as rnp\n",
    "import l1THistos as histos\n",
    "import math\n",
    "import uuid\n",
    "\n",
    "ROOT.enableJSVis()\n",
    "#ROOT.enableJSVis()\n",
    "\n",
    "#from drawingTools import *\n",
    "\n",
    "normalized_histos = list()\n",
    "    "
   ]
  },
  {
   "cell_type": "code",
   "execution_count": 2,
   "metadata": {},
   "outputs": [],
   "source": [
    "# %load ../drawingTools\n",
    "import ROOT\n",
    "import math\n",
    "import uuid\n",
    "\n",
    "# some useful globals, mainly to deal with ROOT idiosyncrasies\n",
    "c_idx = 0\n",
    "p_idx = 0\n",
    "colors = range(1, 6)\n",
    "stuff = []\n",
    "f_idx = 0\n",
    "\n",
    "ROOT.gStyle.SetPadBottomMargin(0.13)\n",
    "ROOT.gStyle.SetPadLeftMargin(0.13)\n",
    "ROOT.gStyle.SetPadRightMargin(0.30)\n",
    "\n",
    "ROOT.gStyle.SetCanvasBorderMode(0)\n",
    "ROOT.gStyle.SetCanvasColor(0)\n",
    "ROOT.gStyle.SetCanvasDefH(600)\n",
    "ROOT.gStyle.SetCanvasDefW(800)\n",
    "\n",
    "\n",
    "# define some utility functions\n",
    "def newCanvas(name=None, title=None, xdiv=0, ydiv=0, form=4):\n",
    "    global c_idx\n",
    "    if name is None:\n",
    "        name = 'c_{}'.format(uuid.uuid4().hex[:6])\n",
    "        c_idx += 1\n",
    "    if title is None:\n",
    "        title = name\n",
    "    # print name, title\n",
    "    canvas = ROOT.TCanvas(name, title)\n",
    "    if(xdiv*ydiv != 0):\n",
    "        canvas.Divide(xdiv, ydiv)\n",
    "    return canvas\n",
    "\n",
    "\n",
    "def draw(plot, options='', text=None):\n",
    "    c = newCanvas()\n",
    "    c.cd()\n",
    "    plot.Draw(options)\n",
    "    if text:\n",
    "        rtext = getText(text, 0.15, 0.85)\n",
    "        rtext.Draw('same')\n",
    "\n",
    "    c.Draw()\n",
    "\n",
    "    return\n",
    "\n",
    "\n",
    "def getLegend(x1=0.7, y1=0.71, x2=0.95, y2=0.85):\n",
    "    global stuff\n",
    "    legend = ROOT.TLegend(x1, y1, x2, y2)\n",
    "    stuff.append(legend)\n",
    "    legend.SetFillColor(0)\n",
    "    legend.SetFillStyle(0)\n",
    "    legend.SetBorderSize(0)\n",
    "    legend.SetTextSize(0.05)\n",
    "    return legend\n",
    "\n",
    "\n",
    "def drawAndProfileX(plot2d, miny=None, maxy=None, do_profile=True, options='', text=None):\n",
    "    global p_idx\n",
    "    if miny and maxy:\n",
    "        plot2d.GetYaxis().SetRangeUser(miny, maxy)\n",
    "    c = newCanvas()\n",
    "    c.SetGrid(1, 1)\n",
    "    c.cd()\n",
    "    plot2d.Draw(options)\n",
    "    ROOT.gPad.SetGrid(1, 1)\n",
    "    ROOT.gStyle.SetGridColor(15)\n",
    "\n",
    "    if do_profile:\n",
    "        profname = plot2d.GetName()+'_prof_'+str(p_idx)\n",
    "        p_idx += 1\n",
    "        firstbin = 1\n",
    "        lastbin = -1\n",
    "        prof = plot2d.ProfileX(profname, firstbin, lastbin, 's')\n",
    "        prof.SetMarkerColor(2)\n",
    "        prof.SetLineColor(2)\n",
    "        prof.Draw('same')\n",
    "\n",
    "    if text:\n",
    "        rtext = getText(text, 0.15, 0.85)\n",
    "        rtext.Draw('same')\n",
    "\n",
    "    c.Draw()\n",
    "\n",
    "\n",
    "class Sample():\n",
    "    def __init__(cls, name, label, version=None):\n",
    "        cls.name = name\n",
    "        cls.label = label\n",
    "        if version:\n",
    "            version = '_'+version\n",
    "        else:\n",
    "            version = ''\n",
    "        cls.histo_filename = '../plots1/histos_{}{}.root'.format(cls.name, version)\n",
    "        cls.histo_file = ROOT.TFile(cls.histo_filename)\n",
    "\n",
    "\n",
    "def getText(text, ndc_x, ndc_y):\n",
    "    global stuff\n",
    "    rtext = ROOT.TLatex(ndc_x, ndc_y, text)\n",
    "    stuff.append(rtext)\n",
    "    rtext.SetNDC(True)\n",
    "    # rtext.SetTextFont(40)\n",
    "    rtext.SetTextSize(0.03)\n",
    "    return rtext\n",
    "\n",
    "\n",
    "def drawSame(histograms, labels, options='', norm=False, logy=False, min_y=None, max_y=None, text=None):\n",
    "    global colors\n",
    "    c = newCanvas(title=histograms[0].GetName())\n",
    "    c.cd()\n",
    "    leg = getLegend()\n",
    "\n",
    "    max_value = max_y\n",
    "    min_value = min_y\n",
    "    if min_y is None:\n",
    "        min_value = min([hist.GetBinContent(hist.GetMinimumBin()) for hist in histograms])\n",
    "    if max_y is None:\n",
    "        max_value = max([hist.GetBinContent(hist.GetMaximumBin()) for hist in histograms])*1.2\n",
    "\n",
    "    for hidx, hist in enumerate(histograms):\n",
    "        hist.SetLineColor(colors[hidx])\n",
    "        hist.SetStats(False)\n",
    "        if norm:\n",
    "            hist.DrawNormalized('same'+','+options, 1.)\n",
    "        else:\n",
    "            if hidx:\n",
    "                hist.Draw('same'+','+options)\n",
    "            else:\n",
    "                hist.Draw(options)\n",
    "        leg.AddEntry(histograms[hidx], labels[hidx], 'l')\n",
    "\n",
    "    histograms[0].GetYaxis().SetRangeUser(min_value, max_value)\n",
    "    leg.Draw()\n",
    "    c.Draw()\n",
    "    if text:\n",
    "        rtext = getText(text, 0.15, 0.85)\n",
    "        rtext.Draw(\"same\")\n",
    "    if logy:\n",
    "        c.SetLogy()\n",
    "\n",
    "\n",
    "def drawProfileX(histograms, labels, options=''):\n",
    "    profiles = [hist.ProfileX() for hist in histograms]\n",
    "    drawSame(profiles, labels, options)\n",
    "\n",
    "\n",
    "def drawSeveral(histograms, labels, options='', do_profile=False, miny=None, maxy=None, text=None):\n",
    "    ydiv = int(math.ceil(float(len(histograms))/2))\n",
    "    for hidx in range(0, len(histograms)):\n",
    "        newtext = labels[hidx]\n",
    "        if text:\n",
    "            newtext = '{}: {}'.format(labels[hidx], text)\n",
    "        if do_profile:\n",
    "            drawAndProfileX(histograms[hidx], miny=miny, maxy=maxy, options=options, do_profile=do_profile, text=newtext)\n",
    "        else:\n",
    "            draw(histograms[hidx], options=options, text=newtext)\n",
    "\n",
    "\n",
    "def drawProfileRatio(prof1, prof2, ymin=None, ymax=None, text=None):\n",
    "    hist1 = prof1.ProjectionX(uuid.uuid4().hex[:6])\n",
    "    hist2 = prof2.ProjectionX(uuid.uuid4().hex[:6])\n",
    "    hist1.Divide(hist2)\n",
    "    draw(hist1)\n",
    "    if text:\n",
    "        rtext = getText(text, 0.15, 0.85)\n",
    "        rtext.Draw(\"same\")\n",
    "\n",
    "    if ymin is not None and ymax is not None:\n",
    "        hist1.GetYaxis().SetRangeUser(ymin, ymax)\n",
    "    ROOT.gPad.Update()\n",
    "\n",
    "   \n",
    "# mean+-nsigmas*RMS.\n",
    "def drawGaussFit(histo, nsigmas, min, max):\n",
    "    minfit = histo.GetMean() - nsigmas*histo.GetRMS()\n",
    "    maxfit = histo.GetMean() + nsigmas*histo.GetRMS()\n",
    "    drawGFit(histo, min, max, minfit, maxfit)\n",
    "\n",
    "\n",
    "# Fit a histogram in the range (minfit, maxfit) with a gaussian and\n",
    "# draw it in the range (min, max)\n",
    "def drawGFit(histo, min, max, minfit, maxfit):\n",
    "    # static int i = 0\n",
    "    # i++\n",
    "    # gPad->SetGrid(1,1);\n",
    "    # gStyle->SetGridColor(15);\n",
    "    histo.GetXaxis().SetRangeUser(min,max)\n",
    "    global f_idx\n",
    "    nameF1 = \"g{}\".format(f_idx)\n",
    "    f_idx +=1\n",
    "    g1 = ROOT.TF1(nameF1,\"gaus\",minfit,maxfit)\n",
    "    g1.SetLineColor(2)\n",
    "    g1.SetLineWidth(2)\n",
    "    histo.Fit(g1,\"R\")\n",
    "\n",
    "\n",
    "\n",
    "def drawGraphsSame(histograms, labels, options='', norm=False, logy=False, min_y=None, max_y=None, text=None):\n",
    "    global colors\n",
    "    c = newCanvas()\n",
    "    c.cd()\n",
    "    leg = getLegend()\n",
    "\n",
    "    for hidx in range(0, len(histograms)):\n",
    "        histograms[hidx].SetLineColor(colors[hidx])\n",
    "        histograms[hidx].Draw('same'+','+options)\n",
    "        leg.AddEntry(histograms[hidx], labels[hidx], 'l')\n",
    "\n",
    "    leg.Draw()\n",
    "    c.Draw()\n",
    "    if logy:\n",
    "        c.SetLogy()\n",
    "    if text:\n",
    "        rtext = getText(text, 0.15, 0.85)\n",
    "        rtext.Draw(\"same\")\n"
   ]
  },
  {
   "cell_type": "code",
   "execution_count": 3,
   "metadata": {},
   "outputs": [
    {
     "name": "stderr",
     "output_type": "stream",
     "text": [
      "Error in <TFile::TFile>: file ../plots1/histos_photonPt35_PU0_v33.root does not exist\n",
      "Error in <TFile::TFile>: file ../plots1/histos_photonPt35_PU200_v33.root does not exist\n"
     ]
    }
   ],
   "source": [
    "version = 'v33'\n",
    "\n",
    "#      Particle('ele', PID.electron),\n",
    "#                  Particle('ele_A', PID.electron, '1.4 < abseta < 1.7'),\n",
    "#                  Particle('ele_B', PID.electron, '1.7 <= abseta <= 2.8'),\n",
    "#                  Particle('ele_C', PID.electron, 'abseta > 2.8'),\n",
    "#                  Particle('photon', PID.photon),\n",
    "#                  Particle('photon_A', PID.photon, '1.4 < abseta < 1.7'),\n",
    "#                  Particle('photon_B', PID.photon, '1.7 <= abseta <= 2.8'),\n",
    "#                  Particle('photon_C', PID.photon, 'abseta > 2.8'),\n",
    "                \n",
    "particles = ''\n",
    "\n",
    "sample_names = ['ele_flat2to100_PU0',\n",
    "                'ele_flat2to100_PU200',\n",
    "                'photonPt35_PU0',\n",
    "                'photonPt35_PU200']\n",
    "\n",
    "\n",
    "\n",
    "\n",
    "sample_ele_flat2to100_PU0 = Sample('ele_flat2to100_PU0', 'PU0', version)\n",
    "sample_ele_flat2to100_PU200 = Sample('ele_flat2to100_PU200', 'PU200', version)\n",
    "\n",
    "sample_gPt35_PU0 = Sample('photonPt35_PU0', 'Pt35 PU0', version)\n",
    "sample_gPt35_PU200 = Sample('photonPt35_PU200', 'Pt35 PU200', version)\n",
    "\n",
    "sample_hadronGun_PU0 = Sample('hadronGun_PU0', 'PU0', version)\n",
    "sample_hadronGun_PU200 = Sample('hadronGun_PU200', 'PU200', version)\n",
    "\n",
    "\n",
    "samples_ele = [sample_ele_flat2to100_PU0,sample_ele_flat2to100_PU200]\n",
    "samples_photon = [sample_gPt35_PU0,sample_gPt35_PU200]\n",
    "samples_hadrons = [sample_hadronGun_PU0,sample_hadronGun_PU200]\n",
    "\n",
    "\n",
    "\n",
    "samples = []"
   ]
  },
  {
   "cell_type": "markdown",
   "metadata": {},
   "source": [
    "## Electron samples 2< pt < 100GeV flat"
   ]
  },
  {
   "cell_type": "code",
   "execution_count": 4,
   "metadata": {},
   "outputs": [],
   "source": [
    "particle = 'ele'\n",
    "samples = samples_ele\n",
    "\n",
    "\n",
    "ele_histos = [histos.GenParticleHistos('h_genParts_{}'.format(particle), sample.histo_file) for sample in samples]\n",
    "labels = [sample.label for sample in samples]\n",
    "\n",
    "\n"
   ]
  },
  {
   "cell_type": "code",
   "execution_count": 5,
   "metadata": {},
   "outputs": [
    {
     "data": {
      "text/html": [
       "\n",
       "<div id=\"root_plot_1\"\n",
       "     style=\"width: 796px; height: 572px\">\n",
       "</div>\n",
       "\n",
       "<script>\n",
       " requirejs.config({\n",
       "     paths: {\n",
       "       'JSRootCore' : 'https://root.cern.ch/js/notebook//scripts/JSRootCore',\n",
       "     }\n",
       "   });\n",
       " require(['JSRootCore'],\n",
       "     function(Core) {\n",
       "       var obj = Core.JSONR_unref({\"_typename\":\"TCanvas\",\"fUniqueID\":0,\"fBits\":53673992,\"fLineColor\":1,\"fLineStyle\":1,\"fLineWidth\":1,\"fFillColor\":0,\"fFillStyle\":1001,\"fLeftMargin\":0.13,\"fRightMargin\":0.3,\"fBottomMargin\":0.13,\"fTopMargin\":0.1,\"fXfile\":2,\"fYfile\":2,\"fAfile\":1,\"fXstat\":0.99,\"fYstat\":0.99,\"fAstat\":2,\"fFrameFillColor\":0,\"fFrameLineColor\":1,\"fFrameFillStyle\":1001,\"fFrameLineStyle\":1,\"fFrameLineWidth\":1,\"fFrameBorderSize\":1,\"fFrameBorderMode\":0,\"fX1\":-228.070169934936,\"fY1\":-0.00872572863412214,\"fX2\":1526.31581699199,\"fY2\":0.0583952618208373,\"fXtoAbsPixelk\":103.480046204376,\"fXtoPixelk\":103.480046204376,\"fXtoPixel\":0.453719994306564,\"fYtoAbsPixelk\":497.640051065433,\"fYtoPixelk\":497.640051065433,\"fYtoPixel\":-8521.92430598639,\"fUtoAbsPixelk\":5e-5,\"fUtoPixelk\":5e-5,\"fUtoPixel\":796,\"fVtoAbsPixelk\":572.00005,\"fVtoPixelk\":572,\"fVtoPixel\":-572,\"fAbsPixeltoXk\":-228.070169934936,\"fPixeltoXk\":-228.070169934936,\"fPixeltoX\":2.20400249613935,\"fAbsPixeltoYk\":0.0583952618208373,\"fPixeltoYk\":-0.00872572863412214,\"fPixeltoY\":-1.17344388907272e-4,\"fXlowNDC\":0,\"fYlowNDC\":0,\"fXUpNDC\":0,\"fYUpNDC\":0,\"fWNDC\":1,\"fHNDC\":1,\"fAbsXlowNDC\":0,\"fAbsYlowNDC\":0,\"fAbsWNDC\":1,\"fAbsHNDC\":1,\"fUxmin\":0,\"fUymin\":0,\"fUxmax\":1000,\"fUymax\":0.0516831625252962,\"fTheta\":30,\"fPhi\":30,\"fAspectRatio\":0,\"fNumber\":0,\"fTickx\":0,\"fTicky\":0,\"fLogx\":0,\"fLogy\":0,\"fLogz\":0,\"fPadPaint\":0,\"fCrosshair\":0,\"fCrosshairPos\":0,\"fBorderSize\":2,\"fBorderMode\":0,\"fModified\":false,\"fGridx\":false,\"fGridy\":false,\"fAbsCoord\":false,\"fEditable\":true,\"fFixedAspectRatio\":false,\"fPrimitives\":{\"_typename\":\"TList\",\"name\":\"TList\",\"arr\":[{\"_typename\":\"TFrame\",\"fUniqueID\":0,\"fBits\":50331656,\"fLineColor\":1,\"fLineStyle\":1,\"fLineWidth\":1,\"fFillColor\":0,\"fFillStyle\":1001,\"fX1\":0,\"fY1\":0,\"fX2\":1000,\"fY2\":0.0516831625252962,\"fBorderSize\":1,\"fBorderMode\":0},{\"_typename\":\"TH1F\",\"fUniqueID\":0,\"fBits\":50332169,\"fName\":\"h_genParts_ele_energy\",\"fTitle\":\"Gen Part Energy (GeV)\",\"fLineColor\":1,\"fLineStyle\":1,\"fLineWidth\":1,\"fFillColor\":0,\"fFillStyle\":1001,\"fMarkerColor\":1,\"fMarkerStyle\":1,\"fMarkerSize\":1,\"fNcells\":102,\"fXaxis\":{\"_typename\":\"TAxis\",\"fUniqueID\":0,\"fBits\":50331648,\"fName\":\"xaxis\",\"fTitle\":\" E [GeV]\",\"fNdivisions\":510,\"fAxisColor\":1,\"fLabelColor\":1,\"fLabelFont\":42,\"fLabelOffset\":0.005,\"fLabelSize\":0.035,\"fTickLength\":0.03,\"fTitleOffset\":1,\"fTitleSize\":0.035,\"fTitleColor\":1,\"fTitleFont\":42,\"fNbins\":100,\"fXmin\":0,\"fXmax\":1000,\"fXbins\":[],\"fFirst\":0,\"fLast\":0,\"fBits2\":0,\"fTimeDisplay\":false,\"fTimeFormat\":\"\",\"fLabels\":null,\"fModLabs\":null},\"fYaxis\":{\"_typename\":\"TAxis\",\"fUniqueID\":0,\"fBits\":50331648,\"fName\":\"yaxis\",\"fTitle\":\"\",\"fNdivisions\":510,\"fAxisColor\":1,\"fLabelColor\":1,\"fLabelFont\":42,\"fLabelOffset\":0.005,\"fLabelSize\":0.035,\"fTickLength\":0.03,\"fTitleOffset\":0,\"fTitleSize\":0.035,\"fTitleColor\":1,\"fTitleFont\":42,\"fNbins\":1,\"fXmin\":0,\"fXmax\":1,\"fXbins\":[],\"fFirst\":0,\"fLast\":0,\"fBits2\":0,\"fTimeDisplay\":false,\"fTimeFormat\":\"\",\"fLabels\":null,\"fModLabs\":null},\"fZaxis\":{\"_typename\":\"TAxis\",\"fUniqueID\":0,\"fBits\":50331648,\"fName\":\"zaxis\",\"fTitle\":\"\",\"fNdivisions\":510,\"fAxisColor\":1,\"fLabelColor\":1,\"fLabelFont\":42,\"fLabelOffset\":0.005,\"fLabelSize\":0.035,\"fTickLength\":0.03,\"fTitleOffset\":1,\"fTitleSize\":0.035,\"fTitleColor\":1,\"fTitleFont\":42,\"fNbins\":1,\"fXmin\":0,\"fXmax\":1,\"fXbins\":[],\"fFirst\":0,\"fLast\":0,\"fBits2\":0,\"fTimeDisplay\":false,\"fTimeFormat\":\"\",\"fLabels\":null,\"fModLabs\":null},\"fBarOffset\":0,\"fBarWidth\":1000,\"fEntries\":484000,\"fTsumw\":483198,\"fTsumw2\":483198,\"fTsumwx\":87103220.6557622,\"fTsumwx2\":32419482235.3745,\"fMaximum\":-1111,\"fMinimum\":-1111,\"fNormFactor\":0,\"fContour\":[],\"fSumw2\":[0,6.32772852534044e-8,9.84151523319837e-8,9.89034162089897e-8,1.0136186765988e-7,1.00625188827906e-7,9.95373026458047e-8,1.00924999980454e-7,1.00625188827906e-7,1.00419604037588e-7,1.01867263602746e-7,8.2473765049381e-8,6.63610571081798e-8,5.75209111244904e-8,5.14218956783791e-8,4.60681250971719e-8,4.23932969702313e-8,3.81788087687049e-8,3.53605839347575e-8,3.31334153729753e-8,3.08291525148237e-8,2.80537578455258e-8,2.73256450464817e-8,2.50385142541899e-8,2.45074202125342e-8,2.26143269350193e-8,2.16634972797969e-8,2.08754222502432e-8,1.92393099606263e-8,1.82799142724739e-8,1.78516126259774e-8,1.65324435547679e-8,1.61298400070611e-8,1.54274253068067e-8,1.43395391247054e-8,1.38427092147694e-8,1.2771955098528e-8,1.29090116254069e-8,1.22408610568722e-8,1.15555784224777e-8,1.15812765212675e-8,1.12215031382103e-8,9.85950390235122e-9,9.95373026458047e-9,9.36267399241519e-9,9.37124002534512e-9,8.86584408247916e-9,8.3347500408234e-9,8.24908971152409e-9,7.62376930763909e-9,7.48671278076018e-9,7.64090137349895e-9,7.16120352942278e-9,6.90422254152483e-9,6.83569427808538e-9,6.39026056572894e-9,6.19324180834052e-9,6.20180784127045e-9,5.82490239235346e-9,5.28524231776777e-9,5.26811025190791e-9,5.49939314101606e-9,4.74558224318208e-9,5.16531785674873e-9,4.51429935407393e-9,4.45433712356441e-9,4.40294092598482e-9,4.19735613566646e-9,4.1802240698066e-9,3.49494143541208e-9,3.97463927948824e-9,3.29792267802365e-9,3.34075284267331e-9,3.14373408528488e-9,3.01524359133591e-9,2.7154324387883e-9,2.67260227413865e-9,2.78396070222776e-9,2.75826260343796e-9,2.59550797776926e-9,2.44988541796043e-9,2.17577236420262e-9,2.45845145089036e-9,2.2271685617822e-9,2.09867806783323e-9,1.93592344216453e-9,1.75603675063597e-9,1.58471609203734e-9,1.45622559808836e-9,1.58471609203734e-9,1.37913130171898e-9,1.4647916310183e-9,1.41339543343871e-9,1.38769733464891e-9,1.10501824796117e-9,1.02792395159179e-9,1.13071634675097e-9,1.08788618210131e-9,8.73735358853019e-10,8.22339161273429e-10,6.5958453560473e-10,3.43497920490255e-9],\"fOption\":\"\",\"fFunctions\":{\"_typename\":\"TList\",\"name\":\"TList\",\"arr\":[],\"opt\":[]},\"fBufferSize\":0,\"fBuffer\":[],\"fBinStatErrOpt\":0,\"fStatOverflows\":2,\"fArray\":[0,0.03057546,0.047554,0.04778993,0.04897785,0.04862189,0.04809622,0.04876676,0.04862189,0.04852255,0.04922206,0.03985116,0.03206553,0.02779399,0.02484696,0.02226003,0.02048436,0.01844792,0.01708616,0.01601,0.01489658,0.01355552,0.0132037,0.01209856,0.01184194,0.0109272,0.01046776,0.01008696,0.009296396,0.008832818,0.008625863,0.007988444,0.007793907,0.007454501,0.006928836,0.006688769,0.006171383,0.006237608,0.005914759,0.005583632,0.00559605,0.005422208,0.004764093,0.004809623,0.004524025,0.004528164,0.004283958,0.004027335,0.003985944,0.00368379,0.003617565,0.003692068,0.003460279,0.003336106,0.003302994,0.003087761,0.002992562,0.002996701,0.002814581,0.002553819,0.00254554,0.002657296,0.002293056,0.002495871,0.0021813,0.002152327,0.002127492,0.002028154,0.002019876,0.001688749,0.001920538,0.00159355,0.001614245,0.001519046,0.00145696,0.001312091,0.001291396,0.001345204,0.001332787,0.001254144,0.00118378,0.001051329,0.001187919,0.001076163,0.001014077,9.354344e-4,8.485134e-4,7.657317e-4,7.036453e-4,7.657317e-4,6.663935e-4,7.077844e-4,6.829498e-4,6.705326e-4,5.339426e-4,4.966908e-4,5.463599e-4,5.256644e-4,4.221872e-4,3.973526e-4,3.187099e-4,0.001659775]},{\"_typename\":\"TH1F\",\"fUniqueID\":0,\"fBits\":50332169,\"fName\":\"h_genParts_ele_energy\",\"fTitle\":\"Gen Part Energy (GeV)\",\"fLineColor\":2,\"fLineStyle\":1,\"fLineWidth\":1,\"fFillColor\":0,\"fFillStyle\":1001,\"fMarkerColor\":1,\"fMarkerStyle\":1,\"fMarkerSize\":1,\"fNcells\":102,\"fXaxis\":{\"_typename\":\"TAxis\",\"fUniqueID\":0,\"fBits\":50331648,\"fName\":\"xaxis\",\"fTitle\":\" E [GeV]\",\"fNdivisions\":510,\"fAxisColor\":1,\"fLabelColor\":1,\"fLabelFont\":42,\"fLabelOffset\":0.005,\"fLabelSize\":0.035,\"fTickLength\":0.03,\"fTitleOffset\":1,\"fTitleSize\":0.035,\"fTitleColor\":1,\"fTitleFont\":42,\"fNbins\":100,\"fXmin\":0,\"fXmax\":1000,\"fXbins\":[],\"fFirst\":0,\"fLast\":0,\"fBits2\":0,\"fTimeDisplay\":false,\"fTimeFormat\":\"\",\"fLabels\":null,\"fModLabs\":null},\"fYaxis\":{\"_typename\":\"TAxis\",\"fUniqueID\":0,\"fBits\":50331648,\"fName\":\"yaxis\",\"fTitle\":\"\",\"fNdivisions\":510,\"fAxisColor\":1,\"fLabelColor\":1,\"fLabelFont\":42,\"fLabelOffset\":0.005,\"fLabelSize\":0.035,\"fTickLength\":0.03,\"fTitleOffset\":0,\"fTitleSize\":0.035,\"fTitleColor\":1,\"fTitleFont\":42,\"fNbins\":1,\"fXmin\":0,\"fXmax\":1,\"fXbins\":[],\"fFirst\":0,\"fLast\":0,\"fBits2\":0,\"fTimeDisplay\":false,\"fTimeFormat\":\"\",\"fLabels\":null,\"fModLabs\":null},\"fZaxis\":{\"_typename\":\"TAxis\",\"fUniqueID\":0,\"fBits\":50331648,\"fName\":\"zaxis\",\"fTitle\":\"\",\"fNdivisions\":510,\"fAxisColor\":1,\"fLabelColor\":1,\"fLabelFont\":42,\"fLabelOffset\":0.005,\"fLabelSize\":0.035,\"fTickLength\":0.03,\"fTitleOffset\":1,\"fTitleSize\":0.035,\"fTitleColor\":1,\"fTitleFont\":42,\"fNbins\":1,\"fXmin\":0,\"fXmax\":1,\"fXbins\":[],\"fFirst\":0,\"fLast\":0,\"fBits2\":0,\"fTimeDisplay\":false,\"fTimeFormat\":\"\",\"fLabels\":null,\"fModLabs\":null},\"fBarOffset\":0,\"fBarWidth\":1000,\"fEntries\":106400,\"fTsumw\":106226,\"fTsumw2\":106226,\"fTsumwx\":19187850.7143154,\"fTsumwx2\":7140970714.00368,\"fMaximum\":-1111,\"fMinimum\":-1111,\"fNormFactor\":0,\"fContour\":[],\"fSumw2\":[0,2.83765551024389e-7,4.38852907143278e-7,4.37080480216205e-7,4.56931661799422e-7,4.61894457195227e-7,4.42220518304716e-7,4.8139115339303e-7,4.55159234872349e-7,4.49310226013008e-7,4.81922881471152e-7,3.67601344674943e-7,3.01844305680534e-7,2.63559884055757e-7,2.42645246316295e-7,2.07728435852957e-7,1.9638490351969e-7,1.72634382696911e-7,1.50656288801206e-7,1.56859783045961e-7,1.4055345531689e-7,1.24424370280525e-7,1.25133341051355e-7,1.07586314473332e-7,1.1556223564516e-7,1.02978004462942e-7,1.03864217926478e-7,9.81924517598448e-8,9.23434429005039e-8,8.29495801870169e-8,8.38357936505534e-8,7.33784747808227e-8,7.30239893954081e-8,6.78839513068963e-8,6.43390974527503e-8,6.39846120673357e-8,5.83128459007021e-8,5.5299720124678e-8,5.49452347392634e-8,5.19321089632392e-8,5.14003808851173e-8,4.90962258799224e-8,4.85644978018005e-8,4.55513720257764e-8,4.50196439476545e-8,4.11203047080939e-8,3.98796058591428e-8,3.98796058591428e-8,3.8284421624777e-8,3.79299362393624e-8,3.33216262289726e-8,3.43850823852164e-8,2.83588308331682e-8,3.31443835362653e-8,2.90678016039974e-8,2.48139769790222e-8,2.69408892915098e-8,3.04857431456558e-8,2.7649860062339e-8,2.57001904425587e-8,2.62319185206806e-8,2.64091612133879e-8,1.87877254269739e-8,2.33960354373637e-8,1.98511815832177e-8,1.89649681196812e-8,2.4105006208193e-8,1.98511815832177e-8,1.77242692707301e-8,1.63063277290717e-8,1.57745996509498e-8,1.57745996509498e-8,1.48883861874133e-8,1.31159592603403e-8,1.38249300311695e-8,1.43566581092914e-8,1.22297457968038e-8,1.31159592603403e-8,1.09890469478527e-8,1.09890469478527e-8,1.06345615624381e-8,1.25842311822184e-8,9.21662002077966e-9,8.86213463536506e-9,9.03937732807236e-9,1.02800761770235e-8,8.50764924995045e-9,4.96279539580443e-9,7.79867847912125e-9,9.39386271348696e-9,6.55797963017014e-9,7.26695040099935e-9,6.73522232287744e-9,6.20349424475554e-9,4.96279539580443e-9,4.96279539580443e-9,4.96279539580443e-9,3.54485385414602e-9,3.01312577602412e-9,4.25382462497523e-9,3.89933923956062e-9,1.54201142655352e-8],\"fOption\":\"\",\"fFunctions\":{\"_typename\":\"TList\",\"name\":\"TList\",\"arr\":[],\"opt\":[]},\"fBufferSize\":0,\"fBuffer\":[],\"fBinStatErrOpt\":0,\"fStatOverflows\":2,\"fArray\":[0,0.03014328,0.04661759,0.04642931,0.04853802,0.0490652,0.04697532,0.05113626,0.04834975,0.04772843,0.05119274,0.03904882,0.03206371,0.02799691,0.02577523,0.02206616,0.02086118,0.01833826,0.01600361,0.01666259,0.01493043,0.0132171,0.01329241,0.01142846,0.01227571,0.01093894,0.01103308,0.01043059,0.009809274,0.008811402,0.008905541,0.007794702,0.007757046,0.007211041,0.006834485,0.006796829,0.006194341,0.005874268,0.005836613,0.00551654,0.005460057,0.005215296,0.005158812,0.00483874,0.004782257,0.004368045,0.004236251,0.004236251,0.004066801,0.004029145,0.003539623,0.00365259,0.003012445,0.003520795,0.003087756,0.002635889,0.002861823,0.003238379,0.002937134,0.002730028,0.002786512,0.00280534,0.001995745,0.002485267,0.002108712,0.002014573,0.002560578,0.002108712,0.001882778,0.001732156,0.001675673,0.001675673,0.001581534,0.001393256,0.001468567,0.00152505,0.001299117,0.001393256,0.001167323,0.001167323,0.001129667,0.001336773,9.790447e-4,9.413891e-4,9.602169e-4,0.001092011,9.037335e-4,5.271779e-4,8.284224e-4,9.978724e-4,6.966279e-4,7.719391e-4,7.154557e-4,6.589724e-4,5.271779e-4,5.271779e-4,5.271779e-4,3.765556e-4,3.200723e-4,4.518668e-4,4.142112e-4,0.001638017]},{\"_typename\":\"TLegend\",\"fUniqueID\":0,\"fBits\":50331656,\"fLineColor\":1,\"fLineStyle\":1,\"fLineWidth\":1,\"fFillColor\":0,\"fFillStyle\":0,\"fX1\":1000.00002091391,\"fY1\":0.0389301745888991,\"fX2\":1438.59651764564,\"fY2\":0.0483271132525934,\"fX1NDC\":0.7,\"fY1NDC\":0.71,\"fX2NDC\":0.95,\"fY2NDC\":0.85,\"fBorderSize\":0,\"fInit\":1,\"fShadowColor\":1,\"fCornerRadius\":0,\"fOption\":\"brNDC\",\"fName\":\"TPave\",\"fTextAngle\":0,\"fTextSize\":0.05,\"fTextAlign\":12,\"fTextColor\":1,\"fTextFont\":42,\"fPrimitives\":{\"_typename\":\"TList\",\"name\":\"TList\",\"arr\":[{\"_typename\":\"TLegendEntry\",\"fUniqueID\":0,\"fBits\":50331656,\"fTextAngle\":0,\"fTextSize\":0,\"fTextAlign\":0,\"fTextColor\":0,\"fTextFont\":42,\"fLineColor\":1,\"fLineStyle\":1,\"fLineWidth\":1,\"fFillColor\":0,\"fFillStyle\":0,\"fMarkerColor\":1,\"fMarkerStyle\":21,\"fMarkerSize\":1,\"fObject\":{\"_typename\":\"TH1F\",\"fUniqueID\":0,\"fBits\":50332168,\"fName\":\"h_genParts_ele_energy\",\"fTitle\":\"Gen Part Energy (GeV)\",\"fLineColor\":1,\"fLineStyle\":1,\"fLineWidth\":1,\"fFillColor\":0,\"fFillStyle\":1001,\"fMarkerColor\":1,\"fMarkerStyle\":1,\"fMarkerSize\":1,\"fNcells\":102,\"fXaxis\":{\"_typename\":\"TAxis\",\"fUniqueID\":0,\"fBits\":50331648,\"fName\":\"xaxis\",\"fTitle\":\" E [GeV]\",\"fNdivisions\":510,\"fAxisColor\":1,\"fLabelColor\":1,\"fLabelFont\":42,\"fLabelOffset\":0.005,\"fLabelSize\":0.035,\"fTickLength\":0.03,\"fTitleOffset\":1,\"fTitleSize\":0.035,\"fTitleColor\":1,\"fTitleFont\":42,\"fNbins\":100,\"fXmin\":0,\"fXmax\":1000,\"fXbins\":[],\"fFirst\":0,\"fLast\":0,\"fBits2\":0,\"fTimeDisplay\":false,\"fTimeFormat\":\"\",\"fLabels\":null,\"fModLabs\":null},\"fYaxis\":{\"_typename\":\"TAxis\",\"fUniqueID\":0,\"fBits\":50331656,\"fName\":\"yaxis\",\"fTitle\":\"\",\"fNdivisions\":510,\"fAxisColor\":1,\"fLabelColor\":1,\"fLabelFont\":42,\"fLabelOffset\":0.005,\"fLabelSize\":0.035,\"fTickLength\":0.03,\"fTitleOffset\":0,\"fTitleSize\":0.035,\"fTitleColor\":1,\"fTitleFont\":42,\"fNbins\":1,\"fXmin\":0,\"fXmax\":1,\"fXbins\":[],\"fFirst\":0,\"fLast\":0,\"fBits2\":0,\"fTimeDisplay\":false,\"fTimeFormat\":\"\",\"fLabels\":null,\"fModLabs\":null},\"fZaxis\":{\"_typename\":\"TAxis\",\"fUniqueID\":0,\"fBits\":50331648,\"fName\":\"zaxis\",\"fTitle\":\"\",\"fNdivisions\":510,\"fAxisColor\":1,\"fLabelColor\":1,\"fLabelFont\":42,\"fLabelOffset\":0.005,\"fLabelSize\":0.035,\"fTickLength\":0.03,\"fTitleOffset\":1,\"fTitleSize\":0.035,\"fTitleColor\":1,\"fTitleFont\":42,\"fNbins\":1,\"fXmin\":0,\"fXmax\":1,\"fXbins\":[],\"fFirst\":0,\"fLast\":0,\"fBits2\":0,\"fTimeDisplay\":false,\"fTimeFormat\":\"\",\"fLabels\":null,\"fModLabs\":null},\"fBarOffset\":0,\"fBarWidth\":1000,\"fEntries\":484000,\"fTsumw\":483198,\"fTsumw2\":483198,\"fTsumwx\":87103220.6557622,\"fTsumwx2\":32419482235.3745,\"fMaximum\":28540.8,\"fMinimum\":34,\"fNormFactor\":0,\"fContour\":[],\"fSumw2\":[0,14774,22978,23092,23666,23494,23240,23564,23494,23446,23784,19256,15494,13430,12006,10756,9898,8914,8256,7736,7198,6550,6380,5846,5722,5280,5058,4874,4492,4268,4168,3860,3766,3602,3348,3232,2982,3014,2858,2698,2704,2620,2302,2324,2186,2188,2070,1946,1926,1780,1748,1784,1672,1612,1596,1492,1446,1448,1360,1234,1230,1284,1108,1206,1054,1040,1028,980,976,816,928,770,780,734,704,634,624,650,644,606,572,508,574,520,490,452,410,370,340,370,322,342,330,324,258,240,264,254,204,192,154,802],\"fOption\":\"\",\"fFunctions\":{\"_typename\":\"TList\",\"name\":\"TList\",\"arr\":[],\"opt\":[]},\"fBufferSize\":0,\"fBuffer\":[],\"fBinStatErrOpt\":0,\"fStatOverflows\":2,\"fArray\":[0,14774,22978,23092,23666,23494,23240,23564,23494,23446,23784,19256,15494,13430,12006,10756,9898,8914,8256,7736,7198,6550,6380,5846,5722,5280,5058,4874,4492,4268,4168,3860,3766,3602,3348,3232,2982,3014,2858,2698,2704,2620,2302,2324,2186,2188,2070,1946,1926,1780,1748,1784,1672,1612,1596,1492,1446,1448,1360,1234,1230,1284,1108,1206,1054,1040,1028,980,976,816,928,770,780,734,704,634,624,650,644,606,572,508,574,520,490,452,410,370,340,370,322,342,330,324,258,240,264,254,204,192,154,802]},\"fLabel\":\"PU0\",\"fOption\":\"l\"},{\"_typename\":\"TLegendEntry\",\"fUniqueID\":0,\"fBits\":50331656,\"fTextAngle\":0,\"fTextSize\":0,\"fTextAlign\":0,\"fTextColor\":0,\"fTextFont\":42,\"fLineColor\":2,\"fLineStyle\":1,\"fLineWidth\":1,\"fFillColor\":0,\"fFillStyle\":0,\"fMarkerColor\":1,\"fMarkerStyle\":21,\"fMarkerSize\":1,\"fObject\":{\"_typename\":\"TH1F\",\"fUniqueID\":0,\"fBits\":50332168,\"fName\":\"h_genParts_ele_energy\",\"fTitle\":\"Gen Part Energy (GeV)\",\"fLineColor\":2,\"fLineStyle\":1,\"fLineWidth\":1,\"fFillColor\":0,\"fFillStyle\":1001,\"fMarkerColor\":1,\"fMarkerStyle\":1,\"fMarkerSize\":1,\"fNcells\":102,\"fXaxis\":{\"_typename\":\"TAxis\",\"fUniqueID\":0,\"fBits\":50331648,\"fName\":\"xaxis\",\"fTitle\":\" E [GeV]\",\"fNdivisions\":510,\"fAxisColor\":1,\"fLabelColor\":1,\"fLabelFont\":42,\"fLabelOffset\":0.005,\"fLabelSize\":0.035,\"fTickLength\":0.03,\"fTitleOffset\":1,\"fTitleSize\":0.035,\"fTitleColor\":1,\"fTitleFont\":42,\"fNbins\":100,\"fXmin\":0,\"fXmax\":1000,\"fXbins\":[],\"fFirst\":0,\"fLast\":0,\"fBits2\":0,\"fTimeDisplay\":false,\"fTimeFormat\":\"\",\"fLabels\":null,\"fModLabs\":null},\"fYaxis\":{\"_typename\":\"TAxis\",\"fUniqueID\":0,\"fBits\":50331648,\"fName\":\"yaxis\",\"fTitle\":\"\",\"fNdivisions\":510,\"fAxisColor\":1,\"fLabelColor\":1,\"fLabelFont\":42,\"fLabelOffset\":0.005,\"fLabelSize\":0.035,\"fTickLength\":0.03,\"fTitleOffset\":0,\"fTitleSize\":0.035,\"fTitleColor\":1,\"fTitleFont\":42,\"fNbins\":1,\"fXmin\":0,\"fXmax\":1,\"fXbins\":[],\"fFirst\":0,\"fLast\":0,\"fBits2\":0,\"fTimeDisplay\":false,\"fTimeFormat\":\"\",\"fLabels\":null,\"fModLabs\":null},\"fZaxis\":{\"_typename\":\"TAxis\",\"fUniqueID\":0,\"fBits\":50331648,\"fName\":\"zaxis\",\"fTitle\":\"\",\"fNdivisions\":510,\"fAxisColor\":1,\"fLabelColor\":1,\"fLabelFont\":42,\"fLabelOffset\":0.005,\"fLabelSize\":0.035,\"fTickLength\":0.03,\"fTitleOffset\":1,\"fTitleSize\":0.035,\"fTitleColor\":1,\"fTitleFont\":42,\"fNbins\":1,\"fXmin\":0,\"fXmax\":1,\"fXbins\":[],\"fFirst\":0,\"fLast\":0,\"fBits2\":0,\"fTimeDisplay\":false,\"fTimeFormat\":\"\",\"fLabels\":null,\"fModLabs\":null},\"fBarOffset\":0,\"fBarWidth\":1000,\"fEntries\":106400,\"fTsumw\":106226,\"fTsumw2\":106226,\"fTsumwx\":19187850.7143154,\"fTsumwx2\":7140970714.00368,\"fMaximum\":-1111,\"fMinimum\":-1111,\"fNormFactor\":0,\"fContour\":[],\"fSumw2\":[0,3202,4952,4932,5156,5212,4990,5432,5136,5070,5438,4148,3406,2974,2738,2344,2216,1948,1700,1770,1586,1404,1412,1214,1304,1162,1172,1108,1042,936,946,828,824,766,726,722,658,624,620,586,580,554,548,514,508,464,450,450,432,428,376,388,320,374,328,280,304,344,312,290,296,298,212,264,224,214,272,224,200,184,178,178,168,148,156,162,138,148,124,124,120,142,104,100,102,116,96,56,88,106,74,82,76,70,56,56,56,40,34,48,44,174],\"fOption\":\"\",\"fFunctions\":{\"_typename\":\"TList\",\"name\":\"TList\",\"arr\":[],\"opt\":[]},\"fBufferSize\":0,\"fBuffer\":[],\"fBinStatErrOpt\":0,\"fStatOverflows\":2,\"fArray\":[0,3202,4952,4932,5156,5212,4990,5432,5136,5070,5438,4148,3406,2974,2738,2344,2216,1948,1700,1770,1586,1404,1412,1214,1304,1162,1172,1108,1042,936,946,828,824,766,726,722,658,624,620,586,580,554,548,514,508,464,450,450,432,428,376,388,320,374,328,280,304,344,312,290,296,298,212,264,224,214,272,224,200,184,178,178,168,148,156,162,138,148,124,124,120,142,104,100,102,116,96,56,88,106,74,82,76,70,56,56,56,40,34,48,44,174]},\"fLabel\":\"PU200\",\"fOption\":\"l\"}],\"opt\":[\"l\",\"l\"]},\"fEntrySeparation\":0.1,\"fMargin\":0.25,\"fNColumns\":1,\"fColumnSeparation\":0},{\"_typename\":\"TPaveText\",\"fUniqueID\":0,\"fBits\":50331657,\"fLineColor\":1,\"fLineStyle\":1,\"fLineWidth\":1,\"fFillColor\":0,\"fFillStyle\":0,\"fX1\":287.754574261518,\"fY1\":0.0539760724546473,\"fX2\":1010.49107279553,\"fY2\":0.0580596571886204,\"fX1NDC\":0.294020100502513,\"fY1NDC\":0.934160843929211,\"fX2NDC\":0.705979899497488,\"fY2NDC\":0.995000004768372,\"fBorderSize\":0,\"fInit\":1,\"fShadowColor\":1,\"fCornerRadius\":0,\"fOption\":\"blNDC\",\"fName\":\"title\",\"fTextAngle\":0,\"fTextSize\":0,\"fTextAlign\":22,\"fTextColor\":1,\"fTextFont\":42,\"fLabel\":\"\",\"fLongest\":21,\"fMargin\":0.05,\"fLines\":{\"_typename\":\"TList\",\"name\":\"TList\",\"arr\":[{\"_typename\":\"TLatex\",\"fUniqueID\":0,\"fBits\":50331648,\"fName\":\"\",\"fTitle\":\"Gen Part Energy (GeV)\",\"fTextAngle\":0,\"fTextSize\":0,\"fTextAlign\":0,\"fTextColor\":0,\"fTextFont\":0,\"fX\":0,\"fY\":0,\"fLineColor\":1,\"fLineStyle\":1,\"fLineWidth\":2,\"fLimitFactorSize\":3,\"fOriginSize\":0.0517132878303528}],\"opt\":[\"\"]}}],\"opt\":[\"\",\",HIST\",\"SAME,HIST\",\"\",\"blNDC\"]},\"fExecs\":null,\"fName\":\"c_671499\",\"fTitle\":\"h_genParts_ele_energy\",\"fNumPaletteColor\":0,\"fNextPaletteColor\":0,\"fDISPLAY\":\"$DISPLAY\",\"fDoubleBuffer\":0,\"fRetained\":true,\"fXsizeUser\":0,\"fYsizeUser\":0,\"fXsizeReal\":20,\"fYsizeReal\":15,\"fWindowTopX\":0,\"fWindowTopY\":0,\"fWindowWidth\":0,\"fWindowHeight\":0,\"fCw\":796,\"fCh\":572,\"fCatt\":{\"_typename\":\"TAttCanvas\",\"fXBetween\":2,\"fYBetween\":2,\"fTitleFromTop\":1.2,\"fXdate\":0.2,\"fYdate\":0.3,\"fAdate\":1},\"kMoveOpaque\":true,\"kResizeOpaque\":true,\"fHighLightColor\":2,\"fBatch\":true,\"kShowEventStatus\":false,\"kAutoExec\":true,\"kMenuBar\":true});\n",
       "       Core.draw(\"root_plot_1\", obj, \"\");\n",
       "     }\n",
       " );\n",
       "</script>\n"
      ],
      "text/plain": [
       "<IPython.core.display.HTML object>"
      ]
     },
     "metadata": {},
     "output_type": "display_data"
    }
   ],
   "source": [
    "h_energy = [histo.h_energy for histo in ele_histos]\n",
    "drawSame(h_energy, labels,'hist', norm=True)\n"
   ]
  },
  {
   "cell_type": "code",
   "execution_count": 6,
   "metadata": {},
   "outputs": [
    {
     "data": {
      "text/html": [
       "\n",
       "<div id=\"root_plot_2\"\n",
       "     style=\"width: 796px; height: 572px\">\n",
       "</div>\n",
       "\n",
       "<script>\n",
       " requirejs.config({\n",
       "     paths: {\n",
       "       'JSRootCore' : 'https://root.cern.ch/js/notebook//scripts/JSRootCore',\n",
       "     }\n",
       "   });\n",
       " require(['JSRootCore'],\n",
       "     function(Core) {\n",
       "       var obj = Core.JSONR_unref({\"_typename\":\"TCanvas\",\"fUniqueID\":0,\"fBits\":53673992,\"fLineColor\":1,\"fLineStyle\":1,\"fLineWidth\":1,\"fFillColor\":0,\"fFillStyle\":1001,\"fLeftMargin\":0.13,\"fRightMargin\":0.3,\"fBottomMargin\":0.13,\"fTopMargin\":0.1,\"fXfile\":2,\"fYfile\":2,\"fAfile\":1,\"fXstat\":0.99,\"fYstat\":0.99,\"fAstat\":2,\"fFrameFillColor\":0,\"fFrameLineColor\":1,\"fFrameFillStyle\":1001,\"fFrameLineStyle\":1,\"fFrameLineWidth\":1,\"fFrameBorderSize\":1,\"fFrameBorderMode\":0,\"fX1\":-22.8070169934936,\"fY1\":-0.00373518019699678,\"fX2\":152.631581699199,\"fY2\":0.0249969755761924,\"fXtoAbsPixelk\":103.480046204376,\"fXtoPixelk\":103.480046204376,\"fXtoPixel\":4.53719994306564,\"fYtoAbsPixelk\":497.640051065433,\"fYtoPixelk\":497.640051065433,\"fYtoPixel\":-19908.0084528064,\"fUtoAbsPixelk\":5e-5,\"fUtoPixelk\":5e-5,\"fUtoPixel\":796,\"fVtoAbsPixelk\":572.00005,\"fVtoPixelk\":572,\"fVtoPixel\":-572,\"fAbsPixeltoXk\":-22.8070169934936,\"fPixeltoXk\":-22.8070169934936,\"fPixeltoX\":0.220400249613935,\"fAbsPixeltoYk\":0.0249969755761924,\"fPixeltoYk\":-0.00373518019699678,\"fPixeltoY\":-5.02310415615195e-5,\"fXlowNDC\":0,\"fYlowNDC\":0,\"fXUpNDC\":0,\"fYUpNDC\":0,\"fWNDC\":1,\"fHNDC\":1,\"fAbsXlowNDC\":0,\"fAbsYlowNDC\":0,\"fAbsWNDC\":1,\"fAbsHNDC\":1,\"fUxmin\":0,\"fUymin\":0,\"fUxmax\":100,\"fUymax\":0.0221237598918378,\"fTheta\":30,\"fPhi\":30,\"fAspectRatio\":0,\"fNumber\":0,\"fTickx\":0,\"fTicky\":0,\"fLogx\":0,\"fLogy\":0,\"fLogz\":0,\"fPadPaint\":0,\"fCrosshair\":0,\"fCrosshairPos\":0,\"fBorderSize\":2,\"fBorderMode\":0,\"fModified\":false,\"fGridx\":false,\"fGridy\":false,\"fAbsCoord\":false,\"fEditable\":true,\"fFixedAspectRatio\":false,\"fPrimitives\":{\"_typename\":\"TList\",\"name\":\"TList\",\"arr\":[{\"_typename\":\"TFrame\",\"fUniqueID\":0,\"fBits\":50331656,\"fLineColor\":1,\"fLineStyle\":1,\"fLineWidth\":1,\"fFillColor\":0,\"fFillStyle\":1001,\"fX1\":0,\"fY1\":0,\"fX2\":100,\"fY2\":0.0221237598918378,\"fBorderSize\":1,\"fBorderMode\":0},{\"_typename\":\"TH1F\",\"fUniqueID\":0,\"fBits\":50332169,\"fName\":\"h_genParts_ele_pt\",\"fTitle\":\"Gen Part P_{T} (GeV)\",\"fLineColor\":1,\"fLineStyle\":1,\"fLineWidth\":1,\"fFillColor\":0,\"fFillStyle\":1001,\"fMarkerColor\":1,\"fMarkerStyle\":1,\"fMarkerSize\":1,\"fNcells\":52,\"fXaxis\":{\"_typename\":\"TAxis\",\"fUniqueID\":0,\"fBits\":50331648,\"fName\":\"xaxis\",\"fTitle\":\" p_{T} [GeV]\",\"fNdivisions\":510,\"fAxisColor\":1,\"fLabelColor\":1,\"fLabelFont\":42,\"fLabelOffset\":0.005,\"fLabelSize\":0.035,\"fTickLength\":0.03,\"fTitleOffset\":1,\"fTitleSize\":0.035,\"fTitleColor\":1,\"fTitleFont\":42,\"fNbins\":50,\"fXmin\":0,\"fXmax\":100,\"fXbins\":[],\"fFirst\":0,\"fLast\":0,\"fBits2\":0,\"fTimeDisplay\":false,\"fTimeFormat\":\"\",\"fLabels\":null,\"fModLabs\":null},\"fYaxis\":{\"_typename\":\"TAxis\",\"fUniqueID\":0,\"fBits\":50331648,\"fName\":\"yaxis\",\"fTitle\":\"\",\"fNdivisions\":510,\"fAxisColor\":1,\"fLabelColor\":1,\"fLabelFont\":42,\"fLabelOffset\":0.005,\"fLabelSize\":0.035,\"fTickLength\":0.03,\"fTitleOffset\":0,\"fTitleSize\":0.035,\"fTitleColor\":1,\"fTitleFont\":42,\"fNbins\":1,\"fXmin\":0,\"fXmax\":1,\"fXbins\":[],\"fFirst\":0,\"fLast\":0,\"fBits2\":0,\"fTimeDisplay\":false,\"fTimeFormat\":\"\",\"fLabels\":null,\"fModLabs\":null},\"fZaxis\":{\"_typename\":\"TAxis\",\"fUniqueID\":0,\"fBits\":50331648,\"fName\":\"zaxis\",\"fTitle\":\"\",\"fNdivisions\":510,\"fAxisColor\":1,\"fLabelColor\":1,\"fLabelFont\":42,\"fLabelOffset\":0.005,\"fLabelSize\":0.035,\"fTickLength\":0.03,\"fTitleOffset\":1,\"fTitleSize\":0.035,\"fTitleColor\":1,\"fTitleFont\":42,\"fNbins\":1,\"fXmin\":0,\"fXmax\":1,\"fXbins\":[],\"fFirst\":0,\"fLast\":0,\"fBits2\":0,\"fTimeDisplay\":false,\"fTimeFormat\":\"\",\"fLabels\":null,\"fModLabs\":null},\"fBarOffset\":0,\"fBarWidth\":1000,\"fEntries\":484000,\"fTsumw\":484000,\"fTsumw2\":484000,\"fTsumwx\":24674582.6239214,\"fTsumwx2\":1645980609.00787,\"fMaximum\":-1111,\"fMinimum\":-1111,\"fNormFactor\":0,\"fContour\":[],\"fSumw2\":[0,0,4.26798032921249e-8,4.28847073287344e-8,4.2423673246363e-8,4.2030940509528e-8,4.23212212280582e-8,4.11942490267058e-8,4.25346629328598e-8,4.32176763882249e-8,4.16382077726931e-8,4.25944266102042e-8,4.10747216720169e-8,4.15784440953487e-8,4.19711768321836e-8,4.34738064339868e-8,4.22187692097534e-8,4.19028754866471e-8,4.174919745919e-8,4.15272180861963e-8,4.25090499282836e-8,4.2022402841336e-8,4.23724472372106e-8,4.19028754866471e-8,4.23297588962503e-8,4.14674544088519e-8,4.21333925278328e-8,4.18174988047265e-8,4.32262140564169e-8,4.2696878628509e-8,4.24151355781709e-8,4.24492862509391e-8,4.06905266033741e-8,4.18601871456868e-8,4.29103203333106e-8,4.22102315415614e-8,4.19370261594153e-8,4.23041458916741e-8,4.24663615873233e-8,4.23212212280582e-8,4.21163171914487e-8,4.21077795232566e-8,4.21675432006011e-8,4.21931562051773e-8,4.12710880404344e-8,4.16040570999249e-8,4.19199508230312e-8,4.12540127040503e-8,4.174919745919e-8,4.35335701113312e-8,4.31408373744963e-8,0],\"fOption\":\"\",\"fFunctions\":{\"_typename\":\"TList\",\"name\":\"TList\",\"arr\":[],\"opt\":[]},\"fBufferSize\":0,\"fBuffer\":[],\"fBinStatErrOpt\":0,\"fStatOverflows\":2,\"fArray\":[0,0,0.02065703,0.0207562,0.02053306,0.02034298,0.02048347,0.01993802,0.02058678,0.02091736,0.02015289,0.0206157,0.01988016,0.02012397,0.02031405,0.02104132,0.02043388,0.02028099,0.02020661,0.02009917,0.02057438,0.02033884,0.02050827,0.02028099,0.0204876,0.02007025,0.02039256,0.02023967,0.02092149,0.02066529,0.02052893,0.02054545,0.01969421,0.02026033,0.0207686,0.02042975,0.02029752,0.02047521,0.02055372,0.02048347,0.0203843,0.02038017,0.02040909,0.02042149,0.01997521,0.02013636,0.02028926,0.01996694,0.02020661,0.02107025,0.02088016,0]},{\"_typename\":\"TH1F\",\"fUniqueID\":0,\"fBits\":50332169,\"fName\":\"h_genParts_ele_pt\",\"fTitle\":\"Gen Part P_{T} (GeV)\",\"fLineColor\":2,\"fLineStyle\":1,\"fLineWidth\":1,\"fFillColor\":0,\"fFillStyle\":1001,\"fMarkerColor\":1,\"fMarkerStyle\":1,\"fMarkerSize\":1,\"fNcells\":52,\"fXaxis\":{\"_typename\":\"TAxis\",\"fUniqueID\":0,\"fBits\":50331648,\"fName\":\"xaxis\",\"fTitle\":\" p_{T} [GeV]\",\"fNdivisions\":510,\"fAxisColor\":1,\"fLabelColor\":1,\"fLabelFont\":42,\"fLabelOffset\":0.005,\"fLabelSize\":0.035,\"fTickLength\":0.03,\"fTitleOffset\":1,\"fTitleSize\":0.035,\"fTitleColor\":1,\"fTitleFont\":42,\"fNbins\":50,\"fXmin\":0,\"fXmax\":100,\"fXbins\":[],\"fFirst\":0,\"fLast\":0,\"fBits2\":0,\"fTimeDisplay\":false,\"fTimeFormat\":\"\",\"fLabels\":null,\"fModLabs\":null},\"fYaxis\":{\"_typename\":\"TAxis\",\"fUniqueID\":0,\"fBits\":50331648,\"fName\":\"yaxis\",\"fTitle\":\"\",\"fNdivisions\":510,\"fAxisColor\":1,\"fLabelColor\":1,\"fLabelFont\":42,\"fLabelOffset\":0.005,\"fLabelSize\":0.035,\"fTickLength\":0.03,\"fTitleOffset\":0,\"fTitleSize\":0.035,\"fTitleColor\":1,\"fTitleFont\":42,\"fNbins\":1,\"fXmin\":0,\"fXmax\":1,\"fXbins\":[],\"fFirst\":0,\"fLast\":0,\"fBits2\":0,\"fTimeDisplay\":false,\"fTimeFormat\":\"\",\"fLabels\":null,\"fModLabs\":null},\"fZaxis\":{\"_typename\":\"TAxis\",\"fUniqueID\":0,\"fBits\":50331648,\"fName\":\"zaxis\",\"fTitle\":\"\",\"fNdivisions\":510,\"fAxisColor\":1,\"fLabelColor\":1,\"fLabelFont\":42,\"fLabelOffset\":0.005,\"fLabelSize\":0.035,\"fTickLength\":0.03,\"fTitleOffset\":1,\"fTitleSize\":0.035,\"fTitleColor\":1,\"fTitleFont\":42,\"fNbins\":1,\"fXmin\":0,\"fXmax\":1,\"fXbins\":[],\"fFirst\":0,\"fLast\":0,\"fBits2\":0,\"fTimeDisplay\":false,\"fTimeFormat\":\"\",\"fLabels\":null,\"fModLabs\":null},\"fBarOffset\":0,\"fBarWidth\":1000,\"fEntries\":106400,\"fTsumw\":106400,\"fTsumw2\":106400,\"fTsumwx\":5431138.93791294,\"fTsumwx2\":362625492.422576,\"fMaximum\":-1111,\"fMinimum\":-1111,\"fNormFactor\":0,\"fContour\":[],\"fSumw2\":[0,0,2.01926338402397e-7,1.99453049918028e-7,1.8567329979083e-7,1.84789982474984e-7,1.9026654983323e-7,1.93799819096614e-7,1.812567132116e-7,1.93799819096614e-7,1.87086607496184e-7,1.95036463338798e-7,1.9468313641246e-7,1.85849963254e-7,1.91503194075414e-7,2.05989598055289e-7,1.97509751823167e-7,1.84436655548646e-7,1.87616597885692e-7,1.85143309401323e-7,1.91856521001752e-7,1.96449771044152e-7,1.90619876759568e-7,1.9026654983323e-7,1.93269828707106e-7,1.84789982474984e-7,1.93093165243937e-7,1.83906665159138e-7,1.90973203685906e-7,1.92033184464922e-7,1.94329809486121e-7,1.92916501780768e-7,1.90443213296399e-7,1.94153146022952e-7,1.89736559443722e-7,1.99806376844367e-7,1.97509751823167e-7,1.88499915201538e-7,1.86556617106676e-7,2.00689694160213e-7,1.90796540222737e-7,1.91503194075414e-7,1.94506472949291e-7,1.80020068969416e-7,1.93269828707106e-7,1.90443213296399e-7,2.00159703770705e-7,1.84259992085477e-7,1.96096444117813e-7,1.95743117191475e-7,1.93976482559783e-7,0],\"fOption\":\"\",\"fFunctions\":{\"_typename\":\"TList\",\"name\":\"TList\",\"arr\":[],\"opt\":[]},\"fBufferSize\":0,\"fBuffer\":[],\"fBinStatErrOpt\":0,\"fStatOverflows\":2,\"fArray\":[0,0,0.02148496,0.02122181,0.01975564,0.01966165,0.02024436,0.0206203,0.01928571,0.0206203,0.01990601,0.02075188,0.02071428,0.01977444,0.02037594,0.02191729,0.02101504,0.01962406,0.01996241,0.01969925,0.02041353,0.02090226,0.02028196,0.02024436,0.02056391,0.01966165,0.02054511,0.01956767,0.02031955,0.02043233,0.02067669,0.02052632,0.02026316,0.0206579,0.02018797,0.0212594,0.02101504,0.02005639,0.01984962,0.02135338,0.02030075,0.02037594,0.02069549,0.01915414,0.02056391,0.02026316,0.02129699,0.01960526,0.02086466,0.02082707,0.0206391,0]},{\"_typename\":\"TLegend\",\"fUniqueID\":0,\"fBits\":50331656,\"fLineColor\":1,\"fLineStyle\":1,\"fLineWidth\":1,\"fFillColor\":0,\"fFillStyle\":0,\"fX1\":100.000002091391,\"fY1\":0.0166646504019675,\"fX2\":143.859651764564,\"fY2\":0.020687152210214,\"fX1NDC\":0.7,\"fY1NDC\":0.71,\"fX2NDC\":0.95,\"fY2NDC\":0.85,\"fBorderSize\":0,\"fInit\":1,\"fShadowColor\":1,\"fCornerRadius\":0,\"fOption\":\"brNDC\",\"fName\":\"TPave\",\"fTextAngle\":0,\"fTextSize\":0.05,\"fTextAlign\":12,\"fTextColor\":1,\"fTextFont\":42,\"fPrimitives\":{\"_typename\":\"TList\",\"name\":\"TList\",\"arr\":[{\"_typename\":\"TLegendEntry\",\"fUniqueID\":0,\"fBits\":50331656,\"fTextAngle\":0,\"fTextSize\":0,\"fTextAlign\":0,\"fTextColor\":0,\"fTextFont\":42,\"fLineColor\":1,\"fLineStyle\":1,\"fLineWidth\":1,\"fFillColor\":0,\"fFillStyle\":0,\"fMarkerColor\":1,\"fMarkerStyle\":21,\"fMarkerSize\":1,\"fObject\":{\"_typename\":\"TH1F\",\"fUniqueID\":0,\"fBits\":50332168,\"fName\":\"h_genParts_ele_pt\",\"fTitle\":\"Gen Part P_{T} (GeV)\",\"fLineColor\":1,\"fLineStyle\":1,\"fLineWidth\":1,\"fFillColor\":0,\"fFillStyle\":1001,\"fMarkerColor\":1,\"fMarkerStyle\":1,\"fMarkerSize\":1,\"fNcells\":52,\"fXaxis\":{\"_typename\":\"TAxis\",\"fUniqueID\":0,\"fBits\":50331648,\"fName\":\"xaxis\",\"fTitle\":\" p_{T} [GeV]\",\"fNdivisions\":510,\"fAxisColor\":1,\"fLabelColor\":1,\"fLabelFont\":42,\"fLabelOffset\":0.005,\"fLabelSize\":0.035,\"fTickLength\":0.03,\"fTitleOffset\":1,\"fTitleSize\":0.035,\"fTitleColor\":1,\"fTitleFont\":42,\"fNbins\":50,\"fXmin\":0,\"fXmax\":100,\"fXbins\":[],\"fFirst\":0,\"fLast\":0,\"fBits2\":0,\"fTimeDisplay\":false,\"fTimeFormat\":\"\",\"fLabels\":null,\"fModLabs\":null},\"fYaxis\":{\"_typename\":\"TAxis\",\"fUniqueID\":0,\"fBits\":50331656,\"fName\":\"yaxis\",\"fTitle\":\"\",\"fNdivisions\":510,\"fAxisColor\":1,\"fLabelColor\":1,\"fLabelFont\":42,\"fLabelOffset\":0.005,\"fLabelSize\":0.035,\"fTickLength\":0.03,\"fTitleOffset\":0,\"fTitleSize\":0.035,\"fTitleColor\":1,\"fTitleFont\":42,\"fNbins\":1,\"fXmin\":0,\"fXmax\":1,\"fXbins\":[],\"fFirst\":0,\"fLast\":0,\"fBits2\":0,\"fTimeDisplay\":false,\"fTimeFormat\":\"\",\"fLabels\":null,\"fModLabs\":null},\"fZaxis\":{\"_typename\":\"TAxis\",\"fUniqueID\":0,\"fBits\":50331648,\"fName\":\"zaxis\",\"fTitle\":\"\",\"fNdivisions\":510,\"fAxisColor\":1,\"fLabelColor\":1,\"fLabelFont\":42,\"fLabelOffset\":0.005,\"fLabelSize\":0.035,\"fTickLength\":0.03,\"fTitleOffset\":1,\"fTitleSize\":0.035,\"fTitleColor\":1,\"fTitleFont\":42,\"fNbins\":1,\"fXmin\":0,\"fXmax\":1,\"fXbins\":[],\"fFirst\":0,\"fLast\":0,\"fBits2\":0,\"fTimeDisplay\":false,\"fTimeFormat\":\"\",\"fLabels\":null,\"fModLabs\":null},\"fBarOffset\":0,\"fBarWidth\":1000,\"fEntries\":484000,\"fTsumw\":484000,\"fTsumw2\":484000,\"fTsumwx\":24674582.6239214,\"fTsumwx2\":1645980609.00787,\"fMaximum\":12237.6,\"fMinimum\":0,\"fNormFactor\":0,\"fContour\":[],\"fSumw2\":[0,0,9998,10046,9938,9846,9914,9650,9964,10124,9754,9978,9622,9740,9832,10184,9890,9816,9780,9728,9958,9844,9926,9816,9916,9714,9870,9796,10126,10002,9936,9944,9532,9806,10052,9888,9824,9910,9948,9914,9866,9864,9878,9884,9668,9746,9820,9664,9780,10198,10106,0],\"fOption\":\"\",\"fFunctions\":{\"_typename\":\"TList\",\"name\":\"TList\",\"arr\":[],\"opt\":[]},\"fBufferSize\":0,\"fBuffer\":[],\"fBinStatErrOpt\":0,\"fStatOverflows\":2,\"fArray\":[0,0,9998,10046,9938,9846,9914,9650,9964,10124,9754,9978,9622,9740,9832,10184,9890,9816,9780,9728,9958,9844,9926,9816,9916,9714,9870,9796,10126,10002,9936,9944,9532,9806,10052,9888,9824,9910,9948,9914,9866,9864,9878,9884,9668,9746,9820,9664,9780,10198,10106,0]},\"fLabel\":\"PU0\",\"fOption\":\"l\"},{\"_typename\":\"TLegendEntry\",\"fUniqueID\":0,\"fBits\":50331656,\"fTextAngle\":0,\"fTextSize\":0,\"fTextAlign\":0,\"fTextColor\":0,\"fTextFont\":42,\"fLineColor\":2,\"fLineStyle\":1,\"fLineWidth\":1,\"fFillColor\":0,\"fFillStyle\":0,\"fMarkerColor\":1,\"fMarkerStyle\":21,\"fMarkerSize\":1,\"fObject\":{\"_typename\":\"TH1F\",\"fUniqueID\":0,\"fBits\":50332168,\"fName\":\"h_genParts_ele_pt\",\"fTitle\":\"Gen Part P_{T} (GeV)\",\"fLineColor\":2,\"fLineStyle\":1,\"fLineWidth\":1,\"fFillColor\":0,\"fFillStyle\":1001,\"fMarkerColor\":1,\"fMarkerStyle\":1,\"fMarkerSize\":1,\"fNcells\":52,\"fXaxis\":{\"_typename\":\"TAxis\",\"fUniqueID\":0,\"fBits\":50331648,\"fName\":\"xaxis\",\"fTitle\":\" p_{T} [GeV]\",\"fNdivisions\":510,\"fAxisColor\":1,\"fLabelColor\":1,\"fLabelFont\":42,\"fLabelOffset\":0.005,\"fLabelSize\":0.035,\"fTickLength\":0.03,\"fTitleOffset\":1,\"fTitleSize\":0.035,\"fTitleColor\":1,\"fTitleFont\":42,\"fNbins\":50,\"fXmin\":0,\"fXmax\":100,\"fXbins\":[],\"fFirst\":0,\"fLast\":0,\"fBits2\":0,\"fTimeDisplay\":false,\"fTimeFormat\":\"\",\"fLabels\":null,\"fModLabs\":null},\"fYaxis\":{\"_typename\":\"TAxis\",\"fUniqueID\":0,\"fBits\":50331648,\"fName\":\"yaxis\",\"fTitle\":\"\",\"fNdivisions\":510,\"fAxisColor\":1,\"fLabelColor\":1,\"fLabelFont\":42,\"fLabelOffset\":0.005,\"fLabelSize\":0.035,\"fTickLength\":0.03,\"fTitleOffset\":0,\"fTitleSize\":0.035,\"fTitleColor\":1,\"fTitleFont\":42,\"fNbins\":1,\"fXmin\":0,\"fXmax\":1,\"fXbins\":[],\"fFirst\":0,\"fLast\":0,\"fBits2\":0,\"fTimeDisplay\":false,\"fTimeFormat\":\"\",\"fLabels\":null,\"fModLabs\":null},\"fZaxis\":{\"_typename\":\"TAxis\",\"fUniqueID\":0,\"fBits\":50331648,\"fName\":\"zaxis\",\"fTitle\":\"\",\"fNdivisions\":510,\"fAxisColor\":1,\"fLabelColor\":1,\"fLabelFont\":42,\"fLabelOffset\":0.005,\"fLabelSize\":0.035,\"fTickLength\":0.03,\"fTitleOffset\":1,\"fTitleSize\":0.035,\"fTitleColor\":1,\"fTitleFont\":42,\"fNbins\":1,\"fXmin\":0,\"fXmax\":1,\"fXbins\":[],\"fFirst\":0,\"fLast\":0,\"fBits2\":0,\"fTimeDisplay\":false,\"fTimeFormat\":\"\",\"fLabels\":null,\"fModLabs\":null},\"fBarOffset\":0,\"fBarWidth\":1000,\"fEntries\":106400,\"fTsumw\":106400,\"fTsumw2\":106400,\"fTsumwx\":5431138.93791294,\"fTsumwx2\":362625492.422576,\"fMaximum\":-1111,\"fMinimum\":-1111,\"fNormFactor\":0,\"fContour\":[],\"fSumw2\":[0,0,2286,2258,2102,2092,2154,2194,2052,2194,2118,2208,2204,2104,2168,2332,2236,2088,2124,2096,2172,2224,2158,2154,2188,2092,2186,2082,2162,2174,2200,2184,2156,2198,2148,2262,2236,2134,2112,2272,2160,2168,2202,2038,2188,2156,2266,2086,2220,2216,2196,0],\"fOption\":\"\",\"fFunctions\":{\"_typename\":\"TList\",\"name\":\"TList\",\"arr\":[],\"opt\":[]},\"fBufferSize\":0,\"fBuffer\":[],\"fBinStatErrOpt\":0,\"fStatOverflows\":2,\"fArray\":[0,0,2286,2258,2102,2092,2154,2194,2052,2194,2118,2208,2204,2104,2168,2332,2236,2088,2124,2096,2172,2224,2158,2154,2188,2092,2186,2082,2162,2174,2200,2184,2156,2198,2148,2262,2236,2134,2112,2272,2160,2168,2202,2038,2188,2156,2266,2086,2220,2216,2196,0]},\"fLabel\":\"PU200\",\"fOption\":\"l\"}],\"opt\":[\"l\",\"l\"]},\"fEntrySeparation\":0.1,\"fMargin\":0.25,\"fNColumns\":1,\"fColumnSeparation\":0},{\"_typename\":\"TPaveText\",\"fUniqueID\":0,\"fBits\":50331657,\"fLineColor\":1,\"fLineStyle\":1,\"fLineWidth\":1,\"fFillColor\":0,\"fFillStyle\":0,\"fX1\":36.1588657882186,\"fY1\":0.0229244429383697,\"fX2\":93.6656989174866,\"fY2\":0.024853314934332,\"fX1NDC\":0.336105527638191,\"fY1NDC\":0.927867137635504,\"fX2NDC\":0.663894472361809,\"fY2NDC\":0.995000004768372,\"fBorderSize\":0,\"fInit\":1,\"fShadowColor\":1,\"fCornerRadius\":0,\"fOption\":\"blNDC\",\"fName\":\"title\",\"fTextAngle\":0,\"fTextSize\":0,\"fTextAlign\":22,\"fTextColor\":1,\"fTextFont\":42,\"fLabel\":\"\",\"fLongest\":20,\"fMargin\":0.05,\"fLines\":{\"_typename\":\"TList\",\"name\":\"TList\",\"arr\":[{\"_typename\":\"TLatex\",\"fUniqueID\":0,\"fBits\":50331648,\"fName\":\"\",\"fTitle\":\"Gen Part P_{T} (GeV)\",\"fTextAngle\":0,\"fTextSize\":0,\"fTextAlign\":0,\"fTextColor\":0,\"fTextFont\":0,\"fX\":0,\"fY\":0,\"fLineColor\":1,\"fLineStyle\":1,\"fLineWidth\":2,\"fLimitFactorSize\":3,\"fOriginSize\":0.0570629388093948}],\"opt\":[\"\"]}}],\"opt\":[\"\",\",HIST\",\"SAME,HIST\",\"\",\"blNDC\"]},\"fExecs\":null,\"fName\":\"c_6d8602\",\"fTitle\":\"h_genParts_ele_pt\",\"fNumPaletteColor\":0,\"fNextPaletteColor\":0,\"fDISPLAY\":\"$DISPLAY\",\"fDoubleBuffer\":0,\"fRetained\":true,\"fXsizeUser\":0,\"fYsizeUser\":0,\"fXsizeReal\":20,\"fYsizeReal\":15,\"fWindowTopX\":0,\"fWindowTopY\":0,\"fWindowWidth\":0,\"fWindowHeight\":0,\"fCw\":796,\"fCh\":572,\"fCatt\":{\"_typename\":\"TAttCanvas\",\"fXBetween\":2,\"fYBetween\":2,\"fTitleFromTop\":1.2,\"fXdate\":0.2,\"fYdate\":0.3,\"fAdate\":1},\"kMoveOpaque\":true,\"kResizeOpaque\":true,\"fHighLightColor\":2,\"fBatch\":true,\"kShowEventStatus\":false,\"kAutoExec\":true,\"kMenuBar\":true});\n",
       "       Core.draw(\"root_plot_2\", obj, \"\");\n",
       "     }\n",
       " );\n",
       "</script>\n"
      ],
      "text/plain": [
       "<IPython.core.display.HTML object>"
      ]
     },
     "metadata": {},
     "output_type": "display_data"
    }
   ],
   "source": [
    "h_pt = [histo.h_pt for histo in ele_histos]\n",
    "drawSame(h_pt, labels,'hist', norm=True)"
   ]
  },
  {
   "cell_type": "code",
   "execution_count": 7,
   "metadata": {},
   "outputs": [
    {
     "data": {
      "text/html": [
       "\n",
       "<div id=\"root_plot_3\"\n",
       "     style=\"width: 796px; height: 572px\">\n",
       "</div>\n",
       "\n",
       "<script>\n",
       " requirejs.config({\n",
       "     paths: {\n",
       "       'JSRootCore' : 'https://root.cern.ch/js/notebook//scripts/JSRootCore',\n",
       "     }\n",
       "   });\n",
       " require(['JSRootCore'],\n",
       "     function(Core) {\n",
       "       var obj = Core.JSONR_unref({\"_typename\":\"TCanvas\",\"fUniqueID\":0,\"fBits\":53673992,\"fLineColor\":1,\"fLineStyle\":1,\"fLineWidth\":1,\"fFillColor\":0,\"fFillStyle\":1001,\"fLeftMargin\":0.13,\"fRightMargin\":0.3,\"fBottomMargin\":0.13,\"fTopMargin\":0.1,\"fXfile\":2,\"fYfile\":2,\"fAfile\":1,\"fXstat\":0.99,\"fYstat\":0.99,\"fAstat\":2,\"fFrameFillColor\":0,\"fFrameLineColor\":1,\"fFrameFillStyle\":1001,\"fFrameLineStyle\":1,\"fFrameLineWidth\":1,\"fFrameBorderSize\":1,\"fFrameBorderMode\":0,\"fX1\":-4.36842101960961,\"fY1\":0.0193366773411309,\"fX2\":6.15789490195193,\"fY2\":0.0205408459373855,\"fXtoAbsPixelk\":330.340043357658,\"fXtoPixelk\":330.340043357658,\"fXtoPixel\":75.6199990510941,\"fYtoAbsPixelk\":9757.24161295857,\"fYtoPixelk\":9757.24161295857,\"fYtoPixel\":-475016.53985924,\"fUtoAbsPixelk\":5e-5,\"fUtoPixelk\":5e-5,\"fUtoPixel\":796,\"fVtoAbsPixelk\":572.00005,\"fVtoPixelk\":572,\"fVtoPixel\":-572,\"fAbsPixeltoXk\":-4.36842101960961,\"fPixeltoXk\":-4.36842101960961,\"fPixeltoX\":0.0132240149768361,\"fAbsPixeltoYk\":0.0205408459373855,\"fPixeltoYk\":0.0193366773411309,\"fPixeltoY\":-2.10518985359189e-6,\"fXlowNDC\":0,\"fYlowNDC\":0,\"fXUpNDC\":0,\"fYUpNDC\":0,\"fWNDC\":1,\"fHNDC\":1,\"fAbsXlowNDC\":0,\"fAbsYlowNDC\":0,\"fAbsWNDC\":1,\"fAbsHNDC\":1,\"fUxmin\":-3,\"fUymin\":0.0194932192564011,\"fUxmax\":3,\"fUymax\":0.0204204290732741,\"fTheta\":30,\"fPhi\":30,\"fAspectRatio\":0,\"fNumber\":0,\"fTickx\":0,\"fTicky\":0,\"fLogx\":0,\"fLogy\":0,\"fLogz\":0,\"fPadPaint\":0,\"fCrosshair\":0,\"fCrosshairPos\":0,\"fBorderSize\":2,\"fBorderMode\":0,\"fModified\":false,\"fGridx\":false,\"fGridy\":false,\"fAbsCoord\":false,\"fEditable\":true,\"fFixedAspectRatio\":false,\"fPrimitives\":{\"_typename\":\"TList\",\"name\":\"TList\",\"arr\":[{\"_typename\":\"TFrame\",\"fUniqueID\":0,\"fBits\":50331656,\"fLineColor\":1,\"fLineStyle\":1,\"fLineWidth\":1,\"fFillColor\":0,\"fFillStyle\":1001,\"fX1\":-3,\"fY1\":0.0194932192564011,\"fX2\":3,\"fY2\":0.0204204290732741,\"fBorderSize\":1,\"fBorderMode\":0},{\"_typename\":\"TH1F\",\"fUniqueID\":0,\"fBits\":50332169,\"fName\":\"h_genParts_ele_eta\",\"fTitle\":\"Gen Part eta\",\"fLineColor\":1,\"fLineStyle\":1,\"fLineWidth\":1,\"fFillColor\":0,\"fFillStyle\":1001,\"fMarkerColor\":1,\"fMarkerStyle\":1,\"fMarkerSize\":1,\"fNcells\":52,\"fXaxis\":{\"_typename\":\"TAxis\",\"fUniqueID\":0,\"fBits\":50331648,\"fName\":\"xaxis\",\"fTitle\":\" #eta\",\"fNdivisions\":510,\"fAxisColor\":1,\"fLabelColor\":1,\"fLabelFont\":42,\"fLabelOffset\":0.005,\"fLabelSize\":0.035,\"fTickLength\":0.03,\"fTitleOffset\":1,\"fTitleSize\":0.035,\"fTitleColor\":1,\"fTitleFont\":42,\"fNbins\":50,\"fXmin\":-3,\"fXmax\":3,\"fXbins\":[],\"fFirst\":0,\"fLast\":0,\"fBits2\":0,\"fTimeDisplay\":false,\"fTimeFormat\":\"\",\"fLabels\":null,\"fModLabs\":null},\"fYaxis\":{\"_typename\":\"TAxis\",\"fUniqueID\":0,\"fBits\":50331648,\"fName\":\"yaxis\",\"fTitle\":\"\",\"fNdivisions\":510,\"fAxisColor\":1,\"fLabelColor\":1,\"fLabelFont\":42,\"fLabelOffset\":0.005,\"fLabelSize\":0.035,\"fTickLength\":0.03,\"fTitleOffset\":0,\"fTitleSize\":0.035,\"fTitleColor\":1,\"fTitleFont\":42,\"fNbins\":1,\"fXmin\":0,\"fXmax\":1,\"fXbins\":[],\"fFirst\":0,\"fLast\":0,\"fBits2\":0,\"fTimeDisplay\":false,\"fTimeFormat\":\"\",\"fLabels\":null,\"fModLabs\":null},\"fZaxis\":{\"_typename\":\"TAxis\",\"fUniqueID\":0,\"fBits\":50331648,\"fName\":\"zaxis\",\"fTitle\":\"\",\"fNdivisions\":510,\"fAxisColor\":1,\"fLabelColor\":1,\"fLabelFont\":42,\"fLabelOffset\":0.005,\"fLabelSize\":0.035,\"fTickLength\":0.03,\"fTitleOffset\":1,\"fTitleSize\":0.035,\"fTitleColor\":1,\"fTitleFont\":42,\"fNbins\":1,\"fXmin\":0,\"fXmax\":1,\"fXbins\":[],\"fFirst\":0,\"fLast\":0,\"fBits2\":0,\"fTimeDisplay\":false,\"fTimeFormat\":\"\",\"fLabels\":null,\"fModLabs\":null},\"fBarOffset\":0,\"fBarWidth\":1000,\"fEntries\":484000,\"fTsumw\":468486,\"fTsumw2\":468486,\"fTsumwx\":3.01480293273926e-4,\"fTsumwx2\":1405149.05176346,\"fMaximum\":-1111,\"fMinimum\":-1111,\"fNormFactor\":0,\"fContour\":[],\"fSumw2\":[3.53427677719849e-8,4.25234048750722e-8,4.24778424569054e-8,4.21452368042878e-8,4.30883788603405e-8,4.3493884382025e-8,4.21999117060879e-8,4.27694419331729e-8,4.30109227494569e-8,4.32205098730242e-8,4.29425791222067e-8,4.23092615096882e-8,4.22682553333381e-8,4.23776051369384e-8,4.23183739933216e-8,4.30109227494569e-8,4.27739981749896e-8,4.23958301042052e-8,4.31931724221241e-8,4.3024591474907e-8,4.27421044822728e-8,4.2455061247822e-8,4.31020475857905e-8,4.24778424569054e-8,4.16987251062532e-8,4.32478473239243e-8,4.32478473239243e-8,4.16987251062532e-8,4.24778424569054e-8,4.31020475857905e-8,4.2455061247822e-8,4.27421044822728e-8,4.3024591474907e-8,4.31931724221241e-8,4.23958301042052e-8,4.27739981749896e-8,4.30109227494569e-8,4.23183739933216e-8,4.23776051369384e-8,4.22682553333381e-8,4.23092615096882e-8,4.29425791222067e-8,4.32205098730242e-8,4.30109227494569e-8,4.27694419331729e-8,4.21999117060879e-8,4.3493884382025e-8,4.30883788603405e-8,4.21452368042878e-8,4.24778424569054e-8,4.25234048750722e-8,3.53427677719849e-8],\"fOption\":\"\",\"fFunctions\":{\"_typename\":\"TList\",\"name\":\"TList\",\"arr\":[],\"opt\":[]},\"fBufferSize\":0,\"fBuffer\":[],\"fBinStatErrOpt\":0,\"fStatOverflows\":2,\"fArray\":[0.01655759,0.01992162,0.01990028,0.01974445,0.0201863,0.02037628,0.01977007,0.02003689,0.02015002,0.0202482,0.020118,0.0198213,0.01980209,0.01985331,0.01982557,0.02015002,0.02003902,0.01986185,0.0202354,0.02015642,0.02002408,0.0198896,0.02019271,0.01990028,0.01953527,0.02026101,0.02026101,0.01953527,0.01990028,0.02019271,0.0198896,0.02002408,0.02015642,0.0202354,0.01986185,0.02003902,0.02015002,0.01982557,0.01985331,0.01980209,0.0198213,0.020118,0.0202482,0.02015002,0.02003689,0.01977007,0.02037628,0.0201863,0.01974445,0.01990028,0.01992162,0.01655759]},{\"_typename\":\"TH1F\",\"fUniqueID\":0,\"fBits\":50332169,\"fName\":\"h_genParts_ele_eta\",\"fTitle\":\"Gen Part eta\",\"fLineColor\":2,\"fLineStyle\":1,\"fLineWidth\":1,\"fFillColor\":0,\"fFillStyle\":1001,\"fMarkerColor\":1,\"fMarkerStyle\":1,\"fMarkerSize\":1,\"fNcells\":52,\"fXaxis\":{\"_typename\":\"TAxis\",\"fUniqueID\":0,\"fBits\":50331648,\"fName\":\"xaxis\",\"fTitle\":\" #eta\",\"fNdivisions\":510,\"fAxisColor\":1,\"fLabelColor\":1,\"fLabelFont\":42,\"fLabelOffset\":0.005,\"fLabelSize\":0.035,\"fTickLength\":0.03,\"fTitleOffset\":1,\"fTitleSize\":0.035,\"fTitleColor\":1,\"fTitleFont\":42,\"fNbins\":50,\"fXmin\":-3,\"fXmax\":3,\"fXbins\":[],\"fFirst\":0,\"fLast\":0,\"fBits2\":0,\"fTimeDisplay\":false,\"fTimeFormat\":\"\",\"fLabels\":null,\"fModLabs\":null},\"fYaxis\":{\"_typename\":\"TAxis\",\"fUniqueID\":0,\"fBits\":50331648,\"fName\":\"yaxis\",\"fTitle\":\"\",\"fNdivisions\":510,\"fAxisColor\":1,\"fLabelColor\":1,\"fLabelFont\":42,\"fLabelOffset\":0.005,\"fLabelSize\":0.035,\"fTickLength\":0.03,\"fTitleOffset\":0,\"fTitleSize\":0.035,\"fTitleColor\":1,\"fTitleFont\":42,\"fNbins\":1,\"fXmin\":0,\"fXmax\":1,\"fXbins\":[],\"fFirst\":0,\"fLast\":0,\"fBits2\":0,\"fTimeDisplay\":false,\"fTimeFormat\":\"\",\"fLabels\":null,\"fModLabs\":null},\"fZaxis\":{\"_typename\":\"TAxis\",\"fUniqueID\":0,\"fBits\":50331648,\"fName\":\"zaxis\",\"fTitle\":\"\",\"fNdivisions\":510,\"fAxisColor\":1,\"fLabelColor\":1,\"fLabelFont\":42,\"fLabelOffset\":0.005,\"fLabelSize\":0.035,\"fTickLength\":0.03,\"fTitleOffset\":1,\"fTitleSize\":0.035,\"fTitleColor\":1,\"fTitleFont\":42,\"fNbins\":1,\"fXmin\":0,\"fXmax\":1,\"fXbins\":[],\"fFirst\":0,\"fLast\":0,\"fBits2\":0,\"fTimeDisplay\":false,\"fTimeFormat\":\"\",\"fLabels\":null,\"fModLabs\":null},\"fBarOffset\":0,\"fBarWidth\":1000,\"fEntries\":106400,\"fTsumw\":102998,\"fTsumw2\":102998,\"fTsumwx\":6.67572021484375e-5,\"fTsumwx2\":310740.327542352,\"fMaximum\":-1111,\"fMinimum\":-1111,\"fNormFactor\":0,\"fContour\":[],\"fSumw2\":[1.60341790948865e-7,1.97575775325585e-7,1.97387248822412e-7,1.96633142809719e-7,1.9380524526212e-7,1.97670038577172e-7,1.92862612746253e-7,1.95030667532746e-7,1.95690510293852e-7,1.90411768205001e-7,1.95407720539092e-7,1.918257169788e-7,1.9408803501688e-7,1.89657662192308e-7,2.00403672873184e-7,1.97010195816065e-7,2.00497936124771e-7,1.97010195816065e-7,1.95784773545439e-7,1.87206817651055e-7,1.90788821211347e-7,1.86924027896295e-7,1.9352245550736e-7,1.87772397160575e-7,1.90223241701828e-7,1.99272513854144e-7,1.99272513854144e-7,1.90223241701828e-7,1.87772397160575e-7,1.9352245550736e-7,1.86924027896295e-7,1.90788821211347e-7,1.87206817651055e-7,1.95784773545439e-7,1.97010195816065e-7,2.00497936124771e-7,1.97010195816065e-7,2.00403672873184e-7,1.89657662192308e-7,1.9408803501688e-7,1.918257169788e-7,1.95407720539092e-7,1.90411768205001e-7,1.95690510293852e-7,1.95030667532746e-7,1.92862612746253e-7,1.97670038577172e-7,1.9380524526212e-7,1.96633142809719e-7,1.97387248822412e-7,1.97575775325585e-7,1.60341790948865e-7],\"fOption\":\"\",\"fFunctions\":{\"_typename\":\"TList\",\"name\":\"TList\",\"arr\":[],\"opt\":[]},\"fBufferSize\":0,\"fBuffer\":[],\"fBinStatErrOpt\":0,\"fStatOverflows\":2,\"fArray\":[0.01651488,0.02034991,0.02033049,0.02025282,0.01996155,0.02035962,0.01986446,0.02008777,0.02015573,0.01961203,0.0201266,0.01975767,0.01999068,0.01953436,0.02064118,0.02029166,0.02065089,0.02029166,0.02016544,0.01928193,0.01965087,0.0192528,0.01993243,0.01934018,0.01959261,0.02052467,0.02052467,0.01959261,0.01934018,0.01993243,0.0192528,0.01965087,0.01928193,0.02016544,0.02029166,0.02065089,0.02029166,0.02064118,0.01953436,0.01999068,0.01975767,0.0201266,0.01961203,0.02015573,0.02008777,0.01986446,0.02035962,0.01996155,0.02025282,0.02033049,0.02034991,0.01651488]},{\"_typename\":\"TLegend\",\"fUniqueID\":0,\"fBits\":50331656,\"fLineColor\":1,\"fLineStyle\":1,\"fLineWidth\":1,\"fFillColor\":0,\"fFillStyle\":0,\"fX1\":3.00000012548346,\"fY1\":0.0201916370444716,\"fX2\":5.63157910587385,\"fY2\":0.0203602206479473,\"fX1NDC\":0.7,\"fY1NDC\":0.71,\"fX2NDC\":0.95,\"fY2NDC\":0.85,\"fBorderSize\":0,\"fInit\":1,\"fShadowColor\":1,\"fCornerRadius\":0,\"fOption\":\"brNDC\",\"fName\":\"TPave\",\"fTextAngle\":0,\"fTextSize\":0.05,\"fTextAlign\":12,\"fTextColor\":1,\"fTextFont\":42,\"fPrimitives\":{\"_typename\":\"TList\",\"name\":\"TList\",\"arr\":[{\"_typename\":\"TLegendEntry\",\"fUniqueID\":0,\"fBits\":50331656,\"fTextAngle\":0,\"fTextSize\":0,\"fTextAlign\":0,\"fTextColor\":0,\"fTextFont\":42,\"fLineColor\":1,\"fLineStyle\":1,\"fLineWidth\":1,\"fFillColor\":0,\"fFillStyle\":0,\"fMarkerColor\":1,\"fMarkerStyle\":21,\"fMarkerSize\":1,\"fObject\":{\"_typename\":\"TH1F\",\"fUniqueID\":0,\"fBits\":50332168,\"fName\":\"h_genParts_ele_eta\",\"fTitle\":\"Gen Part eta\",\"fLineColor\":1,\"fLineStyle\":1,\"fLineWidth\":1,\"fFillColor\":0,\"fFillStyle\":1001,\"fMarkerColor\":1,\"fMarkerStyle\":1,\"fMarkerSize\":1,\"fNcells\":52,\"fXaxis\":{\"_typename\":\"TAxis\",\"fUniqueID\":0,\"fBits\":50331648,\"fName\":\"xaxis\",\"fTitle\":\" #eta\",\"fNdivisions\":510,\"fAxisColor\":1,\"fLabelColor\":1,\"fLabelFont\":42,\"fLabelOffset\":0.005,\"fLabelSize\":0.035,\"fTickLength\":0.03,\"fTitleOffset\":1,\"fTitleSize\":0.035,\"fTitleColor\":1,\"fTitleFont\":42,\"fNbins\":50,\"fXmin\":-3,\"fXmax\":3,\"fXbins\":[],\"fFirst\":0,\"fLast\":0,\"fBits2\":0,\"fTimeDisplay\":false,\"fTimeFormat\":\"\",\"fLabels\":null,\"fModLabs\":null},\"fYaxis\":{\"_typename\":\"TAxis\",\"fUniqueID\":0,\"fBits\":50331656,\"fName\":\"yaxis\",\"fTitle\":\"\",\"fNdivisions\":510,\"fAxisColor\":1,\"fLabelColor\":1,\"fLabelFont\":42,\"fLabelOffset\":0.005,\"fLabelSize\":0.035,\"fTickLength\":0.03,\"fTitleOffset\":0,\"fTitleSize\":0.035,\"fTitleColor\":1,\"fTitleFont\":42,\"fNbins\":1,\"fXmin\":0,\"fXmax\":1,\"fXbins\":[],\"fFirst\":0,\"fLast\":0,\"fBits2\":0,\"fTimeDisplay\":false,\"fTimeFormat\":\"\",\"fLabels\":null,\"fModLabs\":null},\"fZaxis\":{\"_typename\":\"TAxis\",\"fUniqueID\":0,\"fBits\":50331648,\"fName\":\"zaxis\",\"fTitle\":\"\",\"fNdivisions\":510,\"fAxisColor\":1,\"fLabelColor\":1,\"fLabelFont\":42,\"fLabelOffset\":0.005,\"fLabelSize\":0.035,\"fTickLength\":0.03,\"fTitleOffset\":1,\"fTitleSize\":0.035,\"fTitleColor\":1,\"fTitleFont\":42,\"fNbins\":1,\"fXmin\":0,\"fXmax\":1,\"fXbins\":[],\"fFirst\":0,\"fLast\":0,\"fBits2\":0,\"fTimeDisplay\":false,\"fTimeFormat\":\"\",\"fLabels\":null,\"fModLabs\":null},\"fBarOffset\":0,\"fBarWidth\":1000,\"fEntries\":484000,\"fTsumw\":468486,\"fTsumw2\":468486,\"fTsumwx\":3.01480293273926e-4,\"fTsumwx2\":1405149.05176346,\"fMaximum\":11455.2,\"fMinimum\":1983,\"fNormFactor\":0,\"fContour\":[],\"fSumw2\":[7757,9333,9323,9250,9457,9546,9262,9387,9440,9486,9425,9286,9277,9301,9288,9440,9388,9305,9480,9443,9381,9318,9460,9323,9152,9492,9492,9152,9323,9460,9318,9381,9443,9480,9305,9388,9440,9288,9301,9277,9286,9425,9486,9440,9387,9262,9546,9457,9250,9323,9333,7757],\"fOption\":\"\",\"fFunctions\":{\"_typename\":\"TList\",\"name\":\"TList\",\"arr\":[],\"opt\":[]},\"fBufferSize\":0,\"fBuffer\":[],\"fBinStatErrOpt\":0,\"fStatOverflows\":2,\"fArray\":[7757,9333,9323,9250,9457,9546,9262,9387,9440,9486,9425,9286,9277,9301,9288,9440,9388,9305,9480,9443,9381,9318,9460,9323,9152,9492,9492,9152,9323,9460,9318,9381,9443,9480,9305,9388,9440,9288,9301,9277,9286,9425,9486,9440,9387,9262,9546,9457,9250,9323,9333,7757]},\"fLabel\":\"PU0\",\"fOption\":\"l\"},{\"_typename\":\"TLegendEntry\",\"fUniqueID\":0,\"fBits\":50331656,\"fTextAngle\":0,\"fTextSize\":0,\"fTextAlign\":0,\"fTextColor\":0,\"fTextFont\":42,\"fLineColor\":2,\"fLineStyle\":1,\"fLineWidth\":1,\"fFillColor\":0,\"fFillStyle\":0,\"fMarkerColor\":1,\"fMarkerStyle\":21,\"fMarkerSize\":1,\"fObject\":{\"_typename\":\"TH1F\",\"fUniqueID\":0,\"fBits\":50332168,\"fName\":\"h_genParts_ele_eta\",\"fTitle\":\"Gen Part eta\",\"fLineColor\":2,\"fLineStyle\":1,\"fLineWidth\":1,\"fFillColor\":0,\"fFillStyle\":1001,\"fMarkerColor\":1,\"fMarkerStyle\":1,\"fMarkerSize\":1,\"fNcells\":52,\"fXaxis\":{\"_typename\":\"TAxis\",\"fUniqueID\":0,\"fBits\":50331648,\"fName\":\"xaxis\",\"fTitle\":\" #eta\",\"fNdivisions\":510,\"fAxisColor\":1,\"fLabelColor\":1,\"fLabelFont\":42,\"fLabelOffset\":0.005,\"fLabelSize\":0.035,\"fTickLength\":0.03,\"fTitleOffset\":1,\"fTitleSize\":0.035,\"fTitleColor\":1,\"fTitleFont\":42,\"fNbins\":50,\"fXmin\":-3,\"fXmax\":3,\"fXbins\":[],\"fFirst\":0,\"fLast\":0,\"fBits2\":0,\"fTimeDisplay\":false,\"fTimeFormat\":\"\",\"fLabels\":null,\"fModLabs\":null},\"fYaxis\":{\"_typename\":\"TAxis\",\"fUniqueID\":0,\"fBits\":50331648,\"fName\":\"yaxis\",\"fTitle\":\"\",\"fNdivisions\":510,\"fAxisColor\":1,\"fLabelColor\":1,\"fLabelFont\":42,\"fLabelOffset\":0.005,\"fLabelSize\":0.035,\"fTickLength\":0.03,\"fTitleOffset\":0,\"fTitleSize\":0.035,\"fTitleColor\":1,\"fTitleFont\":42,\"fNbins\":1,\"fXmin\":0,\"fXmax\":1,\"fXbins\":[],\"fFirst\":0,\"fLast\":0,\"fBits2\":0,\"fTimeDisplay\":false,\"fTimeFormat\":\"\",\"fLabels\":null,\"fModLabs\":null},\"fZaxis\":{\"_typename\":\"TAxis\",\"fUniqueID\":0,\"fBits\":50331648,\"fName\":\"zaxis\",\"fTitle\":\"\",\"fNdivisions\":510,\"fAxisColor\":1,\"fLabelColor\":1,\"fLabelFont\":42,\"fLabelOffset\":0.005,\"fLabelSize\":0.035,\"fTickLength\":0.03,\"fTitleOffset\":1,\"fTitleSize\":0.035,\"fTitleColor\":1,\"fTitleFont\":42,\"fNbins\":1,\"fXmin\":0,\"fXmax\":1,\"fXbins\":[],\"fFirst\":0,\"fLast\":0,\"fBits2\":0,\"fTimeDisplay\":false,\"fTimeFormat\":\"\",\"fLabels\":null,\"fModLabs\":null},\"fBarOffset\":0,\"fBarWidth\":1000,\"fEntries\":106400,\"fTsumw\":102998,\"fTsumw2\":102998,\"fTsumwx\":6.67572021484375e-5,\"fTsumwx2\":310740.327542352,\"fMaximum\":-1111,\"fMinimum\":-1111,\"fNormFactor\":0,\"fContour\":[],\"fSumw2\":[1701,2096,2094,2086,2056,2097,2046,2069,2076,2020,2073,2035,2059,2012,2126,2090,2127,2090,2077,1986,2024,1983,2053,1992,2018,2114,2114,2018,1992,2053,1983,2024,1986,2077,2090,2127,2090,2126,2012,2059,2035,2073,2020,2076,2069,2046,2097,2056,2086,2094,2096,1701],\"fOption\":\"\",\"fFunctions\":{\"_typename\":\"TList\",\"name\":\"TList\",\"arr\":[],\"opt\":[]},\"fBufferSize\":0,\"fBuffer\":[],\"fBinStatErrOpt\":0,\"fStatOverflows\":2,\"fArray\":[1701,2096,2094,2086,2056,2097,2046,2069,2076,2020,2073,2035,2059,2012,2126,2090,2127,2090,2077,1986,2024,1983,2053,1992,2018,2114,2114,2018,1992,2053,1983,2024,1986,2077,2090,2127,2090,2126,2012,2059,2035,2073,2020,2076,2069,2046,2097,2056,2086,2094,2096,1701]},\"fLabel\":\"PU200\",\"fOption\":\"l\"}],\"opt\":[\"l\",\"l\"]},\"fEntrySeparation\":0.1,\"fMargin\":0.25,\"fNColumns\":1,\"fColumnSeparation\":0},{\"_typename\":\"TPaveText\",\"fUniqueID\":0,\"fBits\":50331657,\"fLineColor\":1,\"fLineStyle\":1,\"fLineWidth\":1,\"fFillColor\":0,\"fFillStyle\":0,\"fX1\":-0.341179498563946,\"fY1\":0.0204685958263652,\"fX2\":2.13065338090626,\"fY2\":0.0205348251001461,\"fX1NDC\":0.382587939698492,\"fY1NDC\":0.940000003948808,\"fX2NDC\":0.617412060301508,\"fY2NDC\":0.995000004768372,\"fBorderSize\":0,\"fInit\":1,\"fShadowColor\":1,\"fCornerRadius\":0,\"fOption\":\"blNDC\",\"fName\":\"title\",\"fTextAngle\":0,\"fTextSize\":0,\"fTextAlign\":22,\"fTextColor\":1,\"fTextFont\":42,\"fLabel\":\"\",\"fLongest\":12,\"fMargin\":0.05,\"fLines\":{\"_typename\":\"TList\",\"name\":\"TList\",\"arr\":[{\"_typename\":\"TLatex\",\"fUniqueID\":0,\"fBits\":50331648,\"fName\":\"\",\"fTitle\":\"Gen Part eta\",\"fTextAngle\":0,\"fTextSize\":0,\"fTextAlign\":0,\"fTextColor\":0,\"fTextFont\":0,\"fX\":0,\"fY\":0,\"fLineColor\":1,\"fLineStyle\":1,\"fLineWidth\":2,\"fLimitFactorSize\":3,\"fOriginSize\":0.0467500016093254}],\"opt\":[\"\"]}}],\"opt\":[\"\",\",HIST\",\"SAME,HIST\",\"\",\"blNDC\"]},\"fExecs\":null,\"fName\":\"c_0123b1\",\"fTitle\":\"h_genParts_ele_eta\",\"fNumPaletteColor\":0,\"fNextPaletteColor\":0,\"fDISPLAY\":\"$DISPLAY\",\"fDoubleBuffer\":0,\"fRetained\":true,\"fXsizeUser\":0,\"fYsizeUser\":0,\"fXsizeReal\":20,\"fYsizeReal\":15,\"fWindowTopX\":0,\"fWindowTopY\":0,\"fWindowWidth\":0,\"fWindowHeight\":0,\"fCw\":796,\"fCh\":572,\"fCatt\":{\"_typename\":\"TAttCanvas\",\"fXBetween\":2,\"fYBetween\":2,\"fTitleFromTop\":1.2,\"fXdate\":0.2,\"fYdate\":0.3,\"fAdate\":1},\"kMoveOpaque\":true,\"kResizeOpaque\":true,\"fHighLightColor\":2,\"fBatch\":true,\"kShowEventStatus\":false,\"kAutoExec\":true,\"kMenuBar\":true});\n",
       "       Core.draw(\"root_plot_3\", obj, \"\");\n",
       "     }\n",
       " );\n",
       "</script>\n"
      ],
      "text/plain": [
       "<IPython.core.display.HTML object>"
      ]
     },
     "metadata": {},
     "output_type": "display_data"
    }
   ],
   "source": [
    "h_eta = [histo.h_eta for histo in ele_histos]\n",
    "drawSame(h_eta, labels,'hist', norm=True)"
   ]
  },
  {
   "cell_type": "code",
   "execution_count": 10,
   "metadata": {},
   "outputs": [
    {
     "data": {
      "text/html": [
       "\n",
       "<div id=\"root_plot_5\"\n",
       "     style=\"width: 796px; height: 572px\">\n",
       "</div>\n",
       "\n",
       "<script>\n",
       " requirejs.config({\n",
       "     paths: {\n",
       "       'JSRootCore' : 'https://root.cern.ch/js/notebook//scripts/JSRootCore',\n",
       "     }\n",
       "   });\n",
       " require(['JSRootCore'],\n",
       "     function(Core) {\n",
       "       var obj = Core.JSONR_unref({\"_typename\":\"TCanvas\",\"fUniqueID\":0,\"fBits\":53673992,\"fLineColor\":1,\"fLineStyle\":1,\"fLineWidth\":1,\"fFillColor\":0,\"fFillStyle\":1001,\"fLeftMargin\":0.13,\"fRightMargin\":0.3,\"fBottomMargin\":0.13,\"fTopMargin\":0.1,\"fXfile\":2,\"fYfile\":2,\"fAfile\":1,\"fXstat\":0.99,\"fYstat\":0.99,\"fAstat\":2,\"fFrameFillColor\":0,\"fFrameLineColor\":1,\"fFrameFillStyle\":1001,\"fFrameLineStyle\":1,\"fFrameLineWidth\":1,\"fFrameBorderSize\":1,\"fFrameBorderMode\":0,\"fX1\":-1.45614033986987,\"fY1\":-16293.2881176512,\"fX2\":2.05263163398398,\"fY2\":109039.699198519,\"fXtoAbsPixelk\":330.340043357658,\"fXtoPixelk\":330.340043357658,\"fXtoPixel\":226.859997153282,\"fYtoAbsPixelk\":497.640051065433,\"fYtoPixelk\":497.640051065433,\"fYtoPixel\":-0.0045638423869771,\"fUtoAbsPixelk\":5e-5,\"fUtoPixelk\":5e-5,\"fUtoPixel\":796,\"fVtoAbsPixelk\":572.00005,\"fVtoPixelk\":572,\"fVtoPixel\":-572,\"fAbsPixeltoXk\":-1.45614033986987,\"fPixeltoXk\":-1.45614033986987,\"fPixeltoX\":0.0044080049922787,\"fAbsPixeltoYk\":109039.699198519,\"fPixeltoYk\":-16293.2881176512,\"fPixeltoY\":-219.113614189108,\"fXlowNDC\":0,\"fYlowNDC\":0,\"fXUpNDC\":0,\"fYUpNDC\":0,\"fWNDC\":1,\"fHNDC\":1,\"fAbsXlowNDC\":0,\"fAbsYlowNDC\":0,\"fAbsWNDC\":1,\"fAbsHNDC\":1,\"fUxmin\":-1,\"fUymin\":0,\"fUxmax\":1,\"fUymax\":96506.4,\"fTheta\":30,\"fPhi\":30,\"fAspectRatio\":0,\"fNumber\":0,\"fTickx\":0,\"fTicky\":0,\"fLogx\":0,\"fLogy\":0,\"fLogz\":0,\"fPadPaint\":0,\"fCrosshair\":0,\"fCrosshairPos\":0,\"fBorderSize\":2,\"fBorderMode\":0,\"fModified\":false,\"fGridx\":false,\"fGridy\":false,\"fAbsCoord\":false,\"fEditable\":true,\"fFixedAspectRatio\":false,\"fPrimitives\":{\"_typename\":\"TList\",\"name\":\"TList\",\"arr\":[{\"_typename\":\"TFrame\",\"fUniqueID\":0,\"fBits\":50331656,\"fLineColor\":1,\"fLineStyle\":1,\"fLineWidth\":1,\"fFillColor\":0,\"fFillStyle\":1001,\"fX1\":-1,\"fY1\":0,\"fX2\":1,\"fY2\":96506.4,\"fBorderSize\":1,\"fBorderMode\":0},{\"_typename\":\"TH1F\",\"fUniqueID\":0,\"fBits\":50332168,\"fName\":\"h_genParts_ele_fBrem\",\"fTitle\":\"Brem. p_{T} fraction\",\"fLineColor\":1,\"fLineStyle\":1,\"fLineWidth\":1,\"fFillColor\":0,\"fFillStyle\":1001,\"fMarkerColor\":1,\"fMarkerStyle\":1,\"fMarkerSize\":1,\"fNcells\":32,\"fXaxis\":{\"_typename\":\"TAxis\",\"fUniqueID\":0,\"fBits\":50331648,\"fName\":\"xaxis\",\"fTitle\":\"\",\"fNdivisions\":510,\"fAxisColor\":1,\"fLabelColor\":1,\"fLabelFont\":42,\"fLabelOffset\":0.005,\"fLabelSize\":0.035,\"fTickLength\":0.03,\"fTitleOffset\":1,\"fTitleSize\":0.035,\"fTitleColor\":1,\"fTitleFont\":42,\"fNbins\":30,\"fXmin\":-1,\"fXmax\":1,\"fXbins\":[],\"fFirst\":0,\"fLast\":0,\"fBits2\":0,\"fTimeDisplay\":false,\"fTimeFormat\":\"\",\"fLabels\":null,\"fModLabs\":null},\"fYaxis\":{\"_typename\":\"TAxis\",\"fUniqueID\":0,\"fBits\":50331656,\"fName\":\"yaxis\",\"fTitle\":\"\",\"fNdivisions\":510,\"fAxisColor\":1,\"fLabelColor\":1,\"fLabelFont\":42,\"fLabelOffset\":0.005,\"fLabelSize\":0.035,\"fTickLength\":0.03,\"fTitleOffset\":0,\"fTitleSize\":0.035,\"fTitleColor\":1,\"fTitleFont\":42,\"fNbins\":1,\"fXmin\":0,\"fXmax\":1,\"fXbins\":[],\"fFirst\":0,\"fLast\":0,\"fBits2\":0,\"fTimeDisplay\":false,\"fTimeFormat\":\"\",\"fLabels\":null,\"fModLabs\":null},\"fZaxis\":{\"_typename\":\"TAxis\",\"fUniqueID\":0,\"fBits\":50331648,\"fName\":\"zaxis\",\"fTitle\":\"\",\"fNdivisions\":510,\"fAxisColor\":1,\"fLabelColor\":1,\"fLabelFont\":42,\"fLabelOffset\":0.005,\"fLabelSize\":0.035,\"fTickLength\":0.03,\"fTitleOffset\":1,\"fTitleSize\":0.035,\"fTitleColor\":1,\"fTitleFont\":42,\"fNbins\":1,\"fXmin\":0,\"fXmax\":1,\"fXbins\":[],\"fFirst\":0,\"fLast\":0,\"fBits2\":0,\"fTimeDisplay\":false,\"fTimeFormat\":\"\",\"fLabels\":null,\"fModLabs\":null},\"fBarOffset\":0,\"fBarWidth\":1000,\"fEntries\":484000,\"fTsumw\":80422,\"fTsumw2\":80422,\"fTsumwx\":0,\"fTsumwx2\":0,\"fMaximum\":96506.4,\"fMinimum\":0,\"fNormFactor\":0,\"fContour\":[],\"fSumw2\":[0,0,0,0,0,0,0,0,0,0,0,0,0,0,0,0,80422,0,0,0,0,0,0,0,0,0,0,0,0,0,0,403578],\"fOption\":\"\",\"fFunctions\":{\"_typename\":\"TList\",\"name\":\"TList\",\"arr\":[],\"opt\":[]},\"fBufferSize\":0,\"fBuffer\":[],\"fBinStatErrOpt\":0,\"fStatOverflows\":2,\"fArray\":[0,0,0,0,0,0,0,0,0,0,0,0,0,0,0,0,80422,0,0,0,0,0,0,0,0,0,0,0,0,0,0,403578]},{\"_typename\":\"TH1F\",\"fUniqueID\":0,\"fBits\":50332168,\"fName\":\"h_genParts_ele_fBrem\",\"fTitle\":\"Brem. p_{T} fraction\",\"fLineColor\":2,\"fLineStyle\":1,\"fLineWidth\":1,\"fFillColor\":0,\"fFillStyle\":1001,\"fMarkerColor\":1,\"fMarkerStyle\":1,\"fMarkerSize\":1,\"fNcells\":32,\"fXaxis\":{\"_typename\":\"TAxis\",\"fUniqueID\":0,\"fBits\":50331648,\"fName\":\"xaxis\",\"fTitle\":\"\",\"fNdivisions\":510,\"fAxisColor\":1,\"fLabelColor\":1,\"fLabelFont\":42,\"fLabelOffset\":0.005,\"fLabelSize\":0.035,\"fTickLength\":0.03,\"fTitleOffset\":1,\"fTitleSize\":0.035,\"fTitleColor\":1,\"fTitleFont\":42,\"fNbins\":30,\"fXmin\":-1,\"fXmax\":1,\"fXbins\":[],\"fFirst\":0,\"fLast\":0,\"fBits2\":0,\"fTimeDisplay\":false,\"fTimeFormat\":\"\",\"fLabels\":null,\"fModLabs\":null},\"fYaxis\":{\"_typename\":\"TAxis\",\"fUniqueID\":0,\"fBits\":50331648,\"fName\":\"yaxis\",\"fTitle\":\"\",\"fNdivisions\":510,\"fAxisColor\":1,\"fLabelColor\":1,\"fLabelFont\":42,\"fLabelOffset\":0.005,\"fLabelSize\":0.035,\"fTickLength\":0.03,\"fTitleOffset\":0,\"fTitleSize\":0.035,\"fTitleColor\":1,\"fTitleFont\":42,\"fNbins\":1,\"fXmin\":0,\"fXmax\":1,\"fXbins\":[],\"fFirst\":0,\"fLast\":0,\"fBits2\":0,\"fTimeDisplay\":false,\"fTimeFormat\":\"\",\"fLabels\":null,\"fModLabs\":null},\"fZaxis\":{\"_typename\":\"TAxis\",\"fUniqueID\":0,\"fBits\":50331648,\"fName\":\"zaxis\",\"fTitle\":\"\",\"fNdivisions\":510,\"fAxisColor\":1,\"fLabelColor\":1,\"fLabelFont\":42,\"fLabelOffset\":0.005,\"fLabelSize\":0.035,\"fTickLength\":0.03,\"fTitleOffset\":1,\"fTitleSize\":0.035,\"fTitleColor\":1,\"fTitleFont\":42,\"fNbins\":1,\"fXmin\":0,\"fXmax\":1,\"fXbins\":[],\"fFirst\":0,\"fLast\":0,\"fBits2\":0,\"fTimeDisplay\":false,\"fTimeFormat\":\"\",\"fLabels\":null,\"fModLabs\":null},\"fBarOffset\":0,\"fBarWidth\":1000,\"fEntries\":106400,\"fTsumw\":17739,\"fTsumw2\":17739,\"fTsumwx\":0,\"fTsumwx2\":0,\"fMaximum\":-1111,\"fMinimum\":-1111,\"fNormFactor\":0,\"fContour\":[],\"fSumw2\":[0,0,0,0,0,0,0,0,0,0,0,0,0,0,0,0,17739,0,0,0,0,0,0,0,0,0,0,0,0,0,0,88661],\"fOption\":\"\",\"fFunctions\":{\"_typename\":\"TList\",\"name\":\"TList\",\"arr\":[],\"opt\":[]},\"fBufferSize\":0,\"fBuffer\":[],\"fBinStatErrOpt\":0,\"fStatOverflows\":2,\"fArray\":[0,0,0,0,0,0,0,0,0,0,0,0,0,0,0,0,17739,0,0,0,0,0,0,0,0,0,0,0,0,0,0,88661]},{\"_typename\":\"TLegend\",\"fUniqueID\":0,\"fBits\":50331656,\"fLineColor\":1,\"fLineStyle\":1,\"fLineWidth\":1,\"fFillColor\":0,\"fFillStyle\":0,\"fX1\":1.00000004182782,\"fY1\":72693.1328768295,\"fX2\":1.87719303529128,\"fY2\":90239.7511010933,\"fX1NDC\":0.7,\"fY1NDC\":0.71,\"fX2NDC\":0.95,\"fY2NDC\":0.85,\"fBorderSize\":0,\"fInit\":1,\"fShadowColor\":1,\"fCornerRadius\":0,\"fOption\":\"brNDC\",\"fName\":\"TPave\",\"fTextAngle\":0,\"fTextSize\":0.05,\"fTextAlign\":12,\"fTextColor\":1,\"fTextFont\":42,\"fPrimitives\":{\"_typename\":\"TList\",\"name\":\"TList\",\"arr\":[{\"_typename\":\"TLegendEntry\",\"fUniqueID\":0,\"fBits\":50331656,\"fTextAngle\":0,\"fTextSize\":0,\"fTextAlign\":0,\"fTextColor\":0,\"fTextFont\":42,\"fLineColor\":1,\"fLineStyle\":1,\"fLineWidth\":1,\"fFillColor\":0,\"fFillStyle\":0,\"fMarkerColor\":1,\"fMarkerStyle\":21,\"fMarkerSize\":1,\"fObject\":{\"$ref\":3},\"fLabel\":\"PU0\",\"fOption\":\"l\"},{\"_typename\":\"TLegendEntry\",\"fUniqueID\":0,\"fBits\":50331656,\"fTextAngle\":0,\"fTextSize\":0,\"fTextAlign\":0,\"fTextColor\":0,\"fTextFont\":42,\"fLineColor\":2,\"fLineStyle\":1,\"fLineWidth\":1,\"fFillColor\":0,\"fFillStyle\":0,\"fMarkerColor\":1,\"fMarkerStyle\":21,\"fMarkerSize\":1,\"fObject\":{\"$ref\":8},\"fLabel\":\"PU200\",\"fOption\":\"l\"}],\"opt\":[\"l\",\"l\"]},\"fEntrySeparation\":0.1,\"fMargin\":0.25,\"fNColumns\":1,\"fColumnSeparation\":0},{\"_typename\":\"TPaveText\",\"fUniqueID\":0,\"fBits\":50331657,\"fLineColor\":1,\"fLineStyle\":1,\"fLineWidth\":1,\"fFillColor\":0,\"fFillStyle\":0,\"fX1\":-0.248170651785816,\"fY1\":98421.4540525488,\"fX2\":0.84466194589992,\"fY2\":108413.034859572,\"fX1NDC\":0.34427135678392,\"fY1NDC\":0.915279725048092,\"fX2NDC\":0.65572864321608,\"fY2NDC\":0.995000004768372,\"fBorderSize\":0,\"fInit\":1,\"fShadowColor\":1,\"fCornerRadius\":0,\"fOption\":\"blNDC\",\"fName\":\"title\",\"fTextAngle\":0,\"fTextSize\":0,\"fTextAlign\":22,\"fTextColor\":1,\"fTextFont\":42,\"fLabel\":\"\",\"fLongest\":20,\"fMargin\":0.05,\"fLines\":{\"_typename\":\"TList\",\"name\":\"TList\",\"arr\":[{\"_typename\":\"TLatex\",\"fUniqueID\":0,\"fBits\":50331648,\"fName\":\"\",\"fTitle\":\"Brem. p_{T} fraction\",\"fTextAngle\":0,\"fTextSize\":0,\"fTextAlign\":0,\"fTextColor\":0,\"fTextFont\":0,\"fX\":0,\"fY\":0,\"fLineColor\":1,\"fLineStyle\":1,\"fLineWidth\":2,\"fLimitFactorSize\":3,\"fOriginSize\":0.0677622407674789}],\"opt\":[\"\"]}}],\"opt\":[\"\",\"hist\",\"same,hist\",\"\",\"blNDC\"]},\"fExecs\":null,\"fName\":\"c_3128d2\",\"fTitle\":\"h_genParts_ele_fBrem\",\"fNumPaletteColor\":0,\"fNextPaletteColor\":0,\"fDISPLAY\":\"$DISPLAY\",\"fDoubleBuffer\":0,\"fRetained\":true,\"fXsizeUser\":0,\"fYsizeUser\":0,\"fXsizeReal\":20,\"fYsizeReal\":15,\"fWindowTopX\":0,\"fWindowTopY\":0,\"fWindowWidth\":0,\"fWindowHeight\":0,\"fCw\":796,\"fCh\":572,\"fCatt\":{\"_typename\":\"TAttCanvas\",\"fXBetween\":2,\"fYBetween\":2,\"fTitleFromTop\":1.2,\"fXdate\":0.2,\"fYdate\":0.3,\"fAdate\":1},\"kMoveOpaque\":true,\"kResizeOpaque\":true,\"fHighLightColor\":2,\"fBatch\":true,\"kShowEventStatus\":false,\"kAutoExec\":true,\"kMenuBar\":true});\n",
       "       Core.draw(\"root_plot_5\", obj, \"\");\n",
       "     }\n",
       " );\n",
       "</script>\n"
      ],
      "text/plain": [
       "<IPython.core.display.HTML object>"
      ]
     },
     "metadata": {},
     "output_type": "display_data"
    }
   ],
   "source": [
    "h_fBrem = [histo.h_fBrem for histo in ele_histos]\n",
    "drawSame(h_fBrem, labels,'hist')"
   ]
  },
  {
   "cell_type": "code",
   "execution_count": 11,
   "metadata": {},
   "outputs": [
    {
     "data": {
      "text/html": [
       "\n",
       "<div id=\"root_plot_6\"\n",
       "     style=\"width: 796px; height: 572px\">\n",
       "</div>\n",
       "\n",
       "<script>\n",
       " requirejs.config({\n",
       "     paths: {\n",
       "       'JSRootCore' : 'https://root.cern.ch/js/notebook//scripts/JSRootCore',\n",
       "     }\n",
       "   });\n",
       " require(['JSRootCore'],\n",
       "     function(Core) {\n",
       "       var obj = Core.JSONR_unref({\"_typename\":\"TCanvas\",\"fUniqueID\":0,\"fBits\":53673992,\"fLineColor\":1,\"fLineStyle\":1,\"fLineWidth\":1,\"fFillColor\":0,\"fFillStyle\":1001,\"fLeftMargin\":0.13,\"fRightMargin\":0.3,\"fBottomMargin\":0.13,\"fTopMargin\":0.1,\"fXfile\":2,\"fYfile\":2,\"fAfile\":1,\"fXstat\":0.99,\"fYstat\":0.99,\"fAstat\":2,\"fFrameFillColor\":0,\"fFrameLineColor\":1,\"fFrameFillStyle\":1001,\"fFrameLineStyle\":1,\"fFrameLineWidth\":1,\"fFrameBorderSize\":1,\"fFrameBorderMode\":0,\"fX1\":-0.912280679739743,\"fY1\":-0.0863006868705324,\"fX2\":6.10526326796795,\"fY2\":0.577550760106792,\"fXtoAbsPixelk\":103.480046204376,\"fXtoPixelk\":103.480046204376,\"fXtoPixel\":113.429998576641,\"fYtoAbsPixelk\":497.640051065433,\"fYtoPixelk\":497.640051065433,\"fYtoPixel\":-861.638552728105,\"fUtoAbsPixelk\":5e-5,\"fUtoPixelk\":5e-5,\"fUtoPixel\":796,\"fVtoAbsPixelk\":572.00005,\"fVtoPixelk\":572,\"fVtoPixel\":-572,\"fAbsPixeltoXk\":-0.912280679739743,\"fPixeltoXk\":-0.912280679739743,\"fPixeltoX\":0.0088160099845574,\"fAbsPixeltoYk\":0.577550760106792,\"fPixeltoYk\":-0.0863006868705324,\"fPixeltoY\":-0.00116057945275756,\"fXlowNDC\":0,\"fYlowNDC\":0,\"fXUpNDC\":0,\"fYUpNDC\":0,\"fWNDC\":1,\"fHNDC\":1,\"fAbsXlowNDC\":0,\"fAbsYlowNDC\":0,\"fAbsWNDC\":1,\"fAbsHNDC\":1,\"fUxmin\":0,\"fUymin\":0,\"fUxmax\":4,\"fUymax\":0.51116561293602,\"fTheta\":30,\"fPhi\":30,\"fAspectRatio\":0,\"fNumber\":0,\"fTickx\":0,\"fTicky\":0,\"fLogx\":0,\"fLogy\":0,\"fLogz\":0,\"fPadPaint\":0,\"fCrosshair\":0,\"fCrosshairPos\":0,\"fBorderSize\":2,\"fBorderMode\":0,\"fModified\":false,\"fGridx\":false,\"fGridy\":false,\"fAbsCoord\":false,\"fEditable\":true,\"fFixedAspectRatio\":false,\"fPrimitives\":{\"_typename\":\"TList\",\"name\":\"TList\",\"arr\":[{\"_typename\":\"TFrame\",\"fUniqueID\":0,\"fBits\":50331656,\"fLineColor\":1,\"fLineStyle\":1,\"fLineWidth\":1,\"fFillColor\":0,\"fFillStyle\":1001,\"fX1\":0,\"fY1\":0,\"fX2\":4,\"fY2\":0.51116561293602,\"fBorderSize\":1,\"fBorderMode\":0},{\"_typename\":\"TH1F\",\"fUniqueID\":0,\"fBits\":50332169,\"fName\":\"h_genParts_ele_reachedEE\",\"fTitle\":\"Gen Part reachedEE\",\"fLineColor\":1,\"fLineStyle\":1,\"fLineWidth\":1,\"fFillColor\":0,\"fFillStyle\":1001,\"fMarkerColor\":1,\"fMarkerStyle\":1,\"fMarkerSize\":1,\"fNcells\":6,\"fXaxis\":{\"_typename\":\"TAxis\",\"fUniqueID\":0,\"fBits\":50331648,\"fName\":\"xaxis\",\"fTitle\":\"\",\"fNdivisions\":510,\"fAxisColor\":1,\"fLabelColor\":1,\"fLabelFont\":42,\"fLabelOffset\":0.005,\"fLabelSize\":0.035,\"fTickLength\":0.03,\"fTitleOffset\":1,\"fTitleSize\":0.035,\"fTitleColor\":1,\"fTitleFont\":42,\"fNbins\":4,\"fXmin\":0,\"fXmax\":4,\"fXbins\":[],\"fFirst\":0,\"fLast\":0,\"fBits2\":0,\"fTimeDisplay\":false,\"fTimeFormat\":\"\",\"fLabels\":null,\"fModLabs\":null},\"fYaxis\":{\"_typename\":\"TAxis\",\"fUniqueID\":0,\"fBits\":50331648,\"fName\":\"yaxis\",\"fTitle\":\"\",\"fNdivisions\":510,\"fAxisColor\":1,\"fLabelColor\":1,\"fLabelFont\":42,\"fLabelOffset\":0.005,\"fLabelSize\":0.035,\"fTickLength\":0.03,\"fTitleOffset\":0,\"fTitleSize\":0.035,\"fTitleColor\":1,\"fTitleFont\":42,\"fNbins\":1,\"fXmin\":0,\"fXmax\":1,\"fXbins\":[],\"fFirst\":0,\"fLast\":0,\"fBits2\":0,\"fTimeDisplay\":false,\"fTimeFormat\":\"\",\"fLabels\":null,\"fModLabs\":null},\"fZaxis\":{\"_typename\":\"TAxis\",\"fUniqueID\":0,\"fBits\":50331648,\"fName\":\"zaxis\",\"fTitle\":\"\",\"fNdivisions\":510,\"fAxisColor\":1,\"fLabelColor\":1,\"fLabelFont\":42,\"fLabelOffset\":0.005,\"fLabelSize\":0.035,\"fTickLength\":0.03,\"fTitleOffset\":1,\"fTitleSize\":0.035,\"fTitleColor\":1,\"fTitleFont\":42,\"fNbins\":1,\"fXmin\":0,\"fXmax\":1,\"fXbins\":[],\"fFirst\":0,\"fLast\":0,\"fBits2\":0,\"fTimeDisplay\":false,\"fTimeFormat\":\"\",\"fLabels\":null,\"fModLabs\":null},\"fBarOffset\":0,\"fBarWidth\":1000,\"fEntries\":484000,\"fTsumw\":484000,\"fTsumw2\":484000,\"fTsumwx\":639201,\"fTsumwx2\":1110447,\"fMaximum\":-1111,\"fMinimum\":-1111,\"fNormFactor\":0,\"fContour\":[],\"fSumw2\":[0,3.43308175671061e-7,7.16972030599003e-7,1.00583549620928e-6,0,0],\"fOption\":\"\",\"fFunctions\":{\"_typename\":\"TList\",\"name\":\"TList\",\"arr\":[],\"opt\":[]},\"fBufferSize\":0,\"fBuffer\":[],\"fBinStatErrOpt\":0,\"fStatOverflows\":2,\"fArray\":[0,0.1661611,0.3470145,0.4868244,0,0]},{\"_typename\":\"TH1F\",\"fUniqueID\":0,\"fBits\":50332169,\"fName\":\"h_genParts_ele_reachedEE\",\"fTitle\":\"Gen Part reachedEE\",\"fLineColor\":2,\"fLineStyle\":1,\"fLineWidth\":1,\"fFillColor\":0,\"fFillStyle\":1001,\"fMarkerColor\":1,\"fMarkerStyle\":1,\"fMarkerSize\":1,\"fNcells\":6,\"fXaxis\":{\"_typename\":\"TAxis\",\"fUniqueID\":0,\"fBits\":50331648,\"fName\":\"xaxis\",\"fTitle\":\"\",\"fNdivisions\":510,\"fAxisColor\":1,\"fLabelColor\":1,\"fLabelFont\":42,\"fLabelOffset\":0.005,\"fLabelSize\":0.035,\"fTickLength\":0.03,\"fTitleOffset\":1,\"fTitleSize\":0.035,\"fTitleColor\":1,\"fTitleFont\":42,\"fNbins\":4,\"fXmin\":0,\"fXmax\":4,\"fXbins\":[],\"fFirst\":0,\"fLast\":0,\"fBits2\":0,\"fTimeDisplay\":false,\"fTimeFormat\":\"\",\"fLabels\":null,\"fModLabs\":null},\"fYaxis\":{\"_typename\":\"TAxis\",\"fUniqueID\":0,\"fBits\":50331648,\"fName\":\"yaxis\",\"fTitle\":\"\",\"fNdivisions\":510,\"fAxisColor\":1,\"fLabelColor\":1,\"fLabelFont\":42,\"fLabelOffset\":0.005,\"fLabelSize\":0.035,\"fTickLength\":0.03,\"fTitleOffset\":0,\"fTitleSize\":0.035,\"fTitleColor\":1,\"fTitleFont\":42,\"fNbins\":1,\"fXmin\":0,\"fXmax\":1,\"fXbins\":[],\"fFirst\":0,\"fLast\":0,\"fBits2\":0,\"fTimeDisplay\":false,\"fTimeFormat\":\"\",\"fLabels\":null,\"fModLabs\":null},\"fZaxis\":{\"_typename\":\"TAxis\",\"fUniqueID\":0,\"fBits\":50331648,\"fName\":\"zaxis\",\"fTitle\":\"\",\"fNdivisions\":510,\"fAxisColor\":1,\"fLabelColor\":1,\"fLabelFont\":42,\"fLabelOffset\":0.005,\"fLabelSize\":0.035,\"fTickLength\":0.03,\"fTitleOffset\":1,\"fTitleSize\":0.035,\"fTitleColor\":1,\"fTitleFont\":42,\"fNbins\":1,\"fXmin\":0,\"fXmax\":1,\"fXbins\":[],\"fFirst\":0,\"fLast\":0,\"fBits2\":0,\"fTimeDisplay\":false,\"fTimeFormat\":\"\",\"fLabels\":null,\"fModLabs\":null},\"fBarOffset\":0,\"fBarWidth\":1000,\"fEntries\":106400,\"fTsumw\":106400,\"fTsumw2\":106400,\"fTsumwx\":140477,\"fTsumwx2\":244109,\"fMaximum\":-1111,\"fMinimum\":-1111,\"fNormFactor\":0,\"fContour\":[],\"fSumw2\":[0,1.56691658657923e-6,3.25458265023461e-6,4.57699700378766e-6,0,0],\"fOption\":\"\",\"fFunctions\":{\"_typename\":\"TList\",\"name\":\"TList\",\"arr\":[],\"opt\":[]},\"fBufferSize\":0,\"fBuffer\":[],\"fBinStatErrOpt\":0,\"fStatOverflows\":2,\"fArray\":[0,0.1667199,0.3462876,0.4869925,0,0]},{\"_typename\":\"TLegend\",\"fUniqueID\":0,\"fBits\":50331656,\"fLineColor\":1,\"fLineStyle\":1,\"fLineWidth\":1,\"fFillColor\":0,\"fFillStyle\":0,\"fX1\":4.00000008365564,\"fY1\":0.385033840483368,\"fX2\":5.75438607058257,\"fY2\":0.477973043060193,\"fX1NDC\":0.7,\"fY1NDC\":0.71,\"fX2NDC\":0.95,\"fY2NDC\":0.85,\"fBorderSize\":0,\"fInit\":1,\"fShadowColor\":1,\"fCornerRadius\":0,\"fOption\":\"brNDC\",\"fName\":\"TPave\",\"fTextAngle\":0,\"fTextSize\":0.05,\"fTextAlign\":12,\"fTextColor\":1,\"fTextFont\":42,\"fPrimitives\":{\"_typename\":\"TList\",\"name\":\"TList\",\"arr\":[{\"_typename\":\"TLegendEntry\",\"fUniqueID\":0,\"fBits\":50331656,\"fTextAngle\":0,\"fTextSize\":0,\"fTextAlign\":0,\"fTextColor\":0,\"fTextFont\":42,\"fLineColor\":1,\"fLineStyle\":1,\"fLineWidth\":1,\"fFillColor\":0,\"fFillStyle\":0,\"fMarkerColor\":1,\"fMarkerStyle\":21,\"fMarkerSize\":1,\"fObject\":{\"_typename\":\"TH1F\",\"fUniqueID\":0,\"fBits\":50332168,\"fName\":\"h_genParts_ele_reachedEE\",\"fTitle\":\"Gen Part reachedEE\",\"fLineColor\":1,\"fLineStyle\":1,\"fLineWidth\":1,\"fFillColor\":0,\"fFillStyle\":1001,\"fMarkerColor\":1,\"fMarkerStyle\":1,\"fMarkerSize\":1,\"fNcells\":6,\"fXaxis\":{\"_typename\":\"TAxis\",\"fUniqueID\":0,\"fBits\":50331648,\"fName\":\"xaxis\",\"fTitle\":\"\",\"fNdivisions\":510,\"fAxisColor\":1,\"fLabelColor\":1,\"fLabelFont\":42,\"fLabelOffset\":0.005,\"fLabelSize\":0.035,\"fTickLength\":0.03,\"fTitleOffset\":1,\"fTitleSize\":0.035,\"fTitleColor\":1,\"fTitleFont\":42,\"fNbins\":4,\"fXmin\":0,\"fXmax\":4,\"fXbins\":[],\"fFirst\":0,\"fLast\":0,\"fBits2\":0,\"fTimeDisplay\":false,\"fTimeFormat\":\"\",\"fLabels\":null,\"fModLabs\":null},\"fYaxis\":{\"_typename\":\"TAxis\",\"fUniqueID\":0,\"fBits\":50331656,\"fName\":\"yaxis\",\"fTitle\":\"\",\"fNdivisions\":510,\"fAxisColor\":1,\"fLabelColor\":1,\"fLabelFont\":42,\"fLabelOffset\":0.005,\"fLabelSize\":0.035,\"fTickLength\":0.03,\"fTitleOffset\":0,\"fTitleSize\":0.035,\"fTitleColor\":1,\"fTitleFont\":42,\"fNbins\":1,\"fXmin\":0,\"fXmax\":1,\"fXbins\":[],\"fFirst\":0,\"fLast\":0,\"fBits2\":0,\"fTimeDisplay\":false,\"fTimeFormat\":\"\",\"fLabels\":null,\"fModLabs\":null},\"fZaxis\":{\"_typename\":\"TAxis\",\"fUniqueID\":0,\"fBits\":50331648,\"fName\":\"zaxis\",\"fTitle\":\"\",\"fNdivisions\":510,\"fAxisColor\":1,\"fLabelColor\":1,\"fLabelFont\":42,\"fLabelOffset\":0.005,\"fLabelSize\":0.035,\"fTickLength\":0.03,\"fTitleOffset\":1,\"fTitleSize\":0.035,\"fTitleColor\":1,\"fTitleFont\":42,\"fNbins\":1,\"fXmin\":0,\"fXmax\":1,\"fXbins\":[],\"fFirst\":0,\"fLast\":0,\"fBits2\":0,\"fTimeDisplay\":false,\"fTimeFormat\":\"\",\"fLabels\":null,\"fModLabs\":null},\"fBarOffset\":0,\"fBarWidth\":1000,\"fEntries\":484000,\"fTsumw\":484000,\"fTsumw2\":484000,\"fTsumwx\":639201,\"fTsumwx2\":1110447,\"fMaximum\":282747.6,\"fMinimum\":0,\"fNormFactor\":0,\"fContour\":[],\"fSumw2\":[0,80422,167955,235623,0,0],\"fOption\":\"\",\"fFunctions\":{\"_typename\":\"TList\",\"name\":\"TList\",\"arr\":[],\"opt\":[]},\"fBufferSize\":0,\"fBuffer\":[],\"fBinStatErrOpt\":0,\"fStatOverflows\":2,\"fArray\":[0,80422,167955,235623,0,0]},\"fLabel\":\"PU0\",\"fOption\":\"l\"},{\"_typename\":\"TLegendEntry\",\"fUniqueID\":0,\"fBits\":50331656,\"fTextAngle\":0,\"fTextSize\":0,\"fTextAlign\":0,\"fTextColor\":0,\"fTextFont\":42,\"fLineColor\":2,\"fLineStyle\":1,\"fLineWidth\":1,\"fFillColor\":0,\"fFillStyle\":0,\"fMarkerColor\":1,\"fMarkerStyle\":21,\"fMarkerSize\":1,\"fObject\":{\"_typename\":\"TH1F\",\"fUniqueID\":0,\"fBits\":50332168,\"fName\":\"h_genParts_ele_reachedEE\",\"fTitle\":\"Gen Part reachedEE\",\"fLineColor\":2,\"fLineStyle\":1,\"fLineWidth\":1,\"fFillColor\":0,\"fFillStyle\":1001,\"fMarkerColor\":1,\"fMarkerStyle\":1,\"fMarkerSize\":1,\"fNcells\":6,\"fXaxis\":{\"_typename\":\"TAxis\",\"fUniqueID\":0,\"fBits\":50331648,\"fName\":\"xaxis\",\"fTitle\":\"\",\"fNdivisions\":510,\"fAxisColor\":1,\"fLabelColor\":1,\"fLabelFont\":42,\"fLabelOffset\":0.005,\"fLabelSize\":0.035,\"fTickLength\":0.03,\"fTitleOffset\":1,\"fTitleSize\":0.035,\"fTitleColor\":1,\"fTitleFont\":42,\"fNbins\":4,\"fXmin\":0,\"fXmax\":4,\"fXbins\":[],\"fFirst\":0,\"fLast\":0,\"fBits2\":0,\"fTimeDisplay\":false,\"fTimeFormat\":\"\",\"fLabels\":null,\"fModLabs\":null},\"fYaxis\":{\"_typename\":\"TAxis\",\"fUniqueID\":0,\"fBits\":50331648,\"fName\":\"yaxis\",\"fTitle\":\"\",\"fNdivisions\":510,\"fAxisColor\":1,\"fLabelColor\":1,\"fLabelFont\":42,\"fLabelOffset\":0.005,\"fLabelSize\":0.035,\"fTickLength\":0.03,\"fTitleOffset\":0,\"fTitleSize\":0.035,\"fTitleColor\":1,\"fTitleFont\":42,\"fNbins\":1,\"fXmin\":0,\"fXmax\":1,\"fXbins\":[],\"fFirst\":0,\"fLast\":0,\"fBits2\":0,\"fTimeDisplay\":false,\"fTimeFormat\":\"\",\"fLabels\":null,\"fModLabs\":null},\"fZaxis\":{\"_typename\":\"TAxis\",\"fUniqueID\":0,\"fBits\":50331648,\"fName\":\"zaxis\",\"fTitle\":\"\",\"fNdivisions\":510,\"fAxisColor\":1,\"fLabelColor\":1,\"fLabelFont\":42,\"fLabelOffset\":0.005,\"fLabelSize\":0.035,\"fTickLength\":0.03,\"fTitleOffset\":1,\"fTitleSize\":0.035,\"fTitleColor\":1,\"fTitleFont\":42,\"fNbins\":1,\"fXmin\":0,\"fXmax\":1,\"fXbins\":[],\"fFirst\":0,\"fLast\":0,\"fBits2\":0,\"fTimeDisplay\":false,\"fTimeFormat\":\"\",\"fLabels\":null,\"fModLabs\":null},\"fBarOffset\":0,\"fBarWidth\":1000,\"fEntries\":106400,\"fTsumw\":106400,\"fTsumw2\":106400,\"fTsumwx\":140477,\"fTsumwx2\":244109,\"fMaximum\":-1111,\"fMinimum\":-1111,\"fNormFactor\":0,\"fContour\":[],\"fSumw2\":[0,17739,36845,51816,0,0],\"fOption\":\"\",\"fFunctions\":{\"_typename\":\"TList\",\"name\":\"TList\",\"arr\":[],\"opt\":[]},\"fBufferSize\":0,\"fBuffer\":[],\"fBinStatErrOpt\":0,\"fStatOverflows\":2,\"fArray\":[0,17739,36845,51816,0,0]},\"fLabel\":\"PU200\",\"fOption\":\"l\"}],\"opt\":[\"l\",\"l\"]},\"fEntrySeparation\":0.1,\"fMargin\":0.25,\"fNColumns\":1,\"fColumnSeparation\":0},{\"_typename\":\"TPaveText\",\"fUniqueID\":0,\"fBits\":50331657,\"fLineColor\":1,\"fLineStyle\":1,\"fLineWidth\":1,\"fFillColor\":0,\"fFillStyle\":0,\"fX1\":1.30089046678355,\"fY1\":0.537719675909574,\"fX2\":3.89209212144466,\"fY2\":0.574231506037395,\"fX1NDC\":0.315376884422111,\"fY1NDC\":0.940000003948808,\"fX2NDC\":0.684623115577889,\"fY2NDC\":0.995000004768372,\"fBorderSize\":0,\"fInit\":1,\"fShadowColor\":1,\"fCornerRadius\":0,\"fOption\":\"blNDC\",\"fName\":\"title\",\"fTextAngle\":0,\"fTextSize\":0,\"fTextAlign\":22,\"fTextColor\":1,\"fTextFont\":42,\"fLabel\":\"\",\"fLongest\":18,\"fMargin\":0.05,\"fLines\":{\"_typename\":\"TList\",\"name\":\"TList\",\"arr\":[{\"_typename\":\"TLatex\",\"fUniqueID\":0,\"fBits\":50331648,\"fName\":\"\",\"fTitle\":\"Gen Part reachedEE\",\"fTextAngle\":0,\"fTextSize\":0,\"fTextAlign\":0,\"fTextColor\":0,\"fTextFont\":0,\"fX\":0,\"fY\":0,\"fLineColor\":1,\"fLineStyle\":1,\"fLineWidth\":2,\"fLimitFactorSize\":3,\"fOriginSize\":0.0467500016093254}],\"opt\":[\"\"]}}],\"opt\":[\"\",\",HIST\",\"SAME,HIST\",\"\",\"blNDC\"]},\"fExecs\":null,\"fName\":\"c_3bbbe8\",\"fTitle\":\"h_genParts_ele_reachedEE\",\"fNumPaletteColor\":0,\"fNextPaletteColor\":0,\"fDISPLAY\":\"$DISPLAY\",\"fDoubleBuffer\":0,\"fRetained\":true,\"fXsizeUser\":0,\"fYsizeUser\":0,\"fXsizeReal\":20,\"fYsizeReal\":15,\"fWindowTopX\":0,\"fWindowTopY\":0,\"fWindowWidth\":0,\"fWindowHeight\":0,\"fCw\":796,\"fCh\":572,\"fCatt\":{\"_typename\":\"TAttCanvas\",\"fXBetween\":2,\"fYBetween\":2,\"fTitleFromTop\":1.2,\"fXdate\":0.2,\"fYdate\":0.3,\"fAdate\":1},\"kMoveOpaque\":true,\"kResizeOpaque\":true,\"fHighLightColor\":2,\"fBatch\":true,\"kShowEventStatus\":false,\"kAutoExec\":true,\"kMenuBar\":true});\n",
       "       Core.draw(\"root_plot_6\", obj, \"\");\n",
       "     }\n",
       " );\n",
       "</script>\n"
      ],
      "text/plain": [
       "<IPython.core.display.HTML object>"
      ]
     },
     "metadata": {},
     "output_type": "display_data"
    }
   ],
   "source": [
    "h_reachedEE = [histo.h_reachedEE for histo in ele_histos]\n",
    "drawSame(h_reachedEE, labels,'hist', norm=True)\n"
   ]
  },
  {
   "cell_type": "markdown",
   "metadata": {},
   "source": [
    "## Photons pt 35GeV\n",
    "\n",
    "1.6 < Eta  < 2.8"
   ]
  },
  {
   "cell_type": "code",
   "execution_count": null,
   "metadata": {},
   "outputs": [],
   "source": [
    "particle = 'photon'\n",
    "samples = samples_photon\n",
    "\n",
    "\n",
    "photon_histos = [histos.GenParticleHistos('h_genParts_{}'.format(particle), sample.histo_file) for sample in samples]\n",
    "labels = [sample.label for sample in samples]\n"
   ]
  },
  {
   "cell_type": "code",
   "execution_count": null,
   "metadata": {},
   "outputs": [],
   "source": [
    "h_energy = [histo.h_energy for histo in photon_histos]\n",
    "drawSame(h_energy, labels,'hist', norm=True)\n"
   ]
  },
  {
   "cell_type": "code",
   "execution_count": null,
   "metadata": {},
   "outputs": [],
   "source": [
    "h_pt = [histo.h_pt for histo in photon_histos]\n",
    "drawSame(h_pt, labels,'hist', norm=True)"
   ]
  },
  {
   "cell_type": "code",
   "execution_count": null,
   "metadata": {},
   "outputs": [],
   "source": [
    "h_eta = [histo.h_eta for histo in photon_histos]\n",
    "drawSame(h_eta, labels,'hist', norm=True)"
   ]
  },
  {
   "cell_type": "code",
   "execution_count": null,
   "metadata": {},
   "outputs": [],
   "source": [
    "h_reachedEE = [histo.h_reachedEE for histo in photon_histos]\n",
    "drawSame(h_reachedEE, labels,'hist', norm=True)"
   ]
  },
  {
   "cell_type": "code",
   "execution_count": null,
   "metadata": {},
   "outputs": [],
   "source": []
  },
  {
   "cell_type": "code",
   "execution_count": null,
   "metadata": {},
   "outputs": [],
   "source": []
  },
  {
   "cell_type": "code",
   "execution_count": null,
   "metadata": {},
   "outputs": [],
   "source": []
  }
 ],
 "metadata": {
  "kernelspec": {
   "display_name": "HGCTPGPerformance",
   "language": "python",
   "name": "hgctpgperformance"
  },
  "language_info": {
   "codemirror_mode": {
    "name": "ipython",
    "version": 2
   },
   "file_extension": ".py",
   "mimetype": "text/x-python",
   "name": "python",
   "nbconvert_exporter": "python",
   "pygments_lexer": "ipython2",
   "version": "2.7.15"
  }
 },
 "nbformat": 4,
 "nbformat_minor": 2
}
